{
 "cells": [
  {
   "cell_type": "markdown",
   "metadata": {},
   "source": [
    "### GOAL - 1"
   ]
  },
  {
   "cell_type": "code",
   "execution_count": 1,
   "metadata": {},
   "outputs": [],
   "source": [
    "from collections import namedtuple\n",
    "\n",
    "class CreateCtx():\n",
    "    def __init__(self, filename: str, delimeter: str) -> None:\n",
    "        self.filename = filename\n",
    "        self.delimeter = delimeter\n",
    "\n",
    "    def __enter__(self):\n",
    "        self.file_ctx = open(self.filename)\n",
    "        self.Data =  namedtuple('Data', next(self.file_ctx).lower()\n",
    "                                .strip('\\n').split(self.delimeter))\n",
    "        return self\n",
    "    \n",
    "    def __exit__(self, *_):\n",
    "        self.file_ctx.close()\n",
    "        return False\n",
    "    \n",
    "    def __iter__(self):\n",
    "        return self\n",
    "    \n",
    "    def __next__(self):\n",
    "        row = next(self.file_ctx)\n",
    "\n",
    "        if row:\n",
    "            return self.Data(*row.strip('\\n').split(self.delimeter))\n",
    "        else:\n",
    "            raise StopIteration"
   ]
  },
  {
   "cell_type": "code",
   "execution_count": 2,
   "metadata": {},
   "outputs": [
    {
     "name": "stdout",
     "output_type": "stream",
     "text": [
      "Data(car='Chevrolet Chevelle Malibu', mpg='18.0', cylinders='8', displacement='307.0', horsepower='130.0', weight='3504.', acceleration='12.0', model='70', origin='US')\n",
      "Data(car='Buick Skylark 320', mpg='15.0', cylinders='8', displacement='350.0', horsepower='165.0', weight='3693.', acceleration='11.5', model='70', origin='US')\n",
      "Data(car='Plymouth Satellite', mpg='18.0', cylinders='8', displacement='318.0', horsepower='150.0', weight='3436.', acceleration='11.0', model='70', origin='US')\n",
      "Data(car='AMC Rebel SST', mpg='16.0', cylinders='8', displacement='304.0', horsepower='150.0', weight='3433.', acceleration='12.0', model='70', origin='US')\n",
      "Data(car='Ford Torino', mpg='17.0', cylinders='8', displacement='302.0', horsepower='140.0', weight='3449.', acceleration='10.5', model='70', origin='US')\n"
     ]
    }
   ],
   "source": [
    "with CreateCtx('cars.csv', ';') as f:\n",
    "    for _ in range(5):\n",
    "        print(next(f))"
   ]
  },
  {
   "cell_type": "markdown",
   "metadata": {},
   "source": [
    "### GOAL - 2"
   ]
  },
  {
   "cell_type": "code",
   "execution_count": 3,
   "metadata": {},
   "outputs": [],
   "source": [
    "from collections import namedtuple\n",
    "\n",
    "class CreateCtx():\n",
    "    def __init__(self, filename: str, delimeter: str) -> None:\n",
    "        self.filename = filename\n",
    "        self.delimeter = delimeter\n",
    "\n",
    "    def __enter__(self):\n",
    "        self.file_ctx = open(self.filename)\n",
    "        self.Data =  namedtuple('Data', next(self.file_ctx).lower()\n",
    "                                .strip('\\n').split(self.delimeter))\n",
    "        return self.tuple_gen()\n",
    "    \n",
    "    def __exit__(self, *_):\n",
    "        self.file_ctx.close()\n",
    "        return False\n",
    "    \n",
    "    def tuple_gen(self):\n",
    "        for row in self.file_ctx:\n",
    "            yield self.Data(*row.strip('\\n').split(self.delimeter))"
   ]
  },
  {
   "cell_type": "code",
   "execution_count": 4,
   "metadata": {},
   "outputs": [
    {
     "name": "stdout",
     "output_type": "stream",
     "text": [
      "Data(ssn='100-53-9824', first_name='Sebastiano', last_name='Tester', gender='Male', language='Icelandic')\n",
      "Data(ssn='101-71-4702', first_name='Cayla', last_name='MacDonagh', gender='Female', language='Lao')\n",
      "Data(ssn='101-84-0356', first_name='Nomi', last_name='Lipprose', gender='Female', language='Yiddish')\n",
      "Data(ssn='104-22-0928', first_name='Justinian', last_name='Kunzelmann', gender='Male', language='Dhivehi')\n",
      "Data(ssn='104-84-7144', first_name='Claudianus', last_name='Brixey', gender='Male', language='Afrikaans')\n"
     ]
    }
   ],
   "source": [
    "with CreateCtx('personal_info.csv', ',') as f:\n",
    "    for _ in range(5):\n",
    "        print(next(f))"
   ]
  }
 ],
 "metadata": {
  "kernelspec": {
   "display_name": "Python 3",
   "language": "python",
   "name": "python3"
  },
  "language_info": {
   "codemirror_mode": {
    "name": "ipython",
    "version": 3
   },
   "file_extension": ".py",
   "mimetype": "text/x-python",
   "name": "python",
   "nbconvert_exporter": "python",
   "pygments_lexer": "ipython3",
   "version": "3.12.3"
  }
 },
 "nbformat": 4,
 "nbformat_minor": 2
}
