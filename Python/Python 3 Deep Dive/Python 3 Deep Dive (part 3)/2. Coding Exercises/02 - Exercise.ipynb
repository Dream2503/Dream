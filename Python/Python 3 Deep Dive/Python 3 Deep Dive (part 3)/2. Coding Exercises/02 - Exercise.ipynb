{
 "cells": [
  {
   "cell_type": "markdown",
   "metadata": {},
   "source": [
    "### EXERCISE - 1\n"
   ]
  },
  {
   "cell_type": "code",
   "execution_count": 2,
   "metadata": {},
   "outputs": [
    {
     "data": {
      "text/plain": [
       "{'Wolfgang': 35, 'Frederic': 39, 'Ludwig': 56, 'Johann': 65}"
      ]
     },
     "execution_count": 2,
     "metadata": {},
     "output_type": "execute_result"
    }
   ],
   "source": [
    "composers = {'Johann': 65, 'Ludwig': 56, 'Frederic': 39, 'Wolfgang': 35}\n",
    "sorted_composers = dict(sorted(composers.items(), key=lambda x: tuple(x)[1]))\n",
    "sorted_composers"
   ]
  },
  {
   "cell_type": "markdown",
   "metadata": {},
   "source": [
    "### EXERCISE - 2"
   ]
  },
  {
   "cell_type": "code",
   "execution_count": 1,
   "metadata": {},
   "outputs": [
    {
     "data": {
      "text/plain": [
       "{'b': (2, 20), 'c': (3, 30)}"
      ]
     },
     "execution_count": 1,
     "metadata": {},
     "output_type": "execute_result"
    }
   ],
   "source": [
    "d1 = {'a': 1, 'b': 2, 'c': 3, 'd': 4}\n",
    "d2 = {'b': 20, 'c': 30, 'y': 40, 'z': 50}\n",
    "\n",
    "res = {key: (d1[key], d2[key]) for key in d1 if d2.get(key, False)}\n",
    "res"
   ]
  },
  {
   "cell_type": "markdown",
   "metadata": {},
   "source": [
    "### EXERCISE - 3"
   ]
  },
  {
   "cell_type": "code",
   "execution_count": 4,
   "metadata": {},
   "outputs": [
    {
     "data": {
      "text/plain": [
       "{'python': 17,\n",
       " 'javascript': 15,\n",
       " 'java': 13,\n",
       " 'c#': 12,\n",
       " 'c++': 10,\n",
       " 'go': 9,\n",
       " 'erlang': 5,\n",
       " 'haskell': 2,\n",
       " 'pascal': 1}"
      ]
     },
     "execution_count": 4,
     "metadata": {},
     "output_type": "execute_result"
    }
   ],
   "source": [
    "d1 = {'python': 10, 'java': 3, 'c#': 8, 'javascript': 15}\n",
    "d2 = {'java': 10, 'c++': 10, 'c#': 4, 'go': 9, 'python': 6}\n",
    "d3 = {'erlang': 5, 'haskell': 2, 'python': 1, 'pascal': 1}\n",
    "\n",
    "def combine_sort(*args: dict):\n",
    "    result = {}\n",
    "    \n",
    "    for dic in args:\n",
    "        for key in dic:\n",
    "            if result.get(key, False):\n",
    "                result[key] += dic[key]\n",
    "\n",
    "            else:\n",
    "                result[key] = dic[key]\n",
    "\n",
    "    sorted_keys =  sorted(result, key=lambda x: result[x], reverse=True)\n",
    "    return {key: result[key] for key in sorted_keys}\n",
    "\n",
    "\n",
    "combine_sort(d1, d2, d3)"
   ]
  },
  {
   "cell_type": "markdown",
   "metadata": {},
   "source": [
    "### EXERCISE - 4"
   ]
  },
  {
   "cell_type": "code",
   "execution_count": 14,
   "metadata": {},
   "outputs": [
    {
     "data": {
      "text/plain": [
       "{'user': (100, 230, 0), 'login': (0, 0, 1000), 'employee': (5000, 0, 0)}"
      ]
     },
     "execution_count": 14,
     "metadata": {},
     "output_type": "execute_result"
    }
   ],
   "source": [
    "n1 = {'employees': 100, 'employee': 5000, 'users': 10, 'user': 100}\n",
    "n2 = {'employees': 250, 'users': 23, 'user': 230}\n",
    "n3 = {'employees': 150, 'users': 4, 'login': 1000}\n",
    "unique_key = set(n1.keys()).union(set(n2.keys())) ^ set(n3.keys())\n",
    "result = {}\n",
    "\n",
    "for key in unique_key:\n",
    "    result[key] = tuple()\n",
    "\n",
    "    for dic in n1, n2, n3:\n",
    "        if dic.get(key, False):\n",
    "            result[key] += (dic[key],)\n",
    "        else:\n",
    "            result[key] += (0,)\n",
    "\n",
    "\n",
    "result"
   ]
  }
 ],
 "metadata": {
  "kernelspec": {
   "display_name": "Python 3",
   "language": "python",
   "name": "python3"
  },
  "language_info": {
   "codemirror_mode": {
    "name": "ipython",
    "version": 3
   },
   "file_extension": ".py",
   "mimetype": "text/x-python",
   "name": "python",
   "nbconvert_exporter": "python",
   "pygments_lexer": "ipython3",
   "version": "3.12.3"
  }
 },
 "nbformat": 4,
 "nbformat_minor": 2
}
