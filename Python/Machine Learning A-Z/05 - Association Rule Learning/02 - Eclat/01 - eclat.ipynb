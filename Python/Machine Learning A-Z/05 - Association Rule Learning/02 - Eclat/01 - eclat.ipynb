{
 "nbformat": 4,
 "nbformat_minor": 0,
 "metadata": {
  "colab": {
   "name": "apriori.ipynb",
   "provenance": [],
   "collapsed_sections": [],
   "toc_visible": true
  },
  "kernelspec": {
   "name": "python3",
   "display_name": "Python 3"
  }
 },
 "cells": [
  {
   "cell_type": "markdown",
   "metadata": {
    "id": "1fziHl7Ar94J",
    "colab_type": "text"
   },
   "source": "# Eclat"
  },
  {
   "cell_type": "markdown",
   "metadata": {
    "id": "eiNwni1xsEgT",
    "colab_type": "text"
   },
   "source": [
    "## Importing the libraries"
   ]
  },
  {
   "metadata": {
    "ExecuteTime": {
     "end_time": "2025-06-24T17:24:47.884748Z",
     "start_time": "2025-06-24T17:24:47.880731Z"
    }
   },
   "cell_type": "code",
   "source": [
    "import numpy as np\n",
    "import matplotlib.pyplot as plt\n",
    "import pandas as pd"
   ],
   "outputs": [],
   "execution_count": 18
  },
  {
   "cell_type": "markdown",
   "metadata": {
    "id": "vLt-7XUKsXBd",
    "colab_type": "text"
   },
   "source": [
    "## Data Preprocessing"
   ]
  },
  {
   "metadata": {
    "ExecuteTime": {
     "end_time": "2025-06-24T17:24:48.011866Z",
     "start_time": "2025-06-24T17:24:47.906762Z"
    }
   },
   "cell_type": "code",
   "source": [
    "df = pd.read_csv(\"Market_Basket_Optimisation.csv\", header=None)\n",
    "transactions = [list(row) for row in df.values.astype(str)]"
   ],
   "outputs": [],
   "execution_count": 19
  },
  {
   "cell_type": "markdown",
   "metadata": {
    "id": "1wYZdBd5sea_",
    "colab_type": "text"
   },
   "source": [
    "## Training the Apriori model on the dataset"
   ]
  },
  {
   "metadata": {
    "ExecuteTime": {
     "end_time": "2025-06-24T17:24:48.033256Z",
     "start_time": "2025-06-24T17:24:48.027989Z"
    }
   },
   "cell_type": "code",
   "source": [
    "from apyori import apriori\n",
    "\n",
    "# min_support = (3 * 7) / 7501\n",
    "rules = apriori(transactions, min_support=0.0028, min_confidence=0.2, min_lift=3, min_length=2, max_length=2)"
   ],
   "outputs": [],
   "execution_count": 20
  },
  {
   "cell_type": "markdown",
   "metadata": {
    "id": "b176YNwWspiO",
    "colab_type": "text"
   },
   "source": [
    "## Visualising the results"
   ]
  },
  {
   "cell_type": "markdown",
   "metadata": {
    "id": "iO6bF_dImT-E",
    "colab_type": "text"
   },
   "source": [
    "### Displaying the first results coming directly from the output of the apriori function"
   ]
  },
  {
   "metadata": {
    "ExecuteTime": {
     "end_time": "2025-06-24T17:24:48.115224Z",
     "start_time": "2025-06-24T17:24:48.052642Z"
    }
   },
   "cell_type": "code",
   "source": "result = list(rules)",
   "outputs": [],
   "execution_count": 21
  },
  {
   "cell_type": "markdown",
   "metadata": {
    "id": "MFkQP-fcjDBC",
    "colab_type": "text"
   },
   "source": [
    "### Putting the results well organised into a Pandas DataFrame"
   ]
  },
  {
   "metadata": {
    "ExecuteTime": {
     "end_time": "2025-06-24T17:24:48.141973Z",
     "start_time": "2025-06-24T17:24:48.134856Z"
    }
   },
   "cell_type": "code",
   "source": [
    "result_in_data_frame = pd.DataFrame(({\n",
    "    \"Product 1\": tuple(record[2][0][0])[0],\n",
    "    \"Product 2\": tuple(record[2][0][1])[0],\n",
    "    \"Support\": record[1],\n",
    "} for record in result))"
   ],
   "outputs": [],
   "execution_count": 22
  },
  {
   "cell_type": "markdown",
   "metadata": {
    "id": "IjrrlYW4jpTR",
    "colab_type": "text"
   },
   "source": "### Displaying the results sorted by descending supports"
  },
  {
   "metadata": {
    "ExecuteTime": {
     "end_time": "2025-06-24T17:24:48.174137Z",
     "start_time": "2025-06-24T17:24:48.164213Z"
    }
   },
   "cell_type": "code",
   "source": "result_in_data_frame.sort_values(\"Support\", ascending=False)",
   "outputs": [
    {
     "data": {
      "text/plain": [
       "              Product 1    Product 2   Support\n",
       "4         herb & pepper  ground beef  0.015998\n",
       "7     whole wheat pasta    olive oil  0.007999\n",
       "2                 pasta     escalope  0.005866\n",
       "1  mushroom cream sauce     escalope  0.005733\n",
       "5          tomato sauce  ground beef  0.005333\n",
       "8                 pasta       shrimp  0.005066\n",
       "0           light cream      chicken  0.004533\n",
       "3         fromage blanc        honey  0.003333\n",
       "6           light cream    olive oil  0.003200"
      ],
      "text/html": [
       "<div>\n",
       "<style scoped>\n",
       "    .dataframe tbody tr th:only-of-type {\n",
       "        vertical-align: middle;\n",
       "    }\n",
       "\n",
       "    .dataframe tbody tr th {\n",
       "        vertical-align: top;\n",
       "    }\n",
       "\n",
       "    .dataframe thead th {\n",
       "        text-align: right;\n",
       "    }\n",
       "</style>\n",
       "<table border=\"1\" class=\"dataframe\">\n",
       "  <thead>\n",
       "    <tr style=\"text-align: right;\">\n",
       "      <th></th>\n",
       "      <th>Product 1</th>\n",
       "      <th>Product 2</th>\n",
       "      <th>Support</th>\n",
       "    </tr>\n",
       "  </thead>\n",
       "  <tbody>\n",
       "    <tr>\n",
       "      <th>4</th>\n",
       "      <td>herb &amp; pepper</td>\n",
       "      <td>ground beef</td>\n",
       "      <td>0.015998</td>\n",
       "    </tr>\n",
       "    <tr>\n",
       "      <th>7</th>\n",
       "      <td>whole wheat pasta</td>\n",
       "      <td>olive oil</td>\n",
       "      <td>0.007999</td>\n",
       "    </tr>\n",
       "    <tr>\n",
       "      <th>2</th>\n",
       "      <td>pasta</td>\n",
       "      <td>escalope</td>\n",
       "      <td>0.005866</td>\n",
       "    </tr>\n",
       "    <tr>\n",
       "      <th>1</th>\n",
       "      <td>mushroom cream sauce</td>\n",
       "      <td>escalope</td>\n",
       "      <td>0.005733</td>\n",
       "    </tr>\n",
       "    <tr>\n",
       "      <th>5</th>\n",
       "      <td>tomato sauce</td>\n",
       "      <td>ground beef</td>\n",
       "      <td>0.005333</td>\n",
       "    </tr>\n",
       "    <tr>\n",
       "      <th>8</th>\n",
       "      <td>pasta</td>\n",
       "      <td>shrimp</td>\n",
       "      <td>0.005066</td>\n",
       "    </tr>\n",
       "    <tr>\n",
       "      <th>0</th>\n",
       "      <td>light cream</td>\n",
       "      <td>chicken</td>\n",
       "      <td>0.004533</td>\n",
       "    </tr>\n",
       "    <tr>\n",
       "      <th>3</th>\n",
       "      <td>fromage blanc</td>\n",
       "      <td>honey</td>\n",
       "      <td>0.003333</td>\n",
       "    </tr>\n",
       "    <tr>\n",
       "      <th>6</th>\n",
       "      <td>light cream</td>\n",
       "      <td>olive oil</td>\n",
       "      <td>0.003200</td>\n",
       "    </tr>\n",
       "  </tbody>\n",
       "</table>\n",
       "</div>"
      ]
     },
     "execution_count": 23,
     "metadata": {},
     "output_type": "execute_result"
    }
   ],
   "execution_count": 23
  }
 ]
}
