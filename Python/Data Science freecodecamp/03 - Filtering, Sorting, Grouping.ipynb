{
 "cells": [
  {
   "cell_type": "code",
   "id": "initial_id",
   "metadata": {
    "collapsed": true,
    "ExecuteTime": {
     "end_time": "2025-06-21T08:17:58.825978Z",
     "start_time": "2025-06-21T08:17:58.112529Z"
    }
   },
   "source": "import pandas as pd",
   "outputs": [],
   "execution_count": 1
  },
  {
   "metadata": {
    "ExecuteTime": {
     "end_time": "2025-06-21T08:17:59.195415Z",
     "start_time": "2025-06-21T08:17:59.169861Z"
    }
   },
   "cell_type": "code",
   "source": [
    "data = pd.DataFrame({\n",
    "    'Name': [\"Anna\", \"Karen\", \"John\", \"Alice\", \"Kevin\", \"Sanna\", \"Bob\", \"Emily\"],\n",
    "    'Age': [35, 30, 57, 65, 25, 19, 20, 65],\n",
    "    'Salary': [20000, 60000, 145000, 170000, 30000, 10000, 220000, 120000],\n",
    "    'Department': ['Tech', 'Tech', 'Tech', 'Healthcare', 'Operations', 'Operations', 'Tech', 'Tech']\n",
    "})\n",
    "data"
   ],
   "id": "af30f94e33798c81",
   "outputs": [
    {
     "data": {
      "text/plain": [
       "    Name  Age  Salary  Department\n",
       "0   Anna   35   20000        Tech\n",
       "1  Karen   30   60000        Tech\n",
       "2   John   57  145000        Tech\n",
       "3  Alice   65  170000  Healthcare\n",
       "4  Kevin   25   30000  Operations\n",
       "5  Sanna   19   10000  Operations\n",
       "6    Bob   20  220000        Tech\n",
       "7  Emily   65  120000        Tech"
      ],
      "text/html": [
       "<div>\n",
       "<style scoped>\n",
       "    .dataframe tbody tr th:only-of-type {\n",
       "        vertical-align: middle;\n",
       "    }\n",
       "\n",
       "    .dataframe tbody tr th {\n",
       "        vertical-align: top;\n",
       "    }\n",
       "\n",
       "    .dataframe thead th {\n",
       "        text-align: right;\n",
       "    }\n",
       "</style>\n",
       "<table border=\"1\" class=\"dataframe\">\n",
       "  <thead>\n",
       "    <tr style=\"text-align: right;\">\n",
       "      <th></th>\n",
       "      <th>Name</th>\n",
       "      <th>Age</th>\n",
       "      <th>Salary</th>\n",
       "      <th>Department</th>\n",
       "    </tr>\n",
       "  </thead>\n",
       "  <tbody>\n",
       "    <tr>\n",
       "      <th>0</th>\n",
       "      <td>Anna</td>\n",
       "      <td>35</td>\n",
       "      <td>20000</td>\n",
       "      <td>Tech</td>\n",
       "    </tr>\n",
       "    <tr>\n",
       "      <th>1</th>\n",
       "      <td>Karen</td>\n",
       "      <td>30</td>\n",
       "      <td>60000</td>\n",
       "      <td>Tech</td>\n",
       "    </tr>\n",
       "    <tr>\n",
       "      <th>2</th>\n",
       "      <td>John</td>\n",
       "      <td>57</td>\n",
       "      <td>145000</td>\n",
       "      <td>Tech</td>\n",
       "    </tr>\n",
       "    <tr>\n",
       "      <th>3</th>\n",
       "      <td>Alice</td>\n",
       "      <td>65</td>\n",
       "      <td>170000</td>\n",
       "      <td>Healthcare</td>\n",
       "    </tr>\n",
       "    <tr>\n",
       "      <th>4</th>\n",
       "      <td>Kevin</td>\n",
       "      <td>25</td>\n",
       "      <td>30000</td>\n",
       "      <td>Operations</td>\n",
       "    </tr>\n",
       "    <tr>\n",
       "      <th>5</th>\n",
       "      <td>Sanna</td>\n",
       "      <td>19</td>\n",
       "      <td>10000</td>\n",
       "      <td>Operations</td>\n",
       "    </tr>\n",
       "    <tr>\n",
       "      <th>6</th>\n",
       "      <td>Bob</td>\n",
       "      <td>20</td>\n",
       "      <td>220000</td>\n",
       "      <td>Tech</td>\n",
       "    </tr>\n",
       "    <tr>\n",
       "      <th>7</th>\n",
       "      <td>Emily</td>\n",
       "      <td>65</td>\n",
       "      <td>120000</td>\n",
       "      <td>Tech</td>\n",
       "    </tr>\n",
       "  </tbody>\n",
       "</table>\n",
       "</div>"
      ]
     },
     "execution_count": 2,
     "metadata": {},
     "output_type": "execute_result"
    }
   ],
   "execution_count": 2
  },
  {
   "metadata": {
    "ExecuteTime": {
     "end_time": "2025-06-21T08:17:59.282498Z",
     "start_time": "2025-06-21T08:17:59.271016Z"
    }
   },
   "cell_type": "code",
   "source": "data.sort_values(\"Salary\")",
   "id": "3937fa6a7cfb020e",
   "outputs": [
    {
     "data": {
      "text/plain": [
       "    Name  Age  Salary  Department\n",
       "5  Sanna   19   10000  Operations\n",
       "0   Anna   35   20000        Tech\n",
       "4  Kevin   25   30000  Operations\n",
       "1  Karen   30   60000        Tech\n",
       "7  Emily   65  120000        Tech\n",
       "2   John   57  145000        Tech\n",
       "3  Alice   65  170000  Healthcare\n",
       "6    Bob   20  220000        Tech"
      ],
      "text/html": [
       "<div>\n",
       "<style scoped>\n",
       "    .dataframe tbody tr th:only-of-type {\n",
       "        vertical-align: middle;\n",
       "    }\n",
       "\n",
       "    .dataframe tbody tr th {\n",
       "        vertical-align: top;\n",
       "    }\n",
       "\n",
       "    .dataframe thead th {\n",
       "        text-align: right;\n",
       "    }\n",
       "</style>\n",
       "<table border=\"1\" class=\"dataframe\">\n",
       "  <thead>\n",
       "    <tr style=\"text-align: right;\">\n",
       "      <th></th>\n",
       "      <th>Name</th>\n",
       "      <th>Age</th>\n",
       "      <th>Salary</th>\n",
       "      <th>Department</th>\n",
       "    </tr>\n",
       "  </thead>\n",
       "  <tbody>\n",
       "    <tr>\n",
       "      <th>5</th>\n",
       "      <td>Sanna</td>\n",
       "      <td>19</td>\n",
       "      <td>10000</td>\n",
       "      <td>Operations</td>\n",
       "    </tr>\n",
       "    <tr>\n",
       "      <th>0</th>\n",
       "      <td>Anna</td>\n",
       "      <td>35</td>\n",
       "      <td>20000</td>\n",
       "      <td>Tech</td>\n",
       "    </tr>\n",
       "    <tr>\n",
       "      <th>4</th>\n",
       "      <td>Kevin</td>\n",
       "      <td>25</td>\n",
       "      <td>30000</td>\n",
       "      <td>Operations</td>\n",
       "    </tr>\n",
       "    <tr>\n",
       "      <th>1</th>\n",
       "      <td>Karen</td>\n",
       "      <td>30</td>\n",
       "      <td>60000</td>\n",
       "      <td>Tech</td>\n",
       "    </tr>\n",
       "    <tr>\n",
       "      <th>7</th>\n",
       "      <td>Emily</td>\n",
       "      <td>65</td>\n",
       "      <td>120000</td>\n",
       "      <td>Tech</td>\n",
       "    </tr>\n",
       "    <tr>\n",
       "      <th>2</th>\n",
       "      <td>John</td>\n",
       "      <td>57</td>\n",
       "      <td>145000</td>\n",
       "      <td>Tech</td>\n",
       "    </tr>\n",
       "    <tr>\n",
       "      <th>3</th>\n",
       "      <td>Alice</td>\n",
       "      <td>65</td>\n",
       "      <td>170000</td>\n",
       "      <td>Healthcare</td>\n",
       "    </tr>\n",
       "    <tr>\n",
       "      <th>6</th>\n",
       "      <td>Bob</td>\n",
       "      <td>20</td>\n",
       "      <td>220000</td>\n",
       "      <td>Tech</td>\n",
       "    </tr>\n",
       "  </tbody>\n",
       "</table>\n",
       "</div>"
      ]
     },
     "execution_count": 3,
     "metadata": {},
     "output_type": "execute_result"
    }
   ],
   "execution_count": 3
  },
  {
   "metadata": {
    "ExecuteTime": {
     "end_time": "2025-06-21T08:17:59.487572Z",
     "start_time": "2025-06-21T08:17:59.476072Z"
    }
   },
   "cell_type": "code",
   "source": "data.sort_values(\"Salary\", ascending=False)",
   "id": "d8b2dd4b8c52decd",
   "outputs": [
    {
     "data": {
      "text/plain": [
       "    Name  Age  Salary  Department\n",
       "6    Bob   20  220000        Tech\n",
       "3  Alice   65  170000  Healthcare\n",
       "2   John   57  145000        Tech\n",
       "7  Emily   65  120000        Tech\n",
       "1  Karen   30   60000        Tech\n",
       "4  Kevin   25   30000  Operations\n",
       "0   Anna   35   20000        Tech\n",
       "5  Sanna   19   10000  Operations"
      ],
      "text/html": [
       "<div>\n",
       "<style scoped>\n",
       "    .dataframe tbody tr th:only-of-type {\n",
       "        vertical-align: middle;\n",
       "    }\n",
       "\n",
       "    .dataframe tbody tr th {\n",
       "        vertical-align: top;\n",
       "    }\n",
       "\n",
       "    .dataframe thead th {\n",
       "        text-align: right;\n",
       "    }\n",
       "</style>\n",
       "<table border=\"1\" class=\"dataframe\">\n",
       "  <thead>\n",
       "    <tr style=\"text-align: right;\">\n",
       "      <th></th>\n",
       "      <th>Name</th>\n",
       "      <th>Age</th>\n",
       "      <th>Salary</th>\n",
       "      <th>Department</th>\n",
       "    </tr>\n",
       "  </thead>\n",
       "  <tbody>\n",
       "    <tr>\n",
       "      <th>6</th>\n",
       "      <td>Bob</td>\n",
       "      <td>20</td>\n",
       "      <td>220000</td>\n",
       "      <td>Tech</td>\n",
       "    </tr>\n",
       "    <tr>\n",
       "      <th>3</th>\n",
       "      <td>Alice</td>\n",
       "      <td>65</td>\n",
       "      <td>170000</td>\n",
       "      <td>Healthcare</td>\n",
       "    </tr>\n",
       "    <tr>\n",
       "      <th>2</th>\n",
       "      <td>John</td>\n",
       "      <td>57</td>\n",
       "      <td>145000</td>\n",
       "      <td>Tech</td>\n",
       "    </tr>\n",
       "    <tr>\n",
       "      <th>7</th>\n",
       "      <td>Emily</td>\n",
       "      <td>65</td>\n",
       "      <td>120000</td>\n",
       "      <td>Tech</td>\n",
       "    </tr>\n",
       "    <tr>\n",
       "      <th>1</th>\n",
       "      <td>Karen</td>\n",
       "      <td>30</td>\n",
       "      <td>60000</td>\n",
       "      <td>Tech</td>\n",
       "    </tr>\n",
       "    <tr>\n",
       "      <th>4</th>\n",
       "      <td>Kevin</td>\n",
       "      <td>25</td>\n",
       "      <td>30000</td>\n",
       "      <td>Operations</td>\n",
       "    </tr>\n",
       "    <tr>\n",
       "      <th>0</th>\n",
       "      <td>Anna</td>\n",
       "      <td>35</td>\n",
       "      <td>20000</td>\n",
       "      <td>Tech</td>\n",
       "    </tr>\n",
       "    <tr>\n",
       "      <th>5</th>\n",
       "      <td>Sanna</td>\n",
       "      <td>19</td>\n",
       "      <td>10000</td>\n",
       "      <td>Operations</td>\n",
       "    </tr>\n",
       "  </tbody>\n",
       "</table>\n",
       "</div>"
      ]
     },
     "execution_count": 4,
     "metadata": {},
     "output_type": "execute_result"
    }
   ],
   "execution_count": 4
  },
  {
   "metadata": {
    "ExecuteTime": {
     "end_time": "2025-06-21T08:17:59.735229Z",
     "start_time": "2025-06-21T08:17:59.723158Z"
    }
   },
   "cell_type": "code",
   "source": "data.groupby(\"Department\").count()",
   "id": "f310cecc1ef01292",
   "outputs": [
    {
     "data": {
      "text/plain": [
       "            Name  Age  Salary\n",
       "Department                   \n",
       "Healthcare     1    1       1\n",
       "Operations     2    2       2\n",
       "Tech           5    5       5"
      ],
      "text/html": [
       "<div>\n",
       "<style scoped>\n",
       "    .dataframe tbody tr th:only-of-type {\n",
       "        vertical-align: middle;\n",
       "    }\n",
       "\n",
       "    .dataframe tbody tr th {\n",
       "        vertical-align: top;\n",
       "    }\n",
       "\n",
       "    .dataframe thead th {\n",
       "        text-align: right;\n",
       "    }\n",
       "</style>\n",
       "<table border=\"1\" class=\"dataframe\">\n",
       "  <thead>\n",
       "    <tr style=\"text-align: right;\">\n",
       "      <th></th>\n",
       "      <th>Name</th>\n",
       "      <th>Age</th>\n",
       "      <th>Salary</th>\n",
       "    </tr>\n",
       "    <tr>\n",
       "      <th>Department</th>\n",
       "      <th></th>\n",
       "      <th></th>\n",
       "      <th></th>\n",
       "    </tr>\n",
       "  </thead>\n",
       "  <tbody>\n",
       "    <tr>\n",
       "      <th>Healthcare</th>\n",
       "      <td>1</td>\n",
       "      <td>1</td>\n",
       "      <td>1</td>\n",
       "    </tr>\n",
       "    <tr>\n",
       "      <th>Operations</th>\n",
       "      <td>2</td>\n",
       "      <td>2</td>\n",
       "      <td>2</td>\n",
       "    </tr>\n",
       "    <tr>\n",
       "      <th>Tech</th>\n",
       "      <td>5</td>\n",
       "      <td>5</td>\n",
       "      <td>5</td>\n",
       "    </tr>\n",
       "  </tbody>\n",
       "</table>\n",
       "</div>"
      ]
     },
     "execution_count": 5,
     "metadata": {},
     "output_type": "execute_result"
    }
   ],
   "execution_count": 5
  },
  {
   "metadata": {
    "ExecuteTime": {
     "end_time": "2025-06-21T08:17:59.992487Z",
     "start_time": "2025-06-21T08:17:59.983537Z"
    }
   },
   "cell_type": "code",
   "source": "data.groupby(\"Department\")[\"Name\"].count()",
   "id": "4e2911aceb007541",
   "outputs": [
    {
     "data": {
      "text/plain": [
       "Department\n",
       "Healthcare    1\n",
       "Operations    2\n",
       "Tech          5\n",
       "Name: Name, dtype: int64"
      ]
     },
     "execution_count": 6,
     "metadata": {},
     "output_type": "execute_result"
    }
   ],
   "execution_count": 6
  },
  {
   "metadata": {
    "ExecuteTime": {
     "end_time": "2025-06-21T08:18:00.219072Z",
     "start_time": "2025-06-21T08:18:00.209536Z"
    }
   },
   "cell_type": "code",
   "source": "data.groupby(\"Department\")[\"Salary\"].mean()",
   "id": "de7decc881b485e6",
   "outputs": [
    {
     "data": {
      "text/plain": [
       "Department\n",
       "Healthcare    170000.0\n",
       "Operations     20000.0\n",
       "Tech          113000.0\n",
       "Name: Salary, dtype: float64"
      ]
     },
     "execution_count": 7,
     "metadata": {},
     "output_type": "execute_result"
    }
   ],
   "execution_count": 7
  },
  {
   "metadata": {
    "ExecuteTime": {
     "end_time": "2025-06-21T08:18:00.422303Z",
     "start_time": "2025-06-21T08:18:00.414451Z"
    }
   },
   "cell_type": "code",
   "source": "data.groupby(\"Department\")[\"Salary\"].min()",
   "id": "c1ea84b56ef1da60",
   "outputs": [
    {
     "data": {
      "text/plain": [
       "Department\n",
       "Healthcare    170000\n",
       "Operations     10000\n",
       "Tech           20000\n",
       "Name: Salary, dtype: int64"
      ]
     },
     "execution_count": 8,
     "metadata": {},
     "output_type": "execute_result"
    }
   ],
   "execution_count": 8
  },
  {
   "metadata": {
    "ExecuteTime": {
     "end_time": "2025-06-21T08:18:00.672505Z",
     "start_time": "2025-06-21T08:18:00.664730Z"
    }
   },
   "cell_type": "code",
   "source": "data.groupby(\"Department\")[\"Salary\"].max()",
   "id": "80c918c857795a4",
   "outputs": [
    {
     "data": {
      "text/plain": [
       "Department\n",
       "Healthcare    170000\n",
       "Operations     30000\n",
       "Tech          220000\n",
       "Name: Salary, dtype: int64"
      ]
     },
     "execution_count": 9,
     "metadata": {},
     "output_type": "execute_result"
    }
   ],
   "execution_count": 9
  },
  {
   "metadata": {
    "ExecuteTime": {
     "end_time": "2025-06-21T08:18:00.933433Z",
     "start_time": "2025-06-21T08:18:00.924507Z"
    }
   },
   "cell_type": "code",
   "source": "data.groupby(\"Department\")[\"Age\"].mean()",
   "id": "106d131238926dca",
   "outputs": [
    {
     "data": {
      "text/plain": [
       "Department\n",
       "Healthcare    65.0\n",
       "Operations    22.0\n",
       "Tech          41.4\n",
       "Name: Age, dtype: float64"
      ]
     },
     "execution_count": 10,
     "metadata": {},
     "output_type": "execute_result"
    }
   ],
   "execution_count": 10
  },
  {
   "metadata": {
    "ExecuteTime": {
     "end_time": "2025-06-21T08:18:01.149412Z",
     "start_time": "2025-06-21T08:18:01.139214Z"
    }
   },
   "cell_type": "code",
   "source": "data[data[\"Salary\"] > 100000]",
   "id": "1a02fecec37fa686",
   "outputs": [
    {
     "data": {
      "text/plain": [
       "    Name  Age  Salary  Department\n",
       "2   John   57  145000        Tech\n",
       "3  Alice   65  170000  Healthcare\n",
       "6    Bob   20  220000        Tech\n",
       "7  Emily   65  120000        Tech"
      ],
      "text/html": [
       "<div>\n",
       "<style scoped>\n",
       "    .dataframe tbody tr th:only-of-type {\n",
       "        vertical-align: middle;\n",
       "    }\n",
       "\n",
       "    .dataframe tbody tr th {\n",
       "        vertical-align: top;\n",
       "    }\n",
       "\n",
       "    .dataframe thead th {\n",
       "        text-align: right;\n",
       "    }\n",
       "</style>\n",
       "<table border=\"1\" class=\"dataframe\">\n",
       "  <thead>\n",
       "    <tr style=\"text-align: right;\">\n",
       "      <th></th>\n",
       "      <th>Name</th>\n",
       "      <th>Age</th>\n",
       "      <th>Salary</th>\n",
       "      <th>Department</th>\n",
       "    </tr>\n",
       "  </thead>\n",
       "  <tbody>\n",
       "    <tr>\n",
       "      <th>2</th>\n",
       "      <td>John</td>\n",
       "      <td>57</td>\n",
       "      <td>145000</td>\n",
       "      <td>Tech</td>\n",
       "    </tr>\n",
       "    <tr>\n",
       "      <th>3</th>\n",
       "      <td>Alice</td>\n",
       "      <td>65</td>\n",
       "      <td>170000</td>\n",
       "      <td>Healthcare</td>\n",
       "    </tr>\n",
       "    <tr>\n",
       "      <th>6</th>\n",
       "      <td>Bob</td>\n",
       "      <td>20</td>\n",
       "      <td>220000</td>\n",
       "      <td>Tech</td>\n",
       "    </tr>\n",
       "    <tr>\n",
       "      <th>7</th>\n",
       "      <td>Emily</td>\n",
       "      <td>65</td>\n",
       "      <td>120000</td>\n",
       "      <td>Tech</td>\n",
       "    </tr>\n",
       "  </tbody>\n",
       "</table>\n",
       "</div>"
      ]
     },
     "execution_count": 11,
     "metadata": {},
     "output_type": "execute_result"
    }
   ],
   "execution_count": 11
  },
  {
   "metadata": {
    "ExecuteTime": {
     "end_time": "2025-06-21T08:18:01.348965Z",
     "start_time": "2025-06-21T08:18:01.337798Z"
    }
   },
   "cell_type": "code",
   "source": "data[(data[\"Salary\"] > 100000) & (data[\"Salary\"] < 200000)]",
   "id": "4cb1e0864e386f3a",
   "outputs": [
    {
     "data": {
      "text/plain": [
       "    Name  Age  Salary  Department\n",
       "2   John   57  145000        Tech\n",
       "3  Alice   65  170000  Healthcare\n",
       "7  Emily   65  120000        Tech"
      ],
      "text/html": [
       "<div>\n",
       "<style scoped>\n",
       "    .dataframe tbody tr th:only-of-type {\n",
       "        vertical-align: middle;\n",
       "    }\n",
       "\n",
       "    .dataframe tbody tr th {\n",
       "        vertical-align: top;\n",
       "    }\n",
       "\n",
       "    .dataframe thead th {\n",
       "        text-align: right;\n",
       "    }\n",
       "</style>\n",
       "<table border=\"1\" class=\"dataframe\">\n",
       "  <thead>\n",
       "    <tr style=\"text-align: right;\">\n",
       "      <th></th>\n",
       "      <th>Name</th>\n",
       "      <th>Age</th>\n",
       "      <th>Salary</th>\n",
       "      <th>Department</th>\n",
       "    </tr>\n",
       "  </thead>\n",
       "  <tbody>\n",
       "    <tr>\n",
       "      <th>2</th>\n",
       "      <td>John</td>\n",
       "      <td>57</td>\n",
       "      <td>145000</td>\n",
       "      <td>Tech</td>\n",
       "    </tr>\n",
       "    <tr>\n",
       "      <th>3</th>\n",
       "      <td>Alice</td>\n",
       "      <td>65</td>\n",
       "      <td>170000</td>\n",
       "      <td>Healthcare</td>\n",
       "    </tr>\n",
       "    <tr>\n",
       "      <th>7</th>\n",
       "      <td>Emily</td>\n",
       "      <td>65</td>\n",
       "      <td>120000</td>\n",
       "      <td>Tech</td>\n",
       "    </tr>\n",
       "  </tbody>\n",
       "</table>\n",
       "</div>"
      ]
     },
     "execution_count": 12,
     "metadata": {},
     "output_type": "execute_result"
    }
   ],
   "execution_count": 12
  },
  {
   "metadata": {
    "ExecuteTime": {
     "end_time": "2025-06-21T08:18:01.567833Z",
     "start_time": "2025-06-21T08:18:01.555249Z"
    }
   },
   "cell_type": "code",
   "source": "data[data[\"Age\"].isin([20, 65])]",
   "id": "c138dbdab0532978",
   "outputs": [
    {
     "data": {
      "text/plain": [
       "    Name  Age  Salary  Department\n",
       "3  Alice   65  170000  Healthcare\n",
       "6    Bob   20  220000        Tech\n",
       "7  Emily   65  120000        Tech"
      ],
      "text/html": [
       "<div>\n",
       "<style scoped>\n",
       "    .dataframe tbody tr th:only-of-type {\n",
       "        vertical-align: middle;\n",
       "    }\n",
       "\n",
       "    .dataframe tbody tr th {\n",
       "        vertical-align: top;\n",
       "    }\n",
       "\n",
       "    .dataframe thead th {\n",
       "        text-align: right;\n",
       "    }\n",
       "</style>\n",
       "<table border=\"1\" class=\"dataframe\">\n",
       "  <thead>\n",
       "    <tr style=\"text-align: right;\">\n",
       "      <th></th>\n",
       "      <th>Name</th>\n",
       "      <th>Age</th>\n",
       "      <th>Salary</th>\n",
       "      <th>Department</th>\n",
       "    </tr>\n",
       "  </thead>\n",
       "  <tbody>\n",
       "    <tr>\n",
       "      <th>3</th>\n",
       "      <td>Alice</td>\n",
       "      <td>65</td>\n",
       "      <td>170000</td>\n",
       "      <td>Healthcare</td>\n",
       "    </tr>\n",
       "    <tr>\n",
       "      <th>6</th>\n",
       "      <td>Bob</td>\n",
       "      <td>20</td>\n",
       "      <td>220000</td>\n",
       "      <td>Tech</td>\n",
       "    </tr>\n",
       "    <tr>\n",
       "      <th>7</th>\n",
       "      <td>Emily</td>\n",
       "      <td>65</td>\n",
       "      <td>120000</td>\n",
       "      <td>Tech</td>\n",
       "    </tr>\n",
       "  </tbody>\n",
       "</table>\n",
       "</div>"
      ]
     },
     "execution_count": 13,
     "metadata": {},
     "output_type": "execute_result"
    }
   ],
   "execution_count": 13
  }
 ],
 "metadata": {
  "kernelspec": {
   "display_name": "Python 3",
   "language": "python",
   "name": "python3"
  },
  "language_info": {
   "codemirror_mode": {
    "name": "ipython",
    "version": 2
   },
   "file_extension": ".py",
   "mimetype": "text/x-python",
   "name": "python",
   "nbconvert_exporter": "python",
   "pygments_lexer": "ipython2",
   "version": "2.7.6"
  }
 },
 "nbformat": 4,
 "nbformat_minor": 5
}
