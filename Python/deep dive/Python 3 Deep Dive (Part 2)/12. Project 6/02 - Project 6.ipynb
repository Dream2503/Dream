{
 "cells": [
  {
   "cell_type": "code",
   "execution_count": 18,
   "metadata": {},
   "outputs": [],
   "source": [
    "from csv import reader\n",
    "\n",
    "datatype = [str, float, int, float, float, float ,float, int, str]\n",
    "\n",
    "def coroutine(coro):\n",
    "    def prime(*args, **kwargs):\n",
    "        fn = coro(*args, **kwargs)\n",
    "        next(fn)\n",
    "        return fn\n",
    "    return prime\n",
    "\n",
    "@coroutine\n",
    "def converter(row: list, type_lst: list):\n",
    "    converted = [typee(element) for element, typee in zip(row, type_lst)]\n",
    "    yield converted\n",
    "\n",
    "@coroutine\n",
    "def read_file(filename: str):\n",
    "    with open(filename) as f:\n",
    "        data = reader(f, delimiter=';', lineterminator='\\n')\n",
    "        next(data)\n",
    "\n",
    "        for row in data:\n",
    "            yield converter(row, datatype)\n",
    "\n",
    "@coroutine\n",
    "def filter_data(filter_fn, row):\n",
    "    while True:\n",
    "        if filter_fn(row):\n",
    "            yield row\n",
    "\n",
    "@coroutine\n",
    "def print_data(file):\n",
    "    while True:\n",
    "        result = yield file\n",
    "        print(result)\n"
   ]
  },
  {
   "cell_type": "code",
   "execution_count": null,
   "metadata": {},
   "outputs": [],
   "source": [
    "row = read_file('cars.csv')\n",
    "filtered = filter_data(lambda data: tuple(data)[2] == 8, row)\n",
    "print_data(filtered)"
   ]
  }
 ],
 "metadata": {
  "kernelspec": {
   "display_name": "Python 3",
   "language": "python",
   "name": "python3"
  },
  "language_info": {
   "codemirror_mode": {
    "name": "ipython",
    "version": 3
   },
   "file_extension": ".py",
   "mimetype": "text/x-python",
   "name": "python",
   "nbconvert_exporter": "python",
   "pygments_lexer": "ipython3",
   "version": "3.12.3"
  }
 },
 "nbformat": 4,
 "nbformat_minor": 2
}
