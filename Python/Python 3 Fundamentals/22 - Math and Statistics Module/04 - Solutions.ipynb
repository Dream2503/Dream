{
 "cells": [
  {
   "cell_type": "markdown",
   "id": "backed-marker",
   "metadata": {},
   "source": [
    "### Solutions"
   ]
  },
  {
   "cell_type": "markdown",
   "id": "polished-queen",
   "metadata": {},
   "source": [
    "#### Question 1"
   ]
  },
  {
   "cell_type": "markdown",
   "id": "hindu-madonna",
   "metadata": {},
   "source": [
    "Many functions in Python deal with numbers in a half-closed intervals."
   ]
  },
  {
   "cell_type": "markdown",
   "id": "prompt-supplement",
   "metadata": {},
   "source": [
    "For example, `range(n)` returns integers in the interval `[0, n)`."
   ]
  },
  {
   "cell_type": "markdown",
   "id": "mechanical-helena",
   "metadata": {},
   "source": [
    "When we deal with integers, it is very easy to include `n` - we simply add `1` to it."
   ]
  },
  {
   "cell_type": "markdown",
   "id": "developmental-moldova",
   "metadata": {},
   "source": [
    "For example, to generate integers in the range `[a, b]`, we use `range(a, b+1)`."
   ]
  },
  {
   "cell_type": "markdown",
   "id": "pleasant-sound",
   "metadata": {},
   "source": [
    "However, when it comes to real numbers there is no (mathematically speaking) \"next\" real number."
   ]
  },
  {
   "cell_type": "markdown",
   "id": "human-working",
   "metadata": {},
   "source": [
    "But for floats, remember that these are actually not real numbers, but approximations with some fixed precision - in those cases it is indeed possible to always calculate the \"next\" number after any given float."
   ]
  },
  {
   "cell_type": "markdown",
   "id": "arctic-vancouver",
   "metadata": {},
   "source": [
    "Read the Python documentation for the `math` module, and find in there a function that will help you calculate the \"next\" number after some given `float`.\n",
    "\n",
    "(You will need Python 3.9 and above for this)"
   ]
  },
  {
   "cell_type": "markdown",
   "id": "elementary-recognition",
   "metadata": {},
   "source": [
    "##### Solution"
   ]
  },
  {
   "cell_type": "markdown",
   "id": "golden-perfume",
   "metadata": {},
   "source": [
    "The function we are interested in is called `nextafter`."
   ]
  },
  {
   "cell_type": "markdown",
   "id": "virgin-verification",
   "metadata": {},
   "source": [
    "Let's see how it works when we use it with `1` and get the next number (towards `10` for example):"
   ]
  },
  {
   "cell_type": "code",
   "id": "latin-bolivia",
   "metadata": {
    "ExecuteTime": {
     "end_time": "2025-06-18T05:00:03.288085Z",
     "start_time": "2025-06-18T05:00:03.281054Z"
    }
   },
   "source": [
    "import math"
   ],
   "outputs": [],
   "execution_count": 1
  },
  {
   "cell_type": "code",
   "id": "present-curtis",
   "metadata": {
    "ExecuteTime": {
     "end_time": "2025-06-18T05:00:03.634628Z",
     "start_time": "2025-06-18T05:00:03.623595Z"
    }
   },
   "source": [
    "e = math.nextafter(1, 10)\n",
    "e"
   ],
   "outputs": [
    {
     "data": {
      "text/plain": [
       "1.0000000000000002"
      ]
     },
     "execution_count": 2,
     "metadata": {},
     "output_type": "execute_result"
    }
   ],
   "execution_count": 2
  },
  {
   "cell_type": "markdown",
   "id": "subsequent-stable",
   "metadata": {},
   "source": [
    "Hopefully when you read the documentation, you also saw references to `math.inf`."
   ]
  },
  {
   "cell_type": "markdown",
   "id": "cordless-majority",
   "metadata": {},
   "source": [
    "We'll actually circle back to this in a later section of this course, but you should now be aware that the IEEE standard does allow for a special representation of \"infinite\" floats."
   ]
  },
  {
   "cell_type": "markdown",
   "id": "ancient-austin",
   "metadata": {},
   "source": [
    "We can create these floats using `math.inf`:"
   ]
  },
  {
   "cell_type": "code",
   "id": "unique-procurement",
   "metadata": {
    "ExecuteTime": {
     "end_time": "2025-06-18T05:00:03.691813Z",
     "start_time": "2025-06-18T05:00:03.685502Z"
    }
   },
   "source": [
    "a = math.inf"
   ],
   "outputs": [],
   "execution_count": 3
  },
  {
   "cell_type": "code",
   "id": "descending-biography",
   "metadata": {
    "ExecuteTime": {
     "end_time": "2025-06-18T05:00:03.723334Z",
     "start_time": "2025-06-18T05:00:03.715488Z"
    }
   },
   "source": [
    "a"
   ],
   "outputs": [
    {
     "data": {
      "text/plain": [
       "inf"
      ]
     },
     "execution_count": 4,
     "metadata": {},
     "output_type": "execute_result"
    }
   ],
   "execution_count": 4
  },
  {
   "cell_type": "markdown",
   "id": "congressional-county",
   "metadata": {},
   "source": [
    "As you can see the string representation is `\"inf\"`, but this is a float:"
   ]
  },
  {
   "cell_type": "code",
   "id": "stone-gibson",
   "metadata": {
    "ExecuteTime": {
     "end_time": "2025-06-18T05:00:03.758119Z",
     "start_time": "2025-06-18T05:00:03.752104Z"
    }
   },
   "source": [
    "type(a)"
   ],
   "outputs": [
    {
     "data": {
      "text/plain": [
       "float"
      ]
     },
     "execution_count": 5,
     "metadata": {},
     "output_type": "execute_result"
    }
   ],
   "execution_count": 5
  },
  {
   "cell_type": "markdown",
   "id": "cardiovascular-bedroom",
   "metadata": {},
   "source": [
    "This means that we can also use it when we use the `nextafter` function without worrying about what to use as the \"towards\" number if we always just want to go right on the number scale:"
   ]
  },
  {
   "cell_type": "code",
   "id": "scenic-peoples",
   "metadata": {
    "ExecuteTime": {
     "end_time": "2025-06-18T05:00:03.803815Z",
     "start_time": "2025-06-18T05:00:03.796834Z"
    }
   },
   "source": [
    "e = math.nextafter(1, math.inf)\n",
    "e"
   ],
   "outputs": [
    {
     "data": {
      "text/plain": [
       "1.0000000000000002"
      ]
     },
     "execution_count": 6,
     "metadata": {},
     "output_type": "execute_result"
    }
   ],
   "execution_count": 6
  },
  {
   "cell_type": "markdown",
   "id": "bronze-drilling",
   "metadata": {},
   "source": [
    "#### Question 2"
   ]
  },
  {
   "cell_type": "markdown",
   "id": "familiar-spokesman",
   "metadata": {},
   "source": [
    "Given a sequence of points, each one with possibly different number of dimensions, generate a list that contains the magnitude (*norm*) of the point."
   ]
  },
  {
   "cell_type": "markdown",
   "id": "subject-vulnerability",
   "metadata": {},
   "source": [
    "For an n-dimensional point (therefore containing n components):\n",
    "\n",
    "```\n",
    "x = (x_1, x_2, ..., x_n)\n",
    "```\n",
    "\n",
    "this value can be computed as:\n",
    "\n",
    "```\n",
    "sqrt(x_1 ** 2 + x_2 ** 2 + ... + x_n **2) \n",
    "```"
   ]
  },
  {
   "cell_type": "markdown",
   "id": "level-snapshot",
   "metadata": {},
   "source": [
    "Write a function that performs this calculation and returns the norm of each point given in some sequence."
   ]
  },
  {
   "cell_type": "markdown",
   "id": "mental-floor",
   "metadata": {},
   "source": [
    "For example, if the sequence is:"
   ]
  },
  {
   "cell_type": "code",
   "id": "assigned-palestinian",
   "metadata": {
    "ExecuteTime": {
     "end_time": "2025-06-18T05:00:03.837681Z",
     "start_time": "2025-06-18T05:00:03.832120Z"
    }
   },
   "source": [
    "data = [\n",
    "    (0, 1),\n",
    "    (1, 2, 3),\n",
    "    (1, 3, 5, 7),\n",
    "    (1, 1, 2, 3, 5, 8, 13)\n",
    "]"
   ],
   "outputs": [],
   "execution_count": 7
  },
  {
   "cell_type": "markdown",
   "id": "reverse-blast",
   "metadata": {},
   "source": [
    "Your function should return this list:\n",
    "\n",
    "```\n",
    "[1.0, 3.741657386773941, 9.16515138991168, 16.522711641858308]\n",
    "```"
   ]
  },
  {
   "cell_type": "markdown",
   "id": "faced-separation",
   "metadata": {},
   "source": [
    "(Hint: you may want to read the `math` module docs to see if you can find a function in there that might help you out!)"
   ]
  },
  {
   "cell_type": "markdown",
   "id": "collectible-smile",
   "metadata": {},
   "source": [
    "##### Solution"
   ]
  },
  {
   "cell_type": "markdown",
   "id": "continuing-maximum",
   "metadata": {},
   "source": [
    "We can certainly do this the \"hard\" way by manually calculating each norm."
   ]
  },
  {
   "cell_type": "markdown",
   "id": "higher-reason",
   "metadata": {},
   "source": [
    "For example, given some point:"
   ]
  },
  {
   "cell_type": "code",
   "id": "forced-packet",
   "metadata": {
    "ExecuteTime": {
     "end_time": "2025-06-18T05:00:03.870733Z",
     "start_time": "2025-06-18T05:00:03.866223Z"
    }
   },
   "source": [
    "x = (1, 2, 3)"
   ],
   "outputs": [],
   "execution_count": 8
  },
  {
   "cell_type": "markdown",
   "id": "surrounded-flavor",
   "metadata": {},
   "source": [
    "We can calculate it's norm this way:"
   ]
  },
  {
   "cell_type": "code",
   "id": "speaking-ethernet",
   "metadata": {
    "ExecuteTime": {
     "end_time": "2025-06-18T05:00:03.897659Z",
     "start_time": "2025-06-18T05:00:03.892153Z"
    }
   },
   "source": [
    "norm_x = math.sqrt(x[0] ** 2 + x[1] ** 2 + x[2] ** 2)\n",
    "norm_x"
   ],
   "outputs": [
    {
     "data": {
      "text/plain": [
       "3.7416573867739413"
      ]
     },
     "execution_count": 9,
     "metadata": {},
     "output_type": "execute_result"
    }
   ],
   "execution_count": 9
  },
  {
   "cell_type": "markdown",
   "id": "beneficial-control",
   "metadata": {},
   "source": [
    "The problem is that we have \"hard coded\" the formula - if our point looks like this:"
   ]
  },
  {
   "cell_type": "code",
   "id": "earlier-message",
   "metadata": {
    "ExecuteTime": {
     "end_time": "2025-06-18T05:00:03.938159Z",
     "start_time": "2025-06-18T05:00:03.933651Z"
    }
   },
   "source": [
    "y = (1, 1, 2, 3, 5, 8, 13)"
   ],
   "outputs": [],
   "execution_count": 10
  },
  {
   "cell_type": "markdown",
   "id": "greater-execution",
   "metadata": {},
   "source": [
    "We have to modify our formula. So, our approach is not generic enough."
   ]
  },
  {
   "cell_type": "markdown",
   "id": "sweet-covering",
   "metadata": {},
   "source": [
    "We could write a small helper function to do this more generically for us:"
   ]
  },
  {
   "cell_type": "code",
   "id": "legitimate-diving",
   "metadata": {
    "ExecuteTime": {
     "end_time": "2025-06-18T05:00:03.974413Z",
     "start_time": "2025-06-18T05:00:03.968755Z"
    }
   },
   "source": [
    "def norm(pt):\n",
    "    sum_ = 0\n",
    "    for coord in pt:\n",
    "        sum_ += coord ** 2\n",
    "    return math.sqrt(sum_)"
   ],
   "outputs": [],
   "execution_count": 11
  },
  {
   "cell_type": "markdown",
   "id": "married-playing",
   "metadata": {},
   "source": [
    "Now we can call this function on any sized point:"
   ]
  },
  {
   "cell_type": "code",
   "id": "given-sixth",
   "metadata": {
    "ExecuteTime": {
     "end_time": "2025-06-18T05:00:04.002369Z",
     "start_time": "2025-06-18T05:00:03.996901Z"
    }
   },
   "source": [
    "norm(x)"
   ],
   "outputs": [
    {
     "data": {
      "text/plain": [
       "3.7416573867739413"
      ]
     },
     "execution_count": 12,
     "metadata": {},
     "output_type": "execute_result"
    }
   ],
   "execution_count": 12
  },
  {
   "cell_type": "code",
   "id": "greater-rebel",
   "metadata": {
    "ExecuteTime": {
     "end_time": "2025-06-18T05:00:04.055499Z",
     "start_time": "2025-06-18T05:00:04.047826Z"
    }
   },
   "source": [
    "norm(y)"
   ],
   "outputs": [
    {
     "data": {
      "text/plain": [
       "16.522711641858304"
      ]
     },
     "execution_count": 13,
     "metadata": {},
     "output_type": "execute_result"
    }
   ],
   "execution_count": 13
  },
  {
   "cell_type": "markdown",
   "id": "vital-introduction",
   "metadata": {},
   "source": [
    "We can actually simplify our function by using a comprehension:"
   ]
  },
  {
   "cell_type": "code",
   "id": "honest-armstrong",
   "metadata": {
    "ExecuteTime": {
     "end_time": "2025-06-18T05:00:04.092669Z",
     "start_time": "2025-06-18T05:00:04.088153Z"
    }
   },
   "source": [
    "def norm(pt):\n",
    "    return math.sqrt(sum(coord ** 2 for coord in pt))"
   ],
   "outputs": [],
   "execution_count": 14
  },
  {
   "cell_type": "code",
   "id": "imperial-secondary",
   "metadata": {
    "ExecuteTime": {
     "end_time": "2025-06-18T05:00:04.125389Z",
     "start_time": "2025-06-18T05:00:04.119851Z"
    }
   },
   "source": [
    "norm(x)"
   ],
   "outputs": [
    {
     "data": {
      "text/plain": [
       "3.7416573867739413"
      ]
     },
     "execution_count": 15,
     "metadata": {},
     "output_type": "execute_result"
    }
   ],
   "execution_count": 15
  },
  {
   "cell_type": "code",
   "id": "going-florence",
   "metadata": {
    "ExecuteTime": {
     "end_time": "2025-06-18T05:00:04.197958Z",
     "start_time": "2025-06-18T05:00:04.191948Z"
    }
   },
   "source": [
    "norm(y)"
   ],
   "outputs": [
    {
     "data": {
      "text/plain": [
       "16.522711641858304"
      ]
     },
     "execution_count": 16,
     "metadata": {},
     "output_type": "execute_result"
    }
   ],
   "execution_count": 16
  },
  {
   "cell_type": "markdown",
   "id": "consecutive-trial",
   "metadata": {},
   "source": [
    "Now that we have this function created, we can write a function that generates the norm for every point in some given sequence such as the one provided in the question:"
   ]
  },
  {
   "cell_type": "code",
   "id": "quality-somalia",
   "metadata": {
    "ExecuteTime": {
     "end_time": "2025-06-18T05:00:04.244720Z",
     "start_time": "2025-06-18T05:00:04.239252Z"
    }
   },
   "source": [
    "data"
   ],
   "outputs": [
    {
     "data": {
      "text/plain": [
       "[(0, 1), (1, 2, 3), (1, 3, 5, 7), (1, 1, 2, 3, 5, 8, 13)]"
      ]
     },
     "execution_count": 17,
     "metadata": {},
     "output_type": "execute_result"
    }
   ],
   "execution_count": 17
  },
  {
   "cell_type": "code",
   "id": "precious-semiconductor",
   "metadata": {
    "ExecuteTime": {
     "end_time": "2025-06-18T05:00:04.322262Z",
     "start_time": "2025-06-18T05:00:04.317128Z"
    }
   },
   "source": [
    "def gen_norms(data):\n",
    "    return [norm(pt) for pt in data]"
   ],
   "outputs": [],
   "execution_count": 18
  },
  {
   "cell_type": "code",
   "id": "shared-castle",
   "metadata": {
    "ExecuteTime": {
     "end_time": "2025-06-18T05:00:04.353815Z",
     "start_time": "2025-06-18T05:00:04.346380Z"
    }
   },
   "source": [
    "gen_norms(data)"
   ],
   "outputs": [
    {
     "data": {
      "text/plain": [
       "[1.0, 3.7416573867739413, 9.16515138991168, 16.522711641858304]"
      ]
     },
     "execution_count": 19,
     "metadata": {},
     "output_type": "execute_result"
    }
   ],
   "execution_count": 19
  },
  {
   "cell_type": "markdown",
   "id": "super-vampire",
   "metadata": {},
   "source": [
    "The `math` module actually has a function called `hypot` which does exactly what our `norm` function does."
   ]
  },
  {
   "cell_type": "markdown",
   "id": "indoor-partner",
   "metadata": {},
   "source": [
    "This function however, requires the individual coordinates be passed as positional arguments - so we need to **unpack** the tuple into positional arguments:"
   ]
  },
  {
   "cell_type": "markdown",
   "id": "associate-slave",
   "metadata": {},
   "source": [
    "In other words, for the point `(1, 1)` we have to pass the coordinates this way:"
   ]
  },
  {
   "cell_type": "code",
   "id": "nutritional-tension",
   "metadata": {
    "ExecuteTime": {
     "end_time": "2025-06-18T05:00:04.395355Z",
     "start_time": "2025-06-18T05:00:04.387702Z"
    }
   },
   "source": [
    "math.hypot(1, 1)"
   ],
   "outputs": [
    {
     "data": {
      "text/plain": [
       "1.4142135623730951"
      ]
     },
     "execution_count": 20,
     "metadata": {},
     "output_type": "execute_result"
    }
   ],
   "execution_count": 20
  },
  {
   "cell_type": "markdown",
   "id": "federal-caribbean",
   "metadata": {},
   "source": [
    "If we have a tuple containing `(1, 1)`, then we can call the `hypot` function this way:"
   ]
  },
  {
   "cell_type": "code",
   "id": "international-harassment",
   "metadata": {
    "ExecuteTime": {
     "end_time": "2025-06-18T05:00:04.439105Z",
     "start_time": "2025-06-18T05:00:04.434004Z"
    }
   },
   "source": [
    "t = (1, 1)\n",
    "math.hypot(*t)"
   ],
   "outputs": [
    {
     "data": {
      "text/plain": [
       "1.4142135623730951"
      ]
     },
     "execution_count": 21,
     "metadata": {},
     "output_type": "execute_result"
    }
   ],
   "execution_count": 21
  },
  {
   "cell_type": "markdown",
   "id": "dried-feeding",
   "metadata": {},
   "source": [
    "And for example:"
   ]
  },
  {
   "cell_type": "code",
   "id": "attended-taxation",
   "metadata": {
    "ExecuteTime": {
     "end_time": "2025-06-18T05:00:04.463340Z",
     "start_time": "2025-06-18T05:00:04.457754Z"
    }
   },
   "source": [
    "math.hypot(*x)"
   ],
   "outputs": [
    {
     "data": {
      "text/plain": [
       "3.7416573867739413"
      ]
     },
     "execution_count": 22,
     "metadata": {},
     "output_type": "execute_result"
    }
   ],
   "execution_count": 22
  },
  {
   "cell_type": "code",
   "id": "binding-boards",
   "metadata": {
    "ExecuteTime": {
     "end_time": "2025-06-18T05:00:04.504468Z",
     "start_time": "2025-06-18T05:00:04.496122Z"
    }
   },
   "source": [
    "math.hypot(*y)"
   ],
   "outputs": [
    {
     "data": {
      "text/plain": [
       "16.522711641858304"
      ]
     },
     "execution_count": 23,
     "metadata": {},
     "output_type": "execute_result"
    }
   ],
   "execution_count": 23
  },
  {
   "cell_type": "markdown",
   "id": "practical-blackberry",
   "metadata": {},
   "source": [
    "We can now re-write our second function this way:"
   ]
  },
  {
   "cell_type": "code",
   "id": "dried-village",
   "metadata": {
    "ExecuteTime": {
     "end_time": "2025-06-18T05:00:04.549151Z",
     "start_time": "2025-06-18T05:00:04.544315Z"
    }
   },
   "source": [
    "def gen_norms(data):\n",
    "    return [math.hypot(*pt) for pt in data]"
   ],
   "outputs": [],
   "execution_count": 24
  },
  {
   "cell_type": "code",
   "id": "mathematical-forest",
   "metadata": {
    "ExecuteTime": {
     "end_time": "2025-06-18T05:00:04.586006Z",
     "start_time": "2025-06-18T05:00:04.579886Z"
    }
   },
   "source": [
    "gen_norms(data)"
   ],
   "outputs": [
    {
     "data": {
      "text/plain": [
       "[1.0, 3.7416573867739413, 9.16515138991168, 16.522711641858304]"
      ]
     },
     "execution_count": 25,
     "metadata": {},
     "output_type": "execute_result"
    }
   ],
   "execution_count": 25
  },
  {
   "cell_type": "markdown",
   "id": "ambient-spain",
   "metadata": {},
   "source": [
    "#### Question 3"
   ]
  },
  {
   "cell_type": "markdown",
   "id": "third-neutral",
   "metadata": {},
   "source": [
    "Given an arbitrary sequence of numerical values, write a function that \"analyzes\" the sequence by generating print outputs of:\n",
    "- number of elements\n",
    "- number of unique elements\n",
    "- the min\n",
    "- the max\n",
    "- the mean\n",
    "- the standard deviation\n",
    "- all the modes (if there are more than one)\n",
    "- the 25th, 50th, and 75th percentiles\n"
   ]
  },
  {
   "cell_type": "markdown",
   "id": "australian-kitchen",
   "metadata": {},
   "source": [
    "For example, given this list of numbers:"
   ]
  },
  {
   "cell_type": "code",
   "id": "overall-peninsula",
   "metadata": {
    "ExecuteTime": {
     "end_time": "2025-06-18T05:00:04.637714Z",
     "start_time": "2025-06-18T05:00:04.618025Z"
    }
   },
   "source": [
    "data = [\n",
    "    61, 35, 99, 100, 75, 94, 88, 14, 21, 39, 53, 25, 87, 84, \n",
    "    81, 55, 86, 18, 69, 44, 16, 33, 66, 52, 70, 52, 95, 45, \n",
    "    94, 35, 68, 70, 52, 53, 30, 87, 79, 51, 92, 72, 55, 40, \n",
    "    15, 74, 86, 87, 91, 70, 45, 37\n",
    "]"
   ],
   "outputs": [],
   "execution_count": 26
  },
  {
   "cell_type": "markdown",
   "id": "comfortable-transportation",
   "metadata": {},
   "source": [
    "For calculations that result in floats, display only `3` digits after the decimal point for those result."
   ]
  },
  {
   "cell_type": "markdown",
   "id": "returning-disposal",
   "metadata": {},
   "source": [
    "Your function should print information such as this to the console:"
   ]
  },
  {
   "cell_type": "markdown",
   "id": "visible-messaging",
   "metadata": {},
   "source": [
    "```\n",
    "count: 50\n",
    "unique count: 38\n",
    "min: 14\n",
    "max: 100\n",
    "mean: 60.800\n",
    "std dev: 25.283\n",
    "modes: [87, 52, 70]\n",
    "25th percentile: 39.750\n",
    "median: 63.500\n",
    "75th percentile: 86.000\n",
    "```"
   ]
  },
  {
   "cell_type": "markdown",
   "id": "acting-angola",
   "metadata": {},
   "source": [
    "##### Solution"
   ]
  },
  {
   "cell_type": "markdown",
   "id": "express-africa",
   "metadata": {},
   "source": [
    "We already know about the `min` and `max` functions that are built-in."
   ]
  },
  {
   "cell_type": "markdown",
   "id": "little-stevens",
   "metadata": {},
   "source": [
    "We can use the `len` function to calculate the number of elements in the sequence."
   ]
  },
  {
   "cell_type": "markdown",
   "id": "dental-peter",
   "metadata": {},
   "source": [
    "For the number of unique elements, we can transform our data into a `set` first, and obatin the `len` of that set."
   ]
  },
  {
   "cell_type": "markdown",
   "id": "foster-cambodia",
   "metadata": {},
   "source": [
    "Furthermore the `statistics` module provides functions such as:\n",
    "- `mean`\n",
    "- `stdev`\n",
    "- `quantiles`\n",
    "- `multimode`"
   ]
  },
  {
   "cell_type": "markdown",
   "id": "steady-harris",
   "metadata": {},
   "source": [
    "Let's write a function that will perform all these calculations and print this analysis."
   ]
  },
  {
   "cell_type": "code",
   "id": "constitutional-penalty",
   "metadata": {
    "ExecuteTime": {
     "end_time": "2025-06-18T05:00:04.680737Z",
     "start_time": "2025-06-18T05:00:04.669179Z"
    }
   },
   "source": [
    "import statistics as stats\n",
    "\n",
    "def describe(data):\n",
    "    num_elements = len(data)\n",
    "    num_unique_elements = len(set(data))\n",
    "    min_ = min(data)\n",
    "    max_ = max(data)\n",
    "    mean = stats.mean(data)\n",
    "    stdev = stats.stdev(data)\n",
    "    multi_mode = stats.multimode(data)\n",
    "    quartiles = stats.quantiles(data, n=4)\n",
    "    \n",
    "    print(f'count: {num_elements}')\n",
    "    print(f'unique count: {num_unique_elements}')\n",
    "    print(f'min: {min_}')\n",
    "    print(f'max: {max_}')\n",
    "    print(f'mean: {mean:.3f}')\n",
    "    print(f'std dev: {stdev:.3f}')\n",
    "    print(f'modes: {multi_mode}')\n",
    "    print(f'25th percentile: {quartiles[0]:.3f}')\n",
    "    print(f'median: {quartiles[1]:.3f}')\n",
    "    print(f'75th percentile: {quartiles[2]:.3f}')\n",
    "          "
   ],
   "outputs": [],
   "execution_count": 27
  },
  {
   "cell_type": "code",
   "id": "outdoor-lodging",
   "metadata": {
    "ExecuteTime": {
     "end_time": "2025-06-18T05:00:04.712657Z",
     "start_time": "2025-06-18T05:00:04.707189Z"
    }
   },
   "source": [
    "describe(data)"
   ],
   "outputs": [
    {
     "name": "stdout",
     "output_type": "stream",
     "text": [
      "count: 50\n",
      "unique count: 38\n",
      "min: 14\n",
      "max: 100\n",
      "mean: 60.800\n",
      "std dev: 25.283\n",
      "modes: [87, 52, 70]\n",
      "25th percentile: 39.750\n",
      "median: 63.500\n",
      "75th percentile: 86.000\n"
     ]
    }
   ],
   "execution_count": 28
  }
 ],
 "metadata": {
  "kernelspec": {
   "display_name": "Python 3",
   "language": "python",
   "name": "python3"
  },
  "language_info": {
   "codemirror_mode": {
    "name": "ipython",
    "version": 3
   },
   "file_extension": ".py",
   "mimetype": "text/x-python",
   "name": "python",
   "nbconvert_exporter": "python",
   "pygments_lexer": "ipython3",
   "version": "3.9.1"
  }
 },
 "nbformat": 4,
 "nbformat_minor": 5
}
