{
 "cells": [
  {
   "cell_type": "markdown",
   "metadata": {},
   "source": [
    "### List Comprehensions"
   ]
  },
  {
   "cell_type": "markdown",
   "metadata": {},
   "source": [
    "Let's see a few examples side by side of creating a list from an existing iterable using a \"standard\" approach vs a comprehension approach."
   ]
  },
  {
   "cell_type": "markdown",
   "metadata": {},
   "source": [
    "Given the following iterable of vectors, create a list that contains the magnitude of each vector."
   ]
  },
  {
   "cell_type": "code",
   "metadata": {
    "ExecuteTime": {
     "end_time": "2025-06-17T19:46:18.854887Z",
     "start_time": "2025-06-17T19:46:18.847765Z"
    }
   },
   "source": [
    "vectors = [(0,0), (0,1), (1, 0), (1, 1)]"
   ],
   "outputs": [],
   "execution_count": 1
  },
  {
   "cell_type": "code",
   "metadata": {
    "ExecuteTime": {
     "end_time": "2025-06-17T19:46:19.233501Z",
     "start_time": "2025-06-17T19:46:19.226710Z"
    }
   },
   "source": [
    "from math import sqrt\n",
    "\n",
    "magnitudes = []\n",
    "\n",
    "for vector in vectors:\n",
    "    magnitude = sqrt(vector[0] ** 2 + vector[1] ** 2)\n",
    "    magnitudes.append(magnitude)\n",
    "    \n",
    "print(magnitudes)"
   ],
   "outputs": [
    {
     "name": "stdout",
     "output_type": "stream",
     "text": [
      "[0.0, 1.0, 1.0, 1.4142135623730951]\n"
     ]
    }
   ],
   "execution_count": 2
  },
  {
   "cell_type": "markdown",
   "metadata": {},
   "source": [
    "Using a comprehension syntax instead, we can do all this in one single expression:"
   ]
  },
  {
   "cell_type": "code",
   "metadata": {
    "ExecuteTime": {
     "end_time": "2025-06-17T19:46:19.317924Z",
     "start_time": "2025-06-17T19:46:19.311931Z"
    }
   },
   "source": [
    "magnitudes = [sqrt(vector[0] + vector[1]) for vector in vectors]"
   ],
   "outputs": [],
   "execution_count": 3
  },
  {
   "cell_type": "code",
   "metadata": {
    "ExecuteTime": {
     "end_time": "2025-06-17T19:46:19.511407Z",
     "start_time": "2025-06-17T19:46:19.503486Z"
    }
   },
   "source": [
    "magnitudes"
   ],
   "outputs": [
    {
     "data": {
      "text/plain": [
       "[0.0, 1.0, 1.0, 1.4142135623730951]"
      ]
     },
     "execution_count": 4,
     "metadata": {},
     "output_type": "execute_result"
    }
   ],
   "execution_count": 4
  },
  {
   "cell_type": "markdown",
   "metadata": {},
   "source": [
    "As you can see, not only is the code more concise, but it is also \"reads\" very explicitly - far easier to understand the comprehension syntax."
   ]
  },
  {
   "cell_type": "markdown",
   "metadata": {},
   "source": [
    "It is also quite a bit more efficient in terms of computational speed."
   ]
  },
  {
   "cell_type": "code",
   "metadata": {
    "ExecuteTime": {
     "end_time": "2025-06-17T19:46:19.596869Z",
     "start_time": "2025-06-17T19:46:19.590868Z"
    }
   },
   "source": [
    "from time import perf_counter"
   ],
   "outputs": [],
   "execution_count": 5
  },
  {
   "cell_type": "markdown",
   "metadata": {},
   "source": [
    "`perf_counter` is something we can use to measure relative elapsed times.\n",
    "\n",
    "It is a measure of elapsed time from some point of origin - this origin point is undefined, but we can get the `perf_counter` value at different points in our code, and calculate the difference between the different measuremenents."
   ]
  },
  {
   "cell_type": "code",
   "metadata": {
    "ExecuteTime": {
     "end_time": "2025-06-17T19:46:19.805939Z",
     "start_time": "2025-06-17T19:46:19.671478Z"
    }
   },
   "source": [
    "start = perf_counter()\n",
    "for i in range(100_000):\n",
    "    magnitudes = []\n",
    "    for vector in vectors:\n",
    "        magnitude = sqrt(vector[0] ** 2 + vector[1] ** 2)\n",
    "        magnitudes.append(magnitude)\n",
    "end = perf_counter()\n",
    "\n",
    "elapsed_time = end - start\n",
    "print(elapsed_time)"
   ],
   "outputs": [
    {
     "name": "stdout",
     "output_type": "stream",
     "text": [
      "0.12664639999275096\n"
     ]
    }
   ],
   "execution_count": 6
  },
  {
   "cell_type": "code",
   "metadata": {
    "ExecuteTime": {
     "end_time": "2025-06-17T19:46:19.995366Z",
     "start_time": "2025-06-17T19:46:19.910602Z"
    }
   },
   "source": [
    "start = perf_counter()\n",
    "for i in range(100_000):\n",
    "    magnitudes = [sqrt(vector[0] + vector[1]) for vector in vectors]\n",
    "end = perf_counter()\n",
    "\n",
    "elapsed_time = end - start\n",
    "print(elapsed_time)"
   ],
   "outputs": [
    {
     "name": "stdout",
     "output_type": "stream",
     "text": [
      "0.07710969999607187\n"
     ]
    }
   ],
   "execution_count": 7
  },
  {
   "cell_type": "markdown",
   "metadata": {},
   "source": [
    "As you can see, the comprehension approach was quite a bit faster."
   ]
  },
  {
   "cell_type": "markdown",
   "metadata": {},
   "source": [
    "The comprehension syntax also allows for an `if` clause to **filter** elements we want to include in the resulting list."
   ]
  },
  {
   "cell_type": "markdown",
   "metadata": {},
   "source": [
    "For example, suppose we have this collection of strings, and we want to create a new list that only retains strings that have at least `5` characters:"
   ]
  },
  {
   "cell_type": "code",
   "metadata": {
    "ExecuteTime": {
     "end_time": "2025-06-17T19:46:20.020448Z",
     "start_time": "2025-06-17T19:46:20.015376Z"
    }
   },
   "source": [
    "strings = 'Python is an awesome language'.split(' ')"
   ],
   "outputs": [],
   "execution_count": 8
  },
  {
   "cell_type": "code",
   "metadata": {
    "ExecuteTime": {
     "end_time": "2025-06-17T19:46:20.054304Z",
     "start_time": "2025-06-17T19:46:20.048Z"
    }
   },
   "source": [
    "strings"
   ],
   "outputs": [
    {
     "data": {
      "text/plain": [
       "['Python', 'is', 'an', 'awesome', 'language']"
      ]
     },
     "execution_count": 9,
     "metadata": {},
     "output_type": "execute_result"
    }
   ],
   "execution_count": 9
  },
  {
   "cell_type": "markdown",
   "metadata": {},
   "source": [
    "We could use a \"traditional\" approach:"
   ]
  },
  {
   "cell_type": "code",
   "metadata": {
    "ExecuteTime": {
     "end_time": "2025-06-17T19:46:20.226556Z",
     "start_time": "2025-06-17T19:46:20.221208Z"
    }
   },
   "source": [
    "filtered = []\n",
    "for item in strings:\n",
    "    if len(item) >= 5:\n",
    "        filtered.append(item)\n",
    "        \n",
    "print(filtered)"
   ],
   "outputs": [
    {
     "name": "stdout",
     "output_type": "stream",
     "text": [
      "['Python', 'awesome', 'language']\n"
     ]
    }
   ],
   "execution_count": 10
  },
  {
   "cell_type": "markdown",
   "metadata": {},
   "source": [
    "Or, we could use a comprehension instead:"
   ]
  },
  {
   "cell_type": "code",
   "metadata": {
    "ExecuteTime": {
     "end_time": "2025-06-17T19:46:20.504303Z",
     "start_time": "2025-06-17T19:46:20.499375Z"
    }
   },
   "source": [
    "filtered = [item for item in strings if len(item) >= 5]\n",
    "\n",
    "print(filtered)"
   ],
   "outputs": [
    {
     "name": "stdout",
     "output_type": "stream",
     "text": [
      "['Python', 'awesome', 'language']\n"
     ]
    }
   ],
   "execution_count": 11
  },
  {
   "cell_type": "markdown",
   "metadata": {},
   "source": [
    "The iterable used in the comprehension can be any iterable, not just another list."
   ]
  },
  {
   "cell_type": "markdown",
   "metadata": {},
   "source": [
    "For example, suppose we have this dictionary that is maintaining a count fo each widget sold:"
   ]
  },
  {
   "cell_type": "code",
   "metadata": {
    "ExecuteTime": {
     "end_time": "2025-06-17T19:46:21.189656Z",
     "start_time": "2025-06-17T19:46:21.185173Z"
    }
   },
   "source": [
    "sales = {\n",
    "    'widget 1': 0,\n",
    "    'widget 2': 5,\n",
    "    'widget 3': 10,\n",
    "    'widget 4': 2\n",
    "}"
   ],
   "outputs": [],
   "execution_count": 12
  },
  {
   "cell_type": "markdown",
   "metadata": {},
   "source": [
    "We want to get a list of widgets that sold at least 5 items."
   ]
  },
  {
   "cell_type": "markdown",
   "metadata": {},
   "source": [
    "Again, we could approach it using the `append` approach (but remember that this is not as efficient as a comprehension):"
   ]
  },
  {
   "cell_type": "code",
   "metadata": {
    "ExecuteTime": {
     "end_time": "2025-06-17T19:46:21.790294Z",
     "start_time": "2025-06-17T19:46:21.784621Z"
    }
   },
   "source": [
    "high_sales = []\n",
    "for key in sales:\n",
    "    if sales[key] >= 5:\n",
    "        high_sales.append(key)\n",
    "        \n",
    "print(high_sales)"
   ],
   "outputs": [
    {
     "name": "stdout",
     "output_type": "stream",
     "text": [
      "['widget 2', 'widget 3']\n"
     ]
    }
   ],
   "execution_count": 13
  },
  {
   "cell_type": "markdown",
   "metadata": {},
   "source": [
    "Of course, we could make this more Pythonic, by using `.items()` instead:"
   ]
  },
  {
   "cell_type": "code",
   "metadata": {
    "ExecuteTime": {
     "end_time": "2025-06-17T19:46:22.225270Z",
     "start_time": "2025-06-17T19:46:22.217986Z"
    }
   },
   "source": [
    "high_sales = []\n",
    "for key, value in sales.items():\n",
    "    if value >= 5:\n",
    "        high_sales.append(key)\n",
    "        \n",
    "print(high_sales)"
   ],
   "outputs": [
    {
     "name": "stdout",
     "output_type": "stream",
     "text": [
      "['widget 2', 'widget 3']\n"
     ]
    }
   ],
   "execution_count": 14
  },
  {
   "cell_type": "markdown",
   "metadata": {},
   "source": [
    "But a better approach here, is a comprehension:"
   ]
  },
  {
   "cell_type": "code",
   "metadata": {
    "ExecuteTime": {
     "end_time": "2025-06-17T19:46:22.601637Z",
     "start_time": "2025-06-17T19:46:22.594292Z"
    }
   },
   "source": [
    "high_sales = [key for key, value in sales.items() if value >= 5]\n",
    "\n",
    "print(high_sales)"
   ],
   "outputs": [
    {
     "name": "stdout",
     "output_type": "stream",
     "text": [
      "['widget 2', 'widget 3']\n"
     ]
    }
   ],
   "execution_count": 15
  },
  {
   "cell_type": "markdown",
   "metadata": {},
   "source": [
    "Let's go back to an example we saw earlier where we attempted to create a zero matrix this way:"
   ]
  },
  {
   "cell_type": "code",
   "metadata": {
    "ExecuteTime": {
     "end_time": "2025-06-17T19:46:22.995853Z",
     "start_time": "2025-06-17T19:46:22.991151Z"
    }
   },
   "source": [
    "m = [[0] * 3] * 3"
   ],
   "outputs": [],
   "execution_count": 16
  },
  {
   "cell_type": "code",
   "metadata": {
    "ExecuteTime": {
     "end_time": "2025-06-17T19:46:23.142785Z",
     "start_time": "2025-06-17T19:46:23.136437Z"
    }
   },
   "source": [
    "m"
   ],
   "outputs": [
    {
     "data": {
      "text/plain": [
       "[[0, 0, 0], [0, 0, 0], [0, 0, 0]]"
      ]
     },
     "execution_count": 17,
     "metadata": {},
     "output_type": "execute_result"
    }
   ],
   "execution_count": 17
  },
  {
   "cell_type": "markdown",
   "metadata": {},
   "source": [
    "The problem was that we ended up with each row of the matrix being the **same** object:"
   ]
  },
  {
   "cell_type": "code",
   "metadata": {
    "ExecuteTime": {
     "end_time": "2025-06-17T19:46:23.674772Z",
     "start_time": "2025-06-17T19:46:23.668835Z"
    }
   },
   "source": [
    "m[0][0] = 1"
   ],
   "outputs": [],
   "execution_count": 18
  },
  {
   "cell_type": "code",
   "metadata": {
    "ExecuteTime": {
     "end_time": "2025-06-17T19:46:23.840967Z",
     "start_time": "2025-06-17T19:46:23.834994Z"
    }
   },
   "source": [
    "m"
   ],
   "outputs": [
    {
     "data": {
      "text/plain": [
       "[[1, 0, 0], [1, 0, 0], [1, 0, 0]]"
      ]
     },
     "execution_count": 19,
     "metadata": {},
     "output_type": "execute_result"
    }
   ],
   "execution_count": 19
  },
  {
   "cell_type": "markdown",
   "metadata": {},
   "source": [
    "We can actually use comprehensions to fix this problem:"
   ]
  },
  {
   "cell_type": "code",
   "metadata": {
    "ExecuteTime": {
     "end_time": "2025-06-17T19:46:24.262788Z",
     "start_time": "2025-06-17T19:46:24.257810Z"
    }
   },
   "source": [
    "m = [[0, 0, 0] for row in range(3)]"
   ],
   "outputs": [],
   "execution_count": 20
  },
  {
   "cell_type": "code",
   "metadata": {
    "ExecuteTime": {
     "end_time": "2025-06-17T19:46:24.484871Z",
     "start_time": "2025-06-17T19:46:24.478006Z"
    }
   },
   "source": [
    "m"
   ],
   "outputs": [
    {
     "data": {
      "text/plain": [
       "[[0, 0, 0], [0, 0, 0], [0, 0, 0]]"
      ]
     },
     "execution_count": 21,
     "metadata": {},
     "output_type": "execute_result"
    }
   ],
   "execution_count": 21
  },
  {
   "cell_type": "code",
   "metadata": {
    "ExecuteTime": {
     "end_time": "2025-06-17T19:46:24.706262Z",
     "start_time": "2025-06-17T19:46:24.701258Z"
    }
   },
   "source": [
    "m[0][0] = 1"
   ],
   "outputs": [],
   "execution_count": 22
  },
  {
   "cell_type": "code",
   "metadata": {
    "ExecuteTime": {
     "end_time": "2025-06-17T19:46:24.881044Z",
     "start_time": "2025-06-17T19:46:24.874574Z"
    }
   },
   "source": [
    "m"
   ],
   "outputs": [
    {
     "data": {
      "text/plain": [
       "[[1, 0, 0], [0, 0, 0], [0, 0, 0]]"
      ]
     },
     "execution_count": 23,
     "metadata": {},
     "output_type": "execute_result"
    }
   ],
   "execution_count": 23
  },
  {
   "cell_type": "markdown",
   "metadata": {},
   "source": [
    "We can even simplify this further:"
   ]
  },
  {
   "cell_type": "code",
   "metadata": {
    "ExecuteTime": {
     "end_time": "2025-06-17T19:46:25.234134Z",
     "start_time": "2025-06-17T19:46:25.229871Z"
    }
   },
   "source": [
    "m = [[0] * 3 for row in range(3)]"
   ],
   "outputs": [],
   "execution_count": 24
  },
  {
   "cell_type": "code",
   "metadata": {
    "ExecuteTime": {
     "end_time": "2025-06-17T19:46:25.419718Z",
     "start_time": "2025-06-17T19:46:25.413753Z"
    }
   },
   "source": [
    "m"
   ],
   "outputs": [
    {
     "data": {
      "text/plain": [
       "[[0, 0, 0], [0, 0, 0], [0, 0, 0]]"
      ]
     },
     "execution_count": 25,
     "metadata": {},
     "output_type": "execute_result"
    }
   ],
   "execution_count": 25
  },
  {
   "cell_type": "markdown",
   "metadata": {},
   "source": [
    "Now what about creating an identity matrix - where all elements are `0`, except diagonal elements which are `1`?"
   ]
  },
  {
   "cell_type": "markdown",
   "metadata": {},
   "source": [
    "Well, we could do it this way:"
   ]
  },
  {
   "cell_type": "code",
   "metadata": {
    "ExecuteTime": {
     "end_time": "2025-06-17T19:46:25.959008Z",
     "start_time": "2025-06-17T19:46:25.953740Z"
    }
   },
   "source": [
    "m = [[0] * 3 for row in range(3)]\n",
    "\n",
    "for row in range(3):\n",
    "    for col in range(3):\n",
    "        if row == col:\n",
    "            m[row][col] = 1\n",
    "            \n",
    "print(m)"
   ],
   "outputs": [
    {
     "name": "stdout",
     "output_type": "stream",
     "text": [
      "[[1, 0, 0], [0, 1, 0], [0, 0, 1]]\n"
     ]
    }
   ],
   "execution_count": 26
  },
  {
   "cell_type": "markdown",
   "metadata": {},
   "source": [
    "But we can actually use a comprehension to do all this.\n",
    "\n",
    "Remember that the expression in a comprehension can be anything - including another comprehension!"
   ]
  },
  {
   "cell_type": "code",
   "metadata": {
    "ExecuteTime": {
     "end_time": "2025-06-17T19:46:26.326521Z",
     "start_time": "2025-06-17T19:46:26.321522Z"
    }
   },
   "source": [
    "m = [ [1 if row == col else 0 for col in range(3)] for row in range(3)]"
   ],
   "outputs": [],
   "execution_count": 27
  },
  {
   "cell_type": "code",
   "metadata": {
    "ExecuteTime": {
     "end_time": "2025-06-17T19:46:26.480886Z",
     "start_time": "2025-06-17T19:46:26.474888Z"
    }
   },
   "source": [
    "m"
   ],
   "outputs": [
    {
     "data": {
      "text/plain": [
       "[[1, 0, 0], [0, 1, 0], [0, 0, 1]]"
      ]
     },
     "execution_count": 28,
     "metadata": {},
     "output_type": "execute_result"
    }
   ],
   "execution_count": 28
  },
  {
   "cell_type": "markdown",
   "metadata": {},
   "source": [
    "That syntax is starting to get a little harder to read - I would add some more formatting to make it more readable:"
   ]
  },
  {
   "cell_type": "code",
   "metadata": {
    "ExecuteTime": {
     "end_time": "2025-06-17T19:46:26.932576Z",
     "start_time": "2025-06-17T19:46:26.926783Z"
    }
   },
   "source": [
    "n = 3\n",
    "\n",
    "m = [\n",
    "    [1 if row == col else 0 for col in range(n)]\n",
    "    for row in range(n)\n",
    "]"
   ],
   "outputs": [],
   "execution_count": 29
  },
  {
   "cell_type": "code",
   "metadata": {
    "ExecuteTime": {
     "end_time": "2025-06-17T19:46:27.140405Z",
     "start_time": "2025-06-17T19:46:27.134405Z"
    }
   },
   "source": [
    "m"
   ],
   "outputs": [
    {
     "data": {
      "text/plain": [
       "[[1, 0, 0], [0, 1, 0], [0, 0, 1]]"
      ]
     },
     "execution_count": 30,
     "metadata": {},
     "output_type": "execute_result"
    }
   ],
   "execution_count": 30
  },
  {
   "cell_type": "markdown",
   "metadata": {},
   "source": [
    "The important thing to understand is that the **inner** comprehension knows about `col` because that's the loop variable in that comprehension, but it also knows about the `row` variable in the enclosing comprehension - same as with nested loops."
   ]
  },
  {
   "cell_type": "markdown",
   "metadata": {},
   "source": [
    "So list comprehensions are mechanisms we can use to easily create a new list based on another iterable.\n",
    "\n",
    "But comprehension syntax can quickly devolve into hard to understand messes - keep it simple!"
   ]
  }
 ],
 "metadata": {
  "kernelspec": {
   "display_name": "Python 3",
   "language": "python",
   "name": "python3"
  },
  "language_info": {
   "codemirror_mode": {
    "name": "ipython",
    "version": 3
   },
   "file_extension": ".py",
   "mimetype": "text/x-python",
   "name": "python",
   "nbconvert_exporter": "python",
   "pygments_lexer": "ipython3",
   "version": "3.9.1"
  }
 },
 "nbformat": 4,
 "nbformat_minor": 4
}
