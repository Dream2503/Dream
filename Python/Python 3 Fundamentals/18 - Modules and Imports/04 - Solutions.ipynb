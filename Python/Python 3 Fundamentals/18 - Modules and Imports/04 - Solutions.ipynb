{
 "cells": [
  {
   "cell_type": "markdown",
   "id": "prerequisite-royal",
   "metadata": {},
   "source": [
    "### Solutions"
   ]
  },
  {
   "cell_type": "markdown",
   "id": "silver-repeat",
   "metadata": {},
   "source": [
    "#### Question 1"
   ]
  },
  {
   "cell_type": "markdown",
   "id": "significant-female",
   "metadata": {},
   "source": [
    "Your code uses a few functions in the `math` module here and there, but you also tend to use the `sin`, `cos` and `tan` functions and the `pi` constant very frequently."
   ]
  },
  {
   "cell_type": "markdown",
   "id": "designing-oregon",
   "metadata": {},
   "source": [
    "Write some import statements that you think would be helpful in this scenario."
   ]
  },
  {
   "cell_type": "markdown",
   "id": "rural-conservation",
   "metadata": {},
   "source": [
    "##### Solution"
   ]
  },
  {
   "cell_type": "markdown",
   "id": "demanding-jesus",
   "metadata": {},
   "source": [
    "First we'll import the `math` module itself, so we can use functions in there by prefixing the module name:"
   ]
  },
  {
   "cell_type": "code",
   "id": "ahead-robertson",
   "metadata": {
    "ExecuteTime": {
     "end_time": "2025-06-18T04:49:57.604160Z",
     "start_time": "2025-06-18T04:49:57.598635Z"
    }
   },
   "source": [
    "import math"
   ],
   "outputs": [],
   "execution_count": 1
  },
  {
   "cell_type": "markdown",
   "id": "white-nature",
   "metadata": {},
   "source": [
    "So now we can access functions such as `sin` or `gcd` this way:"
   ]
  },
  {
   "cell_type": "code",
   "id": "portuguese-laser",
   "metadata": {
    "ExecuteTime": {
     "end_time": "2025-06-18T04:49:57.930959Z",
     "start_time": "2025-06-18T04:49:57.919556Z"
    }
   },
   "source": [
    "math.sin(math.pi)"
   ],
   "outputs": [
    {
     "data": {
      "text/plain": [
       "1.2246467991473532e-16"
      ]
     },
     "execution_count": 2,
     "metadata": {},
     "output_type": "execute_result"
    }
   ],
   "execution_count": 2
  },
  {
   "cell_type": "code",
   "id": "joint-wright",
   "metadata": {
    "ExecuteTime": {
     "end_time": "2025-06-18T04:49:57.993192Z",
     "start_time": "2025-06-18T04:49:57.986427Z"
    }
   },
   "source": [
    "math.gcd(10, 5)"
   ],
   "outputs": [
    {
     "data": {
      "text/plain": [
       "5"
      ]
     },
     "execution_count": 3,
     "metadata": {},
     "output_type": "execute_result"
    }
   ],
   "execution_count": 3
  },
  {
   "cell_type": "markdown",
   "id": "blank-burlington",
   "metadata": {},
   "source": [
    "But since we use `pi`, `sin`, `cos`, and `tan` very frequently it might be nice not to have to always use the module name prefix - so, we'll import those symbols explicitly as well:"
   ]
  },
  {
   "cell_type": "code",
   "id": "binding-viewer",
   "metadata": {
    "ExecuteTime": {
     "end_time": "2025-06-18T04:49:58.039615Z",
     "start_time": "2025-06-18T04:49:58.033925Z"
    }
   },
   "source": [
    "from math import pi, sin, cos, tan"
   ],
   "outputs": [],
   "execution_count": 4
  },
  {
   "cell_type": "markdown",
   "id": "stopped-reward",
   "metadata": {},
   "source": [
    "And now we can use those symbols directly:"
   ]
  },
  {
   "cell_type": "code",
   "id": "closed-rabbit",
   "metadata": {
    "ExecuteTime": {
     "end_time": "2025-06-18T04:49:58.085886Z",
     "start_time": "2025-06-18T04:49:58.076168Z"
    }
   },
   "source": [
    "sin(pi)"
   ],
   "outputs": [
    {
     "data": {
      "text/plain": [
       "1.2246467991473532e-16"
      ]
     },
     "execution_count": 5,
     "metadata": {},
     "output_type": "execute_result"
    }
   ],
   "execution_count": 5
  },
  {
   "cell_type": "markdown",
   "id": "worthy-retrieval",
   "metadata": {},
   "source": [
    "As well as retain the ability to reach into the `math` module for other functions:"
   ]
  },
  {
   "cell_type": "code",
   "id": "renewable-humidity",
   "metadata": {
    "ExecuteTime": {
     "end_time": "2025-06-18T04:49:58.125553Z",
     "start_time": "2025-06-18T04:49:58.119389Z"
    }
   },
   "source": [
    "math.asin(1)"
   ],
   "outputs": [
    {
     "data": {
      "text/plain": [
       "1.5707963267948966"
      ]
     },
     "execution_count": 6,
     "metadata": {},
     "output_type": "execute_result"
    }
   ],
   "execution_count": 6
  },
  {
   "cell_type": "markdown",
   "id": "scheduled-scholarship",
   "metadata": {},
   "source": [
    "#### Question 2"
   ]
  },
  {
   "cell_type": "markdown",
   "id": "conscious-moral",
   "metadata": {},
   "source": [
    "There is a library that we installed for our course called `matplotlib`."
   ]
  },
  {
   "cell_type": "markdown",
   "id": "significant-mobile",
   "metadata": {},
   "source": [
    "We can certainly import that library using its full name, but whenever we need to reach into that module we need to type out `matplotlib.som_func` - since we use this library quite often, typing out `matplotlib` every time gets tiring."
   ]
  },
  {
   "cell_type": "markdown",
   "id": "hollow-phoenix",
   "metadata": {},
   "source": [
    "Write an import function that allows you to reference that module using the name `mpl` instead of the full name `matplotlib`."
   ]
  },
  {
   "cell_type": "markdown",
   "id": "legendary-jesus",
   "metadata": {},
   "source": [
    "##### Solution"
   ]
  },
  {
   "cell_type": "markdown",
   "id": "random-progress",
   "metadata": {},
   "source": [
    "For this, we simply need to alias the module when we import it:"
   ]
  },
  {
   "cell_type": "code",
   "id": "matched-efficiency",
   "metadata": {
    "ExecuteTime": {
     "end_time": "2025-06-18T04:49:59.244786Z",
     "start_time": "2025-06-18T04:49:58.844230Z"
    }
   },
   "source": [
    "import matplotlib as mpl"
   ],
   "outputs": [],
   "execution_count": 7
  },
  {
   "cell_type": "markdown",
   "id": "great-knowing",
   "metadata": {},
   "source": [
    "And now we can use the name `mpl` instead of the full original `matplotlib` name."
   ]
  }
 ],
 "metadata": {
  "kernelspec": {
   "display_name": "Python 3",
   "language": "python",
   "name": "python3"
  },
  "language_info": {
   "codemirror_mode": {
    "name": "ipython",
    "version": 3
   },
   "file_extension": ".py",
   "mimetype": "text/x-python",
   "name": "python",
   "nbconvert_exporter": "python",
   "pygments_lexer": "ipython3",
   "version": "3.9.1"
  }
 },
 "nbformat": 4,
 "nbformat_minor": 5
}
