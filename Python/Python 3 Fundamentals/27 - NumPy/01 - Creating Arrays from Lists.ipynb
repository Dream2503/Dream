{
 "cells": [
  {
   "cell_type": "markdown",
   "metadata": {},
   "source": [
    "### Creating Arrays from Lists"
   ]
  },
  {
   "cell_type": "markdown",
   "metadata": {},
   "source": [
    "Before we can use the NumPy library we need to import `numpy`."
   ]
  },
  {
   "cell_type": "markdown",
   "metadata": {},
   "source": [
    "We could import it this way:"
   ]
  },
  {
   "cell_type": "code",
   "metadata": {
    "ExecuteTime": {
     "end_time": "2025-06-18T08:08:05.734236Z",
     "start_time": "2025-06-18T08:08:05.563566Z"
    }
   },
   "source": [
    "import numpy"
   ],
   "outputs": [],
   "execution_count": 1
  },
  {
   "cell_type": "markdown",
   "metadata": {},
   "source": [
    "This means that we will have to use the `numpy` prefix in our code everywhere we need to use this library."
   ]
  },
  {
   "cell_type": "markdown",
   "metadata": {},
   "source": [
    "To save on typing, it is common practice to alias the library - `np` is basically a standard everyone uses:"
   ]
  },
  {
   "cell_type": "code",
   "metadata": {
    "ExecuteTime": {
     "end_time": "2025-06-18T08:08:08.488545Z",
     "start_time": "2025-06-18T08:08:08.482904Z"
    }
   },
   "source": [
    "import numpy as np"
   ],
   "outputs": [],
   "execution_count": 2
  },
  {
   "cell_type": "markdown",
   "metadata": {},
   "source": [
    "Creating NumPy arrays from Python lists is very simple - the `array` function in NumPy can take a list (or a tuple) and create a NumPy array out of it:"
   ]
  },
  {
   "cell_type": "code",
   "metadata": {
    "ExecuteTime": {
     "end_time": "2025-06-18T08:08:09.861543Z",
     "start_time": "2025-06-18T08:08:09.855365Z"
    }
   },
   "source": [
    "a1 = np.array([1, 2, 3, 4])\n",
    "a2 = np.array((0.1, 0.2, 0.3, 0.4))"
   ],
   "outputs": [],
   "execution_count": 3
  },
  {
   "cell_type": "code",
   "metadata": {
    "ExecuteTime": {
     "end_time": "2025-06-18T08:08:14.337746Z",
     "start_time": "2025-06-18T08:08:14.327206Z"
    }
   },
   "source": [
    "a1"
   ],
   "outputs": [
    {
     "data": {
      "text/plain": [
       "array([1, 2, 3, 4])"
      ]
     },
     "execution_count": 4,
     "metadata": {},
     "output_type": "execute_result"
    }
   ],
   "execution_count": 4
  },
  {
   "cell_type": "code",
   "metadata": {
    "ExecuteTime": {
     "end_time": "2025-06-18T08:08:15.782438Z",
     "start_time": "2025-06-18T08:08:15.775290Z"
    }
   },
   "source": [
    "a2"
   ],
   "outputs": [
    {
     "data": {
      "text/plain": [
       "array([0.1, 0.2, 0.3, 0.4])"
      ]
     },
     "execution_count": 5,
     "metadata": {},
     "output_type": "execute_result"
    }
   ],
   "execution_count": 5
  },
  {
   "cell_type": "markdown",
   "metadata": {},
   "source": [
    "The data type of these arrays is `ndarray` (n-dimensional array):"
   ]
  },
  {
   "cell_type": "code",
   "metadata": {
    "ExecuteTime": {
     "end_time": "2025-06-18T08:08:18.809773Z",
     "start_time": "2025-06-18T08:08:18.802900Z"
    }
   },
   "source": [
    "type(a1)"
   ],
   "outputs": [
    {
     "data": {
      "text/plain": [
       "numpy.ndarray"
      ]
     },
     "execution_count": 6,
     "metadata": {},
     "output_type": "execute_result"
    }
   ],
   "execution_count": 6
  },
  {
   "cell_type": "markdown",
   "metadata": {},
   "source": [
    "One of the properties of an `ndarray` is its data type (which we know is the data type of every element in the array)."
   ]
  },
  {
   "cell_type": "markdown",
   "metadata": {},
   "source": [
    "We did not specify a data type for the elements of the arrays we just created - NumPy picked some default."
   ]
  },
  {
   "cell_type": "markdown",
   "metadata": {},
   "source": [
    "We can see that data type by using the `dtype` property:"
   ]
  },
  {
   "cell_type": "code",
   "metadata": {
    "ExecuteTime": {
     "end_time": "2025-06-18T08:08:21.611955Z",
     "start_time": "2025-06-18T08:08:21.604171Z"
    }
   },
   "source": [
    "a1.dtype"
   ],
   "outputs": [
    {
     "data": {
      "text/plain": [
       "dtype('int64')"
      ]
     },
     "execution_count": 7,
     "metadata": {},
     "output_type": "execute_result"
    }
   ],
   "execution_count": 7
  },
  {
   "cell_type": "code",
   "metadata": {
    "ExecuteTime": {
     "end_time": "2025-06-18T08:08:23.127688Z",
     "start_time": "2025-06-18T08:08:23.119959Z"
    }
   },
   "source": [
    "a2.dtype"
   ],
   "outputs": [
    {
     "data": {
      "text/plain": [
       "dtype('float64')"
      ]
     },
     "execution_count": 8,
     "metadata": {},
     "output_type": "execute_result"
    }
   ],
   "execution_count": 8
  },
  {
   "cell_type": "markdown",
   "metadata": {},
   "source": [
    "As you can see NumPy picked `int64` and `float64` for our two arrays."
   ]
  },
  {
   "cell_type": "markdown",
   "metadata": {},
   "source": [
    "We can actually specify the data type of the elements if we want to - maybe in cases where we know we don't need a full 64-bit integer, or a 64-bit float."
   ]
  },
  {
   "cell_type": "markdown",
   "metadata": {},
   "source": [
    "We have to use the NumPy data types (which remember are basically the underlying C data types):\n",
    "\n",
    "- `np.int8` / `np.uint8`\n",
    "- `np.int16` / `np.uint16`\n",
    "- `np.int32` / `np.uint32`\n",
    "- `np.float32`\n",
    "- `np.float64`\n",
    "- etc"
   ]
  },
  {
   "cell_type": "markdown",
   "metadata": {},
   "source": [
    "In the case of this list, `[1, 2, 3, 4]` we could actually get away with unsigned 8-bit integers:"
   ]
  },
  {
   "cell_type": "code",
   "metadata": {
    "ExecuteTime": {
     "end_time": "2025-06-18T08:08:58.268958Z",
     "start_time": "2025-06-18T08:08:58.263438Z"
    }
   },
   "source": [
    "a = np.array([1, 2, 3, 4], dtype=np.uint8)"
   ],
   "outputs": [],
   "execution_count": 9
  },
  {
   "metadata": {
    "ExecuteTime": {
     "end_time": "2025-06-18T08:09:20.287849Z",
     "start_time": "2025-06-18T08:09:20.280117Z"
    }
   },
   "cell_type": "code",
   "source": "a.dtype",
   "outputs": [
    {
     "data": {
      "text/plain": [
       "dtype('uint8')"
      ]
     },
     "execution_count": 10,
     "metadata": {},
     "output_type": "execute_result"
    }
   ],
   "execution_count": 10
  },
  {
   "cell_type": "markdown",
   "metadata": {},
   "source": [
    "And now our element data type will be unsigned 8-bit integers, which means we are bounded by the range `[0, 255]`."
   ]
  },
  {
   "cell_type": "markdown",
   "metadata": {},
   "source": [
    "Now we have to be a bit careful here - what happens if we use a number outside of that range when we create the array?"
   ]
  },
  {
   "cell_type": "code",
   "metadata": {
    "ExecuteTime": {
     "end_time": "2025-06-18T08:09:28.518226Z",
     "start_time": "2025-06-18T08:09:28.054791Z"
    }
   },
   "source": [
    "a = np.array([1, 2, 3, 300], dtype=np.uint8)"
   ],
   "outputs": [
    {
     "ename": "OverflowError",
     "evalue": "Python integer 300 out of bounds for uint8",
     "output_type": "error",
     "traceback": [
      "\u001B[1;31m---------------------------------------------------------------------------\u001B[0m",
      "\u001B[1;31mOverflowError\u001B[0m                             Traceback (most recent call last)",
      "Cell \u001B[1;32mIn[11], line 1\u001B[0m\n\u001B[1;32m----> 1\u001B[0m a \u001B[38;5;241m=\u001B[39m \u001B[43mnp\u001B[49m\u001B[38;5;241;43m.\u001B[39;49m\u001B[43marray\u001B[49m\u001B[43m(\u001B[49m\u001B[43m[\u001B[49m\u001B[38;5;241;43m1\u001B[39;49m\u001B[43m,\u001B[49m\u001B[43m \u001B[49m\u001B[38;5;241;43m2\u001B[39;49m\u001B[43m,\u001B[49m\u001B[43m \u001B[49m\u001B[38;5;241;43m3\u001B[39;49m\u001B[43m,\u001B[49m\u001B[43m \u001B[49m\u001B[38;5;241;43m300\u001B[39;49m\u001B[43m]\u001B[49m\u001B[43m,\u001B[49m\u001B[43m \u001B[49m\u001B[43mdtype\u001B[49m\u001B[38;5;241;43m=\u001B[39;49m\u001B[43mnp\u001B[49m\u001B[38;5;241;43m.\u001B[39;49m\u001B[43muint8\u001B[49m\u001B[43m)\u001B[49m\n",
      "\u001B[1;31mOverflowError\u001B[0m: Python integer 300 out of bounds for uint8"
     ]
    }
   ],
   "execution_count": 11
  },
  {
   "metadata": {
    "ExecuteTime": {
     "end_time": "2025-06-18T08:10:54.227869Z",
     "start_time": "2025-06-18T08:10:54.220165Z"
    }
   },
   "cell_type": "code",
   "outputs": [
    {
     "data": {
      "text/plain": [
       "array([127], dtype=int8)"
      ]
     },
     "execution_count": 16,
     "metadata": {},
     "output_type": "execute_result"
    }
   ],
   "execution_count": 16,
   "source": "np.array([127], dtype=np.int8)"
  },
  {
   "cell_type": "markdown",
   "metadata": {},
   "source": [
    "So as you can see, these wrap as well.\n",
    "\n",
    "So be careful and make sure you do not use a type that is too restrictive if you opt to specify the type explicitly."
   ]
  },
  {
   "cell_type": "markdown",
   "metadata": {},
   "source": [
    "So, why not always just let NumPy specify the type for us (which was `int64` and `float64`)?"
   ]
  },
  {
   "cell_type": "markdown",
   "metadata": {},
   "source": [
    "Storage efficiency - 64 bits of memory required vs 8 bits. When you have just a few numbers, the difference is trivial - but when you start working with very large datasets, it can make a difference."
   ]
  },
  {
   "cell_type": "markdown",
   "metadata": {},
   "source": [
    "Remember what we saw earlier - NumPy arrays are homogeneous - i.e. all the elements must be of the same type, unlike Python lists."
   ]
  },
  {
   "cell_type": "code",
   "metadata": {
    "ExecuteTime": {
     "end_time": "2025-06-18T08:13:12.504440Z",
     "start_time": "2025-06-18T08:13:12.498173Z"
    }
   },
   "source": [
    "a = np.array([1, 2, 3.14])"
   ],
   "outputs": [],
   "execution_count": 19
  },
  {
   "cell_type": "code",
   "metadata": {
    "ExecuteTime": {
     "end_time": "2025-06-18T08:13:13.196235Z",
     "start_time": "2025-06-18T08:13:13.189676Z"
    }
   },
   "source": [
    "a"
   ],
   "outputs": [
    {
     "data": {
      "text/plain": [
       "array([1.  , 2.  , 3.14])"
      ]
     },
     "execution_count": 20,
     "metadata": {},
     "output_type": "execute_result"
    }
   ],
   "execution_count": 20
  },
  {
   "cell_type": "code",
   "metadata": {
    "ExecuteTime": {
     "end_time": "2025-06-18T08:13:25.214476Z",
     "start_time": "2025-06-18T08:13:25.205934Z"
    }
   },
   "source": [
    "a.dtype"
   ],
   "outputs": [
    {
     "data": {
      "text/plain": [
       "dtype('float64')"
      ]
     },
     "execution_count": 21,
     "metadata": {},
     "output_type": "execute_result"
    }
   ],
   "execution_count": 21
  },
  {
   "cell_type": "markdown",
   "metadata": {},
   "source": [
    "As you can see, NumPy optted for a float type, since one of the numbers in the list was a float."
   ]
  },
  {
   "cell_type": "markdown",
   "metadata": {},
   "source": [
    "We can of course, override this by specifying the type we want, but possibly resulting in some data loss:"
   ]
  },
  {
   "cell_type": "code",
   "metadata": {
    "ExecuteTime": {
     "end_time": "2025-06-18T08:13:49.575253Z",
     "start_time": "2025-06-18T08:13:49.566728Z"
    }
   },
   "source": [
    "np.array([1, 2, 9.9, 9.1], dtype=np.int64)"
   ],
   "outputs": [
    {
     "data": {
      "text/plain": [
       "array([1, 2, 9, 9])"
      ]
     },
     "execution_count": 22,
     "metadata": {},
     "output_type": "execute_result"
    }
   ],
   "execution_count": 22
  },
  {
   "metadata": {
    "ExecuteTime": {
     "end_time": "2025-06-18T08:14:58.019916Z",
     "start_time": "2025-06-18T08:14:58.014868Z"
    }
   },
   "cell_type": "code",
   "source": "a = np.array([1, 3.14, 'x'])",
   "outputs": [],
   "execution_count": 23
  },
  {
   "metadata": {
    "ExecuteTime": {
     "end_time": "2025-06-18T08:15:03.931323Z",
     "start_time": "2025-06-18T08:15:03.925324Z"
    }
   },
   "cell_type": "code",
   "source": "a",
   "outputs": [
    {
     "data": {
      "text/plain": [
       "array(['1', '3.14', 'x'], dtype='<U32')"
      ]
     },
     "execution_count": 24,
     "metadata": {},
     "output_type": "execute_result"
    }
   ],
   "execution_count": 24
  },
  {
   "metadata": {
    "ExecuteTime": {
     "end_time": "2025-06-18T08:15:50.479337Z",
     "start_time": "2025-06-18T08:15:50.458924Z"
    }
   },
   "cell_type": "code",
   "source": "a = np.array([1, 3.14, 'x'], dtype=np.int64)",
   "outputs": [
    {
     "ename": "ValueError",
     "evalue": "invalid literal for int() with base 10: 'x'",
     "output_type": "error",
     "traceback": [
      "\u001B[1;31m---------------------------------------------------------------------------\u001B[0m",
      "\u001B[1;31mValueError\u001B[0m                                Traceback (most recent call last)",
      "Cell \u001B[1;32mIn[25], line 1\u001B[0m\n\u001B[1;32m----> 1\u001B[0m a \u001B[38;5;241m=\u001B[39m \u001B[43mnp\u001B[49m\u001B[38;5;241;43m.\u001B[39;49m\u001B[43marray\u001B[49m\u001B[43m(\u001B[49m\u001B[43m[\u001B[49m\u001B[38;5;241;43m1\u001B[39;49m\u001B[43m,\u001B[49m\u001B[43m \u001B[49m\u001B[38;5;241;43m3.14\u001B[39;49m\u001B[43m,\u001B[49m\u001B[43m \u001B[49m\u001B[38;5;124;43m'\u001B[39;49m\u001B[38;5;124;43mx\u001B[39;49m\u001B[38;5;124;43m'\u001B[39;49m\u001B[43m]\u001B[49m\u001B[43m,\u001B[49m\u001B[43m \u001B[49m\u001B[43mdtype\u001B[49m\u001B[38;5;241;43m=\u001B[39;49m\u001B[43mnp\u001B[49m\u001B[38;5;241;43m.\u001B[39;49m\u001B[43mint64\u001B[49m\u001B[43m)\u001B[49m\n",
      "\u001B[1;31mValueError\u001B[0m: invalid literal for int() with base 10: 'x'"
     ]
    }
   ],
   "execution_count": 25
  },
  {
   "cell_type": "markdown",
   "metadata": {},
   "source": [
    "As you can see, the floats were **truncated**."
   ]
  },
  {
   "cell_type": "markdown",
   "metadata": {},
   "source": [
    "#### Multi-Dimensional Arrays"
   ]
  },
  {
   "cell_type": "markdown",
   "metadata": {},
   "source": [
    "We saw multi dimensional lists in Python before - basically lists that contain other lists.\n",
    "\n",
    "This nesting can occur to any depth, but in this course we'll stick to 2-dimensional arrays (matrices). Higher dimensions work the same way, but are harder to comprehend."
   ]
  },
  {
   "cell_type": "markdown",
   "metadata": {},
   "source": [
    "Let's see a list based version first:"
   ]
  },
  {
   "cell_type": "code",
   "metadata": {
    "ExecuteTime": {
     "end_time": "2025-06-18T08:16:11.536280Z",
     "start_time": "2025-06-18T08:16:11.530926Z"
    }
   },
   "source": [
    "m_py = [\n",
    "    [1, 0, 0],\n",
    "    [0, 1, 0],\n",
    "    [0, 0, 1]\n",
    "]"
   ],
   "outputs": [],
   "execution_count": 26
  },
  {
   "metadata": {
    "ExecuteTime": {
     "end_time": "2025-06-18T08:16:22.219404Z",
     "start_time": "2025-06-18T08:16:22.210312Z"
    }
   },
   "cell_type": "code",
   "source": "m_py",
   "outputs": [
    {
     "data": {
      "text/plain": [
       "[[1, 0, 0], [0, 1, 0], [0, 0, 1]]"
      ]
     },
     "execution_count": 27,
     "metadata": {},
     "output_type": "execute_result"
    }
   ],
   "execution_count": 27
  },
  {
   "cell_type": "markdown",
   "metadata": {},
   "source": [
    "This is a 2-dimensional list - the outer list is a list of elements, each of which is a list.\n",
    "\n",
    "We can think of this in terms of rows and columns - in this case we have three rows, and three columns.\n",
    "\n",
    "We could create a ragged list (where not each row contains the same number of elements), but this won't really work with NumPy arrays where each row has the same number of columns."
   ]
  },
  {
   "cell_type": "markdown",
   "metadata": {},
   "source": [
    "We can transform this Python 2-dimensional list into a 2-dimensional array in the same way as before:"
   ]
  },
  {
   "cell_type": "code",
   "metadata": {
    "ExecuteTime": {
     "end_time": "2025-06-18T08:16:57.593684Z",
     "start_time": "2025-06-18T08:16:57.586737Z"
    }
   },
   "source": [
    "m1 = np.array(m_py, dtype=np.int16)"
   ],
   "outputs": [],
   "execution_count": 28
  },
  {
   "cell_type": "code",
   "metadata": {
    "ExecuteTime": {
     "end_time": "2025-06-18T08:16:58.690759Z",
     "start_time": "2025-06-18T08:16:58.681799Z"
    }
   },
   "source": [
    "m1"
   ],
   "outputs": [
    {
     "data": {
      "text/plain": [
       "array([[1, 0, 0],\n",
       "       [0, 1, 0],\n",
       "       [0, 0, 1]], dtype=int16)"
      ]
     },
     "execution_count": 29,
     "metadata": {},
     "output_type": "execute_result"
    }
   ],
   "execution_count": 29
  },
  {
   "metadata": {
    "ExecuteTime": {
     "end_time": "2025-06-18T08:17:22.494756Z",
     "start_time": "2025-06-18T08:17:22.486253Z"
    }
   },
   "cell_type": "code",
   "source": "m1.dtype",
   "outputs": [
    {
     "data": {
      "text/plain": [
       "dtype('int16')"
      ]
     },
     "execution_count": 30,
     "metadata": {},
     "output_type": "execute_result"
    }
   ],
   "execution_count": 30
  },
  {
   "metadata": {
    "ExecuteTime": {
     "end_time": "2025-06-18T08:17:39.258054Z",
     "start_time": "2025-06-18T08:17:39.251411Z"
    }
   },
   "cell_type": "code",
   "source": "len(m_py)",
   "outputs": [
    {
     "data": {
      "text/plain": [
       "3"
      ]
     },
     "execution_count": 31,
     "metadata": {},
     "output_type": "execute_result"
    }
   ],
   "execution_count": 31
  },
  {
   "cell_type": "markdown",
   "metadata": {},
   "source": [
    "Again, the entire array is homogeneous - so all elements in this case are 16-bit signed integer."
   ]
  },
  {
   "cell_type": "markdown",
   "metadata": {},
   "source": [
    "#### Array Properties"
   ]
  },
  {
   "cell_type": "markdown",
   "metadata": {},
   "source": [
    "These `ndarray` objects have certain properties - we already saw the `dtype` property."
   ]
  },
  {
   "cell_type": "markdown",
   "metadata": {},
   "source": [
    "There is also a property to get the total number of elements in the array:"
   ]
  },
  {
   "cell_type": "code",
   "metadata": {
    "ExecuteTime": {
     "end_time": "2025-06-18T08:18:00.161764Z",
     "start_time": "2025-06-18T08:18:00.155469Z"
    }
   },
   "source": [
    "a = np.array([1, 2, 3])\n",
    "m2 = np.array(\n",
    "    [\n",
    "        [1, 2, 3],\n",
    "        [4, 5, 6],\n",
    "        [7, 8, 9],\n",
    "        [10, 11, 12]\n",
    "    ]\n",
    ")"
   ],
   "outputs": [],
   "execution_count": 32
  },
  {
   "cell_type": "code",
   "metadata": {
    "ExecuteTime": {
     "end_time": "2025-06-18T08:18:07.934298Z",
     "start_time": "2025-06-18T08:18:07.924787Z"
    }
   },
   "source": [
    "a"
   ],
   "outputs": [
    {
     "data": {
      "text/plain": [
       "array([1, 2, 3])"
      ]
     },
     "execution_count": 33,
     "metadata": {},
     "output_type": "execute_result"
    }
   ],
   "execution_count": 33
  },
  {
   "cell_type": "code",
   "metadata": {
    "ExecuteTime": {
     "end_time": "2025-06-18T08:18:10.125122Z",
     "start_time": "2025-06-18T08:18:10.118156Z"
    }
   },
   "source": [
    "m1"
   ],
   "outputs": [
    {
     "data": {
      "text/plain": [
       "array([[1, 0, 0],\n",
       "       [0, 1, 0],\n",
       "       [0, 0, 1]], dtype=int16)"
      ]
     },
     "execution_count": 34,
     "metadata": {},
     "output_type": "execute_result"
    }
   ],
   "execution_count": 34
  },
  {
   "cell_type": "code",
   "metadata": {
    "ExecuteTime": {
     "end_time": "2025-06-18T08:18:13.228253Z",
     "start_time": "2025-06-18T08:18:13.218147Z"
    }
   },
   "source": [
    "m2"
   ],
   "outputs": [
    {
     "data": {
      "text/plain": [
       "array([[ 1,  2,  3],\n",
       "       [ 4,  5,  6],\n",
       "       [ 7,  8,  9],\n",
       "       [10, 11, 12]])"
      ]
     },
     "execution_count": 35,
     "metadata": {},
     "output_type": "execute_result"
    }
   ],
   "execution_count": 35
  },
  {
   "cell_type": "code",
   "metadata": {
    "ExecuteTime": {
     "end_time": "2025-06-18T08:18:14.500064Z",
     "start_time": "2025-06-18T08:18:14.493994Z"
    }
   },
   "source": [
    "a.size"
   ],
   "outputs": [
    {
     "data": {
      "text/plain": [
       "3"
      ]
     },
     "execution_count": 36,
     "metadata": {},
     "output_type": "execute_result"
    }
   ],
   "execution_count": 36
  },
  {
   "cell_type": "code",
   "metadata": {
    "ExecuteTime": {
     "end_time": "2025-06-18T08:18:18.804838Z",
     "start_time": "2025-06-18T08:18:18.797288Z"
    }
   },
   "source": [
    "m1.size"
   ],
   "outputs": [
    {
     "data": {
      "text/plain": [
       "9"
      ]
     },
     "execution_count": 37,
     "metadata": {},
     "output_type": "execute_result"
    }
   ],
   "execution_count": 37
  },
  {
   "cell_type": "code",
   "metadata": {
    "ExecuteTime": {
     "end_time": "2025-06-18T08:18:20.204181Z",
     "start_time": "2025-06-18T08:18:20.197526Z"
    }
   },
   "source": [
    "m2.size"
   ],
   "outputs": [
    {
     "data": {
      "text/plain": [
       "12"
      ]
     },
     "execution_count": 38,
     "metadata": {},
     "output_type": "execute_result"
    }
   ],
   "execution_count": 38
  },
  {
   "cell_type": "markdown",
   "metadata": {},
   "source": [
    "When we look at arrays, they have a certain shape:\n",
    "- `a`: 1 row, 3 columns (can think of it as a row vector)\n",
    "- `m1`: 3 rows, 3 columns\n",
    "- `m2`: 4 rows, 3 columns"
   ]
  },
  {
   "cell_type": "markdown",
   "metadata": {},
   "source": [
    "This is the information that the `shape` property of an `ndarray` can tell us:"
   ]
  },
  {
   "cell_type": "code",
   "metadata": {
    "ExecuteTime": {
     "end_time": "2025-06-18T08:18:39.817206Z",
     "start_time": "2025-06-18T08:18:39.809686Z"
    }
   },
   "source": "a.shape",
   "outputs": [
    {
     "data": {
      "text/plain": [
       "(3,)"
      ]
     },
     "execution_count": 39,
     "metadata": {},
     "output_type": "execute_result"
    }
   ],
   "execution_count": 39
  },
  {
   "cell_type": "code",
   "metadata": {
    "ExecuteTime": {
     "end_time": "2025-06-18T08:18:56.670707Z",
     "start_time": "2025-06-18T08:18:56.662535Z"
    }
   },
   "source": [
    "m1.shape"
   ],
   "outputs": [
    {
     "data": {
      "text/plain": [
       "(3, 3)"
      ]
     },
     "execution_count": 40,
     "metadata": {},
     "output_type": "execute_result"
    }
   ],
   "execution_count": 40
  },
  {
   "cell_type": "code",
   "metadata": {
    "ExecuteTime": {
     "end_time": "2025-06-18T08:19:08.053278Z",
     "start_time": "2025-06-18T08:19:08.046376Z"
    }
   },
   "source": [
    "m2.shape"
   ],
   "outputs": [
    {
     "data": {
      "text/plain": [
       "(4, 3)"
      ]
     },
     "execution_count": 41,
     "metadata": {},
     "output_type": "execute_result"
    }
   ],
   "execution_count": 41
  },
  {
   "cell_type": "markdown",
   "metadata": {},
   "source": [
    "As we can see, `shape` returns a tuple containing as many dimensions as the array has, and tells us the size fo each dimension."
   ]
  },
  {
   "cell_type": "markdown",
   "metadata": {},
   "source": [
    "`a` is a 1-D array, so only 1 element was returned in the shape tuple (and the number would be the number of elements in that dimension), whereas `m1` and `m2` were 2-D arrays, so two numbers in the shape tuple."
   ]
  },
  {
   "cell_type": "markdown",
   "metadata": {},
   "source": [
    "In 2-D arrays, we consider the first dimension to be rows, and the second to be columns - so for a 2-D array, the shape tuple essentially returns `(# rows, #columns)`"
   ]
  }
 ],
 "metadata": {
  "kernelspec": {
   "display_name": "Python 3",
   "language": "python",
   "name": "python3"
  },
  "language_info": {
   "codemirror_mode": {
    "name": "ipython",
    "version": 3
   },
   "file_extension": ".py",
   "mimetype": "text/x-python",
   "name": "python",
   "nbconvert_exporter": "python",
   "pygments_lexer": "ipython3",
   "version": "3.9.1"
  }
 },
 "nbformat": 4,
 "nbformat_minor": 4
}
