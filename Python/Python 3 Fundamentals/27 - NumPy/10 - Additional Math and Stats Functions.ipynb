{
 "cells": [
  {
   "cell_type": "markdown",
   "metadata": {},
   "source": [
    "### Additional Math and Stats Functions"
   ]
  },
  {
   "cell_type": "markdown",
   "metadata": {},
   "source": [
    "Apart from the universal math functions, some of which we saw earlier, NumPy implements many more functions, covering areas such as linear algebra, Fourier transforms, sampling, statistics, etc."
   ]
  },
  {
   "cell_type": "markdown",
   "metadata": {},
   "source": [
    "For a complete list, see this link:\n",
    "\n",
    "https://numpy.org/doc/stable/reference/routines.html"
   ]
  },
  {
   "cell_type": "markdown",
   "metadata": {},
   "source": [
    "NumPy does have a few simple financial related functions (mainly related to interest rate calculations), but these are being deprecated and will eventually be removed from NumPy. (https://numpy.org/neps/nep-0032-remove-financial-functions.html)\n",
    "\n",
    "For a more in-depth financial package, you could look at **QuantLib**, a Python package for more advanced algorithms, including features such as yield curve models, Monte Carlo methods, solvers, and more."
   ]
  },
  {
   "cell_type": "markdown",
   "metadata": {},
   "source": [
    "In this section we'll focus primarily on a few additional math functions and some stats functions."
   ]
  },
  {
   "cell_type": "code",
   "metadata": {
    "ExecuteTime": {
     "end_time": "2025-06-18T16:00:18.619079Z",
     "start_time": "2025-06-18T16:00:18.494140Z"
    }
   },
   "source": [
    "import numpy as np"
   ],
   "outputs": [],
   "execution_count": 1
  },
  {
   "cell_type": "markdown",
   "metadata": {},
   "source": [
    "We can find the max, min of arrays:"
   ]
  },
  {
   "cell_type": "code",
   "metadata": {
    "ExecuteTime": {
     "end_time": "2025-06-18T16:00:18.982953Z",
     "start_time": "2025-06-18T16:00:18.971719Z"
    }
   },
   "source": [
    "np.amin(np.array([10, 5, 20]))"
   ],
   "outputs": [
    {
     "data": {
      "text/plain": [
       "np.int64(5)"
      ]
     },
     "execution_count": 2,
     "metadata": {},
     "output_type": "execute_result"
    }
   ],
   "execution_count": 2
  },
  {
   "cell_type": "code",
   "metadata": {
    "ExecuteTime": {
     "end_time": "2025-06-18T16:00:19.129484Z",
     "start_time": "2025-06-18T16:00:19.121309Z"
    }
   },
   "source": [
    "np.amax(np.array([10, 5, 20]))"
   ],
   "outputs": [
    {
     "data": {
      "text/plain": [
       "np.int64(20)"
      ]
     },
     "execution_count": 3,
     "metadata": {},
     "output_type": "execute_result"
    }
   ],
   "execution_count": 3
  },
  {
   "cell_type": "markdown",
   "metadata": {},
   "source": [
    "We can perform these calculations with 2-D arrays as well:"
   ]
  },
  {
   "cell_type": "code",
   "metadata": {
    "ExecuteTime": {
     "end_time": "2025-06-18T16:00:19.209901Z",
     "start_time": "2025-06-18T16:00:19.203763Z"
    }
   },
   "source": [
    "m = np.array([[10, 2, 3], [4, 50, 6], [7, 8, 90]])\n",
    "m"
   ],
   "outputs": [
    {
     "data": {
      "text/plain": [
       "array([[10,  2,  3],\n",
       "       [ 4, 50,  6],\n",
       "       [ 7,  8, 90]])"
      ]
     },
     "execution_count": 4,
     "metadata": {},
     "output_type": "execute_result"
    }
   ],
   "execution_count": 4
  },
  {
   "cell_type": "code",
   "metadata": {
    "ExecuteTime": {
     "end_time": "2025-06-18T16:00:19.792045Z",
     "start_time": "2025-06-18T16:00:19.778478Z"
    }
   },
   "source": [
    "np.amin(m), np.amax(m)"
   ],
   "outputs": [
    {
     "data": {
      "text/plain": [
       "(np.int64(2), np.int64(90))"
      ]
     },
     "execution_count": 5,
     "metadata": {},
     "output_type": "execute_result"
    }
   ],
   "execution_count": 5
  },
  {
   "cell_type": "markdown",
   "metadata": {},
   "source": [
    "We can also specify a specific axis we want NumPy to do this on:"
   ]
  },
  {
   "cell_type": "code",
   "metadata": {
    "ExecuteTime": {
     "end_time": "2025-06-18T16:00:19.861067Z",
     "start_time": "2025-06-18T16:00:19.854321Z"
    }
   },
   "source": [
    "np.amin(m, axis=0)"
   ],
   "outputs": [
    {
     "data": {
      "text/plain": [
       "array([4, 2, 3])"
      ]
     },
     "execution_count": 6,
     "metadata": {},
     "output_type": "execute_result"
    }
   ],
   "execution_count": 6
  },
  {
   "cell_type": "markdown",
   "metadata": {},
   "source": [
    "As you can see, this returned an array containing the minimum value across all rows (axis `0`) for each column."
   ]
  },
  {
   "cell_type": "markdown",
   "metadata": {},
   "source": [
    "Alternatively, we can set our axis to `1`, which means we'll get the minimum for each row across all columns:"
   ]
  },
  {
   "cell_type": "code",
   "metadata": {
    "ExecuteTime": {
     "end_time": "2025-06-18T16:00:19.984555Z",
     "start_time": "2025-06-18T16:00:19.978688Z"
    }
   },
   "source": [
    "np.amin(m, axis=1)"
   ],
   "outputs": [
    {
     "data": {
      "text/plain": [
       "array([2, 4, 7])"
      ]
     },
     "execution_count": 7,
     "metadata": {},
     "output_type": "execute_result"
    }
   ],
   "execution_count": 7
  },
  {
   "cell_type": "markdown",
   "metadata": {},
   "source": [
    "Other standard stats functions include things like median, mean, standard deviation:"
   ]
  },
  {
   "cell_type": "code",
   "metadata": {
    "ExecuteTime": {
     "end_time": "2025-06-18T16:00:20.073792Z",
     "start_time": "2025-06-18T16:00:20.052516Z"
    }
   },
   "source": [
    "np.median(np.array([1, 2, 3, 4, 5]))"
   ],
   "outputs": [
    {
     "data": {
      "text/plain": [
       "np.float64(3.0)"
      ]
     },
     "execution_count": 8,
     "metadata": {},
     "output_type": "execute_result"
    }
   ],
   "execution_count": 8
  },
  {
   "cell_type": "code",
   "metadata": {
    "ExecuteTime": {
     "end_time": "2025-06-18T16:00:20.105368Z",
     "start_time": "2025-06-18T16:00:20.096623Z"
    }
   },
   "source": [
    "np.median(np.array([1, 2, 3, 4, 5, 6]))"
   ],
   "outputs": [
    {
     "data": {
      "text/plain": [
       "np.float64(3.5)"
      ]
     },
     "execution_count": 9,
     "metadata": {},
     "output_type": "execute_result"
    }
   ],
   "execution_count": 9
  },
  {
   "cell_type": "markdown",
   "metadata": {},
   "source": [
    "For means, we can use the `mean` function (and you can do weighted averages too, using `average`):"
   ]
  },
  {
   "cell_type": "code",
   "metadata": {
    "ExecuteTime": {
     "end_time": "2025-06-18T16:00:20.158410Z",
     "start_time": "2025-06-18T16:00:20.150822Z"
    }
   },
   "source": [
    "np.mean(np.array([1, 2, 3]))"
   ],
   "outputs": [
    {
     "data": {
      "text/plain": [
       "np.float64(2.0)"
      ]
     },
     "execution_count": 10,
     "metadata": {},
     "output_type": "execute_result"
    }
   ],
   "execution_count": 10
  },
  {
   "cell_type": "markdown",
   "metadata": {},
   "source": [
    "Standard deviations can be calculated using the `std` function:"
   ]
  },
  {
   "cell_type": "code",
   "metadata": {
    "ExecuteTime": {
     "end_time": "2025-06-18T16:00:20.264586Z",
     "start_time": "2025-06-18T16:00:20.247562Z"
    }
   },
   "source": [
    "np.std(np.array([-2, -1, 0, 1, 2]))"
   ],
   "outputs": [
    {
     "data": {
      "text/plain": [
       "np.float64(1.4142135623730951)"
      ]
     },
     "execution_count": 11,
     "metadata": {},
     "output_type": "execute_result"
    }
   ],
   "execution_count": 11
  },
  {
   "cell_type": "markdown",
   "metadata": {},
   "source": [
    "Of course these functions work on multi-dimensional arrays as well, we just need to specify the axis we are calculating the median, mean, etc over."
   ]
  },
  {
   "cell_type": "code",
   "metadata": {
    "ExecuteTime": {
     "end_time": "2025-06-18T16:00:20.327279Z",
     "start_time": "2025-06-18T16:00:20.321716Z"
    }
   },
   "source": [
    "m = np.array(\n",
    "    [\n",
    "        [1, 10, 100],\n",
    "        [2, 20, 200],\n",
    "        [3, 30, 300],\n",
    "        [3, 30, 300],\n",
    "        [4, 40, 400]\n",
    "    ]\n",
    ")"
   ],
   "outputs": [],
   "execution_count": 12
  },
  {
   "cell_type": "markdown",
   "metadata": {},
   "source": [
    "To calculate the mean or median for each column, we set our traversal axis to rows (`0`):"
   ]
  },
  {
   "cell_type": "code",
   "metadata": {
    "ExecuteTime": {
     "end_time": "2025-06-18T16:00:20.377005Z",
     "start_time": "2025-06-18T16:00:20.370533Z"
    }
   },
   "source": [
    "np.mean(m, axis=0)"
   ],
   "outputs": [
    {
     "data": {
      "text/plain": [
       "array([  2.6,  26. , 260. ])"
      ]
     },
     "execution_count": 13,
     "metadata": {},
     "output_type": "execute_result"
    }
   ],
   "execution_count": 13
  },
  {
   "cell_type": "code",
   "metadata": {
    "ExecuteTime": {
     "end_time": "2025-06-18T16:00:20.433062Z",
     "start_time": "2025-06-18T16:00:20.426349Z"
    }
   },
   "source": [
    "np.median(m, axis=0)"
   ],
   "outputs": [
    {
     "data": {
      "text/plain": [
       "array([  3.,  30., 300.])"
      ]
     },
     "execution_count": 14,
     "metadata": {},
     "output_type": "execute_result"
    }
   ],
   "execution_count": 14
  },
  {
   "cell_type": "markdown",
   "metadata": {},
   "source": [
    "And to calculate the mean or median for each row, we need to traverse the columns, so we set the axis to `1`:"
   ]
  },
  {
   "cell_type": "code",
   "metadata": {
    "ExecuteTime": {
     "end_time": "2025-06-18T16:00:20.508253Z",
     "start_time": "2025-06-18T16:00:20.501034Z"
    }
   },
   "source": [
    "np.mean(m, axis=1)"
   ],
   "outputs": [
    {
     "data": {
      "text/plain": [
       "array([ 37.,  74., 111., 111., 148.])"
      ]
     },
     "execution_count": 15,
     "metadata": {},
     "output_type": "execute_result"
    }
   ],
   "execution_count": 15
  },
  {
   "cell_type": "code",
   "metadata": {
    "ExecuteTime": {
     "end_time": "2025-06-18T16:00:20.580186Z",
     "start_time": "2025-06-18T16:00:20.573291Z"
    }
   },
   "source": [
    "np.median(m, axis=1)"
   ],
   "outputs": [
    {
     "data": {
      "text/plain": [
       "array([10., 20., 30., 30., 40.])"
      ]
     },
     "execution_count": 16,
     "metadata": {},
     "output_type": "execute_result"
    }
   ],
   "execution_count": 16
  },
  {
   "cell_type": "markdown",
   "metadata": {},
   "source": [
    "We also have functions for finding the sum all elements along some axis."
   ]
  },
  {
   "cell_type": "code",
   "metadata": {
    "ExecuteTime": {
     "end_time": "2025-06-18T16:00:20.641487Z",
     "start_time": "2025-06-18T16:00:20.634176Z"
    }
   },
   "source": [
    "np.sum(np.arange(1, 10))"
   ],
   "outputs": [
    {
     "data": {
      "text/plain": [
       "np.int64(45)"
      ]
     },
     "execution_count": 17,
     "metadata": {},
     "output_type": "execute_result"
    }
   ],
   "execution_count": 17
  },
  {
   "cell_type": "markdown",
   "metadata": {},
   "source": [
    "It will even sum up every element of a multi-dimensional array as we saw in the last coding video."
   ]
  },
  {
   "cell_type": "code",
   "metadata": {
    "ExecuteTime": {
     "end_time": "2025-06-18T16:00:20.716195Z",
     "start_time": "2025-06-18T16:00:20.709175Z"
    }
   },
   "source": [
    "m = np.arange(1, 10).reshape(3, 3)\n",
    "m"
   ],
   "outputs": [
    {
     "data": {
      "text/plain": [
       "array([[1, 2, 3],\n",
       "       [4, 5, 6],\n",
       "       [7, 8, 9]])"
      ]
     },
     "execution_count": 18,
     "metadata": {},
     "output_type": "execute_result"
    }
   ],
   "execution_count": 18
  },
  {
   "cell_type": "code",
   "metadata": {
    "ExecuteTime": {
     "end_time": "2025-06-18T16:00:20.809084Z",
     "start_time": "2025-06-18T16:00:20.801612Z"
    }
   },
   "source": [
    "np.sum(m)"
   ],
   "outputs": [
    {
     "data": {
      "text/plain": [
       "np.int64(45)"
      ]
     },
     "execution_count": 19,
     "metadata": {},
     "output_type": "execute_result"
    }
   ],
   "execution_count": 19
  },
  {
   "cell_type": "markdown",
   "metadata": {},
   "source": [
    "But, we can be more specific with a higher dimensional array and by specifying the axis we want to sum along:"
   ]
  },
  {
   "cell_type": "code",
   "metadata": {
    "ExecuteTime": {
     "end_time": "2025-06-18T16:00:20.951756Z",
     "start_time": "2025-06-18T16:00:20.944689Z"
    }
   },
   "source": [
    "np.sum(m, axis=0)"
   ],
   "outputs": [
    {
     "data": {
      "text/plain": [
       "array([12, 15, 18])"
      ]
     },
     "execution_count": 20,
     "metadata": {},
     "output_type": "execute_result"
    }
   ],
   "execution_count": 20
  },
  {
   "cell_type": "code",
   "metadata": {
    "ExecuteTime": {
     "end_time": "2025-06-18T16:00:21.076853Z",
     "start_time": "2025-06-18T16:00:21.070928Z"
    }
   },
   "source": [
    "np.sum(m, axis=1)"
   ],
   "outputs": [
    {
     "data": {
      "text/plain": [
       "array([ 6, 15, 24])"
      ]
     },
     "execution_count": 21,
     "metadata": {},
     "output_type": "execute_result"
    }
   ],
   "execution_count": 21
  },
  {
   "cell_type": "markdown",
   "metadata": {},
   "source": [
    "NumPy also implements some rounding functions, such as the `around` function:"
   ]
  },
  {
   "cell_type": "code",
   "metadata": {
    "ExecuteTime": {
     "end_time": "2025-06-18T16:00:21.166527Z",
     "start_time": "2025-06-18T16:00:21.156040Z"
    }
   },
   "source": [
    "arr = np.array([1.11, 2.22, 5.55, 6.66])\n",
    "arr"
   ],
   "outputs": [
    {
     "data": {
      "text/plain": [
       "array([1.11, 2.22, 5.55, 6.66])"
      ]
     },
     "execution_count": 22,
     "metadata": {},
     "output_type": "execute_result"
    }
   ],
   "execution_count": 22
  },
  {
   "cell_type": "code",
   "metadata": {
    "ExecuteTime": {
     "end_time": "2025-06-18T16:00:21.258703Z",
     "start_time": "2025-06-18T16:00:21.250740Z"
    }
   },
   "source": [
    "np.around(arr, 1)"
   ],
   "outputs": [
    {
     "data": {
      "text/plain": [
       "array([1.1, 2.2, 5.6, 6.7])"
      ]
     },
     "execution_count": 23,
     "metadata": {},
     "output_type": "execute_result"
    }
   ],
   "execution_count": 23
  },
  {
   "cell_type": "code",
   "metadata": {
    "ExecuteTime": {
     "end_time": "2025-06-18T16:00:21.328754Z",
     "start_time": "2025-06-18T16:00:21.322758Z"
    }
   },
   "source": [
    "np.around(arr)"
   ],
   "outputs": [
    {
     "data": {
      "text/plain": [
       "array([1., 2., 6., 7.])"
      ]
     },
     "execution_count": 24,
     "metadata": {},
     "output_type": "execute_result"
    }
   ],
   "execution_count": 24
  },
  {
   "cell_type": "markdown",
   "metadata": {},
   "source": [
    "Another very handy function is the `histogram` function, which can calculate a frequency distribution of values in an array, using specified bins."
   ]
  },
  {
   "cell_type": "code",
   "metadata": {
    "ExecuteTime": {
     "end_time": "2025-06-18T16:00:21.395738Z",
     "start_time": "2025-06-18T16:00:21.388410Z"
    }
   },
   "source": [
    "np.random.seed(0)\n",
    "arr = np.random.randint(1, 10, 20)\n",
    "arr"
   ],
   "outputs": [
    {
     "data": {
      "text/plain": [
       "array([6, 1, 4, 4, 8, 4, 6, 3, 5, 8, 7, 9, 9, 2, 7, 8, 8, 9, 2, 6],\n",
       "      dtype=int32)"
      ]
     },
     "execution_count": 25,
     "metadata": {},
     "output_type": "execute_result"
    }
   ],
   "execution_count": 25
  },
  {
   "cell_type": "markdown",
   "metadata": {},
   "source": [
    "We want to calculate a frequency distribution of numbers binned as follows:\n",
    "\n",
    "```\n",
    "[0, 2) [2, 4) [4, 6) [6, 8) [8, 9]\n",
    "```"
   ]
  },
  {
   "cell_type": "markdown",
   "metadata": {},
   "source": [
    "So our bin edges are: `0`, `2`, `4`, `6`, `8` as well as the (inclusive) rightnmost edge `9`."
   ]
  },
  {
   "cell_type": "code",
   "metadata": {
    "ExecuteTime": {
     "end_time": "2025-06-18T16:00:21.483438Z",
     "start_time": "2025-06-18T16:00:21.467909Z"
    }
   },
   "source": [
    "np.histogram(arr, bins=np.array([0, 2, 4, 6, 8, 9]))"
   ],
   "outputs": [
    {
     "data": {
      "text/plain": [
       "(array([1, 3, 4, 5, 7]), array([0, 2, 4, 6, 8, 9]))"
      ]
     },
     "execution_count": 26,
     "metadata": {},
     "output_type": "execute_result"
    }
   ],
   "execution_count": 26
  },
  {
   "cell_type": "markdown",
   "metadata": {},
   "source": [
    "We could also just specify a number of bins we want, and let NumPy work out the edges of uniformly wide bins based on the min/max in our array:"
   ]
  },
  {
   "cell_type": "code",
   "metadata": {
    "ExecuteTime": {
     "end_time": "2025-06-18T16:00:21.526507Z",
     "start_time": "2025-06-18T16:00:21.518076Z"
    }
   },
   "source": [
    "np.histogram(arr, bins=4)"
   ],
   "outputs": [
    {
     "data": {
      "text/plain": [
       "(array([3, 4, 4, 9]), array([1., 3., 5., 7., 9.]))"
      ]
     },
     "execution_count": 27,
     "metadata": {},
     "output_type": "execute_result"
    }
   ],
   "execution_count": 27
  },
  {
   "cell_type": "markdown",
   "metadata": {},
   "source": [
    "#### Example"
   ]
  },
  {
   "cell_type": "markdown",
   "metadata": {},
   "source": [
    "Let's go back to an example we did a while back that involved calculating the frequency distribution of some random data when we were studying random numbers."
   ]
  },
  {
   "cell_type": "markdown",
   "metadata": {},
   "source": [
    "This function was used to calculate the frequency distribution for integer values:"
   ]
  },
  {
   "cell_type": "code",
   "metadata": {
    "ExecuteTime": {
     "end_time": "2025-06-18T16:00:21.584036Z",
     "start_time": "2025-06-18T16:00:21.579147Z"
    }
   },
   "source": [
    "def freq_distribution(data):\n",
    "    freq = {}\n",
    "    for el in data:\n",
    "        freq[el] = freq.get(el, 0) + 1\n",
    "    return freq"
   ],
   "outputs": [],
   "execution_count": 28
  },
  {
   "cell_type": "code",
   "metadata": {
    "ExecuteTime": {
     "end_time": "2025-06-18T16:00:21.625381Z",
     "start_time": "2025-06-18T16:00:21.620446Z"
    }
   },
   "source": [
    "data = [1, 1, 1, 2, 2, 3]"
   ],
   "outputs": [],
   "execution_count": 29
  },
  {
   "cell_type": "code",
   "metadata": {
    "ExecuteTime": {
     "end_time": "2025-06-18T16:00:21.662241Z",
     "start_time": "2025-06-18T16:00:21.654576Z"
    }
   },
   "source": [
    "freq_d = freq_distribution(data)\n",
    "freq_d"
   ],
   "outputs": [
    {
     "data": {
      "text/plain": [
       "{1: 3, 2: 2, 3: 1}"
      ]
     },
     "execution_count": 30,
     "metadata": {},
     "output_type": "execute_result"
    }
   ],
   "execution_count": 30
  },
  {
   "cell_type": "markdown",
   "metadata": {},
   "source": [
    "Then we calculate the relative frequencies:"
   ]
  },
  {
   "cell_type": "code",
   "metadata": {
    "ExecuteTime": {
     "end_time": "2025-06-18T16:00:21.724702Z",
     "start_time": "2025-06-18T16:00:21.717735Z"
    }
   },
   "source": [
    "def relative_freq(freq_dist):\n",
    "    sum_freq = sum(freq_dist.values())\n",
    "    return {\n",
    "        k: v / sum_freq * 100 for k, v in freq_dist.items()\n",
    "    }"
   ],
   "outputs": [],
   "execution_count": 31
  },
  {
   "cell_type": "code",
   "metadata": {
    "ExecuteTime": {
     "end_time": "2025-06-18T16:00:21.760622Z",
     "start_time": "2025-06-18T16:00:21.753878Z"
    }
   },
   "source": [
    "relative_f = relative_freq(freq_d)\n",
    "relative_f"
   ],
   "outputs": [
    {
     "data": {
      "text/plain": [
       "{1: 50.0, 2: 33.33333333333333, 3: 16.666666666666664}"
      ]
     },
     "execution_count": 32,
     "metadata": {},
     "output_type": "execute_result"
    }
   ],
   "execution_count": 32
  },
  {
   "cell_type": "markdown",
   "metadata": {},
   "source": [
    "Then we sorted and transformed this data into a list of tuples for the number and the frequency:"
   ]
  },
  {
   "cell_type": "code",
   "metadata": {
    "ExecuteTime": {
     "end_time": "2025-06-18T16:00:21.800626Z",
     "start_time": "2025-06-18T16:00:21.793763Z"
    }
   },
   "source": [
    "sorted_items = sorted(relative_f.items(), key=lambda x: x[0])\n",
    "sorted_items"
   ],
   "outputs": [
    {
     "data": {
      "text/plain": [
       "[(1, 50.0), (2, 33.33333333333333), (3, 16.666666666666664)]"
      ]
     },
     "execution_count": 33,
     "metadata": {},
     "output_type": "execute_result"
    }
   ],
   "execution_count": 33
  },
  {
   "cell_type": "markdown",
   "metadata": {},
   "source": [
    "And then we did some rough charting for this data:"
   ]
  },
  {
   "cell_type": "code",
   "metadata": {
    "ExecuteTime": {
     "end_time": "2025-06-18T16:00:21.859826Z",
     "start_time": "2025-06-18T16:00:21.852005Z"
    }
   },
   "source": [
    "def chart_freq(data):\n",
    "    pad = max([len(str(el[0])) for el in data])\n",
    "    for k, v in data:\n",
    "        print(f\"{str(k).rjust(pad)}| {'*' * round(v)}\")"
   ],
   "outputs": [],
   "execution_count": 34
  },
  {
   "cell_type": "code",
   "metadata": {
    "ExecuteTime": {
     "end_time": "2025-06-18T16:00:21.895734Z",
     "start_time": "2025-06-18T16:00:21.889805Z"
    }
   },
   "source": [
    "chart_freq(sorted_items)"
   ],
   "outputs": [
    {
     "name": "stdout",
     "output_type": "stream",
     "text": [
      "1| **************************************************\n",
      "2| *********************************\n",
      "3| *****************\n"
     ]
    }
   ],
   "execution_count": 35
  },
  {
   "cell_type": "markdown",
   "metadata": {},
   "source": [
    "Now let's do something similar, but using NumPy."
   ]
  },
  {
   "cell_type": "code",
   "metadata": {
    "ExecuteTime": {
     "end_time": "2025-06-18T16:00:21.947612Z",
     "start_time": "2025-06-18T16:00:21.940918Z"
    }
   },
   "source": [
    "data"
   ],
   "outputs": [
    {
     "data": {
      "text/plain": [
       "[1, 1, 1, 2, 2, 3]"
      ]
     },
     "execution_count": 36,
     "metadata": {},
     "output_type": "execute_result"
    }
   ],
   "execution_count": 36
  },
  {
   "cell_type": "code",
   "metadata": {
    "ExecuteTime": {
     "end_time": "2025-06-18T16:00:21.994954Z",
     "start_time": "2025-06-18T16:00:21.987898Z"
    }
   },
   "source": [
    "arr = np.array(data, dtype=int)\n",
    "arr"
   ],
   "outputs": [
    {
     "data": {
      "text/plain": [
       "array([1, 1, 1, 2, 2, 3])"
      ]
     },
     "execution_count": 37,
     "metadata": {},
     "output_type": "execute_result"
    }
   ],
   "execution_count": 37
  },
  {
   "cell_type": "code",
   "metadata": {
    "ExecuteTime": {
     "end_time": "2025-06-18T16:00:22.061545Z",
     "start_time": "2025-06-18T16:00:22.052969Z"
    }
   },
   "source": [
    "freq, bins = np.histogram(arr, bins=[1, 2, 3, 3])"
   ],
   "outputs": [],
   "execution_count": 38
  },
  {
   "cell_type": "code",
   "metadata": {
    "ExecuteTime": {
     "end_time": "2025-06-18T16:00:22.108523Z",
     "start_time": "2025-06-18T16:00:22.100733Z"
    }
   },
   "source": [
    "freq"
   ],
   "outputs": [
    {
     "data": {
      "text/plain": [
       "array([3, 2, 1])"
      ]
     },
     "execution_count": 39,
     "metadata": {},
     "output_type": "execute_result"
    }
   ],
   "execution_count": 39
  },
  {
   "cell_type": "code",
   "metadata": {
    "ExecuteTime": {
     "end_time": "2025-06-18T16:00:22.165289Z",
     "start_time": "2025-06-18T16:00:22.157434Z"
    }
   },
   "source": [
    "bins"
   ],
   "outputs": [
    {
     "data": {
      "text/plain": [
       "array([1, 2, 3, 3])"
      ]
     },
     "execution_count": 40,
     "metadata": {},
     "output_type": "execute_result"
    }
   ],
   "execution_count": 40
  },
  {
   "cell_type": "markdown",
   "metadata": {},
   "source": [
    "What we really want is not the absolute frequencies in `freq`, but the relative frequencies, i.e. we need to calculate, for each element of `freq` the value:\n",
    "\n",
    "```\n",
    "el / sum(frequencies) * 100\n",
    "```"
   ]
  },
  {
   "cell_type": "markdown",
   "metadata": {},
   "source": [
    "We have already seen all the functions we need to do this, so let's go ahead and make the calculations:"
   ]
  },
  {
   "cell_type": "code",
   "metadata": {
    "ExecuteTime": {
     "end_time": "2025-06-18T16:00:22.216782Z",
     "start_time": "2025-06-18T16:00:22.209534Z"
    }
   },
   "source": [
    "freq"
   ],
   "outputs": [
    {
     "data": {
      "text/plain": [
       "array([3, 2, 1])"
      ]
     },
     "execution_count": 41,
     "metadata": {},
     "output_type": "execute_result"
    }
   ],
   "execution_count": 41
  },
  {
   "cell_type": "code",
   "metadata": {
    "ExecuteTime": {
     "end_time": "2025-06-18T16:00:22.292914Z",
     "start_time": "2025-06-18T16:00:22.286560Z"
    }
   },
   "source": [
    "rel = freq / np.sum(freq) * 100\n",
    "rel"
   ],
   "outputs": [
    {
     "data": {
      "text/plain": [
       "array([50.        , 33.33333333, 16.66666667])"
      ]
     },
     "execution_count": 42,
     "metadata": {},
     "output_type": "execute_result"
    }
   ],
   "execution_count": 42
  },
  {
   "cell_type": "code",
   "metadata": {
    "ExecuteTime": {
     "end_time": "2025-06-18T16:00:22.337152Z",
     "start_time": "2025-06-18T16:00:22.326037Z"
    }
   },
   "source": [
    "bins"
   ],
   "outputs": [
    {
     "data": {
      "text/plain": [
       "array([1, 2, 3, 3])"
      ]
     },
     "execution_count": 43,
     "metadata": {},
     "output_type": "execute_result"
    }
   ],
   "execution_count": 43
  },
  {
   "cell_type": "markdown",
   "metadata": {},
   "source": [
    "Finally, our rough charting function expects a list of tuples, so we get that easily by zipping up lists of the two arrays (and it is important to use the `tolist` method since it will not only create Python `list` objects, but also convert the NumPy C types to the proper Python equivalents):"
   ]
  },
  {
   "cell_type": "code",
   "metadata": {
    "ExecuteTime": {
     "end_time": "2025-06-18T16:00:22.404553Z",
     "start_time": "2025-06-18T16:00:22.398883Z"
    }
   },
   "source": [
    "data = list(zip(bins.tolist(), rel.tolist()))\n",
    "data"
   ],
   "outputs": [
    {
     "data": {
      "text/plain": [
       "[(1, 50.0), (2, 33.33333333333333), (3, 16.666666666666664)]"
      ]
     },
     "execution_count": 44,
     "metadata": {},
     "output_type": "execute_result"
    }
   ],
   "execution_count": 44
  },
  {
   "cell_type": "markdown",
   "metadata": {},
   "source": [
    "Note that we did not even have to zip `bins[:-1]` to omit the rightmost bin edge, since `zip` will stop at the shortest iterable, which is `rel`."
   ]
  },
  {
   "cell_type": "markdown",
   "metadata": {},
   "source": [
    "And now we can chart this data:"
   ]
  },
  {
   "cell_type": "code",
   "metadata": {
    "ExecuteTime": {
     "end_time": "2025-06-18T16:00:22.464480Z",
     "start_time": "2025-06-18T16:00:22.458901Z"
    }
   },
   "source": [
    "chart_freq(data)"
   ],
   "outputs": [
    {
     "name": "stdout",
     "output_type": "stream",
     "text": [
      "1| **************************************************\n",
      "2| *********************************\n",
      "3| *****************\n"
     ]
    }
   ],
   "execution_count": 45
  },
  {
   "cell_type": "markdown",
   "metadata": {},
   "source": [
    "Let's put this together, starting with what we had done with the Python version earlier:"
   ]
  },
  {
   "cell_type": "code",
   "metadata": {
    "ExecuteTime": {
     "end_time": "2025-06-18T16:00:22.528074Z",
     "start_time": "2025-06-18T16:00:22.520611Z"
    }
   },
   "source": [
    "import random \n",
    "\n",
    "def freq_distribution(data):\n",
    "    freq = {}\n",
    "    for el in data:\n",
    "        freq[el] = freq.get(el, 0) + 1\n",
    "    return freq\n",
    "\n",
    "def relative_freq(freq_dist):\n",
    "    sum_freq = sum(freq_dist.values())\n",
    "    return {\n",
    "        k: v / sum_freq * 100 for k, v in freq_dist.items()\n",
    "    }\n",
    "\n",
    "def chart_freq(data):\n",
    "    pad = max([len(str(el[0])) for el in data])\n",
    "    for k, v in data:\n",
    "        print(f\"{str(k).rjust(pad)}| {'*' * round(v)}\")\n",
    "        \n",
    "def analyze_randint(n, a, b):\n",
    "    data = [random.randint(a, b) for _ in range(n)]\n",
    "    \n",
    "    freq = freq_distribution(data)\n",
    "    rel = relative_freq(freq)\n",
    "    \n",
    "    sorted_items = sorted(rel.items(), key=lambda x: x[0])\n",
    "    chart_freq(sorted_items)"
   ],
   "outputs": [],
   "execution_count": 46
  },
  {
   "cell_type": "code",
   "metadata": {
    "ExecuteTime": {
     "end_time": "2025-06-18T16:00:22.562633Z",
     "start_time": "2025-06-18T16:00:22.550582Z"
    }
   },
   "source": [
    "random.seed(0)\n",
    "\n",
    "analyze_randint(10_000, 1, 10)"
   ],
   "outputs": [
    {
     "name": "stdout",
     "output_type": "stream",
     "text": [
      " 1| **********\n",
      " 2| **********\n",
      " 3| **********\n",
      " 4| **********\n",
      " 5| **********\n",
      " 6| **********\n",
      " 7| **********\n",
      " 8| **********\n",
      " 9| *********\n",
      "10| **********\n"
     ]
    }
   ],
   "execution_count": 47
  },
  {
   "cell_type": "markdown",
   "metadata": {},
   "source": [
    "Now, let's do the same with NumPy:"
   ]
  },
  {
   "cell_type": "code",
   "metadata": {
    "ExecuteTime": {
     "end_time": "2025-06-18T16:00:22.594319Z",
     "start_time": "2025-06-18T16:00:22.587515Z"
    }
   },
   "source": [
    "def np_analyze_randint(n, a, b):\n",
    "    data = np.random.randint(a, b + 1, n)\n",
    "    bins = np.arange(a, b + 2)\n",
    "    freq, _ = np.histogram(data, bins=bins)\n",
    "    rel = freq / np.sum(freq) * 100\n",
    "\n",
    "    sorted_items = list(zip(bins.tolist(), rel.tolist()))\n",
    "    print(sorted_items)\n",
    "    chart_freq(sorted_items)"
   ],
   "outputs": [],
   "execution_count": 48
  },
  {
   "cell_type": "code",
   "metadata": {
    "ExecuteTime": {
     "end_time": "2025-06-18T16:00:22.629024Z",
     "start_time": "2025-06-18T16:00:22.622148Z"
    }
   },
   "source": [
    "np.random.seed(0)\n",
    "np_analyze_randint(10_000, 1, 10)"
   ],
   "outputs": [
    {
     "name": "stdout",
     "output_type": "stream",
     "text": [
      "[(1, 9.67), (2, 10.32), (3, 9.66), (4, 10.100000000000001), (5, 9.629999999999999), (6, 10.17), (7, 9.84), (8, 9.69), (9, 10.489999999999998), (10, 10.43)]\n",
      " 1| **********\n",
      " 2| **********\n",
      " 3| **********\n",
      " 4| **********\n",
      " 5| **********\n",
      " 6| **********\n",
      " 7| **********\n",
      " 8| **********\n",
      " 9| **********\n",
      "10| **********\n"
     ]
    }
   ],
   "execution_count": 49
  },
  {
   "cell_type": "markdown",
   "metadata": {},
   "source": [
    "As you can see, the code to do these manipulations was a lot more concise in NumPy.\n",
    "\n",
    "There's actually a few improvements we can easily make - note how the relative frequency values are rounded inside the charting function - we would be better off rounding using NumPy (with vectorization) - that should be more efficient than using Python's rounding in a loop.\n",
    "\n",
    "Furthermore, why are we taking our arrays, transforming them to lists, zipping them up, and then passing to the charting function - let's use NumPy arrays instead."
   ]
  },
  {
   "cell_type": "markdown",
   "metadata": {},
   "source": [
    "Let's refactor a bit:"
   ]
  },
  {
   "cell_type": "code",
   "metadata": {
    "ExecuteTime": {
     "end_time": "2025-06-18T16:00:22.672481Z",
     "start_time": "2025-06-18T16:00:22.662697Z"
    }
   },
   "source": [
    "def np_chart_freq(keys, values):\n",
    "    pad = max(len(key) for key in keys)\n",
    "    for k, v in zip(keys, values):\n",
    "        print(f\"{k.rjust(pad)}| {'*' * v}\")\n",
    "        \n",
    "def np_analyze_randint(n, a, b):\n",
    "    data = np.random.randint(a, b + 1, n)\n",
    "    bins = np.arange(a, b + 2)\n",
    "    freq, _ = np.histogram(data, bins=bins)\n",
    "    rel = np.around(freq / np.sum(freq) * 100)\n",
    "\n",
    "    np_chart_freq(bins[:-1].astype(str), rel.astype(int))"
   ],
   "outputs": [],
   "execution_count": 50
  },
  {
   "cell_type": "code",
   "metadata": {
    "ExecuteTime": {
     "end_time": "2025-06-18T16:00:22.705307Z",
     "start_time": "2025-06-18T16:00:22.700552Z"
    }
   },
   "source": [
    "np.random.seed(0)\n",
    "np_analyze_randint(10, 1, 5)"
   ],
   "outputs": [
    {
     "name": "stdout",
     "output_type": "stream",
     "text": [
      "1| ********************\n",
      "2| **********\n",
      "3| **********\n",
      "4| ****************************************\n",
      "5| ********************\n"
     ]
    }
   ],
   "execution_count": 51
  },
  {
   "cell_type": "markdown",
   "metadata": {},
   "source": [
    "Note: we can actually also vectorize the `len` function we used to calculate the padding - but this requires a bit more advanced concepts we are not going to cover in this course - here, I'll just show you how to do it, given that this example is quite simple:"
   ]
  },
  {
   "cell_type": "code",
   "metadata": {
    "ExecuteTime": {
     "end_time": "2025-06-18T16:00:22.755041Z",
     "start_time": "2025-06-18T16:00:22.747766Z"
    }
   },
   "source": [
    "def np_chart_freq(keys, values):\n",
    "    np_len = np.vectorize(len)\n",
    "    pad = np.amax(np_len(keys))\n",
    "    for k, v in zip(keys, values):\n",
    "        print(f\"{k.rjust(pad)}| {'*' * v}\")\n",
    "        \n",
    "def np_analyze_randint(n, a, b):\n",
    "    data = np.random.randint(a, b + 1, n)\n",
    "    bins = np.arange(a, b + 2)\n",
    "    freq, _ = np.histogram(data, bins=bins)\n",
    "    rel = np.around(freq / np.sum(freq) * 100)\n",
    "\n",
    "    np_chart_freq(bins[:-1].astype(str), rel.astype(int))"
   ],
   "outputs": [],
   "execution_count": 52
  },
  {
   "cell_type": "code",
   "metadata": {
    "ExecuteTime": {
     "end_time": "2025-06-18T16:00:22.789922Z",
     "start_time": "2025-06-18T16:00:22.784790Z"
    }
   },
   "source": [
    "np.random.seed(0)\n",
    "np_analyze_randint(10, 1, 5)"
   ],
   "outputs": [
    {
     "name": "stdout",
     "output_type": "stream",
     "text": [
      "1| ********************\n",
      "2| **********\n",
      "3| **********\n",
      "4| ****************************************\n",
      "5| ********************\n"
     ]
    }
   ],
   "execution_count": 53
  },
  {
   "cell_type": "code",
   "metadata": {
    "ExecuteTime": {
     "end_time": "2025-06-18T16:00:22.838400Z",
     "start_time": "2025-06-18T16:00:22.830639Z"
    }
   },
   "source": [
    "from time import perf_counter"
   ],
   "outputs": [],
   "execution_count": 54
  },
  {
   "cell_type": "code",
   "metadata": {
    "ExecuteTime": {
     "end_time": "2025-06-18T16:00:41.766823Z",
     "start_time": "2025-06-18T16:00:22.867058Z"
    }
   },
   "source": [
    "random.seed(0)\n",
    "start = perf_counter()\n",
    "analyze_randint(30_000_000, 1, 10)\n",
    "end = perf_counter()\n",
    "print('Elapsed:', end - start)"
   ],
   "outputs": [
    {
     "name": "stdout",
     "output_type": "stream",
     "text": [
      " 1| **********\n",
      " 2| **********\n",
      " 3| **********\n",
      " 4| **********\n",
      " 5| **********\n",
      " 6| **********\n",
      " 7| **********\n",
      " 8| **********\n",
      " 9| **********\n",
      "10| **********\n",
      "Elapsed: 18.892832199999248\n"
     ]
    }
   ],
   "execution_count": 55
  },
  {
   "cell_type": "code",
   "metadata": {
    "ExecuteTime": {
     "end_time": "2025-06-18T16:00:42.841912Z",
     "start_time": "2025-06-18T16:00:41.789192Z"
    }
   },
   "source": [
    "np.random.seed(0)\n",
    "start = perf_counter()\n",
    "np_analyze_randint(30_000_000, 1, 10)\n",
    "end = perf_counter()\n",
    "print('Elapsed:', end - start)"
   ],
   "outputs": [
    {
     "name": "stdout",
     "output_type": "stream",
     "text": [
      " 1| **********\n",
      " 2| **********\n",
      " 3| **********\n",
      " 4| **********\n",
      " 5| **********\n",
      " 6| **********\n",
      " 7| **********\n",
      " 8| **********\n",
      " 9| **********\n",
      "10| **********\n",
      "Elapsed: 1.0461904000003415\n"
     ]
    }
   ],
   "execution_count": 56
  },
  {
   "metadata": {
    "ExecuteTime": {
     "end_time": "2025-06-18T16:16:22.607242Z",
     "start_time": "2025-06-18T16:13:49.453878Z"
    }
   },
   "cell_type": "code",
   "source": [
    "%timeit analyze_randint(30_000_000, 1, 10)\n",
    "%timeit np_analyze_randint(30_000_000, 1, 10)"
   ],
   "outputs": [
    {
     "name": "stdout",
     "output_type": "stream",
     "text": [
      " 1| **********\n",
      " 2| **********\n",
      " 3| **********\n",
      " 4| **********\n",
      " 5| **********\n",
      " 6| **********\n",
      " 7| **********\n",
      " 8| **********\n",
      " 9| **********\n",
      "10| **********\n",
      " 1| **********\n",
      " 2| **********\n",
      " 3| **********\n",
      " 4| **********\n",
      " 5| **********\n",
      " 6| **********\n",
      " 7| **********\n",
      " 8| **********\n",
      " 9| **********\n",
      "10| **********\n",
      " 1| **********\n",
      " 2| **********\n",
      " 3| **********\n",
      " 4| **********\n",
      " 5| **********\n",
      " 6| **********\n",
      " 7| **********\n",
      " 8| **********\n",
      " 9| **********\n",
      "10| **********\n",
      " 1| **********\n",
      " 2| **********\n",
      " 3| **********\n",
      " 4| **********\n",
      " 5| **********\n",
      " 6| **********\n",
      " 7| **********\n",
      " 8| **********\n",
      " 9| **********\n",
      "10| **********\n",
      " 1| **********\n",
      " 2| **********\n",
      " 3| **********\n",
      " 4| **********\n",
      " 5| **********\n",
      " 6| **********\n",
      " 7| **********\n",
      " 8| **********\n",
      " 9| **********\n",
      "10| **********\n",
      " 1| **********\n",
      " 2| **********\n",
      " 3| **********\n",
      " 4| **********\n",
      " 5| **********\n",
      " 6| **********\n",
      " 7| **********\n",
      " 8| **********\n",
      " 9| **********\n",
      "10| **********\n",
      " 1| **********\n",
      " 2| **********\n",
      " 3| **********\n",
      " 4| **********\n",
      " 5| **********\n",
      " 6| **********\n",
      " 7| **********\n",
      " 8| **********\n",
      " 9| **********\n",
      "10| **********\n",
      " 1| **********\n",
      " 2| **********\n",
      " 3| **********\n",
      " 4| **********\n",
      " 5| **********\n",
      " 6| **********\n",
      " 7| **********\n",
      " 8| **********\n",
      " 9| **********\n",
      "10| **********\n",
      "18.2 s ± 1.03 s per loop (mean ± std. dev. of 7 runs, 1 loop each)\n",
      " 1| **********\n",
      " 2| **********\n",
      " 3| **********\n",
      " 4| **********\n",
      " 5| **********\n",
      " 6| **********\n",
      " 7| **********\n",
      " 8| **********\n",
      " 9| **********\n",
      "10| **********\n",
      " 1| **********\n",
      " 2| **********\n",
      " 3| **********\n",
      " 4| **********\n",
      " 5| **********\n",
      " 6| **********\n",
      " 7| **********\n",
      " 8| **********\n",
      " 9| **********\n",
      "10| **********\n",
      " 1| **********\n",
      " 2| **********\n",
      " 3| **********\n",
      " 4| **********\n",
      " 5| **********\n",
      " 6| **********\n",
      " 7| **********\n",
      " 8| **********\n",
      " 9| **********\n",
      "10| **********\n",
      " 1| **********\n",
      " 2| **********\n",
      " 3| **********\n",
      " 4| **********\n",
      " 5| **********\n",
      " 6| **********\n",
      " 7| **********\n",
      " 8| **********\n",
      " 9| **********\n",
      "10| **********\n",
      " 1| **********\n",
      " 2| **********\n",
      " 3| **********\n",
      " 4| **********\n",
      " 5| **********\n",
      " 6| **********\n",
      " 7| **********\n",
      " 8| **********\n",
      " 9| **********\n",
      "10| **********\n",
      " 1| **********\n",
      " 2| **********\n",
      " 3| **********\n",
      " 4| **********\n",
      " 5| **********\n",
      " 6| **********\n",
      " 7| **********\n",
      " 8| **********\n",
      " 9| **********\n",
      "10| **********\n",
      " 1| **********\n",
      " 2| **********\n",
      " 3| **********\n",
      " 4| **********\n",
      " 5| **********\n",
      " 6| **********\n",
      " 7| **********\n",
      " 8| **********\n",
      " 9| **********\n",
      "10| **********\n",
      " 1| **********\n",
      " 2| **********\n",
      " 3| **********\n",
      " 4| **********\n",
      " 5| **********\n",
      " 6| **********\n",
      " 7| **********\n",
      " 8| **********\n",
      " 9| **********\n",
      "10| **********\n",
      "981 ms ± 10.7 ms per loop (mean ± std. dev. of 7 runs, 1 loop each)\n"
     ]
    }
   ],
   "execution_count": 57
  }
 ],
 "metadata": {
  "kernelspec": {
   "display_name": "Python 3",
   "language": "python",
   "name": "python3"
  },
  "language_info": {
   "codemirror_mode": {
    "name": "ipython",
    "version": 3
   },
   "file_extension": ".py",
   "mimetype": "text/x-python",
   "name": "python",
   "nbconvert_exporter": "python",
   "pygments_lexer": "ipython3",
   "version": "3.9.1"
  }
 },
 "nbformat": 4,
 "nbformat_minor": 4
}
