{
 "cells": [
  {
   "cell_type": "markdown",
   "id": "complimentary-glory",
   "metadata": {},
   "source": [
    "### Exercises"
   ]
  },
  {
   "cell_type": "markdown",
   "id": "collected-sacramento",
   "metadata": {},
   "source": [
    "#### Question 1"
   ]
  },
  {
   "cell_type": "markdown",
   "id": "bizarre-definition",
   "metadata": {},
   "source": [
    "The accompanying file `data.csv` contains information for the value `x` of something observed at time `t`."
   ]
  },
  {
   "cell_type": "markdown",
   "id": "vocational-remains",
   "metadata": {},
   "source": [
    "Given this data, we want to calculate the rate of change of this value over time - we'll do this by taking two consecutive observations, say $x(t_i)$ and $x(t_{i+1})$ and approximate the rate of change using this formula:\n",
    "\n",
    "$$\n",
    "v(t_{i+1}) = \\frac{x(t_{i+1}) - x(t_i)}{t_{i+1} - t_i}\n",
    "$$"
   ]
  },
  {
   "cell_type": "markdown",
   "id": "affected-rocket",
   "metadata": {},
   "source": [
    "For example, if the data looks like this:\n",
    "\n",
    "```\n",
    "t     x\n",
    "0.1   10\n",
    "0.2   12\n",
    "0.4   14\n",
    "0.5   15\n",
    "```"
   ]
  },
  {
   "cell_type": "markdown",
   "id": "alternate-nudist",
   "metadata": {},
   "source": [
    "Then the first row of data would be considered $t_0$, the second row $t_1$, etc"
   ]
  },
  {
   "cell_type": "markdown",
   "id": "ancient-decade",
   "metadata": {},
   "source": [
    "And we can start approximating the rate of change starting at $v_1$ which would be calculated as:\n",
    "\n",
    "$$\n",
    "v_1 = \\frac{12 - 10}{0.2 - 0.1} = 20.0\n",
    "$$"
   ]
  },
  {
   "cell_type": "markdown",
   "id": "toxic-doctrine",
   "metadata": {},
   "source": [
    "Similarly, $v_2$ would be calculated as:\n",
    "\n",
    "$$\n",
    "v_2 = \\frac{14 - 12}{0.4 - 0.2} = 10.0\n",
    "$$"
   ]
  },
  {
   "cell_type": "markdown",
   "id": "second-participant",
   "metadata": {},
   "source": [
    "Use NumPy arrays to create an array that holds the calculated rates of change and determine the minimum, maximum, average and standard deviation of the rate of change."
   ]
  },
  {
   "metadata": {
    "ExecuteTime": {
     "end_time": "2025-06-18T16:47:37.431184Z",
     "start_time": "2025-06-18T16:47:37.420438Z"
    }
   },
   "cell_type": "code",
   "source": [
    "import numpy as np\n",
    "from csv import reader\n",
    "\n",
    "with open(\"data.csv\", \"r\") as f:\n",
    "    content = reader(f)\n",
    "    next(content)\n",
    "    data = np.array(tuple(content)).astype(float)\n",
    "\n",
    "data"
   ],
   "id": "19bc86b8490f7c9",
   "outputs": [
    {
     "data": {
      "text/plain": [
       "array([[9.20000000e-02, 1.47656750e+01],\n",
       "       [2.00000000e-01, 2.02592269e+01],\n",
       "       [2.96000000e-01, 2.52463647e+01],\n",
       "       [3.90000000e-01, 2.85919601e+01],\n",
       "       [4.94000000e-01, 3.55838752e+01],\n",
       "       [6.05000000e-01, 3.99240561e+01],\n",
       "       [6.99000000e-01, 4.49001430e+01],\n",
       "       [8.06000000e-01, 5.01119987e+01],\n",
       "       [8.90000000e-01, 5.53374484e+01],\n",
       "       [1.00300000e+00, 6.11368215e+01],\n",
       "       [1.10900000e+00, 6.45004525e+01],\n",
       "       [1.19500000e+00, 6.94338229e+01],\n",
       "       [1.30400000e+00, 7.52142913e+01],\n",
       "       [1.39400000e+00, 8.06802446e+01],\n",
       "       [1.51000000e+00, 8.56904599e+01],\n",
       "       [1.59600000e+00, 9.06736538e+01],\n",
       "       [1.69900000e+00, 9.42614600e+01],\n",
       "       [1.80100000e+00, 1.00150181e+02],\n",
       "       [1.89300000e+00, 1.04022361e+02],\n",
       "       [2.00600000e+00, 1.10574714e+02],\n",
       "       [2.09800000e+00, 1.14100175e+02],\n",
       "       [2.19300000e+00, 1.20511360e+02],\n",
       "       [2.30200000e+00, 1.25753567e+02],\n",
       "       [2.40200000e+00, 1.29984891e+02],\n",
       "       [2.50800000e+00, 1.35678410e+02],\n",
       "       [2.59900000e+00, 1.39992298e+02],\n",
       "       [2.69100000e+00, 1.45230997e+02],\n",
       "       [2.79900000e+00, 1.49003497e+02],\n",
       "       [2.89300000e+00, 1.55496360e+02],\n",
       "       [2.99200000e+00, 1.58887642e+02],\n",
       "       [3.11000000e+00, 1.64859859e+02],\n",
       "       [3.19600000e+00, 1.68928589e+02],\n",
       "       [3.29700000e+00, 1.75057844e+02],\n",
       "       [3.40300000e+00, 1.80141103e+02],\n",
       "       [3.50800000e+00, 1.85671373e+02],\n",
       "       [3.60600000e+00, 1.89510377e+02],\n",
       "       [3.69500000e+00, 1.95088256e+02],\n",
       "       [3.80700000e+00, 2.00391203e+02],\n",
       "       [3.90900000e+00, 2.05599416e+02],\n",
       "       [4.00800000e+00, 2.10039093e+02],\n",
       "       [4.09200000e+00, 2.14893407e+02],\n",
       "       [4.19500000e+00, 2.19019478e+02],\n",
       "       [4.30800000e+00, 2.25707880e+02],\n",
       "       [4.39400000e+00, 2.30002671e+02],\n",
       "       [4.49500000e+00, 2.34450774e+02],\n",
       "       [4.59900000e+00, 2.40049400e+02],\n",
       "       [4.70500000e+00, 2.44775995e+02],\n",
       "       [4.79200000e+00, 2.49475675e+02],\n",
       "       [4.90000000e+00, 2.55699595e+02],\n",
       "       [4.99900000e+00, 2.59912176e+02],\n",
       "       [5.10400000e+00, 2.64465249e+02],\n",
       "       [5.20300000e+00, 2.71069689e+02],\n",
       "       [5.30100000e+00, 2.74243882e+02],\n",
       "       [5.40900000e+00, 2.80515835e+02],\n",
       "       [5.50000000e+00, 2.85198040e+02],\n",
       "       [5.60000000e+00, 2.90061156e+02],\n",
       "       [5.70600000e+00, 2.95398077e+02],\n",
       "       [5.80400000e+00, 2.99751456e+02],\n",
       "       [5.89200000e+00, 3.03811711e+02],\n",
       "       [6.00000000e+00, 3.10423038e+02],\n",
       "       [6.10200000e+00, 3.14879862e+02],\n",
       "       [6.20700000e+00, 3.19764772e+02],\n",
       "       [6.29800000e+00, 3.25331221e+02],\n",
       "       [6.40900000e+00, 3.30334988e+02],\n",
       "       [6.50500000e+00, 3.36153011e+02],\n",
       "       [6.60800000e+00, 3.39647562e+02],\n",
       "       [6.70200000e+00, 3.45218910e+02],\n",
       "       [6.79600000e+00, 3.49543520e+02],\n",
       "       [6.90100000e+00, 3.56047040e+02],\n",
       "       [7.00000000e+00, 3.60623415e+02],\n",
       "       [7.10700000e+00, 3.65547970e+02],\n",
       "       [7.19800000e+00, 3.69538358e+02],\n",
       "       [7.29100000e+00, 3.74654746e+02],\n",
       "       [7.39200000e+00, 3.79451598e+02],\n",
       "       [7.50700000e+00, 3.84711636e+02],\n",
       "       [7.61000000e+00, 3.89622343e+02],\n",
       "       [7.70800000e+00, 3.94720682e+02],\n",
       "       [7.80800000e+00, 3.99566467e+02],\n",
       "       [7.89500000e+00, 4.04114935e+02],\n",
       "       [8.00600000e+00, 4.10842809e+02],\n",
       "       [8.09300000e+00, 4.14659705e+02],\n",
       "       [8.20500000e+00, 4.19431882e+02],\n",
       "       [8.29100000e+00, 4.25075107e+02],\n",
       "       [8.39400000e+00, 4.29097413e+02],\n",
       "       [8.49200000e+00, 4.35442333e+02],\n",
       "       [8.59800000e+00, 4.39181868e+02],\n",
       "       [8.70500000e+00, 4.45183641e+02],\n",
       "       [8.80300000e+00, 4.50666528e+02],\n",
       "       [8.90500000e+00, 4.55316355e+02],\n",
       "       [9.00200000e+00, 4.60140632e+02],\n",
       "       [9.09600000e+00, 4.65558899e+02],\n",
       "       [9.19300000e+00, 4.69319406e+02],\n",
       "       [9.30700000e+00, 4.76150645e+02],\n",
       "       [9.39300000e+00, 4.78681402e+02],\n",
       "       [9.50000000e+00, 4.84098910e+02],\n",
       "       [9.60700000e+00, 4.90923872e+02],\n",
       "       [9.70200000e+00, 4.95846965e+02],\n",
       "       [9.79600000e+00, 5.00089664e+02],\n",
       "       [9.90000000e+00, 5.04174303e+02],\n",
       "       [9.99200000e+00, 5.08754508e+02]])"
      ]
     },
     "execution_count": 18,
     "metadata": {},
     "output_type": "execute_result"
    }
   ],
   "execution_count": 18
  },
  {
   "cell_type": "markdown",
   "id": "compliant-mexico",
   "metadata": {},
   "source": [
    "#### Question 2"
   ]
  },
  {
   "cell_type": "markdown",
   "id": "polished-ebony",
   "metadata": {},
   "source": [
    "In linear regression we try to find the coefficients `m` (slope) and `c` (y-intercept) of a straight line\n",
    "\n",
    "$$\n",
    "y = mx + c\n",
    "$$\n",
    "\n",
    "that provides the \"best\" fit given some `x` and `y` data. This formula then allows to predict `y` values for given `x` values."
   ]
  },
  {
   "cell_type": "markdown",
   "id": "gorgeous-assets",
   "metadata": {},
   "source": [
    "Given an array of `n` `(x, y)` data pairs, these coefficients can be calculated very simply."
   ]
  },
  {
   "cell_type": "markdown",
   "id": "failing-tours",
   "metadata": {},
   "source": [
    "A bit of terminology first:"
   ]
  },
  {
   "cell_type": "markdown",
   "id": "liable-civilization",
   "metadata": {},
   "source": [
    "- Let `X` mean the column of `X` values.\n",
    "- Let `Y` mean the column of `Y` values.\n",
    "- Let `XX` mean a column calculated by multiplying each `x` in the `X` column by itself\n",
    "- Let `XY` mean a column calculated by multiplying the `x` and `y` values from the `X` and `Y` columns"
   ]
  },
  {
   "cell_type": "markdown",
   "id": "divine-texas",
   "metadata": {},
   "source": [
    "Then, given some column (say `X`), this symbol: $\\sum{X}$ means the sum of all the elements in the column.\n",
    "\n",
    "Similarly, the symbol $\\sum{XY}$ means the sum of the values obtained by multiplying (pairwise) the values in `X` and `Y`."
   ]
  },
  {
   "cell_type": "markdown",
   "id": "lonely-reward",
   "metadata": {},
   "source": [
    "Given those definitions, the formulas for calculating the \"best\" values of `m` and `c` are given by:"
   ]
  },
  {
   "cell_type": "markdown",
   "id": "engaged-positive",
   "metadata": {},
   "source": [
    "$$\n",
    "m = \\frac{n\\sum{XY} - \\sum{X}\\sum{Y}}{n\\sum{XX} - (\\sum{X})^2}\n",
    "$$"
   ]
  },
  {
   "cell_type": "markdown",
   "id": "japanese-breakfast",
   "metadata": {},
   "source": [
    "$$\n",
    "c = \\frac{\\sum{Y}\\sum{XX} - \\sum{X}\\sum{XY}}{n\\sum{XX} - (\\sum{X})^2}\n",
    "$$"
   ]
  },
  {
   "cell_type": "markdown",
   "id": "collect-guidance",
   "metadata": {},
   "source": [
    "(where `n` is the number of `(x,y)` pairs in our data set.)"
   ]
  },
  {
   "cell_type": "markdown",
   "id": "suspended-calgary",
   "metadata": {},
   "source": [
    "Using the same data we saw in Question 1, calculate the values for `m` and `c` for that data set given the formulas above.\n",
    "\n",
    "You can think of the `t` column in the data as the `X` column, and the `x` values in the data as the `Y` column - we are trying to predict the value of `x` given a value of `t`."
   ]
  },
  {
   "cell_type": "markdown",
   "id": "classical-theorem",
   "metadata": {},
   "source": [
    "This will result in a straight line that \"best\" fits through the data."
   ]
  },
  {
   "cell_type": "markdown",
   "id": "precious-boundary",
   "metadata": {},
   "source": [
    "Compare the slope of this regression line to the average rate of change you calculated in Question 1."
   ]
  },
  {
   "metadata": {
    "ExecuteTime": {
     "end_time": "2025-06-18T16:47:44.602037Z",
     "start_time": "2025-06-18T16:47:44.591531Z"
    }
   },
   "cell_type": "code",
   "source": [
    "import numpy as np\n",
    "from csv import reader\n",
    "\n",
    "with open(\"data.csv\", \"r\") as f:\n",
    "    content = reader(f)\n",
    "    next(content)\n",
    "    data = np.array(tuple(content)).astype(float)\n",
    "\n",
    "data"
   ],
   "id": "5ffb844404a87d1e",
   "outputs": [
    {
     "data": {
      "text/plain": [
       "array([[9.20000000e-02, 1.47656750e+01],\n",
       "       [2.00000000e-01, 2.02592269e+01],\n",
       "       [2.96000000e-01, 2.52463647e+01],\n",
       "       [3.90000000e-01, 2.85919601e+01],\n",
       "       [4.94000000e-01, 3.55838752e+01],\n",
       "       [6.05000000e-01, 3.99240561e+01],\n",
       "       [6.99000000e-01, 4.49001430e+01],\n",
       "       [8.06000000e-01, 5.01119987e+01],\n",
       "       [8.90000000e-01, 5.53374484e+01],\n",
       "       [1.00300000e+00, 6.11368215e+01],\n",
       "       [1.10900000e+00, 6.45004525e+01],\n",
       "       [1.19500000e+00, 6.94338229e+01],\n",
       "       [1.30400000e+00, 7.52142913e+01],\n",
       "       [1.39400000e+00, 8.06802446e+01],\n",
       "       [1.51000000e+00, 8.56904599e+01],\n",
       "       [1.59600000e+00, 9.06736538e+01],\n",
       "       [1.69900000e+00, 9.42614600e+01],\n",
       "       [1.80100000e+00, 1.00150181e+02],\n",
       "       [1.89300000e+00, 1.04022361e+02],\n",
       "       [2.00600000e+00, 1.10574714e+02],\n",
       "       [2.09800000e+00, 1.14100175e+02],\n",
       "       [2.19300000e+00, 1.20511360e+02],\n",
       "       [2.30200000e+00, 1.25753567e+02],\n",
       "       [2.40200000e+00, 1.29984891e+02],\n",
       "       [2.50800000e+00, 1.35678410e+02],\n",
       "       [2.59900000e+00, 1.39992298e+02],\n",
       "       [2.69100000e+00, 1.45230997e+02],\n",
       "       [2.79900000e+00, 1.49003497e+02],\n",
       "       [2.89300000e+00, 1.55496360e+02],\n",
       "       [2.99200000e+00, 1.58887642e+02],\n",
       "       [3.11000000e+00, 1.64859859e+02],\n",
       "       [3.19600000e+00, 1.68928589e+02],\n",
       "       [3.29700000e+00, 1.75057844e+02],\n",
       "       [3.40300000e+00, 1.80141103e+02],\n",
       "       [3.50800000e+00, 1.85671373e+02],\n",
       "       [3.60600000e+00, 1.89510377e+02],\n",
       "       [3.69500000e+00, 1.95088256e+02],\n",
       "       [3.80700000e+00, 2.00391203e+02],\n",
       "       [3.90900000e+00, 2.05599416e+02],\n",
       "       [4.00800000e+00, 2.10039093e+02],\n",
       "       [4.09200000e+00, 2.14893407e+02],\n",
       "       [4.19500000e+00, 2.19019478e+02],\n",
       "       [4.30800000e+00, 2.25707880e+02],\n",
       "       [4.39400000e+00, 2.30002671e+02],\n",
       "       [4.49500000e+00, 2.34450774e+02],\n",
       "       [4.59900000e+00, 2.40049400e+02],\n",
       "       [4.70500000e+00, 2.44775995e+02],\n",
       "       [4.79200000e+00, 2.49475675e+02],\n",
       "       [4.90000000e+00, 2.55699595e+02],\n",
       "       [4.99900000e+00, 2.59912176e+02],\n",
       "       [5.10400000e+00, 2.64465249e+02],\n",
       "       [5.20300000e+00, 2.71069689e+02],\n",
       "       [5.30100000e+00, 2.74243882e+02],\n",
       "       [5.40900000e+00, 2.80515835e+02],\n",
       "       [5.50000000e+00, 2.85198040e+02],\n",
       "       [5.60000000e+00, 2.90061156e+02],\n",
       "       [5.70600000e+00, 2.95398077e+02],\n",
       "       [5.80400000e+00, 2.99751456e+02],\n",
       "       [5.89200000e+00, 3.03811711e+02],\n",
       "       [6.00000000e+00, 3.10423038e+02],\n",
       "       [6.10200000e+00, 3.14879862e+02],\n",
       "       [6.20700000e+00, 3.19764772e+02],\n",
       "       [6.29800000e+00, 3.25331221e+02],\n",
       "       [6.40900000e+00, 3.30334988e+02],\n",
       "       [6.50500000e+00, 3.36153011e+02],\n",
       "       [6.60800000e+00, 3.39647562e+02],\n",
       "       [6.70200000e+00, 3.45218910e+02],\n",
       "       [6.79600000e+00, 3.49543520e+02],\n",
       "       [6.90100000e+00, 3.56047040e+02],\n",
       "       [7.00000000e+00, 3.60623415e+02],\n",
       "       [7.10700000e+00, 3.65547970e+02],\n",
       "       [7.19800000e+00, 3.69538358e+02],\n",
       "       [7.29100000e+00, 3.74654746e+02],\n",
       "       [7.39200000e+00, 3.79451598e+02],\n",
       "       [7.50700000e+00, 3.84711636e+02],\n",
       "       [7.61000000e+00, 3.89622343e+02],\n",
       "       [7.70800000e+00, 3.94720682e+02],\n",
       "       [7.80800000e+00, 3.99566467e+02],\n",
       "       [7.89500000e+00, 4.04114935e+02],\n",
       "       [8.00600000e+00, 4.10842809e+02],\n",
       "       [8.09300000e+00, 4.14659705e+02],\n",
       "       [8.20500000e+00, 4.19431882e+02],\n",
       "       [8.29100000e+00, 4.25075107e+02],\n",
       "       [8.39400000e+00, 4.29097413e+02],\n",
       "       [8.49200000e+00, 4.35442333e+02],\n",
       "       [8.59800000e+00, 4.39181868e+02],\n",
       "       [8.70500000e+00, 4.45183641e+02],\n",
       "       [8.80300000e+00, 4.50666528e+02],\n",
       "       [8.90500000e+00, 4.55316355e+02],\n",
       "       [9.00200000e+00, 4.60140632e+02],\n",
       "       [9.09600000e+00, 4.65558899e+02],\n",
       "       [9.19300000e+00, 4.69319406e+02],\n",
       "       [9.30700000e+00, 4.76150645e+02],\n",
       "       [9.39300000e+00, 4.78681402e+02],\n",
       "       [9.50000000e+00, 4.84098910e+02],\n",
       "       [9.60700000e+00, 4.90923872e+02],\n",
       "       [9.70200000e+00, 4.95846965e+02],\n",
       "       [9.79600000e+00, 5.00089664e+02],\n",
       "       [9.90000000e+00, 5.04174303e+02],\n",
       "       [9.99200000e+00, 5.08754508e+02]])"
      ]
     },
     "execution_count": 19,
     "metadata": {},
     "output_type": "execute_result"
    }
   ],
   "execution_count": 19
  },
  {
   "metadata": {},
   "cell_type": "code",
   "outputs": [],
   "execution_count": null,
   "source": "",
   "id": "c8124adaecb56146"
  }
 ],
 "metadata": {
  "kernelspec": {
   "display_name": "Python 3",
   "language": "python",
   "name": "python3"
  },
  "language_info": {
   "codemirror_mode": {
    "name": "ipython",
    "version": 3
   },
   "file_extension": ".py",
   "mimetype": "text/x-python",
   "name": "python",
   "nbconvert_exporter": "python",
   "pygments_lexer": "ipython3",
   "version": "3.9.1"
  }
 },
 "nbformat": 4,
 "nbformat_minor": 5
}
