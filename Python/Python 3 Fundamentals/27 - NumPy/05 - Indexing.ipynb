{
 "cells": [
  {
   "cell_type": "markdown",
   "metadata": {},
   "source": [
    "### Indexing"
   ]
  },
  {
   "cell_type": "markdown",
   "metadata": {},
   "source": [
    "We already know about indexing of Python sequence types such as lists and tuples."
   ]
  },
  {
   "cell_type": "code",
   "metadata": {
    "ExecuteTime": {
     "end_time": "2025-06-18T14:03:26.244666Z",
     "start_time": "2025-06-18T14:03:26.230239Z"
    }
   },
   "source": [
    "a = [1, 2, 3, 4]\n",
    "a[2]"
   ],
   "outputs": [
    {
     "data": {
      "text/plain": [
       "3"
      ]
     },
     "execution_count": 1,
     "metadata": {},
     "output_type": "execute_result"
    }
   ],
   "execution_count": 1
  },
  {
   "cell_type": "markdown",
   "metadata": {},
   "source": [
    "We can even index a 2-D list (a list of lists):"
   ]
  },
  {
   "cell_type": "code",
   "metadata": {
    "ExecuteTime": {
     "end_time": "2025-06-18T14:03:26.264368Z",
     "start_time": "2025-06-18T14:03:26.258215Z"
    }
   },
   "source": [
    "m = [\n",
    "    [1, 2, 3],\n",
    "    [4, 5, 6],\n",
    "    [7, 8, 9]\n",
    "]"
   ],
   "outputs": [],
   "execution_count": 2
  },
  {
   "cell_type": "markdown",
   "metadata": {},
   "source": [
    "We can pick the second row in `m`:"
   ]
  },
  {
   "cell_type": "code",
   "metadata": {
    "ExecuteTime": {
     "end_time": "2025-06-18T14:03:26.635341Z",
     "start_time": "2025-06-18T14:03:26.623892Z"
    }
   },
   "source": [
    "m[1]"
   ],
   "outputs": [
    {
     "data": {
      "text/plain": [
       "[4, 5, 6]"
      ]
     },
     "execution_count": 3,
     "metadata": {},
     "output_type": "execute_result"
    }
   ],
   "execution_count": 3
  },
  {
   "cell_type": "markdown",
   "metadata": {},
   "source": [
    "And from that row we can pick the 3rd element:"
   ]
  },
  {
   "cell_type": "code",
   "metadata": {
    "ExecuteTime": {
     "end_time": "2025-06-18T14:03:26.772244Z",
     "start_time": "2025-06-18T14:03:26.765245Z"
    }
   },
   "source": [
    "m[1][2]"
   ],
   "outputs": [
    {
     "data": {
      "text/plain": [
       "6"
      ]
     },
     "execution_count": 4,
     "metadata": {},
     "output_type": "execute_result"
    }
   ],
   "execution_count": 4
  },
  {
   "cell_type": "markdown",
   "metadata": {},
   "source": [
    "Additionally, if the sequence is a mutable sequence, we can replace a value in thge sequence by using an assignment operator:"
   ]
  },
  {
   "cell_type": "code",
   "metadata": {
    "ExecuteTime": {
     "end_time": "2025-06-18T14:03:26.838632Z",
     "start_time": "2025-06-18T14:03:26.831682Z"
    }
   },
   "source": [
    "m[1][2] = 100\n",
    "m"
   ],
   "outputs": [
    {
     "data": {
      "text/plain": [
       "[[1, 2, 3], [4, 5, 100], [7, 8, 9]]"
      ]
     },
     "execution_count": 5,
     "metadata": {},
     "output_type": "execute_result"
    }
   ],
   "execution_count": 5
  },
  {
   "cell_type": "markdown",
   "metadata": {},
   "source": [
    "NumPy arrays work the same way as well."
   ]
  },
  {
   "cell_type": "code",
   "metadata": {
    "ExecuteTime": {
     "end_time": "2025-06-18T14:03:27.025718Z",
     "start_time": "2025-06-18T14:03:26.902490Z"
    }
   },
   "source": [
    "import numpy as np"
   ],
   "outputs": [],
   "execution_count": 6
  },
  {
   "cell_type": "code",
   "metadata": {
    "ExecuteTime": {
     "end_time": "2025-06-18T14:03:27.046965Z",
     "start_time": "2025-06-18T14:03:27.041162Z"
    }
   },
   "source": [
    "a = np.array([1, 2, 3])"
   ],
   "outputs": [],
   "execution_count": 7
  },
  {
   "cell_type": "code",
   "metadata": {
    "ExecuteTime": {
     "end_time": "2025-06-18T14:03:27.083491Z",
     "start_time": "2025-06-18T14:03:27.074971Z"
    }
   },
   "source": [
    "a[0]"
   ],
   "outputs": [
    {
     "data": {
      "text/plain": [
       "np.int64(1)"
      ]
     },
     "execution_count": 8,
     "metadata": {},
     "output_type": "execute_result"
    }
   ],
   "execution_count": 8
  },
  {
   "cell_type": "code",
   "metadata": {
    "ExecuteTime": {
     "end_time": "2025-06-18T14:03:27.115532Z",
     "start_time": "2025-06-18T14:03:27.109141Z"
    }
   },
   "source": [
    "a[1]"
   ],
   "outputs": [
    {
     "data": {
      "text/plain": [
       "np.int64(2)"
      ]
     },
     "execution_count": 9,
     "metadata": {},
     "output_type": "execute_result"
    }
   ],
   "execution_count": 9
  },
  {
   "cell_type": "code",
   "metadata": {
    "ExecuteTime": {
     "end_time": "2025-06-18T14:03:27.241215Z",
     "start_time": "2025-06-18T14:03:27.235335Z"
    }
   },
   "source": [
    "a[1] = 200"
   ],
   "outputs": [],
   "execution_count": 10
  },
  {
   "cell_type": "code",
   "metadata": {
    "ExecuteTime": {
     "end_time": "2025-06-18T14:03:27.313853Z",
     "start_time": "2025-06-18T14:03:27.305824Z"
    }
   },
   "source": [
    "a"
   ],
   "outputs": [
    {
     "data": {
      "text/plain": [
       "array([  1, 200,   3])"
      ]
     },
     "execution_count": 11,
     "metadata": {},
     "output_type": "execute_result"
    }
   ],
   "execution_count": 11
  },
  {
   "cell_type": "markdown",
   "metadata": {},
   "source": [
    "And the same thing with a 2-D array:"
   ]
  },
  {
   "cell_type": "code",
   "metadata": {
    "ExecuteTime": {
     "end_time": "2025-06-18T14:03:27.459788Z",
     "start_time": "2025-06-18T14:03:27.452132Z"
    }
   },
   "source": [
    "m = np.eye(3)\n",
    "m"
   ],
   "outputs": [
    {
     "data": {
      "text/plain": [
       "array([[1., 0., 0.],\n",
       "       [0., 1., 0.],\n",
       "       [0., 0., 1.]])"
      ]
     },
     "execution_count": 12,
     "metadata": {},
     "output_type": "execute_result"
    }
   ],
   "execution_count": 12
  },
  {
   "cell_type": "code",
   "metadata": {
    "ExecuteTime": {
     "end_time": "2025-06-18T14:03:28.182043Z",
     "start_time": "2025-06-18T14:03:28.175112Z"
    }
   },
   "source": [
    "m[1][1]"
   ],
   "outputs": [
    {
     "data": {
      "text/plain": [
       "np.float64(1.0)"
      ]
     },
     "execution_count": 13,
     "metadata": {},
     "output_type": "execute_result"
    }
   ],
   "execution_count": 13
  },
  {
   "cell_type": "code",
   "metadata": {
    "ExecuteTime": {
     "end_time": "2025-06-18T14:03:28.470140Z",
     "start_time": "2025-06-18T14:03:28.464689Z"
    }
   },
   "source": [
    "m[1][2] = 100"
   ],
   "outputs": [],
   "execution_count": 14
  },
  {
   "cell_type": "code",
   "metadata": {
    "ExecuteTime": {
     "end_time": "2025-06-18T14:03:28.638663Z",
     "start_time": "2025-06-18T14:03:28.632082Z"
    }
   },
   "source": [
    "m"
   ],
   "outputs": [
    {
     "data": {
      "text/plain": [
       "array([[  1.,   0.,   0.],\n",
       "       [  0.,   1., 100.],\n",
       "       [  0.,   0.,   1.]])"
      ]
     },
     "execution_count": 15,
     "metadata": {},
     "output_type": "execute_result"
    }
   ],
   "execution_count": 15
  },
  {
   "cell_type": "markdown",
   "metadata": {},
   "source": [
    "But NumPy supports a slightly simpler syntax for 2-D (and higher dimension) arrays - instead of using `[i][j]` (and potentially `[i][j][k]` as dimensions/axes get higher), we can just specify both indexes, as a tuple, in the `[]` selector:"
   ]
  },
  {
   "cell_type": "code",
   "metadata": {
    "ExecuteTime": {
     "end_time": "2025-06-18T14:03:28.763135Z",
     "start_time": "2025-06-18T14:03:28.755990Z"
    }
   },
   "source": [
    "m[(1, 2)]"
   ],
   "outputs": [
    {
     "data": {
      "text/plain": [
       "np.float64(100.0)"
      ]
     },
     "execution_count": 16,
     "metadata": {},
     "output_type": "execute_result"
    }
   ],
   "execution_count": 16
  },
  {
   "cell_type": "code",
   "metadata": {
    "ExecuteTime": {
     "end_time": "2025-06-18T14:03:29.007984Z",
     "start_time": "2025-06-18T14:03:29.000468Z"
    }
   },
   "source": [
    "m[(1, 1)]"
   ],
   "outputs": [
    {
     "data": {
      "text/plain": [
       "np.float64(1.0)"
      ]
     },
     "execution_count": 17,
     "metadata": {},
     "output_type": "execute_result"
    }
   ],
   "execution_count": 17
  },
  {
   "cell_type": "markdown",
   "metadata": {},
   "source": [
    "And assignment will work properly as well:"
   ]
  },
  {
   "cell_type": "code",
   "metadata": {
    "ExecuteTime": {
     "end_time": "2025-06-18T14:03:29.291299Z",
     "start_time": "2025-06-18T14:03:29.283898Z"
    }
   },
   "source": [
    "m[(1, 2)] = 300\n",
    "m"
   ],
   "outputs": [
    {
     "data": {
      "text/plain": [
       "array([[  1.,   0.,   0.],\n",
       "       [  0.,   1., 300.],\n",
       "       [  0.,   0.,   1.]])"
      ]
     },
     "execution_count": 18,
     "metadata": {},
     "output_type": "execute_result"
    }
   ],
   "execution_count": 18
  },
  {
   "cell_type": "markdown",
   "metadata": {},
   "source": [
    "Now, remember that tuples in Python do not always require to be surrounded by `()` - and so it is in this case, which means we can simply write:"
   ]
  },
  {
   "cell_type": "code",
   "metadata": {
    "ExecuteTime": {
     "end_time": "2025-06-18T14:03:29.419769Z",
     "start_time": "2025-06-18T14:03:29.413481Z"
    }
   },
   "source": [
    "m[1, 2]"
   ],
   "outputs": [
    {
     "data": {
      "text/plain": [
       "np.float64(300.0)"
      ]
     },
     "execution_count": 19,
     "metadata": {},
     "output_type": "execute_result"
    }
   ],
   "execution_count": 19
  },
  {
   "cell_type": "code",
   "metadata": {
    "ExecuteTime": {
     "end_time": "2025-06-18T14:03:29.669106Z",
     "start_time": "2025-06-18T14:03:29.662251Z"
    }
   },
   "source": [
    "m[1, 2] = 100\n",
    "m"
   ],
   "outputs": [
    {
     "data": {
      "text/plain": [
       "array([[  1.,   0.,   0.],\n",
       "       [  0.,   1., 100.],\n",
       "       [  0.,   0.,   1.]])"
      ]
     },
     "execution_count": 20,
     "metadata": {},
     "output_type": "execute_result"
    }
   ],
   "execution_count": 20
  },
  {
   "cell_type": "markdown",
   "metadata": {},
   "source": [
    "One last point to mention is that we have to remember that NumPy arrays have a fixed homogeneous type, so we have to be careful when we replace data to make sure it will fit within the array's data type."
   ]
  },
  {
   "cell_type": "code",
   "metadata": {
    "ExecuteTime": {
     "end_time": "2025-06-18T14:03:30.016575Z",
     "start_time": "2025-06-18T14:03:30.011856Z"
    }
   },
   "source": [
    "arr = np.array([1, 2, 3, 4], dtype=np.uint8)"
   ],
   "outputs": [],
   "execution_count": 21
  },
  {
   "cell_type": "markdown",
   "metadata": {},
   "source": [
    "This array has a data type of 8-bit unsigned integers - so the range of permissible integers is `[0, 255]`."
   ]
  },
  {
   "cell_type": "markdown",
   "metadata": {},
   "source": [
    "And if we try to replace an element with an integer outside of those bounds, we get the usual weirdness with integers wrapping around:"
   ]
  },
  {
   "cell_type": "code",
   "metadata": {
    "ExecuteTime": {
     "end_time": "2025-06-18T14:03:31.214897Z",
     "start_time": "2025-06-18T14:03:30.527050Z"
    }
   },
   "source": [
    "arr[0] = -100\n",
    "arr"
   ],
   "outputs": [
    {
     "ename": "OverflowError",
     "evalue": "Python integer -100 out of bounds for uint8",
     "output_type": "error",
     "traceback": [
      "\u001B[1;31m---------------------------------------------------------------------------\u001B[0m",
      "\u001B[1;31mOverflowError\u001B[0m                             Traceback (most recent call last)",
      "Cell \u001B[1;32mIn[22], line 1\u001B[0m\n\u001B[1;32m----> 1\u001B[0m \u001B[43marr\u001B[49m\u001B[43m[\u001B[49m\u001B[38;5;241;43m0\u001B[39;49m\u001B[43m]\u001B[49m \u001B[38;5;241m=\u001B[39m \u001B[38;5;241m-\u001B[39m\u001B[38;5;241m100\u001B[39m\n\u001B[0;32m      2\u001B[0m arr\n",
      "\u001B[1;31mOverflowError\u001B[0m: Python integer -100 out of bounds for uint8"
     ]
    }
   ],
   "execution_count": 22
  }
 ],
 "metadata": {
  "kernelspec": {
   "display_name": "Python 3",
   "language": "python",
   "name": "python3"
  },
  "language_info": {
   "codemirror_mode": {
    "name": "ipython",
    "version": 3
   },
   "file_extension": ".py",
   "mimetype": "text/x-python",
   "name": "python",
   "nbconvert_exporter": "python",
   "pygments_lexer": "ipython3",
   "version": "3.9.1"
  }
 },
 "nbformat": 4,
 "nbformat_minor": 4
}
