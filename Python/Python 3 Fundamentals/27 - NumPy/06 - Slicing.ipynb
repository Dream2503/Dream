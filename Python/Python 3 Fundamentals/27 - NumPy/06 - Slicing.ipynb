{
 "cells": [
  {
   "cell_type": "markdown",
   "metadata": {},
   "source": [
    "### Slicing"
   ]
  },
  {
   "cell_type": "markdown",
   "metadata": {},
   "source": [
    "Slicing 1 dimensional arrays works the same as slicing Python sequences."
   ]
  },
  {
   "cell_type": "code",
   "metadata": {
    "ExecuteTime": {
     "end_time": "2025-06-18T14:15:58.794561Z",
     "start_time": "2025-06-18T14:15:58.787542Z"
    }
   },
   "source": [
    "l = [1, 2, 3, 4, 5, 6]"
   ],
   "outputs": [],
   "execution_count": 1
  },
  {
   "cell_type": "code",
   "metadata": {
    "ExecuteTime": {
     "end_time": "2025-06-18T14:15:59.143137Z",
     "start_time": "2025-06-18T14:15:59.133683Z"
    }
   },
   "source": [
    "l[0:3]"
   ],
   "outputs": [
    {
     "data": {
      "text/plain": [
       "[1, 2, 3]"
      ]
     },
     "execution_count": 2,
     "metadata": {},
     "output_type": "execute_result"
    }
   ],
   "execution_count": 2
  },
  {
   "cell_type": "code",
   "metadata": {
    "ExecuteTime": {
     "end_time": "2025-06-18T14:15:59.244615Z",
     "start_time": "2025-06-18T14:15:59.234569Z"
    }
   },
   "source": [
    "l[0::2]"
   ],
   "outputs": [
    {
     "data": {
      "text/plain": [
       "[1, 3, 5]"
      ]
     },
     "execution_count": 3,
     "metadata": {},
     "output_type": "execute_result"
    }
   ],
   "execution_count": 3
  },
  {
   "cell_type": "code",
   "metadata": {
    "ExecuteTime": {
     "end_time": "2025-06-18T14:15:59.319437Z",
     "start_time": "2025-06-18T14:15:59.313195Z"
    }
   },
   "source": [
    "l[::-1]"
   ],
   "outputs": [
    {
     "data": {
      "text/plain": [
       "[6, 5, 4, 3, 2, 1]"
      ]
     },
     "execution_count": 4,
     "metadata": {},
     "output_type": "execute_result"
    }
   ],
   "execution_count": 4
  },
  {
   "cell_type": "code",
   "metadata": {
    "ExecuteTime": {
     "end_time": "2025-06-18T14:15:59.582431Z",
     "start_time": "2025-06-18T14:15:59.450385Z"
    }
   },
   "source": [
    "import numpy as np"
   ],
   "outputs": [],
   "execution_count": 5
  },
  {
   "cell_type": "code",
   "metadata": {
    "ExecuteTime": {
     "end_time": "2025-06-18T14:15:59.601896Z",
     "start_time": "2025-06-18T14:15:59.596885Z"
    }
   },
   "source": [
    "arr = np.array(l)"
   ],
   "outputs": [],
   "execution_count": 6
  },
  {
   "cell_type": "code",
   "metadata": {
    "ExecuteTime": {
     "end_time": "2025-06-18T14:15:59.637887Z",
     "start_time": "2025-06-18T14:15:59.631508Z"
    }
   },
   "source": [
    "arr[0:3]"
   ],
   "outputs": [
    {
     "data": {
      "text/plain": [
       "array([1, 2, 3])"
      ]
     },
     "execution_count": 7,
     "metadata": {},
     "output_type": "execute_result"
    }
   ],
   "execution_count": 7
  },
  {
   "cell_type": "code",
   "metadata": {
    "ExecuteTime": {
     "end_time": "2025-06-18T14:15:59.748283Z",
     "start_time": "2025-06-18T14:15:59.741520Z"
    }
   },
   "source": [
    "arr[0::2]"
   ],
   "outputs": [
    {
     "data": {
      "text/plain": [
       "array([1, 3, 5])"
      ]
     },
     "execution_count": 8,
     "metadata": {},
     "output_type": "execute_result"
    }
   ],
   "execution_count": 8
  },
  {
   "cell_type": "code",
   "metadata": {
    "ExecuteTime": {
     "end_time": "2025-06-18T14:15:59.895531Z",
     "start_time": "2025-06-18T14:15:59.889519Z"
    }
   },
   "source": [
    "arr[::-1]"
   ],
   "outputs": [
    {
     "data": {
      "text/plain": [
       "array([6, 5, 4, 3, 2, 1])"
      ]
     },
     "execution_count": 9,
     "metadata": {},
     "output_type": "execute_result"
    }
   ],
   "execution_count": 9
  },
  {
   "cell_type": "markdown",
   "metadata": {},
   "source": [
    "There is however, one **fundamental** difference between slicing Python sequences and slicing NumPy arrays."
   ]
  },
  {
   "cell_type": "markdown",
   "metadata": {},
   "source": [
    "In Python, the slice is totally independent of the original list:"
   ]
  },
  {
   "cell_type": "code",
   "metadata": {
    "ExecuteTime": {
     "end_time": "2025-06-18T14:15:59.969611Z",
     "start_time": "2025-06-18T14:15:59.963600Z"
    }
   },
   "source": [
    "l"
   ],
   "outputs": [
    {
     "data": {
      "text/plain": [
       "[1, 2, 3, 4, 5, 6]"
      ]
     },
     "execution_count": 10,
     "metadata": {},
     "output_type": "execute_result"
    }
   ],
   "execution_count": 10
  },
  {
   "cell_type": "code",
   "metadata": {
    "ExecuteTime": {
     "end_time": "2025-06-18T14:16:00.086214Z",
     "start_time": "2025-06-18T14:16:00.080407Z"
    }
   },
   "source": [
    "slice_ = l[0:2]\n",
    "slice_"
   ],
   "outputs": [
    {
     "data": {
      "text/plain": [
       "[1, 2]"
      ]
     },
     "execution_count": 11,
     "metadata": {},
     "output_type": "execute_result"
    }
   ],
   "execution_count": 11
  },
  {
   "cell_type": "code",
   "metadata": {
    "ExecuteTime": {
     "end_time": "2025-06-18T14:16:00.166110Z",
     "start_time": "2025-06-18T14:16:00.159591Z"
    }
   },
   "source": [
    "slice_[0] = 100\n",
    "slice_"
   ],
   "outputs": [
    {
     "data": {
      "text/plain": [
       "[100, 2]"
      ]
     },
     "execution_count": 12,
     "metadata": {},
     "output_type": "execute_result"
    }
   ],
   "execution_count": 12
  },
  {
   "cell_type": "code",
   "metadata": {
    "ExecuteTime": {
     "end_time": "2025-06-18T14:16:00.259548Z",
     "start_time": "2025-06-18T14:16:00.252141Z"
    }
   },
   "source": [
    "l"
   ],
   "outputs": [
    {
     "data": {
      "text/plain": [
       "[1, 2, 3, 4, 5, 6]"
      ]
     },
     "execution_count": 13,
     "metadata": {},
     "output_type": "execute_result"
    }
   ],
   "execution_count": 13
  },
  {
   "cell_type": "markdown",
   "metadata": {},
   "source": [
    "As you can see, we modified the slice, but this did not affect the original list."
   ]
  },
  {
   "cell_type": "markdown",
   "metadata": {},
   "source": [
    "On the other hand, let's see what happens with NumPy slicing:"
   ]
  },
  {
   "cell_type": "code",
   "metadata": {
    "ExecuteTime": {
     "end_time": "2025-06-18T14:16:00.394967Z",
     "start_time": "2025-06-18T14:16:00.389250Z"
    }
   },
   "source": [
    "arr = np.array(l)\n",
    "arr"
   ],
   "outputs": [
    {
     "data": {
      "text/plain": [
       "array([1, 2, 3, 4, 5, 6])"
      ]
     },
     "execution_count": 14,
     "metadata": {},
     "output_type": "execute_result"
    }
   ],
   "execution_count": 14
  },
  {
   "cell_type": "code",
   "metadata": {
    "ExecuteTime": {
     "end_time": "2025-06-18T14:16:00.534585Z",
     "start_time": "2025-06-18T14:16:00.498480Z"
    }
   },
   "source": [
    "slice_ = arr[0:2]\n",
    "slice_"
   ],
   "outputs": [
    {
     "data": {
      "text/plain": [
       "array([1, 2])"
      ]
     },
     "execution_count": 15,
     "metadata": {},
     "output_type": "execute_result"
    }
   ],
   "execution_count": 15
  },
  {
   "cell_type": "code",
   "metadata": {
    "ExecuteTime": {
     "end_time": "2025-06-18T14:16:00.699841Z",
     "start_time": "2025-06-18T14:16:00.694450Z"
    }
   },
   "source": [
    "slice_[0] = 100\n",
    "slice_"
   ],
   "outputs": [
    {
     "data": {
      "text/plain": [
       "array([100,   2])"
      ]
     },
     "execution_count": 16,
     "metadata": {},
     "output_type": "execute_result"
    }
   ],
   "execution_count": 16
  },
  {
   "cell_type": "markdown",
   "metadata": {},
   "source": [
    "So the slice was modified, and the original array is..."
   ]
  },
  {
   "cell_type": "code",
   "metadata": {
    "ExecuteTime": {
     "end_time": "2025-06-18T14:16:00.908263Z",
     "start_time": "2025-06-18T14:16:00.900351Z"
    }
   },
   "source": [
    "arr"
   ],
   "outputs": [
    {
     "data": {
      "text/plain": [
       "array([100,   2,   3,   4,   5,   6])"
      ]
     },
     "execution_count": 17,
     "metadata": {},
     "output_type": "execute_result"
    }
   ],
   "execution_count": 17
  },
  {
   "cell_type": "markdown",
   "metadata": {},
   "source": [
    "also modified!"
   ]
  },
  {
   "cell_type": "markdown",
   "metadata": {},
   "source": [
    "The reverse is true too, if we modify the original array:"
   ]
  },
  {
   "cell_type": "code",
   "metadata": {
    "ExecuteTime": {
     "end_time": "2025-06-18T14:16:01.154847Z",
     "start_time": "2025-06-18T14:16:01.147261Z"
    }
   },
   "source": [
    "arr = np.arange(1, 7)\n",
    "slice_ = arr[3:]\n",
    "slice_"
   ],
   "outputs": [
    {
     "data": {
      "text/plain": [
       "array([4, 5, 6])"
      ]
     },
     "execution_count": 18,
     "metadata": {},
     "output_type": "execute_result"
    }
   ],
   "execution_count": 18
  },
  {
   "cell_type": "code",
   "metadata": {
    "ExecuteTime": {
     "end_time": "2025-06-18T14:16:01.300178Z",
     "start_time": "2025-06-18T14:16:01.293158Z"
    }
   },
   "source": [
    "arr[-1] = 60\n",
    "arr"
   ],
   "outputs": [
    {
     "data": {
      "text/plain": [
       "array([ 1,  2,  3,  4,  5, 60])"
      ]
     },
     "execution_count": 19,
     "metadata": {},
     "output_type": "execute_result"
    }
   ],
   "execution_count": 19
  },
  {
   "cell_type": "code",
   "metadata": {
    "ExecuteTime": {
     "end_time": "2025-06-18T14:16:01.393255Z",
     "start_time": "2025-06-18T14:16:01.386820Z"
    }
   },
   "source": [
    "slice_"
   ],
   "outputs": [
    {
     "data": {
      "text/plain": [
       "array([ 4,  5, 60])"
      ]
     },
     "execution_count": 20,
     "metadata": {},
     "output_type": "execute_result"
    }
   ],
   "execution_count": 20
  },
  {
   "cell_type": "markdown",
   "metadata": {},
   "source": [
    "And as we can see the slice \"saw\" the change as well."
   ]
  },
  {
   "cell_type": "markdown",
   "metadata": {},
   "source": [
    "If we want to \"break\" this link, we can simply make a copy of the slice:"
   ]
  },
  {
   "cell_type": "code",
   "metadata": {
    "ExecuteTime": {
     "end_time": "2025-06-18T14:16:01.651059Z",
     "start_time": "2025-06-18T14:16:01.644659Z"
    }
   },
   "source": [
    "arr = np.arange(1, 7)\n",
    "slice_ = arr[3:].copy()\n",
    "slice_"
   ],
   "outputs": [
    {
     "data": {
      "text/plain": [
       "array([4, 5, 6])"
      ]
     },
     "execution_count": 21,
     "metadata": {},
     "output_type": "execute_result"
    }
   ],
   "execution_count": 21
  },
  {
   "cell_type": "code",
   "metadata": {
    "ExecuteTime": {
     "end_time": "2025-06-18T14:16:01.877460Z",
     "start_time": "2025-06-18T14:16:01.870366Z"
    }
   },
   "source": [
    "slice_[-1] = 60\n",
    "slice_"
   ],
   "outputs": [
    {
     "data": {
      "text/plain": [
       "array([ 4,  5, 60])"
      ]
     },
     "execution_count": 22,
     "metadata": {},
     "output_type": "execute_result"
    }
   ],
   "execution_count": 22
  },
  {
   "cell_type": "code",
   "metadata": {
    "ExecuteTime": {
     "end_time": "2025-06-18T14:16:02.060902Z",
     "start_time": "2025-06-18T14:16:02.055031Z"
    }
   },
   "source": [
    "arr"
   ],
   "outputs": [
    {
     "data": {
      "text/plain": [
       "array([1, 2, 3, 4, 5, 6])"
      ]
     },
     "execution_count": 23,
     "metadata": {},
     "output_type": "execute_result"
    }
   ],
   "execution_count": 23
  },
  {
   "cell_type": "markdown",
   "metadata": {},
   "source": [
    "#### 2-D Arrays"
   ]
  },
  {
   "cell_type": "markdown",
   "metadata": {},
   "source": [
    "Slicing 2-D arrays is a little trickier - the best way to explain it is visually as we saw in the lecture.\n",
    "\n",
    "But let's try out slicing a few different ways."
   ]
  },
  {
   "cell_type": "markdown",
   "metadata": {},
   "source": [
    "Let's start with a square 5 x 5 array of integers from 1 to 25:"
   ]
  },
  {
   "cell_type": "code",
   "metadata": {
    "ExecuteTime": {
     "end_time": "2025-06-18T14:16:03.339276Z",
     "start_time": "2025-06-18T14:16:03.331815Z"
    }
   },
   "source": [
    "arr = np.arange(1, 26).reshape(5, 5)\n",
    "arr"
   ],
   "outputs": [
    {
     "data": {
      "text/plain": [
       "array([[ 1,  2,  3,  4,  5],\n",
       "       [ 6,  7,  8,  9, 10],\n",
       "       [11, 12, 13, 14, 15],\n",
       "       [16, 17, 18, 19, 20],\n",
       "       [21, 22, 23, 24, 25]])"
      ]
     },
     "execution_count": 24,
     "metadata": {},
     "output_type": "execute_result"
    }
   ],
   "execution_count": 24
  },
  {
   "cell_type": "markdown",
   "metadata": {},
   "source": [
    "Let's say we want to select the elements:\n",
    "\n",
    "```\n",
    "1 2\n",
    "6 7\n",
    "```"
   ]
  },
  {
   "cell_type": "markdown",
   "metadata": {},
   "source": [
    "This is basically looking at the first two elements of the first two rows of `arr`.\n",
    "\n",
    "This means we need to slice the first two rows in the first axis (dimension), and the first two elements in the second axis:"
   ]
  },
  {
   "cell_type": "code",
   "metadata": {
    "ExecuteTime": {
     "end_time": "2025-06-18T14:16:04.054436Z",
     "start_time": "2025-06-18T14:16:04.046133Z"
    }
   },
   "source": [
    "arr[0:2, 0:2]"
   ],
   "outputs": [
    {
     "data": {
      "text/plain": [
       "array([[1, 2],\n",
       "       [6, 7]])"
      ]
     },
     "execution_count": 25,
     "metadata": {},
     "output_type": "execute_result"
    }
   ],
   "execution_count": 25
  },
  {
   "cell_type": "markdown",
   "metadata": {},
   "source": [
    "Things can get weirder when we use steps.\n",
    "\n",
    "For example we want to pick these elements from the array:\n",
    "\n",
    "```\n",
    "1  3   5\n",
    "11 13  15\n",
    "21 23  25\n",
    "```"
   ]
  },
  {
   "cell_type": "markdown",
   "metadata": {},
   "source": [
    "As we can see we are picking every second row (starting at row 0) and every second column (starting at column 0), so we can combine the slices in both axes:"
   ]
  },
  {
   "cell_type": "code",
   "metadata": {
    "ExecuteTime": {
     "end_time": "2025-06-18T14:16:04.400743Z",
     "start_time": "2025-06-18T14:16:04.393223Z"
    }
   },
   "source": [
    "arr[::2, ::2]"
   ],
   "outputs": [
    {
     "data": {
      "text/plain": [
       "array([[ 1,  3,  5],\n",
       "       [11, 13, 15],\n",
       "       [21, 23, 25]])"
      ]
     },
     "execution_count": 26,
     "metadata": {},
     "output_type": "execute_result"
    }
   ],
   "execution_count": 26
  },
  {
   "cell_type": "markdown",
   "metadata": {},
   "source": [
    "We can also combine indexing along one axis with slicing in another."
   ]
  },
  {
   "cell_type": "markdown",
   "metadata": {},
   "source": [
    "For example, we can select every second element, starting at the second element, in the third row:"
   ]
  },
  {
   "cell_type": "code",
   "metadata": {
    "ExecuteTime": {
     "end_time": "2025-06-18T14:16:04.980918Z",
     "start_time": "2025-06-18T14:16:04.974349Z"
    }
   },
   "source": [
    "arr"
   ],
   "outputs": [
    {
     "data": {
      "text/plain": [
       "array([[ 1,  2,  3,  4,  5],\n",
       "       [ 6,  7,  8,  9, 10],\n",
       "       [11, 12, 13, 14, 15],\n",
       "       [16, 17, 18, 19, 20],\n",
       "       [21, 22, 23, 24, 25]])"
      ]
     },
     "execution_count": 27,
     "metadata": {},
     "output_type": "execute_result"
    }
   ],
   "execution_count": 27
  },
  {
   "cell_type": "code",
   "metadata": {
    "ExecuteTime": {
     "end_time": "2025-06-18T14:16:05.134075Z",
     "start_time": "2025-06-18T14:16:05.128476Z"
    }
   },
   "source": [
    "arr[2, 1::2]"
   ],
   "outputs": [
    {
     "data": {
      "text/plain": [
       "array([12, 14])"
      ]
     },
     "execution_count": 28,
     "metadata": {},
     "output_type": "execute_result"
    }
   ],
   "execution_count": 28
  },
  {
   "cell_type": "markdown",
   "metadata": {},
   "source": [
    "And again, keep in mind that the slice is \"linked\" to the original array:"
   ]
  },
  {
   "cell_type": "code",
   "metadata": {
    "ExecuteTime": {
     "end_time": "2025-06-18T14:16:05.566224Z",
     "start_time": "2025-06-18T14:16:05.558482Z"
    }
   },
   "source": [
    "slice_ = arr[2, 1::2]\n",
    "slice_"
   ],
   "outputs": [
    {
     "data": {
      "text/plain": [
       "array([12, 14])"
      ]
     },
     "execution_count": 29,
     "metadata": {},
     "output_type": "execute_result"
    }
   ],
   "execution_count": 29
  },
  {
   "cell_type": "code",
   "metadata": {
    "ExecuteTime": {
     "end_time": "2025-06-18T14:16:05.843136Z",
     "start_time": "2025-06-18T14:16:05.835968Z"
    }
   },
   "source": [
    "slice_[0] = 120\n",
    "slice_"
   ],
   "outputs": [
    {
     "data": {
      "text/plain": [
       "array([120,  14])"
      ]
     },
     "execution_count": 30,
     "metadata": {},
     "output_type": "execute_result"
    }
   ],
   "execution_count": 30
  },
  {
   "cell_type": "code",
   "metadata": {
    "ExecuteTime": {
     "end_time": "2025-06-18T14:16:05.949584Z",
     "start_time": "2025-06-18T14:16:05.943117Z"
    }
   },
   "source": [
    "arr"
   ],
   "outputs": [
    {
     "data": {
      "text/plain": [
       "array([[  1,   2,   3,   4,   5],\n",
       "       [  6,   7,   8,   9,  10],\n",
       "       [ 11, 120,  13,  14,  15],\n",
       "       [ 16,  17,  18,  19,  20],\n",
       "       [ 21,  22,  23,  24,  25]])"
      ]
     },
     "execution_count": 31,
     "metadata": {},
     "output_type": "execute_result"
    }
   ],
   "execution_count": 31
  },
  {
   "cell_type": "markdown",
   "metadata": {},
   "source": [
    "A question you're probably asking yourself, is how do I pick a slice of the first, second and fourth rows? You can't use a slice with a step for selecting the rows - a slice cannot slice the rows 0, 1, 2, so what's the solution?"
   ]
  },
  {
   "cell_type": "markdown",
   "metadata": {},
   "source": [
    "We'll look at that in the next videos on *fancy indexing*."
   ]
  },
  {
   "cell_type": "markdown",
   "metadata": {},
   "source": [
    "#### Assigning Values to Slices"
   ]
  },
  {
   "cell_type": "markdown",
   "metadata": {},
   "source": [
    "We saw earlier that we can replace multiple elements in a Python list by assigning a sequence to a slice:"
   ]
  },
  {
   "cell_type": "code",
   "metadata": {
    "ExecuteTime": {
     "end_time": "2025-06-18T14:16:06.892948Z",
     "start_time": "2025-06-18T14:16:06.888439Z"
    }
   },
   "source": [
    "l = [1, 2, 3, 4, 5, 6]"
   ],
   "outputs": [],
   "execution_count": 32
  },
  {
   "cell_type": "code",
   "metadata": {
    "ExecuteTime": {
     "end_time": "2025-06-18T14:16:07.116398Z",
     "start_time": "2025-06-18T14:16:07.109902Z"
    }
   },
   "source": [
    "l[0:3] = [10, 20, 30]\n",
    "l"
   ],
   "outputs": [
    {
     "data": {
      "text/plain": [
       "[10, 20, 30, 4, 5, 6]"
      ]
     },
     "execution_count": 33,
     "metadata": {},
     "output_type": "execute_result"
    }
   ],
   "execution_count": 33
  },
  {
   "cell_type": "markdown",
   "metadata": {},
   "source": [
    "We even saw that we can actually change the number of elements we are replacing - this is possible because Python lists, unlike NumPy arrays, are not of fixed size."
   ]
  },
  {
   "cell_type": "code",
   "metadata": {
    "ExecuteTime": {
     "end_time": "2025-06-18T14:16:07.467337Z",
     "start_time": "2025-06-18T14:16:07.460128Z"
    }
   },
   "source": [
    "l = [1, 2, 3, 4, 5, 6]\n",
    "l[0:3] = [10, 20, 30, 40, 50]\n",
    "l"
   ],
   "outputs": [
    {
     "data": {
      "text/plain": [
       "[10, 20, 30, 40, 50, 4, 5, 6]"
      ]
     },
     "execution_count": 34,
     "metadata": {},
     "output_type": "execute_result"
    }
   ],
   "execution_count": 34
  },
  {
   "cell_type": "markdown",
   "metadata": {},
   "source": [
    "We can do something similar with NumPy arrays, but of course we cannot change the size of the original array."
   ]
  },
  {
   "cell_type": "code",
   "metadata": {
    "ExecuteTime": {
     "end_time": "2025-06-18T14:16:07.998563Z",
     "start_time": "2025-06-18T14:16:07.988934Z"
    }
   },
   "source": [
    "arr = np.array([1, 2, 3, 4, 5, 6])\n",
    "arr[0:3] = np.array([10, 20, 30])\n",
    "arr"
   ],
   "outputs": [
    {
     "data": {
      "text/plain": [
       "array([10, 20, 30,  4,  5,  6])"
      ]
     },
     "execution_count": 35,
     "metadata": {},
     "output_type": "execute_result"
    }
   ],
   "execution_count": 35
  },
  {
   "cell_type": "markdown",
   "metadata": {},
   "source": [
    "We can even use a list instead of an `ndarray`, NumPy will handle that:"
   ]
  },
  {
   "cell_type": "code",
   "metadata": {
    "ExecuteTime": {
     "end_time": "2025-06-18T14:16:08.338500Z",
     "start_time": "2025-06-18T14:16:08.331273Z"
    }
   },
   "source": [
    "arr = np.array([1, 2, 3, 4, 5, 6])\n",
    "arr[::2] = [10, 30, 50]\n",
    "arr"
   ],
   "outputs": [
    {
     "data": {
      "text/plain": [
       "array([10,  2, 30,  4, 50,  6])"
      ]
     },
     "execution_count": 36,
     "metadata": {},
     "output_type": "execute_result"
    }
   ],
   "execution_count": 36
  },
  {
   "cell_type": "markdown",
   "metadata": {},
   "source": [
    "But of course we cannot do an assignment that would modify the size of the array:"
   ]
  },
  {
   "cell_type": "code",
   "metadata": {
    "ExecuteTime": {
     "end_time": "2025-06-18T14:16:09.303136Z",
     "start_time": "2025-06-18T14:16:08.681574Z"
    }
   },
   "source": [
    "arr = np.array([1, 2, 3, 4, 5, 6])\n",
    "arr[0:3] = [10, 20, 30, 40]"
   ],
   "outputs": [
    {
     "ename": "ValueError",
     "evalue": "could not broadcast input array from shape (4,) into shape (3,)",
     "output_type": "error",
     "traceback": [
      "\u001B[1;31m---------------------------------------------------------------------------\u001B[0m",
      "\u001B[1;31mValueError\u001B[0m                                Traceback (most recent call last)",
      "Cell \u001B[1;32mIn[37], line 2\u001B[0m\n\u001B[0;32m      1\u001B[0m arr \u001B[38;5;241m=\u001B[39m np\u001B[38;5;241m.\u001B[39marray([\u001B[38;5;241m1\u001B[39m, \u001B[38;5;241m2\u001B[39m, \u001B[38;5;241m3\u001B[39m, \u001B[38;5;241m4\u001B[39m, \u001B[38;5;241m5\u001B[39m, \u001B[38;5;241m6\u001B[39m])\n\u001B[1;32m----> 2\u001B[0m \u001B[43marr\u001B[49m\u001B[43m[\u001B[49m\u001B[38;5;241;43m0\u001B[39;49m\u001B[43m:\u001B[49m\u001B[38;5;241;43m3\u001B[39;49m\u001B[43m]\u001B[49m \u001B[38;5;241m=\u001B[39m [\u001B[38;5;241m10\u001B[39m, \u001B[38;5;241m20\u001B[39m, \u001B[38;5;241m30\u001B[39m, \u001B[38;5;241m40\u001B[39m]\n",
      "\u001B[1;31mValueError\u001B[0m: could not broadcast input array from shape (4,) into shape (3,)"
     ]
    }
   ],
   "execution_count": 37
  },
  {
   "cell_type": "markdown",
   "metadata": {},
   "source": [
    "We can however, assign a **single** value to a slice - NumPy will just repeat that value as many times as needed to replace every element of the slice with that value."
   ]
  },
  {
   "cell_type": "code",
   "execution_count": 38,
   "metadata": {},
   "outputs": [
    {
     "data": {
      "text/plain": [
       "array([[0, 1, 2],\n",
       "       [3, 4, 5],\n",
       "       [6, 7, 8]])"
      ]
     },
     "execution_count": 38,
     "metadata": {},
     "output_type": "execute_result"
    }
   ],
   "source": [
    "arr = np.arange(9).reshape(3, 3)\n",
    "arr"
   ]
  },
  {
   "cell_type": "code",
   "execution_count": 39,
   "metadata": {},
   "outputs": [
    {
     "data": {
      "text/plain": [
       "array([[0, 2],\n",
       "       [6, 8]])"
      ]
     },
     "execution_count": 39,
     "metadata": {},
     "output_type": "execute_result"
    }
   ],
   "source": [
    "arr[::2, ::2]"
   ]
  },
  {
   "cell_type": "code",
   "metadata": {
    "ExecuteTime": {
     "end_time": "2025-06-18T14:16:09.590910Z",
     "start_time": "2025-06-18T14:16:09.567691Z"
    }
   },
   "source": [
    "arr[::2, ::2] = 100\n",
    "arr"
   ],
   "outputs": [
    {
     "ename": "IndexError",
     "evalue": "too many indices for array: array is 1-dimensional, but 2 were indexed",
     "output_type": "error",
     "traceback": [
      "\u001B[1;31m---------------------------------------------------------------------------\u001B[0m",
      "\u001B[1;31mIndexError\u001B[0m                                Traceback (most recent call last)",
      "Cell \u001B[1;32mIn[38], line 1\u001B[0m\n\u001B[1;32m----> 1\u001B[0m \u001B[43marr\u001B[49m\u001B[43m[\u001B[49m\u001B[43m:\u001B[49m\u001B[43m:\u001B[49m\u001B[38;5;241;43m2\u001B[39;49m\u001B[43m,\u001B[49m\u001B[43m \u001B[49m\u001B[43m:\u001B[49m\u001B[43m:\u001B[49m\u001B[38;5;241;43m2\u001B[39;49m\u001B[43m]\u001B[49m \u001B[38;5;241m=\u001B[39m \u001B[38;5;241m100\u001B[39m\n\u001B[0;32m      2\u001B[0m arr\n",
      "\u001B[1;31mIndexError\u001B[0m: too many indices for array: array is 1-dimensional, but 2 were indexed"
     ]
    }
   ],
   "execution_count": 38
  },
  {
   "cell_type": "markdown",
   "metadata": {},
   "source": [
    "Anther thing to note is that although an `ndarray` slice is \"linked\" to the original array, if we replace it with another array, that replaced slice is not linked to that second array.\n",
    "\n",
    "Let's see an example to illustrate this:"
   ]
  },
  {
   "cell_type": "code",
   "metadata": {
    "ExecuteTime": {
     "end_time": "2025-06-18T14:16:09.926772Z",
     "start_time": "2025-06-18T14:16:09.920377Z"
    }
   },
   "source": [
    "arr1 = np.array([1, 2, 3, 4, 5])\n",
    "arr2 = np.array([10, 20])"
   ],
   "outputs": [],
   "execution_count": 39
  },
  {
   "cell_type": "code",
   "metadata": {
    "ExecuteTime": {
     "end_time": "2025-06-18T14:16:10.139965Z",
     "start_time": "2025-06-18T14:16:10.133633Z"
    }
   },
   "source": [
    "arr1[0:2] = arr2\n",
    "arr1"
   ],
   "outputs": [
    {
     "data": {
      "text/plain": [
       "array([10, 20,  3,  4,  5])"
      ]
     },
     "execution_count": 40,
     "metadata": {},
     "output_type": "execute_result"
    }
   ],
   "execution_count": 40
  },
  {
   "cell_type": "code",
   "metadata": {
    "ExecuteTime": {
     "end_time": "2025-06-18T14:16:10.356715Z",
     "start_time": "2025-06-18T14:16:10.349491Z"
    }
   },
   "source": [
    "arr2[0] = 100\n",
    "arr2"
   ],
   "outputs": [
    {
     "data": {
      "text/plain": [
       "array([100,  20])"
      ]
     },
     "execution_count": 41,
     "metadata": {},
     "output_type": "execute_result"
    }
   ],
   "execution_count": 41
  },
  {
   "cell_type": "code",
   "metadata": {
    "ExecuteTime": {
     "end_time": "2025-06-18T14:16:10.492895Z",
     "start_time": "2025-06-18T14:16:10.486900Z"
    }
   },
   "source": [
    "arr1"
   ],
   "outputs": [
    {
     "data": {
      "text/plain": [
       "array([10, 20,  3,  4,  5])"
      ]
     },
     "execution_count": 42,
     "metadata": {},
     "output_type": "execute_result"
    }
   ],
   "execution_count": 42
  },
  {
   "cell_type": "markdown",
   "metadata": {},
   "source": [
    "Of course, this assignment to slices works in higher dimensions too, we just have to make sure we assign an array (or list of lists) that has the same shape as the slice."
   ]
  },
  {
   "cell_type": "code",
   "metadata": {
    "ExecuteTime": {
     "end_time": "2025-06-18T14:16:10.864116Z",
     "start_time": "2025-06-18T14:16:10.856905Z"
    }
   },
   "source": [
    "arr = np.arange(9).reshape(3, 3)\n",
    "arr"
   ],
   "outputs": [
    {
     "data": {
      "text/plain": [
       "array([[0, 1, 2],\n",
       "       [3, 4, 5],\n",
       "       [6, 7, 8]])"
      ]
     },
     "execution_count": 43,
     "metadata": {},
     "output_type": "execute_result"
    }
   ],
   "execution_count": 43
  },
  {
   "cell_type": "code",
   "metadata": {
    "ExecuteTime": {
     "end_time": "2025-06-18T14:16:11.097105Z",
     "start_time": "2025-06-18T14:16:11.089435Z"
    }
   },
   "source": [
    "arr[:2, 1:]"
   ],
   "outputs": [
    {
     "data": {
      "text/plain": [
       "array([[1, 2],\n",
       "       [4, 5]])"
      ]
     },
     "execution_count": 44,
     "metadata": {},
     "output_type": "execute_result"
    }
   ],
   "execution_count": 44
  },
  {
   "cell_type": "code",
   "metadata": {
    "ExecuteTime": {
     "end_time": "2025-06-18T14:16:11.307915Z",
     "start_time": "2025-06-18T14:16:11.300396Z"
    }
   },
   "source": [
    "arr[:2, 1:] = [[10, 20], [40, 50]]\n",
    "arr"
   ],
   "outputs": [
    {
     "data": {
      "text/plain": [
       "array([[ 0, 10, 20],\n",
       "       [ 3, 40, 50],\n",
       "       [ 6,  7,  8]])"
      ]
     },
     "execution_count": 45,
     "metadata": {},
     "output_type": "execute_result"
    }
   ],
   "execution_count": 45
  },
  {
   "cell_type": "markdown",
   "metadata": {},
   "source": [
    "And if we try to assign an array that is not of the same shape, we'll get an exception, even if the total number of elements matches the total number of elements in the slice:"
   ]
  },
  {
   "cell_type": "code",
   "metadata": {
    "ExecuteTime": {
     "end_time": "2025-06-18T14:16:11.739968Z",
     "start_time": "2025-06-18T14:16:11.718330Z"
    }
   },
   "source": [
    "arr[:2, 1:] = [10, 20, 40, 50]"
   ],
   "outputs": [
    {
     "ename": "ValueError",
     "evalue": "could not broadcast input array from shape (4,) into shape (2,2)",
     "output_type": "error",
     "traceback": [
      "\u001B[1;31m---------------------------------------------------------------------------\u001B[0m",
      "\u001B[1;31mValueError\u001B[0m                                Traceback (most recent call last)",
      "Cell \u001B[1;32mIn[46], line 1\u001B[0m\n\u001B[1;32m----> 1\u001B[0m \u001B[43marr\u001B[49m\u001B[43m[\u001B[49m\u001B[43m:\u001B[49m\u001B[38;5;241;43m2\u001B[39;49m\u001B[43m,\u001B[49m\u001B[43m \u001B[49m\u001B[38;5;241;43m1\u001B[39;49m\u001B[43m:\u001B[49m\u001B[43m]\u001B[49m \u001B[38;5;241m=\u001B[39m [\u001B[38;5;241m10\u001B[39m, \u001B[38;5;241m20\u001B[39m, \u001B[38;5;241m40\u001B[39m, \u001B[38;5;241m50\u001B[39m]\n",
      "\u001B[1;31mValueError\u001B[0m: could not broadcast input array from shape (4,) into shape (2,2)"
     ]
    }
   ],
   "execution_count": 46
  },
  {
   "cell_type": "markdown",
   "metadata": {},
   "source": [
    "Of course, you can always reshape it before doing the assignment:"
   ]
  },
  {
   "cell_type": "code",
   "metadata": {
    "ExecuteTime": {
     "end_time": "2025-06-18T14:16:12.103251Z",
     "start_time": "2025-06-18T14:16:12.097477Z"
    }
   },
   "source": [
    "arr[:2, 1:] = np.array([10, 20, 40, 50]).reshape(2, 2)\n",
    "arr"
   ],
   "outputs": [
    {
     "data": {
      "text/plain": [
       "array([[ 0, 10, 20],\n",
       "       [ 3, 40, 50],\n",
       "       [ 6,  7,  8]])"
      ]
     },
     "execution_count": 47,
     "metadata": {},
     "output_type": "execute_result"
    }
   ],
   "execution_count": 47
  },
  {
   "cell_type": "markdown",
   "metadata": {},
   "source": [
    "Lastly, I just want to point out that since NumPy arrays have a fixed homogeneous `dtype`, we have to be careful when we mix types."
   ]
  },
  {
   "cell_type": "markdown",
   "metadata": {},
   "source": [
    "For example, suppose we have an array of unsigned 8-bit integers (so range is `[0, 255]`:"
   ]
  },
  {
   "cell_type": "code",
   "metadata": {
    "ExecuteTime": {
     "end_time": "2025-06-18T14:16:12.709872Z",
     "start_time": "2025-06-18T14:16:12.704889Z"
    }
   },
   "source": [
    "arr = np.array([10, 20, 30, 40, 50], dtype=np.uint8)"
   ],
   "outputs": [],
   "execution_count": 48
  },
  {
   "cell_type": "code",
   "metadata": {
    "ExecuteTime": {
     "end_time": "2025-06-18T14:16:13.107936Z",
     "start_time": "2025-06-18T14:16:13.102019Z"
    }
   },
   "source": [
    "arr"
   ],
   "outputs": [
    {
     "data": {
      "text/plain": [
       "array([10, 20, 30, 40, 50], dtype=uint8)"
      ]
     },
     "execution_count": 49,
     "metadata": {},
     "output_type": "execute_result"
    }
   ],
   "execution_count": 49
  },
  {
   "cell_type": "code",
   "metadata": {
    "ExecuteTime": {
     "end_time": "2025-06-18T14:16:13.541111Z",
     "start_time": "2025-06-18T14:16:13.520118Z"
    }
   },
   "source": [
    "arr[0:2] = [-100, 300]\n",
    "arr"
   ],
   "outputs": [
    {
     "ename": "OverflowError",
     "evalue": "Python integer -100 out of bounds for uint8",
     "output_type": "error",
     "traceback": [
      "\u001B[1;31m---------------------------------------------------------------------------\u001B[0m",
      "\u001B[1;31mOverflowError\u001B[0m                             Traceback (most recent call last)",
      "Cell \u001B[1;32mIn[50], line 1\u001B[0m\n\u001B[1;32m----> 1\u001B[0m \u001B[43marr\u001B[49m\u001B[43m[\u001B[49m\u001B[38;5;241;43m0\u001B[39;49m\u001B[43m:\u001B[49m\u001B[38;5;241;43m2\u001B[39;49m\u001B[43m]\u001B[49m \u001B[38;5;241m=\u001B[39m [\u001B[38;5;241m-\u001B[39m\u001B[38;5;241m100\u001B[39m, \u001B[38;5;241m300\u001B[39m]\n\u001B[0;32m      2\u001B[0m arr\n",
      "\u001B[1;31mOverflowError\u001B[0m: Python integer -100 out of bounds for uint8"
     ]
    }
   ],
   "execution_count": 50
  }
 ],
 "metadata": {
  "kernelspec": {
   "display_name": "Python 3",
   "language": "python",
   "name": "python3"
  },
  "language_info": {
   "codemirror_mode": {
    "name": "ipython",
    "version": 3
   },
   "file_extension": ".py",
   "mimetype": "text/x-python",
   "name": "python",
   "nbconvert_exporter": "python",
   "pygments_lexer": "ipython3",
   "version": "3.9.1"
  }
 },
 "nbformat": 4,
 "nbformat_minor": 4
}
