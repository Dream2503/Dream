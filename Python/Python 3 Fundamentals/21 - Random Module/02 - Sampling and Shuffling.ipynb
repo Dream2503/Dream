{
 "cells": [
  {
   "cell_type": "markdown",
   "metadata": {},
   "source": [
    "### Sampling and Shuffling"
   ]
  },
  {
   "cell_type": "markdown",
   "metadata": {},
   "source": [
    "We can shuffle (in-place) a list (or any mutable sequence) using the `shuffle` function in the `random` module:"
   ]
  },
  {
   "cell_type": "code",
   "metadata": {
    "ExecuteTime": {
     "end_time": "2025-06-18T04:57:41.440142Z",
     "start_time": "2025-06-18T04:57:41.433982Z"
    }
   },
   "source": [
    "import random"
   ],
   "outputs": [],
   "execution_count": 1
  },
  {
   "cell_type": "code",
   "metadata": {
    "ExecuteTime": {
     "end_time": "2025-06-18T04:57:41.753623Z",
     "start_time": "2025-06-18T04:57:41.750114Z"
    }
   },
   "source": [
    "l = [1, 2, 3, 4, 5]"
   ],
   "outputs": [],
   "execution_count": 2
  },
  {
   "cell_type": "code",
   "metadata": {
    "ExecuteTime": {
     "end_time": "2025-06-18T04:57:41.798742Z",
     "start_time": "2025-06-18T04:57:41.787465Z"
    }
   },
   "source": [
    "random.shuffle(l)"
   ],
   "outputs": [],
   "execution_count": 3
  },
  {
   "cell_type": "markdown",
   "metadata": {},
   "source": [
    "As you can see nothing is *returned* from this function call - that's because it mutated `l`:"
   ]
  },
  {
   "cell_type": "code",
   "metadata": {
    "ExecuteTime": {
     "end_time": "2025-06-18T04:57:41.835107Z",
     "start_time": "2025-06-18T04:57:41.823465Z"
    }
   },
   "source": [
    "l"
   ],
   "outputs": [
    {
     "data": {
      "text/plain": [
       "[5, 1, 2, 4, 3]"
      ]
     },
     "execution_count": 4,
     "metadata": {},
     "output_type": "execute_result"
    }
   ],
   "execution_count": 4
  },
  {
   "cell_type": "markdown",
   "metadata": {},
   "source": [
    "The `shuffle` function also uses `random()` as it's source of random numbers, so for the same seed, we'll get the same shuffle:"
   ]
  },
  {
   "cell_type": "code",
   "metadata": {
    "ExecuteTime": {
     "end_time": "2025-06-18T04:57:41.901755Z",
     "start_time": "2025-06-18T04:57:41.896450Z"
    }
   },
   "source": [
    "l = [1, 2, 3, 4, 5]\n",
    "random.seed(0)\n",
    "random.shuffle(l)\n",
    "print(l)"
   ],
   "outputs": [
    {
     "name": "stdout",
     "output_type": "stream",
     "text": [
      "[3, 2, 1, 5, 4]\n"
     ]
    }
   ],
   "execution_count": 5
  },
  {
   "cell_type": "code",
   "metadata": {
    "ExecuteTime": {
     "end_time": "2025-06-18T04:57:41.966610Z",
     "start_time": "2025-06-18T04:57:41.960126Z"
    }
   },
   "source": [
    "l = [1, 2, 3, 4, 5]\n",
    "random.seed(0)\n",
    "random.shuffle(l)\n",
    "print(l)"
   ],
   "outputs": [
    {
     "name": "stdout",
     "output_type": "stream",
     "text": [
      "[3, 2, 1, 5, 4]\n"
     ]
    }
   ],
   "execution_count": 6
  },
  {
   "cell_type": "markdown",
   "metadata": {},
   "source": [
    "The `choice` function can be used to pick a random element from a sequence:"
   ]
  },
  {
   "cell_type": "code",
   "metadata": {
    "ExecuteTime": {
     "end_time": "2025-06-18T04:57:42.016828Z",
     "start_time": "2025-06-18T04:57:42.010716Z"
    }
   },
   "source": [
    "random.seed(0)\n",
    "l = [1, 2, 3, 4, 5]\n",
    "for _ in range(5):\n",
    "    print(random.choice(l))"
   ],
   "outputs": [
    {
     "name": "stdout",
     "output_type": "stream",
     "text": [
      "4\n",
      "4\n",
      "1\n",
      "3\n",
      "5\n"
     ]
    }
   ],
   "execution_count": 7
  },
  {
   "cell_type": "markdown",
   "metadata": {},
   "source": [
    "And again, repeatable if we use the same seed:"
   ]
  },
  {
   "cell_type": "code",
   "metadata": {
    "ExecuteTime": {
     "end_time": "2025-06-18T04:57:42.079384Z",
     "start_time": "2025-06-18T04:57:42.073597Z"
    }
   },
   "source": [
    "random.seed(0)\n",
    "l = [1, 2, 3, 4, 5]\n",
    "for _ in range(5):\n",
    "    print(random.choice(l))"
   ],
   "outputs": [
    {
     "name": "stdout",
     "output_type": "stream",
     "text": [
      "4\n",
      "4\n",
      "1\n",
      "3\n",
      "5\n"
     ]
    }
   ],
   "execution_count": 8
  },
  {
   "cell_type": "markdown",
   "metadata": {},
   "source": [
    "The frequency distiribution of repeated choices would result in a uniform distribution."
   ]
  },
  {
   "cell_type": "markdown",
   "metadata": {},
   "source": [
    "We also have two methods for randomly choosing multiple elements at a time."
   ]
  },
  {
   "cell_type": "markdown",
   "metadata": {},
   "source": [
    "The first one we'll look at is the `sample` function."
   ]
  },
  {
   "cell_type": "markdown",
   "metadata": {},
   "source": [
    "This allows us to pick a random subset from a sequence or set, and even a range."
   ]
  },
  {
   "cell_type": "code",
   "metadata": {
    "ExecuteTime": {
     "end_time": "2025-06-18T04:57:42.140265Z",
     "start_time": "2025-06-18T04:57:42.135655Z"
    }
   },
   "source": [
    "s = set('abcdef')"
   ],
   "outputs": [],
   "execution_count": 9
  },
  {
   "cell_type": "code",
   "metadata": {
    "ExecuteTime": {
     "end_time": "2025-06-18T04:57:42.170839Z",
     "start_time": "2025-06-18T04:57:42.164657Z"
    }
   },
   "source": [
    "s"
   ],
   "outputs": [
    {
     "data": {
      "text/plain": [
       "{'a', 'b', 'c', 'd', 'e', 'f'}"
      ]
     },
     "execution_count": 10,
     "metadata": {},
     "output_type": "execute_result"
    }
   ],
   "execution_count": 10
  },
  {
   "cell_type": "code",
   "metadata": {
    "ExecuteTime": {
     "end_time": "2025-06-18T04:57:42.676364Z",
     "start_time": "2025-06-18T04:57:42.230350Z"
    }
   },
   "source": [
    "random.seed(0)\n",
    "\n",
    "for _ in range(5):\n",
    "    print(random.sample(s, 3))"
   ],
   "outputs": [
    {
     "ename": "TypeError",
     "evalue": "Population must be a sequence.  For dicts or sets, use sorted(d).",
     "output_type": "error",
     "traceback": [
      "\u001B[1;31m---------------------------------------------------------------------------\u001B[0m",
      "\u001B[1;31mTypeError\u001B[0m                                 Traceback (most recent call last)",
      "Cell \u001B[1;32mIn[11], line 4\u001B[0m\n\u001B[0;32m      1\u001B[0m random\u001B[38;5;241m.\u001B[39mseed(\u001B[38;5;241m0\u001B[39m)\n\u001B[0;32m      3\u001B[0m \u001B[38;5;28;01mfor\u001B[39;00m _ \u001B[38;5;129;01min\u001B[39;00m \u001B[38;5;28mrange\u001B[39m(\u001B[38;5;241m5\u001B[39m):\n\u001B[1;32m----> 4\u001B[0m     \u001B[38;5;28mprint\u001B[39m(\u001B[43mrandom\u001B[49m\u001B[38;5;241;43m.\u001B[39;49m\u001B[43msample\u001B[49m\u001B[43m(\u001B[49m\u001B[43ms\u001B[49m\u001B[43m,\u001B[49m\u001B[43m \u001B[49m\u001B[38;5;241;43m3\u001B[39;49m\u001B[43m)\u001B[49m)\n",
      "File \u001B[1;32mC:\\Program Files\\WindowsApps\\PythonSoftwareFoundation.Python.3.12_3.12.2800.0_x64__qbz5n2kfra8p0\\Lib\\random.py:413\u001B[0m, in \u001B[0;36mRandom.sample\u001B[1;34m(self, population, k, counts)\u001B[0m\n\u001B[0;32m    389\u001B[0m \u001B[38;5;66;03m# Sampling without replacement entails tracking either potential\u001B[39;00m\n\u001B[0;32m    390\u001B[0m \u001B[38;5;66;03m# selections (the pool) in a list or previous selections in a set.\u001B[39;00m\n\u001B[0;32m    391\u001B[0m \n\u001B[1;32m   (...)\u001B[0m\n\u001B[0;32m    409\u001B[0m \u001B[38;5;66;03m# too many calls to _randbelow(), making them slower and\u001B[39;00m\n\u001B[0;32m    410\u001B[0m \u001B[38;5;66;03m# causing them to eat more entropy than necessary.\u001B[39;00m\n\u001B[0;32m    412\u001B[0m \u001B[38;5;28;01mif\u001B[39;00m \u001B[38;5;129;01mnot\u001B[39;00m \u001B[38;5;28misinstance\u001B[39m(population, _Sequence):\n\u001B[1;32m--> 413\u001B[0m     \u001B[38;5;28;01mraise\u001B[39;00m \u001B[38;5;167;01mTypeError\u001B[39;00m(\u001B[38;5;124m\"\u001B[39m\u001B[38;5;124mPopulation must be a sequence.  \u001B[39m\u001B[38;5;124m\"\u001B[39m\n\u001B[0;32m    414\u001B[0m                     \u001B[38;5;124m\"\u001B[39m\u001B[38;5;124mFor dicts or sets, use sorted(d).\u001B[39m\u001B[38;5;124m\"\u001B[39m)\n\u001B[0;32m    415\u001B[0m n \u001B[38;5;241m=\u001B[39m \u001B[38;5;28mlen\u001B[39m(population)\n\u001B[0;32m    416\u001B[0m \u001B[38;5;28;01mif\u001B[39;00m counts \u001B[38;5;129;01mis\u001B[39;00m \u001B[38;5;129;01mnot\u001B[39;00m \u001B[38;5;28;01mNone\u001B[39;00m:\n",
      "\u001B[1;31mTypeError\u001B[0m: Population must be a sequence.  For dicts or sets, use sorted(d)."
     ]
    }
   ],
   "execution_count": 11
  },
  {
   "cell_type": "markdown",
   "metadata": {},
   "source": [
    "You'll notice that in every choice made, the elements do not (and in general , will not) be repeated."
   ]
  },
  {
   "cell_type": "markdown",
   "metadata": {},
   "source": [
    "This is like doing population sampling, or picking cards from a deck of cards. As you are creating your random sample, once an element has been picked into the sample, it cannot be picked again."
   ]
  },
  {
   "cell_type": "markdown",
   "metadata": {},
   "source": [
    "This also means that you cannot set a sample size that exceeds the population size."
   ]
  },
  {
   "cell_type": "code",
   "metadata": {
    "ExecuteTime": {
     "end_time": "2025-06-18T04:57:58.687308Z",
     "start_time": "2025-06-18T04:57:58.646194Z"
    }
   },
   "source": [
    "try:\n",
    "    random.sample(s, 10)\n",
    "except ValueError as ex:\n",
    "    print(ex)"
   ],
   "outputs": [
    {
     "ename": "TypeError",
     "evalue": "Population must be a sequence.  For dicts or sets, use sorted(d).",
     "output_type": "error",
     "traceback": [
      "\u001B[1;31m---------------------------------------------------------------------------\u001B[0m",
      "\u001B[1;31mTypeError\u001B[0m                                 Traceback (most recent call last)",
      "Cell \u001B[1;32mIn[12], line 2\u001B[0m\n\u001B[0;32m      1\u001B[0m \u001B[38;5;28;01mtry\u001B[39;00m:\n\u001B[1;32m----> 2\u001B[0m     \u001B[43mrandom\u001B[49m\u001B[38;5;241;43m.\u001B[39;49m\u001B[43msample\u001B[49m\u001B[43m(\u001B[49m\u001B[43ms\u001B[49m\u001B[43m,\u001B[49m\u001B[43m \u001B[49m\u001B[38;5;241;43m10\u001B[39;49m\u001B[43m)\u001B[49m\n\u001B[0;32m      3\u001B[0m \u001B[38;5;28;01mexcept\u001B[39;00m \u001B[38;5;167;01mValueError\u001B[39;00m \u001B[38;5;28;01mas\u001B[39;00m ex:\n\u001B[0;32m      4\u001B[0m     \u001B[38;5;28mprint\u001B[39m(ex)\n",
      "File \u001B[1;32mC:\\Program Files\\WindowsApps\\PythonSoftwareFoundation.Python.3.12_3.12.2800.0_x64__qbz5n2kfra8p0\\Lib\\random.py:413\u001B[0m, in \u001B[0;36mRandom.sample\u001B[1;34m(self, population, k, counts)\u001B[0m\n\u001B[0;32m    389\u001B[0m \u001B[38;5;66;03m# Sampling without replacement entails tracking either potential\u001B[39;00m\n\u001B[0;32m    390\u001B[0m \u001B[38;5;66;03m# selections (the pool) in a list or previous selections in a set.\u001B[39;00m\n\u001B[0;32m    391\u001B[0m \n\u001B[1;32m   (...)\u001B[0m\n\u001B[0;32m    409\u001B[0m \u001B[38;5;66;03m# too many calls to _randbelow(), making them slower and\u001B[39;00m\n\u001B[0;32m    410\u001B[0m \u001B[38;5;66;03m# causing them to eat more entropy than necessary.\u001B[39;00m\n\u001B[0;32m    412\u001B[0m \u001B[38;5;28;01mif\u001B[39;00m \u001B[38;5;129;01mnot\u001B[39;00m \u001B[38;5;28misinstance\u001B[39m(population, _Sequence):\n\u001B[1;32m--> 413\u001B[0m     \u001B[38;5;28;01mraise\u001B[39;00m \u001B[38;5;167;01mTypeError\u001B[39;00m(\u001B[38;5;124m\"\u001B[39m\u001B[38;5;124mPopulation must be a sequence.  \u001B[39m\u001B[38;5;124m\"\u001B[39m\n\u001B[0;32m    414\u001B[0m                     \u001B[38;5;124m\"\u001B[39m\u001B[38;5;124mFor dicts or sets, use sorted(d).\u001B[39m\u001B[38;5;124m\"\u001B[39m)\n\u001B[0;32m    415\u001B[0m n \u001B[38;5;241m=\u001B[39m \u001B[38;5;28mlen\u001B[39m(population)\n\u001B[0;32m    416\u001B[0m \u001B[38;5;28;01mif\u001B[39;00m counts \u001B[38;5;129;01mis\u001B[39;00m \u001B[38;5;129;01mnot\u001B[39;00m \u001B[38;5;28;01mNone\u001B[39;00m:\n",
      "\u001B[1;31mTypeError\u001B[0m: Population must be a sequence.  For dicts or sets, use sorted(d)."
     ]
    }
   ],
   "execution_count": 12
  },
  {
   "cell_type": "markdown",
   "metadata": {},
   "source": [
    "We can also use a `range` object as the population:"
   ]
  },
  {
   "cell_type": "code",
   "metadata": {
    "ExecuteTime": {
     "end_time": "2025-06-18T04:57:59.898011Z",
     "start_time": "2025-06-18T04:57:59.891931Z"
    }
   },
   "source": [
    "random.seed(0)\n",
    "random.sample(range(2, 100, 2), 5)"
   ],
   "outputs": [
    {
     "data": {
      "text/plain": [
       "[50, 98, 54, 6, 34]"
      ]
     },
     "execution_count": 13,
     "metadata": {},
     "output_type": "execute_result"
    }
   ],
   "execution_count": 13
  },
  {
   "cell_type": "markdown",
   "metadata": {},
   "source": [
    "This is a quick way to select multiple random integers from a range (remember you can generate one random int at a time within a given range:"
   ]
  },
  {
   "cell_type": "code",
   "metadata": {
    "ExecuteTime": {
     "end_time": "2025-06-18T04:58:00.760941Z",
     "start_time": "2025-06-18T04:58:00.755995Z"
    }
   },
   "source": [
    "random.seed(0)\n",
    "for _ in range(5):\n",
    "    print(random.randrange(2, 100, 2))"
   ],
   "outputs": [
    {
     "name": "stdout",
     "output_type": "stream",
     "text": [
      "50\n",
      "98\n",
      "54\n",
      "6\n",
      "34\n"
     ]
    }
   ],
   "execution_count": 14
  },
  {
   "cell_type": "markdown",
   "metadata": {},
   "source": [
    "We could even use a list comprehension:"
   ]
  },
  {
   "cell_type": "code",
   "metadata": {
    "ExecuteTime": {
     "end_time": "2025-06-18T04:58:01.408490Z",
     "start_time": "2025-06-18T04:58:01.401028Z"
    }
   },
   "source": [
    "random.seed(0)\n",
    "[random.randrange(2, 100, 2) for _ in range(5)]"
   ],
   "outputs": [
    {
     "data": {
      "text/plain": [
       "[50, 98, 54, 6, 34]"
      ]
     },
     "execution_count": 15,
     "metadata": {},
     "output_type": "execute_result"
    }
   ],
   "execution_count": 15
  },
  {
   "cell_type": "markdown",
   "metadata": {},
   "source": [
    "But the `sample` approach is actually faster, and the syntax is easier."
   ]
  },
  {
   "cell_type": "markdown",
   "metadata": {},
   "source": [
    "We can see this approximately using a rough timing mechanism:"
   ]
  },
  {
   "cell_type": "code",
   "metadata": {
    "ExecuteTime": {
     "end_time": "2025-06-18T04:58:02.217277Z",
     "start_time": "2025-06-18T04:58:02.212704Z"
    }
   },
   "source": [
    "from time import perf_counter"
   ],
   "outputs": [],
   "execution_count": 16
  },
  {
   "cell_type": "code",
   "metadata": {
    "ExecuteTime": {
     "end_time": "2025-06-18T04:58:02.994159Z",
     "start_time": "2025-06-18T04:58:02.491526Z"
    }
   },
   "source": [
    "start = perf_counter()\n",
    "for _ in range(100):\n",
    "    # repeat test 100 times\n",
    "    sample = random.sample(range(2, 1_000_000, 2), 10_000)\n",
    "end = perf_counter()\n",
    "print(end - start)"
   ],
   "outputs": [
    {
     "name": "stdout",
     "output_type": "stream",
     "text": [
      "0.4958550000010291\n"
     ]
    }
   ],
   "execution_count": 17
  },
  {
   "cell_type": "code",
   "metadata": {
    "ExecuteTime": {
     "end_time": "2025-06-18T04:58:03.684971Z",
     "start_time": "2025-06-18T04:58:03.014518Z"
    }
   },
   "source": [
    "start = perf_counter()\n",
    "for _ in range(100):\n",
    "    sample = [random.randrange(2, 1_000_000, 2) for _ in range(10_000)]\n",
    "end = perf_counter()\n",
    "print(end - start)"
   ],
   "outputs": [
    {
     "name": "stdout",
     "output_type": "stream",
     "text": [
      "0.6643525999970734\n"
     ]
    }
   ],
   "execution_count": 18
  },
  {
   "cell_type": "markdown",
   "metadata": {},
   "source": [
    "Next we have the option of choosing `k` elements from some sequence (and it must be a sequence, sets are not supported), **with** repetition."
   ]
  },
  {
   "cell_type": "markdown",
   "metadata": {},
   "source": [
    "This means that when we pick `k` elements from the sequence, the **same** element may be found more than once in the `k` choices."
   ]
  },
  {
   "cell_type": "markdown",
   "metadata": {},
   "source": [
    "This is very similar to using this to roll two dice."
   ]
  },
  {
   "cell_type": "markdown",
   "metadata": {},
   "source": [
    "Each die has numbers from `1` to `6` - and from those numbers we want to pick two elements at a time to simulate a dice roll. But just because the first die rolled a `6`, does not mean the other die cannot also roll a `6`. i.e. picking one element as the first choice does not preclude it being chosen again for the second choice."
   ]
  },
  {
   "cell_type": "code",
   "metadata": {
    "ExecuteTime": {
     "end_time": "2025-06-18T04:58:03.948780Z",
     "start_time": "2025-06-18T04:58:03.943755Z"
    }
   },
   "source": [
    "s = 1, 2, 3, 4, 5, 6\n",
    "\n",
    "random.seed(11)\n",
    "for _ in range(5):\n",
    "    print(random.choices(s, k=2))"
   ],
   "outputs": [
    {
     "name": "stdout",
     "output_type": "stream",
     "text": [
      "[3, 4]\n",
      "[6, 3]\n",
      "[4, 4]\n",
      "[2, 4]\n",
      "[4, 5]\n"
     ]
    }
   ],
   "execution_count": 19
  },
  {
   "cell_type": "markdown",
   "metadata": {},
   "source": [
    "As you can see, the third time we made our picks, the element `4` was selected twice."
   ]
  },
  {
   "cell_type": "markdown",
   "metadata": {},
   "source": [
    "The default behavior of `choices` is that at every pick to generate the `k` subset, each element has an equal probability of getting chosen (uniform distribution)."
   ]
  },
  {
   "cell_type": "markdown",
   "metadata": {},
   "source": [
    "But, we can actually change this and assign weights to each element in the sequence - the higher the number relative to another element, the higher the probability that it will be selected."
   ]
  },
  {
   "cell_type": "markdown",
   "metadata": {},
   "source": [
    "So, the default is like having a weight of `1` assigned to every element."
   ]
  },
  {
   "cell_type": "markdown",
   "metadata": {},
   "source": [
    "To assign weights we have to create another sequence, **equal in length** to the sequence we are choosing from, with the assigned weight in the correponding position."
   ]
  },
  {
   "cell_type": "markdown",
   "metadata": {},
   "source": [
    "The weights can be integers or floats."
   ]
  },
  {
   "cell_type": "markdown",
   "metadata": {},
   "source": [
    "To actually visualize the distribution based on the weights, let's bring back some of the code we used in the last coding video."
   ]
  },
  {
   "cell_type": "code",
   "metadata": {
    "ExecuteTime": {
     "end_time": "2025-06-18T04:58:05.933544Z",
     "start_time": "2025-06-18T04:58:05.926507Z"
    }
   },
   "source": [
    "def chart_freq(data):\n",
    "    pad = max([len(str(el[0])) for el in data])\n",
    "    for k, v in data:\n",
    "        print(f\"{str(k).rjust(pad)}| {'*' * round(v)}\")\n",
    "        \n",
    "def freq_distribution(data):\n",
    "    freq = {}\n",
    "    for el in data:\n",
    "        freq[el] = freq.get(el, 0) + 1\n",
    "    return freq\n",
    "\n",
    "def relative_freq(freq_dist):\n",
    "    sum_freq = sum(freq_dist.values())\n",
    "    return {\n",
    "        k: v / sum_freq * 100 for k, v in freq_dist.items()\n",
    "    }"
   ],
   "outputs": [],
   "execution_count": 20
  },
  {
   "cell_type": "markdown",
   "metadata": {},
   "source": [
    "What we want to do here is run `choices` multiple times, and then count how many times each element from the sequence was selected in all these choices."
   ]
  },
  {
   "cell_type": "markdown",
   "metadata": {},
   "source": [
    "For example, if we had these choices:\n",
    "\n",
    "```\n",
    "[1, 2, 2]\n",
    "[3, 2, 2]\n",
    "[2, 1, 2]\n",
    "```\n",
    "\n",
    "our frequency analysis should result in:\n",
    "\n",
    "```\n",
    "{\n",
    "  '1': 2,\n",
    "  '2': 6,\n",
    "  '3': 1\n",
    "}\n",
    "```"
   ]
  },
  {
   "cell_type": "markdown",
   "metadata": {},
   "source": [
    "We already have a function (`freq_distribution`) that can do this for a single list of elements:"
   ]
  },
  {
   "cell_type": "code",
   "metadata": {
    "ExecuteTime": {
     "end_time": "2025-06-18T04:58:06.928252Z",
     "start_time": "2025-06-18T04:58:06.922787Z"
    }
   },
   "source": [
    "freq_distribution([1, 1, 1, 2, 3, 3])"
   ],
   "outputs": [
    {
     "data": {
      "text/plain": [
       "{1: 3, 2: 1, 3: 2}"
      ]
     },
     "execution_count": 21,
     "metadata": {},
     "output_type": "execute_result"
    }
   ],
   "execution_count": 21
  },
  {
   "cell_type": "markdown",
   "metadata": {},
   "source": [
    "A quick and simple way to analyze something like this:\n",
    "\n",
    "```\n",
    "[1, 2, 2]\n",
    "[3, 2, 2]\n",
    "[2, 1, 2]\n",
    "```\n",
    "\n",
    "is to join all these sub-lists into a single list, and run it through the same function. (there are probably better ways to do this, but I'm not looking for a super efficient approach here, just some quick code so we can look at how the distribution changes when we modify the weights)."
   ]
  },
  {
   "cell_type": "code",
   "metadata": {
    "ExecuteTime": {
     "end_time": "2025-06-18T04:58:07.453886Z",
     "start_time": "2025-06-18T04:58:07.447350Z"
    }
   },
   "source": [
    "def freq_distribution_matrix(data):\n",
    "    # data is a sequence of sequences that we'll join up and then analyze\n",
    "    linearized = [el for row in data for el in row]\n",
    "    return freq_distribution(linearized)"
   ],
   "outputs": [],
   "execution_count": 22
  },
  {
   "cell_type": "code",
   "metadata": {
    "ExecuteTime": {
     "end_time": "2025-06-18T04:58:07.712957Z",
     "start_time": "2025-06-18T04:58:07.707938Z"
    }
   },
   "source": [
    "random.seed(0)\n",
    "population = tuple('abcdefghij')\n",
    "data = [random.choices(population, k=5) for _ in range(3)]\n",
    "print(data)    "
   ],
   "outputs": [
    {
     "name": "stdout",
     "output_type": "stream",
     "text": [
      "[['i', 'h', 'e', 'c', 'f'], ['e', 'h', 'd', 'e', 'f'], ['j', 'f', 'c', 'h', 'g']]\n"
     ]
    }
   ],
   "execution_count": 23
  },
  {
   "cell_type": "code",
   "metadata": {
    "ExecuteTime": {
     "end_time": "2025-06-18T04:58:07.953867Z",
     "start_time": "2025-06-18T04:58:07.947808Z"
    }
   },
   "source": [
    "freq_distribution_matrix(data)"
   ],
   "outputs": [
    {
     "data": {
      "text/plain": [
       "{'i': 1, 'h': 3, 'e': 3, 'c': 2, 'f': 3, 'd': 1, 'j': 1, 'g': 1}"
      ]
     },
     "execution_count": 24,
     "metadata": {},
     "output_type": "execute_result"
    }
   ],
   "execution_count": 24
  },
  {
   "cell_type": "markdown",
   "metadata": {},
   "source": [
    "Let's create a function that will perform all the steps, from generating the data to producing the chart:"
   ]
  },
  {
   "cell_type": "code",
   "metadata": {
    "ExecuteTime": {
     "end_time": "2025-06-18T04:58:08.492454Z",
     "start_time": "2025-06-18T04:58:08.484690Z"
    }
   },
   "source": [
    "def analyze_choices(base_data, num_choices, choice_size, weights=None):\n",
    "    data = [\n",
    "        random.choices(base_data, k=choice_size, weights=weights) \n",
    "        for _ in range(num_choices)\n",
    "    ]\n",
    "    \n",
    "    freq = freq_distribution_matrix(data)\n",
    "    rel = relative_freq(freq)\n",
    "    \n",
    "    # let's sort the data\n",
    "    sorted_items = sorted(rel.items(), key=lambda x: x[0])\n",
    "    chart_freq(sorted_items)"
   ],
   "outputs": [],
   "execution_count": 25
  },
  {
   "cell_type": "code",
   "metadata": {
    "ExecuteTime": {
     "end_time": "2025-06-18T04:58:08.746777Z",
     "start_time": "2025-06-18T04:58:08.722164Z"
    }
   },
   "source": [
    "base_data = tuple('abcdefghij')\n",
    "\n",
    "random.seed(0)\n",
    "analyze_choices(base_data, 10_000, 5)"
   ],
   "outputs": [
    {
     "name": "stdout",
     "output_type": "stream",
     "text": [
      "a| **********\n",
      "b| **********\n",
      "c| **********\n",
      "d| **********\n",
      "e| **********\n",
      "f| **********\n",
      "g| **********\n",
      "h| **********\n",
      "i| **********\n",
      "j| **********\n"
     ]
    }
   ],
   "execution_count": 26
  },
  {
   "cell_type": "markdown",
   "metadata": {},
   "source": [
    "Looks pretty uniform."
   ]
  },
  {
   "cell_type": "markdown",
   "metadata": {},
   "source": [
    "Now let's assign some weights - let's make all the weights `1`, but setting the weights for `a` (index 0) to 2, `b` (index `1`) set to 3, and for `j` (last element), set to 4."
   ]
  },
  {
   "cell_type": "code",
   "metadata": {
    "ExecuteTime": {
     "end_time": "2025-06-18T04:58:09.520164Z",
     "start_time": "2025-06-18T04:58:09.513637Z"
    }
   },
   "source": [
    "weights = [1] * 10\n",
    "weights[0] = 2\n",
    "weights[1] = 3\n",
    "weights[-1] = 4"
   ],
   "outputs": [],
   "execution_count": 27
  },
  {
   "cell_type": "code",
   "metadata": {
    "ExecuteTime": {
     "end_time": "2025-06-18T04:58:09.784934Z",
     "start_time": "2025-06-18T04:58:09.778360Z"
    }
   },
   "source": [
    "weights"
   ],
   "outputs": [
    {
     "data": {
      "text/plain": [
       "[2, 3, 1, 1, 1, 1, 1, 1, 1, 4]"
      ]
     },
     "execution_count": 28,
     "metadata": {},
     "output_type": "execute_result"
    }
   ],
   "execution_count": 28
  },
  {
   "cell_type": "code",
   "metadata": {
    "ExecuteTime": {
     "end_time": "2025-06-18T04:58:10.058320Z",
     "start_time": "2025-06-18T04:58:10.020750Z"
    }
   },
   "source": [
    "random.seed(0)\n",
    "analyze_choices(base_data, 10_000, 5, weights)"
   ],
   "outputs": [
    {
     "name": "stdout",
     "output_type": "stream",
     "text": [
      "a| *************\n",
      "b| *******************\n",
      "c| ******\n",
      "d| ******\n",
      "e| ******\n",
      "f| ******\n",
      "g| ******\n",
      "h| ******\n",
      "i| ******\n",
      "j| *************************\n"
     ]
    }
   ],
   "execution_count": 29
  },
  {
   "cell_type": "markdown",
   "metadata": {},
   "source": [
    "As you can see, our frequency distribution matches the weights we assigned to each element."
   ]
  },
  {
   "cell_type": "markdown",
   "metadata": {},
   "source": [
    "Sampling can be quite useful when you are dealing with a huge dataset, but want to perform some quick calculations based on a smaller random sample (or like estimating the population mean with a sample mean).\n",
    "\n",
    "We'll come back to sampling later in this course."
   ]
  }
 ],
 "metadata": {
  "kernelspec": {
   "display_name": "Python 3",
   "language": "python",
   "name": "python3"
  },
  "language_info": {
   "codemirror_mode": {
    "name": "ipython",
    "version": 3
   },
   "file_extension": ".py",
   "mimetype": "text/x-python",
   "name": "python",
   "nbconvert_exporter": "python",
   "pygments_lexer": "ipython3",
   "version": "3.9.1"
  }
 },
 "nbformat": 4,
 "nbformat_minor": 4
}
