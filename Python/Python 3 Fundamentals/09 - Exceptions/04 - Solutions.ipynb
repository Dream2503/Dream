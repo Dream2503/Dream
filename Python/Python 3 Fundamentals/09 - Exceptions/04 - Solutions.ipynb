{
 "cells": [
  {
   "cell_type": "markdown",
   "id": "laughing-stick",
   "metadata": {},
   "source": [
    "### Solutions"
   ]
  },
  {
   "cell_type": "markdown",
   "id": "agricultural-cookie",
   "metadata": {},
   "source": [
    "#### Question 1"
   ]
  },
  {
   "cell_type": "markdown",
   "id": "temporal-february",
   "metadata": {},
   "source": [
    "The following code is meant to calculate the smallest absolute value of a given sequence of numbers."
   ]
  },
  {
   "cell_type": "code",
   "id": "mexican-maryland",
   "metadata": {
    "ExecuteTime": {
     "end_time": "2025-06-17T19:52:13.896427Z",
     "start_time": "2025-06-17T19:52:13.887428Z"
    }
   },
   "source": [
    "values = [1, 2, 3, 4]\n",
    "\n",
    "minimum = abs(values[0])\n",
    "for value in values[1:]:\n",
    "    if abs(value) < minimum:\n",
    "        minimum = abs(value)\n",
    "print(f'Minimum is: {minimum}')"
   ],
   "outputs": [
    {
     "name": "stdout",
     "output_type": "stream",
     "text": [
      "Minimum is: 1\n"
     ]
    }
   ],
   "execution_count": 1
  },
  {
   "cell_type": "markdown",
   "id": "resistant-creativity",
   "metadata": {},
   "source": [
    "The problem is that if the sequence is empty, it will raise an exception.\n",
    "\n",
    "Write code such that if the `values` sequence is empty, the calculated minimum is printed as `0`."
   ]
  },
  {
   "cell_type": "markdown",
   "id": "greater-share",
   "metadata": {},
   "source": [
    "##### Solution"
   ]
  },
  {
   "cell_type": "markdown",
   "id": "enormous-antibody",
   "metadata": {},
   "source": [
    "Let's try running this code with an empty list and see what exception we get:"
   ]
  },
  {
   "cell_type": "code",
   "id": "local-casino",
   "metadata": {
    "ExecuteTime": {
     "end_time": "2025-06-17T19:52:14.622806Z",
     "start_time": "2025-06-17T19:52:14.229919Z"
    }
   },
   "source": [
    "values = []\n",
    "\n",
    "minimum = abs(values[0])\n",
    "for value in values[1:]:\n",
    "    if abs(value) < minimum:\n",
    "        minimum = abs(value)\n",
    "print(f'Minimum is: {minimum}')"
   ],
   "outputs": [
    {
     "ename": "IndexError",
     "evalue": "list index out of range",
     "output_type": "error",
     "traceback": [
      "\u001B[1;31m---------------------------------------------------------------------------\u001B[0m",
      "\u001B[1;31mIndexError\u001B[0m                                Traceback (most recent call last)",
      "Cell \u001B[1;32mIn[2], line 3\u001B[0m\n\u001B[0;32m      1\u001B[0m values \u001B[38;5;241m=\u001B[39m []\n\u001B[1;32m----> 3\u001B[0m minimum \u001B[38;5;241m=\u001B[39m \u001B[38;5;28mabs\u001B[39m(\u001B[43mvalues\u001B[49m\u001B[43m[\u001B[49m\u001B[38;5;241;43m0\u001B[39;49m\u001B[43m]\u001B[49m)\n\u001B[0;32m      4\u001B[0m \u001B[38;5;28;01mfor\u001B[39;00m value \u001B[38;5;129;01min\u001B[39;00m values[\u001B[38;5;241m1\u001B[39m:]:\n\u001B[0;32m      5\u001B[0m     \u001B[38;5;28;01mif\u001B[39;00m \u001B[38;5;28mabs\u001B[39m(value) \u001B[38;5;241m<\u001B[39m minimum:\n",
      "\u001B[1;31mIndexError\u001B[0m: list index out of range"
     ]
    }
   ],
   "execution_count": 2
  },
  {
   "cell_type": "markdown",
   "id": "happy-property",
   "metadata": {},
   "source": [
    "As you can see the problem lies in trying to retrieve the first element of an empty sequence."
   ]
  },
  {
   "cell_type": "markdown",
   "id": "weighted-introduction",
   "metadata": {},
   "source": [
    "We could take a LBYL approach, and test for the length of the sequence:"
   ]
  },
  {
   "cell_type": "code",
   "id": "abandoned-bobby",
   "metadata": {
    "ExecuteTime": {
     "end_time": "2025-06-17T19:52:14.771667Z",
     "start_time": "2025-06-17T19:52:14.764847Z"
    }
   },
   "source": [
    "values = []\n",
    "\n",
    "if len(values) == 0:\n",
    "    print(f'Minimum is: 0')\n",
    "else:\n",
    "    minimum = abs(values[0])\n",
    "    for value in values[1:]:\n",
    "        if abs(value) < minimum:\n",
    "            minimum = abs(value)\n",
    "    print(f'Minimum is: {minimum}')"
   ],
   "outputs": [
    {
     "name": "stdout",
     "output_type": "stream",
     "text": [
      "Minimum is: 0\n"
     ]
    }
   ],
   "execution_count": 3
  },
  {
   "cell_type": "code",
   "id": "least-norman",
   "metadata": {
    "ExecuteTime": {
     "end_time": "2025-06-17T19:52:15.207174Z",
     "start_time": "2025-06-17T19:52:15.201310Z"
    }
   },
   "source": [
    "values = [3, -2, 5]\n",
    "\n",
    "if len(values) == 0:\n",
    "    print(f'Minimum is: 0')\n",
    "else:\n",
    "    minimum = abs(values[0])\n",
    "    for value in values[1:]:\n",
    "        if abs(value) < minimum:\n",
    "            minimum = abs(value)\n",
    "    print(f'Minimum is: {minimum}')"
   ],
   "outputs": [
    {
     "name": "stdout",
     "output_type": "stream",
     "text": [
      "Minimum is: 2\n"
     ]
    }
   ],
   "execution_count": 4
  },
  {
   "cell_type": "markdown",
   "id": "scheduled-dutch",
   "metadata": {},
   "source": [
    "But we can also take a EAFP approach, using exception handling:"
   ]
  },
  {
   "cell_type": "code",
   "id": "extended-fifty",
   "metadata": {
    "ExecuteTime": {
     "end_time": "2025-06-17T19:52:32.413914Z",
     "start_time": "2025-06-17T19:52:32.407663Z"
    }
   },
   "source": [
    "values = []\n",
    "\n",
    "try:\n",
    "    minimum = abs(values[0])\n",
    "    for value in values[1:]:\n",
    "        if abs(value) < minimum:\n",
    "            minimum = abs(value)\n",
    "    print(f'Minimum is: {minimum}')\n",
    "except IndexError:\n",
    "    print('Minimum is: 0')"
   ],
   "outputs": [
    {
     "name": "stdout",
     "output_type": "stream",
     "text": [
      "Minimum is: 0\n"
     ]
    }
   ],
   "execution_count": 5
  },
  {
   "cell_type": "markdown",
   "id": "reported-replication",
   "metadata": {},
   "source": [
    "I don't like have two separate print statements - mainly because I need to be careful about keeping the format of the string the same in both cases. So, I would rewrite this code like this:"
   ]
  },
  {
   "cell_type": "code",
   "id": "hundred-subject",
   "metadata": {
    "ExecuteTime": {
     "end_time": "2025-06-17T19:52:33.704440Z",
     "start_time": "2025-06-17T19:52:33.698902Z"
    }
   },
   "source": [
    "values = []\n",
    "\n",
    "try:\n",
    "    minimum = abs(values[0])\n",
    "    for value in values[1:]:\n",
    "        if abs(value) < minimum:\n",
    "            minimum = abs(value)\n",
    "except IndexError:\n",
    "    minimum = 0\n",
    "    \n",
    "print(f'Minimum is: {minimum}')"
   ],
   "outputs": [
    {
     "name": "stdout",
     "output_type": "stream",
     "text": [
      "Minimum is: 0\n"
     ]
    }
   ],
   "execution_count": 6
  },
  {
   "cell_type": "code",
   "id": "impressed-sunrise",
   "metadata": {
    "ExecuteTime": {
     "end_time": "2025-06-17T19:52:34.534650Z",
     "start_time": "2025-06-17T19:52:34.529390Z"
    }
   },
   "source": [
    "values = [2, -3, 4, -1]\n",
    "\n",
    "try:\n",
    "    minimum = abs(values[0])\n",
    "    for value in values[1:]:\n",
    "        if abs(value) < minimum:\n",
    "            minimum = abs(value)\n",
    "except IndexError:\n",
    "    minimum = 0\n",
    "    \n",
    "print(f'Minimum is: {minimum}')"
   ],
   "outputs": [
    {
     "name": "stdout",
     "output_type": "stream",
     "text": [
      "Minimum is: 1\n"
     ]
    }
   ],
   "execution_count": 7
  },
  {
   "cell_type": "markdown",
   "id": "sound-daughter",
   "metadata": {},
   "source": [
    "#### Question 2"
   ]
  },
  {
   "cell_type": "markdown",
   "id": "unable-chase",
   "metadata": {},
   "source": [
    "Write code that raises the built-in Python exception `ValueError` with a custom message, and catches the exception and prints the custom message."
   ]
  },
  {
   "cell_type": "markdown",
   "id": "inclusive-dominant",
   "metadata": {},
   "source": [
    "##### Solution"
   ]
  },
  {
   "cell_type": "markdown",
   "id": "opponent-faculty",
   "metadata": {},
   "source": [
    "To raise an exception we'll use a `raise` statement, and then we'll catch the `ValueError` using a `try...except...`."
   ]
  },
  {
   "cell_type": "markdown",
   "id": "environmental-campbell",
   "metadata": {},
   "source": [
    "Let's write the code to raise the exception first:"
   ]
  },
  {
   "cell_type": "code",
   "id": "square-pattern",
   "metadata": {
    "ExecuteTime": {
     "end_time": "2025-06-17T19:52:38.155297Z",
     "start_time": "2025-06-17T19:52:38.135525Z"
    }
   },
   "source": [
    "raise ValueError('Some custom message')"
   ],
   "outputs": [
    {
     "ename": "ValueError",
     "evalue": "Some custom message",
     "output_type": "error",
     "traceback": [
      "\u001B[1;31m---------------------------------------------------------------------------\u001B[0m",
      "\u001B[1;31mValueError\u001B[0m                                Traceback (most recent call last)",
      "Cell \u001B[1;32mIn[8], line 1\u001B[0m\n\u001B[1;32m----> 1\u001B[0m \u001B[38;5;28;01mraise\u001B[39;00m \u001B[38;5;167;01mValueError\u001B[39;00m(\u001B[38;5;124m'\u001B[39m\u001B[38;5;124mSome custom message\u001B[39m\u001B[38;5;124m'\u001B[39m)\n",
      "\u001B[1;31mValueError\u001B[0m: Some custom message"
     ]
    }
   ],
   "execution_count": 8
  },
  {
   "cell_type": "markdown",
   "id": "irish-circulation",
   "metadata": {},
   "source": [
    "Finally, we'll put this in a try catch statement:"
   ]
  },
  {
   "cell_type": "code",
   "id": "apparent-payday",
   "metadata": {
    "ExecuteTime": {
     "end_time": "2025-06-17T19:52:39.897755Z",
     "start_time": "2025-06-17T19:52:39.891429Z"
    }
   },
   "source": [
    "try:\n",
    "    raise ValueError('Some custom message')\n",
    "except ValueError as ex:\n",
    "    print(ex)"
   ],
   "outputs": [
    {
     "name": "stdout",
     "output_type": "stream",
     "text": [
      "Some custom message\n"
     ]
    }
   ],
   "execution_count": 9
  },
  {
   "metadata": {},
   "cell_type": "code",
   "outputs": [],
   "execution_count": null,
   "source": "",
   "id": "399b0b0da83a9c9e"
  }
 ],
 "metadata": {
  "kernelspec": {
   "display_name": "Python 3",
   "language": "python",
   "name": "python3"
  },
  "language_info": {
   "codemirror_mode": {
    "name": "ipython",
    "version": 3
   },
   "file_extension": ".py",
   "mimetype": "text/x-python",
   "name": "python",
   "nbconvert_exporter": "python",
   "pygments_lexer": "ipython3",
   "version": "3.9.1"
  }
 },
 "nbformat": 4,
 "nbformat_minor": 5
}
