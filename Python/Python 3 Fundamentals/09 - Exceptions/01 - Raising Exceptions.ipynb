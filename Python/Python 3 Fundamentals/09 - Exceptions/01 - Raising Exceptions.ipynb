{
 "cells": [
  {
   "cell_type": "markdown",
   "metadata": {},
   "source": [
    "### Raising Exceptions"
   ]
  },
  {
   "cell_type": "markdown",
   "metadata": {},
   "source": [
    "Lecture links:\n",
    "\n",
    "- https://docs.python.org/3/library/exceptions.html\n",
    "- https://docs.python.org/3/library/exceptions.html#exception-hierarchy"
   ]
  },
  {
   "cell_type": "markdown",
   "metadata": {},
   "source": [
    "We have seen exception flows before:"
   ]
  },
  {
   "cell_type": "code",
   "metadata": {
    "ExecuteTime": {
     "end_time": "2025-06-17T19:48:38.964395Z",
     "start_time": "2025-06-17T19:48:38.589260Z"
    }
   },
   "source": [
    "a = 1\n",
    "b = 0\n",
    "result = 1 / 0\n",
    "print(result)"
   ],
   "outputs": [
    {
     "ename": "ZeroDivisionError",
     "evalue": "division by zero",
     "output_type": "error",
     "traceback": [
      "\u001B[1;31m---------------------------------------------------------------------------\u001B[0m",
      "\u001B[1;31mZeroDivisionError\u001B[0m                         Traceback (most recent call last)",
      "Cell \u001B[1;32mIn[1], line 3\u001B[0m\n\u001B[0;32m      1\u001B[0m a \u001B[38;5;241m=\u001B[39m \u001B[38;5;241m1\u001B[39m\n\u001B[0;32m      2\u001B[0m b \u001B[38;5;241m=\u001B[39m \u001B[38;5;241m0\u001B[39m\n\u001B[1;32m----> 3\u001B[0m result \u001B[38;5;241m=\u001B[39m \u001B[38;5;241;43m1\u001B[39;49m\u001B[43m \u001B[49m\u001B[38;5;241;43m/\u001B[39;49m\u001B[43m \u001B[49m\u001B[38;5;241;43m0\u001B[39;49m\n\u001B[0;32m      4\u001B[0m \u001B[38;5;28mprint\u001B[39m(result)\n",
      "\u001B[1;31mZeroDivisionError\u001B[0m: division by zero"
     ]
    }
   ],
   "execution_count": 1
  },
  {
   "cell_type": "markdown",
   "metadata": {},
   "source": [
    "As you can see, a `ZeroDivisionError` exception was **raised** by Python."
   ]
  },
  {
   "cell_type": "markdown",
   "metadata": {},
   "source": [
    "If this had been a normal Python program, it would have terminated."
   ]
  },
  {
   "cell_type": "markdown",
   "metadata": {},
   "source": [
    "Here we are running inside a Jupyter notebook, so the notebook itself does not terminate - instead Jupyter \"handles\" the exception by printing out the exception and stops processing the remainder of the cell. (the `print` statement never ran)."
   ]
  },
  {
   "cell_type": "markdown",
   "metadata": {},
   "source": [
    "We can create our own exception objects using Python's built-in exceptions (we can also create our own, which we'll see later)."
   ]
  },
  {
   "cell_type": "code",
   "metadata": {
    "ExecuteTime": {
     "end_time": "2025-06-17T19:48:40.671247Z",
     "start_time": "2025-06-17T19:48:40.666930Z"
    }
   },
   "source": [
    "ex = ValueError('Name must be at least 5 characters long.')"
   ],
   "outputs": [],
   "execution_count": 2
  },
  {
   "cell_type": "markdown",
   "metadata": {},
   "source": [
    "Notice that creating an exception object did **not** start an exception flow! We just created an object - nothing more."
   ]
  },
  {
   "cell_type": "code",
   "metadata": {
    "ExecuteTime": {
     "end_time": "2025-06-17T19:48:41.351725Z",
     "start_time": "2025-06-17T19:48:41.342722Z"
    }
   },
   "source": [
    "type(ex)"
   ],
   "outputs": [
    {
     "data": {
      "text/plain": [
       "ValueError"
      ]
     },
     "execution_count": 3,
     "metadata": {},
     "output_type": "execute_result"
    }
   ],
   "execution_count": 3
  },
  {
   "cell_type": "markdown",
   "metadata": {},
   "source": [
    "The representation of the exception (what Jupyter prints out) is:"
   ]
  },
  {
   "cell_type": "code",
   "metadata": {
    "ExecuteTime": {
     "end_time": "2025-06-17T19:48:41.855479Z",
     "start_time": "2025-06-17T19:48:41.849427Z"
    }
   },
   "source": [
    "ex"
   ],
   "outputs": [
    {
     "data": {
      "text/plain": [
       "ValueError('Name must be at least 5 characters long.')"
      ]
     },
     "execution_count": 4,
     "metadata": {},
     "output_type": "execute_result"
    }
   ],
   "execution_count": 4
  },
  {
   "cell_type": "markdown",
   "metadata": {},
   "source": [
    "We can also get that representation directly by using the `repr()` function:"
   ]
  },
  {
   "cell_type": "code",
   "metadata": {
    "ExecuteTime": {
     "end_time": "2025-06-17T19:48:52.452674Z",
     "start_time": "2025-06-17T19:48:52.446505Z"
    }
   },
   "source": [
    "repr(ex)"
   ],
   "outputs": [
    {
     "data": {
      "text/plain": [
       "\"ValueError('Name must be at least 5 characters long.')\""
      ]
     },
     "execution_count": 5,
     "metadata": {},
     "output_type": "execute_result"
    }
   ],
   "execution_count": 5
  },
  {
   "cell_type": "markdown",
   "metadata": {},
   "source": [
    "This is different than the string representation, which is used by `print` and can also be recovered using the `str` function:"
   ]
  },
  {
   "cell_type": "code",
   "metadata": {
    "ExecuteTime": {
     "end_time": "2025-06-17T19:48:53.278605Z",
     "start_time": "2025-06-17T19:48:53.271864Z"
    }
   },
   "source": [
    "print(ex)"
   ],
   "outputs": [
    {
     "name": "stdout",
     "output_type": "stream",
     "text": [
      "Name must be at least 5 characters long.\n"
     ]
    }
   ],
   "execution_count": 6
  },
  {
   "cell_type": "code",
   "metadata": {
    "ExecuteTime": {
     "end_time": "2025-06-17T19:48:53.673779Z",
     "start_time": "2025-06-17T19:48:53.667289Z"
    }
   },
   "source": [
    "str(ex)"
   ],
   "outputs": [
    {
     "data": {
      "text/plain": [
       "'Name must be at least 5 characters long.'"
      ]
     },
     "execution_count": 7,
     "metadata": {},
     "output_type": "execute_result"
    }
   ],
   "execution_count": 7
  },
  {
   "cell_type": "markdown",
   "metadata": {},
   "source": [
    "So we often use the `str` function to get to a string containing just the error message."
   ]
  },
  {
   "cell_type": "markdown",
   "metadata": {},
   "source": [
    "If we want to start an exception flow, we have to `raise` the exception:"
   ]
  },
  {
   "cell_type": "code",
   "metadata": {
    "ExecuteTime": {
     "end_time": "2025-06-17T19:48:55.067695Z",
     "start_time": "2025-06-17T19:48:55.031472Z"
    }
   },
   "source": [
    "raise ex"
   ],
   "outputs": [
    {
     "ename": "ValueError",
     "evalue": "Name must be at least 5 characters long.",
     "output_type": "error",
     "traceback": [
      "\u001B[1;31m---------------------------------------------------------------------------\u001B[0m",
      "\u001B[1;31mValueError\u001B[0m                                Traceback (most recent call last)",
      "Cell \u001B[1;32mIn[8], line 1\u001B[0m\n\u001B[1;32m----> 1\u001B[0m \u001B[38;5;28;01mraise\u001B[39;00m ex\n",
      "\u001B[1;31mValueError\u001B[0m: Name must be at least 5 characters long."
     ]
    }
   ],
   "execution_count": 8
  },
  {
   "cell_type": "markdown",
   "metadata": {},
   "source": [
    "As you can see, Jupyter intercepted the exception and handled it for us. If this had been a normal program, it would have terminated."
   ]
  },
  {
   "cell_type": "markdown",
   "metadata": {},
   "source": [
    "Let's try this with an input value for a name, raising an exception if user does not enter a name that is at least 5 characters long:"
   ]
  },
  {
   "cell_type": "code",
   "metadata": {
    "ExecuteTime": {
     "end_time": "2025-06-17T19:49:09.741586Z",
     "start_time": "2025-06-17T19:48:56.416433Z"
    }
   },
   "source": [
    "name = input('Enter name (5 chars min): ')\n",
    "\n",
    "if len(name) < 5:\n",
    "    raise ValueError(f'{name} is not 5 characters or more...')\n",
    "    \n",
    "print(f'Hello {name}!')"
   ],
   "outputs": [
    {
     "name": "stdout",
     "output_type": "stream",
     "text": [
      "Hello abcde!\n"
     ]
    }
   ],
   "execution_count": 9
  },
  {
   "cell_type": "code",
   "metadata": {
    "ExecuteTime": {
     "end_time": "2025-06-17T19:49:33.671401Z",
     "start_time": "2025-06-17T19:49:29.510212Z"
    }
   },
   "source": [
    "name = input('Enter name (5 chars min): ')\n",
    "\n",
    "if len(name) < 5:\n",
    "    raise ValueError(f'{name} is not 5 characters or more...')\n",
    "    \n",
    "print(f'Hello {name}!')"
   ],
   "outputs": [
    {
     "name": "stdout",
     "output_type": "stream",
     "text": [
      "Hello abcde!\n"
     ]
    }
   ],
   "execution_count": 11
  },
  {
   "cell_type": "markdown",
   "metadata": {},
   "source": [
    "So now we have a way to raise exceptions when we need to, but we still need to learn how to handle exceptions (exception flows, or raised exceptions, to be exact)."
   ]
  },
  {
   "cell_type": "markdown",
   "metadata": {},
   "source": [
    "As we discussed in the lecture, Python has a class hierarchy for exceptions."
   ]
  },
  {
   "cell_type": "markdown",
   "metadata": {},
   "source": [
    "For example, we have `KeyError` and `IndexError` that are both also `LookupError` exceptions, which itself is also an `Exception` exception."
   ]
  },
  {
   "cell_type": "code",
   "metadata": {
    "ExecuteTime": {
     "end_time": "2025-06-17T19:50:17.945846Z",
     "start_time": "2025-06-17T19:50:17.939464Z"
    }
   },
   "source": [
    "issubclass(KeyError, LookupError)"
   ],
   "outputs": [
    {
     "data": {
      "text/plain": [
       "True"
      ]
     },
     "execution_count": 12,
     "metadata": {},
     "output_type": "execute_result"
    }
   ],
   "execution_count": 12
  },
  {
   "cell_type": "code",
   "metadata": {
    "ExecuteTime": {
     "end_time": "2025-06-17T19:50:19.817294Z",
     "start_time": "2025-06-17T19:50:19.811296Z"
    }
   },
   "source": [
    "issubclass(KeyError, Exception)"
   ],
   "outputs": [
    {
     "data": {
      "text/plain": [
       "True"
      ]
     },
     "execution_count": 13,
     "metadata": {},
     "output_type": "execute_result"
    }
   ],
   "execution_count": 13
  },
  {
   "cell_type": "code",
   "metadata": {
    "ExecuteTime": {
     "end_time": "2025-06-17T19:50:20.130631Z",
     "start_time": "2025-06-17T19:50:20.125043Z"
    }
   },
   "source": [
    "issubclass(LookupError, Exception)"
   ],
   "outputs": [
    {
     "data": {
      "text/plain": [
       "True"
      ]
     },
     "execution_count": 14,
     "metadata": {},
     "output_type": "execute_result"
    }
   ],
   "execution_count": 14
  },
  {
   "cell_type": "markdown",
   "metadata": {},
   "source": [
    "This means that instances of `KeyError` are also considered to be instances of `LookupError` as well as `Exception`:"
   ]
  },
  {
   "cell_type": "code",
   "metadata": {
    "ExecuteTime": {
     "end_time": "2025-06-17T19:50:21.098243Z",
     "start_time": "2025-06-17T19:50:21.094072Z"
    }
   },
   "source": [
    "ex = KeyError('some message')"
   ],
   "outputs": [],
   "execution_count": 15
  },
  {
   "cell_type": "code",
   "metadata": {
    "ExecuteTime": {
     "end_time": "2025-06-17T19:50:21.577118Z",
     "start_time": "2025-06-17T19:50:21.570981Z"
    }
   },
   "source": [
    "type(ex)"
   ],
   "outputs": [
    {
     "data": {
      "text/plain": [
       "KeyError"
      ]
     },
     "execution_count": 16,
     "metadata": {},
     "output_type": "execute_result"
    }
   ],
   "execution_count": 16
  },
  {
   "cell_type": "code",
   "metadata": {
    "ExecuteTime": {
     "end_time": "2025-06-17T19:50:22.014234Z",
     "start_time": "2025-06-17T19:50:22.006882Z"
    }
   },
   "source": [
    "isinstance(ex, KeyError)"
   ],
   "outputs": [
    {
     "data": {
      "text/plain": [
       "True"
      ]
     },
     "execution_count": 17,
     "metadata": {},
     "output_type": "execute_result"
    }
   ],
   "execution_count": 17
  },
  {
   "cell_type": "code",
   "metadata": {
    "ExecuteTime": {
     "end_time": "2025-06-17T19:50:22.446745Z",
     "start_time": "2025-06-17T19:50:22.438285Z"
    }
   },
   "source": [
    "isinstance(ex, LookupError)"
   ],
   "outputs": [
    {
     "data": {
      "text/plain": [
       "True"
      ]
     },
     "execution_count": 18,
     "metadata": {},
     "output_type": "execute_result"
    }
   ],
   "execution_count": 18
  },
  {
   "cell_type": "code",
   "metadata": {
    "ExecuteTime": {
     "end_time": "2025-06-17T19:50:23.002806Z",
     "start_time": "2025-06-17T19:50:22.995307Z"
    }
   },
   "source": [
    "isinstance(ex, Exception)"
   ],
   "outputs": [
    {
     "data": {
      "text/plain": [
       "True"
      ]
     },
     "execution_count": 19,
     "metadata": {},
     "output_type": "execute_result"
    }
   ],
   "execution_count": 19
  },
  {
   "cell_type": "markdown",
   "metadata": {},
   "source": [
    "But `KeyError` and `IndexError` are not subclasses of each other - they are considered \"siblings\" of the same parent class (`LookupError`):"
   ]
  },
  {
   "cell_type": "code",
   "metadata": {
    "ExecuteTime": {
     "end_time": "2025-06-17T19:50:32.528686Z",
     "start_time": "2025-06-17T19:50:32.521275Z"
    }
   },
   "source": [
    "issubclass(KeyError, IndexError)"
   ],
   "outputs": [
    {
     "data": {
      "text/plain": [
       "False"
      ]
     },
     "execution_count": 20,
     "metadata": {},
     "output_type": "execute_result"
    }
   ],
   "execution_count": 20
  },
  {
   "cell_type": "code",
   "metadata": {
    "ExecuteTime": {
     "end_time": "2025-06-17T19:50:32.935110Z",
     "start_time": "2025-06-17T19:50:32.929845Z"
    }
   },
   "source": [
    "isinstance(ex, IndexError)"
   ],
   "outputs": [
    {
     "data": {
      "text/plain": [
       "False"
      ]
     },
     "execution_count": 21,
     "metadata": {},
     "output_type": "execute_result"
    }
   ],
   "execution_count": 21
  },
  {
   "cell_type": "markdown",
   "metadata": {},
   "source": [
    "The fact that Python exceptions form this type of hierarchy becomes very relevant when it comes to exception handling."
   ]
  }
 ],
 "metadata": {
  "kernelspec": {
   "display_name": "Python 3",
   "language": "python",
   "name": "python3"
  },
  "language_info": {
   "codemirror_mode": {
    "name": "ipython",
    "version": 3
   },
   "file_extension": ".py",
   "mimetype": "text/x-python",
   "name": "python",
   "nbconvert_exporter": "python",
   "pygments_lexer": "ipython3",
   "version": "3.9.1"
  }
 },
 "nbformat": 4,
 "nbformat_minor": 4
}
