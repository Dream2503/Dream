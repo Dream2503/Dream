{
 "cells": [
  {
   "cell_type": "markdown",
   "metadata": {},
   "source": [
    "### Decorators"
   ]
  },
  {
   "cell_type": "markdown",
   "metadata": {},
   "source": [
    "Let's start with the pattern we have for creating decorators - it is pretty much the same, so you can re-use this pattern with any customizations you want:"
   ]
  },
  {
   "cell_type": "code",
   "metadata": {
    "ExecuteTime": {
     "end_time": "2025-06-18T04:42:15.004085Z",
     "start_time": "2025-06-18T04:42:14.995756Z"
    }
   },
   "source": [
    "def wrapper(func):\n",
    "    def inner(*args, **kwargs):\n",
    "        result = func(*args, **kwargs)\n",
    "        return result\n",
    "    return inner"
   ],
   "outputs": [],
   "execution_count": 1
  },
  {
   "cell_type": "markdown",
   "metadata": {},
   "source": [
    "You'll notice that `inner` will call `func` with `*args` and `**kwargs` and nothing else."
   ]
  },
  {
   "cell_type": "markdown",
   "metadata": {},
   "source": [
    "It may not look very interesting, but notice that we can now wrap any function:"
   ]
  },
  {
   "cell_type": "code",
   "metadata": {
    "ExecuteTime": {
     "end_time": "2025-06-18T04:42:15.859046Z",
     "start_time": "2025-06-18T04:42:15.852329Z"
    }
   },
   "source": [
    "def add(a, b, c):\n",
    "    return a + b + c\n",
    "\n",
    "def greet(name):\n",
    "    return f'Hello {name}!'\n",
    "\n",
    "def join(data, *, item_sep=',', line_sep='\\n'):\n",
    "    return line_sep.join(\n",
    "        [\n",
    "            item_sep.join(str(item) for item in row) \n",
    "            for row in data\n",
    "        ]\n",
    "    )     "
   ],
   "outputs": [],
   "execution_count": 2
  },
  {
   "cell_type": "markdown",
   "metadata": {},
   "source": [
    "We can call those functions as they are:"
   ]
  },
  {
   "cell_type": "code",
   "metadata": {
    "ExecuteTime": {
     "end_time": "2025-06-18T04:42:16.199038Z",
     "start_time": "2025-06-18T04:42:16.188854Z"
    }
   },
   "source": [
    "add(1, 2, 3)"
   ],
   "outputs": [
    {
     "data": {
      "text/plain": [
       "6"
      ]
     },
     "execution_count": 3,
     "metadata": {},
     "output_type": "execute_result"
    }
   ],
   "execution_count": 3
  },
  {
   "cell_type": "code",
   "metadata": {
    "ExecuteTime": {
     "end_time": "2025-06-18T04:42:16.672098Z",
     "start_time": "2025-06-18T04:42:16.665232Z"
    }
   },
   "source": [
    "greet('Python')"
   ],
   "outputs": [
    {
     "data": {
      "text/plain": [
       "'Hello Python!'"
      ]
     },
     "execution_count": 4,
     "metadata": {},
     "output_type": "execute_result"
    }
   ],
   "execution_count": 4
  },
  {
   "cell_type": "code",
   "metadata": {
    "ExecuteTime": {
     "end_time": "2025-06-18T04:42:16.974637Z",
     "start_time": "2025-06-18T04:42:16.965791Z"
    }
   },
   "source": [
    "join([[1, 2, 3], [4, 5, 6], [7, 8, 9]])"
   ],
   "outputs": [
    {
     "data": {
      "text/plain": [
       "'1,2,3\\n4,5,6\\n7,8,9'"
      ]
     },
     "execution_count": 5,
     "metadata": {},
     "output_type": "execute_result"
    }
   ],
   "execution_count": 5
  },
  {
   "cell_type": "markdown",
   "metadata": {},
   "source": [
    "But we can also create these wrapped functions:"
   ]
  },
  {
   "cell_type": "code",
   "metadata": {
    "ExecuteTime": {
     "end_time": "2025-06-18T04:42:17.038568Z",
     "start_time": "2025-06-18T04:42:17.032535Z"
    }
   },
   "source": [
    "add_wrapped = wrapper(add)\n",
    "greet_wrapped = wrapper(greet)\n",
    "join_wrapped = wrapper(join)"
   ],
   "outputs": [],
   "execution_count": 6
  },
  {
   "cell_type": "markdown",
   "metadata": {},
   "source": [
    "And we can call these \"wrapped\" functions just like we called the \"non-wrapped\" original versions:"
   ]
  },
  {
   "cell_type": "code",
   "metadata": {
    "ExecuteTime": {
     "end_time": "2025-06-18T04:42:17.066604Z",
     "start_time": "2025-06-18T04:42:17.061125Z"
    }
   },
   "source": [
    "add_wrapped(1, 2, 3)"
   ],
   "outputs": [
    {
     "data": {
      "text/plain": [
       "6"
      ]
     },
     "execution_count": 7,
     "metadata": {},
     "output_type": "execute_result"
    }
   ],
   "execution_count": 7
  },
  {
   "cell_type": "code",
   "metadata": {
    "ExecuteTime": {
     "end_time": "2025-06-18T04:42:17.123519Z",
     "start_time": "2025-06-18T04:42:17.115270Z"
    }
   },
   "source": [
    "greet_wrapped('Python')"
   ],
   "outputs": [
    {
     "data": {
      "text/plain": [
       "'Hello Python!'"
      ]
     },
     "execution_count": 8,
     "metadata": {},
     "output_type": "execute_result"
    }
   ],
   "execution_count": 8
  },
  {
   "cell_type": "code",
   "metadata": {
    "ExecuteTime": {
     "end_time": "2025-06-18T04:42:17.168793Z",
     "start_time": "2025-06-18T04:42:17.162739Z"
    }
   },
   "source": [
    "join_wrapped([[1, 2, 3], [4, 5, 6], [7, 8, 9]])"
   ],
   "outputs": [
    {
     "data": {
      "text/plain": [
       "'1,2,3\\n4,5,6\\n7,8,9'"
      ]
     },
     "execution_count": 9,
     "metadata": {},
     "output_type": "execute_result"
    }
   ],
   "execution_count": 9
  },
  {
   "cell_type": "markdown",
   "metadata": {},
   "source": [
    "So, as it stands, that `wrapper` function does not do much - but it forms the basis for us to add functionality around our original function however we want."
   ]
  },
  {
   "cell_type": "markdown",
   "metadata": {},
   "source": [
    "Let's say we want a simple log of the call being made:"
   ]
  },
  {
   "cell_type": "code",
   "metadata": {
    "ExecuteTime": {
     "end_time": "2025-06-18T04:42:17.193504Z",
     "start_time": "2025-06-18T04:42:17.188508Z"
    }
   },
   "source": [
    "def log(func):\n",
    "    def inner(*args, **kwargs):\n",
    "        result = func(*args, **kwargs)\n",
    "        print(f'{func.__name__} called... result={result}')\n",
    "        return result\n",
    "    return inner"
   ],
   "outputs": [],
   "execution_count": 10
  },
  {
   "cell_type": "code",
   "metadata": {
    "ExecuteTime": {
     "end_time": "2025-06-18T04:42:17.217741Z",
     "start_time": "2025-06-18T04:42:17.213214Z"
    }
   },
   "source": [
    "add_logged = log(add)\n",
    "greet_logged = log(greet)\n",
    "join_logged = log(join)"
   ],
   "outputs": [],
   "execution_count": 11
  },
  {
   "cell_type": "code",
   "metadata": {
    "ExecuteTime": {
     "end_time": "2025-06-18T04:42:17.277109Z",
     "start_time": "2025-06-18T04:42:17.271030Z"
    }
   },
   "source": [
    "add_logged(1, 2, 3)"
   ],
   "outputs": [
    {
     "name": "stdout",
     "output_type": "stream",
     "text": [
      "add called... result=6\n"
     ]
    },
    {
     "data": {
      "text/plain": [
       "6"
      ]
     },
     "execution_count": 12,
     "metadata": {},
     "output_type": "execute_result"
    }
   ],
   "execution_count": 12
  },
  {
   "cell_type": "code",
   "metadata": {
    "ExecuteTime": {
     "end_time": "2025-06-18T04:42:17.342129Z",
     "start_time": "2025-06-18T04:42:17.336581Z"
    }
   },
   "source": [
    "greet_logged('Python')"
   ],
   "outputs": [
    {
     "name": "stdout",
     "output_type": "stream",
     "text": [
      "greet called... result=Hello Python!\n"
     ]
    },
    {
     "data": {
      "text/plain": [
       "'Hello Python!'"
      ]
     },
     "execution_count": 13,
     "metadata": {},
     "output_type": "execute_result"
    }
   ],
   "execution_count": 13
  },
  {
   "cell_type": "markdown",
   "metadata": {},
   "source": [
    "So, we now have to remember to call `greet_logged` instead of `greet` everywhere in our code (assuming we want to log things everywhere)."
   ]
  },
  {
   "cell_type": "markdown",
   "metadata": {},
   "source": [
    "Firstly, I really don't want to write code like `greet_logged`, `add_logged`, etc - I really just want to use `greet`, `add`, etc."
   ]
  },
  {
   "cell_type": "markdown",
   "metadata": {},
   "source": [
    "Secondly, I may already have thousands of lines of code that call `greet` `add`, etc - again, I really do not want to look for those calls and change each one to the `_logged` version."
   ]
  },
  {
   "cell_type": "markdown",
   "metadata": {},
   "source": [
    "So, instead I'm going to name the wrapped version the same as the original version. The wrapped version is a closure that still maintains a link to the original function, but my symbol `add`, `greet`, etc now points to the new function (closure)."
   ]
  },
  {
   "cell_type": "code",
   "metadata": {
    "ExecuteTime": {
     "end_time": "2025-06-18T04:42:17.473647Z",
     "start_time": "2025-06-18T04:42:17.465456Z"
    }
   },
   "source": [
    "def log(func):\n",
    "    def inner(*args, **kwargs):\n",
    "        result = func(*args, **kwargs)\n",
    "        print(f'{func.__name__} called... result={result}')\n",
    "        return result\n",
    "    return inner\n",
    "\n",
    "def add(a, b, c):\n",
    "    return a + b + c\n",
    "add = log(add)\n",
    "\n",
    "def greet(name):\n",
    "    return f'Hello {name}!'\n",
    "greet = log(greet)\n",
    "\n",
    "def join(data, *, item_sep=',', line_sep='\\n'):\n",
    "    return line_sep.join([item_sep.join(str(item) for item in row) for row in data])     \n",
    "join = log(join)"
   ],
   "outputs": [],
   "execution_count": 14
  },
  {
   "cell_type": "markdown",
   "metadata": {},
   "source": [
    "And now I can use the same symbol to call the logged version:"
   ]
  },
  {
   "cell_type": "code",
   "metadata": {
    "ExecuteTime": {
     "end_time": "2025-06-18T04:42:17.500142Z",
     "start_time": "2025-06-18T04:42:17.494080Z"
    }
   },
   "source": [
    "greet('Python')"
   ],
   "outputs": [
    {
     "name": "stdout",
     "output_type": "stream",
     "text": [
      "greet called... result=Hello Python!\n"
     ]
    },
    {
     "data": {
      "text/plain": [
       "'Hello Python!'"
      ]
     },
     "execution_count": 15,
     "metadata": {},
     "output_type": "execute_result"
    }
   ],
   "execution_count": 15
  },
  {
   "cell_type": "markdown",
   "metadata": {},
   "source": [
    "This pattern of defining the function `add` and then redefining the symbol using some decorator: `add = log(add)` is so common that there is a shorthand syntax for it:"
   ]
  },
  {
   "cell_type": "code",
   "metadata": {
    "ExecuteTime": {
     "end_time": "2025-06-18T04:42:17.578101Z",
     "start_time": "2025-06-18T04:42:17.571529Z"
    }
   },
   "source": [
    "def log(func):\n",
    "    def inner(*args, **kwargs):\n",
    "        result = func(*args, **kwargs)\n",
    "        print(f'{func.__name__} called... result={result}')\n",
    "        return result\n",
    "    return inner\n",
    "\n",
    "@log\n",
    "def add(a, b, c):\n",
    "    return a + b + c\n",
    "\n",
    "@log\n",
    "def greet(name):\n",
    "    return f'Hello {name}!'\n",
    "\n",
    "@log\n",
    "def join(data, *, item_sep=',', line_sep='\\n'):\n",
    "    return line_sep.join([item_sep.join(str(item) for item in row) for row in data])     "
   ],
   "outputs": [],
   "execution_count": 16
  },
  {
   "cell_type": "code",
   "metadata": {
    "ExecuteTime": {
     "end_time": "2025-06-18T04:42:17.673479Z",
     "start_time": "2025-06-18T04:42:17.667462Z"
    }
   },
   "source": [
    "add(1, 2, 3)"
   ],
   "outputs": [
    {
     "name": "stdout",
     "output_type": "stream",
     "text": [
      "add called... result=6\n"
     ]
    },
    {
     "data": {
      "text/plain": [
       "6"
      ]
     },
     "execution_count": 17,
     "metadata": {},
     "output_type": "execute_result"
    }
   ],
   "execution_count": 17
  },
  {
   "cell_type": "markdown",
   "metadata": {},
   "source": [
    "Now every time we call one of those decorated functions in our code, a log will be emitted."
   ]
  },
  {
   "cell_type": "markdown",
   "metadata": {},
   "source": [
    "And this means we now have a central, unique location where we can change what our log decorator does - and every function that is decorated with the `log` decorator will use that definition - no re-typing code in multiple places."
   ]
  },
  {
   "cell_type": "markdown",
   "metadata": {},
   "source": [
    "In fact, let's now write proper logs,using Python's logging system (we'll just log to the console, but it can be set up to log to file, and a variety of other places)."
   ]
  },
  {
   "cell_type": "code",
   "metadata": {
    "ExecuteTime": {
     "end_time": "2025-06-18T04:42:17.749283Z",
     "start_time": "2025-06-18T04:42:17.744771Z"
    }
   },
   "source": [
    "import logging"
   ],
   "outputs": [],
   "execution_count": 18
  },
  {
   "cell_type": "markdown",
   "metadata": {},
   "source": [
    "We'll configure our logger (we only need to do this once per application):"
   ]
  },
  {
   "cell_type": "code",
   "metadata": {
    "ExecuteTime": {
     "end_time": "2025-06-18T04:42:17.809068Z",
     "start_time": "2025-06-18T04:42:17.803903Z"
    }
   },
   "source": [
    "logging.basicConfig(\n",
    "    format='%(asctime)s %(levelname)s: %(message)s',\n",
    "    level=logging.DEBUG\n",
    ")"
   ],
   "outputs": [],
   "execution_count": 19
  },
  {
   "cell_type": "code",
   "metadata": {
    "ExecuteTime": {
     "end_time": "2025-06-18T04:42:17.844133Z",
     "start_time": "2025-06-18T04:42:17.838437Z"
    }
   },
   "source": [
    "logger = logging.getLogger('Custom Log')"
   ],
   "outputs": [],
   "execution_count": 20
  },
  {
   "cell_type": "code",
   "metadata": {
    "ExecuteTime": {
     "end_time": "2025-06-18T04:42:18.022314Z",
     "start_time": "2025-06-18T04:42:18.017260Z"
    }
   },
   "source": [
    "logger.debug('Information message')"
   ],
   "outputs": [
    {
     "name": "stderr",
     "output_type": "stream",
     "text": [
      "2025-06-18 10:12:18,019 DEBUG: Information message\n"
     ]
    }
   ],
   "execution_count": 21
  },
  {
   "cell_type": "code",
   "metadata": {
    "ExecuteTime": {
     "end_time": "2025-06-18T04:42:18.184904Z",
     "start_time": "2025-06-18T04:42:18.179351Z"
    }
   },
   "source": [
    "logger.error('Some error happened')"
   ],
   "outputs": [
    {
     "name": "stderr",
     "output_type": "stream",
     "text": [
      "2025-06-18 10:12:18,182 ERROR: Some error happened\n"
     ]
    }
   ],
   "execution_count": 22
  },
  {
   "cell_type": "code",
   "metadata": {
    "ExecuteTime": {
     "end_time": "2025-06-18T04:42:18.274793Z",
     "start_time": "2025-06-18T04:42:18.269133Z"
    }
   },
   "source": [
    "logger.warning('Some warning')"
   ],
   "outputs": [
    {
     "name": "stderr",
     "output_type": "stream",
     "text": [
      "2025-06-18 10:12:18,271 WARNING: Some warning\n"
     ]
    }
   ],
   "execution_count": 23
  },
  {
   "cell_type": "markdown",
   "metadata": {},
   "source": [
    "let's use that to write a better logging decorator, that will include the run time of the function as well:"
   ]
  },
  {
   "cell_type": "code",
   "metadata": {
    "ExecuteTime": {
     "end_time": "2025-06-18T04:42:27.187053Z",
     "start_time": "2025-06-18T04:42:27.179902Z"
    }
   },
   "source": [
    "from time import perf_counter\n",
    "\n",
    "def log(func):\n",
    "    def inner(*args, **kwargs):\n",
    "        start = perf_counter()\n",
    "        result = func(*args, **kwargs)\n",
    "        end = perf_counter()\n",
    "        logger.debug(f'called={func.__name__}, elapsed={end-start}')\n",
    "        return result\n",
    "    return inner"
   ],
   "outputs": [],
   "execution_count": 24
  },
  {
   "cell_type": "code",
   "metadata": {
    "ExecuteTime": {
     "end_time": "2025-06-18T04:42:27.818603Z",
     "start_time": "2025-06-18T04:42:27.810833Z"
    }
   },
   "source": [
    "@log\n",
    "def add(a, b, c):\n",
    "    return a + b + c\n",
    "\n",
    "@log\n",
    "def greet(name):\n",
    "    return f'Hello {name}!'\n",
    "\n",
    "@log\n",
    "def join(data, *, item_sep=',', line_sep='\\n'):\n",
    "    return line_sep.join([item_sep.join(str(item) for item in row) for row in data])     "
   ],
   "outputs": [],
   "execution_count": 25
  },
  {
   "cell_type": "code",
   "metadata": {
    "ExecuteTime": {
     "end_time": "2025-06-18T04:42:28.385394Z",
     "start_time": "2025-06-18T04:42:28.377288Z"
    }
   },
   "source": [
    "add(10, 20, 30)"
   ],
   "outputs": [
    {
     "name": "stderr",
     "output_type": "stream",
     "text": [
      "2025-06-18 10:12:28,380 DEBUG: called=add, elapsed=1.100008375942707e-06\n"
     ]
    },
    {
     "data": {
      "text/plain": [
       "60"
      ]
     },
     "execution_count": 26,
     "metadata": {},
     "output_type": "execute_result"
    }
   ],
   "execution_count": 26
  },
  {
   "cell_type": "code",
   "metadata": {
    "ExecuteTime": {
     "end_time": "2025-06-18T04:42:30.075443Z",
     "start_time": "2025-06-18T04:42:30.066275Z"
    }
   },
   "source": [
    "join([range(10) for _ in range(10)])"
   ],
   "outputs": [
    {
     "name": "stderr",
     "output_type": "stream",
     "text": [
      "2025-06-18 10:12:30,070 DEBUG: called=join, elapsed=3.779999678954482e-05\n"
     ]
    },
    {
     "data": {
      "text/plain": [
       "'0,1,2,3,4,5,6,7,8,9\\n0,1,2,3,4,5,6,7,8,9\\n0,1,2,3,4,5,6,7,8,9\\n0,1,2,3,4,5,6,7,8,9\\n0,1,2,3,4,5,6,7,8,9\\n0,1,2,3,4,5,6,7,8,9\\n0,1,2,3,4,5,6,7,8,9\\n0,1,2,3,4,5,6,7,8,9\\n0,1,2,3,4,5,6,7,8,9\\n0,1,2,3,4,5,6,7,8,9'"
      ]
     },
     "execution_count": 27,
     "metadata": {},
     "output_type": "execute_result"
    }
   ],
   "execution_count": 27
  },
  {
   "cell_type": "markdown",
   "metadata": {},
   "source": [
    "We'll see other applications of decorators in the next set of videos."
   ]
  },
  {
   "cell_type": "markdown",
   "metadata": {},
   "source": [
    "The main takeaway is that decorators are very handy for adding pre and post function call code that is reusable across multiple functions - in a way that is completely **transparent** to the user."
   ]
  },
  {
   "cell_type": "markdown",
   "metadata": {},
   "source": [
    "For example, you may inherit some piece of code that defines several functions, and calls them hundreds of times - you can now log each of these functions by simply decorating the function definition - all other calls will transparently use the decorated function witout further modifications."
   ]
  },
  {
   "cell_type": "markdown",
   "metadata": {},
   "source": [
    "More often than not, you will probably end up using decorators that someone *else* has written in some library - but it is important to understand how they work if you want to use those effectively (and more importantly, understand what's going on!)."
   ]
  }
 ],
 "metadata": {
  "kernelspec": {
   "display_name": "Python 3",
   "language": "python",
   "name": "python3"
  },
  "language_info": {
   "codemirror_mode": {
    "name": "ipython",
    "version": 3
   },
   "file_extension": ".py",
   "mimetype": "text/x-python",
   "name": "python",
   "nbconvert_exporter": "python",
   "pygments_lexer": "ipython3",
   "version": "3.9.1"
  }
 },
 "nbformat": 4,
 "nbformat_minor": 4
}
