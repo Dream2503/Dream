{
 "cells": [
  {
   "cell_type": "markdown",
   "id": "sensitive-saint",
   "metadata": {},
   "source": "### Exercises"
  },
  {
   "cell_type": "markdown",
   "id": "particular-humidity",
   "metadata": {},
   "source": [
    "#### Exercise 1"
   ]
  },
  {
   "cell_type": "markdown",
   "id": "trained-masters",
   "metadata": {},
   "source": [
    "Given a variable `a` (containing any value), re-assign the value `\"N/A\"` if `a` is `None`, and leave `a` unchanged otherwise. Use an `if...else...` statement."
   ]
  },
  {
   "metadata": {
    "ExecuteTime": {
     "end_time": "2025-06-25T13:56:27.148104Z",
     "start_time": "2025-06-25T13:56:27.106399Z"
    }
   },
   "cell_type": "code",
   "source": [
    "a = 10\n",
    "\n",
    "if a is None:\n",
    "    a = 'N/A'\n",
    "else:\n",
    "    pass"
   ],
   "id": "dfbaef9bb7bf8215",
   "outputs": [],
   "execution_count": 1
  },
  {
   "cell_type": "markdown",
   "id": "growing-acoustic",
   "metadata": {},
   "source": [
    "#### Exercise 2"
   ]
  },
  {
   "cell_type": "markdown",
   "id": "hazardous-formula",
   "metadata": {},
   "source": [
    "Do the same thing as Question 1, but this time use a ternary operator."
   ]
  },
  {
   "metadata": {
    "ExecuteTime": {
     "end_time": "2025-06-25T13:56:27.164114Z",
     "start_time": "2025-06-25T13:56:27.155174Z"
    }
   },
   "cell_type": "code",
   "source": [
    "a = 10\n",
    "a = 'N/A' if a is None else a"
   ],
   "id": "96624560db158571",
   "outputs": [],
   "execution_count": 2
  },
  {
   "cell_type": "markdown",
   "id": "seasonal-bronze",
   "metadata": {},
   "source": [
    "#### Exercise 3"
   ]
  },
  {
   "cell_type": "markdown",
   "id": "atomic-authority",
   "metadata": {},
   "source": [
    "Given an credit score `score`, assign a string value to another variable `rating` based on the following scale:\n",
    "\n",
    "- [0, 580) --> Poor\n",
    "- [580, 670) --> Fair\n",
    "- [670, 740) --> Good\n",
    "- [740, 800) --> Very Good\n",
    "- [800, 850] --> Excellent\n"
   ]
  },
  {
   "metadata": {
    "ExecuteTime": {
     "end_time": "2025-06-25T13:56:27.538071Z",
     "start_time": "2025-06-25T13:56:27.523337Z"
    }
   },
   "cell_type": "code",
   "source": [
    "score = 700\n",
    "if 800 <= score <= 850:\n",
    "    rating = 'Excellent'\n",
    "elif 740 <= score < 800:\n",
    "    rating = 'Very Good'\n",
    "elif 670 <= score < 7400:\n",
    "    rating = 'Good'\n",
    "elif 580 <= score < 670:\n",
    "    rating = 'Fair'\n",
    "elif 0 <= score < 580:\n",
    "    rating = 'Poor'\n",
    "else:\n",
    "    rating = 'Invalid Input'\n",
    "\n",
    "rating"
   ],
   "id": "7c9fce5b9539b754",
   "outputs": [
    {
     "data": {
      "text/plain": [
       "'Good'"
      ]
     },
     "execution_count": 3,
     "metadata": {},
     "output_type": "execute_result"
    }
   ],
   "execution_count": 3
  },
  {
   "cell_type": "markdown",
   "id": "fiscal-estate",
   "metadata": {},
   "source": [
    "#### Exercise 4"
   ]
  },
  {
   "cell_type": "markdown",
   "id": "overhead-candidate",
   "metadata": {},
   "source": [
    "Given an `elapsed` time (in seconds), write code to set a variable `magnitude` based on the following conditions:\n",
    "\n",
    "- if elapsed time is less than 1 minute, `magnitude` --> `'seconds'`\n",
    "- if elapsed time is more than 1 minute, but less than 1 hour, `magnitude` --> `'minutes'`\n",
    "- if elapsed time is more than 1 hour, but less than 1 day, `magnitude` --> `'hours'`\n",
    "- if elapsed time is more than 1 day, but less than 1 week: `magnitude` --> `'days'`\n",
    "- if elapsed time is more than 1 week, `magnitude` --> '`weeks'`"
   ]
  },
  {
   "metadata": {
    "ExecuteTime": {
     "end_time": "2025-06-25T13:56:28.431507Z",
     "start_time": "2025-06-25T13:56:28.410797Z"
    }
   },
   "cell_type": "code",
   "source": [
    "elapsed = 700\n",
    "if 0 <= elapsed < 60:\n",
    "    magnitude = 'seconds'\n",
    "elif 60 <= score < 3600:\n",
    "    magnitude = 'minutes'\n",
    "elif 3600 <= score < (3600 * 60):\n",
    "    magnitude = 'hours'\n",
    "elif (3600 * 60) <= score < (3600 * 60 * 7):\n",
    "    magnitude = 'days'\n",
    "elif score >= (3600 * 60 * 7):\n",
    "    magnitude = 'weeks'\n",
    "else:\n",
    "    magnitude = None\n",
    "\n",
    "magnitude"
   ],
   "id": "da36686bbb10dd98",
   "outputs": [
    {
     "data": {
      "text/plain": [
       "'minutes'"
      ]
     },
     "execution_count": 4,
     "metadata": {},
     "output_type": "execute_result"
    }
   ],
   "execution_count": 4
  }
 ],
 "metadata": {
  "kernelspec": {
   "display_name": "Python 3",
   "language": "python",
   "name": "python3"
  },
  "language_info": {
   "codemirror_mode": {
    "name": "ipython",
    "version": 3
   },
   "file_extension": ".py",
   "mimetype": "text/x-python",
   "name": "python",
   "nbconvert_exporter": "python",
   "pygments_lexer": "ipython3",
   "version": "3.9.1"
  }
 },
 "nbformat": 4,
 "nbformat_minor": 5
}
