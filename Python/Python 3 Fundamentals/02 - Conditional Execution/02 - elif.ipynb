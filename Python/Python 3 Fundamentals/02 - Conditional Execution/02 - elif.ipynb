{
 "cells": [
  {
   "cell_type": "markdown",
   "metadata": {},
   "source": [
    "### The `elif` Clause"
   ]
  },
  {
   "cell_type": "markdown",
   "metadata": {},
   "source": [
    "Let's recall the example we had with a lof of nested `if...else...` statements."
   ]
  },
  {
   "cell_type": "code",
   "metadata": {
    "ExecuteTime": {
     "end_time": "2025-06-17T18:59:08.785919Z",
     "start_time": "2025-06-17T18:59:08.776045Z"
    }
   },
   "source": [
    "grade = 72\n",
    "\n",
    "if grade >= 90:\n",
    "    letter_grade = 'A'\n",
    "else:\n",
    "    if grade >= 80:\n",
    "        letter_grade = 'B'\n",
    "    else:\n",
    "        if grade >= 70:\n",
    "            letter_grade = 'C'\n",
    "        else:\n",
    "            if grade >= 60:\n",
    "                letter_grade = 'D'\n",
    "            else:\n",
    "                letter_grade = 'F'\n",
    "                \n",
    "print(letter_grade)"
   ],
   "outputs": [
    {
     "name": "stdout",
     "output_type": "stream",
     "text": [
      "C\n"
     ]
    }
   ],
   "execution_count": 1
  },
  {
   "cell_type": "markdown",
   "metadata": {},
   "source": [
    "We tried several alternatives, but none were very satisfactory."
   ]
  },
  {
   "cell_type": "markdown",
   "metadata": {},
   "source": [
    "Instead, we can use the `elif` clause which basically is like doing a nested else...if... statement without actually having to do it, for example:"
   ]
  },
  {
   "cell_type": "code",
   "metadata": {
    "ExecuteTime": {
     "end_time": "2025-06-17T18:59:09.213914Z",
     "start_time": "2025-06-17T18:59:09.207943Z"
    }
   },
   "source": [
    "grade = 72\n",
    "\n",
    "if grade >= 80:\n",
    "    print('Passed with distinction')\n",
    "else:\n",
    "    if grade >= 70:\n",
    "        print('Passed')\n",
    "    else:\n",
    "        print('Failed')"
   ],
   "outputs": [
    {
     "name": "stdout",
     "output_type": "stream",
     "text": [
      "Passed\n"
     ]
    }
   ],
   "execution_count": 2
  },
  {
   "cell_type": "markdown",
   "metadata": {},
   "source": [
    "We can rewrite this using `elif` as follows:"
   ]
  },
  {
   "cell_type": "code",
   "metadata": {
    "ExecuteTime": {
     "end_time": "2025-06-17T18:59:09.839897Z",
     "start_time": "2025-06-17T18:59:09.831963Z"
    }
   },
   "source": [
    "grade = 72\n",
    "\n",
    "if grade >= 80:\n",
    "    print('Passed with distinction')\n",
    "elif grade >= 70:\n",
    "    print('Passed')\n",
    "else:\n",
    "    print('Failed')"
   ],
   "outputs": [
    {
     "name": "stdout",
     "output_type": "stream",
     "text": [
      "Passed\n"
     ]
    }
   ],
   "execution_count": 3
  },
  {
   "cell_type": "markdown",
   "metadata": {},
   "source": [
    "Note how the `else` clause is at the same level as the main `if` statement - that's because the `else` block only executes if none of the other `if` or `elif` blocks executed."
   ]
  },
  {
   "cell_type": "markdown",
   "metadata": {},
   "source": [
    "So now, we can rewrite our grade letter assignment as follows:"
   ]
  },
  {
   "cell_type": "code",
   "metadata": {
    "ExecuteTime": {
     "end_time": "2025-06-17T18:59:11.369900Z",
     "start_time": "2025-06-17T18:59:11.363506Z"
    }
   },
   "source": [
    "grade = 72\n",
    "\n",
    "if grade >= 90:\n",
    "    letter_grade = 'A'\n",
    "elif grade >= 80:\n",
    "    letter_grade = 'B'\n",
    "elif grade >= 70:\n",
    "    letter_grade = 'C'\n",
    "elif grade >= 60:\n",
    "    letter_grade = 'D'\n",
    "else:\n",
    "    letter_grade = 'F'\n",
    "\n",
    "print(letter_grade)"
   ],
   "outputs": [
    {
     "name": "stdout",
     "output_type": "stream",
     "text": [
      "C\n"
     ]
    }
   ],
   "execution_count": 4
  },
  {
   "cell_type": "markdown",
   "metadata": {},
   "source": [
    "Let's try this again with a previous example:"
   ]
  },
  {
   "cell_type": "code",
   "metadata": {
    "ExecuteTime": {
     "end_time": "2025-06-17T18:59:12.274836Z",
     "start_time": "2025-06-17T18:59:12.267986Z"
    }
   },
   "source": [
    "account_enabled = True\n",
    "balance = 1000\n",
    "withdraw = 100_000\n",
    "\n",
    "if account_enabled and withdraw <= balance:\n",
    "    print('withdrawal authorized')\n",
    "else:\n",
    "    # cannot withdraw for some reason\n",
    "    if not account_enabled:\n",
    "        print('account disabled')\n",
    "    else:\n",
    "        # must be insufficient funds\n",
    "        print('insufficient funds')"
   ],
   "outputs": [
    {
     "name": "stdout",
     "output_type": "stream",
     "text": [
      "insufficient funds\n"
     ]
    }
   ],
   "execution_count": 5
  },
  {
   "cell_type": "markdown",
   "metadata": {},
   "source": [
    "We can simplify this a bit, without even using `elif`:"
   ]
  },
  {
   "cell_type": "code",
   "metadata": {
    "ExecuteTime": {
     "end_time": "2025-06-17T18:59:13.373880Z",
     "start_time": "2025-06-17T18:59:13.366776Z"
    }
   },
   "source": [
    "account_enabled = True\n",
    "balance = 1000\n",
    "withdraw = 100_000\n",
    "\n",
    "if not account_enabled:\n",
    "    print('account disabled')\n",
    "else:\n",
    "    # account is enabled\n",
    "    if withdraw > balance:\n",
    "        print('insufficient funds')\n",
    "    else:\n",
    "        print('withdrawal authorized')"
   ],
   "outputs": [
    {
     "name": "stdout",
     "output_type": "stream",
     "text": [
      "insufficient funds\n"
     ]
    }
   ],
   "execution_count": 6
  },
  {
   "cell_type": "markdown",
   "metadata": {},
   "source": [
    "This is a bit of simpler because we do not test `account_enabled` twice like in the first attempt."
   ]
  },
  {
   "cell_type": "markdown",
   "metadata": {},
   "source": [
    "But let's use `elif` to remove some of that nested code:"
   ]
  },
  {
   "cell_type": "code",
   "metadata": {
    "ExecuteTime": {
     "end_time": "2025-06-17T18:59:14.898836Z",
     "start_time": "2025-06-17T18:59:14.892834Z"
    }
   },
   "source": [
    "account_enabled = True\n",
    "balance = 1000\n",
    "withdraw = 100_000\n",
    "\n",
    "if not account_enabled:\n",
    "    print('account disabled')\n",
    "elif withdraw > balance:\n",
    "    print('insufficient funds')\n",
    "else:\n",
    "    print('withdrawal authorized')"
   ],
   "outputs": [
    {
     "name": "stdout",
     "output_type": "stream",
     "text": [
      "insufficient funds\n"
     ]
    }
   ],
   "execution_count": 7
  },
  {
   "cell_type": "markdown",
   "metadata": {},
   "source": [
    "Note: if you are coming from another programming language such as Java, C++, C#, etc you may be wondering about the `switch` statement.\n",
    "\n",
    "Python does not have one - `elif` is as close as you're going to get to a `switch` statement."
   ]
  }
 ],
 "metadata": {
  "kernelspec": {
   "display_name": "Python 3",
   "language": "python",
   "name": "python3"
  },
  "language_info": {
   "codemirror_mode": {
    "name": "ipython",
    "version": 3
   },
   "file_extension": ".py",
   "mimetype": "text/x-python",
   "name": "python",
   "nbconvert_exporter": "python",
   "pygments_lexer": "ipython3",
   "version": "3.9.1"
  }
 },
 "nbformat": 4,
 "nbformat_minor": 4
}
