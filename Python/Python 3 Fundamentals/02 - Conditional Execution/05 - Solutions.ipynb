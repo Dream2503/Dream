{
 "cells": [
  {
   "cell_type": "markdown",
   "id": "prospective-samuel",
   "metadata": {},
   "source": [
    "### Solutions"
   ]
  },
  {
   "cell_type": "markdown",
   "id": "olympic-beach",
   "metadata": {},
   "source": [
    "#### Exercise 1"
   ]
  },
  {
   "cell_type": "markdown",
   "id": "continent-presence",
   "metadata": {},
   "source": [
    "Given a variable `a` (containing any value), re-assign the value `\"N/A\"` if `a` is `None`, and leave `a` unchanged otherwise. Use an `if...else...` statement."
   ]
  },
  {
   "cell_type": "markdown",
   "id": "purple-cincinnati",
   "metadata": {},
   "source": [
    "We need to create a variable `a` assign it some value, and then test the value of `a` to see if we need to change it to `'N/A'`:"
   ]
  },
  {
   "cell_type": "code",
   "id": "instant-certificate",
   "metadata": {
    "ExecuteTime": {
     "end_time": "2025-06-17T19:00:37.274779Z",
     "start_time": "2025-06-17T19:00:37.266270Z"
    }
   },
   "source": [
    "a = 100\n",
    "\n",
    "if a is None:\n",
    "    a = 'N/A'\n",
    "    \n",
    "print(a)"
   ],
   "outputs": [
    {
     "name": "stdout",
     "output_type": "stream",
     "text": [
      "100\n"
     ]
    }
   ],
   "execution_count": 1
  },
  {
   "cell_type": "markdown",
   "id": "synthetic-memorabilia",
   "metadata": {},
   "source": [
    "Now let's try our code with a few more possible values for `a`:"
   ]
  },
  {
   "cell_type": "code",
   "id": "accurate-differential",
   "metadata": {
    "ExecuteTime": {
     "end_time": "2025-06-17T19:00:37.674419Z",
     "start_time": "2025-06-17T19:00:37.666326Z"
    }
   },
   "source": [
    "a = 'Python'\n",
    "\n",
    "if a is None:\n",
    "    a = 'N/A'\n",
    "    \n",
    "print(a)"
   ],
   "outputs": [
    {
     "name": "stdout",
     "output_type": "stream",
     "text": [
      "Python\n"
     ]
    }
   ],
   "execution_count": 2
  },
  {
   "cell_type": "code",
   "id": "applied-estonia",
   "metadata": {
    "ExecuteTime": {
     "end_time": "2025-06-17T19:00:41.413160Z",
     "start_time": "2025-06-17T19:00:41.407674Z"
    }
   },
   "source": [
    "a = None\n",
    "\n",
    "if a is None:\n",
    "    a = 'N/A'\n",
    "    \n",
    "print(a)"
   ],
   "outputs": [
    {
     "name": "stdout",
     "output_type": "stream",
     "text": [
      "N/A\n"
     ]
    }
   ],
   "execution_count": 3
  },
  {
   "cell_type": "markdown",
   "id": "enabling-orientation",
   "metadata": {},
   "source": [
    "#### Exercise 2"
   ]
  },
  {
   "cell_type": "markdown",
   "id": "particular-builder",
   "metadata": {},
   "source": [
    "Do the same thing as Question 1, but this time use a ternary operator."
   ]
  },
  {
   "cell_type": "markdown",
   "id": "suffering-native",
   "metadata": {},
   "source": [
    "A ternary operator always calculates a value, but we don't want to modify `a` if it is not `None`.\n",
    "\n",
    "To do this we'll simply have the ternary operator evaluate to `a` if `a` is not `None` and to `N/A` otherwise:"
   ]
  },
  {
   "cell_type": "code",
   "id": "delayed-catholic",
   "metadata": {
    "ExecuteTime": {
     "end_time": "2025-06-17T19:00:46.824347Z",
     "start_time": "2025-06-17T19:00:46.818718Z"
    }
   },
   "source": [
    "a = 100\n",
    "a = 'N/A' if a is None else a\n",
    "print(a)"
   ],
   "outputs": [
    {
     "name": "stdout",
     "output_type": "stream",
     "text": [
      "100\n"
     ]
    }
   ],
   "execution_count": 4
  },
  {
   "cell_type": "markdown",
   "id": "heard-recall",
   "metadata": {},
   "source": [
    "And again we should test this with a few values:"
   ]
  },
  {
   "cell_type": "code",
   "id": "martial-floor",
   "metadata": {
    "ExecuteTime": {
     "end_time": "2025-06-17T19:00:47.888498Z",
     "start_time": "2025-06-17T19:00:47.880576Z"
    }
   },
   "source": [
    "a = 'Python'\n",
    "a = 'N/A' if a is None else a\n",
    "print(a)"
   ],
   "outputs": [
    {
     "name": "stdout",
     "output_type": "stream",
     "text": [
      "Python\n"
     ]
    }
   ],
   "execution_count": 5
  },
  {
   "cell_type": "code",
   "id": "imported-sociology",
   "metadata": {
    "ExecuteTime": {
     "end_time": "2025-06-17T19:00:48.511696Z",
     "start_time": "2025-06-17T19:00:48.505334Z"
    }
   },
   "source": [
    "a = None\n",
    "a = 'N/A' if a is None else a\n",
    "print(a)"
   ],
   "outputs": [
    {
     "name": "stdout",
     "output_type": "stream",
     "text": [
      "N/A\n"
     ]
    }
   ],
   "execution_count": 6
  },
  {
   "cell_type": "markdown",
   "id": "intense-bleeding",
   "metadata": {},
   "source": [
    "#### Exercise 3"
   ]
  },
  {
   "cell_type": "markdown",
   "id": "growing-associate",
   "metadata": {},
   "source": [
    "Given an credit score `score`, assign a string value to another variable `rating` based on the following scale:\n",
    "\n",
    "- [0, 580) --> Poor\n",
    "- [580, 670) --> Fair\n",
    "- [670, 740) --> Good\n",
    "- [740, 800) --> Very Good\n",
    "- [800, 850] --> Excellent\n"
   ]
  },
  {
   "cell_type": "markdown",
   "id": "automotive-watershed",
   "metadata": {},
   "source": [
    "We can do this using a series of `if...elif...else` statements:"
   ]
  },
  {
   "cell_type": "code",
   "id": "popular-criticism",
   "metadata": {
    "ExecuteTime": {
     "end_time": "2025-06-17T19:00:51.599833Z",
     "start_time": "2025-06-17T19:00:51.593767Z"
    }
   },
   "source": [
    "score = 720\n",
    "\n",
    "if score < 580:\n",
    "    rating = 'Poor'\n",
    "elif score < 670:\n",
    "    rating = 'Fair'\n",
    "elif score < 740:\n",
    "    rating = 'Good'\n",
    "elif score < 800:\n",
    "    rating = 'Very Good'\n",
    "else:\n",
    "    rating = 'Excellent'\n",
    "    \n",
    "print(rating)"
   ],
   "outputs": [
    {
     "name": "stdout",
     "output_type": "stream",
     "text": [
      "Good\n"
     ]
    }
   ],
   "execution_count": 7
  },
  {
   "cell_type": "markdown",
   "id": "original-rotation",
   "metadata": {},
   "source": [
    "Let's test this with a few values:"
   ]
  },
  {
   "cell_type": "code",
   "id": "editorial-spanish",
   "metadata": {
    "ExecuteTime": {
     "end_time": "2025-06-17T19:00:55.257036Z",
     "start_time": "2025-06-17T19:00:55.249244Z"
    }
   },
   "source": [
    "score = 100\n",
    "if score < 580:\n",
    "    rating = 'Poor'\n",
    "elif score < 670:\n",
    "    rating = 'Fair'\n",
    "elif score < 740:\n",
    "    rating = 'Good'\n",
    "elif score < 800:\n",
    "    rating = 'Very Good'\n",
    "else:\n",
    "    rating = 'Excellent'\n",
    "    \n",
    "print(rating)"
   ],
   "outputs": [
    {
     "name": "stdout",
     "output_type": "stream",
     "text": [
      "Poor\n"
     ]
    }
   ],
   "execution_count": 8
  },
  {
   "cell_type": "code",
   "id": "boolean-million",
   "metadata": {
    "ExecuteTime": {
     "end_time": "2025-06-17T19:00:55.867668Z",
     "start_time": "2025-06-17T19:00:55.859942Z"
    }
   },
   "source": [
    "score = 740\n",
    "if score < 580:\n",
    "    rating = 'Poor'\n",
    "elif score < 670:\n",
    "    rating = 'Fair'\n",
    "elif score < 740:\n",
    "    rating = 'Good'\n",
    "elif score < 800:\n",
    "    rating = 'Very Good'\n",
    "else:\n",
    "    rating = 'Excellent'\n",
    "    \n",
    "print(rating)"
   ],
   "outputs": [
    {
     "name": "stdout",
     "output_type": "stream",
     "text": [
      "Very Good\n"
     ]
    }
   ],
   "execution_count": 9
  },
  {
   "cell_type": "code",
   "id": "assisted-gateway",
   "metadata": {
    "ExecuteTime": {
     "end_time": "2025-06-17T19:00:56.573268Z",
     "start_time": "2025-06-17T19:00:56.567186Z"
    }
   },
   "source": [
    "score = 810\n",
    "if score < 580:\n",
    "    rating = 'Poor'\n",
    "elif score < 670:\n",
    "    rating = 'Fair'\n",
    "elif score < 740:\n",
    "    rating = 'Good'\n",
    "elif score < 800:\n",
    "    rating = 'Very Good'\n",
    "else:\n",
    "    rating = 'Excellent'\n",
    "    \n",
    "print(rating)"
   ],
   "outputs": [
    {
     "name": "stdout",
     "output_type": "stream",
     "text": [
      "Excellent\n"
     ]
    }
   ],
   "execution_count": 10
  },
  {
   "cell_type": "markdown",
   "id": "previous-review",
   "metadata": {},
   "source": [
    "#### Exercise 4"
   ]
  },
  {
   "cell_type": "markdown",
   "id": "prostate-voluntary",
   "metadata": {},
   "source": [
    "Given an `elapsed` time (in seconds), write code to set a variable `magnitude` based on the following conditions:\n",
    "\n",
    "- if elapsed time is less than 1 minute, `magnitude` --> `'seconds'`\n",
    "- if elapsed time is more than 1 minute, but less than 1 hour, `magnitude` --> `'minutes'`\n",
    "- if elapsed time is more than 1 hour, but less than 1 day, `magnitude` --> `'hours'`\n",
    "- if elapsed time is more than 1 day, but less than 1 week: `magnitude` --> `'days'`\n",
    "- if elapsed time is more than 1 week, `magnitude` --> '`weeks'`"
   ]
  },
  {
   "cell_type": "markdown",
   "id": "steady-prairie",
   "metadata": {},
   "source": [
    "Our conditional expression might look something like this (pseudo code = not real code):"
   ]
  },
  {
   "cell_type": "markdown",
   "id": "inappropriate-nature",
   "metadata": {},
   "source": [
    "```\n",
    "if elapsed < 1 minute:\n",
    "    magnitude = 'seconds'\n",
    "elif elapsed < 1 hour:\n",
    "    magnitude = 'minutes'\n",
    " elif elapsed < 1 day:\n",
    "     magnitude = 'hours'\n",
    " elif elapsed < 1 week:\n",
    "     magnitude = 'days'\n",
    " else:\n",
    "     magnitude = 'weeks'\n",
    "```"
   ]
  },
  {
   "cell_type": "markdown",
   "id": "considered-georgia",
   "metadata": {},
   "source": [
    "What now remains to be calculated is what `1 minute`, `1 hour`, `1 day`, and `1 week` are in terms of seconds (which is the units used for `elapsed`)."
   ]
  },
  {
   "cell_type": "markdown",
   "id": "minus-tactics",
   "metadata": {},
   "source": [
    "We'll calculate those values and store them in variables - this not only \"decomposes\" the problem (break into smaller more managable parts), but will also help clarify the conditional statement so that it will look very much like the pseudo-code above."
   ]
  },
  {
   "cell_type": "code",
   "id": "respiratory-maintenance",
   "metadata": {
    "ExecuteTime": {
     "end_time": "2025-06-17T19:01:03.328160Z",
     "start_time": "2025-06-17T19:01:03.322281Z"
    }
   },
   "source": [
    "seconds_in_minute = 60\n",
    "seconds_in_hour = 60 * seconds_in_minute\n",
    "seconds_in_day = 24 * seconds_in_hour\n",
    "seconds_in_week = 7 * seconds_in_day"
   ],
   "outputs": [],
   "execution_count": 11
  },
  {
   "cell_type": "markdown",
   "id": "printable-score",
   "metadata": {},
   "source": [
    "We can now write our code this way:"
   ]
  },
  {
   "cell_type": "code",
   "id": "suited-hamilton",
   "metadata": {
    "ExecuteTime": {
     "end_time": "2025-06-17T19:01:04.452823Z",
     "start_time": "2025-06-17T19:01:04.444842Z"
    }
   },
   "source": [
    "elapsed = 23  # secs\n",
    "\n",
    "if elapsed < seconds_in_minute:\n",
    "    magnitude = 'seconds'\n",
    "elif elapsed < seconds_in_hour:\n",
    "    magnitude = 'minutes'\n",
    "elif elapsed < seconds_in_day:\n",
    "    magnitude = 'hours'\n",
    "elif elapsed < seconds_in_week:\n",
    "    magnitude = 'days'\n",
    "else:\n",
    "    magnitude = 'weeks'\n",
    "    \n",
    "print(magnitude)\n"
   ],
   "outputs": [
    {
     "name": "stdout",
     "output_type": "stream",
     "text": [
      "seconds\n"
     ]
    }
   ],
   "execution_count": 12
  },
  {
   "cell_type": "markdown",
   "id": "functional-cassette",
   "metadata": {},
   "source": [
    "Let's try this with a few more values:"
   ]
  },
  {
   "cell_type": "code",
   "id": "green-hammer",
   "metadata": {
    "ExecuteTime": {
     "end_time": "2025-06-17T19:01:05.739153Z",
     "start_time": "2025-06-17T19:01:05.731602Z"
    }
   },
   "source": [
    "elapsed = 30 * 60  # 30 minutes in seconds\n",
    "\n",
    "if elapsed < seconds_in_minute:\n",
    "    magnitude = 'seconds'\n",
    "elif elapsed < seconds_in_hour:\n",
    "    magnitude = 'minutes'\n",
    "elif elapsed < seconds_in_day:\n",
    "    magnitude = 'hours'\n",
    "elif elapsed < seconds_in_week:\n",
    "    magnitude = 'days'\n",
    "else:\n",
    "    magnitude = 'weeks'\n",
    "    \n",
    "print(magnitude)"
   ],
   "outputs": [
    {
     "name": "stdout",
     "output_type": "stream",
     "text": [
      "minutes\n"
     ]
    }
   ],
   "execution_count": 13
  },
  {
   "cell_type": "code",
   "id": "cutting-ministry",
   "metadata": {
    "ExecuteTime": {
     "end_time": "2025-06-17T19:01:20.753300Z",
     "start_time": "2025-06-17T19:01:20.746302Z"
    }
   },
   "source": [
    "elapsed = 12 * 60 * 60  # 12 hours in seconds\n",
    "\n",
    "if elapsed < seconds_in_minute:\n",
    "    magnitude = 'seconds'\n",
    "elif elapsed < seconds_in_hour:\n",
    "    magnitude = 'minutes'\n",
    "elif elapsed < seconds_in_day:\n",
    "    magnitude = 'hours'\n",
    "elif elapsed < seconds_in_week:\n",
    "    magnitude = 'days'\n",
    "else:\n",
    "    magnitude = 'weeks'\n",
    "    \n",
    "print(magnitude)"
   ],
   "outputs": [
    {
     "name": "stdout",
     "output_type": "stream",
     "text": [
      "hours\n"
     ]
    }
   ],
   "execution_count": 14
  },
  {
   "cell_type": "code",
   "id": "arbitrary-impossible",
   "metadata": {
    "ExecuteTime": {
     "end_time": "2025-06-17T19:01:21.253190Z",
     "start_time": "2025-06-17T19:01:21.246614Z"
    }
   },
   "source": [
    "elapsed = 48 * 60 * 60  # 48 hours in seconds\n",
    "\n",
    "if elapsed < seconds_in_minute:\n",
    "    magnitude = 'seconds'\n",
    "elif elapsed < seconds_in_hour:\n",
    "    magnitude = 'minutes'\n",
    "elif elapsed < seconds_in_day:\n",
    "    magnitude = 'hours'\n",
    "elif elapsed < seconds_in_week:\n",
    "    magnitude = 'days'\n",
    "else:\n",
    "    magnitude = 'weeks'\n",
    "    \n",
    "print(magnitude)"
   ],
   "outputs": [
    {
     "name": "stdout",
     "output_type": "stream",
     "text": [
      "days\n"
     ]
    }
   ],
   "execution_count": 15
  },
  {
   "cell_type": "code",
   "id": "metric-electron",
   "metadata": {
    "ExecuteTime": {
     "end_time": "2025-06-17T19:01:21.837799Z",
     "start_time": "2025-06-17T19:01:21.831295Z"
    }
   },
   "source": [
    "elapsed = 3 * 7 * 24 * 60 * 60  # 3 weeks in seconds\n",
    "\n",
    "if elapsed < seconds_in_minute:\n",
    "    magnitude = 'seconds'\n",
    "elif elapsed < seconds_in_hour:\n",
    "    magnitude = 'minutes'\n",
    "elif elapsed < seconds_in_day:\n",
    "    magnitude = 'hours'\n",
    "elif elapsed < seconds_in_week:\n",
    "    magnitude = 'days'\n",
    "else:\n",
    "    magnitude = 'weeks'\n",
    "    \n",
    "print(magnitude)"
   ],
   "outputs": [
    {
     "name": "stdout",
     "output_type": "stream",
     "text": [
      "weeks\n"
     ]
    }
   ],
   "execution_count": 16
  }
 ],
 "metadata": {
  "kernelspec": {
   "display_name": "Python 3",
   "language": "python",
   "name": "python3"
  },
  "language_info": {
   "codemirror_mode": {
    "name": "ipython",
    "version": 3
   },
   "file_extension": ".py",
   "mimetype": "text/x-python",
   "name": "python",
   "nbconvert_exporter": "python",
   "pygments_lexer": "ipython3",
   "version": "3.9.1"
  }
 },
 "nbformat": 4,
 "nbformat_minor": 5
}
