{
 "cells": [
  {
   "cell_type": "markdown",
   "metadata": {},
   "source": [
    "### Generators"
   ]
  },
  {
   "cell_type": "markdown",
   "metadata": {},
   "source": [
    "As we saw in the lecture, generator expressions are a way to create generator objects using comprehension syntax (there are other ways too, using `yield` in functions, but that's beyond the scope of this course.)"
   ]
  },
  {
   "cell_type": "markdown",
   "metadata": {},
   "source": [
    "Generators are iterators - so they have an `__iter__` method (which just returns the object itself), and a `__next__` method used to request the next object while iterating. And they also raise a `StopIteration` once they reach the end of the iteration."
   ]
  },
  {
   "cell_type": "code",
   "metadata": {
    "ExecuteTime": {
     "end_time": "2025-06-18T02:57:51.824147Z",
     "start_time": "2025-06-18T02:57:51.816597Z"
    }
   },
   "source": [
    "squares = (i ** 2 for i in range(5))"
   ],
   "outputs": [],
   "execution_count": 1
  },
  {
   "cell_type": "markdown",
   "metadata": {},
   "source": [
    "And, just like iterators, they are one-time use only:"
   ]
  },
  {
   "cell_type": "code",
   "metadata": {
    "ExecuteTime": {
     "end_time": "2025-06-18T02:57:52.284015Z",
     "start_time": "2025-06-18T02:57:52.276451Z"
    }
   },
   "source": [
    "for i in squares:\n",
    "    print(i)"
   ],
   "outputs": [
    {
     "name": "stdout",
     "output_type": "stream",
     "text": [
      "0\n",
      "1\n",
      "4\n",
      "9\n",
      "16\n"
     ]
    }
   ],
   "execution_count": 2
  },
  {
   "cell_type": "markdown",
   "metadata": {},
   "source": [
    "And `squares` is now an exhausted iterator:"
   ]
  },
  {
   "cell_type": "code",
   "metadata": {
    "ExecuteTime": {
     "end_time": "2025-06-18T02:57:52.494653Z",
     "start_time": "2025-06-18T02:57:52.488615Z"
    }
   },
   "source": [
    "for i in squares:\n",
    "    print('iterating again...')"
   ],
   "outputs": [],
   "execution_count": 3
  },
  {
   "cell_type": "markdown",
   "metadata": {},
   "source": [
    "As you can see, nothing happened!"
   ]
  },
  {
   "cell_type": "markdown",
   "metadata": {},
   "source": [
    "This is contrast to what happens with a list comprehension:"
   ]
  },
  {
   "cell_type": "code",
   "metadata": {
    "ExecuteTime": {
     "end_time": "2025-06-18T02:57:52.542695Z",
     "start_time": "2025-06-18T02:57:52.536589Z"
    }
   },
   "source": [
    "l = [i ** 2 for i in range(5)]"
   ],
   "outputs": [],
   "execution_count": 4
  },
  {
   "cell_type": "code",
   "metadata": {
    "ExecuteTime": {
     "end_time": "2025-06-18T02:57:52.592373Z",
     "start_time": "2025-06-18T02:57:52.588104Z"
    }
   },
   "source": [
    "for i in l:\n",
    "    print(i)"
   ],
   "outputs": [
    {
     "name": "stdout",
     "output_type": "stream",
     "text": [
      "0\n",
      "1\n",
      "4\n",
      "9\n",
      "16\n"
     ]
    }
   ],
   "execution_count": 5
  },
  {
   "cell_type": "code",
   "metadata": {
    "ExecuteTime": {
     "end_time": "2025-06-18T02:57:52.906197Z",
     "start_time": "2025-06-18T02:57:52.900675Z"
    }
   },
   "source": [
    "for i in l:\n",
    "    print(i)"
   ],
   "outputs": [
    {
     "name": "stdout",
     "output_type": "stream",
     "text": [
      "0\n",
      "1\n",
      "4\n",
      "9\n",
      "16\n"
     ]
    }
   ],
   "execution_count": 6
  },
  {
   "cell_type": "markdown",
   "metadata": {},
   "source": [
    "If we want to re-iterate over squares, we'll have to re-create the generator:"
   ]
  },
  {
   "cell_type": "code",
   "metadata": {
    "ExecuteTime": {
     "end_time": "2025-06-18T02:57:53.866510Z",
     "start_time": "2025-06-18T02:57:53.860916Z"
    }
   },
   "source": [
    "squares = (i ** 2 for i in range(5))"
   ],
   "outputs": [],
   "execution_count": 7
  },
  {
   "cell_type": "markdown",
   "metadata": {},
   "source": [
    "Remember when I told you that `ist(<iterable>)` essentially built a list by iterating over the iterable?"
   ]
  },
  {
   "cell_type": "markdown",
   "metadata": {},
   "source": [
    "If you pass a generator (or any iterator) to the list() or tuple() functions, you **will exhaust** the iterator!"
   ]
  },
  {
   "cell_type": "code",
   "metadata": {
    "ExecuteTime": {
     "end_time": "2025-06-18T02:57:54.665116Z",
     "start_time": "2025-06-18T02:57:54.658498Z"
    }
   },
   "source": [
    "squares = (i ** 2 for i in range(5))"
   ],
   "outputs": [],
   "execution_count": 8
  },
  {
   "cell_type": "code",
   "metadata": {
    "ExecuteTime": {
     "end_time": "2025-06-18T02:57:54.979569Z",
     "start_time": "2025-06-18T02:57:54.969325Z"
    }
   },
   "source": [
    "list(squares)"
   ],
   "outputs": [
    {
     "data": {
      "text/plain": [
       "[0, 1, 4, 9, 16]"
      ]
     },
     "execution_count": 9,
     "metadata": {},
     "output_type": "execute_result"
    }
   ],
   "execution_count": 9
  },
  {
   "cell_type": "code",
   "metadata": {
    "ExecuteTime": {
     "end_time": "2025-06-18T02:57:55.263746Z",
     "start_time": "2025-06-18T02:57:55.256646Z"
    }
   },
   "source": [
    "list(squares)"
   ],
   "outputs": [
    {
     "data": {
      "text/plain": [
       "[]"
      ]
     },
     "execution_count": 10,
     "metadata": {},
     "output_type": "execute_result"
    }
   ],
   "execution_count": 10
  },
  {
   "cell_type": "markdown",
   "metadata": {},
   "source": [
    "We can verify that generators are iterators by examining the `iter` and `next` methods:"
   ]
  },
  {
   "cell_type": "code",
   "metadata": {
    "ExecuteTime": {
     "end_time": "2025-06-18T02:57:55.732596Z",
     "start_time": "2025-06-18T02:57:55.726567Z"
    }
   },
   "source": [
    "squares = (i ** 2 for i in range(5))"
   ],
   "outputs": [],
   "execution_count": 11
  },
  {
   "cell_type": "code",
   "metadata": {
    "ExecuteTime": {
     "end_time": "2025-06-18T02:57:55.877858Z",
     "start_time": "2025-06-18T02:57:55.870827Z"
    }
   },
   "source": [
    "iter(squares) is squares"
   ],
   "outputs": [
    {
     "data": {
      "text/plain": [
       "True"
      ]
     },
     "execution_count": 12,
     "metadata": {},
     "output_type": "execute_result"
    }
   ],
   "execution_count": 12
  },
  {
   "cell_type": "markdown",
   "metadata": {},
   "source": [
    "So, calling `iter()` on a generator just returns the generator itself - consistent with what we have seen with iterators."
   ]
  },
  {
   "cell_type": "markdown",
   "metadata": {},
   "source": [
    "And we can call `next()` on the generator, until we get a `StopIteration` exception::"
   ]
  },
  {
   "cell_type": "code",
   "metadata": {
    "ExecuteTime": {
     "end_time": "2025-06-18T02:57:56.493863Z",
     "start_time": "2025-06-18T02:57:56.484285Z"
    }
   },
   "source": [
    "try:\n",
    "    while True:\n",
    "        print(next(squares))\n",
    "except StopIteration:\n",
    "    print('finished iterating')"
   ],
   "outputs": [
    {
     "name": "stdout",
     "output_type": "stream",
     "text": [
      "0\n",
      "1\n",
      "4\n",
      "9\n",
      "16\n",
      "finished iterating\n"
     ]
    }
   ],
   "execution_count": 13
  },
  {
   "cell_type": "markdown",
   "metadata": {},
   "source": [
    "And of course, calling next() again will just result in the same `StopIteration` exception - once the iterator says it's done, it's done!"
   ]
  },
  {
   "cell_type": "code",
   "metadata": {
    "ExecuteTime": {
     "end_time": "2025-06-18T02:57:56.962156Z",
     "start_time": "2025-06-18T02:57:56.954318Z"
    }
   },
   "source": [
    "try:\n",
    "    next(squares)\n",
    "except StopIteration:\n",
    "    print('no more!')"
   ],
   "outputs": [
    {
     "name": "stdout",
     "output_type": "stream",
     "text": [
      "no more!\n"
     ]
    }
   ],
   "execution_count": 14
  },
  {
   "cell_type": "markdown",
   "metadata": {},
   "source": [
    "You have to be extra careful with generators, and iterators in general, as you can easily consume or exhaust the iterator by accident!"
   ]
  },
  {
   "cell_type": "code",
   "metadata": {
    "ExecuteTime": {
     "end_time": "2025-06-18T02:57:57.423112Z",
     "start_time": "2025-06-18T02:57:57.418249Z"
    }
   },
   "source": [
    "squares = (i ** 2 for i in range(5))"
   ],
   "outputs": [],
   "execution_count": 15
  },
  {
   "cell_type": "code",
   "metadata": {
    "ExecuteTime": {
     "end_time": "2025-06-18T02:57:57.644039Z",
     "start_time": "2025-06-18T02:57:57.637041Z"
    }
   },
   "source": [
    "3 in squares"
   ],
   "outputs": [
    {
     "data": {
      "text/plain": [
       "False"
      ]
     },
     "execution_count": 16,
     "metadata": {},
     "output_type": "execute_result"
    }
   ],
   "execution_count": 16
  },
  {
   "cell_type": "code",
   "metadata": {
    "ExecuteTime": {
     "end_time": "2025-06-18T02:57:57.796811Z",
     "start_time": "2025-06-18T02:57:57.790780Z"
    }
   },
   "source": [
    "list(squares)"
   ],
   "outputs": [
    {
     "data": {
      "text/plain": [
       "[]"
      ]
     },
     "execution_count": 17,
     "metadata": {},
     "output_type": "execute_result"
    }
   ],
   "execution_count": 17
  },
  {
   "cell_type": "markdown",
   "metadata": {},
   "source": [
    "Why do you think that happened?"
   ]
  },
  {
   "cell_type": "markdown",
   "metadata": {},
   "source": [
    "Remember our discussion on membership testing in lists vs sets - for lists Python has to iterate through the iterable until it finds (or not) the item."
   ]
  },
  {
   "cell_type": "markdown",
   "metadata": {},
   "source": [
    "That's exactly what happened here. In fact, it could get worse:"
   ]
  },
  {
   "cell_type": "code",
   "metadata": {
    "ExecuteTime": {
     "end_time": "2025-06-18T02:57:59.183177Z",
     "start_time": "2025-06-18T02:57:59.176019Z"
    }
   },
   "source": [
    "squares = (i ** 2 for i in range(5))\n",
    "\n",
    "list(squares)"
   ],
   "outputs": [
    {
     "data": {
      "text/plain": [
       "[0, 1, 4, 9, 16]"
      ]
     },
     "execution_count": 18,
     "metadata": {},
     "output_type": "execute_result"
    }
   ],
   "execution_count": 18
  },
  {
   "cell_type": "code",
   "metadata": {
    "ExecuteTime": {
     "end_time": "2025-06-18T02:57:59.512504Z",
     "start_time": "2025-06-18T02:57:59.501316Z"
    }
   },
   "source": [
    "squares = (i ** 2 for i in range(5))\n",
    "\n",
    "4 in squares"
   ],
   "outputs": [
    {
     "data": {
      "text/plain": [
       "True"
      ]
     },
     "execution_count": 19,
     "metadata": {},
     "output_type": "execute_result"
    }
   ],
   "execution_count": 19
  },
  {
   "cell_type": "code",
   "metadata": {
    "ExecuteTime": {
     "end_time": "2025-06-18T02:57:59.762286Z",
     "start_time": "2025-06-18T02:57:59.755315Z"
    }
   },
   "source": [
    "list(squares)"
   ],
   "outputs": [
    {
     "data": {
      "text/plain": [
       "[9, 16]"
      ]
     },
     "execution_count": 20,
     "metadata": {},
     "output_type": "execute_result"
    }
   ],
   "execution_count": 20
  },
  {
   "cell_type": "markdown",
   "metadata": {},
   "source": [
    "As you can see, when Python did the membership test, it found `4`, so it stopped iterating through `squares` and returned `True` - this means we actually two elements left over in the iterator! \n",
    "\n",
    "This can cause some very weird bugs!"
   ]
  },
  {
   "cell_type": "markdown",
   "metadata": {},
   "source": [
    "Let's examine something we talked about in the lecture: generators are very quick to create compared to a list comprehension, since the collection elements are not actually created until they are requested - and then they are calculated and handed off one by one (lazy iteration):"
   ]
  },
  {
   "cell_type": "code",
   "metadata": {
    "ExecuteTime": {
     "end_time": "2025-06-18T02:58:00.744003Z",
     "start_time": "2025-06-18T02:58:00.739680Z"
    }
   },
   "source": [
    "from timeit import timeit"
   ],
   "outputs": [],
   "execution_count": 21
  },
  {
   "cell_type": "code",
   "metadata": {
    "ExecuteTime": {
     "end_time": "2025-06-18T02:58:04.103530Z",
     "start_time": "2025-06-18T02:58:01.096086Z"
    }
   },
   "source": [
    "timeit('[i ** 2 for i in range(25_000_000)]', number=1)"
   ],
   "outputs": [
    {
     "data": {
      "text/plain": [
       "2.9994857999990927"
      ]
     },
     "execution_count": 22,
     "metadata": {},
     "output_type": "execute_result"
    }
   ],
   "execution_count": 22
  },
  {
   "cell_type": "code",
   "metadata": {
    "ExecuteTime": {
     "end_time": "2025-06-18T02:58:04.155507Z",
     "start_time": "2025-06-18T02:58:04.136837Z"
    }
   },
   "source": [
    "timeit('(i ** 2 for i in range(25_000_000))', number=1)"
   ],
   "outputs": [
    {
     "data": {
      "text/plain": [
       "1.8499995348975062e-05"
      ]
     },
     "execution_count": 23,
     "metadata": {},
     "output_type": "execute_result"
    }
   ],
   "execution_count": 23
  },
  {
   "cell_type": "markdown",
   "metadata": {},
   "source": [
    "And in fact, for the generator it does not matter how many elements would be produced:"
   ]
  },
  {
   "cell_type": "code",
   "metadata": {
    "ExecuteTime": {
     "end_time": "2025-06-18T02:58:04.193875Z",
     "start_time": "2025-06-18T02:58:04.185943Z"
    }
   },
   "source": [
    "timeit('(i ** 2 for i in range(100_000_000_000))', number=1)"
   ],
   "outputs": [
    {
     "data": {
      "text/plain": [
       "6.000002031214535e-06"
      ]
     },
     "execution_count": 24,
     "metadata": {},
     "output_type": "execute_result"
    }
   ],
   "execution_count": 24
  },
  {
   "cell_type": "markdown",
   "metadata": {},
   "source": [
    "In summary, generators are great! But beware, they are not re-usable, and if you're going to need to iterate through them multiple times, you may be better off making the performance/memory trade-off."
   ]
  }
 ],
 "metadata": {
  "kernelspec": {
   "display_name": "Python 3",
   "language": "python",
   "name": "python3"
  },
  "language_info": {
   "codemirror_mode": {
    "name": "ipython",
    "version": 3
   },
   "file_extension": ".py",
   "mimetype": "text/x-python",
   "name": "python",
   "nbconvert_exporter": "python",
   "pygments_lexer": "ipython3",
   "version": "3.9.1"
  }
 },
 "nbformat": 4,
 "nbformat_minor": 4
}
