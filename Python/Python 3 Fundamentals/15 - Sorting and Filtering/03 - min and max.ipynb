{
 "cells": [
  {
   "cell_type": "markdown",
   "metadata": {},
   "source": [
    "### min and max"
   ]
  },
  {
   "cell_type": "markdown",
   "metadata": {},
   "source": [
    "When we use `sorted` we can specify a **key** function to use for the sort keys."
   ]
  },
  {
   "cell_type": "markdown",
   "metadata": {},
   "source": [
    "The same thing happens with `min` and `max` - the min and max is relative to some sort, and as we just saw we can specify the sort keys (via a key function) to customize the sort."
   ]
  },
  {
   "cell_type": "markdown",
   "metadata": {},
   "source": [
    "Let's see a simple example first:"
   ]
  },
  {
   "cell_type": "code",
   "metadata": {
    "ExecuteTime": {
     "end_time": "2025-06-18T04:40:26.723378Z",
     "start_time": "2025-06-18T04:40:26.716322Z"
    }
   },
   "source": [
    "data = [1, -2, 3, -4, 5, -6]"
   ],
   "outputs": [],
   "execution_count": 1
  },
  {
   "cell_type": "code",
   "metadata": {
    "ExecuteTime": {
     "end_time": "2025-06-18T04:40:27.037844Z",
     "start_time": "2025-06-18T04:40:27.029592Z"
    }
   },
   "source": [
    "min(data), max(data)"
   ],
   "outputs": [
    {
     "data": {
      "text/plain": [
       "(-6, 5)"
      ]
     },
     "execution_count": 2,
     "metadata": {},
     "output_type": "execute_result"
    }
   ],
   "execution_count": 2
  },
  {
   "cell_type": "markdown",
   "metadata": {},
   "source": [
    "This `min` and `max` worked using a natural sort (i.e. sorting by the numbers themselves)."
   ]
  },
  {
   "cell_type": "markdown",
   "metadata": {},
   "source": [
    "But what if we wanted to find the min (or max) for an iterable using a custom sort key?"
   ]
  },
  {
   "cell_type": "markdown",
   "metadata": {},
   "source": [
    "We can just give `min` (or `max`) that sort key function:"
   ]
  },
  {
   "cell_type": "code",
   "metadata": {
    "ExecuteTime": {
     "end_time": "2025-06-18T04:40:27.085678Z",
     "start_time": "2025-06-18T04:40:27.079703Z"
    }
   },
   "source": [
    "min(data, key=abs)"
   ],
   "outputs": [
    {
     "data": {
      "text/plain": [
       "1"
      ]
     },
     "execution_count": 3,
     "metadata": {},
     "output_type": "execute_result"
    }
   ],
   "execution_count": 3
  },
  {
   "cell_type": "code",
   "metadata": {
    "ExecuteTime": {
     "end_time": "2025-06-18T04:40:27.115208Z",
     "start_time": "2025-06-18T04:40:27.106600Z"
    }
   },
   "source": [
    "max(data, key=abs)"
   ],
   "outputs": [
    {
     "data": {
      "text/plain": [
       "-6"
      ]
     },
     "execution_count": 4,
     "metadata": {},
     "output_type": "execute_result"
    }
   ],
   "execution_count": 4
  },
  {
   "cell_type": "markdown",
   "metadata": {},
   "source": [
    "Here we could use `abs` directly since it is a function, but we ciould use a lambda expression, or a full fledged `def` function."
   ]
  },
  {
   "cell_type": "markdown",
   "metadata": {},
   "source": [
    "Let's go back to one of the examples we had when we studied sorting:"
   ]
  },
  {
   "cell_type": "code",
   "metadata": {
    "ExecuteTime": {
     "end_time": "2025-06-18T04:40:27.147794Z",
     "start_time": "2025-06-18T04:40:27.141776Z"
    }
   },
   "source": [
    "data = [\n",
    "    {'date': '2020-04-09', 'symbol': 'AAPL', 'open': 268.70, 'high': 270.04, 'low': 264.70, 'close': 267.99},\n",
    "    {'date': '2020-04-09', 'symbol': 'MSFT', 'open': 166.36, 'high': 167.37, 'low': 163.33, 'close': 165.14},\n",
    "    {'date': '2020-04-09', 'symbol': 'AMZN', 'open': 2_044.30, 'high': 2_053.00, 'low': 2_017.66, 'close': 2_042.76},\n",
    "    {'date': '2020-04-09', 'symbol': 'FB', 'open': 175.90, 'high': 177.08, 'low': 171.57, 'close': 175.19}\n",
    "]"
   ],
   "outputs": [],
   "execution_count": 5
  },
  {
   "cell_type": "markdown",
   "metadata": {},
   "source": [
    "Now we want to find the \"smallest\" element in our data, with ordering key defined by the `low` of each item:"
   ]
  },
  {
   "cell_type": "code",
   "metadata": {
    "ExecuteTime": {
     "end_time": "2025-06-18T04:40:27.188480Z",
     "start_time": "2025-06-18T04:40:27.180847Z"
    }
   },
   "source": [
    "min(data, key=lambda d: d['low'])"
   ],
   "outputs": [
    {
     "data": {
      "text/plain": [
       "{'date': '2020-04-09',\n",
       " 'symbol': 'MSFT',\n",
       " 'open': 166.36,\n",
       " 'high': 167.37,\n",
       " 'low': 163.33,\n",
       " 'close': 165.14}"
      ]
     },
     "execution_count": 6,
     "metadata": {},
     "output_type": "execute_result"
    }
   ],
   "execution_count": 6
  },
  {
   "cell_type": "markdown",
   "metadata": {},
   "source": [
    "So this is basically identical to how we used a key function for `sorted`."
   ]
  }
 ],
 "metadata": {
  "kernelspec": {
   "display_name": "Python 3",
   "language": "python",
   "name": "python3"
  },
  "language_info": {
   "codemirror_mode": {
    "name": "ipython",
    "version": 3
   },
   "file_extension": ".py",
   "mimetype": "text/x-python",
   "name": "python",
   "nbconvert_exporter": "python",
   "pygments_lexer": "ipython3",
   "version": "3.9.1"
  }
 },
 "nbformat": 4,
 "nbformat_minor": 4
}
