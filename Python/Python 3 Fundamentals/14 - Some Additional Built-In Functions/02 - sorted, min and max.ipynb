{
 "cells": [
  {
   "cell_type": "markdown",
   "metadata": {},
   "source": [
    "### Sorted, min and max"
   ]
  },
  {
   "cell_type": "markdown",
   "metadata": {},
   "source": [
    "In this video we are only going to look at numbers and strings, using the natural ordering that exists for those two types."
   ]
  },
  {
   "cell_type": "markdown",
   "metadata": {},
   "source": [
    "We'll come back to `sorted`, `min` and `max` again later."
   ]
  },
  {
   "cell_type": "markdown",
   "metadata": {},
   "source": [
    "Let's start with an iterable of numbers - it could be a tuple, a list, or even a set:"
   ]
  },
  {
   "cell_type": "code",
   "metadata": {
    "ExecuteTime": {
     "end_time": "2025-06-18T03:10:39.143172Z",
     "start_time": "2025-06-18T03:10:39.135624Z"
    }
   },
   "source": [
    "l = [1, 10, 2, 9, 3, 8]\n",
    "t = (1, 10, 2, 9, 3, 8)"
   ],
   "outputs": [],
   "execution_count": 1
  },
  {
   "cell_type": "code",
   "metadata": {
    "ExecuteTime": {
     "end_time": "2025-06-18T03:10:39.513877Z",
     "start_time": "2025-06-18T03:10:39.500521Z"
    }
   },
   "source": [
    "sorted(l)"
   ],
   "outputs": [
    {
     "data": {
      "text/plain": [
       "[1, 2, 3, 8, 9, 10]"
      ]
     },
     "execution_count": 2,
     "metadata": {},
     "output_type": "execute_result"
    }
   ],
   "execution_count": 2
  },
  {
   "cell_type": "code",
   "metadata": {
    "ExecuteTime": {
     "end_time": "2025-06-18T03:10:39.590189Z",
     "start_time": "2025-06-18T03:10:39.579561Z"
    }
   },
   "source": [
    "sorted(t)"
   ],
   "outputs": [
    {
     "data": {
      "text/plain": [
       "[1, 2, 3, 8, 9, 10]"
      ]
     },
     "execution_count": 3,
     "metadata": {},
     "output_type": "execute_result"
    }
   ],
   "execution_count": 3
  },
  {
   "cell_type": "markdown",
   "metadata": {},
   "source": [
    "You'll notice that in each case we get a `list` back."
   ]
  },
  {
   "cell_type": "markdown",
   "metadata": {},
   "source": [
    "Note also that this is not an in-place sort - in the sense that the original iterable was not modified in any way:"
   ]
  },
  {
   "cell_type": "code",
   "metadata": {
    "ExecuteTime": {
     "end_time": "2025-06-18T03:10:39.613132Z",
     "start_time": "2025-06-18T03:10:39.606571Z"
    }
   },
   "source": [
    "l"
   ],
   "outputs": [
    {
     "data": {
      "text/plain": [
       "[1, 10, 2, 9, 3, 8]"
      ]
     },
     "execution_count": 4,
     "metadata": {},
     "output_type": "execute_result"
    }
   ],
   "execution_count": 4
  },
  {
   "cell_type": "code",
   "metadata": {
    "ExecuteTime": {
     "end_time": "2025-06-18T03:10:39.644342Z",
     "start_time": "2025-06-18T03:10:39.636605Z"
    }
   },
   "source": [
    "t"
   ],
   "outputs": [
    {
     "data": {
      "text/plain": [
       "(1, 10, 2, 9, 3, 8)"
      ]
     },
     "execution_count": 5,
     "metadata": {},
     "output_type": "execute_result"
    }
   ],
   "execution_count": 5
  },
  {
   "cell_type": "markdown",
   "metadata": {},
   "source": [
    "The default sort order is ascending (from smallest to largest), but we can change this to descending by specifying a key-word-only argument:"
   ]
  },
  {
   "cell_type": "code",
   "metadata": {
    "ExecuteTime": {
     "end_time": "2025-06-18T03:10:39.723750Z",
     "start_time": "2025-06-18T03:10:39.716710Z"
    }
   },
   "source": [
    "sorted(l, reverse=True)"
   ],
   "outputs": [
    {
     "data": {
      "text/plain": [
       "[10, 9, 8, 3, 2, 1]"
      ]
     },
     "execution_count": 6,
     "metadata": {},
     "output_type": "execute_result"
    }
   ],
   "execution_count": 6
  },
  {
   "cell_type": "markdown",
   "metadata": {},
   "source": [
    "Strings also have a natural ordering, based on the character code of each character in the string. But this means string sorts are case sensitive:"
   ]
  },
  {
   "cell_type": "code",
   "metadata": {
    "ExecuteTime": {
     "end_time": "2025-06-18T03:10:40.250944Z",
     "start_time": "2025-06-18T03:10:40.242850Z"
    }
   },
   "source": [
    "sorted(('a', 'z', 'b', 'y', 'c', 'x'))"
   ],
   "outputs": [
    {
     "data": {
      "text/plain": [
       "['a', 'b', 'c', 'x', 'y', 'z']"
      ]
     },
     "execution_count": 7,
     "metadata": {},
     "output_type": "execute_result"
    }
   ],
   "execution_count": 7
  },
  {
   "cell_type": "markdown",
   "metadata": {},
   "source": [
    "But this may seem odd:"
   ]
  },
  {
   "cell_type": "code",
   "metadata": {
    "ExecuteTime": {
     "end_time": "2025-06-18T03:10:40.936485Z",
     "start_time": "2025-06-18T03:10:40.925726Z"
    }
   },
   "source": [
    "sorted({'a', 'A', 'b', 'B', 'x', 'X'})"
   ],
   "outputs": [
    {
     "data": {
      "text/plain": [
       "['A', 'B', 'X', 'a', 'b', 'x']"
      ]
     },
     "execution_count": 8,
     "metadata": {},
     "output_type": "execute_result"
    }
   ],
   "execution_count": 8
  },
  {
   "cell_type": "markdown",
   "metadata": {},
   "source": [
    "This is because the character code for `A` is smaller than the character code for `a`:"
   ]
  },
  {
   "cell_type": "code",
   "metadata": {
    "ExecuteTime": {
     "end_time": "2025-06-18T03:10:41.286861Z",
     "start_time": "2025-06-18T03:10:41.280795Z"
    }
   },
   "source": [
    "'A' < 'a'"
   ],
   "outputs": [
    {
     "data": {
      "text/plain": [
       "True"
      ]
     },
     "execution_count": 9,
     "metadata": {},
     "output_type": "execute_result"
    }
   ],
   "execution_count": 9
  },
  {
   "cell_type": "markdown",
   "metadata": {},
   "source": [
    "and in fact:"
   ]
  },
  {
   "cell_type": "code",
   "metadata": {
    "ExecuteTime": {
     "end_time": "2025-06-18T03:10:41.706077Z",
     "start_time": "2025-06-18T03:10:41.698566Z"
    }
   },
   "source": [
    "'Z' < 'a'"
   ],
   "outputs": [
    {
     "data": {
      "text/plain": [
       "True"
      ]
     },
     "execution_count": 10,
     "metadata": {},
     "output_type": "execute_result"
    }
   ],
   "execution_count": 10
  },
  {
   "cell_type": "markdown",
   "metadata": {},
   "source": [
    "So, "
   ]
  },
  {
   "cell_type": "code",
   "metadata": {
    "ExecuteTime": {
     "end_time": "2025-06-18T03:10:42.136625Z",
     "start_time": "2025-06-18T03:10:42.130067Z"
    }
   },
   "source": [
    "sorted(['atom', 'apple', 'Zebra'])"
   ],
   "outputs": [
    {
     "data": {
      "text/plain": [
       "['Zebra', 'apple', 'atom']"
      ]
     },
     "execution_count": 11,
     "metadata": {},
     "output_type": "execute_result"
    }
   ],
   "execution_count": 11
  },
  {
   "cell_type": "markdown",
   "metadata": {},
   "source": [
    "We'll come back to sorting later and see how we can change this default behavior."
   ]
  },
  {
   "cell_type": "markdown",
   "metadata": {},
   "source": [
    "The `min` and `max` functions are very much related to sorting."
   ]
  },
  {
   "cell_type": "markdown",
   "metadata": {},
   "source": [
    "To find the smallest element in a list of numbers we could do this:"
   ]
  },
  {
   "cell_type": "code",
   "metadata": {
    "ExecuteTime": {
     "end_time": "2025-06-18T03:10:42.989158Z",
     "start_time": "2025-06-18T03:10:42.984614Z"
    }
   },
   "source": [
    "l = [1, 10, 2, 9, 3, 8]"
   ],
   "outputs": [],
   "execution_count": 12
  },
  {
   "cell_type": "code",
   "metadata": {
    "ExecuteTime": {
     "end_time": "2025-06-18T03:10:43.116447Z",
     "start_time": "2025-06-18T03:10:43.110919Z"
    }
   },
   "source": [
    "sorted_ascending = sorted(l)"
   ],
   "outputs": [],
   "execution_count": 13
  },
  {
   "cell_type": "code",
   "metadata": {
    "ExecuteTime": {
     "end_time": "2025-06-18T03:10:43.358402Z",
     "start_time": "2025-06-18T03:10:43.353886Z"
    }
   },
   "source": [
    "smallest_element = sorted_ascending[0]"
   ],
   "outputs": [],
   "execution_count": 14
  },
  {
   "cell_type": "code",
   "metadata": {
    "ExecuteTime": {
     "end_time": "2025-06-18T03:10:43.447640Z",
     "start_time": "2025-06-18T03:10:43.442261Z"
    }
   },
   "source": [
    "smallest_element"
   ],
   "outputs": [
    {
     "data": {
      "text/plain": [
       "1"
      ]
     },
     "execution_count": 15,
     "metadata": {},
     "output_type": "execute_result"
    }
   ],
   "execution_count": 15
  },
  {
   "cell_type": "markdown",
   "metadata": {},
   "source": [
    "Instead of doing this, we can use `min`:"
   ]
  },
  {
   "cell_type": "code",
   "metadata": {
    "ExecuteTime": {
     "end_time": "2025-06-18T03:10:43.788532Z",
     "start_time": "2025-06-18T03:10:43.781209Z"
    }
   },
   "source": [
    "min(l)"
   ],
   "outputs": [
    {
     "data": {
      "text/plain": [
       "1"
      ]
     },
     "execution_count": 16,
     "metadata": {},
     "output_type": "execute_result"
    }
   ],
   "execution_count": 16
  },
  {
   "cell_type": "markdown",
   "metadata": {},
   "source": [
    "If we pas an empty iterable to the `min` or `max` functions, we will get an exception - it is not possible to find the smallest element of an empty collection after all!"
   ]
  },
  {
   "cell_type": "code",
   "metadata": {
    "ExecuteTime": {
     "end_time": "2025-06-18T03:10:44.129294Z",
     "start_time": "2025-06-18T03:10:44.123257Z"
    }
   },
   "source": [
    "try:\n",
    "    min([])\n",
    "except ValueError as ex:\n",
    "    print('ValueError:', ex)"
   ],
   "outputs": [
    {
     "name": "stdout",
     "output_type": "stream",
     "text": [
      "ValueError: min() iterable argument is empty\n"
     ]
    }
   ],
   "execution_count": 17
  },
  {
   "cell_type": "markdown",
   "metadata": {},
   "source": [
    "If we want, we can specify a `default` value, a keyword-only argument to use as the min/max if the iterable is empty:"
   ]
  },
  {
   "cell_type": "code",
   "metadata": {
    "ExecuteTime": {
     "end_time": "2025-06-18T03:10:44.552315Z",
     "start_time": "2025-06-18T03:10:44.545149Z"
    }
   },
   "source": [
    "min([], default=0)"
   ],
   "outputs": [
    {
     "data": {
      "text/plain": [
       "0"
      ]
     },
     "execution_count": 18,
     "metadata": {},
     "output_type": "execute_result"
    }
   ],
   "execution_count": 18
  },
  {
   "cell_type": "markdown",
   "metadata": {},
   "source": [
    "The `min` function takes a single iterable as a positional argument, but it can also handle *multiple* positional arguments instead:"
   ]
  },
  {
   "cell_type": "code",
   "metadata": {
    "ExecuteTime": {
     "end_time": "2025-06-18T03:10:44.906860Z",
     "start_time": "2025-06-18T03:10:44.901044Z"
    }
   },
   "source": [
    "min(1, 10, 2, 9, 3, 8)"
   ],
   "outputs": [
    {
     "data": {
      "text/plain": [
       "1"
      ]
     },
     "execution_count": 19,
     "metadata": {},
     "output_type": "execute_result"
    }
   ],
   "execution_count": 19
  },
  {
   "cell_type": "markdown",
   "metadata": {},
   "source": [
    "Of course, using this variant means that using a `default` makes no sense:"
   ]
  },
  {
   "cell_type": "code",
   "metadata": {
    "ExecuteTime": {
     "end_time": "2025-06-18T03:10:45.943825Z",
     "start_time": "2025-06-18T03:10:45.543057Z"
    }
   },
   "source": [
    "min(1, 10, default=0)"
   ],
   "outputs": [
    {
     "ename": "TypeError",
     "evalue": "Cannot specify a default for min() with multiple positional arguments",
     "output_type": "error",
     "traceback": [
      "\u001B[1;31m---------------------------------------------------------------------------\u001B[0m",
      "\u001B[1;31mTypeError\u001B[0m                                 Traceback (most recent call last)",
      "Cell \u001B[1;32mIn[20], line 1\u001B[0m\n\u001B[1;32m----> 1\u001B[0m \u001B[38;5;28;43mmin\u001B[39;49m\u001B[43m(\u001B[49m\u001B[38;5;241;43m1\u001B[39;49m\u001B[43m,\u001B[49m\u001B[43m \u001B[49m\u001B[38;5;241;43m10\u001B[39;49m\u001B[43m,\u001B[49m\u001B[43m \u001B[49m\u001B[43mdefault\u001B[49m\u001B[38;5;241;43m=\u001B[39;49m\u001B[38;5;241;43m0\u001B[39;49m\u001B[43m)\u001B[49m\n",
      "\u001B[1;31mTypeError\u001B[0m: Cannot specify a default for min() with multiple positional arguments"
     ]
    }
   ],
   "execution_count": 20
  },
  {
   "cell_type": "markdown",
   "metadata": {},
   "source": [
    "`max` works exactly the same way."
   ]
  }
 ],
 "metadata": {
  "kernelspec": {
   "display_name": "Python 3",
   "language": "python",
   "name": "python3"
  },
  "language_info": {
   "codemirror_mode": {
    "name": "ipython",
    "version": 3
   },
   "file_extension": ".py",
   "mimetype": "text/x-python",
   "name": "python",
   "nbconvert_exporter": "python",
   "pygments_lexer": "ipython3",
   "version": "3.9.1"
  }
 },
 "nbformat": 4,
 "nbformat_minor": 4
}
