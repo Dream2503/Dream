{
 "cells": [
  {
   "cell_type": "markdown",
   "metadata": {},
   "source": [
    "### Comparison Operators"
   ]
  },
  {
   "cell_type": "markdown",
   "metadata": {},
   "source": [
    "We saw that we have two types of equality comparison:\n",
    "- value comparison (`==`)\n",
    "- object identity (`is`)"
   ]
  },
  {
   "cell_type": "markdown",
   "metadata": {},
   "source": [
    "When we use the `==` operator, the type itself (an object with functionality and state), specifies how two different objects may be equal, in some sense."
   ]
  },
  {
   "cell_type": "markdown",
   "metadata": {},
   "source": [
    "For numeric types, the `==` comparison compares the **value** of the number."
   ]
  },
  {
   "cell_type": "markdown",
   "metadata": {},
   "source": [
    "So we have this:"
   ]
  },
  {
   "cell_type": "code",
   "metadata": {
    "ExecuteTime": {
     "end_time": "2025-06-17T18:51:41.322315Z",
     "start_time": "2025-06-17T18:51:41.314450Z"
    }
   },
   "source": [
    "a = 10\n",
    "b = 10"
   ],
   "outputs": [],
   "execution_count": 1
  },
  {
   "cell_type": "code",
   "metadata": {
    "ExecuteTime": {
     "end_time": "2025-06-17T18:51:41.655493Z",
     "start_time": "2025-06-17T18:51:41.647672Z"
    }
   },
   "source": [
    "a == b"
   ],
   "outputs": [
    {
     "data": {
      "text/plain": [
       "True"
      ]
     },
     "execution_count": 2,
     "metadata": {},
     "output_type": "execute_result"
    }
   ],
   "execution_count": 2
  },
  {
   "cell_type": "markdown",
   "metadata": {},
   "source": [
    "And since `10.0` and `10` are both represented exactly in Python, even though they are different types, they will still compare equal:"
   ]
  },
  {
   "cell_type": "code",
   "metadata": {
    "ExecuteTime": {
     "end_time": "2025-06-17T18:51:41.690108Z",
     "start_time": "2025-06-17T18:51:41.685211Z"
    }
   },
   "source": [
    "c = 10.0"
   ],
   "outputs": [],
   "execution_count": 3
  },
  {
   "cell_type": "code",
   "metadata": {
    "ExecuteTime": {
     "end_time": "2025-06-17T18:51:41.712047Z",
     "start_time": "2025-06-17T18:51:41.706588Z"
    }
   },
   "source": [
    "a == c"
   ],
   "outputs": [
    {
     "data": {
      "text/plain": [
       "True"
      ]
     },
     "execution_count": 4,
     "metadata": {},
     "output_type": "execute_result"
    }
   ],
   "execution_count": 4
  },
  {
   "cell_type": "markdown",
   "metadata": {},
   "source": [
    "But `a` and `c` are not the same objects:"
   ]
  },
  {
   "cell_type": "code",
   "metadata": {
    "ExecuteTime": {
     "end_time": "2025-06-17T18:51:41.753310Z",
     "start_time": "2025-06-17T18:51:41.747930Z"
    }
   },
   "source": [
    "a is c"
   ],
   "outputs": [
    {
     "data": {
      "text/plain": [
       "False"
      ]
     },
     "execution_count": 5,
     "metadata": {},
     "output_type": "execute_result"
    }
   ],
   "execution_count": 5
  },
  {
   "cell_type": "markdown",
   "metadata": {},
   "source": [
    "One way we can investigate objects and whether two objects are the same objects, is to look at their **memory address**."
   ]
  },
  {
   "cell_type": "markdown",
   "metadata": {},
   "source": [
    "Objects in Python reside somewhere in memory. Think of memory as a bunch of slots, each of which has an **address** - just like mailboxes have addresses."
   ]
  },
  {
   "cell_type": "markdown",
   "metadata": {},
   "source": [
    "If the memory address of an object is the same as the other one, then they are the same object - just like two addresses that are the same correspond to the same mailbox."
   ]
  },
  {
   "cell_type": "markdown",
   "metadata": {},
   "source": [
    "If two objects are identical (the same object), they are obviously equal too (two mailboxes that correspond to the same address **are** the same mailbox, so they must have the same content)."
   ]
  },
  {
   "cell_type": "markdown",
   "metadata": {},
   "source": [
    "In Python we can use the `id` function to see the memory address of an object:"
   ]
  },
  {
   "cell_type": "code",
   "metadata": {
    "ExecuteTime": {
     "end_time": "2025-06-17T18:51:41.810829Z",
     "start_time": "2025-06-17T18:51:41.805804Z"
    }
   },
   "source": [
    "a = 10\n",
    "b = 10.0"
   ],
   "outputs": [],
   "execution_count": 6
  },
  {
   "cell_type": "code",
   "metadata": {
    "ExecuteTime": {
     "end_time": "2025-06-17T18:51:41.844118Z",
     "start_time": "2025-06-17T18:51:41.838847Z"
    }
   },
   "source": [
    "a == b"
   ],
   "outputs": [
    {
     "data": {
      "text/plain": [
       "True"
      ]
     },
     "execution_count": 7,
     "metadata": {},
     "output_type": "execute_result"
    }
   ],
   "execution_count": 7
  },
  {
   "cell_type": "code",
   "metadata": {
    "ExecuteTime": {
     "end_time": "2025-06-17T18:51:41.923968Z",
     "start_time": "2025-06-17T18:51:41.917862Z"
    }
   },
   "source": [
    "a is b"
   ],
   "outputs": [
    {
     "data": {
      "text/plain": [
       "False"
      ]
     },
     "execution_count": 8,
     "metadata": {},
     "output_type": "execute_result"
    }
   ],
   "execution_count": 8
  },
  {
   "cell_type": "code",
   "metadata": {
    "ExecuteTime": {
     "end_time": "2025-06-17T18:51:42.004887Z",
     "start_time": "2025-06-17T18:51:41.998281Z"
    }
   },
   "source": [
    "id(a), id(b)"
   ],
   "outputs": [
    {
     "data": {
      "text/plain": [
       "(140708869720792, 2269555909040)"
      ]
     },
     "execution_count": 9,
     "metadata": {},
     "output_type": "execute_result"
    }
   ],
   "execution_count": 9
  },
  {
   "cell_type": "markdown",
   "metadata": {},
   "source": [
    "As you can see, `a` and `b` are not the same object (`a is b` evaluates to `False`), and indeed the memory address of the two objects are different. "
   ]
  },
  {
   "cell_type": "markdown",
   "metadata": {},
   "source": [
    "Related to the `==` operator, we have the `!=` (no equal) operator - again it works with values, not object identity:"
   ]
  },
  {
   "cell_type": "code",
   "metadata": {
    "ExecuteTime": {
     "end_time": "2025-06-17T18:51:42.371726Z",
     "start_time": "2025-06-17T18:51:42.365214Z"
    }
   },
   "source": [
    "10 != 12"
   ],
   "outputs": [
    {
     "data": {
      "text/plain": [
       "True"
      ]
     },
     "execution_count": 10,
     "metadata": {},
     "output_type": "execute_result"
    }
   ],
   "execution_count": 10
  },
  {
   "cell_type": "code",
   "metadata": {
    "ExecuteTime": {
     "end_time": "2025-06-17T18:51:42.584483Z",
     "start_time": "2025-06-17T18:51:42.577863Z"
    }
   },
   "source": [
    "10.5 != 10.5"
   ],
   "outputs": [
    {
     "data": {
      "text/plain": [
       "False"
      ]
     },
     "execution_count": 11,
     "metadata": {},
     "output_type": "execute_result"
    }
   ],
   "execution_count": 11
  },
  {
   "cell_type": "markdown",
   "metadata": {},
   "source": [
    "We have other types of comparison operators, such as `<`, `<=`, etc."
   ]
  },
  {
   "cell_type": "markdown",
   "metadata": {},
   "source": [
    "These operators works very similarly to the `==` operator - the types themselves define what those operators mean.\n",
    "\n",
    "Sometimes a type does not define that, in which case there is no ordering (called natural ordering)."
   ]
  },
  {
   "cell_type": "markdown",
   "metadata": {},
   "source": [
    "Integers and floats are naturally ordered and Python implements that for us:"
   ]
  },
  {
   "cell_type": "code",
   "metadata": {
    "ExecuteTime": {
     "end_time": "2025-06-17T18:51:43.238604Z",
     "start_time": "2025-06-17T18:51:43.231700Z"
    }
   },
   "source": [
    "10 >= 5"
   ],
   "outputs": [
    {
     "data": {
      "text/plain": [
       "True"
      ]
     },
     "execution_count": 12,
     "metadata": {},
     "output_type": "execute_result"
    }
   ],
   "execution_count": 12
  },
  {
   "cell_type": "code",
   "metadata": {
    "ExecuteTime": {
     "end_time": "2025-06-17T18:51:43.468156Z",
     "start_time": "2025-06-17T18:51:43.461290Z"
    }
   },
   "source": [
    "10.5 < 100.2"
   ],
   "outputs": [
    {
     "data": {
      "text/plain": [
       "True"
      ]
     },
     "execution_count": 13,
     "metadata": {},
     "output_type": "execute_result"
    }
   ],
   "execution_count": 13
  },
  {
   "cell_type": "markdown",
   "metadata": {},
   "source": [
    "Even across numeric types:"
   ]
  },
  {
   "cell_type": "code",
   "metadata": {
    "ExecuteTime": {
     "end_time": "2025-06-17T18:51:43.654473Z",
     "start_time": "2025-06-17T18:51:43.647327Z"
    }
   },
   "source": [
    "10 <= 12.5"
   ],
   "outputs": [
    {
     "data": {
      "text/plain": [
       "True"
      ]
     },
     "execution_count": 14,
     "metadata": {},
     "output_type": "execute_result"
    }
   ],
   "execution_count": 14
  },
  {
   "cell_type": "markdown",
   "metadata": {},
   "source": [
    "These operators work because the `int` and `float` types implement special functionality (methods), such as `__lt__`, `__lte__`, etc. We will be able to do the same with our own custom types later in this course."
   ]
  },
  {
   "cell_type": "markdown",
   "metadata": {},
   "source": [
    "Not all types implement all these comparison operators. For example, complex numbers in Python do not (they implement equality, but not ordering):"
   ]
  },
  {
   "cell_type": "code",
   "metadata": {
    "ExecuteTime": {
     "end_time": "2025-06-17T18:51:43.851487Z",
     "start_time": "2025-06-17T18:51:43.844960Z"
    }
   },
   "source": [
    "a = 1 + 1j\n",
    "b = 1 + 1j\n",
    "c = 2 + 2j"
   ],
   "outputs": [],
   "execution_count": 15
  },
  {
   "cell_type": "code",
   "metadata": {
    "ExecuteTime": {
     "end_time": "2025-06-17T18:51:44.002453Z",
     "start_time": "2025-06-17T18:51:43.995207Z"
    }
   },
   "source": [
    "a == b"
   ],
   "outputs": [
    {
     "data": {
      "text/plain": [
       "True"
      ]
     },
     "execution_count": 16,
     "metadata": {},
     "output_type": "execute_result"
    }
   ],
   "execution_count": 16
  },
  {
   "cell_type": "code",
   "metadata": {
    "ExecuteTime": {
     "end_time": "2025-06-17T18:51:44.124731Z",
     "start_time": "2025-06-17T18:51:44.116882Z"
    }
   },
   "source": [
    "a is b, id(a), id(b)"
   ],
   "outputs": [
    {
     "data": {
      "text/plain": [
       "(False, 2269555909776, 2269555910704)"
      ]
     },
     "execution_count": 17,
     "metadata": {},
     "output_type": "execute_result"
    }
   ],
   "execution_count": 17
  },
  {
   "cell_type": "markdown",
   "metadata": {},
   "source": [
    "As we can see, `a` and `b` are two different objects (`a is b` evaluates to `False`, and indeed the memory addresses are different), but they are `==` in terms of their value."
   ]
  },
  {
   "cell_type": "markdown",
   "metadata": {},
   "source": [
    "On the other hand what does it mean for one complex number to be less than another one? Well that may depend on the context or how we want to define it - so Python makes no assumption, and simply does not implement order comparisons for complex numbers:"
   ]
  },
  {
   "cell_type": "code",
   "metadata": {
    "ExecuteTime": {
     "end_time": "2025-06-17T18:51:44.732896Z",
     "start_time": "2025-06-17T18:51:44.388073Z"
    }
   },
   "source": [
    "a < c"
   ],
   "outputs": [
    {
     "ename": "TypeError",
     "evalue": "'<' not supported between instances of 'complex' and 'complex'",
     "output_type": "error",
     "traceback": [
      "\u001B[1;31m---------------------------------------------------------------------------\u001B[0m",
      "\u001B[1;31mTypeError\u001B[0m                                 Traceback (most recent call last)",
      "Cell \u001B[1;32mIn[18], line 1\u001B[0m\n\u001B[1;32m----> 1\u001B[0m \u001B[43ma\u001B[49m\u001B[43m \u001B[49m\u001B[38;5;241;43m<\u001B[39;49m\u001B[43m \u001B[49m\u001B[43mc\u001B[49m\n",
      "\u001B[1;31mTypeError\u001B[0m: '<' not supported between instances of 'complex' and 'complex'"
     ]
    }
   ],
   "execution_count": 18
  },
  {
   "cell_type": "markdown",
   "metadata": {},
   "source": [
    "And we simply get an exception."
   ]
  },
  {
   "cell_type": "markdown",
   "metadata": {},
   "source": [
    "#### Floats and Equality"
   ]
  },
  {
   "cell_type": "markdown",
   "metadata": {},
   "source": [
    "We've mentioned this before, but because floats rarely have exact representations in Python, we should not use `==` to test if two float values are the same:"
   ]
  },
  {
   "cell_type": "code",
   "metadata": {
    "ExecuteTime": {
     "end_time": "2025-06-17T18:51:47.621315Z",
     "start_time": "2025-06-17T18:51:47.614786Z"
    }
   },
   "source": [
    "0.1 * 3 == 0.3"
   ],
   "outputs": [
    {
     "data": {
      "text/plain": [
       "False"
      ]
     },
     "execution_count": 19,
     "metadata": {},
     "output_type": "execute_result"
    }
   ],
   "execution_count": 19
  },
  {
   "cell_type": "markdown",
   "metadata": {},
   "source": [
    "That's because the representations for `0.1` multiplied by `3`, is not exactly the same as the representation for `0.3` - very very close, but not exact."
   ]
  },
  {
   "cell_type": "code",
   "metadata": {
    "ExecuteTime": {
     "end_time": "2025-06-17T18:51:47.981064Z",
     "start_time": "2025-06-17T18:51:47.974736Z"
    }
   },
   "source": [
    "format(0.1 * 3, '.25f')"
   ],
   "outputs": [
    {
     "data": {
      "text/plain": [
       "'0.3000000000000000444089210'"
      ]
     },
     "execution_count": 20,
     "metadata": {},
     "output_type": "execute_result"
    }
   ],
   "execution_count": 20
  },
  {
   "cell_type": "code",
   "metadata": {
    "ExecuteTime": {
     "end_time": "2025-06-17T18:51:48.187488Z",
     "start_time": "2025-06-17T18:51:48.180144Z"
    }
   },
   "source": [
    "format(0.3, '.25f')"
   ],
   "outputs": [
    {
     "data": {
      "text/plain": [
       "'0.2999999999999999888977698'"
      ]
     },
     "execution_count": 21,
     "metadata": {},
     "output_type": "execute_result"
    }
   ],
   "execution_count": 21
  },
  {
   "cell_type": "markdown",
   "metadata": {},
   "source": [
    "One way around this problem is to define some tolerance, and if the absolute value of the difference of the two floats is less than the tolerance, we can accept the numbers as equal:"
   ]
  },
  {
   "cell_type": "code",
   "metadata": {
    "ExecuteTime": {
     "end_time": "2025-06-17T18:51:48.499162Z",
     "start_time": "2025-06-17T18:51:48.494305Z"
    }
   },
   "source": [
    "tol = 0.000_000_001"
   ],
   "outputs": [],
   "execution_count": 22
  },
  {
   "cell_type": "code",
   "metadata": {
    "ExecuteTime": {
     "end_time": "2025-06-17T18:51:48.653444Z",
     "start_time": "2025-06-17T18:51:48.646852Z"
    }
   },
   "source": [
    "a = 0.1 * 3\n",
    "b = 0.3\n",
    "\n",
    "print(format(a, '.25f'))\n",
    "print(format(b, '.25f'))\n",
    "print(abs(a-b) < tol)"
   ],
   "outputs": [
    {
     "name": "stdout",
     "output_type": "stream",
     "text": [
      "0.3000000000000000444089210\n",
      "0.2999999999999999888977698\n",
      "True\n"
     ]
    }
   ],
   "execution_count": 23
  },
  {
   "cell_type": "markdown",
   "metadata": {},
   "source": [
    "#### Custom Types"
   ]
  },
  {
   "cell_type": "markdown",
   "metadata": {},
   "source": [
    "As before, I'm just going to show you something, but I don't expect you to understand all this code right now - I just want to show you that comparison operators such as `==`, `<`, `<=`, etc are actually defined by the type itself."
   ]
  },
  {
   "cell_type": "markdown",
   "metadata": {},
   "source": [
    "Let's use our `Vector` example from before:"
   ]
  },
  {
   "cell_type": "code",
   "metadata": {
    "ExecuteTime": {
     "end_time": "2025-06-17T18:51:49.394931Z",
     "start_time": "2025-06-17T18:51:49.389072Z"
    }
   },
   "source": [
    "class Vector:\n",
    "    def __init__(self, x, y):\n",
    "        self.x = x\n",
    "        self.y = y\n",
    "        \n",
    "    def __add__(self, other):\n",
    "        if isinstance(other, Vector):\n",
    "            return Vector(self.x + other.x, self.y + other.y)\n",
    "        return None\n",
    "\n",
    "    def __repr__(self):\n",
    "        return f'Vector({self.x}, {self.y})'"
   ],
   "outputs": [],
   "execution_count": 24
  },
  {
   "cell_type": "code",
   "metadata": {
    "ExecuteTime": {
     "end_time": "2025-06-17T18:51:49.860637Z",
     "start_time": "2025-06-17T18:51:49.853710Z"
    }
   },
   "source": [
    "v1 = Vector(1, 1)\n",
    "v2 = Vector(1, 1)\n",
    "v3 = Vector(2, 3)"
   ],
   "outputs": [],
   "execution_count": 25
  },
  {
   "cell_type": "code",
   "metadata": {
    "ExecuteTime": {
     "end_time": "2025-06-17T18:51:50.169627Z",
     "start_time": "2025-06-17T18:51:50.162553Z"
    }
   },
   "source": [
    "id(v1), id(v2), id(v3)"
   ],
   "outputs": [
    {
     "data": {
      "text/plain": [
       "(2269556121984, 2269556642048, 2269556651456)"
      ]
     },
     "execution_count": 26,
     "metadata": {},
     "output_type": "execute_result"
    }
   ],
   "execution_count": 26
  },
  {
   "cell_type": "markdown",
   "metadata": {},
   "source": [
    "As we can see, each of those vectors are different objects (different memory addresses)."
   ]
  },
  {
   "cell_type": "markdown",
   "metadata": {},
   "source": [
    "So it should not surprise us that `v1` and `v2` will compare `False` when using the identity comparison:"
   ]
  },
  {
   "cell_type": "code",
   "metadata": {
    "ExecuteTime": {
     "end_time": "2025-06-17T18:51:50.705824Z",
     "start_time": "2025-06-17T18:51:50.698111Z"
    }
   },
   "source": [
    "v1 is v2"
   ],
   "outputs": [
    {
     "data": {
      "text/plain": [
       "False"
      ]
     },
     "execution_count": 27,
     "metadata": {},
     "output_type": "execute_result"
    }
   ],
   "execution_count": 27
  },
  {
   "cell_type": "markdown",
   "metadata": {},
   "source": [
    "But, maybe not what we would expect is that from a equality comparison perspective, they also compare `False`:"
   ]
  },
  {
   "cell_type": "code",
   "execution_count": 28,
   "metadata": {},
   "outputs": [
    {
     "data": {
      "text/plain": [
       "False"
      ]
     },
     "execution_count": 28,
     "metadata": {},
     "output_type": "execute_result"
    }
   ],
   "source": [
    "v1 == v2"
   ]
  },
  {
   "cell_type": "markdown",
   "metadata": {},
   "source": [
    "This happens because Python has no way of knowing how to compare the \"value\" of two `Vector` objects - so it falls back to looking at the identity (essentially falls back to using `is`)."
   ]
  },
  {
   "cell_type": "markdown",
   "metadata": {},
   "source": [
    "Of course, we can tell Python how to perform an equality comparison, by adding that functionality to our objects:"
   ]
  },
  {
   "cell_type": "code",
   "metadata": {
    "ExecuteTime": {
     "end_time": "2025-06-17T18:52:33.841073Z",
     "start_time": "2025-06-17T18:52:33.834484Z"
    }
   },
   "source": [
    "class Vector:\n",
    "    def __init__(self, x, y):\n",
    "        self.x = x\n",
    "        self.y = y\n",
    "        \n",
    "    def __add__(self, other):\n",
    "        if isinstance(other, Vector):\n",
    "            return Vector(self.x + other.x, self.y + other.y)\n",
    "        return None\n",
    "\n",
    "    def __repr__(self):\n",
    "        return f'Vector({self.x}, {self.y})'\n",
    "    \n",
    "    def __eq__(self, other):\n",
    "        if isinstance(other, Vector):\n",
    "            return self.x == other.x and self.y == other.y\n",
    "        return False"
   ],
   "outputs": [],
   "execution_count": 28
  },
  {
   "cell_type": "markdown",
   "metadata": {},
   "source": [
    "Doing this we now have defined for Python to handle `==` between two vectors:"
   ]
  },
  {
   "cell_type": "code",
   "metadata": {
    "ExecuteTime": {
     "end_time": "2025-06-17T18:52:34.594955Z",
     "start_time": "2025-06-17T18:52:34.588945Z"
    }
   },
   "source": [
    "v1 = Vector(1, 1)\n",
    "v2 = Vector(1, 1)\n",
    "v3 = Vector(2, 3)"
   ],
   "outputs": [],
   "execution_count": 29
  },
  {
   "cell_type": "code",
   "metadata": {
    "ExecuteTime": {
     "end_time": "2025-06-17T18:52:34.913185Z",
     "start_time": "2025-06-17T18:52:34.906168Z"
    }
   },
   "source": [
    "v1 is v2"
   ],
   "outputs": [
    {
     "data": {
      "text/plain": [
       "False"
      ]
     },
     "execution_count": 30,
     "metadata": {},
     "output_type": "execute_result"
    }
   ],
   "execution_count": 30
  },
  {
   "cell_type": "code",
   "metadata": {
    "ExecuteTime": {
     "end_time": "2025-06-17T18:52:35.557058Z",
     "start_time": "2025-06-17T18:52:35.550542Z"
    }
   },
   "source": [
    "v1 == v2"
   ],
   "outputs": [
    {
     "data": {
      "text/plain": [
       "True"
      ]
     },
     "execution_count": 31,
     "metadata": {},
     "output_type": "execute_result"
    }
   ],
   "execution_count": 31
  },
  {
   "cell_type": "markdown",
   "metadata": {},
   "source": [
    "And of course, `v1` and `v3` are neither the same object:"
   ]
  },
  {
   "cell_type": "code",
   "metadata": {
    "ExecuteTime": {
     "end_time": "2025-06-17T18:52:36.685809Z",
     "start_time": "2025-06-17T18:52:36.679761Z"
    }
   },
   "source": [
    "v1 is v3"
   ],
   "outputs": [
    {
     "data": {
      "text/plain": [
       "False"
      ]
     },
     "execution_count": 32,
     "metadata": {},
     "output_type": "execute_result"
    }
   ],
   "execution_count": 32
  },
  {
   "cell_type": "markdown",
   "metadata": {},
   "source": [
    "nor do they have the same values:"
   ]
  },
  {
   "cell_type": "code",
   "metadata": {
    "ExecuteTime": {
     "end_time": "2025-06-17T18:52:37.786051Z",
     "start_time": "2025-06-17T18:52:37.778565Z"
    }
   },
   "source": [
    "v1 == v3"
   ],
   "outputs": [
    {
     "data": {
      "text/plain": [
       "False"
      ]
     },
     "execution_count": 33,
     "metadata": {},
     "output_type": "execute_result"
    }
   ],
   "execution_count": 33
  },
  {
   "cell_type": "markdown",
   "metadata": {},
   "source": [
    "In the same way our vectors do not implement ordering:"
   ]
  },
  {
   "cell_type": "code",
   "metadata": {
    "ExecuteTime": {
     "end_time": "2025-06-17T18:52:42.333300Z",
     "start_time": "2025-06-17T18:52:42.313215Z"
    }
   },
   "source": [
    "v1 < v3"
   ],
   "outputs": [
    {
     "ename": "TypeError",
     "evalue": "'<' not supported between instances of 'Vector' and 'Vector'",
     "output_type": "error",
     "traceback": [
      "\u001B[1;31m---------------------------------------------------------------------------\u001B[0m",
      "\u001B[1;31mTypeError\u001B[0m                                 Traceback (most recent call last)",
      "Cell \u001B[1;32mIn[34], line 1\u001B[0m\n\u001B[1;32m----> 1\u001B[0m \u001B[43mv1\u001B[49m\u001B[43m \u001B[49m\u001B[38;5;241;43m<\u001B[39;49m\u001B[43m \u001B[49m\u001B[43mv3\u001B[49m\n",
      "\u001B[1;31mTypeError\u001B[0m: '<' not supported between instances of 'Vector' and 'Vector'"
     ]
    }
   ],
   "execution_count": 34
  },
  {
   "cell_type": "markdown",
   "metadata": {},
   "source": [
    "Once again, we can tell Python how to handle this operator (`<`) by implementing that functionality in our objects using the special method `__lt__` (`l`ess `t`han):"
   ]
  },
  {
   "cell_type": "markdown",
   "metadata": {},
   "source": [
    "Here I'll choose to define `v1 < v2` if the length of `v1` is less than the length of `v2`."
   ]
  },
  {
   "cell_type": "markdown",
   "metadata": {},
   "source": [
    "The length of a vector with components `(x, y)` is given by:\n",
    "\n",
    "$$\n",
    "\\sqrt{x^2 + y^2}\n",
    "$$\n",
    "\n",
    "So if we have two vectors `v1 = (x1, y1)` and `v2 = (x2, y2)`, we will **define** `v1` to be less than `v2` if:\n",
    "\n",
    "$$\n",
    "\\sqrt{x_1^2 + y_1^2} < \\sqrt{x_2^2 + y_2^2}\n",
    "$$\n",
    "\n",
    "But we can remove the square roots on both sides, to get:\n",
    "\n",
    "$$\n",
    "x_1^2 + y_1^2 < x_2^2 + y_2^2\n",
    "$$"
   ]
  },
  {
   "cell_type": "markdown",
   "metadata": {},
   "source": [
    "Let's implement this for our vectors:"
   ]
  },
  {
   "cell_type": "code",
   "metadata": {
    "ExecuteTime": {
     "end_time": "2025-06-17T18:53:12.208463Z",
     "start_time": "2025-06-17T18:53:12.200912Z"
    }
   },
   "source": [
    "class Vector:\n",
    "    def __init__(self, x, y):\n",
    "        self.x = x\n",
    "        self.y = y\n",
    "        \n",
    "    def __add__(self, other):\n",
    "        if isinstance(other, Vector):\n",
    "            return Vector(self.x + other.x, self.y + other.y)\n",
    "        return None\n",
    "\n",
    "    def __repr__(self):\n",
    "        return f'Vector({self.x}, {self.y})'\n",
    "    \n",
    "    def __eq__(self, other):\n",
    "        if isinstance(other, Vector):\n",
    "            return self.x == other.x and self.y == other.y\n",
    "        return False\n",
    "    \n",
    "    def __lt__(self, other):\n",
    "        if isinstance(other, Vector):\n",
    "            return (self.x ** 2 + self.y ** 2) < (other.x ** 2 + other.y ** 2)\n",
    "        raise TypeError('< between Vector and non-Vector is not supported.')"
   ],
   "outputs": [],
   "execution_count": 37
  },
  {
   "cell_type": "code",
   "metadata": {
    "ExecuteTime": {
     "end_time": "2025-06-17T18:53:12.348669Z",
     "start_time": "2025-06-17T18:53:12.342399Z"
    }
   },
   "source": [
    "v1 = Vector(1, 1)\n",
    "v2 = Vector(1, 1)\n",
    "v3 = Vector(2, 3)"
   ],
   "outputs": [],
   "execution_count": 38
  },
  {
   "cell_type": "code",
   "metadata": {
    "ExecuteTime": {
     "end_time": "2025-06-17T18:53:12.835274Z",
     "start_time": "2025-06-17T18:53:12.828893Z"
    }
   },
   "source": [
    "v2 < v3"
   ],
   "outputs": [
    {
     "data": {
      "text/plain": [
       "True"
      ]
     },
     "execution_count": 39,
     "metadata": {},
     "output_type": "execute_result"
    }
   ],
   "execution_count": 39
  },
  {
   "cell_type": "markdown",
   "metadata": {},
   "source": [
    "We can also see our custom exception if we try to compare a vector to something that is not a vector:"
   ]
  },
  {
   "cell_type": "code",
   "metadata": {
    "ExecuteTime": {
     "end_time": "2025-06-17T18:53:14.177148Z",
     "start_time": "2025-06-17T18:53:14.147976Z"
    }
   },
   "source": [
    "v2 < 100"
   ],
   "outputs": [
    {
     "ename": "TypeError",
     "evalue": "< between Vector and non-Vector is not supported.",
     "output_type": "error",
     "traceback": [
      "\u001B[1;31m---------------------------------------------------------------------------\u001B[0m",
      "\u001B[1;31mTypeError\u001B[0m                                 Traceback (most recent call last)",
      "Cell \u001B[1;32mIn[40], line 1\u001B[0m\n\u001B[1;32m----> 1\u001B[0m \u001B[43mv2\u001B[49m\u001B[43m \u001B[49m\u001B[38;5;241;43m<\u001B[39;49m\u001B[43m \u001B[49m\u001B[38;5;241;43m100\u001B[39;49m\n",
      "Cell \u001B[1;32mIn[37], line 22\u001B[0m, in \u001B[0;36mVector.__lt__\u001B[1;34m(self, other)\u001B[0m\n\u001B[0;32m     20\u001B[0m \u001B[38;5;28;01mif\u001B[39;00m \u001B[38;5;28misinstance\u001B[39m(other, Vector):\n\u001B[0;32m     21\u001B[0m     \u001B[38;5;28;01mreturn\u001B[39;00m (\u001B[38;5;28mself\u001B[39m\u001B[38;5;241m.\u001B[39mx \u001B[38;5;241m*\u001B[39m\u001B[38;5;241m*\u001B[39m \u001B[38;5;241m2\u001B[39m \u001B[38;5;241m+\u001B[39m \u001B[38;5;28mself\u001B[39m\u001B[38;5;241m.\u001B[39my \u001B[38;5;241m*\u001B[39m\u001B[38;5;241m*\u001B[39m \u001B[38;5;241m2\u001B[39m) \u001B[38;5;241m<\u001B[39m (other\u001B[38;5;241m.\u001B[39mx \u001B[38;5;241m*\u001B[39m\u001B[38;5;241m*\u001B[39m \u001B[38;5;241m2\u001B[39m \u001B[38;5;241m+\u001B[39m other\u001B[38;5;241m.\u001B[39my \u001B[38;5;241m*\u001B[39m\u001B[38;5;241m*\u001B[39m \u001B[38;5;241m2\u001B[39m)\n\u001B[1;32m---> 22\u001B[0m \u001B[38;5;28;01mraise\u001B[39;00m \u001B[38;5;167;01mTypeError\u001B[39;00m(\u001B[38;5;124m'\u001B[39m\u001B[38;5;124m< between Vector and non-Vector is not supported.\u001B[39m\u001B[38;5;124m'\u001B[39m)\n",
      "\u001B[1;31mTypeError\u001B[0m: < between Vector and non-Vector is not supported."
     ]
    }
   ],
   "execution_count": 40
  },
  {
   "cell_type": "markdown",
   "metadata": {},
   "source": [
    "We'll come back to this type of code later in this course."
   ]
  },
  {
   "cell_type": "markdown",
   "metadata": {},
   "source": [
    "Finally, I'm again to jump ahead a bit and talk about the `in` operator."
   ]
  },
  {
   "cell_type": "markdown",
   "metadata": {},
   "source": [
    "Python has many collection type objects: objects that contain other objects."
   ]
  },
  {
   "cell_type": "markdown",
   "metadata": {},
   "source": [
    "In Math, we have sets for example. Sets are one type of container type object in Python."
   ]
  },
  {
   "cell_type": "markdown",
   "metadata": {},
   "source": [
    "We can create a simple set using a literal notation as follows:"
   ]
  },
  {
   "cell_type": "code",
   "metadata": {
    "ExecuteTime": {
     "end_time": "2025-06-17T18:53:20.746772Z",
     "start_time": "2025-06-17T18:53:20.741356Z"
    }
   },
   "source": [
    "s = {1, 2, 3.14, 5, True}"
   ],
   "outputs": [],
   "execution_count": 41
  },
  {
   "cell_type": "markdown",
   "metadata": {},
   "source": [
    "As you can see, sets can contain heterogenous data (mixed data types)."
   ]
  },
  {
   "cell_type": "markdown",
   "metadata": {},
   "source": [
    "We can test whether a value is in our set by using the `in` operator:"
   ]
  },
  {
   "cell_type": "code",
   "metadata": {
    "ExecuteTime": {
     "end_time": "2025-06-17T18:53:22.383182Z",
     "start_time": "2025-06-17T18:53:22.376066Z"
    }
   },
   "source": [
    "1 in s"
   ],
   "outputs": [
    {
     "data": {
      "text/plain": [
       "True"
      ]
     },
     "execution_count": 42,
     "metadata": {},
     "output_type": "execute_result"
    }
   ],
   "execution_count": 42
  },
  {
   "cell_type": "code",
   "metadata": {
    "ExecuteTime": {
     "end_time": "2025-06-17T18:53:22.991817Z",
     "start_time": "2025-06-17T18:53:22.984720Z"
    }
   },
   "source": [
    "3.14 in s"
   ],
   "outputs": [
    {
     "data": {
      "text/plain": [
       "True"
      ]
     },
     "execution_count": 43,
     "metadata": {},
     "output_type": "execute_result"
    }
   ],
   "execution_count": 43
  },
  {
   "cell_type": "code",
   "metadata": {
    "ExecuteTime": {
     "end_time": "2025-06-17T18:53:23.568217Z",
     "start_time": "2025-06-17T18:53:23.560953Z"
    }
   },
   "source": [
    "True in s"
   ],
   "outputs": [
    {
     "data": {
      "text/plain": [
       "True"
      ]
     },
     "execution_count": 44,
     "metadata": {},
     "output_type": "execute_result"
    }
   ],
   "execution_count": 44
  },
  {
   "cell_type": "code",
   "metadata": {
    "ExecuteTime": {
     "end_time": "2025-06-17T18:53:24.100623Z",
     "start_time": "2025-06-17T18:53:24.094605Z"
    }
   },
   "source": [
    "False in s"
   ],
   "outputs": [
    {
     "data": {
      "text/plain": [
       "False"
      ]
     },
     "execution_count": 45,
     "metadata": {},
     "output_type": "execute_result"
    }
   ],
   "execution_count": 45
  },
  {
   "cell_type": "code",
   "metadata": {
    "ExecuteTime": {
     "end_time": "2025-06-17T18:53:24.781157Z",
     "start_time": "2025-06-17T18:53:24.774008Z"
    }
   },
   "source": [
    "100 in s"
   ],
   "outputs": [
    {
     "data": {
      "text/plain": [
       "False"
      ]
     },
     "execution_count": 46,
     "metadata": {},
     "output_type": "execute_result"
    }
   ],
   "execution_count": 46
  },
  {
   "cell_type": "markdown",
   "metadata": {},
   "source": [
    "We also have the `not in`operator (yes, it's two words, but it's actually a single binary operator):"
   ]
  },
  {
   "cell_type": "code",
   "metadata": {
    "ExecuteTime": {
     "end_time": "2025-06-17T18:53:27.791217Z",
     "start_time": "2025-06-17T18:53:27.783830Z"
    }
   },
   "source": [
    "True not in s"
   ],
   "outputs": [
    {
     "data": {
      "text/plain": [
       "False"
      ]
     },
     "execution_count": 47,
     "metadata": {},
     "output_type": "execute_result"
    }
   ],
   "execution_count": 47
  },
  {
   "cell_type": "code",
   "metadata": {
    "ExecuteTime": {
     "end_time": "2025-06-17T18:53:28.362375Z",
     "start_time": "2025-06-17T18:53:28.355063Z"
    }
   },
   "source": [
    "100 not in s"
   ],
   "outputs": [
    {
     "data": {
      "text/plain": [
       "True"
      ]
     },
     "execution_count": 48,
     "metadata": {},
     "output_type": "execute_result"
    }
   ],
   "execution_count": 48
  },
  {
   "cell_type": "markdown",
   "metadata": {},
   "source": [
    "We'll come back to collection types later in this course."
   ]
  }
 ],
 "metadata": {
  "kernelspec": {
   "display_name": "Python 3",
   "language": "python",
   "name": "python3"
  },
  "language_info": {
   "codemirror_mode": {
    "name": "ipython",
    "version": 3
   },
   "file_extension": ".py",
   "mimetype": "text/x-python",
   "name": "python",
   "nbconvert_exporter": "python",
   "pygments_lexer": "ipython3",
   "version": "3.9.1"
  }
 },
 "nbformat": 4,
 "nbformat_minor": 4
}
