{
 "cells": [
  {
   "cell_type": "markdown",
   "metadata": {},
   "source": [
    "### Variables"
   ]
  },
  {
   "cell_type": "markdown",
   "metadata": {},
   "source": [
    "Recall that we use the `=` symbol as the **assignment** operator. "
   ]
  },
  {
   "cell_type": "markdown",
   "metadata": {},
   "source": [
    "We specify a variable name (a label) on the left hand side of the operator, and the value (or expression that evaluates to a value) on the right hand side."
   ]
  },
  {
   "cell_type": "code",
   "metadata": {
    "ExecuteTime": {
     "end_time": "2025-06-17T18:49:37.230826Z",
     "start_time": "2025-06-17T18:49:37.224298Z"
    }
   },
   "source": [
    "a = 100"
   ],
   "outputs": [],
   "execution_count": 1
  },
  {
   "cell_type": "markdown",
   "metadata": {},
   "source": [
    "Now `a` is a symbol (a variable) in our program that we can recall:"
   ]
  },
  {
   "cell_type": "code",
   "metadata": {
    "ExecuteTime": {
     "end_time": "2025-06-17T18:49:37.574940Z",
     "start_time": "2025-06-17T18:49:37.563741Z"
    }
   },
   "source": [
    "a"
   ],
   "outputs": [
    {
     "data": {
      "text/plain": [
       "100"
      ]
     },
     "execution_count": 2,
     "metadata": {},
     "output_type": "execute_result"
    }
   ],
   "execution_count": 2
  },
  {
   "cell_type": "markdown",
   "metadata": {},
   "source": [
    "We can use it in subsequent parts of our code:"
   ]
  },
  {
   "cell_type": "code",
   "metadata": {
    "ExecuteTime": {
     "end_time": "2025-06-17T18:49:37.777515Z",
     "start_time": "2025-06-17T18:49:37.772480Z"
    }
   },
   "source": [
    "b = a + 11"
   ],
   "outputs": [],
   "execution_count": 3
  },
  {
   "cell_type": "code",
   "metadata": {
    "ExecuteTime": {
     "end_time": "2025-06-17T18:49:38.174716Z",
     "start_time": "2025-06-17T18:49:38.167495Z"
    }
   },
   "source": [
    "b"
   ],
   "outputs": [
    {
     "data": {
      "text/plain": [
       "111"
      ]
     },
     "execution_count": 4,
     "metadata": {},
     "output_type": "execute_result"
    }
   ],
   "execution_count": 4
  },
  {
   "cell_type": "markdown",
   "metadata": {},
   "source": [
    "As you can see, here we performed a calculation in the right hand side, and assigned that resulting value to the label on the left (`b`)."
   ]
  },
  {
   "cell_type": "markdown",
   "metadata": {},
   "source": [
    "Note that the `=` symbol is not the same as the mathematical *equality* symbol, so something like this is not valid Python, and we'll get an exception:"
   ]
  },
  {
   "cell_type": "code",
   "metadata": {
    "ExecuteTime": {
     "end_time": "2025-06-17T18:49:39.683418Z",
     "start_time": "2025-06-17T18:49:39.665382Z"
    }
   },
   "source": [
    "10 = 10"
   ],
   "outputs": [
    {
     "ename": "SyntaxError",
     "evalue": "cannot assign to literal here. Maybe you meant '==' instead of '='? (2269019996.py, line 1)",
     "output_type": "error",
     "traceback": [
      "\u001B[1;36m  Cell \u001B[1;32mIn[5], line 1\u001B[1;36m\u001B[0m\n\u001B[1;33m    10 = 10\u001B[0m\n\u001B[1;37m    ^\u001B[0m\n\u001B[1;31mSyntaxError\u001B[0m\u001B[1;31m:\u001B[0m cannot assign to literal here. Maybe you meant '==' instead of '='?\n"
     ]
    }
   ],
   "execution_count": 5
  },
  {
   "cell_type": "markdown",
   "metadata": {},
   "source": [
    "Note also that the object the symbol `a` or `b` points to can change over time:"
   ]
  },
  {
   "cell_type": "code",
   "metadata": {
    "ExecuteTime": {
     "end_time": "2025-06-17T18:49:40.826101Z",
     "start_time": "2025-06-17T18:49:40.818922Z"
    }
   },
   "source": [
    "a"
   ],
   "outputs": [
    {
     "data": {
      "text/plain": [
       "100"
      ]
     },
     "execution_count": 6,
     "metadata": {},
     "output_type": "execute_result"
    }
   ],
   "execution_count": 6
  },
  {
   "cell_type": "code",
   "metadata": {
    "ExecuteTime": {
     "end_time": "2025-06-17T18:49:41.420027Z",
     "start_time": "2025-06-17T18:49:41.413734Z"
    }
   },
   "source": [
    "a = 3.14"
   ],
   "outputs": [],
   "execution_count": 7
  },
  {
   "cell_type": "code",
   "metadata": {
    "ExecuteTime": {
     "end_time": "2025-06-17T18:49:42.053592Z",
     "start_time": "2025-06-17T18:49:42.046989Z"
    }
   },
   "source": [
    "a"
   ],
   "outputs": [
    {
     "data": {
      "text/plain": [
       "3.14"
      ]
     },
     "execution_count": 8,
     "metadata": {},
     "output_type": "execute_result"
    }
   ],
   "execution_count": 8
  },
  {
   "cell_type": "markdown",
   "metadata": {},
   "source": [
    "As you can see, `a` used to reference the integer `100`, but now it references a different object, the float `3.14`."
   ]
  },
  {
   "cell_type": "markdown",
   "metadata": {},
   "source": [
    "#### Naming Rules"
   ]
  },
  {
   "cell_type": "markdown",
   "metadata": {},
   "source": [
    "As discussed in the lecture, there are certain rules you must follow when choosing variable names.\n",
    "\n",
    "For example, all the following are valid variable names:"
   ]
  },
  {
   "cell_type": "code",
   "metadata": {
    "ExecuteTime": {
     "end_time": "2025-06-17T18:49:44.343672Z",
     "start_time": "2025-06-17T18:49:44.338154Z"
    }
   },
   "source": [
    "test = 10\n",
    "test_1 = 10\n",
    "_test_1_ = 10\n",
    "__test__ = 10\n",
    "TEST = 10"
   ],
   "outputs": [],
   "execution_count": 9
  },
  {
   "cell_type": "markdown",
   "metadata": {},
   "source": [
    "But a variable name may not start with a digit:"
   ]
  },
  {
   "cell_type": "code",
   "metadata": {
    "ExecuteTime": {
     "end_time": "2025-06-17T18:49:52.564060Z",
     "start_time": "2025-06-17T18:49:52.557431Z"
    }
   },
   "source": [
    "1_test = 10"
   ],
   "outputs": [
    {
     "ename": "SyntaxError",
     "evalue": "invalid decimal literal (33611327.py, line 1)",
     "output_type": "error",
     "traceback": [
      "\u001B[1;36m  Cell \u001B[1;32mIn[10], line 1\u001B[1;36m\u001B[0m\n\u001B[1;33m    1_test = 10\u001B[0m\n\u001B[1;37m     ^\u001B[0m\n\u001B[1;31mSyntaxError\u001B[0m\u001B[1;31m:\u001B[0m invalid decimal literal\n"
     ]
    }
   ],
   "execution_count": 10
  },
  {
   "cell_type": "markdown",
   "metadata": {},
   "source": [
    "And we should not use reserved keywords or built-in functions."
   ]
  },
  {
   "cell_type": "markdown",
   "metadata": {},
   "source": [
    "For example, `if` is a reserved keyword:"
   ]
  },
  {
   "cell_type": "code",
   "metadata": {
    "ExecuteTime": {
     "end_time": "2025-06-17T18:49:54.292285Z",
     "start_time": "2025-06-17T18:49:54.284354Z"
    }
   },
   "source": [
    "if = 10"
   ],
   "outputs": [
    {
     "ename": "SyntaxError",
     "evalue": "invalid syntax (2568953467.py, line 1)",
     "output_type": "error",
     "traceback": [
      "\u001B[1;36m  Cell \u001B[1;32mIn[11], line 1\u001B[1;36m\u001B[0m\n\u001B[1;33m    if = 10\u001B[0m\n\u001B[1;37m       ^\u001B[0m\n\u001B[1;31mSyntaxError\u001B[0m\u001B[1;31m:\u001B[0m invalid syntax\n"
     ]
    }
   ],
   "execution_count": 11
  },
  {
   "cell_type": "markdown",
   "metadata": {},
   "source": [
    "There are other symbols that Python has pre-defined for us and although we can change them, we should not."
   ]
  },
  {
   "cell_type": "markdown",
   "metadata": {},
   "source": [
    "For example, `float` is used by Python to represent the float data type."
   ]
  },
  {
   "cell_type": "markdown",
   "metadata": {},
   "source": [
    "In fact, we can create a float this way:"
   ]
  },
  {
   "cell_type": "code",
   "metadata": {
    "ExecuteTime": {
     "end_time": "2025-06-17T18:49:57.773526Z",
     "start_time": "2025-06-17T18:49:57.751171Z"
    }
   },
   "source": [
    "a = float(10)"
   ],
   "outputs": [],
   "execution_count": 12
  },
  {
   "cell_type": "code",
   "metadata": {
    "ExecuteTime": {
     "end_time": "2025-06-17T18:49:59.045465Z",
     "start_time": "2025-06-17T18:49:59.038204Z"
    }
   },
   "source": [
    "a"
   ],
   "outputs": [
    {
     "data": {
      "text/plain": [
       "10.0"
      ]
     },
     "execution_count": 13,
     "metadata": {},
     "output_type": "execute_result"
    }
   ],
   "execution_count": 13
  },
  {
   "cell_type": "markdown",
   "metadata": {},
   "source": [
    "But, we *could* remap the symbol `float` to be something else:"
   ]
  },
  {
   "cell_type": "code",
   "metadata": {
    "ExecuteTime": {
     "end_time": "2025-06-17T18:50:01.007292Z",
     "start_time": "2025-06-17T18:50:01.002289Z"
    }
   },
   "source": [
    "float = 100.5"
   ],
   "outputs": [],
   "execution_count": 14
  },
  {
   "cell_type": "markdown",
   "metadata": {},
   "source": [
    "The problem now is that the original definition of `float` has been lost to us (internally Python still has it, but **we** don't!)"
   ]
  },
  {
   "cell_type": "code",
   "metadata": {
    "ExecuteTime": {
     "end_time": "2025-06-17T18:50:02.926398Z",
     "start_time": "2025-06-17T18:50:02.496088Z"
    }
   },
   "source": [
    "a = float(10)"
   ],
   "outputs": [
    {
     "ename": "TypeError",
     "evalue": "'float' object is not callable",
     "output_type": "error",
     "traceback": [
      "\u001B[1;31m---------------------------------------------------------------------------\u001B[0m",
      "\u001B[1;31mTypeError\u001B[0m                                 Traceback (most recent call last)",
      "Cell \u001B[1;32mIn[15], line 1\u001B[0m\n\u001B[1;32m----> 1\u001B[0m a \u001B[38;5;241m=\u001B[39m \u001B[38;5;28;43mfloat\u001B[39;49m\u001B[43m(\u001B[49m\u001B[38;5;241;43m10\u001B[39;49m\u001B[43m)\u001B[49m\n",
      "\u001B[1;31mTypeError\u001B[0m: 'float' object is not callable"
     ]
    }
   ],
   "execution_count": 15
  },
  {
   "cell_type": "markdown",
   "metadata": {},
   "source": [
    "Since I don't want to \"overwrite\" Python's symbol for `float`, I am going to delete that symbol I created:"
   ]
  },
  {
   "cell_type": "code",
   "metadata": {
    "ExecuteTime": {
     "end_time": "2025-06-17T18:50:04.217325Z",
     "start_time": "2025-06-17T18:50:04.211266Z"
    }
   },
   "source": [
    "del float"
   ],
   "outputs": [],
   "execution_count": 16
  },
  {
   "cell_type": "markdown",
   "metadata": {},
   "source": [
    "Now **my** definition of `float` is gone, and the **original** one provided by Python is available again."
   ]
  },
  {
   "cell_type": "code",
   "metadata": {
    "ExecuteTime": {
     "end_time": "2025-06-17T18:50:05.651381Z",
     "start_time": "2025-06-17T18:50:05.645452Z"
    }
   },
   "source": [
    "a = float(10)\n",
    "print(a)"
   ],
   "outputs": [
    {
     "name": "stdout",
     "output_type": "stream",
     "text": [
      "10.0\n"
     ]
    }
   ],
   "execution_count": 17
  },
  {
   "cell_type": "markdown",
   "metadata": {},
   "source": [
    "#### Naming Conventions"
   ]
  },
  {
   "cell_type": "markdown",
   "metadata": {},
   "source": [
    "Python developers typically follow a standard naming convention for variable names. Depending on the type of variable, there are different conventions."
   ]
  },
  {
   "cell_type": "markdown",
   "metadata": {},
   "source": [
    "In particular, we follow the PEP8 conventions:\n",
    "\n",
    "https://www.python.org/dev/peps/pep-0008/"
   ]
  },
  {
   "cell_type": "markdown",
   "metadata": {},
   "source": [
    "You should try reading this guide once in a while (not all in one sitting, but just here and there as time permits - it's quite useful)."
   ]
  },
  {
   "cell_type": "markdown",
   "metadata": {},
   "source": [
    "For now, we are dealing with simple variables in our code, so we follow the snake case convention, with all letters lower cased:"
   ]
  },
  {
   "cell_type": "code",
   "metadata": {
    "ExecuteTime": {
     "end_time": "2025-06-17T18:50:10.347157Z",
     "start_time": "2025-06-17T18:50:10.341217Z"
    }
   },
   "source": [
    "current_balance = 100.0"
   ],
   "outputs": [],
   "execution_count": 18
  },
  {
   "cell_type": "markdown",
   "metadata": {},
   "source": [
    "and not, camel casing like in other languages such as Java or Javascript:"
   ]
  },
  {
   "cell_type": "code",
   "metadata": {
    "ExecuteTime": {
     "end_time": "2025-06-17T18:50:12.054977Z",
     "start_time": "2025-06-17T18:50:12.049095Z"
    }
   },
   "source": [
    "currentBalance = 100.0"
   ],
   "outputs": [],
   "execution_count": 19
  },
  {
   "cell_type": "markdown",
   "metadata": {},
   "source": [
    "The other advice I would give is to **always** give your variables meaningful names - not because the computer cares, but because humans reading your code (including yourself six months after you wrote that code) will find it easier to understand what's going on."
   ]
  },
  {
   "cell_type": "markdown",
   "metadata": {},
   "source": [
    "Here's an example. Suppose I show you this piece of code, and ask you what does it do:"
   ]
  },
  {
   "cell_type": "code",
   "metadata": {
    "ExecuteTime": {
     "end_time": "2025-06-17T18:50:14.749335Z",
     "start_time": "2025-06-17T18:50:14.743068Z"
    }
   },
   "source": [
    "x = 100\n",
    "y = 0.1\n",
    "z = 10\n",
    "\n",
    "r = x * ((1 + y/12) ** (z * 12))\n",
    "\n",
    "print(r)"
   ],
   "outputs": [
    {
     "name": "stdout",
     "output_type": "stream",
     "text": [
      "270.70414908622433\n"
     ]
    }
   ],
   "execution_count": 20
  },
  {
   "cell_type": "markdown",
   "metadata": {},
   "source": [
    "How about this code instead, which is identical, except for variable names:"
   ]
  },
  {
   "cell_type": "code",
   "metadata": {
    "scrolled": true,
    "ExecuteTime": {
     "end_time": "2025-06-17T18:50:16.463559Z",
     "start_time": "2025-06-17T18:50:16.456370Z"
    }
   },
   "source": [
    "principal = 100\n",
    "apr = 0.1\n",
    "years = 10\n",
    "\n",
    "future_value = principal * ((1 + apr/12) ** (years * 12))\n",
    "\n",
    "print(future_value)"
   ],
   "outputs": [
    {
     "name": "stdout",
     "output_type": "stream",
     "text": [
      "270.70414908622433\n"
     ]
    }
   ],
   "execution_count": 21
  }
 ],
 "metadata": {
  "kernelspec": {
   "display_name": "Python 3",
   "language": "python",
   "name": "python3"
  },
  "language_info": {
   "codemirror_mode": {
    "name": "ipython",
    "version": 3
   },
   "file_extension": ".py",
   "mimetype": "text/x-python",
   "name": "python",
   "nbconvert_exporter": "python",
   "pygments_lexer": "ipython3",
   "version": "3.9.1"
  }
 },
 "nbformat": 4,
 "nbformat_minor": 4
}
