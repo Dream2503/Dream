{
 "cells": [
  {
   "cell_type": "markdown",
   "metadata": {},
   "source": [
    "### Common Set Operations"
   ]
  },
  {
   "cell_type": "markdown",
   "metadata": {},
   "source": [
    "As we saw in the lecture, there are certain mathematical concepts and operations associated with mathematical sets.\n",
    "\n",
    "Python provides equivalent concepts and operators."
   ]
  },
  {
   "cell_type": "markdown",
   "metadata": {},
   "source": [
    "First, we can look at disjointedness - whether two sets have no elements in common:"
   ]
  },
  {
   "cell_type": "code",
   "metadata": {
    "ExecuteTime": {
     "end_time": "2025-06-17T19:42:56.120671Z",
     "start_time": "2025-06-17T19:42:56.111685Z"
    }
   },
   "source": [
    "s1 = {'a', 'b', 'c'}\n",
    "s2 = {True, False}\n",
    "s3 = {'a', 100, 200}"
   ],
   "outputs": [],
   "execution_count": 1
  },
  {
   "cell_type": "code",
   "metadata": {
    "ExecuteTime": {
     "end_time": "2025-06-17T19:42:56.468794Z",
     "start_time": "2025-06-17T19:42:56.448881Z"
    }
   },
   "source": [
    "s1.isdisjoint(s2)"
   ],
   "outputs": [
    {
     "data": {
      "text/plain": [
       "True"
      ]
     },
     "execution_count": 2,
     "metadata": {},
     "output_type": "execute_result"
    }
   ],
   "execution_count": 2
  },
  {
   "cell_type": "code",
   "metadata": {
    "ExecuteTime": {
     "end_time": "2025-06-17T19:42:56.567335Z",
     "start_time": "2025-06-17T19:42:56.561197Z"
    }
   },
   "source": [
    "s1.isdisjoint(s3)"
   ],
   "outputs": [
    {
     "data": {
      "text/plain": [
       "False"
      ]
     },
     "execution_count": 3,
     "metadata": {},
     "output_type": "execute_result"
    }
   ],
   "execution_count": 3
  },
  {
   "cell_type": "markdown",
   "metadata": {},
   "source": [
    "We can add an element to a set by using the `add()` method:"
   ]
  },
  {
   "cell_type": "code",
   "metadata": {
    "ExecuteTime": {
     "end_time": "2025-06-17T19:43:14.985214Z",
     "start_time": "2025-06-17T19:43:14.979628Z"
    }
   },
   "source": [
    "s = set()  # an empty set"
   ],
   "outputs": [],
   "execution_count": 4
  },
  {
   "cell_type": "code",
   "metadata": {
    "ExecuteTime": {
     "end_time": "2025-06-17T19:43:15.328197Z",
     "start_time": "2025-06-17T19:43:15.323604Z"
    }
   },
   "source": [
    "s.add(100)"
   ],
   "outputs": [],
   "execution_count": 5
  },
  {
   "cell_type": "code",
   "metadata": {
    "ExecuteTime": {
     "end_time": "2025-06-17T19:43:15.656804Z",
     "start_time": "2025-06-17T19:43:15.651747Z"
    }
   },
   "source": [
    "s.add(200)"
   ],
   "outputs": [],
   "execution_count": 6
  },
  {
   "cell_type": "code",
   "metadata": {
    "ExecuteTime": {
     "end_time": "2025-06-17T19:43:15.944675Z",
     "start_time": "2025-06-17T19:43:15.938087Z"
    }
   },
   "source": [
    "s"
   ],
   "outputs": [
    {
     "data": {
      "text/plain": [
       "{100, 200}"
      ]
     },
     "execution_count": 7,
     "metadata": {},
     "output_type": "execute_result"
    }
   ],
   "execution_count": 7
  },
  {
   "cell_type": "markdown",
   "metadata": {},
   "source": [
    "Keep in mind that set elemens are unique, so if we try to add an element that is already in a set, nothing happens:"
   ]
  },
  {
   "cell_type": "code",
   "metadata": {
    "ExecuteTime": {
     "end_time": "2025-06-17T19:43:16.551348Z",
     "start_time": "2025-06-17T19:43:16.544232Z"
    }
   },
   "source": [
    "s"
   ],
   "outputs": [
    {
     "data": {
      "text/plain": [
       "{100, 200}"
      ]
     },
     "execution_count": 8,
     "metadata": {},
     "output_type": "execute_result"
    }
   ],
   "execution_count": 8
  },
  {
   "cell_type": "code",
   "metadata": {
    "ExecuteTime": {
     "end_time": "2025-06-17T19:43:16.884711Z",
     "start_time": "2025-06-17T19:43:16.879698Z"
    }
   },
   "source": [
    "s.add(100)"
   ],
   "outputs": [],
   "execution_count": 9
  },
  {
   "cell_type": "code",
   "metadata": {
    "ExecuteTime": {
     "end_time": "2025-06-17T19:43:17.257571Z",
     "start_time": "2025-06-17T19:43:17.252025Z"
    }
   },
   "source": [
    "s"
   ],
   "outputs": [
    {
     "data": {
      "text/plain": [
       "{100, 200}"
      ]
     },
     "execution_count": 10,
     "metadata": {},
     "output_type": "execute_result"
    }
   ],
   "execution_count": 10
  },
  {
   "cell_type": "markdown",
   "metadata": {},
   "source": [
    "We can also remove an element from a set, using the `remove()` or `discard()` methods."
   ]
  },
  {
   "cell_type": "markdown",
   "metadata": {},
   "source": [
    "the main difference between the two methods is that `remove()` will generate a `KeyError` exception if the item we are attempting to discard is not present in the set. On the other hand `discard()` will not (and if the element does not exist is does not mutate the set at all)."
   ]
  },
  {
   "cell_type": "markdown",
   "metadata": {},
   "source": [
    "Do note that both operations will (potentially) mutate the set - not create and return a new one."
   ]
  },
  {
   "cell_type": "code",
   "metadata": {
    "ExecuteTime": {
     "end_time": "2025-06-17T19:43:18.766556Z",
     "start_time": "2025-06-17T19:43:18.760566Z"
    }
   },
   "source": [
    "s = set('abc')"
   ],
   "outputs": [],
   "execution_count": 11
  },
  {
   "cell_type": "code",
   "metadata": {
    "ExecuteTime": {
     "end_time": "2025-06-17T19:43:19.102155Z",
     "start_time": "2025-06-17T19:43:19.095198Z"
    }
   },
   "source": [
    "s"
   ],
   "outputs": [
    {
     "data": {
      "text/plain": [
       "{'a', 'b', 'c'}"
      ]
     },
     "execution_count": 12,
     "metadata": {},
     "output_type": "execute_result"
    }
   ],
   "execution_count": 12
  },
  {
   "cell_type": "code",
   "metadata": {
    "ExecuteTime": {
     "end_time": "2025-06-17T19:43:19.612700Z",
     "start_time": "2025-06-17T19:43:19.606723Z"
    }
   },
   "source": [
    "s.remove('a')"
   ],
   "outputs": [],
   "execution_count": 13
  },
  {
   "cell_type": "code",
   "metadata": {
    "ExecuteTime": {
     "end_time": "2025-06-17T19:43:20.044224Z",
     "start_time": "2025-06-17T19:43:20.037143Z"
    }
   },
   "source": [
    "s"
   ],
   "outputs": [
    {
     "data": {
      "text/plain": [
       "{'b', 'c'}"
      ]
     },
     "execution_count": 14,
     "metadata": {},
     "output_type": "execute_result"
    }
   ],
   "execution_count": 14
  },
  {
   "cell_type": "code",
   "metadata": {
    "ExecuteTime": {
     "end_time": "2025-06-17T19:43:20.412011Z",
     "start_time": "2025-06-17T19:43:20.407009Z"
    }
   },
   "source": [
    "s.discard('x')"
   ],
   "outputs": [],
   "execution_count": 15
  },
  {
   "cell_type": "code",
   "metadata": {
    "ExecuteTime": {
     "end_time": "2025-06-17T19:43:20.827817Z",
     "start_time": "2025-06-17T19:43:20.819663Z"
    }
   },
   "source": [
    "s"
   ],
   "outputs": [
    {
     "data": {
      "text/plain": [
       "{'b', 'c'}"
      ]
     },
     "execution_count": 16,
     "metadata": {},
     "output_type": "execute_result"
    }
   ],
   "execution_count": 16
  },
  {
   "cell_type": "code",
   "metadata": {
    "ExecuteTime": {
     "end_time": "2025-06-17T19:43:22.093142Z",
     "start_time": "2025-06-17T19:43:21.726934Z"
    }
   },
   "source": [
    "s.remove('x')"
   ],
   "outputs": [
    {
     "ename": "KeyError",
     "evalue": "'x'",
     "output_type": "error",
     "traceback": [
      "\u001B[1;31m---------------------------------------------------------------------------\u001B[0m",
      "\u001B[1;31mKeyError\u001B[0m                                  Traceback (most recent call last)",
      "Cell \u001B[1;32mIn[17], line 1\u001B[0m\n\u001B[1;32m----> 1\u001B[0m \u001B[43ms\u001B[49m\u001B[38;5;241;43m.\u001B[39;49m\u001B[43mremove\u001B[49m\u001B[43m(\u001B[49m\u001B[38;5;124;43m'\u001B[39;49m\u001B[38;5;124;43mx\u001B[39;49m\u001B[38;5;124;43m'\u001B[39;49m\u001B[43m)\u001B[49m\n",
      "\u001B[1;31mKeyError\u001B[0m: 'x'"
     ]
    }
   ],
   "execution_count": 17
  },
  {
   "cell_type": "markdown",
   "metadata": {},
   "source": [
    "Mathematical sets have this concept of subsets and supersets - both strict and non-strict."
   ]
  },
  {
   "cell_type": "markdown",
   "metadata": {},
   "source": [
    "For that, the `<`, `<=`, `>` and `>=` operators can be used."
   ]
  },
  {
   "cell_type": "code",
   "metadata": {
    "ExecuteTime": {
     "end_time": "2025-06-17T19:43:23.210557Z",
     "start_time": "2025-06-17T19:43:23.204869Z"
    }
   },
   "source": [
    "s1 = set('abc')\n",
    "s2 = set('abcd')"
   ],
   "outputs": [],
   "execution_count": 18
  },
  {
   "cell_type": "code",
   "metadata": {
    "ExecuteTime": {
     "end_time": "2025-06-17T19:43:23.617468Z",
     "start_time": "2025-06-17T19:43:23.611531Z"
    }
   },
   "source": [
    "s1"
   ],
   "outputs": [
    {
     "data": {
      "text/plain": [
       "{'a', 'b', 'c'}"
      ]
     },
     "execution_count": 19,
     "metadata": {},
     "output_type": "execute_result"
    }
   ],
   "execution_count": 19
  },
  {
   "cell_type": "code",
   "metadata": {
    "ExecuteTime": {
     "end_time": "2025-06-17T19:43:24.004917Z",
     "start_time": "2025-06-17T19:43:23.996857Z"
    }
   },
   "source": [
    "s2"
   ],
   "outputs": [
    {
     "data": {
      "text/plain": [
       "{'a', 'b', 'c', 'd'}"
      ]
     },
     "execution_count": 20,
     "metadata": {},
     "output_type": "execute_result"
    }
   ],
   "execution_count": 20
  },
  {
   "cell_type": "code",
   "metadata": {
    "ExecuteTime": {
     "end_time": "2025-06-17T19:43:24.373831Z",
     "start_time": "2025-06-17T19:43:24.366907Z"
    }
   },
   "source": [
    "s1 <= s2"
   ],
   "outputs": [
    {
     "data": {
      "text/plain": [
       "True"
      ]
     },
     "execution_count": 21,
     "metadata": {},
     "output_type": "execute_result"
    }
   ],
   "execution_count": 21
  },
  {
   "cell_type": "code",
   "metadata": {
    "ExecuteTime": {
     "end_time": "2025-06-17T19:43:24.755690Z",
     "start_time": "2025-06-17T19:43:24.748673Z"
    }
   },
   "source": [
    "s1 < s2"
   ],
   "outputs": [
    {
     "data": {
      "text/plain": [
       "True"
      ]
     },
     "execution_count": 22,
     "metadata": {},
     "output_type": "execute_result"
    }
   ],
   "execution_count": 22
  },
  {
   "cell_type": "code",
   "metadata": {
    "ExecuteTime": {
     "end_time": "2025-06-17T19:43:25.191586Z",
     "start_time": "2025-06-17T19:43:25.183644Z"
    }
   },
   "source": [
    "s2 >= s1"
   ],
   "outputs": [
    {
     "data": {
      "text/plain": [
       "True"
      ]
     },
     "execution_count": 23,
     "metadata": {},
     "output_type": "execute_result"
    }
   ],
   "execution_count": 23
  },
  {
   "cell_type": "code",
   "metadata": {
    "ExecuteTime": {
     "end_time": "2025-06-17T19:43:25.620672Z",
     "start_time": "2025-06-17T19:43:25.614412Z"
    }
   },
   "source": [
    "s2 > s1"
   ],
   "outputs": [
    {
     "data": {
      "text/plain": [
       "True"
      ]
     },
     "execution_count": 24,
     "metadata": {},
     "output_type": "execute_result"
    }
   ],
   "execution_count": 24
  },
  {
   "cell_type": "code",
   "metadata": {
    "ExecuteTime": {
     "end_time": "2025-06-17T19:43:25.959187Z",
     "start_time": "2025-06-17T19:43:25.953481Z"
    }
   },
   "source": [
    "s1 = set('abc')\n",
    "s2 = set('abc')"
   ],
   "outputs": [],
   "execution_count": 25
  },
  {
   "cell_type": "markdown",
   "metadata": {},
   "source": [
    "These two sets are equal, so both these comparisons will be `True`:"
   ]
  },
  {
   "cell_type": "code",
   "metadata": {
    "ExecuteTime": {
     "end_time": "2025-06-17T19:43:26.925111Z",
     "start_time": "2025-06-17T19:43:26.918023Z"
    }
   },
   "source": [
    "s1 <= s2"
   ],
   "outputs": [
    {
     "data": {
      "text/plain": [
       "True"
      ]
     },
     "execution_count": 26,
     "metadata": {},
     "output_type": "execute_result"
    }
   ],
   "execution_count": 26
  },
  {
   "cell_type": "code",
   "metadata": {
    "ExecuteTime": {
     "end_time": "2025-06-17T19:43:27.250666Z",
     "start_time": "2025-06-17T19:43:27.243772Z"
    }
   },
   "source": [
    "s2 >= s1"
   ],
   "outputs": [
    {
     "data": {
      "text/plain": [
       "True"
      ]
     },
     "execution_count": 27,
     "metadata": {},
     "output_type": "execute_result"
    }
   ],
   "execution_count": 27
  },
  {
   "cell_type": "markdown",
   "metadata": {},
   "source": [
    "However, the struct version of these will not:"
   ]
  },
  {
   "cell_type": "code",
   "metadata": {
    "ExecuteTime": {
     "end_time": "2025-06-17T19:43:27.874962Z",
     "start_time": "2025-06-17T19:43:27.868485Z"
    }
   },
   "source": [
    "s1 < s2"
   ],
   "outputs": [
    {
     "data": {
      "text/plain": [
       "False"
      ]
     },
     "execution_count": 28,
     "metadata": {},
     "output_type": "execute_result"
    }
   ],
   "execution_count": 28
  },
  {
   "cell_type": "code",
   "metadata": {
    "ExecuteTime": {
     "end_time": "2025-06-17T19:43:28.129985Z",
     "start_time": "2025-06-17T19:43:28.123574Z"
    }
   },
   "source": [
    "s2 > s1"
   ],
   "outputs": [
    {
     "data": {
      "text/plain": [
       "False"
      ]
     },
     "execution_count": 29,
     "metadata": {},
     "output_type": "execute_result"
    }
   ],
   "execution_count": 29
  },
  {
   "cell_type": "markdown",
   "metadata": {},
   "source": [
    "We also have mathematical operations such as union and intersection for sets. Python has the same, using the operators:\n",
    "\n",
    "- union: `|` \n",
    "- intersection: '&'"
   ]
  },
  {
   "cell_type": "markdown",
   "metadata": {},
   "source": [
    "We can think of these operators this way: `|` is often used to represent `or` (in languages such as C or Java), while `&` is used for `and`."
   ]
  },
  {
   "cell_type": "markdown",
   "metadata": {},
   "source": [
    "When we look at the union of two sets, we are creating a new set that contains elements that are in set 1 **or** set 2."
   ]
  },
  {
   "cell_type": "markdown",
   "metadata": {},
   "source": [
    "When we look at the intersection of two sets, we are creating a new set that contains elements that are in set 1 **and** set 2."
   ]
  },
  {
   "cell_type": "markdown",
   "metadata": {},
   "source": [
    "Let's look at some simple examples:"
   ]
  },
  {
   "cell_type": "code",
   "metadata": {
    "ExecuteTime": {
     "end_time": "2025-06-17T19:43:29.605455Z",
     "start_time": "2025-06-17T19:43:29.599537Z"
    }
   },
   "source": [
    "s1 = set('abc')\n",
    "s2 = set('bcd')"
   ],
   "outputs": [],
   "execution_count": 30
  },
  {
   "cell_type": "code",
   "metadata": {
    "ExecuteTime": {
     "end_time": "2025-06-17T19:43:29.823286Z",
     "start_time": "2025-06-17T19:43:29.816332Z"
    }
   },
   "source": [
    "s1"
   ],
   "outputs": [
    {
     "data": {
      "text/plain": [
       "{'a', 'b', 'c'}"
      ]
     },
     "execution_count": 31,
     "metadata": {},
     "output_type": "execute_result"
    }
   ],
   "execution_count": 31
  },
  {
   "cell_type": "code",
   "metadata": {
    "ExecuteTime": {
     "end_time": "2025-06-17T19:43:30.076535Z",
     "start_time": "2025-06-17T19:43:30.068020Z"
    }
   },
   "source": [
    "s2"
   ],
   "outputs": [
    {
     "data": {
      "text/plain": [
       "{'b', 'c', 'd'}"
      ]
     },
     "execution_count": 32,
     "metadata": {},
     "output_type": "execute_result"
    }
   ],
   "execution_count": 32
  },
  {
   "cell_type": "code",
   "metadata": {
    "ExecuteTime": {
     "end_time": "2025-06-17T19:43:35.770289Z",
     "start_time": "2025-06-17T19:43:35.764502Z"
    }
   },
   "source": [
    "s1 | s2"
   ],
   "outputs": [
    {
     "data": {
      "text/plain": [
       "{'a', 'b', 'c', 'd'}"
      ]
     },
     "execution_count": 33,
     "metadata": {},
     "output_type": "execute_result"
    }
   ],
   "execution_count": 33
  },
  {
   "cell_type": "markdown",
   "metadata": {},
   "source": [
    "Notice how elements that were common to both sets are *not* repeated (set elements are unique)."
   ]
  },
  {
   "cell_type": "code",
   "metadata": {
    "ExecuteTime": {
     "end_time": "2025-06-17T19:43:36.415185Z",
     "start_time": "2025-06-17T19:43:36.408671Z"
    }
   },
   "source": [
    "s1 & s2"
   ],
   "outputs": [
    {
     "data": {
      "text/plain": [
       "{'b', 'c'}"
      ]
     },
     "execution_count": 34,
     "metadata": {},
     "output_type": "execute_result"
    }
   ],
   "execution_count": 34
  },
  {
   "cell_type": "markdown",
   "metadata": {},
   "source": [
    "As you can see the resulting set only contains elements that were common to both sets (the intersection)."
   ]
  },
  {
   "cell_type": "markdown",
   "metadata": {},
   "source": [
    "These sets and set operations can be very handy in a number of different ways that we'll see thoughtou the course."
   ]
  },
  {
   "cell_type": "markdown",
   "metadata": {},
   "source": [
    "Suppose we have two strings, and we want to find all the characters that are present in both strings."
   ]
  },
  {
   "cell_type": "code",
   "metadata": {
    "ExecuteTime": {
     "end_time": "2025-06-17T19:43:40.646650Z",
     "start_time": "2025-06-17T19:43:40.641094Z"
    }
   },
   "source": [
    "str_1 = 'python is an awesome language!'\n",
    "str_2 = 'a python is also a snake.'"
   ],
   "outputs": [],
   "execution_count": 35
  },
  {
   "cell_type": "code",
   "metadata": {
    "ExecuteTime": {
     "end_time": "2025-06-17T19:43:40.889790Z",
     "start_time": "2025-06-17T19:43:40.884795Z"
    }
   },
   "source": [
    "set_1 = set(str_1)\n",
    "set_2 = set(str_2)"
   ],
   "outputs": [],
   "execution_count": 36
  },
  {
   "cell_type": "code",
   "metadata": {
    "ExecuteTime": {
     "end_time": "2025-06-17T19:43:41.127274Z",
     "start_time": "2025-06-17T19:43:41.120164Z"
    }
   },
   "source": [
    "set_1"
   ],
   "outputs": [
    {
     "data": {
      "text/plain": [
       "{' ',\n",
       " '!',\n",
       " 'a',\n",
       " 'e',\n",
       " 'g',\n",
       " 'h',\n",
       " 'i',\n",
       " 'l',\n",
       " 'm',\n",
       " 'n',\n",
       " 'o',\n",
       " 'p',\n",
       " 's',\n",
       " 't',\n",
       " 'u',\n",
       " 'w',\n",
       " 'y'}"
      ]
     },
     "execution_count": 37,
     "metadata": {},
     "output_type": "execute_result"
    }
   ],
   "execution_count": 37
  },
  {
   "cell_type": "code",
   "metadata": {
    "ExecuteTime": {
     "end_time": "2025-06-17T19:43:41.385117Z",
     "start_time": "2025-06-17T19:43:41.379073Z"
    }
   },
   "source": [
    "set_2"
   ],
   "outputs": [
    {
     "data": {
      "text/plain": [
       "{' ', '.', 'a', 'e', 'h', 'i', 'k', 'l', 'n', 'o', 'p', 's', 't', 'y'}"
      ]
     },
     "execution_count": 38,
     "metadata": {},
     "output_type": "execute_result"
    }
   ],
   "execution_count": 38
  },
  {
   "cell_type": "markdown",
   "metadata": {},
   "source": [
    "To find the elements common to both, we just need the intersection:"
   ]
  },
  {
   "cell_type": "code",
   "metadata": {
    "ExecuteTime": {
     "end_time": "2025-06-17T19:43:41.995090Z",
     "start_time": "2025-06-17T19:43:41.988811Z"
    }
   },
   "source": [
    "set_1 & set_2"
   ],
   "outputs": [
    {
     "data": {
      "text/plain": [
       "{' ', 'a', 'e', 'h', 'i', 'l', 'n', 'o', 'p', 's', 't', 'y'}"
      ]
     },
     "execution_count": 39,
     "metadata": {},
     "output_type": "execute_result"
    }
   ],
   "execution_count": 39
  },
  {
   "cell_type": "markdown",
   "metadata": {},
   "source": [
    "Another example might be where we have two or more sets that contains some stock symbols different systems are tracking, and we want to compile a list of all these stock symbols."
   ]
  },
  {
   "cell_type": "code",
   "metadata": {
    "ExecuteTime": {
     "end_time": "2025-06-17T19:43:42.599992Z",
     "start_time": "2025-06-17T19:43:42.593990Z"
    }
   },
   "source": [
    "s1 = {'FB', 'AMZN', 'AAPL', 'NFLX', 'GOOG', 'MSFT'}\n",
    "s2 = {'BABA', 'WMT', 'COST'}\n",
    "s3 = {'TSLA', 'F', 'GM'}"
   ],
   "outputs": [],
   "execution_count": 40
  },
  {
   "cell_type": "markdown",
   "metadata": {},
   "source": [
    "To get a consolidated list we could do this:"
   ]
  },
  {
   "cell_type": "code",
   "metadata": {
    "ExecuteTime": {
     "end_time": "2025-06-17T19:43:43.342500Z",
     "start_time": "2025-06-17T19:43:43.337474Z"
    }
   },
   "source": [
    "consolidated = s1 | s2 | s3"
   ],
   "outputs": [],
   "execution_count": 41
  },
  {
   "cell_type": "code",
   "metadata": {
    "ExecuteTime": {
     "end_time": "2025-06-17T19:43:47.283607Z",
     "start_time": "2025-06-17T19:43:47.277605Z"
    }
   },
   "source": [
    "consolidated"
   ],
   "outputs": [
    {
     "data": {
      "text/plain": [
       "{'AAPL',\n",
       " 'AMZN',\n",
       " 'BABA',\n",
       " 'COST',\n",
       " 'F',\n",
       " 'FB',\n",
       " 'GM',\n",
       " 'GOOG',\n",
       " 'MSFT',\n",
       " 'NFLX',\n",
       " 'TSLA',\n",
       " 'WMT'}"
      ]
     },
     "execution_count": 42,
     "metadata": {},
     "output_type": "execute_result"
    }
   ],
   "execution_count": 42
  },
  {
   "cell_type": "markdown",
   "metadata": {},
   "source": [
    "To actually convert this set to a list, we can simply use the `list()` function:"
   ]
  },
  {
   "cell_type": "code",
   "metadata": {
    "ExecuteTime": {
     "end_time": "2025-06-17T19:43:48.225321Z",
     "start_time": "2025-06-17T19:43:48.220303Z"
    }
   },
   "source": [
    "symbols = list(s1 | s2 | s3)"
   ],
   "outputs": [],
   "execution_count": 43
  },
  {
   "cell_type": "code",
   "metadata": {
    "ExecuteTime": {
     "end_time": "2025-06-17T19:43:48.952137Z",
     "start_time": "2025-06-17T19:43:48.945694Z"
    }
   },
   "source": [
    "symbols"
   ],
   "outputs": [
    {
     "data": {
      "text/plain": [
       "['TSLA',\n",
       " 'AAPL',\n",
       " 'MSFT',\n",
       " 'WMT',\n",
       " 'GOOG',\n",
       " 'F',\n",
       " 'NFLX',\n",
       " 'COST',\n",
       " 'BABA',\n",
       " 'FB',\n",
       " 'AMZN',\n",
       " 'GM']"
      ]
     },
     "execution_count": 44,
     "metadata": {},
     "output_type": "execute_result"
    }
   ],
   "execution_count": 44
  },
  {
   "cell_type": "markdown",
   "metadata": {},
   "source": [
    "Another common operation might be to \"subtract\" one set from another."
   ]
  },
  {
   "cell_type": "markdown",
   "metadata": {},
   "source": [
    "For example, suppose we have one list that contains all the widgets that were sold on some site, and one that contains all the widgets that had returns."
   ]
  },
  {
   "cell_type": "code",
   "metadata": {
    "ExecuteTime": {
     "end_time": "2025-06-17T19:43:50.335854Z",
     "start_time": "2025-06-17T19:43:50.330922Z"
    }
   },
   "source": [
    "sold = {'w1', 'w2', 'w3', 'w4'}\n",
    "returned = {'w1'}        "
   ],
   "outputs": [],
   "execution_count": 45
  },
  {
   "cell_type": "markdown",
   "metadata": {},
   "source": [
    "We want to know which widgets that were sold had no returns:"
   ]
  },
  {
   "cell_type": "code",
   "metadata": {
    "ExecuteTime": {
     "end_time": "2025-06-17T19:43:51.057339Z",
     "start_time": "2025-06-17T19:43:51.052881Z"
    }
   },
   "source": [
    "not_returned = sold - returned"
   ],
   "outputs": [],
   "execution_count": 46
  },
  {
   "cell_type": "code",
   "metadata": {
    "ExecuteTime": {
     "end_time": "2025-06-17T19:43:51.375348Z",
     "start_time": "2025-06-17T19:43:51.369937Z"
    }
   },
   "source": [
    "not_returned"
   ],
   "outputs": [
    {
     "data": {
      "text/plain": [
       "{'w2', 'w3', 'w4'}"
      ]
     },
     "execution_count": 47,
     "metadata": {},
     "output_type": "execute_result"
    }
   ],
   "execution_count": 47
  },
  {
   "cell_type": "markdown",
   "metadata": {},
   "source": [
    "Another possible use for this might be to determine which characters in one string are not present in another string:"
   ]
  },
  {
   "cell_type": "code",
   "metadata": {
    "ExecuteTime": {
     "end_time": "2025-06-17T19:43:52.044023Z",
     "start_time": "2025-06-17T19:43:52.038363Z"
    }
   },
   "source": [
    "alphabet = set('abcdefghijklmnopqrstuvwxyz')"
   ],
   "outputs": [],
   "execution_count": 48
  },
  {
   "cell_type": "markdown",
   "metadata": {},
   "source": [
    "Writing this above was a bit tedious, so we can use some of Python's built-in magic for this:"
   ]
  },
  {
   "cell_type": "code",
   "metadata": {
    "ExecuteTime": {
     "end_time": "2025-06-17T19:43:52.676942Z",
     "start_time": "2025-06-17T19:43:52.671946Z"
    }
   },
   "source": [
    "import string"
   ],
   "outputs": [],
   "execution_count": 49
  },
  {
   "cell_type": "code",
   "metadata": {
    "ExecuteTime": {
     "end_time": "2025-06-17T19:43:53.025635Z",
     "start_time": "2025-06-17T19:43:53.019528Z"
    }
   },
   "source": [
    "string.ascii_lowercase"
   ],
   "outputs": [
    {
     "data": {
      "text/plain": [
       "'abcdefghijklmnopqrstuvwxyz'"
      ]
     },
     "execution_count": 50,
     "metadata": {},
     "output_type": "execute_result"
    }
   ],
   "execution_count": 50
  },
  {
   "cell_type": "code",
   "metadata": {
    "ExecuteTime": {
     "end_time": "2025-06-17T19:43:53.613209Z",
     "start_time": "2025-06-17T19:43:53.606895Z"
    }
   },
   "source": [
    "string.ascii_uppercase"
   ],
   "outputs": [
    {
     "data": {
      "text/plain": [
       "'ABCDEFGHIJKLMNOPQRSTUVWXYZ'"
      ]
     },
     "execution_count": 51,
     "metadata": {},
     "output_type": "execute_result"
    }
   ],
   "execution_count": 51
  },
  {
   "cell_type": "code",
   "metadata": {
    "ExecuteTime": {
     "end_time": "2025-06-17T19:43:53.907316Z",
     "start_time": "2025-06-17T19:43:53.901122Z"
    }
   },
   "source": [
    "string.ascii_letters"
   ],
   "outputs": [
    {
     "data": {
      "text/plain": [
       "'abcdefghijklmnopqrstuvwxyzABCDEFGHIJKLMNOPQRSTUVWXYZ'"
      ]
     },
     "execution_count": 52,
     "metadata": {},
     "output_type": "execute_result"
    }
   ],
   "execution_count": 52
  },
  {
   "cell_type": "code",
   "metadata": {
    "ExecuteTime": {
     "end_time": "2025-06-17T19:43:54.178022Z",
     "start_time": "2025-06-17T19:43:54.174023Z"
    }
   },
   "source": [
    "alphabet = set(string.ascii_letters)"
   ],
   "outputs": [],
   "execution_count": 53
  },
  {
   "cell_type": "markdown",
   "metadata": {},
   "source": [
    "Now suppose we have this sentence:"
   ]
  },
  {
   "cell_type": "code",
   "metadata": {
    "ExecuteTime": {
     "end_time": "2025-06-17T19:43:55.733279Z",
     "start_time": "2025-06-17T19:43:55.726767Z"
    }
   },
   "source": [
    "text = 'The quick brown fox jumps over the lazy dog'"
   ],
   "outputs": [],
   "execution_count": 54
  },
  {
   "cell_type": "markdown",
   "metadata": {},
   "source": [
    "And we want to know which alphabet characters were not used in that string:"
   ]
  },
  {
   "cell_type": "code",
   "metadata": {
    "ExecuteTime": {
     "end_time": "2025-06-17T19:43:56.618775Z",
     "start_time": "2025-06-17T19:43:56.610578Z"
    }
   },
   "source": [
    "set(string.ascii_letters) - set(text)"
   ],
   "outputs": [
    {
     "data": {
      "text/plain": [
       "{'A',\n",
       " 'B',\n",
       " 'C',\n",
       " 'D',\n",
       " 'E',\n",
       " 'F',\n",
       " 'G',\n",
       " 'H',\n",
       " 'I',\n",
       " 'J',\n",
       " 'K',\n",
       " 'L',\n",
       " 'M',\n",
       " 'N',\n",
       " 'O',\n",
       " 'P',\n",
       " 'Q',\n",
       " 'R',\n",
       " 'S',\n",
       " 'U',\n",
       " 'V',\n",
       " 'W',\n",
       " 'X',\n",
       " 'Y',\n",
       " 'Z'}"
      ]
     },
     "execution_count": 55,
     "metadata": {},
     "output_type": "execute_result"
    }
   ],
   "execution_count": 55
  },
  {
   "cell_type": "markdown",
   "metadata": {},
   "source": [
    "One problem here is that lower case and upper case characters are not the same - we may want to do this in a case insensitive fashion."
   ]
  },
  {
   "cell_type": "code",
   "metadata": {
    "ExecuteTime": {
     "end_time": "2025-06-17T19:43:57.045362Z",
     "start_time": "2025-06-17T19:43:57.038932Z"
    }
   },
   "source": [
    "text"
   ],
   "outputs": [
    {
     "data": {
      "text/plain": [
       "'The quick brown fox jumps over the lazy dog'"
      ]
     },
     "execution_count": 56,
     "metadata": {},
     "output_type": "execute_result"
    }
   ],
   "execution_count": 56
  },
  {
   "cell_type": "markdown",
   "metadata": {},
   "source": [
    "So we can use case folding to make this case insensitive:"
   ]
  },
  {
   "cell_type": "code",
   "metadata": {
    "ExecuteTime": {
     "end_time": "2025-06-17T19:43:57.477374Z",
     "start_time": "2025-06-17T19:43:57.471444Z"
    }
   },
   "source": [
    "set(string.ascii_letters.casefold()) - set(text.casefold())"
   ],
   "outputs": [
    {
     "data": {
      "text/plain": [
       "set()"
      ]
     },
     "execution_count": 57,
     "metadata": {},
     "output_type": "execute_result"
    }
   ],
   "execution_count": 57
  },
  {
   "cell_type": "markdown",
   "metadata": {},
   "source": [
    "Interestingly enough, this sentence has all the characters of the english alphabet :-)"
   ]
  },
  {
   "cell_type": "markdown",
   "metadata": {},
   "source": [
    "Let's try it with another string that does not contain all the letters of the alphabet:"
   ]
  },
  {
   "cell_type": "code",
   "metadata": {
    "ExecuteTime": {
     "end_time": "2025-06-17T19:43:58.121058Z",
     "start_time": "2025-06-17T19:43:58.115980Z"
    }
   },
   "source": [
    "text = 'aBcDeFgHiJkKlLmMnNoOpPqQrRsStTuUvVwW'"
   ],
   "outputs": [],
   "execution_count": 58
  },
  {
   "cell_type": "code",
   "metadata": {
    "ExecuteTime": {
     "end_time": "2025-06-17T19:43:58.423415Z",
     "start_time": "2025-06-17T19:43:58.416110Z"
    }
   },
   "source": [
    "set(string.ascii_letters.casefold()) - set(text.casefold())"
   ],
   "outputs": [
    {
     "data": {
      "text/plain": [
       "{'x', 'y', 'z'}"
      ]
     },
     "execution_count": 59,
     "metadata": {},
     "output_type": "execute_result"
    }
   ],
   "execution_count": 59
  }
 ],
 "metadata": {
  "kernelspec": {
   "display_name": "Python 3",
   "language": "python",
   "name": "python3"
  },
  "language_info": {
   "codemirror_mode": {
    "name": "ipython",
    "version": 3
   },
   "file_extension": ".py",
   "mimetype": "text/x-python",
   "name": "python",
   "nbconvert_exporter": "python",
   "pygments_lexer": "ipython3",
   "version": "3.9.1"
  }
 },
 "nbformat": 4,
 "nbformat_minor": 4
}
