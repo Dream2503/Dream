{
 "cells": [
  {
   "cell_type": "markdown",
   "metadata": {},
   "source": [
    "### Initialization"
   ]
  },
  {
   "cell_type": "markdown",
   "metadata": {},
   "source": [
    "Let's start with our previous example:"
   ]
  },
  {
   "cell_type": "code",
   "metadata": {
    "ExecuteTime": {
     "end_time": "2025-06-18T05:04:59.466419Z",
     "start_time": "2025-06-18T05:04:59.459884Z"
    }
   },
   "source": [
    "class Person:\n",
    "    \"\"\"Class to represent a Person\"\"\""
   ],
   "outputs": [],
   "execution_count": 1
  },
  {
   "cell_type": "markdown",
   "metadata": {},
   "source": [
    "When we **call** the class:"
   ]
  },
  {
   "cell_type": "code",
   "metadata": {
    "ExecuteTime": {
     "end_time": "2025-06-18T05:04:59.796889Z",
     "start_time": "2025-06-18T05:04:59.790571Z"
    }
   },
   "source": [
    "p1 = Person()"
   ],
   "outputs": [],
   "execution_count": 2
  },
  {
   "cell_type": "markdown",
   "metadata": {},
   "source": [
    "Python actually includes a default method called `__init__` that it calls during the instance creation."
   ]
  },
  {
   "cell_type": "markdown",
   "metadata": {},
   "source": [
    "By default that `__init__` doesn't do anything, but it's there."
   ]
  },
  {
   "cell_type": "markdown",
   "metadata": {},
   "source": [
    "We can implement our own custom version of `__init__`:"
   ]
  },
  {
   "cell_type": "code",
   "metadata": {
    "ExecuteTime": {
     "end_time": "2025-06-18T05:04:59.831976Z",
     "start_time": "2025-06-18T05:04:59.825917Z"
    }
   },
   "source": [
    "class Person:\n",
    "    def __init__(self):\n",
    "        print('custom init...')"
   ],
   "outputs": [],
   "execution_count": 3
  },
  {
   "cell_type": "code",
   "metadata": {
    "ExecuteTime": {
     "end_time": "2025-06-18T05:04:59.854326Z",
     "start_time": "2025-06-18T05:04:59.848841Z"
    }
   },
   "source": [
    "p = Person()"
   ],
   "outputs": [
    {
     "name": "stdout",
     "output_type": "stream",
     "text": [
      "custom init...\n"
     ]
    }
   ],
   "execution_count": 4
  },
  {
   "cell_type": "markdown",
   "metadata": {},
   "source": [
    "As we can see, Python called that function."
   ]
  },
  {
   "cell_type": "markdown",
   "metadata": {},
   "source": [
    "But what is `self`???"
   ]
  },
  {
   "cell_type": "markdown",
   "metadata": {},
   "source": [
    "Remember that we have functions bound to instances - something we call **methods**."
   ]
  },
  {
   "cell_type": "markdown",
   "metadata": {},
   "source": [
    "For example, the instances of the `str` class are *strings*, and they have methods, which operate on the particular instance we are working with:"
   ]
  },
  {
   "cell_type": "code",
   "metadata": {
    "ExecuteTime": {
     "end_time": "2025-06-18T05:04:59.901538Z",
     "start_time": "2025-06-18T05:04:59.895283Z"
    }
   },
   "source": [
    "s1 = 'Hello'\n",
    "s2 = 'Python'"
   ],
   "outputs": [],
   "execution_count": 5
  },
  {
   "cell_type": "code",
   "metadata": {
    "ExecuteTime": {
     "end_time": "2025-06-18T05:04:59.942097Z",
     "start_time": "2025-06-18T05:04:59.934529Z"
    }
   },
   "source": [
    "s1.upper()"
   ],
   "outputs": [
    {
     "data": {
      "text/plain": [
       "'HELLO'"
      ]
     },
     "execution_count": 6,
     "metadata": {},
     "output_type": "execute_result"
    }
   ],
   "execution_count": 6
  },
  {
   "cell_type": "code",
   "metadata": {
    "ExecuteTime": {
     "end_time": "2025-06-18T05:04:59.978020Z",
     "start_time": "2025-06-18T05:04:59.971454Z"
    }
   },
   "source": [
    "s2.upper()"
   ],
   "outputs": [
    {
     "data": {
      "text/plain": [
       "'PYTHON'"
      ]
     },
     "execution_count": 7,
     "metadata": {},
     "output_type": "execute_result"
    }
   ],
   "execution_count": 7
  },
  {
   "cell_type": "markdown",
   "metadata": {},
   "source": [
    "As you can see the method `upper` operated on the particular instance of the string - the method is essentially a function that is **bound** to the instance."
   ]
  },
  {
   "cell_type": "markdown",
   "metadata": {},
   "source": [
    "The instance creation that Python does for us when we write `Person()`, is actually broken down into a few steps:\n",
    "\n",
    "1. Python creates a new instance of `Person` - let's call that object `temp`\n",
    "2. Python calls `temp.__init__()` - i.e. `__init__` is a method bound to the newly created object"
   ]
  },
  {
   "cell_type": "markdown",
   "metadata": {},
   "source": [
    "What's important to realize is that by the time `temp.__init__` is called, the new object (`temp`) already exists, and the `__init__` function is therefore a method bound to the new object."
   ]
  },
  {
   "cell_type": "markdown",
   "metadata": {},
   "source": [
    "So, if `__init__` is a method that is bound to some instance when it is called, how does it know what that instance is?"
   ]
  },
  {
   "cell_type": "markdown",
   "metadata": {},
   "source": [
    "Python actually **injects** the instance object as the **first** argument of any method - here I called it `self`. This is a convention you should stick to, but we can name it whatever we want. "
   ]
  },
  {
   "cell_type": "code",
   "metadata": {
    "ExecuteTime": {
     "end_time": "2025-06-18T05:05:00.043728Z",
     "start_time": "2025-06-18T05:05:00.038687Z"
    }
   },
   "source": [
    "class Person:\n",
    "    def __init__(instance_obj):\n",
    "        print(f'__init__ called for object: {instance_obj}')"
   ],
   "outputs": [],
   "execution_count": 8
  },
  {
   "cell_type": "code",
   "metadata": {
    "ExecuteTime": {
     "end_time": "2025-06-18T05:05:00.070296Z",
     "start_time": "2025-06-18T05:05:00.065255Z"
    }
   },
   "source": [
    "p = Person()"
   ],
   "outputs": [
    {
     "name": "stdout",
     "output_type": "stream",
     "text": [
      "__init__ called for object: <__main__.Person object at 0x000001D934ECCAD0>\n"
     ]
    }
   ],
   "execution_count": 9
  },
  {
   "cell_type": "markdown",
   "metadata": {},
   "source": [
    "Notice the representation of the object - that's the default Python implements for us (we'll see how to override that later), but for now it tells us that `instance_obj` is a `Person` instance with some memory address."
   ]
  },
  {
   "cell_type": "code",
   "metadata": {
    "ExecuteTime": {
     "end_time": "2025-06-18T05:05:00.103891Z",
     "start_time": "2025-06-18T05:05:00.097279Z"
    }
   },
   "source": [
    "hex(id(p))"
   ],
   "outputs": [
    {
     "data": {
      "text/plain": [
       "'0x1d934eccad0'"
      ]
     },
     "execution_count": 10,
     "metadata": {},
     "output_type": "execute_result"
    }
   ],
   "execution_count": 10
  },
  {
   "cell_type": "markdown",
   "metadata": {},
   "source": [
    "and as we can see the instance that was created, is the same as the one that was passed to `__init__`."
   ]
  },
  {
   "cell_type": "markdown",
   "metadata": {},
   "source": [
    "As we just saw, we can set attributes on objects directly, so we can also do this inside the `__init__` method..."
   ]
  },
  {
   "cell_type": "code",
   "metadata": {
    "ExecuteTime": {
     "end_time": "2025-06-18T05:05:00.160349Z",
     "start_time": "2025-06-18T05:05:00.154185Z"
    }
   },
   "source": [
    "class Person:\n",
    "    def __init__(self):\n",
    "        self.first_name = 'Eric'\n",
    "        self.last_name = 'Idle'"
   ],
   "outputs": [],
   "execution_count": 11
  },
  {
   "cell_type": "code",
   "metadata": {
    "ExecuteTime": {
     "end_time": "2025-06-18T05:05:00.181486Z",
     "start_time": "2025-06-18T05:05:00.177649Z"
    }
   },
   "source": [
    "p1 = Person()"
   ],
   "outputs": [],
   "execution_count": 12
  },
  {
   "cell_type": "code",
   "metadata": {
    "ExecuteTime": {
     "end_time": "2025-06-18T05:05:00.198091Z",
     "start_time": "2025-06-18T05:05:00.193048Z"
    }
   },
   "source": [
    "p2 = Person()"
   ],
   "outputs": [],
   "execution_count": 13
  },
  {
   "cell_type": "code",
   "metadata": {
    "ExecuteTime": {
     "end_time": "2025-06-18T05:05:00.224427Z",
     "start_time": "2025-06-18T05:05:00.217769Z"
    }
   },
   "source": [
    "p1.__dict__, p2.__dict__"
   ],
   "outputs": [
    {
     "data": {
      "text/plain": [
       "({'first_name': 'Eric', 'last_name': 'Idle'},\n",
       " {'first_name': 'Eric', 'last_name': 'Idle'})"
      ]
     },
     "execution_count": 14,
     "metadata": {},
     "output_type": "execute_result"
    }
   ],
   "execution_count": 14
  },
  {
   "cell_type": "markdown",
   "metadata": {},
   "source": [
    "As we can see, both our objects have `first_name` and `last_name` attributes."
   ]
  },
  {
   "cell_type": "markdown",
   "metadata": {},
   "source": [
    "Now this is not very useful, we would really like to specify different first/last names  for each instance."
   ]
  },
  {
   "cell_type": "markdown",
   "metadata": {},
   "source": [
    "To do that, we need to pass some arguments when we create the instance, something like:\n",
    "```\n",
    "Person('Eric', 'Idle')\n",
    "```"
   ]
  },
  {
   "cell_type": "markdown",
   "metadata": {},
   "source": [
    "If we add some arguments to the call to the class, where do those arguments go?"
   ]
  },
  {
   "cell_type": "markdown",
   "metadata": {},
   "source": [
    "They go to the `__init__` method - so the `__init__` function will be bound to the object we are trying to create, **and** receive **additional** arguments that we define and use when we call the class."
   ]
  },
  {
   "cell_type": "code",
   "metadata": {
    "ExecuteTime": {
     "end_time": "2025-06-18T05:05:00.265717Z",
     "start_time": "2025-06-18T05:05:00.261784Z"
    }
   },
   "source": [
    "class Person:\n",
    "    def __init__(self, first_name, last_name):\n",
    "        self.first_name = first_name\n",
    "        self.last_name = last_name"
   ],
   "outputs": [],
   "execution_count": 15
  },
  {
   "cell_type": "code",
   "metadata": {
    "ExecuteTime": {
     "end_time": "2025-06-18T05:05:00.289763Z",
     "start_time": "2025-06-18T05:05:00.284552Z"
    }
   },
   "source": [
    "eric = Person('Eric', 'Idle')\n",
    "john = Person('John', 'Cleese')"
   ],
   "outputs": [],
   "execution_count": 16
  },
  {
   "cell_type": "code",
   "metadata": {
    "ExecuteTime": {
     "end_time": "2025-06-18T05:05:00.311704Z",
     "start_time": "2025-06-18T05:05:00.305051Z"
    }
   },
   "source": [
    "eric.first_name, john.first_name"
   ],
   "outputs": [
    {
     "data": {
      "text/plain": [
       "('Eric', 'John')"
      ]
     },
     "execution_count": 17,
     "metadata": {},
     "output_type": "execute_result"
    }
   ],
   "execution_count": 17
  },
  {
   "cell_type": "markdown",
   "metadata": {},
   "source": [
    "As you can see we have created two objects, instances of the `Person` class, but they are distinct objects - they have different state."
   ]
  },
  {
   "cell_type": "markdown",
   "metadata": {},
   "source": [
    "We saw how the `__init__` method gets called automatically when we **instantiate** (create an instance of) an object - and that method is bound to the instance (that's what the `self` argument is)."
   ]
  },
  {
   "cell_type": "markdown",
   "metadata": {},
   "source": [
    "The `__init__` method is actually just a function - but when it is called when creating an instance object, it becomes bound to that object, in the sense that the object is injected as the first argument to the call to `__init__`."
   ]
  },
  {
   "cell_type": "markdown",
   "metadata": {},
   "source": [
    "But it is still a function, and we can specify whatever (additional) parameters we want, including positional, keyword-only arguments, * arguments, and ** arguments."
   ]
  },
  {
   "cell_type": "markdown",
   "metadata": {},
   "source": [
    "For example, consider this class that we can use for an n-dimensional point in space:"
   ]
  },
  {
   "cell_type": "code",
   "metadata": {
    "ExecuteTime": {
     "end_time": "2025-06-18T05:05:00.344967Z",
     "start_time": "2025-06-18T05:05:00.338720Z"
    }
   },
   "source": [
    "class Point:\n",
    "    def __init__(self, *coords):\n",
    "        self.coords = coords\n",
    "        print(f'dimension: {len(coords)}')"
   ],
   "outputs": [],
   "execution_count": 18
  },
  {
   "cell_type": "code",
   "metadata": {
    "ExecuteTime": {
     "end_time": "2025-06-18T05:05:00.371793Z",
     "start_time": "2025-06-18T05:05:00.366621Z"
    }
   },
   "source": [
    "p = Point(1, 2)"
   ],
   "outputs": [
    {
     "name": "stdout",
     "output_type": "stream",
     "text": [
      "dimension: 2\n"
     ]
    }
   ],
   "execution_count": 19
  },
  {
   "cell_type": "code",
   "metadata": {
    "ExecuteTime": {
     "end_time": "2025-06-18T05:05:00.393039Z",
     "start_time": "2025-06-18T05:05:00.387340Z"
    }
   },
   "source": [
    "p.__dict__"
   ],
   "outputs": [
    {
     "data": {
      "text/plain": [
       "{'coords': (1, 2)}"
      ]
     },
     "execution_count": 20,
     "metadata": {},
     "output_type": "execute_result"
    }
   ],
   "execution_count": 20
  },
  {
   "cell_type": "code",
   "metadata": {
    "ExecuteTime": {
     "end_time": "2025-06-18T05:05:00.443776Z",
     "start_time": "2025-06-18T05:05:00.438991Z"
    }
   },
   "source": [
    "p = Point(1, 2, 3, 4)"
   ],
   "outputs": [
    {
     "name": "stdout",
     "output_type": "stream",
     "text": [
      "dimension: 4\n"
     ]
    }
   ],
   "execution_count": 21
  },
  {
   "cell_type": "code",
   "metadata": {
    "ExecuteTime": {
     "end_time": "2025-06-18T05:05:00.479828Z",
     "start_time": "2025-06-18T05:05:00.474323Z"
    }
   },
   "source": [
    "vars(p)"
   ],
   "outputs": [
    {
     "data": {
      "text/plain": [
       "{'coords': (1, 2, 3, 4)}"
      ]
     },
     "execution_count": 22,
     "metadata": {},
     "output_type": "execute_result"
    }
   ],
   "execution_count": 22
  },
  {
   "cell_type": "markdown",
   "metadata": {},
   "source": [
    "We could create a `Circle` class that requires the `radius` to be passed as a named argument:"
   ]
  },
  {
   "cell_type": "code",
   "metadata": {
    "ExecuteTime": {
     "end_time": "2025-06-18T05:05:00.530337Z",
     "start_time": "2025-06-18T05:05:00.524575Z"
    }
   },
   "source": [
    "class Circle:\n",
    "    def __init__(self, *, radius):\n",
    "        self.radius = radius"
   ],
   "outputs": [],
   "execution_count": 23
  },
  {
   "cell_type": "code",
   "metadata": {
    "ExecuteTime": {
     "end_time": "2025-06-18T05:05:00.558818Z",
     "start_time": "2025-06-18T05:05:00.553761Z"
    }
   },
   "source": [
    "c = Circle(radius=1)"
   ],
   "outputs": [],
   "execution_count": 24
  },
  {
   "cell_type": "code",
   "metadata": {
    "ExecuteTime": {
     "end_time": "2025-06-18T05:05:00.584802Z",
     "start_time": "2025-06-18T05:05:00.577551Z"
    }
   },
   "source": [
    "c.__dict__"
   ],
   "outputs": [
    {
     "data": {
      "text/plain": [
       "{'radius': 1}"
      ]
     },
     "execution_count": 25,
     "metadata": {},
     "output_type": "execute_result"
    }
   ],
   "execution_count": 25
  },
  {
   "cell_type": "code",
   "metadata": {
    "ExecuteTime": {
     "end_time": "2025-06-18T05:05:00.620602Z",
     "start_time": "2025-06-18T05:05:00.614087Z"
    }
   },
   "source": [
    "vars(c)"
   ],
   "outputs": [
    {
     "data": {
      "text/plain": [
       "{'radius': 1}"
      ]
     },
     "execution_count": 26,
     "metadata": {},
     "output_type": "execute_result"
    }
   ],
   "execution_count": 26
  },
  {
   "cell_type": "markdown",
   "metadata": {},
   "source": [
    "At this point we have a simple mechanism to create custom objects and initialize them at the same time as we create them. We'll have to learn how to add functionality to our classes in order to make classes truly useful."
   ]
  }
 ],
 "metadata": {
  "kernelspec": {
   "display_name": "Python 3",
   "language": "python",
   "name": "python3"
  },
  "language_info": {
   "codemirror_mode": {
    "name": "ipython",
    "version": 3
   },
   "file_extension": ".py",
   "mimetype": "text/x-python",
   "name": "python",
   "nbconvert_exporter": "python",
   "pygments_lexer": "ipython3",
   "version": "3.9.1"
  }
 },
 "nbformat": 4,
 "nbformat_minor": 4
}
