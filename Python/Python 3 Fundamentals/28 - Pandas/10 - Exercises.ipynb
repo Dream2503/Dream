{
 "cells": [
  {
   "cell_type": "markdown",
   "id": "sacred-massage",
   "metadata": {},
   "source": [
    "### Exercises"
   ]
  },
  {
   "cell_type": "markdown",
   "id": "purple-invalid",
   "metadata": {},
   "source": [
    "#### Question 1"
   ]
  },
  {
   "cell_type": "markdown",
   "id": "ideal-vocabulary",
   "metadata": {},
   "source": [
    "Alongside this notebook is a data file named `daily_quotes.csv` which contains EOD OHLC/Volume data for a small number of equities over a 6 month period."
   ]
  },
  {
   "cell_type": "markdown",
   "id": "physical-orlando",
   "metadata": {},
   "source": [
    "The first step is to load up this data into a dataframe, ensuring that all data types are correct (datetime objects for dates, floats for OHLC data, and integers for Volume)."
   ]
  },
  {
   "cell_type": "markdown",
   "id": "subsequent-collection",
   "metadata": {},
   "source": [
    "Write a function that receives the file name as an argument and returns a dataframe that:\n",
    "- has the correct data type for each column (`str`, `float`, `int`)\n",
    "- has a row index based on the `symbol` column"
   ]
  },
  {
   "cell_type": "markdown",
   "id": "coral-daily",
   "metadata": {},
   "source": [
    "In addition, we would like our dataframe to contain columns named and ordered in a specific way:\n",
    "- symbol (`str`)\n",
    "- date (`datetime`)\n",
    "- open (`float`)\n",
    "- high (`float`)\n",
    "- low (`float`)\n",
    "- close (`float`)\n",
    "- volume (`int`)\n",
    "\n",
    "(with `symbol` being used as the row index)"
   ]
  },
  {
   "cell_type": "markdown",
   "id": "celtic-correspondence",
   "metadata": {},
   "source": [
    "Hint: \n",
    "\n",
    "You will want to read up the Pandas docs for `read_csv` to see how you can handle datetime data directly while loading the data (in particular you should look at the `parse_dates` option):\n",
    "\n",
    "https://pandas.pydata.org/pandas-docs/stable/reference/api/pandas.read_csv.html\n",
    "\n",
    "Alternatively, you could convert these objects into proper datetime types after loading by using the Pandas function `to_datetime`, documented here:\n",
    "\n",
    "https://pandas.pydata.org/pandas-docs/stable/reference/api/pandas.to_datetime.html\n",
    "\n",
    "and then use conatenation to build up a dataframe that replaces the \"old\" `date` column with the \"new\" (properly typed) column."
   ]
  },
  {
   "metadata": {
    "ExecuteTime": {
     "end_time": "2025-06-19T20:38:50.262668Z",
     "start_time": "2025-06-19T20:38:49.637665Z"
    }
   },
   "cell_type": "code",
   "source": "import pandas as pd",
   "id": "fea20f1856c14fb4",
   "outputs": [],
   "execution_count": 1
  },
  {
   "metadata": {
    "ExecuteTime": {
     "end_time": "2025-06-19T20:38:50.617388Z",
     "start_time": "2025-06-19T20:38:50.575069Z"
    }
   },
   "cell_type": "code",
   "source": [
    "def get_data_frame(path):\n",
    "    df = pd.read_csv(\n",
    "        path,\n",
    "        header=0,\n",
    "        names=['symbol', 'date', 'close', 'volume', 'open', 'high', 'low'],\n",
    "        index_col = \"symbol\",\n",
    "        parse_dates=[\"date\"]\n",
    "    )\n",
    "    df = df.loc[:, [\"date\", \"open\", \"high\", \"low\", \"close\", \"volume\"]]\n",
    "    return df\n",
    "\n",
    "get_data_frame(\"daily_quotes.csv\")"
   ],
   "id": "e708252d0fa574ae",
   "outputs": [
    {
     "name": "stderr",
     "output_type": "stream",
     "text": [
      "C:\\Users\\swapn\\AppData\\Local\\Temp\\ipykernel_16948\\1787128040.py:2: UserWarning: Could not infer format, so each element will be parsed individually, falling back to `dateutil`. To ensure parsing is consistent and as-expected, please specify a format.\n",
      "  df = pd.read_csv(\n"
     ]
    },
    {
     "data": {
      "text/plain": [
       "             date      open       high        low    close     volume\n",
       "symbol                                                               \n",
       "AAPL   2021-02-12   134.350   135.5300   133.6921   135.37   60145130\n",
       "AMZN   2021-02-12  3250.000  3280.2500  3233.3100  3277.71    2335339\n",
       "GOOG   2021-02-12  2090.250  2108.8200  2083.1300  2104.11     855865\n",
       "MSFT   2021-02-12   243.933   245.3000   242.7300   244.99   16561080\n",
       "AAPL   2021-02-11   135.900   136.3900   133.7700   135.13   64280030\n",
       "...           ...       ...        ...        ...      ...        ...\n",
       "MSFT   2020-08-14   208.760   209.5900   207.5100   208.90   17958940\n",
       "AAPL   2020-08-13   114.430   116.0425   113.9275   115.01  210082080\n",
       "AMZN   2020-08-13  3182.990  3217.5211  3155.0000  3161.02    3149043\n",
       "GOOG   2020-08-13  1510.340  1537.2500  1508.0050  1518.45    1455208\n",
       "MSFT   2020-08-13   209.440   211.3500   208.1500   208.70   22588870\n",
       "\n",
       "[508 rows x 6 columns]"
      ],
      "text/html": [
       "<div>\n",
       "<style scoped>\n",
       "    .dataframe tbody tr th:only-of-type {\n",
       "        vertical-align: middle;\n",
       "    }\n",
       "\n",
       "    .dataframe tbody tr th {\n",
       "        vertical-align: top;\n",
       "    }\n",
       "\n",
       "    .dataframe thead th {\n",
       "        text-align: right;\n",
       "    }\n",
       "</style>\n",
       "<table border=\"1\" class=\"dataframe\">\n",
       "  <thead>\n",
       "    <tr style=\"text-align: right;\">\n",
       "      <th></th>\n",
       "      <th>date</th>\n",
       "      <th>open</th>\n",
       "      <th>high</th>\n",
       "      <th>low</th>\n",
       "      <th>close</th>\n",
       "      <th>volume</th>\n",
       "    </tr>\n",
       "    <tr>\n",
       "      <th>symbol</th>\n",
       "      <th></th>\n",
       "      <th></th>\n",
       "      <th></th>\n",
       "      <th></th>\n",
       "      <th></th>\n",
       "      <th></th>\n",
       "    </tr>\n",
       "  </thead>\n",
       "  <tbody>\n",
       "    <tr>\n",
       "      <th>AAPL</th>\n",
       "      <td>2021-02-12</td>\n",
       "      <td>134.350</td>\n",
       "      <td>135.5300</td>\n",
       "      <td>133.6921</td>\n",
       "      <td>135.37</td>\n",
       "      <td>60145130</td>\n",
       "    </tr>\n",
       "    <tr>\n",
       "      <th>AMZN</th>\n",
       "      <td>2021-02-12</td>\n",
       "      <td>3250.000</td>\n",
       "      <td>3280.2500</td>\n",
       "      <td>3233.3100</td>\n",
       "      <td>3277.71</td>\n",
       "      <td>2335339</td>\n",
       "    </tr>\n",
       "    <tr>\n",
       "      <th>GOOG</th>\n",
       "      <td>2021-02-12</td>\n",
       "      <td>2090.250</td>\n",
       "      <td>2108.8200</td>\n",
       "      <td>2083.1300</td>\n",
       "      <td>2104.11</td>\n",
       "      <td>855865</td>\n",
       "    </tr>\n",
       "    <tr>\n",
       "      <th>MSFT</th>\n",
       "      <td>2021-02-12</td>\n",
       "      <td>243.933</td>\n",
       "      <td>245.3000</td>\n",
       "      <td>242.7300</td>\n",
       "      <td>244.99</td>\n",
       "      <td>16561080</td>\n",
       "    </tr>\n",
       "    <tr>\n",
       "      <th>AAPL</th>\n",
       "      <td>2021-02-11</td>\n",
       "      <td>135.900</td>\n",
       "      <td>136.3900</td>\n",
       "      <td>133.7700</td>\n",
       "      <td>135.13</td>\n",
       "      <td>64280030</td>\n",
       "    </tr>\n",
       "    <tr>\n",
       "      <th>...</th>\n",
       "      <td>...</td>\n",
       "      <td>...</td>\n",
       "      <td>...</td>\n",
       "      <td>...</td>\n",
       "      <td>...</td>\n",
       "      <td>...</td>\n",
       "    </tr>\n",
       "    <tr>\n",
       "      <th>MSFT</th>\n",
       "      <td>2020-08-14</td>\n",
       "      <td>208.760</td>\n",
       "      <td>209.5900</td>\n",
       "      <td>207.5100</td>\n",
       "      <td>208.90</td>\n",
       "      <td>17958940</td>\n",
       "    </tr>\n",
       "    <tr>\n",
       "      <th>AAPL</th>\n",
       "      <td>2020-08-13</td>\n",
       "      <td>114.430</td>\n",
       "      <td>116.0425</td>\n",
       "      <td>113.9275</td>\n",
       "      <td>115.01</td>\n",
       "      <td>210082080</td>\n",
       "    </tr>\n",
       "    <tr>\n",
       "      <th>AMZN</th>\n",
       "      <td>2020-08-13</td>\n",
       "      <td>3182.990</td>\n",
       "      <td>3217.5211</td>\n",
       "      <td>3155.0000</td>\n",
       "      <td>3161.02</td>\n",
       "      <td>3149043</td>\n",
       "    </tr>\n",
       "    <tr>\n",
       "      <th>GOOG</th>\n",
       "      <td>2020-08-13</td>\n",
       "      <td>1510.340</td>\n",
       "      <td>1537.2500</td>\n",
       "      <td>1508.0050</td>\n",
       "      <td>1518.45</td>\n",
       "      <td>1455208</td>\n",
       "    </tr>\n",
       "    <tr>\n",
       "      <th>MSFT</th>\n",
       "      <td>2020-08-13</td>\n",
       "      <td>209.440</td>\n",
       "      <td>211.3500</td>\n",
       "      <td>208.1500</td>\n",
       "      <td>208.70</td>\n",
       "      <td>22588870</td>\n",
       "    </tr>\n",
       "  </tbody>\n",
       "</table>\n",
       "<p>508 rows × 6 columns</p>\n",
       "</div>"
      ]
     },
     "execution_count": 2,
     "metadata": {},
     "output_type": "execute_result"
    }
   ],
   "execution_count": 2
  },
  {
   "cell_type": "markdown",
   "id": "illegal-chaos",
   "metadata": {},
   "source": [
    "#### Question 2"
   ]
  },
  {
   "cell_type": "markdown",
   "id": "illegal-communication",
   "metadata": {},
   "source": [
    "Write a function that, given a dataframe sructured as the one we created in Question 1 and a symbol name as a string (e.g. `AAPL`, `MSFT`, etc), will:\n",
    "- return a similarly structured dataframe consisting of the row (or rows) containing the records with the highest volume for the given symbol\n",
    "- raises a `ValueError` if the symbol is not in the dataframe"
   ]
  },
  {
   "metadata": {
    "ExecuteTime": {
     "end_time": "2025-06-19T20:38:50.708800Z",
     "start_time": "2025-06-19T20:38:50.680006Z"
    }
   },
   "cell_type": "code",
   "source": [
    "def max_volume(path, symbol):\n",
    "    df = pd.read_csv(\n",
    "        path,\n",
    "        header=0,\n",
    "        names=['symbol', 'date', 'close', 'volume', 'open', 'high', 'low'],\n",
    "        index_col = \"symbol\",\n",
    "        parse_dates=[\"date\"]\n",
    "    )\n",
    "    df = df.loc[:, [\"date\", \"open\", \"high\", \"low\", \"close\", \"volume\"]]\n",
    "\n",
    "    try:\n",
    "        df = df.loc[symbol]\n",
    "        max_vol = df.loc[:, \"volume\"].max()\n",
    "        return df.loc[df.loc[:, \"volume\"] == max_vol]\n",
    "\n",
    "    except KeyError as ex:\n",
    "        print(\"KeyError:\", ex)\n",
    "\n",
    "max_volume(\"daily_quotes.csv\", \"AAPL\")"
   ],
   "id": "45a3c48e021eccb3",
   "outputs": [
    {
     "name": "stderr",
     "output_type": "stream",
     "text": [
      "C:\\Users\\swapn\\AppData\\Local\\Temp\\ipykernel_16948\\871895027.py:2: UserWarning: Could not infer format, so each element will be parsed individually, falling back to `dateutil`. To ensure parsing is consistent and as-expected, please specify a format.\n",
      "  df = pd.read_csv(\n"
     ]
    },
    {
     "data": {
      "text/plain": [
       "             date      open     high       low     close     volume\n",
       "symbol                                                             \n",
       "AAPL   2020-08-24  128.6975  128.785  123.9363  125.8575  345937760"
      ],
      "text/html": [
       "<div>\n",
       "<style scoped>\n",
       "    .dataframe tbody tr th:only-of-type {\n",
       "        vertical-align: middle;\n",
       "    }\n",
       "\n",
       "    .dataframe tbody tr th {\n",
       "        vertical-align: top;\n",
       "    }\n",
       "\n",
       "    .dataframe thead th {\n",
       "        text-align: right;\n",
       "    }\n",
       "</style>\n",
       "<table border=\"1\" class=\"dataframe\">\n",
       "  <thead>\n",
       "    <tr style=\"text-align: right;\">\n",
       "      <th></th>\n",
       "      <th>date</th>\n",
       "      <th>open</th>\n",
       "      <th>high</th>\n",
       "      <th>low</th>\n",
       "      <th>close</th>\n",
       "      <th>volume</th>\n",
       "    </tr>\n",
       "    <tr>\n",
       "      <th>symbol</th>\n",
       "      <th></th>\n",
       "      <th></th>\n",
       "      <th></th>\n",
       "      <th></th>\n",
       "      <th></th>\n",
       "      <th></th>\n",
       "    </tr>\n",
       "  </thead>\n",
       "  <tbody>\n",
       "    <tr>\n",
       "      <th>AAPL</th>\n",
       "      <td>2020-08-24</td>\n",
       "      <td>128.6975</td>\n",
       "      <td>128.785</td>\n",
       "      <td>123.9363</td>\n",
       "      <td>125.8575</td>\n",
       "      <td>345937760</td>\n",
       "    </tr>\n",
       "  </tbody>\n",
       "</table>\n",
       "</div>"
      ]
     },
     "execution_count": 3,
     "metadata": {},
     "output_type": "execute_result"
    }
   ],
   "execution_count": 3
  },
  {
   "cell_type": "markdown",
   "id": "spoken-facing",
   "metadata": {},
   "source": "P.#### Question 3"
  },
  {
   "cell_type": "markdown",
   "id": "centered-margin",
   "metadata": {},
   "source": [
    "Using the same dataframe as in the preceding questions, our goal now is to write a function that will return, for a specific symbol, the row that had the largest high-low spread."
   ]
  },
  {
   "cell_type": "markdown",
   "id": "appropriate-litigation",
   "metadata": {},
   "source": [
    "Write a function to do that - it should just return a dataframe with the row (or rows) with the largest high-low spread."
   ]
  },
  {
   "metadata": {
    "ExecuteTime": {
     "end_time": "2025-06-19T20:38:50.838995Z",
     "start_time": "2025-06-19T20:38:50.814206Z"
    }
   },
   "cell_type": "code",
   "source": [
    "def max_high_low_spread(path, symbol):\n",
    "    df = pd.read_csv(\n",
    "        path,\n",
    "        header=0,\n",
    "        names=['symbol', 'date', 'close', 'volume', 'open', 'high', 'low'],\n",
    "        index_col = \"symbol\",\n",
    "        parse_dates=[\"date\"]\n",
    "    )\n",
    "    df = df.loc[:, [\"date\", \"open\", \"high\", \"low\", \"close\", \"volume\"]]\n",
    "\n",
    "    try:\n",
    "        df = df.loc[symbol]\n",
    "        spread = df.loc[:, \"high\"] - df.loc[:, \"low\"]\n",
    "        max_spread = (df.loc[:, \"high\"] - df.loc[:, \"low\"]).max()\n",
    "        df = df.loc[spread == max_spread]\n",
    "        return df\n",
    "\n",
    "    except KeyError as ex:\n",
    "        print(\"KeyError:\", ex)\n",
    "\n",
    "max_high_low_spread(\"daily_quotes.csv\", \"AAPL\")"
   ],
   "id": "ed92b657869d4b7d",
   "outputs": [
    {
     "name": "stderr",
     "output_type": "stream",
     "text": [
      "C:\\Users\\swapn\\AppData\\Local\\Temp\\ipykernel_16948\\3656309994.py:2: UserWarning: Could not infer format, so each element will be parsed individually, falling back to `dateutil`. To ensure parsing is consistent and as-expected, please specify a format.\n",
      "  df = pd.read_csv(\n"
     ]
    },
    {
     "data": {
      "text/plain": [
       "             date    open   high     low   close     volume\n",
       "symbol                                                     \n",
       "AAPL   2020-09-04  120.07  123.7  110.89  120.96  332607200"
      ],
      "text/html": [
       "<div>\n",
       "<style scoped>\n",
       "    .dataframe tbody tr th:only-of-type {\n",
       "        vertical-align: middle;\n",
       "    }\n",
       "\n",
       "    .dataframe tbody tr th {\n",
       "        vertical-align: top;\n",
       "    }\n",
       "\n",
       "    .dataframe thead th {\n",
       "        text-align: right;\n",
       "    }\n",
       "</style>\n",
       "<table border=\"1\" class=\"dataframe\">\n",
       "  <thead>\n",
       "    <tr style=\"text-align: right;\">\n",
       "      <th></th>\n",
       "      <th>date</th>\n",
       "      <th>open</th>\n",
       "      <th>high</th>\n",
       "      <th>low</th>\n",
       "      <th>close</th>\n",
       "      <th>volume</th>\n",
       "    </tr>\n",
       "    <tr>\n",
       "      <th>symbol</th>\n",
       "      <th></th>\n",
       "      <th></th>\n",
       "      <th></th>\n",
       "      <th></th>\n",
       "      <th></th>\n",
       "      <th></th>\n",
       "    </tr>\n",
       "  </thead>\n",
       "  <tbody>\n",
       "    <tr>\n",
       "      <th>AAPL</th>\n",
       "      <td>2020-09-04</td>\n",
       "      <td>120.07</td>\n",
       "      <td>123.7</td>\n",
       "      <td>110.89</td>\n",
       "      <td>120.96</td>\n",
       "      <td>332607200</td>\n",
       "    </tr>\n",
       "  </tbody>\n",
       "</table>\n",
       "</div>"
      ]
     },
     "execution_count": 4,
     "metadata": {},
     "output_type": "execute_result"
    }
   ],
   "execution_count": 4
  },
  {
   "cell_type": "markdown",
   "id": "fundamental-magazine",
   "metadata": {},
   "source": [
    "#### Question 4"
   ]
  },
  {
   "cell_type": "markdown",
   "id": "structured-coral",
   "metadata": {},
   "source": [
    "Using the same dataframe as the preceding questions, write a function that returns a single dataframe containing the record(s) with maximum high-low spread for each symbol in the dataframe. (Do not hardcode symbol names in this function - instead you should recover the possible symbol names from the data itself)."
   ]
  },
  {
   "cell_type": "markdown",
   "id": "warming-oriental",
   "metadata": {},
   "source": [
    "The returned dataframe should have the same structure as the original dataframe, but just contain the rows of maximum high-low spread for each symbol."
   ]
  },
  {
   "metadata": {
    "ExecuteTime": {
     "end_time": "2025-06-19T20:38:50.978498Z",
     "start_time": "2025-06-19T20:38:50.973795Z"
    }
   },
   "cell_type": "code",
   "source": [
    "import pandas as pd\n",
    "import numpy as np"
   ],
   "id": "b24b6f19e8bf898",
   "outputs": [],
   "execution_count": 5
  },
  {
   "metadata": {
    "ExecuteTime": {
     "end_time": "2025-06-19T20:38:51.126792Z",
     "start_time": "2025-06-19T20:38:51.093053Z"
    }
   },
   "cell_type": "code",
   "source": [
    "def max_high_low_spread_all(path):\n",
    "    df = pd.read_csv(\n",
    "        path,\n",
    "        header=0,\n",
    "        names=['symbol', 'date', 'close', 'volume', 'open', 'high', 'low'],\n",
    "        index_col=\"symbol\",\n",
    "        parse_dates=[\"date\"]\n",
    "    )[[\"date\", \"open\", \"high\", \"low\", \"close\", \"volume\"]]\n",
    "\n",
    "    res = pd.DataFrame()\n",
    "\n",
    "    for symbol in df.index.unique():\n",
    "        current = df.loc[symbol]\n",
    "        ans = current.loc[current.loc[:, \"high\"] - current.loc[:, \"low\"] == (current.loc[:, \"high\"] - current.loc[:, \"low\"]).max()]\n",
    "\n",
    "        if not res.empty:\n",
    "            res = pd.concat([res, ans])\n",
    "\n",
    "        else:\n",
    "            res = ans\n",
    "\n",
    "    return res\n",
    "\n",
    "max_high_low_spread_all(\"daily_quotes.csv\")"
   ],
   "id": "3a0b56ba9f37ad5d",
   "outputs": [
    {
     "name": "stderr",
     "output_type": "stream",
     "text": [
      "C:\\Users\\swapn\\AppData\\Local\\Temp\\ipykernel_16948\\2908189215.py:2: UserWarning: Could not infer format, so each element will be parsed individually, falling back to `dateutil`. To ensure parsing is consistent and as-expected, please specify a format.\n",
      "  df = pd.read_csv(\n"
     ]
    },
    {
     "data": {
      "text/plain": [
       "             date     open     high        low    close     volume\n",
       "symbol                                                            \n",
       "AAPL   2020-09-04   120.07   123.70   110.8900   120.96  332607200\n",
       "AMZN   2020-09-04  3318.00  3381.50  3111.1300  3294.62    8781754\n",
       "GOOG   2021-02-03  2073.00  2116.50  2018.3800  2070.07    4118170\n",
       "MSFT   2020-09-03   229.27   229.31   214.9602   217.30   58400290"
      ],
      "text/html": [
       "<div>\n",
       "<style scoped>\n",
       "    .dataframe tbody tr th:only-of-type {\n",
       "        vertical-align: middle;\n",
       "    }\n",
       "\n",
       "    .dataframe tbody tr th {\n",
       "        vertical-align: top;\n",
       "    }\n",
       "\n",
       "    .dataframe thead th {\n",
       "        text-align: right;\n",
       "    }\n",
       "</style>\n",
       "<table border=\"1\" class=\"dataframe\">\n",
       "  <thead>\n",
       "    <tr style=\"text-align: right;\">\n",
       "      <th></th>\n",
       "      <th>date</th>\n",
       "      <th>open</th>\n",
       "      <th>high</th>\n",
       "      <th>low</th>\n",
       "      <th>close</th>\n",
       "      <th>volume</th>\n",
       "    </tr>\n",
       "    <tr>\n",
       "      <th>symbol</th>\n",
       "      <th></th>\n",
       "      <th></th>\n",
       "      <th></th>\n",
       "      <th></th>\n",
       "      <th></th>\n",
       "      <th></th>\n",
       "    </tr>\n",
       "  </thead>\n",
       "  <tbody>\n",
       "    <tr>\n",
       "      <th>AAPL</th>\n",
       "      <td>2020-09-04</td>\n",
       "      <td>120.07</td>\n",
       "      <td>123.70</td>\n",
       "      <td>110.8900</td>\n",
       "      <td>120.96</td>\n",
       "      <td>332607200</td>\n",
       "    </tr>\n",
       "    <tr>\n",
       "      <th>AMZN</th>\n",
       "      <td>2020-09-04</td>\n",
       "      <td>3318.00</td>\n",
       "      <td>3381.50</td>\n",
       "      <td>3111.1300</td>\n",
       "      <td>3294.62</td>\n",
       "      <td>8781754</td>\n",
       "    </tr>\n",
       "    <tr>\n",
       "      <th>GOOG</th>\n",
       "      <td>2021-02-03</td>\n",
       "      <td>2073.00</td>\n",
       "      <td>2116.50</td>\n",
       "      <td>2018.3800</td>\n",
       "      <td>2070.07</td>\n",
       "      <td>4118170</td>\n",
       "    </tr>\n",
       "    <tr>\n",
       "      <th>MSFT</th>\n",
       "      <td>2020-09-03</td>\n",
       "      <td>229.27</td>\n",
       "      <td>229.31</td>\n",
       "      <td>214.9602</td>\n",
       "      <td>217.30</td>\n",
       "      <td>58400290</td>\n",
       "    </tr>\n",
       "  </tbody>\n",
       "</table>\n",
       "</div>"
      ]
     },
     "execution_count": 6,
     "metadata": {},
     "output_type": "execute_result"
    }
   ],
   "execution_count": 6
  }
 ],
 "metadata": {
  "kernelspec": {
   "display_name": "Python 3",
   "language": "python",
   "name": "python3"
  },
  "language_info": {
   "codemirror_mode": {
    "name": "ipython",
    "version": 3
   },
   "file_extension": ".py",
   "mimetype": "text/x-python",
   "name": "python",
   "nbconvert_exporter": "python",
   "pygments_lexer": "ipython3",
   "version": "3.9.1"
  }
 },
 "nbformat": 4,
 "nbformat_minor": 5
}
