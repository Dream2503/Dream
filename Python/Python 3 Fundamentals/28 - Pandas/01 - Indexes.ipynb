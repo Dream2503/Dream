{
 "cells": [
  {
   "cell_type": "markdown",
   "metadata": {},
   "source": [
    "### Indexes"
   ]
  },
  {
   "cell_type": "markdown",
   "metadata": {},
   "source": [
    "If you have not alrady done so, you will need to install Pandas in your virtual environment:\n",
    "\n",
    "```\n",
    "pip install pandas\n",
    "```"
   ]
  },
  {
   "cell_type": "markdown",
   "metadata": {},
   "source": [
    "https://pandas.pydata.org/pandas-docs/stable/reference/api/pandas.Index.html"
   ]
  },
  {
   "cell_type": "markdown",
   "metadata": {},
   "source": [
    "We'll start by looking at Pandas `Index` objects."
   ]
  },
  {
   "cell_type": "markdown",
   "metadata": {},
   "source": [
    "By themselves they are not that useful, but they are tightly integrated to two other fundamental types in Pandas: `Series` and `DataFrame`."
   ]
  },
  {
   "cell_type": "code",
   "metadata": {
    "ExecuteTime": {
     "end_time": "2025-06-19T09:10:51.930822Z",
     "start_time": "2025-06-19T09:10:51.189941Z"
    }
   },
   "source": [
    "import pandas as pd\n",
    "import numpy as np"
   ],
   "outputs": [],
   "execution_count": 1
  },
  {
   "cell_type": "code",
   "metadata": {
    "ExecuteTime": {
     "end_time": "2025-06-19T09:10:52.292908Z",
     "start_time": "2025-06-19T09:10:52.283275Z"
    }
   },
   "source": [
    "idx = pd.Index([10, 20, 30])"
   ],
   "outputs": [],
   "execution_count": 2
  },
  {
   "cell_type": "code",
   "metadata": {
    "ExecuteTime": {
     "end_time": "2025-06-19T09:10:52.344903Z",
     "start_time": "2025-06-19T09:10:52.332375Z"
    }
   },
   "source": "idx",
   "outputs": [
    {
     "data": {
      "text/plain": [
       "Index([10, 20, 30], dtype='int64')"
      ]
     },
     "execution_count": 3,
     "metadata": {},
     "output_type": "execute_result"
    }
   ],
   "execution_count": 3
  },
  {
   "cell_type": "markdown",
   "metadata": {},
   "source": [
    "As you can see, an index has a specific data type - like a NumPy array."
   ]
  },
  {
   "cell_type": "markdown",
   "metadata": {},
   "source": [
    "If we mix data types, Pandas will find a suitable data type broad enough for our elements:"
   ]
  },
  {
   "cell_type": "code",
   "metadata": {
    "ExecuteTime": {
     "end_time": "2025-06-19T09:10:54.066257Z",
     "start_time": "2025-06-19T09:10:54.058307Z"
    }
   },
   "source": [
    "idx = pd.Index([1, 3.14])\n",
    "idx"
   ],
   "outputs": [
    {
     "data": {
      "text/plain": [
       "Index([1.0, 3.14], dtype='float64')"
      ]
     },
     "execution_count": 4,
     "metadata": {},
     "output_type": "execute_result"
    }
   ],
   "execution_count": 4
  },
  {
   "cell_type": "markdown",
   "metadata": {},
   "source": [
    "We can also specify strings for index elements:"
   ]
  },
  {
   "cell_type": "code",
   "metadata": {
    "ExecuteTime": {
     "end_time": "2025-06-19T09:10:56.412355Z",
     "start_time": "2025-06-19T09:10:56.403258Z"
    }
   },
   "source": [
    "idx = pd.Index(['element 1', 'element 2'])\n",
    "idx"
   ],
   "outputs": [
    {
     "data": {
      "text/plain": [
       "Index(['element 1', 'element 2'], dtype='object')"
      ]
     },
     "execution_count": 5,
     "metadata": {},
     "output_type": "execute_result"
    }
   ],
   "execution_count": 5
  },
  {
   "cell_type": "markdown",
   "metadata": {},
   "source": [
    "What's interesting about indexes is that they can behave both like arrays and like sets."
   ]
  },
  {
   "cell_type": "markdown",
   "metadata": {},
   "source": [
    "Let's look at the array-like behaviors first:"
   ]
  },
  {
   "cell_type": "code",
   "metadata": {
    "ExecuteTime": {
     "end_time": "2025-06-19T09:11:53.078708Z",
     "start_time": "2025-06-19T09:11:53.069849Z"
    }
   },
   "source": [
    "idx = pd.Index([2, 4, 6, 8, 10])\n",
    "idx"
   ],
   "outputs": [
    {
     "data": {
      "text/plain": [
       "Index([2, 4, 6, 8, 10], dtype='int64')"
      ]
     },
     "execution_count": 6,
     "metadata": {},
     "output_type": "execute_result"
    }
   ],
   "execution_count": 6
  },
  {
   "cell_type": "code",
   "metadata": {
    "ExecuteTime": {
     "end_time": "2025-06-19T09:11:58.686916Z",
     "start_time": "2025-06-19T09:11:58.679211Z"
    }
   },
   "source": [
    "idx[0]"
   ],
   "outputs": [
    {
     "data": {
      "text/plain": [
       "np.int64(2)"
      ]
     },
     "execution_count": 7,
     "metadata": {},
     "output_type": "execute_result"
    }
   ],
   "execution_count": 7
  },
  {
   "cell_type": "code",
   "metadata": {
    "ExecuteTime": {
     "end_time": "2025-06-19T09:12:02.619942Z",
     "start_time": "2025-06-19T09:12:02.612431Z"
    }
   },
   "source": [
    "idx[1:4]"
   ],
   "outputs": [
    {
     "data": {
      "text/plain": [
       "Index([4, 6, 8], dtype='int64')"
      ]
     },
     "execution_count": 8,
     "metadata": {},
     "output_type": "execute_result"
    }
   ],
   "execution_count": 8
  },
  {
   "cell_type": "code",
   "metadata": {
    "ExecuteTime": {
     "end_time": "2025-06-19T09:12:15.118941Z",
     "start_time": "2025-06-19T09:12:15.111897Z"
    }
   },
   "source": [
    "idx[::-1]"
   ],
   "outputs": [
    {
     "data": {
      "text/plain": [
       "Index([10, 8, 6, 4, 2], dtype='int64')"
      ]
     },
     "execution_count": 9,
     "metadata": {},
     "output_type": "execute_result"
    }
   ],
   "execution_count": 9
  },
  {
   "cell_type": "markdown",
   "metadata": {},
   "source": [
    "We can use fancy indexing (since Index arrays are based on NumPy arrays):"
   ]
  },
  {
   "cell_type": "code",
   "metadata": {
    "ExecuteTime": {
     "end_time": "2025-06-19T09:12:25.088358Z",
     "start_time": "2025-06-19T09:12:25.078833Z"
    }
   },
   "source": [
    "idx[[1, 3, 4]]"
   ],
   "outputs": [
    {
     "data": {
      "text/plain": [
       "Index([4, 8, 10], dtype='int64')"
      ]
     },
     "execution_count": 10,
     "metadata": {},
     "output_type": "execute_result"
    }
   ],
   "execution_count": 10
  },
  {
   "cell_type": "markdown",
   "metadata": {},
   "source": [
    "And we can also use boolean masking, just like with normal NumPy arrays:"
   ]
  },
  {
   "cell_type": "code",
   "metadata": {
    "ExecuteTime": {
     "end_time": "2025-06-19T09:12:32.574938Z",
     "start_time": "2025-06-19T09:12:32.566657Z"
    }
   },
   "source": [
    "idx = pd.Index(['London', 'Paris', 'New York', 'Tokyo'])\n",
    "idx[idx != 'Tokyo']"
   ],
   "outputs": [
    {
     "data": {
      "text/plain": [
       "Index(['London', 'Paris', 'New York'], dtype='object')"
      ]
     },
     "execution_count": 11,
     "metadata": {},
     "output_type": "execute_result"
    }
   ],
   "execution_count": 11
  },
  {
   "cell_type": "markdown",
   "metadata": {},
   "source": [
    "Notice how slicing or fancy indexing returns a new `Index` object, not just a Python list or NumPy array."
   ]
  },
  {
   "cell_type": "markdown",
   "metadata": {},
   "source": [
    "However, an index is **not** mutable:"
   ]
  },
  {
   "cell_type": "code",
   "metadata": {
    "ExecuteTime": {
     "end_time": "2025-06-19T09:13:28.715052Z",
     "start_time": "2025-06-19T09:13:28.706353Z"
    }
   },
   "source": [
    "try:\n",
    "    idx[0] = 100\n",
    "except TypeError as ex:\n",
    "    print('TypeError:', ex)"
   ],
   "outputs": [
    {
     "name": "stdout",
     "output_type": "stream",
     "text": [
      "TypeError: Index does not support mutable operations\n"
     ]
    }
   ],
   "execution_count": 12
  },
  {
   "cell_type": "markdown",
   "metadata": {},
   "source": [
    "Note that the values we have been using inside the square brackets (`[]`) are the **positional indices** of the elements inside the `Index` objects."
   ]
  },
  {
   "cell_type": "markdown",
   "metadata": {},
   "source": [
    "`Index` objects also behave like sets in the sense that we can find the union and intersection of them:"
   ]
  },
  {
   "cell_type": "code",
   "metadata": {
    "ExecuteTime": {
     "end_time": "2025-06-19T09:14:43.811397Z",
     "start_time": "2025-06-19T09:14:43.805477Z"
    }
   },
   "source": [
    "idx_1 = pd.Index(['a', 'b', 'c'])\n",
    "idx_2 = pd.Index(['c', 'd', 'e'])"
   ],
   "outputs": [],
   "execution_count": 13
  },
  {
   "cell_type": "code",
   "metadata": {
    "ExecuteTime": {
     "end_time": "2025-06-19T09:17:16.716745Z",
     "start_time": "2025-06-19T09:17:16.691199Z"
    }
   },
   "source": "idx_1.intersection(idx_2)",
   "outputs": [
    {
     "data": {
      "text/plain": [
       "Index(['c'], dtype='object')"
      ]
     },
     "execution_count": 15,
     "metadata": {},
     "output_type": "execute_result"
    }
   ],
   "execution_count": 15
  },
  {
   "cell_type": "code",
   "metadata": {
    "ExecuteTime": {
     "end_time": "2025-06-19T09:17:40.363041Z",
     "start_time": "2025-06-19T09:17:40.347182Z"
    }
   },
   "source": "idx_1.union(idx_2)",
   "outputs": [
    {
     "data": {
      "text/plain": [
       "Index(['a', 'b', 'c', 'd', 'e'], dtype='object')"
      ]
     },
     "execution_count": 17,
     "metadata": {},
     "output_type": "execute_result"
    }
   ],
   "execution_count": 17
  },
  {
   "cell_type": "markdown",
   "metadata": {},
   "source": [
    "If we have different data types, Pandas will use the broadest data type it needs for the resulting `Index` object:"
   ]
  },
  {
   "cell_type": "code",
   "metadata": {
    "ExecuteTime": {
     "end_time": "2025-06-19T09:18:24.193810Z",
     "start_time": "2025-06-19T09:18:24.185300Z"
    }
   },
   "source": "pd.Index([1, 2, 3]).union(pd.Index([0.1, 0.2]))",
   "outputs": [
    {
     "data": {
      "text/plain": [
       "Index([0.1, 0.2, 1.0, 2.0, 3.0], dtype='float64')"
      ]
     },
     "execution_count": 19,
     "metadata": {},
     "output_type": "execute_result"
    }
   ],
   "execution_count": 19
  },
  {
   "cell_type": "markdown",
   "metadata": {},
   "source": [
    "Pandas also implements many different types of more specialized indexes, such as \n",
    "- `RangeIndex`\n",
    "- `Int64Index`\n",
    "- `Float64Index`\n",
    "- and many others...\n",
    "\n"
   ]
  },
  {
   "cell_type": "markdown",
   "metadata": {},
   "source": [
    "We've alread seen `Int64Index` and `Float64Index`:"
   ]
  },
  {
   "cell_type": "code",
   "metadata": {
    "ExecuteTime": {
     "end_time": "2025-06-19T09:18:51.607926Z",
     "start_time": "2025-06-19T09:18:51.599764Z"
    }
   },
   "source": [
    "pd.Index([1, 2, 3])"
   ],
   "outputs": [
    {
     "data": {
      "text/plain": [
       "Index([1, 2, 3], dtype='int64')"
      ]
     },
     "execution_count": 20,
     "metadata": {},
     "output_type": "execute_result"
    }
   ],
   "execution_count": 20
  },
  {
   "cell_type": "code",
   "metadata": {
    "ExecuteTime": {
     "end_time": "2025-06-19T09:18:52.875871Z",
     "start_time": "2025-06-19T09:18:52.867834Z"
    }
   },
   "source": [
    "pd.Index([0.1, 0.2])"
   ],
   "outputs": [
    {
     "data": {
      "text/plain": [
       "Index([0.1, 0.2], dtype='float64')"
      ]
     },
     "execution_count": 21,
     "metadata": {},
     "output_type": "execute_result"
    }
   ],
   "execution_count": 21
  },
  {
   "cell_type": "markdown",
   "metadata": {},
   "source": [
    "A range index is easily created using these two approaches:"
   ]
  },
  {
   "cell_type": "markdown",
   "metadata": {},
   "source": [
    "Via a Python `range` object:"
   ]
  },
  {
   "cell_type": "code",
   "metadata": {
    "ExecuteTime": {
     "end_time": "2025-06-19T09:19:12.864257Z",
     "start_time": "2025-06-19T09:19:12.857025Z"
    }
   },
   "source": [
    "pd.Index(range(2, 10, 2))"
   ],
   "outputs": [
    {
     "data": {
      "text/plain": [
       "RangeIndex(start=2, stop=10, step=2)"
      ]
     },
     "execution_count": 22,
     "metadata": {},
     "output_type": "execute_result"
    }
   ],
   "execution_count": 22
  },
  {
   "cell_type": "markdown",
   "metadata": {},
   "source": [
    "Or directly in Pandas:"
   ]
  },
  {
   "cell_type": "code",
   "metadata": {
    "ExecuteTime": {
     "end_time": "2025-06-19T09:20:08.685842Z",
     "start_time": "2025-06-19T09:20:08.677903Z"
    }
   },
   "source": [
    "pd.RangeIndex(2, 10, 2)"
   ],
   "outputs": [
    {
     "data": {
      "text/plain": [
       "RangeIndex(start=2, stop=10, step=2)"
      ]
     },
     "execution_count": 23,
     "metadata": {},
     "output_type": "execute_result"
    }
   ],
   "execution_count": 23
  },
  {
   "cell_type": "markdown",
   "metadata": {},
   "source": [
    "We can still reference elements within that Index like we saw before:"
   ]
  },
  {
   "cell_type": "code",
   "metadata": {
    "ExecuteTime": {
     "end_time": "2025-06-19T09:20:17.596973Z",
     "start_time": "2025-06-19T09:20:17.590649Z"
    }
   },
   "source": [
    "idx = pd.RangeIndex(2, 10, 2)\n",
    "idx"
   ],
   "outputs": [
    {
     "data": {
      "text/plain": [
       "RangeIndex(start=2, stop=10, step=2)"
      ]
     },
     "execution_count": 24,
     "metadata": {},
     "output_type": "execute_result"
    }
   ],
   "execution_count": 24
  },
  {
   "cell_type": "code",
   "metadata": {
    "ExecuteTime": {
     "end_time": "2025-06-19T09:20:20.845873Z",
     "start_time": "2025-06-19T09:20:20.839106Z"
    }
   },
   "source": [
    "idx[0]"
   ],
   "outputs": [
    {
     "data": {
      "text/plain": [
       "2"
      ]
     },
     "execution_count": 25,
     "metadata": {},
     "output_type": "execute_result"
    }
   ],
   "execution_count": 25
  },
  {
   "cell_type": "code",
   "metadata": {
    "ExecuteTime": {
     "end_time": "2025-06-19T09:20:22.618576Z",
     "start_time": "2025-06-19T09:20:22.608725Z"
    }
   },
   "source": [
    "idx[1:4]"
   ],
   "outputs": [
    {
     "data": {
      "text/plain": [
       "RangeIndex(start=4, stop=10, step=2)"
      ]
     },
     "execution_count": 26,
     "metadata": {},
     "output_type": "execute_result"
    }
   ],
   "execution_count": 26
  },
  {
   "cell_type": "code",
   "metadata": {
    "ExecuteTime": {
     "end_time": "2025-06-19T09:20:25.827611Z",
     "start_time": "2025-06-19T09:20:25.820748Z"
    }
   },
   "source": [
    "idx[::-1]"
   ],
   "outputs": [
    {
     "data": {
      "text/plain": [
       "RangeIndex(start=8, stop=0, step=-2)"
      ]
     },
     "execution_count": 27,
     "metadata": {},
     "output_type": "execute_result"
    }
   ],
   "execution_count": 27
  },
  {
   "cell_type": "markdown",
   "metadata": {},
   "source": [
    "You'll notice that for slices, Pandas is smart about the result - it does not generate an entire list of values - instead if just created another range index. This means that a RangeIndex can be a lot more efficient in terms of storage, and sometimes computation speed than a regular index with the same explicit values."
   ]
  },
  {
   "cell_type": "markdown",
   "metadata": {},
   "source": [
    "It even is able to handle unions and intersections in the same way:"
   ]
  },
  {
   "cell_type": "code",
   "metadata": {
    "ExecuteTime": {
     "end_time": "2025-06-19T09:21:05.977685Z",
     "start_time": "2025-06-19T09:21:05.969177Z"
    }
   },
   "source": [
    "idx_1 = pd.RangeIndex(0, 5)\n",
    "list(idx_1)"
   ],
   "outputs": [
    {
     "data": {
      "text/plain": [
       "[0, 1, 2, 3, 4]"
      ]
     },
     "execution_count": 28,
     "metadata": {},
     "output_type": "execute_result"
    }
   ],
   "execution_count": 28
  },
  {
   "cell_type": "code",
   "metadata": {
    "ExecuteTime": {
     "end_time": "2025-06-19T09:21:34.587681Z",
     "start_time": "2025-06-19T09:21:34.578661Z"
    }
   },
   "source": [
    "idx_2 = pd.RangeIndex(4, 8)\n",
    "list(idx_2)"
   ],
   "outputs": [
    {
     "data": {
      "text/plain": [
       "[4, 5, 6, 7]"
      ]
     },
     "execution_count": 29,
     "metadata": {},
     "output_type": "execute_result"
    }
   ],
   "execution_count": 29
  },
  {
   "cell_type": "code",
   "metadata": {
    "ExecuteTime": {
     "end_time": "2025-06-19T09:22:04.647424Z",
     "start_time": "2025-06-19T09:22:04.638463Z"
    }
   },
   "source": "idx_1.intersection(idx_2)",
   "outputs": [
    {
     "data": {
      "text/plain": [
       "RangeIndex(start=4, stop=5, step=1)"
      ]
     },
     "execution_count": 31,
     "metadata": {},
     "output_type": "execute_result"
    }
   ],
   "execution_count": 31
  },
  {
   "cell_type": "code",
   "metadata": {
    "ExecuteTime": {
     "end_time": "2025-06-19T09:22:38.518589Z",
     "start_time": "2025-06-19T09:22:38.511468Z"
    }
   },
   "source": "list(idx_1.intersection(idx_2))",
   "outputs": [
    {
     "data": {
      "text/plain": [
       "[4]"
      ]
     },
     "execution_count": 34,
     "metadata": {},
     "output_type": "execute_result"
    }
   ],
   "execution_count": 34
  },
  {
   "cell_type": "code",
   "metadata": {
    "ExecuteTime": {
     "end_time": "2025-06-19T09:22:48.656530Z",
     "start_time": "2025-06-19T09:22:48.650824Z"
    }
   },
   "source": "idx_1.union(idx_2)",
   "outputs": [
    {
     "data": {
      "text/plain": [
       "RangeIndex(start=0, stop=8, step=1)"
      ]
     },
     "execution_count": 35,
     "metadata": {},
     "output_type": "execute_result"
    }
   ],
   "execution_count": 35
  },
  {
   "cell_type": "code",
   "metadata": {
    "ExecuteTime": {
     "end_time": "2025-06-19T09:23:00.515261Z",
     "start_time": "2025-06-19T09:23:00.506542Z"
    }
   },
   "source": "list(idx_1.union(idx_2))",
   "outputs": [
    {
     "data": {
      "text/plain": [
       "[0, 1, 2, 3, 4, 5, 6, 7]"
      ]
     },
     "execution_count": 36,
     "metadata": {},
     "output_type": "execute_result"
    }
   ],
   "execution_count": 36
  },
  {
   "cell_type": "markdown",
   "metadata": {},
   "source": [
    "Not all unions and intersections of ranges can be expressed as a new range, so sometimes we end up with a regular index, not a range index:"
   ]
  },
  {
   "cell_type": "code",
   "metadata": {
    "ExecuteTime": {
     "end_time": "2025-06-19T09:23:13.801461Z",
     "start_time": "2025-06-19T09:23:13.791953Z"
    }
   },
   "source": "pd.RangeIndex(1, 10, 2).union(pd.RangeIndex(1, 10, 3))",
   "outputs": [
    {
     "data": {
      "text/plain": [
       "Index([1, 3, 4, 5, 7, 9], dtype='int64')"
      ]
     },
     "execution_count": 37,
     "metadata": {},
     "output_type": "execute_result"
    }
   ],
   "execution_count": 37
  },
  {
   "cell_type": "markdown",
   "metadata": {},
   "source": [
    "We can use `in` for containment testing for indexes in general:"
   ]
  },
  {
   "cell_type": "code",
   "metadata": {
    "ExecuteTime": {
     "end_time": "2025-06-19T09:23:32.461228Z",
     "start_time": "2025-06-19T09:23:32.454487Z"
    }
   },
   "source": [
    "idx_1 = pd.Index(['a', 'b', 'c'])\n",
    "idx_2 = pd.RangeIndex(0, 10, 2)"
   ],
   "outputs": [],
   "execution_count": 38
  },
  {
   "cell_type": "code",
   "metadata": {
    "ExecuteTime": {
     "end_time": "2025-06-19T09:23:36.261628Z",
     "start_time": "2025-06-19T09:23:36.254213Z"
    }
   },
   "source": [
    "'b' in idx_1"
   ],
   "outputs": [
    {
     "data": {
      "text/plain": [
       "True"
      ]
     },
     "execution_count": 39,
     "metadata": {},
     "output_type": "execute_result"
    }
   ],
   "execution_count": 39
  },
  {
   "cell_type": "code",
   "metadata": {
    "ExecuteTime": {
     "end_time": "2025-06-19T09:23:47.707495Z",
     "start_time": "2025-06-19T09:23:47.700010Z"
    }
   },
   "source": [
    "6 in idx_2"
   ],
   "outputs": [
    {
     "data": {
      "text/plain": [
       "True"
      ]
     },
     "execution_count": 40,
     "metadata": {},
     "output_type": "execute_result"
    }
   ],
   "execution_count": 40
  },
  {
   "cell_type": "code",
   "metadata": {
    "ExecuteTime": {
     "end_time": "2025-06-19T09:23:52.489481Z",
     "start_time": "2025-06-19T09:23:52.480894Z"
    }
   },
   "source": [
    "'x' in idx_1"
   ],
   "outputs": [
    {
     "data": {
      "text/plain": [
       "False"
      ]
     },
     "execution_count": 41,
     "metadata": {},
     "output_type": "execute_result"
    }
   ],
   "execution_count": 41
  },
  {
   "cell_type": "code",
   "metadata": {
    "ExecuteTime": {
     "end_time": "2025-06-19T09:23:53.894413Z",
     "start_time": "2025-06-19T09:23:53.886555Z"
    }
   },
   "source": [
    "1 in idx_2"
   ],
   "outputs": [
    {
     "data": {
      "text/plain": [
       "False"
      ]
     },
     "execution_count": 42,
     "metadata": {},
     "output_type": "execute_result"
    }
   ],
   "execution_count": 42
  },
  {
   "cell_type": "markdown",
   "metadata": {},
   "source": [
    "One last thing to note is that index values do not have to be unique:"
   ]
  },
  {
   "cell_type": "code",
   "metadata": {
    "ExecuteTime": {
     "end_time": "2025-06-19T09:25:04.894518Z",
     "start_time": "2025-06-19T09:25:04.885281Z"
    }
   },
   "source": [
    "idx = pd.Index([1, 1, 2, 2, 3, 3])\n",
    "idx"
   ],
   "outputs": [
    {
     "data": {
      "text/plain": [
       "Index([1, 1, 2, 2, 3, 3], dtype='int64')"
      ]
     },
     "execution_count": 43,
     "metadata": {},
     "output_type": "execute_result"
    }
   ],
   "execution_count": 43
  }
 ],
 "metadata": {
  "kernelspec": {
   "display_name": "Python 3",
   "language": "python",
   "name": "python3"
  },
  "language_info": {
   "codemirror_mode": {
    "name": "ipython",
    "version": 3
   },
   "file_extension": ".py",
   "mimetype": "text/x-python",
   "name": "python",
   "nbconvert_exporter": "python",
   "pygments_lexer": "ipython3",
   "version": "3.9.1"
  }
 },
 "nbformat": 4,
 "nbformat_minor": 4
}
