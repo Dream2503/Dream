{
 "cells": [
  {
   "cell_type": "markdown",
   "metadata": {},
   "source": [
    "### Series"
   ]
  },
  {
   "cell_type": "markdown",
   "metadata": {},
   "source": [
    "The Pandas `Series` is basically a 1-dimensional array with an explicit index."
   ]
  },
  {
   "cell_type": "markdown",
   "metadata": {},
   "source": [
    "As well as this index, an implicit index, based on position exists as well (so just like a Python list or NumPy array)."
   ]
  },
  {
   "cell_type": "markdown",
   "metadata": {},
   "source": [
    "We can create a series object using Python lists to define both the index and the values (think associative arrays!):"
   ]
  },
  {
   "cell_type": "code",
   "metadata": {
    "ExecuteTime": {
     "end_time": "2025-06-19T09:41:06.489403Z",
     "start_time": "2025-06-19T09:41:05.612076Z"
    }
   },
   "source": [
    "import pandas as pd\n",
    "import numpy as np"
   ],
   "outputs": [],
   "execution_count": 1
  },
  {
   "cell_type": "code",
   "metadata": {
    "ExecuteTime": {
     "end_time": "2025-06-19T09:41:07.352202Z",
     "start_time": "2025-06-19T09:41:07.335508Z"
    }
   },
   "source": [
    "s = pd.Series([10, 20, 30], index=['a', 'b', 'c'])"
   ],
   "outputs": [],
   "execution_count": 2
  },
  {
   "cell_type": "code",
   "metadata": {
    "ExecuteTime": {
     "end_time": "2025-06-19T09:41:29.338763Z",
     "start_time": "2025-06-19T09:41:29.318944Z"
    }
   },
   "source": [
    "s"
   ],
   "outputs": [
    {
     "data": {
      "text/plain": [
       "a    10\n",
       "b    20\n",
       "c    30\n",
       "dtype: int64"
      ]
     },
     "execution_count": 3,
     "metadata": {},
     "output_type": "execute_result"
    }
   ],
   "execution_count": 3
  },
  {
   "cell_type": "markdown",
   "metadata": {},
   "source": [
    "As you can see from the display above, we have both the index and the values (and the values are in an int64 data type)."
   ]
  },
  {
   "cell_type": "markdown",
   "metadata": {},
   "source": [
    "We can now reference items using the explicit index:"
   ]
  },
  {
   "cell_type": "code",
   "metadata": {
    "ExecuteTime": {
     "end_time": "2025-06-19T09:41:45.094299Z",
     "start_time": "2025-06-19T09:41:45.086190Z"
    }
   },
   "source": [
    "s['a']"
   ],
   "outputs": [
    {
     "data": {
      "text/plain": [
       "np.int64(10)"
      ]
     },
     "execution_count": 4,
     "metadata": {},
     "output_type": "execute_result"
    }
   ],
   "execution_count": 4
  },
  {
   "cell_type": "code",
   "metadata": {
    "ExecuteTime": {
     "end_time": "2025-06-19T09:41:52.761453Z",
     "start_time": "2025-06-19T09:41:52.751934Z"
    }
   },
   "source": [
    "s['c'] = 1000\n",
    "s"
   ],
   "outputs": [
    {
     "data": {
      "text/plain": [
       "a      10\n",
       "b      20\n",
       "c    1000\n",
       "dtype: int64"
      ]
     },
     "execution_count": 5,
     "metadata": {},
     "output_type": "execute_result"
    }
   ],
   "execution_count": 5
  },
  {
   "cell_type": "markdown",
   "metadata": {},
   "source": [
    "If you find this similar to Python dictionaries, you're quite right. Python dictionaries are one implementation of associative arrays, and the Pandas `Series` is another implementation."
   ]
  },
  {
   "cell_type": "markdown",
   "metadata": {},
   "source": [
    "We can add more elements to the `Series` objects just like we would with a Python `dict`, we simply assign to a new index value:"
   ]
  },
  {
   "cell_type": "code",
   "metadata": {
    "ExecuteTime": {
     "end_time": "2025-06-19T09:42:13.130913Z",
     "start_time": "2025-06-19T09:42:13.110178Z"
    }
   },
   "source": [
    "s['d'] = 500\n",
    "s"
   ],
   "outputs": [
    {
     "data": {
      "text/plain": [
       "a      10\n",
       "b      20\n",
       "c    1000\n",
       "d     500\n",
       "dtype: int64"
      ]
     },
     "execution_count": 6,
     "metadata": {},
     "output_type": "execute_result"
    }
   ],
   "execution_count": 6
  },
  {
   "cell_type": "markdown",
   "metadata": {},
   "source": [
    "In fact, we can create a `Series` instance by using a plain Python `dict`:"
   ]
  },
  {
   "cell_type": "code",
   "metadata": {
    "ExecuteTime": {
     "end_time": "2025-06-19T09:42:18.886095Z",
     "start_time": "2025-06-19T09:42:18.877045Z"
    }
   },
   "source": [
    "capitals = {\n",
    "    'USA': 'Washington D.C.',\n",
    "    'Canada': 'Ottawa',\n",
    "    'UK': 'London',\n",
    "    'France': 'Paris'\n",
    "}\n",
    "s = pd.Series(capitals)\n",
    "s"
   ],
   "outputs": [
    {
     "data": {
      "text/plain": [
       "USA       Washington D.C.\n",
       "Canada             Ottawa\n",
       "UK                 London\n",
       "France              Paris\n",
       "dtype: object"
      ]
     },
     "execution_count": 7,
     "metadata": {},
     "output_type": "execute_result"
    }
   ],
   "execution_count": 7
  },
  {
   "cell_type": "markdown",
   "metadata": {},
   "source": [
    "As you can see, the keys of the dictionary became the indices, and the values in the dictionary became the values in the series."
   ]
  },
  {
   "cell_type": "markdown",
   "metadata": {},
   "source": [
    "We can get the index object from a series by using the `index` property:"
   ]
  },
  {
   "cell_type": "code",
   "metadata": {
    "ExecuteTime": {
     "end_time": "2025-06-19T09:42:53.005160Z",
     "start_time": "2025-06-19T09:42:52.996524Z"
    }
   },
   "source": [
    "s.index"
   ],
   "outputs": [
    {
     "data": {
      "text/plain": [
       "Index(['USA', 'Canada', 'UK', 'France'], dtype='object')"
      ]
     },
     "execution_count": 8,
     "metadata": {},
     "output_type": "execute_result"
    }
   ],
   "execution_count": 8
  },
  {
   "cell_type": "markdown",
   "metadata": {},
   "source": [
    "And the values:"
   ]
  },
  {
   "cell_type": "code",
   "metadata": {
    "ExecuteTime": {
     "end_time": "2025-06-19T09:43:30.548481Z",
     "start_time": "2025-06-19T09:43:30.541227Z"
    }
   },
   "source": [
    "s.values"
   ],
   "outputs": [
    {
     "data": {
      "text/plain": [
       "array(['Washington D.C.', 'Ottawa', 'London', 'Paris'], dtype=object)"
      ]
     },
     "execution_count": 9,
     "metadata": {},
     "output_type": "execute_result"
    }
   ],
   "execution_count": 9
  },
  {
   "cell_type": "markdown",
   "metadata": {},
   "source": [
    "These values are actually a plain NumPy array (no special index attached, other than the positional index):"
   ]
  },
  {
   "cell_type": "code",
   "metadata": {
    "ExecuteTime": {
     "end_time": "2025-06-19T09:44:19.544627Z",
     "start_time": "2025-06-19T09:44:19.537523Z"
    }
   },
   "source": [
    "type(s.values)"
   ],
   "outputs": [
    {
     "data": {
      "text/plain": [
       "numpy.ndarray"
      ]
     },
     "execution_count": 10,
     "metadata": {},
     "output_type": "execute_result"
    }
   ],
   "execution_count": 10
  },
  {
   "cell_type": "markdown",
   "metadata": {},
   "source": [
    "We can even get the key/value pairs by using `items()`:"
   ]
  },
  {
   "cell_type": "code",
   "metadata": {
    "ExecuteTime": {
     "end_time": "2025-06-19T09:44:21.283693Z",
     "start_time": "2025-06-19T09:44:21.277395Z"
    }
   },
   "source": [
    "s.items()"
   ],
   "outputs": [
    {
     "data": {
      "text/plain": [
       "<zip at 0x2c4224e46c0>"
      ]
     },
     "execution_count": 11,
     "metadata": {},
     "output_type": "execute_result"
    }
   ],
   "execution_count": 11
  },
  {
   "cell_type": "markdown",
   "metadata": {},
   "source": [
    "This is a generator object, so we need to iterate through it to get at the actual values:"
   ]
  },
  {
   "cell_type": "code",
   "metadata": {
    "ExecuteTime": {
     "end_time": "2025-06-19T09:44:24.959896Z",
     "start_time": "2025-06-19T09:44:24.952796Z"
    }
   },
   "source": [
    "list(s.items())"
   ],
   "outputs": [
    {
     "data": {
      "text/plain": [
       "[('USA', 'Washington D.C.'),\n",
       " ('Canada', 'Ottawa'),\n",
       " ('UK', 'London'),\n",
       " ('France', 'Paris')]"
      ]
     },
     "execution_count": 12,
     "metadata": {},
     "output_type": "execute_result"
    }
   ],
   "execution_count": 12
  },
  {
   "cell_type": "markdown",
   "metadata": {},
   "source": [
    "Unlike a Python dict however, the index of a `Series` can contain repeated elements:"
   ]
  },
  {
   "cell_type": "code",
   "metadata": {
    "ExecuteTime": {
     "end_time": "2025-06-19T09:44:34.017728Z",
     "start_time": "2025-06-19T09:44:34.011256Z"
    }
   },
   "source": [
    "areas = pd.Series(\n",
    "    ['USA', 'Topeka', 'France', 'Lyon', 'UK', 'Glasgow'],\n",
    "    index=['country', 'city', 'country', 'city', 'country', 'city']\n",
    ")"
   ],
   "outputs": [],
   "execution_count": 13
  },
  {
   "cell_type": "code",
   "metadata": {
    "ExecuteTime": {
     "end_time": "2025-06-19T09:44:39.160589Z",
     "start_time": "2025-06-19T09:44:39.140718Z"
    }
   },
   "source": [
    "areas"
   ],
   "outputs": [
    {
     "data": {
      "text/plain": [
       "country        USA\n",
       "city        Topeka\n",
       "country     France\n",
       "city          Lyon\n",
       "country         UK\n",
       "city       Glasgow\n",
       "dtype: object"
      ]
     },
     "execution_count": 14,
     "metadata": {},
     "output_type": "execute_result"
    }
   ],
   "execution_count": 14
  },
  {
   "cell_type": "markdown",
   "metadata": {},
   "source": [
    "As you can see our index contains repeated elements, unlike a Python dictionary."
   ]
  },
  {
   "cell_type": "markdown",
   "metadata": {},
   "source": [
    "The way this works when we select an item by index value is that any items matching the index value are returned:"
   ]
  },
  {
   "cell_type": "code",
   "metadata": {
    "ExecuteTime": {
     "end_time": "2025-06-19T09:44:57.701436Z",
     "start_time": "2025-06-19T09:44:57.682640Z"
    }
   },
   "source": [
    "areas['city']"
   ],
   "outputs": [
    {
     "data": {
      "text/plain": [
       "city     Topeka\n",
       "city       Lyon\n",
       "city    Glasgow\n",
       "dtype: object"
      ]
     },
     "execution_count": 15,
     "metadata": {},
     "output_type": "execute_result"
    }
   ],
   "execution_count": 15
  },
  {
   "cell_type": "markdown",
   "metadata": {},
   "source": [
    "Notice how a `Series` object was returned."
   ]
  },
  {
   "cell_type": "markdown",
   "metadata": {},
   "source": [
    "So how do we change the value for a single item?\n",
    "\n",
    "If we try to do an assignment:"
   ]
  },
  {
   "cell_type": "code",
   "metadata": {
    "ExecuteTime": {
     "end_time": "2025-06-19T09:45:09.420576Z",
     "start_time": "2025-06-19T09:45:09.413903Z"
    }
   },
   "source": [
    "areas['city'] = 'London'"
   ],
   "outputs": [],
   "execution_count": 16
  },
  {
   "cell_type": "code",
   "metadata": {
    "ExecuteTime": {
     "end_time": "2025-06-19T09:45:30.682230Z",
     "start_time": "2025-06-19T09:45:30.673725Z"
    }
   },
   "source": [
    "areas"
   ],
   "outputs": [
    {
     "data": {
      "text/plain": [
       "country       USA\n",
       "city       London\n",
       "country    France\n",
       "city       London\n",
       "country        UK\n",
       "city       London\n",
       "dtype: object"
      ]
     },
     "execution_count": 17,
     "metadata": {},
     "output_type": "execute_result"
    }
   ],
   "execution_count": 17
  },
  {
   "cell_type": "markdown",
   "metadata": {},
   "source": [
    "Well now, that's maybe not what we wanted! :-)"
   ]
  },
  {
   "cell_type": "code",
   "metadata": {
    "ExecuteTime": {
     "end_time": "2025-06-19T09:45:48.191472Z",
     "start_time": "2025-06-19T09:45:48.185849Z"
    }
   },
   "source": [
    "areas = pd.Series(\n",
    "    ['USA', 'Topeka', 'France', 'Lyon', 'UK', 'Glasgow'],\n",
    "    index=['country', 'city', 'country', 'city', 'country', 'city']\n",
    ")"
   ],
   "outputs": [],
   "execution_count": 18
  },
  {
   "cell_type": "markdown",
   "metadata": {},
   "source": [
    "Remember I mentioned there was an implicit positional index? Basically integers for the positions `0`, `1`, etc?"
   ]
  },
  {
   "cell_type": "markdown",
   "metadata": {},
   "source": [
    "Turns out we can use those numerical (integer) indices to reference elements in the series as well:"
   ]
  },
  {
   "cell_type": "code",
   "metadata": {
    "ExecuteTime": {
     "end_time": "2025-06-19T09:46:03.556569Z",
     "start_time": "2025-06-19T09:46:03.546611Z"
    }
   },
   "source": [
    "areas[5]"
   ],
   "outputs": [
    {
     "name": "stderr",
     "output_type": "stream",
     "text": [
      "C:\\Users\\swapn\\AppData\\Local\\Temp\\ipykernel_34396\\1533094549.py:1: FutureWarning: Series.__getitem__ treating keys as positions is deprecated. In a future version, integer keys will always be treated as labels (consistent with DataFrame behavior). To access a value by position, use `ser.iloc[pos]`\n",
      "  areas[5]\n"
     ]
    },
    {
     "data": {
      "text/plain": [
       "'Glasgow'"
      ]
     },
     "execution_count": 19,
     "metadata": {},
     "output_type": "execute_result"
    }
   ],
   "execution_count": 19
  },
  {
   "cell_type": "code",
   "metadata": {
    "ExecuteTime": {
     "end_time": "2025-06-19T09:46:16.234009Z",
     "start_time": "2025-06-19T09:46:16.216128Z"
    }
   },
   "source": [
    "areas[2:]"
   ],
   "outputs": [
    {
     "data": {
      "text/plain": [
       "country     France\n",
       "city          Lyon\n",
       "country         UK\n",
       "city       Glasgow\n",
       "dtype: object"
      ]
     },
     "execution_count": 20,
     "metadata": {},
     "output_type": "execute_result"
    }
   ],
   "execution_count": 20
  },
  {
   "cell_type": "markdown",
   "metadata": {},
   "source": [
    "So we could modify an individual element using a positional index:"
   ]
  },
  {
   "cell_type": "code",
   "metadata": {
    "ExecuteTime": {
     "end_time": "2025-06-19T09:46:30.014030Z",
     "start_time": "2025-06-19T09:46:30.005703Z"
    }
   },
   "source": [
    "areas[5] = 'London'\n",
    "areas"
   ],
   "outputs": [
    {
     "name": "stderr",
     "output_type": "stream",
     "text": [
      "C:\\Users\\swapn\\AppData\\Local\\Temp\\ipykernel_34396\\552687007.py:1: FutureWarning: Series.__setitem__ treating keys as positions is deprecated. In a future version, integer keys will always be treated as labels (consistent with DataFrame behavior). To set a value by position, use `ser.iloc[pos] = value`\n",
      "  areas[5] = 'London'\n"
     ]
    },
    {
     "data": {
      "text/plain": [
       "country       USA\n",
       "city       Topeka\n",
       "country    France\n",
       "city         Lyon\n",
       "country        UK\n",
       "city       London\n",
       "dtype: object"
      ]
     },
     "execution_count": 21,
     "metadata": {},
     "output_type": "execute_result"
    }
   ],
   "execution_count": 21
  },
  {
   "cell_type": "markdown",
   "metadata": {},
   "source": [
    "What's interesting about the explicit index is that it can be used in slicing and fancy indexing too:"
   ]
  },
  {
   "cell_type": "code",
   "metadata": {
    "ExecuteTime": {
     "end_time": "2025-06-19T09:47:23.673392Z",
     "start_time": "2025-06-19T09:47:23.664378Z"
    }
   },
   "source": [
    "s = pd.Series([10, 20, 30, 40, 50], index=list('abcde'))\n",
    "s"
   ],
   "outputs": [
    {
     "data": {
      "text/plain": [
       "a    10\n",
       "b    20\n",
       "c    30\n",
       "d    40\n",
       "e    50\n",
       "dtype: int64"
      ]
     },
     "execution_count": 22,
     "metadata": {},
     "output_type": "execute_result"
    }
   ],
   "execution_count": 22
  },
  {
   "cell_type": "code",
   "metadata": {
    "ExecuteTime": {
     "end_time": "2025-06-19T09:47:26.725257Z",
     "start_time": "2025-06-19T09:47:26.714730Z"
    }
   },
   "source": [
    "s['a':'d']"
   ],
   "outputs": [
    {
     "data": {
      "text/plain": [
       "a    10\n",
       "b    20\n",
       "c    30\n",
       "d    40\n",
       "dtype: int64"
      ]
     },
     "execution_count": 23,
     "metadata": {},
     "output_type": "execute_result"
    }
   ],
   "execution_count": 23
  },
  {
   "cell_type": "code",
   "metadata": {
    "ExecuteTime": {
     "end_time": "2025-06-19T09:47:41.690967Z",
     "start_time": "2025-06-19T09:47:41.672717Z"
    }
   },
   "source": [
    "s[['a', 'c', 'd']]"
   ],
   "outputs": [
    {
     "data": {
      "text/plain": [
       "a    10\n",
       "c    30\n",
       "d    40\n",
       "dtype: int64"
      ]
     },
     "execution_count": 24,
     "metadata": {},
     "output_type": "execute_result"
    }
   ],
   "execution_count": 24
  },
  {
   "cell_type": "markdown",
   "metadata": {},
   "source": [
    "One thing that is very important to note is that when using a custom index, the slice **includes** the endpoint."
   ]
  },
  {
   "cell_type": "markdown",
   "metadata": {},
   "source": [
    "Why does Pandas do this?"
   ]
  },
  {
   "cell_type": "markdown",
   "metadata": {},
   "source": [
    "Primarily because when we deal with labels, instead of positions, trying to slice a series would require knowledge of the \"next\" label - it is usually easier to deal with end inclusive ranges since we already know the start/end labels we want to use, and finding the \"next\" one could be tricky."
   ]
  },
  {
   "cell_type": "markdown",
   "metadata": {},
   "source": [
    "So far we have been using `[]` for both the custom index and the positional index:"
   ]
  },
  {
   "cell_type": "code",
   "metadata": {
    "ExecuteTime": {
     "end_time": "2025-06-19T09:48:39.459175Z",
     "start_time": "2025-06-19T09:48:39.450155Z"
    }
   },
   "source": [
    "s['a'], s[0]"
   ],
   "outputs": [
    {
     "name": "stderr",
     "output_type": "stream",
     "text": [
      "C:\\Users\\swapn\\AppData\\Local\\Temp\\ipykernel_34396\\3454039145.py:1: FutureWarning: Series.__getitem__ treating keys as positions is deprecated. In a future version, integer keys will always be treated as labels (consistent with DataFrame behavior). To access a value by position, use `ser.iloc[pos]`\n",
      "  s['a'], s[0]\n"
     ]
    },
    {
     "data": {
      "text/plain": [
       "(np.int64(10), np.int64(10))"
      ]
     },
     "execution_count": 25,
     "metadata": {},
     "output_type": "execute_result"
    }
   ],
   "execution_count": 25
  },
  {
   "cell_type": "markdown",
   "metadata": {},
   "source": [
    "How does Pandas know which index we mean? Well in this case it's pretty simple, the custom index consists of strings, and the positional index consists of integers. So when Pandas sees `s['a']` it knows this is the custom index, but when it sees `s[0]`, since the custom index is strings, it correctly interprets it as the positional index."
   ]
  },
  {
   "cell_type": "markdown",
   "metadata": {},
   "source": [
    "So, what happens if custom index also consists of integers?"
   ]
  },
  {
   "cell_type": "code",
   "metadata": {
    "ExecuteTime": {
     "end_time": "2025-06-19T09:49:33.515161Z",
     "start_time": "2025-06-19T09:49:33.505871Z"
    }
   },
   "source": [
    "s = pd.Series([100, 200, 300], index=[10, 20, 30])\n",
    "s"
   ],
   "outputs": [
    {
     "data": {
      "text/plain": [
       "10    100\n",
       "20    200\n",
       "30    300\n",
       "dtype: int64"
      ]
     },
     "execution_count": 26,
     "metadata": {},
     "output_type": "execute_result"
    }
   ],
   "execution_count": 26
  },
  {
   "cell_type": "code",
   "metadata": {
    "ExecuteTime": {
     "end_time": "2025-06-19T09:49:47.241490Z",
     "start_time": "2025-06-19T09:49:47.225777Z"
    }
   },
   "source": [
    "s[10]"
   ],
   "outputs": [
    {
     "data": {
      "text/plain": [
       "np.int64(100)"
      ]
     },
     "execution_count": 27,
     "metadata": {},
     "output_type": "execute_result"
    }
   ],
   "execution_count": 27
  },
  {
   "cell_type": "markdown",
   "metadata": {},
   "source": [
    "As you can see, in this case Pandas will use the explicit index, which means we can no longer use the positional index:"
   ]
  },
  {
   "cell_type": "code",
   "metadata": {
    "ExecuteTime": {
     "end_time": "2025-06-19T09:50:01.942706Z",
     "start_time": "2025-06-19T09:50:01.936679Z"
    }
   },
   "source": [
    "try:\n",
    "    s[0]\n",
    "except KeyError as ex:\n",
    "    print('KeyError: ', ex)"
   ],
   "outputs": [
    {
     "name": "stdout",
     "output_type": "stream",
     "text": [
      "KeyError:  0\n"
     ]
    }
   ],
   "execution_count": 28
  },
  {
   "cell_type": "markdown",
   "metadata": {},
   "source": [
    "But it gets more confusing than that, if we try to slice, Pandas will actually use the implicit index, not the custom index:"
   ]
  },
  {
   "cell_type": "code",
   "metadata": {
    "ExecuteTime": {
     "end_time": "2025-06-19T09:50:42.295546Z",
     "start_time": "2025-06-19T09:50:42.287675Z"
    }
   },
   "source": [
    "s[0:3]"
   ],
   "outputs": [
    {
     "data": {
      "text/plain": [
       "10    100\n",
       "20    200\n",
       "30    300\n",
       "dtype: int64"
      ]
     },
     "execution_count": 29,
     "metadata": {},
     "output_type": "execute_result"
    }
   ],
   "execution_count": 29
  },
  {
   "cell_type": "markdown",
   "metadata": {},
   "source": [
    "On the other hand, fancy indexing will use the custom (explicit) index:"
   ]
  },
  {
   "cell_type": "code",
   "metadata": {
    "ExecuteTime": {
     "end_time": "2025-06-19T09:50:54.472342Z",
     "start_time": "2025-06-19T09:50:54.456260Z"
    }
   },
   "source": [
    "try:\n",
    "    s[[0, 3, 4]]\n",
    "except KeyError as ex:\n",
    "    print('KeyError:', ex)"
   ],
   "outputs": [
    {
     "name": "stdout",
     "output_type": "stream",
     "text": [
      "KeyError: \"None of [Index([0, 3, 4], dtype='int64')] are in the [index]\"\n"
     ]
    }
   ],
   "execution_count": 30
  },
  {
   "cell_type": "markdown",
   "metadata": {},
   "source": [
    "So using the square brackets (`[]`) works, but can quickly get confusing since what it will do with an argument may dewill depend on the data type of the index."
   ]
  },
  {
   "cell_type": "markdown",
   "metadata": {},
   "source": [
    "Pandas implements two attributes, `loc` and `iloc` that we can use instead that can be used to access elements by the explicit index, or by the implicit positional index."
   ]
  },
  {
   "cell_type": "markdown",
   "metadata": {},
   "source": [
    "The `iloc` attribute is used when we want to use the positional index:"
   ]
  },
  {
   "cell_type": "code",
   "metadata": {
    "ExecuteTime": {
     "end_time": "2025-06-19T09:51:59.610771Z",
     "start_time": "2025-06-19T09:51:59.603728Z"
    }
   },
   "source": [
    "s.iloc[0]"
   ],
   "outputs": [
    {
     "data": {
      "text/plain": [
       "np.int64(100)"
      ]
     },
     "execution_count": 31,
     "metadata": {},
     "output_type": "execute_result"
    }
   ],
   "execution_count": 31
  },
  {
   "cell_type": "markdown",
   "metadata": {},
   "source": [
    "And the `loc` attribute is used when we want to access the data using the explicit index:"
   ]
  },
  {
   "cell_type": "code",
   "metadata": {
    "ExecuteTime": {
     "end_time": "2025-06-19T09:52:00.963697Z",
     "start_time": "2025-06-19T09:52:00.956588Z"
    }
   },
   "source": [
    "s.loc[10]"
   ],
   "outputs": [
    {
     "data": {
      "text/plain": [
       "np.int64(100)"
      ]
     },
     "execution_count": 32,
     "metadata": {},
     "output_type": "execute_result"
    }
   ],
   "execution_count": 32
  },
  {
   "cell_type": "markdown",
   "metadata": {},
   "source": [
    "**Note**: The `loc` and `iloc` are attributes, not methods, and we use square brackets (`[]`), not parentheses (`()`)."
   ]
  },
  {
   "cell_type": "markdown",
   "metadata": {},
   "source": [
    "Of course, both of them support slicing and fancy indexing:"
   ]
  },
  {
   "cell_type": "code",
   "metadata": {
    "ExecuteTime": {
     "end_time": "2025-06-19T09:52:03.899419Z",
     "start_time": "2025-06-19T09:52:03.890615Z"
    }
   },
   "source": [
    "s.iloc[0:4]"
   ],
   "outputs": [
    {
     "data": {
      "text/plain": [
       "10    100\n",
       "20    200\n",
       "30    300\n",
       "dtype: int64"
      ]
     },
     "execution_count": 33,
     "metadata": {},
     "output_type": "execute_result"
    }
   ],
   "execution_count": 33
  },
  {
   "cell_type": "code",
   "metadata": {
    "ExecuteTime": {
     "end_time": "2025-06-19T09:52:05.082685Z",
     "start_time": "2025-06-19T09:52:05.075062Z"
    }
   },
   "source": [
    "s.loc[10:30]"
   ],
   "outputs": [
    {
     "data": {
      "text/plain": [
       "10    100\n",
       "20    200\n",
       "30    300\n",
       "dtype: int64"
      ]
     },
     "execution_count": 34,
     "metadata": {},
     "output_type": "execute_result"
    }
   ],
   "execution_count": 34
  },
  {
   "cell_type": "markdown",
   "metadata": {},
   "source": [
    "Again, note how slicing using the explicit index is inclusive, unlike when we use the implcit index."
   ]
  },
  {
   "cell_type": "markdown",
   "metadata": {},
   "source": [
    "We can also provide a `name` attribute for any `Series` object:"
   ]
  },
  {
   "cell_type": "code",
   "metadata": {
    "ExecuteTime": {
     "end_time": "2025-06-19T09:52:45.828883Z",
     "start_time": "2025-06-19T09:52:45.820798Z"
    }
   },
   "source": [
    "s"
   ],
   "outputs": [
    {
     "data": {
      "text/plain": [
       "10    100\n",
       "20    200\n",
       "30    300\n",
       "dtype: int64"
      ]
     },
     "execution_count": 35,
     "metadata": {},
     "output_type": "execute_result"
    }
   ],
   "execution_count": 35
  },
  {
   "cell_type": "code",
   "metadata": {
    "ExecuteTime": {
     "end_time": "2025-06-19T09:52:47.954335Z",
     "start_time": "2025-06-19T09:52:47.947056Z"
    }
   },
   "source": [
    "s.name = 'test'\n",
    "s"
   ],
   "outputs": [
    {
     "data": {
      "text/plain": [
       "10    100\n",
       "20    200\n",
       "30    300\n",
       "Name: test, dtype: int64"
      ]
     },
     "execution_count": 36,
     "metadata": {},
     "output_type": "execute_result"
    }
   ],
   "execution_count": 36
  },
  {
   "cell_type": "markdown",
   "metadata": {},
   "source": [
    "We can also specify this name when we create the series:"
   ]
  },
  {
   "cell_type": "code",
   "metadata": {
    "ExecuteTime": {
     "end_time": "2025-06-19T09:53:05.929939Z",
     "start_time": "2025-06-19T09:53:05.921367Z"
    }
   },
   "source": [
    "areas = pd.Series(\n",
    "    ['USA', 'Topeka', 'France', 'Lyon', 'UK', 'Glasgow'],\n",
    "    index=['country', 'city', 'country', 'city', 'country', 'city'],\n",
    "    name='Areas'\n",
    ")\n",
    "areas"
   ],
   "outputs": [
    {
     "data": {
      "text/plain": [
       "country        USA\n",
       "city        Topeka\n",
       "country     France\n",
       "city          Lyon\n",
       "country         UK\n",
       "city       Glasgow\n",
       "Name: Areas, dtype: object"
      ]
     },
     "execution_count": 37,
     "metadata": {},
     "output_type": "execute_result"
    }
   ],
   "execution_count": 37
  },
  {
   "cell_type": "markdown",
   "metadata": {},
   "source": [
    "We'll see later why this is important when we look at `DataFrames`."
   ]
  },
  {
   "cell_type": "markdown",
   "metadata": {},
   "source": [
    "We can also use boolean masking (which remember will use the values, not the index when calculating conditional logic expressions), so no confusion regarding which index it uses - it does not use any."
   ]
  },
  {
   "cell_type": "code",
   "metadata": {
    "ExecuteTime": {
     "end_time": "2025-06-19T09:53:30.259717Z",
     "start_time": "2025-06-19T09:53:30.251060Z"
    }
   },
   "source": [
    "areas[areas != 'Glasgow']"
   ],
   "outputs": [
    {
     "data": {
      "text/plain": [
       "country       USA\n",
       "city       Topeka\n",
       "country    France\n",
       "city         Lyon\n",
       "country        UK\n",
       "Name: Areas, dtype: object"
      ]
     },
     "execution_count": 38,
     "metadata": {},
     "output_type": "execute_result"
    }
   ],
   "execution_count": 38
  },
  {
   "cell_type": "markdown",
   "metadata": {},
   "source": [
    "We have seen how to select and mutate values in a series. How do we delete an item?"
   ]
  },
  {
   "cell_type": "markdown",
   "metadata": {},
   "source": [
    "It's not as straightforward as you might think, since we also have an (immutable) explicit index associated with the series."
   ]
  },
  {
   "cell_type": "markdown",
   "metadata": {},
   "source": [
    "Instead, we can use the `drop()` method, specifying the indices we want to drop from the series, which will return a **new** series, but without affecting the original:"
   ]
  },
  {
   "cell_type": "code",
   "metadata": {
    "ExecuteTime": {
     "end_time": "2025-06-19T09:53:39.919979Z",
     "start_time": "2025-06-19T09:53:39.910244Z"
    }
   },
   "source": [
    "s = pd.Series([10, 20, 30], index=list('abc'), name='test')\n",
    "s"
   ],
   "outputs": [
    {
     "data": {
      "text/plain": [
       "a    10\n",
       "b    20\n",
       "c    30\n",
       "Name: test, dtype: int64"
      ]
     },
     "execution_count": 39,
     "metadata": {},
     "output_type": "execute_result"
    }
   ],
   "execution_count": 39
  },
  {
   "cell_type": "code",
   "metadata": {
    "ExecuteTime": {
     "end_time": "2025-06-19T09:54:43.305103Z",
     "start_time": "2025-06-19T09:54:43.296586Z"
    }
   },
   "source": [
    "new = s.drop(['a', 'c'])\n",
    "new"
   ],
   "outputs": [
    {
     "data": {
      "text/plain": [
       "b    20\n",
       "Name: test, dtype: int64"
      ]
     },
     "execution_count": 40,
     "metadata": {},
     "output_type": "execute_result"
    }
   ],
   "execution_count": 40
  },
  {
   "cell_type": "code",
   "metadata": {
    "ExecuteTime": {
     "end_time": "2025-06-19T09:55:24.263717Z",
     "start_time": "2025-06-19T09:55:24.256762Z"
    }
   },
   "source": [
    "s"
   ],
   "outputs": [
    {
     "data": {
      "text/plain": [
       "a    10\n",
       "b    20\n",
       "c    30\n",
       "Name: test, dtype: int64"
      ]
     },
     "execution_count": 41,
     "metadata": {},
     "output_type": "execute_result"
    }
   ],
   "execution_count": 41
  },
  {
   "cell_type": "markdown",
   "metadata": {},
   "source": [
    "Can we drop by position? Not directly, no."
   ]
  },
  {
   "cell_type": "markdown",
   "metadata": {},
   "source": [
    "We can however recover the explicit index value for a specific location."
   ]
  },
  {
   "cell_type": "markdown",
   "metadata": {},
   "source": [
    "Remember how we studied Indexes in a previous set of lectures? The Index is just another series, with implicit positional indexing."
   ]
  },
  {
   "cell_type": "code",
   "metadata": {
    "ExecuteTime": {
     "end_time": "2025-06-19T09:55:35.676489Z",
     "start_time": "2025-06-19T09:55:35.668202Z"
    }
   },
   "source": [
    "s.index"
   ],
   "outputs": [
    {
     "data": {
      "text/plain": [
       "Index(['a', 'b', 'c'], dtype='object')"
      ]
     },
     "execution_count": 42,
     "metadata": {},
     "output_type": "execute_result"
    }
   ],
   "execution_count": 42
  },
  {
   "cell_type": "markdown",
   "metadata": {},
   "source": [
    "So we can get the explicit index value for a specific (or set of specific) positional indices:"
   ]
  },
  {
   "cell_type": "code",
   "metadata": {
    "ExecuteTime": {
     "end_time": "2025-06-19T09:56:21.018885Z",
     "start_time": "2025-06-19T09:56:21.011314Z"
    }
   },
   "source": [
    "s.index[[0, 2]]"
   ],
   "outputs": [
    {
     "data": {
      "text/plain": [
       "Index(['a', 'c'], dtype='object')"
      ]
     },
     "execution_count": 43,
     "metadata": {},
     "output_type": "execute_result"
    }
   ],
   "execution_count": 43
  },
  {
   "cell_type": "markdown",
   "metadata": {},
   "source": [
    "And we can now use this in our `drop()` call:"
   ]
  },
  {
   "cell_type": "code",
   "metadata": {
    "ExecuteTime": {
     "end_time": "2025-06-19T09:56:42.771332Z",
     "start_time": "2025-06-19T09:56:42.759990Z"
    }
   },
   "source": [
    "s.drop(s.index[[0, 2]])"
   ],
   "outputs": [
    {
     "data": {
      "text/plain": [
       "b    20\n",
       "Name: test, dtype: int64"
      ]
     },
     "execution_count": 44,
     "metadata": {},
     "output_type": "execute_result"
    }
   ],
   "execution_count": 44
  },
  {
   "cell_type": "markdown",
   "metadata": {},
   "source": [
    "Again though, the original series is not affected:"
   ]
  },
  {
   "cell_type": "code",
   "metadata": {
    "ExecuteTime": {
     "end_time": "2025-06-19T09:56:50.327624Z",
     "start_time": "2025-06-19T09:56:50.318951Z"
    }
   },
   "source": [
    "s"
   ],
   "outputs": [
    {
     "data": {
      "text/plain": [
       "a    10\n",
       "b    20\n",
       "c    30\n",
       "Name: test, dtype: int64"
      ]
     },
     "execution_count": 45,
     "metadata": {},
     "output_type": "execute_result"
    }
   ],
   "execution_count": 45
  }
 ],
 "metadata": {
  "kernelspec": {
   "display_name": "Python 3",
   "language": "python",
   "name": "python3"
  },
  "language_info": {
   "codemirror_mode": {
    "name": "ipython",
    "version": 3
   },
   "file_extension": ".py",
   "mimetype": "text/x-python",
   "name": "python",
   "nbconvert_exporter": "python",
   "pygments_lexer": "ipython3",
   "version": "3.9.1"
  }
 },
 "nbformat": 4,
 "nbformat_minor": 4
}
