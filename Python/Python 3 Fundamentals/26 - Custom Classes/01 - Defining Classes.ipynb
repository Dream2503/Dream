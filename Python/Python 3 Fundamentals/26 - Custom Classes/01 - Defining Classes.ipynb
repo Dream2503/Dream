{
 "cells": [
  {
   "cell_type": "markdown",
   "metadata": {},
   "source": [
    "### Defining Classes"
   ]
  },
  {
   "cell_type": "markdown",
   "metadata": {},
   "source": [
    "Let's start by creating an \"empty\" class."
   ]
  },
  {
   "cell_type": "code",
   "metadata": {
    "ExecuteTime": {
     "end_time": "2025-06-18T05:04:39.186585Z",
     "start_time": "2025-06-18T05:04:39.180037Z"
    }
   },
   "source": [
    "class Person:\n",
    "    \"\"\"This string can be used to document the class - called a docstring\"\"\""
   ],
   "outputs": [],
   "execution_count": 1
  },
  {
   "cell_type": "markdown",
   "metadata": {},
   "source": [
    "This class does not seem to have much going for it, apart from the docstring."
   ]
  },
  {
   "cell_type": "markdown",
   "metadata": {},
   "source": [
    "But in fact, Python has given a lot of \"default\" functionality to this class."
   ]
  },
  {
   "cell_type": "markdown",
   "metadata": {},
   "source": [
    "For starters, it is callable:"
   ]
  },
  {
   "cell_type": "code",
   "metadata": {
    "ExecuteTime": {
     "end_time": "2025-06-18T05:04:39.527757Z",
     "start_time": "2025-06-18T05:04:39.522734Z"
    }
   },
   "source": [
    "p1 = Person()"
   ],
   "outputs": [],
   "execution_count": 2
  },
  {
   "cell_type": "markdown",
   "metadata": {},
   "source": [
    "The class also has some default state that was created for us:"
   ]
  },
  {
   "cell_type": "code",
   "metadata": {
    "ExecuteTime": {
     "end_time": "2025-06-18T05:04:39.575708Z",
     "start_time": "2025-06-18T05:04:39.566367Z"
    }
   },
   "source": [
    "Person.__doc__"
   ],
   "outputs": [
    {
     "data": {
      "text/plain": [
       "'This string can be used to document the class - called a docstring'"
      ]
     },
     "execution_count": 3,
     "metadata": {},
     "output_type": "execute_result"
    }
   ],
   "execution_count": 3
  },
  {
   "cell_type": "markdown",
   "metadata": {},
   "source": [
    "See where the docstring went? :-)"
   ]
  },
  {
   "cell_type": "code",
   "metadata": {
    "ExecuteTime": {
     "end_time": "2025-06-18T05:04:39.657110Z",
     "start_time": "2025-06-18T05:04:39.650416Z"
    }
   },
   "source": [
    "Person.__name__"
   ],
   "outputs": [
    {
     "data": {
      "text/plain": [
       "'Person'"
      ]
     },
     "execution_count": 4,
     "metadata": {},
     "output_type": "execute_result"
    }
   ],
   "execution_count": 4
  },
  {
   "cell_type": "markdown",
   "metadata": {},
   "source": [
    "And the instance also has some default state:"
   ]
  },
  {
   "cell_type": "code",
   "metadata": {
    "ExecuteTime": {
     "end_time": "2025-06-18T05:04:39.713170Z",
     "start_time": "2025-06-18T05:04:39.705418Z"
    }
   },
   "source": [
    "p1.__class__"
   ],
   "outputs": [
    {
     "data": {
      "text/plain": [
       "__main__.Person"
      ]
     },
     "execution_count": 5,
     "metadata": {},
     "output_type": "execute_result"
    }
   ],
   "execution_count": 5
  },
  {
   "cell_type": "markdown",
   "metadata": {},
   "source": [
    "The `__class__` attribute contains the class (type) that was used to create the instance."
   ]
  },
  {
   "cell_type": "code",
   "metadata": {
    "ExecuteTime": {
     "end_time": "2025-06-18T05:04:39.758581Z",
     "start_time": "2025-06-18T05:04:39.750776Z"
    }
   },
   "source": [
    "p1.__class__ is Person"
   ],
   "outputs": [
    {
     "data": {
      "text/plain": [
       "True"
      ]
     },
     "execution_count": 6,
     "metadata": {},
     "output_type": "execute_result"
    }
   ],
   "execution_count": 6
  },
  {
   "cell_type": "markdown",
   "metadata": {},
   "source": [
    "Normally we don't access these special attributes directly (we can, but there are often easier ways)."
   ]
  },
  {
   "cell_type": "markdown",
   "metadata": {},
   "source": [
    "For example, the docstring can actually be seen using `help`:"
   ]
  },
  {
   "cell_type": "code",
   "metadata": {
    "ExecuteTime": {
     "end_time": "2025-06-18T05:04:39.792021Z",
     "start_time": "2025-06-18T05:04:39.786392Z"
    }
   },
   "source": [
    "help(Person)"
   ],
   "outputs": [
    {
     "name": "stdout",
     "output_type": "stream",
     "text": [
      "Help on class Person in module __main__:\n",
      "\n",
      "class Person(builtins.object)\n",
      " |  This string can be used to document the class - called a docstring\n",
      " |\n",
      " |  Data descriptors defined here:\n",
      " |\n",
      " |  __dict__\n",
      " |      dictionary for instance variables\n",
      " |\n",
      " |  __weakref__\n",
      " |      list of weak references to the object\n",
      "\n"
     ]
    }
   ],
   "execution_count": 7
  },
  {
   "cell_type": "markdown",
   "metadata": {},
   "source": [
    "Same with `__class__`, we can just use the `type()` function:"
   ]
  },
  {
   "cell_type": "code",
   "metadata": {
    "ExecuteTime": {
     "end_time": "2025-06-18T05:04:39.825557Z",
     "start_time": "2025-06-18T05:04:39.818808Z"
    }
   },
   "source": [
    "type(p1)"
   ],
   "outputs": [
    {
     "data": {
      "text/plain": [
       "__main__.Person"
      ]
     },
     "execution_count": 8,
     "metadata": {},
     "output_type": "execute_result"
    }
   ],
   "execution_count": 8
  },
  {
   "cell_type": "markdown",
   "metadata": {},
   "source": [
    "As you can see, our class `Person` is an actual new type:"
   ]
  },
  {
   "cell_type": "code",
   "metadata": {
    "ExecuteTime": {
     "end_time": "2025-06-18T05:04:39.865888Z",
     "start_time": "2025-06-18T05:04:39.857976Z"
    }
   },
   "source": [
    "type([1, 2, 3]) is list"
   ],
   "outputs": [
    {
     "data": {
      "text/plain": [
       "True"
      ]
     },
     "execution_count": 9,
     "metadata": {},
     "output_type": "execute_result"
    }
   ],
   "execution_count": 9
  },
  {
   "cell_type": "code",
   "metadata": {
    "ExecuteTime": {
     "end_time": "2025-06-18T05:04:39.940938Z",
     "start_time": "2025-06-18T05:04:39.935404Z"
    }
   },
   "source": [
    "type(p1) is Person"
   ],
   "outputs": [
    {
     "data": {
      "text/plain": [
       "True"
      ]
     },
     "execution_count": 10,
     "metadata": {},
     "output_type": "execute_result"
    }
   ],
   "execution_count": 10
  },
  {
   "cell_type": "markdown",
   "metadata": {},
   "source": [
    "We can also use the `isinstance()` function to see if an object is of a certain type:"
   ]
  },
  {
   "cell_type": "code",
   "metadata": {
    "ExecuteTime": {
     "end_time": "2025-06-18T05:04:39.986377Z",
     "start_time": "2025-06-18T05:04:39.982143Z"
    }
   },
   "source": [
    "a = 1"
   ],
   "outputs": [],
   "execution_count": 11
  },
  {
   "cell_type": "code",
   "metadata": {
    "ExecuteTime": {
     "end_time": "2025-06-18T05:04:40.012476Z",
     "start_time": "2025-06-18T05:04:40.006384Z"
    }
   },
   "source": [
    "isinstance(a, int)"
   ],
   "outputs": [
    {
     "data": {
      "text/plain": [
       "True"
      ]
     },
     "execution_count": 12,
     "metadata": {},
     "output_type": "execute_result"
    }
   ],
   "execution_count": 12
  },
  {
   "cell_type": "code",
   "metadata": {
    "ExecuteTime": {
     "end_time": "2025-06-18T05:04:40.056668Z",
     "start_time": "2025-06-18T05:04:40.051483Z"
    }
   },
   "source": [
    "isinstance(p1, Person)"
   ],
   "outputs": [
    {
     "data": {
      "text/plain": [
       "True"
      ]
     },
     "execution_count": 13,
     "metadata": {},
     "output_type": "execute_result"
    }
   ],
   "execution_count": 13
  },
  {
   "cell_type": "markdown",
   "metadata": {},
   "source": [
    "Now, we don't have much custom functionality in our `Person` class, but it behaves like other types (classes) in Python."
   ]
  },
  {
   "cell_type": "markdown",
   "metadata": {},
   "source": [
    "In fact, we can get, set, and delete attributes on `p1` very easily:"
   ]
  },
  {
   "cell_type": "code",
   "metadata": {
    "ExecuteTime": {
     "end_time": "2025-06-18T05:04:40.111622Z",
     "start_time": "2025-06-18T05:04:40.106465Z"
    }
   },
   "source": [
    "p1.name = 'John'"
   ],
   "outputs": [],
   "execution_count": 14
  },
  {
   "cell_type": "code",
   "metadata": {
    "ExecuteTime": {
     "end_time": "2025-06-18T05:04:40.151434Z",
     "start_time": "2025-06-18T05:04:40.145282Z"
    }
   },
   "source": [
    "p1.name"
   ],
   "outputs": [
    {
     "data": {
      "text/plain": [
       "'John'"
      ]
     },
     "execution_count": 15,
     "metadata": {},
     "output_type": "execute_result"
    }
   ],
   "execution_count": 15
  },
  {
   "cell_type": "markdown",
   "metadata": {},
   "source": [
    "In Python we can get/set attributes on an object after it has been created - in fact this is fundamental to Python objects."
   ]
  },
  {
   "cell_type": "markdown",
   "metadata": {},
   "source": [
    "Some built-in types, do not allow that, but custom types generally do (there are w|ays to restrict that)."
   ]
  },
  {
   "cell_type": "code",
   "metadata": {
    "ExecuteTime": {
     "end_time": "2025-06-18T05:04:40.197696Z",
     "start_time": "2025-06-18T05:04:40.193513Z"
    }
   },
   "source": [
    "a = 100"
   ],
   "outputs": [],
   "execution_count": 16
  },
  {
   "cell_type": "code",
   "metadata": {
    "ExecuteTime": {
     "end_time": "2025-06-18T05:04:40.582127Z",
     "start_time": "2025-06-18T05:04:40.220893Z"
    }
   },
   "source": [
    "a.name = 'hundred'"
   ],
   "outputs": [
    {
     "ename": "AttributeError",
     "evalue": "'int' object has no attribute 'name'",
     "output_type": "error",
     "traceback": [
      "\u001B[1;31m---------------------------------------------------------------------------\u001B[0m",
      "\u001B[1;31mAttributeError\u001B[0m                            Traceback (most recent call last)",
      "Cell \u001B[1;32mIn[17], line 1\u001B[0m\n\u001B[1;32m----> 1\u001B[0m \u001B[43ma\u001B[49m\u001B[38;5;241;43m.\u001B[39;49m\u001B[43mname\u001B[49m \u001B[38;5;241m=\u001B[39m \u001B[38;5;124m'\u001B[39m\u001B[38;5;124mhundred\u001B[39m\u001B[38;5;124m'\u001B[39m\n",
      "\u001B[1;31mAttributeError\u001B[0m: 'int' object has no attribute 'name'"
     ]
    }
   ],
   "execution_count": 17
  },
  {
   "cell_type": "markdown",
   "metadata": {},
   "source": [
    "As you can see that did not work for an `int` object."
   ]
  },
  {
   "cell_type": "markdown",
   "metadata": {},
   "source": [
    "But look at this function:"
   ]
  },
  {
   "cell_type": "code",
   "metadata": {
    "ExecuteTime": {
     "end_time": "2025-06-18T05:04:47.553974Z",
     "start_time": "2025-06-18T05:04:47.547833Z"
    }
   },
   "source": [
    "def hello():\n",
    "    pass"
   ],
   "outputs": [],
   "execution_count": 18
  },
  {
   "cell_type": "code",
   "metadata": {
    "ExecuteTime": {
     "end_time": "2025-06-18T05:04:47.814712Z",
     "start_time": "2025-06-18T05:04:47.807154Z"
    }
   },
   "source": [
    "hello.name = 'says hello'"
   ],
   "outputs": [],
   "execution_count": 19
  },
  {
   "cell_type": "code",
   "metadata": {
    "ExecuteTime": {
     "end_time": "2025-06-18T05:04:48.022626Z",
     "start_time": "2025-06-18T05:04:48.016386Z"
    }
   },
   "source": [
    "type(hello), hello.name"
   ],
   "outputs": [
    {
     "data": {
      "text/plain": [
       "(function, 'says hello')"
      ]
     },
     "execution_count": 20,
     "metadata": {},
     "output_type": "execute_result"
    }
   ],
   "execution_count": 20
  },
  {
   "cell_type": "markdown",
   "metadata": {},
   "source": [
    "To delete an attribute (assuming the object allows it), we just use the `del` keyword, like we can with dictionaries for example:"
   ]
  },
  {
   "cell_type": "code",
   "metadata": {
    "ExecuteTime": {
     "end_time": "2025-06-18T05:04:48.432335Z",
     "start_time": "2025-06-18T05:04:48.426582Z"
    }
   },
   "source": [
    "p1.name"
   ],
   "outputs": [
    {
     "data": {
      "text/plain": [
       "'John'"
      ]
     },
     "execution_count": 21,
     "metadata": {},
     "output_type": "execute_result"
    }
   ],
   "execution_count": 21
  },
  {
   "cell_type": "code",
   "metadata": {
    "ExecuteTime": {
     "end_time": "2025-06-18T05:04:48.656025Z",
     "start_time": "2025-06-18T05:04:48.650137Z"
    }
   },
   "source": [
    "del p1.name"
   ],
   "outputs": [],
   "execution_count": 22
  },
  {
   "cell_type": "code",
   "metadata": {
    "ExecuteTime": {
     "end_time": "2025-06-18T05:04:48.858625Z",
     "start_time": "2025-06-18T05:04:48.841511Z"
    }
   },
   "source": [
    "p1.name"
   ],
   "outputs": [
    {
     "ename": "AttributeError",
     "evalue": "'Person' object has no attribute 'name'",
     "output_type": "error",
     "traceback": [
      "\u001B[1;31m---------------------------------------------------------------------------\u001B[0m",
      "\u001B[1;31mAttributeError\u001B[0m                            Traceback (most recent call last)",
      "Cell \u001B[1;32mIn[23], line 1\u001B[0m\n\u001B[1;32m----> 1\u001B[0m \u001B[43mp1\u001B[49m\u001B[38;5;241;43m.\u001B[39;49m\u001B[43mname\u001B[49m\n",
      "\u001B[1;31mAttributeError\u001B[0m: 'Person' object has no attribute 'name'"
     ]
    }
   ],
   "execution_count": 23
  },
  {
   "cell_type": "markdown",
   "metadata": {},
   "source": [
    "What's interesting about custom objects, is that their state are usually stored (by Python) in a **dictionary**!"
   ]
  },
  {
   "cell_type": "markdown",
   "metadata": {},
   "source": [
    "We can actually see this dictionary:"
   ]
  },
  {
   "cell_type": "code",
   "metadata": {
    "ExecuteTime": {
     "end_time": "2025-06-18T05:04:50.521646Z",
     "start_time": "2025-06-18T05:04:50.516120Z"
    }
   },
   "source": [
    "p1.__dict__"
   ],
   "outputs": [
    {
     "data": {
      "text/plain": [
       "{}"
      ]
     },
     "execution_count": 24,
     "metadata": {},
     "output_type": "execute_result"
    }
   ],
   "execution_count": 24
  },
  {
   "cell_type": "markdown",
   "metadata": {},
   "source": [
    "Since our object has no state, it's dictionary is empty, so let's set some attributes, and see what happens:"
   ]
  },
  {
   "cell_type": "code",
   "metadata": {
    "ExecuteTime": {
     "end_time": "2025-06-18T05:04:51.456390Z",
     "start_time": "2025-06-18T05:04:51.450700Z"
    }
   },
   "source": [
    "p1.first_name = 'John'\n",
    "p1.last_name = 'Cleese'"
   ],
   "outputs": [],
   "execution_count": 25
  },
  {
   "cell_type": "code",
   "metadata": {
    "ExecuteTime": {
     "end_time": "2025-06-18T05:04:51.782093Z",
     "start_time": "2025-06-18T05:04:51.775878Z"
    }
   },
   "source": [
    "p1.__dict__"
   ],
   "outputs": [
    {
     "data": {
      "text/plain": [
       "{'first_name': 'John', 'last_name': 'Cleese'}"
      ]
     },
     "execution_count": 26,
     "metadata": {},
     "output_type": "execute_result"
    }
   ],
   "execution_count": 26
  },
  {
   "cell_type": "markdown",
   "metadata": {},
   "source": [
    "So to set an attribute on our object, we need:\n",
    "1. the object itself\n",
    "2. use `obj.attrib_name = x`"
   ]
  },
  {
   "cell_type": "markdown",
   "metadata": {},
   "source": [
    "And to get an attribute from an object, we need:\n",
    "1. the object itself\n",
    "2. use `obj.attrib_name`"
   ]
  },
  {
   "cell_type": "markdown",
   "metadata": {},
   "source": [
    "And that's the basis for object initialization."
   ]
  }
 ],
 "metadata": {
  "kernelspec": {
   "display_name": "Python 3",
   "language": "python",
   "name": "python3"
  },
  "language_info": {
   "codemirror_mode": {
    "name": "ipython",
    "version": 3
   },
   "file_extension": ".py",
   "mimetype": "text/x-python",
   "name": "python",
   "nbconvert_exporter": "python",
   "pygments_lexer": "ipython3",
   "version": "3.9.1"
  }
 },
 "nbformat": 4,
 "nbformat_minor": 4
}
