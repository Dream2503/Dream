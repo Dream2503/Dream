{
 "cells": [
  {
   "cell_type": "markdown",
   "id": "printable-state",
   "metadata": {},
   "source": [
    "### Solutions"
   ]
  },
  {
   "cell_type": "markdown",
   "id": "talented-insurance",
   "metadata": {},
   "source": [
    "#### Question 1"
   ]
  },
  {
   "cell_type": "markdown",
   "id": "corresponding-steering",
   "metadata": {},
   "source": [
    "Generate the sample space of rolling two 6-sided dice, numbered `'9', '10', 'J', 'Q', 'K', 'A'`."
   ]
  },
  {
   "cell_type": "markdown",
   "id": "computational-voltage",
   "metadata": {},
   "source": [
    "(The sample space is the set of all possible outcomes)."
   ]
  },
  {
   "cell_type": "markdown",
   "id": "double-apollo",
   "metadata": {},
   "source": [
    "Your result should be a list containing tuples for the outcome of each die, e.g.\n",
    "\n",
    "```\n",
    "[('9', '9'),\n",
    " ('9', '10'),\n",
    " ('9', 'J'),\n",
    " ('9', 'Q'),\n",
    " ('9', 'K'),\n",
    " ('9', 'A'),\n",
    " ('10', '9'),\n",
    " ('10', '10'),\n",
    " ('10', 'J'),\n",
    " ('10', 'Q'),\n",
    " ('10', 'K'),\n",
    " ('10', 'A'),\n",
    " etc\n",
    "```"
   ]
  },
  {
   "cell_type": "markdown",
   "id": "abroad-history",
   "metadata": {},
   "source": [
    "Make this a function that returns the sample space, called `make_sample_space`."
   ]
  },
  {
   "cell_type": "markdown",
   "id": "collaborative-breath",
   "metadata": {},
   "source": [
    "##### Solution"
   ]
  },
  {
   "cell_type": "markdown",
   "id": "prescription-comparative",
   "metadata": {},
   "source": [
    "The important thing to remember here is that we have \"replacement\" - i.e. the same number can come up on each die since those are two separate die."
   ]
  },
  {
   "cell_type": "markdown",
   "id": "noble-bedroom",
   "metadata": {},
   "source": [
    "First let's create a tuple that contains all our possible face values for the dice:"
   ]
  },
  {
   "cell_type": "code",
   "id": "precise-layer",
   "metadata": {
    "ExecuteTime": {
     "end_time": "2025-06-18T04:59:01.014552Z",
     "start_time": "2025-06-18T04:59:01.007515Z"
    }
   },
   "source": [
    "face_values = ['9', '10', 'J', 'Q', 'K', 'A']"
   ],
   "outputs": [],
   "execution_count": 1
  },
  {
   "cell_type": "raw",
   "id": "verified-playlist",
   "metadata": {},
   "source": [
    "Our sample space is all the possible combinations of face values from two sets of face values - essentially the \"Cartesian product\" of the `face_values` (in set terminology)."
   ]
  },
  {
   "cell_type": "markdown",
   "id": "surprised-glasgow",
   "metadata": {},
   "source": [
    "We could do it this way:"
   ]
  },
  {
   "cell_type": "code",
   "id": "absolute-meditation",
   "metadata": {
    "ExecuteTime": {
     "end_time": "2025-06-18T04:59:01.349200Z",
     "start_time": "2025-06-18T04:59:01.335816Z"
    }
   },
   "source": [
    "sample_space = []\n",
    "for v1 in face_values:\n",
    "    for v2 in face_values:\n",
    "        sample_space.append((v1, v2))\n",
    "        \n",
    "sample_space"
   ],
   "outputs": [
    {
     "data": {
      "text/plain": [
       "[('9', '9'),\n",
       " ('9', '10'),\n",
       " ('9', 'J'),\n",
       " ('9', 'Q'),\n",
       " ('9', 'K'),\n",
       " ('9', 'A'),\n",
       " ('10', '9'),\n",
       " ('10', '10'),\n",
       " ('10', 'J'),\n",
       " ('10', 'Q'),\n",
       " ('10', 'K'),\n",
       " ('10', 'A'),\n",
       " ('J', '9'),\n",
       " ('J', '10'),\n",
       " ('J', 'J'),\n",
       " ('J', 'Q'),\n",
       " ('J', 'K'),\n",
       " ('J', 'A'),\n",
       " ('Q', '9'),\n",
       " ('Q', '10'),\n",
       " ('Q', 'J'),\n",
       " ('Q', 'Q'),\n",
       " ('Q', 'K'),\n",
       " ('Q', 'A'),\n",
       " ('K', '9'),\n",
       " ('K', '10'),\n",
       " ('K', 'J'),\n",
       " ('K', 'Q'),\n",
       " ('K', 'K'),\n",
       " ('K', 'A'),\n",
       " ('A', '9'),\n",
       " ('A', '10'),\n",
       " ('A', 'J'),\n",
       " ('A', 'Q'),\n",
       " ('A', 'K'),\n",
       " ('A', 'A')]"
      ]
     },
     "execution_count": 2,
     "metadata": {},
     "output_type": "execute_result"
    }
   ],
   "execution_count": 2
  },
  {
   "cell_type": "markdown",
   "id": "elegant-hands",
   "metadata": {},
   "source": [
    "But, we can simplify this using comprehensions:"
   ]
  },
  {
   "cell_type": "code",
   "id": "white-white",
   "metadata": {
    "ExecuteTime": {
     "end_time": "2025-06-18T04:59:01.412372Z",
     "start_time": "2025-06-18T04:59:01.405282Z"
    }
   },
   "source": [
    "sample_space = [(v1, v2) for v1 in face_values for v2 in face_values]"
   ],
   "outputs": [],
   "execution_count": 3
  },
  {
   "cell_type": "markdown",
   "id": "figured-sydney",
   "metadata": {},
   "source": [
    "So let's make this into a function:"
   ]
  },
  {
   "cell_type": "code",
   "id": "cathedral-hostel",
   "metadata": {
    "ExecuteTime": {
     "end_time": "2025-06-18T04:59:01.444978Z",
     "start_time": "2025-06-18T04:59:01.436416Z"
    }
   },
   "source": [
    "def make_sample_space():\n",
    "    face_values = ['9', '10', 'J', 'Q', 'K', 'A']\n",
    "    return [(v1, v2) for v1 in face_values for v2 in face_values]"
   ],
   "outputs": [],
   "execution_count": 4
  },
  {
   "cell_type": "markdown",
   "id": "great-mining",
   "metadata": {},
   "source": [
    "#### Question 2"
   ]
  },
  {
   "cell_type": "markdown",
   "id": "indie-speed",
   "metadata": {},
   "source": [
    "Using the sample space you just created above, simulate throwing the two die `n` times by making random choices from the sample space."
   ]
  },
  {
   "cell_type": "markdown",
   "id": "defensive-accident",
   "metadata": {},
   "source": [
    "Again, make this into a function that returns the random choices as a list of tuples, with `n` as a parameter of this function.\n",
    "\n",
    "Call the function `simulate_throws_from_sample_space`."
   ]
  },
  {
   "cell_type": "markdown",
   "id": "known-water",
   "metadata": {},
   "source": [
    "##### Solution"
   ]
  },
  {
   "cell_type": "markdown",
   "id": "still-sympathy",
   "metadata": {},
   "source": [
    "For this we need to make `n` independent choices **with** replacement."
   ]
  },
  {
   "cell_type": "markdown",
   "id": "acoustic-vertex",
   "metadata": {},
   "source": [
    "We could just repeatedly choose from the sample space repeatedly:"
   ]
  },
  {
   "cell_type": "code",
   "id": "visible-creation",
   "metadata": {
    "ExecuteTime": {
     "end_time": "2025-06-18T04:59:01.485554Z",
     "start_time": "2025-06-18T04:59:01.481004Z"
    }
   },
   "source": [
    "import random"
   ],
   "outputs": [],
   "execution_count": 5
  },
  {
   "cell_type": "code",
   "id": "warming-huntington",
   "metadata": {
    "ExecuteTime": {
     "end_time": "2025-06-18T04:59:01.540462Z",
     "start_time": "2025-06-18T04:59:01.533473Z"
    }
   },
   "source": [
    "sample_space = make_sample_space()\n",
    "[random.choice(sample_space) for _ in range(10)]"
   ],
   "outputs": [
    {
     "data": {
      "text/plain": [
       "[('9', 'Q'),\n",
       " ('J', 'Q'),\n",
       " ('K', 'J'),\n",
       " ('J', 'A'),\n",
       " ('10', 'A'),\n",
       " ('9', 'K'),\n",
       " ('K', 'K'),\n",
       " ('A', 'Q'),\n",
       " ('9', '10'),\n",
       " ('A', 'K')]"
      ]
     },
     "execution_count": 6,
     "metadata": {},
     "output_type": "execute_result"
    }
   ],
   "execution_count": 6
  },
  {
   "cell_type": "markdown",
   "id": "afraid-rough",
   "metadata": {},
   "source": [
    "But it would be simpler to use the fact that `choices` can return multiple chocies, and it does so with replacement."
   ]
  },
  {
   "cell_type": "code",
   "id": "uniform-meaning",
   "metadata": {
    "ExecuteTime": {
     "end_time": "2025-06-18T04:59:01.609758Z",
     "start_time": "2025-06-18T04:59:01.602614Z"
    }
   },
   "source": [
    "random.choices(sample_space, k=10)"
   ],
   "outputs": [
    {
     "data": {
      "text/plain": [
       "[('Q', '9'),\n",
       " ('Q', 'J'),\n",
       " ('10', 'J'),\n",
       " ('A', 'Q'),\n",
       " ('K', 'K'),\n",
       " ('A', '9'),\n",
       " ('9', 'K'),\n",
       " ('Q', 'A'),\n",
       " ('A', 'J'),\n",
       " ('Q', '10')]"
      ]
     },
     "execution_count": 7,
     "metadata": {},
     "output_type": "execute_result"
    }
   ],
   "execution_count": 7
  },
  {
   "cell_type": "markdown",
   "id": "alpha-subject",
   "metadata": {},
   "source": [
    "Let's write this up as a function:"
   ]
  },
  {
   "cell_type": "code",
   "id": "seasonal-balloon",
   "metadata": {
    "ExecuteTime": {
     "end_time": "2025-06-18T04:59:01.672484Z",
     "start_time": "2025-06-18T04:59:01.665966Z"
    }
   },
   "source": [
    "def simulate_throws_from_sample_space(n):\n",
    "    return random.choices(make_sample_space(), k=n)"
   ],
   "outputs": [],
   "execution_count": 8
  },
  {
   "cell_type": "code",
   "id": "distinguished-phenomenon",
   "metadata": {
    "ExecuteTime": {
     "end_time": "2025-06-18T04:59:01.724370Z",
     "start_time": "2025-06-18T04:59:01.719175Z"
    }
   },
   "source": [
    "simulate_throws_from_sample_space(10)"
   ],
   "outputs": [
    {
     "data": {
      "text/plain": [
       "[('Q', '9'),\n",
       " ('K', '9'),\n",
       " ('10', 'Q'),\n",
       " ('J', '9'),\n",
       " ('Q', '9'),\n",
       " ('Q', '10'),\n",
       " ('J', 'K'),\n",
       " ('Q', 'K'),\n",
       " ('A', 'J'),\n",
       " ('J', '9')]"
      ]
     },
     "execution_count": 9,
     "metadata": {},
     "output_type": "execute_result"
    }
   ],
   "execution_count": 9
  },
  {
   "cell_type": "markdown",
   "id": "false-richmond",
   "metadata": {},
   "source": [
    "#### Question 3"
   ]
  },
  {
   "cell_type": "markdown",
   "id": "ancient-aside",
   "metadata": {},
   "source": [
    "Your goal here is to implement a function `simulate_throws`, similar to the one you wrote in Question 2, but without generating a sample space at all - just using the `face_values`.\n",
    "\n",
    "Write a function that implements this, and name it `simulate_throws`."
   ]
  },
  {
   "cell_type": "markdown",
   "id": "coupled-asbestos",
   "metadata": {},
   "source": [
    "##### Solution"
   ]
  },
  {
   "cell_type": "markdown",
   "id": "completed-lebanon",
   "metadata": {},
   "source": [
    "The key here is that we can make multiple choices (with replacement) from the same set of values using the `choices` fucntion that we just used in Question 2."
   ]
  },
  {
   "cell_type": "markdown",
   "id": "ambient-possible",
   "metadata": {},
   "source": [
    "So each throw can be simulated using:"
   ]
  },
  {
   "cell_type": "code",
   "id": "spiritual-luther",
   "metadata": {
    "ExecuteTime": {
     "end_time": "2025-06-18T04:59:01.785636Z",
     "start_time": "2025-06-18T04:59:01.780581Z"
    }
   },
   "source": [
    "random.choices(face_values, k=2)"
   ],
   "outputs": [
    {
     "data": {
      "text/plain": [
       "['9', 'A']"
      ]
     },
     "execution_count": 10,
     "metadata": {},
     "output_type": "execute_result"
    }
   ],
   "execution_count": 10
  },
  {
   "cell_type": "markdown",
   "id": "imposed-nirvana",
   "metadata": {},
   "source": [
    "This comes back as a list, which is fine - but we could make it into a tuple if we preferred to keep it consistent with what we had before:"
   ]
  },
  {
   "cell_type": "code",
   "id": "whole-election",
   "metadata": {
    "ExecuteTime": {
     "end_time": "2025-06-18T04:59:01.831482Z",
     "start_time": "2025-06-18T04:59:01.825587Z"
    }
   },
   "source": [
    "tuple(random.choices(face_values, k=2))"
   ],
   "outputs": [
    {
     "data": {
      "text/plain": [
       "('Q', 'K')"
      ]
     },
     "execution_count": 11,
     "metadata": {},
     "output_type": "execute_result"
    }
   ],
   "execution_count": 11
  },
  {
   "cell_type": "markdown",
   "id": "determined-easter",
   "metadata": {},
   "source": [
    "We can then asemble a list of these tuples using a simple comprehension:"
   ]
  },
  {
   "cell_type": "code",
   "id": "searching-wallpaper",
   "metadata": {
    "ExecuteTime": {
     "end_time": "2025-06-18T04:59:01.911097Z",
     "start_time": "2025-06-18T04:59:01.904530Z"
    }
   },
   "source": [
    "[tuple(random.choices(face_values, k=2)) for _ in range(10)]"
   ],
   "outputs": [
    {
     "data": {
      "text/plain": [
       "[('K', 'K'),\n",
       " ('10', 'A'),\n",
       " ('J', 'K'),\n",
       " ('9', 'Q'),\n",
       " ('J', 'A'),\n",
       " ('9', '10'),\n",
       " ('9', '10'),\n",
       " ('10', '10'),\n",
       " ('J', 'A'),\n",
       " ('J', 'Q')]"
      ]
     },
     "execution_count": 12,
     "metadata": {},
     "output_type": "execute_result"
    }
   ],
   "execution_count": 12
  },
  {
   "cell_type": "markdown",
   "id": "elegant-cooper",
   "metadata": {},
   "source": [
    "Let's package that up into a function:"
   ]
  },
  {
   "cell_type": "code",
   "id": "pressing-bridges",
   "metadata": {
    "ExecuteTime": {
     "end_time": "2025-06-18T04:59:01.988584Z",
     "start_time": "2025-06-18T04:59:01.981852Z"
    }
   },
   "source": [
    "def simulate_throws(n):\n",
    "    return [tuple(random.choices(face_values, k=2)) for _ in range(n)]"
   ],
   "outputs": [],
   "execution_count": 13
  },
  {
   "cell_type": "code",
   "id": "backed-finance",
   "metadata": {
    "ExecuteTime": {
     "end_time": "2025-06-18T04:59:02.036744Z",
     "start_time": "2025-06-18T04:59:02.030320Z"
    }
   },
   "source": [
    "simulate_throws(10)"
   ],
   "outputs": [
    {
     "data": {
      "text/plain": [
       "[('A', 'J'),\n",
       " ('J', 'A'),\n",
       " ('10', 'K'),\n",
       " ('K', 'Q'),\n",
       " ('K', 'K'),\n",
       " ('Q', 'J'),\n",
       " ('A', 'K'),\n",
       " ('9', 'J'),\n",
       " ('A', 'Q'),\n",
       " ('J', 'K')]"
      ]
     },
     "execution_count": 14,
     "metadata": {},
     "output_type": "execute_result"
    }
   ],
   "execution_count": 14
  },
  {
   "cell_type": "markdown",
   "id": "married-launch",
   "metadata": {},
   "source": [
    "#### Question 4"
   ]
  },
  {
   "cell_type": "markdown",
   "id": "restricted-rhythm",
   "metadata": {},
   "source": [
    "Using both methods of generating throws, build a dictionary that contains the face values as keys, and the number of times they were selected in the simulated throws."
   ]
  },
  {
   "cell_type": "markdown",
   "id": "classical-daughter",
   "metadata": {},
   "source": [
    "For example, assuming you made `100` throws using one of these methods, your dictionary might look like this:\n",
    "\n",
    "```\n",
    "{\n",
    "    '9': 39, \n",
    "    '10': 27, \n",
    "    'J': 28, \n",
    "    'Q': 34,\n",
    "    'K': 36, \n",
    "    'A': 36\n",
    "}\n",
    "```"
   ]
  },
  {
   "cell_type": "markdown",
   "id": "quiet-democracy",
   "metadata": {},
   "source": [
    "Note that your values in the dictionary should add up to `200` is you made one `100` throws."
   ]
  },
  {
   "cell_type": "markdown",
   "id": "higher-roman",
   "metadata": {},
   "source": [
    "Write a function that is given the function to use to generate the throws, the number of throws to simulate, and returns this dictionary."
   ]
  },
  {
   "cell_type": "markdown",
   "id": "appropriate-telephone",
   "metadata": {},
   "source": [
    "##### Solution"
   ]
  },
  {
   "cell_type": "markdown",
   "id": "herbal-norfolk",
   "metadata": {},
   "source": [
    "Let's create a sequence of throws:"
   ]
  },
  {
   "cell_type": "code",
   "id": "acting-livestock",
   "metadata": {
    "ExecuteTime": {
     "end_time": "2025-06-18T04:59:02.097398Z",
     "start_time": "2025-06-18T04:59:02.092774Z"
    }
   },
   "source": [
    "sample = simulate_throws(100)"
   ],
   "outputs": [],
   "execution_count": 15
  },
  {
   "cell_type": "code",
   "id": "direct-wisconsin",
   "metadata": {
    "ExecuteTime": {
     "end_time": "2025-06-18T04:59:02.136902Z",
     "start_time": "2025-06-18T04:59:02.127669Z"
    }
   },
   "source": [
    "sample"
   ],
   "outputs": [
    {
     "data": {
      "text/plain": [
       "[('K', '9'),\n",
       " ('10', '9'),\n",
       " ('Q', '10'),\n",
       " ('J', 'A'),\n",
       " ('10', '9'),\n",
       " ('K', '9'),\n",
       " ('J', '9'),\n",
       " ('10', '9'),\n",
       " ('10', 'Q'),\n",
       " ('A', '9'),\n",
       " ('10', 'J'),\n",
       " ('J', 'J'),\n",
       " ('Q', 'J'),\n",
       " ('Q', '10'),\n",
       " ('10', 'K'),\n",
       " ('K', '10'),\n",
       " ('K', 'J'),\n",
       " ('A', 'Q'),\n",
       " ('9', 'Q'),\n",
       " ('K', 'K'),\n",
       " ('Q', 'K'),\n",
       " ('Q', '10'),\n",
       " ('10', '10'),\n",
       " ('A', '10'),\n",
       " ('A', '10'),\n",
       " ('10', 'K'),\n",
       " ('K', 'K'),\n",
       " ('10', 'K'),\n",
       " ('9', 'K'),\n",
       " ('A', 'Q'),\n",
       " ('A', 'J'),\n",
       " ('J', 'Q'),\n",
       " ('10', '9'),\n",
       " ('A', 'J'),\n",
       " ('Q', 'K'),\n",
       " ('K', 'Q'),\n",
       " ('J', '10'),\n",
       " ('K', '10'),\n",
       " ('9', '9'),\n",
       " ('Q', 'J'),\n",
       " ('9', 'Q'),\n",
       " ('K', 'K'),\n",
       " ('J', '9'),\n",
       " ('K', 'K'),\n",
       " ('J', '10'),\n",
       " ('K', 'K'),\n",
       " ('9', 'K'),\n",
       " ('Q', 'Q'),\n",
       " ('10', 'J'),\n",
       " ('Q', 'J'),\n",
       " ('J', '10'),\n",
       " ('10', 'J'),\n",
       " ('J', 'Q'),\n",
       " ('K', 'A'),\n",
       " ('10', 'K'),\n",
       " ('Q', '9'),\n",
       " ('Q', 'Q'),\n",
       " ('A', 'J'),\n",
       " ('J', 'K'),\n",
       " ('Q', '10'),\n",
       " ('Q', 'A'),\n",
       " ('A', 'K'),\n",
       " ('K', '10'),\n",
       " ('10', 'J'),\n",
       " ('K', '9'),\n",
       " ('Q', 'A'),\n",
       " ('J', 'A'),\n",
       " ('Q', 'K'),\n",
       " ('10', 'K'),\n",
       " ('J', 'K'),\n",
       " ('10', '10'),\n",
       " ('Q', '10'),\n",
       " ('9', 'Q'),\n",
       " ('Q', '10'),\n",
       " ('A', 'Q'),\n",
       " ('Q', '9'),\n",
       " ('9', '10'),\n",
       " ('K', 'K'),\n",
       " ('10', 'Q'),\n",
       " ('K', 'A'),\n",
       " ('10', 'J'),\n",
       " ('K', '10'),\n",
       " ('K', 'J'),\n",
       " ('K', '10'),\n",
       " ('K', 'A'),\n",
       " ('10', '9'),\n",
       " ('9', 'J'),\n",
       " ('J', '9'),\n",
       " ('K', 'A'),\n",
       " ('9', 'A'),\n",
       " ('Q', 'J'),\n",
       " ('Q', '9'),\n",
       " ('A', 'K'),\n",
       " ('A', 'Q'),\n",
       " ('K', 'K'),\n",
       " ('Q', 'Q'),\n",
       " ('10', 'J'),\n",
       " ('J', '10'),\n",
       " ('9', '9'),\n",
       " ('10', '9')]"
      ]
     },
     "execution_count": 16,
     "metadata": {},
     "output_type": "execute_result"
    }
   ],
   "execution_count": 16
  },
  {
   "cell_type": "markdown",
   "id": "higher-richards",
   "metadata": {},
   "source": [
    "We could try and basically iterate through every row and every item in the row and build up a counter this way:"
   ]
  },
  {
   "cell_type": "code",
   "id": "functioning-bruce",
   "metadata": {
    "ExecuteTime": {
     "end_time": "2025-06-18T04:59:02.212366Z",
     "start_time": "2025-06-18T04:59:02.204326Z"
    }
   },
   "source": [
    "frequencies = {}\n",
    "for row in sample:\n",
    "    for value in row:\n",
    "        frequencies[value] = frequencies.get(value, 0) + 1\n",
    "frequencies"
   ],
   "outputs": [
    {
     "data": {
      "text/plain": [
       "{'K': 43, '9': 28, '10': 41, 'Q': 36, 'J': 31, 'A': 21}"
      ]
     },
     "execution_count": 17,
     "metadata": {},
     "output_type": "execute_result"
    }
   ],
   "execution_count": 17
  },
  {
   "cell_type": "markdown",
   "id": "brutal-nothing",
   "metadata": {},
   "source": [
    "We could however, use the `Counter` in the `collections` module instead - recall how it works:"
   ]
  },
  {
   "cell_type": "code",
   "id": "eastern-commander",
   "metadata": {
    "ExecuteTime": {
     "end_time": "2025-06-18T04:59:02.286432Z",
     "start_time": "2025-06-18T04:59:02.280247Z"
    }
   },
   "source": [
    "from collections import Counter"
   ],
   "outputs": [],
   "execution_count": 18
  },
  {
   "cell_type": "code",
   "id": "simple-camcorder",
   "metadata": {
    "ExecuteTime": {
     "end_time": "2025-06-18T04:59:02.333432Z",
     "start_time": "2025-06-18T04:59:02.326546Z"
    }
   },
   "source": [
    "dict(Counter(['A', 'J', 'Q', 'A', 'J']))"
   ],
   "outputs": [
    {
     "data": {
      "text/plain": [
       "{'A': 2, 'J': 2, 'Q': 1}"
      ]
     },
     "execution_count": 19,
     "metadata": {},
     "output_type": "execute_result"
    }
   ],
   "execution_count": 19
  },
  {
   "cell_type": "markdown",
   "id": "adapted-proportion",
   "metadata": {},
   "source": [
    "The problem here is that we have a list of tuples - what we atually need is to flatten this list out and just get a list of the individual values."
   ]
  },
  {
   "cell_type": "markdown",
   "id": "revised-ballot",
   "metadata": {},
   "source": [
    "We can do this easily enough using a comprehension:"
   ]
  },
  {
   "cell_type": "code",
   "id": "interested-yeast",
   "metadata": {
    "ExecuteTime": {
     "end_time": "2025-06-18T04:59:02.395527Z",
     "start_time": "2025-06-18T04:59:02.388593Z"
    }
   },
   "source": [
    "values = [e for throw in sample for e in throw]\n",
    "values"
   ],
   "outputs": [
    {
     "data": {
      "text/plain": [
       "['K',\n",
       " '9',\n",
       " '10',\n",
       " '9',\n",
       " 'Q',\n",
       " '10',\n",
       " 'J',\n",
       " 'A',\n",
       " '10',\n",
       " '9',\n",
       " 'K',\n",
       " '9',\n",
       " 'J',\n",
       " '9',\n",
       " '10',\n",
       " '9',\n",
       " '10',\n",
       " 'Q',\n",
       " 'A',\n",
       " '9',\n",
       " '10',\n",
       " 'J',\n",
       " 'J',\n",
       " 'J',\n",
       " 'Q',\n",
       " 'J',\n",
       " 'Q',\n",
       " '10',\n",
       " '10',\n",
       " 'K',\n",
       " 'K',\n",
       " '10',\n",
       " 'K',\n",
       " 'J',\n",
       " 'A',\n",
       " 'Q',\n",
       " '9',\n",
       " 'Q',\n",
       " 'K',\n",
       " 'K',\n",
       " 'Q',\n",
       " 'K',\n",
       " 'Q',\n",
       " '10',\n",
       " '10',\n",
       " '10',\n",
       " 'A',\n",
       " '10',\n",
       " 'A',\n",
       " '10',\n",
       " '10',\n",
       " 'K',\n",
       " 'K',\n",
       " 'K',\n",
       " '10',\n",
       " 'K',\n",
       " '9',\n",
       " 'K',\n",
       " 'A',\n",
       " 'Q',\n",
       " 'A',\n",
       " 'J',\n",
       " 'J',\n",
       " 'Q',\n",
       " '10',\n",
       " '9',\n",
       " 'A',\n",
       " 'J',\n",
       " 'Q',\n",
       " 'K',\n",
       " 'K',\n",
       " 'Q',\n",
       " 'J',\n",
       " '10',\n",
       " 'K',\n",
       " '10',\n",
       " '9',\n",
       " '9',\n",
       " 'Q',\n",
       " 'J',\n",
       " '9',\n",
       " 'Q',\n",
       " 'K',\n",
       " 'K',\n",
       " 'J',\n",
       " '9',\n",
       " 'K',\n",
       " 'K',\n",
       " 'J',\n",
       " '10',\n",
       " 'K',\n",
       " 'K',\n",
       " '9',\n",
       " 'K',\n",
       " 'Q',\n",
       " 'Q',\n",
       " '10',\n",
       " 'J',\n",
       " 'Q',\n",
       " 'J',\n",
       " 'J',\n",
       " '10',\n",
       " '10',\n",
       " 'J',\n",
       " 'J',\n",
       " 'Q',\n",
       " 'K',\n",
       " 'A',\n",
       " '10',\n",
       " 'K',\n",
       " 'Q',\n",
       " '9',\n",
       " 'Q',\n",
       " 'Q',\n",
       " 'A',\n",
       " 'J',\n",
       " 'J',\n",
       " 'K',\n",
       " 'Q',\n",
       " '10',\n",
       " 'Q',\n",
       " 'A',\n",
       " 'A',\n",
       " 'K',\n",
       " 'K',\n",
       " '10',\n",
       " '10',\n",
       " 'J',\n",
       " 'K',\n",
       " '9',\n",
       " 'Q',\n",
       " 'A',\n",
       " 'J',\n",
       " 'A',\n",
       " 'Q',\n",
       " 'K',\n",
       " '10',\n",
       " 'K',\n",
       " 'J',\n",
       " 'K',\n",
       " '10',\n",
       " '10',\n",
       " 'Q',\n",
       " '10',\n",
       " '9',\n",
       " 'Q',\n",
       " 'Q',\n",
       " '10',\n",
       " 'A',\n",
       " 'Q',\n",
       " 'Q',\n",
       " '9',\n",
       " '9',\n",
       " '10',\n",
       " 'K',\n",
       " 'K',\n",
       " '10',\n",
       " 'Q',\n",
       " 'K',\n",
       " 'A',\n",
       " '10',\n",
       " 'J',\n",
       " 'K',\n",
       " '10',\n",
       " 'K',\n",
       " 'J',\n",
       " 'K',\n",
       " '10',\n",
       " 'K',\n",
       " 'A',\n",
       " '10',\n",
       " '9',\n",
       " '9',\n",
       " 'J',\n",
       " 'J',\n",
       " '9',\n",
       " 'K',\n",
       " 'A',\n",
       " '9',\n",
       " 'A',\n",
       " 'Q',\n",
       " 'J',\n",
       " 'Q',\n",
       " '9',\n",
       " 'A',\n",
       " 'K',\n",
       " 'A',\n",
       " 'Q',\n",
       " 'K',\n",
       " 'K',\n",
       " 'Q',\n",
       " 'Q',\n",
       " '10',\n",
       " 'J',\n",
       " 'J',\n",
       " '10',\n",
       " '9',\n",
       " '9',\n",
       " '10',\n",
       " '9']"
      ]
     },
     "execution_count": 20,
     "metadata": {},
     "output_type": "execute_result"
    }
   ],
   "execution_count": 20
  },
  {
   "cell_type": "markdown",
   "id": "atomic-glory",
   "metadata": {},
   "source": [
    "And we could pass that to now to a `Counter`:"
   ]
  },
  {
   "cell_type": "code",
   "id": "greater-clinton",
   "metadata": {
    "ExecuteTime": {
     "end_time": "2025-06-18T04:59:02.451393Z",
     "start_time": "2025-06-18T04:59:02.446008Z"
    }
   },
   "source": [
    "dict(Counter(values))"
   ],
   "outputs": [
    {
     "data": {
      "text/plain": [
       "{'K': 43, '9': 28, '10': 41, 'Q': 36, 'J': 31, 'A': 21}"
      ]
     },
     "execution_count": 21,
     "metadata": {},
     "output_type": "execute_result"
    }
   ],
   "execution_count": 21
  },
  {
   "cell_type": "markdown",
   "id": "secondary-queens",
   "metadata": {},
   "source": [
    "Let's make a function to encapsulate all this."
   ]
  },
  {
   "cell_type": "code",
   "id": "impaired-lesbian",
   "metadata": {
    "ExecuteTime": {
     "end_time": "2025-06-18T04:59:02.497659Z",
     "start_time": "2025-06-18T04:59:02.492430Z"
    }
   },
   "source": [
    "def frequency_analysis(func, n):\n",
    "    sample = func(n)\n",
    "    values = [e for throw in sample for e in throw]\n",
    "    return dict(Counter(values))"
   ],
   "outputs": [],
   "execution_count": 22
  },
  {
   "cell_type": "markdown",
   "id": "pressed-tonight",
   "metadata": {},
   "source": [
    "And now we can use this function with any of our throw generators:"
   ]
  },
  {
   "cell_type": "code",
   "id": "genuine-athens",
   "metadata": {
    "ExecuteTime": {
     "end_time": "2025-06-18T04:59:02.565229Z",
     "start_time": "2025-06-18T04:59:02.560107Z"
    }
   },
   "source": [
    "frequency_analysis(simulate_throws_from_sample_space, 100)"
   ],
   "outputs": [
    {
     "data": {
      "text/plain": [
       "{'A': 36, '10': 31, '9': 28, 'K': 30, 'J': 41, 'Q': 34}"
      ]
     },
     "execution_count": 23,
     "metadata": {},
     "output_type": "execute_result"
    }
   ],
   "execution_count": 23
  },
  {
   "cell_type": "code",
   "id": "patient-lunch",
   "metadata": {
    "ExecuteTime": {
     "end_time": "2025-06-18T04:59:02.631142Z",
     "start_time": "2025-06-18T04:59:02.624561Z"
    }
   },
   "source": [
    "frequency_analysis(simulate_throws, 100)"
   ],
   "outputs": [
    {
     "data": {
      "text/plain": [
       "{'A': 40, '9': 36, 'K': 24, 'J': 37, '10': 35, 'Q': 28}"
      ]
     },
     "execution_count": 24,
     "metadata": {},
     "output_type": "execute_result"
    }
   ],
   "execution_count": 24
  },
  {
   "cell_type": "markdown",
   "id": "instructional-given",
   "metadata": {},
   "source": [
    "#### Question 5"
   ]
  },
  {
   "cell_type": "markdown",
   "id": "packed-criminal",
   "metadata": {},
   "source": [
    "Write a function that given two arguments `a` and `b` returns a random float between `a` (inclusive) and `b` (exclusive)."
   ]
  },
  {
   "cell_type": "markdown",
   "id": "ready-washer",
   "metadata": {},
   "source": [
    "##### Solution"
   ]
  },
  {
   "cell_type": "markdown",
   "id": "friendly-ivory",
   "metadata": {},
   "source": [
    "The standard random float generator returns values in `[0, 1)`."
   ]
  },
  {
   "cell_type": "markdown",
   "id": "included-tampa",
   "metadata": {},
   "source": [
    "In our case, we'll need to translate this to start at `a`:"
   ]
  },
  {
   "cell_type": "code",
   "id": "bound-marijuana",
   "metadata": {
    "ExecuteTime": {
     "end_time": "2025-06-18T04:59:02.690926Z",
     "start_time": "2025-06-18T04:59:02.685409Z"
    }
   },
   "source": [
    "10 + random.random()"
   ],
   "outputs": [
    {
     "data": {
      "text/plain": [
       "10.708695157210544"
      ]
     },
     "execution_count": 25,
     "metadata": {},
     "output_type": "execute_result"
    }
   ],
   "execution_count": 25
  },
  {
   "cell_type": "markdown",
   "id": "lightweight-literature",
   "metadata": {},
   "source": [
    "And we'll need to make sure our random float is \"scaled\" to the length of our desired interval (`b-a`):"
   ]
  },
  {
   "cell_type": "markdown",
   "id": "breeding-gardening",
   "metadata": {},
   "source": [
    "If we have an interval such as `[10, 20)`, we want our random number (before adding `10`) to it, to be in the range `[0, 10)`. We can do so by multiplying it by `10` - and in general by `b-a`."
   ]
  },
  {
   "cell_type": "code",
   "id": "charming-utility",
   "metadata": {
    "ExecuteTime": {
     "end_time": "2025-06-18T04:59:02.753593Z",
     "start_time": "2025-06-18T04:59:02.745618Z"
    }
   },
   "source": [
    "10 + (random.random() * (20 - 10))"
   ],
   "outputs": [
    {
     "data": {
      "text/plain": [
       "15.066731427694004"
      ]
     },
     "execution_count": 26,
     "metadata": {},
     "output_type": "execute_result"
    }
   ],
   "execution_count": 26
  },
  {
   "cell_type": "markdown",
   "id": "moderate-spell",
   "metadata": {},
   "source": [
    "Let's write this as a function:"
   ]
  },
  {
   "cell_type": "code",
   "id": "limiting-quantity",
   "metadata": {
    "ExecuteTime": {
     "end_time": "2025-06-18T04:59:02.812472Z",
     "start_time": "2025-06-18T04:59:02.807157Z"
    }
   },
   "source": [
    "def random_float(a=0, b=1):\n",
    "    return a + random.random() * (b-a)"
   ],
   "outputs": [],
   "execution_count": 27
  },
  {
   "cell_type": "markdown",
   "id": "liberal-jones",
   "metadata": {},
   "source": [
    "Ad we can then use it this way:"
   ]
  },
  {
   "cell_type": "code",
   "id": "registered-training",
   "metadata": {
    "ExecuteTime": {
     "end_time": "2025-06-18T04:59:02.858583Z",
     "start_time": "2025-06-18T04:59:02.852550Z"
    }
   },
   "source": [
    "for _ in range(10):\n",
    "    print(random_float(12, 14))"
   ],
   "outputs": [
    {
     "name": "stdout",
     "output_type": "stream",
     "text": [
      "12.724125315817922\n",
      "13.766678542290636\n",
      "12.97034611459643\n",
      "12.700221886302568\n",
      "13.648152208101111\n",
      "13.754264908741806\n",
      "12.615055434681938\n",
      "12.578388021028237\n",
      "12.178052243553276\n",
      "12.481459420298222\n"
     ]
    }
   ],
   "execution_count": 28
  }
 ],
 "metadata": {
  "kernelspec": {
   "display_name": "Python 3",
   "language": "python",
   "name": "python3"
  },
  "language_info": {
   "codemirror_mode": {
    "name": "ipython",
    "version": 3
   },
   "file_extension": ".py",
   "mimetype": "text/x-python",
   "name": "python",
   "nbconvert_exporter": "python",
   "pygments_lexer": "ipython3",
   "version": "3.9.1"
  }
 },
 "nbformat": 4,
 "nbformat_minor": 5
}
