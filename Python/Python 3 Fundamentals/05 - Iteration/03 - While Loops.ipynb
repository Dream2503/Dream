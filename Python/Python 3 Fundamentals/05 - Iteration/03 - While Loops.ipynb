{
 "cells": [
  {
   "cell_type": "markdown",
   "metadata": {},
   "source": [
    "### While Loops"
   ]
  },
  {
   "cell_type": "markdown",
   "metadata": {},
   "source": [
    "The `while` loop is another way to repeat the same code multiple times."
   ]
  },
  {
   "cell_type": "markdown",
   "metadata": {},
   "source": [
    "Unlike the `for` loop which is used to iterate over an iterable, the `while` loop uses a conditional to run code as many times as some condition remains `True`."
   ]
  },
  {
   "cell_type": "markdown",
   "metadata": {},
   "source": [
    "Let's look at a simple example first:"
   ]
  },
  {
   "cell_type": "code",
   "metadata": {
    "ExecuteTime": {
     "end_time": "2025-06-17T19:33:14.709859Z",
     "start_time": "2025-06-17T19:33:14.701715Z"
    }
   },
   "source": [
    "price = 100\n",
    "\n",
    "while price > 90:\n",
    "    print(f'price = {price} - waiting for price for come down...')\n",
    "    price = price -1  # or price -= 1\n",
    "print(f'buying at {price}.')"
   ],
   "outputs": [
    {
     "name": "stdout",
     "output_type": "stream",
     "text": [
      "price = 100 - waiting for price for come down...\n",
      "price = 99 - waiting for price for come down...\n",
      "price = 98 - waiting for price for come down...\n",
      "price = 97 - waiting for price for come down...\n",
      "price = 96 - waiting for price for come down...\n",
      "price = 95 - waiting for price for come down...\n",
      "price = 94 - waiting for price for come down...\n",
      "price = 93 - waiting for price for come down...\n",
      "price = 92 - waiting for price for come down...\n",
      "price = 91 - waiting for price for come down...\n",
      "buying at 90.\n"
     ]
    }
   ],
   "execution_count": 1
  },
  {
   "cell_type": "markdown",
   "metadata": {},
   "source": [
    "As you can see, the code block was repeated as long as the condition was true.\n",
    "\n",
    "When you write `while` loops, it is possible that the loop block **never** executes - that is something you should watch out for as it often can introduce bugs."
   ]
  },
  {
   "cell_type": "code",
   "metadata": {
    "ExecuteTime": {
     "end_time": "2025-06-17T19:33:15.616774Z",
     "start_time": "2025-06-17T19:33:15.611026Z"
    }
   },
   "source": [
    "price = 100\n",
    "while price < 50:\n",
    "    print(f'price={price}')\n",
    "print('done')"
   ],
   "outputs": [
    {
     "name": "stdout",
     "output_type": "stream",
     "text": [
      "done\n"
     ]
    }
   ],
   "execution_count": 2
  },
  {
   "cell_type": "markdown",
   "metadata": {},
   "source": [
    "The other thing is to watch out for infinite loops!\n",
    "(Don't run this code - otherwise you'll have to interrupt the kernel (from the `Kernel` menu)"
   ]
  },
  {
   "cell_type": "markdown",
   "metadata": {},
   "source": [
    "```\n",
    "price = 100\n",
    "while price > 90:\n",
    "    print(f'price={price}')\n",
    "    price += 1\n",
    "```"
   ]
  },
  {
   "cell_type": "markdown",
   "metadata": {},
   "source": [
    "As you can see, this loop executes indefinitely."
   ]
  },
  {
   "cell_type": "markdown",
   "metadata": {},
   "source": [
    "`while` loops are actually quite useful for modifying iterables as we are iterating over them."
   ]
  },
  {
   "cell_type": "markdown",
   "metadata": {},
   "source": [
    "For example, suppose we have a list of data that we have to process and remove from the list once we have procesed it, repeating this until the list is empty."
   ]
  },
  {
   "cell_type": "code",
   "metadata": {
    "ExecuteTime": {
     "end_time": "2025-06-17T19:33:19.502951Z",
     "start_time": "2025-06-17T19:33:19.498154Z"
    }
   },
   "source": [
    "data = [100, 200, 300, 400, 500]"
   ],
   "outputs": [],
   "execution_count": 3
  },
  {
   "cell_type": "code",
   "metadata": {
    "ExecuteTime": {
     "end_time": "2025-06-17T19:33:19.944450Z",
     "start_time": "2025-06-17T19:33:19.938690Z"
    }
   },
   "source": [
    "while len(data) > 0:\n",
    "    last_element = data.pop()  # retrieves and removes last list element\n",
    "    print(f'processing element: {last_element}')"
   ],
   "outputs": [
    {
     "name": "stdout",
     "output_type": "stream",
     "text": [
      "processing element: 500\n",
      "processing element: 400\n",
      "processing element: 300\n",
      "processing element: 200\n",
      "processing element: 100\n"
     ]
    }
   ],
   "execution_count": 4
  },
  {
   "cell_type": "markdown",
   "metadata": {},
   "source": [
    "On the other hand, trying to do the same using a `for` loop is not recommended!"
   ]
  },
  {
   "cell_type": "code",
   "metadata": {
    "ExecuteTime": {
     "end_time": "2025-06-17T19:33:21.023775Z",
     "start_time": "2025-06-17T19:33:21.017556Z"
    }
   },
   "source": [
    "data = [100, 200, 300, 400, 500]"
   ],
   "outputs": [],
   "execution_count": 5
  },
  {
   "cell_type": "code",
   "metadata": {
    "ExecuteTime": {
     "end_time": "2025-06-17T19:33:22.140609Z",
     "start_time": "2025-06-17T19:33:21.766471Z"
    }
   },
   "source": [
    "for i in range(len(data)):\n",
    "    element = data.pop(i)  # remove element at index i\n",
    "    print(f'processing element: {element}')\n",
    "    "
   ],
   "outputs": [
    {
     "name": "stdout",
     "output_type": "stream",
     "text": [
      "processing element: 100\n",
      "processing element: 300\n",
      "processing element: 500\n"
     ]
    },
    {
     "ename": "IndexError",
     "evalue": "pop index out of range",
     "output_type": "error",
     "traceback": [
      "\u001B[1;31m---------------------------------------------------------------------------\u001B[0m",
      "\u001B[1;31mIndexError\u001B[0m                                Traceback (most recent call last)",
      "Cell \u001B[1;32mIn[6], line 2\u001B[0m\n\u001B[0;32m      1\u001B[0m \u001B[38;5;28;01mfor\u001B[39;00m i \u001B[38;5;129;01min\u001B[39;00m \u001B[38;5;28mrange\u001B[39m(\u001B[38;5;28mlen\u001B[39m(data)):\n\u001B[1;32m----> 2\u001B[0m     element \u001B[38;5;241m=\u001B[39m \u001B[43mdata\u001B[49m\u001B[38;5;241;43m.\u001B[39;49m\u001B[43mpop\u001B[49m\u001B[43m(\u001B[49m\u001B[43mi\u001B[49m\u001B[43m)\u001B[49m  \u001B[38;5;66;03m# remove element at index i\u001B[39;00m\n\u001B[0;32m      3\u001B[0m     \u001B[38;5;28mprint\u001B[39m(\u001B[38;5;124mf\u001B[39m\u001B[38;5;124m'\u001B[39m\u001B[38;5;124mprocessing element: \u001B[39m\u001B[38;5;132;01m{\u001B[39;00melement\u001B[38;5;132;01m}\u001B[39;00m\u001B[38;5;124m'\u001B[39m)\n",
      "\u001B[1;31mIndexError\u001B[0m: pop index out of range"
     ]
    }
   ],
   "execution_count": 6
  },
  {
   "cell_type": "markdown",
   "metadata": {},
   "source": [
    "So, a number of things happened here.\n",
    "\n",
    "First, notice that the elements processed were `100`, followed by `300`, and then `500`. \n",
    "\n",
    "What happened to `200` and `400`?"
   ]
  },
  {
   "cell_type": "markdown",
   "metadata": {},
   "source": [
    "Then we got an `IndexError` indicating we were trying to retrieve an element using an out of bounds index."
   ]
  },
  {
   "cell_type": "markdown",
   "metadata": {},
   "source": [
    "Let's modify the code a bit and see what happened:"
   ]
  },
  {
   "cell_type": "code",
   "metadata": {
    "ExecuteTime": {
     "end_time": "2025-06-17T19:33:29.195826Z",
     "start_time": "2025-06-17T19:33:29.189830Z"
    }
   },
   "source": [
    "data = [100, 200, 300, 400, 500]"
   ],
   "outputs": [],
   "execution_count": 7
  },
  {
   "cell_type": "markdown",
   "metadata": {},
   "source": [
    "First, `len(data)` is calculate at the start of the loop, so the number is:"
   ]
  },
  {
   "cell_type": "code",
   "metadata": {
    "ExecuteTime": {
     "end_time": "2025-06-17T19:33:30.062666Z",
     "start_time": "2025-06-17T19:33:30.054318Z"
    }
   },
   "source": [
    "len(data)"
   ],
   "outputs": [
    {
     "data": {
      "text/plain": [
       "5"
      ]
     },
     "execution_count": 8,
     "metadata": {},
     "output_type": "execute_result"
    }
   ],
   "execution_count": 8
  },
  {
   "cell_type": "markdown",
   "metadata": {},
   "source": [
    "So, we could re-write our code this way, and at the same time we'll print what `data` looks like in each iteration:"
   ]
  },
  {
   "cell_type": "code",
   "metadata": {
    "ExecuteTime": {
     "end_time": "2025-06-17T19:33:31.186188Z",
     "start_time": "2025-06-17T19:33:31.162956Z"
    }
   },
   "source": [
    "for i in range(len(data)):\n",
    "    print(f'i = {i}')\n",
    "    print(f'before removing element: data = {data}')\n",
    "    element = data.pop(i)  # remove element at index i\n",
    "    print(f'processing element: {element}')\n",
    "    print(f'after removing element: data = {data}')\n",
    "    print('-' * 10)"
   ],
   "outputs": [
    {
     "name": "stdout",
     "output_type": "stream",
     "text": [
      "i = 0\n",
      "before removing element: data = [100, 200, 300, 400, 500]\n",
      "processing element: 100\n",
      "after removing element: data = [200, 300, 400, 500]\n",
      "----------\n",
      "i = 1\n",
      "before removing element: data = [200, 300, 400, 500]\n",
      "processing element: 300\n",
      "after removing element: data = [200, 400, 500]\n",
      "----------\n",
      "i = 2\n",
      "before removing element: data = [200, 400, 500]\n",
      "processing element: 500\n",
      "after removing element: data = [200, 400]\n",
      "----------\n",
      "i = 3\n",
      "before removing element: data = [200, 400]\n"
     ]
    },
    {
     "ename": "IndexError",
     "evalue": "pop index out of range",
     "output_type": "error",
     "traceback": [
      "\u001B[1;31m---------------------------------------------------------------------------\u001B[0m",
      "\u001B[1;31mIndexError\u001B[0m                                Traceback (most recent call last)",
      "Cell \u001B[1;32mIn[9], line 4\u001B[0m\n\u001B[0;32m      2\u001B[0m \u001B[38;5;28mprint\u001B[39m(\u001B[38;5;124mf\u001B[39m\u001B[38;5;124m'\u001B[39m\u001B[38;5;124mi = \u001B[39m\u001B[38;5;132;01m{\u001B[39;00mi\u001B[38;5;132;01m}\u001B[39;00m\u001B[38;5;124m'\u001B[39m)\n\u001B[0;32m      3\u001B[0m \u001B[38;5;28mprint\u001B[39m(\u001B[38;5;124mf\u001B[39m\u001B[38;5;124m'\u001B[39m\u001B[38;5;124mbefore removing element: data = \u001B[39m\u001B[38;5;132;01m{\u001B[39;00mdata\u001B[38;5;132;01m}\u001B[39;00m\u001B[38;5;124m'\u001B[39m)\n\u001B[1;32m----> 4\u001B[0m element \u001B[38;5;241m=\u001B[39m \u001B[43mdata\u001B[49m\u001B[38;5;241;43m.\u001B[39;49m\u001B[43mpop\u001B[49m\u001B[43m(\u001B[49m\u001B[43mi\u001B[49m\u001B[43m)\u001B[49m  \u001B[38;5;66;03m# remove element at index i\u001B[39;00m\n\u001B[0;32m      5\u001B[0m \u001B[38;5;28mprint\u001B[39m(\u001B[38;5;124mf\u001B[39m\u001B[38;5;124m'\u001B[39m\u001B[38;5;124mprocessing element: \u001B[39m\u001B[38;5;132;01m{\u001B[39;00melement\u001B[38;5;132;01m}\u001B[39;00m\u001B[38;5;124m'\u001B[39m)\n\u001B[0;32m      6\u001B[0m \u001B[38;5;28mprint\u001B[39m(\u001B[38;5;124mf\u001B[39m\u001B[38;5;124m'\u001B[39m\u001B[38;5;124mafter removing element: data = \u001B[39m\u001B[38;5;132;01m{\u001B[39;00mdata\u001B[38;5;132;01m}\u001B[39;00m\u001B[38;5;124m'\u001B[39m)\n",
      "\u001B[1;31mIndexError\u001B[0m: pop index out of range"
     ]
    }
   ],
   "execution_count": 9
  },
  {
   "cell_type": "markdown",
   "metadata": {},
   "source": [
    "Look at the end of the first iteration (`i = 0`):\n",
    "\n",
    "```\n",
    "data = [200, 300, 400, 500]\n",
    "```"
   ]
  },
  {
   "cell_type": "markdown",
   "metadata": {},
   "source": [
    "Notice how the list now has `4` elements, not `5`.\n",
    "\n",
    "When the second iteration runs, `i = 1`, we are removing the element at index `1`, which would have been the second element **if** the list had not been modified - so now the element at index `1` is `300`, not `200`."
   ]
  },
  {
   "cell_type": "markdown",
   "metadata": {},
   "source": [
    "And for the same reason by the time we reach `i = 3`, the list is empty, and hence the `IndexError`."
   ]
  },
  {
   "cell_type": "markdown",
   "metadata": {},
   "source": [
    "This goes to show that using a `for` loop to both iterate over and remove/insert elements of a sequence at the same time is, in general,  a bad idea."
   ]
  }
 ],
 "metadata": {
  "kernelspec": {
   "display_name": "Python 3",
   "language": "python",
   "name": "python3"
  },
  "language_info": {
   "codemirror_mode": {
    "name": "ipython",
    "version": 3
   },
   "file_extension": ".py",
   "mimetype": "text/x-python",
   "name": "python",
   "nbconvert_exporter": "python",
   "pygments_lexer": "ipython3",
   "version": "3.9.1"
  }
 },
 "nbformat": 4,
 "nbformat_minor": 4
}
