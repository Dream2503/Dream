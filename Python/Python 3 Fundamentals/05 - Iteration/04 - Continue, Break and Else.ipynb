{
 "cells": [
  {
   "cell_type": "markdown",
   "metadata": {},
   "source": [
    "### Continue, Break and Else"
   ]
  },
  {
   "cell_type": "markdown",
   "metadata": {},
   "source": [
    "Often, when we are in the middle of running a loop of some kind (`for` or `while`), we may want to exit the loop entirely or skip to the next iteration (if there is one)."
   ]
  },
  {
   "cell_type": "markdown",
   "metadata": {},
   "source": [
    "Let's start by looking at the `break` statement, which we can use to break out of a loop entirely."
   ]
  },
  {
   "cell_type": "code",
   "metadata": {
    "ExecuteTime": {
     "end_time": "2025-06-17T19:34:08.969910Z",
     "start_time": "2025-06-17T19:34:08.961559Z"
    }
   },
   "source": [
    "for i in range(100):\n",
    "    print(i)\n",
    "    if i >= 5:\n",
    "        print('breaking out of loop')\n",
    "        break\n",
    "print('done')"
   ],
   "outputs": [
    {
     "name": "stdout",
     "output_type": "stream",
     "text": [
      "0\n",
      "1\n",
      "2\n",
      "3\n",
      "4\n",
      "5\n",
      "breaking out of loop\n",
      "done\n"
     ]
    }
   ],
   "execution_count": 1
  },
  {
   "cell_type": "markdown",
   "metadata": {},
   "source": [
    "Sometimes we just want to bypass the remaining code in an iteration without stopping the loop entirely:"
   ]
  },
  {
   "cell_type": "code",
   "metadata": {
    "ExecuteTime": {
     "end_time": "2025-06-17T19:34:09.382892Z",
     "start_time": "2025-06-17T19:34:09.377310Z"
    }
   },
   "source": [
    "for i in range(1, 11):\n",
    "    if i % 2 == 1:\n",
    "        # odd number - skip this\n",
    "        continue\n",
    "    print(i)"
   ],
   "outputs": [
    {
     "name": "stdout",
     "output_type": "stream",
     "text": [
      "2\n",
      "4\n",
      "6\n",
      "8\n",
      "10\n"
     ]
    }
   ],
   "execution_count": 2
  },
  {
   "cell_type": "markdown",
   "metadata": {},
   "source": [
    "Now, often it is clearer to use a conditional instead of using `continue`:"
   ]
  },
  {
   "cell_type": "code",
   "metadata": {
    "ExecuteTime": {
     "end_time": "2025-06-17T19:34:09.446459Z",
     "start_time": "2025-06-17T19:34:09.440362Z"
    }
   },
   "source": [
    "for i in range(1, 11):\n",
    "    if i % 2 == 0:\n",
    "        # even number\n",
    "        print(i)"
   ],
   "outputs": [
    {
     "name": "stdout",
     "output_type": "stream",
     "text": [
      "2\n",
      "4\n",
      "6\n",
      "8\n",
      "10\n"
     ]
    }
   ],
   "execution_count": 3
  },
  {
   "cell_type": "markdown",
   "metadata": {},
   "source": [
    "This achieved the same result, and I think the code is clearer than using `continue`. However, you might run into situations, where you have maybe multiple places where it might make sense to `continue` and where using conditionals would become too repetitive - asses your code as you are writing it and think which approach will be clearer. \n",
    "\n",
    "Readability matters!"
   ]
  },
  {
   "cell_type": "markdown",
   "metadata": {},
   "source": [
    "The other thing that we should understand is that `break` or `continue` operate on the loop they are directly contained in - this is specifically important when working with nested loops."
   ]
  },
  {
   "cell_type": "code",
   "metadata": {
    "ExecuteTime": {
     "end_time": "2025-06-17T19:34:10.026931Z",
     "start_time": "2025-06-17T19:34:10.019743Z"
    }
   },
   "source": [
    "for i in range(1, 5):\n",
    "    for j in range(1, 5):\n",
    "        if (i + j) % 2 == 1:\n",
    "            print(f'{i} + {j} is odd, skipping')\n",
    "            continue        \n",
    "        print(f'adding numbers: {i} + {j} = {i + j}')"
   ],
   "outputs": [
    {
     "name": "stdout",
     "output_type": "stream",
     "text": [
      "adding numbers: 1 + 1 = 2\n",
      "1 + 2 is odd, skipping\n",
      "adding numbers: 1 + 3 = 4\n",
      "1 + 4 is odd, skipping\n",
      "2 + 1 is odd, skipping\n",
      "adding numbers: 2 + 2 = 4\n",
      "2 + 3 is odd, skipping\n",
      "adding numbers: 2 + 4 = 6\n",
      "adding numbers: 3 + 1 = 4\n",
      "3 + 2 is odd, skipping\n",
      "adding numbers: 3 + 3 = 6\n",
      "3 + 4 is odd, skipping\n",
      "4 + 1 is odd, skipping\n",
      "adding numbers: 4 + 2 = 6\n",
      "4 + 3 is odd, skipping\n",
      "adding numbers: 4 + 4 = 8\n"
     ]
    }
   ],
   "execution_count": 4
  },
  {
   "cell_type": "markdown",
   "metadata": {},
   "source": [
    "As you can see, the `continue` applied to the innermost loop, since it was located in the innermost loop's code block."
   ]
  },
  {
   "cell_type": "markdown",
   "metadata": {},
   "source": [
    "The same thing applies to `break` - it exits the loop it is currently in:"
   ]
  },
  {
   "cell_type": "code",
   "metadata": {
    "ExecuteTime": {
     "end_time": "2025-06-17T19:34:11.393980Z",
     "start_time": "2025-06-17T19:34:11.388342Z"
    }
   },
   "source": [
    "for i in range(1, 4):\n",
    "    for j in range(1, 4):\n",
    "        if j >= 3:\n",
    "            break\n",
    "        print(i, j)"
   ],
   "outputs": [
    {
     "name": "stdout",
     "output_type": "stream",
     "text": [
      "1 1\n",
      "1 2\n",
      "2 1\n",
      "2 2\n",
      "3 1\n",
      "3 2\n"
     ]
    }
   ],
   "execution_count": 5
  },
  {
   "cell_type": "markdown",
   "metadata": {},
   "source": [
    "As you can see, the outermost loop ran to completion."
   ]
  },
  {
   "cell_type": "markdown",
   "metadata": {},
   "source": [
    "These `break` and `continue` statements work the same with a `while` loop too:"
   ]
  },
  {
   "cell_type": "code",
   "metadata": {
    "ExecuteTime": {
     "end_time": "2025-06-17T19:34:12.582050Z",
     "start_time": "2025-06-17T19:34:12.574555Z"
    }
   },
   "source": [
    "i = 0\n",
    "\n",
    "while True:\n",
    "    i += 1\n",
    "    if i > 5:\n",
    "        break\n",
    "    print(i)"
   ],
   "outputs": [
    {
     "name": "stdout",
     "output_type": "stream",
     "text": [
      "1\n",
      "2\n",
      "3\n",
      "4\n",
      "5\n"
     ]
    }
   ],
   "execution_count": 6
  },
  {
   "cell_type": "markdown",
   "metadata": {},
   "source": [
    "One thing that is often needed is to know whether a loop terminated \"normally\" - that is without encountering a `break`."
   ]
  },
  {
   "cell_type": "markdown",
   "metadata": {},
   "source": [
    "Consider this example, where we are iterating over a list of integers, and we want to check that all values are positive:"
   ]
  },
  {
   "cell_type": "code",
   "metadata": {
    "ExecuteTime": {
     "end_time": "2025-06-17T19:34:13.808294Z",
     "start_time": "2025-06-17T19:34:13.802273Z"
    }
   },
   "source": [
    "data = [1, 2, 3, -4, 5, 6]\n",
    "\n",
    "all_positive = True\n",
    "\n",
    "for element in data:\n",
    "    if element <= 0:\n",
    "        all_positive = False\n",
    "        break\n",
    "        \n",
    "if all_positive:\n",
    "    print('processing list of all positive elements')"
   ],
   "outputs": [],
   "execution_count": 7
  },
  {
   "cell_type": "markdown",
   "metadata": {},
   "source": [
    "So we basically used a flag `all_positive`, initialized to `True`. We set it to `False` as soon as we encounter a negative value - we also `break` since we do not need to continue the iteration - we found one negative value, so that answers our question."
   ]
  },
  {
   "cell_type": "markdown",
   "metadata": {},
   "source": [
    "But there is a more expressive way of doing this in Python, using the `else` clause that can be applied to either `for` or `while` loops."
   ]
  },
  {
   "cell_type": "markdown",
   "metadata": {},
   "source": [
    "The name `else` is a bit puzzling, but it essentially means \"no break encountered\":"
   ]
  },
  {
   "cell_type": "code",
   "metadata": {
    "ExecuteTime": {
     "end_time": "2025-06-17T19:34:15.505910Z",
     "start_time": "2025-06-17T19:34:15.498654Z"
    }
   },
   "source": [
    "for i in range(5):\n",
    "    print(i)\n",
    "else: # no break\n",
    "    print('loop terminated normally')"
   ],
   "outputs": [
    {
     "name": "stdout",
     "output_type": "stream",
     "text": [
      "0\n",
      "1\n",
      "2\n",
      "3\n",
      "4\n",
      "loop terminated normally\n"
     ]
    }
   ],
   "execution_count": 8
  },
  {
   "cell_type": "code",
   "metadata": {
    "ExecuteTime": {
     "end_time": "2025-06-17T19:34:15.928924Z",
     "start_time": "2025-06-17T19:34:15.922688Z"
    }
   },
   "source": [
    "for i in range(5):\n",
    "    print(i)\n",
    "    if i > 3:\n",
    "        break\n",
    "else: # no break\n",
    "    print('loop terminated normally')"
   ],
   "outputs": [
    {
     "name": "stdout",
     "output_type": "stream",
     "text": [
      "0\n",
      "1\n",
      "2\n",
      "3\n",
      "4\n"
     ]
    }
   ],
   "execution_count": 9
  },
  {
   "cell_type": "markdown",
   "metadata": {},
   "source": [
    "So, we can actually apply this to our example - we don't need to use that flag, all we need to do is know whether `break` was encountered or not, so instead of this:"
   ]
  },
  {
   "cell_type": "code",
   "metadata": {
    "ExecuteTime": {
     "end_time": "2025-06-17T19:34:16.704221Z",
     "start_time": "2025-06-17T19:34:16.699242Z"
    }
   },
   "source": [
    "data = [1, 2, 3, -4, 5, 6]\n",
    "\n",
    "all_positive = True\n",
    "\n",
    "for element in data:\n",
    "    if element < 0:\n",
    "        all_positive = False\n",
    "        break\n",
    "        \n",
    "if all_positive:\n",
    "    print('processing all positive elements')"
   ],
   "outputs": [],
   "execution_count": 10
  },
  {
   "cell_type": "raw",
   "metadata": {},
   "source": [
    "we can write this:"
   ]
  },
  {
   "cell_type": "code",
   "metadata": {
    "ExecuteTime": {
     "end_time": "2025-06-17T19:34:17.579420Z",
     "start_time": "2025-06-17T19:34:17.573291Z"
    }
   },
   "source": [
    "data = [1, 2, 3, 4, 5, 6]\n",
    "\n",
    "for element in data:\n",
    "    if element < 0:\n",
    "        break\n",
    "else: # no break\n",
    "    print('processing all positive elements')"
   ],
   "outputs": [
    {
     "name": "stdout",
     "output_type": "stream",
     "text": [
      "processing all positive elements\n"
     ]
    }
   ],
   "execution_count": 11
  }
 ],
 "metadata": {
  "kernelspec": {
   "display_name": "Python 3",
   "language": "python",
   "name": "python3"
  },
  "language_info": {
   "codemirror_mode": {
    "name": "ipython",
    "version": 3
   },
   "file_extension": ".py",
   "mimetype": "text/x-python",
   "name": "python",
   "nbconvert_exporter": "python",
   "pygments_lexer": "ipython3",
   "version": "3.9.1"
  }
 },
 "nbformat": 4,
 "nbformat_minor": 4
}
