{
 "cells": [
  {
   "cell_type": "markdown",
   "metadata": {},
   "source": [
    "### Custom Representations"
   ]
  },
  {
   "cell_type": "markdown",
   "metadata": {},
   "source": [
    "There is nothing actually new in this section, we've already seen this before."
   ]
  },
  {
   "cell_type": "markdown",
   "metadata": {},
   "source": [
    "We saw that we could customize `time_struct` string representation using special directives (`%Y`, `%m`, `%d`, etc), and the `strftime` method."
   ]
  },
  {
   "cell_type": "markdown",
   "metadata": {},
   "source": [
    "The same applies with `date`, `time` and `datetime` objects too."
   ]
  },
  {
   "cell_type": "code",
   "metadata": {
    "ExecuteTime": {
     "end_time": "2025-06-18T04:53:41.152428Z",
     "start_time": "2025-06-18T04:53:41.145438Z"
    }
   },
   "source": [
    "from datetime import time, date, datetime"
   ],
   "outputs": [],
   "execution_count": 1
  },
  {
   "cell_type": "code",
   "metadata": {
    "ExecuteTime": {
     "end_time": "2025-06-18T04:53:41.446999Z",
     "start_time": "2025-06-18T04:53:41.441351Z"
    }
   },
   "source": [
    "t = time(22, 30, 45)"
   ],
   "outputs": [],
   "execution_count": 2
  },
  {
   "cell_type": "code",
   "metadata": {
    "ExecuteTime": {
     "end_time": "2025-06-18T04:53:41.531025Z",
     "start_time": "2025-06-18T04:53:41.512301Z"
    }
   },
   "source": [
    "t.strftime('The time is: %I hours, %M minutes, and %S seconds, %p')"
   ],
   "outputs": [
    {
     "data": {
      "text/plain": [
       "'The time is: 10 hours, 30 minutes, and 45 seconds, PM'"
      ]
     },
     "execution_count": 3,
     "metadata": {},
     "output_type": "execute_result"
    }
   ],
   "execution_count": 3
  },
  {
   "cell_type": "code",
   "metadata": {
    "ExecuteTime": {
     "end_time": "2025-06-18T04:53:41.599859Z",
     "start_time": "2025-06-18T04:53:41.579061Z"
    }
   },
   "source": [
    "d = date(2020, 5, 15)"
   ],
   "outputs": [],
   "execution_count": 4
  },
  {
   "cell_type": "code",
   "metadata": {
    "ExecuteTime": {
     "end_time": "2025-06-18T04:53:41.628582Z",
     "start_time": "2025-06-18T04:53:41.622378Z"
    }
   },
   "source": [
    "d.strftime('%B %d, %Y')"
   ],
   "outputs": [
    {
     "data": {
      "text/plain": [
       "'May 15, 2020'"
      ]
     },
     "execution_count": 5,
     "metadata": {},
     "output_type": "execute_result"
    }
   ],
   "execution_count": 5
  },
  {
   "cell_type": "code",
   "metadata": {
    "ExecuteTime": {
     "end_time": "2025-06-18T04:53:41.669268Z",
     "start_time": "2025-06-18T04:53:41.663516Z"
    }
   },
   "source": [
    "dt = datetime(2020, 5, 15, 22, 30, 45)"
   ],
   "outputs": [],
   "execution_count": 6
  },
  {
   "cell_type": "code",
   "metadata": {
    "ExecuteTime": {
     "end_time": "2025-06-18T04:53:41.706864Z",
     "start_time": "2025-06-18T04:53:41.699325Z"
    }
   },
   "source": [
    "dt.strftime('%I:%M %p on %B %d, %Y')"
   ],
   "outputs": [
    {
     "data": {
      "text/plain": [
       "'10:30 PM on May 15, 2020'"
      ]
     },
     "execution_count": 7,
     "metadata": {},
     "output_type": "execute_result"
    }
   ],
   "execution_count": 7
  },
  {
   "cell_type": "markdown",
   "metadata": {},
   "source": [
    "The `date` and `time` classes do not have the reverse `strptime` function, but `datetime` does."
   ]
  },
  {
   "cell_type": "code",
   "metadata": {
    "ExecuteTime": {
     "end_time": "2025-06-18T04:53:41.763632Z",
     "start_time": "2025-06-18T04:53:41.757857Z"
    }
   },
   "source": [
    "dt = datetime.strptime('10:30 PM on May 15, 2020', '%I:%M %p on %B %d, %Y')"
   ],
   "outputs": [],
   "execution_count": 8
  },
  {
   "cell_type": "code",
   "metadata": {
    "ExecuteTime": {
     "end_time": "2025-06-18T04:53:41.810259Z",
     "start_time": "2025-06-18T04:53:41.803705Z"
    }
   },
   "source": [
    "dt"
   ],
   "outputs": [
    {
     "data": {
      "text/plain": [
       "datetime.datetime(2020, 5, 15, 22, 30)"
      ]
     },
     "execution_count": 9,
     "metadata": {},
     "output_type": "execute_result"
    }
   ],
   "execution_count": 9
  },
  {
   "cell_type": "markdown",
   "metadata": {},
   "source": [
    "We also have the `fromisoformat` and `isoformat` methods, but be aware that `fromisoformat` only works with the specific ISO format used by Python (there are slight variants that the ISO format allows - and those will **not** be handled automatically by Python's `fromisoformat`."
   ]
  },
  {
   "cell_type": "markdown",
   "metadata": {},
   "source": [
    "Let's see an example of this:"
   ]
  },
  {
   "cell_type": "code",
   "metadata": {
    "ExecuteTime": {
     "end_time": "2025-06-18T04:53:41.902488Z",
     "start_time": "2025-06-18T04:53:41.895950Z"
    }
   },
   "source": [
    "dt"
   ],
   "outputs": [
    {
     "data": {
      "text/plain": [
       "datetime.datetime(2020, 5, 15, 22, 30)"
      ]
     },
     "execution_count": 10,
     "metadata": {},
     "output_type": "execute_result"
    }
   ],
   "execution_count": 10
  },
  {
   "cell_type": "code",
   "metadata": {
    "ExecuteTime": {
     "end_time": "2025-06-18T04:53:41.958433Z",
     "start_time": "2025-06-18T04:53:41.952321Z"
    }
   },
   "source": [
    "dt.isoformat()"
   ],
   "outputs": [
    {
     "data": {
      "text/plain": [
       "'2020-05-15T22:30:00'"
      ]
     },
     "execution_count": 11,
     "metadata": {},
     "output_type": "execute_result"
    }
   ],
   "execution_count": 11
  },
  {
   "cell_type": "markdown",
   "metadata": {},
   "source": [
    "And we can take that string and pass it back into `fromisoformat`:"
   ]
  },
  {
   "cell_type": "code",
   "metadata": {
    "ExecuteTime": {
     "end_time": "2025-06-18T04:53:41.999488Z",
     "start_time": "2025-06-18T04:53:41.992406Z"
    }
   },
   "source": [
    "datetime.fromisoformat('2020-05-15T22:30:00')"
   ],
   "outputs": [
    {
     "data": {
      "text/plain": [
       "datetime.datetime(2020, 5, 15, 22, 30)"
      ]
     },
     "execution_count": 12,
     "metadata": {},
     "output_type": "execute_result"
    }
   ],
   "execution_count": 12
  },
  {
   "cell_type": "markdown",
   "metadata": {},
   "source": [
    "That works just fine, but now let's do this with a time zone aware timestamp:"
   ]
  },
  {
   "cell_type": "code",
   "metadata": {
    "ExecuteTime": {
     "end_time": "2025-06-18T04:53:42.054438Z",
     "start_time": "2025-06-18T04:53:42.049382Z"
    }
   },
   "source": [
    "datetime.fromisoformat('2020-05-15T22:30:00-05:00')"
   ],
   "outputs": [
    {
     "data": {
      "text/plain": [
       "datetime.datetime(2020, 5, 15, 22, 30, tzinfo=datetime.timezone(datetime.timedelta(days=-1, seconds=68400)))"
      ]
     },
     "execution_count": 13,
     "metadata": {},
     "output_type": "execute_result"
    }
   ],
   "execution_count": 13
  },
  {
   "cell_type": "markdown",
   "metadata": {},
   "source": [
    "So that worked just fine, but recall that the `:` in the time zone offset is actually **optional** in the ISO 8601 specification, so this is actually valid too:\n",
    "\n",
    "```\n",
    "'2020-05-15T22:30:00-0500'\n",
    "```\n",
    "\n",
    "as well as this:\n",
    "\n",
    "```\n",
    "'2020-05-15T22:30:00-05'\n",
    "```\n",
    "\n"
   ]
  },
  {
   "cell_type": "markdown",
   "metadata": {},
   "source": [
    "Let's try these formats and see what happens:"
   ]
  },
  {
   "cell_type": "code",
   "metadata": {
    "ExecuteTime": {
     "end_time": "2025-06-18T04:53:42.076553Z",
     "start_time": "2025-06-18T04:53:42.071013Z"
    }
   },
   "source": [
    "try:\n",
    "    datetime.fromisoformat('2020-05-15T22:30:00-0500')\n",
    "except ValueError as ex:\n",
    "    print(ex)"
   ],
   "outputs": [],
   "execution_count": 14
  },
  {
   "cell_type": "code",
   "metadata": {
    "ExecuteTime": {
     "end_time": "2025-06-18T04:53:42.121780Z",
     "start_time": "2025-06-18T04:53:42.117257Z"
    }
   },
   "source": [
    "try:\n",
    "    datetime.fromisoformat('2020-05-15T22:30:00-05')\n",
    "except ValueError as ex:\n",
    "    print(ex)"
   ],
   "outputs": [],
   "execution_count": 15
  },
  {
   "cell_type": "markdown",
   "metadata": {},
   "source": [
    "So, we would have to provide a custom formatter to parse these variants on the ISO 8601 standard."
   ]
  },
  {
   "cell_type": "markdown",
   "metadata": {},
   "source": [
    "We'll come back to this problem, when we look at the `dateutil` 3rd party library which will make these problems go away - like magic!"
   ]
  }
 ],
 "metadata": {
  "kernelspec": {
   "display_name": "Python 3",
   "language": "python",
   "name": "python3"
  },
  "language_info": {
   "codemirror_mode": {
    "name": "ipython",
    "version": 3
   },
   "file_extension": ".py",
   "mimetype": "text/x-python",
   "name": "python",
   "nbconvert_exporter": "python",
   "pygments_lexer": "ipython3",
   "version": "3.9.1"
  }
 },
 "nbformat": 4,
 "nbformat_minor": 4
}
