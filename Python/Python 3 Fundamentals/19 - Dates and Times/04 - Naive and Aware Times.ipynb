{
 "cells": [
  {
   "cell_type": "markdown",
   "metadata": {},
   "source": [
    "### Naive and Aware Times"
   ]
  },
  {
   "cell_type": "markdown",
   "metadata": {},
   "source": [
    "We decided early on that we would only work with naive times in UTC."
   ]
  },
  {
   "cell_type": "markdown",
   "metadata": {},
   "source": [
    "But we still need the ability to transform aware times into naive UTC times, and vice versa."
   ]
  },
  {
   "cell_type": "markdown",
   "metadata": {},
   "source": [
    "If no other reason that we will be ingesting datetime data that may contain timezone information."
   ]
  },
  {
   "cell_type": "markdown",
   "metadata": {},
   "source": [
    "We'll come back to a 3rd party library that can help us substantially with this, but for now, let's use plain Python to understand its basic timezone functionality."
   ]
  },
  {
   "cell_type": "markdown",
   "metadata": {},
   "source": [
    "When we parsed a `datetime` object from an ISO string, we saw that we could end up with a time zone aware `datetime`:"
   ]
  },
  {
   "cell_type": "code",
   "metadata": {
    "ExecuteTime": {
     "end_time": "2025-06-18T04:53:30.211497Z",
     "start_time": "2025-06-18T04:53:30.205434Z"
    }
   },
   "source": [
    "s = \"2020-03-15T13:30:00-07:00\""
   ],
   "outputs": [],
   "execution_count": 1
  },
  {
   "cell_type": "code",
   "metadata": {
    "ExecuteTime": {
     "end_time": "2025-06-18T04:53:30.522216Z",
     "start_time": "2025-06-18T04:53:30.515947Z"
    }
   },
   "source": [
    "from datetime import datetime"
   ],
   "outputs": [],
   "execution_count": 2
  },
  {
   "cell_type": "code",
   "metadata": {
    "ExecuteTime": {
     "end_time": "2025-06-18T04:53:30.592384Z",
     "start_time": "2025-06-18T04:53:30.579895Z"
    }
   },
   "source": [
    "datetime.fromisoformat(s)"
   ],
   "outputs": [
    {
     "data": {
      "text/plain": [
       "datetime.datetime(2020, 3, 15, 13, 30, tzinfo=datetime.timezone(datetime.timedelta(days=-1, seconds=61200)))"
      ]
     },
     "execution_count": 3,
     "metadata": {},
     "output_type": "execute_result"
    }
   ],
   "execution_count": 3
  },
  {
   "cell_type": "markdown",
   "metadata": {},
   "source": [
    "As you can see, that `datetime` object has a `tzinfo` property that is not `None` - it is a `timezone` object, so it is timezone aware."
   ]
  },
  {
   "cell_type": "code",
   "metadata": {
    "ExecuteTime": {
     "end_time": "2025-06-18T04:53:30.673191Z",
     "start_time": "2025-06-18T04:53:30.668178Z"
    }
   },
   "source": [
    "dt = datetime.fromisoformat(s)"
   ],
   "outputs": [],
   "execution_count": 4
  },
  {
   "cell_type": "code",
   "metadata": {
    "ExecuteTime": {
     "end_time": "2025-06-18T04:53:30.774666Z",
     "start_time": "2025-06-18T04:53:30.767848Z"
    }
   },
   "source": [
    "dt.tzinfo"
   ],
   "outputs": [
    {
     "data": {
      "text/plain": [
       "datetime.timezone(datetime.timedelta(days=-1, seconds=61200))"
      ]
     },
     "execution_count": 5,
     "metadata": {},
     "output_type": "execute_result"
    }
   ],
   "execution_count": 5
  },
  {
   "cell_type": "markdown",
   "metadata": {},
   "source": [
    "As we can see, the time zone was expressed as a UTC offset - an offset is nothing more than a duration, and the timezone offset definition is actually expressed using a `timedelta` object."
   ]
  },
  {
   "cell_type": "markdown",
   "metadata": {},
   "source": [
    "Let's look at `timezone` objects."
   ]
  },
  {
   "cell_type": "markdown",
   "metadata": {},
   "source": [
    "A Python `timezone` object is nothing more than a `name` associated with a `timedelta` object that represents the UTC offset."
   ]
  },
  {
   "cell_type": "markdown",
   "metadata": {},
   "source": [
    "The idea is that if we have an aware datetime with a timezone, we simply add the timezone's `timedelta` object to a naive version of the datetime, and this gives us a naive UTC timestamp."
   ]
  },
  {
   "cell_type": "markdown",
   "metadata": {},
   "source": [
    "For example, if I am located in New York, and we are in DST, our time zone is EDT (as opposed to EST if we are not in DST)."
   ]
  },
  {
   "cell_type": "markdown",
   "metadata": {},
   "source": [
    "So, I could create a timezone named `EDT`, with an offset from UTC of -4 hours:"
   ]
  },
  {
   "cell_type": "code",
   "metadata": {
    "ExecuteTime": {
     "end_time": "2025-06-18T04:53:30.853956Z",
     "start_time": "2025-06-18T04:53:30.848854Z"
    }
   },
   "source": [
    "from datetime import timezone, timedelta"
   ],
   "outputs": [],
   "execution_count": 6
  },
  {
   "cell_type": "code",
   "metadata": {
    "ExecuteTime": {
     "end_time": "2025-06-18T04:53:30.897263Z",
     "start_time": "2025-06-18T04:53:30.891743Z"
    }
   },
   "source": [
    "tz_EDT = timezone(timedelta(hours=-4), 'EDT')"
   ],
   "outputs": [],
   "execution_count": 7
  },
  {
   "cell_type": "code",
   "metadata": {
    "ExecuteTime": {
     "end_time": "2025-06-18T04:53:30.938241Z",
     "start_time": "2025-06-18T04:53:30.933151Z"
    }
   },
   "source": [
    "tz_EDT"
   ],
   "outputs": [
    {
     "data": {
      "text/plain": [
       "datetime.timezone(datetime.timedelta(days=-1, seconds=72000), 'EDT')"
      ]
     },
     "execution_count": 8,
     "metadata": {},
     "output_type": "execute_result"
    }
   ],
   "execution_count": 8
  },
  {
   "cell_type": "markdown",
   "metadata": {},
   "source": [
    "The `timezone` class also has a UTC timezone pre-defined:"
   ]
  },
  {
   "cell_type": "code",
   "metadata": {
    "ExecuteTime": {
     "end_time": "2025-06-18T04:53:31.001299Z",
     "start_time": "2025-06-18T04:53:30.994473Z"
    }
   },
   "source": [
    "timezone.utc"
   ],
   "outputs": [
    {
     "data": {
      "text/plain": [
       "datetime.timezone.utc"
      ]
     },
     "execution_count": 9,
     "metadata": {},
     "output_type": "execute_result"
    }
   ],
   "execution_count": 9
  },
  {
   "cell_type": "markdown",
   "metadata": {},
   "source": [
    "Let's define another time zone, Central Daylight Time (CDT) this time - it has a -5 hour offset from UTC:"
   ]
  },
  {
   "cell_type": "code",
   "metadata": {
    "ExecuteTime": {
     "end_time": "2025-06-18T04:53:31.055756Z",
     "start_time": "2025-06-18T04:53:31.051221Z"
    }
   },
   "source": [
    "tz_CDT = timezone(timedelta(hours=-5), 'CDT')"
   ],
   "outputs": [],
   "execution_count": 10
  },
  {
   "cell_type": "markdown",
   "metadata": {},
   "source": [
    "Now let's start with an aware datetime in EDT:"
   ]
  },
  {
   "cell_type": "code",
   "metadata": {
    "ExecuteTime": {
     "end_time": "2025-06-18T04:53:31.083043Z",
     "start_time": "2025-06-18T04:53:31.078525Z"
    }
   },
   "source": [
    "dt = datetime(year=2020, month=5, day=15, hour=22, minute=30, tzinfo=tz_EDT)"
   ],
   "outputs": [],
   "execution_count": 11
  },
  {
   "cell_type": "code",
   "metadata": {
    "ExecuteTime": {
     "end_time": "2025-06-18T04:53:31.119251Z",
     "start_time": "2025-06-18T04:53:31.112876Z"
    }
   },
   "source": [
    "dt"
   ],
   "outputs": [
    {
     "data": {
      "text/plain": [
       "datetime.datetime(2020, 5, 15, 22, 30, tzinfo=datetime.timezone(datetime.timedelta(days=-1, seconds=72000), 'EDT'))"
      ]
     },
     "execution_count": 12,
     "metadata": {},
     "output_type": "execute_result"
    }
   ],
   "execution_count": 12
  },
  {
   "cell_type": "markdown",
   "metadata": {},
   "source": [
    "We want to \"convert\" this datetime into the equivalent datetime but in CDT time zone."
   ]
  },
  {
   "cell_type": "markdown",
   "metadata": {},
   "source": [
    "We can use the `.astimezone()` method that `datetime` objects have:"
   ]
  },
  {
   "cell_type": "code",
   "metadata": {
    "ExecuteTime": {
     "end_time": "2025-06-18T04:53:31.187557Z",
     "start_time": "2025-06-18T04:53:31.181465Z"
    }
   },
   "source": [
    "dt.astimezone(tz_CDT)"
   ],
   "outputs": [
    {
     "data": {
      "text/plain": [
       "datetime.datetime(2020, 5, 15, 21, 30, tzinfo=datetime.timezone(datetime.timedelta(days=-1, seconds=68400), 'CDT'))"
      ]
     },
     "execution_count": 13,
     "metadata": {},
     "output_type": "execute_result"
    }
   ],
   "execution_count": 13
  },
  {
   "cell_type": "markdown",
   "metadata": {},
   "source": [
    "Notice how we end up with an aware datetime, but with a CDT time zone - and notice how the new time reflects the time zone change (one hour earlier than EDT)."
   ]
  },
  {
   "cell_type": "markdown",
   "metadata": {},
   "source": [
    "Similarly, we can convert an aware datetime of any time zone into an aware datetime in UTC:"
   ]
  },
  {
   "cell_type": "code",
   "metadata": {
    "ExecuteTime": {
     "end_time": "2025-06-18T04:53:31.235457Z",
     "start_time": "2025-06-18T04:53:31.230918Z"
    }
   },
   "source": [
    "dt_utc = dt.astimezone(timezone.utc)"
   ],
   "outputs": [],
   "execution_count": 14
  },
  {
   "cell_type": "code",
   "metadata": {
    "ExecuteTime": {
     "end_time": "2025-06-18T04:53:31.276063Z",
     "start_time": "2025-06-18T04:53:31.270561Z"
    }
   },
   "source": [
    "dt_utc"
   ],
   "outputs": [
    {
     "data": {
      "text/plain": [
       "datetime.datetime(2020, 5, 16, 2, 30, tzinfo=datetime.timezone.utc)"
      ]
     },
     "execution_count": 15,
     "metadata": {},
     "output_type": "execute_result"
    }
   ],
   "execution_count": 15
  },
  {
   "cell_type": "markdown",
   "metadata": {},
   "source": [
    "Again notice how the time zone now shows UTC, and the date/time was adjusted accordingly."
   ]
  },
  {
   "cell_type": "markdown",
   "metadata": {},
   "source": [
    "So now we are able to convert an aware datetime from one time zone to another."
   ]
  },
  {
   "cell_type": "markdown",
   "metadata": {},
   "source": [
    "But now that we have that datetime in UTC, how do we make it naive?"
   ]
  },
  {
   "cell_type": "markdown",
   "metadata": {},
   "source": [
    "Remember that a datetime is naive if it has no time zone information, i.e. `tzinfo` is `None`."
   ]
  },
  {
   "cell_type": "markdown",
   "metadata": {},
   "source": [
    "We can use the `replace` method on our `dt_utc` object, that creates a new `datetime` object, copying all the values over, except the ones we specify as a replacement."
   ]
  },
  {
   "cell_type": "markdown",
   "metadata": {},
   "source": [
    "In this case, we want to copy everything into a new `datetime` except the timezone, which we want to make `None`:"
   ]
  },
  {
   "cell_type": "code",
   "metadata": {
    "ExecuteTime": {
     "end_time": "2025-06-18T04:53:31.359655Z",
     "start_time": "2025-06-18T04:53:31.355244Z"
    }
   },
   "source": [
    "dt_naive = dt_utc.replace(tzinfo=None)"
   ],
   "outputs": [],
   "execution_count": 16
  },
  {
   "cell_type": "code",
   "metadata": {
    "ExecuteTime": {
     "end_time": "2025-06-18T04:53:31.444081Z",
     "start_time": "2025-06-18T04:53:31.438214Z"
    }
   },
   "source": [
    "dt_naive"
   ],
   "outputs": [
    {
     "data": {
      "text/plain": [
       "datetime.datetime(2020, 5, 16, 2, 30)"
      ]
     },
     "execution_count": 17,
     "metadata": {},
     "output_type": "execute_result"
    }
   ],
   "execution_count": 17
  },
  {
   "cell_type": "markdown",
   "metadata": {},
   "source": [
    "So now we've seen how to take an aware datetime with some timezone, and convert it to a naive datetime in UTC - let's recap:"
   ]
  },
  {
   "cell_type": "code",
   "metadata": {
    "ExecuteTime": {
     "end_time": "2025-06-18T04:53:31.494664Z",
     "start_time": "2025-06-18T04:53:31.488634Z"
    }
   },
   "source": [
    "s = \"2020-05-15T13:30:00-04:00\"\n",
    "\n",
    "dt_aware = datetime.fromisoformat(s)\n",
    "dt_utc = dt_aware.astimezone(timezone.utc)\n",
    "dt_naive = dt_utc.replace(tzinfo=None)\n",
    "\n",
    "print(dt_naive.isoformat())"
   ],
   "outputs": [
    {
     "name": "stdout",
     "output_type": "stream",
     "text": [
      "2020-05-15T17:30:00\n"
     ]
    }
   ],
   "execution_count": 18
  },
  {
   "cell_type": "markdown",
   "metadata": {},
   "source": [
    "Now we want to do the opposite - convert a naive UTC datetime into an aware datetime in some other time zone. The process is basically the same:"
   ]
  },
  {
   "cell_type": "code",
   "metadata": {
    "ExecuteTime": {
     "end_time": "2025-06-18T04:53:31.548569Z",
     "start_time": "2025-06-18T04:53:31.541505Z"
    }
   },
   "source": [
    "dt_naive = datetime.fromisoformat('2020-05-15T17:30:00')"
   ],
   "outputs": [],
   "execution_count": 19
  },
  {
   "cell_type": "code",
   "metadata": {
    "ExecuteTime": {
     "end_time": "2025-06-18T04:53:31.588370Z",
     "start_time": "2025-06-18T04:53:31.581268Z"
    }
   },
   "source": [
    "dt_aware = dt_naive.replace(tzinfo=timezone.utc)"
   ],
   "outputs": [],
   "execution_count": 20
  },
  {
   "cell_type": "code",
   "metadata": {
    "ExecuteTime": {
     "end_time": "2025-06-18T04:53:31.617353Z",
     "start_time": "2025-06-18T04:53:31.611326Z"
    }
   },
   "source": [
    "dt_aware"
   ],
   "outputs": [
    {
     "data": {
      "text/plain": [
       "datetime.datetime(2020, 5, 15, 17, 30, tzinfo=datetime.timezone.utc)"
      ]
     },
     "execution_count": 21,
     "metadata": {},
     "output_type": "execute_result"
    }
   ],
   "execution_count": 21
  },
  {
   "cell_type": "code",
   "metadata": {
    "ExecuteTime": {
     "end_time": "2025-06-18T04:53:31.670269Z",
     "start_time": "2025-06-18T04:53:31.664891Z"
    }
   },
   "source": [
    "tz_EDT = timezone(timedelta(hours=-4), 'EDT')\n",
    "tz_CDT = timezone(timedelta(hours=-5), 'CDT')"
   ],
   "outputs": [],
   "execution_count": 22
  },
  {
   "cell_type": "code",
   "metadata": {
    "ExecuteTime": {
     "end_time": "2025-06-18T04:53:31.709605Z",
     "start_time": "2025-06-18T04:53:31.703611Z"
    }
   },
   "source": [
    "dt_aware.astimezone(tz_EDT)"
   ],
   "outputs": [
    {
     "data": {
      "text/plain": [
       "datetime.datetime(2020, 5, 15, 13, 30, tzinfo=datetime.timezone(datetime.timedelta(days=-1, seconds=72000), 'EDT'))"
      ]
     },
     "execution_count": 23,
     "metadata": {},
     "output_type": "execute_result"
    }
   ],
   "execution_count": 23
  },
  {
   "cell_type": "code",
   "metadata": {
    "ExecuteTime": {
     "end_time": "2025-06-18T04:53:31.766521Z",
     "start_time": "2025-06-18T04:53:31.759410Z"
    }
   },
   "source": [
    "dt_aware.astimezone(tz_CDT)"
   ],
   "outputs": [
    {
     "data": {
      "text/plain": [
       "datetime.datetime(2020, 5, 15, 12, 30, tzinfo=datetime.timezone(datetime.timedelta(days=-1, seconds=68400), 'CDT'))"
      ]
     },
     "execution_count": 24,
     "metadata": {},
     "output_type": "execute_result"
    }
   ],
   "execution_count": 24
  },
  {
   "cell_type": "markdown",
   "metadata": {},
   "source": [
    "One thing in all this, is that we never had to deal with DST - we simply defined our timezone as a UTC offset, and applied the particular time zone - here I used EDT and CDT (instead of EST and CST) because I **knew** the particular date we were looking at was during DST. In general, you don't know that though - and this adds another level of complexity - when converting a UTC datetime to Eastern, should you pick EST or EDT? What about all the other timezones in the world? Not everyone changes over DST on the same day - and some don't even change, ever (like Phoenix Arizona for example). Not only that, but DST changes are not always constant - they can, and have, varied historically, for the same time zone - so a history needs to be maintained, and of course things will change in the future."
   ]
  },
  {
   "cell_type": "markdown",
   "metadata": {},
   "source": [
    "Dealing with timezones is bad enough, but DST is 10x worse!\n",
    "\n",
    "Anyone interested in starting a worldwide petition to drop daylight savings times??!! :-)"
   ]
  },
  {
   "cell_type": "markdown",
   "metadata": {},
   "source": [
    "For that reason, there is a standarized database that captures all this information - time zone names, UTC offsets, DST rules, etc, called the Olson Database (named after the original creator) - also known as the IANA timezone database: https://en.wikipedia.org/wiki/Tz_database"
   ]
  },
  {
   "cell_type": "markdown",
   "metadata": {},
   "source": [
    "We'll look at some 3rd party libraries later in this course that will simplify our life a lot!"
   ]
  }
 ],
 "metadata": {
  "kernelspec": {
   "display_name": "Python 3",
   "language": "python",
   "name": "python3"
  },
  "language_info": {
   "codemirror_mode": {
    "name": "ipython",
    "version": 3
   },
   "file_extension": ".py",
   "mimetype": "text/x-python",
   "name": "python",
   "nbconvert_exporter": "python",
   "pygments_lexer": "ipython3",
   "version": "3.9.1"
  }
 },
 "nbformat": 4,
 "nbformat_minor": 4
}
