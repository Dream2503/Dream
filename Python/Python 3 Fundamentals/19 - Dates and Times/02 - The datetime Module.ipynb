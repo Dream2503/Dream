{
 "cells": [
  {
   "cell_type": "markdown",
   "metadata": {},
   "source": [
    "### The `datetime` Module"
   ]
  },
  {
   "cell_type": "markdown",
   "metadata": {},
   "source": [
    "https://docs.python.org/3/library/datetime.html"
   ]
  },
  {
   "cell_type": "markdown",
   "metadata": {},
   "source": [
    "The `datetime` module contains several data types (classes) that make it easier to work with dates, times and datetimes."
   ]
  },
  {
   "cell_type": "markdown",
   "metadata": {},
   "source": [
    "As we saw with the `time` module, at a low level we can work with epoch times - but we have to keep trasck of whether we have an epoch time (a number), or a `time_struct`, and constantly convert between the two as needed. Also, although time zones are supported, it is entirely up to us to think and deal with time zones."
   ]
  },
  {
   "cell_type": "markdown",
   "metadata": {},
   "source": [
    "The major data types that we'll look at in the `datetime` module are:\n",
    "- `date`: used for dates (year, month, day)\n",
    "- `time`: used for times (hour, minute, second), independent of date\n",
    "- `datetime`: combines both `date` and `time` objects\n",
    "- `timedelta`: used for durations between two date/time objects\n",
    "- `timezone`: used to represent time zone information as a UTC offset"
   ]
  },
  {
   "cell_type": "markdown",
   "metadata": {},
   "source": [
    "We also have to distinguish between **aware** and **naive** date and time objects."
   ]
  },
  {
   "cell_type": "markdown",
   "metadata": {},
   "source": [
    "Objects that contain time zone information are called time zone **aware** (or simply *aware*) objects, while objects that have no time zone information attached are called time zone **naive** (or simply, *naive*) objects."
   ]
  },
  {
   "cell_type": "markdown",
   "metadata": {},
   "source": [
    "Working with time zone aware objects can get difficult and easily lead to bugs (problems with not only time zones, but also daylight savings)."
   ]
  },
  {
   "cell_type": "markdown",
   "metadata": {},
   "source": [
    "What most Python developers do is always work with dates and times that are:\n",
    "1. always in UTC\n",
    "2. time zone naive"
   ]
  },
  {
   "cell_type": "markdown",
   "metadata": {},
   "source": [
    "This simplifies things quite a bit - the idea is that any dates and times we ingest are immediately converted to UTC time zone and made naive.\n",
    "\n",
    "Now, as we work with dates and times in our program, everything is in UTC, we do not have to worry about time zones and daylight savings, and we only convert to some other time zone when we want to display a date/time to our users in their local time zone - and usually that's up to the UI to do this.\n",
    "\n",
    "The same idea goes for storing data (in a database, file, etc) - we always store these dates in UTC (whether aware or naive will depend on your storage solution and particular circumstances)."
   ]
  },
  {
   "cell_type": "markdown",
   "metadata": {},
   "source": [
    "So, in this course we're only going to focus on working with naive dates and times - and only worry about converting incoming dates and times to UTC naive."
   ]
  },
  {
   "cell_type": "markdown",
   "metadata": {},
   "source": [
    "Let's start by looking at the `date`, `time` and `datetime` objects:"
   ]
  },
  {
   "cell_type": "code",
   "metadata": {
    "ExecuteTime": {
     "end_time": "2025-06-18T04:52:50.921313Z",
     "start_time": "2025-06-18T04:52:50.914583Z"
    }
   },
   "source": [
    "import datetime"
   ],
   "outputs": [],
   "execution_count": 1
  },
  {
   "cell_type": "markdown",
   "metadata": {},
   "source": [
    "To create a date we can specify the `year`, `month` and `day`:"
   ]
  },
  {
   "cell_type": "code",
   "metadata": {
    "ExecuteTime": {
     "end_time": "2025-06-18T04:52:51.247880Z",
     "start_time": "2025-06-18T04:52:51.242969Z"
    }
   },
   "source": [
    "dt = datetime.date(2020, 5, 1)"
   ],
   "outputs": [],
   "execution_count": 2
  },
  {
   "cell_type": "code",
   "metadata": {
    "ExecuteTime": {
     "end_time": "2025-06-18T04:52:51.302809Z",
     "start_time": "2025-06-18T04:52:51.295894Z"
    }
   },
   "source": [
    "dt"
   ],
   "outputs": [
    {
     "data": {
      "text/plain": [
       "datetime.date(2020, 5, 1)"
      ]
     },
     "execution_count": 3,
     "metadata": {},
     "output_type": "execute_result"
    }
   ],
   "execution_count": 3
  },
  {
   "cell_type": "markdown",
   "metadata": {},
   "source": [
    "We can also just get the current (local) date:"
   ]
  },
  {
   "cell_type": "code",
   "metadata": {
    "ExecuteTime": {
     "end_time": "2025-06-18T04:52:51.394152Z",
     "start_time": "2025-06-18T04:52:51.389148Z"
    }
   },
   "source": [
    "dt = datetime.date.today()"
   ],
   "outputs": [],
   "execution_count": 4
  },
  {
   "cell_type": "code",
   "metadata": {
    "ExecuteTime": {
     "end_time": "2025-06-18T04:52:51.508460Z",
     "start_time": "2025-06-18T04:52:51.500712Z"
    }
   },
   "source": [
    "dt"
   ],
   "outputs": [
    {
     "data": {
      "text/plain": [
       "datetime.date(2025, 6, 18)"
      ]
     },
     "execution_count": 5,
     "metadata": {},
     "output_type": "execute_result"
    }
   ],
   "execution_count": 5
  },
  {
   "cell_type": "markdown",
   "metadata": {},
   "source": [
    "Or we can get it from an epoch time even:"
   ]
  },
  {
   "cell_type": "code",
   "metadata": {
    "ExecuteTime": {
     "end_time": "2025-06-18T04:52:51.600096Z",
     "start_time": "2025-06-18T04:52:51.594653Z"
    }
   },
   "source": [
    "import time"
   ],
   "outputs": [],
   "execution_count": 6
  },
  {
   "cell_type": "code",
   "metadata": {
    "ExecuteTime": {
     "end_time": "2025-06-18T04:52:51.641907Z",
     "start_time": "2025-06-18T04:52:51.636047Z"
    }
   },
   "source": [
    "dt = datetime.date.fromtimestamp(time.time())"
   ],
   "outputs": [],
   "execution_count": 7
  },
  {
   "cell_type": "code",
   "metadata": {
    "ExecuteTime": {
     "end_time": "2025-06-18T04:52:51.756143Z",
     "start_time": "2025-06-18T04:52:51.750635Z"
    }
   },
   "source": [
    "dt"
   ],
   "outputs": [
    {
     "data": {
      "text/plain": [
       "datetime.date(2025, 6, 18)"
      ]
     },
     "execution_count": 8,
     "metadata": {},
     "output_type": "execute_result"
    }
   ],
   "execution_count": 8
  },
  {
   "cell_type": "markdown",
   "metadata": {},
   "source": [
    "We can also easily convert an ISO formatted date (`YYYY-MM-DD`) without resorting to parsing directives:"
   ]
  },
  {
   "cell_type": "code",
   "metadata": {
    "ExecuteTime": {
     "end_time": "2025-06-18T04:52:52.358324Z",
     "start_time": "2025-06-18T04:52:52.352725Z"
    }
   },
   "source": [
    "dt = datetime.date.fromisoformat('2020-12-31')"
   ],
   "outputs": [],
   "execution_count": 9
  },
  {
   "cell_type": "code",
   "metadata": {
    "ExecuteTime": {
     "end_time": "2025-06-18T04:52:52.457894Z",
     "start_time": "2025-06-18T04:52:52.452171Z"
    }
   },
   "source": [
    "dt"
   ],
   "outputs": [
    {
     "data": {
      "text/plain": [
       "datetime.date(2020, 12, 31)"
      ]
     },
     "execution_count": 10,
     "metadata": {},
     "output_type": "execute_result"
    }
   ],
   "execution_count": 10
  },
  {
   "cell_type": "markdown",
   "metadata": {},
   "source": [
    "We can do the reverse of this and produce an ISO formatted date string:"
   ]
  },
  {
   "cell_type": "code",
   "metadata": {
    "ExecuteTime": {
     "end_time": "2025-06-18T04:52:52.747090Z",
     "start_time": "2025-06-18T04:52:52.740530Z"
    }
   },
   "source": [
    "dt = datetime.date(2020, 12, 1)"
   ],
   "outputs": [],
   "execution_count": 11
  },
  {
   "cell_type": "code",
   "metadata": {
    "ExecuteTime": {
     "end_time": "2025-06-18T04:52:52.829906Z",
     "start_time": "2025-06-18T04:52:52.824341Z"
    }
   },
   "source": [
    "dt.isoformat()"
   ],
   "outputs": [
    {
     "data": {
      "text/plain": [
       "'2020-12-01'"
      ]
     },
     "execution_count": 12,
     "metadata": {},
     "output_type": "execute_result"
    }
   ],
   "execution_count": 12
  },
  {
   "cell_type": "markdown",
   "metadata": {},
   "source": [
    "And `date` objects have `year`, `month` and `day` properties:"
   ]
  },
  {
   "cell_type": "code",
   "metadata": {
    "ExecuteTime": {
     "end_time": "2025-06-18T04:52:53.069219Z",
     "start_time": "2025-06-18T04:52:53.061984Z"
    }
   },
   "source": [
    "dt.year, dt.month, dt.day"
   ],
   "outputs": [
    {
     "data": {
      "text/plain": [
       "(2020, 12, 1)"
      ]
     },
     "execution_count": 13,
     "metadata": {},
     "output_type": "execute_result"
    }
   ],
   "execution_count": 13
  },
  {
   "cell_type": "markdown",
   "metadata": {},
   "source": [
    "The `time` object is very similar, except we are working with times, isolated from dates:"
   ]
  },
  {
   "cell_type": "code",
   "metadata": {
    "ExecuteTime": {
     "end_time": "2025-06-18T04:52:53.204410Z",
     "start_time": "2025-06-18T04:52:53.200294Z"
    }
   },
   "source": [
    "t = datetime.time(15, 30, 45)"
   ],
   "outputs": [],
   "execution_count": 14
  },
  {
   "cell_type": "code",
   "metadata": {
    "ExecuteTime": {
     "end_time": "2025-06-18T04:52:53.257799Z",
     "start_time": "2025-06-18T04:52:53.253420Z"
    }
   },
   "source": [
    "t"
   ],
   "outputs": [
    {
     "data": {
      "text/plain": [
       "datetime.time(15, 30, 45)"
      ]
     },
     "execution_count": 15,
     "metadata": {},
     "output_type": "execute_result"
    }
   ],
   "execution_count": 15
  },
  {
   "cell_type": "markdown",
   "metadata": {},
   "source": [
    "The `hour` argument should be specified using a 24-hour clock, where `0` represents midnight (not `24`):"
   ]
  },
  {
   "cell_type": "code",
   "metadata": {
    "ExecuteTime": {
     "end_time": "2025-06-18T04:52:53.533315Z",
     "start_time": "2025-06-18T04:52:53.528988Z"
    }
   },
   "source": [
    "t = datetime.time(0, 0, 0)"
   ],
   "outputs": [],
   "execution_count": 16
  },
  {
   "cell_type": "code",
   "metadata": {
    "ExecuteTime": {
     "end_time": "2025-06-18T04:52:53.569111Z",
     "start_time": "2025-06-18T04:52:53.563067Z"
    }
   },
   "source": [
    "t"
   ],
   "outputs": [
    {
     "data": {
      "text/plain": [
       "datetime.time(0, 0)"
      ]
     },
     "execution_count": 17,
     "metadata": {},
     "output_type": "execute_result"
    }
   ],
   "execution_count": 17
  },
  {
   "cell_type": "markdown",
   "metadata": {},
   "source": [
    "We can also include microseconds:"
   ]
  },
  {
   "cell_type": "code",
   "metadata": {
    "ExecuteTime": {
     "end_time": "2025-06-18T04:52:53.804441Z",
     "start_time": "2025-06-18T04:52:53.799929Z"
    }
   },
   "source": [
    "t = datetime.time(2, 30, 45, 135)"
   ],
   "outputs": [],
   "execution_count": 18
  },
  {
   "cell_type": "code",
   "metadata": {
    "ExecuteTime": {
     "end_time": "2025-06-18T04:52:53.927156Z",
     "start_time": "2025-06-18T04:52:53.919068Z"
    }
   },
   "source": [
    "t"
   ],
   "outputs": [
    {
     "data": {
      "text/plain": [
       "datetime.time(2, 30, 45, 135)"
      ]
     },
     "execution_count": 19,
     "metadata": {},
     "output_type": "execute_result"
    }
   ],
   "execution_count": 19
  },
  {
   "cell_type": "markdown",
   "metadata": {},
   "source": [
    "We can convert to and from an ISO representation, just like with dates:"
   ]
  },
  {
   "cell_type": "code",
   "metadata": {
    "ExecuteTime": {
     "end_time": "2025-06-18T04:52:54.161213Z",
     "start_time": "2025-06-18T04:52:54.154209Z"
    }
   },
   "source": [
    "t.isoformat()"
   ],
   "outputs": [
    {
     "data": {
      "text/plain": [
       "'02:30:45.000135'"
      ]
     },
     "execution_count": 20,
     "metadata": {},
     "output_type": "execute_result"
    }
   ],
   "execution_count": 20
  },
  {
   "cell_type": "code",
   "metadata": {
    "ExecuteTime": {
     "end_time": "2025-06-18T04:52:54.319758Z",
     "start_time": "2025-06-18T04:52:54.314386Z"
    }
   },
   "source": [
    "t = datetime.time.fromisoformat('13:34:20.000123')"
   ],
   "outputs": [],
   "execution_count": 21
  },
  {
   "cell_type": "code",
   "metadata": {
    "ExecuteTime": {
     "end_time": "2025-06-18T04:52:54.398632Z",
     "start_time": "2025-06-18T04:52:54.391900Z"
    }
   },
   "source": [
    "t"
   ],
   "outputs": [
    {
     "data": {
      "text/plain": [
       "datetime.time(13, 34, 20, 123)"
      ]
     },
     "execution_count": 22,
     "metadata": {},
     "output_type": "execute_result"
    }
   ],
   "execution_count": 22
  },
  {
   "cell_type": "markdown",
   "metadata": {},
   "source": [
    "And this `time` object has properties for `hour`, `minute`, `second`, `microsecond`:"
   ]
  },
  {
   "cell_type": "code",
   "metadata": {
    "ExecuteTime": {
     "end_time": "2025-06-18T04:52:54.585222Z",
     "start_time": "2025-06-18T04:52:54.579172Z"
    }
   },
   "source": [
    "t.hour, t.minute, t.second, t.microsecond"
   ],
   "outputs": [
    {
     "data": {
      "text/plain": [
       "(13, 34, 20, 123)"
      ]
     },
     "execution_count": 23,
     "metadata": {},
     "output_type": "execute_result"
    }
   ],
   "execution_count": 23
  },
  {
   "cell_type": "markdown",
   "metadata": {},
   "source": [
    "Next we have the `datetime` objects (yes, in the `datetime` module...):"
   ]
  },
  {
   "cell_type": "code",
   "metadata": {
    "ExecuteTime": {
     "end_time": "2025-06-18T04:52:54.735187Z",
     "start_time": "2025-06-18T04:52:54.731018Z"
    }
   },
   "source": [
    "dt = datetime.datetime(2020, 3, 1, 13, 30, 45, 123)"
   ],
   "outputs": [],
   "execution_count": 24
  },
  {
   "cell_type": "markdown",
   "metadata": {},
   "source": [
    "And we can see the ISO string representattion of this date/time:"
   ]
  },
  {
   "cell_type": "code",
   "metadata": {
    "ExecuteTime": {
     "end_time": "2025-06-18T04:52:54.929770Z",
     "start_time": "2025-06-18T04:52:54.922971Z"
    }
   },
   "source": [
    "dt.isoformat()"
   ],
   "outputs": [
    {
     "data": {
      "text/plain": [
       "'2020-03-01T13:30:45.000123'"
      ]
     },
     "execution_count": 25,
     "metadata": {},
     "output_type": "execute_result"
    }
   ],
   "execution_count": 25
  },
  {
   "cell_type": "markdown",
   "metadata": {},
   "source": [
    "as well as convert an ISO datetime string to a `datetime` object:"
   ]
  },
  {
   "cell_type": "code",
   "metadata": {
    "ExecuteTime": {
     "end_time": "2025-06-18T04:52:55.148257Z",
     "start_time": "2025-06-18T04:52:55.142383Z"
    }
   },
   "source": [
    "dt = datetime.datetime.fromisoformat('2020-02-15T04:30:15')"
   ],
   "outputs": [],
   "execution_count": 26
  },
  {
   "cell_type": "code",
   "metadata": {
    "ExecuteTime": {
     "end_time": "2025-06-18T04:52:55.248891Z",
     "start_time": "2025-06-18T04:52:55.242796Z"
    }
   },
   "source": [
    "dt"
   ],
   "outputs": [
    {
     "data": {
      "text/plain": [
       "datetime.datetime(2020, 2, 15, 4, 30, 15)"
      ]
     },
     "execution_count": 27,
     "metadata": {},
     "output_type": "execute_result"
    }
   ],
   "execution_count": 27
  },
  {
   "cell_type": "markdown",
   "metadata": {},
   "source": [
    "And, just like with `time` and `date` objects, we can retrieve the individual parts of the date time using properties:"
   ]
  },
  {
   "cell_type": "code",
   "metadata": {
    "ExecuteTime": {
     "end_time": "2025-06-18T04:52:55.521906Z",
     "start_time": "2025-06-18T04:52:55.514783Z"
    }
   },
   "source": [
    "dt.year, dt.month, dt.day"
   ],
   "outputs": [
    {
     "data": {
      "text/plain": [
       "(2020, 2, 15)"
      ]
     },
     "execution_count": 28,
     "metadata": {},
     "output_type": "execute_result"
    }
   ],
   "execution_count": 28
  },
  {
   "cell_type": "code",
   "metadata": {
    "ExecuteTime": {
     "end_time": "2025-06-18T04:52:55.663935Z",
     "start_time": "2025-06-18T04:52:55.657744Z"
    }
   },
   "source": [
    "dt.hour, dt.minute, dt.second, dt.microsecond"
   ],
   "outputs": [
    {
     "data": {
      "text/plain": [
       "(4, 30, 15, 0)"
      ]
     },
     "execution_count": 29,
     "metadata": {},
     "output_type": "execute_result"
    }
   ],
   "execution_count": 29
  },
  {
   "cell_type": "markdown",
   "metadata": {},
   "source": [
    "We can also get the current (local) date and time, in UTC as follows:"
   ]
  },
  {
   "cell_type": "code",
   "metadata": {
    "ExecuteTime": {
     "end_time": "2025-06-18T04:52:55.856117Z",
     "start_time": "2025-06-18T04:52:55.850577Z"
    }
   },
   "source": [
    "dt = datetime.datetime.utcnow()"
   ],
   "outputs": [
    {
     "name": "stderr",
     "output_type": "stream",
     "text": [
      "C:\\Users\\swapn\\AppData\\Local\\Temp\\ipykernel_28184\\3012039407.py:1: DeprecationWarning: datetime.datetime.utcnow() is deprecated and scheduled for removal in a future version. Use timezone-aware objects to represent datetimes in UTC: datetime.datetime.now(datetime.UTC).\n",
      "  dt = datetime.datetime.utcnow()\n"
     ]
    }
   ],
   "execution_count": 30
  },
  {
   "cell_type": "code",
   "metadata": {
    "ExecuteTime": {
     "end_time": "2025-06-18T04:52:55.994999Z",
     "start_time": "2025-06-18T04:52:55.988341Z"
    }
   },
   "source": [
    "dt"
   ],
   "outputs": [
    {
     "data": {
      "text/plain": [
       "datetime.datetime(2025, 6, 18, 4, 52, 55, 854085)"
      ]
     },
     "execution_count": 31,
     "metadata": {},
     "output_type": "execute_result"
    }
   ],
   "execution_count": 31
  },
  {
   "cell_type": "markdown",
   "metadata": {},
   "source": [
    "Notice that the values here are not going to be the same as your local clock (unless your local time zone **is** UTC)."
   ]
  },
  {
   "cell_type": "markdown",
   "metadata": {},
   "source": [
    "Now, we haven't mentioned time zones in the context of `time` and `datetime` objects (does not apply to `date` objects obviously)."
   ]
  },
  {
   "cell_type": "markdown",
   "metadata": {},
   "source": [
    "In part, that's because we made the decision to always work with naive UTC `time` and `datetime` objects."
   ]
  },
  {
   "cell_type": "markdown",
   "metadata": {},
   "source": [
    "But we still have to know how to deal with those time zones, at least in order to convert them to naive objects."
   ]
  },
  {
   "cell_type": "markdown",
   "metadata": {},
   "source": [
    "For example, suppose we have this ISO date time:"
   ]
  },
  {
   "cell_type": "code",
   "metadata": {
    "ExecuteTime": {
     "end_time": "2025-06-18T04:52:57.739046Z",
     "start_time": "2025-06-18T04:52:57.733512Z"
    }
   },
   "source": [
    "s = \"2020-04-02T18:30:30-07:00\""
   ],
   "outputs": [],
   "execution_count": 32
  },
  {
   "cell_type": "markdown",
   "metadata": {},
   "source": [
    "This contains time zone information, and if we use `fromisoformat()`:"
   ]
  },
  {
   "cell_type": "code",
   "metadata": {
    "ExecuteTime": {
     "end_time": "2025-06-18T04:52:58.262487Z",
     "start_time": "2025-06-18T04:52:58.257382Z"
    }
   },
   "source": [
    "dt = datetime.datetime.fromisoformat(s)"
   ],
   "outputs": [],
   "execution_count": 33
  },
  {
   "cell_type": "code",
   "metadata": {
    "ExecuteTime": {
     "end_time": "2025-06-18T04:52:58.482132Z",
     "start_time": "2025-06-18T04:52:58.475732Z"
    }
   },
   "source": [
    "dt"
   ],
   "outputs": [
    {
     "data": {
      "text/plain": [
       "datetime.datetime(2020, 4, 2, 18, 30, 30, tzinfo=datetime.timezone(datetime.timedelta(days=-1, seconds=61200)))"
      ]
     },
     "execution_count": 34,
     "metadata": {},
     "output_type": "execute_result"
    }
   ],
   "execution_count": 34
  },
  {
   "cell_type": "markdown",
   "metadata": {},
   "source": [
    "You can see that the above object is time zone **aware** - it contains a property called `tzinfo`, with a definition of the offset. The time is actually recorded as `18:30:30`, so it was not converted to UTC - it was kept as is, and the time zone offset recorded."
   ]
  },
  {
   "cell_type": "markdown",
   "metadata": {},
   "source": [
    "So, we want to convert this to a naive UTC datetime."
   ]
  },
  {
   "cell_type": "markdown",
   "metadata": {},
   "source": [
    "Before we can do this, we have a few more data types to look at: `timedelta` and `timezone`."
   ]
  },
  {
   "cell_type": "markdown",
   "metadata": {},
   "source": [
    "We'll cover those in the next few lectures."
   ]
  }
 ],
 "metadata": {
  "kernelspec": {
   "display_name": "Python 3",
   "language": "python",
   "name": "python3"
  },
  "language_info": {
   "codemirror_mode": {
    "name": "ipython",
    "version": 3
   },
   "file_extension": ".py",
   "mimetype": "text/x-python",
   "name": "python",
   "nbconvert_exporter": "python",
   "pygments_lexer": "ipython3",
   "version": "3.9.1"
  }
 },
 "nbformat": 4,
 "nbformat_minor": 4
}
