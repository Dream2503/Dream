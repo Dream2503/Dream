{
 "cells": [
  {
   "cell_type": "markdown",
   "id": "academic-switzerland",
   "metadata": {},
   "source": [
    "### Solutions"
   ]
  },
  {
   "cell_type": "markdown",
   "id": "impossible-attack",
   "metadata": {},
   "source": [
    "#### Question 1"
   ]
  },
  {
   "cell_type": "markdown",
   "id": "accepting-iceland",
   "metadata": {},
   "source": [
    "Write a function that takes a variable number of arguments (with a minimum of one), and returns the average of these numbers."
   ]
  },
  {
   "cell_type": "markdown",
   "id": "small-machinery",
   "metadata": {},
   "source": [
    "##### Solution"
   ]
  },
  {
   "cell_type": "markdown",
   "id": "increasing-discussion",
   "metadata": {},
   "source": [
    "We could write the function this way:"
   ]
  },
  {
   "cell_type": "code",
   "id": "unauthorized-masters",
   "metadata": {
    "ExecuteTime": {
     "end_time": "2025-06-18T03:05:24.508362Z",
     "start_time": "2025-06-18T03:05:24.501716Z"
    }
   },
   "source": [
    "def average(*args):\n",
    "    sum_values = 0\n",
    "    for value in args:\n",
    "        sum_values += value\n",
    "    return sum_values / len(args)"
   ],
   "outputs": [],
   "execution_count": 1
  },
  {
   "cell_type": "code",
   "id": "careful-seeking",
   "metadata": {
    "ExecuteTime": {
     "end_time": "2025-06-18T03:05:24.849871Z",
     "start_time": "2025-06-18T03:05:24.840998Z"
    }
   },
   "source": [
    "average(1, 2, 3)"
   ],
   "outputs": [
    {
     "data": {
      "text/plain": [
       "2.0"
      ]
     },
     "execution_count": 2,
     "metadata": {},
     "output_type": "execute_result"
    }
   ],
   "execution_count": 2
  },
  {
   "cell_type": "markdown",
   "id": "moral-lesson",
   "metadata": {},
   "source": [
    "First thing is that we can use the built-in Python function `sum()` to sum up the values:"
   ]
  },
  {
   "cell_type": "code",
   "id": "passive-lafayette",
   "metadata": {
    "ExecuteTime": {
     "end_time": "2025-06-18T03:05:24.876601Z",
     "start_time": "2025-06-18T03:05:24.870039Z"
    }
   },
   "source": [
    "def average(*args):\n",
    "    return sum(args) / len(args)"
   ],
   "outputs": [],
   "execution_count": 3
  },
  {
   "cell_type": "code",
   "id": "inside-parcel",
   "metadata": {
    "ExecuteTime": {
     "end_time": "2025-06-18T03:05:24.922914Z",
     "start_time": "2025-06-18T03:05:24.914967Z"
    }
   },
   "source": [
    "average(1, 2, 3)"
   ],
   "outputs": [
    {
     "data": {
      "text/plain": [
       "2.0"
      ]
     },
     "execution_count": 4,
     "metadata": {},
     "output_type": "execute_result"
    }
   ],
   "execution_count": 4
  },
  {
   "cell_type": "markdown",
   "id": "intended-intake",
   "metadata": {},
   "source": [
    "The problem though is that we could call this function without any arguments, and this will lead to a `ZeroDivisionError` exception:"
   ]
  },
  {
   "cell_type": "code",
   "id": "defensive-winning",
   "metadata": {
    "ExecuteTime": {
     "end_time": "2025-06-18T03:05:25.361907Z",
     "start_time": "2025-06-18T03:05:24.965060Z"
    }
   },
   "source": [
    "average()"
   ],
   "outputs": [
    {
     "ename": "ZeroDivisionError",
     "evalue": "division by zero",
     "output_type": "error",
     "traceback": [
      "\u001B[1;31m---------------------------------------------------------------------------\u001B[0m",
      "\u001B[1;31mZeroDivisionError\u001B[0m                         Traceback (most recent call last)",
      "Cell \u001B[1;32mIn[5], line 1\u001B[0m\n\u001B[1;32m----> 1\u001B[0m \u001B[43maverage\u001B[49m\u001B[43m(\u001B[49m\u001B[43m)\u001B[49m\n",
      "Cell \u001B[1;32mIn[3], line 2\u001B[0m, in \u001B[0;36maverage\u001B[1;34m(*args)\u001B[0m\n\u001B[0;32m      1\u001B[0m \u001B[38;5;28;01mdef\u001B[39;00m \u001B[38;5;21maverage\u001B[39m(\u001B[38;5;241m*\u001B[39margs):\n\u001B[1;32m----> 2\u001B[0m     \u001B[38;5;28;01mreturn\u001B[39;00m \u001B[38;5;28;43msum\u001B[39;49m\u001B[43m(\u001B[49m\u001B[43margs\u001B[49m\u001B[43m)\u001B[49m\u001B[43m \u001B[49m\u001B[38;5;241;43m/\u001B[39;49m\u001B[43m \u001B[49m\u001B[38;5;28;43mlen\u001B[39;49m\u001B[43m(\u001B[49m\u001B[43margs\u001B[49m\u001B[43m)\u001B[49m\n",
      "\u001B[1;31mZeroDivisionError\u001B[0m: division by zero"
     ]
    }
   ],
   "execution_count": 5
  },
  {
   "cell_type": "markdown",
   "id": "alpha-opening",
   "metadata": {},
   "source": [
    "We could decide that this is perfectly fine and that the exception should occur - that's perfectly valid.\n",
    "\n",
    "The problem with just letting that exception happen is that it is not very informative in terms of **why** that exception occurred - person using our function may not understand that this was caused by passing zero arguments.\n",
    "\n",
    "So, at the very least, we shoudl provide a better error message:"
   ]
  },
  {
   "cell_type": "markdown",
   "id": "cooperative-thompson",
   "metadata": {},
   "source": [
    "We could use the LBYL approach, and test for the number of arguments passed in, and raise an exception if none were passed:"
   ]
  },
  {
   "cell_type": "code",
   "id": "inclusive-lingerie",
   "metadata": {
    "ExecuteTime": {
     "end_time": "2025-06-18T03:05:25.633935Z",
     "start_time": "2025-06-18T03:05:25.628493Z"
    }
   },
   "source": [
    "def average(*args):\n",
    "    if len(args) == 0:\n",
    "        raise ValueError('At least one argument must be passed to function.')\n",
    "    return sum(args) / len(args)        "
   ],
   "outputs": [],
   "execution_count": 6
  },
  {
   "cell_type": "code",
   "id": "democratic-malta",
   "metadata": {
    "ExecuteTime": {
     "end_time": "2025-06-18T03:05:29.803638Z",
     "start_time": "2025-06-18T03:05:29.780505Z"
    }
   },
   "source": [
    "average()"
   ],
   "outputs": [
    {
     "ename": "ValueError",
     "evalue": "At least one argument must be passed to function.",
     "output_type": "error",
     "traceback": [
      "\u001B[1;31m---------------------------------------------------------------------------\u001B[0m",
      "\u001B[1;31mValueError\u001B[0m                                Traceback (most recent call last)",
      "Cell \u001B[1;32mIn[7], line 1\u001B[0m\n\u001B[1;32m----> 1\u001B[0m \u001B[43maverage\u001B[49m\u001B[43m(\u001B[49m\u001B[43m)\u001B[49m\n",
      "Cell \u001B[1;32mIn[6], line 3\u001B[0m, in \u001B[0;36maverage\u001B[1;34m(*args)\u001B[0m\n\u001B[0;32m      1\u001B[0m \u001B[38;5;28;01mdef\u001B[39;00m \u001B[38;5;21maverage\u001B[39m(\u001B[38;5;241m*\u001B[39margs):\n\u001B[0;32m      2\u001B[0m     \u001B[38;5;28;01mif\u001B[39;00m \u001B[38;5;28mlen\u001B[39m(args) \u001B[38;5;241m==\u001B[39m \u001B[38;5;241m0\u001B[39m:\n\u001B[1;32m----> 3\u001B[0m         \u001B[38;5;28;01mraise\u001B[39;00m \u001B[38;5;167;01mValueError\u001B[39;00m(\u001B[38;5;124m'\u001B[39m\u001B[38;5;124mAt least one argument must be passed to function.\u001B[39m\u001B[38;5;124m'\u001B[39m)\n\u001B[0;32m      4\u001B[0m     \u001B[38;5;28;01mreturn\u001B[39;00m \u001B[38;5;28msum\u001B[39m(args) \u001B[38;5;241m/\u001B[39m \u001B[38;5;28mlen\u001B[39m(args)\n",
      "\u001B[1;31mValueError\u001B[0m: At least one argument must be passed to function."
     ]
    }
   ],
   "execution_count": 7
  },
  {
   "cell_type": "markdown",
   "id": "emotional-realtor",
   "metadata": {},
   "source": [
    "Another approach (EAFP) could be:"
   ]
  },
  {
   "cell_type": "code",
   "id": "heard-performer",
   "metadata": {
    "ExecuteTime": {
     "end_time": "2025-06-18T03:05:32.417481Z",
     "start_time": "2025-06-18T03:05:32.411429Z"
    }
   },
   "source": [
    "def average(*args):\n",
    "    try:\n",
    "        return sum(args) / len(args)\n",
    "    except ZeroDivisionError:\n",
    "        raise ValueError('At least one argument must be passed to function.')"
   ],
   "outputs": [],
   "execution_count": 8
  },
  {
   "cell_type": "code",
   "id": "authentic-water",
   "metadata": {
    "ExecuteTime": {
     "end_time": "2025-06-18T03:05:32.985283Z",
     "start_time": "2025-06-18T03:05:32.943105Z"
    }
   },
   "source": [
    "average()"
   ],
   "outputs": [
    {
     "ename": "ValueError",
     "evalue": "At least one argument must be passed to function.",
     "output_type": "error",
     "traceback": [
      "\u001B[1;31m---------------------------------------------------------------------------\u001B[0m",
      "\u001B[1;31mZeroDivisionError\u001B[0m                         Traceback (most recent call last)",
      "Cell \u001B[1;32mIn[8], line 3\u001B[0m, in \u001B[0;36maverage\u001B[1;34m(*args)\u001B[0m\n\u001B[0;32m      2\u001B[0m \u001B[38;5;28;01mtry\u001B[39;00m:\n\u001B[1;32m----> 3\u001B[0m     \u001B[38;5;28;01mreturn\u001B[39;00m \u001B[38;5;28;43msum\u001B[39;49m\u001B[43m(\u001B[49m\u001B[43margs\u001B[49m\u001B[43m)\u001B[49m\u001B[43m \u001B[49m\u001B[38;5;241;43m/\u001B[39;49m\u001B[43m \u001B[49m\u001B[38;5;28;43mlen\u001B[39;49m\u001B[43m(\u001B[49m\u001B[43margs\u001B[49m\u001B[43m)\u001B[49m\n\u001B[0;32m      4\u001B[0m \u001B[38;5;28;01mexcept\u001B[39;00m \u001B[38;5;167;01mZeroDivisionError\u001B[39;00m:\n",
      "\u001B[1;31mZeroDivisionError\u001B[0m: division by zero",
      "\nDuring handling of the above exception, another exception occurred:\n",
      "\u001B[1;31mValueError\u001B[0m                                Traceback (most recent call last)",
      "Cell \u001B[1;32mIn[9], line 1\u001B[0m\n\u001B[1;32m----> 1\u001B[0m \u001B[43maverage\u001B[49m\u001B[43m(\u001B[49m\u001B[43m)\u001B[49m\n",
      "Cell \u001B[1;32mIn[8], line 5\u001B[0m, in \u001B[0;36maverage\u001B[1;34m(*args)\u001B[0m\n\u001B[0;32m      3\u001B[0m     \u001B[38;5;28;01mreturn\u001B[39;00m \u001B[38;5;28msum\u001B[39m(args) \u001B[38;5;241m/\u001B[39m \u001B[38;5;28mlen\u001B[39m(args)\n\u001B[0;32m      4\u001B[0m \u001B[38;5;28;01mexcept\u001B[39;00m \u001B[38;5;167;01mZeroDivisionError\u001B[39;00m:\n\u001B[1;32m----> 5\u001B[0m     \u001B[38;5;28;01mraise\u001B[39;00m \u001B[38;5;167;01mValueError\u001B[39;00m(\u001B[38;5;124m'\u001B[39m\u001B[38;5;124mAt least one argument must be passed to function.\u001B[39m\u001B[38;5;124m'\u001B[39m)\n",
      "\u001B[1;31mValueError\u001B[0m: At least one argument must be passed to function."
     ]
    }
   ],
   "execution_count": 9
  },
  {
   "cell_type": "markdown",
   "id": "front-cherry",
   "metadata": {},
   "source": [
    "But we can actually enforce that at least one argument must be passed by changing how we specify our arguments - we can specify a single positional, followed by a `*args` - this way the function must be called with at least one argument:"
   ]
  },
  {
   "cell_type": "code",
   "id": "alpine-divide",
   "metadata": {
    "ExecuteTime": {
     "end_time": "2025-06-18T03:05:36.718199Z",
     "start_time": "2025-06-18T03:05:36.712028Z"
    }
   },
   "source": [
    "def average(arg, *args):\n",
    "    sum_values = arg + sum(args)\n",
    "    return sum_values / (len(args) + 1)"
   ],
   "outputs": [],
   "execution_count": 10
  },
  {
   "cell_type": "code",
   "id": "indonesian-defeat",
   "metadata": {
    "ExecuteTime": {
     "end_time": "2025-06-18T03:05:37.176315Z",
     "start_time": "2025-06-18T03:05:37.170288Z"
    }
   },
   "source": [
    "average(1, 2, 3)"
   ],
   "outputs": [
    {
     "data": {
      "text/plain": [
       "2.0"
      ]
     },
     "execution_count": 11,
     "metadata": {},
     "output_type": "execute_result"
    }
   ],
   "execution_count": 11
  },
  {
   "cell_type": "code",
   "id": "nasty-twist",
   "metadata": {
    "ExecuteTime": {
     "end_time": "2025-06-18T03:05:37.504092Z",
     "start_time": "2025-06-18T03:05:37.485973Z"
    }
   },
   "source": [
    "average()"
   ],
   "outputs": [
    {
     "ename": "TypeError",
     "evalue": "average() missing 1 required positional argument: 'arg'",
     "output_type": "error",
     "traceback": [
      "\u001B[1;31m---------------------------------------------------------------------------\u001B[0m",
      "\u001B[1;31mTypeError\u001B[0m                                 Traceback (most recent call last)",
      "Cell \u001B[1;32mIn[12], line 1\u001B[0m\n\u001B[1;32m----> 1\u001B[0m \u001B[43maverage\u001B[49m\u001B[43m(\u001B[49m\u001B[43m)\u001B[49m\n",
      "\u001B[1;31mTypeError\u001B[0m: average() missing 1 required positional argument: 'arg'"
     ]
    }
   ],
   "execution_count": 12
  },
  {
   "cell_type": "markdown",
   "id": "broken-permit",
   "metadata": {},
   "source": [
    "#### Question 2"
   ]
  },
  {
   "cell_type": "markdown",
   "id": "elegant-anderson",
   "metadata": {},
   "source": [
    "Write a function that returns a string based on two input arguments:\n",
    "- a character or string to be repeated\n",
    "- the number of times the string should be repeated"
   ]
  },
  {
   "cell_type": "markdown",
   "id": "adaptive-animation",
   "metadata": {},
   "source": [
    "The function should be such that the number of repetitions defaults to `10` if it is not passed by the caller, and the default character to be repeated should be a negative sign (`-`).\n",
    "\n",
    "Call your function `separator`.\n",
    "\n",
    "Use a keyword-only argument for the string argument."
   ]
  },
  {
   "cell_type": "markdown",
   "id": "primary-location",
   "metadata": {},
   "source": [
    "##### Solution"
   ]
  },
  {
   "cell_type": "markdown",
   "id": "intensive-attendance",
   "metadata": {},
   "source": [
    "Here we'll want to use default values for the value and the string, as well as make the string a keyword-only argument:"
   ]
  },
  {
   "cell_type": "code",
   "id": "frozen-substance",
   "metadata": {
    "ExecuteTime": {
     "end_time": "2025-06-18T03:05:38.633064Z",
     "start_time": "2025-06-18T03:05:38.628038Z"
    }
   },
   "source": [
    "def separator(number=10, *, char='-'):\n",
    "    return char * number"
   ],
   "outputs": [],
   "execution_count": 13
  },
  {
   "cell_type": "code",
   "id": "ranking-reception",
   "metadata": {
    "ExecuteTime": {
     "end_time": "2025-06-18T03:05:38.963701Z",
     "start_time": "2025-06-18T03:05:38.956479Z"
    }
   },
   "source": [
    "separator()"
   ],
   "outputs": [
    {
     "data": {
      "text/plain": [
       "'----------'"
      ]
     },
     "execution_count": 14,
     "metadata": {},
     "output_type": "execute_result"
    }
   ],
   "execution_count": 14
  },
  {
   "cell_type": "code",
   "id": "peripheral-recorder",
   "metadata": {
    "ExecuteTime": {
     "end_time": "2025-06-18T03:05:39.165739Z",
     "start_time": "2025-06-18T03:05:39.157195Z"
    }
   },
   "source": [
    "separator(5)"
   ],
   "outputs": [
    {
     "data": {
      "text/plain": [
       "'-----'"
      ]
     },
     "execution_count": 15,
     "metadata": {},
     "output_type": "execute_result"
    }
   ],
   "execution_count": 15
  },
  {
   "cell_type": "code",
   "id": "saving-doubt",
   "metadata": {
    "ExecuteTime": {
     "end_time": "2025-06-18T03:05:39.303770Z",
     "start_time": "2025-06-18T03:05:39.297725Z"
    }
   },
   "source": [
    "separator(char='*')"
   ],
   "outputs": [
    {
     "data": {
      "text/plain": [
       "'**********'"
      ]
     },
     "execution_count": 16,
     "metadata": {},
     "output_type": "execute_result"
    }
   ],
   "execution_count": 16
  },
  {
   "cell_type": "code",
   "id": "musical-safety",
   "metadata": {
    "ExecuteTime": {
     "end_time": "2025-06-18T03:05:39.461752Z",
     "start_time": "2025-06-18T03:05:39.451306Z"
    }
   },
   "source": [
    "separator(5, char='*')"
   ],
   "outputs": [
    {
     "data": {
      "text/plain": [
       "'*****'"
      ]
     },
     "execution_count": 17,
     "metadata": {},
     "output_type": "execute_result"
    }
   ],
   "execution_count": 17
  },
  {
   "cell_type": "markdown",
   "id": "primary-fitness",
   "metadata": {},
   "source": [
    "#### Question 3"
   ]
  },
  {
   "cell_type": "markdown",
   "id": "aboriginal-resistance",
   "metadata": {},
   "source": [
    "Write a lambda function that returns the number of unique elements in an iterable. This could be the number of unique characters in a string, or the number of unique elements in a list, tuple, etc.\n",
    "\n",
    "If the iterable received by the lambda function is empty, then it should return `0`."
   ]
  },
  {
   "cell_type": "markdown",
   "id": "wireless-finance",
   "metadata": {},
   "source": [
    "##### Solution"
   ]
  },
  {
   "cell_type": "markdown",
   "id": "lasting-hebrew",
   "metadata": {},
   "source": [
    "Let's first write this using a regular function."
   ]
  },
  {
   "cell_type": "markdown",
   "id": "muslim-whole",
   "metadata": {},
   "source": [
    "We're going to use sets to obtain the unique elements of an iterable, and then return the length of the set:"
   ]
  },
  {
   "cell_type": "code",
   "id": "inner-butler",
   "metadata": {
    "ExecuteTime": {
     "end_time": "2025-06-18T03:05:40.684147Z",
     "start_time": "2025-06-18T03:05:40.679547Z"
    }
   },
   "source": [
    "def count_unique(iterable):\n",
    "    unique_elements = set(iterable)\n",
    "    return len(unique_elements)"
   ],
   "outputs": [],
   "execution_count": 18
  },
  {
   "cell_type": "code",
   "id": "included-raise",
   "metadata": {
    "ExecuteTime": {
     "end_time": "2025-06-18T03:05:40.796553Z",
     "start_time": "2025-06-18T03:05:40.789440Z"
    }
   },
   "source": [
    "count_unique('abcdabcd')"
   ],
   "outputs": [
    {
     "data": {
      "text/plain": [
       "4"
      ]
     },
     "execution_count": 19,
     "metadata": {},
     "output_type": "execute_result"
    }
   ],
   "execution_count": 19
  },
  {
   "cell_type": "code",
   "id": "gothic-certificate",
   "metadata": {
    "ExecuteTime": {
     "end_time": "2025-06-18T03:05:40.988334Z",
     "start_time": "2025-06-18T03:05:40.982148Z"
    }
   },
   "source": [
    "count_unique([1, 1, 2, 2, 3])"
   ],
   "outputs": [
    {
     "data": {
      "text/plain": [
       "3"
      ]
     },
     "execution_count": 20,
     "metadata": {},
     "output_type": "execute_result"
    }
   ],
   "execution_count": 20
  },
  {
   "cell_type": "markdown",
   "id": "civic-hearing",
   "metadata": {},
   "source": [
    "And this even works for empty iterables:"
   ]
  },
  {
   "cell_type": "code",
   "id": "transsexual-labor",
   "metadata": {
    "ExecuteTime": {
     "end_time": "2025-06-18T03:05:41.326119Z",
     "start_time": "2025-06-18T03:05:41.320228Z"
    }
   },
   "source": [
    "count_unique([])"
   ],
   "outputs": [
    {
     "data": {
      "text/plain": [
       "0"
      ]
     },
     "execution_count": 21,
     "metadata": {},
     "output_type": "execute_result"
    }
   ],
   "execution_count": 21
  },
  {
   "cell_type": "markdown",
   "id": "monthly-phase",
   "metadata": {},
   "source": [
    "We can then make a lambda function with the same functionality:"
   ]
  },
  {
   "cell_type": "code",
   "id": "decreased-martial",
   "metadata": {
    "ExecuteTime": {
     "end_time": "2025-06-18T03:05:41.797604Z",
     "start_time": "2025-06-18T03:05:41.793723Z"
    }
   },
   "source": [
    "f = lambda iterable: len(set(iterable))"
   ],
   "outputs": [],
   "execution_count": 22
  },
  {
   "cell_type": "code",
   "id": "dated-switch",
   "metadata": {
    "ExecuteTime": {
     "end_time": "2025-06-18T03:05:41.907469Z",
     "start_time": "2025-06-18T03:05:41.903342Z"
    }
   },
   "source": [
    "f('aabbcc')"
   ],
   "outputs": [
    {
     "data": {
      "text/plain": [
       "3"
      ]
     },
     "execution_count": 23,
     "metadata": {},
     "output_type": "execute_result"
    }
   ],
   "execution_count": 23
  },
  {
   "cell_type": "code",
   "id": "ongoing-allen",
   "metadata": {
    "ExecuteTime": {
     "end_time": "2025-06-18T03:05:42.074223Z",
     "start_time": "2025-06-18T03:05:42.069316Z"
    }
   },
   "source": [
    "f([1, 1, 2, 2, 3, 4])"
   ],
   "outputs": [
    {
     "data": {
      "text/plain": [
       "4"
      ]
     },
     "execution_count": 24,
     "metadata": {},
     "output_type": "execute_result"
    }
   ],
   "execution_count": 24
  },
  {
   "cell_type": "markdown",
   "id": "miniature-myanmar",
   "metadata": {},
   "source": [
    "#### Question 4"
   ]
  },
  {
   "cell_type": "markdown",
   "id": "front-dominican",
   "metadata": {},
   "source": [
    "Write a function that receives a string as an argument (defaults to an empty string) and returns a dictionary with the unique words and their frequency."
   ]
  },
  {
   "cell_type": "markdown",
   "id": "medieval-folks",
   "metadata": {},
   "source": [
    "For example, for a string such as:\n",
    "\n",
    "```\n",
    "This is the first sentence. This is the scecond sentence. This is not the fourth sentence, it is the third sentence.\n",
    "```\n",
    "\n",
    "the result of the function should be:"
   ]
  },
  {
   "cell_type": "code",
   "id": "surgical-portrait",
   "metadata": {
    "ExecuteTime": {
     "end_time": "2025-06-18T03:05:42.815797Z",
     "start_time": "2025-06-18T03:05:42.809224Z"
    }
   },
   "source": [
    "result = {\n",
    "    'This': 3,\n",
    "    'is': 4,\n",
    "    'the': 4,\n",
    "    'first': 1,\n",
    "    'sentence': 4,\n",
    "    'scecond': 1,\n",
    "    'not': 1,\n",
    "    'fourth': 1,\n",
    "    'it': 1,\n",
    "    'third': 1\n",
    "}"
   ],
   "outputs": [],
   "execution_count": 25
  },
  {
   "cell_type": "markdown",
   "id": "unable-glance",
   "metadata": {},
   "source": [
    "You may assume that word separators are limited to spaces, commas, and periods (no newline characters)."
   ]
  },
  {
   "cell_type": "markdown",
   "id": "determined-healing",
   "metadata": {},
   "source": [
    "Hint: You will want to split based on some character. Problem is that we really need to split based on three different characters: spaces, commas and periods. One approach would be to replace all commas and periods with spaces and then split on spaces."
   ]
  },
  {
   "cell_type": "markdown",
   "id": "funded-environment",
   "metadata": {},
   "source": [
    "##### Solution"
   ]
  },
  {
   "cell_type": "markdown",
   "id": "greater-diesel",
   "metadata": {},
   "source": [
    "The first thing our function will need to do is split all the words on the space, comma and prediod characters."
   ]
  },
  {
   "cell_type": "markdown",
   "id": "explicit-firmware",
   "metadata": {},
   "source": [
    "But the split function cannot handle multiple separators, so we need a way around this."
   ]
  },
  {
   "cell_type": "markdown",
   "id": "eight-artwork",
   "metadata": {},
   "source": [
    "One approach would be to iterate over every character in the string and maintain the splits ourselves by checking the current character value as a separator value or not a separator value - but this is not as easy to do as it sounds."
   ]
  },
  {
   "cell_type": "markdown",
   "id": "fundamental-headquarters",
   "metadata": {},
   "source": [
    "Another approach, beyond the scope of this course, would be to use regular expression."
   ]
  },
  {
   "cell_type": "markdown",
   "id": "sunrise-hundred",
   "metadata": {},
   "source": [
    "The approach I'm going to take here is to replace all the separator characters with spaces - and then just split on spaces."
   ]
  },
  {
   "cell_type": "code",
   "id": "sixth-shell",
   "metadata": {
    "ExecuteTime": {
     "end_time": "2025-06-18T03:05:44.785263Z",
     "start_time": "2025-06-18T03:05:44.778551Z"
    }
   },
   "source": [
    "s = \"word1, word2. word3 word4 word4\""
   ],
   "outputs": [],
   "execution_count": 26
  },
  {
   "cell_type": "code",
   "id": "important-frederick",
   "metadata": {
    "ExecuteTime": {
     "end_time": "2025-06-18T03:05:45.002602Z",
     "start_time": "2025-06-18T03:05:44.994935Z"
    }
   },
   "source": [
    "s = s.replace(',', ' ')\n",
    "s"
   ],
   "outputs": [
    {
     "data": {
      "text/plain": [
       "'word1  word2. word3 word4 word4'"
      ]
     },
     "execution_count": 27,
     "metadata": {},
     "output_type": "execute_result"
    }
   ],
   "execution_count": 27
  },
  {
   "cell_type": "code",
   "id": "smart-brighton",
   "metadata": {
    "ExecuteTime": {
     "end_time": "2025-06-18T03:05:45.320335Z",
     "start_time": "2025-06-18T03:05:45.314820Z"
    }
   },
   "source": [
    "s = s.replace('.', ' ')"
   ],
   "outputs": [],
   "execution_count": 28
  },
  {
   "cell_type": "code",
   "id": "distant-location",
   "metadata": {
    "ExecuteTime": {
     "end_time": "2025-06-18T03:05:45.487853Z",
     "start_time": "2025-06-18T03:05:45.480139Z"
    }
   },
   "source": [
    "s"
   ],
   "outputs": [
    {
     "data": {
      "text/plain": [
       "'word1  word2  word3 word4 word4'"
      ]
     },
     "execution_count": 29,
     "metadata": {},
     "output_type": "execute_result"
    }
   ],
   "execution_count": 29
  },
  {
   "cell_type": "markdown",
   "id": "broadband-trinidad",
   "metadata": {},
   "source": [
    "Now we can split on spaces, but you'll notice that we sometimes have repeated spaces in our string:"
   ]
  },
  {
   "cell_type": "code",
   "id": "laden-judgment",
   "metadata": {
    "ExecuteTime": {
     "end_time": "2025-06-18T03:05:46.098130Z",
     "start_time": "2025-06-18T03:05:46.092019Z"
    }
   },
   "source": [
    "s.split(' ')"
   ],
   "outputs": [
    {
     "data": {
      "text/plain": [
       "['word1', '', 'word2', '', 'word3', 'word4', 'word4']"
      ]
     },
     "execution_count": 30,
     "metadata": {},
     "output_type": "execute_result"
    }
   ],
   "execution_count": 30
  },
  {
   "cell_type": "markdown",
   "id": "stretch-adams",
   "metadata": {},
   "source": [
    "But remember that with no argument, `split` will split based on any whitespace characters - and this works much better for us, since it will treat `' '` (single space) in the same way as `'  '` (two spaces)."
   ]
  },
  {
   "cell_type": "code",
   "id": "confused-charter",
   "metadata": {
    "ExecuteTime": {
     "end_time": "2025-06-18T03:05:46.456914Z",
     "start_time": "2025-06-18T03:05:46.449868Z"
    }
   },
   "source": [
    "s.split()"
   ],
   "outputs": [
    {
     "data": {
      "text/plain": [
       "['word1', 'word2', 'word3', 'word4', 'word4']"
      ]
     },
     "execution_count": 31,
     "metadata": {},
     "output_type": "execute_result"
    }
   ],
   "execution_count": 31
  },
  {
   "cell_type": "markdown",
   "id": "classified-reproduction",
   "metadata": {},
   "source": [
    "Once we have that, we can build up a dictionary containing the unique words and their frequency:"
   ]
  },
  {
   "cell_type": "code",
   "id": "comparative-designer",
   "metadata": {
    "ExecuteTime": {
     "end_time": "2025-06-18T03:05:46.923504Z",
     "start_time": "2025-06-18T03:05:46.917466Z"
    }
   },
   "source": [
    "freq = {}\n",
    "for word in s.split():\n",
    "    freq[word] = freq.get(word, 0) + 1\n",
    "    \n",
    "freq"
   ],
   "outputs": [
    {
     "data": {
      "text/plain": [
       "{'word1': 1, 'word2': 1, 'word3': 1, 'word4': 2}"
      ]
     },
     "execution_count": 32,
     "metadata": {},
     "output_type": "execute_result"
    }
   ],
   "execution_count": 32
  },
  {
   "cell_type": "markdown",
   "id": "played-forward",
   "metadata": {},
   "source": [
    "Or we could use the `Counter` object we saw earlier:"
   ]
  },
  {
   "cell_type": "code",
   "id": "italic-albuquerque",
   "metadata": {
    "ExecuteTime": {
     "end_time": "2025-06-18T03:05:47.778824Z",
     "start_time": "2025-06-18T03:05:47.752293Z"
    }
   },
   "source": [
    "from collections import Counter\n",
    "\n",
    "freq = Counter(s.split())\n",
    "freq.dict()"
   ],
   "outputs": [
    {
     "ename": "AttributeError",
     "evalue": "'Counter' object has no attribute 'dict'",
     "output_type": "error",
     "traceback": [
      "\u001B[1;31m---------------------------------------------------------------------------\u001B[0m",
      "\u001B[1;31mAttributeError\u001B[0m                            Traceback (most recent call last)",
      "Cell \u001B[1;32mIn[33], line 4\u001B[0m\n\u001B[0;32m      1\u001B[0m \u001B[38;5;28;01mfrom\u001B[39;00m \u001B[38;5;21;01mcollections\u001B[39;00m \u001B[38;5;28;01mimport\u001B[39;00m Counter\n\u001B[0;32m      3\u001B[0m freq \u001B[38;5;241m=\u001B[39m Counter(s\u001B[38;5;241m.\u001B[39msplit())\n\u001B[1;32m----> 4\u001B[0m \u001B[43mfreq\u001B[49m\u001B[38;5;241;43m.\u001B[39;49m\u001B[43mdict\u001B[49m()\n",
      "\u001B[1;31mAttributeError\u001B[0m: 'Counter' object has no attribute 'dict'"
     ]
    }
   ],
   "execution_count": 33
  },
  {
   "cell_type": "markdown",
   "id": "continental-bradley",
   "metadata": {},
   "source": [
    "If we truly want a dictionary, we can convert that `Counter` object to a `dict` type:"
   ]
  },
  {
   "cell_type": "code",
   "id": "paperback-breast",
   "metadata": {
    "ExecuteTime": {
     "end_time": "2025-06-18T03:05:48.637389Z",
     "start_time": "2025-06-18T03:05:48.630725Z"
    }
   },
   "source": [
    "dict(freq)"
   ],
   "outputs": [
    {
     "data": {
      "text/plain": [
       "{'word1': 1, 'word2': 1, 'word3': 1, 'word4': 2}"
      ]
     },
     "execution_count": 34,
     "metadata": {},
     "output_type": "execute_result"
    }
   ],
   "execution_count": 34
  },
  {
   "cell_type": "markdown",
   "id": "analyzed-agreement",
   "metadata": {},
   "source": [
    "Now we are ready to build a function that does all these steps:"
   ]
  },
  {
   "cell_type": "code",
   "id": "perfect-venture",
   "metadata": {
    "ExecuteTime": {
     "end_time": "2025-06-18T03:05:49.151179Z",
     "start_time": "2025-06-18T03:05:49.145167Z"
    }
   },
   "source": [
    "def word_frequencies(s = ''):\n",
    "    s = s.replace(',', ' ')\n",
    "    s = s.replace('.', ' ')\n",
    "    words = s.split()\n",
    "    return dict(Counter(words))"
   ],
   "outputs": [],
   "execution_count": 35
  },
  {
   "cell_type": "markdown",
   "id": "affiliated-sacramento",
   "metadata": {},
   "source": [
    "Let's try this function out with some arguments (including no arguments):"
   ]
  },
  {
   "cell_type": "code",
   "id": "retired-prison",
   "metadata": {
    "ExecuteTime": {
     "end_time": "2025-06-18T03:05:49.604092Z",
     "start_time": "2025-06-18T03:05:49.598331Z"
    }
   },
   "source": [
    "word_frequencies()"
   ],
   "outputs": [
    {
     "data": {
      "text/plain": [
       "{}"
      ]
     },
     "execution_count": 36,
     "metadata": {},
     "output_type": "execute_result"
    }
   ],
   "execution_count": 36
  },
  {
   "cell_type": "code",
   "id": "comic-snake",
   "metadata": {
    "ExecuteTime": {
     "end_time": "2025-06-18T03:05:49.815773Z",
     "start_time": "2025-06-18T03:05:49.809264Z"
    }
   },
   "source": [
    "word_frequencies('word1, word2, word1. word1 word1... word3')"
   ],
   "outputs": [
    {
     "data": {
      "text/plain": [
       "{'word1': 4, 'word2': 1, 'word3': 1}"
      ]
     },
     "execution_count": 37,
     "metadata": {},
     "output_type": "execute_result"
    }
   ],
   "execution_count": 37
  },
  {
   "cell_type": "markdown",
   "id": "acknowledged-contemporary",
   "metadata": {},
   "source": [
    "And finally let's try it out with the sample text and make sure we get the same results:"
   ]
  },
  {
   "cell_type": "code",
   "id": "enabling-caribbean",
   "metadata": {
    "ExecuteTime": {
     "end_time": "2025-06-18T03:05:50.566664Z",
     "start_time": "2025-06-18T03:05:50.561006Z"
    }
   },
   "source": [
    "s = \"\"\"\n",
    "This is the first sentence. This is the scecond sentence. This is not the fourth sentence, it is the third sentence.\n",
    "\"\"\""
   ],
   "outputs": [],
   "execution_count": 38
  },
  {
   "cell_type": "code",
   "id": "optimum-duplicate",
   "metadata": {
    "ExecuteTime": {
     "end_time": "2025-06-18T03:05:50.790161Z",
     "start_time": "2025-06-18T03:05:50.784650Z"
    }
   },
   "source": [
    "computed = word_frequencies(s)"
   ],
   "outputs": [],
   "execution_count": 39
  },
  {
   "cell_type": "code",
   "id": "built-pipeline",
   "metadata": {
    "ExecuteTime": {
     "end_time": "2025-06-18T03:05:51.014487Z",
     "start_time": "2025-06-18T03:05:51.007010Z"
    }
   },
   "source": [
    "computed"
   ],
   "outputs": [
    {
     "data": {
      "text/plain": [
       "{'This': 3,\n",
       " 'is': 4,\n",
       " 'the': 4,\n",
       " 'first': 1,\n",
       " 'sentence': 4,\n",
       " 'scecond': 1,\n",
       " 'not': 1,\n",
       " 'fourth': 1,\n",
       " 'it': 1,\n",
       " 'third': 1}"
      ]
     },
     "execution_count": 40,
     "metadata": {},
     "output_type": "execute_result"
    }
   ],
   "execution_count": 40
  },
  {
   "cell_type": "markdown",
   "id": "alleged-classics",
   "metadata": {},
   "source": [
    "We could visually check the results against the sample result, but we can also just compre the dictionaries using `==`:"
   ]
  },
  {
   "cell_type": "code",
   "id": "fancy-bulgaria",
   "metadata": {
    "ExecuteTime": {
     "end_time": "2025-06-18T03:05:52.129773Z",
     "start_time": "2025-06-18T03:05:52.123772Z"
    }
   },
   "source": [
    "result = {\n",
    "    'This': 3,\n",
    "    'is': 4,\n",
    "    'the': 4,\n",
    "    'first': 1,\n",
    "    'sentence': 4,\n",
    "    'scecond': 1,\n",
    "    'not': 1,\n",
    "    'fourth': 1,\n",
    "    'it': 1,\n",
    "    'third': 1\n",
    "}"
   ],
   "outputs": [],
   "execution_count": 41
  },
  {
   "cell_type": "code",
   "id": "talented-reply",
   "metadata": {
    "ExecuteTime": {
     "end_time": "2025-06-18T03:05:52.609123Z",
     "start_time": "2025-06-18T03:05:52.602951Z"
    }
   },
   "source": [
    "computed == result"
   ],
   "outputs": [
    {
     "data": {
      "text/plain": [
       "True"
      ]
     },
     "execution_count": 42,
     "metadata": {},
     "output_type": "execute_result"
    }
   ],
   "execution_count": 42
  }
 ],
 "metadata": {
  "kernelspec": {
   "display_name": "Python 3",
   "language": "python",
   "name": "python3"
  },
  "language_info": {
   "codemirror_mode": {
    "name": "ipython",
    "version": 3
   },
   "file_extension": ".py",
   "mimetype": "text/x-python",
   "name": "python",
   "nbconvert_exporter": "python",
   "pygments_lexer": "ipython3",
   "version": "3.9.1"
  }
 },
 "nbformat": 4,
 "nbformat_minor": 5
}
