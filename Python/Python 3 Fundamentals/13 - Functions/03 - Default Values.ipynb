{
 "cells": [
  {
   "cell_type": "markdown",
   "metadata": {},
   "source": [
    "### Default Values"
   ]
  },
  {
   "cell_type": "markdown",
   "metadata": {},
   "source": [
    "We can specify **default** values for positional arguments."
   ]
  },
  {
   "cell_type": "markdown",
   "metadata": {},
   "source": [
    "This essentially makes the argument **optional** when we call the function - if we do not specify it, the default value will be used instead."
   ]
  },
  {
   "cell_type": "code",
   "metadata": {
    "ExecuteTime": {
     "end_time": "2025-06-18T03:03:48.441462Z",
     "start_time": "2025-06-18T03:03:48.435356Z"
    }
   },
   "source": [
    "def func(a=1):\n",
    "    return a"
   ],
   "outputs": [],
   "execution_count": 1
  },
  {
   "cell_type": "code",
   "metadata": {
    "ExecuteTime": {
     "end_time": "2025-06-18T03:03:48.834896Z",
     "start_time": "2025-06-18T03:03:48.824293Z"
    }
   },
   "source": [
    "func()"
   ],
   "outputs": [
    {
     "data": {
      "text/plain": [
       "1"
      ]
     },
     "execution_count": 2,
     "metadata": {},
     "output_type": "execute_result"
    }
   ],
   "execution_count": 2
  },
  {
   "cell_type": "code",
   "metadata": {
    "ExecuteTime": {
     "end_time": "2025-06-18T03:03:48.953126Z",
     "start_time": "2025-06-18T03:03:48.948243Z"
    }
   },
   "source": [
    "func(10)"
   ],
   "outputs": [
    {
     "data": {
      "text/plain": [
       "10"
      ]
     },
     "execution_count": 3,
     "metadata": {},
     "output_type": "execute_result"
    }
   ],
   "execution_count": 3
  },
  {
   "cell_type": "markdown",
   "metadata": {},
   "source": [
    "We can still used named (keyword) arguments:"
   ]
  },
  {
   "cell_type": "code",
   "metadata": {
    "ExecuteTime": {
     "end_time": "2025-06-18T03:03:49.186842Z",
     "start_time": "2025-06-18T03:03:49.179812Z"
    }
   },
   "source": [
    "func(a=10)"
   ],
   "outputs": [
    {
     "data": {
      "text/plain": [
       "10"
      ]
     },
     "execution_count": 4,
     "metadata": {},
     "output_type": "execute_result"
    }
   ],
   "execution_count": 4
  },
  {
   "cell_type": "markdown",
   "metadata": {},
   "source": [
    "Let's expand on this a bit:"
   ]
  },
  {
   "cell_type": "code",
   "metadata": {
    "ExecuteTime": {
     "end_time": "2025-06-18T03:03:49.918500Z",
     "start_time": "2025-06-18T03:03:49.912336Z"
    }
   },
   "source": [
    "def func(a, b=10, c=20):\n",
    "    return a, b, c"
   ],
   "outputs": [],
   "execution_count": 5
  },
  {
   "cell_type": "code",
   "metadata": {
    "ExecuteTime": {
     "end_time": "2025-06-18T03:03:50.255164Z",
     "start_time": "2025-06-18T03:03:50.247051Z"
    }
   },
   "source": [
    "func(1)"
   ],
   "outputs": [
    {
     "data": {
      "text/plain": [
       "(1, 10, 20)"
      ]
     },
     "execution_count": 6,
     "metadata": {},
     "output_type": "execute_result"
    }
   ],
   "execution_count": 6
  },
  {
   "cell_type": "code",
   "metadata": {
    "ExecuteTime": {
     "end_time": "2025-06-18T03:03:50.597676Z",
     "start_time": "2025-06-18T03:03:50.591140Z"
    }
   },
   "source": [
    "func(1, 2)"
   ],
   "outputs": [
    {
     "data": {
      "text/plain": [
       "(1, 2, 20)"
      ]
     },
     "execution_count": 7,
     "metadata": {},
     "output_type": "execute_result"
    }
   ],
   "execution_count": 7
  },
  {
   "cell_type": "code",
   "metadata": {
    "ExecuteTime": {
     "end_time": "2025-06-18T03:03:50.933139Z",
     "start_time": "2025-06-18T03:03:50.926582Z"
    }
   },
   "source": [
    "func(1, 2, 3)"
   ],
   "outputs": [
    {
     "data": {
      "text/plain": [
       "(1, 2, 3)"
      ]
     },
     "execution_count": 8,
     "metadata": {},
     "output_type": "execute_result"
    }
   ],
   "execution_count": 8
  },
  {
   "cell_type": "markdown",
   "metadata": {},
   "source": [
    "And we can mix positional and named (keyword) arguments too:"
   ]
  },
  {
   "cell_type": "code",
   "metadata": {
    "ExecuteTime": {
     "end_time": "2025-06-18T03:03:51.630962Z",
     "start_time": "2025-06-18T03:03:51.623800Z"
    }
   },
   "source": [
    "func(1, c=100)"
   ],
   "outputs": [
    {
     "data": {
      "text/plain": [
       "(1, 10, 100)"
      ]
     },
     "execution_count": 9,
     "metadata": {},
     "output_type": "execute_result"
    }
   ],
   "execution_count": 9
  },
  {
   "cell_type": "markdown",
   "metadata": {},
   "source": [
    "As you can see, the first argument was positional, so it was assigned to `a`, and then we specified `c`, which means `b` used the default."
   ]
  },
  {
   "cell_type": "markdown",
   "metadata": {},
   "source": [
    "Let's see a practical application of this:"
   ]
  },
  {
   "cell_type": "markdown",
   "metadata": {},
   "source": [
    "Suppose we want to compare two floats, and consider them equal if they differ by some small amount only (an absolute tolerance):"
   ]
  },
  {
   "cell_type": "code",
   "metadata": {
    "ExecuteTime": {
     "end_time": "2025-06-18T03:03:52.971153Z",
     "start_time": "2025-06-18T03:03:52.966497Z"
    }
   },
   "source": [
    "def is_close(a, b, abs_tol=0.01):\n",
    "    return abs(a - b) <= abs_tol"
   ],
   "outputs": [],
   "execution_count": 10
  },
  {
   "cell_type": "markdown",
   "metadata": {},
   "source": [
    "Then we can use the default:"
   ]
  },
  {
   "cell_type": "code",
   "metadata": {
    "ExecuteTime": {
     "end_time": "2025-06-18T03:03:53.662868Z",
     "start_time": "2025-06-18T03:03:53.655200Z"
    }
   },
   "source": [
    "is_close(1.255, 1.256)"
   ],
   "outputs": [
    {
     "data": {
      "text/plain": [
       "True"
      ]
     },
     "execution_count": 11,
     "metadata": {},
     "output_type": "execute_result"
    }
   ],
   "execution_count": 11
  },
  {
   "cell_type": "code",
   "metadata": {
    "ExecuteTime": {
     "end_time": "2025-06-18T03:03:53.967801Z",
     "start_time": "2025-06-18T03:03:53.960734Z"
    }
   },
   "source": [
    "is_close(10_001, 10_002)"
   ],
   "outputs": [
    {
     "data": {
      "text/plain": [
       "False"
      ]
     },
     "execution_count": 12,
     "metadata": {},
     "output_type": "execute_result"
    }
   ],
   "execution_count": 12
  },
  {
   "cell_type": "markdown",
   "metadata": {},
   "source": [
    "So for a large number like this, we may want to override the default tolerance value:"
   ]
  },
  {
   "cell_type": "code",
   "metadata": {
    "ExecuteTime": {
     "end_time": "2025-06-18T03:03:54.644225Z",
     "start_time": "2025-06-18T03:03:54.636664Z"
    }
   },
   "source": [
    "is_close(10_001, 10_002, 5)"
   ],
   "outputs": [
    {
     "data": {
      "text/plain": [
       "True"
      ]
     },
     "execution_count": 13,
     "metadata": {},
     "output_type": "execute_result"
    }
   ],
   "execution_count": 13
  },
  {
   "cell_type": "markdown",
   "metadata": {},
   "source": [
    "Another example of this might be to split a string based on some separator and return some processed output:"
   ]
  },
  {
   "cell_type": "code",
   "metadata": {
    "ExecuteTime": {
     "end_time": "2025-06-18T03:03:55.296524Z",
     "start_time": "2025-06-18T03:03:55.290135Z"
    }
   },
   "source": [
    "def parse(s, sep=',', strip=True):\n",
    "    items = s.split(sep)\n",
    "    if strip:\n",
    "        return [item.strip() for item in items]\n",
    "    else:\n",
    "        return items"
   ],
   "outputs": [],
   "execution_count": 14
  },
  {
   "cell_type": "code",
   "metadata": {
    "ExecuteTime": {
     "end_time": "2025-06-18T03:03:55.610604Z",
     "start_time": "2025-06-18T03:03:55.604372Z"
    }
   },
   "source": [
    "parse('  a,   b ,  c  ')"
   ],
   "outputs": [
    {
     "data": {
      "text/plain": [
       "['a', 'b', 'c']"
      ]
     },
     "execution_count": 15,
     "metadata": {},
     "output_type": "execute_result"
    }
   ],
   "execution_count": 15
  },
  {
   "cell_type": "markdown",
   "metadata": {},
   "source": [
    "Then we could tweak things as needed:"
   ]
  },
  {
   "cell_type": "code",
   "metadata": {
    "ExecuteTime": {
     "end_time": "2025-06-18T03:03:56.272936Z",
     "start_time": "2025-06-18T03:03:56.267020Z"
    }
   },
   "source": [
    "parse('a  :  b : c ', sep=':')"
   ],
   "outputs": [
    {
     "data": {
      "text/plain": [
       "['a', 'b', 'c']"
      ]
     },
     "execution_count": 16,
     "metadata": {},
     "output_type": "execute_result"
    }
   ],
   "execution_count": 16
  },
  {
   "cell_type": "code",
   "metadata": {
    "ExecuteTime": {
     "end_time": "2025-06-18T03:03:56.606935Z",
     "start_time": "2025-06-18T03:03:56.597219Z"
    }
   },
   "source": [
    "parse('a\\n|b\\n|c\\n', sep='|')"
   ],
   "outputs": [
    {
     "data": {
      "text/plain": [
       "['a', 'b', 'c']"
      ]
     },
     "execution_count": 17,
     "metadata": {},
     "output_type": "execute_result"
    }
   ],
   "execution_count": 17
  },
  {
   "cell_type": "code",
   "metadata": {
    "ExecuteTime": {
     "end_time": "2025-06-18T03:03:56.935146Z",
     "start_time": "2025-06-18T03:03:56.928614Z"
    }
   },
   "source": [
    "parse('a\\n|b\\n|c\\n', sep='|', strip=False)"
   ],
   "outputs": [
    {
     "data": {
      "text/plain": [
       "['a\\n', 'b\\n', 'c\\n']"
      ]
     },
     "execution_count": 18,
     "metadata": {},
     "output_type": "execute_result"
    }
   ],
   "execution_count": 18
  },
  {
   "cell_type": "markdown",
   "metadata": {},
   "source": [
    "Or maybe we want to generate a CSV style output from a list of lists:"
   ]
  },
  {
   "cell_type": "code",
   "metadata": {
    "ExecuteTime": {
     "end_time": "2025-06-18T03:03:57.581978Z",
     "start_time": "2025-06-18T03:03:57.577351Z"
    }
   },
   "source": [
    "data = [\n",
    "    [10, 20, 30],\n",
    "    [100, 200, 300],\n",
    "    [1000, 2000, 3000]\n",
    "]"
   ],
   "outputs": [],
   "execution_count": 19
  },
  {
   "cell_type": "code",
   "metadata": {
    "ExecuteTime": {
     "end_time": "2025-06-18T03:03:57.933863Z",
     "start_time": "2025-06-18T03:03:57.926739Z"
    }
   },
   "source": [
    "def process_data(data, item_sep=',', line_sep='\\n'):\n",
    "    output = ''\n",
    "    \n",
    "    for row in data:\n",
    "        for element in row:\n",
    "            output = output + str(element) + item_sep\n",
    "        output = output + line_sep\n",
    "        \n",
    "    return output"
   ],
   "outputs": [],
   "execution_count": 20
  },
  {
   "cell_type": "code",
   "metadata": {
    "ExecuteTime": {
     "end_time": "2025-06-18T03:03:58.248089Z",
     "start_time": "2025-06-18T03:03:58.240325Z"
    }
   },
   "source": [
    "print(process_data(data))"
   ],
   "outputs": [
    {
     "name": "stdout",
     "output_type": "stream",
     "text": [
      "10,20,30,\n",
      "100,200,300,\n",
      "1000,2000,3000,\n",
      "\n"
     ]
    }
   ],
   "execution_count": 21
  },
  {
   "cell_type": "markdown",
   "metadata": {},
   "source": [
    "Hmm... This kind of works, but there are some issues:\n",
    "\n",
    "1. we have a trailing comma after each line\n",
    "2. we have a blank line at the bottom (because the last data row also has that newline character)\n",
    "3. we are using string concatenation - strings are immutable, so we are constantly creating new strings as we build our final output - not very efficient"
   ]
  },
  {
   "cell_type": "markdown",
   "metadata": {},
   "source": [
    "Let's deal with the first problem - we can use `join` instead - this will take care of not appending that trailing comma."
   ]
  },
  {
   "cell_type": "markdown",
   "metadata": {},
   "source": [
    "Let's recall how `join` works:"
   ]
  },
  {
   "cell_type": "code",
   "metadata": {
    "ExecuteTime": {
     "end_time": "2025-06-18T03:03:59.548784Z",
     "start_time": "2025-06-18T03:03:59.540734Z"
    }
   },
   "source": [
    "'-'.join(['a', 'b', 'c'])"
   ],
   "outputs": [
    {
     "data": {
      "text/plain": [
       "'a-b-c'"
      ]
     },
     "execution_count": 22,
     "metadata": {},
     "output_type": "execute_result"
    }
   ],
   "execution_count": 22
  },
  {
   "cell_type": "code",
   "metadata": {
    "ExecuteTime": {
     "end_time": "2025-06-18T03:03:59.891038Z",
     "start_time": "2025-06-18T03:03:59.884574Z"
    }
   },
   "source": [
    "def process_data(data, item_sep=',', line_sep='\\n'):\n",
    "    output = ''\n",
    "    \n",
    "    for row in data:\n",
    "        row_str = item_sep.join(row)\n",
    "        output = output + row_str + line_sep\n",
    "    return output    "
   ],
   "outputs": [],
   "execution_count": 23
  },
  {
   "cell_type": "code",
   "metadata": {
    "ExecuteTime": {
     "end_time": "2025-06-18T03:04:00.613554Z",
     "start_time": "2025-06-18T03:04:00.209211Z"
    }
   },
   "source": [
    "print(process_data(data))"
   ],
   "outputs": [
    {
     "ename": "TypeError",
     "evalue": "sequence item 0: expected str instance, int found",
     "output_type": "error",
     "traceback": [
      "\u001B[1;31m---------------------------------------------------------------------------\u001B[0m",
      "\u001B[1;31mTypeError\u001B[0m                                 Traceback (most recent call last)",
      "Cell \u001B[1;32mIn[24], line 1\u001B[0m\n\u001B[1;32m----> 1\u001B[0m \u001B[38;5;28mprint\u001B[39m(\u001B[43mprocess_data\u001B[49m\u001B[43m(\u001B[49m\u001B[43mdata\u001B[49m\u001B[43m)\u001B[49m)\n",
      "Cell \u001B[1;32mIn[23], line 5\u001B[0m, in \u001B[0;36mprocess_data\u001B[1;34m(data, item_sep, line_sep)\u001B[0m\n\u001B[0;32m      2\u001B[0m output \u001B[38;5;241m=\u001B[39m \u001B[38;5;124m'\u001B[39m\u001B[38;5;124m'\u001B[39m\n\u001B[0;32m      4\u001B[0m \u001B[38;5;28;01mfor\u001B[39;00m row \u001B[38;5;129;01min\u001B[39;00m data:\n\u001B[1;32m----> 5\u001B[0m     row_str \u001B[38;5;241m=\u001B[39m \u001B[43mitem_sep\u001B[49m\u001B[38;5;241;43m.\u001B[39;49m\u001B[43mjoin\u001B[49m\u001B[43m(\u001B[49m\u001B[43mrow\u001B[49m\u001B[43m)\u001B[49m\n\u001B[0;32m      6\u001B[0m     output \u001B[38;5;241m=\u001B[39m output \u001B[38;5;241m+\u001B[39m row_str \u001B[38;5;241m+\u001B[39m line_sep\n\u001B[0;32m      7\u001B[0m \u001B[38;5;28;01mreturn\u001B[39;00m output\n",
      "\u001B[1;31mTypeError\u001B[0m: sequence item 0: expected str instance, int found"
     ]
    }
   ],
   "execution_count": 24
  },
  {
   "cell_type": "markdown",
   "metadata": {},
   "source": [
    "So now we have another problem, our data contains integers, not strings - so we cannot use `join` - we have to convert our integers to strings first:"
   ]
  },
  {
   "cell_type": "code",
   "metadata": {
    "ExecuteTime": {
     "end_time": "2025-06-18T03:04:00.921037Z",
     "start_time": "2025-06-18T03:04:00.913562Z"
    }
   },
   "source": [
    "def process_data(data, item_sep=',', line_sep='\\n'):\n",
    "    output = ''\n",
    "    \n",
    "    for row in data:\n",
    "        row_str = item_sep.join([str(element) for element in row])\n",
    "        output = output + row_str + line_sep\n",
    "    return output    "
   ],
   "outputs": [],
   "execution_count": 25
  },
  {
   "cell_type": "code",
   "metadata": {
    "ExecuteTime": {
     "end_time": "2025-06-18T03:04:01.229446Z",
     "start_time": "2025-06-18T03:04:01.223824Z"
    }
   },
   "source": [
    "print(process_data(data))"
   ],
   "outputs": [
    {
     "name": "stdout",
     "output_type": "stream",
     "text": [
      "10,20,30\n",
      "100,200,300\n",
      "1000,2000,3000\n",
      "\n"
     ]
    }
   ],
   "execution_count": 26
  },
  {
   "cell_type": "markdown",
   "metadata": {},
   "source": [
    "Better, but you'll notice we still have that blank row (so the last line of data has a trailing `line_sep`), and we're still using string concatenation."
   ]
  },
  {
   "cell_type": "markdown",
   "metadata": {},
   "source": [
    "Let's use `join` again, with another comprehension:"
   ]
  },
  {
   "cell_type": "code",
   "metadata": {
    "ExecuteTime": {
     "end_time": "2025-06-18T03:04:02.280286Z",
     "start_time": "2025-06-18T03:04:02.274486Z"
    }
   },
   "source": [
    "def process_data(data, item_sep=',', line_sep='\\n'):\n",
    "    row_strings = [item_sep.join([str(element) for element in row])\n",
    "                  for row in data]\n",
    "    return line_sep.join(row_strings)"
   ],
   "outputs": [],
   "execution_count": 27
  },
  {
   "cell_type": "code",
   "metadata": {
    "ExecuteTime": {
     "end_time": "2025-06-18T03:04:02.632744Z",
     "start_time": "2025-06-18T03:04:02.626707Z"
    }
   },
   "source": [
    "print(process_data(data))"
   ],
   "outputs": [
    {
     "name": "stdout",
     "output_type": "stream",
     "text": [
      "10,20,30\n",
      "100,200,300\n",
      "1000,2000,3000\n"
     ]
    }
   ],
   "execution_count": 28
  },
  {
   "cell_type": "markdown",
   "metadata": {},
   "source": [
    "Now we have something that works correctly, and is far more efficient than the first approach using a loop and string concatenation."
   ]
  },
  {
   "cell_type": "markdown",
   "metadata": {},
   "source": [
    "If this code looks a bit difficult to read, we could consider breaking this up (decomposition), to make it more readable:"
   ]
  },
  {
   "cell_type": "code",
   "metadata": {
    "ExecuteTime": {
     "end_time": "2025-06-18T03:04:03.641191Z",
     "start_time": "2025-06-18T03:04:03.634976Z"
    }
   },
   "source": [
    "def process_row(row, item_sep):\n",
    "    return item_sep.join(str(element) for element in row)"
   ],
   "outputs": [],
   "execution_count": 29
  },
  {
   "cell_type": "code",
   "metadata": {
    "ExecuteTime": {
     "end_time": "2025-06-18T03:04:03.964647Z",
     "start_time": "2025-06-18T03:04:03.958577Z"
    }
   },
   "source": [
    "def process_data(data, item_sep=',', line_sep='\\n'):\n",
    "    row_strings = [process_row(row, item_sep) for row in data]\n",
    "    return line_sep.join(row_strings)"
   ],
   "outputs": [],
   "execution_count": 30
  },
  {
   "cell_type": "code",
   "metadata": {
    "ExecuteTime": {
     "end_time": "2025-06-18T03:04:04.293063Z",
     "start_time": "2025-06-18T03:04:04.285330Z"
    }
   },
   "source": [
    "print(process_data(data))"
   ],
   "outputs": [
    {
     "name": "stdout",
     "output_type": "stream",
     "text": [
      "10,20,30\n",
      "100,200,300\n",
      "1000,2000,3000\n"
     ]
    }
   ],
   "execution_count": 31
  },
  {
   "cell_type": "markdown",
   "metadata": {},
   "source": [
    "And now we can also specify different item and line separators:"
   ]
  },
  {
   "cell_type": "code",
   "metadata": {
    "ExecuteTime": {
     "end_time": "2025-06-18T03:04:04.955858Z",
     "start_time": "2025-06-18T03:04:04.947355Z"
    }
   },
   "source": [
    "print(process_data(data, '|'))"
   ],
   "outputs": [
    {
     "name": "stdout",
     "output_type": "stream",
     "text": [
      "10|20|30\n",
      "100|200|300\n",
      "1000|2000|3000\n"
     ]
    }
   ],
   "execution_count": 32
  },
  {
   "cell_type": "code",
   "metadata": {
    "ExecuteTime": {
     "end_time": "2025-06-18T03:04:05.237910Z",
     "start_time": "2025-06-18T03:04:05.231075Z"
    }
   },
   "source": [
    "print(process_data(data, line_sep='::'))"
   ],
   "outputs": [
    {
     "name": "stdout",
     "output_type": "stream",
     "text": [
      "10,20,30::100,200,300::1000,2000,3000\n"
     ]
    }
   ],
   "execution_count": 33
  },
  {
   "cell_type": "code",
   "metadata": {
    "ExecuteTime": {
     "end_time": "2025-06-18T03:04:05.604012Z",
     "start_time": "2025-06-18T03:04:05.597897Z"
    }
   },
   "source": [
    "print(process_data(data, item_sep='|', line_sep='\\n\\n'))"
   ],
   "outputs": [
    {
     "name": "stdout",
     "output_type": "stream",
     "text": [
      "10|20|30\n",
      "\n",
      "100|200|300\n",
      "\n",
      "1000|2000|3000\n"
     ]
    }
   ],
   "execution_count": 34
  },
  {
   "cell_type": "markdown",
   "metadata": {},
   "source": [
    "One last tweak we can make is to use a generator instead of a list comprehension for `row_strings`:"
   ]
  },
  {
   "cell_type": "code",
   "metadata": {
    "ExecuteTime": {
     "end_time": "2025-06-18T03:04:06.218304Z",
     "start_time": "2025-06-18T03:04:06.209717Z"
    }
   },
   "source": [
    "def process_data(data, item_sep=',', line_sep='\\n'):\n",
    "    row_strings = (process_row(row, item_sep) for row in data)\n",
    "    return line_sep.join(row_strings)"
   ],
   "outputs": [],
   "execution_count": 35
  },
  {
   "cell_type": "markdown",
   "metadata": {},
   "source": [
    "or even, though I think I prefer the above code more:"
   ]
  },
  {
   "cell_type": "code",
   "metadata": {
    "ExecuteTime": {
     "end_time": "2025-06-18T03:04:06.861272Z",
     "start_time": "2025-06-18T03:04:06.854690Z"
    }
   },
   "source": [
    "def process_data(data, item_sep=',', line_sep='\\n'):\n",
    "    return line_sep.join(process_row(row, item_sep) for row in data)"
   ],
   "outputs": [],
   "execution_count": 36
  },
  {
   "cell_type": "code",
   "metadata": {
    "ExecuteTime": {
     "end_time": "2025-06-18T03:04:07.224882Z",
     "start_time": "2025-06-18T03:04:07.218774Z"
    }
   },
   "source": [
    "print(process_data(data))"
   ],
   "outputs": [
    {
     "name": "stdout",
     "output_type": "stream",
     "text": [
      "10,20,30\n",
      "100,200,300\n",
      "1000,2000,3000\n"
     ]
    }
   ],
   "execution_count": 37
  }
 ],
 "metadata": {
  "kernelspec": {
   "display_name": "Python 3",
   "language": "python",
   "name": "python3"
  },
  "language_info": {
   "codemirror_mode": {
    "name": "ipython",
    "version": 3
   },
   "file_extension": ".py",
   "mimetype": "text/x-python",
   "name": "python",
   "nbconvert_exporter": "python",
   "pygments_lexer": "ipython3",
   "version": "3.9.1"
  }
 },
 "nbformat": 4,
 "nbformat_minor": 4
}
