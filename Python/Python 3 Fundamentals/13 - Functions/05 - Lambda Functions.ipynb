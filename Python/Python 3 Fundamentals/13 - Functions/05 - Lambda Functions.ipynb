{
 "cells": [
  {
   "cell_type": "markdown",
   "metadata": {},
   "source": [
    "### Lambda Functions"
   ]
  },
  {
   "cell_type": "markdown",
   "metadata": {},
   "source": [
    "Lambdas are expressions that return a function."
   ]
  },
  {
   "cell_type": "markdown",
   "metadata": {},
   "source": [
    "Remember that an expressions in Python can be something like this:"
   ]
  },
  {
   "cell_type": "code",
   "metadata": {
    "ExecuteTime": {
     "end_time": "2025-06-18T03:05:04.656966Z",
     "start_time": "2025-06-18T03:05:04.647057Z"
    }
   },
   "source": [
    "2 + 2"
   ],
   "outputs": [
    {
     "data": {
      "text/plain": [
       "4"
      ]
     },
     "execution_count": 1,
     "metadata": {},
     "output_type": "execute_result"
    }
   ],
   "execution_count": 1
  },
  {
   "cell_type": "markdown",
   "metadata": {},
   "source": [
    "or, some thing more complicated:"
   ]
  },
  {
   "cell_type": "code",
   "metadata": {
    "ExecuteTime": {
     "end_time": "2025-06-18T03:05:05.043274Z",
     "start_time": "2025-06-18T03:05:05.034874Z"
    }
   },
   "source": [
    "sum([1, 2, 3]) + max(0, -1, 1)"
   ],
   "outputs": [
    {
     "data": {
      "text/plain": [
       "7"
      ]
     },
     "execution_count": 2,
     "metadata": {},
     "output_type": "execute_result"
    }
   ],
   "execution_count": 2
  },
  {
   "cell_type": "markdown",
   "metadata": {},
   "source": [
    "In all these cases, those expressions return some value, that we can then assign to a symbol if we want to:"
   ]
  },
  {
   "cell_type": "code",
   "metadata": {
    "ExecuteTime": {
     "end_time": "2025-06-18T03:05:05.190531Z",
     "start_time": "2025-06-18T03:05:05.185507Z"
    }
   },
   "source": [
    "a = 2 + 2"
   ],
   "outputs": [],
   "execution_count": 3
  },
  {
   "cell_type": "markdown",
   "metadata": {},
   "source": [
    "Similarly, lambdas are expressions that create and return a function object:"
   ]
  },
  {
   "cell_type": "code",
   "metadata": {
    "ExecuteTime": {
     "end_time": "2025-06-18T03:05:05.243048Z",
     "start_time": "2025-06-18T03:05:05.234986Z"
    }
   },
   "source": [
    "lambda a, b: a + b"
   ],
   "outputs": [
    {
     "data": {
      "text/plain": [
       "<function __main__.<lambda>(a, b)>"
      ]
     },
     "execution_count": 4,
     "metadata": {},
     "output_type": "execute_result"
    }
   ],
   "execution_count": 4
  },
  {
   "cell_type": "markdown",
   "metadata": {},
   "source": [
    "As you can see, it returned a function object."
   ]
  },
  {
   "cell_type": "markdown",
   "metadata": {},
   "source": [
    "Unlike a `def` statement however, it does not assign the function to any symbol, nor does it name the function - it just creates and returns the symbol. It is up to us to assign it to a symbol (if we want):"
   ]
  },
  {
   "cell_type": "code",
   "metadata": {
    "ExecuteTime": {
     "end_time": "2025-06-18T03:05:06.060876Z",
     "start_time": "2025-06-18T03:05:06.056562Z"
    }
   },
   "source": [
    "f = lambda a, b: a + b"
   ],
   "outputs": [],
   "execution_count": 5
  },
  {
   "cell_type": "markdown",
   "metadata": {},
   "source": [
    "Now `f` is a function object, and can be called just like any function:"
   ]
  },
  {
   "cell_type": "code",
   "metadata": {
    "ExecuteTime": {
     "end_time": "2025-06-18T03:05:06.166053Z",
     "start_time": "2025-06-18T03:05:06.159708Z"
    }
   },
   "source": [
    "f(2, 3)"
   ],
   "outputs": [
    {
     "data": {
      "text/plain": [
       "5"
      ]
     },
     "execution_count": 6,
     "metadata": {},
     "output_type": "execute_result"
    }
   ],
   "execution_count": 6
  },
  {
   "cell_type": "markdown",
   "metadata": {},
   "source": [
    "Unlike a function defined using a `def` statement, lambdas do not contain code blocks - they basically just define the parameters, and a single expression which is evaluated and returned when the function is called."
   ]
  },
  {
   "cell_type": "markdown",
   "metadata": {},
   "source": [
    "Any lambda function can be written as a \"standard\" function:"
   ]
  },
  {
   "cell_type": "code",
   "metadata": {
    "ExecuteTime": {
     "end_time": "2025-06-18T03:05:06.727843Z",
     "start_time": "2025-06-18T03:05:06.722315Z"
    }
   },
   "source": [
    "f1 = lambda a, b, c: max(a, b, c)"
   ],
   "outputs": [],
   "execution_count": 7
  },
  {
   "cell_type": "code",
   "metadata": {
    "ExecuteTime": {
     "end_time": "2025-06-18T03:05:06.785354Z",
     "start_time": "2025-06-18T03:05:06.779372Z"
    }
   },
   "source": [
    "def f2(a, b, c):\n",
    "    return max(a, b, c)"
   ],
   "outputs": [],
   "execution_count": 8
  },
  {
   "cell_type": "code",
   "metadata": {
    "ExecuteTime": {
     "end_time": "2025-06-18T03:05:06.830616Z",
     "start_time": "2025-06-18T03:05:06.823710Z"
    }
   },
   "source": [
    "f1(1, 2, 3), f2(1, 2, 3)"
   ],
   "outputs": [
    {
     "data": {
      "text/plain": [
       "(3, 3)"
      ]
     },
     "execution_count": 9,
     "metadata": {},
     "output_type": "execute_result"
    }
   ],
   "execution_count": 9
  },
  {
   "cell_type": "markdown",
   "metadata": {},
   "source": [
    "Although lambda expressions cannot be anywhere as complex as \"regular\" functions, we can still do some relatively complex things:"
   ]
  },
  {
   "cell_type": "code",
   "metadata": {
    "ExecuteTime": {
     "end_time": "2025-06-18T03:05:07.436475Z",
     "start_time": "2025-06-18T03:05:07.429527Z"
    }
   },
   "source": [
    "f = lambda rows, cols: [\n",
    "    [1 if row == col else 0 for col in range(cols)] \n",
    "    for row in range(rows)\n",
    "]"
   ],
   "outputs": [],
   "execution_count": 10
  },
  {
   "cell_type": "code",
   "metadata": {
    "ExecuteTime": {
     "end_time": "2025-06-18T03:05:07.497258Z",
     "start_time": "2025-06-18T03:05:07.490255Z"
    }
   },
   "source": [
    "f(3, 3)"
   ],
   "outputs": [
    {
     "data": {
      "text/plain": [
       "[[1, 0, 0], [0, 1, 0], [0, 0, 1]]"
      ]
     },
     "execution_count": 11,
     "metadata": {},
     "output_type": "execute_result"
    }
   ],
   "execution_count": 11
  },
  {
   "cell_type": "code",
   "metadata": {
    "ExecuteTime": {
     "end_time": "2025-06-18T03:05:07.639134Z",
     "start_time": "2025-06-18T03:05:07.629579Z"
    }
   },
   "source": [
    "f(10, 8)"
   ],
   "outputs": [
    {
     "data": {
      "text/plain": [
       "[[1, 0, 0, 0, 0, 0, 0, 0],\n",
       " [0, 1, 0, 0, 0, 0, 0, 0],\n",
       " [0, 0, 1, 0, 0, 0, 0, 0],\n",
       " [0, 0, 0, 1, 0, 0, 0, 0],\n",
       " [0, 0, 0, 0, 1, 0, 0, 0],\n",
       " [0, 0, 0, 0, 0, 1, 0, 0],\n",
       " [0, 0, 0, 0, 0, 0, 1, 0],\n",
       " [0, 0, 0, 0, 0, 0, 0, 1],\n",
       " [0, 0, 0, 0, 0, 0, 0, 0],\n",
       " [0, 0, 0, 0, 0, 0, 0, 0]]"
      ]
     },
     "execution_count": 12,
     "metadata": {},
     "output_type": "execute_result"
    }
   ],
   "execution_count": 12
  },
  {
   "cell_type": "markdown",
   "metadata": {},
   "source": [
    "The parameters definition of a lambda follow the same rules as \"regular\" functions - we can set default values, keyword-only arguments, `*` and `**`."
   ]
  },
  {
   "cell_type": "code",
   "metadata": {
    "ExecuteTime": {
     "end_time": "2025-06-18T03:05:08.129970Z",
     "start_time": "2025-06-18T03:05:08.124788Z"
    }
   },
   "source": [
    "f = lambda a=0, b=2: a * b"
   ],
   "outputs": [],
   "execution_count": 13
  },
  {
   "cell_type": "code",
   "metadata": {
    "ExecuteTime": {
     "end_time": "2025-06-18T03:05:08.180570Z",
     "start_time": "2025-06-18T03:05:08.175321Z"
    }
   },
   "source": [
    "f(10)"
   ],
   "outputs": [
    {
     "data": {
      "text/plain": [
       "20"
      ]
     },
     "execution_count": 14,
     "metadata": {},
     "output_type": "execute_result"
    }
   ],
   "execution_count": 14
  },
  {
   "cell_type": "code",
   "metadata": {
    "ExecuteTime": {
     "end_time": "2025-06-18T03:05:08.385939Z",
     "start_time": "2025-06-18T03:05:08.380290Z"
    }
   },
   "source": [
    "f('a')"
   ],
   "outputs": [
    {
     "data": {
      "text/plain": [
       "'aa'"
      ]
     },
     "execution_count": 15,
     "metadata": {},
     "output_type": "execute_result"
    }
   ],
   "execution_count": 15
  },
  {
   "cell_type": "code",
   "metadata": {
    "ExecuteTime": {
     "end_time": "2025-06-18T03:05:08.552609Z",
     "start_time": "2025-06-18T03:05:08.543101Z"
    }
   },
   "source": [
    "f('a', 10)"
   ],
   "outputs": [
    {
     "data": {
      "text/plain": [
       "'aaaaaaaaaa'"
      ]
     },
     "execution_count": 16,
     "metadata": {},
     "output_type": "execute_result"
    }
   ],
   "execution_count": 16
  },
  {
   "cell_type": "code",
   "metadata": {
    "ExecuteTime": {
     "end_time": "2025-06-18T03:05:08.600505Z",
     "start_time": "2025-06-18T03:05:08.595824Z"
    }
   },
   "source": [
    "f = lambda a, *args: a * max(args)"
   ],
   "outputs": [],
   "execution_count": 17
  },
  {
   "cell_type": "code",
   "metadata": {
    "ExecuteTime": {
     "end_time": "2025-06-18T03:05:08.625129Z",
     "start_time": "2025-06-18T03:05:08.619792Z"
    }
   },
   "source": [
    "f(10, 1, 2, -1)"
   ],
   "outputs": [
    {
     "data": {
      "text/plain": [
       "20"
      ]
     },
     "execution_count": 18,
     "metadata": {},
     "output_type": "execute_result"
    }
   ],
   "execution_count": 18
  },
  {
   "cell_type": "markdown",
   "metadata": {},
   "source": [
    "That's really all we need to know about lambdas at this point - they are just regular functions but they cannot be as complex as \"regular\" functions, and can be created in a single line."
   ]
  },
  {
   "cell_type": "markdown",
   "metadata": {},
   "source": [
    "We'll see examples of where it is convenient to use them in the next section."
   ]
  },
  {
   "cell_type": "markdown",
   "metadata": {},
   "source": [
    "But we don't *have* to use them - they are just a convenience."
   ]
  }
 ],
 "metadata": {
  "kernelspec": {
   "display_name": "Python 3",
   "language": "python",
   "name": "python3"
  },
  "language_info": {
   "codemirror_mode": {
    "name": "ipython",
    "version": 3
   },
   "file_extension": ".py",
   "mimetype": "text/x-python",
   "name": "python",
   "nbconvert_exporter": "python",
   "pygments_lexer": "ipython3",
   "version": "3.9.1"
  }
 },
 "nbformat": 4,
 "nbformat_minor": 4
}
