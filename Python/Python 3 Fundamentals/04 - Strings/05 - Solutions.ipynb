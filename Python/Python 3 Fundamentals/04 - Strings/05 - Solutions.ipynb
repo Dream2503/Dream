{
 "cells": [
  {
   "cell_type": "markdown",
   "id": "assisted-track",
   "metadata": {},
   "source": [
    "### Solutions"
   ]
  },
  {
   "cell_type": "markdown",
   "id": "needed-balloon",
   "metadata": {},
   "source": [
    "#### Question 1"
   ]
  },
  {
   "cell_type": "markdown",
   "id": "undefined-amateur",
   "metadata": {},
   "source": [
    "Given this string of comma separated characters, create three new variables containing the unicode codepoint (in hex), uppercase and lower case versions of each character (also comma delimited).\n",
    "\n",
    "For example, if the string was `'a, B, c'` you should generate three lists that look like:\n",
    "* `['0x61', '0x62', '0x63']`\n",
    "* `['a', 'b', 'c']`\n",
    "* `['A', 'B', 'C']`\n",
    "\n",
    "[You should use the `split()` and `strip()` functions, amongst others, to help you solve this.]"
   ]
  },
  {
   "cell_type": "code",
   "id": "korean-effects",
   "metadata": {
    "ExecuteTime": {
     "end_time": "2025-06-17T19:25:44.747372Z",
     "start_time": "2025-06-17T19:25:44.739898Z"
    }
   },
   "source": [
    "s = 'Π, ύ, θ, ω, ν'"
   ],
   "outputs": [],
   "execution_count": 1
  },
  {
   "cell_type": "markdown",
   "id": "future-vatican",
   "metadata": {},
   "source": [
    "##### Solution"
   ]
  },
  {
   "cell_type": "markdown",
   "id": "roman-seven",
   "metadata": {},
   "source": [
    "First we'll split this string on the comma to get a list of the individual characters:"
   ]
  },
  {
   "cell_type": "code",
   "id": "played-cycle",
   "metadata": {
    "ExecuteTime": {
     "end_time": "2025-06-17T19:25:45.098848Z",
     "start_time": "2025-06-17T19:25:45.082249Z"
    }
   },
   "source": [
    "chars = s.split(',')\n",
    "chars"
   ],
   "outputs": [
    {
     "data": {
      "text/plain": [
       "['Π', ' ύ', ' θ', ' ω', ' ν']"
      ]
     },
     "execution_count": 2,
     "metadata": {},
     "output_type": "execute_result"
    }
   ],
   "execution_count": 2
  },
  {
   "cell_type": "markdown",
   "id": "emerging-count",
   "metadata": {},
   "source": [
    "Note that some of these strings have an extra space, so we'll need to strip it. Instead of creating a new list with the stripped characters, we'll just re-use the same `chars` list, replacing elements in the list:"
   ]
  },
  {
   "cell_type": "code",
   "id": "buried-lloyd",
   "metadata": {
    "ExecuteTime": {
     "end_time": "2025-06-17T19:25:47.996163Z",
     "start_time": "2025-06-17T19:25:47.985750Z"
    }
   },
   "source": [
    "chars[0] = chars[0].strip()\n",
    "chars[1] = chars[1].strip()\n",
    "chars[2] = chars[2].strip()\n",
    "chars[3] = chars[3].strip()\n",
    "chars[4] = chars[4].strip()\n",
    "\n",
    "chars"
   ],
   "outputs": [
    {
     "data": {
      "text/plain": [
       "['Π', 'ύ', 'θ', 'ω', 'ν']"
      ]
     },
     "execution_count": 3,
     "metadata": {},
     "output_type": "execute_result"
    }
   ],
   "execution_count": 3
  },
  {
   "cell_type": "markdown",
   "id": "balanced-strain",
   "metadata": {},
   "source": [
    "Let's look at the first letter:"
   ]
  },
  {
   "cell_type": "code",
   "id": "mental-attack",
   "metadata": {
    "ExecuteTime": {
     "end_time": "2025-06-17T19:25:49.424493Z",
     "start_time": "2025-06-17T19:25:49.418182Z"
    }
   },
   "source": [
    "chars[0]"
   ],
   "outputs": [
    {
     "data": {
      "text/plain": [
       "'Π'"
      ]
     },
     "execution_count": 4,
     "metadata": {},
     "output_type": "execute_result"
    }
   ],
   "execution_count": 4
  },
  {
   "cell_type": "markdown",
   "id": "stable-novel",
   "metadata": {},
   "source": [
    "To find the unicode codepoint, we use the `ord()` function:"
   ]
  },
  {
   "cell_type": "code",
   "id": "under-division",
   "metadata": {
    "ExecuteTime": {
     "end_time": "2025-06-17T19:25:50.632378Z",
     "start_time": "2025-06-17T19:25:50.625969Z"
    }
   },
   "source": [
    "ord(chars[0])"
   ],
   "outputs": [
    {
     "data": {
      "text/plain": [
       "928"
      ]
     },
     "execution_count": 5,
     "metadata": {},
     "output_type": "execute_result"
    }
   ],
   "execution_count": 5
  },
  {
   "cell_type": "markdown",
   "id": "outstanding-motion",
   "metadata": {},
   "source": [
    "To find the hex of that unicode code point, we use the `hex()` function:"
   ]
  },
  {
   "cell_type": "code",
   "id": "absolute-opening",
   "metadata": {
    "ExecuteTime": {
     "end_time": "2025-06-17T19:25:51.808732Z",
     "start_time": "2025-06-17T19:25:51.801620Z"
    }
   },
   "source": [
    "hex(ord(chars[0]))"
   ],
   "outputs": [
    {
     "data": {
      "text/plain": [
       "'0x3a0'"
      ]
     },
     "execution_count": 6,
     "metadata": {},
     "output_type": "execute_result"
    }
   ],
   "execution_count": 6
  },
  {
   "cell_type": "markdown",
   "id": "infrared-reservation",
   "metadata": {},
   "source": [
    "To find the upper case version, we use the `upper()` method:"
   ]
  },
  {
   "cell_type": "code",
   "id": "internal-yield",
   "metadata": {
    "ExecuteTime": {
     "end_time": "2025-06-17T19:25:53.793222Z",
     "start_time": "2025-06-17T19:25:53.786699Z"
    }
   },
   "source": [
    "chars[0].upper()"
   ],
   "outputs": [
    {
     "data": {
      "text/plain": [
       "'Π'"
      ]
     },
     "execution_count": 7,
     "metadata": {},
     "output_type": "execute_result"
    }
   ],
   "execution_count": 7
  },
  {
   "cell_type": "markdown",
   "id": "sharing-specific",
   "metadata": {},
   "source": [
    "And to find the lower case version we use the `lower()` method:"
   ]
  },
  {
   "cell_type": "code",
   "id": "given-shelter",
   "metadata": {
    "ExecuteTime": {
     "end_time": "2025-06-17T19:25:55.468463Z",
     "start_time": "2025-06-17T19:25:55.461548Z"
    }
   },
   "source": [
    "chars[0].lower()"
   ],
   "outputs": [
    {
     "data": {
      "text/plain": [
       "'π'"
      ]
     },
     "execution_count": 8,
     "metadata": {},
     "output_type": "execute_result"
    }
   ],
   "execution_count": 8
  },
  {
   "cell_type": "markdown",
   "id": "charged-issue",
   "metadata": {},
   "source": [
    "Next, let's create a list will all the code points:"
   ]
  },
  {
   "cell_type": "code",
   "id": "ancient-liberty",
   "metadata": {
    "ExecuteTime": {
     "end_time": "2025-06-17T19:26:05.623270Z",
     "start_time": "2025-06-17T19:26:05.615629Z"
    }
   },
   "source": [
    "code_points = [\n",
    "    hex(ord(chars[0])),  \n",
    "    hex(ord(chars[1])), \n",
    "    hex(ord(chars[2])), \n",
    "    hex(ord(chars[3])), \n",
    "    hex(ord(chars[4]))\n",
    "]\n",
    "code_points"
   ],
   "outputs": [
    {
     "data": {
      "text/plain": [
       "['0x3a0', '0x3cd', '0x3b8', '0x3c9', '0x3bd']"
      ]
     },
     "execution_count": 9,
     "metadata": {},
     "output_type": "execute_result"
    }
   ],
   "execution_count": 9
  },
  {
   "cell_type": "markdown",
   "id": "sacred-hygiene",
   "metadata": {},
   "source": [
    "Then the lower case versions:"
   ]
  },
  {
   "cell_type": "code",
   "id": "alternate-museum",
   "metadata": {
    "ExecuteTime": {
     "end_time": "2025-06-17T19:26:06.655725Z",
     "start_time": "2025-06-17T19:26:06.647530Z"
    }
   },
   "source": [
    "lower = [\n",
    "    chars[0].lower(), chars[1].lower(), chars[2].lower(), chars[3].lower(), chars[4].lower()\n",
    "]\n",
    "lower"
   ],
   "outputs": [
    {
     "data": {
      "text/plain": [
       "['π', 'ύ', 'θ', 'ω', 'ν']"
      ]
     },
     "execution_count": 10,
     "metadata": {},
     "output_type": "execute_result"
    }
   ],
   "execution_count": 10
  },
  {
   "cell_type": "markdown",
   "id": "heavy-identity",
   "metadata": {},
   "source": [
    "And finally the uppercase versions:"
   ]
  },
  {
   "cell_type": "code",
   "id": "ranging-prompt",
   "metadata": {
    "ExecuteTime": {
     "end_time": "2025-06-17T19:26:42.520864Z",
     "start_time": "2025-06-17T19:26:42.511766Z"
    }
   },
   "source": [
    "upper = [\n",
    "    chars[0].upper(), chars[1].upper(), chars[2].upper(), chars[3].upper(), chars[4].upper()\n",
    "]\n",
    "upper"
   ],
   "outputs": [
    {
     "data": {
      "text/plain": [
       "['Π', 'Ύ', 'Θ', 'Ω', 'Ν']"
      ]
     },
     "execution_count": 11,
     "metadata": {},
     "output_type": "execute_result"
    }
   ],
   "execution_count": 11
  },
  {
   "cell_type": "markdown",
   "id": "secure-anaheim",
   "metadata": {},
   "source": [
    "#### Question 2"
   ]
  },
  {
   "cell_type": "markdown",
   "id": "subjective-istanbul",
   "metadata": {},
   "source": [
    "Using two types of string interpolation, and given the variable `a` that contains an integer, print out the following string for `a`:\n",
    "\n",
    "`The number ...value of a... is (or is not) even`\n",
    "\n",
    "For example, if `a` is `42`, the your code should print:\n",
    "\n",
    "`'The number 42 is even'`\n",
    "\n",
    "But if `a` is `31`, then the **same** code should print:\n",
    "\n",
    "`'The number 31 is not even'`\n"
   ]
  },
  {
   "cell_type": "markdown",
   "id": "still-bangladesh",
   "metadata": {},
   "source": [
    "##### Solution"
   ]
  },
  {
   "cell_type": "markdown",
   "id": "dutch-austria",
   "metadata": {},
   "source": [
    "Basically we want to interpolate the value of `a` in our string, and then interpolate either `is` or `is not` depending on whether the number is even or not."
   ]
  },
  {
   "cell_type": "markdown",
   "id": "perceived-gravity",
   "metadata": {},
   "source": [
    "To determine if a number is even, we can use the `%` operator and see if that is equal to `0`:"
   ]
  },
  {
   "cell_type": "code",
   "id": "acoustic-yellow",
   "metadata": {
    "ExecuteTime": {
     "end_time": "2025-06-17T19:26:54.186880Z",
     "start_time": "2025-06-17T19:26:54.179923Z"
    }
   },
   "source": [
    "4 % 2"
   ],
   "outputs": [
    {
     "data": {
      "text/plain": [
       "0"
      ]
     },
     "execution_count": 12,
     "metadata": {},
     "output_type": "execute_result"
    }
   ],
   "execution_count": 12
  },
  {
   "cell_type": "code",
   "id": "seasonal-reset",
   "metadata": {
    "ExecuteTime": {
     "end_time": "2025-06-17T19:26:54.638018Z",
     "start_time": "2025-06-17T19:26:54.631261Z"
    }
   },
   "source": [
    "5 % 2"
   ],
   "outputs": [
    {
     "data": {
      "text/plain": [
       "1"
      ]
     },
     "execution_count": 13,
     "metadata": {},
     "output_type": "execute_result"
    }
   ],
   "execution_count": 13
  },
  {
   "cell_type": "markdown",
   "id": "radical-ivory",
   "metadata": {},
   "source": [
    "To choose `is` or `is not`, we can use a ternary expression:"
   ]
  },
  {
   "cell_type": "code",
   "id": "caroline-dress",
   "metadata": {
    "ExecuteTime": {
     "end_time": "2025-06-17T19:26:55.516192Z",
     "start_time": "2025-06-17T19:26:55.509218Z"
    }
   },
   "source": [
    "a = 42\n",
    "'is' if a % 2 == 0 else 'is not'"
   ],
   "outputs": [
    {
     "data": {
      "text/plain": [
       "'is'"
      ]
     },
     "execution_count": 14,
     "metadata": {},
     "output_type": "execute_result"
    }
   ],
   "execution_count": 14
  },
  {
   "cell_type": "code",
   "id": "ongoing-remove",
   "metadata": {
    "ExecuteTime": {
     "end_time": "2025-06-17T19:26:55.982466Z",
     "start_time": "2025-06-17T19:26:55.975391Z"
    }
   },
   "source": [
    "a = 31\n",
    "'is' if a % 2 == 0 else 'is not'"
   ],
   "outputs": [
    {
     "data": {
      "text/plain": [
       "'is not'"
      ]
     },
     "execution_count": 15,
     "metadata": {},
     "output_type": "execute_result"
    }
   ],
   "execution_count": 15
  },
  {
   "cell_type": "markdown",
   "id": "increasing-technical",
   "metadata": {},
   "source": [
    "Now we can create our string, using the `format` method first:"
   ]
  },
  {
   "cell_type": "code",
   "id": "increasing-minutes",
   "metadata": {
    "ExecuteTime": {
     "end_time": "2025-06-17T19:26:56.755159Z",
     "start_time": "2025-06-17T19:26:56.748252Z"
    }
   },
   "source": [
    "a = 31\n",
    "'The number {} {} even'.format(a, 'is' if a % 2 == 0 else 'is not')"
   ],
   "outputs": [
    {
     "data": {
      "text/plain": [
       "'The number 31 is not even'"
      ]
     },
     "execution_count": 16,
     "metadata": {},
     "output_type": "execute_result"
    }
   ],
   "execution_count": 16
  },
  {
   "cell_type": "markdown",
   "id": "residential-exemption",
   "metadata": {},
   "source": [
    "And the exact same code works for any value of `a`:"
   ]
  },
  {
   "cell_type": "code",
   "id": "mounted-gravity",
   "metadata": {
    "ExecuteTime": {
     "end_time": "2025-06-17T19:26:57.736465Z",
     "start_time": "2025-06-17T19:26:57.728350Z"
    }
   },
   "source": [
    "a = 42\n",
    "'The number {} {} even'.format(a, 'is' if a % 2 == 0 else 'is not')"
   ],
   "outputs": [
    {
     "data": {
      "text/plain": [
       "'The number 42 is even'"
      ]
     },
     "execution_count": 17,
     "metadata": {},
     "output_type": "execute_result"
    }
   ],
   "execution_count": 17
  },
  {
   "cell_type": "markdown",
   "id": "pacific-statement",
   "metadata": {},
   "source": [
    "Next, we can do the same thing using f-strings:"
   ]
  },
  {
   "cell_type": "code",
   "id": "celtic-raleigh",
   "metadata": {
    "ExecuteTime": {
     "end_time": "2025-06-17T19:26:58.891606Z",
     "start_time": "2025-06-17T19:26:58.884439Z"
    }
   },
   "source": [
    "a = 31\n",
    "f\"The number {a} {'is' if a % 2 == 0 else 'is not'} even\""
   ],
   "outputs": [
    {
     "data": {
      "text/plain": [
       "'The number 31 is not even'"
      ]
     },
     "execution_count": 18,
     "metadata": {},
     "output_type": "execute_result"
    }
   ],
   "execution_count": 18
  },
  {
   "cell_type": "markdown",
   "id": "sunrise-canberra",
   "metadata": {},
   "source": [
    "And again, the exact same code works for any value of `a`:"
   ]
  },
  {
   "cell_type": "code",
   "id": "theoretical-trout",
   "metadata": {
    "ExecuteTime": {
     "end_time": "2025-06-17T19:27:00.017758Z",
     "start_time": "2025-06-17T19:27:00.009384Z"
    }
   },
   "source": [
    "a = -42\n",
    "f\"The number {a} {'is' if a % 2 == 0 else 'is not'} even\""
   ],
   "outputs": [
    {
     "data": {
      "text/plain": [
       "'The number -42 is even'"
      ]
     },
     "execution_count": 19,
     "metadata": {},
     "output_type": "execute_result"
    }
   ],
   "execution_count": 19
  },
  {
   "cell_type": "markdown",
   "id": "current-topic",
   "metadata": {},
   "source": [
    "#### Question 3"
   ]
  },
  {
   "cell_type": "markdown",
   "id": "injured-hydrogen",
   "metadata": {},
   "source": [
    "You are given two variables `a` and `b` (with `b` non-zero), and you need to generate a string that reads something like this:\n",
    "\n",
    "```\n",
    "'a / b = (result)'\n",
    "```"
   ]
  },
  {
   "cell_type": "markdown",
   "id": "activated-omaha",
   "metadata": {},
   "source": [
    "But you want your string to be nicely formatted for display purposes, so you want to limit displaying possible digits after the decimal point in all your values to 4 digits."
   ]
  },
  {
   "cell_type": "markdown",
   "id": "fatal-potato",
   "metadata": {},
   "source": [
    "##### Solution"
   ]
  },
  {
   "cell_type": "code",
   "id": "younger-france",
   "metadata": {
    "ExecuteTime": {
     "end_time": "2025-06-17T19:27:02.193775Z",
     "start_time": "2025-06-17T19:27:02.187840Z"
    }
   },
   "source": [
    "a = 3.141592653589793\n",
    "b = 6"
   ],
   "outputs": [],
   "execution_count": 20
  },
  {
   "cell_type": "markdown",
   "id": "computational-valentine",
   "metadata": {},
   "source": [
    "We can use an f-string interpolation to create our string:"
   ]
  },
  {
   "cell_type": "code",
   "id": "strange-ozone",
   "metadata": {
    "ExecuteTime": {
     "end_time": "2025-06-17T19:27:03.366304Z",
     "start_time": "2025-06-17T19:27:03.358987Z"
    }
   },
   "source": [
    "f'{a} / {b} = {a / b}'"
   ],
   "outputs": [
    {
     "data": {
      "text/plain": [
       "'3.141592653589793 / 6 = 0.5235987755982988'"
      ]
     },
     "execution_count": 21,
     "metadata": {},
     "output_type": "execute_result"
    }
   ],
   "execution_count": 21
  },
  {
   "cell_type": "markdown",
   "id": "owned-longer",
   "metadata": {},
   "source": [
    "We're almost there - our display includes too many digits to be very readable, so we want to limit to 4 digits after the decimal point.\n",
    "\n",
    "To do this, we'll use some formatting commands:"
   ]
  },
  {
   "cell_type": "code",
   "id": "gross-member",
   "metadata": {
    "ExecuteTime": {
     "end_time": "2025-06-17T19:27:04.432832Z",
     "start_time": "2025-06-17T19:27:04.425653Z"
    }
   },
   "source": [
    "f'{a:.4f} / {b:.4f} = {a / b:.4f}'"
   ],
   "outputs": [
    {
     "data": {
      "text/plain": [
       "'3.1416 / 6.0000 = 0.5236'"
      ]
     },
     "execution_count": 22,
     "metadata": {},
     "output_type": "execute_result"
    }
   ],
   "execution_count": 22
  },
  {
   "cell_type": "markdown",
   "id": "amateur-teacher",
   "metadata": {},
   "source": [
    "Alternatively we could have used the `format()` method:"
   ]
  },
  {
   "cell_type": "code",
   "id": "comparative-cocktail",
   "metadata": {
    "ExecuteTime": {
     "end_time": "2025-06-17T19:27:05.451483Z",
     "start_time": "2025-06-17T19:27:05.443864Z"
    }
   },
   "source": [
    "'{:.4f} / {:.4f} = {:.4f}'.format(a, b, a / b)"
   ],
   "outputs": [
    {
     "data": {
      "text/plain": [
       "'3.1416 / 6.0000 = 0.5236'"
      ]
     },
     "execution_count": 23,
     "metadata": {},
     "output_type": "execute_result"
    }
   ],
   "execution_count": 23
  }
 ],
 "metadata": {
  "kernelspec": {
   "display_name": "Python 3",
   "language": "python",
   "name": "python3"
  },
  "language_info": {
   "codemirror_mode": {
    "name": "ipython",
    "version": 3
   },
   "file_extension": ".py",
   "mimetype": "text/x-python",
   "name": "python",
   "nbconvert_exporter": "python",
   "pygments_lexer": "ipython3",
   "version": "3.9.1"
  }
 },
 "nbformat": 4,
 "nbformat_minor": 5
}
