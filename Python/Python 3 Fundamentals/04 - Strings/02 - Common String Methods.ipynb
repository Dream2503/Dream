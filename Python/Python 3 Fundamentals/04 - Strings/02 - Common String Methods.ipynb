{
 "cells": [
  {
   "cell_type": "markdown",
   "metadata": {},
   "source": [
    "### Common String Methods"
   ]
  },
  {
   "cell_type": "markdown",
   "metadata": {},
   "source": [
    "For a complete list of all string methods see:\n",
    "\n",
    "https://docs.python.org/3/library/stdtypes.html#string-methods"
   ]
  },
  {
   "cell_type": "markdown",
   "metadata": {},
   "source": [
    "#### Case Mappings"
   ]
  },
  {
   "cell_type": "markdown",
   "metadata": {},
   "source": [
    "We look at three case mapping methods:"
   ]
  },
  {
   "cell_type": "code",
   "metadata": {
    "ExecuteTime": {
     "end_time": "2025-06-17T19:23:27.008287Z",
     "start_time": "2025-06-17T19:23:27.001983Z"
    }
   },
   "source": [
    "message = 'The definitive guide to Python'"
   ],
   "outputs": [],
   "execution_count": 1
  },
  {
   "cell_type": "markdown",
   "metadata": {},
   "source": [
    "We can map these characters to upper case:"
   ]
  },
  {
   "cell_type": "code",
   "metadata": {
    "ExecuteTime": {
     "end_time": "2025-06-17T19:23:27.357765Z",
     "start_time": "2025-06-17T19:23:27.344721Z"
    }
   },
   "source": [
    "message.upper()"
   ],
   "outputs": [
    {
     "data": {
      "text/plain": [
       "'THE DEFINITIVE GUIDE TO PYTHON'"
      ]
     },
     "execution_count": 2,
     "metadata": {},
     "output_type": "execute_result"
    }
   ],
   "execution_count": 2
  },
  {
   "cell_type": "markdown",
   "metadata": {},
   "source": [
    "or to lower case:"
   ]
  },
  {
   "cell_type": "code",
   "metadata": {
    "ExecuteTime": {
     "end_time": "2025-06-17T19:23:27.440686Z",
     "start_time": "2025-06-17T19:23:27.433311Z"
    }
   },
   "source": [
    "message.lower()"
   ],
   "outputs": [
    {
     "data": {
      "text/plain": [
       "'the definitive guide to python'"
      ]
     },
     "execution_count": 3,
     "metadata": {},
     "output_type": "execute_result"
    }
   ],
   "execution_count": 3
  },
  {
   "cell_type": "markdown",
   "metadata": {},
   "source": [
    "Sometimes title case can be effective for display purposes:"
   ]
  },
  {
   "cell_type": "code",
   "metadata": {
    "ExecuteTime": {
     "end_time": "2025-06-17T19:23:27.527002Z",
     "start_time": "2025-06-17T19:23:27.521868Z"
    }
   },
   "source": [
    "message.title()"
   ],
   "outputs": [
    {
     "data": {
      "text/plain": [
       "'The Definitive Guide To Python'"
      ]
     },
     "execution_count": 4,
     "metadata": {},
     "output_type": "execute_result"
    }
   ],
   "execution_count": 4
  },
  {
   "cell_type": "markdown",
   "metadata": {},
   "source": [
    "We have to be a bit careful with case mappings. It seems evident that the upper case equivalent of `a` is `A`, and the lower case equivalent of `A` is `a`.\n",
    "\n",
    "But many languages do not have lower vs upper case!"
   ]
  },
  {
   "cell_type": "markdown",
   "metadata": {},
   "source": [
    "The unicode standard defines the mapping between lower and upper case variants, for example https://www.compart.com/en/unicode/U+03B1 tells us that the upper case variant for the alpha character we saw earlier (`U+03B1`) is defined as the unicode character `U+0391`."
   ]
  },
  {
   "cell_type": "code",
   "metadata": {
    "ExecuteTime": {
     "end_time": "2025-06-17T19:23:27.748581Z",
     "start_time": "2025-06-17T19:23:27.741887Z"
    }
   },
   "source": [
    "l = '\\u03B1'\n",
    "u = '\\u0391'"
   ],
   "outputs": [],
   "execution_count": 5
  },
  {
   "cell_type": "code",
   "metadata": {
    "ExecuteTime": {
     "end_time": "2025-06-17T19:23:27.838197Z",
     "start_time": "2025-06-17T19:23:27.831190Z"
    }
   },
   "source": [
    "l, u"
   ],
   "outputs": [
    {
     "data": {
      "text/plain": [
       "('α', 'Α')"
      ]
     },
     "execution_count": 6,
     "metadata": {},
     "output_type": "execute_result"
    }
   ],
   "execution_count": 6
  },
  {
   "cell_type": "code",
   "metadata": {
    "ExecuteTime": {
     "end_time": "2025-06-17T19:23:28.065421Z",
     "start_time": "2025-06-17T19:23:28.059234Z"
    }
   },
   "source": [
    "l.upper() == u"
   ],
   "outputs": [
    {
     "data": {
      "text/plain": [
       "True"
      ]
     },
     "execution_count": 7,
     "metadata": {},
     "output_type": "execute_result"
    }
   ],
   "execution_count": 7
  },
  {
   "cell_type": "markdown",
   "metadata": {},
   "source": [
    "And what about that snake emoji we just saw?"
   ]
  },
  {
   "cell_type": "code",
   "metadata": {
    "ExecuteTime": {
     "end_time": "2025-06-17T19:23:28.529660Z",
     "start_time": "2025-06-17T19:23:28.524222Z"
    }
   },
   "source": [
    "python = '🐍'"
   ],
   "outputs": [],
   "execution_count": 8
  },
  {
   "cell_type": "code",
   "metadata": {
    "ExecuteTime": {
     "end_time": "2025-06-17T19:23:28.767522Z",
     "start_time": "2025-06-17T19:23:28.759322Z"
    }
   },
   "source": [
    "python.lower()"
   ],
   "outputs": [
    {
     "data": {
      "text/plain": [
       "'🐍'"
      ]
     },
     "execution_count": 9,
     "metadata": {},
     "output_type": "execute_result"
    }
   ],
   "execution_count": 9
  },
  {
   "cell_type": "code",
   "metadata": {
    "ExecuteTime": {
     "end_time": "2025-06-17T19:23:29.008380Z",
     "start_time": "2025-06-17T19:23:29.001191Z"
    }
   },
   "source": [
    "python.upper()"
   ],
   "outputs": [
    {
     "data": {
      "text/plain": [
       "'🐍'"
      ]
     },
     "execution_count": 10,
     "metadata": {},
     "output_type": "execute_result"
    }
   ],
   "execution_count": 10
  },
  {
   "cell_type": "markdown",
   "metadata": {},
   "source": [
    "As we can see, there is no difference in the visual output, and in fact the characters are equal to each other:"
   ]
  },
  {
   "cell_type": "code",
   "metadata": {
    "ExecuteTime": {
     "end_time": "2025-06-17T19:23:29.490678Z",
     "start_time": "2025-06-17T19:23:29.484021Z"
    }
   },
   "source": [
    "python.lower() == python.upper()"
   ],
   "outputs": [
    {
     "data": {
      "text/plain": [
       "True"
      ]
     },
     "execution_count": 11,
     "metadata": {},
     "output_type": "execute_result"
    }
   ],
   "execution_count": 11
  },
  {
   "cell_type": "markdown",
   "metadata": {},
   "source": [
    "The reason I mention this is that some people use case mappings to perform \"case insensitive\" matching - this is not a good approach in general, and is in fact not recommended by the Unicode standard."
   ]
  },
  {
   "cell_type": "markdown",
   "metadata": {},
   "source": [
    "Suppose we are dealing with a data set that contains a column of brand names. We want to assign a brand id to each row in the dataset based on a lookup in some brand table."
   ]
  },
  {
   "cell_type": "markdown",
   "metadata": {},
   "source": [
    "The problem is that the brand names in the dataset are not clean - they may be cased differently than what we have in our lookup table."
   ]
  },
  {
   "cell_type": "markdown",
   "metadata": {},
   "source": [
    "(We'll cover lookup tables, starting with dictionaries, later in this course)."
   ]
  },
  {
   "cell_type": "markdown",
   "metadata": {},
   "source": [
    "For now let's suppose we have a standardized brand name in our lookup table:"
   ]
  },
  {
   "cell_type": "code",
   "metadata": {
    "ExecuteTime": {
     "end_time": "2025-06-17T19:23:30.761073Z",
     "start_time": "2025-06-17T19:23:30.755517Z"
    }
   },
   "source": [
    "brand = 'BMW'"
   ],
   "outputs": [],
   "execution_count": 12
  },
  {
   "cell_type": "markdown",
   "metadata": {},
   "source": [
    "Now suppose the row in our dataset contains a brand name such as: `bmw`, or `Bmw`"
   ]
  },
  {
   "cell_type": "markdown",
   "metadata": {},
   "source": [
    "We want to match that to our standard brand name."
   ]
  },
  {
   "cell_type": "markdown",
   "metadata": {},
   "source": [
    "We could do this by case mapping the dataset brand name to the same case mapping as our lookup:"
   ]
  },
  {
   "cell_type": "code",
   "metadata": {
    "ExecuteTime": {
     "end_time": "2025-06-17T19:23:31.577479Z",
     "start_time": "2025-06-17T19:23:31.572582Z"
    }
   },
   "source": [
    "row_brand = 'bmw'"
   ],
   "outputs": [],
   "execution_count": 13
  },
  {
   "cell_type": "code",
   "metadata": {
    "ExecuteTime": {
     "end_time": "2025-06-17T19:23:31.756355Z",
     "start_time": "2025-06-17T19:23:31.747476Z"
    }
   },
   "source": [
    "brand == row_brand"
   ],
   "outputs": [
    {
     "data": {
      "text/plain": [
       "False"
      ]
     },
     "execution_count": 14,
     "metadata": {},
     "output_type": "execute_result"
    }
   ],
   "execution_count": 14
  },
  {
   "cell_type": "code",
   "metadata": {
    "ExecuteTime": {
     "end_time": "2025-06-17T19:23:31.980090Z",
     "start_time": "2025-06-17T19:23:31.973739Z"
    }
   },
   "source": [
    "brand.upper() == row_brand.upper()"
   ],
   "outputs": [
    {
     "data": {
      "text/plain": [
       "True"
      ]
     },
     "execution_count": 15,
     "metadata": {},
     "output_type": "execute_result"
    }
   ],
   "execution_count": 15
  },
  {
   "cell_type": "markdown",
   "metadata": {},
   "source": [
    "or, we could go with lower case instead:"
   ]
  },
  {
   "cell_type": "code",
   "metadata": {
    "ExecuteTime": {
     "end_time": "2025-06-17T19:23:32.323177Z",
     "start_time": "2025-06-17T19:23:32.316588Z"
    }
   },
   "source": [
    "brand.lower() == row_brand.lower()"
   ],
   "outputs": [
    {
     "data": {
      "text/plain": [
       "True"
      ]
     },
     "execution_count": 16,
     "metadata": {},
     "output_type": "execute_result"
    }
   ],
   "execution_count": 16
  },
  {
   "cell_type": "markdown",
   "metadata": {},
   "source": [
    "That seems to work just fine, but consider this example:"
   ]
  },
  {
   "cell_type": "code",
   "metadata": {
    "ExecuteTime": {
     "end_time": "2025-06-17T19:23:32.729402Z",
     "start_time": "2025-06-17T19:23:32.714232Z"
    }
   },
   "source": [
    "street = 'stra\\N{LATIN SMALL LETTER SHARP S}e'"
   ],
   "outputs": [],
   "execution_count": 17
  },
  {
   "cell_type": "code",
   "metadata": {
    "ExecuteTime": {
     "end_time": "2025-06-17T19:23:32.889088Z",
     "start_time": "2025-06-17T19:23:32.881515Z"
    }
   },
   "source": [
    "street"
   ],
   "outputs": [
    {
     "data": {
      "text/plain": [
       "'straße'"
      ]
     },
     "execution_count": 18,
     "metadata": {},
     "output_type": "execute_result"
    }
   ],
   "execution_count": 18
  },
  {
   "cell_type": "code",
   "metadata": {
    "ExecuteTime": {
     "end_time": "2025-06-17T19:23:33.110336Z",
     "start_time": "2025-06-17T19:23:33.094948Z"
    }
   },
   "source": [
    "street.upper()"
   ],
   "outputs": [
    {
     "data": {
      "text/plain": [
       "'STRASSE'"
      ]
     },
     "execution_count": 19,
     "metadata": {},
     "output_type": "execute_result"
    }
   ],
   "execution_count": 19
  },
  {
   "cell_type": "markdown",
   "metadata": {},
   "source": [
    "You'll notice there that the upper case of that `sz` character, is `SS` - and that is actually two standard `S` characters:"
   ]
  },
  {
   "cell_type": "code",
   "metadata": {
    "ExecuteTime": {
     "end_time": "2025-06-17T19:23:33.452387Z",
     "start_time": "2025-06-17T19:23:33.445170Z"
    }
   },
   "source": [
    "len(street), len(street.upper())"
   ],
   "outputs": [
    {
     "data": {
      "text/plain": [
       "(6, 7)"
      ]
     },
     "execution_count": 20,
     "metadata": {},
     "output_type": "execute_result"
    }
   ],
   "execution_count": 20
  },
  {
   "cell_type": "markdown",
   "metadata": {},
   "source": [
    "As you can see the upper case conversion results in one extra character. This means that we can run into issues if we try to use case mappings to do case-insensitive comparisons."
   ]
  },
  {
   "cell_type": "code",
   "metadata": {
    "ExecuteTime": {
     "end_time": "2025-06-17T19:23:33.858778Z",
     "start_time": "2025-06-17T19:23:33.853754Z"
    }
   },
   "source": [
    "data = 'STRASSE'"
   ],
   "outputs": [],
   "execution_count": 21
  },
  {
   "cell_type": "code",
   "metadata": {
    "ExecuteTime": {
     "end_time": "2025-06-17T19:23:34.039746Z",
     "start_time": "2025-06-17T19:23:34.033605Z"
    }
   },
   "source": [
    "street.lower() == data.lower()"
   ],
   "outputs": [
    {
     "data": {
      "text/plain": [
       "False"
      ]
     },
     "execution_count": 22,
     "metadata": {},
     "output_type": "execute_result"
    }
   ],
   "execution_count": 22
  },
  {
   "cell_type": "markdown",
   "metadata": {},
   "source": [
    "So we get `False`, even though these are technically equal from a case-insensitive perspective:"
   ]
  },
  {
   "cell_type": "markdown",
   "metadata": {},
   "source": [
    "#### Case Folding"
   ]
  },
  {
   "cell_type": "markdown",
   "metadata": {},
   "source": [
    "The better approach is something called **case folding** - which is specifically built to help with case insensitive comparisons."
   ]
  },
  {
   "cell_type": "markdown",
   "metadata": {},
   "source": [
    "Case folding is actually defined by the Unicode standard, and is used to perform case insensitive comparisons. Although it may look like case folding is just using lower case, it is **not** always the case."
   ]
  },
  {
   "cell_type": "markdown",
   "metadata": {},
   "source": [
    "Let's try our `street` and `data` comparison again, this time using folding:"
   ]
  },
  {
   "cell_type": "code",
   "metadata": {
    "ExecuteTime": {
     "end_time": "2025-06-17T19:23:35.319351Z",
     "start_time": "2025-06-17T19:23:35.308973Z"
    }
   },
   "source": [
    "street.casefold() == data.casefold()"
   ],
   "outputs": [
    {
     "data": {
      "text/plain": [
       "True"
      ]
     },
     "execution_count": 23,
     "metadata": {},
     "output_type": "execute_result"
    }
   ],
   "execution_count": 23
  },
  {
   "cell_type": "markdown",
   "metadata": {},
   "source": [
    "Note that we don't use case folding for display purposes, just for internal case insensitive comparisons."
   ]
  },
  {
   "cell_type": "markdown",
   "metadata": {},
   "source": [
    "This does not solve all our problems though, we sometimes have to deal with other issues related to how unicode characters may **look** the same, but are not, in fact, the same character at all."
   ]
  },
  {
   "cell_type": "markdown",
   "metadata": {},
   "source": [
    "For example:"
   ]
  },
  {
   "cell_type": "code",
   "metadata": {
    "ExecuteTime": {
     "end_time": "2025-06-17T19:23:36.128811Z",
     "start_time": "2025-06-17T19:23:36.123810Z"
    }
   },
   "source": [
    "s1 = 'ê'\n",
    "s2 = 'ê'"
   ],
   "outputs": [],
   "execution_count": 24
  },
  {
   "cell_type": "code",
   "metadata": {
    "ExecuteTime": {
     "end_time": "2025-06-17T19:23:36.348905Z",
     "start_time": "2025-06-17T19:23:36.340788Z"
    }
   },
   "source": [
    "s1 == s2"
   ],
   "outputs": [
    {
     "data": {
      "text/plain": [
       "False"
      ]
     },
     "execution_count": 25,
     "metadata": {},
     "output_type": "execute_result"
    }
   ],
   "execution_count": 25
  },
  {
   "cell_type": "markdown",
   "metadata": {},
   "source": [
    "This is because we are seeing the same character visually (the glyphs), but based on two different definitions:"
   ]
  },
  {
   "cell_type": "code",
   "metadata": {
    "ExecuteTime": {
     "end_time": "2025-06-17T19:23:36.830906Z",
     "start_time": "2025-06-17T19:23:36.813721Z"
    }
   },
   "source": [
    "s1 = '\\N{LATIN SMALL LETTER E WITH CIRCUMFLEX}'\n",
    "s2 = '\\N{LATIN SMALL LETTER E}\\N{COMBINING CIRCUMFLEX ACCENT}'"
   ],
   "outputs": [],
   "execution_count": 26
  },
  {
   "cell_type": "code",
   "metadata": {
    "ExecuteTime": {
     "end_time": "2025-06-17T19:23:36.995982Z",
     "start_time": "2025-06-17T19:23:36.990023Z"
    }
   },
   "source": [
    "s1, s2, s1 == s2"
   ],
   "outputs": [
    {
     "data": {
      "text/plain": [
       "('ê', 'ê', False)"
      ]
     },
     "execution_count": 27,
     "metadata": {},
     "output_type": "execute_result"
    }
   ],
   "execution_count": 27
  },
  {
   "cell_type": "markdown",
   "metadata": {},
   "source": [
    "Here case folding is kind of useless:"
   ]
  },
  {
   "cell_type": "markdown",
   "metadata": {},
   "source": [
    "How to solve this problem requires a deeper understanding of Unicode, and is beyond the scope of this course, but if you're interested you could start by taking a look at this blog post: \n",
    "\n",
    "https://mathbyteacademy.blogspot.com/2019/04/case-insensitive-string-comparisons.html"
   ]
  },
  {
   "cell_type": "markdown",
   "metadata": {},
   "source": [
    "#### Stripping"
   ]
  },
  {
   "cell_type": "markdown",
   "metadata": {},
   "source": [
    "Often when we are dealing with string data, we need to strip away characters at the begining and/or at the end of the string."
   ]
  },
  {
   "cell_type": "markdown",
   "metadata": {},
   "source": [
    "For example, we may have this string:"
   ]
  },
  {
   "cell_type": "code",
   "metadata": {
    "ExecuteTime": {
     "end_time": "2025-06-17T19:23:38.274670Z",
     "start_time": "2025-06-17T19:23:38.269673Z"
    }
   },
   "source": [
    "name = 'Peter '"
   ],
   "outputs": [],
   "execution_count": 28
  },
  {
   "cell_type": "markdown",
   "metadata": {},
   "source": [
    "As you can see there is a trailing space that we may want to get rid of:"
   ]
  },
  {
   "cell_type": "code",
   "metadata": {
    "ExecuteTime": {
     "end_time": "2025-06-17T19:23:38.710332Z",
     "start_time": "2025-06-17T19:23:38.704354Z"
    }
   },
   "source": [
    "name.rstrip(' ')"
   ],
   "outputs": [
    {
     "data": {
      "text/plain": [
       "'Peter'"
      ]
     },
     "execution_count": 29,
     "metadata": {},
     "output_type": "execute_result"
    }
   ],
   "execution_count": 29
  },
  {
   "cell_type": "markdown",
   "metadata": {},
   "source": [
    "Here we specifically stripped a `space` to the **right** of the string."
   ]
  },
  {
   "cell_type": "markdown",
   "metadata": {},
   "source": [
    "If we don't specify any argument, Python will strip **white space** from both ends.\n",
    "\n",
    "White space are characters that include spaces, newlines, tabs, etc."
   ]
  },
  {
   "cell_type": "code",
   "metadata": {
    "ExecuteTime": {
     "end_time": "2025-06-17T19:23:39.360794Z",
     "start_time": "2025-06-17T19:23:39.355844Z"
    }
   },
   "source": [
    "name = '\\t Peter\\tJones\\t'"
   ],
   "outputs": [],
   "execution_count": 30
  },
  {
   "cell_type": "code",
   "metadata": {
    "ExecuteTime": {
     "end_time": "2025-06-17T19:23:39.561280Z",
     "start_time": "2025-06-17T19:23:39.555263Z"
    }
   },
   "source": [
    "print(name)"
   ],
   "outputs": [
    {
     "name": "stdout",
     "output_type": "stream",
     "text": [
      "\t Peter\tJones\t\n"
     ]
    }
   ],
   "execution_count": 31
  },
  {
   "cell_type": "markdown",
   "metadata": {},
   "source": [
    "We can strip both the tabs and spaces from both ends of the string:"
   ]
  },
  {
   "cell_type": "code",
   "metadata": {
    "ExecuteTime": {
     "end_time": "2025-06-17T19:23:40.003288Z",
     "start_time": "2025-06-17T19:23:39.997335Z"
    }
   },
   "source": [
    "name.strip()"
   ],
   "outputs": [
    {
     "data": {
      "text/plain": [
       "'Peter\\tJones'"
      ]
     },
     "execution_count": 32,
     "metadata": {},
     "output_type": "execute_result"
    }
   ],
   "execution_count": 32
  },
  {
   "cell_type": "markdown",
   "metadata": {},
   "source": [
    "Of course, the tab character `\\t` in the middle of the string is not stripped."
   ]
  },
  {
   "cell_type": "markdown",
   "metadata": {},
   "source": [
    "We can also specify our own character to strip (as we just saw), or even multiple characters:"
   ]
  },
  {
   "cell_type": "code",
   "metadata": {
    "ExecuteTime": {
     "end_time": "2025-06-17T19:23:40.637295Z",
     "start_time": "2025-06-17T19:23:40.632344Z"
    }
   },
   "source": [
    "s = 'ababPYTHONabab'"
   ],
   "outputs": [],
   "execution_count": 33
  },
  {
   "cell_type": "code",
   "metadata": {
    "ExecuteTime": {
     "end_time": "2025-06-17T19:23:40.832374Z",
     "start_time": "2025-06-17T19:23:40.826092Z"
    }
   },
   "source": [
    "s.strip('ab')"
   ],
   "outputs": [
    {
     "data": {
      "text/plain": [
       "'PYTHON'"
      ]
     },
     "execution_count": 34,
     "metadata": {},
     "output_type": "execute_result"
    }
   ],
   "execution_count": 34
  },
  {
   "cell_type": "markdown",
   "metadata": {},
   "source": [
    "#### Concatenation"
   ]
  },
  {
   "cell_type": "markdown",
   "metadata": {},
   "source": [
    "The `+` operator works for strings by creating a new string composed by concatenating (joining up) the strings:"
   ]
  },
  {
   "cell_type": "code",
   "metadata": {
    "ExecuteTime": {
     "end_time": "2025-06-17T19:23:41.442025Z",
     "start_time": "2025-06-17T19:23:41.425564Z"
    }
   },
   "source": [
    "'Python' + ' ' + 'rocks' + '!'"
   ],
   "outputs": [
    {
     "data": {
      "text/plain": [
       "'Python rocks!'"
      ]
     },
     "execution_count": 35,
     "metadata": {},
     "output_type": "execute_result"
    }
   ],
   "execution_count": 35
  },
  {
   "cell_type": "markdown",
   "metadata": {},
   "source": [
    "#### Splitting Strings"
   ]
  },
  {
   "cell_type": "markdown",
   "metadata": {},
   "source": [
    "Sometimes we may have a sequence of characters in a string that are delimited in some fashion. For example, think of a row of data in a CSV file - the fields (or columns) in the file are separated (delimited) by commas (usually). "
   ]
  },
  {
   "cell_type": "markdown",
   "metadata": {},
   "source": [
    "Python has specialized tools for dealing with CSV data, but there are other non-CSV related cases where we might need to split a string into a list of some kind based on some delimiter."
   ]
  },
  {
   "cell_type": "markdown",
   "metadata": {},
   "source": [
    "For example, suppose we have this data:"
   ]
  },
  {
   "cell_type": "code",
   "metadata": {
    "ExecuteTime": {
     "end_time": "2025-06-17T19:23:42.404458Z",
     "start_time": "2025-06-17T19:23:42.398500Z"
    }
   },
   "source": [
    "data = 'Jones,Peter'"
   ],
   "outputs": [],
   "execution_count": 36
  },
  {
   "cell_type": "markdown",
   "metadata": {},
   "source": [
    "Here we want to split this into first name / last name."
   ]
  },
  {
   "cell_type": "markdown",
   "metadata": {},
   "source": [
    "We can do this by splitting the string on the `,` character."
   ]
  },
  {
   "cell_type": "code",
   "metadata": {
    "ExecuteTime": {
     "end_time": "2025-06-17T19:23:42.988443Z",
     "start_time": "2025-06-17T19:23:42.983445Z"
    }
   },
   "source": [
    "split_data = data.split(',')"
   ],
   "outputs": [],
   "execution_count": 37
  },
  {
   "cell_type": "code",
   "metadata": {
    "ExecuteTime": {
     "end_time": "2025-06-17T19:23:43.185861Z",
     "start_time": "2025-06-17T19:23:43.178232Z"
    }
   },
   "source": [
    "split_data"
   ],
   "outputs": [
    {
     "data": {
      "text/plain": [
       "['Jones', 'Peter']"
      ]
     },
     "execution_count": 38,
     "metadata": {},
     "output_type": "execute_result"
    }
   ],
   "execution_count": 38
  },
  {
   "cell_type": "markdown",
   "metadata": {},
   "source": [
    "As you can see we now have a list that was split on the `,`, and we can extract it using unpacking:"
   ]
  },
  {
   "cell_type": "code",
   "metadata": {
    "ExecuteTime": {
     "end_time": "2025-06-17T19:23:43.611881Z",
     "start_time": "2025-06-17T19:23:43.607123Z"
    }
   },
   "source": [
    "last, first = data.split(',')"
   ],
   "outputs": [],
   "execution_count": 39
  },
  {
   "cell_type": "code",
   "metadata": {
    "ExecuteTime": {
     "end_time": "2025-06-17T19:23:43.813508Z",
     "start_time": "2025-06-17T19:23:43.808034Z"
    }
   },
   "source": [
    "last"
   ],
   "outputs": [
    {
     "data": {
      "text/plain": [
       "'Jones'"
      ]
     },
     "execution_count": 40,
     "metadata": {},
     "output_type": "execute_result"
    }
   ],
   "execution_count": 40
  },
  {
   "cell_type": "code",
   "metadata": {
    "ExecuteTime": {
     "end_time": "2025-06-17T19:23:44.026467Z",
     "start_time": "2025-06-17T19:23:44.020285Z"
    }
   },
   "source": [
    "first"
   ],
   "outputs": [
    {
     "data": {
      "text/plain": [
       "'Peter'"
      ]
     },
     "execution_count": 41,
     "metadata": {},
     "output_type": "execute_result"
    }
   ],
   "execution_count": 41
  },
  {
   "cell_type": "markdown",
   "metadata": {},
   "source": [
    "#### Joining Strings"
   ]
  },
  {
   "cell_type": "markdown",
   "metadata": {},
   "source": [
    "This is essentialy the reverse of splitting strings."
   ]
  },
  {
   "cell_type": "markdown",
   "metadata": {},
   "source": [
    "We can create a string from an iterable of strings, specifying joining characters (zero or more):"
   ]
  },
  {
   "cell_type": "code",
   "metadata": {
    "ExecuteTime": {
     "end_time": "2025-06-17T19:23:44.940397Z",
     "start_time": "2025-06-17T19:23:44.934591Z"
    }
   },
   "source": [
    "data = ['item 1', 'item 2', 'item 3']"
   ],
   "outputs": [],
   "execution_count": 42
  },
  {
   "cell_type": "code",
   "metadata": {
    "ExecuteTime": {
     "end_time": "2025-06-17T19:23:45.174108Z",
     "start_time": "2025-06-17T19:23:45.168060Z"
    }
   },
   "source": [
    "', '.join(data)"
   ],
   "outputs": [
    {
     "data": {
      "text/plain": [
       "'item 1, item 2, item 3'"
      ]
     },
     "execution_count": 43,
     "metadata": {},
     "output_type": "execute_result"
    }
   ],
   "execution_count": 43
  },
  {
   "cell_type": "markdown",
   "metadata": {},
   "source": [
    "Remember that strings are iterables, so we could even do something like this:"
   ]
  },
  {
   "cell_type": "code",
   "metadata": {
    "ExecuteTime": {
     "end_time": "2025-06-17T19:23:45.938077Z",
     "start_time": "2025-06-17T19:23:45.931558Z"
    }
   },
   "source": [
    "','.join('ABCD')"
   ],
   "outputs": [
    {
     "data": {
      "text/plain": [
       "'A,B,C,D'"
      ]
     },
     "execution_count": 44,
     "metadata": {},
     "output_type": "execute_result"
    }
   ],
   "execution_count": 44
  },
  {
   "cell_type": "markdown",
   "metadata": {},
   "source": [
    "#### Substrings"
   ]
  },
  {
   "cell_type": "markdown",
   "metadata": {},
   "source": [
    "We can easily test if a string of characters is present in another string by using the `in` operator:"
   ]
  },
  {
   "cell_type": "code",
   "metadata": {
    "ExecuteTime": {
     "end_time": "2025-06-17T19:23:46.745705Z",
     "start_time": "2025-06-17T19:23:46.737693Z"
    }
   },
   "source": [
    "'rock' in 'python rocks!'"
   ],
   "outputs": [
    {
     "data": {
      "text/plain": [
       "True"
      ]
     },
     "execution_count": 45,
     "metadata": {},
     "output_type": "execute_result"
    }
   ],
   "execution_count": 45
  },
  {
   "cell_type": "markdown",
   "metadata": {},
   "source": [
    "Of course, this is case sensitive:"
   ]
  },
  {
   "cell_type": "code",
   "metadata": {
    "ExecuteTime": {
     "end_time": "2025-06-17T19:23:47.257533Z",
     "start_time": "2025-06-17T19:23:47.250229Z"
    }
   },
   "source": [
    "'Python' in 'python rocks!'"
   ],
   "outputs": [
    {
     "data": {
      "text/plain": [
       "False"
      ]
     },
     "execution_count": 46,
     "metadata": {},
     "output_type": "execute_result"
    }
   ],
   "execution_count": 46
  },
  {
   "cell_type": "markdown",
   "metadata": {},
   "source": [
    "To use a case insensitive containment test, we could use case folding:"
   ]
  },
  {
   "cell_type": "code",
   "metadata": {
    "ExecuteTime": {
     "end_time": "2025-06-17T19:23:47.758216Z",
     "start_time": "2025-06-17T19:23:47.751987Z"
    }
   },
   "source": [
    "'Python'.casefold() in 'python rocks!'.casefold()"
   ],
   "outputs": [
    {
     "data": {
      "text/plain": [
       "True"
      ]
     },
     "execution_count": 47,
     "metadata": {},
     "output_type": "execute_result"
    }
   ],
   "execution_count": 47
  },
  {
   "cell_type": "markdown",
   "metadata": {},
   "source": [
    "This test is for **containment** only, and does not tell us where the substring is located in the main string (assuming it is) - but this often all we need, and we don't need to incur the extra cost of determining not only if the substring is present, but where it is present."
   ]
  },
  {
   "cell_type": "markdown",
   "metadata": {},
   "source": [
    "Containment works for any sequence type in fact:"
   ]
  },
  {
   "cell_type": "code",
   "metadata": {
    "ExecuteTime": {
     "end_time": "2025-06-17T19:23:48.706584Z",
     "start_time": "2025-06-17T19:23:48.699548Z"
    }
   },
   "source": [
    "1 in [1, 2, 3]"
   ],
   "outputs": [
    {
     "data": {
      "text/plain": [
       "True"
      ]
     },
     "execution_count": 48,
     "metadata": {},
     "output_type": "execute_result"
    }
   ],
   "execution_count": 48
  },
  {
   "cell_type": "code",
   "metadata": {
    "ExecuteTime": {
     "end_time": "2025-06-17T19:23:48.903200Z",
     "start_time": "2025-06-17T19:23:48.896183Z"
    }
   },
   "source": [
    "'abc' in ('abc', 'def')"
   ],
   "outputs": [
    {
     "data": {
      "text/plain": [
       "True"
      ]
     },
     "execution_count": 49,
     "metadata": {},
     "output_type": "execute_result"
    }
   ],
   "execution_count": 49
  },
  {
   "cell_type": "markdown",
   "metadata": {},
   "source": [
    "For strings, we can further refine this containment test to determine if a string starts or ends with some specific substring:"
   ]
  },
  {
   "cell_type": "code",
   "metadata": {
    "ExecuteTime": {
     "end_time": "2025-06-17T19:23:49.802311Z",
     "start_time": "2025-06-17T19:23:49.794873Z"
    }
   },
   "source": [
    "'Python rocks'.startswith('Python')"
   ],
   "outputs": [
    {
     "data": {
      "text/plain": [
       "True"
      ]
     },
     "execution_count": 50,
     "metadata": {},
     "output_type": "execute_result"
    }
   ],
   "execution_count": 50
  },
  {
   "cell_type": "code",
   "metadata": {
    "ExecuteTime": {
     "end_time": "2025-06-17T19:23:50.000240Z",
     "start_time": "2025-06-17T19:23:49.993239Z"
    }
   },
   "source": [
    "'Python rocks'.endswith('rocks')"
   ],
   "outputs": [
    {
     "data": {
      "text/plain": [
       "True"
      ]
     },
     "execution_count": 51,
     "metadata": {},
     "output_type": "execute_result"
    }
   ],
   "execution_count": 51
  },
  {
   "cell_type": "code",
   "metadata": {
    "ExecuteTime": {
     "end_time": "2025-06-17T19:23:50.182560Z",
     "start_time": "2025-06-17T19:23:50.176248Z"
    }
   },
   "source": [
    "'Python rocks'.startswith('rocks')"
   ],
   "outputs": [
    {
     "data": {
      "text/plain": [
       "False"
      ]
     },
     "execution_count": 52,
     "metadata": {},
     "output_type": "execute_result"
    }
   ],
   "execution_count": 52
  },
  {
   "cell_type": "markdown",
   "metadata": {},
   "source": [
    "To find the index of the start of the substring we can use the `index` or `find` methods. The primary difference between the two is that `index` will raise an exception if the substring is not found, whereas `find` will just return a `-1` value:"
   ]
  },
  {
   "cell_type": "code",
   "metadata": {
    "ExecuteTime": {
     "end_time": "2025-06-17T19:23:50.731805Z",
     "start_time": "2025-06-17T19:23:50.726112Z"
    }
   },
   "source": [
    "message = 'To every action there is always an equal and opposite reaction.'"
   ],
   "outputs": [],
   "execution_count": 53
  },
  {
   "cell_type": "code",
   "metadata": {
    "ExecuteTime": {
     "end_time": "2025-06-17T19:23:51.033855Z",
     "start_time": "2025-06-17T19:23:51.026719Z"
    }
   },
   "source": [
    "message.index('every')"
   ],
   "outputs": [
    {
     "data": {
      "text/plain": [
       "3"
      ]
     },
     "execution_count": 54,
     "metadata": {},
     "output_type": "execute_result"
    }
   ],
   "execution_count": 54
  },
  {
   "cell_type": "markdown",
   "metadata": {},
   "source": [
    "But if we try to find a substring that does not exist:"
   ]
  },
  {
   "cell_type": "code",
   "metadata": {
    "ExecuteTime": {
     "end_time": "2025-06-17T19:23:52.057437Z",
     "start_time": "2025-06-17T19:23:51.695237Z"
    }
   },
   "source": [
    "message.index('Newton')"
   ],
   "outputs": [
    {
     "ename": "ValueError",
     "evalue": "substring not found",
     "output_type": "error",
     "traceback": [
      "\u001B[1;31m---------------------------------------------------------------------------\u001B[0m",
      "\u001B[1;31mValueError\u001B[0m                                Traceback (most recent call last)",
      "Cell \u001B[1;32mIn[55], line 1\u001B[0m\n\u001B[1;32m----> 1\u001B[0m \u001B[43mmessage\u001B[49m\u001B[38;5;241;43m.\u001B[39;49m\u001B[43mindex\u001B[49m\u001B[43m(\u001B[49m\u001B[38;5;124;43m'\u001B[39;49m\u001B[38;5;124;43mNewton\u001B[39;49m\u001B[38;5;124;43m'\u001B[39;49m\u001B[43m)\u001B[49m\n",
      "\u001B[1;31mValueError\u001B[0m: substring not found"
     ]
    }
   ],
   "execution_count": 55
  },
  {
   "cell_type": "markdown",
   "metadata": {},
   "source": [
    "By default the index method will return the index of the first occurrence of the substring (if there is one). For example, in the above `message`, the characters `action` appear twice:"
   ]
  },
  {
   "cell_type": "code",
   "metadata": {
    "ExecuteTime": {
     "end_time": "2025-06-17T19:23:52.432688Z",
     "start_time": "2025-06-17T19:23:52.426589Z"
    }
   },
   "source": [
    "message.index('action')"
   ],
   "outputs": [
    {
     "data": {
      "text/plain": [
       "9"
      ]
     },
     "execution_count": 56,
     "metadata": {},
     "output_type": "execute_result"
    }
   ],
   "execution_count": 56
  },
  {
   "cell_type": "markdown",
   "metadata": {},
   "source": [
    "As you can see, the index returned is for the first occurrence of the substring `action`.\n",
    "\n"
   ]
  },
  {
   "cell_type": "markdown",
   "metadata": {},
   "source": [
    "We can look at the help documentation for `index`, by typing the following in Jupyter:"
   ]
  },
  {
   "cell_type": "code",
   "metadata": {
    "ExecuteTime": {
     "end_time": "2025-06-17T19:23:54.190907Z",
     "start_time": "2025-06-17T19:23:54.184440Z"
    }
   },
   "source": [
    "?str.index"
   ],
   "outputs": [],
   "execution_count": 57
  },
  {
   "cell_type": "markdown",
   "metadata": {},
   "source": [
    "As you can see from the docstring for `index`, we can specify a slice within which to search for the substring, so to find the next occurrence of `action`, we simply need to set the start of the slice to be the index **after** the end of the current substring:"
   ]
  },
  {
   "cell_type": "code",
   "metadata": {
    "ExecuteTime": {
     "end_time": "2025-06-17T19:23:54.620903Z",
     "start_time": "2025-06-17T19:23:54.614959Z"
    }
   },
   "source": [
    "start_index = message.index('action') + len('action')"
   ],
   "outputs": [],
   "execution_count": 58
  },
  {
   "cell_type": "code",
   "metadata": {
    "ExecuteTime": {
     "end_time": "2025-06-17T19:23:55.239028Z",
     "start_time": "2025-06-17T19:23:55.231152Z"
    }
   },
   "source": [
    "start_index"
   ],
   "outputs": [
    {
     "data": {
      "text/plain": [
       "15"
      ]
     },
     "execution_count": 59,
     "metadata": {},
     "output_type": "execute_result"
    }
   ],
   "execution_count": 59
  },
  {
   "cell_type": "markdown",
   "metadata": {},
   "source": [
    "And we can now search again for that substring:"
   ]
  },
  {
   "cell_type": "code",
   "metadata": {
    "ExecuteTime": {
     "end_time": "2025-06-17T19:23:56.153341Z",
     "start_time": "2025-06-17T19:23:56.145998Z"
    }
   },
   "source": [
    "message.index('action', start_index)"
   ],
   "outputs": [
    {
     "data": {
      "text/plain": [
       "56"
      ]
     },
     "execution_count": 60,
     "metadata": {},
     "output_type": "execute_result"
    }
   ],
   "execution_count": 60
  },
  {
   "cell_type": "markdown",
   "metadata": {},
   "source": [
    "The `find` method works similarly, but does not raise an exception if the substring is not found:"
   ]
  },
  {
   "cell_type": "code",
   "metadata": {
    "ExecuteTime": {
     "end_time": "2025-06-17T19:23:57.273211Z",
     "start_time": "2025-06-17T19:23:57.265677Z"
    }
   },
   "source": [
    "message.find('always')"
   ],
   "outputs": [
    {
     "data": {
      "text/plain": [
       "25"
      ]
     },
     "execution_count": 61,
     "metadata": {},
     "output_type": "execute_result"
    }
   ],
   "execution_count": 61
  },
  {
   "cell_type": "code",
   "metadata": {
    "ExecuteTime": {
     "end_time": "2025-06-17T19:23:57.764140Z",
     "start_time": "2025-06-17T19:23:57.756912Z"
    }
   },
   "source": [
    "message.find('Newton')"
   ],
   "outputs": [
    {
     "data": {
      "text/plain": [
       "-1"
      ]
     },
     "execution_count": 62,
     "metadata": {},
     "output_type": "execute_result"
    }
   ],
   "execution_count": 62
  },
  {
   "cell_type": "markdown",
   "metadata": {},
   "source": [
    "We'll learn how to handle exceptions later in this course, but pick whichever method makes the most sense in the context of your code."
   ]
  },
  {
   "cell_type": "markdown",
   "metadata": {},
   "source": [
    "For example, we may have some code structured to perform some sequence of operations if the substring is not found:"
   ]
  },
  {
   "cell_type": "markdown",
   "metadata": {},
   "source": [
    "We could do it this way:"
   ]
  },
  {
   "cell_type": "code",
   "metadata": {
    "ExecuteTime": {
     "end_time": "2025-06-17T19:23:59.450062Z",
     "start_time": "2025-06-17T19:23:59.442759Z"
    }
   },
   "source": [
    "start = message.find('Newton')\n",
    "if start == -1:\n",
    "    print('doing some complex operations here...')"
   ],
   "outputs": [
    {
     "name": "stdout",
     "output_type": "stream",
     "text": [
      "doing some complex operations here...\n"
     ]
    }
   ],
   "execution_count": 63
  },
  {
   "cell_type": "markdown",
   "metadata": {},
   "source": [
    "Personally, I prefer this next approach, as it is clearer to me what is going on, and does not rely on \"magic\" numbers:"
   ]
  },
  {
   "cell_type": "code",
   "metadata": {
    "ExecuteTime": {
     "end_time": "2025-06-17T19:24:00.509883Z",
     "start_time": "2025-06-17T19:24:00.501635Z"
    }
   },
   "source": [
    "try:\n",
    "    start = message.index('Newton')\n",
    "except ValueError:\n",
    "    print('doing some complex operations here...')"
   ],
   "outputs": [
    {
     "name": "stdout",
     "output_type": "stream",
     "text": [
      "doing some complex operations here...\n"
     ]
    }
   ],
   "execution_count": 64
  },
  {
   "cell_type": "markdown",
   "metadata": {},
   "source": [
    "What's interesting about `index` is that it actually works for other sequence types such as lists and tuples:"
   ]
  },
  {
   "cell_type": "code",
   "metadata": {
    "ExecuteTime": {
     "end_time": "2025-06-17T19:24:01.560770Z",
     "start_time": "2025-06-17T19:24:01.552013Z"
    }
   },
   "source": [
    "data = ['a', 'b', 'c', 'd']"
   ],
   "outputs": [],
   "execution_count": 65
  },
  {
   "cell_type": "code",
   "metadata": {
    "ExecuteTime": {
     "end_time": "2025-06-17T19:24:02.164403Z",
     "start_time": "2025-06-17T19:24:02.157233Z"
    }
   },
   "source": [
    "data.index('b')"
   ],
   "outputs": [
    {
     "data": {
      "text/plain": [
       "1"
      ]
     },
     "execution_count": 66,
     "metadata": {},
     "output_type": "execute_result"
    }
   ],
   "execution_count": 66
  },
  {
   "cell_type": "markdown",
   "metadata": {},
   "source": [
    "`find` on the other hand is specific to strings only."
   ]
  },
  {
   "cell_type": "markdown",
   "metadata": {},
   "source": [
    "One last thing, I mentioned that if you are only interested in knowing if a substring is **present** in a string, the `in` operator is much faster!"
   ]
  },
  {
   "cell_type": "code",
   "metadata": {
    "ExecuteTime": {
     "end_time": "2025-06-17T19:24:03.899145Z",
     "start_time": "2025-06-17T19:24:03.893003Z"
    }
   },
   "source": [
    "from timeit import timeit"
   ],
   "outputs": [],
   "execution_count": 67
  },
  {
   "cell_type": "code",
   "metadata": {
    "ExecuteTime": {
     "end_time": "2025-06-17T19:24:04.439990Z",
     "start_time": "2025-06-17T19:24:04.433987Z"
    }
   },
   "source": [
    "message = 'Imagination is more important than knowledge - Einstein'"
   ],
   "outputs": [],
   "execution_count": 68
  },
  {
   "cell_type": "code",
   "metadata": {
    "ExecuteTime": {
     "end_time": "2025-06-17T19:24:05.620547Z",
     "start_time": "2025-06-17T19:24:05.032631Z"
    }
   },
   "source": [
    "timeit(\"'Einstein' in message\", globals=globals(), number=10_000_000)"
   ],
   "outputs": [
    {
     "data": {
      "text/plain": [
       "0.5798062999965623"
      ]
     },
     "execution_count": 69,
     "metadata": {},
     "output_type": "execute_result"
    }
   ],
   "execution_count": 69
  },
  {
   "cell_type": "code",
   "metadata": {
    "ExecuteTime": {
     "end_time": "2025-06-17T19:24:07.014918Z",
     "start_time": "2025-06-17T19:24:05.739663Z"
    }
   },
   "source": [
    "timeit(\"message.find('Einstein')\", globals=globals(), number=10_000_000)"
   ],
   "outputs": [
    {
     "data": {
      "text/plain": [
       "1.267390199995134"
      ]
     },
     "execution_count": 70,
     "metadata": {},
     "output_type": "execute_result"
    }
   ],
   "execution_count": 70
  },
  {
   "cell_type": "code",
   "metadata": {
    "ExecuteTime": {
     "end_time": "2025-06-17T19:24:09.075811Z",
     "start_time": "2025-06-17T19:24:07.739720Z"
    }
   },
   "source": [
    "timeit(\"message.index('Einstein')\", globals=globals(), number=10_000_000)"
   ],
   "outputs": [
    {
     "data": {
      "text/plain": [
       "1.3293031999928644"
      ]
     },
     "execution_count": 71,
     "metadata": {},
     "output_type": "execute_result"
    }
   ],
   "execution_count": 71
  }
 ],
 "metadata": {
  "kernelspec": {
   "display_name": "Python 3",
   "language": "python",
   "name": "python3"
  },
  "language_info": {
   "codemirror_mode": {
    "name": "ipython",
    "version": 3
   },
   "file_extension": ".py",
   "mimetype": "text/x-python",
   "name": "python",
   "nbconvert_exporter": "python",
   "pygments_lexer": "ipython3",
   "version": "3.9.1"
  }
 },
 "nbformat": 4,
 "nbformat_minor": 4
}
