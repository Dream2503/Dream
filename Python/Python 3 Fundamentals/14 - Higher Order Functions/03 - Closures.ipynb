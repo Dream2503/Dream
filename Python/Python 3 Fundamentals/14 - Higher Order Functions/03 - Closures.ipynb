{
 "cells": [
  {
   "cell_type": "markdown",
   "metadata": {},
   "source": [
    "### Closures"
   ]
  },
  {
   "cell_type": "markdown",
   "metadata": {},
   "source": [
    "Recall from the lecture that a **closure** is basically a function together with an environment that contains some values (the captured, or **free** variables)."
   ]
  },
  {
   "cell_type": "markdown",
   "metadata": {},
   "source": [
    "Let's start with a very simple example."
   ]
  },
  {
   "cell_type": "code",
   "metadata": {
    "ExecuteTime": {
     "end_time": "2025-06-18T04:37:51.756356Z",
     "start_time": "2025-06-18T04:37:51.746662Z"
    }
   },
   "source": [
    "def outer(a, b):\n",
    "    sum_ = a + b\n",
    "    def inner():\n",
    "        prod = a * b\n",
    "        print(a, b, sum_, prod)\n",
    "        return \"You just called a closure!\"\n",
    "    return inner"
   ],
   "outputs": [],
   "execution_count": 1
  },
  {
   "cell_type": "markdown",
   "metadata": {},
   "source": [
    "As you can see calling `outer` will return a **function** that also \"captures\" `a`, `b` and `sum_` where `a` and `b` were arguments passed to the `outer` function and `sum_`was a variable created in the `outer` function. Since `a`, `b` and `sum_` were not created in `inner` but are referenced, they need to come from somewhere - and that somewhere is the outer scope."
   ]
  },
  {
   "cell_type": "code",
   "metadata": {
    "ExecuteTime": {
     "end_time": "2025-06-18T04:37:52.037573Z",
     "start_time": "2025-06-18T04:37:52.032533Z"
    }
   },
   "source": [
    "func = outer(2, 3)"
   ],
   "outputs": [],
   "execution_count": 2
  },
  {
   "cell_type": "code",
   "metadata": {
    "ExecuteTime": {
     "end_time": "2025-06-18T04:37:52.072149Z",
     "start_time": "2025-06-18T04:37:52.062938Z"
    }
   },
   "source": [
    "func"
   ],
   "outputs": [
    {
     "data": {
      "text/plain": [
       "<function __main__.outer.<locals>.inner()>"
      ]
     },
     "execution_count": 3,
     "metadata": {},
     "output_type": "execute_result"
    }
   ],
   "execution_count": 3
  },
  {
   "cell_type": "markdown",
   "metadata": {},
   "source": [
    "As you can see `func` is actually the returned function `inner` - but it is a closure with free variables `a`, `b` and `sum_` that are `2`, `3` and `5` respectively."
   ]
  },
  {
   "cell_type": "markdown",
   "metadata": {},
   "source": [
    "So, we can now **call** `func`:"
   ]
  },
  {
   "cell_type": "code",
   "metadata": {
    "ExecuteTime": {
     "end_time": "2025-06-18T04:37:52.122525Z",
     "start_time": "2025-06-18T04:37:52.117989Z"
    }
   },
   "source": [
    "prod = func()"
   ],
   "outputs": [
    {
     "name": "stdout",
     "output_type": "stream",
     "text": [
      "2 3 5 6\n"
     ]
    }
   ],
   "execution_count": 4
  },
  {
   "cell_type": "code",
   "metadata": {
    "ExecuteTime": {
     "end_time": "2025-06-18T04:37:52.175457Z",
     "start_time": "2025-06-18T04:37:52.167959Z"
    }
   },
   "source": [
    "prod"
   ],
   "outputs": [
    {
     "data": {
      "text/plain": [
       "'You just called a closure!'"
      ]
     },
     "execution_count": 5,
     "metadata": {},
     "output_type": "execute_result"
    }
   ],
   "execution_count": 5
  },
  {
   "cell_type": "markdown",
   "metadata": {},
   "source": [
    "So we are basically using `outer` like a function **factory** which returns not just a function, but a closure, in this case."
   ]
  },
  {
   "cell_type": "markdown",
   "metadata": {},
   "source": [
    "In fact, we can look at the `__closure__` property of that closure:"
   ]
  },
  {
   "cell_type": "code",
   "metadata": {
    "ExecuteTime": {
     "end_time": "2025-06-18T04:37:52.245653Z",
     "start_time": "2025-06-18T04:37:52.239514Z"
    }
   },
   "source": [
    "func.__closure__"
   ],
   "outputs": [
    {
     "data": {
      "text/plain": [
       "(<cell at 0x000001AEA8AA4130: int object at 0x00007FF9563249D8>,\n",
       " <cell at 0x000001AEA84F7130: int object at 0x00007FF9563249F8>,\n",
       " <cell at 0x000001AEA893C7C0: int object at 0x00007FF956324A38>)"
      ]
     },
     "execution_count": 6,
     "metadata": {},
     "output_type": "execute_result"
    }
   ],
   "execution_count": 6
  },
  {
   "cell_type": "markdown",
   "metadata": {},
   "source": [
    "Those **cells** are actually the captured variables - three integers in this case."
   ]
  },
  {
   "cell_type": "markdown",
   "metadata": {},
   "source": [
    "In the following case we do **not** have a closure returned:"
   ]
  },
  {
   "cell_type": "code",
   "metadata": {
    "ExecuteTime": {
     "end_time": "2025-06-18T04:37:52.312856Z",
     "start_time": "2025-06-18T04:37:52.308339Z"
    }
   },
   "source": [
    "def outer(a, b):\n",
    "    def inner(c):\n",
    "        return c ** 2\n",
    "    return inner"
   ],
   "outputs": [],
   "execution_count": 7
  },
  {
   "cell_type": "code",
   "metadata": {
    "ExecuteTime": {
     "end_time": "2025-06-18T04:37:52.869850Z",
     "start_time": "2025-06-18T04:37:52.865167Z"
    }
   },
   "source": [
    "func = outer(1, 2)"
   ],
   "outputs": [],
   "execution_count": 8
  },
  {
   "cell_type": "code",
   "metadata": {
    "ExecuteTime": {
     "end_time": "2025-06-18T04:37:53.398710Z",
     "start_time": "2025-06-18T04:37:53.394179Z"
    }
   },
   "source": [
    "func.__closure__"
   ],
   "outputs": [],
   "execution_count": 9
  },
  {
   "cell_type": "markdown",
   "metadata": {},
   "source": [
    "As you can see there were no \"captured\" (free) variables here."
   ]
  },
  {
   "cell_type": "markdown",
   "metadata": {},
   "source": [
    "So `func` is still the `inner` function, but that is not a closure (there are no variables that were \"captured\" by `inner`)."
   ]
  },
  {
   "cell_type": "markdown",
   "metadata": {},
   "source": [
    "Closures serve a critical role in creating Python decorators that we will study in an upcoming chapter."
   ]
  },
  {
   "cell_type": "markdown",
   "metadata": {},
   "source": [
    "We saw a simple application of closures in the lecture:"
   ]
  },
  {
   "cell_type": "code",
   "metadata": {
    "ExecuteTime": {
     "end_time": "2025-06-18T04:37:54.208063Z",
     "start_time": "2025-06-18T04:37:54.202021Z"
    }
   },
   "source": [
    "def power(n):\n",
    "    def inner(x):\n",
    "        return x ** n\n",
    "    return inner"
   ],
   "outputs": [],
   "execution_count": 10
  },
  {
   "cell_type": "markdown",
   "metadata": {},
   "source": [
    "As you can see the `inner` function that is returned by calling `power` is going to be a closure, since `n` is a free variable in `inner`:"
   ]
  },
  {
   "cell_type": "code",
   "metadata": {
    "ExecuteTime": {
     "end_time": "2025-06-18T04:37:54.768925Z",
     "start_time": "2025-06-18T04:37:54.763864Z"
    }
   },
   "source": [
    "square = power(2)\n",
    "cube = power(3)"
   ],
   "outputs": [],
   "execution_count": 11
  },
  {
   "cell_type": "markdown",
   "metadata": {},
   "source": [
    "So `square` is a closure that will return `x**n` where `n` is fixed to `2`, and `cube` will be a closure that also returns `x ** n` but with `n` fixed to `3`:"
   ]
  },
  {
   "cell_type": "code",
   "metadata": {
    "ExecuteTime": {
     "end_time": "2025-06-18T04:37:54.906356Z",
     "start_time": "2025-06-18T04:37:54.900591Z"
    }
   },
   "source": [
    "square(4)"
   ],
   "outputs": [
    {
     "data": {
      "text/plain": [
       "16"
      ]
     },
     "execution_count": 12,
     "metadata": {},
     "output_type": "execute_result"
    }
   ],
   "execution_count": 12
  },
  {
   "cell_type": "code",
   "metadata": {
    "ExecuteTime": {
     "end_time": "2025-06-18T04:37:55.122521Z",
     "start_time": "2025-06-18T04:37:55.116111Z"
    }
   },
   "source": [
    "cube(3)"
   ],
   "outputs": [
    {
     "data": {
      "text/plain": [
       "27"
      ]
     },
     "execution_count": 13,
     "metadata": {},
     "output_type": "execute_result"
    }
   ],
   "execution_count": 13
  },
  {
   "cell_type": "markdown",
   "metadata": {},
   "source": [
    "Free variables in a closure can be any object, including a function.\n",
    "\n",
    "Let's see a completely useless example that illustrates this as simply as possible first:"
   ]
  },
  {
   "cell_type": "code",
   "metadata": {
    "ExecuteTime": {
     "end_time": "2025-06-18T04:37:55.178329Z",
     "start_time": "2025-06-18T04:37:55.172265Z"
    }
   },
   "source": [
    "def execute(func):\n",
    "    def inner(a, b):\n",
    "        result = func(a, b)\n",
    "        return result\n",
    "    return inner"
   ],
   "outputs": [],
   "execution_count": 14
  },
  {
   "cell_type": "markdown",
   "metadata": {},
   "source": [
    "So here, `inner` contains the free variable `func` , which we are going to use to pass a function. `inner` will be returned by `execute`, and we can call `func` by calling `inner` with some arguments:"
   ]
  },
  {
   "cell_type": "code",
   "metadata": {
    "ExecuteTime": {
     "end_time": "2025-06-18T04:37:55.256742Z",
     "start_time": "2025-06-18T04:37:55.250411Z"
    }
   },
   "source": [
    "def add(a, b):\n",
    "    print('running add...')\n",
    "    return a + b"
   ],
   "outputs": [],
   "execution_count": 15
  },
  {
   "cell_type": "code",
   "metadata": {
    "ExecuteTime": {
     "end_time": "2025-06-18T04:37:55.300154Z",
     "start_time": "2025-06-18T04:37:55.291955Z"
    }
   },
   "source": [
    "add_executor = execute(add)"
   ],
   "outputs": [],
   "execution_count": 16
  },
  {
   "cell_type": "markdown",
   "metadata": {},
   "source": [
    "So `inner`'s free variable `func` is the `add` function."
   ]
  },
  {
   "cell_type": "code",
   "metadata": {
    "ExecuteTime": {
     "end_time": "2025-06-18T04:37:56.167156Z",
     "start_time": "2025-06-18T04:37:56.159442Z"
    }
   },
   "source": [
    "add_executor(2, 3)"
   ],
   "outputs": [
    {
     "name": "stdout",
     "output_type": "stream",
     "text": [
      "running add...\n"
     ]
    },
    {
     "data": {
      "text/plain": [
       "5"
      ]
     },
     "execution_count": 17,
     "metadata": {},
     "output_type": "execute_result"
    }
   ],
   "execution_count": 17
  },
  {
   "cell_type": "markdown",
   "metadata": {},
   "source": [
    "Now, `inner` is restrictive as to what arguments can be passed to it: two mandatory positional arguments, which means that `func` must also be a function that takes two positional arguments."
   ]
  },
  {
   "cell_type": "markdown",
   "metadata": {},
   "source": [
    "We can this a lot more generic, by using `*args` and `**kwargs`:"
   ]
  },
  {
   "cell_type": "code",
   "metadata": {
    "ExecuteTime": {
     "end_time": "2025-06-18T04:37:56.404338Z",
     "start_time": "2025-06-18T04:37:56.396307Z"
    }
   },
   "source": [
    "def execute(func):\n",
    "    def inner(*args, **kwargs):\n",
    "        result = func(*args, **kwargs)\n",
    "        return result\n",
    "    return inner"
   ],
   "outputs": [],
   "execution_count": 18
  },
  {
   "cell_type": "code",
   "metadata": {
    "ExecuteTime": {
     "end_time": "2025-06-18T04:37:56.704219Z",
     "start_time": "2025-06-18T04:37:56.698702Z"
    }
   },
   "source": [
    "def add(a, b, c):\n",
    "    print('add...')\n",
    "    return a + b + c\n",
    "\n",
    "def say_hello(name, *, formal=True):\n",
    "    print('say_hello...')\n",
    "    if formal:\n",
    "        return f'Pleased to meet you, {name}'\n",
    "    else:\n",
    "        return f'Hi, {name}!'"
   ],
   "outputs": [],
   "execution_count": 19
  },
  {
   "cell_type": "code",
   "metadata": {
    "ExecuteTime": {
     "end_time": "2025-06-18T04:37:56.877665Z",
     "start_time": "2025-06-18T04:37:56.872061Z"
    }
   },
   "source": [
    "exec_add = execute(add)\n",
    "exec_greet = execute(say_hello)"
   ],
   "outputs": [],
   "execution_count": 20
  },
  {
   "cell_type": "code",
   "metadata": {
    "ExecuteTime": {
     "end_time": "2025-06-18T04:37:56.915162Z",
     "start_time": "2025-06-18T04:37:56.909134Z"
    }
   },
   "source": [
    "exec_add(1, 2, 3)"
   ],
   "outputs": [
    {
     "name": "stdout",
     "output_type": "stream",
     "text": [
      "add...\n"
     ]
    },
    {
     "data": {
      "text/plain": [
       "6"
      ]
     },
     "execution_count": 21,
     "metadata": {},
     "output_type": "execute_result"
    }
   ],
   "execution_count": 21
  },
  {
   "cell_type": "code",
   "metadata": {
    "ExecuteTime": {
     "end_time": "2025-06-18T04:37:56.977303Z",
     "start_time": "2025-06-18T04:37:56.970716Z"
    }
   },
   "source": [
    "exec_greet('Michael', formal=False)"
   ],
   "outputs": [
    {
     "name": "stdout",
     "output_type": "stream",
     "text": [
      "say_hello...\n"
     ]
    },
    {
     "data": {
      "text/plain": [
       "'Hi, Michael!'"
      ]
     },
     "execution_count": 22,
     "metadata": {},
     "output_type": "execute_result"
    }
   ],
   "execution_count": 22
  },
  {
   "cell_type": "markdown",
   "metadata": {},
   "source": [
    "So by using `*args` and `**kwargs` we can basically handle passing arguments to any `func` - of course we have to pass the appropriate parameters for whichever `func` is in the closure."
   ]
  },
  {
   "cell_type": "markdown",
   "metadata": {},
   "source": [
    "So why is this useful?\n",
    "\n",
    "We'll come back to this with decorators, but consider a situation where we want to time how long certain functions take to run."
   ]
  },
  {
   "cell_type": "markdown",
   "metadata": {},
   "source": [
    "We might have these two functions:"
   ]
  },
  {
   "cell_type": "code",
   "metadata": {
    "ExecuteTime": {
     "end_time": "2025-06-18T04:37:57.051801Z",
     "start_time": "2025-06-18T04:37:57.046251Z"
    }
   },
   "source": [
    "def factorial(n):\n",
    "    prod = 1\n",
    "    for i in range(2, n+1):\n",
    "        prod = prod * i\n",
    "    return prod"
   ],
   "outputs": [],
   "execution_count": 23
  },
  {
   "cell_type": "code",
   "metadata": {
    "ExecuteTime": {
     "end_time": "2025-06-18T04:37:57.082174Z",
     "start_time": "2025-06-18T04:37:57.076260Z"
    }
   },
   "source": [
    "def diagonal_matrix(rows, cols, *, diagonal=1):\n",
    "     return [\n",
    "         [\n",
    "             diagonal if row == col else 0 \n",
    "             for col in range(cols)\n",
    "         ] \n",
    "         for row in range(rows)\n",
    "     ]        "
   ],
   "outputs": [],
   "execution_count": 24
  },
  {
   "cell_type": "code",
   "metadata": {
    "ExecuteTime": {
     "end_time": "2025-06-18T04:37:57.108878Z",
     "start_time": "2025-06-18T04:37:57.101743Z"
    }
   },
   "source": [
    "factorial(4)"
   ],
   "outputs": [
    {
     "data": {
      "text/plain": [
       "24"
      ]
     },
     "execution_count": 25,
     "metadata": {},
     "output_type": "execute_result"
    }
   ],
   "execution_count": 25
  },
  {
   "cell_type": "code",
   "metadata": {
    "ExecuteTime": {
     "end_time": "2025-06-18T04:37:57.149719Z",
     "start_time": "2025-06-18T04:37:57.143815Z"
    }
   },
   "source": [
    "diagonal_matrix(3, 3, diagonal=-1)"
   ],
   "outputs": [
    {
     "data": {
      "text/plain": [
       "[[-1, 0, 0], [0, -1, 0], [0, 0, -1]]"
      ]
     },
     "execution_count": 26,
     "metadata": {},
     "output_type": "execute_result"
    }
   ],
   "execution_count": 26
  },
  {
   "cell_type": "markdown",
   "metadata": {},
   "source": [
    "So if we now want to time these two functions, we might write code like this:"
   ]
  },
  {
   "cell_type": "code",
   "metadata": {
    "ExecuteTime": {
     "end_time": "2025-06-18T04:37:57.209009Z",
     "start_time": "2025-06-18T04:37:57.205032Z"
    }
   },
   "source": [
    "from time import perf_counter"
   ],
   "outputs": [],
   "execution_count": 27
  },
  {
   "cell_type": "code",
   "metadata": {
    "ExecuteTime": {
     "end_time": "2025-06-18T04:37:57.647623Z",
     "start_time": "2025-06-18T04:37:57.233947Z"
    }
   },
   "source": [
    "start = perf_counter()\n",
    "result = factorial(10_000)\n",
    "end = perf_counter()\n",
    "print(f'elapsed: {end - start}')\n",
    "print(f'result = {result}')"
   ],
   "outputs": [
    {
     "name": "stdout",
     "output_type": "stream",
     "text": [
      "elapsed: 0.03707360000407789\n"
     ]
    },
    {
     "ename": "ValueError",
     "evalue": "Exceeds the limit (4300 digits) for integer string conversion; use sys.set_int_max_str_digits() to increase the limit",
     "output_type": "error",
     "traceback": [
      "\u001B[1;31m---------------------------------------------------------------------------\u001B[0m",
      "\u001B[1;31mValueError\u001B[0m                                Traceback (most recent call last)",
      "Cell \u001B[1;32mIn[28], line 5\u001B[0m\n\u001B[0;32m      3\u001B[0m end \u001B[38;5;241m=\u001B[39m perf_counter()\n\u001B[0;32m      4\u001B[0m \u001B[38;5;28mprint\u001B[39m(\u001B[38;5;124mf\u001B[39m\u001B[38;5;124m'\u001B[39m\u001B[38;5;124melapsed: \u001B[39m\u001B[38;5;132;01m{\u001B[39;00mend\u001B[38;5;250m \u001B[39m\u001B[38;5;241m-\u001B[39m\u001B[38;5;250m \u001B[39mstart\u001B[38;5;132;01m}\u001B[39;00m\u001B[38;5;124m'\u001B[39m)\n\u001B[1;32m----> 5\u001B[0m \u001B[38;5;28mprint\u001B[39m(\u001B[38;5;124mf\u001B[39m\u001B[38;5;124m'\u001B[39m\u001B[38;5;124mresult = \u001B[39m\u001B[38;5;132;43;01m{\u001B[39;49;00m\u001B[43mresult\u001B[49m\u001B[38;5;132;43;01m}\u001B[39;49;00m\u001B[38;5;124m'\u001B[39m)\n",
      "\u001B[1;31mValueError\u001B[0m: Exceeds the limit (4300 digits) for integer string conversion; use sys.set_int_max_str_digits() to increase the limit"
     ]
    }
   ],
   "execution_count": 28
  },
  {
   "cell_type": "markdown",
   "metadata": {},
   "source": [
    "And if we want to time `diagonal_matrix` we wold have to repeat essentially the same code, except which function (and arguments) to use:"
   ]
  },
  {
   "cell_type": "code",
   "metadata": {
    "ExecuteTime": {
     "end_time": "2025-06-18T04:37:57.867169Z",
     "start_time": "2025-06-18T04:37:57.861042Z"
    }
   },
   "source": [
    "start = perf_counter()\n",
    "result = diagonal_matrix(10, 10, diagonal=-1)\n",
    "end = perf_counter()\n",
    "print(f'elapsed: {end - start}')\n",
    "print(f'result = {result}')"
   ],
   "outputs": [
    {
     "name": "stdout",
     "output_type": "stream",
     "text": [
      "elapsed: 0.00010080001084133983\n",
      "result = [[-1, 0, 0, 0, 0, 0, 0, 0, 0, 0], [0, -1, 0, 0, 0, 0, 0, 0, 0, 0], [0, 0, -1, 0, 0, 0, 0, 0, 0, 0], [0, 0, 0, -1, 0, 0, 0, 0, 0, 0], [0, 0, 0, 0, -1, 0, 0, 0, 0, 0], [0, 0, 0, 0, 0, -1, 0, 0, 0, 0], [0, 0, 0, 0, 0, 0, -1, 0, 0, 0], [0, 0, 0, 0, 0, 0, 0, -1, 0, 0], [0, 0, 0, 0, 0, 0, 0, 0, -1, 0], [0, 0, 0, 0, 0, 0, 0, 0, 0, -1]]\n"
     ]
    }
   ],
   "execution_count": 29
  },
  {
   "cell_type": "markdown",
   "metadata": {},
   "source": [
    "We really don't want to be writing timing code like this every time we need to time a function - we may want to do this hundreds of times in our program."
   ]
  },
  {
   "cell_type": "markdown",
   "metadata": {},
   "source": [
    "Our goal is to use another function to wrap the timing code around our own function, execute the function, returning the result, and printing the timing information out."
   ]
  },
  {
   "cell_type": "markdown",
   "metadata": {},
   "source": [
    "We could start with something like this:"
   ]
  },
  {
   "cell_type": "code",
   "metadata": {
    "ExecuteTime": {
     "end_time": "2025-06-18T04:38:08.069829Z",
     "start_time": "2025-06-18T04:38:08.063874Z"
    }
   },
   "source": [
    "def time_it(func, *args, **kwargs):\n",
    "    start = perf_counter()\n",
    "    result = func(*args, **kwargs)\n",
    "    end = perf_counter()\n",
    "    print(f'elapsed: {end - start}')\n",
    "    return result"
   ],
   "outputs": [],
   "execution_count": 30
  },
  {
   "cell_type": "code",
   "metadata": {
    "ExecuteTime": {
     "end_time": "2025-06-18T04:38:08.331378Z",
     "start_time": "2025-06-18T04:38:08.288472Z"
    }
   },
   "source": [
    "result = time_it(factorial, 10_000)"
   ],
   "outputs": [
    {
     "name": "stdout",
     "output_type": "stream",
     "text": [
      "elapsed: 0.03692189999856055\n"
     ]
    }
   ],
   "execution_count": 31
  },
  {
   "cell_type": "code",
   "metadata": {
    "ExecuteTime": {
     "end_time": "2025-06-18T04:38:08.844080Z",
     "start_time": "2025-06-18T04:38:08.690682Z"
    }
   },
   "source": [
    "result"
   ],
   "outputs": [
    {
     "ename": "ValueError",
     "evalue": "Exceeds the limit (4300 digits) for integer string conversion; use sys.set_int_max_str_digits() to increase the limit",
     "output_type": "error",
     "traceback": [
      "\u001B[1;31m---------------------------------------------------------------------------\u001B[0m",
      "\u001B[1;31mValueError\u001B[0m                                Traceback (most recent call last)",
      "File \u001B[1;32m~\\AppData\\Local\\Packages\\PythonSoftwareFoundation.Python.3.12_qbz5n2kfra8p0\\LocalCache\\local-packages\\Python312\\site-packages\\IPython\\core\\formatters.py:770\u001B[0m, in \u001B[0;36mPlainTextFormatter.__call__\u001B[1;34m(self, obj)\u001B[0m\n\u001B[0;32m    763\u001B[0m stream \u001B[38;5;241m=\u001B[39m StringIO()\n\u001B[0;32m    764\u001B[0m printer \u001B[38;5;241m=\u001B[39m pretty\u001B[38;5;241m.\u001B[39mRepresentationPrinter(stream, \u001B[38;5;28mself\u001B[39m\u001B[38;5;241m.\u001B[39mverbose,\n\u001B[0;32m    765\u001B[0m     \u001B[38;5;28mself\u001B[39m\u001B[38;5;241m.\u001B[39mmax_width, \u001B[38;5;28mself\u001B[39m\u001B[38;5;241m.\u001B[39mnewline,\n\u001B[0;32m    766\u001B[0m     max_seq_length\u001B[38;5;241m=\u001B[39m\u001B[38;5;28mself\u001B[39m\u001B[38;5;241m.\u001B[39mmax_seq_length,\n\u001B[0;32m    767\u001B[0m     singleton_pprinters\u001B[38;5;241m=\u001B[39m\u001B[38;5;28mself\u001B[39m\u001B[38;5;241m.\u001B[39msingleton_printers,\n\u001B[0;32m    768\u001B[0m     type_pprinters\u001B[38;5;241m=\u001B[39m\u001B[38;5;28mself\u001B[39m\u001B[38;5;241m.\u001B[39mtype_printers,\n\u001B[0;32m    769\u001B[0m     deferred_pprinters\u001B[38;5;241m=\u001B[39m\u001B[38;5;28mself\u001B[39m\u001B[38;5;241m.\u001B[39mdeferred_printers)\n\u001B[1;32m--> 770\u001B[0m \u001B[43mprinter\u001B[49m\u001B[38;5;241;43m.\u001B[39;49m\u001B[43mpretty\u001B[49m\u001B[43m(\u001B[49m\u001B[43mobj\u001B[49m\u001B[43m)\u001B[49m\n\u001B[0;32m    771\u001B[0m printer\u001B[38;5;241m.\u001B[39mflush()\n\u001B[0;32m    772\u001B[0m \u001B[38;5;28;01mreturn\u001B[39;00m stream\u001B[38;5;241m.\u001B[39mgetvalue()\n",
      "File \u001B[1;32m~\\AppData\\Local\\Packages\\PythonSoftwareFoundation.Python.3.12_qbz5n2kfra8p0\\LocalCache\\local-packages\\Python312\\site-packages\\IPython\\lib\\pretty.py:394\u001B[0m, in \u001B[0;36mRepresentationPrinter.pretty\u001B[1;34m(self, obj)\u001B[0m\n\u001B[0;32m    391\u001B[0m \u001B[38;5;28;01mfor\u001B[39;00m \u001B[38;5;28mcls\u001B[39m \u001B[38;5;129;01min\u001B[39;00m _get_mro(obj_class):\n\u001B[0;32m    392\u001B[0m     \u001B[38;5;28;01mif\u001B[39;00m \u001B[38;5;28mcls\u001B[39m \u001B[38;5;129;01min\u001B[39;00m \u001B[38;5;28mself\u001B[39m\u001B[38;5;241m.\u001B[39mtype_pprinters:\n\u001B[0;32m    393\u001B[0m         \u001B[38;5;66;03m# printer registered in self.type_pprinters\u001B[39;00m\n\u001B[1;32m--> 394\u001B[0m         \u001B[38;5;28;01mreturn\u001B[39;00m \u001B[38;5;28;43mself\u001B[39;49m\u001B[38;5;241;43m.\u001B[39;49m\u001B[43mtype_pprinters\u001B[49m\u001B[43m[\u001B[49m\u001B[38;5;28;43mcls\u001B[39;49m\u001B[43m]\u001B[49m\u001B[43m(\u001B[49m\u001B[43mobj\u001B[49m\u001B[43m,\u001B[49m\u001B[43m \u001B[49m\u001B[38;5;28;43mself\u001B[39;49m\u001B[43m,\u001B[49m\u001B[43m \u001B[49m\u001B[43mcycle\u001B[49m\u001B[43m)\u001B[49m\n\u001B[0;32m    395\u001B[0m     \u001B[38;5;28;01melse\u001B[39;00m:\n\u001B[0;32m    396\u001B[0m         \u001B[38;5;66;03m# deferred printer\u001B[39;00m\n\u001B[0;32m    397\u001B[0m         printer \u001B[38;5;241m=\u001B[39m \u001B[38;5;28mself\u001B[39m\u001B[38;5;241m.\u001B[39m_in_deferred_types(\u001B[38;5;28mcls\u001B[39m)\n",
      "File \u001B[1;32m~\\AppData\\Local\\Packages\\PythonSoftwareFoundation.Python.3.12_qbz5n2kfra8p0\\LocalCache\\local-packages\\Python312\\site-packages\\IPython\\lib\\pretty.py:794\u001B[0m, in \u001B[0;36m_repr_pprint\u001B[1;34m(obj, p, cycle)\u001B[0m\n\u001B[0;32m    792\u001B[0m \u001B[38;5;250m\u001B[39m\u001B[38;5;124;03m\"\"\"A pprint that just redirects to the normal repr function.\"\"\"\u001B[39;00m\n\u001B[0;32m    793\u001B[0m \u001B[38;5;66;03m# Find newlines and replace them with p.break_()\u001B[39;00m\n\u001B[1;32m--> 794\u001B[0m output \u001B[38;5;241m=\u001B[39m \u001B[38;5;28;43mrepr\u001B[39;49m\u001B[43m(\u001B[49m\u001B[43mobj\u001B[49m\u001B[43m)\u001B[49m\n\u001B[0;32m    795\u001B[0m lines \u001B[38;5;241m=\u001B[39m output\u001B[38;5;241m.\u001B[39msplitlines()\n\u001B[0;32m    796\u001B[0m \u001B[38;5;28;01mwith\u001B[39;00m p\u001B[38;5;241m.\u001B[39mgroup():\n",
      "\u001B[1;31mValueError\u001B[0m: Exceeds the limit (4300 digits) for integer string conversion; use sys.set_int_max_str_digits() to increase the limit"
     ]
    }
   ],
   "execution_count": 32
  },
  {
   "cell_type": "markdown",
   "metadata": {},
   "source": [
    "And we can use the exact same function to time the diagonal matrix generator:"
   ]
  },
  {
   "cell_type": "code",
   "metadata": {
    "ExecuteTime": {
     "end_time": "2025-06-18T04:38:17.260411Z",
     "start_time": "2025-06-18T04:38:17.253924Z"
    }
   },
   "source": [
    "result = time_it(diagonal_matrix, 10, 10, diagonal=-1)"
   ],
   "outputs": [
    {
     "name": "stdout",
     "output_type": "stream",
     "text": [
      "elapsed: 1.5599987818859518e-05\n"
     ]
    }
   ],
   "execution_count": 33
  },
  {
   "cell_type": "code",
   "metadata": {
    "ExecuteTime": {
     "end_time": "2025-06-18T04:38:17.774983Z",
     "start_time": "2025-06-18T04:38:17.765505Z"
    }
   },
   "source": [
    "result"
   ],
   "outputs": [
    {
     "data": {
      "text/plain": [
       "[[-1, 0, 0, 0, 0, 0, 0, 0, 0, 0],\n",
       " [0, -1, 0, 0, 0, 0, 0, 0, 0, 0],\n",
       " [0, 0, -1, 0, 0, 0, 0, 0, 0, 0],\n",
       " [0, 0, 0, -1, 0, 0, 0, 0, 0, 0],\n",
       " [0, 0, 0, 0, -1, 0, 0, 0, 0, 0],\n",
       " [0, 0, 0, 0, 0, -1, 0, 0, 0, 0],\n",
       " [0, 0, 0, 0, 0, 0, -1, 0, 0, 0],\n",
       " [0, 0, 0, 0, 0, 0, 0, -1, 0, 0],\n",
       " [0, 0, 0, 0, 0, 0, 0, 0, -1, 0],\n",
       " [0, 0, 0, 0, 0, 0, 0, 0, 0, -1]]"
      ]
     },
     "execution_count": 34,
     "metadata": {},
     "output_type": "execute_result"
    }
   ],
   "execution_count": 34
  },
  {
   "cell_type": "markdown",
   "metadata": {},
   "source": [
    "But one thing that is not very nice about this, is that we have to remember to call `time_it(func)` every time we want to use `func`."
   ]
  },
  {
   "cell_type": "markdown",
   "metadata": {},
   "source": [
    "So, instead, let's use a closure to make this whole process a little more natural, and easier to read:"
   ]
  },
  {
   "cell_type": "code",
   "metadata": {
    "ExecuteTime": {
     "end_time": "2025-06-18T04:38:19.076767Z",
     "start_time": "2025-06-18T04:38:19.069306Z"
    }
   },
   "source": [
    "def time_it(func):\n",
    "    def inner(*args, **kwargs):\n",
    "        # inner is actually going to time and run func\n",
    "        start = perf_counter()\n",
    "        result = func(*args, **kwargs)  # func is a free variable\n",
    "        end = perf_counter()\n",
    "        print(f'elapsed: {end - start}')\n",
    "        return result\n",
    "    return inner"
   ],
   "outputs": [],
   "execution_count": 35
  },
  {
   "cell_type": "markdown",
   "metadata": {},
   "source": [
    "So now, we can create new functions that are the timed versions of our original functions:"
   ]
  },
  {
   "cell_type": "code",
   "metadata": {
    "ExecuteTime": {
     "end_time": "2025-06-18T04:38:19.902371Z",
     "start_time": "2025-06-18T04:38:19.895080Z"
    }
   },
   "source": [
    "timed_fact = time_it(factorial)\n",
    "timed_diagonal = time_it(diagonal_matrix)"
   ],
   "outputs": [],
   "execution_count": 36
  },
  {
   "cell_type": "code",
   "metadata": {
    "ExecuteTime": {
     "end_time": "2025-06-18T04:38:20.342681Z",
     "start_time": "2025-06-18T04:38:20.335799Z"
    }
   },
   "source": [
    "result = timed_fact(5)"
   ],
   "outputs": [
    {
     "name": "stdout",
     "output_type": "stream",
     "text": [
      "elapsed: 2.900007530115545e-06\n"
     ]
    }
   ],
   "execution_count": 37
  },
  {
   "cell_type": "code",
   "metadata": {
    "ExecuteTime": {
     "end_time": "2025-06-18T04:38:25.074010Z",
     "start_time": "2025-06-18T04:38:20.574873Z"
    }
   },
   "source": [
    "result = timed_fact(100_000)"
   ],
   "outputs": [
    {
     "name": "stdout",
     "output_type": "stream",
     "text": [
      "elapsed: 4.49383229999512\n"
     ]
    }
   ],
   "execution_count": 38
  },
  {
   "cell_type": "code",
   "metadata": {
    "ExecuteTime": {
     "end_time": "2025-06-18T04:38:25.099312Z",
     "start_time": "2025-06-18T04:38:25.093002Z"
    }
   },
   "source": [
    "result = timed_diagonal(10, 10, diagonal=-1)"
   ],
   "outputs": [
    {
     "name": "stdout",
     "output_type": "stream",
     "text": [
      "elapsed: 2.3499989765696228e-05\n"
     ]
    }
   ],
   "execution_count": 39
  },
  {
   "cell_type": "markdown",
   "metadata": {},
   "source": [
    "We'll actually come back to this very example (and others) when we study decorators. But the above application of closures is a very common one in Python."
   ]
  }
 ],
 "metadata": {
  "kernelspec": {
   "display_name": "Python 3",
   "language": "python",
   "name": "python3"
  },
  "language_info": {
   "codemirror_mode": {
    "name": "ipython",
    "version": 3
   },
   "file_extension": ".py",
   "mimetype": "text/x-python",
   "name": "python",
   "nbconvert_exporter": "python",
   "pygments_lexer": "ipython3",
   "version": "3.9.1"
  }
 },
 "nbformat": 4,
 "nbformat_minor": 4
}
