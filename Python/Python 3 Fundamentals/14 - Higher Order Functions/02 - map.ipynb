{
 "cells": [
  {
   "cell_type": "markdown",
   "metadata": {},
   "source": [
    "### map"
   ]
  },
  {
   "cell_type": "markdown",
   "metadata": {},
   "source": [
    "The `map()` function creates an iterator that applies a given function to an iterable, element by element."
   ]
  },
  {
   "cell_type": "markdown",
   "metadata": {},
   "source": [
    "Let's see a simple example of this:"
   ]
  },
  {
   "cell_type": "code",
   "metadata": {
    "ExecuteTime": {
     "end_time": "2025-06-18T04:37:43.480398Z",
     "start_time": "2025-06-18T04:37:43.472803Z"
    }
   },
   "source": [
    "data = ['a', 'ab', 'abc', 'abcd']"
   ],
   "outputs": [],
   "execution_count": 1
  },
  {
   "cell_type": "markdown",
   "metadata": {},
   "source": [
    "Suppose we want to get the length of each string in `data`."
   ]
  },
  {
   "cell_type": "markdown",
   "metadata": {},
   "source": [
    "We could certainly do it this way:"
   ]
  },
  {
   "cell_type": "code",
   "metadata": {
    "ExecuteTime": {
     "end_time": "2025-06-18T04:37:43.839054Z",
     "start_time": "2025-06-18T04:37:43.834514Z"
    }
   },
   "source": [
    "lengths = [len(element) for element in data]"
   ],
   "outputs": [],
   "execution_count": 2
  },
  {
   "cell_type": "code",
   "metadata": {
    "ExecuteTime": {
     "end_time": "2025-06-18T04:37:43.878829Z",
     "start_time": "2025-06-18T04:37:43.869743Z"
    }
   },
   "source": [
    "lengths"
   ],
   "outputs": [
    {
     "data": {
      "text/plain": [
       "[1, 2, 3, 4]"
      ]
     },
     "execution_count": 3,
     "metadata": {},
     "output_type": "execute_result"
    }
   ],
   "execution_count": 3
  },
  {
   "cell_type": "markdown",
   "metadata": {},
   "source": [
    "One disadvantage here is that we created a list.\n",
    "\n",
    "If we don't need to iterate over this multiple times (or it's small and computationally cheap), we could use a generator expression instead:"
   ]
  },
  {
   "cell_type": "code",
   "metadata": {
    "ExecuteTime": {
     "end_time": "2025-06-18T04:37:43.959765Z",
     "start_time": "2025-06-18T04:37:43.954225Z"
    }
   },
   "source": [
    "lengths = (len(element) for element in data)"
   ],
   "outputs": [],
   "execution_count": 4
  },
  {
   "cell_type": "code",
   "metadata": {
    "ExecuteTime": {
     "end_time": "2025-06-18T04:37:44.025300Z",
     "start_time": "2025-06-18T04:37:44.019413Z"
    }
   },
   "source": [
    "list(lengths)"
   ],
   "outputs": [
    {
     "data": {
      "text/plain": [
       "[1, 2, 3, 4]"
      ]
     },
     "execution_count": 5,
     "metadata": {},
     "output_type": "execute_result"
    }
   ],
   "execution_count": 5
  },
  {
   "cell_type": "markdown",
   "metadata": {},
   "source": [
    "But we could also use the `map` function, which offers a slightly cleaner syntax:"
   ]
  },
  {
   "cell_type": "code",
   "metadata": {
    "ExecuteTime": {
     "end_time": "2025-06-18T04:37:44.106508Z",
     "start_time": "2025-06-18T04:37:44.101984Z"
    }
   },
   "source": [
    "lengths = map(len, data)"
   ],
   "outputs": [],
   "execution_count": 6
  },
  {
   "cell_type": "markdown",
   "metadata": {},
   "source": [
    "Now the result of `map` is not a list, or a tuple, but an iterator."
   ]
  },
  {
   "cell_type": "code",
   "metadata": {
    "ExecuteTime": {
     "end_time": "2025-06-18T04:37:44.180939Z",
     "start_time": "2025-06-18T04:37:44.174297Z"
    }
   },
   "source": [
    "lengths"
   ],
   "outputs": [
    {
     "data": {
      "text/plain": [
       "<map at 0x1d209c30070>"
      ]
     },
     "execution_count": 7,
     "metadata": {},
     "output_type": "execute_result"
    }
   ],
   "execution_count": 7
  },
  {
   "cell_type": "markdown",
   "metadata": {},
   "source": [
    "We can iterate through it:"
   ]
  },
  {
   "cell_type": "code",
   "metadata": {
    "ExecuteTime": {
     "end_time": "2025-06-18T04:37:44.243414Z",
     "start_time": "2025-06-18T04:37:44.238038Z"
    }
   },
   "source": [
    "list(lengths)"
   ],
   "outputs": [
    {
     "data": {
      "text/plain": [
       "[1, 2, 3, 4]"
      ]
     },
     "execution_count": 8,
     "metadata": {},
     "output_type": "execute_result"
    }
   ],
   "execution_count": 8
  },
  {
   "cell_type": "markdown",
   "metadata": {},
   "source": [
    "But of course, the iterator is now exhausted (this is similar to the `zip` function):"
   ]
  },
  {
   "cell_type": "code",
   "metadata": {
    "ExecuteTime": {
     "end_time": "2025-06-18T04:37:44.335388Z",
     "start_time": "2025-06-18T04:37:44.329235Z"
    }
   },
   "source": [
    "list(lengths)"
   ],
   "outputs": [
    {
     "data": {
      "text/plain": [
       "[]"
      ]
     },
     "execution_count": 9,
     "metadata": {},
     "output_type": "execute_result"
    }
   ],
   "execution_count": 9
  },
  {
   "cell_type": "markdown",
   "metadata": {},
   "source": [
    "It's important to understand that these kinds of iterators/generators are far more efficient than building a list like we did with the comprehension just now."
   ]
  }
 ],
 "metadata": {
  "kernelspec": {
   "display_name": "Python 3",
   "language": "python",
   "name": "python3"
  },
  "language_info": {
   "codemirror_mode": {
    "name": "ipython",
    "version": 3
   },
   "file_extension": ".py",
   "mimetype": "text/x-python",
   "name": "python",
   "nbconvert_exporter": "python",
   "pygments_lexer": "ipython3",
   "version": "3.9.1"
  }
 },
 "nbformat": 4,
 "nbformat_minor": 4
}
