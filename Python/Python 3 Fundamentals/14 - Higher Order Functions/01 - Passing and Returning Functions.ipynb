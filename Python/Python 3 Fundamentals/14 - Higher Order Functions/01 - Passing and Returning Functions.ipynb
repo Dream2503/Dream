{
 "cells": [
  {
   "cell_type": "markdown",
   "metadata": {},
   "source": [
    "### Passing and Returning Functions"
   ]
  },
  {
   "cell_type": "markdown",
   "metadata": {},
   "source": [
    "We can pass functions as arguments to other functions."
   ]
  },
  {
   "cell_type": "code",
   "metadata": {
    "ExecuteTime": {
     "end_time": "2025-06-18T04:37:10.023742Z",
     "start_time": "2025-06-18T04:37:10.015999Z"
    }
   },
   "source": [
    "def add(a, b):\n",
    "    return a + b"
   ],
   "outputs": [],
   "execution_count": 1
  },
  {
   "cell_type": "code",
   "metadata": {
    "ExecuteTime": {
     "end_time": "2025-06-18T04:37:10.063055Z",
     "start_time": "2025-06-18T04:37:10.058533Z"
    }
   },
   "source": [
    "def greet(name):\n",
    "    return f'Hello, {name}'"
   ],
   "outputs": [],
   "execution_count": 2
  },
  {
   "cell_type": "code",
   "metadata": {
    "ExecuteTime": {
     "end_time": "2025-06-18T04:37:10.082517Z",
     "start_time": "2025-06-18T04:37:10.077500Z"
    }
   },
   "source": [
    "def apply(func, *args):\n",
    "    result = func(*args)\n",
    "    return result"
   ],
   "outputs": [],
   "execution_count": 3
  },
  {
   "cell_type": "markdown",
   "metadata": {},
   "source": [
    "Notice how the `apply` function takes in a variable numnber of arguments - this allows us to use `apply` to call `func` with whatever parameters we want to pass in. We pass those same argument straight into whatever `func` is."
   ]
  },
  {
   "cell_type": "code",
   "metadata": {
    "ExecuteTime": {
     "end_time": "2025-06-18T04:37:10.461399Z",
     "start_time": "2025-06-18T04:37:10.452720Z"
    }
   },
   "source": [
    "apply(add, 2, 3)"
   ],
   "outputs": [
    {
     "data": {
      "text/plain": [
       "5"
      ]
     },
     "execution_count": 4,
     "metadata": {},
     "output_type": "execute_result"
    }
   ],
   "execution_count": 4
  },
  {
   "cell_type": "code",
   "metadata": {
    "ExecuteTime": {
     "end_time": "2025-06-18T04:37:10.495620Z",
     "start_time": "2025-06-18T04:37:10.487562Z"
    }
   },
   "source": [
    "apply(greet, 'Python')"
   ],
   "outputs": [
    {
     "data": {
      "text/plain": [
       "'Hello, Python'"
      ]
     },
     "execution_count": 5,
     "metadata": {},
     "output_type": "execute_result"
    }
   ],
   "execution_count": 5
  },
  {
   "cell_type": "markdown",
   "metadata": {},
   "source": [
    "We can even use lambdas, not just functions defined using `def`:"
   ]
  },
  {
   "cell_type": "code",
   "metadata": {
    "ExecuteTime": {
     "end_time": "2025-06-18T04:37:12.003107Z",
     "start_time": "2025-06-18T04:37:11.996433Z"
    }
   },
   "source": [
    "apply(lambda a, b, c: a + b + c, 10, 20, 30)"
   ],
   "outputs": [
    {
     "data": {
      "text/plain": [
       "60"
      ]
     },
     "execution_count": 6,
     "metadata": {},
     "output_type": "execute_result"
    }
   ],
   "execution_count": 6
  },
  {
   "cell_type": "markdown",
   "metadata": {},
   "source": [
    "We can also return functions from functions:"
   ]
  },
  {
   "cell_type": "code",
   "metadata": {
    "ExecuteTime": {
     "end_time": "2025-06-18T04:37:12.610595Z",
     "start_time": "2025-06-18T04:37:12.603384Z"
    }
   },
   "source": [
    "def mult(a, b):\n",
    "    return a * b\n",
    "\n",
    "def power(a, b):\n",
    "    return a ** b"
   ],
   "outputs": [],
   "execution_count": 7
  },
  {
   "cell_type": "code",
   "metadata": {
    "ExecuteTime": {
     "end_time": "2025-06-18T04:37:12.966770Z",
     "start_time": "2025-06-18T04:37:12.961272Z"
    }
   },
   "source": [
    "def choose_operator(name):\n",
    "    if name == 'add':\n",
    "        return add\n",
    "    if name == 'mult':\n",
    "        return mult\n",
    "    if name == 'power':\n",
    "        return power"
   ],
   "outputs": [],
   "execution_count": 8
  },
  {
   "cell_type": "markdown",
   "metadata": {},
   "source": [
    "Here we are returning functions that were created in the module itself."
   ]
  },
  {
   "cell_type": "code",
   "metadata": {
    "ExecuteTime": {
     "end_time": "2025-06-18T04:37:17.981828Z",
     "start_time": "2025-06-18T04:37:17.974205Z"
    }
   },
   "source": [
    "op = choose_operator('add')\n",
    "op(2, 3)"
   ],
   "outputs": [
    {
     "data": {
      "text/plain": [
       "5"
      ]
     },
     "execution_count": 9,
     "metadata": {},
     "output_type": "execute_result"
    }
   ],
   "execution_count": 9
  },
  {
   "cell_type": "code",
   "metadata": {
    "ExecuteTime": {
     "end_time": "2025-06-18T04:37:20.210540Z",
     "start_time": "2025-06-18T04:37:20.202160Z"
    }
   },
   "source": [
    "op = choose_operator('mult')\n",
    "op(2, 3)"
   ],
   "outputs": [
    {
     "data": {
      "text/plain": [
       "6"
      ]
     },
     "execution_count": 10,
     "metadata": {},
     "output_type": "execute_result"
    }
   ],
   "execution_count": 10
  },
  {
   "cell_type": "code",
   "metadata": {
    "ExecuteTime": {
     "end_time": "2025-06-18T04:37:20.863973Z",
     "start_time": "2025-06-18T04:37:20.855479Z"
    }
   },
   "source": [
    "choose_operator('power')(2, 3)"
   ],
   "outputs": [
    {
     "data": {
      "text/plain": [
       "8"
      ]
     },
     "execution_count": 11,
     "metadata": {},
     "output_type": "execute_result"
    }
   ],
   "execution_count": 11
  },
  {
   "cell_type": "markdown",
   "metadata": {},
   "source": [
    "More often, the function that we return from a function has been created inside the function itself."
   ]
  },
  {
   "cell_type": "markdown",
   "metadata": {},
   "source": [
    "So we could re-write our previous example as follows:"
   ]
  },
  {
   "cell_type": "code",
   "metadata": {
    "ExecuteTime": {
     "end_time": "2025-06-18T04:37:22.439697Z",
     "start_time": "2025-06-18T04:37:22.433990Z"
    }
   },
   "source": [
    "def choose_operator(name):\n",
    "    def add(a, b):\n",
    "        return a + b\n",
    "    \n",
    "    def mult(a, b):\n",
    "        return a * b\n",
    "    \n",
    "    def power(a, b):\n",
    "        return a ** b\n",
    "    \n",
    "    if name == 'add':\n",
    "        return add\n",
    "    if name == 'mult':\n",
    "        return mult\n",
    "    if name == 'power':\n",
    "        return power"
   ],
   "outputs": [],
   "execution_count": 12
  },
  {
   "cell_type": "markdown",
   "metadata": {},
   "source": [
    "And it would work the same way as before:"
   ]
  },
  {
   "cell_type": "code",
   "metadata": {
    "ExecuteTime": {
     "end_time": "2025-06-18T04:37:23.535329Z",
     "start_time": "2025-06-18T04:37:23.528113Z"
    }
   },
   "source": [
    "choose_operator('power')(2, 3)"
   ],
   "outputs": [
    {
     "data": {
      "text/plain": [
       "8"
      ]
     },
     "execution_count": 13,
     "metadata": {},
     "output_type": "execute_result"
    }
   ],
   "execution_count": 13
  },
  {
   "cell_type": "markdown",
   "metadata": {},
   "source": [
    "We could also return lambdas:"
   ]
  },
  {
   "cell_type": "code",
   "metadata": {
    "ExecuteTime": {
     "end_time": "2025-06-18T04:37:24.511467Z",
     "start_time": "2025-06-18T04:37:24.505434Z"
    }
   },
   "source": [
    "def choose_operator(name):\n",
    "    if name == 'add':\n",
    "        return lambda a, b: a + b\n",
    "    if name == 'mult':\n",
    "        return lambda a, b: a * b\n",
    "    if name == 'power':\n",
    "        return lambda a, b: a ** b"
   ],
   "outputs": [],
   "execution_count": 14
  },
  {
   "cell_type": "code",
   "metadata": {
    "ExecuteTime": {
     "end_time": "2025-06-18T04:37:24.945363Z",
     "start_time": "2025-06-18T04:37:24.939804Z"
    }
   },
   "source": [
    "op = choose_operator('mult')"
   ],
   "outputs": [],
   "execution_count": 15
  },
  {
   "cell_type": "code",
   "metadata": {
    "ExecuteTime": {
     "end_time": "2025-06-18T04:37:25.358635Z",
     "start_time": "2025-06-18T04:37:25.351900Z"
    }
   },
   "source": [
    "op"
   ],
   "outputs": [
    {
     "data": {
      "text/plain": [
       "<function __main__.choose_operator.<locals>.<lambda>(a, b)>"
      ]
     },
     "execution_count": 16,
     "metadata": {},
     "output_type": "execute_result"
    }
   ],
   "execution_count": 16
  },
  {
   "cell_type": "code",
   "metadata": {
    "ExecuteTime": {
     "end_time": "2025-06-18T04:37:25.859397Z",
     "start_time": "2025-06-18T04:37:25.852314Z"
    }
   },
   "source": [
    "op(2, 3)"
   ],
   "outputs": [
    {
     "data": {
      "text/plain": [
       "6"
      ]
     },
     "execution_count": 17,
     "metadata": {},
     "output_type": "execute_result"
    }
   ],
   "execution_count": 17
  },
  {
   "cell_type": "markdown",
   "metadata": {},
   "source": [
    "Now all these examples have been very simplistic, just so we get used to passing functions to, and returning functions from, other functions."
   ]
  },
  {
   "cell_type": "markdown",
   "metadata": {},
   "source": [
    "Here's a somewhat more practical example."
   ]
  },
  {
   "cell_type": "markdown",
   "metadata": {},
   "source": [
    "We want to time how long a function call takes."
   ]
  },
  {
   "cell_type": "markdown",
   "metadata": {},
   "source": [
    "Let's say we have the following functions:"
   ]
  },
  {
   "cell_type": "code",
   "metadata": {
    "ExecuteTime": {
     "end_time": "2025-06-18T04:37:27.720593Z",
     "start_time": "2025-06-18T04:37:27.716275Z"
    }
   },
   "source": [
    "def in_list(l, element):\n",
    "    return element in l"
   ],
   "outputs": [],
   "execution_count": 18
  },
  {
   "cell_type": "code",
   "metadata": {
    "ExecuteTime": {
     "end_time": "2025-06-18T04:37:27.892334Z",
     "start_time": "2025-06-18T04:37:27.887207Z"
    }
   },
   "source": [
    "def in_tuple(t, element):\n",
    "    return element in t"
   ],
   "outputs": [],
   "execution_count": 19
  },
  {
   "cell_type": "code",
   "metadata": {
    "ExecuteTime": {
     "end_time": "2025-06-18T04:37:28.301037Z",
     "start_time": "2025-06-18T04:37:28.295051Z"
    }
   },
   "source": [
    "def in_set(s, element):\n",
    "    return element in s"
   ],
   "outputs": [],
   "execution_count": 20
  },
  {
   "cell_type": "markdown",
   "metadata": {},
   "source": [
    "To time how long each one takes to run we could do this:"
   ]
  },
  {
   "cell_type": "code",
   "metadata": {
    "ExecuteTime": {
     "end_time": "2025-06-18T04:37:28.658069Z",
     "start_time": "2025-06-18T04:37:28.653613Z"
    }
   },
   "source": [
    "from time import perf_counter"
   ],
   "outputs": [],
   "execution_count": 21
  },
  {
   "cell_type": "code",
   "metadata": {
    "ExecuteTime": {
     "end_time": "2025-06-18T04:37:29.829247Z",
     "start_time": "2025-06-18T04:37:29.000632Z"
    }
   },
   "source": [
    "n = 10_000_000\n",
    "l = list(range(n))\n",
    "t = tuple(range(n))\n",
    "s = set(range(n))"
   ],
   "outputs": [],
   "execution_count": 22
  },
  {
   "cell_type": "code",
   "metadata": {
    "ExecuteTime": {
     "end_time": "2025-06-18T04:37:30.013233Z",
     "start_time": "2025-06-18T04:37:30.007678Z"
    }
   },
   "source": [
    "x = 5_000_000"
   ],
   "outputs": [],
   "execution_count": 23
  },
  {
   "cell_type": "code",
   "metadata": {
    "ExecuteTime": {
     "end_time": "2025-06-18T04:37:30.256637Z",
     "start_time": "2025-06-18T04:37:30.199087Z"
    }
   },
   "source": [
    "start = perf_counter()\n",
    "in_list(l, x)\n",
    "end = perf_counter()\n",
    "print(end - start)"
   ],
   "outputs": [
    {
     "name": "stdout",
     "output_type": "stream",
     "text": [
      "0.052257599993026815\n"
     ]
    }
   ],
   "execution_count": 24
  },
  {
   "cell_type": "code",
   "metadata": {
    "ExecuteTime": {
     "end_time": "2025-06-18T04:37:30.592153Z",
     "start_time": "2025-06-18T04:37:30.542099Z"
    }
   },
   "source": [
    "start = perf_counter()\n",
    "in_tuple(t, x)\n",
    "end = perf_counter()\n",
    "print(end - start)"
   ],
   "outputs": [
    {
     "name": "stdout",
     "output_type": "stream",
     "text": [
      "0.045120099995983765\n"
     ]
    }
   ],
   "execution_count": 25
  },
  {
   "cell_type": "code",
   "metadata": {
    "ExecuteTime": {
     "end_time": "2025-06-18T04:37:30.854013Z",
     "start_time": "2025-06-18T04:37:30.849374Z"
    }
   },
   "source": [
    "start = perf_counter()\n",
    "in_set(s, x)\n",
    "end = perf_counter()\n",
    "print(end - start)"
   ],
   "outputs": [
    {
     "name": "stdout",
     "output_type": "stream",
     "text": [
      "5.360000068321824e-05\n"
     ]
    }
   ],
   "execution_count": 26
  },
  {
   "cell_type": "markdown",
   "metadata": {},
   "source": [
    "But we had to repeat this timing code multiple times."
   ]
  },
  {
   "cell_type": "markdown",
   "metadata": {},
   "source": [
    "Instead, let's write a function to do all this for us:"
   ]
  },
  {
   "cell_type": "code",
   "metadata": {
    "ExecuteTime": {
     "end_time": "2025-06-18T04:37:31.706743Z",
     "start_time": "2025-06-18T04:37:31.701712Z"
    }
   },
   "source": [
    "def time_it(func, *args):\n",
    "    start = perf_counter()\n",
    "    result = func(*args)\n",
    "    end = perf_counter()\n",
    "    print(f'Elapsed: {end - start}')\n",
    "    return result"
   ],
   "outputs": [],
   "execution_count": 27
  },
  {
   "cell_type": "code",
   "metadata": {
    "ExecuteTime": {
     "end_time": "2025-06-18T04:37:32.132739Z",
     "start_time": "2025-06-18T04:37:32.046803Z"
    }
   },
   "source": [
    "time_it(in_list, l, x)"
   ],
   "outputs": [
    {
     "name": "stdout",
     "output_type": "stream",
     "text": [
      "Elapsed: 0.07879469999170396\n"
     ]
    },
    {
     "data": {
      "text/plain": [
       "True"
      ]
     },
     "execution_count": 28,
     "metadata": {},
     "output_type": "execute_result"
    }
   ],
   "execution_count": 28
  },
  {
   "cell_type": "code",
   "metadata": {
    "ExecuteTime": {
     "end_time": "2025-06-18T04:37:32.392691Z",
     "start_time": "2025-06-18T04:37:32.383366Z"
    }
   },
   "source": [
    "time_it(in_set, s, x)"
   ],
   "outputs": [
    {
     "name": "stdout",
     "output_type": "stream",
     "text": [
      "Elapsed: 2.2000021999701858e-06\n"
     ]
    },
    {
     "data": {
      "text/plain": [
       "True"
      ]
     },
     "execution_count": 29,
     "metadata": {},
     "output_type": "execute_result"
    }
   ],
   "execution_count": 29
  },
  {
   "cell_type": "markdown",
   "metadata": {},
   "source": [
    "Essentially our `time_it` function *wrapped* some timing code around the function call we want to make."
   ]
  },
  {
   "cell_type": "markdown",
   "metadata": {},
   "source": [
    "This concept, and one more we'll study soon (closures), is going to form the basis of a concept called decorators."
   ]
  }
 ],
 "metadata": {
  "kernelspec": {
   "display_name": "Python 3",
   "language": "python",
   "name": "python3"
  },
  "language_info": {
   "codemirror_mode": {
    "name": "ipython",
    "version": 3
   },
   "file_extension": ".py",
   "mimetype": "text/x-python",
   "name": "python",
   "nbconvert_exporter": "python",
   "pygments_lexer": "ipython3",
   "version": "3.9.1"
  }
 },
 "nbformat": 4,
 "nbformat_minor": 4
}
