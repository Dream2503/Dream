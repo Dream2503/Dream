{
 "cells": [
  {
   "cell_type": "markdown",
   "id": "killing-darwin",
   "metadata": {},
   "source": [
    "### Solutions"
   ]
  },
  {
   "cell_type": "markdown",
   "id": "christian-population",
   "metadata": {},
   "source": [
    "#### Question 1"
   ]
  },
  {
   "cell_type": "markdown",
   "id": "stone-adelaide",
   "metadata": {},
   "source": [
    "We want to write a function that can find an approximate maximum or minimum of some given function over some given range."
   ]
  },
  {
   "cell_type": "markdown",
   "id": "documentary-packaging",
   "metadata": {},
   "source": [
    "For example, given some function:\n",
    "\n",
    "```\n",
    "f(x) = x**2 - 1\n",
    "```\n",
    "\n",
    "our function should return an approximate minimum (or maximum) of `f` over some given range, say `[-5, 5]`."
   ]
  },
  {
   "cell_type": "markdown",
   "id": "internal-durham",
   "metadata": {},
   "source": [
    "We'll do this by essentially splitting our intervals into `n` points (what I'll call the `resolution`), evaluating the function at each of these points, and returning either the min or the max."
   ]
  },
  {
   "cell_type": "markdown",
   "id": "appropriate-click",
   "metadata": {},
   "source": [
    "We want this function to be generic, so it should have the following parameters:\n",
    "- a function of one variable\n",
    "- a range of values defined by start/end values\n",
    "- a value indicating the \"resolution\"\n",
    "- a value indicating whether we want the min or the max"
   ]
  },
  {
   "cell_type": "markdown",
   "id": "raising-dance",
   "metadata": {},
   "source": [
    "##### Solution"
   ]
  },
  {
   "cell_type": "markdown",
   "id": "behind-grounds",
   "metadata": {},
   "source": [
    "Let's start by writing a few single-variable functions:"
   ]
  },
  {
   "cell_type": "code",
   "id": "liked-maintenance",
   "metadata": {
    "ExecuteTime": {
     "end_time": "2025-06-18T04:38:39.625666Z",
     "start_time": "2025-06-18T04:38:39.617593Z"
    }
   },
   "source": [
    "import math\n",
    "\n",
    "f1 = lambda x: x ** 2 - 1\n",
    "f2 = lambda x: abs(x-2)\n",
    "f3 = lambda x: math.sin(x)"
   ],
   "outputs": [],
   "execution_count": 1
  },
  {
   "cell_type": "markdown",
   "id": "viral-flood",
   "metadata": {},
   "source": [
    "Now let's figure out what parameters we want to define for our function that will determine an approximate min or max:\n",
    "\n",
    "- `f`: the function used to evaluate approx min/max\n",
    "- `start`: the left end of the interval - default to `-10`\n",
    "- `end`: the right end of the interval - default to `10`\n",
    "- `resolution`: indicates how many times we'll evaluate the function `func` over the interval `[start, end)` - default to `1_000`\n",
    "- `is_min`: if `True` returns the minimum, otherwise returns the maximum - default to `True`"
   ]
  },
  {
   "cell_type": "markdown",
   "id": "million-county",
   "metadata": {},
   "source": [
    "Let's define the function first, and we'll come back to it's implementation later:"
   ]
  },
  {
   "cell_type": "code",
   "id": "dynamic-accent",
   "metadata": {
    "ExecuteTime": {
     "end_time": "2025-06-18T04:38:40.025429Z",
     "start_time": "2025-06-18T04:38:40.019886Z"
    }
   },
   "source": [
    "def find_extreme(f, start=-10, end=10, resolution=1_000, is_min=True):\n",
    "    pass"
   ],
   "outputs": [],
   "execution_count": 2
  },
  {
   "cell_type": "markdown",
   "id": "settled-collins",
   "metadata": {},
   "source": [
    "Our first task will be to calculate the list of values we want to evaluate the function at:"
   ]
  },
  {
   "cell_type": "code",
   "id": "protected-harris",
   "metadata": {
    "ExecuteTime": {
     "end_time": "2025-06-18T04:38:40.119307Z",
     "start_time": "2025-06-18T04:38:40.114266Z"
    }
   },
   "source": [
    "def find_extreme(f, start=-10, end=10, resolution=1_000, is_min=True):\n",
    "    delta = (end - start) / (resolution - 1)\n",
    "    data = [start + i * delta for i in range(resolution)]\n",
    "    return data"
   ],
   "outputs": [],
   "execution_count": 3
  },
  {
   "cell_type": "code",
   "id": "thrown-drawing",
   "metadata": {
    "ExecuteTime": {
     "end_time": "2025-06-18T04:38:40.172838Z",
     "start_time": "2025-06-18T04:38:40.164791Z"
    }
   },
   "source": [
    "find_extreme(None, start=1, end=6, resolution=8)"
   ],
   "outputs": [
    {
     "data": {
      "text/plain": [
       "[1.0,\n",
       " 1.7142857142857144,\n",
       " 2.428571428571429,\n",
       " 3.142857142857143,\n",
       " 3.857142857142857,\n",
       " 4.571428571428571,\n",
       " 5.285714285714286,\n",
       " 6.0]"
      ]
     },
     "execution_count": 4,
     "metadata": {},
     "output_type": "execute_result"
    }
   ],
   "execution_count": 4
  },
  {
   "cell_type": "markdown",
   "id": "enabling-questionnaire",
   "metadata": {},
   "source": [
    "Ok, so this is starting to look good. Next we need to evaluate the function at each of those points:"
   ]
  },
  {
   "cell_type": "code",
   "id": "piano-vertex",
   "metadata": {
    "ExecuteTime": {
     "end_time": "2025-06-18T04:38:40.244320Z",
     "start_time": "2025-06-18T04:38:40.238848Z"
    }
   },
   "source": [
    "def find_extreme(f, start=-10, end=10, resolution=1_000, is_min=True):\n",
    "    delta = (end - start) / (resolution - 1)\n",
    "    data = [start + i * delta for i in range(resolution)]\n",
    "    f_values = [f(x) for x in data]\n",
    "    return f_values"
   ],
   "outputs": [],
   "execution_count": 5
  },
  {
   "cell_type": "code",
   "id": "comprehensive-bermuda",
   "metadata": {
    "ExecuteTime": {
     "end_time": "2025-06-18T04:38:40.263431Z",
     "start_time": "2025-06-18T04:38:40.257405Z"
    }
   },
   "source": [
    "find_extreme(f1, -2, 2, 10)"
   ],
   "outputs": [
    {
     "data": {
      "text/plain": [
       "[3.0,\n",
       " 1.4197530864197532,\n",
       " 0.23456790123456805,\n",
       " -0.5555555555555555,\n",
       " -0.9506172839506173,\n",
       " -0.9506172839506173,\n",
       " -0.5555555555555558,\n",
       " 0.23456790123456694,\n",
       " 1.4197530864197523,\n",
       " 3.0]"
      ]
     },
     "execution_count": 6,
     "metadata": {},
     "output_type": "execute_result"
    }
   ],
   "execution_count": 6
  },
  {
   "cell_type": "markdown",
   "id": "numerical-alignment",
   "metadata": {},
   "source": [
    "Next we'll need to find the minimum of these values:"
   ]
  },
  {
   "cell_type": "code",
   "id": "prescribed-grammar",
   "metadata": {
    "ExecuteTime": {
     "end_time": "2025-06-18T04:38:40.333490Z",
     "start_time": "2025-06-18T04:38:40.326313Z"
    }
   },
   "source": [
    "def find_extreme(f, start=-10, end=10, resolution=1_000, is_min=True):\n",
    "    delta = (end - start) / (resolution - 1)\n",
    "    data = [start + i * delta for i in range(resolution)]\n",
    "    f_values = [f(x) for x in data]\n",
    "    result = min(f_values)\n",
    "    return result"
   ],
   "outputs": [],
   "execution_count": 7
  },
  {
   "cell_type": "code",
   "id": "representative-situation",
   "metadata": {
    "ExecuteTime": {
     "end_time": "2025-06-18T04:38:40.356571Z",
     "start_time": "2025-06-18T04:38:40.350660Z"
    }
   },
   "source": [
    "find_extreme(f1, -2, 2, 10)"
   ],
   "outputs": [
    {
     "data": {
      "text/plain": [
       "-0.9506172839506173"
      ]
     },
     "execution_count": 8,
     "metadata": {},
     "output_type": "execute_result"
    }
   ],
   "execution_count": 8
  },
  {
   "cell_type": "markdown",
   "id": "derived-separate",
   "metadata": {},
   "source": [
    "Of course, the higher our resolution, the better our approximation should be:"
   ]
  },
  {
   "cell_type": "code",
   "id": "blind-income",
   "metadata": {
    "ExecuteTime": {
     "end_time": "2025-06-18T04:38:40.434323Z",
     "start_time": "2025-06-18T04:38:40.427751Z"
    }
   },
   "source": [
    "find_extreme(f1, -2, 2)"
   ],
   "outputs": [
    {
     "data": {
      "text/plain": [
       "-0.999995991987984"
      ]
     },
     "execution_count": 9,
     "metadata": {},
     "output_type": "execute_result"
    }
   ],
   "execution_count": 9
  },
  {
   "cell_type": "markdown",
   "id": "federal-tolerance",
   "metadata": {},
   "source": [
    "Now let's handle the `is_min` argument:"
   ]
  },
  {
   "cell_type": "code",
   "id": "active-startup",
   "metadata": {
    "ExecuteTime": {
     "end_time": "2025-06-18T04:38:40.522992Z",
     "start_time": "2025-06-18T04:38:40.516919Z"
    }
   },
   "source": [
    "def find_extreme(f, start=-10, end=10, resolution=1_000, is_min=True):\n",
    "    delta = (end - start) / (resolution - 1)\n",
    "    data = [start + i * delta for i in range(resolution)]\n",
    "    f_values = [f(x) for x in data]\n",
    "    if is_min:\n",
    "        result = min(f_values)\n",
    "    else:\n",
    "        result = max(f_values)\n",
    "    return result"
   ],
   "outputs": [],
   "execution_count": 10
  },
  {
   "cell_type": "code",
   "id": "psychological-production",
   "metadata": {
    "ExecuteTime": {
     "end_time": "2025-06-18T04:38:40.557752Z",
     "start_time": "2025-06-18T04:38:40.550186Z"
    }
   },
   "source": [
    "find_extreme(f1, -2, 2), find_extreme(f1, -2, 2, is_min=False)"
   ],
   "outputs": [
    {
     "data": {
      "text/plain": [
       "(-0.999995991987984, 3.0)"
      ]
     },
     "execution_count": 11,
     "metadata": {},
     "output_type": "execute_result"
    }
   ],
   "execution_count": 11
  },
  {
   "cell_type": "markdown",
   "id": "individual-leather",
   "metadata": {},
   "source": [
    "And we can try out our other functions too:"
   ]
  },
  {
   "cell_type": "code",
   "id": "selective-diameter",
   "metadata": {
    "ExecuteTime": {
     "end_time": "2025-06-18T04:38:40.684245Z",
     "start_time": "2025-06-18T04:38:40.677650Z"
    }
   },
   "source": [
    "find_extreme(f2, -10, 10), find_extreme(f2, -10, 10, is_min=False)"
   ],
   "outputs": [
    {
     "data": {
      "text/plain": [
       "(0.008008008008008716, 12.0)"
      ]
     },
     "execution_count": 12,
     "metadata": {},
     "output_type": "execute_result"
    }
   ],
   "execution_count": 12
  },
  {
   "cell_type": "code",
   "id": "historical-authorization",
   "metadata": {
    "ExecuteTime": {
     "end_time": "2025-06-18T04:38:41.085508Z",
     "start_time": "2025-06-18T04:38:41.078873Z"
    }
   },
   "source": [
    "find_extreme(f3, -10, 10), find_extreme(f3, -10, 10, is_min=False)"
   ],
   "outputs": [
    {
     "data": {
      "text/plain": [
       "(-0.9999996994977832, 0.9999996994977832)"
      ]
     },
     "execution_count": 13,
     "metadata": {},
     "output_type": "execute_result"
    }
   ],
   "execution_count": 13
  },
  {
   "cell_type": "markdown",
   "id": "genetic-impression",
   "metadata": {},
   "source": [
    "Now let's loook at our function and see if we can simplify our code:"
   ]
  },
  {
   "cell_type": "code",
   "id": "unavailable-details",
   "metadata": {
    "ExecuteTime": {
     "end_time": "2025-06-18T04:38:41.204493Z",
     "start_time": "2025-06-18T04:38:41.198632Z"
    }
   },
   "source": [
    "def find_extreme(f, start=-10, end=10, resolution=1_000, is_min=True):\n",
    "    delta = (end - start) / (resolution - 1)\n",
    "    data = [start + i * delta for i in range(resolution)]\n",
    "    f_values = [f(x) for x in data]\n",
    "    if is_min:\n",
    "        result = min(f_values)\n",
    "    else:\n",
    "        result = max(f_values)\n",
    "    return result"
   ],
   "outputs": [],
   "execution_count": 14
  },
  {
   "cell_type": "markdown",
   "id": "compact-thesis",
   "metadata": {},
   "source": [
    "The first thing to note is that we are creating these lists (`data` and `f_values`) - that seems uncessary - we could use generator expressions instead since we will only need to iterate through them once:"
   ]
  },
  {
   "cell_type": "code",
   "id": "atlantic-national",
   "metadata": {
    "ExecuteTime": {
     "end_time": "2025-06-18T04:38:41.264613Z",
     "start_time": "2025-06-18T04:38:41.259639Z"
    }
   },
   "source": [
    "def find_extreme(f, start=-10, end=10, resolution=1_000, is_min=True):\n",
    "    delta = (end - start) / (resolution - 1)\n",
    "    data = (start + i * delta for i in range(resolution))\n",
    "    f_values = (f(x) for x in data)\n",
    "    if is_min:\n",
    "        result = min(f_values)\n",
    "    else:\n",
    "        result = max(f_values)\n",
    "    return result"
   ],
   "outputs": [],
   "execution_count": 15
  },
  {
   "cell_type": "code",
   "id": "handled-hours",
   "metadata": {
    "ExecuteTime": {
     "end_time": "2025-06-18T04:38:41.310715Z",
     "start_time": "2025-06-18T04:38:41.303618Z"
    }
   },
   "source": [
    "find_extreme(f3, -10, 10, is_min=False)"
   ],
   "outputs": [
    {
     "data": {
      "text/plain": [
       "0.9999996994977832"
      ]
     },
     "execution_count": 16,
     "metadata": {},
     "output_type": "execute_result"
    }
   ],
   "execution_count": 16
  },
  {
   "cell_type": "markdown",
   "id": "electronic-correlation",
   "metadata": {},
   "source": [
    "Another thing too, is that we using a comprehension to apply the function `func` to every value in `data` - this is fine, but we could also just use the `map` function:"
   ]
  },
  {
   "cell_type": "code",
   "id": "pediatric-welcome",
   "metadata": {
    "ExecuteTime": {
     "end_time": "2025-06-18T04:38:41.373759Z",
     "start_time": "2025-06-18T04:38:41.368704Z"
    }
   },
   "source": [
    "def find_extreme(f, start=-10, end=10, resolution=1_000, is_min=True):\n",
    "    delta = (end - start) / (resolution - 1)\n",
    "    data = (start + i * delta for i in range(resolution))\n",
    "    f_values = map(f, data)\n",
    "    if is_min:\n",
    "        result = min(f_values)\n",
    "    else:\n",
    "        result = max(f_values)\n",
    "    return result"
   ],
   "outputs": [],
   "execution_count": 17
  },
  {
   "cell_type": "code",
   "id": "different-mississippi",
   "metadata": {
    "ExecuteTime": {
     "end_time": "2025-06-18T04:38:41.407113Z",
     "start_time": "2025-06-18T04:38:41.399646Z"
    }
   },
   "source": [
    "find_extreme(f3, -10, 10, is_min=False)"
   ],
   "outputs": [
    {
     "data": {
      "text/plain": [
       "0.9999996994977832"
      ]
     },
     "execution_count": 18,
     "metadata": {},
     "output_type": "execute_result"
    }
   ],
   "execution_count": 18
  },
  {
   "cell_type": "markdown",
   "id": "synthetic-organizer",
   "metadata": {},
   "source": [
    "Additionally, we could use a ternary operator to pick whether we should use `min` or `max`:"
   ]
  },
  {
   "cell_type": "code",
   "id": "funky-expense",
   "metadata": {
    "ExecuteTime": {
     "end_time": "2025-06-18T04:38:41.457095Z",
     "start_time": "2025-06-18T04:38:41.451532Z"
    }
   },
   "source": [
    "def find_extreme(f, start=-10, end=10, resolution=1_000, is_min=True):\n",
    "    delta = (end - start) / (resolution - 1)\n",
    "    data = (start + i * delta for i in range(resolution))\n",
    "    f_values = map(f, data)\n",
    "    min_max = min if is_min else max\n",
    "    result = min_max(f_values)\n",
    "    return result"
   ],
   "outputs": [],
   "execution_count": 19
  },
  {
   "cell_type": "code",
   "id": "developing-windsor",
   "metadata": {
    "ExecuteTime": {
     "end_time": "2025-06-18T04:38:41.501331Z",
     "start_time": "2025-06-18T04:38:41.493794Z"
    }
   },
   "source": [
    "find_extreme(f3, -10, 10), find_extreme(f3, -10, 10, is_min=False)"
   ],
   "outputs": [
    {
     "data": {
      "text/plain": [
       "(-0.9999996994977832, 0.9999996994977832)"
      ]
     },
     "execution_count": 20,
     "metadata": {},
     "output_type": "execute_result"
    }
   ],
   "execution_count": 20
  },
  {
   "cell_type": "markdown",
   "id": "nearby-highway",
   "metadata": {},
   "source": [
    "And we can then clean up the code this way:"
   ]
  },
  {
   "cell_type": "code",
   "id": "subsequent-connection",
   "metadata": {
    "ExecuteTime": {
     "end_time": "2025-06-18T04:38:41.579884Z",
     "start_time": "2025-06-18T04:38:41.574875Z"
    }
   },
   "source": [
    "def find_extreme(f, start=-10, end=10, resolution=1_000, is_min=True):\n",
    "    delta = (end - start) / (resolution - 1)\n",
    "    data = (start + i * delta for i in range(resolution))\n",
    "    min_max = min if is_min else max\n",
    "    return min_max(map(f, data))"
   ],
   "outputs": [],
   "execution_count": 21
  },
  {
   "cell_type": "code",
   "id": "fourth-climb",
   "metadata": {
    "ExecuteTime": {
     "end_time": "2025-06-18T04:38:41.640795Z",
     "start_time": "2025-06-18T04:38:41.634003Z"
    }
   },
   "source": [
    "find_extreme(f3, -10, 10), find_extreme(f3, -10, 10, is_min=False)"
   ],
   "outputs": [
    {
     "data": {
      "text/plain": [
       "(-0.9999996994977832, 0.9999996994977832)"
      ]
     },
     "execution_count": 22,
     "metadata": {},
     "output_type": "execute_result"
    }
   ],
   "execution_count": 22
  },
  {
   "cell_type": "markdown",
   "id": "supreme-norfolk",
   "metadata": {},
   "source": [
    "#### Question 2"
   ]
  },
  {
   "cell_type": "markdown",
   "id": "suffering-bhutan",
   "metadata": {},
   "source": [
    "You are given a function of two variables, and a list of tuples containing the values for the two variables."
   ]
  },
  {
   "cell_type": "markdown",
   "id": "foreign-newsletter",
   "metadata": {},
   "source": [
    "Create a list that is the result of calling the function on each values in the list, using three different techniques:\n",
    "- a `for` loop\n",
    "- a list comprehension\n",
    "- the `map` function\n",
    "\n",
    "Use the `timeit` function to time each approach.\n",
    "\n",
    "Hint: write a function that implements each approach, and then time calling those functions using the `timeit` function (`from timeit import timeit` - we've used it before). Also you will want to specify `number=10` or something like that when you run `timeit` - unless you want to sit there watvhing your screen for quite a while :-)"
   ]
  },
  {
   "cell_type": "code",
   "id": "induced-sailing",
   "metadata": {
    "ExecuteTime": {
     "end_time": "2025-06-18T04:38:41.854774Z",
     "start_time": "2025-06-18T04:38:41.849329Z"
    }
   },
   "source": [
    "import math\n",
    "\n",
    "def func(point):\n",
    "    # expect point to be a sequence of two values\n",
    "    x, y = point\n",
    "    return math.hypot(x, y)  \n",
    "    # hypot is a function that calculates sqrt(x**2 + y**2), given a sequence (x, y)\n",
    "\n",
    "points = [\n",
    "    (0, 0),\n",
    "    (1, 1),\n",
    "    (10, 20),\n",
    "    (math.pi, math.e)\n",
    "]"
   ],
   "outputs": [],
   "execution_count": 23
  },
  {
   "cell_type": "markdown",
   "id": "funky-brazilian",
   "metadata": {},
   "source": [
    "Your result for `points` should be:\n",
    "\n",
    "```\n",
    "[0.0, 1.4142135623730951, 22.360679774997898, 4.154354402313314]\n",
    "```"
   ]
  },
  {
   "cell_type": "markdown",
   "id": "copyrighted-procurement",
   "metadata": {},
   "source": [
    "For timing purposes, use a larger set of points, like this one:"
   ]
  },
  {
   "cell_type": "code",
   "id": "returning-horizontal",
   "metadata": {
    "ExecuteTime": {
     "end_time": "2025-06-18T04:38:42.333096Z",
     "start_time": "2025-06-18T04:38:41.941744Z"
    }
   },
   "source": [
    "points_large = [(math.sin(x), math.cos(x)) for x in range(1, 1_000_000)]"
   ],
   "outputs": [],
   "execution_count": 24
  },
  {
   "cell_type": "markdown",
   "id": "confident-worship",
   "metadata": {},
   "source": [
    "##### Solution"
   ]
  },
  {
   "cell_type": "markdown",
   "id": "cognitive-czech",
   "metadata": {},
   "source": [
    "A `for` loop approach could be something like:"
   ]
  },
  {
   "cell_type": "code",
   "id": "offensive-system",
   "metadata": {
    "ExecuteTime": {
     "end_time": "2025-06-18T04:38:42.498679Z",
     "start_time": "2025-06-18T04:38:42.492081Z"
    }
   },
   "source": [
    "results = []\n",
    "for point in points:\n",
    "    results.append(func(point))\n",
    "    \n",
    "results"
   ],
   "outputs": [
    {
     "data": {
      "text/plain": [
       "[0.0, 1.4142135623730951, 22.360679774997898, 4.154354402313313]"
      ]
     },
     "execution_count": 25,
     "metadata": {},
     "output_type": "execute_result"
    }
   ],
   "execution_count": 25
  },
  {
   "cell_type": "markdown",
   "id": "enclosed-israeli",
   "metadata": {},
   "source": [
    "But whenever we see code that creates an empty list and a loop that just appends to that list with relatively simple code in the loop body, we should consider a comprehension instead."
   ]
  },
  {
   "cell_type": "code",
   "id": "acting-hollow",
   "metadata": {
    "ExecuteTime": {
     "end_time": "2025-06-18T04:38:42.661509Z",
     "start_time": "2025-06-18T04:38:42.654382Z"
    }
   },
   "source": [
    "results = [func(point) for point in points]\n",
    "results"
   ],
   "outputs": [
    {
     "data": {
      "text/plain": [
       "[0.0, 1.4142135623730951, 22.360679774997898, 4.154354402313313]"
      ]
     },
     "execution_count": 26,
     "metadata": {},
     "output_type": "execute_result"
    }
   ],
   "execution_count": 26
  },
  {
   "cell_type": "markdown",
   "id": "private-ordinance",
   "metadata": {},
   "source": [
    "But we can also just use the `map` function:"
   ]
  },
  {
   "cell_type": "code",
   "id": "alternative-warning",
   "metadata": {
    "ExecuteTime": {
     "end_time": "2025-06-18T04:38:42.741898Z",
     "start_time": "2025-06-18T04:38:42.735559Z"
    }
   },
   "source": [
    "results = list(map(func, points))\n",
    "results"
   ],
   "outputs": [
    {
     "data": {
      "text/plain": [
       "[0.0, 1.4142135623730951, 22.360679774997898, 4.154354402313313]"
      ]
     },
     "execution_count": 27,
     "metadata": {},
     "output_type": "execute_result"
    }
   ],
   "execution_count": 27
  },
  {
   "cell_type": "markdown",
   "id": "present-involvement",
   "metadata": {},
   "source": [
    "Note: the `map` function returns a generator, so we pass that to `list()` to actually generate a list."
   ]
  },
  {
   "cell_type": "markdown",
   "id": "suffering-thomas",
   "metadata": {},
   "source": [
    "Let's write some functions to encapsulate each technique so we can easily use them for timing things:"
   ]
  },
  {
   "cell_type": "code",
   "id": "urban-dimension",
   "metadata": {
    "ExecuteTime": {
     "end_time": "2025-06-18T04:38:42.818387Z",
     "start_time": "2025-06-18T04:38:42.813651Z"
    }
   },
   "source": [
    "def calc_loop(f, pts):\n",
    "    results = []\n",
    "    for pt in pts:\n",
    "        results.append(f(pt))\n",
    "    return results"
   ],
   "outputs": [],
   "execution_count": 28
  },
  {
   "cell_type": "code",
   "id": "specialized-citizenship",
   "metadata": {
    "ExecuteTime": {
     "end_time": "2025-06-18T04:38:42.882563Z",
     "start_time": "2025-06-18T04:38:42.877040Z"
    }
   },
   "source": [
    "def calc_comp(f, pts):\n",
    "    return [f(pt) for pt in pts]"
   ],
   "outputs": [],
   "execution_count": 29
  },
  {
   "cell_type": "code",
   "id": "perfect-transport",
   "metadata": {
    "ExecuteTime": {
     "end_time": "2025-06-18T04:38:42.925851Z",
     "start_time": "2025-06-18T04:38:42.921271Z"
    }
   },
   "source": [
    "def calc_map(f, pts):\n",
    "    return list(map(f, pts))"
   ],
   "outputs": [],
   "execution_count": 30
  },
  {
   "cell_type": "markdown",
   "id": "portable-scout",
   "metadata": {},
   "source": [
    "Let's make sure the functions work as expected:"
   ]
  },
  {
   "cell_type": "code",
   "id": "described-feeling",
   "metadata": {
    "ExecuteTime": {
     "end_time": "2025-06-18T04:38:42.951116Z",
     "start_time": "2025-06-18T04:38:42.944439Z"
    }
   },
   "source": [
    "calc_loop(func, points)"
   ],
   "outputs": [
    {
     "data": {
      "text/plain": [
       "[0.0, 1.4142135623730951, 22.360679774997898, 4.154354402313313]"
      ]
     },
     "execution_count": 31,
     "metadata": {},
     "output_type": "execute_result"
    }
   ],
   "execution_count": 31
  },
  {
   "cell_type": "code",
   "id": "referenced-roberts",
   "metadata": {
    "ExecuteTime": {
     "end_time": "2025-06-18T04:38:43.102752Z",
     "start_time": "2025-06-18T04:38:43.096940Z"
    }
   },
   "source": [
    "calc_comp(func, points)"
   ],
   "outputs": [
    {
     "data": {
      "text/plain": [
       "[0.0, 1.4142135623730951, 22.360679774997898, 4.154354402313313]"
      ]
     },
     "execution_count": 32,
     "metadata": {},
     "output_type": "execute_result"
    }
   ],
   "execution_count": 32
  },
  {
   "cell_type": "code",
   "id": "jewish-williams",
   "metadata": {
    "ExecuteTime": {
     "end_time": "2025-06-18T04:38:43.448743Z",
     "start_time": "2025-06-18T04:38:43.441506Z"
    }
   },
   "source": [
    "calc_map(func, points)"
   ],
   "outputs": [
    {
     "data": {
      "text/plain": [
       "[0.0, 1.4142135623730951, 22.360679774997898, 4.154354402313313]"
      ]
     },
     "execution_count": 33,
     "metadata": {},
     "output_type": "execute_result"
    }
   ],
   "execution_count": 33
  },
  {
   "cell_type": "markdown",
   "id": "sharing-prescription",
   "metadata": {},
   "source": [
    "Now let's run some timings, using `points_large` for our arguments:"
   ]
  },
  {
   "cell_type": "code",
   "id": "visible-gospel",
   "metadata": {
    "ExecuteTime": {
     "end_time": "2025-06-18T04:38:43.614154Z",
     "start_time": "2025-06-18T04:38:43.608563Z"
    }
   },
   "source": [
    "from timeit import timeit"
   ],
   "outputs": [],
   "execution_count": 34
  },
  {
   "cell_type": "code",
   "id": "quick-material",
   "metadata": {
    "ExecuteTime": {
     "end_time": "2025-06-18T04:38:45.690730Z",
     "start_time": "2025-06-18T04:38:43.689200Z"
    }
   },
   "source": [
    "timeit('calc_loop(func, points_large)', globals=globals(), number=10)"
   ],
   "outputs": [
    {
     "data": {
      "text/plain": [
       "1.995264800003497"
      ]
     },
     "execution_count": 35,
     "metadata": {},
     "output_type": "execute_result"
    }
   ],
   "execution_count": 35
  },
  {
   "cell_type": "code",
   "id": "improving-choir",
   "metadata": {
    "ExecuteTime": {
     "end_time": "2025-06-18T04:38:47.748701Z",
     "start_time": "2025-06-18T04:38:45.724267Z"
    }
   },
   "source": [
    "timeit('calc_comp(func, points_large)', globals=globals(), number=10)"
   ],
   "outputs": [
    {
     "data": {
      "text/plain": [
       "2.0171974999975646"
      ]
     },
     "execution_count": 36,
     "metadata": {},
     "output_type": "execute_result"
    }
   ],
   "execution_count": 36
  },
  {
   "cell_type": "code",
   "id": "proud-model",
   "metadata": {
    "ExecuteTime": {
     "end_time": "2025-06-18T04:38:50.063690Z",
     "start_time": "2025-06-18T04:38:47.789156Z"
    }
   },
   "source": [
    "timeit('calc_map(func, points_large)', globals=globals(), number=10)"
   ],
   "outputs": [
    {
     "data": {
      "text/plain": [
       "2.2689055999944685"
      ]
     },
     "execution_count": 37,
     "metadata": {},
     "output_type": "execute_result"
    }
   ],
   "execution_count": 37
  },
  {
   "cell_type": "markdown",
   "id": "ready-accent",
   "metadata": {},
   "source": [
    "#### Question 3"
   ]
  },
  {
   "cell_type": "markdown",
   "id": "disciplinary-workshop",
   "metadata": {},
   "source": [
    "Write a function that returns a function with all arguments, except the first one, prefilled with certain values provided to the outer function."
   ]
  },
  {
   "cell_type": "markdown",
   "id": "permanent-level",
   "metadata": {},
   "source": [
    "(This is sometimes called a partial function)."
   ]
  },
  {
   "cell_type": "markdown",
   "id": "paperback-stock",
   "metadata": {},
   "source": [
    "For example, we may have some functions such as:"
   ]
  },
  {
   "cell_type": "code",
   "id": "premium-skating",
   "metadata": {
    "ExecuteTime": {
     "end_time": "2025-06-18T04:38:50.080892Z",
     "start_time": "2025-06-18T04:38:50.076371Z"
    }
   },
   "source": [
    "import math"
   ],
   "outputs": [],
   "execution_count": 38
  },
  {
   "cell_type": "code",
   "id": "worth-arcade",
   "metadata": {
    "ExecuteTime": {
     "end_time": "2025-06-18T04:38:50.119321Z",
     "start_time": "2025-06-18T04:38:50.114215Z"
    }
   },
   "source": [
    "def power(x, n):\n",
    "    return x ** n"
   ],
   "outputs": [],
   "execution_count": 39
  },
  {
   "cell_type": "code",
   "id": "promising-merchant",
   "metadata": {
    "ExecuteTime": {
     "end_time": "2025-06-18T04:38:50.143613Z",
     "start_time": "2025-06-18T04:38:50.139084Z"
    }
   },
   "source": [
    "def dist(pt1, pt2):\n",
    "    return math.sqrt(sum(coord_1 - coord_2 for coord_1, coord_2 in zip(pt1, pt2)))"
   ],
   "outputs": [],
   "execution_count": 40
  },
  {
   "cell_type": "markdown",
   "id": "regular-arabic",
   "metadata": {},
   "source": [
    "Or even functions already defined, such as:\n",
    "\n",
    "```\n",
    "math.gcd(a, b)\n",
    "```\n",
    "or\n",
    "```\n",
    "math.log(x, base)\n",
    "```"
   ]
  },
  {
   "cell_type": "markdown",
   "id": "stopped-thesis",
   "metadata": {},
   "source": [
    "We want to to be able to generate new functions, based on these ones (`power`, `dist`, `gcd`, `log`) but with all the values except the first one prefilled, for example, assuming our function is named `partial`, we can use it to define new functions this way:"
   ]
  },
  {
   "cell_type": "markdown",
   "id": "failing-demographic",
   "metadata": {},
   "source": [
    "```\n",
    "squares = partial(power, 2)\n",
    "dist_from_origin = partial(dist, (0, 0))\n",
    "gcd_13 = partial(math.gcd, 13)\n",
    "log_2 = partial(math.log, 2)\n",
    "log_10 = partial(math.log, 10)\n",
    "log_16 = partial(math.log, 16)\n",
    "```"
   ]
  },
  {
   "cell_type": "markdown",
   "id": "medical-colombia",
   "metadata": {},
   "source": [
    "Then when we call our new functions, we just pass in the value for the first argument, i.e."
   ]
  },
  {
   "cell_type": "markdown",
   "id": "identified-south",
   "metadata": {},
   "source": [
    "```\n",
    "squares(3) --> 9\n",
    "squares(4) --> 16\n",
    "dist_from_origin((1, 1)) --> 1.414\n",
    "log_2(10) --> 3.3219\n",
    "log_10(10) --> 1.0\n",
    "log_16(10) --> 0.8304\n",
    "```"
   ]
  },
  {
   "cell_type": "markdown",
   "id": "disabled-preliminary",
   "metadata": {},
   "source": [
    "##### Solution"
   ]
  },
  {
   "cell_type": "markdown",
   "id": "bright-stevens",
   "metadata": {},
   "source": [
    "For this we'll use a function that defines and returns a nested function, and captures the function whatever arguments need to be passed to it (aside from the first argument)."
   ]
  },
  {
   "cell_type": "code",
   "id": "conservative-primary",
   "metadata": {
    "ExecuteTime": {
     "end_time": "2025-06-18T04:38:50.167522Z",
     "start_time": "2025-06-18T04:38:50.162717Z"
    }
   },
   "source": [
    "def partial(f, *args, **kwargs):\n",
    "    def inner(first_arg):\n",
    "        print('func', f.__name__)\n",
    "        print('first_arg', first_arg)\n",
    "        print('args', args)\n",
    "        print('kwargs', kwargs)\n",
    "    return inner"
   ],
   "outputs": [],
   "execution_count": 41
  },
  {
   "cell_type": "markdown",
   "id": "miniature-scratch",
   "metadata": {},
   "source": [
    "Let's see how this behaves:"
   ]
  },
  {
   "cell_type": "code",
   "id": "administrative-transaction",
   "metadata": {
    "ExecuteTime": {
     "end_time": "2025-06-18T04:38:50.204349Z",
     "start_time": "2025-06-18T04:38:50.199964Z"
    }
   },
   "source": [
    "f = partial(power, 2)"
   ],
   "outputs": [],
   "execution_count": 42
  },
  {
   "cell_type": "markdown",
   "id": "boolean-pride",
   "metadata": {},
   "source": [
    "This function is a closure, and knows about both `power` and `2`. We can see it this way:"
   ]
  },
  {
   "cell_type": "markdown",
   "id": "attached-jaguar",
   "metadata": {},
   "source": [
    "We can call this closure:"
   ]
  },
  {
   "cell_type": "code",
   "id": "working-honey",
   "metadata": {
    "ExecuteTime": {
     "end_time": "2025-06-18T04:38:50.229438Z",
     "start_time": "2025-06-18T04:38:50.223916Z"
    }
   },
   "source": [
    "f(3)"
   ],
   "outputs": [
    {
     "name": "stdout",
     "output_type": "stream",
     "text": [
      "func power\n",
      "first_arg 3\n",
      "args (2,)\n",
      "kwargs {}\n"
     ]
    }
   ],
   "execution_count": 43
  },
  {
   "cell_type": "markdown",
   "id": "animated-violence",
   "metadata": {},
   "source": [
    "As you can see, the closure captured the `power` function and the value `2` (in `args`) - and of course `kwargs` is empty. If we had a function that requires keyword only arguments, we could pass those in too:"
   ]
  },
  {
   "cell_type": "code",
   "id": "incredible-advantage",
   "metadata": {
    "ExecuteTime": {
     "end_time": "2025-06-18T04:38:50.262405Z",
     "start_time": "2025-06-18T04:38:50.258431Z"
    }
   },
   "source": [
    "f = partial(lambda x, y, *, k1: (x, y, k1), 10, k1=100)"
   ],
   "outputs": [],
   "execution_count": 44
  },
  {
   "cell_type": "code",
   "id": "divided-magazine",
   "metadata": {
    "ExecuteTime": {
     "end_time": "2025-06-18T04:38:50.299415Z",
     "start_time": "2025-06-18T04:38:50.293596Z"
    }
   },
   "source": [
    "f(1)"
   ],
   "outputs": [
    {
     "name": "stdout",
     "output_type": "stream",
     "text": [
      "func <lambda>\n",
      "first_arg 1\n",
      "args (10,)\n",
      "kwargs {'k1': 100}\n"
     ]
    }
   ],
   "execution_count": 45
  },
  {
   "cell_type": "markdown",
   "id": "legal-password",
   "metadata": {},
   "source": [
    "So, we have the basic skeleton for our solution. What we now need to do is actually call the function, inserting `first_arg`, and return the result of that."
   ]
  },
  {
   "cell_type": "code",
   "id": "judicial-invitation",
   "metadata": {
    "ExecuteTime": {
     "end_time": "2025-06-18T04:38:50.358701Z",
     "start_time": "2025-06-18T04:38:50.353291Z"
    }
   },
   "source": [
    "def partial(f, *args, **kwargs):\n",
    "    def inner(first_arg):\n",
    "        result = f(first_arg, *args, **kwargs)\n",
    "        return result\n",
    "    return inner"
   ],
   "outputs": [],
   "execution_count": 46
  },
  {
   "cell_type": "markdown",
   "id": "opposed-omaha",
   "metadata": {},
   "source": [
    "We don't actually need to store the `result` and then return it, we can just return it directly:"
   ]
  },
  {
   "cell_type": "code",
   "id": "knowing-heater",
   "metadata": {
    "ExecuteTime": {
     "end_time": "2025-06-18T04:38:50.393529Z",
     "start_time": "2025-06-18T04:38:50.388730Z"
    }
   },
   "source": [
    "def partial(f, *args, **kwargs):\n",
    "    def inner(first_arg):\n",
    "        return f(first_arg, *args, **kwargs)\n",
    "    return inner"
   ],
   "outputs": [],
   "execution_count": 47
  },
  {
   "cell_type": "markdown",
   "id": "forced-adaptation",
   "metadata": {},
   "source": [
    "Now we can use this to generate some new functions with pre-filled arguments:"
   ]
  },
  {
   "cell_type": "code",
   "id": "indirect-vienna",
   "metadata": {
    "ExecuteTime": {
     "end_time": "2025-06-18T04:38:50.419357Z",
     "start_time": "2025-06-18T04:38:50.413832Z"
    }
   },
   "source": [
    "squares = partial(power, 2)\n",
    "dist_from_origin = partial(dist, (0, 0))\n",
    "gcd_13 = partial(math.gcd, 13)\n",
    "log_2 = partial(math.log, 2)\n",
    "log_10 = partial(math.log, 10)\n",
    "log_16 = partial(math.log, 16)"
   ],
   "outputs": [],
   "execution_count": 48
  },
  {
   "cell_type": "code",
   "id": "widespread-taylor",
   "metadata": {
    "ExecuteTime": {
     "end_time": "2025-06-18T04:38:50.446511Z",
     "start_time": "2025-06-18T04:38:50.440006Z"
    }
   },
   "source": [
    "squares(4)"
   ],
   "outputs": [
    {
     "data": {
      "text/plain": [
       "16"
      ]
     },
     "execution_count": 49,
     "metadata": {},
     "output_type": "execute_result"
    }
   ],
   "execution_count": 49
  },
  {
   "cell_type": "code",
   "id": "sized-studio",
   "metadata": {
    "ExecuteTime": {
     "end_time": "2025-06-18T04:38:50.487613Z",
     "start_time": "2025-06-18T04:38:50.481559Z"
    }
   },
   "source": [
    "dist_from_origin((1, 1))"
   ],
   "outputs": [
    {
     "data": {
      "text/plain": [
       "1.4142135623730951"
      ]
     },
     "execution_count": 50,
     "metadata": {},
     "output_type": "execute_result"
    }
   ],
   "execution_count": 50
  },
  {
   "cell_type": "code",
   "id": "regulation-surge",
   "metadata": {
    "ExecuteTime": {
     "end_time": "2025-06-18T04:38:50.556656Z",
     "start_time": "2025-06-18T04:38:50.550301Z"
    }
   },
   "source": [
    "gcd_13(169)"
   ],
   "outputs": [
    {
     "data": {
      "text/plain": [
       "13"
      ]
     },
     "execution_count": 51,
     "metadata": {},
     "output_type": "execute_result"
    }
   ],
   "execution_count": 51
  },
  {
   "cell_type": "code",
   "id": "reported-royal",
   "metadata": {
    "ExecuteTime": {
     "end_time": "2025-06-18T04:38:50.622571Z",
     "start_time": "2025-06-18T04:38:50.616507Z"
    }
   },
   "source": [
    "log_2(10)"
   ],
   "outputs": [
    {
     "data": {
      "text/plain": [
       "3.3219280948873626"
      ]
     },
     "execution_count": 52,
     "metadata": {},
     "output_type": "execute_result"
    }
   ],
   "execution_count": 52
  },
  {
   "cell_type": "code",
   "id": "signal-sensitivity",
   "metadata": {
    "ExecuteTime": {
     "end_time": "2025-06-18T04:38:50.681127Z",
     "start_time": "2025-06-18T04:38:50.676105Z"
    }
   },
   "source": [
    "log_10(10)"
   ],
   "outputs": [
    {
     "data": {
      "text/plain": [
       "1.0"
      ]
     },
     "execution_count": 53,
     "metadata": {},
     "output_type": "execute_result"
    }
   ],
   "execution_count": 53
  },
  {
   "cell_type": "code",
   "id": "extraordinary-river",
   "metadata": {
    "ExecuteTime": {
     "end_time": "2025-06-18T04:38:50.730278Z",
     "start_time": "2025-06-18T04:38:50.725267Z"
    }
   },
   "source": [
    "log_16(10)"
   ],
   "outputs": [
    {
     "data": {
      "text/plain": [
       "0.8304820237218407"
      ]
     },
     "execution_count": 54,
     "metadata": {},
     "output_type": "execute_result"
    }
   ],
   "execution_count": 54
  },
  {
   "cell_type": "markdown",
   "id": "iraqi-burlington",
   "metadata": {},
   "source": [
    "#### Question 4"
   ]
  },
  {
   "cell_type": "markdown",
   "id": "directed-dryer",
   "metadata": {},
   "source": [
    "Write a function that can be used to not only execute another function with specified arguments, but print a \"log\" (basically just print to the console\", of how long it took to execute the function."
   ]
  },
  {
   "cell_type": "markdown",
   "id": "assisted-turner",
   "metadata": {},
   "source": [
    "For example, given some functions like this:"
   ]
  },
  {
   "cell_type": "code",
   "id": "collective-modern",
   "metadata": {
    "ExecuteTime": {
     "end_time": "2025-06-18T04:38:50.769555Z",
     "start_time": "2025-06-18T04:38:50.763760Z"
    }
   },
   "source": [
    "def norm(x, y):\n",
    "    return math.sqrt(x**2 + y**2)\n",
    "\n",
    "def find_index_min(seq):\n",
    "    min_ = min(seq)\n",
    "    return seq.index(min_)"
   ],
   "outputs": [],
   "execution_count": 55
  },
  {
   "cell_type": "markdown",
   "id": "incomplete-movement",
   "metadata": {},
   "source": [
    "Then assuming your logging function is called `logged`, you could create logged functions this way:"
   ]
  },
  {
   "cell_type": "code",
   "id": "proprietary-reputation",
   "metadata": {
    "ExecuteTime": {
     "end_time": "2025-06-18T04:38:50.802056Z",
     "start_time": "2025-06-18T04:38:50.796846Z"
    }
   },
   "source": [
    "def logged(f):\n",
    "    # implement this\n",
    "    pass"
   ],
   "outputs": [],
   "execution_count": 56
  },
  {
   "cell_type": "code",
   "id": "direct-closure",
   "metadata": {
    "ExecuteTime": {
     "end_time": "2025-06-18T04:38:50.829346Z",
     "start_time": "2025-06-18T04:38:50.825332Z"
    }
   },
   "source": [
    "norm_logged = logged(norm)\n",
    "find_index_min_logged = logged(find_index_min)"
   ],
   "outputs": [],
   "execution_count": 57
  },
  {
   "cell_type": "markdown",
   "id": "reported-auckland",
   "metadata": {},
   "source": [
    "You would then be able to call `norm_logged` with some arguments, or `find_index_min_logged` with some arguments, and not only get the actual result back, but also see an output to the console that tells you how long the function took to run."
   ]
  },
  {
   "cell_type": "markdown",
   "id": "vertical-hypothesis",
   "metadata": {},
   "source": [
    "##### Solution"
   ]
  },
  {
   "cell_type": "markdown",
   "id": "inappropriate-memory",
   "metadata": {},
   "source": [
    "To solve this, we'll use a closure with nested functions."
   ]
  },
  {
   "cell_type": "markdown",
   "id": "significant-building",
   "metadata": {},
   "source": [
    "The outer function will take a single argument, the function `f`."
   ]
  },
  {
   "cell_type": "code",
   "id": "involved-bolivia",
   "metadata": {
    "ExecuteTime": {
     "end_time": "2025-06-18T04:38:50.855982Z",
     "start_time": "2025-06-18T04:38:50.851270Z"
    }
   },
   "source": [
    "def logged(f):\n",
    "    pass"
   ],
   "outputs": [],
   "execution_count": 58
  },
  {
   "cell_type": "markdown",
   "id": "statewide-novelty",
   "metadata": {},
   "source": [
    "Then we'll create a nested function that will receive whatever arguments `f` needs to be called, and we'll return that new inner function (that will be the closure):"
   ]
  },
  {
   "cell_type": "code",
   "id": "regional-solomon",
   "metadata": {
    "ExecuteTime": {
     "end_time": "2025-06-18T04:38:50.909069Z",
     "start_time": "2025-06-18T04:38:50.903152Z"
    }
   },
   "source": [
    "def logged(f):\n",
    "    def inner(*args, **kwargs):\n",
    "        result = f(*args, **kwargs)\n",
    "        return result\n",
    "    return inner"
   ],
   "outputs": [],
   "execution_count": 59
  },
  {
   "cell_type": "markdown",
   "id": "ignored-lightning",
   "metadata": {},
   "source": [
    "You'll notice that when we call `logged(norm)` we'll actually get a function back - that `inner` function whose `f` value is actually `norm` - let's try it out:"
   ]
  },
  {
   "cell_type": "code",
   "id": "loose-technique",
   "metadata": {
    "ExecuteTime": {
     "end_time": "2025-06-18T04:38:50.950656Z",
     "start_time": "2025-06-18T04:38:50.945089Z"
    }
   },
   "source": [
    "logged_norm = logged(norm)"
   ],
   "outputs": [],
   "execution_count": 60
  },
  {
   "cell_type": "code",
   "id": "existing-immune",
   "metadata": {
    "ExecuteTime": {
     "end_time": "2025-06-18T04:38:50.990245Z",
     "start_time": "2025-06-18T04:38:50.984696Z"
    }
   },
   "source": [
    "logged_norm"
   ],
   "outputs": [
    {
     "data": {
      "text/plain": [
       "<function __main__.logged.<locals>.inner(*args, **kwargs)>"
      ]
     },
     "execution_count": 61,
     "metadata": {},
     "output_type": "execute_result"
    }
   ],
   "execution_count": 61
  },
  {
   "cell_type": "markdown",
   "id": "insured-whole",
   "metadata": {},
   "source": [
    "As expected `logged_norm` is a function - but it is a special function - it knows that `f` (in it's body) is actually `norm`."
   ]
  },
  {
   "cell_type": "markdown",
   "id": "inclusive-jimmy",
   "metadata": {},
   "source": [
    "We can actually see it this way:"
   ]
  },
  {
   "cell_type": "code",
   "id": "coral-distinction",
   "metadata": {
    "ExecuteTime": {
     "end_time": "2025-06-18T04:38:51.035739Z",
     "start_time": "2025-06-18T04:38:51.029576Z"
    }
   },
   "source": [
    "logged_norm.__closure__"
   ],
   "outputs": [
    {
     "data": {
      "text/plain": [
       "(<cell at 0x0000028FF0FEC820: function object at 0x0000028FF31CE160>,)"
      ]
     },
     "execution_count": 62,
     "metadata": {},
     "output_type": "execute_result"
    }
   ],
   "execution_count": 62
  },
  {
   "cell_type": "markdown",
   "id": "selective-sudan",
   "metadata": {},
   "source": [
    "Notice how there is this \"cell\", which is a function object at some memory address - that memory address is actually the memory address of `norm`:"
   ]
  },
  {
   "cell_type": "code",
   "id": "endless-springer",
   "metadata": {
    "ExecuteTime": {
     "end_time": "2025-06-18T04:38:51.135328Z",
     "start_time": "2025-06-18T04:38:51.128226Z"
    }
   },
   "source": [
    "hex(id(norm))"
   ],
   "outputs": [
    {
     "data": {
      "text/plain": [
       "'0x28ff31ce160'"
      ]
     },
     "execution_count": 63,
     "metadata": {},
     "output_type": "execute_result"
    }
   ],
   "execution_count": 63
  },
  {
   "cell_type": "markdown",
   "id": "fifth-zealand",
   "metadata": {},
   "source": [
    "We could also create a logged function for `find_index_min`:"
   ]
  },
  {
   "cell_type": "code",
   "id": "ranking-incidence",
   "metadata": {
    "ExecuteTime": {
     "end_time": "2025-06-18T04:38:51.203369Z",
     "start_time": "2025-06-18T04:38:51.199364Z"
    }
   },
   "source": [
    "find_index_min_logged=logged(find_index_min)"
   ],
   "outputs": [],
   "execution_count": 64
  },
  {
   "cell_type": "code",
   "id": "valid-migration",
   "metadata": {
    "ExecuteTime": {
     "end_time": "2025-06-18T04:38:51.238353Z",
     "start_time": "2025-06-18T04:38:51.232796Z"
    }
   },
   "source": [
    "find_index_min_logged.__closure__"
   ],
   "outputs": [
    {
     "data": {
      "text/plain": [
       "(<cell at 0x0000028FF0FD36A0: function object at 0x0000028FF31CF2E0>,)"
      ]
     },
     "execution_count": 65,
     "metadata": {},
     "output_type": "execute_result"
    }
   ],
   "execution_count": 65
  },
  {
   "cell_type": "markdown",
   "id": "adaptive-toyota",
   "metadata": {},
   "source": [
    "And the function in that closure is actually the `find_index_min` function:"
   ]
  },
  {
   "cell_type": "code",
   "id": "expired-georgia",
   "metadata": {
    "ExecuteTime": {
     "end_time": "2025-06-18T04:38:51.302875Z",
     "start_time": "2025-06-18T04:38:51.295780Z"
    }
   },
   "source": [
    "hex(id(find_index_min))"
   ],
   "outputs": [
    {
     "data": {
      "text/plain": [
       "'0x28ff31cf2e0'"
      ]
     },
     "execution_count": 66,
     "metadata": {},
     "output_type": "execute_result"
    }
   ],
   "execution_count": 66
  },
  {
   "cell_type": "markdown",
   "id": "threaded-killing",
   "metadata": {},
   "source": [
    "Now let's finish off our `logged` function - we still need to time things and print that out:"
   ]
  },
  {
   "cell_type": "code",
   "id": "rolled-heater",
   "metadata": {
    "ExecuteTime": {
     "end_time": "2025-06-18T04:38:51.354660Z",
     "start_time": "2025-06-18T04:38:51.349148Z"
    }
   },
   "source": [
    "from time import perf_counter\n",
    "\n",
    "def logged(f):\n",
    "    def inner(*args, **kwargs):\n",
    "        start = perf_counter()\n",
    "        result = f(*args, **kwargs)\n",
    "        end = perf_counter()\n",
    "        print(f'elapsed: {end - start} secs')\n",
    "        return result\n",
    "    return inner"
   ],
   "outputs": [],
   "execution_count": 67
  },
  {
   "cell_type": "markdown",
   "id": "delayed-cinema",
   "metadata": {},
   "source": [
    "And let's try it out:"
   ]
  },
  {
   "cell_type": "code",
   "id": "previous-soundtrack",
   "metadata": {
    "ExecuteTime": {
     "end_time": "2025-06-18T04:38:51.381281Z",
     "start_time": "2025-06-18T04:38:51.376220Z"
    }
   },
   "source": [
    "logged_norm = logged(norm)\n",
    "find_index_min_logged=logged(find_index_min)"
   ],
   "outputs": [],
   "execution_count": 68
  },
  {
   "cell_type": "code",
   "id": "southwest-count",
   "metadata": {
    "ExecuteTime": {
     "end_time": "2025-06-18T04:38:51.404863Z",
     "start_time": "2025-06-18T04:38:51.398923Z"
    }
   },
   "source": [
    "result = logged_norm(1, 1)\n",
    "print(f'result: {result}')"
   ],
   "outputs": [
    {
     "name": "stdout",
     "output_type": "stream",
     "text": [
      "elapsed: 4.0000013541430235e-06 secs\n",
      "result: 1.4142135623730951\n"
     ]
    }
   ],
   "execution_count": 69
  },
  {
   "cell_type": "code",
   "id": "political-violin",
   "metadata": {
    "ExecuteTime": {
     "end_time": "2025-06-18T04:38:51.473003Z",
     "start_time": "2025-06-18T04:38:51.467348Z"
    }
   },
   "source": [
    "result = find_index_min_logged([10, 5, 3, -2, -10, 100])\n",
    "print(f'result: {result}')"
   ],
   "outputs": [
    {
     "name": "stdout",
     "output_type": "stream",
     "text": [
      "elapsed: 3.7999998312443495e-06 secs\n",
      "result: 4\n"
     ]
    }
   ],
   "execution_count": 70
  }
 ],
 "metadata": {
  "kernelspec": {
   "display_name": "Python 3",
   "language": "python",
   "name": "python3"
  },
  "language_info": {
   "codemirror_mode": {
    "name": "ipython",
    "version": 3
   },
   "file_extension": ".py",
   "mimetype": "text/x-python",
   "name": "python",
   "nbconvert_exporter": "python",
   "pygments_lexer": "ipython3",
   "version": "3.9.1"
  }
 },
 "nbformat": 4,
 "nbformat_minor": 5
}
