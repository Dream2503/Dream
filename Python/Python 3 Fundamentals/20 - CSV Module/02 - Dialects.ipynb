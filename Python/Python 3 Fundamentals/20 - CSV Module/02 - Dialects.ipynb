{
 "cells": [
  {
   "cell_type": "markdown",
   "metadata": {},
   "source": [
    "### Dialects"
   ]
  },
  {
   "cell_type": "markdown",
   "metadata": {},
   "source": [
    "We saw that we have different ways CSV files can be formatted - from field separators and field delimiters to how field delimiters inside a field need to be doubled up or escaped somehow."
   ]
  },
  {
   "cell_type": "markdown",
   "metadata": {},
   "source": [
    "These settings, grouped together, form a **dialect**."
   ]
  },
  {
   "cell_type": "markdown",
   "metadata": {},
   "source": [
    "In fact, Python has a few dialects pre-defined for us:"
   ]
  },
  {
   "cell_type": "code",
   "metadata": {
    "ExecuteTime": {
     "end_time": "2025-06-18T04:55:50.125330Z",
     "start_time": "2025-06-18T04:55:50.116432Z"
    }
   },
   "source": [
    "import csv"
   ],
   "outputs": [],
   "execution_count": 1
  },
  {
   "cell_type": "code",
   "metadata": {
    "ExecuteTime": {
     "end_time": "2025-06-18T04:55:50.485737Z",
     "start_time": "2025-06-18T04:55:50.476096Z"
    }
   },
   "source": [
    "csv.list_dialects()"
   ],
   "outputs": [
    {
     "data": {
      "text/plain": [
       "['excel', 'excel-tab', 'unix']"
      ]
     },
     "execution_count": 2,
     "metadata": {},
     "output_type": "execute_result"
    }
   ],
   "execution_count": 2
  },
  {
   "cell_type": "markdown",
   "metadata": {},
   "source": [
    "You can also create your own dialects, and you may want to do that if you need to customize a lot of these parameters and want to re-use the same settings multiple times in your code. This way you don't have to constantly respecify them every time you load a similarly formatted CSV file."
   ]
  },
  {
   "cell_type": "markdown",
   "metadata": {},
   "source": [
    "For example, suppose, consider this file: "
   ]
  },
  {
   "cell_type": "code",
   "metadata": {
    "ExecuteTime": {
     "end_time": "2025-06-18T04:55:50.575981Z",
     "start_time": "2025-06-18T04:55:50.569997Z"
    }
   },
   "source": [
    "with open('actors.pdv') as f:\n",
    "    for row in f:\n",
    "        print(row.strip())"
   ],
   "outputs": [
    {
     "name": "stdout",
     "output_type": "stream",
     "text": [
      "FIRST_NAME| LAST_NAME| DOB| SKETCHES\n",
      "John|Cleese| 10/27/39| 'The Cheese Shop, Ministry of Silly Walks, It\\'s the Arts'\n",
      "Eric| Idle| 3/29/43| 'The Cheese Shop, Nudge Nudge, \"Spam\"'\n",
      "Peter| 'O\\'Toole'| 8/2/32| Lawrence of Arabia\n"
     ]
    }
   ],
   "execution_count": 3
  },
  {
   "cell_type": "markdown",
   "metadata": {},
   "source": [
    "Notice a few things:\n",
    "1. the fields are delimited by pipe characters (`|`)\n",
    "2. there is white space immediately following each separator\n",
    "3. single quotes are used to optionally delimit fields\n",
    "4. single quotes inside a field are escaped, not by doubling up the single quote, but by prefixing it with a `\\`"
   ]
  },
  {
   "cell_type": "markdown",
   "metadata": {},
   "source": [
    "So, we'll need to customize our settings for importing such a file."
   ]
  },
  {
   "cell_type": "markdown",
   "metadata": {},
   "source": [
    "Before we do that, we are going to need to see how we can create a string literal that contains an actual `\\` character - remember that in Python `\\` in a string literal \"escapes\" the next character - i.e. gives it special meaning:"
   ]
  },
  {
   "cell_type": "code",
   "metadata": {
    "ExecuteTime": {
     "end_time": "2025-06-18T04:55:50.651614Z",
     "start_time": "2025-06-18T04:55:50.645355Z"
    }
   },
   "source": [
    "print(\"1\\t2\\t3\\t4\")"
   ],
   "outputs": [
    {
     "name": "stdout",
     "output_type": "stream",
     "text": [
      "1\t2\t3\t4\n"
     ]
    }
   ],
   "execution_count": 4
  },
  {
   "cell_type": "markdown",
   "metadata": {},
   "source": [
    "As you can see `\\t` is interpreted as a tab character. So, we cannot just use `\\` by itself in a string, to actually define a `\\` character in a string literal we can use `\\\\`:"
   ]
  },
  {
   "cell_type": "code",
   "metadata": {
    "ExecuteTime": {
     "end_time": "2025-06-18T04:55:50.706623Z",
     "start_time": "2025-06-18T04:55:50.700917Z"
    }
   },
   "source": [
    "print('\\\\')"
   ],
   "outputs": [
    {
     "name": "stdout",
     "output_type": "stream",
     "text": [
      "\\\n"
     ]
    }
   ],
   "execution_count": 5
  },
  {
   "cell_type": "markdown",
   "metadata": {},
   "source": [
    "Ok, now that we have that covered, let's go ahead and define all the settings we need in order to parse that file:"
   ]
  },
  {
   "cell_type": "code",
   "metadata": {
    "ExecuteTime": {
     "end_time": "2025-06-18T04:55:50.747600Z",
     "start_time": "2025-06-18T04:55:50.740065Z"
    }
   },
   "source": [
    "with open('actors.pdv') as f:\n",
    "    reader = csv.reader(\n",
    "        f, \n",
    "        delimiter='|', \n",
    "        quotechar = \"'\", \n",
    "        skipinitialspace=True, \n",
    "        escapechar=\"\\\\\"\n",
    "    )\n",
    "    for row in reader:\n",
    "        print(row)"
   ],
   "outputs": [
    {
     "name": "stdout",
     "output_type": "stream",
     "text": [
      "['FIRST_NAME', 'LAST_NAME', 'DOB', 'SKETCHES']\n",
      "['John', 'Cleese', '10/27/39', \"The Cheese Shop, Ministry of Silly Walks, It's the Arts\"]\n",
      "['Eric', 'Idle', '3/29/43', 'The Cheese Shop, Nudge Nudge, \"Spam\"']\n",
      "['Peter', \"O'Toole\", '8/2/32', 'Lawrence of Arabia']\n"
     ]
    }
   ],
   "execution_count": 6
  },
  {
   "cell_type": "markdown",
   "metadata": {},
   "source": [
    "Now if I have to parse another file with the same format, I'm going to have to re-type all those arguments, again and again."
   ]
  },
  {
   "cell_type": "markdown",
   "metadata": {},
   "source": [
    "Instead, we can store all these settings in a dialect once, somewhere at the start of our program, and just specify that dialect when we need it."
   ]
  },
  {
   "cell_type": "markdown",
   "metadata": {},
   "source": [
    "To create a new dialect, we have to **register** a new dialect as follows:"
   ]
  },
  {
   "cell_type": "code",
   "metadata": {
    "ExecuteTime": {
     "end_time": "2025-06-18T04:55:50.786662Z",
     "start_time": "2025-06-18T04:55:50.781773Z"
    }
   },
   "source": [
    "csv.register_dialect(\n",
    "    'pdv', \n",
    "    delimiter='|', \n",
    "    quotechar = \"'\", \n",
    "    skipinitialspace=True, \n",
    "    escapechar=\"\\\\\"\n",
    ")"
   ],
   "outputs": [],
   "execution_count": 7
  },
  {
   "cell_type": "markdown",
   "metadata": {},
   "source": [
    "And we can see our dialect has been registered:"
   ]
  },
  {
   "cell_type": "code",
   "metadata": {
    "ExecuteTime": {
     "end_time": "2025-06-18T04:55:50.835827Z",
     "start_time": "2025-06-18T04:55:50.830234Z"
    }
   },
   "source": [
    "csv.list_dialects()"
   ],
   "outputs": [
    {
     "data": {
      "text/plain": [
       "['excel', 'excel-tab', 'unix', 'pdv']"
      ]
     },
     "execution_count": 8,
     "metadata": {},
     "output_type": "execute_result"
    }
   ],
   "execution_count": 8
  },
  {
   "cell_type": "markdown",
   "metadata": {},
   "source": [
    "And now we can use that dialect instead of specifying the parsing parameters individually:"
   ]
  },
  {
   "cell_type": "code",
   "metadata": {
    "ExecuteTime": {
     "end_time": "2025-06-18T04:55:50.895582Z",
     "start_time": "2025-06-18T04:55:50.889456Z"
    }
   },
   "source": [
    "with open('actors.pdv') as f:\n",
    "    reader = csv.reader(f, dialect='pdv')\n",
    "    for row in reader:\n",
    "        print(row)"
   ],
   "outputs": [
    {
     "name": "stdout",
     "output_type": "stream",
     "text": [
      "['FIRST_NAME', 'LAST_NAME', 'DOB', 'SKETCHES']\n",
      "['John', 'Cleese', '10/27/39', \"The Cheese Shop, Ministry of Silly Walks, It's the Arts\"]\n",
      "['Eric', 'Idle', '3/29/43', 'The Cheese Shop, Nudge Nudge, \"Spam\"']\n",
      "['Peter', \"O'Toole\", '8/2/32', 'Lawrence of Arabia']\n"
     ]
    }
   ],
   "execution_count": 9
  }
 ],
 "metadata": {
  "kernelspec": {
   "display_name": "Python 3",
   "language": "python",
   "name": "python3"
  },
  "language_info": {
   "codemirror_mode": {
    "name": "ipython",
    "version": 3
   },
   "file_extension": ".py",
   "mimetype": "text/x-python",
   "name": "python",
   "nbconvert_exporter": "python",
   "pygments_lexer": "ipython3",
   "version": "3.9.1"
  }
 },
 "nbformat": 4,
 "nbformat_minor": 4
}
