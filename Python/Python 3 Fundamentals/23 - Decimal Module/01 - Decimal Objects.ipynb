{
 "cells": [
  {
   "cell_type": "markdown",
   "metadata": {},
   "source": [
    "### Decimal Objects"
   ]
  },
  {
   "cell_type": "markdown",
   "metadata": {},
   "source": [
    "Python docs: https://docs.python.org/3/library/decimal.html#context-objects"
   ]
  },
  {
   "cell_type": "markdown",
   "metadata": {},
   "source": [
    "Decimal standard: http://speleotrove.com/decimal/damodel.html"
   ]
  },
  {
   "cell_type": "markdown",
   "metadata": {},
   "source": [
    "Let's start by importing the `Decimal` class from the `decimal` module."
   ]
  },
  {
   "cell_type": "code",
   "metadata": {
    "ExecuteTime": {
     "end_time": "2025-06-18T05:01:30.013526Z",
     "start_time": "2025-06-18T05:01:30.005922Z"
    }
   },
   "source": [
    "import decimal\n",
    "from decimal import Decimal"
   ],
   "outputs": [],
   "execution_count": 1
  },
  {
   "cell_type": "markdown",
   "metadata": {},
   "source": [
    "Now we can create a `Decimal` object:"
   ]
  },
  {
   "cell_type": "code",
   "metadata": {
    "ExecuteTime": {
     "end_time": "2025-06-18T05:01:30.333873Z",
     "start_time": "2025-06-18T05:01:30.328874Z"
    }
   },
   "source": [
    "d = Decimal(100)"
   ],
   "outputs": [],
   "execution_count": 2
  },
  {
   "cell_type": "code",
   "metadata": {
    "ExecuteTime": {
     "end_time": "2025-06-18T05:01:30.382917Z",
     "start_time": "2025-06-18T05:01:30.372280Z"
    }
   },
   "source": [
    "d"
   ],
   "outputs": [
    {
     "data": {
      "text/plain": [
       "Decimal('100')"
      ]
     },
     "execution_count": 3,
     "metadata": {},
     "output_type": "execute_result"
    }
   ],
   "execution_count": 3
  },
  {
   "cell_type": "markdown",
   "metadata": {},
   "source": [
    "We can use integer literals to create `Decimal` objects."
   ]
  },
  {
   "cell_type": "markdown",
   "metadata": {},
   "source": [
    "We can even use `float` objects, but with a major caveat:"
   ]
  },
  {
   "cell_type": "code",
   "metadata": {
    "ExecuteTime": {
     "end_time": "2025-06-18T05:01:30.481974Z",
     "start_time": "2025-06-18T05:01:30.475919Z"
    }
   },
   "source": [
    "Decimal(0.1)"
   ],
   "outputs": [
    {
     "data": {
      "text/plain": [
       "Decimal('0.1000000000000000055511151231257827021181583404541015625')"
      ]
     },
     "execution_count": 4,
     "metadata": {},
     "output_type": "execute_result"
    }
   ],
   "execution_count": 4
  },
  {
   "cell_type": "markdown",
   "metadata": {},
   "source": [
    "As you can see, the problem is that `0.1` is a float, and therefore does not have an exact representation."
   ]
  },
  {
   "cell_type": "markdown",
   "metadata": {},
   "source": [
    "When we use a float to create a `Decimal` object, we are therefore using that inexact `float` to start off with."
   ]
  },
  {
   "cell_type": "markdown",
   "metadata": {},
   "source": [
    "So, we need to tell `Decimal` that we want the **exact** number `0.1` - not the float."
   ]
  },
  {
   "cell_type": "markdown",
   "metadata": {},
   "source": [
    "We do so by essentially using a string literal that `Decimal` will parse and create an exact representation:"
   ]
  },
  {
   "cell_type": "code",
   "metadata": {
    "ExecuteTime": {
     "end_time": "2025-06-18T05:01:30.540554Z",
     "start_time": "2025-06-18T05:01:30.534614Z"
    }
   },
   "source": [
    "d = Decimal('0.1')"
   ],
   "outputs": [],
   "execution_count": 5
  },
  {
   "cell_type": "code",
   "metadata": {
    "ExecuteTime": {
     "end_time": "2025-06-18T05:01:30.583066Z",
     "start_time": "2025-06-18T05:01:30.577892Z"
    }
   },
   "source": [
    "d"
   ],
   "outputs": [
    {
     "data": {
      "text/plain": [
       "Decimal('0.1')"
      ]
     },
     "execution_count": 6,
     "metadata": {},
     "output_type": "execute_result"
    }
   ],
   "execution_count": 6
  },
  {
   "cell_type": "markdown",
   "metadata": {},
   "source": [
    "So now we have an exact representation of `0.1`, and, in fact:"
   ]
  },
  {
   "cell_type": "code",
   "metadata": {
    "ExecuteTime": {
     "end_time": "2025-06-18T05:01:30.654088Z",
     "start_time": "2025-06-18T05:01:30.647558Z"
    }
   },
   "source": [
    "Decimal('0.1') + Decimal('0.1') + Decimal('0.1') == Decimal('0.3')"
   ],
   "outputs": [
    {
     "data": {
      "text/plain": [
       "True"
      ]
     },
     "execution_count": 7,
     "metadata": {},
     "output_type": "execute_result"
    }
   ],
   "execution_count": 7
  },
  {
   "cell_type": "markdown",
   "metadata": {},
   "source": [
    "Whereas we have seen before that this is not the case with `floats`:"
   ]
  },
  {
   "cell_type": "code",
   "metadata": {
    "ExecuteTime": {
     "end_time": "2025-06-18T05:01:30.723927Z",
     "start_time": "2025-06-18T05:01:30.717752Z"
    }
   },
   "source": [
    "0.1 + 0.1 + 0.1 == 0.3"
   ],
   "outputs": [
    {
     "data": {
      "text/plain": [
       "False"
      ]
     },
     "execution_count": 8,
     "metadata": {},
     "output_type": "execute_result"
    }
   ],
   "execution_count": 8
  },
  {
   "cell_type": "markdown",
   "metadata": {},
   "source": [
    "The normal arithmetic operators work just fine with `Decimal` objects:"
   ]
  },
  {
   "cell_type": "code",
   "metadata": {
    "ExecuteTime": {
     "end_time": "2025-06-18T05:01:30.775703Z",
     "start_time": "2025-06-18T05:01:30.769172Z"
    }
   },
   "source": [
    "Decimal('0.1') * Decimal('0.3')"
   ],
   "outputs": [
    {
     "data": {
      "text/plain": [
       "Decimal('0.03')"
      ]
     },
     "execution_count": 9,
     "metadata": {},
     "output_type": "execute_result"
    }
   ],
   "execution_count": 9
  },
  {
   "cell_type": "markdown",
   "metadata": {},
   "source": [
    "Division works too, but of course we still can end up with loss of precision:"
   ]
  },
  {
   "cell_type": "code",
   "metadata": {
    "ExecuteTime": {
     "end_time": "2025-06-18T05:01:30.849459Z",
     "start_time": "2025-06-18T05:01:30.842857Z"
    }
   },
   "source": [
    "Decimal(1) / Decimal(8)"
   ],
   "outputs": [
    {
     "data": {
      "text/plain": [
       "Decimal('0.125')"
      ]
     },
     "execution_count": 10,
     "metadata": {},
     "output_type": "execute_result"
    }
   ],
   "execution_count": 10
  },
  {
   "cell_type": "markdown",
   "metadata": {},
   "source": [
    "works fine, but this does not have a finite representation:"
   ]
  },
  {
   "cell_type": "code",
   "metadata": {
    "ExecuteTime": {
     "end_time": "2025-06-18T05:01:30.912839Z",
     "start_time": "2025-06-18T05:01:30.907026Z"
    }
   },
   "source": [
    "Decimal(1) / Decimal(3)"
   ],
   "outputs": [
    {
     "data": {
      "text/plain": [
       "Decimal('0.3333333333333333333333333333')"
      ]
     },
     "execution_count": 11,
     "metadata": {},
     "output_type": "execute_result"
    }
   ],
   "execution_count": 11
  },
  {
   "cell_type": "markdown",
   "metadata": {},
   "source": [
    "So, how many digits do we have in the approximate representation?"
   ]
  },
  {
   "cell_type": "markdown",
   "metadata": {},
   "source": [
    "It depends on your context. We'll come back to contexts in detail, but for now we can see the global arithmetic context:"
   ]
  },
  {
   "cell_type": "code",
   "metadata": {
    "ExecuteTime": {
     "end_time": "2025-06-18T05:01:30.961231Z",
     "start_time": "2025-06-18T05:01:30.955799Z"
    }
   },
   "source": [
    "decimal.getcontext()"
   ],
   "outputs": [
    {
     "data": {
      "text/plain": [
       "Context(prec=28, rounding=ROUND_HALF_EVEN, Emin=-999999, Emax=999999, capitals=1, clamp=0, flags=[Inexact, FloatOperation, Rounded], traps=[InvalidOperation, DivisionByZero, Overflow])"
      ]
     },
     "execution_count": 12,
     "metadata": {},
     "output_type": "execute_result"
    }
   ],
   "execution_count": 12
  },
  {
   "cell_type": "markdown",
   "metadata": {},
   "source": [
    "We can see that our default precision is `28`, and the default rounding method is `ROUND_HALF_EVEN`, which is Banker's rounding."
   ]
  },
  {
   "cell_type": "markdown",
   "metadata": {},
   "source": [
    "We can use the `round()` function, and Python will use the `Decimal` objects special rounding method (called `quantize`)internally:"
   ]
  },
  {
   "cell_type": "code",
   "metadata": {
    "ExecuteTime": {
     "end_time": "2025-06-18T05:01:31.038342Z",
     "start_time": "2025-06-18T05:01:31.022078Z"
    }
   },
   "source": [
    "round(Decimal('1.135'), 2)"
   ],
   "outputs": [
    {
     "data": {
      "text/plain": [
       "Decimal('1.14')"
      ]
     },
     "execution_count": 13,
     "metadata": {},
     "output_type": "execute_result"
    }
   ],
   "execution_count": 13
  },
  {
   "cell_type": "code",
   "metadata": {
    "ExecuteTime": {
     "end_time": "2025-06-18T05:01:31.077402Z",
     "start_time": "2025-06-18T05:01:31.071814Z"
    }
   },
   "source": [
    "round(Decimal('1.145'), 2)"
   ],
   "outputs": [
    {
     "data": {
      "text/plain": [
       "Decimal('1.14')"
      ]
     },
     "execution_count": 14,
     "metadata": {},
     "output_type": "execute_result"
    }
   ],
   "execution_count": 14
  },
  {
   "cell_type": "markdown",
   "metadata": {},
   "source": [
    "We discussed significant digits in the lecture. Let's see this:"
   ]
  },
  {
   "cell_type": "code",
   "metadata": {
    "ExecuteTime": {
     "end_time": "2025-06-18T05:01:31.148758Z",
     "start_time": "2025-06-18T05:01:31.143230Z"
    }
   },
   "source": [
    "d1 = Decimal('1.20')"
   ],
   "outputs": [],
   "execution_count": 15
  },
  {
   "cell_type": "code",
   "metadata": {
    "ExecuteTime": {
     "end_time": "2025-06-18T05:01:31.204787Z",
     "start_time": "2025-06-18T05:01:31.199063Z"
    }
   },
   "source": [
    "d1"
   ],
   "outputs": [
    {
     "data": {
      "text/plain": [
       "Decimal('1.20')"
      ]
     },
     "execution_count": 16,
     "metadata": {},
     "output_type": "execute_result"
    }
   ],
   "execution_count": 16
  },
  {
   "cell_type": "markdown",
   "metadata": {},
   "source": [
    "As you can see the trailing `0` is preserved - it is significant. `1.20` holds more information that `1.2` - `1.2` could be `1.2x` (x usually less than 5, depending on rounding mechanism), and `1.20` is more precise - and `Decimal` objects will take that into account."
   ]
  },
  {
   "cell_type": "markdown",
   "metadata": {},
   "source": [
    "Now, we can multiply two decimal objects:"
   ]
  },
  {
   "cell_type": "code",
   "metadata": {
    "ExecuteTime": {
     "end_time": "2025-06-18T05:01:31.267287Z",
     "start_time": "2025-06-18T05:01:31.262749Z"
    }
   },
   "source": [
    "d2 = Decimal('2.00')"
   ],
   "outputs": [],
   "execution_count": 17
  },
  {
   "cell_type": "code",
   "metadata": {
    "ExecuteTime": {
     "end_time": "2025-06-18T05:01:31.305773Z",
     "start_time": "2025-06-18T05:01:31.299769Z"
    }
   },
   "source": [
    "d1 * d2"
   ],
   "outputs": [
    {
     "data": {
      "text/plain": [
       "Decimal('2.4000')"
      ]
     },
     "execution_count": 18,
     "metadata": {},
     "output_type": "execute_result"
    }
   ],
   "execution_count": 18
  },
  {
   "cell_type": "markdown",
   "metadata": {},
   "source": [
    "As you can see, the multiplication result now has `5` significant digits."
   ]
  },
  {
   "cell_type": "markdown",
   "metadata": {},
   "source": [
    "Siginificant figures affect calculations - not the storage of Decimal objects created with literals:"
   ]
  },
  {
   "cell_type": "code",
   "metadata": {
    "ExecuteTime": {
     "end_time": "2025-06-18T05:01:31.344147Z",
     "start_time": "2025-06-18T05:01:31.339630Z"
    }
   },
   "source": [
    "d1 = Decimal('1.123456789012345678901234567890')  # 31 significant digits"
   ],
   "outputs": [],
   "execution_count": 19
  },
  {
   "cell_type": "code",
   "metadata": {
    "ExecuteTime": {
     "end_time": "2025-06-18T05:01:31.393506Z",
     "start_time": "2025-06-18T05:01:31.388936Z"
    }
   },
   "source": [
    "d1"
   ],
   "outputs": [
    {
     "data": {
      "text/plain": [
       "Decimal('1.123456789012345678901234567890')"
      ]
     },
     "execution_count": 20,
     "metadata": {},
     "output_type": "execute_result"
    }
   ],
   "execution_count": 20
  },
  {
   "cell_type": "markdown",
   "metadata": {},
   "source": [
    "As you can see the precision is retained - even though our context has a precision of `28`."
   ]
  },
  {
   "cell_type": "markdown",
   "metadata": {},
   "source": [
    "But watch what happens is we perform a calculation on the number:"
   ]
  },
  {
   "cell_type": "code",
   "metadata": {
    "ExecuteTime": {
     "end_time": "2025-06-18T05:01:31.438915Z",
     "start_time": "2025-06-18T05:01:31.432895Z"
    }
   },
   "source": [
    "+d1"
   ],
   "outputs": [
    {
     "data": {
      "text/plain": [
       "Decimal('1.123456789012345678901234568')"
      ]
     },
     "execution_count": 21,
     "metadata": {},
     "output_type": "execute_result"
    }
   ],
   "execution_count": 21
  },
  {
   "cell_type": "markdown",
   "metadata": {},
   "source": [
    "As you can see the result was limited to the context precision."
   ]
  },
  {
   "cell_type": "markdown",
   "metadata": {},
   "source": [
    "Many of the standard arithmetic operators are supported by `Decimal` objects:"
   ]
  },
  {
   "cell_type": "code",
   "metadata": {
    "ExecuteTime": {
     "end_time": "2025-06-18T05:01:31.517181Z",
     "start_time": "2025-06-18T05:01:31.510907Z"
    }
   },
   "source": [
    "Decimal(10) // Decimal(3)"
   ],
   "outputs": [
    {
     "data": {
      "text/plain": [
       "Decimal('3')"
      ]
     },
     "execution_count": 22,
     "metadata": {},
     "output_type": "execute_result"
    }
   ],
   "execution_count": 22
  },
  {
   "cell_type": "code",
   "metadata": {
    "ExecuteTime": {
     "end_time": "2025-06-18T05:01:31.565766Z",
     "start_time": "2025-06-18T05:01:31.559722Z"
    }
   },
   "source": [
    "Decimal(10) % Decimal(3)"
   ],
   "outputs": [
    {
     "data": {
      "text/plain": [
       "Decimal('1')"
      ]
     },
     "execution_count": 23,
     "metadata": {},
     "output_type": "execute_result"
    }
   ],
   "execution_count": 23
  },
  {
   "cell_type": "markdown",
   "metadata": {},
   "source": [
    "Even the power operator:"
   ]
  },
  {
   "cell_type": "code",
   "metadata": {
    "ExecuteTime": {
     "end_time": "2025-06-18T05:01:31.631252Z",
     "start_time": "2025-06-18T05:01:31.625858Z"
    }
   },
   "source": [
    "Decimal('0.1') ** Decimal('5')"
   ],
   "outputs": [
    {
     "data": {
      "text/plain": [
       "Decimal('0.00001')"
      ]
     },
     "execution_count": 24,
     "metadata": {},
     "output_type": "execute_result"
    }
   ],
   "execution_count": 24
  },
  {
   "cell_type": "markdown",
   "metadata": {},
   "source": [
    "Functions like `abs`, `min`, `max`, and `sum` work too:"
   ]
  },
  {
   "cell_type": "code",
   "metadata": {
    "ExecuteTime": {
     "end_time": "2025-06-18T05:01:31.693513Z",
     "start_time": "2025-06-18T05:01:31.687684Z"
    }
   },
   "source": [
    "min(Decimal('0.1'), Decimal('0.2'), 0.3)"
   ],
   "outputs": [
    {
     "data": {
      "text/plain": [
       "Decimal('0.1')"
      ]
     },
     "execution_count": 25,
     "metadata": {},
     "output_type": "execute_result"
    }
   ],
   "execution_count": 25
  },
  {
   "cell_type": "code",
   "metadata": {
    "ExecuteTime": {
     "end_time": "2025-06-18T05:01:31.750962Z",
     "start_time": "2025-06-18T05:01:31.745002Z"
    }
   },
   "source": [
    "sum([Decimal('0.1'), Decimal('0.1'), Decimal('0.1')])"
   ],
   "outputs": [
    {
     "data": {
      "text/plain": [
       "Decimal('0.3')"
      ]
     },
     "execution_count": 26,
     "metadata": {},
     "output_type": "execute_result"
    }
   ],
   "execution_count": 26
  },
  {
   "cell_type": "markdown",
   "metadata": {},
   "source": [
    "We *can* use the standard math functions - but they are designed to work woth floats, and so our `Decimal` objects will be converted to floats when those functions are called - maybe not what we intended."
   ]
  },
  {
   "cell_type": "code",
   "metadata": {
    "ExecuteTime": {
     "end_time": "2025-06-18T05:01:31.803891Z",
     "start_time": "2025-06-18T05:01:31.799787Z"
    }
   },
   "source": [
    "import math"
   ],
   "outputs": [],
   "execution_count": 27
  },
  {
   "cell_type": "code",
   "metadata": {
    "ExecuteTime": {
     "end_time": "2025-06-18T05:01:31.839618Z",
     "start_time": "2025-06-18T05:01:31.834516Z"
    }
   },
   "source": [
    "d1 = Decimal('2.0')"
   ],
   "outputs": [],
   "execution_count": 28
  },
  {
   "cell_type": "code",
   "metadata": {
    "ExecuteTime": {
     "end_time": "2025-06-18T05:01:31.874919Z",
     "start_time": "2025-06-18T05:01:31.869403Z"
    }
   },
   "source": [
    "result = math.sqrt(d1)"
   ],
   "outputs": [],
   "execution_count": 29
  },
  {
   "cell_type": "code",
   "metadata": {
    "ExecuteTime": {
     "end_time": "2025-06-18T05:01:31.915914Z",
     "start_time": "2025-06-18T05:01:31.909905Z"
    }
   },
   "source": [
    "type(result), result"
   ],
   "outputs": [
    {
     "data": {
      "text/plain": [
       "(float, 1.4142135623730951)"
      ]
     },
     "execution_count": 30,
     "metadata": {},
     "output_type": "execute_result"
    }
   ],
   "execution_count": 30
  },
  {
   "cell_type": "markdown",
   "metadata": {},
   "source": [
    "Instead, `Decimal` objects do implement some specialized math functions:"
   ]
  },
  {
   "cell_type": "code",
   "metadata": {
    "ExecuteTime": {
     "end_time": "2025-06-18T05:01:31.960097Z",
     "start_time": "2025-06-18T05:01:31.951054Z"
    }
   },
   "source": [
    "d1.sqrt()"
   ],
   "outputs": [
    {
     "data": {
      "text/plain": [
       "Decimal('1.414213562373095048801688724')"
      ]
     },
     "execution_count": 31,
     "metadata": {},
     "output_type": "execute_result"
    }
   ],
   "execution_count": 31
  },
  {
   "cell_type": "markdown",
   "metadata": {},
   "source": [
    "Again, note the precision in the calculation, that was based on our global context precision."
   ]
  },
  {
   "cell_type": "markdown",
   "metadata": {},
   "source": [
    "Let's process some data using both `floats` and `decimals`."
   ]
  },
  {
   "cell_type": "markdown",
   "metadata": {},
   "source": [
    "Recall the FOREX data we used a while back:"
   ]
  },
  {
   "cell_type": "code",
   "metadata": {
    "ExecuteTime": {
     "end_time": "2025-06-18T05:01:32.018471Z",
     "start_time": "2025-06-18T05:01:32.013746Z"
    }
   },
   "source": [
    "f_name = 'DEXUSEU.csv'"
   ],
   "outputs": [],
   "execution_count": 32
  },
  {
   "cell_type": "code",
   "metadata": {
    "ExecuteTime": {
     "end_time": "2025-06-18T05:01:32.154026Z",
     "start_time": "2025-06-18T05:01:32.041307Z"
    }
   },
   "source": [
    "with open(f_name) as f:\n",
    "    for _ in range(5):\n",
    "        print(next(f).strip())"
   ],
   "outputs": [
    {
     "name": "stdout",
     "output_type": "stream",
     "text": [
      "DATE,DEXUSEU\n",
      "2015-04-03,1.0990\n",
      "2015-04-06,1.1008\n",
      "2015-04-07,1.0850\n",
      "2015-04-08,1.0818\n"
     ]
    }
   ],
   "execution_count": 33
  },
  {
   "cell_type": "markdown",
   "metadata": {},
   "source": [
    "Let's load this up using the `csv` module:"
   ]
  },
  {
   "cell_type": "code",
   "metadata": {
    "ExecuteTime": {
     "end_time": "2025-06-18T05:01:32.195111Z",
     "start_time": "2025-06-18T05:01:32.190033Z"
    }
   },
   "source": [
    "import csv\n",
    "\n",
    "with open(f_name) as f:\n",
    "    reader = csv.reader(f)\n",
    "    for _ in range(5):\n",
    "        print(next(reader))"
   ],
   "outputs": [
    {
     "name": "stdout",
     "output_type": "stream",
     "text": [
      "['DATE', 'DEXUSEU']\n",
      "['2015-04-03', '1.0990']\n",
      "['2015-04-06', '1.1008']\n",
      "['2015-04-07', '1.0850']\n",
      "['2015-04-08', '1.0818']\n"
     ]
    }
   ],
   "execution_count": 34
  },
  {
   "cell_type": "markdown",
   "metadata": {},
   "source": [
    "We'll want to convert the first field to a `datetime`, and the second field to either a `float` or a `Decimal`."
   ]
  },
  {
   "cell_type": "markdown",
   "metadata": {},
   "source": [
    "Let's write a function to do this:"
   ]
  },
  {
   "cell_type": "code",
   "metadata": {
    "ExecuteTime": {
     "end_time": "2025-06-18T05:01:32.249770Z",
     "start_time": "2025-06-18T05:01:32.244719Z"
    }
   },
   "source": [
    "from datetime import datetime\n",
    "\n",
    "\n",
    "def load_data(f_name, dt_format, use_decimal=False):\n",
    "    with open(f_name) as f:\n",
    "        reader = csv.reader(f)\n",
    "        next(reader)  # skip header row\n",
    "        \n",
    "        data = [\n",
    "            (\n",
    "                datetime.strptime(row[0], dt_format), \n",
    "                Decimal(row[1]) if use_decimal else float(row[1])\n",
    "            )\n",
    "            for row in reader\n",
    "            if row[1] != '.'\n",
    "        ]\n",
    "    return data"
   ],
   "outputs": [],
   "execution_count": 35
  },
  {
   "cell_type": "code",
   "metadata": {
    "ExecuteTime": {
     "end_time": "2025-06-18T05:01:32.284478Z",
     "start_time": "2025-06-18T05:01:32.278573Z"
    }
   },
   "source": [
    "dt_format = '%Y-%m-%d'"
   ],
   "outputs": [],
   "execution_count": 36
  },
  {
   "cell_type": "code",
   "metadata": {
    "ExecuteTime": {
     "end_time": "2025-06-18T05:01:32.333782Z",
     "start_time": "2025-06-18T05:01:32.327242Z"
    }
   },
   "source": [
    "datetime.strptime('2010-01-31', dt_format)"
   ],
   "outputs": [
    {
     "data": {
      "text/plain": [
       "datetime.datetime(2010, 1, 31, 0, 0)"
      ]
     },
     "execution_count": 37,
     "metadata": {},
     "output_type": "execute_result"
    }
   ],
   "execution_count": 37
  },
  {
   "cell_type": "markdown",
   "metadata": {},
   "source": [
    "Now let's load our data with `floats` and `Decimals`:"
   ]
  },
  {
   "cell_type": "code",
   "metadata": {
    "ExecuteTime": {
     "end_time": "2025-06-18T05:01:32.400925Z",
     "start_time": "2025-06-18T05:01:32.373378Z"
    }
   },
   "source": [
    "data_float = load_data(f_name, dt_format)\n",
    "data_dec = load_data(f_name, dt_format, use_decimal=True)"
   ],
   "outputs": [],
   "execution_count": 38
  },
  {
   "cell_type": "code",
   "metadata": {
    "ExecuteTime": {
     "end_time": "2025-06-18T05:01:32.424577Z",
     "start_time": "2025-06-18T05:01:32.418873Z"
    }
   },
   "source": [
    "data_float[0]"
   ],
   "outputs": [
    {
     "data": {
      "text/plain": [
       "(datetime.datetime(2015, 4, 3, 0, 0), 1.099)"
      ]
     },
     "execution_count": 39,
     "metadata": {},
     "output_type": "execute_result"
    }
   ],
   "execution_count": 39
  },
  {
   "cell_type": "code",
   "metadata": {
    "ExecuteTime": {
     "end_time": "2025-06-18T05:01:32.460179Z",
     "start_time": "2025-06-18T05:01:32.454643Z"
    }
   },
   "source": [
    "data_dec[0]"
   ],
   "outputs": [
    {
     "data": {
      "text/plain": [
       "(datetime.datetime(2015, 4, 3, 0, 0), Decimal('1.0990'))"
      ]
     },
     "execution_count": 40,
     "metadata": {},
     "output_type": "execute_result"
    }
   ],
   "execution_count": 40
  },
  {
   "cell_type": "markdown",
   "metadata": {},
   "source": [
    "Now let's sum up all the values in the data and time the performance difference (we'll run the calculations a few times so we can see the time differences more clearly):"
   ]
  },
  {
   "cell_type": "code",
   "metadata": {
    "ExecuteTime": {
     "end_time": "2025-06-18T05:01:32.499294Z",
     "start_time": "2025-06-18T05:01:32.495714Z"
    }
   },
   "source": [
    "from time import perf_counter"
   ],
   "outputs": [],
   "execution_count": 41
  },
  {
   "cell_type": "code",
   "metadata": {
    "ExecuteTime": {
     "end_time": "2025-06-18T05:01:33.212433Z",
     "start_time": "2025-06-18T05:01:32.517903Z"
    }
   },
   "source": [
    "start = perf_counter()\n",
    "for _ in range(10_000):\n",
    "    result = sum(row[1] for row in data_float)\n",
    "end = perf_counter()\n",
    "print(end - start, result)"
   ],
   "outputs": [
    {
     "name": "stdout",
     "output_type": "stream",
     "text": [
      "0.6894855999998981 1411.6124\n"
     ]
    }
   ],
   "execution_count": 42
  },
  {
   "cell_type": "code",
   "metadata": {
    "ExecuteTime": {
     "end_time": "2025-06-18T05:01:35.387161Z",
     "start_time": "2025-06-18T05:01:33.239445Z"
    }
   },
   "source": [
    "start = perf_counter()\n",
    "for _ in range(10_000):\n",
    "    result = sum(row[1] for row in data_dec)\n",
    "end = perf_counter()\n",
    "print(end - start, result)"
   ],
   "outputs": [
    {
     "name": "stdout",
     "output_type": "stream",
     "text": [
      "2.1389683000015793 1411.6124\n"
     ]
    }
   ],
   "execution_count": 43
  },
  {
   "cell_type": "markdown",
   "metadata": {},
   "source": [
    "As we can see there is a performance impact when using `Decimal` objects. But, we can see that the precision of each value in the data was maintained during the computation."
   ]
  },
  {
   "cell_type": "markdown",
   "metadata": {},
   "source": [
    "There is also a storage impact - more memory is needed to store a `Decimal` object than a `float`."
   ]
  },
  {
   "cell_type": "markdown",
   "metadata": {},
   "source": [
    "We can use `sys.getsizeof` to see this."
   ]
  },
  {
   "cell_type": "code",
   "metadata": {
    "ExecuteTime": {
     "end_time": "2025-06-18T05:01:35.420488Z",
     "start_time": "2025-06-18T05:01:35.413300Z"
    }
   },
   "source": [
    "from sys import getsizeof"
   ],
   "outputs": [],
   "execution_count": 44
  },
  {
   "cell_type": "code",
   "metadata": {
    "ExecuteTime": {
     "end_time": "2025-06-18T05:01:35.470804Z",
     "start_time": "2025-06-18T05:01:35.462693Z"
    }
   },
   "source": [
    "getsizeof(0.1)"
   ],
   "outputs": [
    {
     "data": {
      "text/plain": [
       "24"
      ]
     },
     "execution_count": 45,
     "metadata": {},
     "output_type": "execute_result"
    }
   ],
   "execution_count": 45
  },
  {
   "cell_type": "code",
   "metadata": {
    "ExecuteTime": {
     "end_time": "2025-06-18T05:01:35.564016Z",
     "start_time": "2025-06-18T05:01:35.553519Z"
    }
   },
   "source": [
    "getsizeof(Decimal('0.1'))"
   ],
   "outputs": [
    {
     "data": {
      "text/plain": [
       "104"
      ]
     },
     "execution_count": 46,
     "metadata": {},
     "output_type": "execute_result"
    }
   ],
   "execution_count": 46
  },
  {
   "cell_type": "markdown",
   "metadata": {},
   "source": [
    "So we can see how much memory our `data_float` and `data_dec` objects use:"
   ]
  },
  {
   "cell_type": "code",
   "metadata": {
    "ExecuteTime": {
     "end_time": "2025-06-18T05:01:35.644455Z",
     "start_time": "2025-06-18T05:01:35.637820Z"
    }
   },
   "source": [
    "sum(getsizeof(el[1]) for el in data_float)"
   ],
   "outputs": [
    {
     "data": {
      "text/plain": [
       "30024"
      ]
     },
     "execution_count": 47,
     "metadata": {},
     "output_type": "execute_result"
    }
   ],
   "execution_count": 47
  },
  {
   "cell_type": "code",
   "metadata": {
    "ExecuteTime": {
     "end_time": "2025-06-18T05:01:35.703192Z",
     "start_time": "2025-06-18T05:01:35.695638Z"
    }
   },
   "source": [
    "sum(getsizeof(el[1]) for el in data_dec)"
   ],
   "outputs": [
    {
     "data": {
      "text/plain": [
       "130104"
      ]
     },
     "execution_count": 48,
     "metadata": {},
     "output_type": "execute_result"
    }
   ],
   "execution_count": 48
  }
 ],
 "metadata": {
  "kernelspec": {
   "display_name": "Python 3",
   "language": "python",
   "name": "python3"
  },
  "language_info": {
   "codemirror_mode": {
    "name": "ipython",
    "version": 3
   },
   "file_extension": ".py",
   "mimetype": "text/x-python",
   "name": "python",
   "nbconvert_exporter": "python",
   "pygments_lexer": "ipython3",
   "version": "3.9.1"
  }
 },
 "nbformat": 4,
 "nbformat_minor": 4
}
