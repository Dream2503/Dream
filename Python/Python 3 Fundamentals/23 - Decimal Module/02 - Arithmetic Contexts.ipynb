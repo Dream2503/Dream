{
 "cells": [
  {
   "cell_type": "code",
   "metadata": {
    "ExecuteTime": {
     "end_time": "2025-06-18T05:01:42.682905Z",
     "start_time": "2025-06-18T05:01:39.402645Z"
    }
   },
   "source": [
    "!jupyter notebook --version"
   ],
   "outputs": [
    {
     "name": "stdout",
     "output_type": "stream",
     "text": [
      "7.2.2\n"
     ]
    }
   ],
   "execution_count": 1
  },
  {
   "cell_type": "markdown",
   "metadata": {},
   "source": [
    "The first cell in this notebook seems to work around a bug where the global decimal arithmetic context keeps resetting to the default.\n",
    "\n",
    "If this \"fix\" still does not work for you (and it very well may not, results do not seem to be consistent), then you should switch to using plain Python files and running the file from the command line, or using an editor such as PyCharm, VSCode, etc.\n",
    "\n",
    "[See this bug report that has not been addressed yet:\n",
    "https://github.com/jupyter/notebook/issues/5260]"
   ]
  },
  {
   "cell_type": "markdown",
   "metadata": {},
   "source": [
    "To avoid this bug, I am going to always set the global context in each cell (that works, it's only that once the cell finishes running the global context gets reset)"
   ]
  },
  {
   "cell_type": "markdown",
   "metadata": {},
   "source": [
    "### Arithmetic Contexts"
   ]
  },
  {
   "cell_type": "markdown",
   "metadata": {},
   "source": [
    "Rounding modes: https://docs.python.org/3/library/decimal.html#rounding-modes"
   ]
  },
  {
   "cell_type": "markdown",
   "metadata": {},
   "source": [
    "Let's first look at the default `decimal` context:"
   ]
  },
  {
   "cell_type": "code",
   "metadata": {
    "ExecuteTime": {
     "end_time": "2025-06-18T05:01:43.058504Z",
     "start_time": "2025-06-18T05:01:43.053303Z"
    }
   },
   "source": [
    "import decimal\n",
    "from decimal import Decimal"
   ],
   "outputs": [],
   "execution_count": 2
  },
  {
   "cell_type": "code",
   "metadata": {
    "ExecuteTime": {
     "end_time": "2025-06-18T05:01:43.092760Z",
     "start_time": "2025-06-18T05:01:43.082514Z"
    }
   },
   "source": [
    "decimal.getcontext()"
   ],
   "outputs": [
    {
     "data": {
      "text/plain": [
       "Context(prec=28, rounding=ROUND_HALF_EVEN, Emin=-999999, Emax=999999, capitals=1, clamp=0, flags=[], traps=[InvalidOperation, DivisionByZero, Overflow])"
      ]
     },
     "execution_count": 3,
     "metadata": {},
     "output_type": "execute_result"
    }
   ],
   "execution_count": 3
  },
  {
   "cell_type": "markdown",
   "metadata": {},
   "source": [
    "As we can see the default precision is `28`, and the default rounding is `ROUND_HALF_EVEN`."
   ]
  },
  {
   "cell_type": "markdown",
   "metadata": {},
   "source": [
    "We can change the global context - and if we do, all our decimal arithmetic will be subject to the settings in that context until we change that context again."
   ]
  },
  {
   "cell_type": "code",
   "metadata": {
    "ExecuteTime": {
     "end_time": "2025-06-18T05:01:43.129577Z",
     "start_time": "2025-06-18T05:01:43.124089Z"
    }
   },
   "source": [
    "ctx = decimal.getcontext()"
   ],
   "outputs": [],
   "execution_count": 4
  },
  {
   "cell_type": "code",
   "metadata": {
    "ExecuteTime": {
     "end_time": "2025-06-18T05:01:43.153084Z",
     "start_time": "2025-06-18T05:01:43.146724Z"
    }
   },
   "source": [
    "ctx.prec = 5\n",
    "decimal.getcontext()"
   ],
   "outputs": [
    {
     "data": {
      "text/plain": [
       "Context(prec=5, rounding=ROUND_HALF_EVEN, Emin=-999999, Emax=999999, capitals=1, clamp=0, flags=[], traps=[InvalidOperation, DivisionByZero, Overflow])"
      ]
     },
     "execution_count": 5,
     "metadata": {},
     "output_type": "execute_result"
    }
   ],
   "execution_count": 5
  },
  {
   "cell_type": "markdown",
   "metadata": {},
   "source": [
    "And we can change the context again:"
   ]
  },
  {
   "cell_type": "code",
   "metadata": {
    "ExecuteTime": {
     "end_time": "2025-06-18T05:01:43.179644Z",
     "start_time": "2025-06-18T05:01:43.174116Z"
    }
   },
   "source": [
    "decimal.getcontext().prec = 6\n",
    "decimal.getcontext()"
   ],
   "outputs": [
    {
     "data": {
      "text/plain": [
       "Context(prec=6, rounding=ROUND_HALF_EVEN, Emin=-999999, Emax=999999, capitals=1, clamp=0, flags=[], traps=[InvalidOperation, DivisionByZero, Overflow])"
      ]
     },
     "execution_count": 6,
     "metadata": {},
     "output_type": "execute_result"
    }
   ],
   "execution_count": 6
  },
  {
   "cell_type": "markdown",
   "metadata": {},
   "source": [
    "Let's also change the rounding method:"
   ]
  },
  {
   "cell_type": "code",
   "metadata": {
    "ExecuteTime": {
     "end_time": "2025-06-18T05:01:43.210194Z",
     "start_time": "2025-06-18T05:01:43.204150Z"
    }
   },
   "source": [
    "decimal.getcontext().rounding = decimal.ROUND_HALF_UP\n",
    "decimal.getcontext()"
   ],
   "outputs": [
    {
     "data": {
      "text/plain": [
       "Context(prec=6, rounding=ROUND_HALF_UP, Emin=-999999, Emax=999999, capitals=1, clamp=0, flags=[], traps=[InvalidOperation, DivisionByZero, Overflow])"
      ]
     },
     "execution_count": 7,
     "metadata": {},
     "output_type": "execute_result"
    }
   ],
   "execution_count": 7
  },
  {
   "cell_type": "markdown",
   "metadata": {},
   "source": [
    "The context precision means that calculations involving `Decimal` objects will be limited to `6` siginificant digits."
   ]
  },
  {
   "cell_type": "markdown",
   "metadata": {},
   "source": [
    "But this does not mean that you cannot create `Decimal` numbers with only `6` significant digits:"
   ]
  },
  {
   "cell_type": "code",
   "metadata": {
    "ExecuteTime": {
     "end_time": "2025-06-18T05:01:43.244199Z",
     "start_time": "2025-06-18T05:01:43.237162Z"
    }
   },
   "source": [
    "decimal.getcontext().prec=6\n",
    "d1 = Decimal('123.4567890')"
   ],
   "outputs": [],
   "execution_count": 8
  },
  {
   "cell_type": "code",
   "metadata": {
    "ExecuteTime": {
     "end_time": "2025-06-18T05:01:43.280795Z",
     "start_time": "2025-06-18T05:01:43.274093Z"
    }
   },
   "source": [
    "d1"
   ],
   "outputs": [
    {
     "data": {
      "text/plain": [
       "Decimal('123.4567890')"
      ]
     },
     "execution_count": 9,
     "metadata": {},
     "output_type": "execute_result"
    }
   ],
   "execution_count": 9
  },
  {
   "cell_type": "markdown",
   "metadata": {},
   "source": [
    "As you can see, the precision is maintained."
   ]
  },
  {
   "cell_type": "markdown",
   "metadata": {},
   "source": [
    "However if we perform a calculation, the calculation's intermediate and final results will be limited to `6` siginificant digits:"
   ]
  },
  {
   "cell_type": "code",
   "metadata": {
    "ExecuteTime": {
     "end_time": "2025-06-18T05:01:43.309168Z",
     "start_time": "2025-06-18T05:01:43.301607Z"
    }
   },
   "source": [
    "decimal.getcontext().prec=6\n",
    "d1 + Decimal(1)"
   ],
   "outputs": [
    {
     "data": {
      "text/plain": [
       "Decimal('124.457')"
      ]
     },
     "execution_count": 10,
     "metadata": {},
     "output_type": "execute_result"
    }
   ],
   "execution_count": 10
  },
  {
   "cell_type": "markdown",
   "metadata": {},
   "source": [
    "And since we changed the rounding method, we should no longer have Banker's rounding:"
   ]
  },
  {
   "cell_type": "code",
   "metadata": {
    "ExecuteTime": {
     "end_time": "2025-06-18T05:01:43.338196Z",
     "start_time": "2025-06-18T05:01:43.331076Z"
    }
   },
   "source": [
    "decimal.getcontext().prec=6\n",
    "decimal.getcontext().rounding = decimal.ROUND_HALF_UP\n",
    "round(Decimal('100.445'), 2)"
   ],
   "outputs": [
    {
     "data": {
      "text/plain": [
       "Decimal('100.45')"
      ]
     },
     "execution_count": 11,
     "metadata": {},
     "output_type": "execute_result"
    }
   ],
   "execution_count": 11
  },
  {
   "cell_type": "markdown",
   "metadata": {},
   "source": [
    "Let's reset our global context to what it was before:"
   ]
  },
  {
   "cell_type": "code",
   "metadata": {
    "ExecuteTime": {
     "end_time": "2025-06-18T05:01:43.380709Z",
     "start_time": "2025-06-18T05:01:43.375672Z"
    }
   },
   "source": [
    "ctx = decimal.getcontext()\n",
    "ctx.prec = 28\n",
    "ctx.rounding = decimal.ROUND_HALF_EVEN"
   ],
   "outputs": [],
   "execution_count": 12
  },
  {
   "cell_type": "code",
   "metadata": {
    "ExecuteTime": {
     "end_time": "2025-06-18T05:01:43.405869Z",
     "start_time": "2025-06-18T05:01:43.396884Z"
    }
   },
   "source": [
    "round(Decimal('100.445'), 2)"
   ],
   "outputs": [
    {
     "data": {
      "text/plain": [
       "Decimal('100.44')"
      ]
     },
     "execution_count": 13,
     "metadata": {},
     "output_type": "execute_result"
    }
   ],
   "execution_count": 13
  },
  {
   "cell_type": "markdown",
   "metadata": {},
   "source": [
    "Sometimes we need to **temporarily** change our context. One way to do this is to store the context values we are going to change, modify the global context, perform the operations, and then reset the global context back to what it was before."
   ]
  },
  {
   "cell_type": "code",
   "metadata": {
    "ExecuteTime": {
     "end_time": "2025-06-18T05:01:43.438582Z",
     "start_time": "2025-06-18T05:01:43.432049Z"
    }
   },
   "source": [
    "current_rounding = decimal.getcontext().rounding\n",
    "decimal.getcontext().rounding = decimal.ROUND_HALF_UP\n",
    "print(round(Decimal('123.445'), 2))\n",
    "decimal.getcontext().rounding = current_rounding\n",
    "print(round(Decimal('123.445'), 2))"
   ],
   "outputs": [
    {
     "name": "stdout",
     "output_type": "stream",
     "text": [
      "123.45\n",
      "123.44\n"
     ]
    }
   ],
   "execution_count": 14
  },
  {
   "cell_type": "markdown",
   "metadata": {},
   "source": [
    "Doing these steps is a little tedious."
   ]
  },
  {
   "cell_type": "markdown",
   "metadata": {},
   "source": [
    "Instead we can use a context manager provided by `decimal` to do this work of remembering the settings, chaning them, and then reverting to the original settings."
   ]
  },
  {
   "cell_type": "code",
   "metadata": {
    "ExecuteTime": {
     "end_time": "2025-06-18T05:01:43.474359Z",
     "start_time": "2025-06-18T05:01:43.467316Z"
    }
   },
   "source": [
    "print('Before:', decimal.getcontext())\n",
    "with decimal.localcontext() as ctx:\n",
    "    ctx.prec = 6\n",
    "    ctx.rounding = decimal.ROUND_HALF_UP\n",
    "    print('Local context:', ctx)\n",
    "    print('Inside context:', round(Decimal('123.445'), 2))\n",
    "print('After:', decimal.getcontext())"
   ],
   "outputs": [
    {
     "name": "stdout",
     "output_type": "stream",
     "text": [
      "Before: Context(prec=28, rounding=ROUND_HALF_EVEN, Emin=-999999, Emax=999999, capitals=1, clamp=0, flags=[Inexact, Rounded], traps=[InvalidOperation, DivisionByZero, Overflow])\n",
      "Local context: Context(prec=6, rounding=ROUND_HALF_UP, Emin=-999999, Emax=999999, capitals=1, clamp=0, flags=[Inexact, Rounded], traps=[InvalidOperation, DivisionByZero, Overflow])\n",
      "Inside context: 123.45\n",
      "After: Context(prec=28, rounding=ROUND_HALF_EVEN, Emin=-999999, Emax=999999, capitals=1, clamp=0, flags=[Inexact, Rounded], traps=[InvalidOperation, DivisionByZero, Overflow])\n"
     ]
    }
   ],
   "execution_count": 15
  },
  {
   "cell_type": "markdown",
   "metadata": {},
   "source": [
    "As you can see, using a local context with a context manager does not affect the global context."
   ]
  }
 ],
 "metadata": {
  "kernelspec": {
   "display_name": "Python 3",
   "language": "python",
   "name": "python3"
  },
  "language_info": {
   "codemirror_mode": {
    "name": "ipython",
    "version": 3
   },
   "file_extension": ".py",
   "mimetype": "text/x-python",
   "name": "python",
   "nbconvert_exporter": "python",
   "pygments_lexer": "ipython3",
   "version": "3.9.1"
  }
 },
 "nbformat": 4,
 "nbformat_minor": 4
}
