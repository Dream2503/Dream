{
 "cells": [
  {
   "cell_type": "markdown",
   "metadata": {},
   "source": [
    "### Associative Arrays and Dictionaries"
   ]
  },
  {
   "cell_type": "markdown",
   "metadata": {},
   "source": [
    "As we saw in the lecture, dictionaries are essentially a way of associating two values together - a **key** and a **value**."
   ]
  },
  {
   "cell_type": "markdown",
   "metadata": {},
   "source": [
    "Think of it like a regular dictionary - the key is the word you are looking for in the dictionary, and the value is the definition of the word."
   ]
  },
  {
   "cell_type": "markdown",
   "metadata": {},
   "source": [
    "Dictionaries are organized in a way that makes searching for a word much more efficient than just scanning all the words one by one until you find the one you are looking for."
   ]
  },
  {
   "cell_type": "markdown",
   "metadata": {},
   "source": [
    "The same goes with dictionaries in Python, key lookups in dictionaries are very efficient."
   ]
  },
  {
   "cell_type": "markdown",
   "metadata": {},
   "source": [
    "We can create a dictionary using a literal:"
   ]
  },
  {
   "cell_type": "code",
   "metadata": {
    "ExecuteTime": {
     "end_time": "2025-06-17T19:37:40.042113Z",
     "start_time": "2025-06-17T19:37:40.035045Z"
    }
   },
   "source": [
    "d = {'a': 1, 'b': 2, 'c': 3}"
   ],
   "outputs": [],
   "execution_count": 1
  },
  {
   "cell_type": "markdown",
   "metadata": {},
   "source": [
    "We can also use whitespace to make dictionary literals more readable if we prefer:"
   ]
  },
  {
   "cell_type": "code",
   "metadata": {
    "ExecuteTime": {
     "end_time": "2025-06-17T19:37:40.365604Z",
     "start_time": "2025-06-17T19:37:40.358140Z"
    }
   },
   "source": [
    "person = {\n",
    "    'first_name': 'Eric',\n",
    "    'last_name': 'Idle',\n",
    "    'year_born': 2016 \n",
    "}"
   ],
   "outputs": [],
   "execution_count": 2
  },
  {
   "cell_type": "markdown",
   "metadata": {},
   "source": [
    "To look up the value for a key in a dictionary we use square brackets (just like a sequence, except we don't use indexes, but keys):"
   ]
  },
  {
   "cell_type": "code",
   "metadata": {
    "ExecuteTime": {
     "end_time": "2025-06-17T19:37:40.406675Z",
     "start_time": "2025-06-17T19:37:40.397679Z"
    }
   },
   "source": [
    "person['year_born']"
   ],
   "outputs": [
    {
     "data": {
      "text/plain": [
       "2016"
      ]
     },
     "execution_count": 3,
     "metadata": {},
     "output_type": "execute_result"
    }
   ],
   "execution_count": 3
  },
  {
   "cell_type": "markdown",
   "metadata": {},
   "source": [
    "To replace the value for an existing key, we just use an assignment:"
   ]
  },
  {
   "cell_type": "code",
   "metadata": {
    "ExecuteTime": {
     "end_time": "2025-06-17T19:37:40.713102Z",
     "start_time": "2025-06-17T19:37:40.707135Z"
    }
   },
   "source": [
    "person['year_born'] = 1943"
   ],
   "outputs": [],
   "execution_count": 4
  },
  {
   "cell_type": "markdown",
   "metadata": {},
   "source": [
    "And the data was updated:"
   ]
  },
  {
   "cell_type": "code",
   "metadata": {
    "ExecuteTime": {
     "end_time": "2025-06-17T19:37:41.394404Z",
     "start_time": "2025-06-17T19:37:41.386847Z"
    }
   },
   "source": [
    "person"
   ],
   "outputs": [
    {
     "data": {
      "text/plain": [
       "{'first_name': 'Eric', 'last_name': 'Idle', 'year_born': 1943}"
      ]
     },
     "execution_count": 5,
     "metadata": {},
     "output_type": "execute_result"
    }
   ],
   "execution_count": 5
  },
  {
   "cell_type": "markdown",
   "metadata": {},
   "source": [
    "To create a new key in a dictionary, again just use an assignment:"
   ]
  },
  {
   "cell_type": "code",
   "metadata": {
    "ExecuteTime": {
     "end_time": "2025-06-17T19:37:42.070027Z",
     "start_time": "2025-06-17T19:37:42.065022Z"
    }
   },
   "source": [
    "person['month_born'] = 'March'"
   ],
   "outputs": [],
   "execution_count": 6
  },
  {
   "cell_type": "code",
   "metadata": {
    "ExecuteTime": {
     "end_time": "2025-06-17T19:37:42.416011Z",
     "start_time": "2025-06-17T19:37:42.409830Z"
    }
   },
   "source": [
    "person"
   ],
   "outputs": [
    {
     "data": {
      "text/plain": [
       "{'first_name': 'Eric',\n",
       " 'last_name': 'Idle',\n",
       " 'year_born': 1943,\n",
       " 'month_born': 'March'}"
      ]
     },
     "execution_count": 7,
     "metadata": {},
     "output_type": "execute_result"
    }
   ],
   "execution_count": 7
  },
  {
   "cell_type": "markdown",
   "metadata": {},
   "source": [
    "So far we've been using strings as dictionary keys, and that is very common, but keys can be any Python object that is hashable, like strings, numerics and certain objects (we'll see this later in the course)."
   ]
  },
  {
   "cell_type": "code",
   "metadata": {
    "ExecuteTime": {
     "end_time": "2025-06-17T19:37:43.530381Z",
     "start_time": "2025-06-17T19:37:43.524989Z"
    }
   },
   "source": [
    "d = {3.14: 'pi', 2: 'even', 'prime': 7}"
   ],
   "outputs": [],
   "execution_count": 8
  },
  {
   "cell_type": "code",
   "metadata": {
    "ExecuteTime": {
     "end_time": "2025-06-17T19:37:44.384554Z",
     "start_time": "2025-06-17T19:37:44.377437Z"
    }
   },
   "source": [
    "d"
   ],
   "outputs": [
    {
     "data": {
      "text/plain": [
       "{3.14: 'pi', 2: 'even', 'prime': 7}"
      ]
     },
     "execution_count": 9,
     "metadata": {},
     "output_type": "execute_result"
    }
   ],
   "execution_count": 9
  },
  {
   "cell_type": "markdown",
   "metadata": {},
   "source": [
    "As you can see we have a dictionary with a mix of key types - an integer, a float, and a string."
   ]
  },
  {
   "cell_type": "code",
   "metadata": {
    "ExecuteTime": {
     "end_time": "2025-06-17T19:37:45.682262Z",
     "start_time": "2025-06-17T19:37:45.675207Z"
    }
   },
   "source": [
    "d[3.14]"
   ],
   "outputs": [
    {
     "data": {
      "text/plain": [
       "'pi'"
      ]
     },
     "execution_count": 10,
     "metadata": {},
     "output_type": "execute_result"
    }
   ],
   "execution_count": 10
  },
  {
   "cell_type": "code",
   "metadata": {
    "ExecuteTime": {
     "end_time": "2025-06-17T19:37:46.289954Z",
     "start_time": "2025-06-17T19:37:46.283449Z"
    }
   },
   "source": [
    "d[2]"
   ],
   "outputs": [
    {
     "data": {
      "text/plain": [
       "'even'"
      ]
     },
     "execution_count": 11,
     "metadata": {},
     "output_type": "execute_result"
    }
   ],
   "execution_count": 11
  },
  {
   "cell_type": "code",
   "metadata": {
    "ExecuteTime": {
     "end_time": "2025-06-17T19:37:47.703007Z",
     "start_time": "2025-06-17T19:37:47.696003Z"
    }
   },
   "source": [
    "d['prime']"
   ],
   "outputs": [
    {
     "data": {
      "text/plain": [
       "7"
      ]
     },
     "execution_count": 12,
     "metadata": {},
     "output_type": "execute_result"
    }
   ],
   "execution_count": 12
  },
  {
   "cell_type": "markdown",
   "metadata": {},
   "source": [
    "In general, mutable objects (like a list for example) are not hashable, and so cannot be used as keys in a dictionary."
   ]
  },
  {
   "cell_type": "code",
   "metadata": {
    "ExecuteTime": {
     "end_time": "2025-06-17T19:37:49.068374Z",
     "start_time": "2025-06-17T19:37:49.063488Z"
    }
   },
   "source": [
    "l = [1, 2, 3]"
   ],
   "outputs": [],
   "execution_count": 13
  },
  {
   "cell_type": "code",
   "metadata": {
    "ExecuteTime": {
     "end_time": "2025-06-17T19:37:49.821032Z",
     "start_time": "2025-06-17T19:37:49.395815Z"
    }
   },
   "source": [
    "d = {l: 100}"
   ],
   "outputs": [
    {
     "ename": "TypeError",
     "evalue": "unhashable type: 'list'",
     "output_type": "error",
     "traceback": [
      "\u001B[1;31m---------------------------------------------------------------------------\u001B[0m",
      "\u001B[1;31mTypeError\u001B[0m                                 Traceback (most recent call last)",
      "Cell \u001B[1;32mIn[14], line 1\u001B[0m\n\u001B[1;32m----> 1\u001B[0m d \u001B[38;5;241m=\u001B[39m {l: \u001B[38;5;241m100\u001B[39m}\n",
      "\u001B[1;31mTypeError\u001B[0m: unhashable type: 'list'"
     ]
    }
   ],
   "execution_count": 14
  },
  {
   "cell_type": "markdown",
   "metadata": {},
   "source": [
    "If you need to find out whether something is hashable or not, you can use the `hash()` function:"
   ]
  },
  {
   "cell_type": "code",
   "metadata": {
    "ExecuteTime": {
     "end_time": "2025-06-17T19:37:50.249762Z",
     "start_time": "2025-06-17T19:37:50.242501Z"
    }
   },
   "source": [
    "hash(100)"
   ],
   "outputs": [
    {
     "data": {
      "text/plain": [
       "100"
      ]
     },
     "execution_count": 15,
     "metadata": {},
     "output_type": "execute_result"
    }
   ],
   "execution_count": 15
  },
  {
   "cell_type": "code",
   "metadata": {
    "ExecuteTime": {
     "end_time": "2025-06-17T19:37:50.761525Z",
     "start_time": "2025-06-17T19:37:50.742733Z"
    }
   },
   "source": [
    "hash(l)"
   ],
   "outputs": [
    {
     "ename": "TypeError",
     "evalue": "unhashable type: 'list'",
     "output_type": "error",
     "traceback": [
      "\u001B[1;31m---------------------------------------------------------------------------\u001B[0m",
      "\u001B[1;31mTypeError\u001B[0m                                 Traceback (most recent call last)",
      "Cell \u001B[1;32mIn[16], line 1\u001B[0m\n\u001B[1;32m----> 1\u001B[0m \u001B[38;5;28;43mhash\u001B[39;49m\u001B[43m(\u001B[49m\u001B[43ml\u001B[49m\u001B[43m)\u001B[49m\n",
      "\u001B[1;31mTypeError\u001B[0m: unhashable type: 'list'"
     ]
    }
   ],
   "execution_count": 16
  },
  {
   "cell_type": "markdown",
   "metadata": {},
   "source": [
    "Tuples are immutable collections, but they may or may not be hashable depending on whether all the contained elements are hashable or not:"
   ]
  },
  {
   "cell_type": "code",
   "metadata": {
    "ExecuteTime": {
     "end_time": "2025-06-17T19:37:51.597251Z",
     "start_time": "2025-06-17T19:37:51.592744Z"
    }
   },
   "source": [
    "t = (1, 2, 3, 4)"
   ],
   "outputs": [],
   "execution_count": 17
  },
  {
   "cell_type": "code",
   "metadata": {
    "ExecuteTime": {
     "end_time": "2025-06-17T19:37:52.052308Z",
     "start_time": "2025-06-17T19:37:52.045592Z"
    }
   },
   "source": [
    "hash(t)"
   ],
   "outputs": [
    {
     "data": {
      "text/plain": [
       "590899387183067792"
      ]
     },
     "execution_count": 18,
     "metadata": {},
     "output_type": "execute_result"
    }
   ],
   "execution_count": 18
  },
  {
   "cell_type": "code",
   "metadata": {
    "ExecuteTime": {
     "end_time": "2025-06-17T19:37:53.186511Z",
     "start_time": "2025-06-17T19:37:53.181553Z"
    }
   },
   "source": [
    "t = ([1, 2], 3, 4)"
   ],
   "outputs": [],
   "execution_count": 19
  },
  {
   "cell_type": "code",
   "metadata": {
    "ExecuteTime": {
     "end_time": "2025-06-17T19:37:53.715440Z",
     "start_time": "2025-06-17T19:37:53.696308Z"
    }
   },
   "source": [
    "hash(t)"
   ],
   "outputs": [
    {
     "ename": "TypeError",
     "evalue": "unhashable type: 'list'",
     "output_type": "error",
     "traceback": [
      "\u001B[1;31m---------------------------------------------------------------------------\u001B[0m",
      "\u001B[1;31mTypeError\u001B[0m                                 Traceback (most recent call last)",
      "Cell \u001B[1;32mIn[20], line 1\u001B[0m\n\u001B[1;32m----> 1\u001B[0m \u001B[38;5;28;43mhash\u001B[39;49m\u001B[43m(\u001B[49m\u001B[43mt\u001B[49m\u001B[43m)\u001B[49m\n",
      "\u001B[1;31mTypeError\u001B[0m: unhashable type: 'list'"
     ]
    }
   ],
   "execution_count": 20
  },
  {
   "cell_type": "markdown",
   "metadata": {},
   "source": [
    "You'll notice that the tuple was unhashable because it contained a list, which is, itself, unhashable."
   ]
  },
  {
   "cell_type": "markdown",
   "metadata": {},
   "source": [
    "So, we can use tuples as keys sometimes:"
   ]
  },
  {
   "cell_type": "code",
   "metadata": {
    "ExecuteTime": {
     "end_time": "2025-06-17T19:37:55.015502Z",
     "start_time": "2025-06-17T19:37:55.008685Z"
    }
   },
   "source": [
    "d = {\n",
    "    (0, 0): \"origin\",\n",
    "    (1, 0): \"unit-x\",\n",
    "    (0, 1): \"unit-y\"\n",
    "}"
   ],
   "outputs": [],
   "execution_count": 21
  },
  {
   "cell_type": "code",
   "metadata": {
    "ExecuteTime": {
     "end_time": "2025-06-17T19:38:28.136073Z",
     "start_time": "2025-06-17T19:38:28.129773Z"
    }
   },
   "source": [
    "d[(0,0)]"
   ],
   "outputs": [
    {
     "data": {
      "text/plain": [
       "'origin'"
      ]
     },
     "execution_count": 22,
     "metadata": {},
     "output_type": "execute_result"
    }
   ],
   "execution_count": 22
  },
  {
   "cell_type": "markdown",
   "metadata": {},
   "source": [
    "We can delete a key (and it's associated value) from a dictionary using the `del` keyword, again just like we did with lists:"
   ]
  },
  {
   "cell_type": "code",
   "metadata": {
    "ExecuteTime": {
     "end_time": "2025-06-17T19:38:28.915081Z",
     "start_time": "2025-06-17T19:38:28.909486Z"
    }
   },
   "source": [
    "d = {'a': 1, 'b': 2, 'c': 3}"
   ],
   "outputs": [],
   "execution_count": 23
  },
  {
   "cell_type": "code",
   "metadata": {
    "ExecuteTime": {
     "end_time": "2025-06-17T19:38:29.401550Z",
     "start_time": "2025-06-17T19:38:29.397064Z"
    }
   },
   "source": [
    "del d['a']"
   ],
   "outputs": [],
   "execution_count": 24
  },
  {
   "cell_type": "markdown",
   "metadata": {},
   "source": [
    "You will get exception if you try to lookup or delete a non-existent key:"
   ]
  },
  {
   "cell_type": "code",
   "metadata": {
    "ExecuteTime": {
     "end_time": "2025-06-17T19:38:30.900729Z",
     "start_time": "2025-06-17T19:38:30.878731Z"
    }
   },
   "source": [
    "d['x']"
   ],
   "outputs": [
    {
     "ename": "KeyError",
     "evalue": "'x'",
     "output_type": "error",
     "traceback": [
      "\u001B[1;31m---------------------------------------------------------------------------\u001B[0m",
      "\u001B[1;31mKeyError\u001B[0m                                  Traceback (most recent call last)",
      "Cell \u001B[1;32mIn[25], line 1\u001B[0m\n\u001B[1;32m----> 1\u001B[0m \u001B[43md\u001B[49m\u001B[43m[\u001B[49m\u001B[38;5;124;43m'\u001B[39;49m\u001B[38;5;124;43mx\u001B[39;49m\u001B[38;5;124;43m'\u001B[39;49m\u001B[43m]\u001B[49m\n",
      "\u001B[1;31mKeyError\u001B[0m: 'x'"
     ]
    }
   ],
   "execution_count": 25
  },
  {
   "cell_type": "code",
   "metadata": {
    "ExecuteTime": {
     "end_time": "2025-06-17T19:38:31.436842Z",
     "start_time": "2025-06-17T19:38:31.418344Z"
    }
   },
   "source": [
    "del d['x']"
   ],
   "outputs": [
    {
     "ename": "KeyError",
     "evalue": "'x'",
     "output_type": "error",
     "traceback": [
      "\u001B[1;31m---------------------------------------------------------------------------\u001B[0m",
      "\u001B[1;31mKeyError\u001B[0m                                  Traceback (most recent call last)",
      "Cell \u001B[1;32mIn[26], line 1\u001B[0m\n\u001B[1;32m----> 1\u001B[0m \u001B[38;5;28;01mdel\u001B[39;00m \u001B[43md\u001B[49m\u001B[43m[\u001B[49m\u001B[38;5;124;43m'\u001B[39;49m\u001B[38;5;124;43mx\u001B[39;49m\u001B[38;5;124;43m'\u001B[39;49m\u001B[43m]\u001B[49m\n",
      "\u001B[1;31mKeyError\u001B[0m: 'x'"
     ]
    }
   ],
   "execution_count": 26
  },
  {
   "cell_type": "markdown",
   "metadata": {},
   "source": [
    "Later we'll take a look at a dictionary method that can be used to substitute a default value when we look up a non-existent key."
   ]
  },
  {
   "cell_type": "markdown",
   "metadata": {},
   "source": [
    "Many many data structures in Python use dictionaries."
   ]
  },
  {
   "cell_type": "markdown",
   "metadata": {},
   "source": [
    "For example, all the variables (symbols) we defined in our notebook are actually stored by Python in a dictionary - that's how it is able to quickly access the \"value\" associated with the variable symbol."
   ]
  },
  {
   "cell_type": "code",
   "metadata": {
    "ExecuteTime": {
     "end_time": "2025-06-17T19:38:33.425851Z",
     "start_time": "2025-06-17T19:38:33.415607Z"
    }
   },
   "source": [
    "globals()"
   ],
   "outputs": [
    {
     "data": {
      "text/plain": [
       "{'__name__': '__main__',\n",
       " '__doc__': 'Automatically created module for IPython interactive environment',\n",
       " '__package__': None,\n",
       " '__loader__': None,\n",
       " '__spec__': None,\n",
       " '__builtin__': <module 'builtins' (built-in)>,\n",
       " '__builtins__': <module 'builtins' (built-in)>,\n",
       " '_ih': ['',\n",
       "  \"d = {'a': 1, 'b': 2, 'c': 3}\",\n",
       "  \"person = {\\n    'first_name': 'Eric',\\n    'last_name': 'Idle',\\n    'year_born': 2016 \\n}\",\n",
       "  \"person['year_born']\",\n",
       "  \"person['year_born'] = 1943\",\n",
       "  'person',\n",
       "  \"person['month_born'] = 'March'\",\n",
       "  'person',\n",
       "  \"d = {3.14: 'pi', 2: 'even', 'prime': 7}\",\n",
       "  'd',\n",
       "  'd[3.14]',\n",
       "  'd[2]',\n",
       "  \"d['prime']\",\n",
       "  'l = [1, 2, 3]',\n",
       "  'd = {l: 100}',\n",
       "  'hash(100)',\n",
       "  'hash(l)',\n",
       "  't = (1, 2, 3, 4)',\n",
       "  'hash(t)',\n",
       "  't = ([1, 2], 3, 4)',\n",
       "  'hash(t)',\n",
       "  'd = {\\n    (0, 0): \"origin\",\\n    (1, 0): \"unit-x\",\\n    (0, 1): \"unit-y\"\\n}',\n",
       "  'd[(0,0)]',\n",
       "  \"d = {'a': 1, 'b': 2, 'c': 3}\",\n",
       "  \"del d['a']\",\n",
       "  \"d['x']\",\n",
       "  \"del d['x']\",\n",
       "  'globals()'],\n",
       " '_oh': {3: 2016,\n",
       "  5: {'first_name': 'Eric',\n",
       "   'last_name': 'Idle',\n",
       "   'year_born': 1943,\n",
       "   'month_born': 'March'},\n",
       "  7: {'first_name': 'Eric',\n",
       "   'last_name': 'Idle',\n",
       "   'year_born': 1943,\n",
       "   'month_born': 'March'},\n",
       "  9: {3.14: 'pi', 2: 'even', 'prime': 7},\n",
       "  10: 'pi',\n",
       "  11: 'even',\n",
       "  12: 7,\n",
       "  15: 100,\n",
       "  18: 590899387183067792,\n",
       "  22: 'origin'},\n",
       " '_dh': [WindowsPath('C:/Users/swapn/OneDrive/Desktop/achha/Dream/Python/Python 3 Fundamental Updated 3 - 2023/08 - Dictionaries')],\n",
       " 'In': ['',\n",
       "  \"d = {'a': 1, 'b': 2, 'c': 3}\",\n",
       "  \"person = {\\n    'first_name': 'Eric',\\n    'last_name': 'Idle',\\n    'year_born': 2016 \\n}\",\n",
       "  \"person['year_born']\",\n",
       "  \"person['year_born'] = 1943\",\n",
       "  'person',\n",
       "  \"person['month_born'] = 'March'\",\n",
       "  'person',\n",
       "  \"d = {3.14: 'pi', 2: 'even', 'prime': 7}\",\n",
       "  'd',\n",
       "  'd[3.14]',\n",
       "  'd[2]',\n",
       "  \"d['prime']\",\n",
       "  'l = [1, 2, 3]',\n",
       "  'd = {l: 100}',\n",
       "  'hash(100)',\n",
       "  'hash(l)',\n",
       "  't = (1, 2, 3, 4)',\n",
       "  'hash(t)',\n",
       "  't = ([1, 2], 3, 4)',\n",
       "  'hash(t)',\n",
       "  'd = {\\n    (0, 0): \"origin\",\\n    (1, 0): \"unit-x\",\\n    (0, 1): \"unit-y\"\\n}',\n",
       "  'd[(0,0)]',\n",
       "  \"d = {'a': 1, 'b': 2, 'c': 3}\",\n",
       "  \"del d['a']\",\n",
       "  \"d['x']\",\n",
       "  \"del d['x']\",\n",
       "  'globals()'],\n",
       " 'Out': {3: 2016,\n",
       "  5: {'first_name': 'Eric',\n",
       "   'last_name': 'Idle',\n",
       "   'year_born': 1943,\n",
       "   'month_born': 'March'},\n",
       "  7: {'first_name': 'Eric',\n",
       "   'last_name': 'Idle',\n",
       "   'year_born': 1943,\n",
       "   'month_born': 'March'},\n",
       "  9: {3.14: 'pi', 2: 'even', 'prime': 7},\n",
       "  10: 'pi',\n",
       "  11: 'even',\n",
       "  12: 7,\n",
       "  15: 100,\n",
       "  18: 590899387183067792,\n",
       "  22: 'origin'},\n",
       " 'get_ipython': <bound method InteractiveShell.get_ipython of <ipykernel.zmqshell.ZMQInteractiveShell object at 0x00000208CC489B80>>,\n",
       " 'exit': <IPython.core.autocall.ZMQExitAutocall at 0x208cc45d1c0>,\n",
       " 'quit': <IPython.core.autocall.ZMQExitAutocall at 0x208cc45d1c0>,\n",
       " 'open': <function _io.open(file, mode='r', buffering=-1, encoding=None, errors=None, newline=None, closefd=True, opener=None)>,\n",
       " '_': 'origin',\n",
       " '__': 590899387183067792,\n",
       " '___': 100,\n",
       " '__session__': 'C:\\\\Users\\\\swapn\\\\OneDrive\\\\Desktop\\\\achha\\\\Dream\\\\Python\\\\Python 3 Fundamental Updated 3 - 2023\\\\08 - Dictionaries\\\\01 - Associative Arrays and Dictionaries.ipynb',\n",
       " '_i': \"del d['x']\",\n",
       " '_ii': \"d['x']\",\n",
       " '_iii': \"del d['a']\",\n",
       " '_i1': \"d = {'a': 1, 'b': 2, 'c': 3}\",\n",
       " 'd': {'b': 2, 'c': 3},\n",
       " 'sys': <module 'sys' (built-in)>,\n",
       " 'remove_imported_pydev_package': <function pydev_jupyter_utils.remove_imported_pydev_package()>,\n",
       " '_pydevd_bundle': <module '_pydevd_bundle' from 'C:\\\\Program Files\\\\JetBrains\\\\PyCharm 2024.3.2\\\\plugins\\\\python-ce\\\\helpers\\\\pydev\\\\_pydevd_bundle\\\\__init__.py'>,\n",
       " 'pydev_jupyter_vars': <module 'pydev_jupyter_vars' from 'C:\\\\Program Files\\\\JetBrains\\\\PyCharm 2024.3.2\\\\plugins\\\\python-ce\\\\helpers\\\\jupyter_debug\\\\pydev_jupyter_vars.py'>,\n",
       " '_i2': \"person = {\\n    'first_name': 'Eric',\\n    'last_name': 'Idle',\\n    'year_born': 2016 \\n}\",\n",
       " 'person': {'first_name': 'Eric',\n",
       "  'last_name': 'Idle',\n",
       "  'year_born': 1943,\n",
       "  'month_born': 'March'},\n",
       " '_i3': \"person['year_born']\",\n",
       " '_3': 2016,\n",
       " '_i4': \"person['year_born'] = 1943\",\n",
       " '_i5': 'person',\n",
       " '_5': {'first_name': 'Eric',\n",
       "  'last_name': 'Idle',\n",
       "  'year_born': 1943,\n",
       "  'month_born': 'March'},\n",
       " '_i6': \"person['month_born'] = 'March'\",\n",
       " '_i7': 'person',\n",
       " '_7': {'first_name': 'Eric',\n",
       "  'last_name': 'Idle',\n",
       "  'year_born': 1943,\n",
       "  'month_born': 'March'},\n",
       " '_i8': \"d = {3.14: 'pi', 2: 'even', 'prime': 7}\",\n",
       " '_i9': 'd',\n",
       " '_9': {3.14: 'pi', 2: 'even', 'prime': 7},\n",
       " '_i10': 'd[3.14]',\n",
       " '_10': 'pi',\n",
       " '_i11': 'd[2]',\n",
       " '_11': 'even',\n",
       " '_i12': \"d['prime']\",\n",
       " '_12': 7,\n",
       " '_i13': 'l = [1, 2, 3]',\n",
       " 'l': [1, 2, 3],\n",
       " '_i14': 'd = {l: 100}',\n",
       " '_i15': 'hash(100)',\n",
       " '_15': 100,\n",
       " '_i16': 'hash(l)',\n",
       " '_i17': 't = (1, 2, 3, 4)',\n",
       " 't': ([1, 2], 3, 4),\n",
       " '_i18': 'hash(t)',\n",
       " '_18': 590899387183067792,\n",
       " '_i19': 't = ([1, 2], 3, 4)',\n",
       " '_i20': 'hash(t)',\n",
       " '_i21': 'd = {\\n    (0, 0): \"origin\",\\n    (1, 0): \"unit-x\",\\n    (0, 1): \"unit-y\"\\n}',\n",
       " '_i22': 'd[(0,0)]',\n",
       " '_22': 'origin',\n",
       " '_i23': \"d = {'a': 1, 'b': 2, 'c': 3}\",\n",
       " '_i24': \"del d['a']\",\n",
       " '_i25': \"d['x']\",\n",
       " '_i26': \"del d['x']\",\n",
       " '_i27': 'globals()'}"
      ]
     },
     "execution_count": 27,
     "metadata": {},
     "output_type": "execute_result"
    }
   ],
   "execution_count": 27
  },
  {
   "cell_type": "markdown",
   "metadata": {},
   "source": [
    "For example, when we access the `person` variable:"
   ]
  },
  {
   "cell_type": "code",
   "metadata": {
    "ExecuteTime": {
     "end_time": "2025-06-17T19:38:34.519088Z",
     "start_time": "2025-06-17T19:38:34.511841Z"
    }
   },
   "source": [
    "person"
   ],
   "outputs": [
    {
     "data": {
      "text/plain": [
       "{'first_name': 'Eric',\n",
       " 'last_name': 'Idle',\n",
       " 'year_born': 1943,\n",
       " 'month_born': 'March'}"
      ]
     },
     "execution_count": 28,
     "metadata": {},
     "output_type": "execute_result"
    }
   ],
   "execution_count": 28
  },
  {
   "cell_type": "markdown",
   "metadata": {},
   "source": [
    "Python actually retrieved the object from the `globals` dictionary:"
   ]
  },
  {
   "cell_type": "code",
   "metadata": {
    "ExecuteTime": {
     "end_time": "2025-06-17T19:38:35.802442Z",
     "start_time": "2025-06-17T19:38:35.795571Z"
    }
   },
   "source": [
    "globals()['person']"
   ],
   "outputs": [
    {
     "data": {
      "text/plain": [
       "{'first_name': 'Eric',\n",
       " 'last_name': 'Idle',\n",
       " 'year_born': 1943,\n",
       " 'month_born': 'March'}"
      ]
     },
     "execution_count": 29,
     "metadata": {},
     "output_type": "execute_result"
    }
   ],
   "execution_count": 29
  },
  {
   "cell_type": "code",
   "metadata": {
    "ExecuteTime": {
     "end_time": "2025-06-17T19:38:36.438035Z",
     "start_time": "2025-06-17T19:38:36.431785Z"
    }
   },
   "source": [
    "person is globals()['person']"
   ],
   "outputs": [
    {
     "data": {
      "text/plain": [
       "True"
      ]
     },
     "execution_count": 30,
     "metadata": {},
     "output_type": "execute_result"
    }
   ],
   "execution_count": 30
  },
  {
   "cell_type": "markdown",
   "metadata": {},
   "source": [
    "See! Same object.\n",
    "\n",
    "In Python, dictionaries are everywhere and is probably one of the most important ubiquitous structures in Python."
   ]
  }
 ],
 "metadata": {
  "kernelspec": {
   "display_name": "Python 3",
   "language": "python",
   "name": "python3"
  },
  "language_info": {
   "codemirror_mode": {
    "name": "ipython",
    "version": 3
   },
   "file_extension": ".py",
   "mimetype": "text/x-python",
   "name": "python",
   "nbconvert_exporter": "python",
   "pygments_lexer": "ipython3",
   "version": "3.9.1"
  }
 },
 "nbformat": 4,
 "nbformat_minor": 4
}
