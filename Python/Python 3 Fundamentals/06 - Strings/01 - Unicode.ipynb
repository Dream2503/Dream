{
 "cells": [
  {
   "cell_type": "markdown",
   "metadata": {},
   "source": [
    "### Unicode"
   ]
  },
  {
   "cell_type": "markdown",
   "metadata": {},
   "source": [
    "Here are the various links I used in the lecture:\n",
    "\n",
    "- [`A`] https://www.compart.com/en/unicode/U+0041\n",
    "- [`α`] https://www.compart.com/en/unicode/U+03B1\n",
    "- [🐍] https://www.compart.com/en/unicode/U+1F40D\n"
   ]
  },
  {
   "cell_type": "markdown",
   "metadata": {},
   "source": [
    "We can get the (unicode) code point of any character, using the `ord()` function:"
   ]
  },
  {
   "cell_type": "code",
   "metadata": {
    "ExecuteTime": {
     "end_time": "2025-06-17T19:22:36.929294Z",
     "start_time": "2025-06-17T19:22:36.919532Z"
    }
   },
   "source": [
    "ord('A')"
   ],
   "outputs": [
    {
     "data": {
      "text/plain": [
       "65"
      ]
     },
     "execution_count": 1,
     "metadata": {},
     "output_type": "execute_result"
    }
   ],
   "execution_count": 1
  },
  {
   "cell_type": "code",
   "metadata": {
    "ExecuteTime": {
     "end_time": "2025-06-17T19:22:37.290306Z",
     "start_time": "2025-06-17T19:22:37.282576Z"
    }
   },
   "source": [
    "ord('α')"
   ],
   "outputs": [
    {
     "data": {
      "text/plain": [
       "945"
      ]
     },
     "execution_count": 2,
     "metadata": {},
     "output_type": "execute_result"
    }
   ],
   "execution_count": 2
  },
  {
   "cell_type": "code",
   "metadata": {
    "ExecuteTime": {
     "end_time": "2025-06-17T19:22:37.365971Z",
     "start_time": "2025-06-17T19:22:37.349686Z"
    }
   },
   "source": [
    "ord('🐍')"
   ],
   "outputs": [
    {
     "data": {
      "text/plain": [
       "128013"
      ]
     },
     "execution_count": 3,
     "metadata": {},
     "output_type": "execute_result"
    }
   ],
   "execution_count": 3
  },
  {
   "cell_type": "markdown",
   "metadata": {},
   "source": [
    "The `ord()` function returns the code point in decimal, but as we saw most Unicode tables use hex - a common base in computer science (along with binary, and, of course, decimal). Octal (base 8) is also sometimes used, but is less common."
   ]
  },
  {
   "cell_type": "markdown",
   "metadata": {},
   "source": [
    "To convert a decimal number into the corresponding hex **representation**, we can use the `hex()` function:"
   ]
  },
  {
   "cell_type": "code",
   "metadata": {
    "ExecuteTime": {
     "end_time": "2025-06-17T19:22:37.566255Z",
     "start_time": "2025-06-17T19:22:37.559249Z"
    }
   },
   "source": [
    "hex(ord('A'))"
   ],
   "outputs": [
    {
     "data": {
      "text/plain": [
       "'0x41'"
      ]
     },
     "execution_count": 4,
     "metadata": {},
     "output_type": "execute_result"
    }
   ],
   "execution_count": 4
  },
  {
   "cell_type": "code",
   "metadata": {
    "ExecuteTime": {
     "end_time": "2025-06-17T19:22:37.974829Z",
     "start_time": "2025-06-17T19:22:37.968432Z"
    }
   },
   "source": [
    "hex(ord('α'))"
   ],
   "outputs": [
    {
     "data": {
      "text/plain": [
       "'0x3b1'"
      ]
     },
     "execution_count": 5,
     "metadata": {},
     "output_type": "execute_result"
    }
   ],
   "execution_count": 5
  },
  {
   "cell_type": "code",
   "metadata": {
    "ExecuteTime": {
     "end_time": "2025-06-17T19:22:38.344516Z",
     "start_time": "2025-06-17T19:22:38.338072Z"
    }
   },
   "source": [
    "hex(ord('🐍'))"
   ],
   "outputs": [
    {
     "data": {
      "text/plain": [
       "'0x1f40d'"
      ]
     },
     "execution_count": 6,
     "metadata": {},
     "output_type": "execute_result"
    }
   ],
   "execution_count": 6
  },
  {
   "cell_type": "markdown",
   "metadata": {},
   "source": [
    "If you want to convert a hex number into decimal, you can do so using the `int()` function:"
   ]
  },
  {
   "cell_type": "code",
   "metadata": {
    "ExecuteTime": {
     "end_time": "2025-06-17T19:22:39.358945Z",
     "start_time": "2025-06-17T19:22:39.352271Z"
    }
   },
   "source": [
    "int('3B1', 16)"
   ],
   "outputs": [
    {
     "data": {
      "text/plain": [
       "945"
      ]
     },
     "execution_count": 7,
     "metadata": {},
     "output_type": "execute_result"
    }
   ],
   "execution_count": 7
  },
  {
   "cell_type": "markdown",
   "metadata": {},
   "source": [
    "As long as your editor handles it, you can always paste in a glyph into a string, as we saw above, and even, in many cases as a variable name:"
   ]
  },
  {
   "cell_type": "code",
   "metadata": {
    "ExecuteTime": {
     "end_time": "2025-06-17T19:22:40.526338Z",
     "start_time": "2025-06-17T19:22:40.508756Z"
    }
   },
   "source": [
    "α = 'alpha'"
   ],
   "outputs": [],
   "execution_count": 8
  },
  {
   "cell_type": "code",
   "metadata": {
    "ExecuteTime": {
     "end_time": "2025-06-17T19:22:41.032725Z",
     "start_time": "2025-06-17T19:22:41.026728Z"
    }
   },
   "source": [
    "print(α)"
   ],
   "outputs": [
    {
     "name": "stdout",
     "output_type": "stream",
     "text": [
      "alpha\n"
     ]
    }
   ],
   "execution_count": 9
  },
  {
   "cell_type": "raw",
   "metadata": {},
   "source": [
    "Not all characters work for identifiers though - they must be letter-like or number-like symbols (such as letter or decimal number categories in Unicode). That's why you cannot use 🐍 as a variable name - it is in the \"Other Symbol\" category in Unicode."
   ]
  },
  {
   "cell_type": "markdown",
   "metadata": {},
   "source": [
    "So far we have seen that we can specify a character simply by pasting it into our editor (assuming it supports that, and assuming you have a font that can display the character)."
   ]
  },
  {
   "cell_type": "code",
   "metadata": {
    "ExecuteTime": {
     "end_time": "2025-06-17T19:22:42.599309Z",
     "start_time": "2025-06-17T19:22:42.592912Z"
    }
   },
   "source": [
    "var = \"A\""
   ],
   "outputs": [],
   "execution_count": 10
  },
  {
   "cell_type": "markdown",
   "metadata": {},
   "source": [
    "But we can also use the unicode name to define it, using an escape sequence."
   ]
  },
  {
   "cell_type": "markdown",
   "metadata": {},
   "source": [
    "For example, if we look at the unicode character `A`, we see that:\n",
    "\n",
    "- name: Latin Capital Letter A\n",
    "- code: U+0041"
   ]
  },
  {
   "cell_type": "markdown",
   "metadata": {},
   "source": [
    "To use the name we use a `\\N{...}` escape sequence:"
   ]
  },
  {
   "cell_type": "code",
   "metadata": {
    "ExecuteTime": {
     "end_time": "2025-06-17T19:22:44.930481Z",
     "start_time": "2025-06-17T19:22:44.912229Z"
    }
   },
   "source": [
    "var = \"\\N{Latin Capital Letter A}lways look on the bright side of life.\""
   ],
   "outputs": [],
   "execution_count": 11
  },
  {
   "cell_type": "code",
   "metadata": {
    "ExecuteTime": {
     "end_time": "2025-06-17T19:22:45.208560Z",
     "start_time": "2025-06-17T19:22:45.201863Z"
    }
   },
   "source": [
    "var"
   ],
   "outputs": [
    {
     "data": {
      "text/plain": [
       "'Always look on the bright side of life.'"
      ]
     },
     "execution_count": 12,
     "metadata": {},
     "output_type": "execute_result"
    }
   ],
   "execution_count": 12
  },
  {
   "cell_type": "markdown",
   "metadata": {},
   "source": [
    "We can also use the numeric code - in this case we have less than four digits in the code, so we use a `\\uxxxx` escape sequence:"
   ]
  },
  {
   "cell_type": "code",
   "metadata": {
    "ExecuteTime": {
     "end_time": "2025-06-17T19:22:45.784977Z",
     "start_time": "2025-06-17T19:22:45.779973Z"
    }
   },
   "source": [
    "var = \"\\u0041lways look on the bright side of life\""
   ],
   "outputs": [],
   "execution_count": 13
  },
  {
   "cell_type": "code",
   "metadata": {
    "ExecuteTime": {
     "end_time": "2025-06-17T19:22:47.328216Z",
     "start_time": "2025-06-17T19:22:47.321913Z"
    }
   },
   "source": [
    "var"
   ],
   "outputs": [
    {
     "data": {
      "text/plain": [
       "'Always look on the bright side of life'"
      ]
     },
     "execution_count": 14,
     "metadata": {},
     "output_type": "execute_result"
    }
   ],
   "execution_count": 14
  },
  {
   "cell_type": "markdown",
   "metadata": {},
   "source": [
    "Let's see another character - we'll search for \"grin\" in this web site: https://www.compart.com/en/unicode"
   ]
  },
  {
   "cell_type": "markdown",
   "metadata": {},
   "source": [
    "The search result gets us to this page: https://www.compart.com/en/unicode/U+1F600"
   ]
  },
  {
   "cell_type": "markdown",
   "metadata": {},
   "source": [
    "There we see that the character is:\n",
    "- glyph: 😀\n",
    "- name: Grinning Face\n",
    "- code: U+1F600"
   ]
  },
  {
   "cell_type": "code",
   "metadata": {
    "ExecuteTime": {
     "end_time": "2025-06-17T19:22:50.441448Z",
     "start_time": "2025-06-17T19:22:50.434454Z"
    }
   },
   "source": [
    "var = '😀'\n",
    "var"
   ],
   "outputs": [
    {
     "data": {
      "text/plain": [
       "'😀'"
      ]
     },
     "execution_count": 15,
     "metadata": {},
     "output_type": "execute_result"
    }
   ],
   "execution_count": 15
  },
  {
   "cell_type": "code",
   "metadata": {
    "ExecuteTime": {
     "end_time": "2025-06-17T19:22:51.045289Z",
     "start_time": "2025-06-17T19:22:51.026947Z"
    }
   },
   "source": [
    "var = \"\\N{Grinning Face}\"\n",
    "var"
   ],
   "outputs": [
    {
     "data": {
      "text/plain": [
       "'😀'"
      ]
     },
     "execution_count": 16,
     "metadata": {},
     "output_type": "execute_result"
    }
   ],
   "execution_count": 16
  },
  {
   "cell_type": "markdown",
   "metadata": {},
   "source": [
    "The character code has 5 digits, so more than 4, and we therefore need to escape the code using `\\Uxxxxxxxx` - an 8 digit code (padded with zeroes to the right if needed) - in this case `0001F600`:"
   ]
  },
  {
   "cell_type": "code",
   "metadata": {
    "ExecuteTime": {
     "end_time": "2025-06-17T19:22:53.090066Z",
     "start_time": "2025-06-17T19:22:53.083829Z"
    }
   },
   "source": [
    "var = \"\\U0001F600\"\n",
    "var"
   ],
   "outputs": [
    {
     "data": {
      "text/plain": [
       "'😀'"
      ]
     },
     "execution_count": 17,
     "metadata": {},
     "output_type": "execute_result"
    }
   ],
   "execution_count": 17
  },
  {
   "cell_type": "markdown",
   "metadata": {},
   "source": [
    "(Note the case difference `\\uxxxx` and `\\Uxxxxxxxx` for 4 vs 8 digit codes)"
   ]
  }
 ],
 "metadata": {
  "kernelspec": {
   "display_name": "Python 3",
   "language": "python",
   "name": "python3"
  },
  "language_info": {
   "codemirror_mode": {
    "name": "ipython",
    "version": 3
   },
   "file_extension": ".py",
   "mimetype": "text/x-python",
   "name": "python",
   "nbconvert_exporter": "python",
   "pygments_lexer": "ipython3",
   "version": "3.9.1"
  }
 },
 "nbformat": 4,
 "nbformat_minor": 4
}
