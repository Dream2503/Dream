{
 "cells": [
  {
   "cell_type": "markdown",
   "metadata": {},
   "source": [
    "### String Interpolation"
   ]
  },
  {
   "cell_type": "markdown",
   "metadata": {},
   "source": [
    "Often we want to \"interpolate\" values into strings."
   ]
  },
  {
   "cell_type": "markdown",
   "metadata": {},
   "source": [
    "Here I'll show you two mechanisms, the `format()` method and **formatted strings**, so called **f-strings**."
   ]
  },
  {
   "cell_type": "code",
   "metadata": {
    "ExecuteTime": {
     "end_time": "2025-06-17T19:24:25.684079Z",
     "start_time": "2025-06-17T19:24:25.677060Z"
    }
   },
   "source": [
    "open_, high, low, close = 98, 100, 95, 99"
   ],
   "outputs": [],
   "execution_count": 1
  },
  {
   "cell_type": "markdown",
   "metadata": {},
   "source": [
    "Note: I use `open_` instead `open` as a symbol because `open` is actually a built-in function in Python. Although we can redefine it, if we do so we won't be able to open files later :-)"
   ]
  },
  {
   "cell_type": "markdown",
   "metadata": {},
   "source": [
    "Now, we want to generate a string that contains these values - maybe for display to our users, or maybe to save into a CSV file we are creating."
   ]
  },
  {
   "cell_type": "markdown",
   "metadata": {},
   "source": [
    "We can use the `format()` method this way:"
   ]
  },
  {
   "cell_type": "code",
   "metadata": {
    "ExecuteTime": {
     "end_time": "2025-06-17T19:24:26.524901Z",
     "start_time": "2025-06-17T19:24:26.514657Z"
    }
   },
   "source": [
    "'open: {}, high: {}, low: {}, close: {}'.format(open_, high, low, close)"
   ],
   "outputs": [
    {
     "data": {
      "text/plain": [
       "'open: 98, high: 100, low: 95, close: 99'"
      ]
     },
     "execution_count": 2,
     "metadata": {},
     "output_type": "execute_result"
    }
   ],
   "execution_count": 2
  },
  {
   "cell_type": "markdown",
   "metadata": {},
   "source": [
    "The only thing is that we need to make sure we list the arguments in the same order as we are interpolating them into the string."
   ]
  },
  {
   "cell_type": "markdown",
   "metadata": {},
   "source": [
    "Now this may at times be prone to errors - in that case, there is a variant where we can name the argument in the string, and used named arguments in the `format` method (we'll get to named arguments later in this course):"
   ]
  },
  {
   "cell_type": "code",
   "metadata": {
    "ExecuteTime": {
     "end_time": "2025-06-17T19:24:27.962660Z",
     "start_time": "2025-06-17T19:24:27.956150Z"
    }
   },
   "source": [
    "bid = 1.5760\n",
    "ask = 1.5763"
   ],
   "outputs": [],
   "execution_count": 3
  },
  {
   "cell_type": "code",
   "metadata": {
    "ExecuteTime": {
     "end_time": "2025-06-17T19:24:28.445612Z",
     "start_time": "2025-06-17T19:24:28.438114Z"
    }
   },
   "source": [
    "'bid: {bid}, ask: {ask}, spread: {spread}'.format(bid=bid, ask=ask, spread=(ask - bid))"
   ],
   "outputs": [
    {
     "data": {
      "text/plain": [
       "'bid: 1.576, ask: 1.5763, spread: 0.00029999999999996696'"
      ]
     },
     "execution_count": 4,
     "metadata": {},
     "output_type": "execute_result"
    }
   ],
   "execution_count": 4
  },
  {
   "cell_type": "markdown",
   "metadata": {},
   "source": [
    "This is sometimes easier than remembering the order of the variables, because this works just as well:"
   ]
  },
  {
   "cell_type": "code",
   "metadata": {
    "ExecuteTime": {
     "end_time": "2025-06-17T19:24:29.436056Z",
     "start_time": "2025-06-17T19:24:29.428766Z"
    }
   },
   "source": [
    "'bid: {bid}, ask: {ask}, spread: {spread}'.format(spread=(ask - bid), bid=bid, ask=ask)"
   ],
   "outputs": [
    {
     "data": {
      "text/plain": [
       "'bid: 1.576, ask: 1.5763, spread: 0.00029999999999996696'"
      ]
     },
     "execution_count": 5,
     "metadata": {},
     "output_type": "execute_result"
    }
   ],
   "execution_count": 5
  },
  {
   "cell_type": "markdown",
   "metadata": {},
   "source": [
    "You'll notice that the displayed value for the spread is a little too much (plus it's not exact, as we already know when dealing with floats). We can specify a format Python should use to display the float:"
   ]
  },
  {
   "cell_type": "code",
   "metadata": {
    "ExecuteTime": {
     "end_time": "2025-06-17T19:24:30.370749Z",
     "start_time": "2025-06-17T19:24:30.362654Z"
    }
   },
   "source": [
    "'bid: {bid:.4f}, ask: {ask:.4f}, spread: {spread:.4f}'.format(spread=(ask - bid), bid=bid, ask=ask)"
   ],
   "outputs": [
    {
     "data": {
      "text/plain": [
       "'bid: 1.5760, ask: 1.5763, spread: 0.0003'"
      ]
     },
     "execution_count": 6,
     "metadata": {},
     "output_type": "execute_result"
    }
   ],
   "execution_count": 6
  },
  {
   "cell_type": "markdown",
   "metadata": {},
   "source": [
    "The other advantage of used named variables is that they can be used more than once in the same string:"
   ]
  },
  {
   "cell_type": "code",
   "metadata": {
    "ExecuteTime": {
     "end_time": "2025-06-17T19:24:31.555905Z",
     "start_time": "2025-06-17T19:24:31.548753Z"
    }
   },
   "source": [
    "'{a} + {b} = {b} + {a}'.format(a=10, b=20)"
   ],
   "outputs": [
    {
     "data": {
      "text/plain": [
       "'10 + 20 = 20 + 10'"
      ]
     },
     "execution_count": 7,
     "metadata": {},
     "output_type": "execute_result"
    }
   ],
   "execution_count": 7
  },
  {
   "cell_type": "markdown",
   "metadata": {},
   "source": [
    "If we had wanted to use just positional arguments, we would have to do this:"
   ]
  },
  {
   "cell_type": "code",
   "metadata": {
    "ExecuteTime": {
     "end_time": "2025-06-17T19:24:32.757523Z",
     "start_time": "2025-06-17T19:24:32.751028Z"
    }
   },
   "source": [
    "'{} + {} = {} + {}'.format(10, 20, 20, 10)"
   ],
   "outputs": [
    {
     "data": {
      "text/plain": [
       "'10 + 20 = 20 + 10'"
      ]
     },
     "execution_count": 8,
     "metadata": {},
     "output_type": "execute_result"
    }
   ],
   "execution_count": 8
  },
  {
   "cell_type": "markdown",
   "metadata": {},
   "source": [
    "Starting in Python 3.6, there is another way to do the same thing - f-strings."
   ]
  },
  {
   "cell_type": "markdown",
   "metadata": {},
   "source": [
    "These f-strings directly interpolate existing symbols into our string - this means they must exist before we define the f-string:"
   ]
  },
  {
   "cell_type": "code",
   "metadata": {
    "ExecuteTime": {
     "end_time": "2025-06-17T19:24:37.820343Z",
     "start_time": "2025-06-17T19:24:37.813373Z"
    }
   },
   "source": [
    "a = 10\n",
    "b = 20"
   ],
   "outputs": [],
   "execution_count": 9
  },
  {
   "cell_type": "code",
   "metadata": {
    "ExecuteTime": {
     "end_time": "2025-06-17T19:24:38.295111Z",
     "start_time": "2025-06-17T19:24:38.288920Z"
    }
   },
   "source": [
    "f'{a} + {b} = {b} + {a}'"
   ],
   "outputs": [
    {
     "data": {
      "text/plain": [
       "'10 + 20 = 20 + 10'"
      ]
     },
     "execution_count": 10,
     "metadata": {},
     "output_type": "execute_result"
    }
   ],
   "execution_count": 10
  },
  {
   "cell_type": "markdown",
   "metadata": {},
   "source": [
    "In fact, we can even include expressions, not just symbols in the interpolation:"
   ]
  },
  {
   "cell_type": "code",
   "metadata": {
    "ExecuteTime": {
     "end_time": "2025-06-17T19:24:39.276640Z",
     "start_time": "2025-06-17T19:24:39.269488Z"
    }
   },
   "source": [
    "f'{a} + {b} = {a + b}'"
   ],
   "outputs": [
    {
     "data": {
      "text/plain": [
       "'10 + 20 = 30'"
      ]
     },
     "execution_count": 11,
     "metadata": {},
     "output_type": "execute_result"
    }
   ],
   "execution_count": 11
  },
  {
   "cell_type": "markdown",
   "metadata": {},
   "source": [
    "Let's go back to our open-high-low-close example:"
   ]
  },
  {
   "cell_type": "code",
   "metadata": {
    "ExecuteTime": {
     "end_time": "2025-06-17T19:24:40.128081Z",
     "start_time": "2025-06-17T19:24:40.120485Z"
    }
   },
   "source": [
    "f'open: {open_}, high: {high}, low: {low}, close: {close}'"
   ],
   "outputs": [
    {
     "data": {
      "text/plain": [
       "'open: 98, high: 100, low: 95, close: 99'"
      ]
     },
     "execution_count": 12,
     "metadata": {},
     "output_type": "execute_result"
    }
   ],
   "execution_count": 12
  },
  {
   "cell_type": "markdown",
   "metadata": {},
   "source": [
    "And our spread example:"
   ]
  },
  {
   "cell_type": "code",
   "metadata": {
    "ExecuteTime": {
     "end_time": "2025-06-17T19:24:41.106830Z",
     "start_time": "2025-06-17T19:24:41.098993Z"
    }
   },
   "source": [
    "f'ask: {ask}, bid: {bid}, spread: {ask - bid}'"
   ],
   "outputs": [
    {
     "data": {
      "text/plain": [
       "'ask: 1.5763, bid: 1.576, spread: 0.00029999999999996696'"
      ]
     },
     "execution_count": 13,
     "metadata": {},
     "output_type": "execute_result"
    }
   ],
   "execution_count": 13
  },
  {
   "cell_type": "markdown",
   "metadata": {},
   "source": [
    "As you can see we also have that visual representation issue, so we rectify it using the same approach as before:"
   ]
  },
  {
   "cell_type": "code",
   "metadata": {
    "ExecuteTime": {
     "end_time": "2025-06-17T19:24:42.001982Z",
     "start_time": "2025-06-17T19:24:41.995441Z"
    }
   },
   "source": [
    "f'ask: {ask:.4f}, bid: {bid:.4f}, spread: {(ask - bid):.4f}'"
   ],
   "outputs": [
    {
     "data": {
      "text/plain": [
       "'ask: 1.5763, bid: 1.5760, spread: 0.0003'"
      ]
     },
     "execution_count": 14,
     "metadata": {},
     "output_type": "execute_result"
    }
   ],
   "execution_count": 14
  },
  {
   "cell_type": "markdown",
   "metadata": {},
   "source": [
    "Technically we don't even need the parentheses in the last interpolated expression:"
   ]
  },
  {
   "cell_type": "code",
   "metadata": {
    "ExecuteTime": {
     "end_time": "2025-06-17T19:24:42.827075Z",
     "start_time": "2025-06-17T19:24:42.820568Z"
    }
   },
   "source": [
    "f'ask: {ask:.4f}, bid: {bid:.4f}, spread: {ask - bid:.4f}'"
   ],
   "outputs": [
    {
     "data": {
      "text/plain": [
       "'ask: 1.5763, bid: 1.5760, spread: 0.0003'"
      ]
     },
     "execution_count": 15,
     "metadata": {},
     "output_type": "execute_result"
    }
   ],
   "execution_count": 15
  }
 ],
 "metadata": {
  "kernelspec": {
   "display_name": "Python 3",
   "language": "python",
   "name": "python3"
  },
  "language_info": {
   "codemirror_mode": {
    "name": "ipython",
    "version": 3
   },
   "file_extension": ".py",
   "mimetype": "text/x-python",
   "name": "python",
   "nbconvert_exporter": "python",
   "pygments_lexer": "ipython3",
   "version": "3.9.1"
  }
 },
 "nbformat": 4,
 "nbformat_minor": 4
}
