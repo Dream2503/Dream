{
 "cells": [
  {
   "cell_type": "markdown",
   "id": "going-parallel",
   "metadata": {},
   "source": [
    "### Solutions"
   ]
  },
  {
   "cell_type": "markdown",
   "id": "wanted-fourth",
   "metadata": {},
   "source": [
    "#### Exercise 1"
   ]
  },
  {
   "cell_type": "markdown",
   "id": "ordered-mathematics",
   "metadata": {},
   "source": [
    "Given the following string:"
   ]
  },
  {
   "cell_type": "code",
   "id": "tracked-zealand",
   "metadata": {
    "ExecuteTime": {
     "end_time": "2025-06-17T19:19:19.643928Z",
     "start_time": "2025-06-17T19:19:19.637291Z"
    }
   },
   "source": [
    "s = 'FfEeDdCcBbAa'"
   ],
   "outputs": [],
   "execution_count": 1
  },
  {
   "cell_type": "markdown",
   "id": "advised-recommendation",
   "metadata": {},
   "source": [
    "Create two new variables that contain just the lower and upper case letters of `s` respectively, in the correct alphabetical order, i.e:\n",
    "\n",
    "- `'ABCDEF'`\n",
    "- `'abcdef'`"
   ]
  },
  {
   "cell_type": "markdown",
   "id": "fifth-burton",
   "metadata": {},
   "source": [
    "##### Solution"
   ]
  },
  {
   "cell_type": "markdown",
   "id": "sized-belize",
   "metadata": {},
   "source": [
    "The string `s` is in reverse order, so at some point we'll need to reverse the string. We could either do it before we extract the upper and lwoer case characters, or we could do it after. Let's do both ways."
   ]
  },
  {
   "cell_type": "markdown",
   "id": "recreational-university",
   "metadata": {},
   "source": [
    "We'll start by reversing the order first:"
   ]
  },
  {
   "cell_type": "code",
   "id": "recognized-occupation",
   "metadata": {
    "ExecuteTime": {
     "end_time": "2025-06-17T19:19:20.005089Z",
     "start_time": "2025-06-17T19:19:19.994565Z"
    }
   },
   "source": [
    "reversed_s = s[::-1]\n",
    "reversed_s"
   ],
   "outputs": [
    {
     "data": {
      "text/plain": [
       "'aAbBcCdDeEfF'"
      ]
     },
     "execution_count": 2,
     "metadata": {},
     "output_type": "execute_result"
    }
   ],
   "execution_count": 2
  },
  {
   "cell_type": "markdown",
   "id": "african-comparison",
   "metadata": {},
   "source": [
    "Now we can use extended slicing starting at `0` to pick out every second character:"
   ]
  },
  {
   "cell_type": "code",
   "id": "outer-collectible",
   "metadata": {
    "ExecuteTime": {
     "end_time": "2025-06-17T19:19:20.138583Z",
     "start_time": "2025-06-17T19:19:20.131216Z"
    }
   },
   "source": [
    "reversed_s[::2]"
   ],
   "outputs": [
    {
     "data": {
      "text/plain": [
       "'abcdef'"
      ]
     },
     "execution_count": 3,
     "metadata": {},
     "output_type": "execute_result"
    }
   ],
   "execution_count": 3
  },
  {
   "cell_type": "markdown",
   "id": "after-quilt",
   "metadata": {},
   "source": [
    "And starting at `1` to pick out the upper case characters:"
   ]
  },
  {
   "cell_type": "code",
   "id": "secondary-wedding",
   "metadata": {
    "ExecuteTime": {
     "end_time": "2025-06-17T19:19:20.226835Z",
     "start_time": "2025-06-17T19:19:20.220202Z"
    }
   },
   "source": [
    "reversed_s[1::2]"
   ],
   "outputs": [
    {
     "data": {
      "text/plain": [
       "'ABCDEF'"
      ]
     },
     "execution_count": 4,
     "metadata": {},
     "output_type": "execute_result"
    }
   ],
   "execution_count": 4
  },
  {
   "cell_type": "markdown",
   "id": "sitting-greeting",
   "metadata": {},
   "source": [
    "Alternatively, we could pick the upper/lower case characters first, and then reverse the each result:"
   ]
  },
  {
   "cell_type": "code",
   "id": "formal-flower",
   "metadata": {
    "ExecuteTime": {
     "end_time": "2025-06-17T19:19:20.637199Z",
     "start_time": "2025-06-17T19:19:20.630724Z"
    }
   },
   "source": [
    "s[::2][::-1]"
   ],
   "outputs": [
    {
     "data": {
      "text/plain": [
       "'ABCDEF'"
      ]
     },
     "execution_count": 5,
     "metadata": {},
     "output_type": "execute_result"
    }
   ],
   "execution_count": 5
  },
  {
   "cell_type": "code",
   "id": "quantitative-policy",
   "metadata": {
    "ExecuteTime": {
     "end_time": "2025-06-17T19:19:20.958031Z",
     "start_time": "2025-06-17T19:19:20.950603Z"
    }
   },
   "source": [
    "s[1::2][::-1]"
   ],
   "outputs": [
    {
     "data": {
      "text/plain": [
       "'abcdef'"
      ]
     },
     "execution_count": 6,
     "metadata": {},
     "output_type": "execute_result"
    }
   ],
   "execution_count": 6
  },
  {
   "cell_type": "markdown",
   "id": "frozen-farming",
   "metadata": {},
   "source": [
    "#### Exercise 2"
   ]
  },
  {
   "cell_type": "markdown",
   "id": "ancient-constitution",
   "metadata": {},
   "source": [
    "Concatenate the following tuples into a single one, but replacing the odd values with zeros (`0`)."
   ]
  },
  {
   "cell_type": "code",
   "id": "sacred-theory",
   "metadata": {
    "ExecuteTime": {
     "end_time": "2025-06-17T19:19:22.024840Z",
     "start_time": "2025-06-17T19:19:22.019503Z"
    }
   },
   "source": [
    "t1 = 1, 2, 3, 4, 5, 6\n",
    "t2 = 7, 8, 9, 10\n",
    "t3 = 11, 12, 13, 14, 15, 16, 17"
   ],
   "outputs": [],
   "execution_count": 7
  },
  {
   "cell_type": "markdown",
   "id": "intermediate-cleaning",
   "metadata": {},
   "source": [
    "You can assume that every tuple is a sequence of consecutive integers starting with an odd integer.\n",
    "\n",
    "Try to write your code to be as generic as possible."
   ]
  },
  {
   "cell_type": "markdown",
   "id": "anonymous-champion",
   "metadata": {},
   "source": [
    "##### Solution"
   ]
  },
  {
   "cell_type": "markdown",
   "id": "abstract-bhutan",
   "metadata": {},
   "source": [
    "We cannot mutate tuples, so we'll need to convert our tuples to lists first:"
   ]
  },
  {
   "cell_type": "code",
   "id": "posted-texas",
   "metadata": {
    "ExecuteTime": {
     "end_time": "2025-06-17T19:19:26.244732Z",
     "start_time": "2025-06-17T19:19:26.239230Z"
    }
   },
   "source": [
    "l1 = list(t1)\n",
    "l2 = list(t2)\n",
    "l3 = list(t3)"
   ],
   "outputs": [],
   "execution_count": 8
  },
  {
   "cell_type": "markdown",
   "id": "diagnostic-maria",
   "metadata": {},
   "source": [
    "Now that we have mutable sequences, we can use extended slicing to replace the odd integers with `0` in each list:"
   ]
  },
  {
   "cell_type": "code",
   "id": "brilliant-joseph",
   "metadata": {
    "ExecuteTime": {
     "end_time": "2025-06-17T19:19:27.844290Z",
     "start_time": "2025-06-17T19:19:27.838669Z"
    }
   },
   "source": [
    "l1[::2] = [0, 0, 0]\n",
    "l2[::2] = [0, 0]\n",
    "l3[::2] = [0, 0, 0, 0]"
   ],
   "outputs": [],
   "execution_count": 9
  },
  {
   "cell_type": "code",
   "id": "auburn-application",
   "metadata": {
    "ExecuteTime": {
     "end_time": "2025-06-17T19:19:29.171091Z",
     "start_time": "2025-06-17T19:19:29.163897Z"
    }
   },
   "source": [
    "l1"
   ],
   "outputs": [
    {
     "data": {
      "text/plain": [
       "[0, 2, 0, 4, 0, 6]"
      ]
     },
     "execution_count": 10,
     "metadata": {},
     "output_type": "execute_result"
    }
   ],
   "execution_count": 10
  },
  {
   "cell_type": "code",
   "id": "entertaining-protein",
   "metadata": {
    "ExecuteTime": {
     "end_time": "2025-06-17T19:19:29.825405Z",
     "start_time": "2025-06-17T19:19:29.818378Z"
    }
   },
   "source": [
    "l2"
   ],
   "outputs": [
    {
     "data": {
      "text/plain": [
       "[0, 8, 0, 10]"
      ]
     },
     "execution_count": 11,
     "metadata": {},
     "output_type": "execute_result"
    }
   ],
   "execution_count": 11
  },
  {
   "cell_type": "code",
   "id": "dense-services",
   "metadata": {
    "ExecuteTime": {
     "end_time": "2025-06-17T19:19:31.384676Z",
     "start_time": "2025-06-17T19:19:31.378031Z"
    }
   },
   "source": [
    "l3"
   ],
   "outputs": [
    {
     "data": {
      "text/plain": [
       "[0, 12, 0, 14, 0, 16, 0]"
      ]
     },
     "execution_count": 12,
     "metadata": {},
     "output_type": "execute_result"
    }
   ],
   "execution_count": 12
  },
  {
   "cell_type": "markdown",
   "id": "future-performance",
   "metadata": {},
   "source": [
    "So this works, but you'll notice that we had to calculate (in our heads) how many zeros to replace the extended slice with (since with extended slicing the number of elements on both sides of the assignment must match).\n",
    "\n",
    "This is not very generic code - instead we can determine how many elements are in each extended slice by using the `len` function:"
   ]
  },
  {
   "cell_type": "code",
   "id": "round-seating",
   "metadata": {
    "ExecuteTime": {
     "end_time": "2025-06-17T19:19:34.222379Z",
     "start_time": "2025-06-17T19:19:34.214942Z"
    }
   },
   "source": [
    "len(l1[::2]), len(l2[::2]), len(l3[::2])"
   ],
   "outputs": [
    {
     "data": {
      "text/plain": [
       "(3, 2, 4)"
      ]
     },
     "execution_count": 13,
     "metadata": {},
     "output_type": "execute_result"
    }
   ],
   "execution_count": 13
  },
  {
   "cell_type": "markdown",
   "id": "hourly-brighton",
   "metadata": {},
   "source": [
    "We also know that we can create a list of `n` repeated elements simply by multiplying a list by an integer:"
   ]
  },
  {
   "cell_type": "code",
   "id": "manufactured-terrace",
   "metadata": {
    "ExecuteTime": {
     "end_time": "2025-06-17T19:19:35.720582Z",
     "start_time": "2025-06-17T19:19:35.713493Z"
    }
   },
   "source": [
    "[0] * 5"
   ],
   "outputs": [
    {
     "data": {
      "text/plain": [
       "[0, 0, 0, 0, 0]"
      ]
     },
     "execution_count": 14,
     "metadata": {},
     "output_type": "execute_result"
    }
   ],
   "execution_count": 14
  },
  {
   "cell_type": "markdown",
   "id": "celtic-appraisal",
   "metadata": {},
   "source": [
    "So, we could replace each extended slice by a list `[0]` multiplied by the length of the extended slice:"
   ]
  },
  {
   "cell_type": "code",
   "id": "single-active",
   "metadata": {
    "ExecuteTime": {
     "end_time": "2025-06-17T19:19:37.056461Z",
     "start_time": "2025-06-17T19:19:37.047619Z"
    }
   },
   "source": [
    "l1 = list(t1)\n",
    "l2 = list(t2)\n",
    "l3 = list(t3)\n",
    "\n",
    "l1[::2] = [0] * len(l1[::2])\n",
    "l2[::2] = [0] * len(l2[::2])\n",
    "l3[::2] = [0] * len(l3[::2])\n",
    "\n",
    "l1, l2, l3"
   ],
   "outputs": [
    {
     "data": {
      "text/plain": [
       "([0, 2, 0, 4, 0, 6], [0, 8, 0, 10], [0, 12, 0, 14, 0, 16, 0])"
      ]
     },
     "execution_count": 15,
     "metadata": {},
     "output_type": "execute_result"
    }
   ],
   "execution_count": 15
  },
  {
   "cell_type": "markdown",
   "id": "verbal-workstation",
   "metadata": {},
   "source": [
    "Now we can concatenate those lists:"
   ]
  },
  {
   "cell_type": "code",
   "id": "adjustable-tutorial",
   "metadata": {
    "ExecuteTime": {
     "end_time": "2025-06-17T19:19:45.066700Z",
     "start_time": "2025-06-17T19:19:45.059016Z"
    }
   },
   "source": [
    "result = l1 + l2 + l3\n",
    "result"
   ],
   "outputs": [
    {
     "data": {
      "text/plain": [
       "[0, 2, 0, 4, 0, 6, 0, 8, 0, 10, 0, 12, 0, 14, 0, 16, 0]"
      ]
     },
     "execution_count": 16,
     "metadata": {},
     "output_type": "execute_result"
    }
   ],
   "execution_count": 16
  },
  {
   "cell_type": "markdown",
   "id": "therapeutic-ukraine",
   "metadata": {},
   "source": [
    "But we actually want a `tuple` for our result:"
   ]
  },
  {
   "cell_type": "code",
   "id": "sitting-context",
   "metadata": {
    "ExecuteTime": {
     "end_time": "2025-06-17T19:19:45.724939Z",
     "start_time": "2025-06-17T19:19:45.717890Z"
    }
   },
   "source": [
    "result = tuple(l1 + l2 + l3)\n",
    "result"
   ],
   "outputs": [
    {
     "data": {
      "text/plain": [
       "(0, 2, 0, 4, 0, 6, 0, 8, 0, 10, 0, 12, 0, 14, 0, 16, 0)"
      ]
     },
     "execution_count": 17,
     "metadata": {},
     "output_type": "execute_result"
    }
   ],
   "execution_count": 17
  },
  {
   "cell_type": "markdown",
   "id": "interested-exception",
   "metadata": {},
   "source": [
    "Putting everything together:"
   ]
  },
  {
   "cell_type": "code",
   "id": "instrumental-assets",
   "metadata": {
    "ExecuteTime": {
     "end_time": "2025-06-17T19:19:46.461954Z",
     "start_time": "2025-06-17T19:19:46.454164Z"
    }
   },
   "source": [
    "l1 = list(t1)\n",
    "l2 = list(t2)\n",
    "l3 = list(t3)\n",
    "\n",
    "l1[::2] = [0] * len(l1[::2])\n",
    "l2[::2] = [0] * len(l2[::2])\n",
    "l3[::2] = [0] * len(l3[::2])\n",
    "\n",
    "result = tuple(l1 + l2 + l3)\n",
    "result"
   ],
   "outputs": [
    {
     "data": {
      "text/plain": [
       "(0, 2, 0, 4, 0, 6, 0, 8, 0, 10, 0, 12, 0, 14, 0, 16, 0)"
      ]
     },
     "execution_count": 18,
     "metadata": {},
     "output_type": "execute_result"
    }
   ],
   "execution_count": 18
  },
  {
   "cell_type": "markdown",
   "id": "upset-champagne",
   "metadata": {},
   "source": [
    "#### Exercise 3"
   ]
  },
  {
   "cell_type": "markdown",
   "id": "atomic-boating",
   "metadata": {},
   "source": [
    "Given the following matrix:"
   ]
  },
  {
   "cell_type": "code",
   "id": "clinical-mailing",
   "metadata": {
    "ExecuteTime": {
     "end_time": "2025-06-17T19:19:47.750384Z",
     "start_time": "2025-06-17T19:19:47.744924Z"
    }
   },
   "source": [
    "m = [\n",
    "    [0, 0, 0],\n",
    "    [0, 0, 0],\n",
    "    [0, 0, 0]\n",
    "]"
   ],
   "outputs": [],
   "execution_count": 19
  },
  {
   "cell_type": "markdown",
   "id": "clear-encyclopedia",
   "metadata": {},
   "source": [
    "Make this matrix into an identity matrix (setting the diagonal elements to `1`).\n",
    "\n",
    "Your code should *mutate* `m`."
   ]
  },
  {
   "cell_type": "markdown",
   "id": "responsible-local",
   "metadata": {},
   "source": [
    "##### Solution"
   ]
  },
  {
   "cell_type": "markdown",
   "id": "marked-trance",
   "metadata": {},
   "source": [
    "Since we need to mutate `m`, we can simply assign the values directly into `m`:"
   ]
  },
  {
   "cell_type": "code",
   "id": "touched-monte",
   "metadata": {
    "ExecuteTime": {
     "end_time": "2025-06-17T19:19:49.558561Z",
     "start_time": "2025-06-17T19:19:49.550748Z"
    }
   },
   "source": [
    "m[0][0] = 1\n",
    "m[1][1] = 1\n",
    "m[2][2] = 1\n",
    "m"
   ],
   "outputs": [
    {
     "data": {
      "text/plain": [
       "[[1, 0, 0], [0, 1, 0], [0, 0, 1]]"
      ]
     },
     "execution_count": 20,
     "metadata": {},
     "output_type": "execute_result"
    }
   ],
   "execution_count": 20
  },
  {
   "cell_type": "markdown",
   "id": "significant-rogers",
   "metadata": {},
   "source": [
    "#### Exercise 4"
   ]
  },
  {
   "cell_type": "markdown",
   "id": "positive-partner",
   "metadata": {},
   "source": [
    "Do the same problem as Exercise 3, but do **not** mutate `m`."
   ]
  },
  {
   "cell_type": "markdown",
   "id": "logical-radical",
   "metadata": {},
   "source": [
    "##### Solution"
   ]
  },
  {
   "cell_type": "markdown",
   "id": "anonymous-syntax",
   "metadata": {},
   "source": [
    "We cannt perform the operations from above directly on `m`. \n",
    "\n",
    "The simplest is to make a *copy* of `m` - but a shallow copy would not be enough - let's see that first:"
   ]
  },
  {
   "cell_type": "code",
   "id": "5eec3770",
   "metadata": {
    "ExecuteTime": {
     "end_time": "2025-06-17T19:19:50.837456Z",
     "start_time": "2025-06-17T19:19:50.831289Z"
    }
   },
   "source": [
    "m = [[0, 0, 0], [0, 0, 0], [0, 0, 0]]"
   ],
   "outputs": [],
   "execution_count": 21
  },
  {
   "cell_type": "code",
   "id": "dimensional-encyclopedia",
   "metadata": {
    "ExecuteTime": {
     "end_time": "2025-06-17T19:19:51.101988Z",
     "start_time": "2025-06-17T19:19:51.095354Z"
    }
   },
   "source": [
    "result = m.copy()\n",
    "result"
   ],
   "outputs": [
    {
     "data": {
      "text/plain": [
       "[[0, 0, 0], [0, 0, 0], [0, 0, 0]]"
      ]
     },
     "execution_count": 22,
     "metadata": {},
     "output_type": "execute_result"
    }
   ],
   "execution_count": 22
  },
  {
   "cell_type": "code",
   "id": "catholic-segment",
   "metadata": {
    "ExecuteTime": {
     "end_time": "2025-06-17T19:19:51.985170Z",
     "start_time": "2025-06-17T19:19:51.978232Z"
    }
   },
   "source": [
    "result[0][0] = 1\n",
    "result[1][1] = 1\n",
    "result[2][2] = 1\n",
    "\n",
    "result"
   ],
   "outputs": [
    {
     "data": {
      "text/plain": [
       "[[1, 0, 0], [0, 1, 0], [0, 0, 1]]"
      ]
     },
     "execution_count": 23,
     "metadata": {},
     "output_type": "execute_result"
    }
   ],
   "execution_count": 23
  },
  {
   "cell_type": "markdown",
   "id": "wanted-reminder",
   "metadata": {},
   "source": [
    "So `result` looks good, but what about `m`?"
   ]
  },
  {
   "cell_type": "code",
   "id": "final-lease",
   "metadata": {
    "ExecuteTime": {
     "end_time": "2025-06-17T19:19:52.703410Z",
     "start_time": "2025-06-17T19:19:52.696758Z"
    }
   },
   "source": [
    "m"
   ],
   "outputs": [
    {
     "data": {
      "text/plain": [
       "[[1, 0, 0], [0, 1, 0], [0, 0, 1]]"
      ]
     },
     "execution_count": 24,
     "metadata": {},
     "output_type": "execute_result"
    }
   ],
   "execution_count": 24
  },
  {
   "cell_type": "markdown",
   "id": "infinite-metro",
   "metadata": {},
   "source": [
    "That was mutated too, since the shallow copy still had references to the sub-lists in `m`."
   ]
  },
  {
   "cell_type": "markdown",
   "id": "competitive-holiday",
   "metadata": {},
   "source": [
    "To get around this, we have to do a **deep* copy."
   ]
  },
  {
   "cell_type": "code",
   "id": "viral-medicine",
   "metadata": {
    "ExecuteTime": {
     "end_time": "2025-06-17T19:19:53.620355Z",
     "start_time": "2025-06-17T19:19:53.615513Z"
    }
   },
   "source": [
    "from copy import deepcopy"
   ],
   "outputs": [],
   "execution_count": 25
  },
  {
   "cell_type": "markdown",
   "id": "binary-secret",
   "metadata": {},
   "source": [
    "Let's get `m` back to its original state:"
   ]
  },
  {
   "cell_type": "code",
   "id": "popular-chair",
   "metadata": {
    "ExecuteTime": {
     "end_time": "2025-06-17T19:19:54.284020Z",
     "start_time": "2025-06-17T19:19:54.279023Z"
    }
   },
   "source": [
    "m = [\n",
    "    [0, 0, 0],\n",
    "    [0, 0, 0],\n",
    "    [0, 0, 0]\n",
    "]"
   ],
   "outputs": [],
   "execution_count": 26
  },
  {
   "cell_type": "markdown",
   "id": "controlled-haven",
   "metadata": {},
   "source": [
    "And let's make the deep copy:"
   ]
  },
  {
   "cell_type": "code",
   "id": "crucial-investing",
   "metadata": {
    "ExecuteTime": {
     "end_time": "2025-06-17T19:19:54.892237Z",
     "start_time": "2025-06-17T19:19:54.884155Z"
    }
   },
   "source": [
    "result = deepcopy(m)\n",
    "\n",
    "result[0][0] = 1\n",
    "result[1][1] = 1\n",
    "result[2][2] = 1\n",
    "\n",
    "result"
   ],
   "outputs": [
    {
     "data": {
      "text/plain": [
       "[[1, 0, 0], [0, 1, 0], [0, 0, 1]]"
      ]
     },
     "execution_count": 27,
     "metadata": {},
     "output_type": "execute_result"
    }
   ],
   "execution_count": 27
  },
  {
   "cell_type": "markdown",
   "id": "biblical-engineer",
   "metadata": {},
   "source": [
    "And `m` now remains completely untouched:"
   ]
  },
  {
   "cell_type": "code",
   "id": "seasonal-repair",
   "metadata": {
    "ExecuteTime": {
     "end_time": "2025-06-17T19:19:55.648129Z",
     "start_time": "2025-06-17T19:19:55.640768Z"
    }
   },
   "source": [
    "m"
   ],
   "outputs": [
    {
     "data": {
      "text/plain": [
       "[[0, 0, 0], [0, 0, 0], [0, 0, 0]]"
      ]
     },
     "execution_count": 28,
     "metadata": {},
     "output_type": "execute_result"
    }
   ],
   "execution_count": 28
  },
  {
   "cell_type": "markdown",
   "id": "immune-found",
   "metadata": {},
   "source": [
    "#### Exercise 5"
   ]
  },
  {
   "cell_type": "markdown",
   "id": "dependent-payroll",
   "metadata": {},
   "source": [
    "You are given a list of tuples that each contain 4 values:\n",
    "\n",
    "```\n",
    "(amount, currency, target_currency, exchange_rate)\n",
    "```"
   ]
  },
  {
   "cell_type": "code",
   "id": "median-flower",
   "metadata": {
    "ExecuteTime": {
     "end_time": "2025-06-17T19:19:56.857048Z",
     "start_time": "2025-06-17T19:19:56.850833Z"
    }
   },
   "source": [
    "data = [\n",
    "    (100, 'USD', 'EUR', 0.83),\n",
    "    (100, 'USD', 'CAD', 1.27),\n",
    "    (100, 'CAD', 'EUR', 0.65)\n",
    "]"
   ],
   "outputs": [],
   "execution_count": 29
  },
  {
   "cell_type": "markdown",
   "id": "hungry-flashing",
   "metadata": {},
   "source": [
    "Write code that converts the `amount` from its `currency` to its `target_currency` using the `exchange_rate` (which is the exchange rate for `1` `currency` in `target_currency`).\n",
    "\n",
    "Try to make your code as generic as possible (we'll see later how to use loops so we don't have to write three separate statements).\n",
    "\n",
    "In other words, you'll need three blocks of code here that are essentially almost identical.\n",
    "\n",
    "Use unpacking to assign the values in each tuple to variables.\n",
    "\n",
    "Your result for each row should print something like this out:\n",
    "\n",
    "```\n",
    "100 USD = 83 EUR\n",
    "```"
   ]
  },
  {
   "cell_type": "markdown",
   "id": "gorgeous-protein",
   "metadata": {},
   "source": [
    "##### Solution"
   ]
  },
  {
   "cell_type": "markdown",
   "id": "adopted-drain",
   "metadata": {},
   "source": [
    "We'll deal with row `0` first, and the repeat our code for the other two rows."
   ]
  },
  {
   "cell_type": "code",
   "id": "tight-costume",
   "metadata": {
    "ExecuteTime": {
     "end_time": "2025-06-17T19:20:52.300342Z",
     "start_time": "2025-06-17T19:20:52.293789Z"
    }
   },
   "source": [
    "row = 0\n",
    "\n",
    "amount, currency, target_currency, exchange_rate = data[row]\n",
    "converted = amount * exchange_rate\n",
    "print(amount, currency, '=', converted, target_currency, sep=' ')"
   ],
   "outputs": [
    {
     "name": "stdout",
     "output_type": "stream",
     "text": [
      "100 USD = 83.0 EUR\n"
     ]
    }
   ],
   "execution_count": 30
  },
  {
   "cell_type": "markdown",
   "id": "neutral-arizona",
   "metadata": {},
   "source": [
    "Now we can use this same code, just changing the value of `row` to get the rest of our results:"
   ]
  },
  {
   "cell_type": "code",
   "id": "opposed-handy",
   "metadata": {
    "ExecuteTime": {
     "end_time": "2025-06-17T19:20:52.983141Z",
     "start_time": "2025-06-17T19:20:52.976357Z"
    }
   },
   "source": [
    "row = 1\n",
    "\n",
    "amount, currency, target_currency, exchange_rate = data[row]\n",
    "converted = amount * exchange_rate\n",
    "print(amount, currency, '=', converted, target_currency, sep=' ')"
   ],
   "outputs": [
    {
     "name": "stdout",
     "output_type": "stream",
     "text": [
      "100 USD = 127.0 CAD\n"
     ]
    }
   ],
   "execution_count": 31
  },
  {
   "cell_type": "code",
   "id": "painted-albert",
   "metadata": {
    "ExecuteTime": {
     "end_time": "2025-06-17T19:20:53.341994Z",
     "start_time": "2025-06-17T19:20:53.336018Z"
    }
   },
   "source": [
    "row = 2\n",
    "\n",
    "amount, currency, target_currency, exchange_rate = data[row]\n",
    "converted = amount * exchange_rate\n",
    "print(amount, currency, '=', converted, target_currency, sep=' ')"
   ],
   "outputs": [
    {
     "name": "stdout",
     "output_type": "stream",
     "text": [
      "100 CAD = 65.0 EUR\n"
     ]
    }
   ],
   "execution_count": 32
  }
 ],
 "metadata": {
  "kernelspec": {
   "display_name": "Python 3 (ipykernel)",
   "language": "python",
   "name": "python3"
  },
  "language_info": {
   "codemirror_mode": {
    "name": "ipython",
    "version": 3
   },
   "file_extension": ".py",
   "mimetype": "text/x-python",
   "name": "python",
   "nbconvert_exporter": "python",
   "pygments_lexer": "ipython3",
   "version": "3.10.2"
  }
 },
 "nbformat": 4,
 "nbformat_minor": 5
}
