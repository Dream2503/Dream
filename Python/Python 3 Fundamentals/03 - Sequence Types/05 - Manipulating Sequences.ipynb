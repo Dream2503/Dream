{
 "cells": [
  {
   "cell_type": "markdown",
   "metadata": {},
   "source": [
    "### Manipulating Sequences"
   ]
  },
  {
   "cell_type": "markdown",
   "metadata": {},
   "source": [
    "**Mutable** sequence types can be mutated by inserting, deleting or replacing elements."
   ]
  },
  {
   "cell_type": "markdown",
   "metadata": {},
   "source": [
    "We can replace an element in a sequence simply by assigning a new object to the desired index:"
   ]
  },
  {
   "cell_type": "code",
   "metadata": {
    "ExecuteTime": {
     "end_time": "2025-06-17T19:16:54.895192Z",
     "start_time": "2025-06-17T19:16:54.887910Z"
    }
   },
   "source": [
    "l = [10, 20, 3, 40, 50]"
   ],
   "outputs": [],
   "execution_count": 1
  },
  {
   "cell_type": "code",
   "metadata": {
    "ExecuteTime": {
     "end_time": "2025-06-17T19:16:55.248744Z",
     "start_time": "2025-06-17T19:16:55.243853Z"
    }
   },
   "source": [
    "l[2] = 30"
   ],
   "outputs": [],
   "execution_count": 2
  },
  {
   "cell_type": "code",
   "metadata": {
    "ExecuteTime": {
     "end_time": "2025-06-17T19:16:55.286313Z",
     "start_time": "2025-06-17T19:16:55.277316Z"
    }
   },
   "source": [
    "l"
   ],
   "outputs": [
    {
     "data": {
      "text/plain": [
       "[10, 20, 30, 40, 50]"
      ]
     },
     "execution_count": 3,
     "metadata": {},
     "output_type": "execute_result"
    }
   ],
   "execution_count": 3
  },
  {
   "cell_type": "markdown",
   "metadata": {},
   "source": [
    "This essentially **replaced** the reference at index `2`, from the integer object `3`, to another integer object `30`."
   ]
  },
  {
   "cell_type": "markdown",
   "metadata": {},
   "source": [
    "We can even replace an entire slice inside a sequence:"
   ]
  },
  {
   "cell_type": "code",
   "metadata": {
    "ExecuteTime": {
     "end_time": "2025-06-17T19:16:55.844500Z",
     "start_time": "2025-06-17T19:16:55.838947Z"
    }
   },
   "source": [
    "l = [1, 20, 30, 5, 6]"
   ],
   "outputs": [],
   "execution_count": 4
  },
  {
   "cell_type": "code",
   "metadata": {
    "ExecuteTime": {
     "end_time": "2025-06-17T19:16:56.282623Z",
     "start_time": "2025-06-17T19:16:56.276330Z"
    }
   },
   "source": [
    "l[1:3]"
   ],
   "outputs": [
    {
     "data": {
      "text/plain": [
       "[20, 30]"
      ]
     },
     "execution_count": 5,
     "metadata": {},
     "output_type": "execute_result"
    }
   ],
   "execution_count": 5
  },
  {
   "cell_type": "code",
   "metadata": {
    "ExecuteTime": {
     "end_time": "2025-06-17T19:16:56.661430Z",
     "start_time": "2025-06-17T19:16:56.654912Z"
    }
   },
   "source": [
    "l[1:3] = [2, 3, 4]"
   ],
   "outputs": [],
   "execution_count": 6
  },
  {
   "cell_type": "code",
   "metadata": {
    "ExecuteTime": {
     "end_time": "2025-06-17T19:16:57.116946Z",
     "start_time": "2025-06-17T19:16:57.109772Z"
    }
   },
   "source": [
    "l"
   ],
   "outputs": [
    {
     "data": {
      "text/plain": [
       "[1, 2, 3, 4, 5, 6]"
      ]
     },
     "execution_count": 7,
     "metadata": {},
     "output_type": "execute_result"
    }
   ],
   "execution_count": 7
  },
  {
   "cell_type": "markdown",
   "metadata": {},
   "source": [
    "You'll notice that the slice was of length 2, but we replaced it with three elements. That's perfectly fine - Python simply replaces the \"selected\" section of the sequence, with a new set of elements defined in another sequence."
   ]
  },
  {
   "cell_type": "markdown",
   "metadata": {},
   "source": [
    "We replaced a slice from a list with elements from a list - but it does not have to be a list - Python just replaces the sliced section with the elements contained in the right hand side sequence."
   ]
  },
  {
   "cell_type": "markdown",
   "metadata": {},
   "source": [
    "So we could also do this:"
   ]
  },
  {
   "cell_type": "code",
   "metadata": {
    "ExecuteTime": {
     "end_time": "2025-06-17T19:16:58.844335Z",
     "start_time": "2025-06-17T19:16:58.836875Z"
    }
   },
   "source": [
    "l = [1, 2, 3, 4, 5]"
   ],
   "outputs": [],
   "execution_count": 8
  },
  {
   "cell_type": "code",
   "metadata": {
    "ExecuteTime": {
     "end_time": "2025-06-17T19:16:59.244436Z",
     "start_time": "2025-06-17T19:16:59.236551Z"
    }
   },
   "source": [
    "l[1:3]"
   ],
   "outputs": [
    {
     "data": {
      "text/plain": [
       "[2, 3]"
      ]
     },
     "execution_count": 9,
     "metadata": {},
     "output_type": "execute_result"
    }
   ],
   "execution_count": 9
  },
  {
   "cell_type": "code",
   "metadata": {
    "ExecuteTime": {
     "end_time": "2025-06-17T19:16:59.702559Z",
     "start_time": "2025-06-17T19:16:59.697548Z"
    }
   },
   "source": [
    "l[1:3] = 'python'"
   ],
   "outputs": [],
   "execution_count": 10
  },
  {
   "cell_type": "code",
   "metadata": {
    "ExecuteTime": {
     "end_time": "2025-06-17T19:16:59.911042Z",
     "start_time": "2025-06-17T19:16:59.904053Z"
    }
   },
   "source": [
    "l"
   ],
   "outputs": [
    {
     "data": {
      "text/plain": [
       "[1, 'p', 'y', 't', 'h', 'o', 'n', 4, 5]"
      ]
     },
     "execution_count": 11,
     "metadata": {},
     "output_type": "execute_result"
    }
   ],
   "execution_count": 11
  },
  {
   "cell_type": "markdown",
   "metadata": {},
   "source": [
    "You'll notice that so far we have been replacing contiguous slices of `n` elements with `m` elements."
   ]
  },
  {
   "cell_type": "markdown",
   "metadata": {},
   "source": [
    "We can actually use `step` in the slice definition, but in that case the number of elements specified in the right hand side sequence, **must match** the number of elements in the left hand non-contigous slice:"
   ]
  },
  {
   "cell_type": "code",
   "metadata": {
    "ExecuteTime": {
     "end_time": "2025-06-17T19:17:00.965604Z",
     "start_time": "2025-06-17T19:17:00.959619Z"
    }
   },
   "source": [
    "l = [1, 2, 3, 4, 5, 6, 7, 8]"
   ],
   "outputs": [],
   "execution_count": 12
  },
  {
   "cell_type": "code",
   "metadata": {
    "ExecuteTime": {
     "end_time": "2025-06-17T19:17:02.132457Z",
     "start_time": "2025-06-17T19:17:02.125197Z"
    }
   },
   "source": [
    "l[1::2]"
   ],
   "outputs": [
    {
     "data": {
      "text/plain": [
       "[2, 4, 6, 8]"
      ]
     },
     "execution_count": 13,
     "metadata": {},
     "output_type": "execute_result"
    }
   ],
   "execution_count": 13
  },
  {
   "cell_type": "code",
   "metadata": {
    "ExecuteTime": {
     "end_time": "2025-06-17T19:17:02.484398Z",
     "start_time": "2025-06-17T19:17:02.477467Z"
    }
   },
   "source": [
    "l[1::2] = 20, 40, 60, 80"
   ],
   "outputs": [],
   "execution_count": 14
  },
  {
   "cell_type": "code",
   "metadata": {
    "ExecuteTime": {
     "end_time": "2025-06-17T19:17:02.687637Z",
     "start_time": "2025-06-17T19:17:02.681291Z"
    }
   },
   "source": [
    "l"
   ],
   "outputs": [
    {
     "data": {
      "text/plain": [
       "[1, 20, 3, 40, 5, 60, 7, 80]"
      ]
     },
     "execution_count": 15,
     "metadata": {},
     "output_type": "execute_result"
    }
   ],
   "execution_count": 15
  },
  {
   "cell_type": "markdown",
   "metadata": {},
   "source": [
    "If we do not have a matched number of items:"
   ]
  },
  {
   "cell_type": "code",
   "metadata": {
    "ExecuteTime": {
     "end_time": "2025-06-17T19:17:03.108142Z",
     "start_time": "2025-06-17T19:17:03.102924Z"
    }
   },
   "source": [
    "l = [1, 2, 3, 4, 5, 6, 7, 8]"
   ],
   "outputs": [],
   "execution_count": 16
  },
  {
   "cell_type": "code",
   "metadata": {
    "ExecuteTime": {
     "end_time": "2025-06-17T19:17:03.708395Z",
     "start_time": "2025-06-17T19:17:03.289591Z"
    }
   },
   "source": [
    "l[1::2] = 100, 200"
   ],
   "outputs": [
    {
     "ename": "ValueError",
     "evalue": "attempt to assign sequence of size 2 to extended slice of size 4",
     "output_type": "error",
     "traceback": [
      "\u001B[1;31m---------------------------------------------------------------------------\u001B[0m",
      "\u001B[1;31mValueError\u001B[0m                                Traceback (most recent call last)",
      "Cell \u001B[1;32mIn[17], line 1\u001B[0m\n\u001B[1;32m----> 1\u001B[0m \u001B[43ml\u001B[49m\u001B[43m[\u001B[49m\u001B[38;5;241;43m1\u001B[39;49m\u001B[43m:\u001B[49m\u001B[43m:\u001B[49m\u001B[38;5;241;43m2\u001B[39;49m\u001B[43m]\u001B[49m \u001B[38;5;241m=\u001B[39m \u001B[38;5;241m100\u001B[39m, \u001B[38;5;241m200\u001B[39m\n",
      "\u001B[1;31mValueError\u001B[0m: attempt to assign sequence of size 2 to extended slice of size 4"
     ]
    }
   ],
   "execution_count": 17
  },
  {
   "cell_type": "markdown",
   "metadata": {},
   "source": [
    "we get a `ValueError` exception."
   ]
  },
  {
   "cell_type": "markdown",
   "metadata": {},
   "source": [
    "Of course, this assignment to a slice works with negative steps as well, but it gets a little more complicated to understand:"
   ]
  },
  {
   "cell_type": "code",
   "metadata": {
    "ExecuteTime": {
     "end_time": "2025-06-17T19:17:03.947004Z",
     "start_time": "2025-06-17T19:17:03.941478Z"
    }
   },
   "source": [
    "l = [1, 2, 3, 4, 5, 6, 7, 8]"
   ],
   "outputs": [],
   "execution_count": 18
  },
  {
   "cell_type": "code",
   "metadata": {
    "ExecuteTime": {
     "end_time": "2025-06-17T19:17:04.142843Z",
     "start_time": "2025-06-17T19:17:04.135533Z"
    }
   },
   "source": [
    "l[:-3:-1]"
   ],
   "outputs": [
    {
     "data": {
      "text/plain": [
       "[8, 7]"
      ]
     },
     "execution_count": 19,
     "metadata": {},
     "output_type": "execute_result"
    }
   ],
   "execution_count": 19
  },
  {
   "cell_type": "code",
   "metadata": {
    "ExecuteTime": {
     "end_time": "2025-06-17T19:17:04.352259Z",
     "start_time": "2025-06-17T19:17:04.345728Z"
    }
   },
   "source": [
    "l[:-3:-1] = 100, 200"
   ],
   "outputs": [],
   "execution_count": 20
  },
  {
   "cell_type": "code",
   "metadata": {
    "ExecuteTime": {
     "end_time": "2025-06-17T19:17:04.551339Z",
     "start_time": "2025-06-17T19:17:04.544697Z"
    }
   },
   "source": [
    "l"
   ],
   "outputs": [
    {
     "data": {
      "text/plain": [
       "[1, 2, 3, 4, 5, 6, 200, 100]"
      ]
     },
     "execution_count": 21,
     "metadata": {},
     "output_type": "execute_result"
    }
   ],
   "execution_count": 21
  },
  {
   "cell_type": "markdown",
   "metadata": {},
   "source": [
    "You'll notice that the first element of the slice (`8`) was replaced with the first element of the right hand side (`100`), the second element of the slice (`7`) was replaced with the second element of the right hand side (`200`), and so on."
   ]
  },
  {
   "cell_type": "markdown",
   "metadata": {},
   "source": [
    "Deleting an element from a mutable sequence is easy, we use the `del` keyword:"
   ]
  },
  {
   "cell_type": "code",
   "metadata": {
    "ExecuteTime": {
     "end_time": "2025-06-17T19:17:05.175985Z",
     "start_time": "2025-06-17T19:17:05.168878Z"
    }
   },
   "source": [
    "l"
   ],
   "outputs": [
    {
     "data": {
      "text/plain": [
       "[1, 2, 3, 4, 5, 6, 200, 100]"
      ]
     },
     "execution_count": 22,
     "metadata": {},
     "output_type": "execute_result"
    }
   ],
   "execution_count": 22
  },
  {
   "cell_type": "code",
   "metadata": {
    "ExecuteTime": {
     "end_time": "2025-06-17T19:17:05.430804Z",
     "start_time": "2025-06-17T19:17:05.425719Z"
    }
   },
   "source": [
    "del l[2]"
   ],
   "outputs": [],
   "execution_count": 23
  },
  {
   "cell_type": "code",
   "metadata": {
    "ExecuteTime": {
     "end_time": "2025-06-17T19:17:05.864468Z",
     "start_time": "2025-06-17T19:17:05.857404Z"
    }
   },
   "source": [
    "l"
   ],
   "outputs": [
    {
     "data": {
      "text/plain": [
       "[1, 2, 4, 5, 6, 200, 100]"
      ]
     },
     "execution_count": 24,
     "metadata": {},
     "output_type": "execute_result"
    }
   ],
   "execution_count": 24
  },
  {
   "cell_type": "markdown",
   "metadata": {},
   "source": [
    "As you can see, the element at index `2`, the integer `30` was removed from the list."
   ]
  },
  {
   "cell_type": "markdown",
   "metadata": {},
   "source": [
    "We can actually delete an entire slice too:"
   ]
  },
  {
   "cell_type": "code",
   "metadata": {
    "ExecuteTime": {
     "end_time": "2025-06-17T19:17:06.400736Z",
     "start_time": "2025-06-17T19:17:06.393076Z"
    }
   },
   "source": [
    "l = [1, 2, 3, 4, 5, 6, 7, 8]"
   ],
   "outputs": [],
   "execution_count": 25
  },
  {
   "cell_type": "code",
   "metadata": {
    "ExecuteTime": {
     "end_time": "2025-06-17T19:17:06.603019Z",
     "start_time": "2025-06-17T19:17:06.596796Z"
    }
   },
   "source": [
    "l[0::2]"
   ],
   "outputs": [
    {
     "data": {
      "text/plain": [
       "[1, 3, 5, 7]"
      ]
     },
     "execution_count": 26,
     "metadata": {},
     "output_type": "execute_result"
    }
   ],
   "execution_count": 26
  },
  {
   "cell_type": "code",
   "metadata": {
    "ExecuteTime": {
     "end_time": "2025-06-17T19:17:06.828470Z",
     "start_time": "2025-06-17T19:17:06.823631Z"
    }
   },
   "source": [
    "del l[0::2]"
   ],
   "outputs": [],
   "execution_count": 27
  },
  {
   "cell_type": "code",
   "metadata": {
    "ExecuteTime": {
     "end_time": "2025-06-17T19:17:07.048342Z",
     "start_time": "2025-06-17T19:17:07.041012Z"
    }
   },
   "source": [
    "l"
   ],
   "outputs": [
    {
     "data": {
      "text/plain": [
       "[2, 4, 6, 8]"
      ]
     },
     "execution_count": 28,
     "metadata": {},
     "output_type": "execute_result"
    }
   ],
   "execution_count": 28
  },
  {
   "cell_type": "markdown",
   "metadata": {},
   "source": [
    "When it comes to adding elements to a list we have a few options."
   ]
  },
  {
   "cell_type": "markdown",
   "metadata": {},
   "source": [
    "We can **append** an item to the sequence (essentially adding it to the \"end\"), or we can **insert** it somewhere in the middle."
   ]
  },
  {
   "cell_type": "markdown",
   "metadata": {},
   "source": [
    "To append, we can use the `append()` method on the sequence object itself:"
   ]
  },
  {
   "cell_type": "code",
   "metadata": {
    "ExecuteTime": {
     "end_time": "2025-06-17T19:17:08.740947Z",
     "start_time": "2025-06-17T19:17:08.736218Z"
    }
   },
   "source": [
    "l = [1, 2, 3, 4]"
   ],
   "outputs": [],
   "execution_count": 29
  },
  {
   "cell_type": "code",
   "metadata": {
    "ExecuteTime": {
     "end_time": "2025-06-17T19:17:09.110572Z",
     "start_time": "2025-06-17T19:17:09.104962Z"
    }
   },
   "source": [
    "l.append(5)"
   ],
   "outputs": [],
   "execution_count": 30
  },
  {
   "cell_type": "code",
   "metadata": {
    "ExecuteTime": {
     "end_time": "2025-06-17T19:17:09.473489Z",
     "start_time": "2025-06-17T19:17:09.467439Z"
    }
   },
   "source": [
    "l"
   ],
   "outputs": [
    {
     "data": {
      "text/plain": [
       "[1, 2, 3, 4, 5]"
      ]
     },
     "execution_count": 31,
     "metadata": {},
     "output_type": "execute_result"
    }
   ],
   "execution_count": 31
  },
  {
   "cell_type": "markdown",
   "metadata": {},
   "source": [
    "We can append more than one element at a time, by using the `extend()` method - the `extend()` method will accept an iterable argument (like a sequence), and append each element of the iterable to the sequence:"
   ]
  },
  {
   "cell_type": "code",
   "metadata": {
    "ExecuteTime": {
     "end_time": "2025-06-17T19:17:10.712706Z",
     "start_time": "2025-06-17T19:17:10.706414Z"
    }
   },
   "source": [
    "l = [1, 2, 3, 4]\n",
    "l.extend((5, 6, 7, 8))"
   ],
   "outputs": [],
   "execution_count": 32
  },
  {
   "cell_type": "code",
   "metadata": {
    "ExecuteTime": {
     "end_time": "2025-06-17T19:17:11.050861Z",
     "start_time": "2025-06-17T19:17:11.043673Z"
    }
   },
   "source": [
    "l"
   ],
   "outputs": [
    {
     "data": {
      "text/plain": [
       "[1, 2, 3, 4, 5, 6, 7, 8]"
      ]
     },
     "execution_count": 33,
     "metadata": {},
     "output_type": "execute_result"
    }
   ],
   "execution_count": 33
  },
  {
   "cell_type": "markdown",
   "metadata": {},
   "source": [
    "You'll note that the iterable we specified was asctually a tuple - but that does not matter - Python looks at the elements contained in the iterable and appends those to the sequence."
   ]
  },
  {
   "cell_type": "markdown",
   "metadata": {},
   "source": [
    "So this also works just fine:"
   ]
  },
  {
   "cell_type": "code",
   "metadata": {
    "ExecuteTime": {
     "end_time": "2025-06-17T19:17:11.909282Z",
     "start_time": "2025-06-17T19:17:11.904014Z"
    }
   },
   "source": [
    "l = [1, 2, 3, 4]\n",
    "l.extend('abc')"
   ],
   "outputs": [],
   "execution_count": 34
  },
  {
   "cell_type": "code",
   "metadata": {
    "ExecuteTime": {
     "end_time": "2025-06-17T19:17:12.533852Z",
     "start_time": "2025-06-17T19:17:12.527196Z"
    }
   },
   "source": [
    "l"
   ],
   "outputs": [
    {
     "data": {
      "text/plain": [
       "[1, 2, 3, 4, 'a', 'b', 'c']"
      ]
     },
     "execution_count": 35,
     "metadata": {},
     "output_type": "execute_result"
    }
   ],
   "execution_count": 35
  },
  {
   "cell_type": "markdown",
   "metadata": {},
   "source": [
    "So use `append` to append a single item, and `extend` to append multiple items, specified in some iterable."
   ]
  },
  {
   "cell_type": "markdown",
   "metadata": {},
   "source": [
    "We can also insert a single item at some specific index. Basically the sequence is modified such that the specified index now has the specified value, and all other items were shifted to the right to accomodate the insertion:"
   ]
  },
  {
   "cell_type": "code",
   "metadata": {
    "ExecuteTime": {
     "end_time": "2025-06-17T19:17:13.807990Z",
     "start_time": "2025-06-17T19:17:13.800852Z"
    }
   },
   "source": [
    "l = [1, 2, 3, 4]\n",
    "l[2]"
   ],
   "outputs": [
    {
     "data": {
      "text/plain": [
       "3"
      ]
     },
     "execution_count": 36,
     "metadata": {},
     "output_type": "execute_result"
    }
   ],
   "execution_count": 36
  },
  {
   "cell_type": "code",
   "metadata": {
    "ExecuteTime": {
     "end_time": "2025-06-17T19:17:14.188940Z",
     "start_time": "2025-06-17T19:17:14.181074Z"
    }
   },
   "source": [
    "l.insert(2, 'a')"
   ],
   "outputs": [],
   "execution_count": 37
  },
  {
   "cell_type": "code",
   "metadata": {
    "ExecuteTime": {
     "end_time": "2025-06-17T19:17:14.461731Z",
     "start_time": "2025-06-17T19:17:14.455342Z"
    }
   },
   "source": [
    "l"
   ],
   "outputs": [
    {
     "data": {
      "text/plain": [
       "[1, 2, 'a', 3, 4]"
      ]
     },
     "execution_count": 38,
     "metadata": {},
     "output_type": "execute_result"
    }
   ],
   "execution_count": 38
  },
  {
   "cell_type": "markdown",
   "metadata": {},
   "source": [
    "One thing to note with both `append` and `insert` is that they handle a single object at a time - unlike `extend` which handles an iterable."
   ]
  },
  {
   "cell_type": "markdown",
   "metadata": {},
   "source": [
    "So, if we do this:"
   ]
  },
  {
   "cell_type": "code",
   "metadata": {
    "ExecuteTime": {
     "end_time": "2025-06-17T19:17:15.413922Z",
     "start_time": "2025-06-17T19:17:15.408923Z"
    }
   },
   "source": [
    "l = [1, 2, 3]\n",
    "l.append('abc')"
   ],
   "outputs": [],
   "execution_count": 39
  },
  {
   "cell_type": "markdown",
   "metadata": {},
   "source": [
    "we are actually appending the sequence `'abc'` to the list, not extending it with the items `a`, `b`, and `c` in the sequence:"
   ]
  },
  {
   "cell_type": "code",
   "metadata": {
    "ExecuteTime": {
     "end_time": "2025-06-17T19:17:16.249567Z",
     "start_time": "2025-06-17T19:17:16.242463Z"
    }
   },
   "source": [
    "l"
   ],
   "outputs": [
    {
     "data": {
      "text/plain": [
       "[1, 2, 3, 'abc']"
      ]
     },
     "execution_count": 40,
     "metadata": {},
     "output_type": "execute_result"
    }
   ],
   "execution_count": 40
  },
  {
   "cell_type": "markdown",
   "metadata": {},
   "source": [
    "Similarly with insert:"
   ]
  },
  {
   "cell_type": "code",
   "metadata": {
    "ExecuteTime": {
     "end_time": "2025-06-17T19:17:16.917851Z",
     "start_time": "2025-06-17T19:17:16.908840Z"
    }
   },
   "source": [
    "l = [1, 2, 3]\n",
    "l.insert(1, 'abc')\n",
    "l"
   ],
   "outputs": [
    {
     "data": {
      "text/plain": [
       "[1, 'abc', 2, 3]"
      ]
     },
     "execution_count": 41,
     "metadata": {},
     "output_type": "execute_result"
    }
   ],
   "execution_count": 41
  },
  {
   "cell_type": "markdown",
   "metadata": {},
   "source": [
    "#### Caution"
   ]
  },
  {
   "cell_type": "markdown",
   "metadata": {},
   "source": [
    "Inserting an item into a mutable sequence is much slower than appending an element - so use `append` if you can."
   ]
  },
  {
   "cell_type": "markdown",
   "metadata": {},
   "source": [
    "We can actually see this:"
   ]
  },
  {
   "cell_type": "code",
   "metadata": {
    "ExecuteTime": {
     "end_time": "2025-06-17T19:17:18.190196Z",
     "start_time": "2025-06-17T19:17:18.184760Z"
    }
   },
   "source": [
    "from timeit import timeit"
   ],
   "outputs": [],
   "execution_count": 42
  },
  {
   "cell_type": "code",
   "metadata": {
    "ExecuteTime": {
     "end_time": "2025-06-17T19:17:18.618410Z",
     "start_time": "2025-06-17T19:17:18.606748Z"
    }
   },
   "source": [
    "l = []\n",
    "timeit('l.append(1)', globals=globals(), number=100_000)"
   ],
   "outputs": [
    {
     "data": {
      "text/plain": [
       "0.0046719999954802915"
      ]
     },
     "execution_count": 43,
     "metadata": {},
     "output_type": "execute_result"
    }
   ],
   "execution_count": 43
  },
  {
   "cell_type": "code",
   "metadata": {
    "ExecuteTime": {
     "end_time": "2025-06-17T19:17:18.876384Z",
     "start_time": "2025-06-17T19:17:18.870071Z"
    }
   },
   "source": [
    "len(l)"
   ],
   "outputs": [
    {
     "data": {
      "text/plain": [
       "100000"
      ]
     },
     "execution_count": 44,
     "metadata": {},
     "output_type": "execute_result"
    }
   ],
   "execution_count": 44
  },
  {
   "cell_type": "markdown",
   "metadata": {},
   "source": [
    "Now let's do the same thing, but inserting an element at index `0`:"
   ]
  },
  {
   "cell_type": "code",
   "metadata": {
    "ExecuteTime": {
     "end_time": "2025-06-17T19:17:22.028310Z",
     "start_time": "2025-06-17T19:17:19.670175Z"
    }
   },
   "source": [
    "l = []\n",
    "timeit('l.insert(0, 1)', globals=globals(), number=100_000)"
   ],
   "outputs": [
    {
     "data": {
      "text/plain": [
       "2.3500755999994"
      ]
     },
     "execution_count": 45,
     "metadata": {},
     "output_type": "execute_result"
    }
   ],
   "execution_count": 45
  },
  {
   "cell_type": "code",
   "metadata": {
    "ExecuteTime": {
     "end_time": "2025-06-17T19:17:22.075960Z",
     "start_time": "2025-06-17T19:17:22.069367Z"
    }
   },
   "source": [
    "len(l)"
   ],
   "outputs": [
    {
     "data": {
      "text/plain": [
       "100000"
      ]
     },
     "execution_count": 46,
     "metadata": {},
     "output_type": "execute_result"
    }
   ],
   "execution_count": 46
  },
  {
   "cell_type": "markdown",
   "metadata": {},
   "source": [
    "As you can see `append` is much much faster than `insert`!"
   ]
  }
 ],
 "metadata": {
  "kernelspec": {
   "display_name": "Python 3",
   "language": "python",
   "name": "python3"
  },
  "language_info": {
   "codemirror_mode": {
    "name": "ipython",
    "version": 3
   },
   "file_extension": ".py",
   "mimetype": "text/x-python",
   "name": "python",
   "nbconvert_exporter": "python",
   "pygments_lexer": "ipython3",
   "version": "3.9.1"
  }
 },
 "nbformat": 4,
 "nbformat_minor": 4
}
