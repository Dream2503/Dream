{
 "cells": [
  {
   "cell_type": "markdown",
   "metadata": {},
   "source": [
    "### Slicing"
   ]
  },
  {
   "cell_type": "markdown",
   "metadata": {},
   "source": [
    "Slicing allows us to select more than one element at a time from a sequence."
   ]
  },
  {
   "cell_type": "markdown",
   "metadata": {},
   "source": [
    "The simplest form of a slice allows us to select a continuous range of elements from a sequence, using `[start:stop]`."
   ]
  },
  {
   "cell_type": "code",
   "metadata": {
    "ExecuteTime": {
     "end_time": "2025-06-17T19:15:30.985905Z",
     "start_time": "2025-06-17T19:15:30.978923Z"
    }
   },
   "source": [
    "s = 'Python rocks!'"
   ],
   "outputs": [],
   "execution_count": 1
  },
  {
   "cell_type": "markdown",
   "metadata": {},
   "source": [
    "Note that `n` is at index `5`:"
   ]
  },
  {
   "cell_type": "code",
   "metadata": {
    "ExecuteTime": {
     "end_time": "2025-06-17T19:15:31.353262Z",
     "start_time": "2025-06-17T19:15:31.343647Z"
    }
   },
   "source": [
    "s[5]"
   ],
   "outputs": [
    {
     "data": {
      "text/plain": [
       "'n'"
      ]
     },
     "execution_count": 2,
     "metadata": {},
     "output_type": "execute_result"
    }
   ],
   "execution_count": 2
  },
  {
   "cell_type": "markdown",
   "metadata": {},
   "source": [
    "Now let's try to slice the word `Python` from the string - we need to start at `0`, and include the character at index `5`.\n",
    "\n",
    "If we try this:"
   ]
  },
  {
   "cell_type": "code",
   "metadata": {
    "ExecuteTime": {
     "end_time": "2025-06-17T19:15:31.439207Z",
     "start_time": "2025-06-17T19:15:31.431576Z"
    }
   },
   "source": [
    "s[0:5]"
   ],
   "outputs": [
    {
     "data": {
      "text/plain": [
       "'Pytho'"
      ]
     },
     "execution_count": 3,
     "metadata": {},
     "output_type": "execute_result"
    }
   ],
   "execution_count": 3
  },
  {
   "cell_type": "markdown",
   "metadata": {},
   "source": [
    "we see that we are one character short. That's because in slicing, Python goes up to, but does not include the `end` index specified in the slice."
   ]
  },
  {
   "cell_type": "markdown",
   "metadata": {},
   "source": [
    "To get the whole word, we therefore have to go one more:"
   ]
  },
  {
   "cell_type": "code",
   "metadata": {
    "ExecuteTime": {
     "end_time": "2025-06-17T19:15:32.827814Z",
     "start_time": "2025-06-17T19:15:32.820603Z"
    }
   },
   "source": [
    "s[0:5 + 1]"
   ],
   "outputs": [
    {
     "data": {
      "text/plain": [
       "'Python'"
      ]
     },
     "execution_count": 4,
     "metadata": {},
     "output_type": "execute_result"
    }
   ],
   "execution_count": 4
  },
  {
   "cell_type": "markdown",
   "metadata": {},
   "source": [
    "You'll notice that the slice returned a `string`. That's because we started off with a string."
   ]
  },
  {
   "cell_type": "markdown",
   "metadata": {},
   "source": [
    "In general, slices are of the same type as the type being sliced."
   ]
  },
  {
   "cell_type": "markdown",
   "metadata": {},
   "source": [
    "Slicing tuples returns a new tuple:"
   ]
  },
  {
   "cell_type": "code",
   "metadata": {
    "ExecuteTime": {
     "end_time": "2025-06-17T19:15:34.762806Z",
     "start_time": "2025-06-17T19:15:34.755137Z"
    }
   },
   "source": [
    "t = (1, 2, 3, 4, 5)\n",
    "t[1:4]"
   ],
   "outputs": [
    {
     "data": {
      "text/plain": [
       "(2, 3, 4)"
      ]
     },
     "execution_count": 5,
     "metadata": {},
     "output_type": "execute_result"
    }
   ],
   "execution_count": 5
  },
  {
   "cell_type": "markdown",
   "metadata": {},
   "source": [
    "Slicing lists returns a new list:"
   ]
  },
  {
   "cell_type": "code",
   "metadata": {
    "ExecuteTime": {
     "end_time": "2025-06-17T19:15:35.792944Z",
     "start_time": "2025-06-17T19:15:35.785684Z"
    }
   },
   "source": [
    "l = [1, 2, 3, 4, 5]\n",
    "l[1:4]"
   ],
   "outputs": [
    {
     "data": {
      "text/plain": [
       "[2, 3, 4]"
      ]
     },
     "execution_count": 6,
     "metadata": {},
     "output_type": "execute_result"
    }
   ],
   "execution_count": 6
  },
  {
   "cell_type": "markdown",
   "metadata": {},
   "source": [
    "It is importat to note that a **new** object is created, that contains the same elements as the original sequence being sliced.\n",
    "\n",
    "So the slice is a new object, but the elements are the **same** objects as the original ones."
   ]
  },
  {
   "cell_type": "code",
   "metadata": {
    "ExecuteTime": {
     "end_time": "2025-06-17T19:15:36.702841Z",
     "start_time": "2025-06-17T19:15:36.696212Z"
    }
   },
   "source": [
    "l1 = [1, 2, 3, 4, 5]\n",
    "l2 = l1[0:3]"
   ],
   "outputs": [],
   "execution_count": 7
  },
  {
   "cell_type": "code",
   "metadata": {
    "ExecuteTime": {
     "end_time": "2025-06-17T19:15:37.215015Z",
     "start_time": "2025-06-17T19:15:37.209351Z"
    }
   },
   "source": [
    "print(l1)"
   ],
   "outputs": [
    {
     "name": "stdout",
     "output_type": "stream",
     "text": [
      "[1, 2, 3, 4, 5]\n"
     ]
    }
   ],
   "execution_count": 8
  },
  {
   "cell_type": "code",
   "metadata": {
    "ExecuteTime": {
     "end_time": "2025-06-17T19:15:37.691796Z",
     "start_time": "2025-06-17T19:15:37.686179Z"
    }
   },
   "source": [
    "print(l2)"
   ],
   "outputs": [
    {
     "name": "stdout",
     "output_type": "stream",
     "text": [
      "[1, 2, 3]\n"
     ]
    }
   ],
   "execution_count": 9
  },
  {
   "cell_type": "markdown",
   "metadata": {},
   "source": [
    "`l1` and `l2` are not the same objects:"
   ]
  },
  {
   "cell_type": "code",
   "metadata": {
    "ExecuteTime": {
     "end_time": "2025-06-17T19:15:38.659334Z",
     "start_time": "2025-06-17T19:15:38.652620Z"
    }
   },
   "source": [
    "l1 is l2"
   ],
   "outputs": [
    {
     "data": {
      "text/plain": [
       "False"
      ]
     },
     "execution_count": 10,
     "metadata": {},
     "output_type": "execute_result"
    }
   ],
   "execution_count": 10
  },
  {
   "cell_type": "markdown",
   "metadata": {},
   "source": [
    "And in fact, if mutate one, it does not affect the other:"
   ]
  },
  {
   "cell_type": "code",
   "metadata": {
    "ExecuteTime": {
     "end_time": "2025-06-17T19:15:39.631811Z",
     "start_time": "2025-06-17T19:15:39.626829Z"
    }
   },
   "source": [
    "l2[0] = 100"
   ],
   "outputs": [],
   "execution_count": 11
  },
  {
   "cell_type": "code",
   "metadata": {
    "ExecuteTime": {
     "end_time": "2025-06-17T19:15:40.081963Z",
     "start_time": "2025-06-17T19:15:40.074765Z"
    }
   },
   "source": [
    "l1"
   ],
   "outputs": [
    {
     "data": {
      "text/plain": [
       "[1, 2, 3, 4, 5]"
      ]
     },
     "execution_count": 12,
     "metadata": {},
     "output_type": "execute_result"
    }
   ],
   "execution_count": 12
  },
  {
   "cell_type": "code",
   "metadata": {
    "ExecuteTime": {
     "end_time": "2025-06-17T19:15:40.553248Z",
     "start_time": "2025-06-17T19:15:40.546851Z"
    }
   },
   "source": [
    "l2"
   ],
   "outputs": [
    {
     "data": {
      "text/plain": [
       "[100, 2, 3]"
      ]
     },
     "execution_count": 13,
     "metadata": {},
     "output_type": "execute_result"
    }
   ],
   "execution_count": 13
  },
  {
   "cell_type": "markdown",
   "metadata": {},
   "source": [
    "**However**, remember what I said about the slice containing the **same** elements as the original."
   ]
  },
  {
   "cell_type": "markdown",
   "metadata": {},
   "source": [
    "Consider this example where we have a list of lists (which are therefore mutable elements):"
   ]
  },
  {
   "cell_type": "code",
   "metadata": {
    "ExecuteTime": {
     "end_time": "2025-06-17T19:15:41.975407Z",
     "start_time": "2025-06-17T19:15:41.969511Z"
    }
   },
   "source": [
    "l = [[0, 0, 0], [1, 1, 1], [2, 2, 2]]"
   ],
   "outputs": [],
   "execution_count": 14
  },
  {
   "cell_type": "markdown",
   "metadata": {},
   "source": [
    "We can slice the first two elements of `l`:"
   ]
  },
  {
   "cell_type": "code",
   "metadata": {
    "ExecuteTime": {
     "end_time": "2025-06-17T19:15:42.908061Z",
     "start_time": "2025-06-17T19:15:42.903061Z"
    }
   },
   "source": [
    "sub = l[0:2]"
   ],
   "outputs": [],
   "execution_count": 15
  },
  {
   "cell_type": "code",
   "metadata": {
    "ExecuteTime": {
     "end_time": "2025-06-17T19:15:43.301375Z",
     "start_time": "2025-06-17T19:15:43.294194Z"
    }
   },
   "source": [
    "sub"
   ],
   "outputs": [
    {
     "data": {
      "text/plain": [
       "[[0, 0, 0], [1, 1, 1]]"
      ]
     },
     "execution_count": 16,
     "metadata": {},
     "output_type": "execute_result"
    }
   ],
   "execution_count": 16
  },
  {
   "cell_type": "markdown",
   "metadata": {},
   "source": [
    "But `sub[0]` and `l[0]` are the **same** objects:"
   ]
  },
  {
   "cell_type": "code",
   "metadata": {
    "ExecuteTime": {
     "end_time": "2025-06-17T19:15:44.279564Z",
     "start_time": "2025-06-17T19:15:44.272893Z"
    }
   },
   "source": [
    "sub[0] is l[0]"
   ],
   "outputs": [
    {
     "data": {
      "text/plain": [
       "True"
      ]
     },
     "execution_count": 17,
     "metadata": {},
     "output_type": "execute_result"
    }
   ],
   "execution_count": 17
  },
  {
   "cell_type": "markdown",
   "metadata": {},
   "source": [
    "Which means that even though mutating the **list** `sub` does not affect `l`:"
   ]
  },
  {
   "cell_type": "code",
   "metadata": {
    "ExecuteTime": {
     "end_time": "2025-06-17T19:15:45.212005Z",
     "start_time": "2025-06-17T19:15:45.207088Z"
    }
   },
   "source": [
    "sub[1] = 'Python'"
   ],
   "outputs": [],
   "execution_count": 18
  },
  {
   "cell_type": "code",
   "metadata": {
    "ExecuteTime": {
     "end_time": "2025-06-17T19:15:45.711973Z",
     "start_time": "2025-06-17T19:15:45.704420Z"
    }
   },
   "source": [
    "sub"
   ],
   "outputs": [
    {
     "data": {
      "text/plain": [
       "[[0, 0, 0], 'Python']"
      ]
     },
     "execution_count": 19,
     "metadata": {},
     "output_type": "execute_result"
    }
   ],
   "execution_count": 19
  },
  {
   "cell_type": "code",
   "metadata": {
    "ExecuteTime": {
     "end_time": "2025-06-17T19:15:46.172972Z",
     "start_time": "2025-06-17T19:15:46.165862Z"
    }
   },
   "source": [
    "l"
   ],
   "outputs": [
    {
     "data": {
      "text/plain": [
       "[[0, 0, 0], [1, 1, 1], [2, 2, 2]]"
      ]
     },
     "execution_count": 20,
     "metadata": {},
     "output_type": "execute_result"
    }
   ],
   "execution_count": 20
  },
  {
   "cell_type": "markdown",
   "metadata": {},
   "source": [
    "mutating the elements of `sub` **will** affect what's in `l` since they are the same elements:"
   ]
  },
  {
   "cell_type": "code",
   "metadata": {
    "ExecuteTime": {
     "end_time": "2025-06-17T19:15:47.065217Z",
     "start_time": "2025-06-17T19:15:47.059917Z"
    }
   },
   "source": [
    "sub[0][0] = 100"
   ],
   "outputs": [],
   "execution_count": 21
  },
  {
   "cell_type": "code",
   "metadata": {
    "ExecuteTime": {
     "end_time": "2025-06-17T19:15:47.441779Z",
     "start_time": "2025-06-17T19:15:47.435565Z"
    }
   },
   "source": [
    "sub"
   ],
   "outputs": [
    {
     "data": {
      "text/plain": [
       "[[100, 0, 0], 'Python']"
      ]
     },
     "execution_count": 22,
     "metadata": {},
     "output_type": "execute_result"
    }
   ],
   "execution_count": 22
  },
  {
   "cell_type": "code",
   "metadata": {
    "ExecuteTime": {
     "end_time": "2025-06-17T19:15:48.105695Z",
     "start_time": "2025-06-17T19:15:48.098423Z"
    }
   },
   "source": [
    "l"
   ],
   "outputs": [
    {
     "data": {
      "text/plain": [
       "[[100, 0, 0], [1, 1, 1], [2, 2, 2]]"
      ]
     },
     "execution_count": 23,
     "metadata": {},
     "output_type": "execute_result"
    }
   ],
   "execution_count": 23
  },
  {
   "cell_type": "markdown",
   "metadata": {},
   "source": [
    "Python understands a few \"shortcuts\" when it comes to slicing. If we do not specify an `end` index, Python will go extend the slice up to (and including) the last element of the sequence:"
   ]
  },
  {
   "cell_type": "code",
   "metadata": {
    "ExecuteTime": {
     "end_time": "2025-06-17T19:15:49.308023Z",
     "start_time": "2025-06-17T19:15:49.303034Z"
    }
   },
   "source": [
    "s = 'Python rocks!'"
   ],
   "outputs": [],
   "execution_count": 24
  },
  {
   "cell_type": "code",
   "metadata": {
    "ExecuteTime": {
     "end_time": "2025-06-17T19:15:49.869378Z",
     "start_time": "2025-06-17T19:15:49.862612Z"
    }
   },
   "source": [
    "s[7:]"
   ],
   "outputs": [
    {
     "data": {
      "text/plain": [
       "'rocks!'"
      ]
     },
     "execution_count": 25,
     "metadata": {},
     "output_type": "execute_result"
    }
   ],
   "execution_count": 25
  },
  {
   "cell_type": "markdown",
   "metadata": {},
   "source": [
    "Similarly, if we do not specify a start index, Python will default `start` to `0`:"
   ]
  },
  {
   "cell_type": "code",
   "metadata": {
    "ExecuteTime": {
     "end_time": "2025-06-17T19:15:50.746126Z",
     "start_time": "2025-06-17T19:15:50.738871Z"
    }
   },
   "source": [
    "s[:6]"
   ],
   "outputs": [
    {
     "data": {
      "text/plain": [
       "'Python'"
      ]
     },
     "execution_count": 26,
     "metadata": {},
     "output_type": "execute_result"
    }
   ],
   "execution_count": 26
  },
  {
   "cell_type": "markdown",
   "metadata": {},
   "source": [
    "And we can even skip **both** `start` and `end` which will essentially create a slice that extends from the first to the last item:"
   ]
  },
  {
   "cell_type": "code",
   "metadata": {
    "ExecuteTime": {
     "end_time": "2025-06-17T19:15:51.570475Z",
     "start_time": "2025-06-17T19:15:51.565113Z"
    }
   },
   "source": [
    "l = [1, 2, 3, 4, 5]"
   ],
   "outputs": [],
   "execution_count": 27
  },
  {
   "cell_type": "code",
   "metadata": {
    "ExecuteTime": {
     "end_time": "2025-06-17T19:15:52.173151Z",
     "start_time": "2025-06-17T19:15:52.167522Z"
    }
   },
   "source": [
    "l2 = l[:]"
   ],
   "outputs": [],
   "execution_count": 28
  },
  {
   "cell_type": "code",
   "metadata": {
    "ExecuteTime": {
     "end_time": "2025-06-17T19:15:52.512521Z",
     "start_time": "2025-06-17T19:15:52.506356Z"
    }
   },
   "source": [
    "l2"
   ],
   "outputs": [
    {
     "data": {
      "text/plain": [
       "[1, 2, 3, 4, 5]"
      ]
     },
     "execution_count": 29,
     "metadata": {},
     "output_type": "execute_result"
    }
   ],
   "execution_count": 29
  },
  {
   "cell_type": "markdown",
   "metadata": {},
   "source": [
    "Of course, `l2` is a new list, and is not the same as `l`:"
   ]
  },
  {
   "cell_type": "code",
   "metadata": {
    "ExecuteTime": {
     "end_time": "2025-06-17T19:15:53.640506Z",
     "start_time": "2025-06-17T19:15:53.634176Z"
    }
   },
   "source": [
    "l2 is l"
   ],
   "outputs": [
    {
     "data": {
      "text/plain": [
       "False"
      ]
     },
     "execution_count": 30,
     "metadata": {},
     "output_type": "execute_result"
    }
   ],
   "execution_count": 30
  },
  {
   "cell_type": "markdown",
   "metadata": {},
   "source": [
    "Essentially we made a copy of the sequence (a shallow copy as we'll see later)."
   ]
  },
  {
   "cell_type": "markdown",
   "metadata": {},
   "source": [
    "We can modify slice definitions by specifying a third value, the `step` value: `[start:stop:step]`.\n",
    "\n",
    "This will basically skip `step` elements as Python slices from `start` to `end` (exclusive of `end`):"
   ]
  },
  {
   "cell_type": "code",
   "metadata": {
    "ExecuteTime": {
     "end_time": "2025-06-17T19:15:55.119878Z",
     "start_time": "2025-06-17T19:15:55.114328Z"
    }
   },
   "source": [
    "s = [1, 2, 3, 4, 5, 6, 7, 8, 9, 10]"
   ],
   "outputs": [],
   "execution_count": 31
  },
  {
   "cell_type": "code",
   "metadata": {
    "ExecuteTime": {
     "end_time": "2025-06-17T19:15:55.572373Z",
     "start_time": "2025-06-17T19:15:55.565Z"
    }
   },
   "source": [
    "s[1:8:2]"
   ],
   "outputs": [
    {
     "data": {
      "text/plain": [
       "[2, 4, 6, 8]"
      ]
     },
     "execution_count": 32,
     "metadata": {},
     "output_type": "execute_result"
    }
   ],
   "execution_count": 32
  },
  {
   "cell_type": "markdown",
   "metadata": {},
   "source": [
    "We can actually omit the `end` value too if we want, and Python will simply extend the slice to the end of the sequence:"
   ]
  },
  {
   "cell_type": "code",
   "metadata": {
    "ExecuteTime": {
     "end_time": "2025-06-17T19:15:56.526512Z",
     "start_time": "2025-06-17T19:15:56.518779Z"
    }
   },
   "source": [
    "s[1::2]"
   ],
   "outputs": [
    {
     "data": {
      "text/plain": [
       "[2, 4, 6, 8, 10]"
      ]
     },
     "execution_count": 33,
     "metadata": {},
     "output_type": "execute_result"
    }
   ],
   "execution_count": 33
  },
  {
   "cell_type": "code",
   "metadata": {
    "ExecuteTime": {
     "end_time": "2025-06-17T19:15:57.030518Z",
     "start_time": "2025-06-17T19:15:57.023927Z"
    }
   },
   "source": [
    "s[0::2]"
   ],
   "outputs": [
    {
     "data": {
      "text/plain": [
       "[1, 3, 5, 7, 9]"
      ]
     },
     "execution_count": 34,
     "metadata": {},
     "output_type": "execute_result"
    }
   ],
   "execution_count": 34
  },
  {
   "cell_type": "markdown",
   "metadata": {},
   "source": [
    "Of course, in this case we can even omit the `start` value:"
   ]
  },
  {
   "cell_type": "code",
   "metadata": {
    "ExecuteTime": {
     "end_time": "2025-06-17T19:15:57.963664Z",
     "start_time": "2025-06-17T19:15:57.957458Z"
    }
   },
   "source": [
    "s[::2]"
   ],
   "outputs": [
    {
     "data": {
      "text/plain": [
       "[1, 3, 5, 7, 9]"
      ]
     },
     "execution_count": 35,
     "metadata": {},
     "output_type": "execute_result"
    }
   ],
   "execution_count": 35
  },
  {
   "cell_type": "markdown",
   "metadata": {},
   "source": [
    "Just like we saw negative indexing, we can also use negative indexes when slicing:"
   ]
  },
  {
   "cell_type": "code",
   "metadata": {
    "ExecuteTime": {
     "end_time": "2025-06-17T19:15:58.508096Z",
     "start_time": "2025-06-17T19:15:58.503184Z"
    }
   },
   "source": [
    "s = 'abcdef'"
   ],
   "outputs": [],
   "execution_count": 36
  },
  {
   "cell_type": "code",
   "metadata": {
    "ExecuteTime": {
     "end_time": "2025-06-17T19:15:58.700058Z",
     "start_time": "2025-06-17T19:15:58.693560Z"
    }
   },
   "source": [
    "s[-4]"
   ],
   "outputs": [
    {
     "data": {
      "text/plain": [
       "'c'"
      ]
     },
     "execution_count": 37,
     "metadata": {},
     "output_type": "execute_result"
    }
   ],
   "execution_count": 37
  },
  {
   "cell_type": "code",
   "metadata": {
    "ExecuteTime": {
     "end_time": "2025-06-17T19:15:59.325149Z",
     "start_time": "2025-06-17T19:15:59.318918Z"
    }
   },
   "source": [
    "s[-1]"
   ],
   "outputs": [
    {
     "data": {
      "text/plain": [
       "'f'"
      ]
     },
     "execution_count": 38,
     "metadata": {},
     "output_type": "execute_result"
    }
   ],
   "execution_count": 38
  },
  {
   "cell_type": "code",
   "metadata": {
    "ExecuteTime": {
     "end_time": "2025-06-17T19:15:59.745126Z",
     "start_time": "2025-06-17T19:15:59.738618Z"
    }
   },
   "source": [
    "s[-4:-1]"
   ],
   "outputs": [
    {
     "data": {
      "text/plain": [
       "'cde'"
      ]
     },
     "execution_count": 39,
     "metadata": {},
     "output_type": "execute_result"
    }
   ],
   "execution_count": 39
  },
  {
   "cell_type": "markdown",
   "metadata": {},
   "source": [
    "The `step` value can be negative too, which simply means we are slicing from right to left instead of left to right:"
   ]
  },
  {
   "cell_type": "code",
   "metadata": {
    "ExecuteTime": {
     "end_time": "2025-06-17T19:16:00.211874Z",
     "start_time": "2025-06-17T19:16:00.204884Z"
    }
   },
   "source": [
    "s[-1:-4:-1]"
   ],
   "outputs": [
    {
     "data": {
      "text/plain": [
       "'fed'"
      ]
     },
     "execution_count": 40,
     "metadata": {},
     "output_type": "execute_result"
    }
   ],
   "execution_count": 40
  },
  {
   "cell_type": "markdown",
   "metadata": {},
   "source": [
    "If we omit `start` with a negative `step`, Python is clever enough to understand that an omitted `start` means the last element of the sequence:"
   ]
  },
  {
   "cell_type": "code",
   "metadata": {
    "ExecuteTime": {
     "end_time": "2025-06-17T19:16:00.696438Z",
     "start_time": "2025-06-17T19:16:00.688610Z"
    }
   },
   "source": [
    "s = 'abcdef'"
   ],
   "outputs": [],
   "execution_count": 41
  },
  {
   "cell_type": "code",
   "metadata": {
    "ExecuteTime": {
     "end_time": "2025-06-17T19:16:00.943397Z",
     "start_time": "2025-06-17T19:16:00.934118Z"
    }
   },
   "source": [
    "s[:-4:-1]"
   ],
   "outputs": [
    {
     "data": {
      "text/plain": [
       "'fed'"
      ]
     },
     "execution_count": 42,
     "metadata": {},
     "output_type": "execute_result"
    }
   ],
   "execution_count": 42
  },
  {
   "cell_type": "markdown",
   "metadata": {},
   "source": [
    "Similarly, if we omit `end` with a negative step, Python will slice from the `start` value towards the right all the way to the first element of the sequence:"
   ]
  },
  {
   "cell_type": "code",
   "metadata": {
    "ExecuteTime": {
     "end_time": "2025-06-17T19:16:01.393573Z",
     "start_time": "2025-06-17T19:16:01.386717Z"
    }
   },
   "source": [
    "s[2::-1]"
   ],
   "outputs": [
    {
     "data": {
      "text/plain": [
       "'cba'"
      ]
     },
     "execution_count": 43,
     "metadata": {},
     "output_type": "execute_result"
    }
   ],
   "execution_count": 43
  },
  {
   "cell_type": "markdown",
   "metadata": {},
   "source": [
    "We can specify and end index too:"
   ]
  },
  {
   "cell_type": "code",
   "metadata": {
    "ExecuteTime": {
     "end_time": "2025-06-17T19:16:01.849184Z",
     "start_time": "2025-06-17T19:16:01.842368Z"
    }
   },
   "source": [
    "s[2:0:-1]"
   ],
   "outputs": [
    {
     "data": {
      "text/plain": [
       "'cb'"
      ]
     },
     "execution_count": 44,
     "metadata": {},
     "output_type": "execute_result"
    }
   ],
   "execution_count": 44
  },
  {
   "cell_type": "markdown",
   "metadata": {},
   "source": [
    "Note that the end index was exclusive - so to include the first element, we can just use a blank stop as we just saw."
   ]
  },
  {
   "cell_type": "markdown",
   "metadata": {},
   "source": [
    "We can also use a combination of negative start/stop and step values:"
   ]
  },
  {
   "cell_type": "code",
   "metadata": {
    "ExecuteTime": {
     "end_time": "2025-06-17T19:16:02.542834Z",
     "start_time": "2025-06-17T19:16:02.536461Z"
    }
   },
   "source": [
    "s[-3::-1]"
   ],
   "outputs": [
    {
     "data": {
      "text/plain": [
       "'dcba'"
      ]
     },
     "execution_count": 45,
     "metadata": {},
     "output_type": "execute_result"
    }
   ],
   "execution_count": 45
  },
  {
   "cell_type": "markdown",
   "metadata": {},
   "source": [
    "We can also omit both `start` and `stop` with a negative `step`, and Python will start at the last element of the sequence, and works backwards up to (and including) the first element of the sequence:"
   ]
  },
  {
   "cell_type": "code",
   "metadata": {
    "ExecuteTime": {
     "end_time": "2025-06-17T19:16:02.991210Z",
     "start_time": "2025-06-17T19:16:02.984904Z"
    }
   },
   "source": [
    "s = 'abcdef'\n",
    "s[::-1]"
   ],
   "outputs": [
    {
     "data": {
      "text/plain": [
       "'fedcba'"
      ]
     },
     "execution_count": 46,
     "metadata": {},
     "output_type": "execute_result"
    }
   ],
   "execution_count": 46
  },
  {
   "cell_type": "markdown",
   "metadata": {},
   "source": [
    "In essence we were able to create **reversed** version of our sequence. This is very handy with string manipulations, or reversing the sort order of a sequence (e.g. changing a sequence that may be in high-low order, to low-high order):"
   ]
  },
  {
   "cell_type": "code",
   "metadata": {
    "ExecuteTime": {
     "end_time": "2025-06-17T19:16:03.413819Z",
     "start_time": "2025-06-17T19:16:03.408047Z"
    }
   },
   "source": [
    "m = [1, 2, 30, 100]"
   ],
   "outputs": [],
   "execution_count": 47
  },
  {
   "cell_type": "code",
   "metadata": {
    "ExecuteTime": {
     "end_time": "2025-06-17T19:16:03.596340Z",
     "start_time": "2025-06-17T19:16:03.589754Z"
    }
   },
   "source": [
    "m[::-1]"
   ],
   "outputs": [
    {
     "data": {
      "text/plain": [
       "[100, 30, 2, 1]"
      ]
     },
     "execution_count": 48,
     "metadata": {},
     "output_type": "execute_result"
    }
   ],
   "execution_count": 48
  },
  {
   "cell_type": "markdown",
   "metadata": {},
   "source": [
    "Another application might be to determine if a word is a palindrome:"
   ]
  },
  {
   "cell_type": "code",
   "metadata": {
    "ExecuteTime": {
     "end_time": "2025-06-17T19:16:04.023268Z",
     "start_time": "2025-06-17T19:16:04.018054Z"
    }
   },
   "source": [
    "a = 'racecar'"
   ],
   "outputs": [],
   "execution_count": 49
  },
  {
   "cell_type": "code",
   "metadata": {
    "ExecuteTime": {
     "end_time": "2025-06-17T19:16:04.230834Z",
     "start_time": "2025-06-17T19:16:04.223451Z"
    }
   },
   "source": [
    "a[::-1]"
   ],
   "outputs": [
    {
     "data": {
      "text/plain": [
       "'racecar'"
      ]
     },
     "execution_count": 50,
     "metadata": {},
     "output_type": "execute_result"
    }
   ],
   "execution_count": 50
  },
  {
   "cell_type": "code",
   "metadata": {
    "ExecuteTime": {
     "end_time": "2025-06-17T19:16:04.445078Z",
     "start_time": "2025-06-17T19:16:04.436896Z"
    }
   },
   "source": [
    "a == a[::-1]"
   ],
   "outputs": [
    {
     "data": {
      "text/plain": [
       "True"
      ]
     },
     "execution_count": 51,
     "metadata": {},
     "output_type": "execute_result"
    }
   ],
   "execution_count": 51
  },
  {
   "cell_type": "markdown",
   "metadata": {},
   "source": [
    "But `hello` is not a palindrome:"
   ]
  },
  {
   "cell_type": "code",
   "metadata": {
    "ExecuteTime": {
     "end_time": "2025-06-17T19:16:04.940388Z",
     "start_time": "2025-06-17T19:16:04.932947Z"
    }
   },
   "source": [
    "a = 'hello'\n",
    "\n",
    "a == a[::-1]"
   ],
   "outputs": [
    {
     "data": {
      "text/plain": [
       "False"
      ]
     },
     "execution_count": 52,
     "metadata": {},
     "output_type": "execute_result"
    }
   ],
   "execution_count": 52
  }
 ],
 "metadata": {
  "kernelspec": {
   "display_name": "Python 3",
   "language": "python",
   "name": "python3"
  },
  "language_info": {
   "codemirror_mode": {
    "name": "ipython",
    "version": 3
   },
   "file_extension": ".py",
   "mimetype": "text/x-python",
   "name": "python",
   "nbconvert_exporter": "python",
   "pygments_lexer": "ipython3",
   "version": "3.9.1"
  }
 },
 "nbformat": 4,
 "nbformat_minor": 4
}
