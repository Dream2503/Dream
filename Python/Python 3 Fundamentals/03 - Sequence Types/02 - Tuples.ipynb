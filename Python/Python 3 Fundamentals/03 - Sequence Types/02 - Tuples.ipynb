{
 "cells": [
  {
   "cell_type": "markdown",
   "metadata": {},
   "source": [
    "### Tuples"
   ]
  },
  {
   "cell_type": "markdown",
   "metadata": {},
   "source": [
    "We can think of tuples as immutable lists (we cannot add, remove, or replace elements of the collection). We'll see later that we can also think of tuples as data structures."
   ]
  },
  {
   "cell_type": "markdown",
   "metadata": {},
   "source": [
    "We can use literals to create tuples, using round brackets `()`"
   ]
  },
  {
   "cell_type": "code",
   "metadata": {
    "ExecuteTime": {
     "end_time": "2025-06-17T19:12:00.021023Z",
     "start_time": "2025-06-17T19:12:00.011914Z"
    }
   },
   "source": [
    "t = (1, 2, 3)"
   ],
   "outputs": [],
   "execution_count": 1
  },
  {
   "cell_type": "markdown",
   "metadata": {},
   "source": [
    "Since tuples are `sequence` types, we can access elements by index, just like lists, including negative indexes:"
   ]
  },
  {
   "cell_type": "code",
   "metadata": {
    "ExecuteTime": {
     "end_time": "2025-06-17T19:12:00.396286Z",
     "start_time": "2025-06-17T19:12:00.385024Z"
    }
   },
   "source": [
    "t[0]"
   ],
   "outputs": [
    {
     "data": {
      "text/plain": [
       "1"
      ]
     },
     "execution_count": 2,
     "metadata": {},
     "output_type": "execute_result"
    }
   ],
   "execution_count": 2
  },
  {
   "cell_type": "code",
   "metadata": {
    "ExecuteTime": {
     "end_time": "2025-06-17T19:12:00.461196Z",
     "start_time": "2025-06-17T19:12:00.453204Z"
    }
   },
   "source": [
    "t[1]"
   ],
   "outputs": [
    {
     "data": {
      "text/plain": [
       "2"
      ]
     },
     "execution_count": 3,
     "metadata": {},
     "output_type": "execute_result"
    }
   ],
   "execution_count": 3
  },
  {
   "cell_type": "code",
   "metadata": {
    "ExecuteTime": {
     "end_time": "2025-06-17T19:12:00.541153Z",
     "start_time": "2025-06-17T19:12:00.533208Z"
    }
   },
   "source": [
    "t[-1]"
   ],
   "outputs": [
    {
     "data": {
      "text/plain": [
       "3"
      ]
     },
     "execution_count": 4,
     "metadata": {},
     "output_type": "execute_result"
    }
   ],
   "execution_count": 4
  },
  {
   "cell_type": "markdown",
   "metadata": {},
   "source": [
    "We can also use the `len()` function to determine the length of the sequence:"
   ]
  },
  {
   "cell_type": "code",
   "metadata": {
    "ExecuteTime": {
     "end_time": "2025-06-17T19:12:00.736098Z",
     "start_time": "2025-06-17T19:12:00.729866Z"
    }
   },
   "source": [
    "len(t)"
   ],
   "outputs": [
    {
     "data": {
      "text/plain": [
       "3"
      ]
     },
     "execution_count": 5,
     "metadata": {},
     "output_type": "execute_result"
    }
   ],
   "execution_count": 5
  },
  {
   "cell_type": "markdown",
   "metadata": {},
   "source": [
    "And we can therefore also use `len` to get the last element of a tuple (as well as negative indexing):"
   ]
  },
  {
   "cell_type": "code",
   "metadata": {
    "ExecuteTime": {
     "end_time": "2025-06-17T19:12:00.821406Z",
     "start_time": "2025-06-17T19:12:00.814138Z"
    }
   },
   "source": [
    "t = (1, 2, 3)\n",
    "t[len(t) - 1]"
   ],
   "outputs": [
    {
     "data": {
      "text/plain": [
       "3"
      ]
     },
     "execution_count": 6,
     "metadata": {},
     "output_type": "execute_result"
    }
   ],
   "execution_count": 6
  },
  {
   "cell_type": "code",
   "metadata": {
    "ExecuteTime": {
     "end_time": "2025-06-17T19:12:00.938440Z",
     "start_time": "2025-06-17T19:12:00.931147Z"
    }
   },
   "source": [
    "t = (1, 2, 3, 4, 5)\n",
    "t[len(t) - 1]"
   ],
   "outputs": [
    {
     "data": {
      "text/plain": [
       "5"
      ]
     },
     "execution_count": 7,
     "metadata": {},
     "output_type": "execute_result"
    }
   ],
   "execution_count": 7
  },
  {
   "cell_type": "markdown",
   "metadata": {},
   "source": [
    "The main difference with lists, is that tuples are immutable."
   ]
  },
  {
   "cell_type": "markdown",
   "metadata": {},
   "source": [
    "But be careful - this means the container is immutable - so we cannot add, remove or replace elements in the tuple:"
   ]
  },
  {
   "cell_type": "code",
   "metadata": {
    "ExecuteTime": {
     "end_time": "2025-06-17T19:12:01.968731Z",
     "start_time": "2025-06-17T19:12:01.962950Z"
    }
   },
   "source": [
    "t = (1, 2, 30)"
   ],
   "outputs": [],
   "execution_count": 8
  },
  {
   "cell_type": "code",
   "metadata": {
    "ExecuteTime": {
     "end_time": "2025-06-17T19:12:02.267503Z",
     "start_time": "2025-06-17T19:12:02.260755Z"
    }
   },
   "source": [
    "t[2]"
   ],
   "outputs": [
    {
     "data": {
      "text/plain": [
       "30"
      ]
     },
     "execution_count": 9,
     "metadata": {},
     "output_type": "execute_result"
    }
   ],
   "execution_count": 9
  },
  {
   "cell_type": "code",
   "metadata": {
    "ExecuteTime": {
     "end_time": "2025-06-17T19:12:02.943454Z",
     "start_time": "2025-06-17T19:12:02.571575Z"
    }
   },
   "source": [
    "t[2] = 3"
   ],
   "outputs": [
    {
     "ename": "TypeError",
     "evalue": "'tuple' object does not support item assignment",
     "output_type": "error",
     "traceback": [
      "\u001B[1;31m---------------------------------------------------------------------------\u001B[0m",
      "\u001B[1;31mTypeError\u001B[0m                                 Traceback (most recent call last)",
      "Cell \u001B[1;32mIn[10], line 1\u001B[0m\n\u001B[1;32m----> 1\u001B[0m \u001B[43mt\u001B[49m\u001B[43m[\u001B[49m\u001B[38;5;241;43m2\u001B[39;49m\u001B[43m]\u001B[49m \u001B[38;5;241m=\u001B[39m \u001B[38;5;241m3\u001B[39m\n",
      "\u001B[1;31mTypeError\u001B[0m: 'tuple' object does not support item assignment"
     ]
    }
   ],
   "execution_count": 10
  },
  {
   "cell_type": "markdown",
   "metadata": {},
   "source": [
    "However this does not mean that the elements of the tuple are necessarily immutable too - tuples, like lists, can contain any object, including mutable ones."
   ]
  },
  {
   "cell_type": "code",
   "metadata": {
    "ExecuteTime": {
     "end_time": "2025-06-17T19:12:03.161321Z",
     "start_time": "2025-06-17T19:12:03.155947Z"
    }
   },
   "source": [
    "t = ([1, 2], [3, 4])"
   ],
   "outputs": [],
   "execution_count": 11
  },
  {
   "cell_type": "markdown",
   "metadata": {},
   "source": [
    "As we can see, we have a tuple containing two lists:"
   ]
  },
  {
   "cell_type": "code",
   "metadata": {
    "ExecuteTime": {
     "end_time": "2025-06-17T19:12:03.714993Z",
     "start_time": "2025-06-17T19:12:03.707468Z"
    }
   },
   "source": [
    "t[0]"
   ],
   "outputs": [
    {
     "data": {
      "text/plain": [
       "[1, 2]"
      ]
     },
     "execution_count": 12,
     "metadata": {},
     "output_type": "execute_result"
    }
   ],
   "execution_count": 12
  },
  {
   "cell_type": "code",
   "metadata": {
    "ExecuteTime": {
     "end_time": "2025-06-17T19:12:03.949730Z",
     "start_time": "2025-06-17T19:12:03.942112Z"
    }
   },
   "source": [
    "t[1]"
   ],
   "outputs": [
    {
     "data": {
      "text/plain": [
       "[3, 4]"
      ]
     },
     "execution_count": 13,
     "metadata": {},
     "output_type": "execute_result"
    }
   ],
   "execution_count": 13
  },
  {
   "cell_type": "markdown",
   "metadata": {},
   "source": [
    "Although the tuple is immutable:"
   ]
  },
  {
   "cell_type": "code",
   "metadata": {
    "ExecuteTime": {
     "end_time": "2025-06-17T19:12:04.562711Z",
     "start_time": "2025-06-17T19:12:04.542674Z"
    }
   },
   "source": [
    "t[0] = 100"
   ],
   "outputs": [
    {
     "ename": "TypeError",
     "evalue": "'tuple' object does not support item assignment",
     "output_type": "error",
     "traceback": [
      "\u001B[1;31m---------------------------------------------------------------------------\u001B[0m",
      "\u001B[1;31mTypeError\u001B[0m                                 Traceback (most recent call last)",
      "Cell \u001B[1;32mIn[14], line 1\u001B[0m\n\u001B[1;32m----> 1\u001B[0m \u001B[43mt\u001B[49m\u001B[43m[\u001B[49m\u001B[38;5;241;43m0\u001B[39;49m\u001B[43m]\u001B[49m \u001B[38;5;241m=\u001B[39m \u001B[38;5;241m100\u001B[39m\n",
      "\u001B[1;31mTypeError\u001B[0m: 'tuple' object does not support item assignment"
     ]
    }
   ],
   "execution_count": 14
  },
  {
   "cell_type": "markdown",
   "metadata": {},
   "source": [
    "the elements, being lists, are mutable:"
   ]
  },
  {
   "cell_type": "code",
   "metadata": {
    "ExecuteTime": {
     "end_time": "2025-06-17T19:12:05.160098Z",
     "start_time": "2025-06-17T19:12:05.153845Z"
    }
   },
   "source": [
    "t[0]"
   ],
   "outputs": [
    {
     "data": {
      "text/plain": [
       "[1, 2]"
      ]
     },
     "execution_count": 15,
     "metadata": {},
     "output_type": "execute_result"
    }
   ],
   "execution_count": 15
  },
  {
   "cell_type": "code",
   "metadata": {
    "ExecuteTime": {
     "end_time": "2025-06-17T19:12:05.460188Z",
     "start_time": "2025-06-17T19:12:05.455048Z"
    }
   },
   "source": [
    "t[0][1] = 20"
   ],
   "outputs": [],
   "execution_count": 16
  },
  {
   "cell_type": "code",
   "metadata": {
    "ExecuteTime": {
     "end_time": "2025-06-17T19:12:05.744910Z",
     "start_time": "2025-06-17T19:12:05.736989Z"
    }
   },
   "source": [
    "t[0]"
   ],
   "outputs": [
    {
     "data": {
      "text/plain": [
       "[1, 20]"
      ]
     },
     "execution_count": 17,
     "metadata": {},
     "output_type": "execute_result"
    }
   ],
   "execution_count": 17
  },
  {
   "cell_type": "code",
   "metadata": {
    "ExecuteTime": {
     "end_time": "2025-06-17T19:12:06.000414Z",
     "start_time": "2025-06-17T19:12:05.994802Z"
    }
   },
   "source": [
    "t"
   ],
   "outputs": [
    {
     "data": {
      "text/plain": [
       "([1, 20], [3, 4])"
      ]
     },
     "execution_count": 18,
     "metadata": {},
     "output_type": "execute_result"
    }
   ],
   "execution_count": 18
  },
  {
   "cell_type": "markdown",
   "metadata": {},
   "source": [
    "As you can see we replaced the second element of the first element of the tuple.\n",
    "\n",
    "So be careful, just because a tuple is immutable does not mean that it's elements are also immutable."
   ]
  },
  {
   "cell_type": "markdown",
   "metadata": {},
   "source": [
    "We don't actually need to use `()` all the time to define tuples - Python will recognize the comma separated values and create a tuple automatically:"
   ]
  },
  {
   "cell_type": "code",
   "metadata": {
    "ExecuteTime": {
     "end_time": "2025-06-17T19:12:06.855388Z",
     "start_time": "2025-06-17T19:12:06.850116Z"
    }
   },
   "source": [
    "t = 1, 2"
   ],
   "outputs": [],
   "execution_count": 19
  },
  {
   "cell_type": "code",
   "metadata": {
    "ExecuteTime": {
     "end_time": "2025-06-17T19:12:07.123527Z",
     "start_time": "2025-06-17T19:12:07.116657Z"
    }
   },
   "source": [
    "type(t)"
   ],
   "outputs": [
    {
     "data": {
      "text/plain": [
       "tuple"
      ]
     },
     "execution_count": 20,
     "metadata": {},
     "output_type": "execute_result"
    }
   ],
   "execution_count": 20
  },
  {
   "cell_type": "code",
   "metadata": {
    "ExecuteTime": {
     "end_time": "2025-06-17T19:12:07.359034Z",
     "start_time": "2025-06-17T19:12:07.352201Z"
    }
   },
   "source": [
    "t"
   ],
   "outputs": [
    {
     "data": {
      "text/plain": [
       "(1, 2)"
      ]
     },
     "execution_count": 21,
     "metadata": {},
     "output_type": "execute_result"
    }
   ],
   "execution_count": 21
  },
  {
   "cell_type": "markdown",
   "metadata": {},
   "source": [
    "So this is exactly equivalent to writing:"
   ]
  },
  {
   "cell_type": "code",
   "metadata": {
    "ExecuteTime": {
     "end_time": "2025-06-17T19:12:07.865092Z",
     "start_time": "2025-06-17T19:12:07.858395Z"
    }
   },
   "source": [
    "t = (1, 2)"
   ],
   "outputs": [],
   "execution_count": 22
  },
  {
   "cell_type": "markdown",
   "metadata": {},
   "source": [
    "In fact this is why we can use this in the Python console to print multiple values:"
   ]
  },
  {
   "cell_type": "code",
   "metadata": {
    "ExecuteTime": {
     "end_time": "2025-06-17T19:12:08.436049Z",
     "start_time": "2025-06-17T19:12:08.427170Z"
    }
   },
   "source": [
    "a = 10\n",
    "b = 20\n",
    "\n",
    "a, b, a+b"
   ],
   "outputs": [
    {
     "data": {
      "text/plain": [
       "(10, 20, 30)"
      ]
     },
     "execution_count": 23,
     "metadata": {},
     "output_type": "execute_result"
    }
   ],
   "execution_count": 23
  },
  {
   "cell_type": "markdown",
   "metadata": {},
   "source": [
    "You'll notice that we see three values printed - in fact we created a tuple containing `a`. `b` and `a + b` and Jupyter printed out the tuple.\n",
    "\n",
    "Equivalently we ciould have written it this way:"
   ]
  },
  {
   "cell_type": "code",
   "metadata": {
    "ExecuteTime": {
     "end_time": "2025-06-17T19:12:58.615651Z",
     "start_time": "2025-06-17T19:12:58.609873Z"
    }
   },
   "source": [
    "a = 10\n",
    "b = 20\n",
    "t = a, b, a + b\n",
    "print(t)"
   ],
   "outputs": [
    {
     "name": "stdout",
     "output_type": "stream",
     "text": [
      "(10, 20, 30)\n"
     ]
    }
   ],
   "execution_count": 24
  },
  {
   "cell_type": "markdown",
   "metadata": {},
   "source": [
    "We can also create empty tuples:"
   ]
  },
  {
   "cell_type": "code",
   "metadata": {
    "ExecuteTime": {
     "end_time": "2025-06-17T19:12:59.742836Z",
     "start_time": "2025-06-17T19:12:59.737906Z"
    }
   },
   "source": [
    "t = ()"
   ],
   "outputs": [],
   "execution_count": 25
  },
  {
   "cell_type": "code",
   "metadata": {
    "ExecuteTime": {
     "end_time": "2025-06-17T19:13:00.107843Z",
     "start_time": "2025-06-17T19:13:00.100750Z"
    }
   },
   "source": [
    "type(t), len(t)"
   ],
   "outputs": [
    {
     "data": {
      "text/plain": [
       "(tuple, 0)"
      ]
     },
     "execution_count": 26,
     "metadata": {},
     "output_type": "execute_result"
    }
   ],
   "execution_count": 26
  },
  {
   "cell_type": "markdown",
   "metadata": {},
   "source": [
    "We can also use the `tuple()` function:"
   ]
  },
  {
   "cell_type": "code",
   "metadata": {
    "ExecuteTime": {
     "end_time": "2025-06-17T19:13:00.915101Z",
     "start_time": "2025-06-17T19:13:00.910866Z"
    }
   },
   "source": [
    "t = tuple()"
   ],
   "outputs": [],
   "execution_count": 27
  },
  {
   "cell_type": "code",
   "metadata": {
    "ExecuteTime": {
     "end_time": "2025-06-17T19:13:01.297304Z",
     "start_time": "2025-06-17T19:13:01.290098Z"
    }
   },
   "source": [
    "type(t), len(t)"
   ],
   "outputs": [
    {
     "data": {
      "text/plain": [
       "(tuple, 0)"
      ]
     },
     "execution_count": 28,
     "metadata": {},
     "output_type": "execute_result"
    }
   ],
   "execution_count": 28
  },
  {
   "cell_type": "markdown",
   "metadata": {},
   "source": [
    "But since we cannot mutate the tuple, this is not extremely useful in general."
   ]
  },
  {
   "cell_type": "markdown",
   "metadata": {},
   "source": [
    "Tuples are extremely handy though, and are often used to return multiple values from a function (we'll cover this later)."
   ]
  },
  {
   "cell_type": "markdown",
   "metadata": {},
   "source": [
    "The interesting thing to note about the `tuple()` function is that we can pass it any sequence, and it will take each element of that sequence and create a tuple containing the same elements:"
   ]
  },
  {
   "cell_type": "code",
   "metadata": {
    "ExecuteTime": {
     "end_time": "2025-06-17T19:13:02.872341Z",
     "start_time": "2025-06-17T19:13:02.866778Z"
    }
   },
   "source": [
    "l = [1, 2, 3]"
   ],
   "outputs": [],
   "execution_count": 29
  },
  {
   "cell_type": "code",
   "metadata": {
    "ExecuteTime": {
     "end_time": "2025-06-17T19:13:03.202096Z",
     "start_time": "2025-06-17T19:13:03.195689Z"
    }
   },
   "source": [
    "type(l)"
   ],
   "outputs": [
    {
     "data": {
      "text/plain": [
       "list"
      ]
     },
     "execution_count": 30,
     "metadata": {},
     "output_type": "execute_result"
    }
   ],
   "execution_count": 30
  },
  {
   "cell_type": "code",
   "metadata": {
    "ExecuteTime": {
     "end_time": "2025-06-17T19:13:03.513289Z",
     "start_time": "2025-06-17T19:13:03.507961Z"
    }
   },
   "source": [
    "t = tuple(l)"
   ],
   "outputs": [],
   "execution_count": 31
  },
  {
   "cell_type": "code",
   "metadata": {
    "ExecuteTime": {
     "end_time": "2025-06-17T19:13:03.860167Z",
     "start_time": "2025-06-17T19:13:03.854130Z"
    }
   },
   "source": [
    "t"
   ],
   "outputs": [
    {
     "data": {
      "text/plain": [
       "(1, 2, 3)"
      ]
     },
     "execution_count": 32,
     "metadata": {},
     "output_type": "execute_result"
    }
   ],
   "execution_count": 32
  },
  {
   "cell_type": "code",
   "metadata": {
    "ExecuteTime": {
     "end_time": "2025-06-17T19:13:04.114688Z",
     "start_time": "2025-06-17T19:13:04.108514Z"
    }
   },
   "source": [
    "type(t)"
   ],
   "outputs": [
    {
     "data": {
      "text/plain": [
       "tuple"
      ]
     },
     "execution_count": 33,
     "metadata": {},
     "output_type": "execute_result"
    }
   ],
   "execution_count": 33
  },
  {
   "cell_type": "markdown",
   "metadata": {},
   "source": [
    "We can also use the `list()` function in the same way:"
   ]
  },
  {
   "cell_type": "code",
   "metadata": {
    "ExecuteTime": {
     "end_time": "2025-06-17T19:13:04.927246Z",
     "start_time": "2025-06-17T19:13:04.921351Z"
    }
   },
   "source": [
    "t = (10, 20, 30)"
   ],
   "outputs": [],
   "execution_count": 34
  },
  {
   "cell_type": "code",
   "metadata": {
    "ExecuteTime": {
     "end_time": "2025-06-17T19:13:05.256445Z",
     "start_time": "2025-06-17T19:13:05.251649Z"
    }
   },
   "source": [
    "l = list(t)"
   ],
   "outputs": [],
   "execution_count": 35
  },
  {
   "cell_type": "code",
   "metadata": {
    "ExecuteTime": {
     "end_time": "2025-06-17T19:13:05.542920Z",
     "start_time": "2025-06-17T19:13:05.535821Z"
    }
   },
   "source": [
    "l"
   ],
   "outputs": [
    {
     "data": {
      "text/plain": [
       "[10, 20, 30]"
      ]
     },
     "execution_count": 36,
     "metadata": {},
     "output_type": "execute_result"
    }
   ],
   "execution_count": 36
  },
  {
   "cell_type": "code",
   "metadata": {
    "ExecuteTime": {
     "end_time": "2025-06-17T19:13:06.056930Z",
     "start_time": "2025-06-17T19:13:06.050569Z"
    }
   },
   "source": [
    "type(l)"
   ],
   "outputs": [
    {
     "data": {
      "text/plain": [
       "list"
      ]
     },
     "execution_count": 37,
     "metadata": {},
     "output_type": "execute_result"
    }
   ],
   "execution_count": 37
  },
  {
   "cell_type": "markdown",
   "metadata": {},
   "source": [
    "What's interesting about this, is that we could be faced with a tuple that we want to mutate."
   ]
  },
  {
   "cell_type": "markdown",
   "metadata": {},
   "source": [
    "We can't mutate the tuple - but we can easily transform it into a list, and then mutate the list:"
   ]
  },
  {
   "cell_type": "code",
   "metadata": {
    "ExecuteTime": {
     "end_time": "2025-06-17T19:13:07.356947Z",
     "start_time": "2025-06-17T19:13:07.351513Z"
    }
   },
   "source": [
    "t = 10, 20, 3, 40"
   ],
   "outputs": [],
   "execution_count": 38
  },
  {
   "cell_type": "code",
   "metadata": {
    "ExecuteTime": {
     "end_time": "2025-06-17T19:13:07.671083Z",
     "start_time": "2025-06-17T19:13:07.666077Z"
    }
   },
   "source": [
    "l = list(t)"
   ],
   "outputs": [],
   "execution_count": 39
  },
  {
   "cell_type": "code",
   "metadata": {
    "ExecuteTime": {
     "end_time": "2025-06-17T19:13:08.112959Z",
     "start_time": "2025-06-17T19:13:08.106867Z"
    }
   },
   "source": [
    "l"
   ],
   "outputs": [
    {
     "data": {
      "text/plain": [
       "[10, 20, 3, 40]"
      ]
     },
     "execution_count": 40,
     "metadata": {},
     "output_type": "execute_result"
    }
   ],
   "execution_count": 40
  },
  {
   "cell_type": "code",
   "metadata": {
    "ExecuteTime": {
     "end_time": "2025-06-17T19:13:08.755823Z",
     "start_time": "2025-06-17T19:13:08.750826Z"
    }
   },
   "source": [
    "l[2] = 30"
   ],
   "outputs": [],
   "execution_count": 41
  },
  {
   "cell_type": "code",
   "metadata": {
    "ExecuteTime": {
     "end_time": "2025-06-17T19:13:09.281757Z",
     "start_time": "2025-06-17T19:13:09.275658Z"
    }
   },
   "source": [
    "l"
   ],
   "outputs": [
    {
     "data": {
      "text/plain": [
       "[10, 20, 30, 40]"
      ]
     },
     "execution_count": 42,
     "metadata": {},
     "output_type": "execute_result"
    }
   ],
   "execution_count": 42
  },
  {
   "cell_type": "markdown",
   "metadata": {},
   "source": [
    "And if we really want to, we could create a tuple from this and re-assign it to the symbol `t`:"
   ]
  },
  {
   "cell_type": "code",
   "metadata": {
    "ExecuteTime": {
     "end_time": "2025-06-17T19:13:10.334612Z",
     "start_time": "2025-06-17T19:13:10.329049Z"
    }
   },
   "source": [
    "t = tuple(l)"
   ],
   "outputs": [],
   "execution_count": 43
  },
  {
   "cell_type": "code",
   "metadata": {
    "ExecuteTime": {
     "end_time": "2025-06-17T19:13:10.982800Z",
     "start_time": "2025-06-17T19:13:10.976561Z"
    }
   },
   "source": [
    "t"
   ],
   "outputs": [
    {
     "data": {
      "text/plain": [
       "(10, 20, 30, 40)"
      ]
     },
     "execution_count": 44,
     "metadata": {},
     "output_type": "execute_result"
    }
   ],
   "execution_count": 44
  },
  {
   "cell_type": "markdown",
   "metadata": {},
   "source": [
    "When we use these `list` and `tuple` functions it is very important to understand that although a new tuple or list object is created, the references inside those sequences are shared."
   ]
  },
  {
   "cell_type": "markdown",
   "metadata": {},
   "source": [
    "Let's see a simple example to illustrate this:"
   ]
  },
  {
   "cell_type": "code",
   "metadata": {
    "ExecuteTime": {
     "end_time": "2025-06-17T19:13:12.647004Z",
     "start_time": "2025-06-17T19:13:12.640822Z"
    }
   },
   "source": [
    "t = ([1, 2], 20, 30)"
   ],
   "outputs": [],
   "execution_count": 45
  },
  {
   "cell_type": "markdown",
   "metadata": {},
   "source": [
    "So `t[0]` is a list, a mutable sequence:"
   ]
  },
  {
   "cell_type": "code",
   "metadata": {
    "ExecuteTime": {
     "end_time": "2025-06-17T19:13:13.358964Z",
     "start_time": "2025-06-17T19:13:13.352281Z"
    }
   },
   "source": [
    "t[0], type(t[0])"
   ],
   "outputs": [
    {
     "data": {
      "text/plain": [
       "([1, 2], list)"
      ]
     },
     "execution_count": 46,
     "metadata": {},
     "output_type": "execute_result"
    }
   ],
   "execution_count": 46
  },
  {
   "cell_type": "markdown",
   "metadata": {},
   "source": [
    "Now let's make a list with the same elements:"
   ]
  },
  {
   "cell_type": "code",
   "metadata": {
    "ExecuteTime": {
     "end_time": "2025-06-17T19:13:14.269852Z",
     "start_time": "2025-06-17T19:13:14.264468Z"
    }
   },
   "source": [
    "l = list(t)"
   ],
   "outputs": [],
   "execution_count": 47
  },
  {
   "cell_type": "code",
   "metadata": {
    "ExecuteTime": {
     "end_time": "2025-06-17T19:13:14.681837Z",
     "start_time": "2025-06-17T19:13:14.674819Z"
    }
   },
   "source": [
    "l"
   ],
   "outputs": [
    {
     "data": {
      "text/plain": [
       "[[1, 2], 20, 30]"
      ]
     },
     "execution_count": 48,
     "metadata": {},
     "output_type": "execute_result"
    }
   ],
   "execution_count": 48
  },
  {
   "cell_type": "markdown",
   "metadata": {},
   "source": [
    "As we can see the first element of `l` is that list `[1, 2]`:"
   ]
  },
  {
   "cell_type": "code",
   "metadata": {
    "ExecuteTime": {
     "end_time": "2025-06-17T19:13:15.306572Z",
     "start_time": "2025-06-17T19:13:15.299242Z"
    }
   },
   "source": [
    "l[0], type(l)"
   ],
   "outputs": [
    {
     "data": {
      "text/plain": [
       "([1, 2], list)"
      ]
     },
     "execution_count": 49,
     "metadata": {},
     "output_type": "execute_result"
    }
   ],
   "execution_count": 49
  },
  {
   "cell_type": "markdown",
   "metadata": {},
   "source": [
    "But in fact, this first object in the list `l` is the **same** object as the first object in the tuple `t`:"
   ]
  },
  {
   "cell_type": "code",
   "metadata": {
    "ExecuteTime": {
     "end_time": "2025-06-17T19:13:15.993572Z",
     "start_time": "2025-06-17T19:13:15.987551Z"
    }
   },
   "source": [
    "t[0] is l[0]"
   ],
   "outputs": [
    {
     "data": {
      "text/plain": [
       "True"
      ]
     },
     "execution_count": 50,
     "metadata": {},
     "output_type": "execute_result"
    }
   ],
   "execution_count": 50
  },
  {
   "cell_type": "markdown",
   "metadata": {},
   "source": [
    "This means that if we modify that list, the change will \"show up\" in both the list and the tuple:"
   ]
  },
  {
   "cell_type": "code",
   "metadata": {
    "ExecuteTime": {
     "end_time": "2025-06-17T19:13:16.700835Z",
     "start_time": "2025-06-17T19:13:16.695306Z"
    }
   },
   "source": [
    "l[0][0] = 100"
   ],
   "outputs": [],
   "execution_count": 51
  },
  {
   "cell_type": "code",
   "metadata": {
    "ExecuteTime": {
     "end_time": "2025-06-17T19:13:17.048991Z",
     "start_time": "2025-06-17T19:13:17.042459Z"
    }
   },
   "source": [
    "l"
   ],
   "outputs": [
    {
     "data": {
      "text/plain": [
       "[[100, 2], 20, 30]"
      ]
     },
     "execution_count": 52,
     "metadata": {},
     "output_type": "execute_result"
    }
   ],
   "execution_count": 52
  },
  {
   "cell_type": "code",
   "metadata": {
    "ExecuteTime": {
     "end_time": "2025-06-17T19:13:17.385125Z",
     "start_time": "2025-06-17T19:13:17.378931Z"
    }
   },
   "source": [
    "t"
   ],
   "outputs": [
    {
     "data": {
      "text/plain": [
       "([100, 2], 20, 30)"
      ]
     },
     "execution_count": 53,
     "metadata": {},
     "output_type": "execute_result"
    }
   ],
   "execution_count": 53
  },
  {
   "cell_type": "markdown",
   "metadata": {},
   "source": [
    "We'll come back to this topic when we look at copying sequences."
   ]
  }
 ],
 "metadata": {
  "kernelspec": {
   "display_name": "Python 3",
   "language": "python",
   "name": "python3"
  },
  "language_info": {
   "codemirror_mode": {
    "name": "ipython",
    "version": 3
   },
   "file_extension": ".py",
   "mimetype": "text/x-python",
   "name": "python",
   "nbconvert_exporter": "python",
   "pygments_lexer": "ipython3",
   "version": "3.9.1"
  }
 },
 "nbformat": 4,
 "nbformat_minor": 4
}
