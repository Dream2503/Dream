{
 "cells": [
  {
   "cell_type": "code",
   "id": "initial_id",
   "metadata": {
    "collapsed": true,
    "ExecuteTime": {
     "end_time": "2025-06-14T05:27:47.851091Z",
     "start_time": "2025-06-14T05:27:47.840622Z"
    }
   },
   "source": "range(10)",
   "outputs": [
    {
     "data": {
      "text/plain": [
       "range(0, 10)"
      ]
     },
     "execution_count": 1,
     "metadata": {},
     "output_type": "execute_result"
    }
   ],
   "execution_count": 1
  },
  {
   "metadata": {
    "ExecuteTime": {
     "end_time": "2025-06-14T05:27:48.175212Z",
     "start_time": "2025-06-14T05:27:48.168090Z"
    }
   },
   "cell_type": "code",
   "source": "list(range(10))",
   "id": "2a820dc746333111",
   "outputs": [
    {
     "data": {
      "text/plain": [
       "[0, 1, 2, 3, 4, 5, 6, 7, 8, 9]"
      ]
     },
     "execution_count": 2,
     "metadata": {},
     "output_type": "execute_result"
    }
   ],
   "execution_count": 2
  },
  {
   "metadata": {
    "ExecuteTime": {
     "end_time": "2025-06-14T05:27:48.479847Z",
     "start_time": "2025-06-14T05:27:48.473119Z"
    }
   },
   "cell_type": "code",
   "source": "list(range(1, 10))",
   "id": "c6d93e82009b5389",
   "outputs": [
    {
     "data": {
      "text/plain": [
       "[1, 2, 3, 4, 5, 6, 7, 8, 9]"
      ]
     },
     "execution_count": 3,
     "metadata": {},
     "output_type": "execute_result"
    }
   ],
   "execution_count": 3
  },
  {
   "metadata": {
    "ExecuteTime": {
     "end_time": "2025-06-14T05:27:48.800592Z",
     "start_time": "2025-06-14T05:27:48.794354Z"
    }
   },
   "cell_type": "code",
   "source": "list(range(0, 10))",
   "id": "7e146c45a02e5b4e",
   "outputs": [
    {
     "data": {
      "text/plain": [
       "[0, 1, 2, 3, 4, 5, 6, 7, 8, 9]"
      ]
     },
     "execution_count": 4,
     "metadata": {},
     "output_type": "execute_result"
    }
   ],
   "execution_count": 4
  },
  {
   "metadata": {
    "ExecuteTime": {
     "end_time": "2025-06-14T05:27:49.148775Z",
     "start_time": "2025-06-14T05:27:49.140697Z"
    }
   },
   "cell_type": "code",
   "source": "list(range(2, 11, 2))",
   "id": "9fc15cad57407734",
   "outputs": [
    {
     "data": {
      "text/plain": [
       "[2, 4, 6, 8, 10]"
      ]
     },
     "execution_count": 5,
     "metadata": {},
     "output_type": "execute_result"
    }
   ],
   "execution_count": 5
  },
  {
   "metadata": {
    "ExecuteTime": {
     "end_time": "2025-06-14T05:27:49.455917Z",
     "start_time": "2025-06-14T05:27:49.446488Z"
    }
   },
   "cell_type": "code",
   "source": "list(range(1, 10, 2))",
   "id": "2438d39e1e3b023",
   "outputs": [
    {
     "data": {
      "text/plain": [
       "[1, 3, 5, 7, 9]"
      ]
     },
     "execution_count": 6,
     "metadata": {},
     "output_type": "execute_result"
    }
   ],
   "execution_count": 6
  },
  {
   "metadata": {},
   "cell_type": "markdown",
   "source": "Needs to get Index Position 0, the value is 30 and so no...",
   "id": "f646fca69f6e6bf6"
  },
  {
   "metadata": {
    "ExecuteTime": {
     "end_time": "2025-06-14T05:27:50.117196Z",
     "start_time": "2025-06-14T05:27:50.111034Z"
    }
   },
   "cell_type": "code",
   "source": [
    "my_list = [30, 10, 20, 5]\n",
    "len(my_list)"
   ],
   "id": "50a1a8a37adcbb23",
   "outputs": [
    {
     "data": {
      "text/plain": [
       "4"
      ]
     },
     "execution_count": 7,
     "metadata": {},
     "output_type": "execute_result"
    }
   ],
   "execution_count": 7
  },
  {
   "metadata": {
    "ExecuteTime": {
     "end_time": "2025-06-14T05:27:50.484313Z",
     "start_time": "2025-06-14T05:27:50.477780Z"
    }
   },
   "cell_type": "code",
   "source": "list(range(4))",
   "id": "845631693b289558",
   "outputs": [
    {
     "data": {
      "text/plain": [
       "[0, 1, 2, 3]"
      ]
     },
     "execution_count": 8,
     "metadata": {},
     "output_type": "execute_result"
    }
   ],
   "execution_count": 8
  },
  {
   "metadata": {
    "ExecuteTime": {
     "end_time": "2025-06-14T05:27:50.789296Z",
     "start_time": "2025-06-14T05:27:50.781695Z"
    }
   },
   "cell_type": "code",
   "source": [
    "for i in range(len(my_list)):\n",
    "    print(f\"Index Position {i}, the value is {my_list[i]}\")"
   ],
   "id": "2aa72613058c6a3b",
   "outputs": [
    {
     "name": "stdout",
     "output_type": "stream",
     "text": [
      "Index Position 0, the value is 30\n",
      "Index Position 1, the value is 10\n",
      "Index Position 2, the value is 20\n",
      "Index Position 3, the value is 5\n"
     ]
    }
   ],
   "execution_count": 9
  },
  {
   "metadata": {
    "ExecuteTime": {
     "end_time": "2025-06-14T05:27:51.160101Z",
     "start_time": "2025-06-14T05:27:51.153201Z"
    }
   },
   "cell_type": "code",
   "source": "my_list",
   "id": "706328ec757c5a0f",
   "outputs": [
    {
     "data": {
      "text/plain": [
       "[30, 10, 20, 5]"
      ]
     },
     "execution_count": 10,
     "metadata": {},
     "output_type": "execute_result"
    }
   ],
   "execution_count": 10
  },
  {
   "metadata": {
    "ExecuteTime": {
     "end_time": "2025-06-14T05:27:51.452322Z",
     "start_time": "2025-06-14T05:27:51.446820Z"
    }
   },
   "cell_type": "code",
   "source": [
    "for i in enumerate(my_list):\n",
    "    print(i)"
   ],
   "id": "6aad5092d684c0f6",
   "outputs": [
    {
     "name": "stdout",
     "output_type": "stream",
     "text": [
      "(0, 30)\n",
      "(1, 10)\n",
      "(2, 20)\n",
      "(3, 5)\n"
     ]
    }
   ],
   "execution_count": 11
  },
  {
   "metadata": {
    "ExecuteTime": {
     "end_time": "2025-06-14T05:27:51.822825Z",
     "start_time": "2025-06-14T05:27:51.814Z"
    }
   },
   "cell_type": "code",
   "source": [
    "for i, j in enumerate(my_list):\n",
    "    print(f\"Index Position {i}, the value is {j}\")"
   ],
   "id": "3be552894251b4a5",
   "outputs": [
    {
     "name": "stdout",
     "output_type": "stream",
     "text": [
      "Index Position 0, the value is 30\n",
      "Index Position 1, the value is 10\n",
      "Index Position 2, the value is 20\n",
      "Index Position 3, the value is 5\n"
     ]
    }
   ],
   "execution_count": 12
  },
  {
   "metadata": {
    "ExecuteTime": {
     "end_time": "2025-06-14T05:27:52.162216Z",
     "start_time": "2025-06-14T05:27:52.156004Z"
    }
   },
   "cell_type": "code",
   "source": [
    "for i, j in enumerate(my_list):\n",
    "    print(i, j)"
   ],
   "id": "e3352a098a2fabb3",
   "outputs": [
    {
     "name": "stdout",
     "output_type": "stream",
     "text": [
      "0 30\n",
      "1 10\n",
      "2 20\n",
      "3 5\n"
     ]
    }
   ],
   "execution_count": 13
  },
  {
   "metadata": {
    "ExecuteTime": {
     "end_time": "2025-06-14T05:27:52.577233Z",
     "start_time": "2025-06-14T05:27:52.568706Z"
    }
   },
   "cell_type": "code",
   "source": [
    "my_string = \"silicon\"\n",
    "my_list = list(my_string)\n",
    "my_list"
   ],
   "id": "3a983939544a3249",
   "outputs": [
    {
     "data": {
      "text/plain": [
       "['s', 'i', 'l', 'i', 'c', 'o', 'n']"
      ]
     },
     "execution_count": 14,
     "metadata": {},
     "output_type": "execute_result"
    }
   ],
   "execution_count": 14
  },
  {
   "metadata": {
    "ExecuteTime": {
     "end_time": "2025-06-14T05:27:52.997666Z",
     "start_time": "2025-06-14T05:27:52.989484Z"
    }
   },
   "cell_type": "code",
   "source": [
    "my_list = []\n",
    "\n",
    "for i in \"silicon\":\n",
    "    my_list.append(i)\n",
    "    print(my_list)"
   ],
   "id": "1de669d544edd855",
   "outputs": [
    {
     "name": "stdout",
     "output_type": "stream",
     "text": [
      "['s']\n",
      "['s', 'i']\n",
      "['s', 'i', 'l']\n",
      "['s', 'i', 'l', 'i']\n",
      "['s', 'i', 'l', 'i', 'c']\n",
      "['s', 'i', 'l', 'i', 'c', 'o']\n",
      "['s', 'i', 'l', 'i', 'c', 'o', 'n']\n"
     ]
    }
   ],
   "execution_count": 15
  },
  {
   "metadata": {
    "ExecuteTime": {
     "end_time": "2025-06-14T05:27:53.422844Z",
     "start_time": "2025-06-14T05:27:53.416445Z"
    }
   },
   "cell_type": "code",
   "source": [
    "my_list = []\n",
    "\n",
    "for i in \"silicon\":\n",
    "    my_list.append(i)\n",
    "\n",
    "print(my_list)"
   ],
   "id": "20864503e3e56fc1",
   "outputs": [
    {
     "name": "stdout",
     "output_type": "stream",
     "text": [
      "['s', 'i', 'l', 'i', 'c', 'o', 'n']\n"
     ]
    }
   ],
   "execution_count": 16
  },
  {
   "metadata": {},
   "cell_type": "markdown",
   "source": "LIST COMPREHENSION IN PYTHON",
   "id": "dfa9f3c272b9747c"
  },
  {
   "metadata": {},
   "cell_type": "markdown",
   "source": "It is a unique way of quickly creating a list when we have a for loop along with an append method",
   "id": "eb00974c0b45cea2"
  },
  {
   "metadata": {
    "ExecuteTime": {
     "end_time": "2025-06-14T05:27:55.026563Z",
     "start_time": "2025-06-14T05:27:55.016944Z"
    }
   },
   "cell_type": "code",
   "source": [
    "my_list1 = [i for i in \"silicon\"]\n",
    "my_list1"
   ],
   "id": "6ed164c83f816c99",
   "outputs": [
    {
     "data": {
      "text/plain": [
       "['s', 'i', 'l', 'i', 'c', 'o', 'n']"
      ]
     },
     "execution_count": 17,
     "metadata": {},
     "output_type": "execute_result"
    }
   ],
   "execution_count": 17
  },
  {
   "metadata": {},
   "cell_type": "markdown",
   "source": "WAP which will take two list as input i.e. L1 = [1, 2, 3] and L2 = [4, 5] and it should return me list L3 which consists of each element from List 1 multiplied with every element from List 2 i.e. L3 = [4, 5, 8, 10, 12, 15]",
   "id": "b7673509c5f7e2bf"
  },
  {
   "metadata": {
    "ExecuteTime": {
     "end_time": "2025-06-14T05:27:57.245111Z",
     "start_time": "2025-06-14T05:27:57.237690Z"
    }
   },
   "cell_type": "code",
   "source": [
    "L3 = []\n",
    "\n",
    "for L1 in [1, 2, 3]:\n",
    "    for L2 in [4, 5]:\n",
    "        L3.append(L1 * L2)\n",
    "\n",
    "L3"
   ],
   "id": "169e8ce4c069ef27",
   "outputs": [
    {
     "data": {
      "text/plain": [
       "[4, 5, 8, 10, 12, 15]"
      ]
     },
     "execution_count": 18,
     "metadata": {},
     "output_type": "execute_result"
    }
   ],
   "execution_count": 18
  },
  {
   "metadata": {
    "ExecuteTime": {
     "end_time": "2025-06-14T05:27:57.808714Z",
     "start_time": "2025-06-14T05:27:57.802509Z"
    }
   },
   "cell_type": "code",
   "source": [
    "L4 = [L1 * L2 for L1 in [1, 2, 3] for L2 in [4, 5]]\n",
    "L4"
   ],
   "id": "c09ff04a79b693fb",
   "outputs": [
    {
     "data": {
      "text/plain": [
       "[4, 5, 8, 10, 12, 15]"
      ]
     },
     "execution_count": 19,
     "metadata": {},
     "output_type": "execute_result"
    }
   ],
   "execution_count": 19
  },
  {
   "metadata": {},
   "cell_type": "markdown",
   "source": "WAP to take 10 natural numbers and return only the  list of even number",
   "id": "f4a0b3adba7f3f2d"
  },
  {
   "metadata": {
    "ExecuteTime": {
     "end_time": "2025-06-14T05:27:58.907680Z",
     "start_time": "2025-06-14T05:27:58.900603Z"
    }
   },
   "cell_type": "code",
   "source": [
    "even = []\n",
    "\n",
    "for i in range(1, 11):\n",
    "    if i % 2 == 0:\n",
    "        even.append(i)\n",
    "\n",
    "even"
   ],
   "id": "688baa45f5d53dfd",
   "outputs": [
    {
     "data": {
      "text/plain": [
       "[2, 4, 6, 8, 10]"
      ]
     },
     "execution_count": 20,
     "metadata": {},
     "output_type": "execute_result"
    }
   ],
   "execution_count": 20
  },
  {
   "metadata": {
    "ExecuteTime": {
     "end_time": "2025-06-14T05:27:59.396676Z",
     "start_time": "2025-06-14T05:27:59.390417Z"
    }
   },
   "cell_type": "code",
   "source": "even_number = [i for i in range(1, 11) if i % 2 == 0]",
   "id": "cad4fd900e19ad51",
   "outputs": [],
   "execution_count": 21
  },
  {
   "metadata": {
    "ExecuteTime": {
     "end_time": "2025-06-14T05:27:59.931907Z",
     "start_time": "2025-06-14T05:27:59.925832Z"
    }
   },
   "cell_type": "code",
   "source": "even_number",
   "id": "aa29a658626f9777",
   "outputs": [
    {
     "data": {
      "text/plain": [
       "[2, 4, 6, 8, 10]"
      ]
     },
     "execution_count": 22,
     "metadata": {},
     "output_type": "execute_result"
    }
   ],
   "execution_count": 22
  },
  {
   "metadata": {
    "ExecuteTime": {
     "end_time": "2025-06-14T05:28:00.389356Z",
     "start_time": "2025-06-14T05:28:00.378864Z"
    }
   },
   "cell_type": "code",
   "source": [
    "even = []\n",
    "\n",
    "for i in range(1, 11):\n",
    "    if i % 2 == 0:\n",
    "        even.append(i)\n",
    "\n",
    "    else:\n",
    "        print(f\"Odd number is {i}\")\n",
    "\n",
    "even"
   ],
   "id": "d94df8422d7f9fee",
   "outputs": [
    {
     "name": "stdout",
     "output_type": "stream",
     "text": [
      "Odd number is 1\n",
      "Odd number is 3\n",
      "Odd number is 5\n",
      "Odd number is 7\n",
      "Odd number is 9\n"
     ]
    },
    {
     "data": {
      "text/plain": [
       "[2, 4, 6, 8, 10]"
      ]
     },
     "execution_count": 23,
     "metadata": {},
     "output_type": "execute_result"
    }
   ],
   "execution_count": 23
  },
  {
   "metadata": {},
   "cell_type": "markdown",
   "source": "FUNCTION",
   "id": "61e97c1214e4083e"
  },
  {
   "metadata": {
    "ExecuteTime": {
     "end_time": "2025-06-14T05:28:00.943178Z",
     "start_time": "2025-06-14T05:28:00.933925Z"
    }
   },
   "cell_type": "code",
   "source": [
    "even = []\n",
    "odd = []\n",
    "\n",
    "for i in range(1, 11):\n",
    "    if i % 2 == 0:\n",
    "        even.append(i)\n",
    "\n",
    "    else:\n",
    "        odd.append(i)\n",
    "        print(\"odd\")\n",
    "        print(\"even\")"
   ],
   "id": "437a96049cbccb24",
   "outputs": [
    {
     "name": "stdout",
     "output_type": "stream",
     "text": [
      "odd\n",
      "even\n",
      "odd\n",
      "even\n",
      "odd\n",
      "even\n",
      "odd\n",
      "even\n",
      "odd\n",
      "even\n"
     ]
    }
   ],
   "execution_count": 24
  },
  {
   "metadata": {
    "ExecuteTime": {
     "end_time": "2025-06-14T05:28:01.434180Z",
     "start_time": "2025-06-14T05:28:01.428100Z"
    }
   },
   "cell_type": "code",
   "source": [
    "def greeting_name(name):\n",
    "    print(f\"Welcome to {name}\")"
   ],
   "id": "6be3bdb6ea8a1320",
   "outputs": [],
   "execution_count": 25
  },
  {
   "metadata": {
    "ExecuteTime": {
     "end_time": "2025-06-14T05:28:02.238593Z",
     "start_time": "2025-06-14T05:28:02.232406Z"
    }
   },
   "cell_type": "code",
   "source": "greeting_name(\"KIIT University\")",
   "id": "9ae09377319a763a",
   "outputs": [
    {
     "name": "stdout",
     "output_type": "stream",
     "text": [
      "Welcome to KIIT University\n"
     ]
    }
   ],
   "execution_count": 26
  },
  {
   "metadata": {},
   "cell_type": "markdown",
   "source": "Define a function named as even_function which will take a list of 10 natural number and will return only the list of even number:",
   "id": "6defd6d2478c5f3"
  },
  {
   "metadata": {
    "ExecuteTime": {
     "end_time": "2025-06-14T05:29:08.479401Z",
     "start_time": "2025-06-14T05:29:08.471554Z"
    }
   },
   "cell_type": "code",
   "source": [
    "def even_function(num):\n",
    "    even_list = []\n",
    "\n",
    "    for a in num:\n",
    "        if a % 2 == 0:\n",
    "            even_list.append(a)\n",
    "\n",
    "    return even_list"
   ],
   "id": "a27b7078631000ff",
   "outputs": [],
   "execution_count": 27
  },
  {
   "metadata": {
    "ExecuteTime": {
     "end_time": "2025-06-14T05:29:35.730453Z",
     "start_time": "2025-06-14T05:29:35.723011Z"
    }
   },
   "cell_type": "code",
   "source": "even_function(list(range(1, 11)))",
   "id": "a53a3fb805384f0f",
   "outputs": [
    {
     "data": {
      "text/plain": [
       "[2, 4, 6, 8, 10]"
      ]
     },
     "execution_count": 28,
     "metadata": {},
     "output_type": "execute_result"
    }
   ],
   "execution_count": 28
  },
  {
   "metadata": {
    "ExecuteTime": {
     "end_time": "2025-06-14T05:30:03.437876Z",
     "start_time": "2025-06-14T05:30:03.430749Z"
    }
   },
   "cell_type": "code",
   "source": [
    "def even_function(num):\n",
    "    even_list = []\n",
    "\n",
    "    for a in num:\n",
    "        if a % 2 == 0:\n",
    "            even_list.append(a)\n",
    "\n",
    "    print(even_list)"
   ],
   "id": "64c9b0adc006e53c",
   "outputs": [],
   "execution_count": 29
  },
  {
   "metadata": {
    "ExecuteTime": {
     "end_time": "2025-06-14T05:30:09.987165Z",
     "start_time": "2025-06-14T05:30:09.981373Z"
    }
   },
   "cell_type": "code",
   "source": "even_function(list(range(1, 11)))",
   "id": "a62fad2d5a424d27",
   "outputs": [
    {
     "name": "stdout",
     "output_type": "stream",
     "text": [
      "[2, 4, 6, 8, 10]\n"
     ]
    }
   ],
   "execution_count": 30
  },
  {
   "metadata": {},
   "cell_type": "markdown",
   "source": "WAP to add 2 numbers",
   "id": "6a6030f0bc57b650"
  },
  {
   "metadata": {
    "ExecuteTime": {
     "end_time": "2025-06-14T05:30:58.493208Z",
     "start_time": "2025-06-14T05:30:58.486727Z"
    }
   },
   "cell_type": "code",
   "source": "sum((2, 3))",
   "id": "dc44eec63dcd8086",
   "outputs": [
    {
     "data": {
      "text/plain": [
       "5"
      ]
     },
     "execution_count": 31,
     "metadata": {},
     "output_type": "execute_result"
    }
   ],
   "execution_count": 31
  },
  {
   "metadata": {
    "ExecuteTime": {
     "end_time": "2025-06-14T05:31:04.975578Z",
     "start_time": "2025-06-14T05:31:04.575492Z"
    }
   },
   "cell_type": "code",
   "source": "sum(2, 3)",
   "id": "18320c84279e8cfa",
   "outputs": [
    {
     "ename": "TypeError",
     "evalue": "'int' object is not iterable",
     "output_type": "error",
     "traceback": [
      "\u001B[1;31m---------------------------------------------------------------------------\u001B[0m",
      "\u001B[1;31mTypeError\u001B[0m                                 Traceback (most recent call last)",
      "Cell \u001B[1;32mIn[32], line 1\u001B[0m\n\u001B[1;32m----> 1\u001B[0m \u001B[38;5;28;43msum\u001B[39;49m\u001B[43m(\u001B[49m\u001B[38;5;241;43m2\u001B[39;49m\u001B[43m,\u001B[49m\u001B[43m \u001B[49m\u001B[38;5;241;43m3\u001B[39;49m\u001B[43m)\u001B[49m\n",
      "\u001B[1;31mTypeError\u001B[0m: 'int' object is not iterable"
     ]
    }
   ],
   "execution_count": 32
  },
  {
   "metadata": {
    "ExecuteTime": {
     "end_time": "2025-06-14T05:31:46.253957Z",
     "start_time": "2025-06-14T05:31:46.247543Z"
    }
   },
   "cell_type": "code",
   "source": "sum((2, 3))",
   "id": "969d7001710f4ca6",
   "outputs": [
    {
     "data": {
      "text/plain": [
       "5"
      ]
     },
     "execution_count": 33,
     "metadata": {},
     "output_type": "execute_result"
    }
   ],
   "execution_count": 33
  },
  {
   "metadata": {},
   "cell_type": "markdown",
   "source": "WAF which will return sum of two number:",
   "id": "a91715f00c587521"
  },
  {
   "metadata": {
    "ExecuteTime": {
     "end_time": "2025-06-14T05:32:33.927776Z",
     "start_time": "2025-06-14T05:32:33.920107Z"
    }
   },
   "cell_type": "code",
   "source": [
    "def sum_of_numbers(a, b):\n",
    "    return sum((a, b))"
   ],
   "id": "ddac3f3efd27f321",
   "outputs": [],
   "execution_count": 34
  },
  {
   "metadata": {
    "ExecuteTime": {
     "end_time": "2025-06-14T05:32:43.482138Z",
     "start_time": "2025-06-14T05:32:43.475309Z"
    }
   },
   "cell_type": "code",
   "source": "sum_of_numbers(2, 3)",
   "id": "fe4d79cc71d1f418",
   "outputs": [
    {
     "data": {
      "text/plain": [
       "5"
      ]
     },
     "execution_count": 35,
     "metadata": {},
     "output_type": "execute_result"
    }
   ],
   "execution_count": 35
  },
  {
   "metadata": {
    "ExecuteTime": {
     "end_time": "2025-06-14T05:32:51.121501Z",
     "start_time": "2025-06-14T05:32:51.101286Z"
    }
   },
   "cell_type": "code",
   "source": "sum_of_numbers(2, 3, 4)",
   "id": "4f81003d3b66d334",
   "outputs": [
    {
     "ename": "TypeError",
     "evalue": "sum_of_numbers() takes 2 positional arguments but 3 were given",
     "output_type": "error",
     "traceback": [
      "\u001B[1;31m---------------------------------------------------------------------------\u001B[0m",
      "\u001B[1;31mTypeError\u001B[0m                                 Traceback (most recent call last)",
      "Cell \u001B[1;32mIn[36], line 1\u001B[0m\n\u001B[1;32m----> 1\u001B[0m \u001B[43msum_of_numbers\u001B[49m\u001B[43m(\u001B[49m\u001B[38;5;241;43m2\u001B[39;49m\u001B[43m,\u001B[49m\u001B[43m \u001B[49m\u001B[38;5;241;43m3\u001B[39;49m\u001B[43m,\u001B[49m\u001B[43m \u001B[49m\u001B[38;5;241;43m4\u001B[39;49m\u001B[43m)\u001B[49m\n",
      "\u001B[1;31mTypeError\u001B[0m: sum_of_numbers() takes 2 positional arguments but 3 were given"
     ]
    }
   ],
   "execution_count": 36
  },
  {
   "metadata": {},
   "cell_type": "markdown",
   "source": "*args = multiple arguments",
   "id": "304047cf2b5e7e8c"
  },
  {
   "metadata": {},
   "cell_type": "markdown",
   "source": "NOTE: args is an identifier",
   "id": "e15a593aef7cae84"
  },
  {
   "metadata": {
    "ExecuteTime": {
     "end_time": "2025-06-14T05:35:33.019437Z",
     "start_time": "2025-06-14T05:35:33.009905Z"
    }
   },
   "cell_type": "code",
   "source": [
    "def sum_of_numbers(*args):\n",
    "    return sum(args)"
   ],
   "id": "a9811c5619f099fa",
   "outputs": [],
   "execution_count": 37
  },
  {
   "metadata": {
    "ExecuteTime": {
     "end_time": "2025-06-14T05:35:57.529476Z",
     "start_time": "2025-06-14T05:35:57.521415Z"
    }
   },
   "cell_type": "code",
   "source": "sum_of_numbers(2, 3, 4, 5, 6, 7, 8, 9, 10)",
   "id": "d4e8ae6a6c750049",
   "outputs": [
    {
     "data": {
      "text/plain": [
       "54"
      ]
     },
     "execution_count": 38,
     "metadata": {},
     "output_type": "execute_result"
    }
   ],
   "execution_count": 38
  },
  {
   "metadata": {
    "ExecuteTime": {
     "end_time": "2025-06-14T05:36:23.135047Z",
     "start_time": "2025-06-14T05:36:23.118523Z"
    }
   },
   "cell_type": "code",
   "source": [
    "def sum_of_numbers(*silicon):\n",
    "    return sum(silicon)"
   ],
   "id": "1d18dad18fde490f",
   "outputs": [],
   "execution_count": 39
  },
  {
   "metadata": {
    "ExecuteTime": {
     "end_time": "2025-06-14T05:36:29.277325Z",
     "start_time": "2025-06-14T05:36:29.269612Z"
    }
   },
   "cell_type": "code",
   "source": "sum_of_numbers(2, 3, 4, 5, 6, 7, 8, 9, 10)",
   "id": "caf2ebd3ba017c12",
   "outputs": [
    {
     "data": {
      "text/plain": [
       "54"
      ]
     },
     "execution_count": 40,
     "metadata": {},
     "output_type": "execute_result"
    }
   ],
   "execution_count": 40
  },
  {
   "metadata": {},
   "cell_type": "markdown",
   "source": [
    "WAF which will give square of number<br>\n",
    "For example:<br>\n",
    "Input: [1, 2, 3]<br>\n",
    "Output:<br>\n",
    "1<br>\n",
    "2<br>\n",
    "3<br>"
   ],
   "id": "47f214045c1c93e5"
  },
  {
   "metadata": {
    "ExecuteTime": {
     "end_time": "2025-06-14T05:43:21.588661Z",
     "start_time": "2025-06-14T05:43:21.573196Z"
    }
   },
   "cell_type": "code",
   "source": [
    "def square_number(numbers):\n",
    "    for a in numbers:\n",
    "        print(a ** 2)"
   ],
   "id": "d3772999a5bd148e",
   "outputs": [],
   "execution_count": 41
  },
  {
   "metadata": {
    "ExecuteTime": {
     "end_time": "2025-06-14T05:43:27.158936Z",
     "start_time": "2025-06-14T05:43:27.134807Z"
    }
   },
   "cell_type": "code",
   "source": "square_number([1, 2, 3])",
   "id": "eabdf8475aff1d60",
   "outputs": [
    {
     "name": "stdout",
     "output_type": "stream",
     "text": [
      "1\n",
      "4\n",
      "9\n"
     ]
    }
   ],
   "execution_count": 42
  },
  {
   "metadata": {
    "ExecuteTime": {
     "end_time": "2025-06-14T05:46:01.971460Z",
     "start_time": "2025-06-14T05:46:01.955056Z"
    }
   },
   "cell_type": "code",
   "source": [
    "def square_number1(b):\n",
    "    return b ** 2"
   ],
   "id": "b66d2a8161dcbdec",
   "outputs": [],
   "execution_count": 43
  },
  {
   "metadata": {
    "ExecuteTime": {
     "end_time": "2025-06-14T05:46:17.969927Z",
     "start_time": "2025-06-14T05:46:17.962957Z"
    }
   },
   "cell_type": "code",
   "source": [
    "for a in [1, 2, 3, 4]:\n",
    "    print(square_number1(a))"
   ],
   "id": "3e58e5045b20eb58",
   "outputs": [
    {
     "name": "stdout",
     "output_type": "stream",
     "text": [
      "1\n",
      "4\n",
      "9\n",
      "16\n"
     ]
    }
   ],
   "execution_count": 44
  },
  {
   "metadata": {},
   "cell_type": "markdown",
   "source": "MAP function:",
   "id": "e16a3b9b33bd368b"
  },
  {
   "metadata": {
    "ExecuteTime": {
     "end_time": "2025-06-14T05:48:48.220804Z",
     "start_time": "2025-06-14T05:48:48.212775Z"
    }
   },
   "cell_type": "code",
   "source": "tuple(map(square_number1, [1, 2, 3, 4]))",
   "id": "a3bbae251e6c665b",
   "outputs": [
    {
     "data": {
      "text/plain": [
       "(1, 4, 9, 16)"
      ]
     },
     "execution_count": 46,
     "metadata": {},
     "output_type": "execute_result"
    }
   ],
   "execution_count": 46
  },
  {
   "metadata": {
    "ExecuteTime": {
     "end_time": "2025-06-14T05:49:02.090661Z",
     "start_time": "2025-06-14T05:49:02.080244Z"
    }
   },
   "cell_type": "code",
   "source": "list(map(square_number1, [1, 2, 3, 4]))",
   "id": "e9dc2b02d4d08650",
   "outputs": [
    {
     "data": {
      "text/plain": [
       "[1, 4, 9, 16]"
      ]
     },
     "execution_count": 47,
     "metadata": {},
     "output_type": "execute_result"
    }
   ],
   "execution_count": 47
  },
  {
   "metadata": {
    "ExecuteTime": {
     "end_time": "2025-06-14T05:49:53.505483Z",
     "start_time": "2025-06-14T05:49:53.497503Z"
    }
   },
   "cell_type": "code",
   "source": "map(square_number, [1, 2, 3, 4])",
   "id": "4d6bec0008b3dc8b",
   "outputs": [
    {
     "data": {
      "text/plain": [
       "<map at 0x23db87e29b0>"
      ]
     },
     "execution_count": 48,
     "metadata": {},
     "output_type": "execute_result"
    }
   ],
   "execution_count": 48
  },
  {
   "metadata": {
    "ExecuteTime": {
     "end_time": "2025-06-14T05:50:05.409435Z",
     "start_time": "2025-06-14T05:50:05.379853Z"
    }
   },
   "cell_type": "code",
   "source": "list(map(square_number, [1, 2, 3, 4]))",
   "id": "8579b11a79c5f415",
   "outputs": [
    {
     "ename": "TypeError",
     "evalue": "'int' object is not iterable",
     "output_type": "error",
     "traceback": [
      "\u001B[1;31m---------------------------------------------------------------------------\u001B[0m",
      "\u001B[1;31mTypeError\u001B[0m                                 Traceback (most recent call last)",
      "Cell \u001B[1;32mIn[49], line 1\u001B[0m\n\u001B[1;32m----> 1\u001B[0m \u001B[38;5;28;43mlist\u001B[39;49m\u001B[43m(\u001B[49m\u001B[38;5;28;43mmap\u001B[39;49m\u001B[43m(\u001B[49m\u001B[43msquare_number\u001B[49m\u001B[43m,\u001B[49m\u001B[43m \u001B[49m\u001B[43m[\u001B[49m\u001B[38;5;241;43m1\u001B[39;49m\u001B[43m,\u001B[49m\u001B[43m \u001B[49m\u001B[38;5;241;43m2\u001B[39;49m\u001B[43m,\u001B[49m\u001B[43m \u001B[49m\u001B[38;5;241;43m3\u001B[39;49m\u001B[43m,\u001B[49m\u001B[43m \u001B[49m\u001B[38;5;241;43m4\u001B[39;49m\u001B[43m]\u001B[49m\u001B[43m)\u001B[49m\u001B[43m)\u001B[49m\n",
      "Cell \u001B[1;32mIn[41], line 2\u001B[0m, in \u001B[0;36msquare_number\u001B[1;34m(numbers)\u001B[0m\n\u001B[0;32m      1\u001B[0m \u001B[38;5;28;01mdef\u001B[39;00m \u001B[38;5;21msquare_number\u001B[39m(numbers):\n\u001B[1;32m----> 2\u001B[0m \u001B[43m    \u001B[49m\u001B[38;5;28;43;01mfor\u001B[39;49;00m\u001B[43m \u001B[49m\u001B[43ma\u001B[49m\u001B[43m \u001B[49m\u001B[38;5;129;43;01min\u001B[39;49;00m\u001B[43m \u001B[49m\u001B[43mnumbers\u001B[49m\u001B[43m:\u001B[49m\n\u001B[0;32m      3\u001B[0m \u001B[43m        \u001B[49m\u001B[38;5;28;43mprint\u001B[39;49m\u001B[43m(\u001B[49m\u001B[43ma\u001B[49m\u001B[43m \u001B[49m\u001B[38;5;241;43m*\u001B[39;49m\u001B[38;5;241;43m*\u001B[39;49m\u001B[43m \u001B[49m\u001B[38;5;241;43m2\u001B[39;49m\u001B[43m)\u001B[49m\n",
      "\u001B[1;31mTypeError\u001B[0m: 'int' object is not iterable"
     ]
    }
   ],
   "execution_count": 49
  },
  {
   "metadata": {},
   "cell_type": "markdown",
   "source": "Filter Function",
   "id": "99f6f22d76206cce"
  },
  {
   "metadata": {
    "ExecuteTime": {
     "end_time": "2025-06-14T05:51:36.735671Z",
     "start_time": "2025-06-14T05:51:36.729034Z"
    }
   },
   "cell_type": "code",
   "source": [
    "def check_even(number):\n",
    "    if number % 2 == 0:\n",
    "        print(number)"
   ],
   "id": "634f669b5c87a585",
   "outputs": [],
   "execution_count": 50
  },
  {
   "metadata": {
    "ExecuteTime": {
     "end_time": "2025-06-14T05:51:55.290662Z",
     "start_time": "2025-06-14T05:51:55.283245Z"
    }
   },
   "cell_type": "code",
   "source": [
    "for a in [1, 2, 3, 4, 5]:\n",
    "    check_even(a)"
   ],
   "id": "ab4aea29e07aa56a",
   "outputs": [
    {
     "name": "stdout",
     "output_type": "stream",
     "text": [
      "2\n",
      "4\n"
     ]
    }
   ],
   "execution_count": 51
  },
  {
   "metadata": {
    "ExecuteTime": {
     "end_time": "2025-06-14T05:52:06.592377Z",
     "start_time": "2025-06-14T05:52:06.583170Z"
    }
   },
   "cell_type": "code",
   "source": "list(filter(check_even, [1, 2, 3, 4, 5]))",
   "id": "dd05ac3af563c061",
   "outputs": [
    {
     "name": "stdout",
     "output_type": "stream",
     "text": [
      "2\n",
      "4\n"
     ]
    },
    {
     "data": {
      "text/plain": [
       "[]"
      ]
     },
     "execution_count": 52,
     "metadata": {},
     "output_type": "execute_result"
    }
   ],
   "execution_count": 52
  },
  {
   "metadata": {
    "ExecuteTime": {
     "end_time": "2025-06-14T05:52:52.555236Z",
     "start_time": "2025-06-14T05:52:52.548012Z"
    }
   },
   "cell_type": "code",
   "source": [
    "def check_even(number):\n",
    "    if number % 2 == 0:\n",
    "        return number"
   ],
   "id": "ce65976705df43ec",
   "outputs": [],
   "execution_count": 53
  },
  {
   "metadata": {
    "ExecuteTime": {
     "end_time": "2025-06-14T05:52:57.288030Z",
     "start_time": "2025-06-14T05:52:57.279550Z"
    }
   },
   "cell_type": "code",
   "source": "list(filter(check_even, [1, 2, 3, 4, 5]))",
   "id": "2126b698dd3657c0",
   "outputs": [
    {
     "data": {
      "text/plain": [
       "[2, 4]"
      ]
     },
     "execution_count": 54,
     "metadata": {},
     "output_type": "execute_result"
    }
   ],
   "execution_count": 54
  },
  {
   "metadata": {},
   "cell_type": "code",
   "outputs": [],
   "execution_count": null,
   "source": "",
   "id": "6b6cd03ba8e70b7c"
  }
 ],
 "metadata": {
  "kernelspec": {
   "display_name": "Python 3",
   "language": "python",
   "name": "python3"
  },
  "language_info": {
   "codemirror_mode": {
    "name": "ipython",
    "version": 2
   },
   "file_extension": ".py",
   "mimetype": "text/x-python",
   "name": "python",
   "nbconvert_exporter": "python",
   "pygments_lexer": "ipython2",
   "version": "2.7.6"
  }
 },
 "nbformat": 4,
 "nbformat_minor": 5
}
