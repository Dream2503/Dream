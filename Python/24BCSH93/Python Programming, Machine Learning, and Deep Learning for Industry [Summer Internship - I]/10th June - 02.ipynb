{
 "cells": [
  {
   "metadata": {},
   "cell_type": "markdown",
   "source": "Strings",
   "id": "e4a8fc14402c85c8"
  },
  {
   "metadata": {},
   "cell_type": "markdown",
   "source": "It is an ordered sequence, that means it supports indexing and slicing",
   "id": "9e4fd3a86ab3518a"
  },
  {
   "cell_type": "code",
   "id": "initial_id",
   "metadata": {
    "collapsed": true,
    "ExecuteTime": {
     "end_time": "2025-06-30T14:50:44.349283Z",
     "start_time": "2025-06-30T14:50:44.328891Z"
    }
   },
   "source": "a = \"silicon\"",
   "outputs": [],
   "execution_count": 1
  },
  {
   "metadata": {},
   "cell_type": "markdown",
   "source": "Indexing",
   "id": "50f9427261d731ac"
  },
  {
   "cell_type": "code",
   "id": "ee3214d2f295e01a",
   "metadata": {
    "ExecuteTime": {
     "end_time": "2025-06-30T14:50:45.392077Z",
     "start_time": "2025-06-30T14:50:45.385053Z"
    }
   },
   "source": "a[0]",
   "outputs": [
    {
     "data": {
      "text/plain": [
       "'s'"
      ]
     },
     "execution_count": 2,
     "metadata": {},
     "output_type": "execute_result"
    }
   ],
   "execution_count": 2
  },
  {
   "metadata": {
    "ExecuteTime": {
     "end_time": "2025-06-30T14:50:45.923404Z",
     "start_time": "2025-06-30T14:50:45.913853Z"
    }
   },
   "cell_type": "code",
   "source": "a[-1]",
   "id": "209431867ef05bc8",
   "outputs": [
    {
     "data": {
      "text/plain": [
       "'n'"
      ]
     },
     "execution_count": 3,
     "metadata": {},
     "output_type": "execute_result"
    }
   ],
   "execution_count": 3
  },
  {
   "metadata": {},
   "cell_type": "markdown",
   "source": "Slicing",
   "id": "ea373f7559d06ccd"
  },
  {
   "metadata": {
    "ExecuteTime": {
     "end_time": "2025-06-30T14:50:46.737007Z",
     "start_time": "2025-06-30T14:50:46.726450Z"
    }
   },
   "cell_type": "code",
   "source": "a[::]",
   "id": "3b8e4508f7795ca8",
   "outputs": [
    {
     "data": {
      "text/plain": [
       "'silicon'"
      ]
     },
     "execution_count": 4,
     "metadata": {},
     "output_type": "execute_result"
    }
   ],
   "execution_count": 4
  },
  {
   "metadata": {
    "ExecuteTime": {
     "end_time": "2025-06-30T14:50:47.174631Z",
     "start_time": "2025-06-30T14:50:47.166606Z"
    }
   },
   "cell_type": "code",
   "source": "a[::-1]  # Reversing a string",
   "id": "27bfb8ddb4139a8e",
   "outputs": [
    {
     "data": {
      "text/plain": [
       "'nocilis'"
      ]
     },
     "execution_count": 5,
     "metadata": {},
     "output_type": "execute_result"
    }
   ],
   "execution_count": 5
  },
  {
   "metadata": {
    "ExecuteTime": {
     "end_time": "2025-06-30T14:50:47.626173Z",
     "start_time": "2025-06-30T14:50:47.609473Z"
    }
   },
   "cell_type": "code",
   "source": "a[0::-1]",
   "id": "7e4aaaa3cfdd4d6e",
   "outputs": [
    {
     "data": {
      "text/plain": [
       "'s'"
      ]
     },
     "execution_count": 6,
     "metadata": {},
     "output_type": "execute_result"
    }
   ],
   "execution_count": 6
  },
  {
   "metadata": {
    "ExecuteTime": {
     "end_time": "2025-06-30T14:50:48.003546Z",
     "start_time": "2025-06-30T14:50:47.991817Z"
    }
   },
   "cell_type": "code",
   "source": "a[-7::-1]",
   "id": "8e6a9f671ccdeba4",
   "outputs": [
    {
     "data": {
      "text/plain": [
       "'s'"
      ]
     },
     "execution_count": 7,
     "metadata": {},
     "output_type": "execute_result"
    }
   ],
   "execution_count": 7
  },
  {
   "metadata": {},
   "cell_type": "markdown",
   "source": "Properties of Strings",
   "id": "57de63875be04ce0"
  },
  {
   "metadata": {},
   "cell_type": "markdown",
   "source": "A] Strings are immutable: String does not support item assignment",
   "id": "3b104a3d951d5672"
  },
  {
   "metadata": {
    "ExecuteTime": {
     "end_time": "2025-06-30T14:50:49.148389Z",
     "start_time": "2025-06-30T14:50:49.138272Z"
    }
   },
   "cell_type": "code",
   "source": "a = \"RAM\"",
   "id": "e1cbfc83d27d7d69",
   "outputs": [],
   "execution_count": 8
  },
  {
   "metadata": {},
   "cell_type": "markdown",
   "source": "I should get SAM as output",
   "id": "36ccbbd2840b9fbc"
  },
  {
   "metadata": {
    "ExecuteTime": {
     "end_time": "2025-06-30T14:50:49.917181Z",
     "start_time": "2025-06-30T14:50:49.908504Z"
    }
   },
   "cell_type": "code",
   "source": "a[0]",
   "id": "9529d13a82c1df74",
   "outputs": [
    {
     "data": {
      "text/plain": [
       "'R'"
      ]
     },
     "execution_count": 9,
     "metadata": {},
     "output_type": "execute_result"
    }
   ],
   "execution_count": 9
  },
  {
   "metadata": {
    "ExecuteTime": {
     "end_time": "2025-06-30T14:50:50.803259Z",
     "start_time": "2025-06-30T14:50:50.267355Z"
    }
   },
   "cell_type": "code",
   "source": "a[0] = \"R\"",
   "id": "28dcc14ab6830497",
   "outputs": [
    {
     "ename": "TypeError",
     "evalue": "'str' object does not support item assignment",
     "output_type": "error",
     "traceback": [
      "\u001B[1;31m---------------------------------------------------------------------------\u001B[0m",
      "\u001B[1;31mTypeError\u001B[0m                                 Traceback (most recent call last)",
      "Cell \u001B[1;32mIn[10], line 1\u001B[0m\n\u001B[1;32m----> 1\u001B[0m \u001B[43ma\u001B[49m\u001B[43m[\u001B[49m\u001B[38;5;241;43m0\u001B[39;49m\u001B[43m]\u001B[49m \u001B[38;5;241m=\u001B[39m \u001B[38;5;124m\"\u001B[39m\u001B[38;5;124mR\u001B[39m\u001B[38;5;124m\"\u001B[39m\n",
      "\u001B[1;31mTypeError\u001B[0m: 'str' object does not support item assignment"
     ]
    }
   ],
   "execution_count": 10
  },
  {
   "metadata": {},
   "cell_type": "markdown",
   "source": "String concatenation",
   "id": "ba431ffeda5c90c"
  },
  {
   "metadata": {
    "ExecuteTime": {
     "end_time": "2025-06-30T14:50:51.789285Z",
     "start_time": "2025-06-30T14:50:51.779082Z"
    }
   },
   "cell_type": "code",
   "source": "print(\"S\" + a[1:])",
   "id": "15e90a924d3f4f1e",
   "outputs": [
    {
     "name": "stdout",
     "output_type": "stream",
     "text": [
      "SAM\n"
     ]
    }
   ],
   "execution_count": 11
  },
  {
   "metadata": {},
   "cell_type": "markdown",
   "source": "B] It do have some attributes and methods",
   "id": "f5ed2207d2981606"
  },
  {
   "metadata": {
    "ExecuteTime": {
     "end_time": "2025-06-30T14:50:52.885347Z",
     "start_time": "2025-06-30T14:50:52.873236Z"
    }
   },
   "cell_type": "code",
   "source": "a",
   "id": "f62957f724f666d6",
   "outputs": [
    {
     "data": {
      "text/plain": [
       "'RAM'"
      ]
     },
     "execution_count": 12,
     "metadata": {},
     "output_type": "execute_result"
    }
   ],
   "execution_count": 12
  },
  {
   "metadata": {
    "ExecuteTime": {
     "end_time": "2025-06-30T14:50:53.421242Z",
     "start_time": "2025-06-30T14:50:53.402536Z"
    }
   },
   "cell_type": "code",
   "source": "a = \"silicon\"",
   "id": "c9c07f5b739f06ba",
   "outputs": [],
   "execution_count": 13
  },
  {
   "metadata": {
    "ExecuteTime": {
     "end_time": "2025-06-30T14:50:53.830403Z",
     "start_time": "2025-06-30T14:50:53.814962Z"
    }
   },
   "cell_type": "code",
   "source": "a",
   "id": "f659c9fe9e6836a0",
   "outputs": [
    {
     "data": {
      "text/plain": [
       "'silicon'"
      ]
     },
     "execution_count": 14,
     "metadata": {},
     "output_type": "execute_result"
    }
   ],
   "execution_count": 14
  },
  {
   "metadata": {
    "ExecuteTime": {
     "end_time": "2025-06-30T14:50:54.251068Z",
     "start_time": "2025-06-30T14:50:54.231339Z"
    }
   },
   "cell_type": "code",
   "source": "type(a)",
   "id": "799c77e0a1c06bfc",
   "outputs": [
    {
     "data": {
      "text/plain": [
       "str"
      ]
     },
     "execution_count": 15,
     "metadata": {},
     "output_type": "execute_result"
    }
   ],
   "execution_count": 15
  },
  {
   "metadata": {
    "ExecuteTime": {
     "end_time": "2025-06-30T14:50:54.638969Z",
     "start_time": "2025-06-30T14:50:54.624701Z"
    }
   },
   "cell_type": "code",
   "source": "a.capitalize()",
   "id": "82652444e3358285",
   "outputs": [
    {
     "data": {
      "text/plain": [
       "'Silicon'"
      ]
     },
     "execution_count": 16,
     "metadata": {},
     "output_type": "execute_result"
    }
   ],
   "execution_count": 16
  },
  {
   "metadata": {
    "ExecuteTime": {
     "end_time": "2025-06-30T14:50:55.031151Z",
     "start_time": "2025-06-30T14:50:55.014490Z"
    }
   },
   "cell_type": "code",
   "source": [
    "a = \"silicon institute of technology\"\n",
    "a.capitalize()"
   ],
   "id": "830521a3e3c1abfc",
   "outputs": [
    {
     "data": {
      "text/plain": [
       "'Silicon institute of technology'"
      ]
     },
     "execution_count": 17,
     "metadata": {},
     "output_type": "execute_result"
    }
   ],
   "execution_count": 17
  },
  {
   "metadata": {
    "ExecuteTime": {
     "end_time": "2025-06-30T14:50:55.392795Z",
     "start_time": "2025-06-30T14:50:55.383635Z"
    }
   },
   "cell_type": "code",
   "source": "a.upper()",
   "id": "4a0e93ab5f9e4d44",
   "outputs": [
    {
     "data": {
      "text/plain": [
       "'SILICON INSTITUTE OF TECHNOLOGY'"
      ]
     },
     "execution_count": 18,
     "metadata": {},
     "output_type": "execute_result"
    }
   ],
   "execution_count": 18
  },
  {
   "metadata": {
    "ExecuteTime": {
     "end_time": "2025-06-30T14:50:55.769417Z",
     "start_time": "2025-06-30T14:50:55.762249Z"
    }
   },
   "cell_type": "code",
   "source": "b = a.split()",
   "id": "d69872f1ce8ac5cd",
   "outputs": [],
   "execution_count": 19
  },
  {
   "metadata": {
    "ExecuteTime": {
     "end_time": "2025-06-30T14:50:56.144246Z",
     "start_time": "2025-06-30T14:50:56.127507Z"
    }
   },
   "cell_type": "code",
   "source": "print(b)",
   "id": "577aa1997a696ceb",
   "outputs": [
    {
     "name": "stdout",
     "output_type": "stream",
     "text": [
      "['silicon', 'institute', 'of', 'technology']\n"
     ]
    }
   ],
   "execution_count": 20
  },
  {
   "metadata": {
    "ExecuteTime": {
     "end_time": "2025-06-30T14:50:56.550252Z",
     "start_time": "2025-06-30T14:50:56.533001Z"
    }
   },
   "cell_type": "code",
   "source": "type(b)",
   "id": "9fc062d2acc73e03",
   "outputs": [
    {
     "data": {
      "text/plain": [
       "list"
      ]
     },
     "execution_count": 21,
     "metadata": {},
     "output_type": "execute_result"
    }
   ],
   "execution_count": 21
  },
  {
   "metadata": {
    "ExecuteTime": {
     "end_time": "2025-06-30T14:50:56.895196Z",
     "start_time": "2025-06-30T14:50:56.878294Z"
    }
   },
   "cell_type": "code",
   "source": "b",
   "id": "b02ae8fc1455cfbe",
   "outputs": [
    {
     "data": {
      "text/plain": [
       "['silicon', 'institute', 'of', 'technology']"
      ]
     },
     "execution_count": 22,
     "metadata": {},
     "output_type": "execute_result"
    }
   ],
   "execution_count": 22
  },
  {
   "metadata": {
    "ExecuteTime": {
     "end_time": "2025-06-30T14:50:57.300245Z",
     "start_time": "2025-06-30T14:50:57.283903Z"
    }
   },
   "cell_type": "code",
   "source": "len(b)",
   "id": "9ffb114a2945018c",
   "outputs": [
    {
     "data": {
      "text/plain": [
       "4"
      ]
     },
     "execution_count": 23,
     "metadata": {},
     "output_type": "execute_result"
    }
   ],
   "execution_count": 23
  },
  {
   "metadata": {
    "ExecuteTime": {
     "end_time": "2025-06-30T14:50:57.645630Z",
     "start_time": "2025-06-30T14:50:57.638105Z"
    }
   },
   "cell_type": "code",
   "source": "len(a)",
   "id": "23d74253b39db99f",
   "outputs": [
    {
     "data": {
      "text/plain": [
       "31"
      ]
     },
     "execution_count": 24,
     "metadata": {},
     "output_type": "execute_result"
    }
   ],
   "execution_count": 24
  },
  {
   "metadata": {
    "ExecuteTime": {
     "end_time": "2025-06-30T14:50:58.052470Z",
     "start_time": "2025-06-30T14:50:58.043627Z"
    }
   },
   "cell_type": "code",
   "source": "b[0]",
   "id": "d714903b9271a3b9",
   "outputs": [
    {
     "data": {
      "text/plain": [
       "'silicon'"
      ]
     },
     "execution_count": 25,
     "metadata": {},
     "output_type": "execute_result"
    }
   ],
   "execution_count": 25
  },
  {
   "metadata": {
    "ExecuteTime": {
     "end_time": "2025-06-30T14:50:58.409653Z",
     "start_time": "2025-06-30T14:50:58.399552Z"
    }
   },
   "cell_type": "code",
   "source": "b[0].split(\"i\")",
   "id": "31e16f2e4743d0de",
   "outputs": [
    {
     "data": {
      "text/plain": [
       "['s', 'l', 'con']"
      ]
     },
     "execution_count": 26,
     "metadata": {},
     "output_type": "execute_result"
    }
   ],
   "execution_count": 26
  },
  {
   "metadata": {},
   "cell_type": "markdown",
   "source": "Printing a string:",
   "id": "946e9a867432c7e8"
  },
  {
   "metadata": {
    "ExecuteTime": {
     "end_time": "2025-06-30T14:50:59.175451Z",
     "start_time": "2025-06-30T14:50:59.166364Z"
    }
   },
   "cell_type": "code",
   "source": "print(\"Myself Swapnaraj,Student at Silicon University\")",
   "id": "432faeccaba14461",
   "outputs": [
    {
     "name": "stdout",
     "output_type": "stream",
     "text": [
      "Myself Swapnaraj,Student at Silicon University\n"
     ]
    }
   ],
   "execution_count": 27
  },
  {
   "metadata": {},
   "cell_type": "markdown",
   "source": "",
   "id": "12560c933dbc5b54"
  },
  {
   "metadata": {},
   "cell_type": "markdown",
   "source": "Formatting a string",
   "id": "b480729392b949be"
  },
  {
   "metadata": {},
   "cell_type": "markdown",
   "source": "A] .format method",
   "id": "6c7b5ec2f8d62cd1"
  },
  {
   "metadata": {
    "ExecuteTime": {
     "end_time": "2025-06-30T14:51:00.986925Z",
     "start_time": "2025-06-30T14:51:00.967714Z"
    }
   },
   "cell_type": "code",
   "source": "print(\"Myself {},{} at Silicon University\".format(\"Swapnaraj\", \"Student\"))",
   "id": "75307ede0d0f2c69",
   "outputs": [
    {
     "name": "stdout",
     "output_type": "stream",
     "text": [
      "Myself Swapnaraj,Student at Silicon University\n"
     ]
    }
   ],
   "execution_count": 28
  },
  {
   "metadata": {
    "ExecuteTime": {
     "end_time": "2025-06-30T14:51:01.519074Z",
     "start_time": "2025-06-30T14:51:01.501425Z"
    }
   },
   "cell_type": "code",
   "source": "print(\"Myself {},{} joined on {} at Silicon University\".format(\"Swapnaraj\", \"Student\", 2024))",
   "id": "149e526893f22d93",
   "outputs": [
    {
     "name": "stdout",
     "output_type": "stream",
     "text": [
      "Myself Swapnaraj,Student joined on 2024 at Silicon University\n"
     ]
    }
   ],
   "execution_count": 29
  },
  {
   "metadata": {
    "ExecuteTime": {
     "end_time": "2025-06-30T14:51:01.968513Z",
     "start_time": "2025-06-30T14:51:01.954092Z"
    }
   },
   "cell_type": "code",
   "source": "print(\"Myself {},{} joined on {} at Silicon University\".format(2024, \"Swapnaraj\", \"Student\"))",
   "id": "4452a60f1b61c316",
   "outputs": [
    {
     "name": "stdout",
     "output_type": "stream",
     "text": [
      "Myself 2024,Swapnaraj joined on Student at Silicon University\n"
     ]
    }
   ],
   "execution_count": 30
  },
  {
   "metadata": {
    "ExecuteTime": {
     "end_time": "2025-06-30T14:51:02.329402Z",
     "start_time": "2025-06-30T14:51:02.319247Z"
    }
   },
   "cell_type": "code",
   "source": "print(\"Myself {2},{1} joined on {0} at Silicon University\".format(2024, \"Swapnaraj\", \"Student\"))",
   "id": "3c69721311f56b51",
   "outputs": [
    {
     "name": "stdout",
     "output_type": "stream",
     "text": [
      "Myself Student,Swapnaraj joined on 2024 at Silicon University\n"
     ]
    }
   ],
   "execution_count": 31
  },
  {
   "metadata": {},
   "cell_type": "markdown",
   "source": "B] f-string(formatted string literals) formatting",
   "id": "b7ae4c8c9cc4a1e1"
  },
  {
   "metadata": {
    "ExecuteTime": {
     "end_time": "2025-06-30T14:51:22.704159Z",
     "start_time": "2025-06-30T14:51:22.693719Z"
    }
   },
   "cell_type": "code",
   "source": [
    "name = \"Swapnaraj\"\n",
    "design = \"Student\"\n",
    "year = 2009\n",
    "print(f\"Myself {name},{design} joined on {year} at Silicon University\")"
   ],
   "id": "485c881b304630e",
   "outputs": [
    {
     "name": "stdout",
     "output_type": "stream",
     "text": [
      "Myself Swapnaraj,Student joined on 2009 at Silicon University\n"
     ]
    }
   ],
   "execution_count": 32
  },
  {
   "metadata": {},
   "cell_type": "markdown",
   "source": "LIST",
   "id": "abf2e3c6f4aa81ee"
  },
  {
   "metadata": {},
   "cell_type": "markdown",
   "source": "It is an ordered sequence, which means it supports indexing and slicing",
   "id": "79942260a02afeb7"
  },
  {
   "metadata": {},
   "cell_type": "markdown",
   "source": "Indexing",
   "id": "ac9eec3001e4c437"
  },
  {
   "metadata": {
    "ExecuteTime": {
     "end_time": "2025-06-30T14:51:30.746380Z",
     "start_time": "2025-06-30T14:51:30.734228Z"
    }
   },
   "cell_type": "code",
   "source": "my_list = [\"Silicon\", 23, [1, \"Bhubaneswar\"], 30.2]",
   "id": "7a7f049805d16d57",
   "outputs": [],
   "execution_count": 33
  },
  {
   "metadata": {},
   "cell_type": "markdown",
   "source": "Q) WAP TO GRAB 1 from the list",
   "id": "7316ede62b641151"
  },
  {
   "metadata": {
    "ExecuteTime": {
     "end_time": "2025-06-30T14:51:32.589840Z",
     "start_time": "2025-06-30T14:51:32.570991Z"
    }
   },
   "cell_type": "code",
   "source": "my_list[0]",
   "id": "4ba6f3090e68f582",
   "outputs": [
    {
     "data": {
      "text/plain": [
       "'Silicon'"
      ]
     },
     "execution_count": 34,
     "metadata": {},
     "output_type": "execute_result"
    }
   ],
   "execution_count": 34
  },
  {
   "metadata": {
    "ExecuteTime": {
     "end_time": "2025-06-30T14:51:33.489514Z",
     "start_time": "2025-06-30T14:51:33.467817Z"
    }
   },
   "cell_type": "code",
   "source": "len(my_list)",
   "id": "e380f3eea20a7b80",
   "outputs": [
    {
     "data": {
      "text/plain": [
       "4"
      ]
     },
     "execution_count": 35,
     "metadata": {},
     "output_type": "execute_result"
    }
   ],
   "execution_count": 35
  },
  {
   "metadata": {
    "ExecuteTime": {
     "end_time": "2025-06-30T14:51:34.228891Z",
     "start_time": "2025-06-30T14:51:34.217288Z"
    }
   },
   "cell_type": "code",
   "source": "my_list",
   "id": "a8515ea586adaf3a",
   "outputs": [
    {
     "data": {
      "text/plain": [
       "['Silicon', 23, [1, 'Bhubaneswar'], 30.2]"
      ]
     },
     "execution_count": 36,
     "metadata": {},
     "output_type": "execute_result"
    }
   ],
   "execution_count": 36
  },
  {
   "metadata": {
    "ExecuteTime": {
     "end_time": "2025-06-30T14:51:34.907778Z",
     "start_time": "2025-06-30T14:51:34.888772Z"
    }
   },
   "cell_type": "code",
   "source": "new_list = my_list[2]",
   "id": "2e4fbbfddbb9da49",
   "outputs": [],
   "execution_count": 37
  },
  {
   "metadata": {
    "ExecuteTime": {
     "end_time": "2025-06-30T14:51:35.452657Z",
     "start_time": "2025-06-30T14:51:35.437362Z"
    }
   },
   "cell_type": "code",
   "source": "new_list",
   "id": "f1acd2454ca008f",
   "outputs": [
    {
     "data": {
      "text/plain": [
       "[1, 'Bhubaneswar']"
      ]
     },
     "execution_count": 38,
     "metadata": {},
     "output_type": "execute_result"
    }
   ],
   "execution_count": 38
  },
  {
   "metadata": {
    "ExecuteTime": {
     "end_time": "2025-06-30T14:51:35.940942Z",
     "start_time": "2025-06-30T14:51:35.921911Z"
    }
   },
   "cell_type": "code",
   "source": "new_list[0]",
   "id": "c81efae73bf52feb",
   "outputs": [
    {
     "data": {
      "text/plain": [
       "1"
      ]
     },
     "execution_count": 39,
     "metadata": {},
     "output_type": "execute_result"
    }
   ],
   "execution_count": 39
  },
  {
   "metadata": {
    "ExecuteTime": {
     "end_time": "2025-06-30T14:51:36.440922Z",
     "start_time": "2025-06-30T14:51:36.432Z"
    }
   },
   "cell_type": "code",
   "source": "my_list[2][0]",
   "id": "dd6ddb8970a842e5",
   "outputs": [
    {
     "data": {
      "text/plain": [
       "1"
      ]
     },
     "execution_count": 40,
     "metadata": {},
     "output_type": "execute_result"
    }
   ],
   "execution_count": 40
  },
  {
   "metadata": {},
   "cell_type": "markdown",
   "source": "Slicing",
   "id": "f70d6714079a8f63"
  },
  {
   "metadata": {
    "ExecuteTime": {
     "end_time": "2025-06-30T14:51:37.678702Z",
     "start_time": "2025-06-30T14:51:37.660037Z"
    }
   },
   "cell_type": "code",
   "source": "my_list",
   "id": "d1abe7409394ea25",
   "outputs": [
    {
     "data": {
      "text/plain": [
       "['Silicon', 23, [1, 'Bhubaneswar'], 30.2]"
      ]
     },
     "execution_count": 41,
     "metadata": {},
     "output_type": "execute_result"
    }
   ],
   "execution_count": 41
  },
  {
   "metadata": {
    "ExecuteTime": {
     "end_time": "2025-06-30T14:51:38.132716Z",
     "start_time": "2025-06-30T14:51:38.122233Z"
    }
   },
   "cell_type": "code",
   "source": "my_list[0:3]",
   "id": "a626a3005f2e8301",
   "outputs": [
    {
     "data": {
      "text/plain": [
       "['Silicon', 23, [1, 'Bhubaneswar']]"
      ]
     },
     "execution_count": 42,
     "metadata": {},
     "output_type": "execute_result"
    }
   ],
   "execution_count": 42
  },
  {
   "metadata": {},
   "cell_type": "markdown",
   "source": "Properties of LIST",
   "id": "af23e8114fba9a12"
  },
  {
   "metadata": {},
   "cell_type": "markdown",
   "source": "1. LIST are MUTABLE: ITEM reassignment",
   "id": "90af9266c54512be"
  },
  {
   "metadata": {
    "ExecuteTime": {
     "end_time": "2025-06-30T14:51:39.744050Z",
     "start_time": "2025-06-30T14:51:39.732965Z"
    }
   },
   "cell_type": "code",
   "source": "my_list = [2, 4, 5]",
   "id": "dd98bbdf50a0d942",
   "outputs": [],
   "execution_count": 43
  },
  {
   "metadata": {
    "ExecuteTime": {
     "end_time": "2025-06-30T14:51:40.181671Z",
     "start_time": "2025-06-30T14:51:40.163984Z"
    }
   },
   "cell_type": "code",
   "source": "my_list[0] = \"silicon\"",
   "id": "892e175760734aee",
   "outputs": [],
   "execution_count": 44
  },
  {
   "metadata": {
    "ExecuteTime": {
     "end_time": "2025-06-30T14:51:40.655812Z",
     "start_time": "2025-06-30T14:51:40.647614Z"
    }
   },
   "cell_type": "code",
   "source": "my_list",
   "id": "c999f422f84695b5",
   "outputs": [
    {
     "data": {
      "text/plain": [
       "['silicon', 4, 5]"
      ]
     },
     "execution_count": 45,
     "metadata": {},
     "output_type": "execute_result"
    }
   ],
   "execution_count": 45
  }
 ],
 "metadata": {
  "kernelspec": {
   "display_name": "Python 3",
   "language": "python",
   "name": "python3"
  },
  "language_info": {
   "codemirror_mode": {
    "name": "ipython",
    "version": 2
   },
   "file_extension": ".py",
   "mimetype": "text/x-python",
   "name": "python",
   "nbconvert_exporter": "python",
   "pygments_lexer": "ipython2",
   "version": "2.7.6"
  }
 },
 "nbformat": 4,
 "nbformat_minor": 5
}
