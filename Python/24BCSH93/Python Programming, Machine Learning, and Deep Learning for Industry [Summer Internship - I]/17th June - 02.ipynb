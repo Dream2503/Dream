{
 "cells": [
  {
   "metadata": {},
   "cell_type": "code",
   "outputs": [],
   "execution_count": null,
   "source": "",
   "id": "e2ec0299724f2909"
  },
  {
   "metadata": {},
   "cell_type": "markdown",
   "source": "Parent Class",
   "id": "d31fbfbcbe1d6b79"
  },
  {
   "cell_type": "code",
   "id": "initial_id",
   "metadata": {
    "collapsed": true,
    "ExecuteTime": {
     "end_time": "2025-06-17T10:05:09.299201Z",
     "start_time": "2025-06-17T10:05:09.291144Z"
    }
   },
   "source": [
    "class Silicon:\n",
    "    def __init__(self, name, sic):\n",
    "        self.name = name\n",
    "        self.sic = sic"
   ],
   "outputs": [],
   "execution_count": 1
  },
  {
   "metadata": {},
   "cell_type": "markdown",
   "source": "Child Class",
   "id": "b9cb58ab2bf79e55"
  },
  {
   "metadata": {
    "ExecuteTime": {
     "end_time": "2025-06-17T10:05:10.388268Z",
     "start_time": "2025-06-17T10:05:10.382889Z"
    }
   },
   "cell_type": "code",
   "source": [
    "class Student(Silicon):\n",
    "    pass"
   ],
   "id": "2e2f254a450ca4e0",
   "outputs": [],
   "execution_count": 2
  },
  {
   "metadata": {
    "ExecuteTime": {
     "end_time": "2025-06-17T10:05:11.360505Z",
     "start_time": "2025-06-17T10:05:10.985784Z"
    }
   },
   "cell_type": "code",
   "source": "a = Student()",
   "id": "fd3ecc5a16eca10d",
   "outputs": [
    {
     "ename": "TypeError",
     "evalue": "Silicon.__init__() missing 2 required positional arguments: 'name' and 'sic'",
     "output_type": "error",
     "traceback": [
      "\u001B[1;31m---------------------------------------------------------------------------\u001B[0m",
      "\u001B[1;31mTypeError\u001B[0m                                 Traceback (most recent call last)",
      "Cell \u001B[1;32mIn[3], line 1\u001B[0m\n\u001B[1;32m----> 1\u001B[0m a \u001B[38;5;241m=\u001B[39m \u001B[43mStudent\u001B[49m\u001B[43m(\u001B[49m\u001B[43m)\u001B[49m\n",
      "\u001B[1;31mTypeError\u001B[0m: Silicon.__init__() missing 2 required positional arguments: 'name' and 'sic'"
     ]
    }
   ],
   "execution_count": 3
  },
  {
   "metadata": {
    "ExecuteTime": {
     "end_time": "2025-06-17T10:05:12.196488Z",
     "start_time": "2025-06-17T10:05:12.189945Z"
    }
   },
   "cell_type": "code",
   "source": "a = Student(\"Ram\", 222)",
   "id": "b59694660d9c23a7",
   "outputs": [],
   "execution_count": 4
  },
  {
   "metadata": {
    "ExecuteTime": {
     "end_time": "2025-06-17T10:05:12.686160Z",
     "start_time": "2025-06-17T10:05:12.675060Z"
    }
   },
   "cell_type": "code",
   "source": "a.name",
   "id": "d69ac407d9400ead",
   "outputs": [
    {
     "data": {
      "text/plain": [
       "'Ram'"
      ]
     },
     "execution_count": 5,
     "metadata": {},
     "output_type": "execute_result"
    }
   ],
   "execution_count": 5
  },
  {
   "metadata": {},
   "cell_type": "markdown",
   "source": "Parent Class",
   "id": "19e7c6f27f7d9657"
  },
  {
   "metadata": {
    "collapsed": true,
    "ExecuteTime": {
     "end_time": "2025-06-17T10:05:13.913440Z",
     "start_time": "2025-06-17T10:05:13.907553Z"
    }
   },
   "cell_type": "code",
   "source": [
    "class Silicon:\n",
    "    def __init__(self, name, sic):\n",
    "        self.name = name\n",
    "        self.sic = sic"
   ],
   "id": "3fb451ab1845ad62",
   "outputs": [],
   "execution_count": 6
  },
  {
   "metadata": {},
   "cell_type": "markdown",
   "source": "Child Class",
   "id": "4b6697ba85c63dd3"
  },
  {
   "metadata": {
    "ExecuteTime": {
     "end_time": "2025-06-17T10:05:15.154337Z",
     "start_time": "2025-06-17T10:05:15.148772Z"
    }
   },
   "cell_type": "code",
   "source": [
    "class Student(Silicon):\n",
    "    def __init__(self, year_admission):\n",
    "        self.year_admission = year_admission"
   ],
   "id": "5ba7dfb8e38041fd",
   "outputs": [],
   "execution_count": 7
  },
  {
   "metadata": {
    "ExecuteTime": {
     "end_time": "2025-06-17T10:05:15.838882Z",
     "start_time": "2025-06-17T10:05:15.819819Z"
    }
   },
   "cell_type": "code",
   "source": "b = Student()",
   "id": "7756ba4abf9b90d5",
   "outputs": [
    {
     "ename": "TypeError",
     "evalue": "Student.__init__() missing 1 required positional argument: 'year_admission'",
     "output_type": "error",
     "traceback": [
      "\u001B[1;31m---------------------------------------------------------------------------\u001B[0m",
      "\u001B[1;31mTypeError\u001B[0m                                 Traceback (most recent call last)",
      "Cell \u001B[1;32mIn[8], line 1\u001B[0m\n\u001B[1;32m----> 1\u001B[0m b \u001B[38;5;241m=\u001B[39m \u001B[43mStudent\u001B[49m\u001B[43m(\u001B[49m\u001B[43m)\u001B[49m\n",
      "\u001B[1;31mTypeError\u001B[0m: Student.__init__() missing 1 required positional argument: 'year_admission'"
     ]
    }
   ],
   "execution_count": 8
  },
  {
   "metadata": {
    "ExecuteTime": {
     "end_time": "2025-06-17T10:05:16.512995Z",
     "start_time": "2025-06-17T10:05:16.506638Z"
    }
   },
   "cell_type": "code",
   "source": "b = Student(2025)",
   "id": "c149de5cba422406",
   "outputs": [],
   "execution_count": 9
  },
  {
   "metadata": {
    "ExecuteTime": {
     "end_time": "2025-06-17T10:05:17.180412Z",
     "start_time": "2025-06-17T10:05:17.174556Z"
    }
   },
   "cell_type": "code",
   "source": "b.year_admission",
   "id": "726ee2e7195acba1",
   "outputs": [
    {
     "data": {
      "text/plain": [
       "2025"
      ]
     },
     "execution_count": 10,
     "metadata": {},
     "output_type": "execute_result"
    }
   ],
   "execution_count": 10
  },
  {
   "metadata": {},
   "cell_type": "markdown",
   "source": "Parent Class",
   "id": "6033f01a3030eea0"
  },
  {
   "metadata": {
    "collapsed": true,
    "ExecuteTime": {
     "end_time": "2025-06-17T10:05:18.499462Z",
     "start_time": "2025-06-17T10:05:18.491720Z"
    }
   },
   "cell_type": "code",
   "source": [
    "class Silicon:\n",
    "    college = \"Silicon University\"\n",
    "\n",
    "    def __init__(self, name, sic):\n",
    "        self.name = name\n",
    "        self.sic = sic\n",
    "\n",
    "    def display(self):\n",
    "        print(\"Am in parent Class\")"
   ],
   "id": "7238a3b6a5771140",
   "outputs": [],
   "execution_count": 11
  },
  {
   "metadata": {
    "ExecuteTime": {
     "end_time": "2025-06-17T10:05:19.151628Z",
     "start_time": "2025-06-17T10:05:19.145840Z"
    }
   },
   "cell_type": "code",
   "source": "a = Silicon(\"Ram\", 123)",
   "id": "a5f757f0587c8489",
   "outputs": [],
   "execution_count": 12
  },
  {
   "metadata": {
    "ExecuteTime": {
     "end_time": "2025-06-17T10:05:19.813717Z",
     "start_time": "2025-06-17T10:05:19.808727Z"
    }
   },
   "cell_type": "code",
   "source": "a.display()",
   "id": "1d9520fbd656dd29",
   "outputs": [
    {
     "name": "stdout",
     "output_type": "stream",
     "text": [
      "Am in parent Class\n"
     ]
    }
   ],
   "execution_count": 13
  },
  {
   "metadata": {},
   "cell_type": "markdown",
   "source": "Child Class",
   "id": "285b50813658e68f"
  },
  {
   "metadata": {
    "ExecuteTime": {
     "end_time": "2025-06-17T10:05:21.159399Z",
     "start_time": "2025-06-17T10:05:21.152837Z"
    }
   },
   "cell_type": "code",
   "source": [
    "class Student(Silicon):\n",
    "    def __init__(self, year_admission):\n",
    "        self.year_admission = year_admission"
   ],
   "id": "7ef2e4756277e578",
   "outputs": [],
   "execution_count": 14
  },
  {
   "metadata": {
    "ExecuteTime": {
     "end_time": "2025-06-17T10:05:21.855731Z",
     "start_time": "2025-06-17T10:05:21.848684Z"
    }
   },
   "cell_type": "code",
   "source": "b = Student(2025)",
   "id": "48d86ee7aa69a40c",
   "outputs": [],
   "execution_count": 15
  },
  {
   "metadata": {
    "ExecuteTime": {
     "end_time": "2025-06-17T10:05:22.490314Z",
     "start_time": "2025-06-17T10:05:22.483595Z"
    }
   },
   "cell_type": "code",
   "source": "b.display()",
   "id": "5c9c04bc8d9637b8",
   "outputs": [
    {
     "name": "stdout",
     "output_type": "stream",
     "text": [
      "Am in parent Class\n"
     ]
    }
   ],
   "execution_count": 16
  },
  {
   "metadata": {},
   "cell_type": "markdown",
   "source": "Objective is to use init method from the parent class",
   "id": "8db43ecdbc939e77"
  },
  {
   "metadata": {},
   "cell_type": "markdown",
   "source": "Solution 1: Using parent classname",
   "id": "3a7be29cf8ef2b63"
  },
  {
   "metadata": {},
   "cell_type": "markdown",
   "source": "Parent Class",
   "id": "e2488536aac492f4"
  },
  {
   "metadata": {
    "ExecuteTime": {
     "end_time": "2025-06-17T10:05:24.888657Z",
     "start_time": "2025-06-17T10:05:24.881706Z"
    }
   },
   "cell_type": "code",
   "source": [
    "class Silicon:\n",
    "    college = \"Silicon University\"\n",
    "\n",
    "    def __init__(self, name, sic):\n",
    "        self.name = name\n",
    "        self.sic = sic\n",
    "\n",
    "    def display(self):\n",
    "        print(\"Am in parent Class\")"
   ],
   "id": "8140f9e4500e3b20",
   "outputs": [],
   "execution_count": 17
  },
  {
   "metadata": {},
   "cell_type": "markdown",
   "source": "Child Class",
   "id": "5837b08c37a53cbe"
  },
  {
   "metadata": {
    "ExecuteTime": {
     "end_time": "2025-06-17T10:05:26.592326Z",
     "start_time": "2025-06-17T10:05:26.586618Z"
    }
   },
   "cell_type": "code",
   "source": [
    "class Student(Silicon):\n",
    "    def __init__(self, name, sic, year_admission):\n",
    "        Silicon.__init__(self, name, sic)\n",
    "        self.year_admission = year_admission"
   ],
   "id": "8c972d17753df01c",
   "outputs": [],
   "execution_count": 18
  },
  {
   "metadata": {
    "ExecuteTime": {
     "end_time": "2025-06-17T10:05:27.167860Z",
     "start_time": "2025-06-17T10:05:27.162063Z"
    }
   },
   "cell_type": "code",
   "source": "b = Student(\"Ram\", 222, 2025)",
   "id": "f17bae8f90754776",
   "outputs": [],
   "execution_count": 19
  },
  {
   "metadata": {},
   "cell_type": "markdown",
   "source": "Solution 2: using super()",
   "id": "7cfda1db8a5fb00f"
  },
  {
   "metadata": {},
   "cell_type": "markdown",
   "source": "Child Class",
   "id": "5445327e92099bdb"
  },
  {
   "metadata": {
    "ExecuteTime": {
     "end_time": "2025-06-17T10:05:29.026330Z",
     "start_time": "2025-06-17T10:05:29.020957Z"
    }
   },
   "cell_type": "code",
   "source": [
    "class Student(Silicon):\n",
    "    def __init__(self, name, sic, year_admission):\n",
    "        super().__init__(name, sic)\n",
    "        self.year_admission = year_admission"
   ],
   "id": "332b3552c20799ad",
   "outputs": [],
   "execution_count": 20
  },
  {
   "metadata": {
    "ExecuteTime": {
     "end_time": "2025-06-17T10:05:29.552945Z",
     "start_time": "2025-06-17T10:05:29.548701Z"
    }
   },
   "cell_type": "code",
   "source": "xyz = Student(\"Shyam\", 220, 2024)",
   "id": "e1fb29bd310e77fa",
   "outputs": [],
   "execution_count": 21
  },
  {
   "metadata": {
    "ExecuteTime": {
     "end_time": "2025-06-17T10:05:30.161578Z",
     "start_time": "2025-06-17T10:05:30.155540Z"
    }
   },
   "cell_type": "code",
   "source": "xyz.display()",
   "id": "f73870fe337413f0",
   "outputs": [
    {
     "name": "stdout",
     "output_type": "stream",
     "text": [
      "Am in parent Class\n"
     ]
    }
   ],
   "execution_count": 22
  },
  {
   "metadata": {},
   "cell_type": "markdown",
   "source": "Let's say you don't want to inherit some attributes from the parent class that is been initialised",
   "id": "5e84b1ea5691e822"
  },
  {
   "metadata": {},
   "cell_type": "markdown",
   "source": "Parent Class",
   "id": "56fb953527df0556"
  },
  {
   "metadata": {
    "ExecuteTime": {
     "end_time": "2025-06-17T10:05:31.748239Z",
     "start_time": "2025-06-17T10:05:31.740844Z"
    }
   },
   "cell_type": "code",
   "source": [
    "class Silicon:\n",
    "    college = \"Silicon University\"\n",
    "\n",
    "    def __init__(self, name, sic=None):\n",
    "        self.name = name\n",
    "        self.sic = sic\n",
    "\n",
    "    def display(self):\n",
    "        print(\"Am in parent Class\")"
   ],
   "id": "6ab00c137c5800e",
   "outputs": [],
   "execution_count": 23
  },
  {
   "metadata": {},
   "cell_type": "markdown",
   "source": "Child Class",
   "id": "8aa4e8d7e4da1580"
  },
  {
   "metadata": {
    "ExecuteTime": {
     "end_time": "2025-06-17T10:05:33.260692Z",
     "start_time": "2025-06-17T10:05:33.254666Z"
    }
   },
   "cell_type": "code",
   "source": [
    "class Student(Silicon):\n",
    "    def __init__(self, name, year_admission, sic=None):\n",
    "        super().__init__(name, sic)\n",
    "        self.year_admission = year_admission"
   ],
   "id": "54549313bbac7616",
   "outputs": [],
   "execution_count": 24
  },
  {
   "metadata": {
    "ExecuteTime": {
     "end_time": "2025-06-17T10:05:33.821722Z",
     "start_time": "2025-06-17T10:05:33.816643Z"
    }
   },
   "cell_type": "code",
   "source": "abc = Student(\"Hari\", 2025)",
   "id": "a342edaf121c0b4d",
   "outputs": [],
   "execution_count": 25
  },
  {
   "metadata": {
    "ExecuteTime": {
     "end_time": "2025-06-17T10:05:34.382550Z",
     "start_time": "2025-06-17T10:05:34.376494Z"
    }
   },
   "cell_type": "code",
   "source": "abc.sic",
   "id": "b37379c3e0a7ff85",
   "outputs": [],
   "execution_count": 26
  },
  {
   "metadata": {
    "ExecuteTime": {
     "end_time": "2025-06-17T10:05:35.019425Z",
     "start_time": "2025-06-17T10:05:35.013104Z"
    }
   },
   "cell_type": "code",
   "source": "abc.college",
   "id": "5684b639df96c36e",
   "outputs": [
    {
     "data": {
      "text/plain": [
       "'Silicon University'"
      ]
     },
     "execution_count": 27,
     "metadata": {},
     "output_type": "execute_result"
    }
   ],
   "execution_count": 27
  }
 ],
 "metadata": {
  "kernelspec": {
   "display_name": "Python 3",
   "language": "python",
   "name": "python3"
  },
  "language_info": {
   "codemirror_mode": {
    "name": "ipython",
    "version": 2
   },
   "file_extension": ".py",
   "mimetype": "text/x-python",
   "name": "python",
   "nbconvert_exporter": "python",
   "pygments_lexer": "ipython2",
   "version": "2.7.6"
  }
 },
 "nbformat": 4,
 "nbformat_minor": 5
}
