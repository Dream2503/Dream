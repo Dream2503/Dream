{
 "cells": [
  {
   "metadata": {},
   "cell_type": "markdown",
   "source": "Parent Class",
   "id": "d31fbfbcbe1d6b79"
  },
  {
   "cell_type": "code",
   "id": "initial_id",
   "metadata": {
    "collapsed": true,
    "ExecuteTime": {
     "end_time": "2025-06-30T23:25:10.427227Z",
     "start_time": "2025-06-30T23:25:10.422521Z"
    }
   },
   "source": [
    "class Silicon:\n",
    "    def __init__(self, name, sic):\n",
    "        self.name = name\n",
    "        self.sic = sic"
   ],
   "outputs": [],
   "execution_count": 1
  },
  {
   "metadata": {},
   "cell_type": "markdown",
   "source": "Child Class",
   "id": "b9cb58ab2bf79e55"
  },
  {
   "metadata": {
    "ExecuteTime": {
     "end_time": "2025-06-30T23:25:11.508106Z",
     "start_time": "2025-06-30T23:25:11.500126Z"
    }
   },
   "cell_type": "code",
   "source": [
    "class Student(Silicon):\n",
    "    pass"
   ],
   "id": "2e2f254a450ca4e0",
   "outputs": [],
   "execution_count": 2
  },
  {
   "metadata": {
    "ExecuteTime": {
     "end_time": "2025-06-30T23:25:11.944150Z",
     "start_time": "2025-06-30T23:25:11.922724Z"
    }
   },
   "cell_type": "code",
   "source": "a = Student()",
   "id": "fd3ecc5a16eca10d",
   "outputs": [
    {
     "ename": "TypeError",
     "evalue": "Silicon.__init__() missing 2 required positional arguments: 'name' and 'sic'",
     "output_type": "error",
     "traceback": [
      "\u001B[0;31m---------------------------------------------------------------------------\u001B[0m",
      "\u001B[0;31mTypeError\u001B[0m                                 Traceback (most recent call last)",
      "Cell \u001B[0;32mIn[3], line 1\u001B[0m\n\u001B[0;32m----> 1\u001B[0m a \u001B[38;5;241m=\u001B[39m \u001B[43mStudent\u001B[49m\u001B[43m(\u001B[49m\u001B[43m)\u001B[49m\n",
      "\u001B[0;31mTypeError\u001B[0m: Silicon.__init__() missing 2 required positional arguments: 'name' and 'sic'"
     ]
    }
   ],
   "execution_count": 3
  },
  {
   "metadata": {
    "ExecuteTime": {
     "end_time": "2025-06-30T23:25:12.372564Z",
     "start_time": "2025-06-30T23:25:12.367784Z"
    }
   },
   "cell_type": "code",
   "source": "a = Student(\"Ram\", 222)",
   "id": "b59694660d9c23a7",
   "outputs": [],
   "execution_count": 4
  },
  {
   "metadata": {
    "ExecuteTime": {
     "end_time": "2025-06-30T23:25:12.876535Z",
     "start_time": "2025-06-30T23:25:12.864197Z"
    }
   },
   "cell_type": "code",
   "source": "a.name",
   "id": "d69ac407d9400ead",
   "outputs": [
    {
     "data": {
      "text/plain": [
       "'Ram'"
      ]
     },
     "execution_count": 5,
     "metadata": {},
     "output_type": "execute_result"
    }
   ],
   "execution_count": 5
  },
  {
   "metadata": {},
   "cell_type": "markdown",
   "source": "Parent Class",
   "id": "19e7c6f27f7d9657"
  },
  {
   "metadata": {
    "collapsed": true,
    "ExecuteTime": {
     "end_time": "2025-06-30T23:25:13.572691Z",
     "start_time": "2025-06-30T23:25:13.565349Z"
    }
   },
   "cell_type": "code",
   "source": [
    "class Silicon:\n",
    "    def __init__(self, name, sic):\n",
    "        self.name = name\n",
    "        self.sic = sic"
   ],
   "id": "3fb451ab1845ad62",
   "outputs": [],
   "execution_count": 6
  },
  {
   "metadata": {},
   "cell_type": "markdown",
   "source": "Child Class",
   "id": "4b6697ba85c63dd3"
  },
  {
   "metadata": {
    "ExecuteTime": {
     "end_time": "2025-06-30T23:25:14.221193Z",
     "start_time": "2025-06-30T23:25:14.217029Z"
    }
   },
   "cell_type": "code",
   "source": [
    "class Student(Silicon):\n",
    "    def __init__(self, year_admission):\n",
    "        self.year_admission = year_admission"
   ],
   "id": "5ba7dfb8e38041fd",
   "outputs": [],
   "execution_count": 7
  },
  {
   "metadata": {
    "ExecuteTime": {
     "end_time": "2025-06-30T23:25:14.476002Z",
     "start_time": "2025-06-30T23:25:14.458996Z"
    }
   },
   "cell_type": "code",
   "source": "b = Student()",
   "id": "7756ba4abf9b90d5",
   "outputs": [
    {
     "ename": "TypeError",
     "evalue": "Student.__init__() missing 1 required positional argument: 'year_admission'",
     "output_type": "error",
     "traceback": [
      "\u001B[0;31m---------------------------------------------------------------------------\u001B[0m",
      "\u001B[0;31mTypeError\u001B[0m                                 Traceback (most recent call last)",
      "Cell \u001B[0;32mIn[8], line 1\u001B[0m\n\u001B[0;32m----> 1\u001B[0m b \u001B[38;5;241m=\u001B[39m \u001B[43mStudent\u001B[49m\u001B[43m(\u001B[49m\u001B[43m)\u001B[49m\n",
      "\u001B[0;31mTypeError\u001B[0m: Student.__init__() missing 1 required positional argument: 'year_admission'"
     ]
    }
   ],
   "execution_count": 8
  },
  {
   "metadata": {
    "ExecuteTime": {
     "end_time": "2025-06-30T23:25:14.722997Z",
     "start_time": "2025-06-30T23:25:14.719859Z"
    }
   },
   "cell_type": "code",
   "source": "b = Student(2025)",
   "id": "c149de5cba422406",
   "outputs": [],
   "execution_count": 9
  },
  {
   "metadata": {
    "ExecuteTime": {
     "end_time": "2025-06-30T23:25:15.015636Z",
     "start_time": "2025-06-30T23:25:15.006231Z"
    }
   },
   "cell_type": "code",
   "source": "b.year_admission",
   "id": "726ee2e7195acba1",
   "outputs": [
    {
     "data": {
      "text/plain": [
       "2025"
      ]
     },
     "execution_count": 10,
     "metadata": {},
     "output_type": "execute_result"
    }
   ],
   "execution_count": 10
  },
  {
   "metadata": {},
   "cell_type": "markdown",
   "source": "Parent Class",
   "id": "6033f01a3030eea0"
  },
  {
   "metadata": {
    "collapsed": true,
    "ExecuteTime": {
     "end_time": "2025-06-30T23:25:15.572951Z",
     "start_time": "2025-06-30T23:25:15.565283Z"
    }
   },
   "cell_type": "code",
   "source": [
    "class Silicon:\n",
    "    college = \"Silicon University\"\n",
    "\n",
    "    def __init__(self, name, sic):\n",
    "        self.name = name\n",
    "        self.sic = sic\n",
    "\n",
    "    def display(self):\n",
    "        print(\"Am in parent Class\")"
   ],
   "id": "7238a3b6a5771140",
   "outputs": [],
   "execution_count": 11
  },
  {
   "metadata": {
    "ExecuteTime": {
     "end_time": "2025-06-30T23:25:15.883591Z",
     "start_time": "2025-06-30T23:25:15.877106Z"
    }
   },
   "cell_type": "code",
   "source": "a = Silicon(\"Ram\", 123)",
   "id": "a5f757f0587c8489",
   "outputs": [],
   "execution_count": 12
  },
  {
   "metadata": {
    "ExecuteTime": {
     "end_time": "2025-06-30T23:25:16.150112Z",
     "start_time": "2025-06-30T23:25:16.145997Z"
    }
   },
   "cell_type": "code",
   "source": "a.display()",
   "id": "1d9520fbd656dd29",
   "outputs": [
    {
     "name": "stdout",
     "output_type": "stream",
     "text": [
      "Am in parent Class\n"
     ]
    }
   ],
   "execution_count": 13
  },
  {
   "metadata": {},
   "cell_type": "markdown",
   "source": "Child Class",
   "id": "285b50813658e68f"
  },
  {
   "metadata": {
    "ExecuteTime": {
     "end_time": "2025-06-30T23:25:23.087276Z",
     "start_time": "2025-06-30T23:25:23.083216Z"
    }
   },
   "cell_type": "code",
   "source": [
    "class Student(Silicon):\n",
    "    def __init__(self, year_admission):\n",
    "        self.year_admission = year_admission"
   ],
   "id": "7ef2e4756277e578",
   "outputs": [],
   "execution_count": 17
  },
  {
   "metadata": {
    "ExecuteTime": {
     "end_time": "2025-06-30T23:25:23.438916Z",
     "start_time": "2025-06-30T23:25:23.432721Z"
    }
   },
   "cell_type": "code",
   "source": "b = Student(2025)",
   "id": "48d86ee7aa69a40c",
   "outputs": [],
   "execution_count": 18
  },
  {
   "metadata": {
    "ExecuteTime": {
     "end_time": "2025-06-30T23:25:24.762907Z",
     "start_time": "2025-06-30T23:25:24.756601Z"
    }
   },
   "cell_type": "code",
   "source": "b.display()",
   "id": "5c9c04bc8d9637b8",
   "outputs": [
    {
     "name": "stdout",
     "output_type": "stream",
     "text": [
      "Am in parent Class\n"
     ]
    }
   ],
   "execution_count": 19
  },
  {
   "metadata": {},
   "cell_type": "markdown",
   "source": "Objective is to use init method from the parent class",
   "id": "8db43ecdbc939e77"
  },
  {
   "metadata": {},
   "cell_type": "markdown",
   "source": "Solution 1: Using parent classname",
   "id": "3a7be29cf8ef2b63"
  },
  {
   "metadata": {},
   "cell_type": "markdown",
   "source": "Parent Class",
   "id": "e2488536aac492f4"
  },
  {
   "metadata": {
    "ExecuteTime": {
     "end_time": "2025-06-30T23:25:29.244972Z",
     "start_time": "2025-06-30T23:25:29.239916Z"
    }
   },
   "cell_type": "code",
   "source": [
    "class Silicon:\n",
    "    college = \"Silicon University\"\n",
    "\n",
    "    def __init__(self, name, sic):\n",
    "        self.name = name\n",
    "        self.sic = sic\n",
    "\n",
    "    def display(self):\n",
    "        print(\"Am in parent Class\")"
   ],
   "id": "8140f9e4500e3b20",
   "outputs": [],
   "execution_count": 21
  },
  {
   "metadata": {},
   "cell_type": "markdown",
   "source": "Child Class",
   "id": "5837b08c37a53cbe"
  },
  {
   "metadata": {
    "ExecuteTime": {
     "end_time": "2025-06-30T23:25:29.805502Z",
     "start_time": "2025-06-30T23:25:29.797171Z"
    }
   },
   "cell_type": "code",
   "source": [
    "class Student(Silicon):\n",
    "    def __init__(self, name, sic, year_admission):\n",
    "        Silicon.__init__(self, name, sic)\n",
    "        self.year_admission = year_admission"
   ],
   "id": "8c972d17753df01c",
   "outputs": [],
   "execution_count": 23
  },
  {
   "metadata": {
    "ExecuteTime": {
     "end_time": "2025-06-30T23:25:30.127014Z",
     "start_time": "2025-06-30T23:25:30.122762Z"
    }
   },
   "cell_type": "code",
   "source": "b = Student(\"Ram\", 222, 2025)",
   "id": "f17bae8f90754776",
   "outputs": [],
   "execution_count": 24
  },
  {
   "metadata": {},
   "cell_type": "markdown",
   "source": "Solution 2: using super()",
   "id": "7cfda1db8a5fb00f"
  },
  {
   "metadata": {},
   "cell_type": "markdown",
   "source": "Child Class",
   "id": "5445327e92099bdb"
  },
  {
   "metadata": {
    "ExecuteTime": {
     "end_time": "2025-06-30T23:25:31.048520Z",
     "start_time": "2025-06-30T23:25:31.043585Z"
    }
   },
   "cell_type": "code",
   "source": [
    "class Student(Silicon):\n",
    "    def __init__(self, name, sic, year_admission):\n",
    "        super().__init__(name, sic)\n",
    "        self.year_admission = year_admission"
   ],
   "id": "332b3552c20799ad",
   "outputs": [],
   "execution_count": 25
  },
  {
   "metadata": {
    "ExecuteTime": {
     "end_time": "2025-06-30T23:25:31.343760Z",
     "start_time": "2025-06-30T23:25:31.335772Z"
    }
   },
   "cell_type": "code",
   "source": "xyz = Student(\"Shyam\", 220, 2024)",
   "id": "e1fb29bd310e77fa",
   "outputs": [],
   "execution_count": 26
  },
  {
   "metadata": {
    "ExecuteTime": {
     "end_time": "2025-06-30T23:25:31.649883Z",
     "start_time": "2025-06-30T23:25:31.645833Z"
    }
   },
   "cell_type": "code",
   "source": "xyz.display()",
   "id": "f73870fe337413f0",
   "outputs": [
    {
     "name": "stdout",
     "output_type": "stream",
     "text": [
      "Am in parent Class\n"
     ]
    }
   ],
   "execution_count": 27
  },
  {
   "metadata": {},
   "cell_type": "markdown",
   "source": "Let's say you don't want to inherit some attributes from the parent class that is been initialised",
   "id": "5e84b1ea5691e822"
  },
  {
   "metadata": {},
   "cell_type": "markdown",
   "source": "Parent Class",
   "id": "56fb953527df0556"
  },
  {
   "metadata": {
    "ExecuteTime": {
     "end_time": "2025-06-30T23:25:32.522182Z",
     "start_time": "2025-06-30T23:25:32.516899Z"
    }
   },
   "cell_type": "code",
   "source": [
    "class Silicon:\n",
    "    college = \"Silicon University\"\n",
    "\n",
    "    def __init__(self, name, sic=None):\n",
    "        self.name = name\n",
    "        self.sic = sic\n",
    "\n",
    "    def display(self):\n",
    "        print(\"Am in parent Class\")"
   ],
   "id": "6ab00c137c5800e",
   "outputs": [],
   "execution_count": 28
  },
  {
   "metadata": {},
   "cell_type": "markdown",
   "source": "Child Class",
   "id": "8aa4e8d7e4da1580"
  },
  {
   "metadata": {
    "ExecuteTime": {
     "end_time": "2025-06-30T23:25:33.105342Z",
     "start_time": "2025-06-30T23:25:33.099994Z"
    }
   },
   "cell_type": "code",
   "source": [
    "class Student(Silicon):\n",
    "    def __init__(self, name, year_admission, sic=None):\n",
    "        super().__init__(name, sic)\n",
    "        self.year_admission = year_admission"
   ],
   "id": "54549313bbac7616",
   "outputs": [],
   "execution_count": 29
  },
  {
   "metadata": {
    "ExecuteTime": {
     "end_time": "2025-06-30T23:25:36.030890Z",
     "start_time": "2025-06-30T23:25:36.026724Z"
    }
   },
   "cell_type": "code",
   "source": "abc = Student(\"Hari\", 2025)",
   "id": "a342edaf121c0b4d",
   "outputs": [],
   "execution_count": 32
  },
  {
   "metadata": {
    "ExecuteTime": {
     "end_time": "2025-06-30T23:25:36.314517Z",
     "start_time": "2025-06-30T23:25:36.309543Z"
    }
   },
   "cell_type": "code",
   "source": "abc.sic",
   "id": "b37379c3e0a7ff85",
   "outputs": [],
   "execution_count": 33
  },
  {
   "metadata": {
    "ExecuteTime": {
     "end_time": "2025-06-30T23:25:36.643999Z",
     "start_time": "2025-06-30T23:25:36.637274Z"
    }
   },
   "cell_type": "code",
   "source": "abc.college",
   "id": "5684b639df96c36e",
   "outputs": [
    {
     "data": {
      "text/plain": [
       "'Silicon University'"
      ]
     },
     "execution_count": 34,
     "metadata": {},
     "output_type": "execute_result"
    }
   ],
   "execution_count": 34
  }
 ],
 "metadata": {
  "kernelspec": {
   "display_name": "Python 3",
   "language": "python",
   "name": "python3"
  },
  "language_info": {
   "codemirror_mode": {
    "name": "ipython",
    "version": 2
   },
   "file_extension": ".py",
   "mimetype": "text/x-python",
   "name": "python",
   "nbconvert_exporter": "python",
   "pygments_lexer": "ipython2",
   "version": "2.7.6"
  }
 },
 "nbformat": 4,
 "nbformat_minor": 5
}
