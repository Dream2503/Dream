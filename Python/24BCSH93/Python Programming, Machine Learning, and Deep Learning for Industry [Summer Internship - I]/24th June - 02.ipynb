{
 "cells": [
  {
   "metadata": {},
   "cell_type": "markdown",
   "source": "## Step A: DATA PREPROCESSING",
   "id": "864f89a8e37538ac"
  },
  {
   "metadata": {},
   "cell_type": "markdown",
   "source": "#### Step 1: Import Libraries",
   "id": "ceb362b095a4fb55"
  },
  {
   "metadata": {
    "ExecuteTime": {
     "end_time": "2025-06-30T23:30:00.777961Z",
     "start_time": "2025-06-30T23:30:00.775033Z"
    }
   },
   "cell_type": "code",
   "source": [
    "import numpy as np\n",
    "import pandas as pd\n",
    "import matplotlib.pyplot as plt"
   ],
   "id": "7e38386720610252",
   "outputs": [],
   "execution_count": 1
  },
  {
   "metadata": {},
   "cell_type": "markdown",
   "source": "#### Step 2: Import the dataset",
   "id": "2822e3ef89d154b8"
  },
  {
   "metadata": {
    "ExecuteTime": {
     "end_time": "2025-06-30T23:30:01.053505Z",
     "start_time": "2025-06-30T23:30:01.010098Z"
    }
   },
   "cell_type": "code",
   "source": "dataset = pd.read_csv(\"data/vehicle.data\")",
   "id": "7576030ba20ec3d5",
   "outputs": [],
   "execution_count": 2
  },
  {
   "metadata": {
    "ExecuteTime": {
     "end_time": "2025-06-30T23:30:01.092602Z",
     "start_time": "2025-06-30T23:30:01.076743Z"
    }
   },
   "cell_type": "code",
   "source": "dataset.head()",
   "id": "d7fbd0c4b0e55a86",
   "outputs": [
    {
     "data": {
      "text/plain": [
       "   vhigh vhigh.1  2 2.1  small   low  unacc\n",
       "0  vhigh   vhigh  2   2  small   med  unacc\n",
       "1  vhigh   vhigh  2   2  small  high  unacc\n",
       "2  vhigh   vhigh  2   2    med   low  unacc\n",
       "3  vhigh   vhigh  2   2    med   med  unacc\n",
       "4  vhigh   vhigh  2   2    med  high  unacc"
      ],
      "text/html": [
       "<div>\n",
       "<style scoped>\n",
       "    .dataframe tbody tr th:only-of-type {\n",
       "        vertical-align: middle;\n",
       "    }\n",
       "\n",
       "    .dataframe tbody tr th {\n",
       "        vertical-align: top;\n",
       "    }\n",
       "\n",
       "    .dataframe thead th {\n",
       "        text-align: right;\n",
       "    }\n",
       "</style>\n",
       "<table border=\"1\" class=\"dataframe\">\n",
       "  <thead>\n",
       "    <tr style=\"text-align: right;\">\n",
       "      <th></th>\n",
       "      <th>vhigh</th>\n",
       "      <th>vhigh.1</th>\n",
       "      <th>2</th>\n",
       "      <th>2.1</th>\n",
       "      <th>small</th>\n",
       "      <th>low</th>\n",
       "      <th>unacc</th>\n",
       "    </tr>\n",
       "  </thead>\n",
       "  <tbody>\n",
       "    <tr>\n",
       "      <th>0</th>\n",
       "      <td>vhigh</td>\n",
       "      <td>vhigh</td>\n",
       "      <td>2</td>\n",
       "      <td>2</td>\n",
       "      <td>small</td>\n",
       "      <td>med</td>\n",
       "      <td>unacc</td>\n",
       "    </tr>\n",
       "    <tr>\n",
       "      <th>1</th>\n",
       "      <td>vhigh</td>\n",
       "      <td>vhigh</td>\n",
       "      <td>2</td>\n",
       "      <td>2</td>\n",
       "      <td>small</td>\n",
       "      <td>high</td>\n",
       "      <td>unacc</td>\n",
       "    </tr>\n",
       "    <tr>\n",
       "      <th>2</th>\n",
       "      <td>vhigh</td>\n",
       "      <td>vhigh</td>\n",
       "      <td>2</td>\n",
       "      <td>2</td>\n",
       "      <td>med</td>\n",
       "      <td>low</td>\n",
       "      <td>unacc</td>\n",
       "    </tr>\n",
       "    <tr>\n",
       "      <th>3</th>\n",
       "      <td>vhigh</td>\n",
       "      <td>vhigh</td>\n",
       "      <td>2</td>\n",
       "      <td>2</td>\n",
       "      <td>med</td>\n",
       "      <td>med</td>\n",
       "      <td>unacc</td>\n",
       "    </tr>\n",
       "    <tr>\n",
       "      <th>4</th>\n",
       "      <td>vhigh</td>\n",
       "      <td>vhigh</td>\n",
       "      <td>2</td>\n",
       "      <td>2</td>\n",
       "      <td>med</td>\n",
       "      <td>high</td>\n",
       "      <td>unacc</td>\n",
       "    </tr>\n",
       "  </tbody>\n",
       "</table>\n",
       "</div>"
      ]
     },
     "execution_count": 3,
     "metadata": {},
     "output_type": "execute_result"
    }
   ],
   "execution_count": 3
  },
  {
   "metadata": {},
   "cell_type": "markdown",
   "source": "#### Step 3: Checking for missing data?",
   "id": "f884857e16d3c162"
  },
  {
   "metadata": {
    "ExecuteTime": {
     "end_time": "2025-06-30T23:30:01.189086Z",
     "start_time": "2025-06-30T23:30:01.180289Z"
    }
   },
   "cell_type": "code",
   "source": "dataset.isnull().sum()",
   "id": "bb2a2c1d7ca0b36c",
   "outputs": [
    {
     "data": {
      "text/plain": [
       "vhigh      0\n",
       "vhigh.1    0\n",
       "2          0\n",
       "2.1        0\n",
       "small      0\n",
       "low        0\n",
       "unacc      0\n",
       "dtype: int64"
      ]
     },
     "execution_count": 4,
     "metadata": {},
     "output_type": "execute_result"
    }
   ],
   "execution_count": 4
  },
  {
   "metadata": {
    "ExecuteTime": {
     "end_time": "2025-06-30T23:30:01.310701Z",
     "start_time": "2025-06-30T23:30:01.302570Z"
    }
   },
   "cell_type": "code",
   "source": "dataset.head()",
   "id": "4195b0f1e0968545",
   "outputs": [
    {
     "data": {
      "text/plain": [
       "   vhigh vhigh.1  2 2.1  small   low  unacc\n",
       "0  vhigh   vhigh  2   2  small   med  unacc\n",
       "1  vhigh   vhigh  2   2  small  high  unacc\n",
       "2  vhigh   vhigh  2   2    med   low  unacc\n",
       "3  vhigh   vhigh  2   2    med   med  unacc\n",
       "4  vhigh   vhigh  2   2    med  high  unacc"
      ],
      "text/html": [
       "<div>\n",
       "<style scoped>\n",
       "    .dataframe tbody tr th:only-of-type {\n",
       "        vertical-align: middle;\n",
       "    }\n",
       "\n",
       "    .dataframe tbody tr th {\n",
       "        vertical-align: top;\n",
       "    }\n",
       "\n",
       "    .dataframe thead th {\n",
       "        text-align: right;\n",
       "    }\n",
       "</style>\n",
       "<table border=\"1\" class=\"dataframe\">\n",
       "  <thead>\n",
       "    <tr style=\"text-align: right;\">\n",
       "      <th></th>\n",
       "      <th>vhigh</th>\n",
       "      <th>vhigh.1</th>\n",
       "      <th>2</th>\n",
       "      <th>2.1</th>\n",
       "      <th>small</th>\n",
       "      <th>low</th>\n",
       "      <th>unacc</th>\n",
       "    </tr>\n",
       "  </thead>\n",
       "  <tbody>\n",
       "    <tr>\n",
       "      <th>0</th>\n",
       "      <td>vhigh</td>\n",
       "      <td>vhigh</td>\n",
       "      <td>2</td>\n",
       "      <td>2</td>\n",
       "      <td>small</td>\n",
       "      <td>med</td>\n",
       "      <td>unacc</td>\n",
       "    </tr>\n",
       "    <tr>\n",
       "      <th>1</th>\n",
       "      <td>vhigh</td>\n",
       "      <td>vhigh</td>\n",
       "      <td>2</td>\n",
       "      <td>2</td>\n",
       "      <td>small</td>\n",
       "      <td>high</td>\n",
       "      <td>unacc</td>\n",
       "    </tr>\n",
       "    <tr>\n",
       "      <th>2</th>\n",
       "      <td>vhigh</td>\n",
       "      <td>vhigh</td>\n",
       "      <td>2</td>\n",
       "      <td>2</td>\n",
       "      <td>med</td>\n",
       "      <td>low</td>\n",
       "      <td>unacc</td>\n",
       "    </tr>\n",
       "    <tr>\n",
       "      <th>3</th>\n",
       "      <td>vhigh</td>\n",
       "      <td>vhigh</td>\n",
       "      <td>2</td>\n",
       "      <td>2</td>\n",
       "      <td>med</td>\n",
       "      <td>med</td>\n",
       "      <td>unacc</td>\n",
       "    </tr>\n",
       "    <tr>\n",
       "      <th>4</th>\n",
       "      <td>vhigh</td>\n",
       "      <td>vhigh</td>\n",
       "      <td>2</td>\n",
       "      <td>2</td>\n",
       "      <td>med</td>\n",
       "      <td>high</td>\n",
       "      <td>unacc</td>\n",
       "    </tr>\n",
       "  </tbody>\n",
       "</table>\n",
       "</div>"
      ]
     },
     "execution_count": 5,
     "metadata": {},
     "output_type": "execute_result"
    }
   ],
   "execution_count": 5
  },
  {
   "metadata": {},
   "cell_type": "markdown",
   "source": "#### Step 4: S Splitting the data as Feature Matrix (X) and output column vector (Y)",
   "id": "b93537d01110736"
  },
  {
   "metadata": {
    "ExecuteTime": {
     "end_time": "2025-06-30T23:30:01.455174Z",
     "start_time": "2025-06-30T23:30:01.451959Z"
    }
   },
   "cell_type": "code",
   "source": [
    "X = dataset.iloc[:, :-1].values\n",
    "Y = dataset.iloc[:, -1].values"
   ],
   "id": "c4177cbd5eaf7030",
   "outputs": [],
   "execution_count": 6
  },
  {
   "metadata": {
    "ExecuteTime": {
     "end_time": "2025-06-30T23:30:01.544170Z",
     "start_time": "2025-06-30T23:30:01.538319Z"
    }
   },
   "cell_type": "code",
   "source": "X",
   "id": "5a216e5bc51405fe",
   "outputs": [
    {
     "data": {
      "text/plain": [
       "array([['vhigh', 'vhigh', '2', '2', 'small', 'med'],\n",
       "       ['vhigh', 'vhigh', '2', '2', 'small', 'high'],\n",
       "       ['vhigh', 'vhigh', '2', '2', 'med', 'low'],\n",
       "       ...,\n",
       "       ['low', 'low', '5more', 'more', 'big', 'low'],\n",
       "       ['low', 'low', '5more', 'more', 'big', 'med'],\n",
       "       ['low', 'low', '5more', 'more', 'big', 'high']], dtype=object)"
      ]
     },
     "execution_count": 7,
     "metadata": {},
     "output_type": "execute_result"
    }
   ],
   "execution_count": 7
  },
  {
   "metadata": {
    "ExecuteTime": {
     "end_time": "2025-06-30T23:30:01.790098Z",
     "start_time": "2025-06-30T23:30:01.785060Z"
    }
   },
   "cell_type": "code",
   "source": "Y",
   "id": "4d383fe4e922a314",
   "outputs": [
    {
     "data": {
      "text/plain": [
       "array(['unacc', 'unacc', 'unacc', ..., 'unacc', 'good', 'vgood'],\n",
       "      dtype=object)"
      ]
     },
     "execution_count": 8,
     "metadata": {},
     "output_type": "execute_result"
    }
   ],
   "execution_count": 8
  },
  {
   "metadata": {},
   "cell_type": "markdown",
   "source": [
    "from sklearn.preprocessing import OrdinalEncoder  # Ordinal Relationship (Order Matters)\n",
    "from sklearn.preprocessing import OneHotEncoder  # Non-Ordinal Relationship (Order Doesn't Matter)\n",
    "\n",
    "from sklearn.preprocessing import LabelEncoder  # Y Categorical Data"
   ],
   "id": "4404129686999bda"
  },
  {
   "metadata": {},
   "cell_type": "markdown",
   "source": "### Convertion from categorical data into numerical form so that machine learning algorithm can work with it",
   "id": "b882a144f17e0cc2"
  },
  {
   "metadata": {},
   "cell_type": "markdown",
   "source": "#### A] Using class OrdinaryEncoder: converts categorical data in the feature matrix, which has ordinal relationship, into integers",
   "id": "ad637993355d1db8"
  },
  {
   "metadata": {
    "ExecuteTime": {
     "end_time": "2025-06-30T23:30:01.962013Z",
     "start_time": "2025-06-30T23:30:01.898082Z"
    }
   },
   "cell_type": "code",
   "source": "from sklearn.preprocessing import OrdinalEncoder",
   "id": "f9328fadd107fb7d",
   "outputs": [],
   "execution_count": 9
  },
  {
   "metadata": {
    "ExecuteTime": {
     "end_time": "2025-06-30T23:30:02.016008Z",
     "start_time": "2025-06-30T23:30:02.012626Z"
    }
   },
   "cell_type": "code",
   "source": "data = [[\"low\"], [\"medium\"], [\"high\"]]",
   "id": "7355d145b86b5d68",
   "outputs": [],
   "execution_count": 10
  },
  {
   "metadata": {
    "ExecuteTime": {
     "end_time": "2025-06-30T23:30:02.089653Z",
     "start_time": "2025-06-30T23:30:02.084417Z"
    }
   },
   "cell_type": "code",
   "source": [
    "OE = OrdinalEncoder()\n",
    "OE.fit_transform(data)"
   ],
   "id": "55b4ce39da388592",
   "outputs": [
    {
     "data": {
      "text/plain": [
       "array([[1.],\n",
       "       [2.],\n",
       "       [0.]])"
      ]
     },
     "execution_count": 11,
     "metadata": {},
     "output_type": "execute_result"
    }
   ],
   "execution_count": 11
  },
  {
   "metadata": {},
   "cell_type": "markdown",
   "source": "#### B] Using class OneHotEncoder: Converts categorical data which has no meaningful order, into binary vectors",
   "id": "77d18c1d34f8af8"
  },
  {
   "metadata": {
    "ExecuteTime": {
     "end_time": "2025-06-30T23:30:02.250101Z",
     "start_time": "2025-06-30T23:30:02.246710Z"
    }
   },
   "cell_type": "code",
   "source": "data = [[\"red\"], [\"blue\"], [\"orange\"]]",
   "id": "cd244798e87bf9dc",
   "outputs": [],
   "execution_count": 12
  },
  {
   "metadata": {
    "ExecuteTime": {
     "end_time": "2025-06-30T23:30:02.354329Z",
     "start_time": "2025-06-30T23:30:02.347509Z"
    }
   },
   "cell_type": "code",
   "source": [
    "from sklearn.preprocessing import OneHotEncoder\n",
    "OHE = OneHotEncoder()\n",
    "OHE.fit_transform(data)"
   ],
   "id": "ef36efdb4c685300",
   "outputs": [
    {
     "data": {
      "text/plain": [
       "<Compressed Sparse Row sparse matrix of dtype 'float64'\n",
       "\twith 3 stored elements and shape (3, 3)>"
      ]
     },
     "execution_count": 13,
     "metadata": {},
     "output_type": "execute_result"
    }
   ],
   "execution_count": 13
  },
  {
   "metadata": {
    "ExecuteTime": {
     "end_time": "2025-06-30T23:30:02.603709Z",
     "start_time": "2025-06-30T23:30:02.596247Z"
    }
   },
   "cell_type": "code",
   "source": "OHE.fit_transform(data).toarray()",
   "id": "20e9c0c872f18e3",
   "outputs": [
    {
     "data": {
      "text/plain": [
       "array([[0., 0., 1.],\n",
       "       [1., 0., 0.],\n",
       "       [0., 1., 0.]])"
      ]
     },
     "execution_count": 14,
     "metadata": {},
     "output_type": "execute_result"
    }
   ],
   "execution_count": 14
  },
  {
   "metadata": {},
   "cell_type": "markdown",
   "source": "#### C] Use of class LabelEncoder: Converts the target categorical data(output) into integers",
   "id": "dacd6fb788dee345"
  },
  {
   "metadata": {
    "ExecuteTime": {
     "end_time": "2025-06-30T23:30:02.872326Z",
     "start_time": "2025-06-30T23:30:02.866764Z"
    }
   },
   "cell_type": "code",
   "source": [
    "data = [\"yes\", \"no\"]\n",
    "\n",
    "from sklearn.preprocessing import LabelEncoder\n",
    "\n",
    "LE = LabelEncoder()\n",
    "LE.fit_transform(data)"
   ],
   "id": "5597940e51d7ae8c",
   "outputs": [
    {
     "data": {
      "text/plain": [
       "array([1, 0])"
      ]
     },
     "execution_count": 15,
     "metadata": {},
     "output_type": "execute_result"
    }
   ],
   "execution_count": 15
  },
  {
   "metadata": {
    "ExecuteTime": {
     "end_time": "2025-06-30T23:30:03.061947Z",
     "start_time": "2025-06-30T23:30:03.056426Z"
    }
   },
   "cell_type": "code",
   "source": [
    "data = [\"party\", \"put\", \"tv\", \"study\"]\n",
    "\n",
    "from sklearn.preprocessing import LabelEncoder\n",
    "\n",
    "LE = LabelEncoder()\n",
    "LE.fit_transform(data)"
   ],
   "id": "e31cf799546920c4",
   "outputs": [
    {
     "data": {
      "text/plain": [
       "array([0, 1, 3, 2])"
      ]
     },
     "execution_count": 16,
     "metadata": {},
     "output_type": "execute_result"
    }
   ],
   "execution_count": 16
  },
  {
   "metadata": {},
   "cell_type": "markdown",
   "source": "#### Step 5: Convert categorical data in X to integers",
   "id": "97358ac420ef0502"
  },
  {
   "metadata": {
    "ExecuteTime": {
     "end_time": "2025-06-30T23:30:03.163680Z",
     "start_time": "2025-06-30T23:30:03.158401Z"
    }
   },
   "cell_type": "code",
   "source": "X",
   "id": "3253dcc08ce1d33c",
   "outputs": [
    {
     "data": {
      "text/plain": [
       "array([['vhigh', 'vhigh', '2', '2', 'small', 'med'],\n",
       "       ['vhigh', 'vhigh', '2', '2', 'small', 'high'],\n",
       "       ['vhigh', 'vhigh', '2', '2', 'med', 'low'],\n",
       "       ...,\n",
       "       ['low', 'low', '5more', 'more', 'big', 'low'],\n",
       "       ['low', 'low', '5more', 'more', 'big', 'med'],\n",
       "       ['low', 'low', '5more', 'more', 'big', 'high']], dtype=object)"
      ]
     },
     "execution_count": 17,
     "metadata": {},
     "output_type": "execute_result"
    }
   ],
   "execution_count": 17
  },
  {
   "metadata": {
    "ExecuteTime": {
     "end_time": "2025-06-30T23:30:03.322052Z",
     "start_time": "2025-06-30T23:30:03.317482Z"
    }
   },
   "cell_type": "code",
   "source": "Y",
   "id": "75ac7acefeee91af",
   "outputs": [
    {
     "data": {
      "text/plain": [
       "array(['unacc', 'unacc', 'unacc', ..., 'unacc', 'good', 'vgood'],\n",
       "      dtype=object)"
      ]
     },
     "execution_count": 18,
     "metadata": {},
     "output_type": "execute_result"
    }
   ],
   "execution_count": 18
  },
  {
   "metadata": {
    "ExecuteTime": {
     "end_time": "2025-06-30T23:30:03.492087Z",
     "start_time": "2025-06-30T23:30:03.484237Z"
    }
   },
   "cell_type": "code",
   "source": [
    "from sklearn.preprocessing import OrdinalEncoder\n",
    "\n",
    "OE = OrdinalEncoder()\n",
    "X = np.array(OE.fit_transform(X))\n",
    "X"
   ],
   "id": "4aeda68cfa10ed44",
   "outputs": [
    {
     "data": {
      "text/plain": [
       "array([[3., 3., 0., 0., 2., 2.],\n",
       "       [3., 3., 0., 0., 2., 0.],\n",
       "       [3., 3., 0., 0., 1., 1.],\n",
       "       ...,\n",
       "       [1., 1., 3., 2., 0., 1.],\n",
       "       [1., 1., 3., 2., 0., 2.],\n",
       "       [1., 1., 3., 2., 0., 0.]])"
      ]
     },
     "execution_count": 19,
     "metadata": {},
     "output_type": "execute_result"
    }
   ],
   "execution_count": 19
  },
  {
   "metadata": {},
   "cell_type": "markdown",
   "source": "#### Step 6: Convert categorical data in Y into integers",
   "id": "12422c504ccd04a"
  },
  {
   "metadata": {
    "ExecuteTime": {
     "end_time": "2025-06-30T23:30:03.647073Z",
     "start_time": "2025-06-30T23:30:03.641369Z"
    }
   },
   "cell_type": "code",
   "source": [
    "from sklearn.preprocessing import LabelEncoder\n",
    "\n",
    "LE = LabelEncoder()\n",
    "Y = np.array(LE.fit_transform(Y))\n",
    "Y"
   ],
   "id": "e093d8d058b8d470",
   "outputs": [
    {
     "data": {
      "text/plain": [
       "array([2, 2, 2, ..., 2, 1, 3])"
      ]
     },
     "execution_count": 20,
     "metadata": {},
     "output_type": "execute_result"
    }
   ],
   "execution_count": 20
  },
  {
   "metadata": {},
   "cell_type": "markdown",
   "source": "### Step B: Building multiclassifier using KNN, NB, DT, RF algorithm",
   "id": "1531616817ac2ae3"
  },
  {
   "metadata": {},
   "cell_type": "markdown",
   "source": "#### Step 1: Split the data into training and testing dataset",
   "id": "ef492eba8c29e5fc"
  },
  {
   "metadata": {
    "ExecuteTime": {
     "end_time": "2025-06-30T23:30:04.339631Z",
     "start_time": "2025-06-30T23:30:04.303789Z"
    }
   },
   "cell_type": "code",
   "source": [
    "from sklearn.model_selection import train_test_split\n",
    "\n",
    "x_train, x_test, y_train, y_test = train_test_split(X, Y, test_size=0.2)"
   ],
   "id": "df9cbfe0f82a459d",
   "outputs": [],
   "execution_count": 21
  },
  {
   "metadata": {},
   "cell_type": "markdown",
   "source": "#### Step 2: Build the model",
   "id": "4ae0cd113dd68819"
  },
  {
   "metadata": {},
   "cell_type": "markdown",
   "source": "#### i) KNN Model",
   "id": "329d17b98098647e"
  },
  {
   "metadata": {
    "ExecuteTime": {
     "end_time": "2025-06-30T23:30:05.231821Z",
     "start_time": "2025-06-30T23:30:05.155277Z"
    }
   },
   "cell_type": "code",
   "source": [
    "from sklearn.neighbors import KNeighborsClassifier\n",
    "\n",
    "KNN = KNeighborsClassifier(8)\n",
    "KNN.fit(x_train, y_train)\n",
    "y_pred_KNN = KNN.predict(x_test)"
   ],
   "id": "1f8615777cbb80b2",
   "outputs": [],
   "execution_count": 22
  },
  {
   "metadata": {},
   "cell_type": "markdown",
   "source": "#### ii) Naive Bayes Model",
   "id": "4af47a1baba15638"
  },
  {
   "metadata": {
    "ExecuteTime": {
     "end_time": "2025-06-30T23:30:05.362349Z",
     "start_time": "2025-06-30T23:30:05.352230Z"
    }
   },
   "cell_type": "code",
   "source": [
    "from sklearn.naive_bayes import GaussianNB\n",
    "\n",
    "NB = GaussianNB()\n",
    "NB.fit(x_train, y_train)\n",
    "y_pred_NB = NB.predict(x_test)"
   ],
   "id": "fe393b603c69259f",
   "outputs": [],
   "execution_count": 23
  },
  {
   "metadata": {},
   "cell_type": "markdown",
   "source": "#### iii) Decision Tree Model",
   "id": "31ccd445299b5670"
  },
  {
   "metadata": {
    "ExecuteTime": {
     "end_time": "2025-06-30T23:30:05.628027Z",
     "start_time": "2025-06-30T23:30:05.610176Z"
    }
   },
   "cell_type": "code",
   "source": [
    "from sklearn.tree import DecisionTreeClassifier\n",
    "\n",
    "DT = DecisionTreeClassifier(criterion=\"entropy\", max_depth=4)\n",
    "DT.fit(x_train, y_train)\n",
    "y_pred_DT = DT.predict(x_test)"
   ],
   "id": "a47803a5507546c7",
   "outputs": [],
   "execution_count": 24
  },
  {
   "metadata": {},
   "cell_type": "markdown",
   "source": "#### iv) Random Forest Classifier",
   "id": "da4470805c69d93a"
  },
  {
   "metadata": {
    "ExecuteTime": {
     "end_time": "2025-06-30T23:30:07.507786Z",
     "start_time": "2025-06-30T23:30:05.781337Z"
    }
   },
   "cell_type": "code",
   "source": [
    "from sklearn.ensemble import RandomForestClassifier\n",
    "\n",
    "RF = RandomForestClassifier(1000, criterion=\"entropy\")\n",
    "RF.fit(x_train, y_train)\n",
    "y_pred_RF = RF.predict(x_test)"
   ],
   "id": "2783b967fe1b1a19",
   "outputs": [],
   "execution_count": 25
  },
  {
   "metadata": {
    "ExecuteTime": {
     "end_time": "2025-06-30T23:30:07.543509Z",
     "start_time": "2025-06-30T23:30:07.539895Z"
    }
   },
   "cell_type": "code",
   "source": "from sklearn.metrics import confusion_matrix, accuracy_score, precision_score, recall_score, f1_score",
   "id": "dd7935371ee4657f",
   "outputs": [],
   "execution_count": 26
  },
  {
   "metadata": {
    "ExecuteTime": {
     "end_time": "2025-06-30T23:30:07.647108Z",
     "start_time": "2025-06-30T23:30:07.613902Z"
    }
   },
   "cell_type": "code",
   "source": [
    "print(\"**************\" * 2)\n",
    "print(\"KNN Classifier\")\n",
    "print(\"**************\" * 2)\n",
    "print(f\"1. Confusion Matrix:\\n{confusion_matrix(y_test, y_pred_KNN)}\")\n",
    "print(f\"2. Accuracy Matrix: {accuracy_score(y_test, y_pred_KNN)}\")\n",
    "print(f\"3. Precision Score: {precision_score(y_test, y_pred_KNN, average=None)}\")\n",
    "print(f\"4. Recall Score: {recall_score(y_test, y_pred_KNN, average=None)}\")\n",
    "print(f\"5. F1 Score: {f1_score(y_test, y_pred_KNN, average=None)}\")\n",
    "print(\"**************\" * 2)\n",
    "print(\"NB Classifier\")\n",
    "print(\"**************\" * 2)\n",
    "print(f\"1. Confusion Matrix:\\n{confusion_matrix(y_test, y_pred_NB)}\")\n",
    "print(f\"2. Accuracy Matrix: {accuracy_score(y_test, y_pred_NB)}\")\n",
    "print(f\"3. Precision Score: {precision_score(y_test, y_pred_NB, average=None)}\")\n",
    "print(f\"4. Recall Score: {recall_score(y_test, y_pred_NB, average=None)}\")\n",
    "print(f\"5. F1 Score: {f1_score(y_test, y_pred_NB, average=None)}\")\n",
    "print(\"**************\" * 2)\n",
    "print(\"DT Classifier\")\n",
    "print(\"**************\" * 2)\n",
    "print(f\"1. Confusion Matrix:\\n{confusion_matrix(y_test, y_pred_DT)}\")\n",
    "print(f\"2. Accuracy Matrix: {accuracy_score(y_test, y_pred_DT)}\")\n",
    "print(f\"3. Precision Score: {precision_score(y_test, y_pred_DT, average=None)}\")\n",
    "print(f\"4. Recall Score: {recall_score(y_test, y_pred_DT, average=None)}\")\n",
    "print(f\"5. F1 Score: {f1_score(y_test, y_pred_DT, average=None)}\")\n",
    "print(\"**************\" * 2)\n",
    "print(\"RF Classifier\")\n",
    "print(\"**************\" * 2)\n",
    "print(f\"1. Confusion Matrix:\\n{confusion_matrix(y_test, y_pred_RF)}\")\n",
    "print(f\"2. Accuracy Matrix: {accuracy_score(y_test, y_pred_RF)}\")\n",
    "print(f\"3. Precision Score: {precision_score(y_test, y_pred_RF, average=None)}\")\n",
    "print(f\"4. Recall Score: {recall_score(y_test, y_pred_RF, average=None)}\")\n",
    "print(f\"5. F1 Score: {f1_score(y_test, y_pred_RF, average=None)}\")"
   ],
   "id": "745eadbb39728672",
   "outputs": [
    {
     "name": "stdout",
     "output_type": "stream",
     "text": [
      "****************************\n",
      "KNN Classifier\n",
      "****************************\n",
      "1. Confusion Matrix:\n",
      "[[ 70   0  10   0]\n",
      " [  7   6   0   0]\n",
      " [  3   0 237   0]\n",
      " [  2   0   1  10]]\n",
      "2. Accuracy Matrix: 0.9335260115606936\n",
      "3. Precision Score: [0.85365854 1.         0.95564516 1.        ]\n",
      "4. Recall Score: [0.875      0.46153846 0.9875     0.76923077]\n",
      "5. F1 Score: [0.86419753 0.63157895 0.97131148 0.86956522]\n",
      "****************************\n",
      "NB Classifier\n",
      "****************************\n",
      "1. Confusion Matrix:\n",
      "[[  6   0  32  42]\n",
      " [  5   0   3   5]\n",
      " [  0   0 188  52]\n",
      " [  0   0   0  13]]\n",
      "2. Accuracy Matrix: 0.5982658959537572\n",
      "3. Precision Score: [0.54545455 0.         0.84304933 0.11607143]\n",
      "4. Recall Score: [0.075      0.         0.78333333 1.        ]\n",
      "5. F1 Score: [0.13186813 0.         0.81209503 0.208     ]\n",
      "****************************\n",
      "DT Classifier\n",
      "****************************\n",
      "1. Confusion Matrix:\n",
      "[[ 78   0   2   0]\n",
      " [ 13   0   0   0]\n",
      " [ 35   0 205   0]\n",
      " [ 13   0   0   0]]\n",
      "2. Accuracy Matrix: 0.8179190751445087\n",
      "3. Precision Score: [0.56115108 0.         0.99033816 0.        ]\n",
      "4. Recall Score: [0.975      0.         0.85416667 0.        ]\n",
      "5. F1 Score: [0.71232877 0.         0.91722595 0.        ]\n",
      "****************************\n",
      "RF Classifier\n",
      "****************************\n",
      "1. Confusion Matrix:\n",
      "[[ 78   0   2   0]\n",
      " [  4   9   0   0]\n",
      " [  2   0 238   0]\n",
      " [  0   0   0  13]]\n",
      "2. Accuracy Matrix: 0.976878612716763\n",
      "3. Precision Score: [0.92857143 1.         0.99166667 1.        ]\n",
      "4. Recall Score: [0.975      0.69230769 0.99166667 1.        ]\n",
      "5. F1 Score: [0.95121951 0.81818182 0.99166667 1.        ]\n"
     ]
    },
    {
     "name": "stderr",
     "output_type": "stream",
     "text": [
      "/usr/local/lib/python3.10/dist-packages/sklearn/metrics/_classification.py:1706: UndefinedMetricWarning: Precision is ill-defined and being set to 0.0 in labels with no predicted samples. Use `zero_division` parameter to control this behavior.\n",
      "  _warn_prf(average, modifier, f\"{metric.capitalize()} is\", result.shape[0])\n",
      "/usr/local/lib/python3.10/dist-packages/sklearn/metrics/_classification.py:1706: UndefinedMetricWarning: Precision is ill-defined and being set to 0.0 in labels with no predicted samples. Use `zero_division` parameter to control this behavior.\n",
      "  _warn_prf(average, modifier, f\"{metric.capitalize()} is\", result.shape[0])\n"
     ]
    }
   ],
   "execution_count": 27
  }
 ],
 "metadata": {
  "kernelspec": {
   "display_name": "Python 3",
   "language": "python",
   "name": "python3"
  },
  "language_info": {
   "codemirror_mode": {
    "name": "ipython",
    "version": 2
   },
   "file_extension": ".py",
   "mimetype": "text/x-python",
   "name": "python",
   "nbconvert_exporter": "python",
   "pygments_lexer": "ipython2",
   "version": "2.7.6"
  }
 },
 "nbformat": 4,
 "nbformat_minor": 5
}
