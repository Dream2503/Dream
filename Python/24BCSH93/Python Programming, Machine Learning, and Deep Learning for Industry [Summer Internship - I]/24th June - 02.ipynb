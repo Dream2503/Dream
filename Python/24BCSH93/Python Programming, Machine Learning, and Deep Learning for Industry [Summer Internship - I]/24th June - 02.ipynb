{
 "cells": [
  {
   "metadata": {},
   "cell_type": "markdown",
   "source": "## Step A: DATA PREPROCESSING",
   "id": "864f89a8e37538ac"
  },
  {
   "metadata": {},
   "cell_type": "markdown",
   "source": "#### Step 1: Import Libraries",
   "id": "ceb362b095a4fb55"
  },
  {
   "metadata": {
    "ExecuteTime": {
     "end_time": "2025-06-24T10:38:10.467641Z",
     "start_time": "2025-06-24T10:38:10.460784Z"
    }
   },
   "cell_type": "code",
   "source": [
    "import numpy as np\n",
    "import pandas as pd\n",
    "import matplotlib.pyplot as plt"
   ],
   "id": "7e38386720610252",
   "outputs": [],
   "execution_count": 1
  },
  {
   "metadata": {},
   "cell_type": "markdown",
   "source": "#### Step 2: Import the dataset",
   "id": "2822e3ef89d154b8"
  },
  {
   "metadata": {
    "ExecuteTime": {
     "end_time": "2025-06-24T10:38:10.706473Z",
     "start_time": "2025-06-24T10:38:10.686013Z"
    }
   },
   "cell_type": "code",
   "source": "dataset = pd.read_csv(\"vehicle.data\")",
   "id": "7576030ba20ec3d5",
   "outputs": [],
   "execution_count": 2
  },
  {
   "metadata": {
    "ExecuteTime": {
     "end_time": "2025-06-24T10:38:10.758834Z",
     "start_time": "2025-06-24T10:38:10.736987Z"
    }
   },
   "cell_type": "code",
   "source": "dataset.head()",
   "id": "d7fbd0c4b0e55a86",
   "outputs": [
    {
     "data": {
      "text/plain": [
       "   vhigh vhigh.1  2 2.1  small   low  unacc\n",
       "0  vhigh   vhigh  2   2  small   med  unacc\n",
       "1  vhigh   vhigh  2   2  small  high  unacc\n",
       "2  vhigh   vhigh  2   2    med   low  unacc\n",
       "3  vhigh   vhigh  2   2    med   med  unacc\n",
       "4  vhigh   vhigh  2   2    med  high  unacc"
      ],
      "text/html": [
       "<div>\n",
       "<style scoped>\n",
       "    .dataframe tbody tr th:only-of-type {\n",
       "        vertical-align: middle;\n",
       "    }\n",
       "\n",
       "    .dataframe tbody tr th {\n",
       "        vertical-align: top;\n",
       "    }\n",
       "\n",
       "    .dataframe thead th {\n",
       "        text-align: right;\n",
       "    }\n",
       "</style>\n",
       "<table border=\"1\" class=\"dataframe\">\n",
       "  <thead>\n",
       "    <tr style=\"text-align: right;\">\n",
       "      <th></th>\n",
       "      <th>vhigh</th>\n",
       "      <th>vhigh.1</th>\n",
       "      <th>2</th>\n",
       "      <th>2.1</th>\n",
       "      <th>small</th>\n",
       "      <th>low</th>\n",
       "      <th>unacc</th>\n",
       "    </tr>\n",
       "  </thead>\n",
       "  <tbody>\n",
       "    <tr>\n",
       "      <th>0</th>\n",
       "      <td>vhigh</td>\n",
       "      <td>vhigh</td>\n",
       "      <td>2</td>\n",
       "      <td>2</td>\n",
       "      <td>small</td>\n",
       "      <td>med</td>\n",
       "      <td>unacc</td>\n",
       "    </tr>\n",
       "    <tr>\n",
       "      <th>1</th>\n",
       "      <td>vhigh</td>\n",
       "      <td>vhigh</td>\n",
       "      <td>2</td>\n",
       "      <td>2</td>\n",
       "      <td>small</td>\n",
       "      <td>high</td>\n",
       "      <td>unacc</td>\n",
       "    </tr>\n",
       "    <tr>\n",
       "      <th>2</th>\n",
       "      <td>vhigh</td>\n",
       "      <td>vhigh</td>\n",
       "      <td>2</td>\n",
       "      <td>2</td>\n",
       "      <td>med</td>\n",
       "      <td>low</td>\n",
       "      <td>unacc</td>\n",
       "    </tr>\n",
       "    <tr>\n",
       "      <th>3</th>\n",
       "      <td>vhigh</td>\n",
       "      <td>vhigh</td>\n",
       "      <td>2</td>\n",
       "      <td>2</td>\n",
       "      <td>med</td>\n",
       "      <td>med</td>\n",
       "      <td>unacc</td>\n",
       "    </tr>\n",
       "    <tr>\n",
       "      <th>4</th>\n",
       "      <td>vhigh</td>\n",
       "      <td>vhigh</td>\n",
       "      <td>2</td>\n",
       "      <td>2</td>\n",
       "      <td>med</td>\n",
       "      <td>high</td>\n",
       "      <td>unacc</td>\n",
       "    </tr>\n",
       "  </tbody>\n",
       "</table>\n",
       "</div>"
      ]
     },
     "execution_count": 3,
     "metadata": {},
     "output_type": "execute_result"
    }
   ],
   "execution_count": 3
  },
  {
   "metadata": {},
   "cell_type": "markdown",
   "source": "#### Step 3: Checking for missing data?",
   "id": "f884857e16d3c162"
  },
  {
   "metadata": {
    "ExecuteTime": {
     "end_time": "2025-06-24T10:38:10.834612Z",
     "start_time": "2025-06-24T10:38:10.818617Z"
    }
   },
   "cell_type": "code",
   "source": "dataset.isnull().sum()",
   "id": "bb2a2c1d7ca0b36c",
   "outputs": [
    {
     "data": {
      "text/plain": [
       "vhigh      0\n",
       "vhigh.1    0\n",
       "2          0\n",
       "2.1        0\n",
       "small      0\n",
       "low        0\n",
       "unacc      0\n",
       "dtype: int64"
      ]
     },
     "execution_count": 4,
     "metadata": {},
     "output_type": "execute_result"
    }
   ],
   "execution_count": 4
  },
  {
   "metadata": {
    "ExecuteTime": {
     "end_time": "2025-06-24T10:38:10.969657Z",
     "start_time": "2025-06-24T10:38:10.956933Z"
    }
   },
   "cell_type": "code",
   "source": "dataset.head()",
   "id": "4195b0f1e0968545",
   "outputs": [
    {
     "data": {
      "text/plain": [
       "   vhigh vhigh.1  2 2.1  small   low  unacc\n",
       "0  vhigh   vhigh  2   2  small   med  unacc\n",
       "1  vhigh   vhigh  2   2  small  high  unacc\n",
       "2  vhigh   vhigh  2   2    med   low  unacc\n",
       "3  vhigh   vhigh  2   2    med   med  unacc\n",
       "4  vhigh   vhigh  2   2    med  high  unacc"
      ],
      "text/html": [
       "<div>\n",
       "<style scoped>\n",
       "    .dataframe tbody tr th:only-of-type {\n",
       "        vertical-align: middle;\n",
       "    }\n",
       "\n",
       "    .dataframe tbody tr th {\n",
       "        vertical-align: top;\n",
       "    }\n",
       "\n",
       "    .dataframe thead th {\n",
       "        text-align: right;\n",
       "    }\n",
       "</style>\n",
       "<table border=\"1\" class=\"dataframe\">\n",
       "  <thead>\n",
       "    <tr style=\"text-align: right;\">\n",
       "      <th></th>\n",
       "      <th>vhigh</th>\n",
       "      <th>vhigh.1</th>\n",
       "      <th>2</th>\n",
       "      <th>2.1</th>\n",
       "      <th>small</th>\n",
       "      <th>low</th>\n",
       "      <th>unacc</th>\n",
       "    </tr>\n",
       "  </thead>\n",
       "  <tbody>\n",
       "    <tr>\n",
       "      <th>0</th>\n",
       "      <td>vhigh</td>\n",
       "      <td>vhigh</td>\n",
       "      <td>2</td>\n",
       "      <td>2</td>\n",
       "      <td>small</td>\n",
       "      <td>med</td>\n",
       "      <td>unacc</td>\n",
       "    </tr>\n",
       "    <tr>\n",
       "      <th>1</th>\n",
       "      <td>vhigh</td>\n",
       "      <td>vhigh</td>\n",
       "      <td>2</td>\n",
       "      <td>2</td>\n",
       "      <td>small</td>\n",
       "      <td>high</td>\n",
       "      <td>unacc</td>\n",
       "    </tr>\n",
       "    <tr>\n",
       "      <th>2</th>\n",
       "      <td>vhigh</td>\n",
       "      <td>vhigh</td>\n",
       "      <td>2</td>\n",
       "      <td>2</td>\n",
       "      <td>med</td>\n",
       "      <td>low</td>\n",
       "      <td>unacc</td>\n",
       "    </tr>\n",
       "    <tr>\n",
       "      <th>3</th>\n",
       "      <td>vhigh</td>\n",
       "      <td>vhigh</td>\n",
       "      <td>2</td>\n",
       "      <td>2</td>\n",
       "      <td>med</td>\n",
       "      <td>med</td>\n",
       "      <td>unacc</td>\n",
       "    </tr>\n",
       "    <tr>\n",
       "      <th>4</th>\n",
       "      <td>vhigh</td>\n",
       "      <td>vhigh</td>\n",
       "      <td>2</td>\n",
       "      <td>2</td>\n",
       "      <td>med</td>\n",
       "      <td>high</td>\n",
       "      <td>unacc</td>\n",
       "    </tr>\n",
       "  </tbody>\n",
       "</table>\n",
       "</div>"
      ]
     },
     "execution_count": 5,
     "metadata": {},
     "output_type": "execute_result"
    }
   ],
   "execution_count": 5
  },
  {
   "metadata": {},
   "cell_type": "markdown",
   "source": "#### Step 4: S Splitting the data as Feature Matrix (X) and output column vector (Y)",
   "id": "b93537d01110736"
  },
  {
   "metadata": {
    "ExecuteTime": {
     "end_time": "2025-06-24T10:38:11.219397Z",
     "start_time": "2025-06-24T10:38:11.211078Z"
    }
   },
   "cell_type": "code",
   "source": [
    "X = dataset.iloc[:, :-1].values\n",
    "Y = dataset.iloc[:, -1].values"
   ],
   "id": "c4177cbd5eaf7030",
   "outputs": [],
   "execution_count": 6
  },
  {
   "metadata": {
    "ExecuteTime": {
     "end_time": "2025-06-24T10:38:11.335614Z",
     "start_time": "2025-06-24T10:38:11.328011Z"
    }
   },
   "cell_type": "code",
   "source": "X",
   "id": "5a216e5bc51405fe",
   "outputs": [
    {
     "data": {
      "text/plain": [
       "array([['vhigh', 'vhigh', '2', '2', 'small', 'med'],\n",
       "       ['vhigh', 'vhigh', '2', '2', 'small', 'high'],\n",
       "       ['vhigh', 'vhigh', '2', '2', 'med', 'low'],\n",
       "       ...,\n",
       "       ['low', 'low', '5more', 'more', 'big', 'low'],\n",
       "       ['low', 'low', '5more', 'more', 'big', 'med'],\n",
       "       ['low', 'low', '5more', 'more', 'big', 'high']],\n",
       "      shape=(1727, 6), dtype=object)"
      ]
     },
     "execution_count": 7,
     "metadata": {},
     "output_type": "execute_result"
    }
   ],
   "execution_count": 7
  },
  {
   "metadata": {
    "ExecuteTime": {
     "end_time": "2025-06-24T10:38:11.478539Z",
     "start_time": "2025-06-24T10:38:11.471225Z"
    }
   },
   "cell_type": "code",
   "source": "Y",
   "id": "4d383fe4e922a314",
   "outputs": [
    {
     "data": {
      "text/plain": [
       "array(['unacc', 'unacc', 'unacc', ..., 'unacc', 'good', 'vgood'],\n",
       "      shape=(1727,), dtype=object)"
      ]
     },
     "execution_count": 8,
     "metadata": {},
     "output_type": "execute_result"
    }
   ],
   "execution_count": 8
  },
  {
   "metadata": {},
   "cell_type": "markdown",
   "source": [
    "from sklearn.preprocessing import OrdinalEncoder  # Ordinal Relationship (Order Matters)\n",
    "from sklearn.preprocessing import OneHotEncoder  # Non-Ordinal Relationship (Order Doesn't Matter)\n",
    "\n",
    "from sklearn.preprocessing import LabelEncoder  # Y Categorical Data"
   ],
   "id": "4404129686999bda"
  },
  {
   "metadata": {},
   "cell_type": "markdown",
   "source": "### Convertion from categorical data into numerical form so that machine learning algorithm can work with it",
   "id": "b882a144f17e0cc2"
  },
  {
   "metadata": {},
   "cell_type": "markdown",
   "source": "#### A] Using class OrdinaryEncoder: converts categorical data in the feature matrix, which has ordinal relationship, into integers",
   "id": "ad637993355d1db8"
  },
  {
   "metadata": {
    "ExecuteTime": {
     "end_time": "2025-06-24T10:38:11.816953Z",
     "start_time": "2025-06-24T10:38:11.583077Z"
    }
   },
   "cell_type": "code",
   "source": "from sklearn.preprocessing import OrdinalEncoder",
   "id": "f9328fadd107fb7d",
   "outputs": [],
   "execution_count": 9
  },
  {
   "metadata": {
    "ExecuteTime": {
     "end_time": "2025-06-24T10:38:11.850311Z",
     "start_time": "2025-06-24T10:38:11.844006Z"
    }
   },
   "cell_type": "code",
   "source": "data = [[\"low\"], [\"medium\"], [\"high\"]]",
   "id": "7355d145b86b5d68",
   "outputs": [],
   "execution_count": 10
  },
  {
   "metadata": {
    "ExecuteTime": {
     "end_time": "2025-06-24T10:38:11.882743Z",
     "start_time": "2025-06-24T10:38:11.871723Z"
    }
   },
   "cell_type": "code",
   "source": [
    "OE = OrdinalEncoder()\n",
    "OE.fit_transform(data)"
   ],
   "id": "55b4ce39da388592",
   "outputs": [
    {
     "data": {
      "text/plain": [
       "array([[1.],\n",
       "       [2.],\n",
       "       [0.]])"
      ]
     },
     "execution_count": 11,
     "metadata": {},
     "output_type": "execute_result"
    }
   ],
   "execution_count": 11
  },
  {
   "metadata": {},
   "cell_type": "markdown",
   "source": "#### B] Using class OneHotEncoder: Converts categorical data which has no meaningful order, into binary vectors",
   "id": "77d18c1d34f8af8"
  },
  {
   "metadata": {
    "ExecuteTime": {
     "end_time": "2025-06-24T10:38:11.980947Z",
     "start_time": "2025-06-24T10:38:11.973971Z"
    }
   },
   "cell_type": "code",
   "source": "data = [[\"red\"], [\"blue\"], [\"orange\"]]",
   "id": "cd244798e87bf9dc",
   "outputs": [],
   "execution_count": 12
  },
  {
   "metadata": {
    "ExecuteTime": {
     "end_time": "2025-06-24T10:38:12.064871Z",
     "start_time": "2025-06-24T10:38:12.054327Z"
    }
   },
   "cell_type": "code",
   "source": [
    "from sklearn.preprocessing import OneHotEncoder\n",
    "OHE = OneHotEncoder()\n",
    "OHE.fit_transform(data)"
   ],
   "id": "ef36efdb4c685300",
   "outputs": [
    {
     "data": {
      "text/plain": [
       "<3x3 sparse matrix of type '<class 'numpy.float64'>'\n",
       "\twith 3 stored elements in Compressed Sparse Row format>"
      ]
     },
     "execution_count": 13,
     "metadata": {},
     "output_type": "execute_result"
    }
   ],
   "execution_count": 13
  },
  {
   "metadata": {
    "ExecuteTime": {
     "end_time": "2025-06-24T10:38:12.153679Z",
     "start_time": "2025-06-24T10:38:12.144494Z"
    }
   },
   "cell_type": "code",
   "source": "OHE.fit_transform(data).toarray()",
   "id": "20e9c0c872f18e3",
   "outputs": [
    {
     "data": {
      "text/plain": [
       "array([[0., 0., 1.],\n",
       "       [1., 0., 0.],\n",
       "       [0., 1., 0.]])"
      ]
     },
     "execution_count": 14,
     "metadata": {},
     "output_type": "execute_result"
    }
   ],
   "execution_count": 14
  },
  {
   "metadata": {},
   "cell_type": "markdown",
   "source": "#### C] Use of class LabelEncoder: Converts the target categorical data(output) into integers",
   "id": "dacd6fb788dee345"
  },
  {
   "metadata": {
    "ExecuteTime": {
     "end_time": "2025-06-24T10:38:12.258538Z",
     "start_time": "2025-06-24T10:38:12.249445Z"
    }
   },
   "cell_type": "code",
   "source": [
    "data = [\"yes\", \"no\"]\n",
    "\n",
    "from sklearn.preprocessing import LabelEncoder\n",
    "\n",
    "LE = LabelEncoder()\n",
    "LE.fit_transform(data)"
   ],
   "id": "5597940e51d7ae8c",
   "outputs": [
    {
     "data": {
      "text/plain": [
       "array([1, 0])"
      ]
     },
     "execution_count": 15,
     "metadata": {},
     "output_type": "execute_result"
    }
   ],
   "execution_count": 15
  },
  {
   "metadata": {
    "ExecuteTime": {
     "end_time": "2025-06-24T10:38:12.397776Z",
     "start_time": "2025-06-24T10:38:12.389815Z"
    }
   },
   "cell_type": "code",
   "source": [
    "data = [\"party\", \"put\", \"tv\", \"study\"]\n",
    "\n",
    "from sklearn.preprocessing import LabelEncoder\n",
    "\n",
    "LE = LabelEncoder()\n",
    "LE.fit_transform(data)"
   ],
   "id": "e31cf799546920c4",
   "outputs": [
    {
     "data": {
      "text/plain": [
       "array([0, 1, 3, 2])"
      ]
     },
     "execution_count": 16,
     "metadata": {},
     "output_type": "execute_result"
    }
   ],
   "execution_count": 16
  },
  {
   "metadata": {},
   "cell_type": "markdown",
   "source": "#### Step 5: Convert categorical data in X to integers",
   "id": "97358ac420ef0502"
  },
  {
   "metadata": {
    "ExecuteTime": {
     "end_time": "2025-06-24T10:38:12.481832Z",
     "start_time": "2025-06-24T10:38:12.467156Z"
    }
   },
   "cell_type": "code",
   "source": "X",
   "id": "3253dcc08ce1d33c",
   "outputs": [
    {
     "data": {
      "text/plain": [
       "array([['vhigh', 'vhigh', '2', '2', 'small', 'med'],\n",
       "       ['vhigh', 'vhigh', '2', '2', 'small', 'high'],\n",
       "       ['vhigh', 'vhigh', '2', '2', 'med', 'low'],\n",
       "       ...,\n",
       "       ['low', 'low', '5more', 'more', 'big', 'low'],\n",
       "       ['low', 'low', '5more', 'more', 'big', 'med'],\n",
       "       ['low', 'low', '5more', 'more', 'big', 'high']],\n",
       "      shape=(1727, 6), dtype=object)"
      ]
     },
     "execution_count": 17,
     "metadata": {},
     "output_type": "execute_result"
    }
   ],
   "execution_count": 17
  },
  {
   "metadata": {
    "ExecuteTime": {
     "end_time": "2025-06-24T10:38:12.674941Z",
     "start_time": "2025-06-24T10:38:12.667016Z"
    }
   },
   "cell_type": "code",
   "source": "Y",
   "id": "75ac7acefeee91af",
   "outputs": [
    {
     "data": {
      "text/plain": [
       "array(['unacc', 'unacc', 'unacc', ..., 'unacc', 'good', 'vgood'],\n",
       "      shape=(1727,), dtype=object)"
      ]
     },
     "execution_count": 18,
     "metadata": {},
     "output_type": "execute_result"
    }
   ],
   "execution_count": 18
  },
  {
   "metadata": {
    "ExecuteTime": {
     "end_time": "2025-06-24T10:38:12.761131Z",
     "start_time": "2025-06-24T10:38:12.745271Z"
    }
   },
   "cell_type": "code",
   "source": [
    "from sklearn.preprocessing import OrdinalEncoder\n",
    "\n",
    "OE = OrdinalEncoder()\n",
    "X = np.array(OE.fit_transform(X))\n",
    "X"
   ],
   "id": "4aeda68cfa10ed44",
   "outputs": [
    {
     "data": {
      "text/plain": [
       "array([[3., 3., 0., 0., 2., 2.],\n",
       "       [3., 3., 0., 0., 2., 0.],\n",
       "       [3., 3., 0., 0., 1., 1.],\n",
       "       ...,\n",
       "       [1., 1., 3., 2., 0., 1.],\n",
       "       [1., 1., 3., 2., 0., 2.],\n",
       "       [1., 1., 3., 2., 0., 0.]], shape=(1727, 6))"
      ]
     },
     "execution_count": 19,
     "metadata": {},
     "output_type": "execute_result"
    }
   ],
   "execution_count": 19
  },
  {
   "metadata": {},
   "cell_type": "markdown",
   "source": "#### Step 6: Convert categorical data in Y into integers",
   "id": "12422c504ccd04a"
  },
  {
   "metadata": {
    "ExecuteTime": {
     "end_time": "2025-06-24T10:38:12.910914Z",
     "start_time": "2025-06-24T10:38:12.897112Z"
    }
   },
   "cell_type": "code",
   "source": [
    "from sklearn.preprocessing import LabelEncoder\n",
    "\n",
    "LE = LabelEncoder()\n",
    "Y = np.array(LE.fit_transform(Y))\n",
    "Y"
   ],
   "id": "e093d8d058b8d470",
   "outputs": [
    {
     "data": {
      "text/plain": [
       "array([2, 2, 2, ..., 2, 1, 3], shape=(1727,))"
      ]
     },
     "execution_count": 20,
     "metadata": {},
     "output_type": "execute_result"
    }
   ],
   "execution_count": 20
  },
  {
   "metadata": {},
   "cell_type": "markdown",
   "source": "### Step B: Building multiclassifier using KNN, NB, DT, RF algorithm",
   "id": "1531616817ac2ae3"
  },
  {
   "metadata": {},
   "cell_type": "markdown",
   "source": "#### Step 1: Split the data into training and testing dataset",
   "id": "ef492eba8c29e5fc"
  },
  {
   "metadata": {
    "ExecuteTime": {
     "end_time": "2025-06-24T10:38:13.110704Z",
     "start_time": "2025-06-24T10:38:13.035653Z"
    }
   },
   "cell_type": "code",
   "source": [
    "from sklearn.model_selection import train_test_split\n",
    "\n",
    "x_train, x_test, y_train, y_test = train_test_split(X, Y, test_size=0.2)"
   ],
   "id": "df9cbfe0f82a459d",
   "outputs": [],
   "execution_count": 21
  },
  {
   "metadata": {},
   "cell_type": "markdown",
   "source": "#### Step 2: Build the model",
   "id": "4ae0cd113dd68819"
  },
  {
   "metadata": {},
   "cell_type": "markdown",
   "source": "#### i) KNN Model",
   "id": "329d17b98098647e"
  },
  {
   "metadata": {
    "ExecuteTime": {
     "end_time": "2025-06-24T10:38:13.250136Z",
     "start_time": "2025-06-24T10:38:13.145026Z"
    }
   },
   "cell_type": "code",
   "source": [
    "from sklearn.neighbors import KNeighborsClassifier\n",
    "\n",
    "KNN = KNeighborsClassifier(8)\n",
    "KNN.fit(x_train, y_train)\n",
    "y_pred_KNN = KNN.predict(x_test)"
   ],
   "id": "1f8615777cbb80b2",
   "outputs": [],
   "execution_count": 22
  },
  {
   "metadata": {},
   "cell_type": "markdown",
   "source": "#### ii) Naive Bayes Model",
   "id": "4af47a1baba15638"
  },
  {
   "metadata": {
    "ExecuteTime": {
     "end_time": "2025-06-24T10:38:13.283468Z",
     "start_time": "2025-06-24T10:38:13.271828Z"
    }
   },
   "cell_type": "code",
   "source": [
    "from sklearn.naive_bayes import GaussianNB\n",
    "\n",
    "NB = GaussianNB()\n",
    "NB.fit(x_train, y_train)\n",
    "y_pred_NB = NB.predict(x_test)"
   ],
   "id": "fe393b603c69259f",
   "outputs": [],
   "execution_count": 23
  },
  {
   "metadata": {},
   "cell_type": "markdown",
   "source": "#### iii) Decision Tree Model",
   "id": "31ccd445299b5670"
  },
  {
   "metadata": {
    "ExecuteTime": {
     "end_time": "2025-06-24T10:38:13.342480Z",
     "start_time": "2025-06-24T10:38:13.321725Z"
    }
   },
   "cell_type": "code",
   "source": [
    "from sklearn.tree import DecisionTreeClassifier\n",
    "\n",
    "DT = DecisionTreeClassifier(criterion=\"entropy\", max_depth=4)\n",
    "DT.fit(x_train, y_train)\n",
    "y_pred_DT = DT.predict(x_test)"
   ],
   "id": "a47803a5507546c7",
   "outputs": [],
   "execution_count": 24
  },
  {
   "metadata": {},
   "cell_type": "markdown",
   "source": "#### iv) Random Forest Classifier",
   "id": "da4470805c69d93a"
  },
  {
   "metadata": {
    "ExecuteTime": {
     "end_time": "2025-06-24T10:38:15.277708Z",
     "start_time": "2025-06-24T10:38:13.363204Z"
    }
   },
   "cell_type": "code",
   "source": [
    "from sklearn.ensemble import RandomForestClassifier\n",
    "\n",
    "RF = RandomForestClassifier(1000, criterion=\"entropy\")\n",
    "RF.fit(x_train, y_train)\n",
    "y_pred_RF = RF.predict(x_test)"
   ],
   "id": "2783b967fe1b1a19",
   "outputs": [],
   "execution_count": 25
  },
  {
   "metadata": {
    "ExecuteTime": {
     "end_time": "2025-06-24T10:38:15.315271Z",
     "start_time": "2025-06-24T10:38:15.307776Z"
    }
   },
   "cell_type": "code",
   "source": "from sklearn.metrics import confusion_matrix, accuracy_score, precision_score, recall_score, f1_score",
   "id": "dd7935371ee4657f",
   "outputs": [],
   "execution_count": 26
  },
  {
   "metadata": {
    "ExecuteTime": {
     "end_time": "2025-06-24T10:38:15.398325Z",
     "start_time": "2025-06-24T10:38:15.358974Z"
    }
   },
   "cell_type": "code",
   "source": [
    "print(\"**************\" * 2)\n",
    "print(\"KNN Classifier\")\n",
    "print(\"**************\" * 2)\n",
    "print(f\"1. Confusion Matrix:\\n{confusion_matrix(y_test, y_pred_KNN)}\")\n",
    "print(f\"2. Accuracy Matrix: {accuracy_score(y_test, y_pred_KNN)}\")\n",
    "print(f\"3. Precision Score: {precision_score(y_test, y_pred_KNN, average=None)}\")\n",
    "print(f\"4. Recall Score: {recall_score(y_test, y_pred_KNN, average=None)}\")\n",
    "print(f\"5. F1 Score: {f1_score(y_test, y_pred_KNN, average=None)}\")\n",
    "print(\"**************\" * 2)\n",
    "print(\"NB Classifier\")\n",
    "print(\"**************\" * 2)\n",
    "print(f\"1. Confusion Matrix:\\n{confusion_matrix(y_test, y_pred_NB)}\")\n",
    "print(f\"2. Accuracy Matrix: {accuracy_score(y_test, y_pred_NB)}\")\n",
    "print(f\"3. Precision Score: {precision_score(y_test, y_pred_NB, average=None)}\")\n",
    "print(f\"4. Recall Score: {recall_score(y_test, y_pred_NB, average=None)}\")\n",
    "print(f\"5. F1 Score: {f1_score(y_test, y_pred_NB, average=None)}\")\n",
    "print(\"**************\" * 2)\n",
    "print(\"DT Classifier\")\n",
    "print(\"**************\" * 2)\n",
    "print(f\"1. Confusion Matrix:\\n{confusion_matrix(y_test, y_pred_DT)}\")\n",
    "print(f\"2. Accuracy Matrix: {accuracy_score(y_test, y_pred_DT)}\")\n",
    "print(f\"3. Precision Score: {precision_score(y_test, y_pred_DT, average=None)}\")\n",
    "print(f\"4. Recall Score: {recall_score(y_test, y_pred_DT, average=None)}\")\n",
    "print(f\"5. F1 Score: {f1_score(y_test, y_pred_DT, average=None)}\")\n",
    "print(\"**************\" * 2)\n",
    "print(\"RF Classifier\")\n",
    "print(\"**************\" * 2)\n",
    "print(f\"1. Confusion Matrix:\\n{confusion_matrix(y_test, y_pred_RF)}\")\n",
    "print(f\"2. Accuracy Matrix: {accuracy_score(y_test, y_pred_RF)}\")\n",
    "print(f\"3. Precision Score: {precision_score(y_test, y_pred_RF, average=None)}\")\n",
    "print(f\"4. Recall Score: {recall_score(y_test, y_pred_RF, average=None)}\")\n",
    "print(f\"5. F1 Score: {f1_score(y_test, y_pred_RF, average=None)}\")"
   ],
   "id": "745eadbb39728672",
   "outputs": [
    {
     "name": "stdout",
     "output_type": "stream",
     "text": [
      "****************************\n",
      "KNN Classifier\n",
      "****************************\n",
      "1. Confusion Matrix:\n",
      "[[ 58   0  22   0]\n",
      " [  7   5   0   0]\n",
      " [ 10   0 233   0]\n",
      " [  0   0   1  10]]\n",
      "2. Accuracy Matrix: 0.884393063583815\n",
      "3. Precision Score: [0.77333333 1.         0.91015625 1.        ]\n",
      "4. Recall Score: [0.725      0.41666667 0.95884774 0.90909091]\n",
      "5. F1 Score: [0.7483871  0.58823529 0.93386774 0.95238095]\n",
      "****************************\n",
      "NB Classifier\n",
      "****************************\n",
      "1. Confusion Matrix:\n",
      "[[  7   0  31  42]\n",
      " [  6   0   4   2]\n",
      " [  4   0 186  53]\n",
      " [  0   0   0  11]]\n",
      "2. Accuracy Matrix: 0.5895953757225434\n",
      "3. Precision Score: [0.41176471 0.         0.84162896 0.10185185]\n",
      "4. Recall Score: [0.0875    0.        0.7654321 1.       ]\n",
      "5. F1 Score: [0.1443299  0.         0.80172414 0.18487395]\n",
      "****************************\n",
      "DT Classifier\n",
      "****************************\n",
      "1. Confusion Matrix:\n",
      "[[ 69   0  11   0]\n",
      " [ 12   0   0   0]\n",
      " [ 36   0 207   0]\n",
      " [ 11   0   0   0]]\n",
      "2. Accuracy Matrix: 0.7976878612716763\n",
      "3. Precision Score: [0.5390625  0.         0.94954128 0.        ]\n",
      "4. Recall Score: [0.8625     0.         0.85185185 0.        ]\n",
      "5. F1 Score: [0.66346154 0.         0.89804772 0.        ]\n",
      "****************************\n",
      "RF Classifier\n",
      "****************************\n",
      "1. Confusion Matrix:\n",
      "[[ 75   3   2   0]\n",
      " [  3   9   0   0]\n",
      " [  6   0 237   0]\n",
      " [  0   0   0  11]]\n",
      "2. Accuracy Matrix: 0.9595375722543352\n",
      "3. Precision Score: [0.89285714 0.75       0.9916318  1.        ]\n",
      "4. Recall Score: [0.9375     0.75       0.97530864 1.        ]\n",
      "5. F1 Score: [0.91463415 0.75       0.98340249 1.        ]\n"
     ]
    },
    {
     "name": "stderr",
     "output_type": "stream",
     "text": [
      "C:\\Users\\swapn\\AppData\\Local\\Packages\\PythonSoftwareFoundation.Python.3.12_qbz5n2kfra8p0\\LocalCache\\local-packages\\Python312\\site-packages\\sklearn\\metrics\\_classification.py:1517: UndefinedMetricWarning: Precision is ill-defined and being set to 0.0 in labels with no predicted samples. Use `zero_division` parameter to control this behavior.\n",
      "  _warn_prf(average, modifier, f\"{metric.capitalize()} is\", len(result))\n",
      "C:\\Users\\swapn\\AppData\\Local\\Packages\\PythonSoftwareFoundation.Python.3.12_qbz5n2kfra8p0\\LocalCache\\local-packages\\Python312\\site-packages\\sklearn\\metrics\\_classification.py:1517: UndefinedMetricWarning: Precision is ill-defined and being set to 0.0 in labels with no predicted samples. Use `zero_division` parameter to control this behavior.\n",
      "  _warn_prf(average, modifier, f\"{metric.capitalize()} is\", len(result))\n"
     ]
    }
   ],
   "execution_count": 27
  }
 ],
 "metadata": {
  "kernelspec": {
   "display_name": "Python 3",
   "language": "python",
   "name": "python3"
  },
  "language_info": {
   "codemirror_mode": {
    "name": "ipython",
    "version": 2
   },
   "file_extension": ".py",
   "mimetype": "text/x-python",
   "name": "python",
   "nbconvert_exporter": "python",
   "pygments_lexer": "ipython2",
   "version": "2.7.6"
  }
 },
 "nbformat": 4,
 "nbformat_minor": 5
}
