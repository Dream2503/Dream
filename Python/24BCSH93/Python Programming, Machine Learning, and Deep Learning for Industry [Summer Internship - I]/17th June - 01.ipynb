{
 "cells": [
  {
   "cell_type": "code",
   "id": "initial_id",
   "metadata": {
    "collapsed": true,
    "ExecuteTime": {
     "end_time": "2025-06-30T18:55:19.858704Z",
     "start_time": "2025-06-30T18:55:19.853497Z"
    }
   },
   "source": "import numpy as np",
   "outputs": [],
   "execution_count": 1
  },
  {
   "metadata": {
    "ExecuteTime": {
     "end_time": "2025-06-30T18:55:20.093553Z",
     "start_time": "2025-06-30T18:55:20.078811Z"
    }
   },
   "cell_type": "code",
   "source": [
    "x = np.eye(5)\n",
    "x"
   ],
   "id": "d1e98d6781395f6e",
   "outputs": [
    {
     "data": {
      "text/plain": [
       "array([[1., 0., 0., 0., 0.],\n",
       "       [0., 1., 0., 0., 0.],\n",
       "       [0., 0., 1., 0., 0.],\n",
       "       [0., 0., 0., 1., 0.],\n",
       "       [0., 0., 0., 0., 1.]])"
      ]
     },
     "execution_count": 2,
     "metadata": {},
     "output_type": "execute_result"
    }
   ],
   "execution_count": 2
  },
  {
   "metadata": {
    "ExecuteTime": {
     "end_time": "2025-06-30T18:55:20.194831Z",
     "start_time": "2025-06-30T18:55:20.179198Z"
    }
   },
   "cell_type": "code",
   "source": [
    "x = np.eye(5, dtype=int)\n",
    "x"
   ],
   "id": "7291cb94323cb332",
   "outputs": [
    {
     "data": {
      "text/plain": [
       "array([[1, 0, 0, 0, 0],\n",
       "       [0, 1, 0, 0, 0],\n",
       "       [0, 0, 1, 0, 0],\n",
       "       [0, 0, 0, 1, 0],\n",
       "       [0, 0, 0, 0, 1]])"
      ]
     },
     "execution_count": 3,
     "metadata": {},
     "output_type": "execute_result"
    }
   ],
   "execution_count": 3
  },
  {
   "metadata": {
    "ExecuteTime": {
     "end_time": "2025-06-30T18:55:20.327500Z",
     "start_time": "2025-06-30T18:55:20.308635Z"
    }
   },
   "cell_type": "code",
   "source": "x.reshape(-1)",
   "id": "4ac08fe9eb829088",
   "outputs": [
    {
     "data": {
      "text/plain": [
       "array([1, 0, 0, 0, 0, 0, 1, 0, 0, 0, 0, 0, 1, 0, 0, 0, 0, 0, 1, 0, 0, 0,\n",
       "       0, 0, 1])"
      ]
     },
     "execution_count": 4,
     "metadata": {},
     "output_type": "execute_result"
    }
   ],
   "execution_count": 4
  },
  {
   "metadata": {},
   "cell_type": "markdown",
   "source": [
    "boolean index<br>\n",
    "0 - False<br>\n",
    "1 - True"
   ],
   "id": "bb09bfcd182bb9ca"
  },
  {
   "metadata": {
    "ExecuteTime": {
     "end_time": "2025-06-30T18:55:20.829549Z",
     "start_time": "2025-06-30T18:55:20.814130Z"
    }
   },
   "cell_type": "code",
   "source": "a = np.array([1, 5, 3, 7, 9, 0.5, 4])",
   "id": "eff64fd3c4d259df",
   "outputs": [],
   "execution_count": 5
  },
  {
   "metadata": {
    "ExecuteTime": {
     "end_time": "2025-06-30T18:55:21.056200Z",
     "start_time": "2025-06-30T18:55:21.040169Z"
    }
   },
   "cell_type": "code",
   "source": "a < 20",
   "id": "e44239b968e53c5b",
   "outputs": [
    {
     "data": {
      "text/plain": [
       "array([ True,  True,  True,  True,  True,  True,  True])"
      ]
     },
     "execution_count": 6,
     "metadata": {},
     "output_type": "execute_result"
    }
   ],
   "execution_count": 6
  },
  {
   "metadata": {
    "ExecuteTime": {
     "end_time": "2025-06-30T18:55:21.277539Z",
     "start_time": "2025-06-30T18:55:21.261600Z"
    }
   },
   "cell_type": "code",
   "source": "a < 3",
   "id": "dae1e41bdd726a3a",
   "outputs": [
    {
     "data": {
      "text/plain": [
       "array([ True, False, False, False, False,  True, False])"
      ]
     },
     "execution_count": 7,
     "metadata": {},
     "output_type": "execute_result"
    }
   ],
   "execution_count": 7
  },
  {
   "metadata": {
    "ExecuteTime": {
     "end_time": "2025-06-30T18:55:21.418519Z",
     "start_time": "2025-06-30T18:55:21.410518Z"
    }
   },
   "cell_type": "code",
   "source": "a[a < 3]",
   "id": "1924aa3751862488",
   "outputs": [
    {
     "data": {
      "text/plain": [
       "array([1. , 0.5])"
      ]
     },
     "execution_count": 8,
     "metadata": {},
     "output_type": "execute_result"
    }
   ],
   "execution_count": 8
  },
  {
   "metadata": {
    "ExecuteTime": {
     "end_time": "2025-06-30T18:55:21.647284Z",
     "start_time": "2025-06-30T18:55:21.639186Z"
    }
   },
   "cell_type": "code",
   "source": [
    "a = np.array([[10, 15, 20],\n",
    "              [25, 30, 35]])"
   ],
   "id": "a40d4ae2fb1fb8d3",
   "outputs": [],
   "execution_count": 9
  },
  {
   "metadata": {
    "ExecuteTime": {
     "end_time": "2025-06-30T18:55:21.797740Z",
     "start_time": "2025-06-30T18:55:21.789013Z"
    }
   },
   "cell_type": "code",
   "source": "a[a > 20]",
   "id": "5d4dd0ce3ba3ba2c",
   "outputs": [
    {
     "data": {
      "text/plain": [
       "array([25, 30, 35])"
      ]
     },
     "execution_count": 10,
     "metadata": {},
     "output_type": "execute_result"
    }
   ],
   "execution_count": 10
  },
  {
   "metadata": {
    "ExecuteTime": {
     "end_time": "2025-06-30T18:55:22.017629Z",
     "start_time": "2025-06-30T18:55:22.001537Z"
    }
   },
   "cell_type": "code",
   "source": "a[a > 18]",
   "id": "d4a4db2f7e3129e6",
   "outputs": [
    {
     "data": {
      "text/plain": [
       "array([20, 25, 30, 35])"
      ]
     },
     "execution_count": 11,
     "metadata": {},
     "output_type": "execute_result"
    }
   ],
   "execution_count": 11
  },
  {
   "metadata": {
    "ExecuteTime": {
     "end_time": "2025-06-30T18:55:22.140816Z",
     "start_time": "2025-06-30T18:55:22.128095Z"
    }
   },
   "cell_type": "code",
   "source": [
    "a[a < 20] = 0\n",
    "a"
   ],
   "id": "270334f3b320087e",
   "outputs": [
    {
     "data": {
      "text/plain": [
       "array([[ 0,  0, 20],\n",
       "       [25, 30, 35]])"
      ]
     },
     "execution_count": 12,
     "metadata": {},
     "output_type": "execute_result"
    }
   ],
   "execution_count": 12
  },
  {
   "metadata": {
    "ExecuteTime": {
     "end_time": "2025-06-30T18:55:22.368389Z",
     "start_time": "2025-06-30T18:55:22.352616Z"
    }
   },
   "cell_type": "code",
   "source": [
    "a = np.array([[1, 2, 3], [10, 20, 30]])\n",
    "b = np.array([[3, 6, 8], [5, 6, 2], [5, 6, 9]])"
   ],
   "id": "e150c679f2e542cd",
   "outputs": [],
   "execution_count": 13
  },
  {
   "metadata": {
    "ExecuteTime": {
     "end_time": "2025-06-30T18:55:22.528738Z",
     "start_time": "2025-06-30T18:55:22.513374Z"
    }
   },
   "cell_type": "code",
   "source": "a.shape",
   "id": "1cc87e6bcbab310a",
   "outputs": [
    {
     "data": {
      "text/plain": [
       "(2, 3)"
      ]
     },
     "execution_count": 14,
     "metadata": {},
     "output_type": "execute_result"
    }
   ],
   "execution_count": 14
  },
  {
   "metadata": {
    "ExecuteTime": {
     "end_time": "2025-06-30T18:55:22.740529Z",
     "start_time": "2025-06-30T18:55:22.725212Z"
    }
   },
   "cell_type": "code",
   "source": "b.shape",
   "id": "88d1750620df197",
   "outputs": [
    {
     "data": {
      "text/plain": [
       "(3, 3)"
      ]
     },
     "execution_count": 15,
     "metadata": {},
     "output_type": "execute_result"
    }
   ],
   "execution_count": 15
  },
  {
   "metadata": {
    "ExecuteTime": {
     "end_time": "2025-06-30T18:55:22.911200Z",
     "start_time": "2025-06-30T18:55:22.895598Z"
    }
   },
   "cell_type": "code",
   "source": "a.dot(b)",
   "id": "d6c0b5f2018e312d",
   "outputs": [
    {
     "data": {
      "text/plain": [
       "array([[ 28,  36,  39],\n",
       "       [280, 360, 390]])"
      ]
     },
     "execution_count": 16,
     "metadata": {},
     "output_type": "execute_result"
    }
   ],
   "execution_count": 16
  },
  {
   "metadata": {
    "ExecuteTime": {
     "end_time": "2025-06-30T18:55:23.205429Z",
     "start_time": "2025-06-30T18:55:23.195326Z"
    }
   },
   "cell_type": "code",
   "source": "np.matmul(a, b)",
   "id": "d3b1325a1ca860d1",
   "outputs": [
    {
     "data": {
      "text/plain": [
       "array([[ 28,  36,  39],\n",
       "       [280, 360, 390]])"
      ]
     },
     "execution_count": 17,
     "metadata": {},
     "output_type": "execute_result"
    }
   ],
   "execution_count": 17
  },
  {
   "metadata": {
    "ExecuteTime": {
     "end_time": "2025-06-30T18:55:23.477623Z",
     "start_time": "2025-06-30T18:55:23.461557Z"
    }
   },
   "cell_type": "code",
   "source": "a @ b",
   "id": "c06f20e52f6406d5",
   "outputs": [
    {
     "data": {
      "text/plain": [
       "array([[ 28,  36,  39],\n",
       "       [280, 360, 390]])"
      ]
     },
     "execution_count": 18,
     "metadata": {},
     "output_type": "execute_result"
    }
   ],
   "execution_count": 18
  },
  {
   "metadata": {
    "ExecuteTime": {
     "end_time": "2025-06-30T18:55:23.680254Z",
     "start_time": "2025-06-30T18:55:23.671891Z"
    }
   },
   "cell_type": "code",
   "source": [
    "data = np.array([[10, 20, 30],\n",
    "                 [5, 15, 25]])"
   ],
   "id": "b1da63a98f74a4d",
   "outputs": [],
   "execution_count": 19
  },
  {
   "metadata": {},
   "cell_type": "markdown",
   "source": "apply_along_axis",
   "id": "a330d219142e828c"
  },
  {
   "metadata": {
    "ExecuteTime": {
     "end_time": "2025-06-30T18:55:23.946536Z",
     "start_time": "2025-06-30T18:55:23.933707Z"
    }
   },
   "cell_type": "code",
   "source": [
    "def range_of_row(x):\n",
    "    return x.max() - x.min()"
   ],
   "id": "e55c8c14e141c476",
   "outputs": [],
   "execution_count": 20
  },
  {
   "metadata": {
    "ExecuteTime": {
     "end_time": "2025-06-30T18:55:24.083755Z",
     "start_time": "2025-06-30T18:55:24.077237Z"
    }
   },
   "cell_type": "code",
   "source": "np.apply_along_axis(range_of_row, 0, data)",
   "id": "31e495eefd4ff013",
   "outputs": [
    {
     "data": {
      "text/plain": [
       "array([5, 5, 5])"
      ]
     },
     "execution_count": 21,
     "metadata": {},
     "output_type": "execute_result"
    }
   ],
   "execution_count": 21
  },
  {
   "metadata": {
    "ExecuteTime": {
     "end_time": "2025-06-30T18:55:24.231963Z",
     "start_time": "2025-06-30T18:55:24.223698Z"
    }
   },
   "cell_type": "code",
   "source": [
    "data = np.array([[10, 23, 32],\n",
    "                 [5, 15, 25]])"
   ],
   "id": "a4339ecef0592c1a",
   "outputs": [],
   "execution_count": 22
  },
  {
   "metadata": {
    "ExecuteTime": {
     "end_time": "2025-06-30T18:55:24.426617Z",
     "start_time": "2025-06-30T18:55:24.411602Z"
    }
   },
   "cell_type": "code",
   "source": "np.apply_along_axis(range_of_row, 0, data)",
   "id": "6cdb562aed5460c",
   "outputs": [
    {
     "data": {
      "text/plain": [
       "array([5, 8, 7])"
      ]
     },
     "execution_count": 23,
     "metadata": {},
     "output_type": "execute_result"
    }
   ],
   "execution_count": 23
  },
  {
   "metadata": {
    "ExecuteTime": {
     "end_time": "2025-06-30T18:55:24.598352Z",
     "start_time": "2025-06-30T18:55:24.590297Z"
    }
   },
   "cell_type": "code",
   "source": "np.apply_along_axis(range_of_row, 1, data)",
   "id": "4b9895c2f63b3539",
   "outputs": [
    {
     "data": {
      "text/plain": [
       "array([22, 20])"
      ]
     },
     "execution_count": 24,
     "metadata": {},
     "output_type": "execute_result"
    }
   ],
   "execution_count": 24
  },
  {
   "metadata": {
    "ExecuteTime": {
     "end_time": "2025-06-30T18:55:24.801019Z",
     "start_time": "2025-06-30T18:55:24.785232Z"
    }
   },
   "cell_type": "code",
   "source": [
    "data = np.array([[10, 23, 32],\n",
    "                 [5, 15, 25]])"
   ],
   "id": "7d54580fc08f9d25",
   "outputs": [],
   "execution_count": 25
  },
  {
   "metadata": {
    "ExecuteTime": {
     "end_time": "2025-06-30T18:55:24.987508Z",
     "start_time": "2025-06-30T18:55:24.971648Z"
    }
   },
   "cell_type": "code",
   "source": [
    "def custom(x):\n",
    "    if 0 < x <= 10:\n",
    "        return x ** 3\n",
    "    elif 10 < x <= 15:\n",
    "        return x ** 2\n",
    "    elif 15 < x <= 20:\n",
    "        return x ** 5\n",
    "    else:\n",
    "        return x ** 0.5"
   ],
   "id": "6dea88aeb8d6aa79",
   "outputs": [],
   "execution_count": 26
  },
  {
   "metadata": {
    "ExecuteTime": {
     "end_time": "2025-06-30T18:55:25.177383Z",
     "start_time": "2025-06-30T18:55:25.155421Z"
    }
   },
   "cell_type": "code",
   "source": "data.shape",
   "id": "65ff7ab43fa56c55",
   "outputs": [
    {
     "data": {
      "text/plain": [
       "(2, 3)"
      ]
     },
     "execution_count": 27,
     "metadata": {},
     "output_type": "execute_result"
    }
   ],
   "execution_count": 27
  },
  {
   "metadata": {
    "ExecuteTime": {
     "end_time": "2025-06-30T18:55:25.377858Z",
     "start_time": "2025-06-30T18:55:25.367279Z"
    }
   },
   "cell_type": "code",
   "source": "vectorized_custom = np.vectorize(custom)",
   "id": "100a93537778e948",
   "outputs": [],
   "execution_count": 28
  },
  {
   "metadata": {
    "ExecuteTime": {
     "end_time": "2025-06-30T18:55:25.591929Z",
     "start_time": "2025-06-30T18:55:25.550150Z"
    }
   },
   "cell_type": "code",
   "source": "vectorized_custom(data)",
   "id": "b83e5a02104291d8",
   "outputs": [
    {
     "data": {
      "text/plain": [
       "array([[1000,    4,    5],\n",
       "       [ 125,  225,    5]])"
      ]
     },
     "execution_count": 29,
     "metadata": {},
     "output_type": "execute_result"
    }
   ],
   "execution_count": 29
  },
  {
   "metadata": {
    "ExecuteTime": {
     "end_time": "2025-06-30T18:55:25.847475Z",
     "start_time": "2025-06-30T18:55:25.745442Z"
    }
   },
   "cell_type": "code",
   "source": [
    "arr = np.random.randint(0, 100, 10000000)\n",
    "arr"
   ],
   "id": "a181e5117146dbb9",
   "outputs": [
    {
     "data": {
      "text/plain": [
       "array([ 5, 45, 99, ..., 77, 67, 73])"
      ]
     },
     "execution_count": 30,
     "metadata": {},
     "output_type": "execute_result"
    }
   ],
   "execution_count": 30
  },
  {
   "metadata": {},
   "cell_type": "markdown",
   "source": "method 1: loop (slow)",
   "id": "496e2d961ba44f75"
  },
  {
   "metadata": {
    "ExecuteTime": {
     "end_time": "2025-06-30T18:55:26.071423Z",
     "start_time": "2025-06-30T18:55:26.063561Z"
    }
   },
   "cell_type": "code",
   "source": [
    "def square_loop(x):\n",
    "    return [i ** 2 for i in x]"
   ],
   "id": "77a324124270fc2b",
   "outputs": [],
   "execution_count": 31
  },
  {
   "metadata": {},
   "cell_type": "markdown",
   "source": "method 2: vectorized (fast)",
   "id": "d033bbe1d97ffcfe"
  },
  {
   "metadata": {
    "ExecuteTime": {
     "end_time": "2025-06-30T18:55:26.462676Z",
     "start_time": "2025-06-30T18:55:26.453975Z"
    }
   },
   "cell_type": "code",
   "source": [
    "def square_vectorized(x):\n",
    "    return x ** 2"
   ],
   "id": "7a0fba066c872b17",
   "outputs": [],
   "execution_count": 32
  },
  {
   "metadata": {
    "ExecuteTime": {
     "end_time": "2025-06-30T18:55:44.943837Z",
     "start_time": "2025-06-30T18:55:26.630150Z"
    }
   },
   "cell_type": "code",
   "source": [
    "%timeit square_loop(arr)\n",
    "%timeit square_vectorized(arr)"
   ],
   "id": "78f58e00f0bf6241",
   "outputs": [
    {
     "name": "stdout",
     "output_type": "stream",
     "text": [
      "1.14 s ± 75.5 ms per loop (mean ± std. dev. of 7 runs, 1 loop each)\n",
      "11.3 ms ± 75.9 μs per loop (mean ± std. dev. of 7 runs, 100 loops each)\n"
     ]
    }
   ],
   "execution_count": 33
  },
  {
   "metadata": {
    "ExecuteTime": {
     "end_time": "2025-06-30T18:55:44.977427Z",
     "start_time": "2025-06-30T18:55:44.968498Z"
    }
   },
   "cell_type": "code",
   "source": "a = np.array([1, 2, 3, 4, 5])",
   "id": "b74ea8fd3d4c0979",
   "outputs": [],
   "execution_count": 34
  },
  {
   "metadata": {
    "ExecuteTime": {
     "end_time": "2025-06-30T18:55:45.014463Z",
     "start_time": "2025-06-30T18:55:44.999320Z"
    }
   },
   "cell_type": "code",
   "source": [
    "b = a[1:4]\n",
    "b"
   ],
   "id": "65e510b32309660e",
   "outputs": [
    {
     "data": {
      "text/plain": [
       "array([2, 3, 4])"
      ]
     },
     "execution_count": 35,
     "metadata": {},
     "output_type": "execute_result"
    }
   ],
   "execution_count": 35
  },
  {
   "metadata": {
    "ExecuteTime": {
     "end_time": "2025-06-30T18:55:45.082828Z",
     "start_time": "2025-06-30T18:55:45.062266Z"
    }
   },
   "cell_type": "code",
   "source": "b[0] = 322",
   "id": "e41d7582f995570c",
   "outputs": [],
   "execution_count": 36
  },
  {
   "metadata": {
    "ExecuteTime": {
     "end_time": "2025-06-30T18:55:45.122285Z",
     "start_time": "2025-06-30T18:55:45.113580Z"
    }
   },
   "cell_type": "code",
   "source": "a",
   "id": "aa245f3afdd7632",
   "outputs": [
    {
     "data": {
      "text/plain": [
       "array([  1, 322,   3,   4,   5])"
      ]
     },
     "execution_count": 37,
     "metadata": {},
     "output_type": "execute_result"
    }
   ],
   "execution_count": 37
  },
  {
   "metadata": {
    "ExecuteTime": {
     "end_time": "2025-06-30T18:55:46.237063Z",
     "start_time": "2025-06-30T18:55:46.221716Z"
    }
   },
   "cell_type": "code",
   "source": [
    "c = a[1:4].copy()\n",
    "c"
   ],
   "id": "e73e7fe977cd73f3",
   "outputs": [
    {
     "data": {
      "text/plain": [
       "array([322,   3,   4])"
      ]
     },
     "execution_count": 38,
     "metadata": {},
     "output_type": "execute_result"
    }
   ],
   "execution_count": 38
  },
  {
   "metadata": {
    "ExecuteTime": {
     "end_time": "2025-06-30T18:55:46.432151Z",
     "start_time": "2025-06-30T18:55:46.415909Z"
    }
   },
   "cell_type": "code",
   "source": "c[0] = 9211",
   "id": "b5886b446c38dd59",
   "outputs": [],
   "execution_count": 39
  },
  {
   "metadata": {
    "ExecuteTime": {
     "end_time": "2025-06-30T18:55:46.618890Z",
     "start_time": "2025-06-30T18:55:46.603009Z"
    }
   },
   "cell_type": "code",
   "source": "a",
   "id": "e01ca638a8558de2",
   "outputs": [
    {
     "data": {
      "text/plain": [
       "array([  1, 322,   3,   4,   5])"
      ]
     },
     "execution_count": 40,
     "metadata": {},
     "output_type": "execute_result"
    }
   ],
   "execution_count": 40
  },
  {
   "metadata": {},
   "cell_type": "markdown",
   "source": "splitting the array",
   "id": "ae25797a16529fe3"
  },
  {
   "metadata": {
    "ExecuteTime": {
     "end_time": "2025-06-30T18:55:47.002354Z",
     "start_time": "2025-06-30T18:55:46.977749Z"
    }
   },
   "cell_type": "code",
   "source": [
    "a = np.array([11, 12, 17, 20, 32, 45, 67, 45, 89, 90, 11, 99])\n",
    "a.size"
   ],
   "id": "53e578f76342b861",
   "outputs": [
    {
     "data": {
      "text/plain": [
       "12"
      ]
     },
     "execution_count": 41,
     "metadata": {},
     "output_type": "execute_result"
    }
   ],
   "execution_count": 41
  },
  {
   "metadata": {
    "ExecuteTime": {
     "end_time": "2025-06-30T18:55:47.156872Z",
     "start_time": "2025-06-30T18:55:47.143862Z"
    }
   },
   "cell_type": "code",
   "source": "np.split(a, 3)",
   "id": "c9c256589e06747b",
   "outputs": [
    {
     "data": {
      "text/plain": [
       "[array([11, 12, 17, 20]), array([32, 45, 67, 45]), array([89, 90, 11, 99])]"
      ]
     },
     "execution_count": 42,
     "metadata": {},
     "output_type": "execute_result"
    }
   ],
   "execution_count": 42
  },
  {
   "metadata": {
    "ExecuteTime": {
     "end_time": "2025-06-30T18:55:47.372699Z",
     "start_time": "2025-06-30T18:55:47.369185Z"
    }
   },
   "cell_type": "code",
   "source": "b = np.array([[1, 2, 3, 4], [10, 20, 30, 40]])",
   "id": "eff3b464a5ffc2a9",
   "outputs": [],
   "execution_count": 43
  },
  {
   "metadata": {
    "ExecuteTime": {
     "end_time": "2025-06-30T18:55:47.588433Z",
     "start_time": "2025-06-30T18:55:47.567166Z"
    }
   },
   "cell_type": "code",
   "source": "np.split(b, 2, 0)",
   "id": "a1f4cc1583f1a214",
   "outputs": [
    {
     "data": {
      "text/plain": [
       "[array([[1, 2, 3, 4]]), array([[10, 20, 30, 40]])]"
      ]
     },
     "execution_count": 44,
     "metadata": {},
     "output_type": "execute_result"
    }
   ],
   "execution_count": 44
  },
  {
   "metadata": {
    "ExecuteTime": {
     "end_time": "2025-06-30T18:55:47.774299Z",
     "start_time": "2025-06-30T18:55:47.766145Z"
    }
   },
   "cell_type": "code",
   "source": "np.split(b, 2, 1)",
   "id": "6ea98cd52a56f336",
   "outputs": [
    {
     "data": {
      "text/plain": [
       "[array([[ 1,  2],\n",
       "        [10, 20]]),\n",
       " array([[ 3,  4],\n",
       "        [30, 40]])]"
      ]
     },
     "execution_count": 45,
     "metadata": {},
     "output_type": "execute_result"
    }
   ],
   "execution_count": 45
  },
  {
   "metadata": {
    "ExecuteTime": {
     "end_time": "2025-06-30T18:55:47.954285Z",
     "start_time": "2025-06-30T18:55:47.938931Z"
    }
   },
   "cell_type": "code",
   "source": "np.split(b, 4, 1)",
   "id": "57a83f6896a90361",
   "outputs": [
    {
     "data": {
      "text/plain": [
       "[array([[ 1],\n",
       "        [10]]),\n",
       " array([[ 2],\n",
       "        [20]]),\n",
       " array([[ 3],\n",
       "        [30]]),\n",
       " array([[ 4],\n",
       "        [40]])]"
      ]
     },
     "execution_count": 46,
     "metadata": {},
     "output_type": "execute_result"
    }
   ],
   "execution_count": 46
  },
  {
   "metadata": {
    "ExecuteTime": {
     "end_time": "2025-06-30T18:55:48.171572Z",
     "start_time": "2025-06-30T18:55:48.157124Z"
    }
   },
   "cell_type": "code",
   "source": "a",
   "id": "4cbcbf76e1eeeca8",
   "outputs": [
    {
     "data": {
      "text/plain": [
       "array([11, 12, 17, 20, 32, 45, 67, 45, 89, 90, 11, 99])"
      ]
     },
     "execution_count": 47,
     "metadata": {},
     "output_type": "execute_result"
    }
   ],
   "execution_count": 47
  },
  {
   "metadata": {},
   "cell_type": "markdown",
   "source": "till 2, till 4, till7, remaining",
   "id": "45928316bf0dda60"
  },
  {
   "metadata": {
    "ExecuteTime": {
     "end_time": "2025-06-30T18:55:48.534611Z",
     "start_time": "2025-06-30T18:55:48.520570Z"
    }
   },
   "cell_type": "code",
   "source": "np.split(a, [2, 4, 7])",
   "id": "a2152362650f9cda",
   "outputs": [
    {
     "data": {
      "text/plain": [
       "[array([11, 12]),\n",
       " array([17, 20]),\n",
       " array([32, 45, 67]),\n",
       " array([45, 89, 90, 11, 99])]"
      ]
     },
     "execution_count": 48,
     "metadata": {},
     "output_type": "execute_result"
    }
   ],
   "execution_count": 48
  },
  {
   "metadata": {
    "ExecuteTime": {
     "end_time": "2025-06-30T18:55:48.676872Z",
     "start_time": "2025-06-30T18:55:48.668966Z"
    }
   },
   "cell_type": "code",
   "source": "np.split(a, [3, 5, 7, 9, 12])",
   "id": "d7f96330d67cdbfc",
   "outputs": [
    {
     "data": {
      "text/plain": [
       "[array([11, 12, 17]),\n",
       " array([20, 32]),\n",
       " array([45, 67]),\n",
       " array([45, 89]),\n",
       " array([90, 11, 99]),\n",
       " array([], dtype=int32)]"
      ]
     },
     "execution_count": 49,
     "metadata": {},
     "output_type": "execute_result"
    }
   ],
   "execution_count": 49
  },
  {
   "metadata": {
    "ExecuteTime": {
     "end_time": "2025-06-30T18:55:48.868623Z",
     "start_time": "2025-06-30T18:55:48.860894Z"
    }
   },
   "cell_type": "code",
   "source": "np.split(a, [3, 5, 7, 9, 11])",
   "id": "2fe237110721080a",
   "outputs": [
    {
     "data": {
      "text/plain": [
       "[array([11, 12, 17]),\n",
       " array([20, 32]),\n",
       " array([45, 67]),\n",
       " array([45, 89]),\n",
       " array([90, 11]),\n",
       " array([99])]"
      ]
     },
     "execution_count": 50,
     "metadata": {},
     "output_type": "execute_result"
    }
   ],
   "execution_count": 50
  },
  {
   "metadata": {
    "ExecuteTime": {
     "end_time": "2025-06-30T18:55:49.085746Z",
     "start_time": "2025-06-30T18:55:49.080404Z"
    }
   },
   "cell_type": "code",
   "source": [
    "arr = np.arange(32).reshape(4, 8)\n",
    "arr.shape"
   ],
   "id": "66749e7e45ce9385",
   "outputs": [
    {
     "data": {
      "text/plain": [
       "(4, 8)"
      ]
     },
     "execution_count": 51,
     "metadata": {},
     "output_type": "execute_result"
    }
   ],
   "execution_count": 51
  },
  {
   "metadata": {
    "ExecuteTime": {
     "end_time": "2025-06-30T18:55:49.284679Z",
     "start_time": "2025-06-30T18:55:49.271089Z"
    }
   },
   "cell_type": "code",
   "source": "arr",
   "id": "44df03adf53193fc",
   "outputs": [
    {
     "data": {
      "text/plain": [
       "array([[ 0,  1,  2,  3,  4,  5,  6,  7],\n",
       "       [ 8,  9, 10, 11, 12, 13, 14, 15],\n",
       "       [16, 17, 18, 19, 20, 21, 22, 23],\n",
       "       [24, 25, 26, 27, 28, 29, 30, 31]])"
      ]
     },
     "execution_count": 52,
     "metadata": {},
     "output_type": "execute_result"
    }
   ],
   "execution_count": 52
  },
  {
   "metadata": {
    "ExecuteTime": {
     "end_time": "2025-06-30T18:55:49.516727Z",
     "start_time": "2025-06-30T18:55:49.503924Z"
    }
   },
   "cell_type": "code",
   "source": "np.split(arr, 4, 0)",
   "id": "616cbc0f06a0fc5a",
   "outputs": [
    {
     "data": {
      "text/plain": [
       "[array([[0, 1, 2, 3, 4, 5, 6, 7]]),\n",
       " array([[ 8,  9, 10, 11, 12, 13, 14, 15]]),\n",
       " array([[16, 17, 18, 19, 20, 21, 22, 23]]),\n",
       " array([[24, 25, 26, 27, 28, 29, 30, 31]])]"
      ]
     },
     "execution_count": 53,
     "metadata": {},
     "output_type": "execute_result"
    }
   ],
   "execution_count": 53
  },
  {
   "metadata": {
    "ExecuteTime": {
     "end_time": "2025-06-30T18:55:49.745255Z",
     "start_time": "2025-06-30T18:55:49.736970Z"
    }
   },
   "cell_type": "code",
   "source": "np.split(arr, 4, 1)",
   "id": "8d38566a0f87f837",
   "outputs": [
    {
     "data": {
      "text/plain": [
       "[array([[ 0,  1],\n",
       "        [ 8,  9],\n",
       "        [16, 17],\n",
       "        [24, 25]]),\n",
       " array([[ 2,  3],\n",
       "        [10, 11],\n",
       "        [18, 19],\n",
       "        [26, 27]]),\n",
       " array([[ 4,  5],\n",
       "        [12, 13],\n",
       "        [20, 21],\n",
       "        [28, 29]]),\n",
       " array([[ 6,  7],\n",
       "        [14, 15],\n",
       "        [22, 23],\n",
       "        [30, 31]])]"
      ]
     },
     "execution_count": 54,
     "metadata": {},
     "output_type": "execute_result"
    }
   ],
   "execution_count": 54
  },
  {
   "metadata": {
    "ExecuteTime": {
     "end_time": "2025-06-30T18:55:49.989557Z",
     "start_time": "2025-06-30T18:55:49.953535Z"
    }
   },
   "cell_type": "code",
   "source": "np.savetxt(\"data/normalized_marks.csv\", arr, delimiter=\",\", fmt=\"%.2f\", header=\"One,Two,Three,Four\", comments=\"\")",
   "id": "a980955e1c0e9fde",
   "outputs": [],
   "execution_count": 55
  },
  {
   "metadata": {},
   "cell_type": "markdown",
   "source": "# Pandas",
   "id": "bff2ca804665e5d9"
  },
  {
   "metadata": {
    "ExecuteTime": {
     "end_time": "2025-06-30T18:55:51.669468Z",
     "start_time": "2025-06-30T18:55:50.192362Z"
    }
   },
   "cell_type": "code",
   "source": "!pip install pandas",
   "id": "e5f83abe0c4fa14",
   "outputs": [
    {
     "name": "stdout",
     "output_type": "stream",
     "text": [
      "Requirement already satisfied: pandas in c:\\users\\swapn\\appdata\\local\\programs\\python\\python310\\lib\\site-packages (2.3.0)\n",
      "Requirement already satisfied: numpy>=1.22.4 in c:\\users\\swapn\\appdata\\local\\programs\\python\\python310\\lib\\site-packages (from pandas) (1.26.4)\n",
      "Requirement already satisfied: python-dateutil>=2.8.2 in c:\\users\\swapn\\appdata\\local\\programs\\python\\python310\\lib\\site-packages (from pandas) (2.9.0.post0)\n",
      "Requirement already satisfied: pytz>=2020.1 in c:\\users\\swapn\\appdata\\local\\programs\\python\\python310\\lib\\site-packages (from pandas) (2025.2)\n",
      "Requirement already satisfied: tzdata>=2022.7 in c:\\users\\swapn\\appdata\\local\\programs\\python\\python310\\lib\\site-packages (from pandas) (2025.2)\n",
      "Requirement already satisfied: six>=1.5 in c:\\users\\swapn\\appdata\\local\\programs\\python\\python310\\lib\\site-packages (from python-dateutil>=2.8.2->pandas) (1.17.0)\n"
     ]
    }
   ],
   "execution_count": 56
  },
  {
   "metadata": {
    "ExecuteTime": {
     "end_time": "2025-06-30T18:55:53.120207Z",
     "start_time": "2025-06-30T18:55:53.106978Z"
    }
   },
   "cell_type": "code",
   "source": "import pandas as pd",
   "id": "738ce709f6c27b78",
   "outputs": [],
   "execution_count": 57
  },
  {
   "metadata": {
    "ExecuteTime": {
     "end_time": "2025-06-30T18:55:53.890376Z",
     "start_time": "2025-06-30T18:55:53.847028Z"
    }
   },
   "cell_type": "code",
   "source": [
    "marks = pd.Series([88, 75, 93, 91, 85], name=\"Marks\")\n",
    "marks"
   ],
   "id": "f74efe32542068ee",
   "outputs": [
    {
     "data": {
      "text/plain": [
       "0    88\n",
       "1    75\n",
       "2    93\n",
       "3    91\n",
       "4    85\n",
       "Name: Marks, dtype: int64"
      ]
     },
     "execution_count": 58,
     "metadata": {},
     "output_type": "execute_result"
    }
   ],
   "execution_count": 58
  },
  {
   "metadata": {
    "ExecuteTime": {
     "end_time": "2025-06-30T18:55:55.836761Z",
     "start_time": "2025-06-30T18:55:55.819515Z"
    }
   },
   "cell_type": "code",
   "source": [
    "data = {\n",
    "    \"Name\": [\"subhendu\", \"amrendra\", \"sahoo\"],\n",
    "    \"Marks\": [88, 86, 93]\n",
    "}"
   ],
   "id": "b0fe3c354da68972",
   "outputs": [],
   "execution_count": 59
  },
  {
   "metadata": {
    "ExecuteTime": {
     "end_time": "2025-06-30T18:55:56.745751Z",
     "start_time": "2025-06-30T18:55:56.702312Z"
    }
   },
   "cell_type": "code",
   "source": [
    "df = pd.DataFrame(data)\n",
    "df"
   ],
   "id": "cdf6033df33520f0",
   "outputs": [
    {
     "data": {
      "text/plain": [
       "       Name  Marks\n",
       "0  subhendu     88\n",
       "1  amrendra     86\n",
       "2     sahoo     93"
      ],
      "text/html": [
       "<div>\n",
       "<style scoped>\n",
       "    .dataframe tbody tr th:only-of-type {\n",
       "        vertical-align: middle;\n",
       "    }\n",
       "\n",
       "    .dataframe tbody tr th {\n",
       "        vertical-align: top;\n",
       "    }\n",
       "\n",
       "    .dataframe thead th {\n",
       "        text-align: right;\n",
       "    }\n",
       "</style>\n",
       "<table border=\"1\" class=\"dataframe\">\n",
       "  <thead>\n",
       "    <tr style=\"text-align: right;\">\n",
       "      <th></th>\n",
       "      <th>Name</th>\n",
       "      <th>Marks</th>\n",
       "    </tr>\n",
       "  </thead>\n",
       "  <tbody>\n",
       "    <tr>\n",
       "      <th>0</th>\n",
       "      <td>subhendu</td>\n",
       "      <td>88</td>\n",
       "    </tr>\n",
       "    <tr>\n",
       "      <th>1</th>\n",
       "      <td>amrendra</td>\n",
       "      <td>86</td>\n",
       "    </tr>\n",
       "    <tr>\n",
       "      <th>2</th>\n",
       "      <td>sahoo</td>\n",
       "      <td>93</td>\n",
       "    </tr>\n",
       "  </tbody>\n",
       "</table>\n",
       "</div>"
      ]
     },
     "execution_count": 60,
     "metadata": {},
     "output_type": "execute_result"
    }
   ],
   "execution_count": 60
  },
  {
   "metadata": {
    "ExecuteTime": {
     "end_time": "2025-06-30T18:55:57.652355Z",
     "start_time": "2025-06-30T18:55:57.637043Z"
    }
   },
   "cell_type": "code",
   "source": [
    "data = {\n",
    "    \"Name\": [\"Alice\", \"Bob\", \"Carol\", \"David\", \"Eva\"],\n",
    "    \"Age\": [19, 20, 19, 21, 20],\n",
    "    \"Gender\": [\"F\", \"M\", \"F\", \"M\", \"F\"],\n",
    "    \"Marks_Math\": [88, 75, 93, 70, 85],\n",
    "    \"Marks_Science\": [92, 78, 88, 72, 90],\n",
    "    \"Marks_English\": [85, 80, 90, 68, 87]\n",
    "}"
   ],
   "id": "4d9091007640f12f",
   "outputs": [],
   "execution_count": 61
  },
  {
   "metadata": {
    "ExecuteTime": {
     "end_time": "2025-06-30T18:55:58.038982Z",
     "start_time": "2025-06-30T18:55:58.017208Z"
    }
   },
   "cell_type": "code",
   "source": [
    "df = pd.DataFrame(data)\n",
    "df"
   ],
   "id": "54a34130d333c640",
   "outputs": [
    {
     "data": {
      "text/plain": [
       "    Name  Age Gender  Marks_Math  Marks_Science  Marks_English\n",
       "0  Alice   19      F          88             92             85\n",
       "1    Bob   20      M          75             78             80\n",
       "2  Carol   19      F          93             88             90\n",
       "3  David   21      M          70             72             68\n",
       "4    Eva   20      F          85             90             87"
      ],
      "text/html": [
       "<div>\n",
       "<style scoped>\n",
       "    .dataframe tbody tr th:only-of-type {\n",
       "        vertical-align: middle;\n",
       "    }\n",
       "\n",
       "    .dataframe tbody tr th {\n",
       "        vertical-align: top;\n",
       "    }\n",
       "\n",
       "    .dataframe thead th {\n",
       "        text-align: right;\n",
       "    }\n",
       "</style>\n",
       "<table border=\"1\" class=\"dataframe\">\n",
       "  <thead>\n",
       "    <tr style=\"text-align: right;\">\n",
       "      <th></th>\n",
       "      <th>Name</th>\n",
       "      <th>Age</th>\n",
       "      <th>Gender</th>\n",
       "      <th>Marks_Math</th>\n",
       "      <th>Marks_Science</th>\n",
       "      <th>Marks_English</th>\n",
       "    </tr>\n",
       "  </thead>\n",
       "  <tbody>\n",
       "    <tr>\n",
       "      <th>0</th>\n",
       "      <td>Alice</td>\n",
       "      <td>19</td>\n",
       "      <td>F</td>\n",
       "      <td>88</td>\n",
       "      <td>92</td>\n",
       "      <td>85</td>\n",
       "    </tr>\n",
       "    <tr>\n",
       "      <th>1</th>\n",
       "      <td>Bob</td>\n",
       "      <td>20</td>\n",
       "      <td>M</td>\n",
       "      <td>75</td>\n",
       "      <td>78</td>\n",
       "      <td>80</td>\n",
       "    </tr>\n",
       "    <tr>\n",
       "      <th>2</th>\n",
       "      <td>Carol</td>\n",
       "      <td>19</td>\n",
       "      <td>F</td>\n",
       "      <td>93</td>\n",
       "      <td>88</td>\n",
       "      <td>90</td>\n",
       "    </tr>\n",
       "    <tr>\n",
       "      <th>3</th>\n",
       "      <td>David</td>\n",
       "      <td>21</td>\n",
       "      <td>M</td>\n",
       "      <td>70</td>\n",
       "      <td>72</td>\n",
       "      <td>68</td>\n",
       "    </tr>\n",
       "    <tr>\n",
       "      <th>4</th>\n",
       "      <td>Eva</td>\n",
       "      <td>20</td>\n",
       "      <td>F</td>\n",
       "      <td>85</td>\n",
       "      <td>90</td>\n",
       "      <td>87</td>\n",
       "    </tr>\n",
       "  </tbody>\n",
       "</table>\n",
       "</div>"
      ]
     },
     "execution_count": 62,
     "metadata": {},
     "output_type": "execute_result"
    }
   ],
   "execution_count": 62
  },
  {
   "metadata": {
    "ExecuteTime": {
     "end_time": "2025-06-30T18:55:58.478801Z",
     "start_time": "2025-06-30T18:55:58.464385Z"
    }
   },
   "cell_type": "code",
   "source": "df.head()",
   "id": "7d99a6f0a2561556",
   "outputs": [
    {
     "data": {
      "text/plain": [
       "    Name  Age Gender  Marks_Math  Marks_Science  Marks_English\n",
       "0  Alice   19      F          88             92             85\n",
       "1    Bob   20      M          75             78             80\n",
       "2  Carol   19      F          93             88             90\n",
       "3  David   21      M          70             72             68\n",
       "4    Eva   20      F          85             90             87"
      ],
      "text/html": [
       "<div>\n",
       "<style scoped>\n",
       "    .dataframe tbody tr th:only-of-type {\n",
       "        vertical-align: middle;\n",
       "    }\n",
       "\n",
       "    .dataframe tbody tr th {\n",
       "        vertical-align: top;\n",
       "    }\n",
       "\n",
       "    .dataframe thead th {\n",
       "        text-align: right;\n",
       "    }\n",
       "</style>\n",
       "<table border=\"1\" class=\"dataframe\">\n",
       "  <thead>\n",
       "    <tr style=\"text-align: right;\">\n",
       "      <th></th>\n",
       "      <th>Name</th>\n",
       "      <th>Age</th>\n",
       "      <th>Gender</th>\n",
       "      <th>Marks_Math</th>\n",
       "      <th>Marks_Science</th>\n",
       "      <th>Marks_English</th>\n",
       "    </tr>\n",
       "  </thead>\n",
       "  <tbody>\n",
       "    <tr>\n",
       "      <th>0</th>\n",
       "      <td>Alice</td>\n",
       "      <td>19</td>\n",
       "      <td>F</td>\n",
       "      <td>88</td>\n",
       "      <td>92</td>\n",
       "      <td>85</td>\n",
       "    </tr>\n",
       "    <tr>\n",
       "      <th>1</th>\n",
       "      <td>Bob</td>\n",
       "      <td>20</td>\n",
       "      <td>M</td>\n",
       "      <td>75</td>\n",
       "      <td>78</td>\n",
       "      <td>80</td>\n",
       "    </tr>\n",
       "    <tr>\n",
       "      <th>2</th>\n",
       "      <td>Carol</td>\n",
       "      <td>19</td>\n",
       "      <td>F</td>\n",
       "      <td>93</td>\n",
       "      <td>88</td>\n",
       "      <td>90</td>\n",
       "    </tr>\n",
       "    <tr>\n",
       "      <th>3</th>\n",
       "      <td>David</td>\n",
       "      <td>21</td>\n",
       "      <td>M</td>\n",
       "      <td>70</td>\n",
       "      <td>72</td>\n",
       "      <td>68</td>\n",
       "    </tr>\n",
       "    <tr>\n",
       "      <th>4</th>\n",
       "      <td>Eva</td>\n",
       "      <td>20</td>\n",
       "      <td>F</td>\n",
       "      <td>85</td>\n",
       "      <td>90</td>\n",
       "      <td>87</td>\n",
       "    </tr>\n",
       "  </tbody>\n",
       "</table>\n",
       "</div>"
      ]
     },
     "execution_count": 63,
     "metadata": {},
     "output_type": "execute_result"
    }
   ],
   "execution_count": 63
  },
  {
   "metadata": {
    "ExecuteTime": {
     "end_time": "2025-06-30T18:55:58.981809Z",
     "start_time": "2025-06-30T18:55:58.937148Z"
    }
   },
   "cell_type": "code",
   "source": "df = pd.read_csv(\"data/customers_updated.csv\")",
   "id": "2ce73e33f2e60a09",
   "outputs": [],
   "execution_count": 64
  },
  {
   "metadata": {
    "ExecuteTime": {
     "end_time": "2025-06-30T18:55:59.998032Z",
     "start_time": "2025-06-30T18:55:59.984812Z"
    }
   },
   "cell_type": "code",
   "source": "df.head()",
   "id": "87f16ee2ebe6b59c",
   "outputs": [
    {
     "data": {
      "text/plain": [
       "  customer_id            name sex      state  age  is_married  \\\n",
       "0      C10001     kara cooper   F    montana   76        True   \n",
       "1      C10002   judy erickson   F   new york   76        True   \n",
       "2      C10003    brian galvan   M     alaska   40       False   \n",
       "3      C10004    karen norris   F  wisconsin   68       False   \n",
       "4      C10005  whitney taylor   F       ohio   62        True   \n",
       "\n",
       "          active_since                event_time                     email  \n",
       "0  2018-08-13 00:48:59  2024-05-02T13:43:28.295Z    kennethday@example.net  \n",
       "1  2016-06-18 11:33:39  2024-05-02T13:43:28.296Z     smelendez@example.org  \n",
       "2  2017-01-23 19:25:14  2024-05-02T13:43:28.298Z    brianperry@example.net  \n",
       "3  2018-06-15 09:07:32  2024-05-02T13:43:28.300Z  alyssamorgan@example.net  \n",
       "4  2018-07-18 15:53:00  2024-05-02T13:43:28.301Z      cjenkins@example.org  "
      ],
      "text/html": [
       "<div>\n",
       "<style scoped>\n",
       "    .dataframe tbody tr th:only-of-type {\n",
       "        vertical-align: middle;\n",
       "    }\n",
       "\n",
       "    .dataframe tbody tr th {\n",
       "        vertical-align: top;\n",
       "    }\n",
       "\n",
       "    .dataframe thead th {\n",
       "        text-align: right;\n",
       "    }\n",
       "</style>\n",
       "<table border=\"1\" class=\"dataframe\">\n",
       "  <thead>\n",
       "    <tr style=\"text-align: right;\">\n",
       "      <th></th>\n",
       "      <th>customer_id</th>\n",
       "      <th>name</th>\n",
       "      <th>sex</th>\n",
       "      <th>state</th>\n",
       "      <th>age</th>\n",
       "      <th>is_married</th>\n",
       "      <th>active_since</th>\n",
       "      <th>event_time</th>\n",
       "      <th>email</th>\n",
       "    </tr>\n",
       "  </thead>\n",
       "  <tbody>\n",
       "    <tr>\n",
       "      <th>0</th>\n",
       "      <td>C10001</td>\n",
       "      <td>kara cooper</td>\n",
       "      <td>F</td>\n",
       "      <td>montana</td>\n",
       "      <td>76</td>\n",
       "      <td>True</td>\n",
       "      <td>2018-08-13 00:48:59</td>\n",
       "      <td>2024-05-02T13:43:28.295Z</td>\n",
       "      <td>kennethday@example.net</td>\n",
       "    </tr>\n",
       "    <tr>\n",
       "      <th>1</th>\n",
       "      <td>C10002</td>\n",
       "      <td>judy erickson</td>\n",
       "      <td>F</td>\n",
       "      <td>new york</td>\n",
       "      <td>76</td>\n",
       "      <td>True</td>\n",
       "      <td>2016-06-18 11:33:39</td>\n",
       "      <td>2024-05-02T13:43:28.296Z</td>\n",
       "      <td>smelendez@example.org</td>\n",
       "    </tr>\n",
       "    <tr>\n",
       "      <th>2</th>\n",
       "      <td>C10003</td>\n",
       "      <td>brian galvan</td>\n",
       "      <td>M</td>\n",
       "      <td>alaska</td>\n",
       "      <td>40</td>\n",
       "      <td>False</td>\n",
       "      <td>2017-01-23 19:25:14</td>\n",
       "      <td>2024-05-02T13:43:28.298Z</td>\n",
       "      <td>brianperry@example.net</td>\n",
       "    </tr>\n",
       "    <tr>\n",
       "      <th>3</th>\n",
       "      <td>C10004</td>\n",
       "      <td>karen norris</td>\n",
       "      <td>F</td>\n",
       "      <td>wisconsin</td>\n",
       "      <td>68</td>\n",
       "      <td>False</td>\n",
       "      <td>2018-06-15 09:07:32</td>\n",
       "      <td>2024-05-02T13:43:28.300Z</td>\n",
       "      <td>alyssamorgan@example.net</td>\n",
       "    </tr>\n",
       "    <tr>\n",
       "      <th>4</th>\n",
       "      <td>C10005</td>\n",
       "      <td>whitney taylor</td>\n",
       "      <td>F</td>\n",
       "      <td>ohio</td>\n",
       "      <td>62</td>\n",
       "      <td>True</td>\n",
       "      <td>2018-07-18 15:53:00</td>\n",
       "      <td>2024-05-02T13:43:28.301Z</td>\n",
       "      <td>cjenkins@example.org</td>\n",
       "    </tr>\n",
       "  </tbody>\n",
       "</table>\n",
       "</div>"
      ]
     },
     "execution_count": 65,
     "metadata": {},
     "output_type": "execute_result"
    }
   ],
   "execution_count": 65
  },
  {
   "metadata": {
    "ExecuteTime": {
     "end_time": "2025-06-30T18:56:00.216818Z",
     "start_time": "2025-06-30T18:56:00.205691Z"
    }
   },
   "cell_type": "code",
   "source": "df.tail()",
   "id": "41cbb6bfb35e378c",
   "outputs": [
    {
     "data": {
      "text/plain": [
       "     customer_id               name sex       state  age  is_married  \\\n",
       "9995      C19996      jackie martin   F    delaware   88       False   \n",
       "9996      C19997       ashley davis   F   wisconsin   73       False   \n",
       "9997      C19998  destiny gallagher   F  california   59       False   \n",
       "9998      C19999  elizabeth bradley   F      hawaii   56        True   \n",
       "9999      C20000           jamie ho   F    missouri   38       False   \n",
       "\n",
       "             active_since                event_time  \\\n",
       "9995  2018-09-18 00:14:35  2024-05-02T13:43:34.852Z   \n",
       "9996  2016-12-13 03:39:29  2024-05-02T13:43:34.853Z   \n",
       "9997  2017-04-24 21:35:35  2024-05-02T13:43:34.854Z   \n",
       "9998  2019-11-14 21:46:34  2024-05-02T13:43:34.854Z   \n",
       "9999  2018-12-08 03:00:01  2024-05-02T13:43:34.855Z   \n",
       "\n",
       "                           email  \n",
       "9995          qblair@example.net  \n",
       "9996    kimberlydiaz@example.net  \n",
       "9997      longjustin@example.net  \n",
       "9998  guerrerosandra@example.org  \n",
       "9999         chloe51@example.net  "
      ],
      "text/html": [
       "<div>\n",
       "<style scoped>\n",
       "    .dataframe tbody tr th:only-of-type {\n",
       "        vertical-align: middle;\n",
       "    }\n",
       "\n",
       "    .dataframe tbody tr th {\n",
       "        vertical-align: top;\n",
       "    }\n",
       "\n",
       "    .dataframe thead th {\n",
       "        text-align: right;\n",
       "    }\n",
       "</style>\n",
       "<table border=\"1\" class=\"dataframe\">\n",
       "  <thead>\n",
       "    <tr style=\"text-align: right;\">\n",
       "      <th></th>\n",
       "      <th>customer_id</th>\n",
       "      <th>name</th>\n",
       "      <th>sex</th>\n",
       "      <th>state</th>\n",
       "      <th>age</th>\n",
       "      <th>is_married</th>\n",
       "      <th>active_since</th>\n",
       "      <th>event_time</th>\n",
       "      <th>email</th>\n",
       "    </tr>\n",
       "  </thead>\n",
       "  <tbody>\n",
       "    <tr>\n",
       "      <th>9995</th>\n",
       "      <td>C19996</td>\n",
       "      <td>jackie martin</td>\n",
       "      <td>F</td>\n",
       "      <td>delaware</td>\n",
       "      <td>88</td>\n",
       "      <td>False</td>\n",
       "      <td>2018-09-18 00:14:35</td>\n",
       "      <td>2024-05-02T13:43:34.852Z</td>\n",
       "      <td>qblair@example.net</td>\n",
       "    </tr>\n",
       "    <tr>\n",
       "      <th>9996</th>\n",
       "      <td>C19997</td>\n",
       "      <td>ashley davis</td>\n",
       "      <td>F</td>\n",
       "      <td>wisconsin</td>\n",
       "      <td>73</td>\n",
       "      <td>False</td>\n",
       "      <td>2016-12-13 03:39:29</td>\n",
       "      <td>2024-05-02T13:43:34.853Z</td>\n",
       "      <td>kimberlydiaz@example.net</td>\n",
       "    </tr>\n",
       "    <tr>\n",
       "      <th>9997</th>\n",
       "      <td>C19998</td>\n",
       "      <td>destiny gallagher</td>\n",
       "      <td>F</td>\n",
       "      <td>california</td>\n",
       "      <td>59</td>\n",
       "      <td>False</td>\n",
       "      <td>2017-04-24 21:35:35</td>\n",
       "      <td>2024-05-02T13:43:34.854Z</td>\n",
       "      <td>longjustin@example.net</td>\n",
       "    </tr>\n",
       "    <tr>\n",
       "      <th>9998</th>\n",
       "      <td>C19999</td>\n",
       "      <td>elizabeth bradley</td>\n",
       "      <td>F</td>\n",
       "      <td>hawaii</td>\n",
       "      <td>56</td>\n",
       "      <td>True</td>\n",
       "      <td>2019-11-14 21:46:34</td>\n",
       "      <td>2024-05-02T13:43:34.854Z</td>\n",
       "      <td>guerrerosandra@example.org</td>\n",
       "    </tr>\n",
       "    <tr>\n",
       "      <th>9999</th>\n",
       "      <td>C20000</td>\n",
       "      <td>jamie ho</td>\n",
       "      <td>F</td>\n",
       "      <td>missouri</td>\n",
       "      <td>38</td>\n",
       "      <td>False</td>\n",
       "      <td>2018-12-08 03:00:01</td>\n",
       "      <td>2024-05-02T13:43:34.855Z</td>\n",
       "      <td>chloe51@example.net</td>\n",
       "    </tr>\n",
       "  </tbody>\n",
       "</table>\n",
       "</div>"
      ]
     },
     "execution_count": 66,
     "metadata": {},
     "output_type": "execute_result"
    }
   ],
   "execution_count": 66
  },
  {
   "metadata": {
    "ExecuteTime": {
     "end_time": "2025-06-30T18:56:00.602333Z",
     "start_time": "2025-06-30T18:56:00.584887Z"
    }
   },
   "cell_type": "code",
   "source": "df.head(10)",
   "id": "96dbcabcf887760e",
   "outputs": [
    {
     "data": {
      "text/plain": [
       "  customer_id             name sex       state  age  is_married  \\\n",
       "0      C10001      kara cooper   F     montana   76        True   \n",
       "1      C10002    judy erickson   F    new york   76        True   \n",
       "2      C10003     brian galvan   M      alaska   40       False   \n",
       "3      C10004     karen norris   F   wisconsin   68       False   \n",
       "4      C10005   whitney taylor   F        ohio   62        True   \n",
       "5      C10006     brianna ruiz   F  washington   73       False   \n",
       "6      C10007     lisa johnson   F      hawaii   82       False   \n",
       "7      C10008      joe garrett   M    new york   32       False   \n",
       "8      C10009      emily smith   F       maine   86       False   \n",
       "9      C10010  jeremiah flores   M       texas   33        True   \n",
       "\n",
       "          active_since                event_time                     email  \n",
       "0  2018-08-13 00:48:59  2024-05-02T13:43:28.295Z    kennethday@example.net  \n",
       "1  2016-06-18 11:33:39  2024-05-02T13:43:28.296Z     smelendez@example.org  \n",
       "2  2017-01-23 19:25:14  2024-05-02T13:43:28.298Z    brianperry@example.net  \n",
       "3  2018-06-15 09:07:32  2024-05-02T13:43:28.300Z  alyssamorgan@example.net  \n",
       "4  2018-07-18 15:53:00  2024-05-02T13:43:28.301Z      cjenkins@example.org  \n",
       "5  2016-02-10 16:33:24  2024-05-02T13:43:28.304Z         vluna@example.net  \n",
       "6  2018-04-12 22:46:45  2024-05-02T13:43:28.305Z     jeffrey28@example.org  \n",
       "7  2018-01-25 13:18:05  2024-05-02T13:43:28.306Z  greenmichael@example.com  \n",
       "8  2018-12-03 07:53:40  2024-05-02T13:43:28.307Z  denisefoster@example.org  \n",
       "9  2018-03-24 07:20:28  2024-05-02T13:43:28.309Z          wfox@example.org  "
      ],
      "text/html": [
       "<div>\n",
       "<style scoped>\n",
       "    .dataframe tbody tr th:only-of-type {\n",
       "        vertical-align: middle;\n",
       "    }\n",
       "\n",
       "    .dataframe tbody tr th {\n",
       "        vertical-align: top;\n",
       "    }\n",
       "\n",
       "    .dataframe thead th {\n",
       "        text-align: right;\n",
       "    }\n",
       "</style>\n",
       "<table border=\"1\" class=\"dataframe\">\n",
       "  <thead>\n",
       "    <tr style=\"text-align: right;\">\n",
       "      <th></th>\n",
       "      <th>customer_id</th>\n",
       "      <th>name</th>\n",
       "      <th>sex</th>\n",
       "      <th>state</th>\n",
       "      <th>age</th>\n",
       "      <th>is_married</th>\n",
       "      <th>active_since</th>\n",
       "      <th>event_time</th>\n",
       "      <th>email</th>\n",
       "    </tr>\n",
       "  </thead>\n",
       "  <tbody>\n",
       "    <tr>\n",
       "      <th>0</th>\n",
       "      <td>C10001</td>\n",
       "      <td>kara cooper</td>\n",
       "      <td>F</td>\n",
       "      <td>montana</td>\n",
       "      <td>76</td>\n",
       "      <td>True</td>\n",
       "      <td>2018-08-13 00:48:59</td>\n",
       "      <td>2024-05-02T13:43:28.295Z</td>\n",
       "      <td>kennethday@example.net</td>\n",
       "    </tr>\n",
       "    <tr>\n",
       "      <th>1</th>\n",
       "      <td>C10002</td>\n",
       "      <td>judy erickson</td>\n",
       "      <td>F</td>\n",
       "      <td>new york</td>\n",
       "      <td>76</td>\n",
       "      <td>True</td>\n",
       "      <td>2016-06-18 11:33:39</td>\n",
       "      <td>2024-05-02T13:43:28.296Z</td>\n",
       "      <td>smelendez@example.org</td>\n",
       "    </tr>\n",
       "    <tr>\n",
       "      <th>2</th>\n",
       "      <td>C10003</td>\n",
       "      <td>brian galvan</td>\n",
       "      <td>M</td>\n",
       "      <td>alaska</td>\n",
       "      <td>40</td>\n",
       "      <td>False</td>\n",
       "      <td>2017-01-23 19:25:14</td>\n",
       "      <td>2024-05-02T13:43:28.298Z</td>\n",
       "      <td>brianperry@example.net</td>\n",
       "    </tr>\n",
       "    <tr>\n",
       "      <th>3</th>\n",
       "      <td>C10004</td>\n",
       "      <td>karen norris</td>\n",
       "      <td>F</td>\n",
       "      <td>wisconsin</td>\n",
       "      <td>68</td>\n",
       "      <td>False</td>\n",
       "      <td>2018-06-15 09:07:32</td>\n",
       "      <td>2024-05-02T13:43:28.300Z</td>\n",
       "      <td>alyssamorgan@example.net</td>\n",
       "    </tr>\n",
       "    <tr>\n",
       "      <th>4</th>\n",
       "      <td>C10005</td>\n",
       "      <td>whitney taylor</td>\n",
       "      <td>F</td>\n",
       "      <td>ohio</td>\n",
       "      <td>62</td>\n",
       "      <td>True</td>\n",
       "      <td>2018-07-18 15:53:00</td>\n",
       "      <td>2024-05-02T13:43:28.301Z</td>\n",
       "      <td>cjenkins@example.org</td>\n",
       "    </tr>\n",
       "    <tr>\n",
       "      <th>5</th>\n",
       "      <td>C10006</td>\n",
       "      <td>brianna ruiz</td>\n",
       "      <td>F</td>\n",
       "      <td>washington</td>\n",
       "      <td>73</td>\n",
       "      <td>False</td>\n",
       "      <td>2016-02-10 16:33:24</td>\n",
       "      <td>2024-05-02T13:43:28.304Z</td>\n",
       "      <td>vluna@example.net</td>\n",
       "    </tr>\n",
       "    <tr>\n",
       "      <th>6</th>\n",
       "      <td>C10007</td>\n",
       "      <td>lisa johnson</td>\n",
       "      <td>F</td>\n",
       "      <td>hawaii</td>\n",
       "      <td>82</td>\n",
       "      <td>False</td>\n",
       "      <td>2018-04-12 22:46:45</td>\n",
       "      <td>2024-05-02T13:43:28.305Z</td>\n",
       "      <td>jeffrey28@example.org</td>\n",
       "    </tr>\n",
       "    <tr>\n",
       "      <th>7</th>\n",
       "      <td>C10008</td>\n",
       "      <td>joe garrett</td>\n",
       "      <td>M</td>\n",
       "      <td>new york</td>\n",
       "      <td>32</td>\n",
       "      <td>False</td>\n",
       "      <td>2018-01-25 13:18:05</td>\n",
       "      <td>2024-05-02T13:43:28.306Z</td>\n",
       "      <td>greenmichael@example.com</td>\n",
       "    </tr>\n",
       "    <tr>\n",
       "      <th>8</th>\n",
       "      <td>C10009</td>\n",
       "      <td>emily smith</td>\n",
       "      <td>F</td>\n",
       "      <td>maine</td>\n",
       "      <td>86</td>\n",
       "      <td>False</td>\n",
       "      <td>2018-12-03 07:53:40</td>\n",
       "      <td>2024-05-02T13:43:28.307Z</td>\n",
       "      <td>denisefoster@example.org</td>\n",
       "    </tr>\n",
       "    <tr>\n",
       "      <th>9</th>\n",
       "      <td>C10010</td>\n",
       "      <td>jeremiah flores</td>\n",
       "      <td>M</td>\n",
       "      <td>texas</td>\n",
       "      <td>33</td>\n",
       "      <td>True</td>\n",
       "      <td>2018-03-24 07:20:28</td>\n",
       "      <td>2024-05-02T13:43:28.309Z</td>\n",
       "      <td>wfox@example.org</td>\n",
       "    </tr>\n",
       "  </tbody>\n",
       "</table>\n",
       "</div>"
      ]
     },
     "execution_count": 67,
     "metadata": {},
     "output_type": "execute_result"
    }
   ],
   "execution_count": 67
  },
  {
   "metadata": {
    "ExecuteTime": {
     "end_time": "2025-06-30T18:56:00.915585Z",
     "start_time": "2025-06-30T18:56:00.879967Z"
    }
   },
   "cell_type": "code",
   "source": "df.info()",
   "id": "4c6a98be48957e10",
   "outputs": [
    {
     "name": "stdout",
     "output_type": "stream",
     "text": [
      "<class 'pandas.core.frame.DataFrame'>\n",
      "RangeIndex: 10000 entries, 0 to 9999\n",
      "Data columns (total 9 columns):\n",
      " #   Column        Non-Null Count  Dtype \n",
      "---  ------        --------------  ----- \n",
      " 0   customer_id   10000 non-null  object\n",
      " 1   name          10000 non-null  object\n",
      " 2   sex           10000 non-null  object\n",
      " 3   state         10000 non-null  object\n",
      " 4   age           10000 non-null  int64 \n",
      " 5   is_married    10000 non-null  bool  \n",
      " 6   active_since  10000 non-null  object\n",
      " 7   event_time    10000 non-null  object\n",
      " 8   email         10000 non-null  object\n",
      "dtypes: bool(1), int64(1), object(7)\n",
      "memory usage: 634.9+ KB\n"
     ]
    }
   ],
   "execution_count": 68
  }
 ],
 "metadata": {
  "kernelspec": {
   "display_name": "Python 3",
   "language": "python",
   "name": "python3"
  },
  "language_info": {
   "codemirror_mode": {
    "name": "ipython",
    "version": 2
   },
   "file_extension": ".py",
   "mimetype": "text/x-python",
   "name": "python",
   "nbconvert_exporter": "python",
   "pygments_lexer": "ipython2",
   "version": "2.7.6"
  }
 },
 "nbformat": 4,
 "nbformat_minor": 5
}
