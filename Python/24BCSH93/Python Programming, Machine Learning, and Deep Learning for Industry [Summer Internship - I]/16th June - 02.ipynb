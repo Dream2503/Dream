{
 "cells": [
  {
   "metadata": {},
   "cell_type": "markdown",
   "source": "Object Oriented Programming (OOP)",
   "id": "49435a3b8d690caa"
  },
  {
   "cell_type": "code",
   "id": "initial_id",
   "metadata": {
    "collapsed": true,
    "ExecuteTime": {
     "end_time": "2025-06-30T18:54:54.886412Z",
     "start_time": "2025-06-30T18:54:54.867734Z"
    }
   },
   "source": "a = [1, 2, 3, 4, 5]",
   "outputs": [],
   "execution_count": 1
  },
  {
   "metadata": {
    "ExecuteTime": {
     "end_time": "2025-06-30T18:54:55.135995Z",
     "start_time": "2025-06-30T18:54:55.119806Z"
    }
   },
   "cell_type": "code",
   "source": "type(a)",
   "id": "b3f11f8e72e092b3",
   "outputs": [
    {
     "data": {
      "text/plain": [
       "list"
      ]
     },
     "execution_count": 2,
     "metadata": {},
     "output_type": "execute_result"
    }
   ],
   "execution_count": 2
  },
  {
   "metadata": {},
   "cell_type": "markdown",
   "source": "a.(attributes)",
   "id": "fd8c2477d5daeb48"
  },
  {
   "metadata": {},
   "cell_type": "markdown",
   "source": "OOP allows to create our own object (like list) that has its own attributes",
   "id": "ef28baf7f155aea2"
  },
  {
   "metadata": {
    "ExecuteTime": {
     "end_time": "2025-06-30T18:54:55.190540Z",
     "start_time": "2025-06-30T18:54:55.183619Z"
    }
   },
   "cell_type": "code",
   "source": [
    "class Silicon:\n",
    "    pass"
   ],
   "id": "64982f88fd2d3b03",
   "outputs": [],
   "execution_count": 3
  },
  {
   "metadata": {
    "ExecuteTime": {
     "end_time": "2025-06-30T18:54:55.225904Z",
     "start_time": "2025-06-30T18:54:55.219648Z"
    }
   },
   "cell_type": "code",
   "source": "a = Silicon()",
   "id": "858a837638a5cc5f",
   "outputs": [],
   "execution_count": 4
  },
  {
   "metadata": {
    "ExecuteTime": {
     "end_time": "2025-06-30T18:54:55.272376Z",
     "start_time": "2025-06-30T18:54:55.249535Z"
    }
   },
   "cell_type": "code",
   "source": "type(a)",
   "id": "c2f0c27bdae3b903",
   "outputs": [
    {
     "data": {
      "text/plain": [
       "__main__.Silicon"
      ]
     },
     "execution_count": 5,
     "metadata": {},
     "output_type": "execute_result"
    }
   ],
   "execution_count": 5
  },
  {
   "metadata": {
    "ExecuteTime": {
     "end_time": "2025-06-30T18:54:55.314618Z",
     "start_time": "2025-06-30T18:54:55.305323Z"
    }
   },
   "cell_type": "code",
   "source": [
    "class Silicon:\n",
    "    def __init__(self, name, sic):\n",
    "        self.name = name\n",
    "        self.sic = sic"
   ],
   "id": "a16dfd7a24d73a8f",
   "outputs": [],
   "execution_count": 6
  },
  {
   "metadata": {
    "ExecuteTime": {
     "end_time": "2025-06-30T18:54:55.937951Z",
     "start_time": "2025-06-30T18:54:55.333091Z"
    }
   },
   "cell_type": "code",
   "source": "b = Silicon()",
   "id": "f1d5f46a8fcac268",
   "outputs": [
    {
     "ename": "TypeError",
     "evalue": "Silicon.__init__() missing 2 required positional arguments: 'name' and 'sic'",
     "output_type": "error",
     "traceback": [
      "\u001B[1;31m---------------------------------------------------------------------------\u001B[0m",
      "\u001B[1;31mTypeError\u001B[0m                                 Traceback (most recent call last)",
      "Cell \u001B[1;32mIn[7], line 1\u001B[0m\n\u001B[1;32m----> 1\u001B[0m b \u001B[38;5;241m=\u001B[39m \u001B[43mSilicon\u001B[49m\u001B[43m(\u001B[49m\u001B[43m)\u001B[49m\n",
      "\u001B[1;31mTypeError\u001B[0m: Silicon.__init__() missing 2 required positional arguments: 'name' and 'sic'"
     ]
    }
   ],
   "execution_count": 7
  },
  {
   "metadata": {
    "ExecuteTime": {
     "end_time": "2025-06-30T18:54:56.449866Z",
     "start_time": "2025-06-30T18:54:56.437397Z"
    }
   },
   "cell_type": "code",
   "source": "b = Silicon('Ram', 2256)",
   "id": "b1805670d690ea8f",
   "outputs": [],
   "execution_count": 8
  },
  {
   "metadata": {
    "ExecuteTime": {
     "end_time": "2025-06-30T18:54:56.846014Z",
     "start_time": "2025-06-30T18:54:56.830433Z"
    }
   },
   "cell_type": "code",
   "source": "b.name",
   "id": "9b29d741a306bd0f",
   "outputs": [
    {
     "data": {
      "text/plain": [
       "'Ram'"
      ]
     },
     "execution_count": 9,
     "metadata": {},
     "output_type": "execute_result"
    }
   ],
   "execution_count": 9
  },
  {
   "metadata": {
    "ExecuteTime": {
     "end_time": "2025-06-30T18:54:57.200887Z",
     "start_time": "2025-06-30T18:54:57.185002Z"
    }
   },
   "cell_type": "code",
   "source": "b.sic",
   "id": "95606b3e3c3a0f3d",
   "outputs": [
    {
     "data": {
      "text/plain": [
       "2256"
      ]
     },
     "execution_count": 10,
     "metadata": {},
     "output_type": "execute_result"
    }
   ],
   "execution_count": 10
  },
  {
   "metadata": {
    "ExecuteTime": {
     "end_time": "2025-06-30T18:54:57.733838Z",
     "start_time": "2025-06-30T18:54:57.727916Z"
    }
   },
   "cell_type": "code",
   "source": "c = Silicon('Shyam', 342)",
   "id": "b2c3171c16d88a49",
   "outputs": [],
   "execution_count": 11
  },
  {
   "metadata": {
    "ExecuteTime": {
     "end_time": "2025-06-30T18:54:57.789691Z",
     "start_time": "2025-06-30T18:54:57.778320Z"
    }
   },
   "cell_type": "code",
   "source": "c.name",
   "id": "56e7a2d668a827a2",
   "outputs": [
    {
     "data": {
      "text/plain": [
       "'Shyam'"
      ]
     },
     "execution_count": 12,
     "metadata": {},
     "output_type": "execute_result"
    }
   ],
   "execution_count": 12
  },
  {
   "metadata": {
    "ExecuteTime": {
     "end_time": "2025-06-30T18:54:58.010016Z",
     "start_time": "2025-06-30T18:54:57.994541Z"
    }
   },
   "cell_type": "code",
   "source": [
    "class Silicon:\n",
    "    college = \"Silicon University\"\n",
    "\n",
    "    def __init__(self, name, sic):\n",
    "        self.name = name\n",
    "        self.sic = sic"
   ],
   "id": "bc447509fbfe3fd0",
   "outputs": [],
   "execution_count": 13
  },
  {
   "metadata": {
    "ExecuteTime": {
     "end_time": "2025-06-30T18:54:58.067228Z",
     "start_time": "2025-06-30T18:54:58.059381Z"
    }
   },
   "cell_type": "code",
   "source": "d = Silicon(\"Rahul\", 623)",
   "id": "60ef8755477b2591",
   "outputs": [],
   "execution_count": 14
  },
  {
   "metadata": {
    "ExecuteTime": {
     "end_time": "2025-06-30T18:54:58.099709Z",
     "start_time": "2025-06-30T18:54:58.087954Z"
    }
   },
   "cell_type": "code",
   "source": "Silicon.college",
   "id": "332e2c4a6aa9b589",
   "outputs": [
    {
     "data": {
      "text/plain": [
       "'Silicon University'"
      ]
     },
     "execution_count": 15,
     "metadata": {},
     "output_type": "execute_result"
    }
   ],
   "execution_count": 15
  },
  {
   "metadata": {
    "ExecuteTime": {
     "end_time": "2025-06-30T18:54:58.166712Z",
     "start_time": "2025-06-30T18:54:58.137580Z"
    }
   },
   "cell_type": "code",
   "source": "Silicon.name",
   "id": "d20bdb5cd4f90d52",
   "outputs": [
    {
     "ename": "AttributeError",
     "evalue": "type object 'Silicon' has no attribute 'name'",
     "output_type": "error",
     "traceback": [
      "\u001B[1;31m---------------------------------------------------------------------------\u001B[0m",
      "\u001B[1;31mAttributeError\u001B[0m                            Traceback (most recent call last)",
      "Cell \u001B[1;32mIn[16], line 1\u001B[0m\n\u001B[1;32m----> 1\u001B[0m \u001B[43mSilicon\u001B[49m\u001B[38;5;241;43m.\u001B[39;49m\u001B[43mname\u001B[49m\n",
      "\u001B[1;31mAttributeError\u001B[0m: type object 'Silicon' has no attribute 'name'"
     ]
    }
   ],
   "execution_count": 16
  },
  {
   "metadata": {
    "ExecuteTime": {
     "end_time": "2025-06-30T18:55:01.297747Z",
     "start_time": "2025-06-30T18:55:01.281657Z"
    }
   },
   "cell_type": "code",
   "source": [
    "class Silicon:\n",
    "    college = \"Silicon University\"\n",
    "\n",
    "    def __init__(self, name, sic):\n",
    "        self.name = name\n",
    "        self.sic = sic\n",
    "\n",
    "    def display():\n",
    "        print(f\"My name is {name} with {sic} from {college} \")"
   ],
   "id": "7fc7ead5c04ea800",
   "outputs": [],
   "execution_count": 17
  },
  {
   "metadata": {
    "ExecuteTime": {
     "end_time": "2025-06-30T18:55:02.576642Z",
     "start_time": "2025-06-30T18:55:02.560843Z"
    }
   },
   "cell_type": "code",
   "source": "xyz = Silicon(\"Ram\", 220)",
   "id": "448b48302d91130d",
   "outputs": [],
   "execution_count": 18
  },
  {
   "metadata": {
    "ExecuteTime": {
     "end_time": "2025-06-30T18:55:03.026730Z",
     "start_time": "2025-06-30T18:55:03.019936Z"
    }
   },
   "cell_type": "code",
   "source": "xyz.college",
   "id": "aa7c7c03e9f55967",
   "outputs": [
    {
     "data": {
      "text/plain": [
       "'Silicon University'"
      ]
     },
     "execution_count": 19,
     "metadata": {},
     "output_type": "execute_result"
    }
   ],
   "execution_count": 19
  },
  {
   "metadata": {
    "ExecuteTime": {
     "end_time": "2025-06-30T18:55:03.859286Z",
     "start_time": "2025-06-30T18:55:03.830644Z"
    }
   },
   "cell_type": "code",
   "source": "xyz.display()",
   "id": "2edba15392a7c55a",
   "outputs": [
    {
     "ename": "TypeError",
     "evalue": "Silicon.display() takes 0 positional arguments but 1 was given",
     "output_type": "error",
     "traceback": [
      "\u001B[1;31m---------------------------------------------------------------------------\u001B[0m",
      "\u001B[1;31mTypeError\u001B[0m                                 Traceback (most recent call last)",
      "Cell \u001B[1;32mIn[20], line 1\u001B[0m\n\u001B[1;32m----> 1\u001B[0m \u001B[43mxyz\u001B[49m\u001B[38;5;241;43m.\u001B[39;49m\u001B[43mdisplay\u001B[49m\u001B[43m(\u001B[49m\u001B[43m)\u001B[49m\n",
      "\u001B[1;31mTypeError\u001B[0m: Silicon.display() takes 0 positional arguments but 1 was given"
     ]
    }
   ],
   "execution_count": 20
  },
  {
   "metadata": {
    "ExecuteTime": {
     "end_time": "2025-06-30T18:55:04.399181Z",
     "start_time": "2025-06-30T18:55:04.387976Z"
    }
   },
   "cell_type": "code",
   "source": [
    "class Silicon:\n",
    "    college = \"Silicon University\"\n",
    "\n",
    "    def __init__(self, name, sic):\n",
    "        self.name = name\n",
    "        self.sic = sic\n",
    "\n",
    "    def display(self):\n",
    "        print(f\"My name is {self.name} with {self.sic} from {self.college} \")"
   ],
   "id": "9fe42a9fe3ffdf71",
   "outputs": [],
   "execution_count": 21
  },
  {
   "metadata": {
    "ExecuteTime": {
     "end_time": "2025-06-30T18:55:04.655876Z",
     "start_time": "2025-06-30T18:55:04.640015Z"
    }
   },
   "cell_type": "code",
   "source": "xyz = Silicon(\"Ram\", 220)",
   "id": "d297df735c91a5d9",
   "outputs": [],
   "execution_count": 22
  },
  {
   "metadata": {
    "ExecuteTime": {
     "end_time": "2025-06-30T18:55:05.194515Z",
     "start_time": "2025-06-30T18:55:05.178853Z"
    }
   },
   "cell_type": "code",
   "source": "xyz.display()",
   "id": "e762e6353c8637ba",
   "outputs": [
    {
     "name": "stdout",
     "output_type": "stream",
     "text": [
      "My name is Ram with 220 from Silicon University \n"
     ]
    }
   ],
   "execution_count": 23
  },
  {
   "metadata": {},
   "cell_type": "markdown",
   "source": "Add one more attribute called as \"regdno\" and which takes same value as that of sic",
   "id": "afc7b5e067bcb5aa"
  },
  {
   "metadata": {
    "ExecuteTime": {
     "end_time": "2025-06-30T18:55:05.576593Z",
     "start_time": "2025-06-30T18:55:05.560921Z"
    }
   },
   "cell_type": "code",
   "source": [
    "class Silicon:\n",
    "    college = \"Silicon University\"\n",
    "\n",
    "    def __init__(self, name, sic):\n",
    "        self.name = name\n",
    "        self.sic = sic\n",
    "        self.regdno = sic\n",
    "\n",
    "    def display(self):\n",
    "        print(f\"My name is {self.name} with {self.sic} from {self.college} \")"
   ],
   "id": "bc9065655bcb9681",
   "outputs": [],
   "execution_count": 24
  },
  {
   "metadata": {
    "ExecuteTime": {
     "end_time": "2025-06-30T18:55:05.787724Z",
     "start_time": "2025-06-30T18:55:05.777860Z"
    }
   },
   "cell_type": "code",
   "source": "abc = Silicon(\"Shyam\", 221)",
   "id": "58b8efddc0b979d0",
   "outputs": [],
   "execution_count": 25
  },
  {
   "metadata": {
    "ExecuteTime": {
     "end_time": "2025-06-30T18:55:07.083587Z",
     "start_time": "2025-06-30T18:55:07.068798Z"
    }
   },
   "cell_type": "code",
   "source": "abc.regdno",
   "id": "f13571f2af83994e",
   "outputs": [
    {
     "data": {
      "text/plain": [
       "221"
      ]
     },
     "execution_count": 26,
     "metadata": {},
     "output_type": "execute_result"
    }
   ],
   "execution_count": 26
  },
  {
   "metadata": {},
   "cell_type": "markdown",
   "source": "WAP to define a class called Circle which takes one argument i.e. \"radius\". Using a display method, print \"The area of the circle... and the circumference of the circle... for given radius\"",
   "id": "a42fc468b8889cb4"
  },
  {
   "metadata": {
    "ExecuteTime": {
     "end_time": "2025-06-30T18:55:07.552616Z",
     "start_time": "2025-06-30T18:55:07.542508Z"
    }
   },
   "cell_type": "code",
   "source": [
    "class Circle:\n",
    "    pi = 3.14159\n",
    "\n",
    "    def __init__(self, radius):\n",
    "        self.radius = radius\n",
    "\n",
    "    def display(self):\n",
    "        print(\n",
    "            f\"The area of the circle is {Circle.pi * self.radius ** 2} and the circumference of the circle {2 * Circle.pi * self.radius} for given radius {self.radius}\")"
   ],
   "id": "dbbf9915ee6801e1",
   "outputs": [],
   "execution_count": 27
  },
  {
   "metadata": {
    "ExecuteTime": {
     "end_time": "2025-06-30T18:55:07.659418Z",
     "start_time": "2025-06-30T18:55:07.643466Z"
    }
   },
   "cell_type": "code",
   "source": "efg = Circle(2)",
   "id": "6dfd00d723845a13",
   "outputs": [],
   "execution_count": 28
  },
  {
   "metadata": {
    "ExecuteTime": {
     "end_time": "2025-06-30T18:55:07.759983Z",
     "start_time": "2025-06-30T18:55:07.747659Z"
    }
   },
   "cell_type": "code",
   "source": "efg.display()",
   "id": "cb694dba31916ae8",
   "outputs": [
    {
     "name": "stdout",
     "output_type": "stream",
     "text": [
      "The area of the circle is 12.56636 and the circumference of the circle 12.56636 for given radius 2\n"
     ]
    }
   ],
   "execution_count": 29
  }
 ],
 "metadata": {
  "kernelspec": {
   "display_name": "Python 3",
   "language": "python",
   "name": "python3"
  },
  "language_info": {
   "codemirror_mode": {
    "name": "ipython",
    "version": 2
   },
   "file_extension": ".py",
   "mimetype": "text/x-python",
   "name": "python",
   "nbconvert_exporter": "python",
   "pygments_lexer": "ipython2",
   "version": "2.7.6"
  }
 },
 "nbformat": 4,
 "nbformat_minor": 5
}
