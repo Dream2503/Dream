{
 "cells": [
  {
   "metadata": {},
   "cell_type": "markdown",
   "source": "2. Attributes and methods for LIST",
   "id": "a6c0090c-514e-4bee-ae83-0519505ef225"
  },
  {
   "cell_type": "code",
   "id": "c8297831-0d32-4ea0-9460-f23b85625d74",
   "metadata": {
    "ExecuteTime": {
     "end_time": "2025-06-11T09:59:01.150373Z",
     "start_time": "2025-06-11T09:59:01.141754Z"
    }
   },
   "source": "my_list = [2, \"Bhubaneswar\", 55.25]",
   "outputs": [],
   "execution_count": 1
  },
  {
   "cell_type": "code",
   "id": "f9ac8115-b4b8-4ea6-a4b2-d69083e9b07d",
   "metadata": {
    "ExecuteTime": {
     "end_time": "2025-06-11T09:59:17.695546Z",
     "start_time": "2025-06-11T09:59:17.688667Z"
    }
   },
   "source": "my_list.append(\"Odisha\")",
   "outputs": [],
   "execution_count": 2
  },
  {
   "cell_type": "code",
   "id": "99655ac1-f1ca-4555-b082-dfb0c223c805",
   "metadata": {
    "ExecuteTime": {
     "end_time": "2025-06-11T09:59:18.332444Z",
     "start_time": "2025-06-11T09:59:18.323802Z"
    }
   },
   "source": "my_list",
   "outputs": [
    {
     "data": {
      "text/plain": [
       "[2, 'Bhubaneswar', 55.25, 'Odisha']"
      ]
     },
     "execution_count": 3,
     "metadata": {},
     "output_type": "execute_result"
    }
   ],
   "execution_count": 3
  },
  {
   "cell_type": "code",
   "id": "853be49f-27aa-4f0a-9493-d4984b7d8e33",
   "metadata": {
    "ExecuteTime": {
     "end_time": "2025-06-11T09:59:19.268778Z",
     "start_time": "2025-06-11T09:59:19.261616Z"
    }
   },
   "source": "len(my_list)",
   "outputs": [
    {
     "data": {
      "text/plain": [
       "4"
      ]
     },
     "execution_count": 4,
     "metadata": {},
     "output_type": "execute_result"
    }
   ],
   "execution_count": 4
  },
  {
   "cell_type": "code",
   "id": "b1391c78-0a54-49ca-a9bb-60996601fab3",
   "metadata": {
    "ExecuteTime": {
     "end_time": "2025-06-11T09:59:19.745837Z",
     "start_time": "2025-06-11T09:59:19.740305Z"
    }
   },
   "source": "my_list.insert(1, \"Silicon\")",
   "outputs": [],
   "execution_count": 5
  },
  {
   "cell_type": "code",
   "id": "50eacc55-e0a8-4680-bda3-ed42449c2f9f",
   "metadata": {
    "ExecuteTime": {
     "end_time": "2025-06-11T09:59:20.153041Z",
     "start_time": "2025-06-11T09:59:20.144989Z"
    }
   },
   "source": "my_list\n",
   "outputs": [
    {
     "data": {
      "text/plain": [
       "[2, 'Silicon', 'Bhubaneswar', 55.25, 'Odisha']"
      ]
     },
     "execution_count": 6,
     "metadata": {},
     "output_type": "execute_result"
    }
   ],
   "execution_count": 6
  },
  {
   "cell_type": "code",
   "id": "cfca503c-c505-4c64-ac19-3b8638a9ee0c",
   "metadata": {
    "ExecuteTime": {
     "end_time": "2025-06-11T09:59:20.604911Z",
     "start_time": "2025-06-11T09:59:20.598283Z"
    }
   },
   "source": "my_list.pop()",
   "outputs": [
    {
     "data": {
      "text/plain": [
       "'Odisha'"
      ]
     },
     "execution_count": 7,
     "metadata": {},
     "output_type": "execute_result"
    }
   ],
   "execution_count": 7
  },
  {
   "cell_type": "code",
   "id": "61d5c6f8-f64d-44ed-85f2-2b034b8a9cbe",
   "metadata": {
    "ExecuteTime": {
     "end_time": "2025-06-11T09:59:21.346575Z",
     "start_time": "2025-06-11T09:59:21.338924Z"
    }
   },
   "source": "my_list.pop(1)",
   "outputs": [
    {
     "data": {
      "text/plain": [
       "'Silicon'"
      ]
     },
     "execution_count": 8,
     "metadata": {},
     "output_type": "execute_result"
    }
   ],
   "execution_count": 8
  },
  {
   "cell_type": "code",
   "id": "122df591-7a08-484b-850d-f703d59de2cb",
   "metadata": {
    "ExecuteTime": {
     "end_time": "2025-06-11T09:59:21.896046Z",
     "start_time": "2025-06-11T09:59:21.888231Z"
    }
   },
   "source": "my_list",
   "outputs": [
    {
     "data": {
      "text/plain": [
       "[2, 'Bhubaneswar', 55.25]"
      ]
     },
     "execution_count": 9,
     "metadata": {},
     "output_type": "execute_result"
    }
   ],
   "execution_count": 9
  },
  {
   "cell_type": "code",
   "id": "460b5831-cba2-409b-8070-e2e734ad45cf",
   "metadata": {
    "ExecuteTime": {
     "end_time": "2025-06-11T09:59:22.441088Z",
     "start_time": "2025-06-11T09:59:22.434860Z"
    }
   },
   "source": "my_list.insert(1, \"silicon\")",
   "outputs": [],
   "execution_count": 10
  },
  {
   "cell_type": "code",
   "id": "037b7425-733d-4522-be2b-17c371cecdbb",
   "metadata": {
    "ExecuteTime": {
     "end_time": "2025-06-11T09:59:23.014866Z",
     "start_time": "2025-06-11T09:59:23.007337Z"
    }
   },
   "source": "my_list",
   "outputs": [
    {
     "data": {
      "text/plain": [
       "[2, 'silicon', 'Bhubaneswar', 55.25]"
      ]
     },
     "execution_count": 11,
     "metadata": {},
     "output_type": "execute_result"
    }
   ],
   "execution_count": 11
  },
  {
   "cell_type": "code",
   "id": "9683ec89-dfce-47ca-b547-281045f87704",
   "metadata": {
    "ExecuteTime": {
     "end_time": "2025-06-11T09:59:23.584405Z",
     "start_time": "2025-06-11T09:59:23.578107Z"
    }
   },
   "source": "my_list = [\"x\", \"w\", \"e\", \"i\", \"o\", \"u\"]",
   "outputs": [],
   "execution_count": 12
  },
  {
   "metadata": {},
   "cell_type": "markdown",
   "source": "Write a program to sort and reverse you list",
   "id": "7a4ad85236cda15c"
  },
  {
   "cell_type": "code",
   "id": "7834153d-ae8c-48a2-9e82-b086067543b8",
   "metadata": {
    "ExecuteTime": {
     "end_time": "2025-06-11T09:59:25.156608Z",
     "start_time": "2025-06-11T09:59:25.151041Z"
    }
   },
   "source": "my_list.sort()\n",
   "outputs": [],
   "execution_count": 13
  },
  {
   "cell_type": "code",
   "id": "b6dc0f81-538e-4ed6-97c3-41cd838e059d",
   "metadata": {
    "ExecuteTime": {
     "end_time": "2025-06-11T09:59:25.753977Z",
     "start_time": "2025-06-11T09:59:25.745894Z"
    }
   },
   "source": "my_list",
   "outputs": [
    {
     "data": {
      "text/plain": [
       "['e', 'i', 'o', 'u', 'w', 'x']"
      ]
     },
     "execution_count": 14,
     "metadata": {},
     "output_type": "execute_result"
    }
   ],
   "execution_count": 14
  },
  {
   "cell_type": "code",
   "id": "69831fcb-581c-4aba-ab1b-fd02d7636edd",
   "metadata": {
    "ExecuteTime": {
     "end_time": "2025-06-11T09:59:26.313881Z",
     "start_time": "2025-06-11T09:59:26.307313Z"
    }
   },
   "source": "my_list.reverse()",
   "outputs": [],
   "execution_count": 15
  },
  {
   "cell_type": "code",
   "id": "cac78851-6192-4d9e-bed6-a07fef161749",
   "metadata": {
    "ExecuteTime": {
     "end_time": "2025-06-11T09:59:30.543094Z",
     "start_time": "2025-06-11T09:59:30.534117Z"
    }
   },
   "source": "my_list",
   "outputs": [
    {
     "data": {
      "text/plain": [
       "['x', 'w', 'u', 'o', 'i', 'e']"
      ]
     },
     "execution_count": 16,
     "metadata": {},
     "output_type": "execute_result"
    }
   ],
   "execution_count": 16
  },
  {
   "cell_type": "markdown",
   "id": "cd65ea99-0313-49f0-a2a6-94a106532910",
   "metadata": {},
   "source": "DICTIONARY DATATYPE"
  },
  {
   "cell_type": "markdown",
   "id": "e07a8474-8905-48e4-8123-8beb24301b22",
   "metadata": {},
   "source": "It is an unordered mapping of key value pair for the objects"
  },
  {
   "cell_type": "markdown",
   "id": "1cf8623a-e5ec-4e7b-b6f8-e0769e126c2f",
   "metadata": {},
   "source": "It does not support indexing and slicing"
  },
  {
   "cell_type": "code",
   "id": "5dc2a919-3969-41db-82a0-eb9ecb89845f",
   "metadata": {
    "ExecuteTime": {
     "end_time": "2025-06-11T09:59:32.510379Z",
     "start_time": "2025-06-11T09:59:32.504553Z"
    }
   },
   "source": "d = {\"Breakfast\": 30, \"Lunch\": 70, \"Dinner\": 50}",
   "outputs": [],
   "execution_count": 17
  },
  {
   "cell_type": "code",
   "id": "6179c17e-4339-4adb-819f-dc7d4d3b49d0",
   "metadata": {
    "ExecuteTime": {
     "end_time": "2025-06-11T09:59:32.979206Z",
     "start_time": "2025-06-11T09:59:32.971248Z"
    }
   },
   "source": [
    "type(d)"
   ],
   "outputs": [
    {
     "data": {
      "text/plain": [
       "dict"
      ]
     },
     "execution_count": 18,
     "metadata": {},
     "output_type": "execute_result"
    }
   ],
   "execution_count": 18
  },
  {
   "cell_type": "code",
   "id": "85ee076b-2acc-450a-910f-2802e86f825d",
   "metadata": {
    "ExecuteTime": {
     "end_time": "2025-06-11T09:59:33.522815Z",
     "start_time": "2025-06-11T09:59:33.512500Z"
    }
   },
   "source": [
    "d.keys()"
   ],
   "outputs": [
    {
     "data": {
      "text/plain": [
       "dict_keys(['Breakfast', 'Lunch', 'Dinner'])"
      ]
     },
     "execution_count": 19,
     "metadata": {},
     "output_type": "execute_result"
    }
   ],
   "execution_count": 19
  },
  {
   "cell_type": "code",
   "id": "cbc9cb42-a606-4a0a-99d5-8c86fa167eec",
   "metadata": {
    "ExecuteTime": {
     "end_time": "2025-06-11T09:59:34.018467Z",
     "start_time": "2025-06-11T09:59:34.009011Z"
    }
   },
   "source": [
    "d"
   ],
   "outputs": [
    {
     "data": {
      "text/plain": [
       "{'Breakfast': 30, 'Lunch': 70, 'Dinner': 50}"
      ]
     },
     "execution_count": 20,
     "metadata": {},
     "output_type": "execute_result"
    }
   ],
   "execution_count": 20
  },
  {
   "cell_type": "code",
   "id": "24a9b642-cae2-477d-aa08-f1181d906d0b",
   "metadata": {
    "ExecuteTime": {
     "end_time": "2025-06-11T09:59:34.469492Z",
     "start_time": "2025-06-11T09:59:34.460921Z"
    }
   },
   "source": [
    "d.items()"
   ],
   "outputs": [
    {
     "data": {
      "text/plain": [
       "dict_items([('Breakfast', 30), ('Lunch', 70), ('Dinner', 50)])"
      ]
     },
     "execution_count": 21,
     "metadata": {},
     "output_type": "execute_result"
    }
   ],
   "execution_count": 21
  },
  {
   "cell_type": "code",
   "id": "c5b13eea-0e95-4e4b-8676-51fa6b2bddf0",
   "metadata": {
    "ExecuteTime": {
     "end_time": "2025-06-11T09:59:34.901256Z",
     "start_time": "2025-06-11T09:59:34.895733Z"
    }
   },
   "source": "d1 = {\"k1\": [1, 2, 3], \"k2\": {\"k21\": \"silicon\", \"k22\": 2025}}",
   "outputs": [],
   "execution_count": 22
  },
  {
   "cell_type": "markdown",
   "id": "21b0c0f5-8d04-4fb1-b2cf-79c80382fd4d",
   "metadata": {},
   "source": "Write a program to exact silicon from it, make it all upper case and replace it byits upper case"
  },
  {
   "cell_type": "code",
   "id": "c45e0cbc-4940-47b8-9422-cfce77a379a9",
   "metadata": {
    "ExecuteTime": {
     "end_time": "2025-06-11T09:59:35.716991Z",
     "start_time": "2025-06-11T09:59:35.710907Z"
    }
   },
   "source": "a = d1[\"k2\"][\"k21\"]",
   "outputs": [],
   "execution_count": 23
  },
  {
   "cell_type": "code",
   "id": "8b1797bf-160e-4cc8-9ca5-bdefdec77e28",
   "metadata": {
    "ExecuteTime": {
     "end_time": "2025-06-11T09:59:36.108119Z",
     "start_time": "2025-06-11T09:59:36.101208Z"
    }
   },
   "source": [
    "a"
   ],
   "outputs": [
    {
     "data": {
      "text/plain": [
       "'silicon'"
      ]
     },
     "execution_count": 24,
     "metadata": {},
     "output_type": "execute_result"
    }
   ],
   "execution_count": 24
  },
  {
   "cell_type": "code",
   "id": "9204bb8c-412f-49dc-bc9f-02a3dac36075",
   "metadata": {
    "ExecuteTime": {
     "end_time": "2025-06-11T09:59:36.494399Z",
     "start_time": "2025-06-11T09:59:36.487816Z"
    }
   },
   "source": [
    "type(a)"
   ],
   "outputs": [
    {
     "data": {
      "text/plain": [
       "str"
      ]
     },
     "execution_count": 25,
     "metadata": {},
     "output_type": "execute_result"
    }
   ],
   "execution_count": 25
  },
  {
   "cell_type": "code",
   "id": "236c7774-6489-41d9-9678-5a5dc798f720",
   "metadata": {
    "ExecuteTime": {
     "end_time": "2025-06-11T09:59:36.871796Z",
     "start_time": "2025-06-11T09:59:36.864329Z"
    }
   },
   "source": [
    "a.upper()"
   ],
   "outputs": [
    {
     "data": {
      "text/plain": [
       "'SILICON'"
      ]
     },
     "execution_count": 26,
     "metadata": {},
     "output_type": "execute_result"
    }
   ],
   "execution_count": 26
  },
  {
   "metadata": {},
   "cell_type": "markdown",
   "source": "converting it to upper case",
   "id": "97d5e5219c74fe9c"
  },
  {
   "cell_type": "code",
   "id": "00390d3f-c24e-420d-b94e-3039d2aad5ff",
   "metadata": {
    "ExecuteTime": {
     "end_time": "2025-06-11T09:59:37.664099Z",
     "start_time": "2025-06-11T09:59:37.659067Z"
    }
   },
   "source": "d1[\"k2\"][\"k21\"] = d1[\"k2\"][\"k21\"].upper()",
   "outputs": [],
   "execution_count": 27
  },
  {
   "cell_type": "code",
   "id": "947a7abb-b761-40a1-a3b7-9f0edc7d123b",
   "metadata": {
    "ExecuteTime": {
     "end_time": "2025-06-11T09:59:38.037554Z",
     "start_time": "2025-06-11T09:59:38.029998Z"
    }
   },
   "source": "d1[\"k2\"][\"k21\"]",
   "outputs": [
    {
     "data": {
      "text/plain": [
       "'SILICON'"
      ]
     },
     "execution_count": 28,
     "metadata": {},
     "output_type": "execute_result"
    }
   ],
   "execution_count": 28
  },
  {
   "cell_type": "code",
   "id": "3d18260d-833d-440f-ac90-fc94afc235c9",
   "metadata": {
    "ExecuteTime": {
     "end_time": "2025-06-11T09:59:38.423484Z",
     "start_time": "2025-06-11T09:59:38.415944Z"
    }
   },
   "source": [
    "d1"
   ],
   "outputs": [
    {
     "data": {
      "text/plain": [
       "{'k1': [1, 2, 3], 'k2': {'k21': 'SILICON', 'k22': 2025}}"
      ]
     },
     "execution_count": 29,
     "metadata": {},
     "output_type": "execute_result"
    }
   ],
   "execution_count": 29
  },
  {
   "cell_type": "code",
   "id": "b001673c-56ff-4154-9a4b-5dcc019470c0",
   "metadata": {
    "ExecuteTime": {
     "end_time": "2025-06-11T09:59:38.832443Z",
     "start_time": "2025-06-11T09:59:38.822486Z"
    }
   },
   "source": "d1[\"k2\"][\"k21\"] = d1[\"k2\"][\"k21\"].lower()",
   "outputs": [],
   "execution_count": 30
  },
  {
   "cell_type": "code",
   "id": "634a6fb5-535d-4940-b679-7620391f4aa9",
   "metadata": {
    "ExecuteTime": {
     "end_time": "2025-06-11T09:59:39.173590Z",
     "start_time": "2025-06-11T09:59:39.167004Z"
    }
   },
   "source": "d1[\"k2\"][\"k21\"]",
   "outputs": [
    {
     "data": {
      "text/plain": [
       "'silicon'"
      ]
     },
     "execution_count": 31,
     "metadata": {},
     "output_type": "execute_result"
    }
   ],
   "execution_count": 31
  },
  {
   "cell_type": "code",
   "id": "74c332b3-469a-4c15-a774-87d6b4c04358",
   "metadata": {
    "ExecuteTime": {
     "end_time": "2025-06-11T09:59:39.565706Z",
     "start_time": "2025-06-11T09:59:39.557610Z"
    }
   },
   "source": [
    "d1"
   ],
   "outputs": [
    {
     "data": {
      "text/plain": [
       "{'k1': [1, 2, 3], 'k2': {'k21': 'silicon', 'k22': 2025}}"
      ]
     },
     "execution_count": 32,
     "metadata": {},
     "output_type": "execute_result"
    }
   ],
   "execution_count": 32
  },
  {
   "cell_type": "markdown",
   "id": "13f6c866-b0ab-4e6e-bd32-c95472b6fa32",
   "metadata": {},
   "source": [
    "### Do Dictionary Are Mutable ?"
   ]
  },
  {
   "cell_type": "code",
   "id": "b5369643-af96-4652-8c91-4907f0353d65",
   "metadata": {
    "ExecuteTime": {
     "end_time": "2025-06-11T09:59:40.404572Z",
     "start_time": "2025-06-11T09:59:40.399546Z"
    }
   },
   "source": "d2 = {\"k1\": 32, \"k2\": \"silicon\"}",
   "outputs": [],
   "execution_count": 33
  },
  {
   "cell_type": "code",
   "id": "9c70b604-7ea0-4f4d-83c7-1840c5d87697",
   "metadata": {
    "ExecuteTime": {
     "end_time": "2025-06-11T09:59:40.808477Z",
     "start_time": "2025-06-11T09:59:40.802420Z"
    }
   },
   "source": "d2[\"k1\"] = \"Odisha\"",
   "outputs": [],
   "execution_count": 34
  },
  {
   "cell_type": "code",
   "id": "2eb62fc2-eec0-4054-a265-4fc53321ef77",
   "metadata": {
    "ExecuteTime": {
     "end_time": "2025-06-11T09:59:41.200861Z",
     "start_time": "2025-06-11T09:59:41.191157Z"
    }
   },
   "source": "d2",
   "outputs": [
    {
     "data": {
      "text/plain": [
       "{'k1': 'Odisha', 'k2': 'silicon'}"
      ]
     },
     "execution_count": 35,
     "metadata": {},
     "output_type": "execute_result"
    }
   ],
   "execution_count": 35
  },
  {
   "cell_type": "markdown",
   "id": "44e59b12-18b9-4cb6-839a-35cdec1cc14d",
   "metadata": {},
   "source": "From  this it is clear that dictionary are mutable i.e item reassignment can be done"
  },
  {
   "cell_type": "markdown",
   "id": "0b5a7917-b96b-44b2-8b51-a59ad852ebbc",
   "metadata": {},
   "source": "TUPLES DATATYPE\n"
  },
  {
   "cell_type": "markdown",
   "id": "4c462a20-fa70-4f65-aa80-d65bb34b3362",
   "metadata": {},
   "source": "It consist of different datatype separated by commas and enclosed by parethesis"
  },
  {
   "cell_type": "code",
   "id": "03a57ae1-624a-4f27-8f30-e6f4ea7fa510",
   "metadata": {
    "ExecuteTime": {
     "end_time": "2025-06-11T09:59:43.041610Z",
     "start_time": "2025-06-11T09:59:43.032436Z"
    }
   },
   "source": [
    "# For Example\n",
    "my_tuple = (2, 2.4, \"silicon\", [1, 2, 3], (3, \"institute\"))"
   ],
   "outputs": [],
   "execution_count": 36
  },
  {
   "cell_type": "markdown",
   "id": "3eb9b19c-f186-4ecb-a6ab-ccf1752a0bcc",
   "metadata": {},
   "source": "TUPLES ARE ORDERED SEQUENCE,Which means it supports indexing and slicing"
  },
  {
   "cell_type": "code",
   "id": "470a557f-758e-43d8-aab8-dbbf95ee5590",
   "metadata": {
    "ExecuteTime": {
     "end_time": "2025-06-11T09:59:44.058364Z",
     "start_time": "2025-06-11T09:59:44.051156Z"
    }
   },
   "source": [
    "## Indexing\n",
    "my_tuple[2]"
   ],
   "outputs": [
    {
     "data": {
      "text/plain": [
       "'silicon'"
      ]
     },
     "execution_count": 37,
     "metadata": {},
     "output_type": "execute_result"
    }
   ],
   "execution_count": 37
  },
  {
   "cell_type": "code",
   "id": "b1cd8dcc-e149-46f3-8593-f280464535ff",
   "metadata": {
    "ExecuteTime": {
     "end_time": "2025-06-11T09:59:44.566382Z",
     "start_time": "2025-06-11T09:59:44.559845Z"
    }
   },
   "source": "my_tuple[-1]",
   "outputs": [
    {
     "data": {
      "text/plain": [
       "(3, 'institute')"
      ]
     },
     "execution_count": 38,
     "metadata": {},
     "output_type": "execute_result"
    }
   ],
   "execution_count": 38
  },
  {
   "cell_type": "code",
   "id": "6b65f8bf-67dc-4227-9193-7d66b6b1eb96",
   "metadata": {
    "ExecuteTime": {
     "end_time": "2025-06-11T09:59:45.156753Z",
     "start_time": "2025-06-11T09:59:45.149708Z"
    }
   },
   "source": "my_tuple[-1][-1]",
   "outputs": [
    {
     "data": {
      "text/plain": [
       "'institute'"
      ]
     },
     "execution_count": 39,
     "metadata": {},
     "output_type": "execute_result"
    }
   ],
   "execution_count": 39
  },
  {
   "cell_type": "code",
   "id": "80b97a07-a17b-4e10-902b-4980e3bed20c",
   "metadata": {
    "ExecuteTime": {
     "end_time": "2025-06-11T09:59:45.621166Z",
     "start_time": "2025-06-11T09:59:45.612922Z"
    }
   },
   "source": "my_tuple[-1][-1].upper()",
   "outputs": [
    {
     "data": {
      "text/plain": [
       "'INSTITUTE'"
      ]
     },
     "execution_count": 40,
     "metadata": {},
     "output_type": "execute_result"
    }
   ],
   "execution_count": 40
  },
  {
   "cell_type": "code",
   "id": "1384b0a8-da7e-48c9-a142-d04f983eae5c",
   "metadata": {
    "ExecuteTime": {
     "end_time": "2025-06-11T09:59:46.040697Z",
     "start_time": "2025-06-11T09:59:46.032408Z"
    }
   },
   "source": [
    "## Slicing\n",
    "my_tuple[:3]"
   ],
   "outputs": [
    {
     "data": {
      "text/plain": [
       "(2, 2.4, 'silicon')"
      ]
     },
     "execution_count": 41,
     "metadata": {},
     "output_type": "execute_result"
    }
   ],
   "execution_count": 41
  },
  {
   "cell_type": "markdown",
   "id": "ef4ef2a1-3d43-43b7-8157-6120a78812c7",
   "metadata": {},
   "source": [
    "### Are Tuples Mutable"
   ]
  },
  {
   "cell_type": "code",
   "id": "cf2c7991-7627-42c1-8fa9-affdd1c9ae81",
   "metadata": {
    "ExecuteTime": {
     "end_time": "2025-06-11T09:59:46.884389Z",
     "start_time": "2025-06-11T09:59:46.876350Z"
    }
   },
   "source": "print(my_tuple)",
   "outputs": [
    {
     "name": "stdout",
     "output_type": "stream",
     "text": [
      "(2, 2.4, 'silicon', [1, 2, 3], (3, 'institute'))\n"
     ]
    }
   ],
   "execution_count": 42
  },
  {
   "cell_type": "code",
   "id": "4ff7acec-4089-4bee-ab06-322e5a30a467",
   "metadata": {
    "ExecuteTime": {
     "end_time": "2025-06-11T09:59:47.866304Z",
     "start_time": "2025-06-11T09:59:47.312403Z"
    }
   },
   "source": "my_tuple[1] = 40",
   "outputs": [
    {
     "ename": "TypeError",
     "evalue": "'tuple' object does not support item assignment",
     "output_type": "error",
     "traceback": [
      "\u001B[1;31m---------------------------------------------------------------------------\u001B[0m",
      "\u001B[1;31mTypeError\u001B[0m                                 Traceback (most recent call last)",
      "Cell \u001B[1;32mIn[43], line 1\u001B[0m\n\u001B[1;32m----> 1\u001B[0m \u001B[43mmy_tuple\u001B[49m\u001B[43m[\u001B[49m\u001B[38;5;241;43m1\u001B[39;49m\u001B[43m]\u001B[49m \u001B[38;5;241m=\u001B[39m \u001B[38;5;241m40\u001B[39m\n",
      "\u001B[1;31mTypeError\u001B[0m: 'tuple' object does not support item assignment"
     ]
    }
   ],
   "execution_count": 43
  },
  {
   "cell_type": "markdown",
   "id": "d3b0aa55-191f-4cda-b316-8da3772d2e31",
   "metadata": {},
   "source": "from this it is clear that tuples are not mutable."
  },
  {
   "cell_type": "markdown",
   "id": "e6ded6bd-4c76-4553-91f6-6310f71cbb23",
   "metadata": {},
   "source": "LIST VS TUPLE"
  },
  {
   "metadata": {},
   "cell_type": "markdown",
   "source": "DATA will be secured",
   "id": "ec834fe7b851d560"
  },
  {
   "cell_type": "code",
   "id": "9ea3fd86-0833-4372-85b6-642e47e64c42",
   "metadata": {
    "ExecuteTime": {
     "end_time": "2025-06-11T09:59:49.233894Z",
     "start_time": "2025-06-11T09:59:49.228372Z"
    }
   },
   "source": "my_list = [1, 2, 3]",
   "outputs": [],
   "execution_count": 44
  },
  {
   "cell_type": "code",
   "id": "99216ca9-3009-4749-a98b-733a32a6edb9",
   "metadata": {
    "ExecuteTime": {
     "end_time": "2025-06-11T09:59:49.698420Z",
     "start_time": "2025-06-11T09:59:49.692865Z"
    }
   },
   "source": "my_list[1] = 45",
   "outputs": [],
   "execution_count": 45
  },
  {
   "cell_type": "code",
   "id": "03299895-6107-4c58-bf8e-eb99372ee1bf",
   "metadata": {
    "ExecuteTime": {
     "end_time": "2025-06-11T09:59:50.262268Z",
     "start_time": "2025-06-11T09:59:50.255225Z"
    }
   },
   "source": "my_list",
   "outputs": [
    {
     "data": {
      "text/plain": [
       "[1, 45, 3]"
      ]
     },
     "execution_count": 46,
     "metadata": {},
     "output_type": "execute_result"
    }
   ],
   "execution_count": 46
  },
  {
   "cell_type": "code",
   "id": "2782e1e1-6f5d-4622-83e0-c9045bbbaf08",
   "metadata": {
    "ExecuteTime": {
     "end_time": "2025-06-11T09:59:50.746047Z",
     "start_time": "2025-06-11T09:59:50.739Z"
    }
   },
   "source": "my_tuple = (1, 2, 3)",
   "outputs": [],
   "execution_count": 47
  },
  {
   "cell_type": "code",
   "id": "0e46269a-802a-405f-87b5-a9462f044e72",
   "metadata": {
    "ExecuteTime": {
     "end_time": "2025-06-11T09:59:51.152851Z",
     "start_time": "2025-06-11T09:59:51.128826Z"
    }
   },
   "source": "my_tuple[1] = 45",
   "outputs": [
    {
     "ename": "TypeError",
     "evalue": "'tuple' object does not support item assignment",
     "output_type": "error",
     "traceback": [
      "\u001B[1;31m---------------------------------------------------------------------------\u001B[0m",
      "\u001B[1;31mTypeError\u001B[0m                                 Traceback (most recent call last)",
      "Cell \u001B[1;32mIn[48], line 1\u001B[0m\n\u001B[1;32m----> 1\u001B[0m \u001B[43mmy_tuple\u001B[49m\u001B[43m[\u001B[49m\u001B[38;5;241;43m1\u001B[39;49m\u001B[43m]\u001B[49m \u001B[38;5;241m=\u001B[39m \u001B[38;5;241m45\u001B[39m\n",
      "\u001B[1;31mTypeError\u001B[0m: 'tuple' object does not support item assignment"
     ]
    }
   ],
   "execution_count": 48
  },
  {
   "cell_type": "markdown",
   "id": "ff0ae060-b378-4335-89df-f8634f40008a",
   "metadata": {},
   "source": "Attributes and methods used for TUPLES"
  },
  {
   "cell_type": "code",
   "id": "b07d42f9-c9f7-4b46-87ae-b14219164f87",
   "metadata": {
    "ExecuteTime": {
     "end_time": "2025-06-11T09:59:52.015056Z",
     "start_time": "2025-06-11T09:59:52.010087Z"
    }
   },
   "source": "my_tuple = (1, 2, 3, 3)",
   "outputs": [],
   "execution_count": 49
  },
  {
   "cell_type": "code",
   "id": "e65987f6-5012-426f-93f8-e6f84a086cbb",
   "metadata": {
    "ExecuteTime": {
     "end_time": "2025-06-11T09:59:52.638786Z",
     "start_time": "2025-06-11T09:59:52.628662Z"
    }
   },
   "source": "my_tuple.count(3)",
   "outputs": [
    {
     "data": {
      "text/plain": [
       "2"
      ]
     },
     "execution_count": 50,
     "metadata": {},
     "output_type": "execute_result"
    }
   ],
   "execution_count": 50
  },
  {
   "cell_type": "code",
   "id": "43a80df0-0a1c-445c-a26b-be16e046f5a0",
   "metadata": {
    "ExecuteTime": {
     "end_time": "2025-06-11T09:59:53.149818Z",
     "start_time": "2025-06-11T09:59:53.142672Z"
    }
   },
   "source": "my_tuple.index(1)",
   "outputs": [
    {
     "data": {
      "text/plain": [
       "0"
      ]
     },
     "execution_count": 51,
     "metadata": {},
     "output_type": "execute_result"
    }
   ],
   "execution_count": 51
  },
  {
   "cell_type": "code",
   "id": "1b75ca08-e80d-4c95-bd5c-4ec23d5cad36",
   "metadata": {
    "ExecuteTime": {
     "end_time": "2025-06-11T09:59:53.583245Z",
     "start_time": "2025-06-11T09:59:53.577617Z"
    }
   },
   "source": "my_tuple.index(3)",
   "outputs": [
    {
     "data": {
      "text/plain": [
       "2"
      ]
     },
     "execution_count": 52,
     "metadata": {},
     "output_type": "execute_result"
    }
   ],
   "execution_count": 52
  },
  {
   "cell_type": "markdown",
   "id": "bc82fcb2-fdbe-4566-8d07-07a3525cfb98",
   "metadata": {},
   "source": "SET DATATYPES = Unordered sequence of unique elements"
  },
  {
   "cell_type": "markdown",
   "id": "32d00581-b729-4d6e-922f-11b4f0e3fe9e",
   "metadata": {},
   "source": [
    "#### Control Flow"
   ]
  },
  {
   "cell_type": "markdown",
   "id": "c55a1a1f-e386-4a03-8be7-55c076a5e9d2",
   "metadata": {},
   "source": [
    "#### 1. if-elif-else statement"
   ]
  },
  {
   "cell_type": "code",
   "id": "9edd99fc-ea63-4247-a869-2f59e198d776",
   "metadata": {
    "ExecuteTime": {
     "end_time": "2025-06-11T09:59:55.142368Z",
     "start_time": "2025-06-11T09:59:55.135336Z"
    }
   },
   "source": [
    "a = \"silicon\"\n",
    "\n",
    "if a == \"SILICON\":\n",
    "    print(\"SILICON word is found\")\n",
    "elif a == \"Silicon\":\n",
    "    print(\"Silicon word is found\")\n",
    "else:\n",
    "    print(\"silicon word is not found\")"
   ],
   "outputs": [
    {
     "name": "stdout",
     "output_type": "stream",
     "text": [
      "silicon word is not found\n"
     ]
    }
   ],
   "execution_count": 53
  },
  {
   "cell_type": "code",
   "id": "ad526ff2-1dea-418c-b7be-32b72e0138cc",
   "metadata": {
    "ExecuteTime": {
     "end_time": "2025-06-11T10:00:17.660812Z",
     "start_time": "2025-06-11T10:00:17.652765Z"
    }
   },
   "source": [
    "for b in [1, 2, 3, 4, 5]:\n",
    "    print(\"Hello\")"
   ],
   "outputs": [
    {
     "name": "stdout",
     "output_type": "stream",
     "text": [
      "Hello\n",
      "Hello\n",
      "Hello\n",
      "Hello\n",
      "Hello\n"
     ]
    }
   ],
   "execution_count": 54
  },
  {
   "metadata": {
    "ExecuteTime": {
     "end_time": "2025-06-11T10:00:36.493920Z",
     "start_time": "2025-06-11T10:00:36.487880Z"
    }
   },
   "cell_type": "code",
   "source": "L = [(1, 2), (3, 4), (5, 6, 7, 8)]",
   "id": "7936d82485c30418",
   "outputs": [],
   "execution_count": 55
  },
  {
   "metadata": {
    "ExecuteTime": {
     "end_time": "2025-06-11T10:00:55.870805Z",
     "start_time": "2025-06-11T10:00:55.864110Z"
    }
   },
   "cell_type": "code",
   "source": [
    "for c in L:\n",
    "    print(c)"
   ],
   "id": "23ecd0cf65774026",
   "outputs": [
    {
     "name": "stdout",
     "output_type": "stream",
     "text": [
      "(1, 2)\n",
      "(3, 4)\n",
      "(5, 6, 7, 8)\n"
     ]
    }
   ],
   "execution_count": 56
  },
  {
   "metadata": {
    "ExecuteTime": {
     "end_time": "2025-06-11T10:01:50.820700Z",
     "start_time": "2025-06-11T10:01:50.814306Z"
    }
   },
   "cell_type": "code",
   "source": [
    "for c in L:\n",
    "    for b in c:\n",
    "        print(b)"
   ],
   "id": "38d79c3d299e9697",
   "outputs": [
    {
     "name": "stdout",
     "output_type": "stream",
     "text": [
      "1\n",
      "2\n",
      "3\n",
      "4\n",
      "5\n",
      "6\n",
      "7\n",
      "8\n"
     ]
    }
   ],
   "execution_count": 57
  },
  {
   "metadata": {
    "ExecuteTime": {
     "end_time": "2025-06-11T10:03:12.612097Z",
     "start_time": "2025-06-11T10:03:12.606020Z"
    }
   },
   "cell_type": "code",
   "source": "L = [(1, 2), (3, 4), (5, 6)]",
   "id": "9e2bfec5be52f8b",
   "outputs": [],
   "execution_count": 58
  },
  {
   "metadata": {},
   "cell_type": "markdown",
   "source": "TUPLE UNPACKING",
   "id": "d5f81731bc3c946f"
  },
  {
   "metadata": {
    "ExecuteTime": {
     "end_time": "2025-06-11T10:06:02.659407Z",
     "start_time": "2025-06-11T10:06:02.651211Z"
    }
   },
   "cell_type": "code",
   "source": [
    "for a, b in L:\n",
    "    print(b)"
   ],
   "id": "602d8537fe379185",
   "outputs": [
    {
     "name": "stdout",
     "output_type": "stream",
     "text": [
      "2\n",
      "4\n",
      "6\n"
     ]
    }
   ],
   "execution_count": 62
  },
  {
   "metadata": {
    "ExecuteTime": {
     "end_time": "2025-06-11T10:07:11.373473Z",
     "start_time": "2025-06-11T10:07:11.353655Z"
    }
   },
   "cell_type": "code",
   "source": [
    "L = [(1, 2), (3, 4), (5, 6, 7, 8)]\n",
    "\n",
    "for a, b in L:\n",
    "    print(a)"
   ],
   "id": "7aa4bd26d29d3c0d",
   "outputs": [
    {
     "name": "stdout",
     "output_type": "stream",
     "text": [
      "1\n",
      "3\n"
     ]
    },
    {
     "ename": "ValueError",
     "evalue": "too many values to unpack (expected 2)",
     "output_type": "error",
     "traceback": [
      "\u001B[1;31m---------------------------------------------------------------------------\u001B[0m",
      "\u001B[1;31mValueError\u001B[0m                                Traceback (most recent call last)",
      "Cell \u001B[1;32mIn[63], line 3\u001B[0m\n\u001B[0;32m      1\u001B[0m L \u001B[38;5;241m=\u001B[39m [(\u001B[38;5;241m1\u001B[39m, \u001B[38;5;241m2\u001B[39m), (\u001B[38;5;241m3\u001B[39m, \u001B[38;5;241m4\u001B[39m), (\u001B[38;5;241m5\u001B[39m, \u001B[38;5;241m6\u001B[39m, \u001B[38;5;241m7\u001B[39m, \u001B[38;5;241m8\u001B[39m)]\n\u001B[1;32m----> 3\u001B[0m \u001B[38;5;28;01mfor\u001B[39;00m a, b \u001B[38;5;129;01min\u001B[39;00m L:\n\u001B[0;32m      4\u001B[0m     \u001B[38;5;28mprint\u001B[39m(a)\n",
      "\u001B[1;31mValueError\u001B[0m: too many values to unpack (expected 2)"
     ]
    }
   ],
   "execution_count": 63
  },
  {
   "metadata": {
    "ExecuteTime": {
     "end_time": "2025-06-11T10:10:21.664688Z",
     "start_time": "2025-06-11T10:10:21.642846Z"
    }
   },
   "cell_type": "code",
   "source": [
    "L = [(1, 2, 5, 6), (3, 4), (5, 6, 7, 8)]\n",
    "\n",
    "for a, b, c, d in L:\n",
    "    print(a)"
   ],
   "id": "7faa99f0a5dd19c6",
   "outputs": [
    {
     "name": "stdout",
     "output_type": "stream",
     "text": [
      "1\n"
     ]
    },
    {
     "ename": "ValueError",
     "evalue": "not enough values to unpack (expected 4, got 2)",
     "output_type": "error",
     "traceback": [
      "\u001B[1;31m---------------------------------------------------------------------------\u001B[0m",
      "\u001B[1;31mValueError\u001B[0m                                Traceback (most recent call last)",
      "Cell \u001B[1;32mIn[65], line 3\u001B[0m\n\u001B[0;32m      1\u001B[0m L \u001B[38;5;241m=\u001B[39m [(\u001B[38;5;241m1\u001B[39m, \u001B[38;5;241m2\u001B[39m, \u001B[38;5;241m5\u001B[39m, \u001B[38;5;241m6\u001B[39m), (\u001B[38;5;241m3\u001B[39m, \u001B[38;5;241m4\u001B[39m), (\u001B[38;5;241m5\u001B[39m, \u001B[38;5;241m6\u001B[39m, \u001B[38;5;241m7\u001B[39m, \u001B[38;5;241m8\u001B[39m)]\n\u001B[1;32m----> 3\u001B[0m \u001B[38;5;28;01mfor\u001B[39;00m a, b, c, d \u001B[38;5;129;01min\u001B[39;00m L:\n\u001B[0;32m      4\u001B[0m     \u001B[38;5;28mprint\u001B[39m(a)\n",
      "\u001B[1;31mValueError\u001B[0m: not enough values to unpack (expected 4, got 2)"
     ]
    }
   ],
   "execution_count": 65
  },
  {
   "metadata": {
    "ExecuteTime": {
     "end_time": "2025-06-11T10:12:11.327814Z",
     "start_time": "2025-06-11T10:12:11.321290Z"
    }
   },
   "cell_type": "code",
   "source": "D = {\"k1\": 32, \"k2\": \"silicon\"}",
   "id": "26ea76662c1f63e1",
   "outputs": [],
   "execution_count": 66
  },
  {
   "metadata": {
    "ExecuteTime": {
     "end_time": "2025-06-11T10:12:18.435014Z",
     "start_time": "2025-06-11T10:12:18.428484Z"
    }
   },
   "cell_type": "code",
   "source": [
    "for a in D:\n",
    "    print(a)"
   ],
   "id": "ce42cd8b8f575e2f",
   "outputs": [
    {
     "name": "stdout",
     "output_type": "stream",
     "text": [
      "k1\n",
      "k2\n"
     ]
    }
   ],
   "execution_count": 67
  },
  {
   "metadata": {},
   "cell_type": "markdown",
   "source": "From above, it is clear that when we iterate through object in a dictionary then by default its return type is its \"key\" only",
   "id": "900551085699df0a"
  },
  {
   "metadata": {
    "ExecuteTime": {
     "end_time": "2025-06-11T10:14:50.540067Z",
     "start_time": "2025-06-11T10:14:50.532225Z"
    }
   },
   "cell_type": "code",
   "source": "D.items()",
   "id": "ad013a0d767379",
   "outputs": [
    {
     "data": {
      "text/plain": [
       "dict_items([('k1', 32), ('k2', 'silicon')])"
      ]
     },
     "execution_count": 68,
     "metadata": {},
     "output_type": "execute_result"
    }
   ],
   "execution_count": 68
  },
  {
   "metadata": {
    "ExecuteTime": {
     "end_time": "2025-06-11T10:15:02.017241Z",
     "start_time": "2025-06-11T10:15:02.009684Z"
    }
   },
   "cell_type": "code",
   "source": [
    "for a in D.items():\n",
    "    print(a)"
   ],
   "id": "3464ca89a48e0448",
   "outputs": [
    {
     "name": "stdout",
     "output_type": "stream",
     "text": [
      "('k1', 32)\n",
      "('k2', 'silicon')\n"
     ]
    }
   ],
   "execution_count": 69
  },
  {
   "metadata": {
    "ExecuteTime": {
     "end_time": "2025-06-11T10:15:36.966646Z",
     "start_time": "2025-06-11T10:15:36.961119Z"
    }
   },
   "cell_type": "code",
   "source": [
    "for a, b in D.items():\n",
    "    print(a)"
   ],
   "id": "ed5909e80da3b317",
   "outputs": [
    {
     "name": "stdout",
     "output_type": "stream",
     "text": [
      "k1\n",
      "k2\n"
     ]
    }
   ],
   "execution_count": 70
  },
  {
   "metadata": {
    "ExecuteTime": {
     "end_time": "2025-06-11T10:15:46.443222Z",
     "start_time": "2025-06-11T10:15:46.436694Z"
    }
   },
   "cell_type": "code",
   "source": [
    "for a, b in D.items():\n",
    "    print(b)"
   ],
   "id": "774a5c77b8864304",
   "outputs": [
    {
     "name": "stdout",
     "output_type": "stream",
     "text": [
      "32\n",
      "silicon\n"
     ]
    }
   ],
   "execution_count": 71
  },
  {
   "metadata": {
    "ExecuteTime": {
     "end_time": "2025-06-11T10:15:56.978303Z",
     "start_time": "2025-06-11T10:15:56.972002Z"
    }
   },
   "cell_type": "code",
   "source": [
    "for a in D.keys():\n",
    "    print(a)"
   ],
   "id": "94de085bff67ac65",
   "outputs": [
    {
     "name": "stdout",
     "output_type": "stream",
     "text": [
      "k1\n",
      "k2\n"
     ]
    }
   ],
   "execution_count": 72
  },
  {
   "metadata": {
    "ExecuteTime": {
     "end_time": "2025-06-11T10:16:14.053466Z",
     "start_time": "2025-06-11T10:16:14.047535Z"
    }
   },
   "cell_type": "code",
   "source": [
    "for a in D.values():\n",
    "    print(a)"
   ],
   "id": "b5dc86546bc786eb",
   "outputs": [
    {
     "name": "stdout",
     "output_type": "stream",
     "text": [
      "32\n",
      "silicon\n"
     ]
    }
   ],
   "execution_count": 73
  },
  {
   "metadata": {},
   "cell_type": "markdown",
   "source": "Discuss on 3 important keywords which are very important for loops",
   "id": "35e77ec575a5fca8"
  },
  {
   "metadata": {},
   "cell_type": "markdown",
   "source": "PASS",
   "id": "badd68448d90d1c0"
  },
  {
   "metadata": {
    "ExecuteTime": {
     "end_time": "2025-06-11T10:19:17.370343Z",
     "start_time": "2025-06-11T10:19:17.363528Z"
    }
   },
   "cell_type": "code",
   "source": [
    "b = \"silicon\"\n",
    "\n",
    "for a in b:\n",
    "    print(a)"
   ],
   "id": "cac7376fa0000ddd",
   "outputs": [
    {
     "name": "stdout",
     "output_type": "stream",
     "text": [
      "s\n",
      "i\n",
      "l\n",
      "i\n",
      "c\n",
      "o\n",
      "n\n"
     ]
    }
   ],
   "execution_count": 74
  },
  {
   "metadata": {
    "ExecuteTime": {
     "end_time": "2025-06-11T10:21:12.810074Z",
     "start_time": "2025-06-11T10:21:12.804479Z"
    }
   },
   "cell_type": "code",
   "source": [
    "b = \"silicon\"\n",
    "\n",
    "for a in b:\n",
    "    if a == \"s\":\n",
    "        print(\"character in the string is found\")\n",
    "    else:\n",
    "        print(\"character not found\")"
   ],
   "id": "49ca084f357fc721",
   "outputs": [
    {
     "name": "stdout",
     "output_type": "stream",
     "text": [
      "character in the string is found\n",
      "number not found\n",
      "number not found\n",
      "number not found\n",
      "number not found\n",
      "number not found\n",
      "number not found\n"
     ]
    }
   ],
   "execution_count": 76
  },
  {
   "metadata": {
    "ExecuteTime": {
     "end_time": "2025-06-11T10:22:17.231406Z",
     "start_time": "2025-06-11T10:22:17.222653Z"
    }
   },
   "cell_type": "code",
   "source": [
    "b = \"silicon\"\n",
    "\n",
    "for a in b:\n",
    "    if a == \"s\":\n",
    "    else:\n",
    "        print(\"character not found\")"
   ],
   "id": "e8c5380d389a3cab",
   "outputs": [
    {
     "ename": "IndentationError",
     "evalue": "expected an indented block after 'if' statement on line 4 (1708133030.py, line 5)",
     "output_type": "error",
     "traceback": [
      "\u001B[1;36m  Cell \u001B[1;32mIn[77], line 5\u001B[1;36m\u001B[0m\n\u001B[1;33m    else:\u001B[0m\n\u001B[1;37m    ^\u001B[0m\n\u001B[1;31mIndentationError\u001B[0m\u001B[1;31m:\u001B[0m expected an indented block after 'if' statement on line 4\n"
     ]
    }
   ],
   "execution_count": 77
  },
  {
   "metadata": {
    "ExecuteTime": {
     "end_time": "2025-06-11T10:22:37.222198Z",
     "start_time": "2025-06-11T10:22:37.215201Z"
    }
   },
   "cell_type": "code",
   "source": [
    "b = \"silicon\"\n",
    "\n",
    "for a in b:\n",
    "    if a == \"s\":\n",
    "\n",
    "    else:\n",
    "        print(\"character not found\")"
   ],
   "id": "d8546e68ebebb275",
   "outputs": [
    {
     "ename": "IndentationError",
     "evalue": "expected an indented block after 'if' statement on line 4 (639732088.py, line 6)",
     "output_type": "error",
     "traceback": [
      "\u001B[1;36m  Cell \u001B[1;32mIn[78], line 6\u001B[1;36m\u001B[0m\n\u001B[1;33m    else:\u001B[0m\n\u001B[1;37m    ^\u001B[0m\n\u001B[1;31mIndentationError\u001B[0m\u001B[1;31m:\u001B[0m expected an indented block after 'if' statement on line 4\n"
     ]
    }
   ],
   "execution_count": 78
  },
  {
   "metadata": {
    "ExecuteTime": {
     "end_time": "2025-06-11T10:24:19.030514Z",
     "start_time": "2025-06-11T10:24:19.023622Z"
    }
   },
   "cell_type": "code",
   "source": [
    "b = \"silicon\"\n",
    "\n",
    "for a in b:\n",
    "    if a == \"s\":\n",
    "        pass\n",
    "    else:\n",
    "        print(\"character not found\")"
   ],
   "id": "735df566f9aba03d",
   "outputs": [
    {
     "name": "stdout",
     "output_type": "stream",
     "text": [
      "character not found\n",
      "character not found\n",
      "character not found\n",
      "character not found\n",
      "character not found\n",
      "character not found\n"
     ]
    }
   ],
   "execution_count": 81
  },
  {
   "metadata": {},
   "cell_type": "markdown",
   "source": "BREAK",
   "id": "cdde6683187f52"
  },
  {
   "metadata": {
    "ExecuteTime": {
     "end_time": "2025-06-11T10:26:41.042987Z",
     "start_time": "2025-06-11T10:26:41.036944Z"
    }
   },
   "cell_type": "code",
   "source": [
    "b = \"silicon\"\n",
    "\n",
    "for a in b:\n",
    "    if a == \"o\":\n",
    "        break  # It breaks the loop when the condition is satisfied\n",
    "    else:\n",
    "        print(a)"
   ],
   "id": "39985f6e46a41b64",
   "outputs": [
    {
     "name": "stdout",
     "output_type": "stream",
     "text": [
      "s\n",
      "i\n",
      "l\n",
      "i\n",
      "c\n"
     ]
    }
   ],
   "execution_count": 82
  },
  {
   "metadata": {
    "ExecuteTime": {
     "end_time": "2025-06-11T10:28:28.104443Z",
     "start_time": "2025-06-11T10:28:28.095866Z"
    }
   },
   "cell_type": "code",
   "source": [
    "b = \"silicon\"\n",
    "\n",
    "for a in b:\n",
    "    if a == \"o\":\n",
    "        continue  # It continued when the loop even if the condition is satisfied\n",
    "    else:\n",
    "        print(a)"
   ],
   "id": "38b499e3b7dc3ac3",
   "outputs": [
    {
     "name": "stdout",
     "output_type": "stream",
     "text": [
      "s\n",
      "i\n",
      "l\n",
      "i\n",
      "c\n",
      "n\n"
     ]
    }
   ],
   "execution_count": 83
  }
 ],
 "metadata": {
  "kernelspec": {
   "display_name": "Python [conda env:base] *",
   "language": "python",
   "name": "conda-base-py"
  },
  "language_info": {
   "codemirror_mode": {
    "name": "ipython",
    "version": 3
   },
   "file_extension": ".py",
   "mimetype": "text/x-python",
   "name": "python",
   "nbconvert_exporter": "python",
   "pygments_lexer": "ipython3",
   "version": "3.12.7"
  }
 },
 "nbformat": 4,
 "nbformat_minor": 5
}
