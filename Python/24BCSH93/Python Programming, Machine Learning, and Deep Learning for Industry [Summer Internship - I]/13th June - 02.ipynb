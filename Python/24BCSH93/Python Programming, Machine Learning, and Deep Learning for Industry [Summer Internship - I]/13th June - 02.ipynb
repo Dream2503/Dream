{
 "cells": [
  {
   "cell_type": "code",
   "id": "initial_id",
   "metadata": {
    "collapsed": true,
    "ExecuteTime": {
     "end_time": "2025-06-30T14:54:54.305254Z",
     "start_time": "2025-06-30T14:54:54.289690Z"
    }
   },
   "source": "range(10)",
   "outputs": [
    {
     "data": {
      "text/plain": [
       "range(0, 10)"
      ]
     },
     "execution_count": 1,
     "metadata": {},
     "output_type": "execute_result"
    }
   ],
   "execution_count": 1
  },
  {
   "metadata": {
    "ExecuteTime": {
     "end_time": "2025-06-30T14:54:54.617062Z",
     "start_time": "2025-06-30T14:54:54.603687Z"
    }
   },
   "cell_type": "code",
   "source": "list(range(10))",
   "id": "2a820dc746333111",
   "outputs": [
    {
     "data": {
      "text/plain": [
       "[0, 1, 2, 3, 4, 5, 6, 7, 8, 9]"
      ]
     },
     "execution_count": 2,
     "metadata": {},
     "output_type": "execute_result"
    }
   ],
   "execution_count": 2
  },
  {
   "metadata": {
    "ExecuteTime": {
     "end_time": "2025-06-30T14:54:54.681436Z",
     "start_time": "2025-06-30T14:54:54.667341Z"
    }
   },
   "cell_type": "code",
   "source": "list(range(1, 10))",
   "id": "c6d93e82009b5389",
   "outputs": [
    {
     "data": {
      "text/plain": [
       "[1, 2, 3, 4, 5, 6, 7, 8, 9]"
      ]
     },
     "execution_count": 3,
     "metadata": {},
     "output_type": "execute_result"
    }
   ],
   "execution_count": 3
  },
  {
   "metadata": {
    "ExecuteTime": {
     "end_time": "2025-06-30T14:54:54.728738Z",
     "start_time": "2025-06-30T14:54:54.722179Z"
    }
   },
   "cell_type": "code",
   "source": "list(range(0, 10))",
   "id": "7e146c45a02e5b4e",
   "outputs": [
    {
     "data": {
      "text/plain": [
       "[0, 1, 2, 3, 4, 5, 6, 7, 8, 9]"
      ]
     },
     "execution_count": 4,
     "metadata": {},
     "output_type": "execute_result"
    }
   ],
   "execution_count": 4
  },
  {
   "metadata": {
    "ExecuteTime": {
     "end_time": "2025-06-30T14:54:54.791462Z",
     "start_time": "2025-06-30T14:54:54.781483Z"
    }
   },
   "cell_type": "code",
   "source": "list(range(2, 11, 2))",
   "id": "9fc15cad57407734",
   "outputs": [
    {
     "data": {
      "text/plain": [
       "[2, 4, 6, 8, 10]"
      ]
     },
     "execution_count": 5,
     "metadata": {},
     "output_type": "execute_result"
    }
   ],
   "execution_count": 5
  },
  {
   "metadata": {
    "ExecuteTime": {
     "end_time": "2025-06-30T14:54:54.868750Z",
     "start_time": "2025-06-30T14:54:54.858711Z"
    }
   },
   "cell_type": "code",
   "source": "list(range(1, 10, 2))",
   "id": "2438d39e1e3b023",
   "outputs": [
    {
     "data": {
      "text/plain": [
       "[1, 3, 5, 7, 9]"
      ]
     },
     "execution_count": 6,
     "metadata": {},
     "output_type": "execute_result"
    }
   ],
   "execution_count": 6
  },
  {
   "metadata": {},
   "cell_type": "markdown",
   "source": "Needs to get Index Position 0, the value is 30 and so no...",
   "id": "f646fca69f6e6bf6"
  },
  {
   "metadata": {
    "ExecuteTime": {
     "end_time": "2025-06-30T14:54:55.198772Z",
     "start_time": "2025-06-30T14:54:55.191458Z"
    }
   },
   "cell_type": "code",
   "source": [
    "my_list = [30, 10, 20, 5]\n",
    "len(my_list)"
   ],
   "id": "50a1a8a37adcbb23",
   "outputs": [
    {
     "data": {
      "text/plain": [
       "4"
      ]
     },
     "execution_count": 7,
     "metadata": {},
     "output_type": "execute_result"
    }
   ],
   "execution_count": 7
  },
  {
   "metadata": {
    "ExecuteTime": {
     "end_time": "2025-06-30T14:54:55.543881Z",
     "start_time": "2025-06-30T14:54:55.525681Z"
    }
   },
   "cell_type": "code",
   "source": "list(range(4))",
   "id": "845631693b289558",
   "outputs": [
    {
     "data": {
      "text/plain": [
       "[0, 1, 2, 3]"
      ]
     },
     "execution_count": 8,
     "metadata": {},
     "output_type": "execute_result"
    }
   ],
   "execution_count": 8
  },
  {
   "metadata": {
    "ExecuteTime": {
     "end_time": "2025-06-30T14:54:55.886336Z",
     "start_time": "2025-06-30T14:54:55.881826Z"
    }
   },
   "cell_type": "code",
   "source": [
    "for i in range(len(my_list)):\n",
    "    print(f\"Index Position {i}, the value is {my_list[i]}\")"
   ],
   "id": "2aa72613058c6a3b",
   "outputs": [
    {
     "name": "stdout",
     "output_type": "stream",
     "text": [
      "Index Position 0, the value is 30\n",
      "Index Position 1, the value is 10\n",
      "Index Position 2, the value is 20\n",
      "Index Position 3, the value is 5\n"
     ]
    }
   ],
   "execution_count": 9
  },
  {
   "metadata": {
    "ExecuteTime": {
     "end_time": "2025-06-30T14:54:56.244489Z",
     "start_time": "2025-06-30T14:54:56.233654Z"
    }
   },
   "cell_type": "code",
   "source": "my_list",
   "id": "706328ec757c5a0f",
   "outputs": [
    {
     "data": {
      "text/plain": [
       "[30, 10, 20, 5]"
      ]
     },
     "execution_count": 10,
     "metadata": {},
     "output_type": "execute_result"
    }
   ],
   "execution_count": 10
  },
  {
   "metadata": {
    "ExecuteTime": {
     "end_time": "2025-06-30T14:54:56.617179Z",
     "start_time": "2025-06-30T14:54:56.602044Z"
    }
   },
   "cell_type": "code",
   "source": [
    "for i in enumerate(my_list):\n",
    "    print(i)"
   ],
   "id": "6aad5092d684c0f6",
   "outputs": [
    {
     "name": "stdout",
     "output_type": "stream",
     "text": [
      "(0, 30)\n",
      "(1, 10)\n",
      "(2, 20)\n",
      "(3, 5)\n"
     ]
    }
   ],
   "execution_count": 11
  },
  {
   "metadata": {
    "ExecuteTime": {
     "end_time": "2025-06-30T14:54:56.913896Z",
     "start_time": "2025-06-30T14:54:56.903119Z"
    }
   },
   "cell_type": "code",
   "source": [
    "for i, j in enumerate(my_list):\n",
    "    print(f\"Index Position {i}, the value is {j}\")"
   ],
   "id": "3be552894251b4a5",
   "outputs": [
    {
     "name": "stdout",
     "output_type": "stream",
     "text": [
      "Index Position 0, the value is 30\n",
      "Index Position 1, the value is 10\n",
      "Index Position 2, the value is 20\n",
      "Index Position 3, the value is 5\n"
     ]
    }
   ],
   "execution_count": 12
  },
  {
   "metadata": {
    "ExecuteTime": {
     "end_time": "2025-06-30T14:54:57.352439Z",
     "start_time": "2025-06-30T14:54:57.334677Z"
    }
   },
   "cell_type": "code",
   "source": [
    "for i, j in enumerate(my_list):\n",
    "    print(i, j)"
   ],
   "id": "e3352a098a2fabb3",
   "outputs": [
    {
     "name": "stdout",
     "output_type": "stream",
     "text": [
      "0 30\n",
      "1 10\n",
      "2 20\n",
      "3 5\n"
     ]
    }
   ],
   "execution_count": 13
  },
  {
   "metadata": {
    "ExecuteTime": {
     "end_time": "2025-06-30T14:54:58.484164Z",
     "start_time": "2025-06-30T14:54:58.467821Z"
    }
   },
   "cell_type": "code",
   "source": [
    "my_string = \"silicon\"\n",
    "my_list = list(my_string)\n",
    "my_list"
   ],
   "id": "3a983939544a3249",
   "outputs": [
    {
     "data": {
      "text/plain": [
       "['s', 'i', 'l', 'i', 'c', 'o', 'n']"
      ]
     },
     "execution_count": 14,
     "metadata": {},
     "output_type": "execute_result"
    }
   ],
   "execution_count": 14
  },
  {
   "metadata": {
    "ExecuteTime": {
     "end_time": "2025-06-30T14:54:59.064888Z",
     "start_time": "2025-06-30T14:54:59.046788Z"
    }
   },
   "cell_type": "code",
   "source": [
    "my_list = []\n",
    "\n",
    "for i in \"silicon\":\n",
    "    my_list.append(i)\n",
    "    print(my_list)"
   ],
   "id": "1de669d544edd855",
   "outputs": [
    {
     "name": "stdout",
     "output_type": "stream",
     "text": [
      "['s']\n",
      "['s', 'i']\n",
      "['s', 'i', 'l']\n",
      "['s', 'i', 'l', 'i']\n",
      "['s', 'i', 'l', 'i', 'c']\n",
      "['s', 'i', 'l', 'i', 'c', 'o']\n",
      "['s', 'i', 'l', 'i', 'c', 'o', 'n']\n"
     ]
    }
   ],
   "execution_count": 15
  },
  {
   "metadata": {
    "ExecuteTime": {
     "end_time": "2025-06-30T14:54:59.457122Z",
     "start_time": "2025-06-30T14:54:59.446516Z"
    }
   },
   "cell_type": "code",
   "source": [
    "my_list = []\n",
    "\n",
    "for i in \"silicon\":\n",
    "    my_list.append(i)\n",
    "\n",
    "print(my_list)"
   ],
   "id": "20864503e3e56fc1",
   "outputs": [
    {
     "name": "stdout",
     "output_type": "stream",
     "text": [
      "['s', 'i', 'l', 'i', 'c', 'o', 'n']\n"
     ]
    }
   ],
   "execution_count": 16
  },
  {
   "metadata": {},
   "cell_type": "markdown",
   "source": "LIST COMPREHENSION IN PYTHON",
   "id": "dfa9f3c272b9747c"
  },
  {
   "metadata": {},
   "cell_type": "markdown",
   "source": "It is a unique way of quickly creating a list when we have a for loop along with an append method",
   "id": "eb00974c0b45cea2"
  },
  {
   "metadata": {
    "ExecuteTime": {
     "end_time": "2025-06-30T14:55:00.634327Z",
     "start_time": "2025-06-30T14:55:00.623738Z"
    }
   },
   "cell_type": "code",
   "source": [
    "my_list1 = [i for i in \"silicon\"]\n",
    "my_list1"
   ],
   "id": "6ed164c83f816c99",
   "outputs": [
    {
     "data": {
      "text/plain": [
       "['s', 'i', 'l', 'i', 'c', 'o', 'n']"
      ]
     },
     "execution_count": 17,
     "metadata": {},
     "output_type": "execute_result"
    }
   ],
   "execution_count": 17
  },
  {
   "metadata": {},
   "cell_type": "markdown",
   "source": "WAP which will take two list as input i.e. L1 = [1, 2, 3] and L2 = [4, 5] and it should return me list L3 which consists of each element from List 1 multiplied with every element from List 2 i.e. L3 = [4, 5, 8, 10, 12, 15]",
   "id": "b7673509c5f7e2bf"
  },
  {
   "metadata": {
    "ExecuteTime": {
     "end_time": "2025-06-30T14:55:01.304531Z",
     "start_time": "2025-06-30T14:55:01.285246Z"
    }
   },
   "cell_type": "code",
   "source": [
    "L3 = []\n",
    "\n",
    "for L1 in [1, 2, 3]:\n",
    "    for L2 in [4, 5]:\n",
    "        L3.append(L1 * L2)\n",
    "\n",
    "L3"
   ],
   "id": "169e8ce4c069ef27",
   "outputs": [
    {
     "data": {
      "text/plain": [
       "[4, 5, 8, 10, 12, 15]"
      ]
     },
     "execution_count": 18,
     "metadata": {},
     "output_type": "execute_result"
    }
   ],
   "execution_count": 18
  },
  {
   "metadata": {
    "ExecuteTime": {
     "end_time": "2025-06-30T14:55:01.741937Z",
     "start_time": "2025-06-30T14:55:01.731300Z"
    }
   },
   "cell_type": "code",
   "source": [
    "L4 = [L1 * L2 for L1 in [1, 2, 3] for L2 in [4, 5]]\n",
    "L4"
   ],
   "id": "c09ff04a79b693fb",
   "outputs": [
    {
     "data": {
      "text/plain": [
       "[4, 5, 8, 10, 12, 15]"
      ]
     },
     "execution_count": 19,
     "metadata": {},
     "output_type": "execute_result"
    }
   ],
   "execution_count": 19
  },
  {
   "metadata": {},
   "cell_type": "markdown",
   "source": "WAP to take 10 natural numbers and return only the  list of even number",
   "id": "f4a0b3adba7f3f2d"
  },
  {
   "metadata": {
    "ExecuteTime": {
     "end_time": "2025-06-30T14:55:02.567894Z",
     "start_time": "2025-06-30T14:55:02.546450Z"
    }
   },
   "cell_type": "code",
   "source": [
    "even = []\n",
    "\n",
    "for i in range(1, 11):\n",
    "    if i % 2 == 0:\n",
    "        even.append(i)\n",
    "\n",
    "even"
   ],
   "id": "688baa45f5d53dfd",
   "outputs": [
    {
     "data": {
      "text/plain": [
       "[2, 4, 6, 8, 10]"
      ]
     },
     "execution_count": 20,
     "metadata": {},
     "output_type": "execute_result"
    }
   ],
   "execution_count": 20
  },
  {
   "metadata": {
    "ExecuteTime": {
     "end_time": "2025-06-30T14:55:02.974137Z",
     "start_time": "2025-06-30T14:55:02.954568Z"
    }
   },
   "cell_type": "code",
   "source": "even_number = [i for i in range(1, 11) if i % 2 == 0]",
   "id": "cad4fd900e19ad51",
   "outputs": [],
   "execution_count": 21
  },
  {
   "metadata": {
    "ExecuteTime": {
     "end_time": "2025-06-30T14:55:03.288930Z",
     "start_time": "2025-06-30T14:55:03.278823Z"
    }
   },
   "cell_type": "code",
   "source": "even_number",
   "id": "aa29a658626f9777",
   "outputs": [
    {
     "data": {
      "text/plain": [
       "[2, 4, 6, 8, 10]"
      ]
     },
     "execution_count": 22,
     "metadata": {},
     "output_type": "execute_result"
    }
   ],
   "execution_count": 22
  },
  {
   "metadata": {
    "ExecuteTime": {
     "end_time": "2025-06-30T14:55:03.664923Z",
     "start_time": "2025-06-30T14:55:03.645403Z"
    }
   },
   "cell_type": "code",
   "source": [
    "even = []\n",
    "\n",
    "for i in range(1, 11):\n",
    "    if i % 2 == 0:\n",
    "        even.append(i)\n",
    "\n",
    "    else:\n",
    "        print(f\"Odd number is {i}\")\n",
    "\n",
    "even"
   ],
   "id": "d94df8422d7f9fee",
   "outputs": [
    {
     "name": "stdout",
     "output_type": "stream",
     "text": [
      "Odd number is 1\n",
      "Odd number is 3\n",
      "Odd number is 5\n",
      "Odd number is 7\n",
      "Odd number is 9\n"
     ]
    },
    {
     "data": {
      "text/plain": [
       "[2, 4, 6, 8, 10]"
      ]
     },
     "execution_count": 23,
     "metadata": {},
     "output_type": "execute_result"
    }
   ],
   "execution_count": 23
  },
  {
   "metadata": {},
   "cell_type": "markdown",
   "source": "FUNCTION",
   "id": "61e97c1214e4083e"
  },
  {
   "metadata": {
    "ExecuteTime": {
     "end_time": "2025-06-30T14:55:04.448734Z",
     "start_time": "2025-06-30T14:55:04.440465Z"
    }
   },
   "cell_type": "code",
   "source": [
    "even = []\n",
    "odd = []\n",
    "\n",
    "for i in range(1, 11):\n",
    "    if i % 2 == 0:\n",
    "        even.append(i)\n",
    "\n",
    "    else:\n",
    "        odd.append(i)\n",
    "        print(\"odd\")\n",
    "        print(\"even\")"
   ],
   "id": "437a96049cbccb24",
   "outputs": [
    {
     "name": "stdout",
     "output_type": "stream",
     "text": [
      "odd\n",
      "even\n",
      "odd\n",
      "even\n",
      "odd\n",
      "even\n",
      "odd\n",
      "even\n",
      "odd\n",
      "even\n"
     ]
    }
   ],
   "execution_count": 24
  },
  {
   "metadata": {
    "ExecuteTime": {
     "end_time": "2025-06-30T14:55:04.776118Z",
     "start_time": "2025-06-30T14:55:04.763371Z"
    }
   },
   "cell_type": "code",
   "source": [
    "def greeting_name(name):\n",
    "    print(f\"Welcome to {name}\")"
   ],
   "id": "6be3bdb6ea8a1320",
   "outputs": [],
   "execution_count": 25
  },
  {
   "metadata": {
    "ExecuteTime": {
     "end_time": "2025-06-30T14:55:05.152141Z",
     "start_time": "2025-06-30T14:55:05.143597Z"
    }
   },
   "cell_type": "code",
   "source": "greeting_name(\"KIIT University\")",
   "id": "9ae09377319a763a",
   "outputs": [
    {
     "name": "stdout",
     "output_type": "stream",
     "text": [
      "Welcome to KIIT University\n"
     ]
    }
   ],
   "execution_count": 26
  },
  {
   "metadata": {},
   "cell_type": "markdown",
   "source": "Define a function named as even_function which will take a list of 10 natural number and will return only the list of even number:",
   "id": "6defd6d2478c5f3"
  },
  {
   "metadata": {
    "ExecuteTime": {
     "end_time": "2025-06-30T14:55:07.366626Z",
     "start_time": "2025-06-30T14:55:07.359804Z"
    }
   },
   "cell_type": "code",
   "source": [
    "def even_function(num):\n",
    "    even_list = []\n",
    "\n",
    "    for a in num:\n",
    "        if a % 2 == 0:\n",
    "            even_list.append(a)\n",
    "\n",
    "    return even_list"
   ],
   "id": "a27b7078631000ff",
   "outputs": [],
   "execution_count": 27
  },
  {
   "metadata": {
    "ExecuteTime": {
     "end_time": "2025-06-30T14:55:08.991834Z",
     "start_time": "2025-06-30T14:55:08.971742Z"
    }
   },
   "cell_type": "code",
   "source": "even_function(list(range(1, 11)))",
   "id": "a53a3fb805384f0f",
   "outputs": [
    {
     "data": {
      "text/plain": [
       "[2, 4, 6, 8, 10]"
      ]
     },
     "execution_count": 28,
     "metadata": {},
     "output_type": "execute_result"
    }
   ],
   "execution_count": 28
  },
  {
   "metadata": {
    "ExecuteTime": {
     "end_time": "2025-06-30T14:55:09.623321Z",
     "start_time": "2025-06-30T14:55:09.600390Z"
    }
   },
   "cell_type": "code",
   "source": [
    "def even_function(num):\n",
    "    even_list = []\n",
    "\n",
    "    for a in num:\n",
    "        if a % 2 == 0:\n",
    "            even_list.append(a)\n",
    "\n",
    "    print(even_list)"
   ],
   "id": "64c9b0adc006e53c",
   "outputs": [],
   "execution_count": 29
  },
  {
   "metadata": {
    "ExecuteTime": {
     "end_time": "2025-06-30T14:55:10.267330Z",
     "start_time": "2025-06-30T14:55:10.260611Z"
    }
   },
   "cell_type": "code",
   "source": "even_function(list(range(1, 11)))",
   "id": "a62fad2d5a424d27",
   "outputs": [
    {
     "name": "stdout",
     "output_type": "stream",
     "text": [
      "[2, 4, 6, 8, 10]\n"
     ]
    }
   ],
   "execution_count": 30
  },
  {
   "metadata": {},
   "cell_type": "markdown",
   "source": "WAP to add 2 numbers",
   "id": "6a6030f0bc57b650"
  },
  {
   "metadata": {
    "ExecuteTime": {
     "end_time": "2025-06-30T14:55:11.125453Z",
     "start_time": "2025-06-30T14:55:11.112202Z"
    }
   },
   "cell_type": "code",
   "source": "sum((2, 3))",
   "id": "dc44eec63dcd8086",
   "outputs": [
    {
     "data": {
      "text/plain": [
       "5"
      ]
     },
     "execution_count": 31,
     "metadata": {},
     "output_type": "execute_result"
    }
   ],
   "execution_count": 31
  },
  {
   "metadata": {
    "ExecuteTime": {
     "end_time": "2025-06-30T14:55:12.173192Z",
     "start_time": "2025-06-30T14:55:11.702368Z"
    }
   },
   "cell_type": "code",
   "source": "sum(2, 3)",
   "id": "18320c84279e8cfa",
   "outputs": [
    {
     "ename": "TypeError",
     "evalue": "'int' object is not iterable",
     "output_type": "error",
     "traceback": [
      "\u001B[1;31m---------------------------------------------------------------------------\u001B[0m",
      "\u001B[1;31mTypeError\u001B[0m                                 Traceback (most recent call last)",
      "Cell \u001B[1;32mIn[32], line 1\u001B[0m\n\u001B[1;32m----> 1\u001B[0m \u001B[38;5;28;43msum\u001B[39;49m\u001B[43m(\u001B[49m\u001B[38;5;241;43m2\u001B[39;49m\u001B[43m,\u001B[49m\u001B[43m \u001B[49m\u001B[38;5;241;43m3\u001B[39;49m\u001B[43m)\u001B[49m\n",
      "\u001B[1;31mTypeError\u001B[0m: 'int' object is not iterable"
     ]
    }
   ],
   "execution_count": 32
  },
  {
   "metadata": {
    "ExecuteTime": {
     "end_time": "2025-06-30T14:55:12.624415Z",
     "start_time": "2025-06-30T14:55:12.614168Z"
    }
   },
   "cell_type": "code",
   "source": "sum((2, 3))",
   "id": "969d7001710f4ca6",
   "outputs": [
    {
     "data": {
      "text/plain": [
       "5"
      ]
     },
     "execution_count": 33,
     "metadata": {},
     "output_type": "execute_result"
    }
   ],
   "execution_count": 33
  },
  {
   "metadata": {},
   "cell_type": "markdown",
   "source": "WAF which will return sum of two number:",
   "id": "a91715f00c587521"
  },
  {
   "metadata": {
    "ExecuteTime": {
     "end_time": "2025-06-30T14:55:13.753658Z",
     "start_time": "2025-06-30T14:55:13.736458Z"
    }
   },
   "cell_type": "code",
   "source": [
    "def sum_of_numbers(a, b):\n",
    "    return sum((a, b))"
   ],
   "id": "ddac3f3efd27f321",
   "outputs": [],
   "execution_count": 34
  },
  {
   "metadata": {
    "ExecuteTime": {
     "end_time": "2025-06-30T14:55:14.190539Z",
     "start_time": "2025-06-30T14:55:14.177724Z"
    }
   },
   "cell_type": "code",
   "source": "sum_of_numbers(2, 3)",
   "id": "fe4d79cc71d1f418",
   "outputs": [
    {
     "data": {
      "text/plain": [
       "5"
      ]
     },
     "execution_count": 35,
     "metadata": {},
     "output_type": "execute_result"
    }
   ],
   "execution_count": 35
  },
  {
   "metadata": {
    "ExecuteTime": {
     "end_time": "2025-06-30T14:55:14.908569Z",
     "start_time": "2025-06-30T14:55:14.884064Z"
    }
   },
   "cell_type": "code",
   "source": "sum_of_numbers(2, 3, 4)",
   "id": "4f81003d3b66d334",
   "outputs": [
    {
     "ename": "TypeError",
     "evalue": "sum_of_numbers() takes 2 positional arguments but 3 were given",
     "output_type": "error",
     "traceback": [
      "\u001B[1;31m---------------------------------------------------------------------------\u001B[0m",
      "\u001B[1;31mTypeError\u001B[0m                                 Traceback (most recent call last)",
      "Cell \u001B[1;32mIn[36], line 1\u001B[0m\n\u001B[1;32m----> 1\u001B[0m \u001B[43msum_of_numbers\u001B[49m\u001B[43m(\u001B[49m\u001B[38;5;241;43m2\u001B[39;49m\u001B[43m,\u001B[49m\u001B[43m \u001B[49m\u001B[38;5;241;43m3\u001B[39;49m\u001B[43m,\u001B[49m\u001B[43m \u001B[49m\u001B[38;5;241;43m4\u001B[39;49m\u001B[43m)\u001B[49m\n",
      "\u001B[1;31mTypeError\u001B[0m: sum_of_numbers() takes 2 positional arguments but 3 were given"
     ]
    }
   ],
   "execution_count": 36
  },
  {
   "metadata": {},
   "cell_type": "markdown",
   "source": "*args = multiple arguments",
   "id": "304047cf2b5e7e8c"
  },
  {
   "metadata": {},
   "cell_type": "markdown",
   "source": "NOTE: args is an identifier",
   "id": "e15a593aef7cae84"
  },
  {
   "metadata": {
    "ExecuteTime": {
     "end_time": "2025-06-30T14:55:16.158976Z",
     "start_time": "2025-06-30T14:55:16.142049Z"
    }
   },
   "cell_type": "code",
   "source": [
    "def sum_of_numbers(*args):\n",
    "    return sum(args)"
   ],
   "id": "a9811c5619f099fa",
   "outputs": [],
   "execution_count": 37
  },
  {
   "metadata": {
    "ExecuteTime": {
     "end_time": "2025-06-30T14:55:16.530982Z",
     "start_time": "2025-06-30T14:55:16.520664Z"
    }
   },
   "cell_type": "code",
   "source": "sum_of_numbers(2, 3, 4, 5, 6, 7, 8, 9, 10)",
   "id": "d4e8ae6a6c750049",
   "outputs": [
    {
     "data": {
      "text/plain": [
       "54"
      ]
     },
     "execution_count": 38,
     "metadata": {},
     "output_type": "execute_result"
    }
   ],
   "execution_count": 38
  },
  {
   "metadata": {
    "ExecuteTime": {
     "end_time": "2025-06-30T14:55:16.982132Z",
     "start_time": "2025-06-30T14:55:16.974601Z"
    }
   },
   "cell_type": "code",
   "source": [
    "def sum_of_numbers(*silicon):\n",
    "    return sum(silicon)"
   ],
   "id": "1d18dad18fde490f",
   "outputs": [],
   "execution_count": 39
  },
  {
   "metadata": {
    "ExecuteTime": {
     "end_time": "2025-06-30T14:55:17.154335Z",
     "start_time": "2025-06-30T14:55:17.144202Z"
    }
   },
   "cell_type": "code",
   "source": "sum_of_numbers(2, 3, 4, 5, 6, 7, 8, 9, 10)",
   "id": "caf2ebd3ba017c12",
   "outputs": [
    {
     "data": {
      "text/plain": [
       "54"
      ]
     },
     "execution_count": 40,
     "metadata": {},
     "output_type": "execute_result"
    }
   ],
   "execution_count": 40
  },
  {
   "metadata": {},
   "cell_type": "markdown",
   "source": [
    "WAF which will give square of number<br>\n",
    "For example:<br>\n",
    "Input: [1, 2, 3]<br>\n",
    "Output:<br>\n",
    "1<br>\n",
    "2<br>\n",
    "3<br>"
   ],
   "id": "47f214045c1c93e5"
  },
  {
   "metadata": {
    "ExecuteTime": {
     "end_time": "2025-06-30T14:55:17.825854Z",
     "start_time": "2025-06-30T14:55:17.819736Z"
    }
   },
   "cell_type": "code",
   "source": [
    "def square_number(numbers):\n",
    "    for a in numbers:\n",
    "        print(a ** 2)"
   ],
   "id": "d3772999a5bd148e",
   "outputs": [],
   "execution_count": 41
  },
  {
   "metadata": {
    "ExecuteTime": {
     "end_time": "2025-06-30T14:55:18.338485Z",
     "start_time": "2025-06-30T14:55:18.328274Z"
    }
   },
   "cell_type": "code",
   "source": "square_number([1, 2, 3])",
   "id": "eabdf8475aff1d60",
   "outputs": [
    {
     "name": "stdout",
     "output_type": "stream",
     "text": [
      "1\n",
      "4\n",
      "9\n"
     ]
    }
   ],
   "execution_count": 42
  },
  {
   "metadata": {
    "ExecuteTime": {
     "end_time": "2025-06-30T14:55:18.555004Z",
     "start_time": "2025-06-30T14:55:18.542422Z"
    }
   },
   "cell_type": "code",
   "source": [
    "def square_number1(b):\n",
    "    return b ** 2"
   ],
   "id": "b66d2a8161dcbdec",
   "outputs": [],
   "execution_count": 43
  },
  {
   "metadata": {
    "ExecuteTime": {
     "end_time": "2025-06-30T14:55:19.180845Z",
     "start_time": "2025-06-30T14:55:19.172480Z"
    }
   },
   "cell_type": "code",
   "source": [
    "for a in [1, 2, 3, 4]:\n",
    "    print(square_number1(a))"
   ],
   "id": "3e58e5045b20eb58",
   "outputs": [
    {
     "name": "stdout",
     "output_type": "stream",
     "text": [
      "1\n",
      "4\n",
      "9\n",
      "16\n"
     ]
    }
   ],
   "execution_count": 44
  },
  {
   "metadata": {},
   "cell_type": "markdown",
   "source": "MAP function:",
   "id": "e16a3b9b33bd368b"
  },
  {
   "metadata": {
    "ExecuteTime": {
     "end_time": "2025-06-30T14:55:19.915145Z",
     "start_time": "2025-06-30T14:55:19.909164Z"
    }
   },
   "cell_type": "code",
   "source": "tuple(map(square_number1, [1, 2, 3, 4]))",
   "id": "a3bbae251e6c665b",
   "outputs": [
    {
     "data": {
      "text/plain": [
       "(1, 4, 9, 16)"
      ]
     },
     "execution_count": 45,
     "metadata": {},
     "output_type": "execute_result"
    }
   ],
   "execution_count": 45
  },
  {
   "metadata": {
    "ExecuteTime": {
     "end_time": "2025-06-30T14:55:20.087615Z",
     "start_time": "2025-06-30T14:55:20.065350Z"
    }
   },
   "cell_type": "code",
   "source": "list(map(square_number1, [1, 2, 3, 4]))",
   "id": "e9dc2b02d4d08650",
   "outputs": [
    {
     "data": {
      "text/plain": [
       "[1, 4, 9, 16]"
      ]
     },
     "execution_count": 46,
     "metadata": {},
     "output_type": "execute_result"
    }
   ],
   "execution_count": 46
  },
  {
   "metadata": {
    "ExecuteTime": {
     "end_time": "2025-06-30T14:55:20.822057Z",
     "start_time": "2025-06-30T14:55:20.801782Z"
    }
   },
   "cell_type": "code",
   "source": "map(square_number, [1, 2, 3, 4])",
   "id": "4d6bec0008b3dc8b",
   "outputs": [
    {
     "data": {
      "text/plain": [
       "<map at 0x25c14723220>"
      ]
     },
     "execution_count": 47,
     "metadata": {},
     "output_type": "execute_result"
    }
   ],
   "execution_count": 47
  },
  {
   "metadata": {
    "ExecuteTime": {
     "end_time": "2025-06-30T14:55:21.008696Z",
     "start_time": "2025-06-30T14:55:20.981857Z"
    }
   },
   "cell_type": "code",
   "source": "list(map(square_number, [1, 2, 3, 4]))",
   "id": "8579b11a79c5f415",
   "outputs": [
    {
     "ename": "TypeError",
     "evalue": "'int' object is not iterable",
     "output_type": "error",
     "traceback": [
      "\u001B[1;31m---------------------------------------------------------------------------\u001B[0m",
      "\u001B[1;31mTypeError\u001B[0m                                 Traceback (most recent call last)",
      "Cell \u001B[1;32mIn[48], line 1\u001B[0m\n\u001B[1;32m----> 1\u001B[0m \u001B[38;5;28;43mlist\u001B[39;49m\u001B[43m(\u001B[49m\u001B[38;5;28;43mmap\u001B[39;49m\u001B[43m(\u001B[49m\u001B[43msquare_number\u001B[49m\u001B[43m,\u001B[49m\u001B[43m \u001B[49m\u001B[43m[\u001B[49m\u001B[38;5;241;43m1\u001B[39;49m\u001B[43m,\u001B[49m\u001B[43m \u001B[49m\u001B[38;5;241;43m2\u001B[39;49m\u001B[43m,\u001B[49m\u001B[43m \u001B[49m\u001B[38;5;241;43m3\u001B[39;49m\u001B[43m,\u001B[49m\u001B[43m \u001B[49m\u001B[38;5;241;43m4\u001B[39;49m\u001B[43m]\u001B[49m\u001B[43m)\u001B[49m\u001B[43m)\u001B[49m\n",
      "Cell \u001B[1;32mIn[41], line 2\u001B[0m, in \u001B[0;36msquare_number\u001B[1;34m(numbers)\u001B[0m\n\u001B[0;32m      1\u001B[0m \u001B[38;5;28;01mdef\u001B[39;00m\u001B[38;5;250m \u001B[39m\u001B[38;5;21msquare_number\u001B[39m(numbers):\n\u001B[1;32m----> 2\u001B[0m     \u001B[38;5;28;01mfor\u001B[39;00m a \u001B[38;5;129;01min\u001B[39;00m numbers:\n\u001B[0;32m      3\u001B[0m         \u001B[38;5;28mprint\u001B[39m(a \u001B[38;5;241m*\u001B[39m\u001B[38;5;241m*\u001B[39m \u001B[38;5;241m2\u001B[39m)\n",
      "\u001B[1;31mTypeError\u001B[0m: 'int' object is not iterable"
     ]
    }
   ],
   "execution_count": 48
  },
  {
   "metadata": {},
   "cell_type": "markdown",
   "source": "Filter Function",
   "id": "99f6f22d76206cce"
  },
  {
   "metadata": {
    "ExecuteTime": {
     "end_time": "2025-06-30T14:55:21.872188Z",
     "start_time": "2025-06-30T14:55:21.865555Z"
    }
   },
   "cell_type": "code",
   "source": [
    "def check_even(number):\n",
    "    if number % 2 == 0:\n",
    "        print(number)"
   ],
   "id": "634f669b5c87a585",
   "outputs": [],
   "execution_count": 49
  },
  {
   "metadata": {
    "ExecuteTime": {
     "end_time": "2025-06-30T14:55:22.293473Z",
     "start_time": "2025-06-30T14:55:22.275704Z"
    }
   },
   "cell_type": "code",
   "source": [
    "for a in [1, 2, 3, 4, 5]:\n",
    "    check_even(a)"
   ],
   "id": "ab4aea29e07aa56a",
   "outputs": [
    {
     "name": "stdout",
     "output_type": "stream",
     "text": [
      "2\n",
      "4\n"
     ]
    }
   ],
   "execution_count": 50
  },
  {
   "metadata": {
    "ExecuteTime": {
     "end_time": "2025-06-30T14:55:22.682321Z",
     "start_time": "2025-06-30T14:55:22.672801Z"
    }
   },
   "cell_type": "code",
   "source": "list(filter(check_even, [1, 2, 3, 4, 5]))",
   "id": "dd05ac3af563c061",
   "outputs": [
    {
     "name": "stdout",
     "output_type": "stream",
     "text": [
      "2\n",
      "4\n"
     ]
    },
    {
     "data": {
      "text/plain": [
       "[]"
      ]
     },
     "execution_count": 51,
     "metadata": {},
     "output_type": "execute_result"
    }
   ],
   "execution_count": 51
  },
  {
   "metadata": {
    "ExecuteTime": {
     "end_time": "2025-06-30T14:55:23.135493Z",
     "start_time": "2025-06-30T14:55:23.124278Z"
    }
   },
   "cell_type": "code",
   "source": [
    "def check_even(number):\n",
    "    if number % 2 == 0:\n",
    "        return number"
   ],
   "id": "ce65976705df43ec",
   "outputs": [],
   "execution_count": 52
  },
  {
   "metadata": {
    "ExecuteTime": {
     "end_time": "2025-06-30T14:55:24.280043Z",
     "start_time": "2025-06-30T14:55:24.270316Z"
    }
   },
   "cell_type": "code",
   "source": "list(filter(check_even, [1, 2, 3, 4, 5]))",
   "id": "2126b698dd3657c0",
   "outputs": [
    {
     "data": {
      "text/plain": [
       "[2, 4]"
      ]
     },
     "execution_count": 53,
     "metadata": {},
     "output_type": "execute_result"
    }
   ],
   "execution_count": 53
  }
 ],
 "metadata": {
  "kernelspec": {
   "display_name": "Python 3",
   "language": "python",
   "name": "python3"
  },
  "language_info": {
   "codemirror_mode": {
    "name": "ipython",
    "version": 2
   },
   "file_extension": ".py",
   "mimetype": "text/x-python",
   "name": "python",
   "nbconvert_exporter": "python",
   "pygments_lexer": "ipython2",
   "version": "2.7.6"
  }
 },
 "nbformat": 4,
 "nbformat_minor": 5
}
