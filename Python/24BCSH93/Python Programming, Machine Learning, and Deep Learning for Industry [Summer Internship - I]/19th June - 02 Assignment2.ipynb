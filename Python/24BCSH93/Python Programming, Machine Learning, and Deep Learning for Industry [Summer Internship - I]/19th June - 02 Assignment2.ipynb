{
 "cells": [
  {
   "metadata": {},
   "cell_type": "markdown",
   "source": "# Assignment 2",
   "id": "224455eb12babc2f"
  },
  {
   "metadata": {},
   "cell_type": "markdown",
   "source": [
    "Problem 1:<br>\n",
    "Write a Python program to find the sum of squares of even numbers in a list using a for loop\n",
    "and if condition.<br>\n",
    "Example Input:<br>\n",
    "[1, 2, 3, 4, 5, 6]<br>\n",
    "Expected Output:<br>\n",
    "56 (i.e., 2² + 4² + 6² = 4 + 16 + 36)"
   ],
   "id": "801334a842894c38"
  },
  {
   "metadata": {
    "ExecuteTime": {
     "end_time": "2025-06-19T07:40:55.915230Z",
     "start_time": "2025-06-19T07:40:55.900595Z"
    }
   },
   "cell_type": "code",
   "source": [
    "l = list(range(1, 7))\n",
    "res = 0\n",
    "\n",
    "for num in l:\n",
    "    if num % 2 == 0:\n",
    "        res += num ** 2\n",
    "\n",
    "res"
   ],
   "id": "86b8cb702ee7976e",
   "outputs": [
    {
     "data": {
      "text/plain": [
       "56"
      ]
     },
     "execution_count": 1,
     "metadata": {},
     "output_type": "execute_result"
    }
   ],
   "execution_count": 1
  },
  {
   "metadata": {},
   "cell_type": "markdown",
   "source": [
    "Problem 2:<br>\n",
    "Define a function get_grade(score) that returns a grade:<br>\n",
    " A for 90+<br>\n",
    " B for 80–89<br>\n",
    " C for 70–79<br>\n",
    " D for 60–69<br>\n",
    " F otherwise<br>\n",
    "Use it to print grades for a list of scores.<br>\n",
    "Example Input:<br>\n",
    "[95, 82, 67, 58, 73]<br>\n",
    "Expected Output:<br>\n",
    "['A', 'B', 'D', 'F', 'C']"
   ],
   "id": "d3ea2f348647668f"
  },
  {
   "metadata": {
    "ExecuteTime": {
     "end_time": "2025-06-19T07:40:56.488194Z",
     "start_time": "2025-06-19T07:40:56.479599Z"
    }
   },
   "cell_type": "code",
   "source": [
    "l = [95, 82, 67, 58, 73]\n",
    "grades = []\n",
    "\n",
    "for mark in l:\n",
    "    if mark >= 90:\n",
    "        grades.append(\"A\")\n",
    "\n",
    "    elif mark >= 80:\n",
    "        grades.append(\"B\")\n",
    "\n",
    "    elif mark >= 70:\n",
    "        grades.append(\"C\")\n",
    "\n",
    "    elif mark >= 60:\n",
    "        grades.append(\"D\")\n",
    "\n",
    "    else:\n",
    "        grades.append(\"F\")\n",
    "\n",
    "grades"
   ],
   "id": "17b9b7903d3fdf8f",
   "outputs": [
    {
     "data": {
      "text/plain": [
       "['A', 'B', 'D', 'F', 'C']"
      ]
     },
     "execution_count": 2,
     "metadata": {},
     "output_type": "execute_result"
    }
   ],
   "execution_count": 2
  },
  {
   "metadata": {},
   "cell_type": "markdown",
   "source": [
    "Problem 3:<br>\n",
    "Write a program to extract all prime numbers from a given list using filter() and a lambda\n",
    "function.<br>\n",
    "Example Input:<br>\n",
    "[2, 3, 4, 5, 6, 7, 8, 9, 10]<br>\n",
    "Expected Output:<br>\n",
    "[2, 3, 5, 7]"
   ],
   "id": "36be2bff867b7091"
  },
  {
   "metadata": {
    "ExecuteTime": {
     "end_time": "2025-06-19T07:40:57.815229Z",
     "start_time": "2025-06-19T07:40:57.808494Z"
    }
   },
   "cell_type": "code",
   "source": [
    "def is_prime(num):\n",
    "    for i in range(2, num // 2 + 1):\n",
    "        if num % i == 0:\n",
    "            return False\n",
    "\n",
    "    return True\n",
    "\n",
    "\n",
    "l = list(range(2, 11))\n",
    "list(filter(lambda num: is_prime(num), l))"
   ],
   "id": "6fb4c3ec42d2822b",
   "outputs": [
    {
     "data": {
      "text/plain": [
       "[2, 3, 5, 7]"
      ]
     },
     "execution_count": 3,
     "metadata": {},
     "output_type": "execute_result"
    }
   ],
   "execution_count": 3
  },
  {
   "metadata": {},
   "cell_type": "markdown",
   "source": [
    "Problem 4:<br>\n",
    "Write a Python program to convert a list of temperatures from Celsius to Fahrenheit using the\n",
    "formula:<br>\n",
    "F = C * 9/5 + 32<br>\n",
    "Use map() and a lambda function.<br>\n",
    "Example Input:<br>\n",
    "[0, 10, 20, 30, 40]<br>\n",
    "Expected Output:<br>\n",
    "[32.0, 50.0, 68.0, 86.0, 104.0]"
   ],
   "id": "78a737c97fc86206"
  },
  {
   "metadata": {
    "ExecuteTime": {
     "end_time": "2025-06-19T07:40:58.523353Z",
     "start_time": "2025-06-19T07:40:58.516160Z"
    }
   },
   "cell_type": "code",
   "source": [
    "l = list(range(0, 50, 10))\n",
    "list(map(lambda x: x * 9 / 5 + 32, l))"
   ],
   "id": "9cfe8cc6acc36f37",
   "outputs": [
    {
     "data": {
      "text/plain": [
       "[32.0, 50.0, 68.0, 86.0, 104.0]"
      ]
     },
     "execution_count": 4,
     "metadata": {},
     "output_type": "execute_result"
    }
   ],
   "execution_count": 4
  },
  {
   "metadata": {},
   "cell_type": "markdown",
   "source": [
    "Problem 5:<br>\n",
    "Write a program that takes a string and returns a list of all non-vowel characters using list\n",
    "comprehension.<br>\n",
    "Example Input:<br>\n",
    "\"Python Programming\"<br>\n",
    "Expected Output:<br>\n",
    "['P', 'y', 't', 'h', 'n', ' ', 'P', 'r', 'g', 'r', 'm', 'm', 'n', 'g']"
   ],
   "id": "ceddcb0b097c95c0"
  },
  {
   "metadata": {
    "ExecuteTime": {
     "end_time": "2025-06-19T07:40:59.249696Z",
     "start_time": "2025-06-19T07:40:59.243748Z"
    }
   },
   "cell_type": "code",
   "source": [
    "string = \"Python Programming\"\n",
    "[ch for ch in string if ch.lower() not in (\"a\", \"e\", \"i\", \"o\", \"u\")]"
   ],
   "id": "ab62b7be0c7f87fd",
   "outputs": [
    {
     "data": {
      "text/plain": [
       "['P', 'y', 't', 'h', 'n', ' ', 'P', 'r', 'g', 'r', 'm', 'm', 'n', 'g']"
      ]
     },
     "execution_count": 5,
     "metadata": {},
     "output_type": "execute_result"
    }
   ],
   "execution_count": 5
  },
  {
   "metadata": {},
   "cell_type": "markdown",
   "source": [
    "Problem 6:<br>\n",
    "Write a function that accepts a sentence and returns a list of word lengths using map().<br>\n",
    "Example Input:<br>\n",
    "\"Python is powerful\"<br>\n",
    "Expected Output:<br>\n",
    "[6, 2, 8]"
   ],
   "id": "12bbfd3bce06dc71"
  },
  {
   "metadata": {
    "ExecuteTime": {
     "end_time": "2025-06-19T07:40:59.927117Z",
     "start_time": "2025-06-19T07:40:59.920637Z"
    }
   },
   "cell_type": "code",
   "source": [
    "string = \"Python is powerful\"\n",
    "[len(word) for word in string.split()]"
   ],
   "id": "e516bea6069021df",
   "outputs": [
    {
     "data": {
      "text/plain": [
       "[6, 2, 8]"
      ]
     },
     "execution_count": 6,
     "metadata": {},
     "output_type": "execute_result"
    }
   ],
   "execution_count": 6
  },
  {
   "metadata": {},
   "cell_type": "markdown",
   "source": [
    "Problem 7:<br>\n",
    "From a list of strings, filter only the palindromes using filter() and lambda.<br>\n",
    "Example Input:<br>\n",
    "[\"madam\", \"racecar\", \"apple\", \"hello\", \"noon\"]<br>\n",
    "Expected Output:<br>\n",
    "[\"madam\", \"racecar\", \"noon\"]"
   ],
   "id": "f001a3303b31034a"
  },
  {
   "metadata": {
    "ExecuteTime": {
     "end_time": "2025-06-19T07:41:00.534821Z",
     "start_time": "2025-06-19T07:41:00.527795Z"
    }
   },
   "cell_type": "code",
   "source": [
    "l = [\"madam\", \"racecar\", \"apple\", \"hello\", \"noon\"]\n",
    "list(filter(lambda x: x == x[::-1], l))"
   ],
   "id": "d2107d5b6cff9ae7",
   "outputs": [
    {
     "data": {
      "text/plain": [
       "['madam', 'racecar', 'noon']"
      ]
     },
     "execution_count": 7,
     "metadata": {},
     "output_type": "execute_result"
    }
   ],
   "execution_count": 7
  },
  {
   "metadata": {},
   "cell_type": "markdown",
   "source": [
    "Problem 8:<br>\n",
    "Write a list comprehension to return the square of all odd numbers from a list.<br>\n",
    "Example Input:<br>\n",
    "[1, 2, 3, 4, 5, 6]<br>\n",
    "Expected Output:<<br>\n",
    "[1, 9, 25]"
   ],
   "id": "c92843c9ab0ce008"
  },
  {
   "metadata": {
    "ExecuteTime": {
     "end_time": "2025-06-19T07:41:01.070657Z",
     "start_time": "2025-06-19T07:41:01.064365Z"
    }
   },
   "cell_type": "code",
   "source": [
    "l = list(range(1, 7))\n",
    "[num ** 2 for num in l if num % 2 != 0]"
   ],
   "id": "f0228f6a0f3cd5f5",
   "outputs": [
    {
     "data": {
      "text/plain": [
       "[1, 9, 25]"
      ]
     },
     "execution_count": 8,
     "metadata": {},
     "output_type": "execute_result"
    }
   ],
   "execution_count": 8
  },
  {
   "metadata": {},
   "cell_type": "markdown",
   "source": [
    "Problem 9:<br>\n",
    "Create a function calculate(a, b, op) that performs:<br>\n",
    " Addition if op == '+'<br>\n",
    " Subtraction if op == '-'<br>\n",
    " Multiplication if op == '*'<br>\n",
    " Division if op == '/' <br>\n",
    "Example Input:<br>\n",
    "calculate(10, 5, '*')<br>\n",
    "Expected Output:<br>\n",
    "50"
   ],
   "id": "39321e979e04897f"
  },
  {
   "metadata": {
    "ExecuteTime": {
     "end_time": "2025-06-19T07:41:01.540264Z",
     "start_time": "2025-06-19T07:41:01.533561Z"
    }
   },
   "cell_type": "code",
   "source": [
    "def calculate(a, b, op):\n",
    "    return eval(f\"{a}{op}{b}\")\n",
    "\n",
    "calculate(10, 5, \"*\")"
   ],
   "id": "9a81b9ed7c96e623",
   "outputs": [
    {
     "data": {
      "text/plain": [
       "50"
      ]
     },
     "execution_count": 9,
     "metadata": {},
     "output_type": "execute_result"
    }
   ],
   "execution_count": 9
  },
  {
   "metadata": {},
   "cell_type": "markdown",
   "source": [
    "Problem 10:<br>\n",
    "Given a list with duplicate elements, write a program to remove duplicates and return a sorted<br>\n",
    "list of squares of the unique elements using list comprehension.<br>\n",
    "Example Input:<br>\n",
    "[4, 2, 2, 3, 4, 1]<br>\n",
    "Expected Output:<br>\n",
    "[1, 4, 9, 16]"
   ],
   "id": "23d23d6cad49d3d3"
  },
  {
   "metadata": {
    "ExecuteTime": {
     "end_time": "2025-06-19T07:41:19.187202Z",
     "start_time": "2025-06-19T07:41:19.177321Z"
    }
   },
   "cell_type": "code",
   "source": [
    "l = [4, 2, 2, 3, 4, 1]\n",
    "l = list(set(l))\n",
    "l.sort()\n",
    "[num ** 2 for num in l]"
   ],
   "id": "a5f71a985924d7ec",
   "outputs": [
    {
     "data": {
      "text/plain": [
       "[1, 4, 9, 16]"
      ]
     },
     "execution_count": 10,
     "metadata": {},
     "output_type": "execute_result"
    }
   ],
   "execution_count": 10
  }
 ],
 "metadata": {
  "kernelspec": {
   "display_name": "Python 3",
   "language": "python",
   "name": "python3"
  },
  "language_info": {
   "codemirror_mode": {
    "name": "ipython",
    "version": 2
   },
   "file_extension": ".py",
   "mimetype": "text/x-python",
   "name": "python",
   "nbconvert_exporter": "python",
   "pygments_lexer": "ipython2",
   "version": "2.7.6"
  }
 },
 "nbformat": 4,
 "nbformat_minor": 5
}
