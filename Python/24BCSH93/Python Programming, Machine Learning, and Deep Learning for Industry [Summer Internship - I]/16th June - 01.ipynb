{
 "cells": [
  {
   "metadata": {
    "ExecuteTime": {
     "end_time": "2025-06-17T06:41:51.200765Z",
     "start_time": "2025-06-17T06:41:51.188707Z"
    }
   },
   "cell_type": "code",
   "source": [
    "array = [1, 2, 3, 4, 5]\n",
    "[\"a\", \"b\", \"c\", 1, 2, 3]"
   ],
   "id": "eb59095b0f368612",
   "outputs": [
    {
     "data": {
      "text/plain": [
       "['a', 'b', 'c', 1, 2, 3]"
      ]
     },
     "execution_count": 1,
     "metadata": {},
     "output_type": "execute_result"
    }
   ],
   "execution_count": 1
  },
  {
   "cell_type": "code",
   "id": "initial_id",
   "metadata": {
    "collapsed": true,
    "ExecuteTime": {
     "end_time": "2025-06-17T06:41:51.806192Z",
     "start_time": "2025-06-17T06:41:51.703248Z"
    }
   },
   "source": "import numpy as np",
   "outputs": [],
   "execution_count": 2
  },
  {
   "metadata": {
    "ExecuteTime": {
     "end_time": "2025-06-17T06:41:52.192953Z",
     "start_time": "2025-06-17T06:41:52.183106Z"
    }
   },
   "cell_type": "code",
   "source": "dir(np)",
   "id": "ffd91d3689747c32",
   "outputs": [
    {
     "data": {
      "text/plain": [
       "['False_',\n",
       " 'ScalarType',\n",
       " 'True_',\n",
       " '_CopyMode',\n",
       " '_NoValue',\n",
       " '__NUMPY_SETUP__',\n",
       " '__all__',\n",
       " '__array_api_version__',\n",
       " '__array_namespace_info__',\n",
       " '__builtins__',\n",
       " '__cached__',\n",
       " '__config__',\n",
       " '__dir__',\n",
       " '__doc__',\n",
       " '__expired_attributes__',\n",
       " '__file__',\n",
       " '__former_attrs__',\n",
       " '__future_scalars__',\n",
       " '__getattr__',\n",
       " '__loader__',\n",
       " '__name__',\n",
       " '__numpy_submodules__',\n",
       " '__package__',\n",
       " '__path__',\n",
       " '__spec__',\n",
       " '__version__',\n",
       " '_array_api_info',\n",
       " '_core',\n",
       " '_distributor_init',\n",
       " '_expired_attrs_2_0',\n",
       " '_get_promotion_state',\n",
       " '_globals',\n",
       " '_int_extended_msg',\n",
       " '_mat',\n",
       " '_msg',\n",
       " '_no_nep50_warning',\n",
       " '_pyinstaller_hooks_dir',\n",
       " '_pytesttester',\n",
       " '_set_promotion_state',\n",
       " '_specific_msg',\n",
       " '_type_info',\n",
       " '_typing',\n",
       " '_utils',\n",
       " 'abs',\n",
       " 'absolute',\n",
       " 'acos',\n",
       " 'acosh',\n",
       " 'add',\n",
       " 'all',\n",
       " 'allclose',\n",
       " 'amax',\n",
       " 'amin',\n",
       " 'angle',\n",
       " 'any',\n",
       " 'append',\n",
       " 'apply_along_axis',\n",
       " 'apply_over_axes',\n",
       " 'arange',\n",
       " 'arccos',\n",
       " 'arccosh',\n",
       " 'arcsin',\n",
       " 'arcsinh',\n",
       " 'arctan',\n",
       " 'arctan2',\n",
       " 'arctanh',\n",
       " 'argmax',\n",
       " 'argmin',\n",
       " 'argpartition',\n",
       " 'argsort',\n",
       " 'argwhere',\n",
       " 'around',\n",
       " 'array',\n",
       " 'array2string',\n",
       " 'array_equal',\n",
       " 'array_equiv',\n",
       " 'array_repr',\n",
       " 'array_split',\n",
       " 'array_str',\n",
       " 'asanyarray',\n",
       " 'asarray',\n",
       " 'asarray_chkfinite',\n",
       " 'ascontiguousarray',\n",
       " 'asfortranarray',\n",
       " 'asin',\n",
       " 'asinh',\n",
       " 'asmatrix',\n",
       " 'astype',\n",
       " 'atan',\n",
       " 'atan2',\n",
       " 'atanh',\n",
       " 'atleast_1d',\n",
       " 'atleast_2d',\n",
       " 'atleast_3d',\n",
       " 'average',\n",
       " 'bartlett',\n",
       " 'base_repr',\n",
       " 'binary_repr',\n",
       " 'bincount',\n",
       " 'bitwise_and',\n",
       " 'bitwise_count',\n",
       " 'bitwise_invert',\n",
       " 'bitwise_left_shift',\n",
       " 'bitwise_not',\n",
       " 'bitwise_or',\n",
       " 'bitwise_right_shift',\n",
       " 'bitwise_xor',\n",
       " 'blackman',\n",
       " 'block',\n",
       " 'bmat',\n",
       " 'bool',\n",
       " 'bool_',\n",
       " 'broadcast',\n",
       " 'broadcast_arrays',\n",
       " 'broadcast_shapes',\n",
       " 'broadcast_to',\n",
       " 'busday_count',\n",
       " 'busday_offset',\n",
       " 'busdaycalendar',\n",
       " 'byte',\n",
       " 'bytes_',\n",
       " 'c_',\n",
       " 'can_cast',\n",
       " 'cbrt',\n",
       " 'cdouble',\n",
       " 'ceil',\n",
       " 'char',\n",
       " 'character',\n",
       " 'choose',\n",
       " 'clip',\n",
       " 'clongdouble',\n",
       " 'column_stack',\n",
       " 'common_type',\n",
       " 'complex128',\n",
       " 'complex64',\n",
       " 'complexfloating',\n",
       " 'compress',\n",
       " 'concat',\n",
       " 'concatenate',\n",
       " 'conj',\n",
       " 'conjugate',\n",
       " 'convolve',\n",
       " 'copy',\n",
       " 'copysign',\n",
       " 'copyto',\n",
       " 'core',\n",
       " 'corrcoef',\n",
       " 'correlate',\n",
       " 'cos',\n",
       " 'cosh',\n",
       " 'count_nonzero',\n",
       " 'cov',\n",
       " 'cross',\n",
       " 'csingle',\n",
       " 'ctypeslib',\n",
       " 'cumprod',\n",
       " 'cumsum',\n",
       " 'cumulative_prod',\n",
       " 'cumulative_sum',\n",
       " 'datetime64',\n",
       " 'datetime_as_string',\n",
       " 'datetime_data',\n",
       " 'deg2rad',\n",
       " 'degrees',\n",
       " 'delete',\n",
       " 'diag',\n",
       " 'diag_indices',\n",
       " 'diag_indices_from',\n",
       " 'diagflat',\n",
       " 'diagonal',\n",
       " 'diff',\n",
       " 'digitize',\n",
       " 'divide',\n",
       " 'divmod',\n",
       " 'dot',\n",
       " 'double',\n",
       " 'dsplit',\n",
       " 'dstack',\n",
       " 'dtype',\n",
       " 'dtypes',\n",
       " 'e',\n",
       " 'ediff1d',\n",
       " 'einsum',\n",
       " 'einsum_path',\n",
       " 'emath',\n",
       " 'empty',\n",
       " 'empty_like',\n",
       " 'equal',\n",
       " 'errstate',\n",
       " 'euler_gamma',\n",
       " 'exceptions',\n",
       " 'exp',\n",
       " 'exp2',\n",
       " 'expand_dims',\n",
       " 'expm1',\n",
       " 'extract',\n",
       " 'eye',\n",
       " 'f2py',\n",
       " 'fabs',\n",
       " 'fft',\n",
       " 'fill_diagonal',\n",
       " 'finfo',\n",
       " 'fix',\n",
       " 'flatiter',\n",
       " 'flatnonzero',\n",
       " 'flexible',\n",
       " 'flip',\n",
       " 'fliplr',\n",
       " 'flipud',\n",
       " 'float16',\n",
       " 'float32',\n",
       " 'float64',\n",
       " 'float_power',\n",
       " 'floating',\n",
       " 'floor',\n",
       " 'floor_divide',\n",
       " 'fmax',\n",
       " 'fmin',\n",
       " 'fmod',\n",
       " 'format_float_positional',\n",
       " 'format_float_scientific',\n",
       " 'frexp',\n",
       " 'from_dlpack',\n",
       " 'frombuffer',\n",
       " 'fromfile',\n",
       " 'fromfunction',\n",
       " 'fromiter',\n",
       " 'frompyfunc',\n",
       " 'fromregex',\n",
       " 'fromstring',\n",
       " 'full',\n",
       " 'full_like',\n",
       " 'gcd',\n",
       " 'generic',\n",
       " 'genfromtxt',\n",
       " 'geomspace',\n",
       " 'get_include',\n",
       " 'get_printoptions',\n",
       " 'getbufsize',\n",
       " 'geterr',\n",
       " 'geterrcall',\n",
       " 'gradient',\n",
       " 'greater',\n",
       " 'greater_equal',\n",
       " 'half',\n",
       " 'hamming',\n",
       " 'hanning',\n",
       " 'heaviside',\n",
       " 'histogram',\n",
       " 'histogram2d',\n",
       " 'histogram_bin_edges',\n",
       " 'histogramdd',\n",
       " 'hsplit',\n",
       " 'hstack',\n",
       " 'hypot',\n",
       " 'i0',\n",
       " 'identity',\n",
       " 'iinfo',\n",
       " 'imag',\n",
       " 'in1d',\n",
       " 'index_exp',\n",
       " 'indices',\n",
       " 'inexact',\n",
       " 'inf',\n",
       " 'info',\n",
       " 'inner',\n",
       " 'insert',\n",
       " 'int16',\n",
       " 'int32',\n",
       " 'int64',\n",
       " 'int8',\n",
       " 'int_',\n",
       " 'intc',\n",
       " 'integer',\n",
       " 'interp',\n",
       " 'intersect1d',\n",
       " 'intp',\n",
       " 'invert',\n",
       " 'is_busday',\n",
       " 'isclose',\n",
       " 'iscomplex',\n",
       " 'iscomplexobj',\n",
       " 'isdtype',\n",
       " 'isfinite',\n",
       " 'isfortran',\n",
       " 'isin',\n",
       " 'isinf',\n",
       " 'isnan',\n",
       " 'isnat',\n",
       " 'isneginf',\n",
       " 'isposinf',\n",
       " 'isreal',\n",
       " 'isrealobj',\n",
       " 'isscalar',\n",
       " 'issubdtype',\n",
       " 'iterable',\n",
       " 'ix_',\n",
       " 'kaiser',\n",
       " 'kron',\n",
       " 'lcm',\n",
       " 'ldexp',\n",
       " 'left_shift',\n",
       " 'less',\n",
       " 'less_equal',\n",
       " 'lexsort',\n",
       " 'lib',\n",
       " 'linalg',\n",
       " 'linspace',\n",
       " 'little_endian',\n",
       " 'load',\n",
       " 'loadtxt',\n",
       " 'log',\n",
       " 'log10',\n",
       " 'log1p',\n",
       " 'log2',\n",
       " 'logaddexp',\n",
       " 'logaddexp2',\n",
       " 'logical_and',\n",
       " 'logical_not',\n",
       " 'logical_or',\n",
       " 'logical_xor',\n",
       " 'logspace',\n",
       " 'long',\n",
       " 'longdouble',\n",
       " 'longlong',\n",
       " 'ma',\n",
       " 'mask_indices',\n",
       " 'matmul',\n",
       " 'matrix',\n",
       " 'matrix_transpose',\n",
       " 'max',\n",
       " 'maximum',\n",
       " 'may_share_memory',\n",
       " 'mean',\n",
       " 'median',\n",
       " 'memmap',\n",
       " 'meshgrid',\n",
       " 'mgrid',\n",
       " 'min',\n",
       " 'min_scalar_type',\n",
       " 'minimum',\n",
       " 'mintypecode',\n",
       " 'mod',\n",
       " 'modf',\n",
       " 'moveaxis',\n",
       " 'multiply',\n",
       " 'nan',\n",
       " 'nan_to_num',\n",
       " 'nanargmax',\n",
       " 'nanargmin',\n",
       " 'nancumprod',\n",
       " 'nancumsum',\n",
       " 'nanmax',\n",
       " 'nanmean',\n",
       " 'nanmedian',\n",
       " 'nanmin',\n",
       " 'nanpercentile',\n",
       " 'nanprod',\n",
       " 'nanquantile',\n",
       " 'nanstd',\n",
       " 'nansum',\n",
       " 'nanvar',\n",
       " 'ndarray',\n",
       " 'ndenumerate',\n",
       " 'ndim',\n",
       " 'ndindex',\n",
       " 'nditer',\n",
       " 'negative',\n",
       " 'nested_iters',\n",
       " 'newaxis',\n",
       " 'nextafter',\n",
       " 'nonzero',\n",
       " 'not_equal',\n",
       " 'number',\n",
       " 'object_',\n",
       " 'ogrid',\n",
       " 'ones',\n",
       " 'ones_like',\n",
       " 'outer',\n",
       " 'packbits',\n",
       " 'pad',\n",
       " 'partition',\n",
       " 'percentile',\n",
       " 'permute_dims',\n",
       " 'pi',\n",
       " 'piecewise',\n",
       " 'place',\n",
       " 'poly',\n",
       " 'poly1d',\n",
       " 'polyadd',\n",
       " 'polyder',\n",
       " 'polydiv',\n",
       " 'polyfit',\n",
       " 'polyint',\n",
       " 'polymul',\n",
       " 'polynomial',\n",
       " 'polysub',\n",
       " 'polyval',\n",
       " 'positive',\n",
       " 'pow',\n",
       " 'power',\n",
       " 'printoptions',\n",
       " 'prod',\n",
       " 'promote_types',\n",
       " 'ptp',\n",
       " 'put',\n",
       " 'put_along_axis',\n",
       " 'putmask',\n",
       " 'quantile',\n",
       " 'r_',\n",
       " 'rad2deg',\n",
       " 'radians',\n",
       " 'random',\n",
       " 'ravel',\n",
       " 'ravel_multi_index',\n",
       " 'real',\n",
       " 'real_if_close',\n",
       " 'rec',\n",
       " 'recarray',\n",
       " 'reciprocal',\n",
       " 'record',\n",
       " 'remainder',\n",
       " 'repeat',\n",
       " 'require',\n",
       " 'reshape',\n",
       " 'resize',\n",
       " 'result_type',\n",
       " 'right_shift',\n",
       " 'rint',\n",
       " 'roll',\n",
       " 'rollaxis',\n",
       " 'roots',\n",
       " 'rot90',\n",
       " 'round',\n",
       " 'row_stack',\n",
       " 's_',\n",
       " 'save',\n",
       " 'savetxt',\n",
       " 'savez',\n",
       " 'savez_compressed',\n",
       " 'sctypeDict',\n",
       " 'searchsorted',\n",
       " 'select',\n",
       " 'set_printoptions',\n",
       " 'setbufsize',\n",
       " 'setdiff1d',\n",
       " 'seterr',\n",
       " 'seterrcall',\n",
       " 'setxor1d',\n",
       " 'shape',\n",
       " 'shares_memory',\n",
       " 'short',\n",
       " 'show_config',\n",
       " 'show_runtime',\n",
       " 'sign',\n",
       " 'signbit',\n",
       " 'signedinteger',\n",
       " 'sin',\n",
       " 'sinc',\n",
       " 'single',\n",
       " 'sinh',\n",
       " 'size',\n",
       " 'sort',\n",
       " 'sort_complex',\n",
       " 'spacing',\n",
       " 'split',\n",
       " 'sqrt',\n",
       " 'square',\n",
       " 'squeeze',\n",
       " 'stack',\n",
       " 'std',\n",
       " 'str_',\n",
       " 'strings',\n",
       " 'subtract',\n",
       " 'sum',\n",
       " 'swapaxes',\n",
       " 'take',\n",
       " 'take_along_axis',\n",
       " 'tan',\n",
       " 'tanh',\n",
       " 'tensordot',\n",
       " 'test',\n",
       " 'testing',\n",
       " 'tile',\n",
       " 'timedelta64',\n",
       " 'trace',\n",
       " 'transpose',\n",
       " 'trapezoid',\n",
       " 'trapz',\n",
       " 'tri',\n",
       " 'tril',\n",
       " 'tril_indices',\n",
       " 'tril_indices_from',\n",
       " 'trim_zeros',\n",
       " 'triu',\n",
       " 'triu_indices',\n",
       " 'triu_indices_from',\n",
       " 'true_divide',\n",
       " 'trunc',\n",
       " 'typecodes',\n",
       " 'typename',\n",
       " 'typing',\n",
       " 'ubyte',\n",
       " 'ufunc',\n",
       " 'uint',\n",
       " 'uint16',\n",
       " 'uint32',\n",
       " 'uint64',\n",
       " 'uint8',\n",
       " 'uintc',\n",
       " 'uintp',\n",
       " 'ulong',\n",
       " 'ulonglong',\n",
       " 'union1d',\n",
       " 'unique',\n",
       " 'unique_all',\n",
       " 'unique_counts',\n",
       " 'unique_inverse',\n",
       " 'unique_values',\n",
       " 'unpackbits',\n",
       " 'unravel_index',\n",
       " 'unsignedinteger',\n",
       " 'unstack',\n",
       " 'unwrap',\n",
       " 'ushort',\n",
       " 'vander',\n",
       " 'var',\n",
       " 'vdot',\n",
       " 'vecdot',\n",
       " 'vectorize',\n",
       " 'void',\n",
       " 'vsplit',\n",
       " 'vstack',\n",
       " 'where',\n",
       " 'zeros',\n",
       " 'zeros_like']"
      ]
     },
     "execution_count": 3,
     "metadata": {},
     "output_type": "execute_result"
    }
   ],
   "execution_count": 3
  },
  {
   "metadata": {
    "ExecuteTime": {
     "end_time": "2025-06-17T06:41:52.420392Z",
     "start_time": "2025-06-17T06:41:52.415703Z"
    }
   },
   "cell_type": "code",
   "source": [
    "list1 = [1, 2, 3, 4, 5]\n",
    "array1 = np.array(list1)"
   ],
   "id": "67c514544855c32c",
   "outputs": [],
   "execution_count": 4
  },
  {
   "metadata": {
    "ExecuteTime": {
     "end_time": "2025-06-17T06:41:52.578392Z",
     "start_time": "2025-06-17T06:41:52.571598Z"
    }
   },
   "cell_type": "code",
   "source": "type(array1)",
   "id": "fe3aa8fffc72caec",
   "outputs": [
    {
     "data": {
      "text/plain": [
       "numpy.ndarray"
      ]
     },
     "execution_count": 5,
     "metadata": {},
     "output_type": "execute_result"
    }
   ],
   "execution_count": 5
  },
  {
   "metadata": {
    "ExecuteTime": {
     "end_time": "2025-06-17T06:41:52.777238Z",
     "start_time": "2025-06-17T06:41:52.771126Z"
    }
   },
   "cell_type": "code",
   "source": "type(list1)",
   "id": "35c2673bf76ec550",
   "outputs": [
    {
     "data": {
      "text/plain": [
       "list"
      ]
     },
     "execution_count": 6,
     "metadata": {},
     "output_type": "execute_result"
    }
   ],
   "execution_count": 6
  },
  {
   "metadata": {
    "ExecuteTime": {
     "end_time": "2025-06-17T06:41:53.092761Z",
     "start_time": "2025-06-17T06:41:52.952333Z"
    }
   },
   "cell_type": "code",
   "source": [
    "import time\n",
    "\n",
    "size = 1000000\n",
    "l1 = list(range(size))\n",
    "l2 = list(range(size))\n",
    "\n",
    "start = time.time()\n",
    "result = [x + y for x, y in zip(l1, l2)]\n",
    "print(\"list time:\", time.time() - start)\n",
    "\n",
    "a1 = np.arange(size)\n",
    "a2 = np.arange(size)\n",
    "start = time.time()\n",
    "result = a1 + a2\n",
    "print(\"numpy time:\", time.time() - start)"
   ],
   "id": "51da0965668c8c1",
   "outputs": [
    {
     "name": "stdout",
     "output_type": "stream",
     "text": [
      "list time: 0.07428216934204102\n",
      "numpy time: 0.012038707733154297\n"
     ]
    }
   ],
   "execution_count": 7
  },
  {
   "metadata": {
    "ExecuteTime": {
     "end_time": "2025-06-17T06:41:55.860009Z",
     "start_time": "2025-06-17T06:41:53.206226Z"
    }
   },
   "cell_type": "code",
   "source": "!pip install numpy",
   "id": "5664354a24395cac",
   "outputs": [
    {
     "name": "stdout",
     "output_type": "stream",
     "text": [
      "Defaulting to user installation because normal site-packages is not writeable\n",
      "Requirement already satisfied: numpy in c:\\users\\swapn\\appdata\\local\\packages\\pythonsoftwarefoundation.python.3.12_qbz5n2kfra8p0\\localcache\\local-packages\\python312\\site-packages (2.1.3)\n"
     ]
    }
   ],
   "execution_count": 8
  },
  {
   "metadata": {},
   "cell_type": "markdown",
   "source": "np.zeroes()",
   "id": "b0e894fca8fb5cbd"
  },
  {
   "metadata": {
    "ExecuteTime": {
     "end_time": "2025-06-17T06:41:55.923105Z",
     "start_time": "2025-06-17T06:41:55.916200Z"
    }
   },
   "cell_type": "code",
   "source": [
    "zero = np.zeros((2, 3))\n",
    "zero"
   ],
   "id": "8e80cafa2f533701",
   "outputs": [
    {
     "data": {
      "text/plain": [
       "array([[0., 0., 0.],\n",
       "       [0., 0., 0.]])"
      ]
     },
     "execution_count": 9,
     "metadata": {},
     "output_type": "execute_result"
    }
   ],
   "execution_count": 9
  },
  {
   "metadata": {
    "ExecuteTime": {
     "end_time": "2025-06-17T06:41:56.595780Z",
     "start_time": "2025-06-17T06:41:56.587058Z"
    }
   },
   "cell_type": "code",
   "source": [
    "zero = np.zeros((20, 10))\n",
    "zero"
   ],
   "id": "e4f19ba9b6289a4d",
   "outputs": [
    {
     "data": {
      "text/plain": [
       "array([[0., 0., 0., 0., 0., 0., 0., 0., 0., 0.],\n",
       "       [0., 0., 0., 0., 0., 0., 0., 0., 0., 0.],\n",
       "       [0., 0., 0., 0., 0., 0., 0., 0., 0., 0.],\n",
       "       [0., 0., 0., 0., 0., 0., 0., 0., 0., 0.],\n",
       "       [0., 0., 0., 0., 0., 0., 0., 0., 0., 0.],\n",
       "       [0., 0., 0., 0., 0., 0., 0., 0., 0., 0.],\n",
       "       [0., 0., 0., 0., 0., 0., 0., 0., 0., 0.],\n",
       "       [0., 0., 0., 0., 0., 0., 0., 0., 0., 0.],\n",
       "       [0., 0., 0., 0., 0., 0., 0., 0., 0., 0.],\n",
       "       [0., 0., 0., 0., 0., 0., 0., 0., 0., 0.],\n",
       "       [0., 0., 0., 0., 0., 0., 0., 0., 0., 0.],\n",
       "       [0., 0., 0., 0., 0., 0., 0., 0., 0., 0.],\n",
       "       [0., 0., 0., 0., 0., 0., 0., 0., 0., 0.],\n",
       "       [0., 0., 0., 0., 0., 0., 0., 0., 0., 0.],\n",
       "       [0., 0., 0., 0., 0., 0., 0., 0., 0., 0.],\n",
       "       [0., 0., 0., 0., 0., 0., 0., 0., 0., 0.],\n",
       "       [0., 0., 0., 0., 0., 0., 0., 0., 0., 0.],\n",
       "       [0., 0., 0., 0., 0., 0., 0., 0., 0., 0.],\n",
       "       [0., 0., 0., 0., 0., 0., 0., 0., 0., 0.],\n",
       "       [0., 0., 0., 0., 0., 0., 0., 0., 0., 0.]])"
      ]
     },
     "execution_count": 10,
     "metadata": {},
     "output_type": "execute_result"
    }
   ],
   "execution_count": 10
  },
  {
   "metadata": {
    "ExecuteTime": {
     "end_time": "2025-06-17T06:41:56.855916Z",
     "start_time": "2025-06-17T06:41:56.849744Z"
    }
   },
   "cell_type": "code",
   "source": [
    "one = np.ones((5, 6))\n",
    "one"
   ],
   "id": "f3dc3ca3732191dd",
   "outputs": [
    {
     "data": {
      "text/plain": [
       "array([[1., 1., 1., 1., 1., 1.],\n",
       "       [1., 1., 1., 1., 1., 1.],\n",
       "       [1., 1., 1., 1., 1., 1.],\n",
       "       [1., 1., 1., 1., 1., 1.],\n",
       "       [1., 1., 1., 1., 1., 1.]])"
      ]
     },
     "execution_count": 11,
     "metadata": {},
     "output_type": "execute_result"
    }
   ],
   "execution_count": 11
  },
  {
   "metadata": {
    "ExecuteTime": {
     "end_time": "2025-06-17T06:41:57.133491Z",
     "start_time": "2025-06-17T06:41:57.126249Z"
    }
   },
   "cell_type": "code",
   "source": [
    "range_array = np.arange(10, 150, 2)  # start stop step\n",
    "range_array"
   ],
   "id": "64254f8e6143b2ff",
   "outputs": [
    {
     "data": {
      "text/plain": [
       "array([ 10,  12,  14,  16,  18,  20,  22,  24,  26,  28,  30,  32,  34,\n",
       "        36,  38,  40,  42,  44,  46,  48,  50,  52,  54,  56,  58,  60,\n",
       "        62,  64,  66,  68,  70,  72,  74,  76,  78,  80,  82,  84,  86,\n",
       "        88,  90,  92,  94,  96,  98, 100, 102, 104, 106, 108, 110, 112,\n",
       "       114, 116, 118, 120, 122, 124, 126, 128, 130, 132, 134, 136, 138,\n",
       "       140, 142, 144, 146, 148])"
      ]
     },
     "execution_count": 12,
     "metadata": {},
     "output_type": "execute_result"
    }
   ],
   "execution_count": 12
  },
  {
   "metadata": {
    "ExecuteTime": {
     "end_time": "2025-06-17T06:41:57.421970Z",
     "start_time": "2025-06-17T06:41:57.412889Z"
    }
   },
   "cell_type": "code",
   "source": [
    "linspace = np.linspace(10, 150, 20)\n",
    "linspace"
   ],
   "id": "932902174060147e",
   "outputs": [
    {
     "data": {
      "text/plain": [
       "array([ 10.        ,  17.36842105,  24.73684211,  32.10526316,\n",
       "        39.47368421,  46.84210526,  54.21052632,  61.57894737,\n",
       "        68.94736842,  76.31578947,  83.68421053,  91.05263158,\n",
       "        98.42105263, 105.78947368, 113.15789474, 120.52631579,\n",
       "       127.89473684, 135.26315789, 142.63157895, 150.        ])"
      ]
     },
     "execution_count": 13,
     "metadata": {},
     "output_type": "execute_result"
    }
   ],
   "execution_count": 13
  },
  {
   "metadata": {
    "ExecuteTime": {
     "end_time": "2025-06-17T06:41:57.585210Z",
     "start_time": "2025-06-17T06:41:57.578798Z"
    }
   },
   "cell_type": "code",
   "source": [
    "linspace = np.linspace(10, 150, 2000)\n",
    "linspace"
   ],
   "id": "50a23462c106770a",
   "outputs": [
    {
     "data": {
      "text/plain": [
       "array([ 10.        ,  10.07003502,  10.14007004, ..., 149.85992996,\n",
       "       149.92996498, 150.        ])"
      ]
     },
     "execution_count": 14,
     "metadata": {},
     "output_type": "execute_result"
    }
   ],
   "execution_count": 14
  },
  {
   "metadata": {
    "ExecuteTime": {
     "end_time": "2025-06-17T06:41:57.682952Z",
     "start_time": "2025-06-17T06:41:57.677431Z"
    }
   },
   "cell_type": "code",
   "source": [
    "linspace = np.linspace(0, 1, 10)\n",
    "linspace"
   ],
   "id": "f79a2361942e9002",
   "outputs": [
    {
     "data": {
      "text/plain": [
       "array([0.        , 0.11111111, 0.22222222, 0.33333333, 0.44444444,\n",
       "       0.55555556, 0.66666667, 0.77777778, 0.88888889, 1.        ])"
      ]
     },
     "execution_count": 15,
     "metadata": {},
     "output_type": "execute_result"
    }
   ],
   "execution_count": 15
  },
  {
   "metadata": {
    "ExecuteTime": {
     "end_time": "2025-06-17T06:41:57.845028Z",
     "start_time": "2025-06-17T06:41:57.839583Z"
    }
   },
   "cell_type": "code",
   "source": [
    "linspace = np.linspace(0, 1, 15)\n",
    "linspace"
   ],
   "id": "527137e08930a002",
   "outputs": [
    {
     "data": {
      "text/plain": [
       "array([0.        , 0.07142857, 0.14285714, 0.21428571, 0.28571429,\n",
       "       0.35714286, 0.42857143, 0.5       , 0.57142857, 0.64285714,\n",
       "       0.71428571, 0.78571429, 0.85714286, 0.92857143, 1.        ])"
      ]
     },
     "execution_count": 16,
     "metadata": {},
     "output_type": "execute_result"
    }
   ],
   "execution_count": 16
  },
  {
   "metadata": {
    "ExecuteTime": {
     "end_time": "2025-06-17T06:41:57.940441Z",
     "start_time": "2025-06-17T06:41:57.935542Z"
    }
   },
   "cell_type": "code",
   "source": "0.07142857 - 0.14285714",
   "id": "dd2994e4f02ee0f0",
   "outputs": [
    {
     "data": {
      "text/plain": [
       "-0.07142857"
      ]
     },
     "execution_count": 17,
     "metadata": {},
     "output_type": "execute_result"
    }
   ],
   "execution_count": 17
  },
  {
   "metadata": {
    "ExecuteTime": {
     "end_time": "2025-06-17T06:41:58.037325Z",
     "start_time": "2025-06-17T06:41:58.031899Z"
    }
   },
   "cell_type": "code",
   "source": "0.14285714 - 0.21428571",
   "id": "9f240bae45cd0a4d",
   "outputs": [
    {
     "data": {
      "text/plain": [
       "-0.07142857"
      ]
     },
     "execution_count": 18,
     "metadata": {},
     "output_type": "execute_result"
    }
   ],
   "execution_count": 18
  },
  {
   "metadata": {
    "ExecuteTime": {
     "end_time": "2025-06-17T06:41:58.128247Z",
     "start_time": "2025-06-17T06:41:58.121874Z"
    }
   },
   "cell_type": "code",
   "source": [
    "a = np.array([[1, 2, 3], [4, 5, 6]])\n",
    "a"
   ],
   "id": "4406b7985f0e56fd",
   "outputs": [
    {
     "data": {
      "text/plain": [
       "array([[1, 2, 3],\n",
       "       [4, 5, 6]])"
      ]
     },
     "execution_count": 19,
     "metadata": {},
     "output_type": "execute_result"
    }
   ],
   "execution_count": 19
  },
  {
   "metadata": {
    "ExecuteTime": {
     "end_time": "2025-06-17T06:41:58.298395Z",
     "start_time": "2025-06-17T06:41:58.291050Z"
    }
   },
   "cell_type": "code",
   "source": "a.shape",
   "id": "16614f04ef781874",
   "outputs": [
    {
     "data": {
      "text/plain": [
       "(2, 3)"
      ]
     },
     "execution_count": 20,
     "metadata": {},
     "output_type": "execute_result"
    }
   ],
   "execution_count": 20
  },
  {
   "metadata": {
    "ExecuteTime": {
     "end_time": "2025-06-17T06:41:58.478888Z",
     "start_time": "2025-06-17T06:41:58.472024Z"
    }
   },
   "cell_type": "code",
   "source": "a.shape[0]",
   "id": "8fdb2ce399e86fd5",
   "outputs": [
    {
     "data": {
      "text/plain": [
       "2"
      ]
     },
     "execution_count": 21,
     "metadata": {},
     "output_type": "execute_result"
    }
   ],
   "execution_count": 21
  },
  {
   "metadata": {
    "ExecuteTime": {
     "end_time": "2025-06-17T06:41:58.732935Z",
     "start_time": "2025-06-17T06:41:58.724494Z"
    }
   },
   "cell_type": "code",
   "source": "a.shape[1]",
   "id": "f27cfb80133d5352",
   "outputs": [
    {
     "data": {
      "text/plain": [
       "3"
      ]
     },
     "execution_count": 22,
     "metadata": {},
     "output_type": "execute_result"
    }
   ],
   "execution_count": 22
  },
  {
   "metadata": {
    "ExecuteTime": {
     "end_time": "2025-06-17T06:41:58.829112Z",
     "start_time": "2025-06-17T06:41:58.821890Z"
    }
   },
   "cell_type": "code",
   "source": "linspace.shape",
   "id": "be178a7ff23b1025",
   "outputs": [
    {
     "data": {
      "text/plain": [
       "(15,)"
      ]
     },
     "execution_count": 23,
     "metadata": {},
     "output_type": "execute_result"
    }
   ],
   "execution_count": 23
  },
  {
   "metadata": {
    "ExecuteTime": {
     "end_time": "2025-06-17T06:41:58.960037Z",
     "start_time": "2025-06-17T06:41:58.953647Z"
    }
   },
   "cell_type": "code",
   "source": "a.ndim",
   "id": "be924f2572f637e7",
   "outputs": [
    {
     "data": {
      "text/plain": [
       "2"
      ]
     },
     "execution_count": 24,
     "metadata": {},
     "output_type": "execute_result"
    }
   ],
   "execution_count": 24
  },
  {
   "metadata": {
    "ExecuteTime": {
     "end_time": "2025-06-17T06:41:59.089256Z",
     "start_time": "2025-06-17T06:41:59.082011Z"
    }
   },
   "cell_type": "code",
   "source": "linspace.ndim",
   "id": "859bf3ad929849ea",
   "outputs": [
    {
     "data": {
      "text/plain": [
       "1"
      ]
     },
     "execution_count": 25,
     "metadata": {},
     "output_type": "execute_result"
    }
   ],
   "execution_count": 25
  },
  {
   "metadata": {
    "ExecuteTime": {
     "end_time": "2025-06-17T06:41:59.185215Z",
     "start_time": "2025-06-17T06:41:59.178953Z"
    }
   },
   "cell_type": "code",
   "source": "a.dtype",
   "id": "43f3208edfea2205",
   "outputs": [
    {
     "data": {
      "text/plain": [
       "dtype('int64')"
      ]
     },
     "execution_count": 26,
     "metadata": {},
     "output_type": "execute_result"
    }
   ],
   "execution_count": 26
  },
  {
   "metadata": {
    "ExecuteTime": {
     "end_time": "2025-06-17T06:41:59.337146Z",
     "start_time": "2025-06-17T06:41:59.331861Z"
    }
   },
   "cell_type": "code",
   "source": "linspace.dtype",
   "id": "9175e8f5d85ba59e",
   "outputs": [
    {
     "data": {
      "text/plain": [
       "dtype('float64')"
      ]
     },
     "execution_count": 27,
     "metadata": {},
     "output_type": "execute_result"
    }
   ],
   "execution_count": 27
  },
  {
   "metadata": {
    "ExecuteTime": {
     "end_time": "2025-06-17T06:41:59.476694Z",
     "start_time": "2025-06-17T06:41:59.470423Z"
    }
   },
   "cell_type": "code",
   "source": "linspace.size",
   "id": "b90ecf8951162add",
   "outputs": [
    {
     "data": {
      "text/plain": [
       "15"
      ]
     },
     "execution_count": 28,
     "metadata": {},
     "output_type": "execute_result"
    }
   ],
   "execution_count": 28
  },
  {
   "metadata": {
    "ExecuteTime": {
     "end_time": "2025-06-17T06:41:59.568849Z",
     "start_time": "2025-06-17T06:41:59.562087Z"
    }
   },
   "cell_type": "code",
   "source": "a.size",
   "id": "215b91f4953ee358",
   "outputs": [
    {
     "data": {
      "text/plain": [
       "6"
      ]
     },
     "execution_count": 29,
     "metadata": {},
     "output_type": "execute_result"
    }
   ],
   "execution_count": 29
  },
  {
   "metadata": {
    "ExecuteTime": {
     "end_time": "2025-06-17T06:41:59.745013Z",
     "start_time": "2025-06-17T06:41:59.740006Z"
    }
   },
   "cell_type": "code",
   "source": [
    "b = np.array([10, 20, 30, 40, 50, 60])\n",
    "b\n",
    "print(\"self is b:\", b)"
   ],
   "id": "84df62ef4383a34b",
   "outputs": [
    {
     "name": "stdout",
     "output_type": "stream",
     "text": [
      "self is b: [10 20 30 40 50 60]\n"
     ]
    }
   ],
   "execution_count": 30
  },
  {
   "metadata": {
    "ExecuteTime": {
     "end_time": "2025-06-17T06:41:59.841742Z",
     "start_time": "2025-06-17T06:41:59.833056Z"
    }
   },
   "cell_type": "code",
   "source": "b[0]",
   "id": "d8cb0886eeef28dd",
   "outputs": [
    {
     "data": {
      "text/plain": [
       "np.int64(10)"
      ]
     },
     "execution_count": 31,
     "metadata": {},
     "output_type": "execute_result"
    }
   ],
   "execution_count": 31
  },
  {
   "metadata": {
    "ExecuteTime": {
     "end_time": "2025-06-17T06:42:00.051269Z",
     "start_time": "2025-06-17T06:42:00.045518Z"
    }
   },
   "cell_type": "code",
   "source": "b[-1]",
   "id": "587801779a8af6a1",
   "outputs": [
    {
     "data": {
      "text/plain": [
       "np.int64(60)"
      ]
     },
     "execution_count": 32,
     "metadata": {},
     "output_type": "execute_result"
    }
   ],
   "execution_count": 32
  },
  {
   "metadata": {
    "ExecuteTime": {
     "end_time": "2025-06-17T06:42:00.304509Z",
     "start_time": "2025-06-17T06:42:00.296975Z"
    }
   },
   "cell_type": "code",
   "source": "b[1:4]",
   "id": "15979cae6b30438f",
   "outputs": [
    {
     "data": {
      "text/plain": [
       "array([20, 30, 40])"
      ]
     },
     "execution_count": 33,
     "metadata": {},
     "output_type": "execute_result"
    }
   ],
   "execution_count": 33
  },
  {
   "metadata": {
    "ExecuteTime": {
     "end_time": "2025-06-17T06:42:00.454390Z",
     "start_time": "2025-06-17T06:42:00.448493Z"
    }
   },
   "cell_type": "code",
   "source": "a",
   "id": "37f2ba609cf58017",
   "outputs": [
    {
     "data": {
      "text/plain": [
       "array([[1, 2, 3],\n",
       "       [4, 5, 6]])"
      ]
     },
     "execution_count": 34,
     "metadata": {},
     "output_type": "execute_result"
    }
   ],
   "execution_count": 34
  },
  {
   "metadata": {
    "ExecuteTime": {
     "end_time": "2025-06-17T06:42:00.558910Z",
     "start_time": "2025-06-17T06:42:00.551716Z"
    }
   },
   "cell_type": "code",
   "source": "a[0, 0]",
   "id": "cd6254e9c779c0be",
   "outputs": [
    {
     "data": {
      "text/plain": [
       "np.int64(1)"
      ]
     },
     "execution_count": 35,
     "metadata": {},
     "output_type": "execute_result"
    }
   ],
   "execution_count": 35
  },
  {
   "metadata": {
    "ExecuteTime": {
     "end_time": "2025-06-17T06:42:00.859173Z",
     "start_time": "2025-06-17T06:42:00.852826Z"
    }
   },
   "cell_type": "code",
   "source": "a[0, 2]",
   "id": "c71d6c32b3391645",
   "outputs": [
    {
     "data": {
      "text/plain": [
       "np.int64(3)"
      ]
     },
     "execution_count": 36,
     "metadata": {},
     "output_type": "execute_result"
    }
   ],
   "execution_count": 36
  },
  {
   "metadata": {
    "ExecuteTime": {
     "end_time": "2025-06-17T06:42:01.030359Z",
     "start_time": "2025-06-17T06:42:01.024721Z"
    }
   },
   "cell_type": "code",
   "source": "a[:, 1]  # all rows of column 1",
   "id": "e954c91164e200c6",
   "outputs": [
    {
     "data": {
      "text/plain": [
       "array([2, 5])"
      ]
     },
     "execution_count": 37,
     "metadata": {},
     "output_type": "execute_result"
    }
   ],
   "execution_count": 37
  },
  {
   "metadata": {
    "ExecuteTime": {
     "end_time": "2025-06-17T06:42:01.220716Z",
     "start_time": "2025-06-17T06:42:01.214081Z"
    }
   },
   "cell_type": "code",
   "source": "a[1, :]  # all column of row 1",
   "id": "b99dff06affd33bb",
   "outputs": [
    {
     "data": {
      "text/plain": [
       "array([4, 5, 6])"
      ]
     },
     "execution_count": 38,
     "metadata": {},
     "output_type": "execute_result"
    }
   ],
   "execution_count": 38
  },
  {
   "metadata": {
    "ExecuteTime": {
     "end_time": "2025-06-17T06:42:01.384736Z",
     "start_time": "2025-06-17T06:42:01.378815Z"
    }
   },
   "cell_type": "code",
   "source": [
    "c = np.array([\n",
    "    [[1, 2, 3],\n",
    "     [4, 5, 6]],\n",
    "\n",
    "    [[7, 8, 9],\n",
    "     [10, 11, 12]]\n",
    "])"
   ],
   "id": "8538893aba17bb4",
   "outputs": [],
   "execution_count": 39
  },
  {
   "metadata": {
    "ExecuteTime": {
     "end_time": "2025-06-17T06:42:01.446866Z",
     "start_time": "2025-06-17T06:42:01.440695Z"
    }
   },
   "cell_type": "code",
   "source": "c.shape",
   "id": "f8a9577b5da9184d",
   "outputs": [
    {
     "data": {
      "text/plain": [
       "(2, 2, 3)"
      ]
     },
     "execution_count": 40,
     "metadata": {},
     "output_type": "execute_result"
    }
   ],
   "execution_count": 40
  },
  {
   "metadata": {
    "ExecuteTime": {
     "end_time": "2025-06-17T06:42:01.555216Z",
     "start_time": "2025-06-17T06:42:01.549064Z"
    }
   },
   "cell_type": "code",
   "source": "c[0]",
   "id": "786dcad6983b41f7",
   "outputs": [
    {
     "data": {
      "text/plain": [
       "array([[1, 2, 3],\n",
       "       [4, 5, 6]])"
      ]
     },
     "execution_count": 41,
     "metadata": {},
     "output_type": "execute_result"
    }
   ],
   "execution_count": 41
  },
  {
   "metadata": {
    "ExecuteTime": {
     "end_time": "2025-06-17T06:42:01.730713Z",
     "start_time": "2025-06-17T06:42:01.723717Z"
    }
   },
   "cell_type": "code",
   "source": "c[0, 1, 1]",
   "id": "4176bec97280cadd",
   "outputs": [
    {
     "data": {
      "text/plain": [
       "np.int64(5)"
      ]
     },
     "execution_count": 42,
     "metadata": {},
     "output_type": "execute_result"
    }
   ],
   "execution_count": 42
  },
  {
   "metadata": {
    "ExecuteTime": {
     "end_time": "2025-06-17T06:42:02.068461Z",
     "start_time": "2025-06-17T06:42:02.061191Z"
    }
   },
   "cell_type": "code",
   "source": "c[0, 1, 0:2]",
   "id": "f8e939d95220d2ac",
   "outputs": [
    {
     "data": {
      "text/plain": [
       "array([4, 5])"
      ]
     },
     "execution_count": 43,
     "metadata": {},
     "output_type": "execute_result"
    }
   ],
   "execution_count": 43
  },
  {
   "metadata": {
    "ExecuteTime": {
     "end_time": "2025-06-17T06:42:02.314653Z",
     "start_time": "2025-06-17T06:42:02.307586Z"
    }
   },
   "cell_type": "code",
   "source": "linspace",
   "id": "5aa8424e8f0e5fbf",
   "outputs": [
    {
     "data": {
      "text/plain": [
       "array([0.        , 0.07142857, 0.14285714, 0.21428571, 0.28571429,\n",
       "       0.35714286, 0.42857143, 0.5       , 0.57142857, 0.64285714,\n",
       "       0.71428571, 0.78571429, 0.85714286, 0.92857143, 1.        ])"
      ]
     },
     "execution_count": 44,
     "metadata": {},
     "output_type": "execute_result"
    }
   ],
   "execution_count": 44
  },
  {
   "metadata": {
    "ExecuteTime": {
     "end_time": "2025-06-17T06:42:02.709584Z",
     "start_time": "2025-06-17T06:42:02.700970Z"
    }
   },
   "cell_type": "code",
   "source": "linspace[::-1]",
   "id": "c4dc6dd9ef6c9429",
   "outputs": [
    {
     "data": {
      "text/plain": [
       "array([1.        , 0.92857143, 0.85714286, 0.78571429, 0.71428571,\n",
       "       0.64285714, 0.57142857, 0.5       , 0.42857143, 0.35714286,\n",
       "       0.28571429, 0.21428571, 0.14285714, 0.07142857, 0.        ])"
      ]
     },
     "execution_count": 45,
     "metadata": {},
     "output_type": "execute_result"
    }
   ],
   "execution_count": 45
  },
  {
   "metadata": {
    "ExecuteTime": {
     "end_time": "2025-06-17T06:42:02.819300Z",
     "start_time": "2025-06-17T06:42:02.814598Z"
    }
   },
   "cell_type": "code",
   "source": [
    "a = np.array([1, 2, 3, 4, 5])\n",
    "b = np.array([6, 7, 8, 9, 10])"
   ],
   "id": "bae4fa76f4f15ac6",
   "outputs": [],
   "execution_count": 46
  },
  {
   "metadata": {
    "ExecuteTime": {
     "end_time": "2025-06-17T06:42:02.963390Z",
     "start_time": "2025-06-17T06:42:02.957206Z"
    }
   },
   "cell_type": "code",
   "source": "a + b",
   "id": "a5f6e9120b6134b5",
   "outputs": [
    {
     "data": {
      "text/plain": [
       "array([ 7,  9, 11, 13, 15])"
      ]
     },
     "execution_count": 47,
     "metadata": {},
     "output_type": "execute_result"
    }
   ],
   "execution_count": 47
  },
  {
   "metadata": {
    "ExecuteTime": {
     "end_time": "2025-06-17T06:42:03.080123Z",
     "start_time": "2025-06-17T06:42:03.071471Z"
    }
   },
   "cell_type": "code",
   "source": "a - b",
   "id": "fe37afcde4e2220f",
   "outputs": [
    {
     "data": {
      "text/plain": [
       "array([-5, -5, -5, -5, -5])"
      ]
     },
     "execution_count": 48,
     "metadata": {},
     "output_type": "execute_result"
    }
   ],
   "execution_count": 48
  },
  {
   "metadata": {
    "ExecuteTime": {
     "end_time": "2025-06-17T06:42:03.301036Z",
     "start_time": "2025-06-17T06:42:03.291859Z"
    }
   },
   "cell_type": "code",
   "source": "a * b",
   "id": "9ce00f8260b58e84",
   "outputs": [
    {
     "data": {
      "text/plain": [
       "array([ 6, 14, 24, 36, 50])"
      ]
     },
     "execution_count": 49,
     "metadata": {},
     "output_type": "execute_result"
    }
   ],
   "execution_count": 49
  },
  {
   "metadata": {
    "ExecuteTime": {
     "end_time": "2025-06-17T06:42:03.391769Z",
     "start_time": "2025-06-17T06:42:03.385009Z"
    }
   },
   "cell_type": "code",
   "source": "a ** 2",
   "id": "67859d102a4caf6a",
   "outputs": [
    {
     "data": {
      "text/plain": [
       "array([ 1,  4,  9, 16, 25])"
      ]
     },
     "execution_count": 50,
     "metadata": {},
     "output_type": "execute_result"
    }
   ],
   "execution_count": 50
  },
  {
   "metadata": {
    "ExecuteTime": {
     "end_time": "2025-06-17T06:42:03.563714Z",
     "start_time": "2025-06-17T06:42:03.556116Z"
    }
   },
   "cell_type": "code",
   "source": "a ** b",
   "id": "ae484c4b6c0d4427",
   "outputs": [
    {
     "data": {
      "text/plain": [
       "array([      1,     128,    6561,  262144, 9765625])"
      ]
     },
     "execution_count": 51,
     "metadata": {},
     "output_type": "execute_result"
    }
   ],
   "execution_count": 51
  },
  {
   "metadata": {
    "ExecuteTime": {
     "end_time": "2025-06-17T06:42:03.793443Z",
     "start_time": "2025-06-17T06:42:03.783699Z"
    }
   },
   "cell_type": "code",
   "source": [
    "numbers = np.array([[1, 2, 3], [4, 5, 6]])\n",
    "numbers"
   ],
   "id": "b3f3d8ec4f0f9972",
   "outputs": [
    {
     "data": {
      "text/plain": [
       "array([[1, 2, 3],\n",
       "       [4, 5, 6]])"
      ]
     },
     "execution_count": 52,
     "metadata": {},
     "output_type": "execute_result"
    }
   ],
   "execution_count": 52
  },
  {
   "metadata": {
    "ExecuteTime": {
     "end_time": "2025-06-17T06:42:03.941940Z",
     "start_time": "2025-06-17T06:42:03.934545Z"
    }
   },
   "cell_type": "code",
   "source": "numbers.sum()",
   "id": "aac50322f3faf2a4",
   "outputs": [
    {
     "data": {
      "text/plain": [
       "np.int64(21)"
      ]
     },
     "execution_count": 53,
     "metadata": {},
     "output_type": "execute_result"
    }
   ],
   "execution_count": 53
  },
  {
   "metadata": {
    "ExecuteTime": {
     "end_time": "2025-06-17T06:42:04.274438Z",
     "start_time": "2025-06-17T06:42:04.267927Z"
    }
   },
   "cell_type": "code",
   "source": "numbers[1].sum()",
   "id": "e526d52b0d6f94be",
   "outputs": [
    {
     "data": {
      "text/plain": [
       "np.int64(15)"
      ]
     },
     "execution_count": 54,
     "metadata": {},
     "output_type": "execute_result"
    }
   ],
   "execution_count": 54
  },
  {
   "metadata": {
    "ExecuteTime": {
     "end_time": "2025-06-17T06:42:04.537008Z",
     "start_time": "2025-06-17T06:42:04.518913Z"
    }
   },
   "cell_type": "code",
   "source": "numbers.mean()",
   "id": "f6ff99bd2f038f22",
   "outputs": [
    {
     "data": {
      "text/plain": [
       "np.float64(3.5)"
      ]
     },
     "execution_count": 55,
     "metadata": {},
     "output_type": "execute_result"
    }
   ],
   "execution_count": 55
  },
  {
   "metadata": {
    "ExecuteTime": {
     "end_time": "2025-06-17T06:42:04.786982Z",
     "start_time": "2025-06-17T06:42:04.781141Z"
    }
   },
   "cell_type": "code",
   "source": "numbers.min()",
   "id": "34422b4ae9768e72",
   "outputs": [
    {
     "data": {
      "text/plain": [
       "np.int64(1)"
      ]
     },
     "execution_count": 56,
     "metadata": {},
     "output_type": "execute_result"
    }
   ],
   "execution_count": 56
  },
  {
   "metadata": {
    "ExecuteTime": {
     "end_time": "2025-06-17T06:42:05.004287Z",
     "start_time": "2025-06-17T06:42:04.996863Z"
    }
   },
   "cell_type": "code",
   "source": "numbers[1].min()",
   "id": "50d0d8af110bfc65",
   "outputs": [
    {
     "data": {
      "text/plain": [
       "np.int64(4)"
      ]
     },
     "execution_count": 57,
     "metadata": {},
     "output_type": "execute_result"
    }
   ],
   "execution_count": 57
  },
  {
   "metadata": {
    "ExecuteTime": {
     "end_time": "2025-06-17T06:42:05.157321Z",
     "start_time": "2025-06-17T06:42:05.151204Z"
    }
   },
   "cell_type": "code",
   "source": "numbers.max()",
   "id": "18d82fdd233fbe04",
   "outputs": [
    {
     "data": {
      "text/plain": [
       "np.int64(6)"
      ]
     },
     "execution_count": 58,
     "metadata": {},
     "output_type": "execute_result"
    }
   ],
   "execution_count": 58
  },
  {
   "metadata": {
    "ExecuteTime": {
     "end_time": "2025-06-17T06:42:05.259948Z",
     "start_time": "2025-06-17T06:42:05.253799Z"
    }
   },
   "cell_type": "code",
   "source": "numbers[0].max()",
   "id": "1fec4ca894140bcf",
   "outputs": [
    {
     "data": {
      "text/plain": [
       "np.int64(3)"
      ]
     },
     "execution_count": 59,
     "metadata": {},
     "output_type": "execute_result"
    }
   ],
   "execution_count": 59
  },
  {
   "metadata": {
    "ExecuteTime": {
     "end_time": "2025-06-17T06:42:05.449738Z",
     "start_time": "2025-06-17T06:42:05.443914Z"
    }
   },
   "cell_type": "code",
   "source": [
    "numbers = np.array([[1, 2, 3], [4, 5, 6]])\n",
    "numbers"
   ],
   "id": "36f704eb3bd96599",
   "outputs": [
    {
     "data": {
      "text/plain": [
       "array([[1, 2, 3],\n",
       "       [4, 5, 6]])"
      ]
     },
     "execution_count": 60,
     "metadata": {},
     "output_type": "execute_result"
    }
   ],
   "execution_count": 60
  },
  {
   "metadata": {
    "ExecuteTime": {
     "end_time": "2025-06-17T06:42:05.561887Z",
     "start_time": "2025-06-17T06:42:05.555657Z"
    }
   },
   "cell_type": "code",
   "source": "numbers.sum(axis=0)  # column-wise sum",
   "id": "9f9d7b2071b1fbda",
   "outputs": [
    {
     "data": {
      "text/plain": [
       "array([5, 7, 9])"
      ]
     },
     "execution_count": 61,
     "metadata": {},
     "output_type": "execute_result"
    }
   ],
   "execution_count": 61
  },
  {
   "metadata": {
    "ExecuteTime": {
     "end_time": "2025-06-17T06:42:05.843831Z",
     "start_time": "2025-06-17T06:42:05.836306Z"
    }
   },
   "cell_type": "code",
   "source": "numbers.sum(axis=1)  # row-wise sum",
   "id": "357cb55adec6f8eb",
   "outputs": [
    {
     "data": {
      "text/plain": [
       "array([ 6, 15])"
      ]
     },
     "execution_count": 62,
     "metadata": {},
     "output_type": "execute_result"
    }
   ],
   "execution_count": 62
  },
  {
   "metadata": {},
   "cell_type": "markdown",
   "source": [
    "physics, chemistry, maths<br>\n",
    "min, max, avg, sum of marks of a student, topper in entire class and lowest in entire class and also subject wise"
   ],
   "id": "ee817344362fd633"
  },
  {
   "metadata": {
    "ExecuteTime": {
     "end_time": "2025-06-17T06:42:06.055338Z",
     "start_time": "2025-06-17T06:42:06.049970Z"
    }
   },
   "cell_type": "code",
   "source": [
    "grades = np.array([[85, 90, 78],\n",
    "                   [88, 92, 80],\n",
    "                   [75, 85, 89]])"
   ],
   "id": "c3d06a4aae1fdf25",
   "outputs": [],
   "execution_count": 63
  },
  {
   "metadata": {
    "ExecuteTime": {
     "end_time": "2025-06-17T06:42:06.262956Z",
     "start_time": "2025-06-17T06:42:06.257096Z"
    }
   },
   "cell_type": "code",
   "source": [
    "print(\"Min marks in Physics:\", grades[0].min())\n",
    "print(\"Min marks in Chemistry:\", grades[1].min())\n",
    "print(\"Min marks in Maths:\", grades[2].min())\n",
    "print(\"Min marks in entire class:\", grades.min())"
   ],
   "id": "8f2ca78921aa0c8d",
   "outputs": [
    {
     "name": "stdout",
     "output_type": "stream",
     "text": [
      "Min marks in Physics: 78\n",
      "Min marks in Chemistry: 80\n",
      "Min marks in Maths: 75\n",
      "Min marks in entire class: 75\n"
     ]
    }
   ],
   "execution_count": 64
  },
  {
   "metadata": {
    "ExecuteTime": {
     "end_time": "2025-06-17T06:42:06.553108Z",
     "start_time": "2025-06-17T06:42:06.546798Z"
    }
   },
   "cell_type": "code",
   "source": [
    "print(\"Max marks in Physics:\", grades[0].max())\n",
    "print(\"Max marks in Chemistry:\", grades[1].max())\n",
    "print(\"Max marks in Maths:\", grades[2].max())\n",
    "print(\"Max marks in entire class:\", grades.max())"
   ],
   "id": "b0c4fb687aafb962",
   "outputs": [
    {
     "name": "stdout",
     "output_type": "stream",
     "text": [
      "Max marks in Physics: 90\n",
      "Max marks in Chemistry: 92\n",
      "Max marks in Maths: 89\n",
      "Max marks in entire class: 92\n"
     ]
    }
   ],
   "execution_count": 65
  },
  {
   "metadata": {
    "ExecuteTime": {
     "end_time": "2025-06-17T06:42:06.823530Z",
     "start_time": "2025-06-17T06:42:06.817679Z"
    }
   },
   "cell_type": "code",
   "source": [
    "print(\"Avg marks in Physics:\", grades[0].mean())\n",
    "print(\"Avg marks in Chemistry:\", grades[1].mean())\n",
    "print(\"Avg marks in Maths:\", grades[2].mean())\n",
    "print(\"Avg marks in entire class:\", grades.mean())"
   ],
   "id": "a61cff9850cda47b",
   "outputs": [
    {
     "name": "stdout",
     "output_type": "stream",
     "text": [
      "Avg marks in Physics: 84.33333333333333\n",
      "Avg marks in Chemistry: 86.66666666666667\n",
      "Avg marks in Maths: 83.0\n",
      "Avg marks in entire class: 84.66666666666667\n"
     ]
    }
   ],
   "execution_count": 66
  },
  {
   "metadata": {
    "ExecuteTime": {
     "end_time": "2025-06-17T06:42:07.131369Z",
     "start_time": "2025-06-17T06:42:07.124265Z"
    }
   },
   "cell_type": "code",
   "source": [
    "print(\"Sum marks in Physics:\", grades[0].sum())\n",
    "print(\"Sum marks in Chemistry:\", grades[1].sum())\n",
    "print(\"Sum marks in Maths:\", grades[2].sum())\n",
    "print(\"Sum marks in entire class:\", grades.sum())"
   ],
   "id": "ca50ce9d7bfda0f4",
   "outputs": [
    {
     "name": "stdout",
     "output_type": "stream",
     "text": [
      "Sum marks in Physics: 253\n",
      "Sum marks in Chemistry: 260\n",
      "Sum marks in Maths: 249\n",
      "Sum marks in entire class: 762\n"
     ]
    }
   ],
   "execution_count": 67
  },
  {
   "metadata": {
    "ExecuteTime": {
     "end_time": "2025-06-17T06:42:07.444570Z",
     "start_time": "2025-06-17T06:42:07.440615Z"
    }
   },
   "cell_type": "code",
   "source": "grades_T = grades.T",
   "id": "65fdedacd7d6ba1e",
   "outputs": [],
   "execution_count": 68
  },
  {
   "metadata": {
    "ExecuteTime": {
     "end_time": "2025-06-17T06:42:07.891028Z",
     "start_time": "2025-06-17T06:42:07.875898Z"
    }
   },
   "cell_type": "code",
   "source": [
    "print(\"Topper in Physics: Student\", np.argmax(grades_T[0]))\n",
    "print(\"Topper in Chemistry: Student\", np.argmax(grades_T[1]))\n",
    "print(\"Topper in Maths: Student\", np.argmax(grades_T[2]))\n",
    "print(\"Topper in entire class: Student\", np.argmax(grades_T.sum(1)))"
   ],
   "id": "577207b75ab4f0cf",
   "outputs": [
    {
     "name": "stdout",
     "output_type": "stream",
     "text": [
      "Topper in Physics: Student 1\n",
      "Topper in Chemistry: Student 1\n",
      "Topper in Maths: Student 2\n",
      "Topper in entire class: Student 1\n"
     ]
    }
   ],
   "execution_count": 69
  },
  {
   "metadata": {
    "ExecuteTime": {
     "end_time": "2025-06-17T06:42:08.378824Z",
     "start_time": "2025-06-17T06:42:08.371803Z"
    }
   },
   "cell_type": "code",
   "source": [
    "print(\"Lowest in Physics: Student\", np.argmin(grades_T[0]))\n",
    "print(\"Lowest in Chemistry: Student\", np.argmin(grades_T[1]))\n",
    "print(\"Lowest in Maths: Student\", np.argmin(grades_T[2]))\n",
    "print(\"Lowest in entire class: Student\", np.argmin(grades_T.sum(1)))"
   ],
   "id": "21fdd33c591a0dfb",
   "outputs": [
    {
     "name": "stdout",
     "output_type": "stream",
     "text": [
      "Lowest in Physics: Student 2\n",
      "Lowest in Chemistry: Student 2\n",
      "Lowest in Maths: Student 0\n",
      "Lowest in entire class: Student 2\n"
     ]
    }
   ],
   "execution_count": 70
  },
  {
   "metadata": {
    "ExecuteTime": {
     "end_time": "2025-06-17T06:42:09.284619Z",
     "start_time": "2025-06-17T06:42:09.278759Z"
    }
   },
   "cell_type": "code",
   "source": "a = np.array([1, 2, 3])",
   "id": "60ffe7405e28009d",
   "outputs": [],
   "execution_count": 71
  },
  {
   "metadata": {
    "ExecuteTime": {
     "end_time": "2025-06-17T06:42:09.763556Z",
     "start_time": "2025-06-17T06:42:09.758549Z"
    }
   },
   "cell_type": "code",
   "source": "b = 10",
   "id": "980f9719f4b725f4",
   "outputs": [],
   "execution_count": 72
  },
  {
   "metadata": {
    "ExecuteTime": {
     "end_time": "2025-06-17T06:42:10.201067Z",
     "start_time": "2025-06-17T06:42:10.193740Z"
    }
   },
   "cell_type": "code",
   "source": "a + b",
   "id": "e99c2e611c4a4a09",
   "outputs": [
    {
     "data": {
      "text/plain": [
       "array([11, 12, 13])"
      ]
     },
     "execution_count": 73,
     "metadata": {},
     "output_type": "execute_result"
    }
   ],
   "execution_count": 73
  },
  {
   "metadata": {
    "ExecuteTime": {
     "end_time": "2025-06-17T06:42:10.738828Z",
     "start_time": "2025-06-17T06:42:10.732627Z"
    }
   },
   "cell_type": "code",
   "source": [
    "A = np.array([\n",
    "    [10, 20, 30],\n",
    "    [40, 50, 60],\n",
    "])  # Shape: (2, 3)\n",
    "\n",
    "B = np.array([[1], [2]])  # Shape: (2, 1)"
   ],
   "id": "b0c2260e4bca2b6b",
   "outputs": [],
   "execution_count": 74
  },
  {
   "metadata": {
    "ExecuteTime": {
     "end_time": "2025-06-17T06:42:11.215553Z",
     "start_time": "2025-06-17T06:42:11.208574Z"
    }
   },
   "cell_type": "code",
   "source": "B.shape",
   "id": "e628dad65ddc334b",
   "outputs": [
    {
     "data": {
      "text/plain": [
       "(2, 1)"
      ]
     },
     "execution_count": 75,
     "metadata": {},
     "output_type": "execute_result"
    }
   ],
   "execution_count": 75
  },
  {
   "metadata": {
    "ExecuteTime": {
     "end_time": "2025-06-17T06:42:11.706413Z",
     "start_time": "2025-06-17T06:42:11.698434Z"
    }
   },
   "cell_type": "code",
   "source": "A.shape",
   "id": "1f239978e7213fb",
   "outputs": [
    {
     "data": {
      "text/plain": [
       "(2, 3)"
      ]
     },
     "execution_count": 76,
     "metadata": {},
     "output_type": "execute_result"
    }
   ],
   "execution_count": 76
  },
  {
   "metadata": {
    "ExecuteTime": {
     "end_time": "2025-06-17T06:42:11.908325Z",
     "start_time": "2025-06-17T06:42:11.901606Z"
    }
   },
   "cell_type": "code",
   "source": "A + B",
   "id": "3bb76fc6cd8b5a9f",
   "outputs": [
    {
     "data": {
      "text/plain": [
       "array([[11, 21, 31],\n",
       "       [42, 52, 62]])"
      ]
     },
     "execution_count": 77,
     "metadata": {},
     "output_type": "execute_result"
    }
   ],
   "execution_count": 77
  },
  {
   "metadata": {
    "ExecuteTime": {
     "end_time": "2025-06-17T06:42:12.051199Z",
     "start_time": "2025-06-17T06:42:12.045447Z"
    }
   },
   "cell_type": "code",
   "source": "A * B",
   "id": "e46660dec0579d95",
   "outputs": [
    {
     "data": {
      "text/plain": [
       "array([[ 10,  20,  30],\n",
       "       [ 80, 100, 120]])"
      ]
     },
     "execution_count": 78,
     "metadata": {},
     "output_type": "execute_result"
    }
   ],
   "execution_count": 78
  },
  {
   "metadata": {
    "ExecuteTime": {
     "end_time": "2025-06-17T06:42:12.276768Z",
     "start_time": "2025-06-17T06:42:12.270307Z"
    }
   },
   "cell_type": "code",
   "source": [
    "check = np.arange(1, 20, 2)\n",
    "check"
   ],
   "id": "c80aadf9e3403df5",
   "outputs": [
    {
     "data": {
      "text/plain": [
       "array([ 1,  3,  5,  7,  9, 11, 13, 15, 17, 19])"
      ]
     },
     "execution_count": 79,
     "metadata": {},
     "output_type": "execute_result"
    }
   ],
   "execution_count": 79
  },
  {
   "metadata": {
    "ExecuteTime": {
     "end_time": "2025-06-17T06:42:12.603712Z",
     "start_time": "2025-06-17T06:42:12.596761Z"
    }
   },
   "cell_type": "code",
   "source": [
    "a = check.reshape((2, 5))\n",
    "a"
   ],
   "id": "ee5331204f1354c5",
   "outputs": [
    {
     "data": {
      "text/plain": [
       "array([[ 1,  3,  5,  7,  9],\n",
       "       [11, 13, 15, 17, 19]])"
      ]
     },
     "execution_count": 80,
     "metadata": {},
     "output_type": "execute_result"
    }
   ],
   "execution_count": 80
  },
  {
   "metadata": {
    "ExecuteTime": {
     "end_time": "2025-06-17T06:42:12.959432Z",
     "start_time": "2025-06-17T06:42:12.952601Z"
    }
   },
   "cell_type": "code",
   "source": [
    "check = np.arange(1, 20, 2)\n",
    "check.size"
   ],
   "id": "486e0934a45f3b29",
   "outputs": [
    {
     "data": {
      "text/plain": [
       "10"
      ]
     },
     "execution_count": 81,
     "metadata": {},
     "output_type": "execute_result"
    }
   ],
   "execution_count": 81
  },
  {
   "metadata": {
    "ExecuteTime": {
     "end_time": "2025-06-17T06:42:13.300370Z",
     "start_time": "2025-06-17T06:42:13.293626Z"
    }
   },
   "cell_type": "code",
   "source": [
    "a = check.reshape((5, 2))\n",
    "a"
   ],
   "id": "b5d30d1f63968ea0",
   "outputs": [
    {
     "data": {
      "text/plain": [
       "array([[ 1,  3],\n",
       "       [ 5,  7],\n",
       "       [ 9, 11],\n",
       "       [13, 15],\n",
       "       [17, 19]])"
      ]
     },
     "execution_count": 82,
     "metadata": {},
     "output_type": "execute_result"
    }
   ],
   "execution_count": 82
  },
  {
   "metadata": {
    "ExecuteTime": {
     "end_time": "2025-06-17T06:42:13.471831Z",
     "start_time": "2025-06-17T06:42:13.464276Z"
    }
   },
   "cell_type": "code",
   "source": [
    "a = check.reshape((5, 2))\n",
    "a"
   ],
   "id": "ec474929f0e14498",
   "outputs": [
    {
     "data": {
      "text/plain": [
       "array([[ 1,  3],\n",
       "       [ 5,  7],\n",
       "       [ 9, 11],\n",
       "       [13, 15],\n",
       "       [17, 19]])"
      ]
     },
     "execution_count": 83,
     "metadata": {},
     "output_type": "execute_result"
    }
   ],
   "execution_count": 83
  },
  {
   "metadata": {
    "ExecuteTime": {
     "end_time": "2025-06-17T06:42:13.695230Z",
     "start_time": "2025-06-17T06:42:13.688535Z"
    }
   },
   "cell_type": "code",
   "source": [
    "a = check.reshape((1, 5, 2))\n",
    "a"
   ],
   "id": "7c5e13d53ad0c2d9",
   "outputs": [
    {
     "data": {
      "text/plain": [
       "array([[[ 1,  3],\n",
       "        [ 5,  7],\n",
       "        [ 9, 11],\n",
       "        [13, 15],\n",
       "        [17, 19]]])"
      ]
     },
     "execution_count": 84,
     "metadata": {},
     "output_type": "execute_result"
    }
   ],
   "execution_count": 84
  },
  {
   "metadata": {
    "ExecuteTime": {
     "end_time": "2025-06-17T06:42:13.980850Z",
     "start_time": "2025-06-17T06:42:13.973140Z"
    }
   },
   "cell_type": "code",
   "source": "a.shape",
   "id": "881a3452fa74b185",
   "outputs": [
    {
     "data": {
      "text/plain": [
       "(1, 5, 2)"
      ]
     },
     "execution_count": 85,
     "metadata": {},
     "output_type": "execute_result"
    }
   ],
   "execution_count": 85
  },
  {
   "metadata": {
    "ExecuteTime": {
     "end_time": "2025-06-17T06:42:14.243339Z",
     "start_time": "2025-06-17T06:42:14.237290Z"
    }
   },
   "cell_type": "code",
   "source": [
    "a = check.reshape((1, 1, 5, 2))\n",
    "a"
   ],
   "id": "86b334bf79acc94b",
   "outputs": [
    {
     "data": {
      "text/plain": [
       "array([[[[ 1,  3],\n",
       "         [ 5,  7],\n",
       "         [ 9, 11],\n",
       "         [13, 15],\n",
       "         [17, 19]]]])"
      ]
     },
     "execution_count": 86,
     "metadata": {},
     "output_type": "execute_result"
    }
   ],
   "execution_count": 86
  },
  {
   "metadata": {
    "ExecuteTime": {
     "end_time": "2025-06-17T06:42:14.509344Z",
     "start_time": "2025-06-17T06:42:14.502416Z"
    }
   },
   "cell_type": "code",
   "source": "a.shape",
   "id": "61ee879a78b3101f",
   "outputs": [
    {
     "data": {
      "text/plain": [
       "(1, 1, 5, 2)"
      ]
     },
     "execution_count": 87,
     "metadata": {},
     "output_type": "execute_result"
    }
   ],
   "execution_count": 87
  },
  {
   "metadata": {},
   "cell_type": "markdown",
   "source": [
    "Basic Statistics<br>\n",
    "Normalization (scale to 0–1)<br>\n",
    "Topper per Subject<br>\n",
    "Add 5 grace marks to anyone scoring < 75 in any subject<br>\n",
    "Compute overall class average after grace marks<br>\n",
    "Identify students whose average is >= 90 and label them “Star Performers”<br>"
   ],
   "id": "2dcad510364e607b"
  },
  {
   "metadata": {
    "ExecuteTime": {
     "end_time": "2025-06-17T06:42:16.013710Z",
     "start_time": "2025-06-17T06:42:16.008702Z"
    }
   },
   "cell_type": "code",
   "source": [
    "students = np.array([\"Alice\", \"Bob\", \"Carol\", \"David\", \"Eva\"])\n",
    "marks = np.array([\n",
    "    [88, 92, 85],\n",
    "    [75, 78, 80],\n",
    "    [93, 88, 90],\n",
    "    [70, 72, 68],\n",
    "    [85, 90, 87]\n",
    "])"
   ],
   "id": "37117d5e20c100ef",
   "outputs": [],
   "execution_count": 88
  },
  {
   "metadata": {
    "ExecuteTime": {
     "end_time": "2025-06-17T06:42:16.346210Z",
     "start_time": "2025-06-17T06:42:16.339548Z"
    }
   },
   "cell_type": "code",
   "source": [
    "print(\"Subject-wise average:\", marks.mean(0))\n",
    "print(\"Subject-wise max:\", marks.max(0))\n",
    "print(\"Subject-wise min:\", marks.min(0))\n",
    "\n",
    "print(\"Student-wise average:\", marks.mean(1))"
   ],
   "id": "a82f5ed052ba190f",
   "outputs": [
    {
     "name": "stdout",
     "output_type": "stream",
     "text": [
      "Subject-wise average: [82.2 84.  82. ]\n",
      "Subject-wise max: [93 92 90]\n",
      "Subject-wise min: [70 72 68]\n",
      "Student-wise average: [88.33333333 77.66666667 90.33333333 70.         87.33333333]\n"
     ]
    }
   ],
   "execution_count": 89
  },
  {
   "metadata": {
    "ExecuteTime": {
     "end_time": "2025-06-17T06:42:16.864492Z",
     "start_time": "2025-06-17T06:42:16.846653Z"
    }
   },
   "cell_type": "code",
   "source": "(marks - marks.min()) / (marks.max() - marks.min())",
   "id": "b93a61ad38326e6b",
   "outputs": [
    {
     "data": {
      "text/plain": [
       "array([[0.8 , 0.96, 0.68],\n",
       "       [0.28, 0.4 , 0.48],\n",
       "       [1.  , 0.8 , 0.88],\n",
       "       [0.08, 0.16, 0.  ],\n",
       "       [0.68, 0.88, 0.76]])"
      ]
     },
     "execution_count": 90,
     "metadata": {},
     "output_type": "execute_result"
    }
   ],
   "execution_count": 90
  },
  {
   "metadata": {
    "ExecuteTime": {
     "end_time": "2025-06-17T06:42:17.149809Z",
     "start_time": "2025-06-17T06:42:17.144210Z"
    }
   },
   "cell_type": "code",
   "source": [
    "marks_T = marks.T\n",
    "\n",
    "for i in range(len(marks_T)):\n",
    "    print(f\"Topper in Subject {i} is Student {np.argmax(marks_T[i])}\")"
   ],
   "id": "944c80edc5a992cd",
   "outputs": [
    {
     "name": "stdout",
     "output_type": "stream",
     "text": [
      "Topper in Subject 0 is Student 2\n",
      "Topper in Subject 1 is Student 0\n",
      "Topper in Subject 2 is Student 2\n"
     ]
    }
   ],
   "execution_count": 91
  },
  {
   "metadata": {
    "ExecuteTime": {
     "end_time": "2025-06-17T06:42:17.363791Z",
     "start_time": "2025-06-17T06:42:17.356800Z"
    }
   },
   "cell_type": "code",
   "source": [
    "graced = marks.copy()\n",
    "graced[graced < 75] += 5\n",
    "graced"
   ],
   "id": "5a30dcee305aeec9",
   "outputs": [
    {
     "data": {
      "text/plain": [
       "array([[88, 92, 85],\n",
       "       [75, 78, 80],\n",
       "       [93, 88, 90],\n",
       "       [75, 77, 73],\n",
       "       [85, 90, 87]])"
      ]
     },
     "execution_count": 92,
     "metadata": {},
     "output_type": "execute_result"
    }
   ],
   "execution_count": 92
  },
  {
   "metadata": {
    "ExecuteTime": {
     "end_time": "2025-06-17T06:42:17.754495Z",
     "start_time": "2025-06-17T06:42:17.748820Z"
    }
   },
   "cell_type": "code",
   "source": "print(\"Overall class average after grace marks is:\", graced.mean())",
   "id": "e2464d83e127a0d4",
   "outputs": [
    {
     "name": "stdout",
     "output_type": "stream",
     "text": [
      "Overall class average after grace marks is: 83.73333333333333\n"
     ]
    }
   ],
   "execution_count": 93
  },
  {
   "metadata": {
    "ExecuteTime": {
     "end_time": "2025-06-17T06:42:18.276188Z",
     "start_time": "2025-06-17T06:42:18.269797Z"
    }
   },
   "cell_type": "code",
   "source": [
    "for i, avg in enumerate(marks.mean(1)):\n",
    "    if avg >= 90:\n",
    "        print(f\"Student {i} is a Star Performer\")"
   ],
   "id": "a1af1f506b97857e",
   "outputs": [
    {
     "name": "stdout",
     "output_type": "stream",
     "text": [
      "Student 2 is a Star Performer\n"
     ]
    }
   ],
   "execution_count": 94
  }
 ],
 "metadata": {
  "kernelspec": {
   "display_name": "Python 3",
   "language": "python",
   "name": "python3"
  },
  "language_info": {
   "codemirror_mode": {
    "name": "ipython",
    "version": 2
   },
   "file_extension": ".py",
   "mimetype": "text/x-python",
   "name": "python",
   "nbconvert_exporter": "python",
   "pygments_lexer": "ipython2",
   "version": "2.7.6"
  }
 },
 "nbformat": 4,
 "nbformat_minor": 5
}
