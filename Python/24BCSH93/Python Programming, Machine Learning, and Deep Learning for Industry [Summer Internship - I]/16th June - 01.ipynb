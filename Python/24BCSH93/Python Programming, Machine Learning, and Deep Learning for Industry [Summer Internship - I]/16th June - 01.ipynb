{
 "cells": [
  {
   "metadata": {
    "ExecuteTime": {
     "end_time": "2025-06-30T18:54:03.027300Z",
     "start_time": "2025-06-30T18:54:03.011813Z"
    }
   },
   "cell_type": "code",
   "source": [
    "array = [1, 2, 3, 4, 5]\n",
    "[\"a\", \"b\", \"c\", 1, 2, 3]"
   ],
   "id": "eb59095b0f368612",
   "outputs": [
    {
     "data": {
      "text/plain": [
       "['a', 'b', 'c', 1, 2, 3]"
      ]
     },
     "execution_count": 1,
     "metadata": {},
     "output_type": "execute_result"
    }
   ],
   "execution_count": 1
  },
  {
   "cell_type": "code",
   "id": "initial_id",
   "metadata": {
    "collapsed": true,
    "ExecuteTime": {
     "end_time": "2025-06-30T18:54:03.288730Z",
     "start_time": "2025-06-30T18:54:03.274745Z"
    }
   },
   "source": "import numpy as np",
   "outputs": [],
   "execution_count": 2
  },
  {
   "metadata": {
    "ExecuteTime": {
     "end_time": "2025-06-30T18:54:03.335452Z",
     "start_time": "2025-06-30T18:54:03.308845Z"
    }
   },
   "cell_type": "code",
   "source": "dir(np)",
   "id": "ffd91d3689747c32",
   "outputs": [
    {
     "data": {
      "text/plain": [
       "['ALLOW_THREADS',\n",
       " 'BUFSIZE',\n",
       " 'CLIP',\n",
       " 'DataSource',\n",
       " 'ERR_CALL',\n",
       " 'ERR_DEFAULT',\n",
       " 'ERR_IGNORE',\n",
       " 'ERR_LOG',\n",
       " 'ERR_PRINT',\n",
       " 'ERR_RAISE',\n",
       " 'ERR_WARN',\n",
       " 'FLOATING_POINT_SUPPORT',\n",
       " 'FPE_DIVIDEBYZERO',\n",
       " 'FPE_INVALID',\n",
       " 'FPE_OVERFLOW',\n",
       " 'FPE_UNDERFLOW',\n",
       " 'False_',\n",
       " 'Inf',\n",
       " 'Infinity',\n",
       " 'MAXDIMS',\n",
       " 'MAY_SHARE_BOUNDS',\n",
       " 'MAY_SHARE_EXACT',\n",
       " 'NAN',\n",
       " 'NINF',\n",
       " 'NZERO',\n",
       " 'NaN',\n",
       " 'PINF',\n",
       " 'PZERO',\n",
       " 'RAISE',\n",
       " 'RankWarning',\n",
       " 'SHIFT_DIVIDEBYZERO',\n",
       " 'SHIFT_INVALID',\n",
       " 'SHIFT_OVERFLOW',\n",
       " 'SHIFT_UNDERFLOW',\n",
       " 'ScalarType',\n",
       " 'True_',\n",
       " 'UFUNC_BUFSIZE_DEFAULT',\n",
       " 'UFUNC_PYVALS_NAME',\n",
       " 'WRAP',\n",
       " '_CopyMode',\n",
       " '_NoValue',\n",
       " '_UFUNC_API',\n",
       " '__NUMPY_SETUP__',\n",
       " '__all__',\n",
       " '__builtins__',\n",
       " '__cached__',\n",
       " '__config__',\n",
       " '__deprecated_attrs__',\n",
       " '__dir__',\n",
       " '__doc__',\n",
       " '__expired_functions__',\n",
       " '__file__',\n",
       " '__former_attrs__',\n",
       " '__future_scalars__',\n",
       " '__getattr__',\n",
       " '__loader__',\n",
       " '__name__',\n",
       " '__package__',\n",
       " '__path__',\n",
       " '__spec__',\n",
       " '__version__',\n",
       " '_add_newdoc_ufunc',\n",
       " '_builtins',\n",
       " '_core',\n",
       " '_distributor_init',\n",
       " '_financial_names',\n",
       " '_get_promotion_state',\n",
       " '_globals',\n",
       " '_int_extended_msg',\n",
       " '_mat',\n",
       " '_no_nep50_warning',\n",
       " '_pyinstaller_hooks_dir',\n",
       " '_pytesttester',\n",
       " '_set_promotion_state',\n",
       " '_specific_msg',\n",
       " '_typing',\n",
       " '_using_numpy2_behavior',\n",
       " '_utils',\n",
       " 'abs',\n",
       " 'absolute',\n",
       " 'add',\n",
       " 'add_docstring',\n",
       " 'add_newdoc',\n",
       " 'add_newdoc_ufunc',\n",
       " 'all',\n",
       " 'allclose',\n",
       " 'alltrue',\n",
       " 'amax',\n",
       " 'amin',\n",
       " 'angle',\n",
       " 'any',\n",
       " 'append',\n",
       " 'apply_along_axis',\n",
       " 'apply_over_axes',\n",
       " 'arange',\n",
       " 'arccos',\n",
       " 'arccosh',\n",
       " 'arcsin',\n",
       " 'arcsinh',\n",
       " 'arctan',\n",
       " 'arctan2',\n",
       " 'arctanh',\n",
       " 'argmax',\n",
       " 'argmin',\n",
       " 'argpartition',\n",
       " 'argsort',\n",
       " 'argwhere',\n",
       " 'around',\n",
       " 'array',\n",
       " 'array2string',\n",
       " 'array_equal',\n",
       " 'array_equiv',\n",
       " 'array_repr',\n",
       " 'array_split',\n",
       " 'array_str',\n",
       " 'asanyarray',\n",
       " 'asarray',\n",
       " 'asarray_chkfinite',\n",
       " 'ascontiguousarray',\n",
       " 'asfarray',\n",
       " 'asfortranarray',\n",
       " 'asmatrix',\n",
       " 'atleast_1d',\n",
       " 'atleast_2d',\n",
       " 'atleast_3d',\n",
       " 'average',\n",
       " 'bartlett',\n",
       " 'base_repr',\n",
       " 'binary_repr',\n",
       " 'bincount',\n",
       " 'bitwise_and',\n",
       " 'bitwise_not',\n",
       " 'bitwise_or',\n",
       " 'bitwise_xor',\n",
       " 'blackman',\n",
       " 'block',\n",
       " 'bmat',\n",
       " 'bool_',\n",
       " 'broadcast',\n",
       " 'broadcast_arrays',\n",
       " 'broadcast_shapes',\n",
       " 'broadcast_to',\n",
       " 'busday_count',\n",
       " 'busday_offset',\n",
       " 'busdaycalendar',\n",
       " 'byte',\n",
       " 'byte_bounds',\n",
       " 'bytes_',\n",
       " 'c_',\n",
       " 'can_cast',\n",
       " 'cast',\n",
       " 'cbrt',\n",
       " 'cdouble',\n",
       " 'ceil',\n",
       " 'cfloat',\n",
       " 'char',\n",
       " 'character',\n",
       " 'chararray',\n",
       " 'choose',\n",
       " 'clip',\n",
       " 'clongdouble',\n",
       " 'clongfloat',\n",
       " 'column_stack',\n",
       " 'common_type',\n",
       " 'compare_chararrays',\n",
       " 'compat',\n",
       " 'complex128',\n",
       " 'complex64',\n",
       " 'complex_',\n",
       " 'complexfloating',\n",
       " 'compress',\n",
       " 'concatenate',\n",
       " 'conj',\n",
       " 'conjugate',\n",
       " 'convolve',\n",
       " 'copy',\n",
       " 'copysign',\n",
       " 'copyto',\n",
       " 'corrcoef',\n",
       " 'correlate',\n",
       " 'cos',\n",
       " 'cosh',\n",
       " 'count_nonzero',\n",
       " 'cov',\n",
       " 'cross',\n",
       " 'csingle',\n",
       " 'ctypeslib',\n",
       " 'cumprod',\n",
       " 'cumproduct',\n",
       " 'cumsum',\n",
       " 'datetime64',\n",
       " 'datetime_as_string',\n",
       " 'datetime_data',\n",
       " 'deg2rad',\n",
       " 'degrees',\n",
       " 'delete',\n",
       " 'deprecate',\n",
       " 'deprecate_with_doc',\n",
       " 'diag',\n",
       " 'diag_indices',\n",
       " 'diag_indices_from',\n",
       " 'diagflat',\n",
       " 'diagonal',\n",
       " 'diff',\n",
       " 'digitize',\n",
       " 'disp',\n",
       " 'divide',\n",
       " 'divmod',\n",
       " 'dot',\n",
       " 'double',\n",
       " 'dsplit',\n",
       " 'dstack',\n",
       " 'dtype',\n",
       " 'dtypes',\n",
       " 'e',\n",
       " 'ediff1d',\n",
       " 'einsum',\n",
       " 'einsum_path',\n",
       " 'emath',\n",
       " 'empty',\n",
       " 'empty_like',\n",
       " 'equal',\n",
       " 'errstate',\n",
       " 'euler_gamma',\n",
       " 'exceptions',\n",
       " 'exp',\n",
       " 'exp2',\n",
       " 'expand_dims',\n",
       " 'expm1',\n",
       " 'extract',\n",
       " 'eye',\n",
       " 'fabs',\n",
       " 'fastCopyAndTranspose',\n",
       " 'fft',\n",
       " 'fill_diagonal',\n",
       " 'find_common_type',\n",
       " 'finfo',\n",
       " 'fix',\n",
       " 'flatiter',\n",
       " 'flatnonzero',\n",
       " 'flexible',\n",
       " 'flip',\n",
       " 'fliplr',\n",
       " 'flipud',\n",
       " 'float16',\n",
       " 'float32',\n",
       " 'float64',\n",
       " 'float_',\n",
       " 'float_power',\n",
       " 'floating',\n",
       " 'floor',\n",
       " 'floor_divide',\n",
       " 'fmax',\n",
       " 'fmin',\n",
       " 'fmod',\n",
       " 'format_float_positional',\n",
       " 'format_float_scientific',\n",
       " 'format_parser',\n",
       " 'frexp',\n",
       " 'from_dlpack',\n",
       " 'frombuffer',\n",
       " 'fromfile',\n",
       " 'fromfunction',\n",
       " 'fromiter',\n",
       " 'frompyfunc',\n",
       " 'fromregex',\n",
       " 'fromstring',\n",
       " 'full',\n",
       " 'full_like',\n",
       " 'gcd',\n",
       " 'generic',\n",
       " 'genfromtxt',\n",
       " 'geomspace',\n",
       " 'get_array_wrap',\n",
       " 'get_include',\n",
       " 'get_printoptions',\n",
       " 'getbufsize',\n",
       " 'geterr',\n",
       " 'geterrcall',\n",
       " 'geterrobj',\n",
       " 'gradient',\n",
       " 'greater',\n",
       " 'greater_equal',\n",
       " 'half',\n",
       " 'hamming',\n",
       " 'hanning',\n",
       " 'heaviside',\n",
       " 'histogram',\n",
       " 'histogram2d',\n",
       " 'histogram_bin_edges',\n",
       " 'histogramdd',\n",
       " 'hsplit',\n",
       " 'hstack',\n",
       " 'hypot',\n",
       " 'i0',\n",
       " 'identity',\n",
       " 'iinfo',\n",
       " 'imag',\n",
       " 'in1d',\n",
       " 'index_exp',\n",
       " 'indices',\n",
       " 'inexact',\n",
       " 'inf',\n",
       " 'info',\n",
       " 'infty',\n",
       " 'inner',\n",
       " 'insert',\n",
       " 'int16',\n",
       " 'int32',\n",
       " 'int64',\n",
       " 'int8',\n",
       " 'int_',\n",
       " 'intc',\n",
       " 'integer',\n",
       " 'interp',\n",
       " 'intersect1d',\n",
       " 'intp',\n",
       " 'invert',\n",
       " 'is_busday',\n",
       " 'isclose',\n",
       " 'iscomplex',\n",
       " 'iscomplexobj',\n",
       " 'isfinite',\n",
       " 'isfortran',\n",
       " 'isin',\n",
       " 'isinf',\n",
       " 'isnan',\n",
       " 'isnat',\n",
       " 'isneginf',\n",
       " 'isposinf',\n",
       " 'isreal',\n",
       " 'isrealobj',\n",
       " 'isscalar',\n",
       " 'issctype',\n",
       " 'issubclass_',\n",
       " 'issubdtype',\n",
       " 'issubsctype',\n",
       " 'iterable',\n",
       " 'ix_',\n",
       " 'kaiser',\n",
       " 'kron',\n",
       " 'lcm',\n",
       " 'ldexp',\n",
       " 'left_shift',\n",
       " 'less',\n",
       " 'less_equal',\n",
       " 'lexsort',\n",
       " 'lib',\n",
       " 'linalg',\n",
       " 'linspace',\n",
       " 'little_endian',\n",
       " 'load',\n",
       " 'loadtxt',\n",
       " 'log',\n",
       " 'log10',\n",
       " 'log1p',\n",
       " 'log2',\n",
       " 'logaddexp',\n",
       " 'logaddexp2',\n",
       " 'logical_and',\n",
       " 'logical_not',\n",
       " 'logical_or',\n",
       " 'logical_xor',\n",
       " 'logspace',\n",
       " 'longcomplex',\n",
       " 'longdouble',\n",
       " 'longfloat',\n",
       " 'longlong',\n",
       " 'lookfor',\n",
       " 'ma',\n",
       " 'mask_indices',\n",
       " 'mat',\n",
       " 'matmul',\n",
       " 'matrix',\n",
       " 'max',\n",
       " 'maximum',\n",
       " 'maximum_sctype',\n",
       " 'may_share_memory',\n",
       " 'mean',\n",
       " 'median',\n",
       " 'memmap',\n",
       " 'meshgrid',\n",
       " 'mgrid',\n",
       " 'min',\n",
       " 'min_scalar_type',\n",
       " 'minimum',\n",
       " 'mintypecode',\n",
       " 'mod',\n",
       " 'modf',\n",
       " 'moveaxis',\n",
       " 'msort',\n",
       " 'multiply',\n",
       " 'nan',\n",
       " 'nan_to_num',\n",
       " 'nanargmax',\n",
       " 'nanargmin',\n",
       " 'nancumprod',\n",
       " 'nancumsum',\n",
       " 'nanmax',\n",
       " 'nanmean',\n",
       " 'nanmedian',\n",
       " 'nanmin',\n",
       " 'nanpercentile',\n",
       " 'nanprod',\n",
       " 'nanquantile',\n",
       " 'nanstd',\n",
       " 'nansum',\n",
       " 'nanvar',\n",
       " 'nbytes',\n",
       " 'ndarray',\n",
       " 'ndenumerate',\n",
       " 'ndim',\n",
       " 'ndindex',\n",
       " 'nditer',\n",
       " 'negative',\n",
       " 'nested_iters',\n",
       " 'newaxis',\n",
       " 'nextafter',\n",
       " 'nonzero',\n",
       " 'not_equal',\n",
       " 'numarray',\n",
       " 'number',\n",
       " 'obj2sctype',\n",
       " 'object_',\n",
       " 'ogrid',\n",
       " 'oldnumeric',\n",
       " 'ones',\n",
       " 'ones_like',\n",
       " 'outer',\n",
       " 'packbits',\n",
       " 'pad',\n",
       " 'partition',\n",
       " 'percentile',\n",
       " 'pi',\n",
       " 'piecewise',\n",
       " 'place',\n",
       " 'poly',\n",
       " 'poly1d',\n",
       " 'polyadd',\n",
       " 'polyder',\n",
       " 'polydiv',\n",
       " 'polyfit',\n",
       " 'polyint',\n",
       " 'polymul',\n",
       " 'polynomial',\n",
       " 'polysub',\n",
       " 'polyval',\n",
       " 'positive',\n",
       " 'power',\n",
       " 'printoptions',\n",
       " 'prod',\n",
       " 'product',\n",
       " 'promote_types',\n",
       " 'ptp',\n",
       " 'put',\n",
       " 'put_along_axis',\n",
       " 'putmask',\n",
       " 'quantile',\n",
       " 'r_',\n",
       " 'rad2deg',\n",
       " 'radians',\n",
       " 'random',\n",
       " 'ravel',\n",
       " 'ravel_multi_index',\n",
       " 'real',\n",
       " 'real_if_close',\n",
       " 'rec',\n",
       " 'recarray',\n",
       " 'recfromcsv',\n",
       " 'recfromtxt',\n",
       " 'reciprocal',\n",
       " 'record',\n",
       " 'remainder',\n",
       " 'repeat',\n",
       " 'require',\n",
       " 'reshape',\n",
       " 'resize',\n",
       " 'result_type',\n",
       " 'right_shift',\n",
       " 'rint',\n",
       " 'roll',\n",
       " 'rollaxis',\n",
       " 'roots',\n",
       " 'rot90',\n",
       " 'round',\n",
       " 'round_',\n",
       " 'row_stack',\n",
       " 's_',\n",
       " 'safe_eval',\n",
       " 'save',\n",
       " 'savetxt',\n",
       " 'savez',\n",
       " 'savez_compressed',\n",
       " 'sctype2char',\n",
       " 'sctypeDict',\n",
       " 'sctypes',\n",
       " 'searchsorted',\n",
       " 'select',\n",
       " 'set_numeric_ops',\n",
       " 'set_printoptions',\n",
       " 'set_string_function',\n",
       " 'setbufsize',\n",
       " 'setdiff1d',\n",
       " 'seterr',\n",
       " 'seterrcall',\n",
       " 'seterrobj',\n",
       " 'setxor1d',\n",
       " 'shape',\n",
       " 'shares_memory',\n",
       " 'short',\n",
       " 'show_config',\n",
       " 'show_runtime',\n",
       " 'sign',\n",
       " 'signbit',\n",
       " 'signedinteger',\n",
       " 'sin',\n",
       " 'sinc',\n",
       " 'single',\n",
       " 'singlecomplex',\n",
       " 'sinh',\n",
       " 'size',\n",
       " 'sometrue',\n",
       " 'sort',\n",
       " 'sort_complex',\n",
       " 'source',\n",
       " 'spacing',\n",
       " 'split',\n",
       " 'sqrt',\n",
       " 'square',\n",
       " 'squeeze',\n",
       " 'stack',\n",
       " 'std',\n",
       " 'str_',\n",
       " 'string_',\n",
       " 'subtract',\n",
       " 'sum',\n",
       " 'swapaxes',\n",
       " 'take',\n",
       " 'take_along_axis',\n",
       " 'tan',\n",
       " 'tanh',\n",
       " 'tensordot',\n",
       " 'test',\n",
       " 'testing',\n",
       " 'tile',\n",
       " 'timedelta64',\n",
       " 'trace',\n",
       " 'tracemalloc_domain',\n",
       " 'transpose',\n",
       " 'trapz',\n",
       " 'tri',\n",
       " 'tril',\n",
       " 'tril_indices',\n",
       " 'tril_indices_from',\n",
       " 'trim_zeros',\n",
       " 'triu',\n",
       " 'triu_indices',\n",
       " 'triu_indices_from',\n",
       " 'true_divide',\n",
       " 'trunc',\n",
       " 'typecodes',\n",
       " 'typename',\n",
       " 'typing',\n",
       " 'ubyte',\n",
       " 'ufunc',\n",
       " 'uint',\n",
       " 'uint16',\n",
       " 'uint32',\n",
       " 'uint64',\n",
       " 'uint8',\n",
       " 'uintc',\n",
       " 'uintp',\n",
       " 'ulonglong',\n",
       " 'unicode_',\n",
       " 'union1d',\n",
       " 'unique',\n",
       " 'unpackbits',\n",
       " 'unravel_index',\n",
       " 'unsignedinteger',\n",
       " 'unwrap',\n",
       " 'ushort',\n",
       " 'vander',\n",
       " 'var',\n",
       " 'vdot',\n",
       " 'vectorize',\n",
       " 'version',\n",
       " 'void',\n",
       " 'vsplit',\n",
       " 'vstack',\n",
       " 'where',\n",
       " 'who',\n",
       " 'zeros',\n",
       " 'zeros_like']"
      ]
     },
     "execution_count": 3,
     "metadata": {},
     "output_type": "execute_result"
    }
   ],
   "execution_count": 3
  },
  {
   "metadata": {
    "ExecuteTime": {
     "end_time": "2025-06-30T18:54:03.475656Z",
     "start_time": "2025-06-30T18:54:03.461988Z"
    }
   },
   "cell_type": "code",
   "source": [
    "list1 = [1, 2, 3, 4, 5]\n",
    "array1 = np.array(list1)"
   ],
   "id": "67c514544855c32c",
   "outputs": [],
   "execution_count": 4
  },
  {
   "metadata": {
    "ExecuteTime": {
     "end_time": "2025-06-30T18:54:03.521197Z",
     "start_time": "2025-06-30T18:54:03.511566Z"
    }
   },
   "cell_type": "code",
   "source": "type(array1)",
   "id": "fe3aa8fffc72caec",
   "outputs": [
    {
     "data": {
      "text/plain": [
       "numpy.ndarray"
      ]
     },
     "execution_count": 5,
     "metadata": {},
     "output_type": "execute_result"
    }
   ],
   "execution_count": 5
  },
  {
   "metadata": {
    "ExecuteTime": {
     "end_time": "2025-06-30T18:54:03.597029Z",
     "start_time": "2025-06-30T18:54:03.580062Z"
    }
   },
   "cell_type": "code",
   "source": "type(list1)",
   "id": "35c2673bf76ec550",
   "outputs": [
    {
     "data": {
      "text/plain": [
       "list"
      ]
     },
     "execution_count": 6,
     "metadata": {},
     "output_type": "execute_result"
    }
   ],
   "execution_count": 6
  },
  {
   "metadata": {
    "ExecuteTime": {
     "end_time": "2025-06-30T18:54:03.783525Z",
     "start_time": "2025-06-30T18:54:03.645609Z"
    }
   },
   "cell_type": "code",
   "source": [
    "import time\n",
    "\n",
    "size = 1000000\n",
    "l1 = list(range(size))\n",
    "l2 = list(range(size))\n",
    "\n",
    "start = time.time()\n",
    "result = [x + y for x, y in zip(l1, l2)]\n",
    "print(\"my_list time:\", time.time() - start)\n",
    "\n",
    "a1 = np.arange(size)\n",
    "a2 = np.arange(size)\n",
    "start = time.time()\n",
    "result = a1 + a2\n",
    "print(\"numpy time:\", time.time() - start)"
   ],
   "id": "51da0965668c8c1",
   "outputs": [
    {
     "name": "stdout",
     "output_type": "stream",
     "text": [
      "my_list time: 0.07296514511108398\n",
      "numpy time: 0.008163213729858398\n"
     ]
    }
   ],
   "execution_count": 7
  },
  {
   "metadata": {
    "ExecuteTime": {
     "end_time": "2025-06-30T18:54:05.450827Z",
     "start_time": "2025-06-30T18:54:03.832979Z"
    }
   },
   "cell_type": "code",
   "source": "!pip install numpy",
   "id": "5664354a24395cac",
   "outputs": [
    {
     "name": "stdout",
     "output_type": "stream",
     "text": [
      "Requirement already satisfied: numpy in c:\\users\\swapn\\appdata\\local\\programs\\python\\python310\\lib\\site-packages (1.26.4)\n"
     ]
    }
   ],
   "execution_count": 8
  },
  {
   "metadata": {},
   "cell_type": "markdown",
   "source": "np.zeroes()",
   "id": "b0e894fca8fb5cbd"
  },
  {
   "metadata": {
    "ExecuteTime": {
     "end_time": "2025-06-30T18:54:05.497572Z",
     "start_time": "2025-06-30T18:54:05.484388Z"
    }
   },
   "cell_type": "code",
   "source": [
    "zero = np.zeros((2, 3))\n",
    "zero"
   ],
   "id": "8e80cafa2f533701",
   "outputs": [
    {
     "data": {
      "text/plain": [
       "array([[0., 0., 0.],\n",
       "       [0., 0., 0.]])"
      ]
     },
     "execution_count": 9,
     "metadata": {},
     "output_type": "execute_result"
    }
   ],
   "execution_count": 9
  },
  {
   "metadata": {
    "ExecuteTime": {
     "end_time": "2025-06-30T18:54:05.623184Z",
     "start_time": "2025-06-30T18:54:05.609583Z"
    }
   },
   "cell_type": "code",
   "source": [
    "zero = np.zeros((20, 10))\n",
    "zero"
   ],
   "id": "e4f19ba9b6289a4d",
   "outputs": [
    {
     "data": {
      "text/plain": [
       "array([[0., 0., 0., 0., 0., 0., 0., 0., 0., 0.],\n",
       "       [0., 0., 0., 0., 0., 0., 0., 0., 0., 0.],\n",
       "       [0., 0., 0., 0., 0., 0., 0., 0., 0., 0.],\n",
       "       [0., 0., 0., 0., 0., 0., 0., 0., 0., 0.],\n",
       "       [0., 0., 0., 0., 0., 0., 0., 0., 0., 0.],\n",
       "       [0., 0., 0., 0., 0., 0., 0., 0., 0., 0.],\n",
       "       [0., 0., 0., 0., 0., 0., 0., 0., 0., 0.],\n",
       "       [0., 0., 0., 0., 0., 0., 0., 0., 0., 0.],\n",
       "       [0., 0., 0., 0., 0., 0., 0., 0., 0., 0.],\n",
       "       [0., 0., 0., 0., 0., 0., 0., 0., 0., 0.],\n",
       "       [0., 0., 0., 0., 0., 0., 0., 0., 0., 0.],\n",
       "       [0., 0., 0., 0., 0., 0., 0., 0., 0., 0.],\n",
       "       [0., 0., 0., 0., 0., 0., 0., 0., 0., 0.],\n",
       "       [0., 0., 0., 0., 0., 0., 0., 0., 0., 0.],\n",
       "       [0., 0., 0., 0., 0., 0., 0., 0., 0., 0.],\n",
       "       [0., 0., 0., 0., 0., 0., 0., 0., 0., 0.],\n",
       "       [0., 0., 0., 0., 0., 0., 0., 0., 0., 0.],\n",
       "       [0., 0., 0., 0., 0., 0., 0., 0., 0., 0.],\n",
       "       [0., 0., 0., 0., 0., 0., 0., 0., 0., 0.],\n",
       "       [0., 0., 0., 0., 0., 0., 0., 0., 0., 0.]])"
      ]
     },
     "execution_count": 10,
     "metadata": {},
     "output_type": "execute_result"
    }
   ],
   "execution_count": 10
  },
  {
   "metadata": {
    "ExecuteTime": {
     "end_time": "2025-06-30T18:54:06.791927Z",
     "start_time": "2025-06-30T18:54:06.780336Z"
    }
   },
   "cell_type": "code",
   "source": [
    "one = np.ones((5, 6))\n",
    "one"
   ],
   "id": "f3dc3ca3732191dd",
   "outputs": [
    {
     "data": {
      "text/plain": [
       "array([[1., 1., 1., 1., 1., 1.],\n",
       "       [1., 1., 1., 1., 1., 1.],\n",
       "       [1., 1., 1., 1., 1., 1.],\n",
       "       [1., 1., 1., 1., 1., 1.],\n",
       "       [1., 1., 1., 1., 1., 1.]])"
      ]
     },
     "execution_count": 11,
     "metadata": {},
     "output_type": "execute_result"
    }
   ],
   "execution_count": 11
  },
  {
   "metadata": {
    "ExecuteTime": {
     "end_time": "2025-06-30T18:54:07.383583Z",
     "start_time": "2025-06-30T18:54:07.368795Z"
    }
   },
   "cell_type": "code",
   "source": [
    "range_array = np.arange(10, 150, 2)  # start stop step\n",
    "range_array"
   ],
   "id": "64254f8e6143b2ff",
   "outputs": [
    {
     "data": {
      "text/plain": [
       "array([ 10,  12,  14,  16,  18,  20,  22,  24,  26,  28,  30,  32,  34,\n",
       "        36,  38,  40,  42,  44,  46,  48,  50,  52,  54,  56,  58,  60,\n",
       "        62,  64,  66,  68,  70,  72,  74,  76,  78,  80,  82,  84,  86,\n",
       "        88,  90,  92,  94,  96,  98, 100, 102, 104, 106, 108, 110, 112,\n",
       "       114, 116, 118, 120, 122, 124, 126, 128, 130, 132, 134, 136, 138,\n",
       "       140, 142, 144, 146, 148])"
      ]
     },
     "execution_count": 12,
     "metadata": {},
     "output_type": "execute_result"
    }
   ],
   "execution_count": 12
  },
  {
   "metadata": {
    "ExecuteTime": {
     "end_time": "2025-06-30T18:54:09.717691Z",
     "start_time": "2025-06-30T18:54:09.701799Z"
    }
   },
   "cell_type": "code",
   "source": [
    "linspace = np.linspace(10, 150, 20)\n",
    "linspace"
   ],
   "id": "932902174060147e",
   "outputs": [
    {
     "data": {
      "text/plain": [
       "array([ 10.        ,  17.36842105,  24.73684211,  32.10526316,\n",
       "        39.47368421,  46.84210526,  54.21052632,  61.57894737,\n",
       "        68.94736842,  76.31578947,  83.68421053,  91.05263158,\n",
       "        98.42105263, 105.78947368, 113.15789474, 120.52631579,\n",
       "       127.89473684, 135.26315789, 142.63157895, 150.        ])"
      ]
     },
     "execution_count": 13,
     "metadata": {},
     "output_type": "execute_result"
    }
   ],
   "execution_count": 13
  },
  {
   "metadata": {
    "ExecuteTime": {
     "end_time": "2025-06-30T18:54:10.235303Z",
     "start_time": "2025-06-30T18:54:10.222468Z"
    }
   },
   "cell_type": "code",
   "source": [
    "linspace = np.linspace(10, 150, 2000)\n",
    "linspace"
   ],
   "id": "50a23462c106770a",
   "outputs": [
    {
     "data": {
      "text/plain": [
       "array([ 10.        ,  10.07003502,  10.14007004, ..., 149.85992996,\n",
       "       149.92996498, 150.        ])"
      ]
     },
     "execution_count": 14,
     "metadata": {},
     "output_type": "execute_result"
    }
   ],
   "execution_count": 14
  },
  {
   "metadata": {
    "ExecuteTime": {
     "end_time": "2025-06-30T18:54:10.775652Z",
     "start_time": "2025-06-30T18:54:10.760588Z"
    }
   },
   "cell_type": "code",
   "source": [
    "linspace = np.linspace(0, 1, 10)\n",
    "linspace"
   ],
   "id": "f79a2361942e9002",
   "outputs": [
    {
     "data": {
      "text/plain": [
       "array([0.        , 0.11111111, 0.22222222, 0.33333333, 0.44444444,\n",
       "       0.55555556, 0.66666667, 0.77777778, 0.88888889, 1.        ])"
      ]
     },
     "execution_count": 15,
     "metadata": {},
     "output_type": "execute_result"
    }
   ],
   "execution_count": 15
  },
  {
   "metadata": {
    "ExecuteTime": {
     "end_time": "2025-06-30T18:54:11.347053Z",
     "start_time": "2025-06-30T18:54:11.330994Z"
    }
   },
   "cell_type": "code",
   "source": [
    "linspace = np.linspace(0, 1, 15)\n",
    "linspace"
   ],
   "id": "527137e08930a002",
   "outputs": [
    {
     "data": {
      "text/plain": [
       "array([0.        , 0.07142857, 0.14285714, 0.21428571, 0.28571429,\n",
       "       0.35714286, 0.42857143, 0.5       , 0.57142857, 0.64285714,\n",
       "       0.71428571, 0.78571429, 0.85714286, 0.92857143, 1.        ])"
      ]
     },
     "execution_count": 16,
     "metadata": {},
     "output_type": "execute_result"
    }
   ],
   "execution_count": 16
  },
  {
   "metadata": {
    "ExecuteTime": {
     "end_time": "2025-06-30T18:54:11.847932Z",
     "start_time": "2025-06-30T18:54:11.832452Z"
    }
   },
   "cell_type": "code",
   "source": "0.07142857 - 0.14285714",
   "id": "dd2994e4f02ee0f0",
   "outputs": [
    {
     "data": {
      "text/plain": [
       "-0.07142857"
      ]
     },
     "execution_count": 17,
     "metadata": {},
     "output_type": "execute_result"
    }
   ],
   "execution_count": 17
  },
  {
   "metadata": {
    "ExecuteTime": {
     "end_time": "2025-06-30T18:54:12.381897Z",
     "start_time": "2025-06-30T18:54:12.368631Z"
    }
   },
   "cell_type": "code",
   "source": "0.14285714 - 0.21428571",
   "id": "9f240bae45cd0a4d",
   "outputs": [
    {
     "data": {
      "text/plain": [
       "-0.07142857"
      ]
     },
     "execution_count": 18,
     "metadata": {},
     "output_type": "execute_result"
    }
   ],
   "execution_count": 18
  },
  {
   "metadata": {
    "ExecuteTime": {
     "end_time": "2025-06-30T18:54:12.932221Z",
     "start_time": "2025-06-30T18:54:12.916024Z"
    }
   },
   "cell_type": "code",
   "source": [
    "a = np.array([[1, 2, 3], [4, 5, 6]])\n",
    "a"
   ],
   "id": "4406b7985f0e56fd",
   "outputs": [
    {
     "data": {
      "text/plain": [
       "array([[1, 2, 3],\n",
       "       [4, 5, 6]])"
      ]
     },
     "execution_count": 19,
     "metadata": {},
     "output_type": "execute_result"
    }
   ],
   "execution_count": 19
  },
  {
   "metadata": {
    "ExecuteTime": {
     "end_time": "2025-06-30T18:54:13.531429Z",
     "start_time": "2025-06-30T18:54:13.516196Z"
    }
   },
   "cell_type": "code",
   "source": "a.shape",
   "id": "16614f04ef781874",
   "outputs": [
    {
     "data": {
      "text/plain": [
       "(2, 3)"
      ]
     },
     "execution_count": 20,
     "metadata": {},
     "output_type": "execute_result"
    }
   ],
   "execution_count": 20
  },
  {
   "metadata": {
    "ExecuteTime": {
     "end_time": "2025-06-30T18:54:14.180113Z",
     "start_time": "2025-06-30T18:54:14.168805Z"
    }
   },
   "cell_type": "code",
   "source": "a.shape[0]",
   "id": "8fdb2ce399e86fd5",
   "outputs": [
    {
     "data": {
      "text/plain": [
       "2"
      ]
     },
     "execution_count": 21,
     "metadata": {},
     "output_type": "execute_result"
    }
   ],
   "execution_count": 21
  },
  {
   "metadata": {
    "ExecuteTime": {
     "end_time": "2025-06-30T18:54:14.748512Z",
     "start_time": "2025-06-30T18:54:14.732915Z"
    }
   },
   "cell_type": "code",
   "source": "a.shape[1]",
   "id": "f27cfb80133d5352",
   "outputs": [
    {
     "data": {
      "text/plain": [
       "3"
      ]
     },
     "execution_count": 22,
     "metadata": {},
     "output_type": "execute_result"
    }
   ],
   "execution_count": 22
  },
  {
   "metadata": {
    "ExecuteTime": {
     "end_time": "2025-06-30T18:54:15.295349Z",
     "start_time": "2025-06-30T18:54:15.279998Z"
    }
   },
   "cell_type": "code",
   "source": "linspace.shape",
   "id": "be178a7ff23b1025",
   "outputs": [
    {
     "data": {
      "text/plain": [
       "(15,)"
      ]
     },
     "execution_count": 23,
     "metadata": {},
     "output_type": "execute_result"
    }
   ],
   "execution_count": 23
  },
  {
   "metadata": {
    "ExecuteTime": {
     "end_time": "2025-06-30T18:54:15.851737Z",
     "start_time": "2025-06-30T18:54:15.838653Z"
    }
   },
   "cell_type": "code",
   "source": "a.ndim",
   "id": "be924f2572f637e7",
   "outputs": [
    {
     "data": {
      "text/plain": [
       "2"
      ]
     },
     "execution_count": 24,
     "metadata": {},
     "output_type": "execute_result"
    }
   ],
   "execution_count": 24
  },
  {
   "metadata": {
    "ExecuteTime": {
     "end_time": "2025-06-30T18:54:16.367271Z",
     "start_time": "2025-06-30T18:54:16.352239Z"
    }
   },
   "cell_type": "code",
   "source": "linspace.ndim",
   "id": "859bf3ad929849ea",
   "outputs": [
    {
     "data": {
      "text/plain": [
       "1"
      ]
     },
     "execution_count": 25,
     "metadata": {},
     "output_type": "execute_result"
    }
   ],
   "execution_count": 25
  },
  {
   "metadata": {
    "ExecuteTime": {
     "end_time": "2025-06-30T18:54:16.873756Z",
     "start_time": "2025-06-30T18:54:16.858785Z"
    }
   },
   "cell_type": "code",
   "source": "a.dtype",
   "id": "43f3208edfea2205",
   "outputs": [
    {
     "data": {
      "text/plain": [
       "dtype('int32')"
      ]
     },
     "execution_count": 26,
     "metadata": {},
     "output_type": "execute_result"
    }
   ],
   "execution_count": 26
  },
  {
   "metadata": {
    "ExecuteTime": {
     "end_time": "2025-06-30T18:54:17.393493Z",
     "start_time": "2025-06-30T18:54:17.379108Z"
    }
   },
   "cell_type": "code",
   "source": "linspace.dtype",
   "id": "9175e8f5d85ba59e",
   "outputs": [
    {
     "data": {
      "text/plain": [
       "dtype('float64')"
      ]
     },
     "execution_count": 27,
     "metadata": {},
     "output_type": "execute_result"
    }
   ],
   "execution_count": 27
  },
  {
   "metadata": {
    "ExecuteTime": {
     "end_time": "2025-06-30T18:54:17.878494Z",
     "start_time": "2025-06-30T18:54:17.866275Z"
    }
   },
   "cell_type": "code",
   "source": "linspace.size",
   "id": "b90ecf8951162add",
   "outputs": [
    {
     "data": {
      "text/plain": [
       "15"
      ]
     },
     "execution_count": 28,
     "metadata": {},
     "output_type": "execute_result"
    }
   ],
   "execution_count": 28
  },
  {
   "metadata": {
    "ExecuteTime": {
     "end_time": "2025-06-30T18:54:18.373947Z",
     "start_time": "2025-06-30T18:54:18.358654Z"
    }
   },
   "cell_type": "code",
   "source": "a.size",
   "id": "215b91f4953ee358",
   "outputs": [
    {
     "data": {
      "text/plain": [
       "6"
      ]
     },
     "execution_count": 29,
     "metadata": {},
     "output_type": "execute_result"
    }
   ],
   "execution_count": 29
  },
  {
   "metadata": {
    "ExecuteTime": {
     "end_time": "2025-06-30T18:54:18.945260Z",
     "start_time": "2025-06-30T18:54:18.930262Z"
    }
   },
   "cell_type": "code",
   "source": [
    "b = np.array([10, 20, 30, 40, 50, 60])\n",
    "b\n",
    "print(\"self is b:\", b)"
   ],
   "id": "84df62ef4383a34b",
   "outputs": [
    {
     "name": "stdout",
     "output_type": "stream",
     "text": [
      "self is b: [10 20 30 40 50 60]\n"
     ]
    }
   ],
   "execution_count": 30
  },
  {
   "metadata": {
    "ExecuteTime": {
     "end_time": "2025-06-30T18:54:19.818373Z",
     "start_time": "2025-06-30T18:54:19.802695Z"
    }
   },
   "cell_type": "code",
   "source": "b[0]",
   "id": "d8cb0886eeef28dd",
   "outputs": [
    {
     "data": {
      "text/plain": [
       "10"
      ]
     },
     "execution_count": 31,
     "metadata": {},
     "output_type": "execute_result"
    }
   ],
   "execution_count": 31
  },
  {
   "metadata": {
    "ExecuteTime": {
     "end_time": "2025-06-30T18:54:20.760727Z",
     "start_time": "2025-06-30T18:54:20.746086Z"
    }
   },
   "cell_type": "code",
   "source": "b[-1]",
   "id": "587801779a8af6a1",
   "outputs": [
    {
     "data": {
      "text/plain": [
       "60"
      ]
     },
     "execution_count": 32,
     "metadata": {},
     "output_type": "execute_result"
    }
   ],
   "execution_count": 32
  },
  {
   "metadata": {
    "ExecuteTime": {
     "end_time": "2025-06-30T18:54:21.322587Z",
     "start_time": "2025-06-30T18:54:21.308462Z"
    }
   },
   "cell_type": "code",
   "source": "b[1:4]",
   "id": "15979cae6b30438f",
   "outputs": [
    {
     "data": {
      "text/plain": [
       "array([20, 30, 40])"
      ]
     },
     "execution_count": 33,
     "metadata": {},
     "output_type": "execute_result"
    }
   ],
   "execution_count": 33
  },
  {
   "metadata": {
    "ExecuteTime": {
     "end_time": "2025-06-30T18:54:21.586324Z",
     "start_time": "2025-06-30T18:54:21.562456Z"
    }
   },
   "cell_type": "code",
   "source": "a",
   "id": "37f2ba609cf58017",
   "outputs": [
    {
     "data": {
      "text/plain": [
       "array([[1, 2, 3],\n",
       "       [4, 5, 6]])"
      ]
     },
     "execution_count": 34,
     "metadata": {},
     "output_type": "execute_result"
    }
   ],
   "execution_count": 34
  },
  {
   "metadata": {
    "ExecuteTime": {
     "end_time": "2025-06-30T18:54:22.502132Z",
     "start_time": "2025-06-30T18:54:22.488577Z"
    }
   },
   "cell_type": "code",
   "source": "a[0, 0]",
   "id": "cd6254e9c779c0be",
   "outputs": [
    {
     "data": {
      "text/plain": [
       "1"
      ]
     },
     "execution_count": 35,
     "metadata": {},
     "output_type": "execute_result"
    }
   ],
   "execution_count": 35
  },
  {
   "metadata": {
    "ExecuteTime": {
     "end_time": "2025-06-30T18:54:22.729726Z",
     "start_time": "2025-06-30T18:54:22.714079Z"
    }
   },
   "cell_type": "code",
   "source": "a[0, 2]",
   "id": "c71d6c32b3391645",
   "outputs": [
    {
     "data": {
      "text/plain": [
       "3"
      ]
     },
     "execution_count": 36,
     "metadata": {},
     "output_type": "execute_result"
    }
   ],
   "execution_count": 36
  },
  {
   "metadata": {
    "ExecuteTime": {
     "end_time": "2025-06-30T18:54:23.268664Z",
     "start_time": "2025-06-30T18:54:23.252453Z"
    }
   },
   "cell_type": "code",
   "source": "a[:, 1]  # all rows of column 1",
   "id": "e954c91164e200c6",
   "outputs": [
    {
     "data": {
      "text/plain": [
       "array([2, 5])"
      ]
     },
     "execution_count": 37,
     "metadata": {},
     "output_type": "execute_result"
    }
   ],
   "execution_count": 37
  },
  {
   "metadata": {
    "ExecuteTime": {
     "end_time": "2025-06-30T18:54:23.524500Z",
     "start_time": "2025-06-30T18:54:23.514098Z"
    }
   },
   "cell_type": "code",
   "source": "a[1, :]  # all column of row 1",
   "id": "b99dff06affd33bb",
   "outputs": [
    {
     "data": {
      "text/plain": [
       "array([4, 5, 6])"
      ]
     },
     "execution_count": 38,
     "metadata": {},
     "output_type": "execute_result"
    }
   ],
   "execution_count": 38
  },
  {
   "metadata": {
    "ExecuteTime": {
     "end_time": "2025-06-30T18:54:24.034749Z",
     "start_time": "2025-06-30T18:54:24.020311Z"
    }
   },
   "cell_type": "code",
   "source": [
    "c = np.array([\n",
    "    [[1, 2, 3],\n",
    "     [4, 5, 6]],\n",
    "\n",
    "    [[7, 8, 9],\n",
    "     [10, 11, 12]]\n",
    "])"
   ],
   "id": "8538893aba17bb4",
   "outputs": [],
   "execution_count": 39
  },
  {
   "metadata": {
    "ExecuteTime": {
     "end_time": "2025-06-30T18:54:24.178711Z",
     "start_time": "2025-06-30T18:54:24.163228Z"
    }
   },
   "cell_type": "code",
   "source": "c.shape",
   "id": "f8a9577b5da9184d",
   "outputs": [
    {
     "data": {
      "text/plain": [
       "(2, 2, 3)"
      ]
     },
     "execution_count": 40,
     "metadata": {},
     "output_type": "execute_result"
    }
   ],
   "execution_count": 40
  },
  {
   "metadata": {
    "ExecuteTime": {
     "end_time": "2025-06-30T18:54:24.768693Z",
     "start_time": "2025-06-30T18:54:24.754432Z"
    }
   },
   "cell_type": "code",
   "source": "c[0]",
   "id": "786dcad6983b41f7",
   "outputs": [
    {
     "data": {
      "text/plain": [
       "array([[1, 2, 3],\n",
       "       [4, 5, 6]])"
      ]
     },
     "execution_count": 41,
     "metadata": {},
     "output_type": "execute_result"
    }
   ],
   "execution_count": 41
  },
  {
   "metadata": {
    "ExecuteTime": {
     "end_time": "2025-06-30T18:54:25.125023Z",
     "start_time": "2025-06-30T18:54:25.111530Z"
    }
   },
   "cell_type": "code",
   "source": "c[0, 1, 1]",
   "id": "4176bec97280cadd",
   "outputs": [
    {
     "data": {
      "text/plain": [
       "5"
      ]
     },
     "execution_count": 42,
     "metadata": {},
     "output_type": "execute_result"
    }
   ],
   "execution_count": 42
  },
  {
   "metadata": {
    "ExecuteTime": {
     "end_time": "2025-06-30T18:54:25.694740Z",
     "start_time": "2025-06-30T18:54:25.678913Z"
    }
   },
   "cell_type": "code",
   "source": "c[0, 1, 0:2]",
   "id": "f8e939d95220d2ac",
   "outputs": [
    {
     "data": {
      "text/plain": [
       "array([4, 5])"
      ]
     },
     "execution_count": 43,
     "metadata": {},
     "output_type": "execute_result"
    }
   ],
   "execution_count": 43
  },
  {
   "metadata": {
    "ExecuteTime": {
     "end_time": "2025-06-30T18:54:25.883122Z",
     "start_time": "2025-06-30T18:54:25.868281Z"
    }
   },
   "cell_type": "code",
   "source": "linspace",
   "id": "5aa8424e8f0e5fbf",
   "outputs": [
    {
     "data": {
      "text/plain": [
       "array([0.        , 0.07142857, 0.14285714, 0.21428571, 0.28571429,\n",
       "       0.35714286, 0.42857143, 0.5       , 0.57142857, 0.64285714,\n",
       "       0.71428571, 0.78571429, 0.85714286, 0.92857143, 1.        ])"
      ]
     },
     "execution_count": 44,
     "metadata": {},
     "output_type": "execute_result"
    }
   ],
   "execution_count": 44
  },
  {
   "metadata": {
    "ExecuteTime": {
     "end_time": "2025-06-30T18:54:26.369552Z",
     "start_time": "2025-06-30T18:54:26.360168Z"
    }
   },
   "cell_type": "code",
   "source": "linspace[::-1]",
   "id": "c4dc6dd9ef6c9429",
   "outputs": [
    {
     "data": {
      "text/plain": [
       "array([1.        , 0.92857143, 0.85714286, 0.78571429, 0.71428571,\n",
       "       0.64285714, 0.57142857, 0.5       , 0.42857143, 0.35714286,\n",
       "       0.28571429, 0.21428571, 0.14285714, 0.07142857, 0.        ])"
      ]
     },
     "execution_count": 45,
     "metadata": {},
     "output_type": "execute_result"
    }
   ],
   "execution_count": 45
  },
  {
   "metadata": {
    "ExecuteTime": {
     "end_time": "2025-06-30T18:54:26.595680Z",
     "start_time": "2025-06-30T18:54:26.580621Z"
    }
   },
   "cell_type": "code",
   "source": [
    "a = np.array([1, 2, 3, 4, 5])\n",
    "b = np.array([6, 7, 8, 9, 10])"
   ],
   "id": "bae4fa76f4f15ac6",
   "outputs": [],
   "execution_count": 46
  },
  {
   "metadata": {
    "ExecuteTime": {
     "end_time": "2025-06-30T18:54:27.258321Z",
     "start_time": "2025-06-30T18:54:27.240062Z"
    }
   },
   "cell_type": "code",
   "source": "a + b",
   "id": "a5f6e9120b6134b5",
   "outputs": [
    {
     "data": {
      "text/plain": [
       "array([ 7,  9, 11, 13, 15])"
      ]
     },
     "execution_count": 47,
     "metadata": {},
     "output_type": "execute_result"
    }
   ],
   "execution_count": 47
  },
  {
   "metadata": {
    "ExecuteTime": {
     "end_time": "2025-06-30T18:54:27.806182Z",
     "start_time": "2025-06-30T18:54:27.791568Z"
    }
   },
   "cell_type": "code",
   "source": "a - b",
   "id": "fe37afcde4e2220f",
   "outputs": [
    {
     "data": {
      "text/plain": [
       "array([-5, -5, -5, -5, -5])"
      ]
     },
     "execution_count": 48,
     "metadata": {},
     "output_type": "execute_result"
    }
   ],
   "execution_count": 48
  },
  {
   "metadata": {
    "ExecuteTime": {
     "end_time": "2025-06-30T18:54:28.050454Z",
     "start_time": "2025-06-30T18:54:28.034388Z"
    }
   },
   "cell_type": "code",
   "source": "a * b",
   "id": "9ce00f8260b58e84",
   "outputs": [
    {
     "data": {
      "text/plain": [
       "array([ 6, 14, 24, 36, 50])"
      ]
     },
     "execution_count": 49,
     "metadata": {},
     "output_type": "execute_result"
    }
   ],
   "execution_count": 49
  },
  {
   "metadata": {
    "ExecuteTime": {
     "end_time": "2025-06-30T18:54:28.542630Z",
     "start_time": "2025-06-30T18:54:28.524941Z"
    }
   },
   "cell_type": "code",
   "source": "a ** 2",
   "id": "67859d102a4caf6a",
   "outputs": [
    {
     "data": {
      "text/plain": [
       "array([ 1,  4,  9, 16, 25])"
      ]
     },
     "execution_count": 50,
     "metadata": {},
     "output_type": "execute_result"
    }
   ],
   "execution_count": 50
  },
  {
   "metadata": {
    "ExecuteTime": {
     "end_time": "2025-06-30T18:54:28.790769Z",
     "start_time": "2025-06-30T18:54:28.778268Z"
    }
   },
   "cell_type": "code",
   "source": "a ** b",
   "id": "ae484c4b6c0d4427",
   "outputs": [
    {
     "data": {
      "text/plain": [
       "array([      1,     128,    6561,  262144, 9765625])"
      ]
     },
     "execution_count": 51,
     "metadata": {},
     "output_type": "execute_result"
    }
   ],
   "execution_count": 51
  },
  {
   "metadata": {
    "ExecuteTime": {
     "end_time": "2025-06-30T18:54:29.156497Z",
     "start_time": "2025-06-30T18:54:29.141621Z"
    }
   },
   "cell_type": "code",
   "source": [
    "numbers = np.array([[1, 2, 3], [4, 5, 6]])\n",
    "numbers"
   ],
   "id": "b3f3d8ec4f0f9972",
   "outputs": [
    {
     "data": {
      "text/plain": [
       "array([[1, 2, 3],\n",
       "       [4, 5, 6]])"
      ]
     },
     "execution_count": 52,
     "metadata": {},
     "output_type": "execute_result"
    }
   ],
   "execution_count": 52
  },
  {
   "metadata": {
    "ExecuteTime": {
     "end_time": "2025-06-30T18:54:29.355515Z",
     "start_time": "2025-06-30T18:54:29.342176Z"
    }
   },
   "cell_type": "code",
   "source": "numbers.sum()",
   "id": "aac50322f3faf2a4",
   "outputs": [
    {
     "data": {
      "text/plain": [
       "21"
      ]
     },
     "execution_count": 53,
     "metadata": {},
     "output_type": "execute_result"
    }
   ],
   "execution_count": 53
  },
  {
   "metadata": {
    "ExecuteTime": {
     "end_time": "2025-06-30T18:54:29.666685Z",
     "start_time": "2025-06-30T18:54:29.651806Z"
    }
   },
   "cell_type": "code",
   "source": "numbers[1].sum()",
   "id": "e526d52b0d6f94be",
   "outputs": [
    {
     "data": {
      "text/plain": [
       "15"
      ]
     },
     "execution_count": 54,
     "metadata": {},
     "output_type": "execute_result"
    }
   ],
   "execution_count": 54
  },
  {
   "metadata": {
    "ExecuteTime": {
     "end_time": "2025-06-30T18:54:29.871311Z",
     "start_time": "2025-06-30T18:54:29.855434Z"
    }
   },
   "cell_type": "code",
   "source": "numbers.mean()",
   "id": "f6ff99bd2f038f22",
   "outputs": [
    {
     "data": {
      "text/plain": [
       "3.5"
      ]
     },
     "execution_count": 55,
     "metadata": {},
     "output_type": "execute_result"
    }
   ],
   "execution_count": 55
  },
  {
   "metadata": {
    "ExecuteTime": {
     "end_time": "2025-06-30T18:54:30.247173Z",
     "start_time": "2025-06-30T18:54:30.231659Z"
    }
   },
   "cell_type": "code",
   "source": "numbers.min()",
   "id": "34422b4ae9768e72",
   "outputs": [
    {
     "data": {
      "text/plain": [
       "1"
      ]
     },
     "execution_count": 56,
     "metadata": {},
     "output_type": "execute_result"
    }
   ],
   "execution_count": 56
  },
  {
   "metadata": {
    "ExecuteTime": {
     "end_time": "2025-06-30T18:54:30.498660Z",
     "start_time": "2025-06-30T18:54:30.483087Z"
    }
   },
   "cell_type": "code",
   "source": "numbers[1].min()",
   "id": "50d0d8af110bfc65",
   "outputs": [
    {
     "data": {
      "text/plain": [
       "4"
      ]
     },
     "execution_count": 57,
     "metadata": {},
     "output_type": "execute_result"
    }
   ],
   "execution_count": 57
  },
  {
   "metadata": {
    "ExecuteTime": {
     "end_time": "2025-06-30T18:54:30.769377Z",
     "start_time": "2025-06-30T18:54:30.754517Z"
    }
   },
   "cell_type": "code",
   "source": "numbers.max()",
   "id": "18d82fdd233fbe04",
   "outputs": [
    {
     "data": {
      "text/plain": [
       "6"
      ]
     },
     "execution_count": 58,
     "metadata": {},
     "output_type": "execute_result"
    }
   ],
   "execution_count": 58
  },
  {
   "metadata": {
    "ExecuteTime": {
     "end_time": "2025-06-30T18:54:30.895646Z",
     "start_time": "2025-06-30T18:54:30.880065Z"
    }
   },
   "cell_type": "code",
   "source": "numbers[0].max()",
   "id": "1fec4ca894140bcf",
   "outputs": [
    {
     "data": {
      "text/plain": [
       "3"
      ]
     },
     "execution_count": 59,
     "metadata": {},
     "output_type": "execute_result"
    }
   ],
   "execution_count": 59
  },
  {
   "metadata": {
    "ExecuteTime": {
     "end_time": "2025-06-30T18:54:31.245208Z",
     "start_time": "2025-06-30T18:54:31.230001Z"
    }
   },
   "cell_type": "code",
   "source": [
    "numbers = np.array([[1, 2, 3], [4, 5, 6]])\n",
    "numbers"
   ],
   "id": "36f704eb3bd96599",
   "outputs": [
    {
     "data": {
      "text/plain": [
       "array([[1, 2, 3],\n",
       "       [4, 5, 6]])"
      ]
     },
     "execution_count": 60,
     "metadata": {},
     "output_type": "execute_result"
    }
   ],
   "execution_count": 60
  },
  {
   "metadata": {
    "ExecuteTime": {
     "end_time": "2025-06-30T18:54:31.506875Z",
     "start_time": "2025-06-30T18:54:31.488257Z"
    }
   },
   "cell_type": "code",
   "source": "numbers.sum(axis=0)  # column-wise sum",
   "id": "9f9d7b2071b1fbda",
   "outputs": [
    {
     "data": {
      "text/plain": [
       "array([5, 7, 9])"
      ]
     },
     "execution_count": 61,
     "metadata": {},
     "output_type": "execute_result"
    }
   ],
   "execution_count": 61
  },
  {
   "metadata": {
    "ExecuteTime": {
     "end_time": "2025-06-30T18:54:31.735361Z",
     "start_time": "2025-06-30T18:54:31.719722Z"
    }
   },
   "cell_type": "code",
   "source": "numbers.sum(axis=1)  # row-wise sum",
   "id": "357cb55adec6f8eb",
   "outputs": [
    {
     "data": {
      "text/plain": [
       "array([ 6, 15])"
      ]
     },
     "execution_count": 62,
     "metadata": {},
     "output_type": "execute_result"
    }
   ],
   "execution_count": 62
  },
  {
   "metadata": {},
   "cell_type": "markdown",
   "source": [
    "physics, chemistry, maths<br>\n",
    "min, max, avg, sum of marks of a student, topper in entire class and lowest in entire class and also subject wise"
   ],
   "id": "ee817344362fd633"
  },
  {
   "metadata": {
    "ExecuteTime": {
     "end_time": "2025-06-30T18:54:32.351615Z",
     "start_time": "2025-06-30T18:54:32.340013Z"
    }
   },
   "cell_type": "code",
   "source": [
    "grades = np.array([[85, 90, 78],\n",
    "                   [88, 92, 80],\n",
    "                   [75, 85, 89]])"
   ],
   "id": "c3d06a4aae1fdf25",
   "outputs": [],
   "execution_count": 63
  },
  {
   "metadata": {
    "ExecuteTime": {
     "end_time": "2025-06-30T18:54:32.473249Z",
     "start_time": "2025-06-30T18:54:32.465226Z"
    }
   },
   "cell_type": "code",
   "source": [
    "print(\"Min marks in Physics:\", grades[0].min())\n",
    "print(\"Min marks in Chemistry:\", grades[1].min())\n",
    "print(\"Min marks in Maths:\", grades[2].min())\n",
    "print(\"Min marks in entire class:\", grades.min())"
   ],
   "id": "8f2ca78921aa0c8d",
   "outputs": [
    {
     "name": "stdout",
     "output_type": "stream",
     "text": [
      "Min marks in Physics: 78\n",
      "Min marks in Chemistry: 80\n",
      "Min marks in Maths: 75\n",
      "Min marks in entire class: 75\n"
     ]
    }
   ],
   "execution_count": 64
  },
  {
   "metadata": {
    "ExecuteTime": {
     "end_time": "2025-06-30T18:54:33.076058Z",
     "start_time": "2025-06-30T18:54:33.060113Z"
    }
   },
   "cell_type": "code",
   "source": [
    "print(\"Max marks in Physics:\", grades[0].max())\n",
    "print(\"Max marks in Chemistry:\", grades[1].max())\n",
    "print(\"Max marks in Maths:\", grades[2].max())\n",
    "print(\"Max marks in entire class:\", grades.max())"
   ],
   "id": "b0c4fb687aafb962",
   "outputs": [
    {
     "name": "stdout",
     "output_type": "stream",
     "text": [
      "Max marks in Physics: 90\n",
      "Max marks in Chemistry: 92\n",
      "Max marks in Maths: 89\n",
      "Max marks in entire class: 92\n"
     ]
    }
   ],
   "execution_count": 65
  },
  {
   "metadata": {
    "ExecuteTime": {
     "end_time": "2025-06-30T18:54:33.299266Z",
     "start_time": "2025-06-30T18:54:33.288399Z"
    }
   },
   "cell_type": "code",
   "source": [
    "print(\"Avg marks in Physics:\", grades[0].mean())\n",
    "print(\"Avg marks in Chemistry:\", grades[1].mean())\n",
    "print(\"Avg marks in Maths:\", grades[2].mean())\n",
    "print(\"Avg marks in entire class:\", grades.mean())"
   ],
   "id": "a61cff9850cda47b",
   "outputs": [
    {
     "name": "stdout",
     "output_type": "stream",
     "text": [
      "Avg marks in Physics: 84.33333333333333\n",
      "Avg marks in Chemistry: 86.66666666666667\n",
      "Avg marks in Maths: 83.0\n",
      "Avg marks in entire class: 84.66666666666667\n"
     ]
    }
   ],
   "execution_count": 66
  },
  {
   "metadata": {
    "ExecuteTime": {
     "end_time": "2025-06-30T18:54:33.793677Z",
     "start_time": "2025-06-30T18:54:33.778415Z"
    }
   },
   "cell_type": "code",
   "source": [
    "print(\"Sum marks in Physics:\", grades[0].sum())\n",
    "print(\"Sum marks in Chemistry:\", grades[1].sum())\n",
    "print(\"Sum marks in Maths:\", grades[2].sum())\n",
    "print(\"Sum marks in entire class:\", grades.sum())"
   ],
   "id": "ca50ce9d7bfda0f4",
   "outputs": [
    {
     "name": "stdout",
     "output_type": "stream",
     "text": [
      "Sum marks in Physics: 253\n",
      "Sum marks in Chemistry: 260\n",
      "Sum marks in Maths: 249\n",
      "Sum marks in entire class: 762\n"
     ]
    }
   ],
   "execution_count": 67
  },
  {
   "metadata": {
    "ExecuteTime": {
     "end_time": "2025-06-30T18:54:34.075527Z",
     "start_time": "2025-06-30T18:54:34.059868Z"
    }
   },
   "cell_type": "code",
   "source": "grades_T = grades.T",
   "id": "65fdedacd7d6ba1e",
   "outputs": [],
   "execution_count": 68
  },
  {
   "metadata": {
    "ExecuteTime": {
     "end_time": "2025-06-30T18:54:34.599428Z",
     "start_time": "2025-06-30T18:54:34.583414Z"
    }
   },
   "cell_type": "code",
   "source": [
    "print(\"Topper in Physics: Student\", np.argmax(grades_T[0]))\n",
    "print(\"Topper in Chemistry: Student\", np.argmax(grades_T[1]))\n",
    "print(\"Topper in Maths: Student\", np.argmax(grades_T[2]))\n",
    "print(\"Topper in entire class: Student\", np.argmax(grades_T.sum(1)))"
   ],
   "id": "577207b75ab4f0cf",
   "outputs": [
    {
     "name": "stdout",
     "output_type": "stream",
     "text": [
      "Topper in Physics: Student 1\n",
      "Topper in Chemistry: Student 1\n",
      "Topper in Maths: Student 2\n",
      "Topper in entire class: Student 1\n"
     ]
    }
   ],
   "execution_count": 69
  },
  {
   "metadata": {
    "ExecuteTime": {
     "end_time": "2025-06-30T18:54:34.849347Z",
     "start_time": "2025-06-30T18:54:34.833570Z"
    }
   },
   "cell_type": "code",
   "source": [
    "print(\"Lowest in Physics: Student\", np.argmin(grades_T[0]))\n",
    "print(\"Lowest in Chemistry: Student\", np.argmin(grades_T[1]))\n",
    "print(\"Lowest in Maths: Student\", np.argmin(grades_T[2]))\n",
    "print(\"Lowest in entire class: Student\", np.argmin(grades_T.sum(1)))"
   ],
   "id": "21fdd33c591a0dfb",
   "outputs": [
    {
     "name": "stdout",
     "output_type": "stream",
     "text": [
      "Lowest in Physics: Student 2\n",
      "Lowest in Chemistry: Student 2\n",
      "Lowest in Maths: Student 0\n",
      "Lowest in entire class: Student 2\n"
     ]
    }
   ],
   "execution_count": 70
  },
  {
   "metadata": {
    "ExecuteTime": {
     "end_time": "2025-06-30T18:54:35.404944Z",
     "start_time": "2025-06-30T18:54:35.389032Z"
    }
   },
   "cell_type": "code",
   "source": "a = np.array([1, 2, 3])",
   "id": "60ffe7405e28009d",
   "outputs": [],
   "execution_count": 71
  },
  {
   "metadata": {
    "ExecuteTime": {
     "end_time": "2025-06-30T18:54:35.840363Z",
     "start_time": "2025-06-30T18:54:35.824498Z"
    }
   },
   "cell_type": "code",
   "source": "b = 10",
   "id": "980f9719f4b725f4",
   "outputs": [],
   "execution_count": 72
  },
  {
   "metadata": {
    "ExecuteTime": {
     "end_time": "2025-06-30T18:54:36.322513Z",
     "start_time": "2025-06-30T18:54:36.312008Z"
    }
   },
   "cell_type": "code",
   "source": "a + b",
   "id": "e99c2e611c4a4a09",
   "outputs": [
    {
     "data": {
      "text/plain": [
       "array([11, 12, 13])"
      ]
     },
     "execution_count": 73,
     "metadata": {},
     "output_type": "execute_result"
    }
   ],
   "execution_count": 73
  },
  {
   "metadata": {
    "ExecuteTime": {
     "end_time": "2025-06-30T18:54:36.842109Z",
     "start_time": "2025-06-30T18:54:36.828102Z"
    }
   },
   "cell_type": "code",
   "source": [
    "A = np.array([\n",
    "    [10, 20, 30],\n",
    "    [40, 50, 60],\n",
    "])  # Shape: (2, 3)\n",
    "\n",
    "B = np.array([[1], [2]])  # Shape: (2, 1)"
   ],
   "id": "b0c2260e4bca2b6b",
   "outputs": [],
   "execution_count": 74
  },
  {
   "metadata": {
    "ExecuteTime": {
     "end_time": "2025-06-30T18:54:37.363014Z",
     "start_time": "2025-06-30T18:54:37.349326Z"
    }
   },
   "cell_type": "code",
   "source": "B.shape",
   "id": "e628dad65ddc334b",
   "outputs": [
    {
     "data": {
      "text/plain": [
       "(2, 1)"
      ]
     },
     "execution_count": 75,
     "metadata": {},
     "output_type": "execute_result"
    }
   ],
   "execution_count": 75
  },
  {
   "metadata": {
    "ExecuteTime": {
     "end_time": "2025-06-30T18:54:37.869923Z",
     "start_time": "2025-06-30T18:54:37.857006Z"
    }
   },
   "cell_type": "code",
   "source": "A.shape",
   "id": "1f239978e7213fb",
   "outputs": [
    {
     "data": {
      "text/plain": [
       "(2, 3)"
      ]
     },
     "execution_count": 76,
     "metadata": {},
     "output_type": "execute_result"
    }
   ],
   "execution_count": 76
  },
  {
   "metadata": {
    "ExecuteTime": {
     "end_time": "2025-06-30T18:54:38.306809Z",
     "start_time": "2025-06-30T18:54:38.290699Z"
    }
   },
   "cell_type": "code",
   "source": "A + B",
   "id": "3bb76fc6cd8b5a9f",
   "outputs": [
    {
     "data": {
      "text/plain": [
       "array([[11, 21, 31],\n",
       "       [42, 52, 62]])"
      ]
     },
     "execution_count": 77,
     "metadata": {},
     "output_type": "execute_result"
    }
   ],
   "execution_count": 77
  },
  {
   "metadata": {
    "ExecuteTime": {
     "end_time": "2025-06-30T18:54:38.538055Z",
     "start_time": "2025-06-30T18:54:38.521810Z"
    }
   },
   "cell_type": "code",
   "source": "A * B",
   "id": "e46660dec0579d95",
   "outputs": [
    {
     "data": {
      "text/plain": [
       "array([[ 10,  20,  30],\n",
       "       [ 80, 100, 120]])"
      ]
     },
     "execution_count": 78,
     "metadata": {},
     "output_type": "execute_result"
    }
   ],
   "execution_count": 78
  },
  {
   "metadata": {
    "ExecuteTime": {
     "end_time": "2025-06-30T18:54:38.883046Z",
     "start_time": "2025-06-30T18:54:38.868199Z"
    }
   },
   "cell_type": "code",
   "source": [
    "check = np.arange(1, 20, 2)\n",
    "check"
   ],
   "id": "c80aadf9e3403df5",
   "outputs": [
    {
     "data": {
      "text/plain": [
       "array([ 1,  3,  5,  7,  9, 11, 13, 15, 17, 19])"
      ]
     },
     "execution_count": 79,
     "metadata": {},
     "output_type": "execute_result"
    }
   ],
   "execution_count": 79
  },
  {
   "metadata": {
    "ExecuteTime": {
     "end_time": "2025-06-30T18:54:39.230877Z",
     "start_time": "2025-06-30T18:54:39.218165Z"
    }
   },
   "cell_type": "code",
   "source": [
    "a = check.reshape((2, 5))\n",
    "a"
   ],
   "id": "ee5331204f1354c5",
   "outputs": [
    {
     "data": {
      "text/plain": [
       "array([[ 1,  3,  5,  7,  9],\n",
       "       [11, 13, 15, 17, 19]])"
      ]
     },
     "execution_count": 80,
     "metadata": {},
     "output_type": "execute_result"
    }
   ],
   "execution_count": 80
  },
  {
   "metadata": {
    "ExecuteTime": {
     "end_time": "2025-06-30T18:54:39.618239Z",
     "start_time": "2025-06-30T18:54:39.608663Z"
    }
   },
   "cell_type": "code",
   "source": [
    "check = np.arange(1, 20, 2)\n",
    "check.size"
   ],
   "id": "486e0934a45f3b29",
   "outputs": [
    {
     "data": {
      "text/plain": [
       "10"
      ]
     },
     "execution_count": 81,
     "metadata": {},
     "output_type": "execute_result"
    }
   ],
   "execution_count": 81
  },
  {
   "metadata": {
    "ExecuteTime": {
     "end_time": "2025-06-30T18:54:39.848080Z",
     "start_time": "2025-06-30T18:54:39.833816Z"
    }
   },
   "cell_type": "code",
   "source": [
    "a = check.reshape((5, 2))\n",
    "a"
   ],
   "id": "b5d30d1f63968ea0",
   "outputs": [
    {
     "data": {
      "text/plain": [
       "array([[ 1,  3],\n",
       "       [ 5,  7],\n",
       "       [ 9, 11],\n",
       "       [13, 15],\n",
       "       [17, 19]])"
      ]
     },
     "execution_count": 82,
     "metadata": {},
     "output_type": "execute_result"
    }
   ],
   "execution_count": 82
  },
  {
   "metadata": {
    "ExecuteTime": {
     "end_time": "2025-06-30T18:54:40.175112Z",
     "start_time": "2025-06-30T18:54:40.160117Z"
    }
   },
   "cell_type": "code",
   "source": [
    "a = check.reshape((5, 2))\n",
    "a"
   ],
   "id": "ec474929f0e14498",
   "outputs": [
    {
     "data": {
      "text/plain": [
       "array([[ 1,  3],\n",
       "       [ 5,  7],\n",
       "       [ 9, 11],\n",
       "       [13, 15],\n",
       "       [17, 19]])"
      ]
     },
     "execution_count": 83,
     "metadata": {},
     "output_type": "execute_result"
    }
   ],
   "execution_count": 83
  },
  {
   "metadata": {
    "ExecuteTime": {
     "end_time": "2025-06-30T18:54:40.571354Z",
     "start_time": "2025-06-30T18:54:40.559542Z"
    }
   },
   "cell_type": "code",
   "source": [
    "a = check.reshape((1, 5, 2))\n",
    "a"
   ],
   "id": "7c5e13d53ad0c2d9",
   "outputs": [
    {
     "data": {
      "text/plain": [
       "array([[[ 1,  3],\n",
       "        [ 5,  7],\n",
       "        [ 9, 11],\n",
       "        [13, 15],\n",
       "        [17, 19]]])"
      ]
     },
     "execution_count": 84,
     "metadata": {},
     "output_type": "execute_result"
    }
   ],
   "execution_count": 84
  },
  {
   "metadata": {
    "ExecuteTime": {
     "end_time": "2025-06-30T18:54:40.824182Z",
     "start_time": "2025-06-30T18:54:40.807980Z"
    }
   },
   "cell_type": "code",
   "source": "a.shape",
   "id": "881a3452fa74b185",
   "outputs": [
    {
     "data": {
      "text/plain": [
       "(1, 5, 2)"
      ]
     },
     "execution_count": 85,
     "metadata": {},
     "output_type": "execute_result"
    }
   ],
   "execution_count": 85
  },
  {
   "metadata": {
    "ExecuteTime": {
     "end_time": "2025-06-30T18:54:41.048206Z",
     "start_time": "2025-06-30T18:54:41.032242Z"
    }
   },
   "cell_type": "code",
   "source": [
    "a = check.reshape((1, 1, 5, 2))\n",
    "a"
   ],
   "id": "86b334bf79acc94b",
   "outputs": [
    {
     "data": {
      "text/plain": [
       "array([[[[ 1,  3],\n",
       "         [ 5,  7],\n",
       "         [ 9, 11],\n",
       "         [13, 15],\n",
       "         [17, 19]]]])"
      ]
     },
     "execution_count": 86,
     "metadata": {},
     "output_type": "execute_result"
    }
   ],
   "execution_count": 86
  },
  {
   "metadata": {
    "ExecuteTime": {
     "end_time": "2025-06-30T18:54:41.359573Z",
     "start_time": "2025-06-30T18:54:41.344313Z"
    }
   },
   "cell_type": "code",
   "source": "a.shape",
   "id": "61ee879a78b3101f",
   "outputs": [
    {
     "data": {
      "text/plain": [
       "(1, 1, 5, 2)"
      ]
     },
     "execution_count": 87,
     "metadata": {},
     "output_type": "execute_result"
    }
   ],
   "execution_count": 87
  },
  {
   "metadata": {},
   "cell_type": "markdown",
   "source": [
    "Basic Statistics<br>\n",
    "Normalization (scale to 0–1)<br>\n",
    "Topper per Subject<br>\n",
    "Add 5 grace marks to anyone scoring < 75 in any subject<br>\n",
    "Compute overall class average after grace marks<br>\n",
    "Identify students whose average is >= 90 and label them “Star Performers”<br>"
   ],
   "id": "2dcad510364e607b"
  },
  {
   "metadata": {
    "ExecuteTime": {
     "end_time": "2025-06-30T18:54:42.168836Z",
     "start_time": "2025-06-30T18:54:42.152799Z"
    }
   },
   "cell_type": "code",
   "source": [
    "students = np.array([\"Alice\", \"Bob\", \"Carol\", \"David\", \"Eva\"])\n",
    "marks = np.array([\n",
    "    [88, 92, 85],\n",
    "    [75, 78, 80],\n",
    "    [93, 88, 90],\n",
    "    [70, 72, 68],\n",
    "    [85, 90, 87]\n",
    "])"
   ],
   "id": "37117d5e20c100ef",
   "outputs": [],
   "execution_count": 88
  },
  {
   "metadata": {
    "ExecuteTime": {
     "end_time": "2025-06-30T18:54:42.610203Z",
     "start_time": "2025-06-30T18:54:42.594483Z"
    }
   },
   "cell_type": "code",
   "source": [
    "print(\"Subject-wise average:\", marks.mean(0))\n",
    "print(\"Subject-wise max:\", marks.max(0))\n",
    "print(\"Subject-wise min:\", marks.min(0))\n",
    "\n",
    "print(\"Student-wise average:\", marks.mean(1))"
   ],
   "id": "a82f5ed052ba190f",
   "outputs": [
    {
     "name": "stdout",
     "output_type": "stream",
     "text": [
      "Subject-wise average: [82.2 84.  82. ]\n",
      "Subject-wise max: [93 92 90]\n",
      "Subject-wise min: [70 72 68]\n",
      "Student-wise average: [88.33333333 77.66666667 90.33333333 70.         87.33333333]\n"
     ]
    }
   ],
   "execution_count": 89
  },
  {
   "metadata": {
    "ExecuteTime": {
     "end_time": "2025-06-30T18:54:42.997502Z",
     "start_time": "2025-06-30T18:54:42.983701Z"
    }
   },
   "cell_type": "code",
   "source": "(marks - marks.min()) / (marks.max() - marks.min())",
   "id": "b93a61ad38326e6b",
   "outputs": [
    {
     "data": {
      "text/plain": [
       "array([[0.8 , 0.96, 0.68],\n",
       "       [0.28, 0.4 , 0.48],\n",
       "       [1.  , 0.8 , 0.88],\n",
       "       [0.08, 0.16, 0.  ],\n",
       "       [0.68, 0.88, 0.76]])"
      ]
     },
     "execution_count": 90,
     "metadata": {},
     "output_type": "execute_result"
    }
   ],
   "execution_count": 90
  },
  {
   "metadata": {
    "ExecuteTime": {
     "end_time": "2025-06-30T18:54:43.315094Z",
     "start_time": "2025-06-30T18:54:43.300183Z"
    }
   },
   "cell_type": "code",
   "source": [
    "marks_T = marks.T\n",
    "\n",
    "for i in range(len(marks_T)):\n",
    "    print(f\"Topper in Subject {i} is Student {np.argmax(marks_T[i])}\")"
   ],
   "id": "944c80edc5a992cd",
   "outputs": [
    {
     "name": "stdout",
     "output_type": "stream",
     "text": [
      "Topper in Subject 0 is Student 2\n",
      "Topper in Subject 1 is Student 0\n",
      "Topper in Subject 2 is Student 2\n"
     ]
    }
   ],
   "execution_count": 91
  },
  {
   "metadata": {
    "ExecuteTime": {
     "end_time": "2025-06-30T18:54:43.628587Z",
     "start_time": "2025-06-30T18:54:43.613546Z"
    }
   },
   "cell_type": "code",
   "source": [
    "graced = marks.copy()\n",
    "graced[graced < 75] += 5\n",
    "graced"
   ],
   "id": "5a30dcee305aeec9",
   "outputs": [
    {
     "data": {
      "text/plain": [
       "array([[88, 92, 85],\n",
       "       [75, 78, 80],\n",
       "       [93, 88, 90],\n",
       "       [75, 77, 73],\n",
       "       [85, 90, 87]])"
      ]
     },
     "execution_count": 92,
     "metadata": {},
     "output_type": "execute_result"
    }
   ],
   "execution_count": 92
  },
  {
   "metadata": {
    "ExecuteTime": {
     "end_time": "2025-06-30T18:54:44.028007Z",
     "start_time": "2025-06-30T18:54:44.016127Z"
    }
   },
   "cell_type": "code",
   "source": "print(\"Overall class average after grace marks is:\", graced.mean())",
   "id": "e2464d83e127a0d4",
   "outputs": [
    {
     "name": "stdout",
     "output_type": "stream",
     "text": [
      "Overall class average after grace marks is: 83.73333333333333\n"
     ]
    }
   ],
   "execution_count": 93
  },
  {
   "metadata": {
    "ExecuteTime": {
     "end_time": "2025-06-30T18:54:44.447365Z",
     "start_time": "2025-06-30T18:54:44.432098Z"
    }
   },
   "cell_type": "code",
   "source": [
    "for i, avg in enumerate(marks.mean(1)):\n",
    "    if avg >= 90:\n",
    "        print(f\"Student {i} is a Star Performer\")"
   ],
   "id": "a1af1f506b97857e",
   "outputs": [
    {
     "name": "stdout",
     "output_type": "stream",
     "text": [
      "Student 2 is a Star Performer\n"
     ]
    }
   ],
   "execution_count": 94
  }
 ],
 "metadata": {
  "kernelspec": {
   "display_name": "Python 3",
   "language": "python",
   "name": "python3"
  },
  "language_info": {
   "codemirror_mode": {
    "name": "ipython",
    "version": 2
   },
   "file_extension": ".py",
   "mimetype": "text/x-python",
   "name": "python",
   "nbconvert_exporter": "python",
   "pygments_lexer": "ipython2",
   "version": "2.7.6"
  }
 },
 "nbformat": 4,
 "nbformat_minor": 5
}
