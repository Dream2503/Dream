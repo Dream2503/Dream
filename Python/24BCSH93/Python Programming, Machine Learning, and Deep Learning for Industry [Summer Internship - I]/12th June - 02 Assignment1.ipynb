{
 "cells": [
  {
   "cell_type": "markdown",
   "id": "ba354da5b3197e7a",
   "metadata": {},
   "source": "## Assignment 1"
  },
  {
   "cell_type": "markdown",
   "id": "e7fcf4a3187a1ab4",
   "metadata": {},
   "source": [
    "1. Given list = [1, [2, 3], [4, [5, 6]]], extract the number 6 using indexing only."
   ]
  },
  {
   "cell_type": "code",
   "id": "initial_id",
   "metadata": {
    "collapsed": true,
    "jupyter": {
     "outputs_hidden": true
    },
    "ExecuteTime": {
     "end_time": "2025-06-30T14:54:22.368560Z",
     "start_time": "2025-06-30T14:54:22.346250Z"
    }
   },
   "source": [
    "my_list = [1, [2, 3], [4, [5, 6]]]\n",
    "my_list[2][1][1]"
   ],
   "outputs": [
    {
     "data": {
      "text/plain": [
       "6"
      ]
     },
     "execution_count": 1,
     "metadata": {},
     "output_type": "execute_result"
    }
   ],
   "execution_count": 1
  },
  {
   "cell_type": "markdown",
   "id": "35fc523ea0531781",
   "metadata": {},
   "source": [
    "2. list1 = [10, 20, 30] - Convert this list into a string: \"10-20-30\" using only string/list methods."
   ]
  },
  {
   "cell_type": "code",
   "id": "db94c95a0eb84677",
   "metadata": {
    "ExecuteTime": {
     "end_time": "2025-06-30T14:54:23.600294Z",
     "start_time": "2025-06-30T14:54:23.596277Z"
    }
   },
   "source": [
    "list1 = [10, 20, 30]\n",
    "\n",
    "for i in range(len(list1)):\n",
    "    list1[i] = str(list1[i])\n",
    "\n",
    "print(\"-\".join(list1))"
   ],
   "outputs": [
    {
     "name": "stdout",
     "output_type": "stream",
     "text": [
      "10-20-30\n"
     ]
    }
   ],
   "execution_count": 2
  },
  {
   "cell_type": "markdown",
   "id": "a9a912178f2c60a8",
   "metadata": {},
   "source": [
    "3. list2 = [5, 10, 15, 20] - Remove the second element and return the resulting list in reverse order."
   ]
  },
  {
   "cell_type": "code",
   "id": "5325ba67dec2fed5",
   "metadata": {
    "ExecuteTime": {
     "end_time": "2025-06-30T14:54:24.462199Z",
     "start_time": "2025-06-30T14:54:24.451864Z"
    }
   },
   "source": [
    "list2 = [5, 10, 15, 20]\n",
    "list2.pop(1)\n",
    "list2[::-1]"
   ],
   "outputs": [
    {
     "data": {
      "text/plain": [
       "[20, 15, 5]"
      ]
     },
     "execution_count": 3,
     "metadata": {},
     "output_type": "execute_result"
    }
   ],
   "execution_count": 3
  },
  {
   "cell_type": "markdown",
   "id": "7af6185c416fcfab",
   "metadata": {},
   "source": [
    "4. list3 = [3, 1, 4, 1, 5, 9] - Sort the list in descending order without modifying the original"
   ]
  },
  {
   "cell_type": "code",
   "id": "e2f38ea3672a12ad",
   "metadata": {
    "ExecuteTime": {
     "end_time": "2025-06-30T14:54:25.643539Z",
     "start_time": "2025-06-30T14:54:25.631468Z"
    }
   },
   "source": [
    "list3 = [3, 1, 4, 1, 5, 9]\n",
    "l = sorted(list3, reverse=True)\n",
    "l[::-1]"
   ],
   "outputs": [
    {
     "data": {
      "text/plain": [
       "[1, 1, 3, 4, 5, 9]"
      ]
     },
     "execution_count": 4,
     "metadata": {},
     "output_type": "execute_result"
    }
   ],
   "execution_count": 4
  },
  {
   "cell_type": "markdown",
   "id": "48fda6ac0e3c7b3a",
   "metadata": {},
   "source": [
    "5. Given t = (1, 2, [3, 4]), modify the list inside the tuple to [7, 8]. (Explain why this works despite tuples being immutable.)"
   ]
  },
  {
   "cell_type": "code",
   "id": "50d7d641e815fe4d",
   "metadata": {
    "ExecuteTime": {
     "end_time": "2025-06-30T14:54:26.685770Z",
     "start_time": "2025-06-30T14:54:26.675583Z"
    }
   },
   "source": [
    "t = (1, 2, [3, 4])\n",
    "t[2].append(5)\n",
    "t"
   ],
   "outputs": [
    {
     "data": {
      "text/plain": [
       "(1, 2, [3, 4, 5])"
      ]
     },
     "execution_count": 5,
     "metadata": {},
     "output_type": "execute_result"
    }
   ],
   "execution_count": 5
  },
  {
   "cell_type": "markdown",
   "id": "10ce3a2c82f4cd7",
   "metadata": {},
   "source": [
    "Even though a tuple is immutable, here we are appending an element to the list inside the tuple, as list is mutable(i.e. it allows changes in member values, without create a new object or changing the current memory address), so for tuple it looks like there was no change in any memory address of its own elements, that's why there's no error and tuple permits it.\n",
    "In short, tuple allows changes in it member until the member's memory location is not changed in any means"
   ]
  },
  {
   "cell_type": "markdown",
   "id": "7fdf5e3bba35a1ee",
   "metadata": {},
   "source": [
    "6. Convert the tuple t = (1, 2, 3, 4, 5) into a dictionary where key = index, value = item."
   ]
  },
  {
   "cell_type": "code",
   "id": "cc1b7d732be922e5",
   "metadata": {
    "ExecuteTime": {
     "end_time": "2025-06-30T14:54:28.237318Z",
     "start_time": "2025-06-30T14:54:28.210288Z"
    }
   },
   "source": [
    "t = (1, 2, 3, 4, 5)\n",
    "d = {}\n",
    "\n",
    "for i in range(len(t)):\n",
    "    d[i] = t[i]\n",
    "\n",
    "d"
   ],
   "outputs": [
    {
     "data": {
      "text/plain": [
       "{0: 1, 1: 2, 2: 3, 3: 4, 4: 5}"
      ]
     },
     "execution_count": 6,
     "metadata": {},
     "output_type": "execute_result"
    }
   ],
   "execution_count": 6
  },
  {
   "cell_type": "markdown",
   "id": "b83b0d18d41a2d05",
   "metadata": {},
   "source": [
    "7. Use unpacking to extract the first second and the rest from: t = (10, 20, 30, 40)"
   ]
  },
  {
   "cell_type": "code",
   "id": "77e0835e48495749",
   "metadata": {
    "ExecuteTime": {
     "end_time": "2025-06-30T14:54:29.191720Z",
     "start_time": "2025-06-30T14:54:29.182544Z"
    }
   },
   "source": [
    "t = (10, 20, 30, 40)\n",
    "first, second, *rest = t\n",
    "print(\"first:\", first)\n",
    "print(\"second:\", second)\n",
    "print(\"rest:\", rest)"
   ],
   "outputs": [
    {
     "name": "stdout",
     "output_type": "stream",
     "text": [
      "first: 10\n",
      "second: 20\n",
      "rest: [30, 40]\n"
     ]
    }
   ],
   "execution_count": 7
  },
  {
   "cell_type": "markdown",
   "id": "ca1b3cc22018b778",
   "metadata": {},
   "source": [
    "8. Given nested tup = (1, (2, (3, (4,)))), extract 4 using multiple levels of indexing."
   ]
  },
  {
   "cell_type": "code",
   "id": "d04fe98eb952daaf",
   "metadata": {
    "ExecuteTime": {
     "end_time": "2025-06-30T14:54:30.284052Z",
     "start_time": "2025-06-30T14:54:30.271743Z"
    }
   },
   "source": [
    "tup = (1, (2, (3, (4,))))\n",
    "tup[1][1][1][0]"
   ],
   "outputs": [
    {
     "data": {
      "text/plain": [
       "4"
      ]
     },
     "execution_count": 8,
     "metadata": {},
     "output_type": "execute_result"
    }
   ],
   "execution_count": 8
  },
  {
   "cell_type": "markdown",
   "id": "879d1848356c3796",
   "metadata": {},
   "source": [
    "9. From tup = ((1, 2), (3, 4), (5, 6)), flatten it into a single tuple: (1, 2, 3, 4, 5, 6)."
   ]
  },
  {
   "cell_type": "code",
   "id": "9717efbb74cfa906",
   "metadata": {
    "ExecuteTime": {
     "end_time": "2025-06-30T14:54:31.083485Z",
     "start_time": "2025-06-30T14:54:31.073961Z"
    }
   },
   "source": [
    "tup = ((1, 2), (3, 4), (5, 6))\n",
    "res = tuple()\n",
    "\n",
    "for element in tup:\n",
    "    res += element\n",
    "\n",
    "res"
   ],
   "outputs": [
    {
     "data": {
      "text/plain": [
       "(1, 2, 3, 4, 5, 6)"
      ]
     },
     "execution_count": 9,
     "metadata": {},
     "output_type": "execute_result"
    }
   ],
   "execution_count": 9
  },
  {
   "cell_type": "markdown",
   "id": "e1759ffe3d0bdaef",
   "metadata": {},
   "source": [
    "10. Given s = \"abracadabra\", remove all occurrences of the character 'a' without using loops."
   ]
  },
  {
   "cell_type": "code",
   "id": "a8acae4044a62f01",
   "metadata": {
    "ExecuteTime": {
     "end_time": "2025-06-30T14:54:31.803135Z",
     "start_time": "2025-06-30T14:54:31.792072Z"
    }
   },
   "source": [
    "s = \"abracadabra\"\n",
    "s = s.replace(\"a\", \"\")\n",
    "s"
   ],
   "outputs": [
    {
     "data": {
      "text/plain": [
       "'brcdbr'"
      ]
     },
     "execution_count": 10,
     "metadata": {},
     "output_type": "execute_result"
    }
   ],
   "execution_count": 10
  },
  {
   "cell_type": "markdown",
   "id": "7ba49ba136f17139",
   "metadata": {},
   "source": [
    "11. Reverse the words in the string \"The quick brown fox\" using only string methods."
   ]
  },
  {
   "cell_type": "code",
   "id": "7da785a96a36941c",
   "metadata": {
    "ExecuteTime": {
     "end_time": "2025-06-30T14:54:32.508307Z",
     "start_time": "2025-06-30T14:54:32.491769Z"
    }
   },
   "source": [
    "s = \"The quick brown fox\"\n",
    "s = s.split()\n",
    "s[::-1]"
   ],
   "outputs": [
    {
     "data": {
      "text/plain": [
       "['fox', 'brown', 'quick', 'The']"
      ]
     },
     "execution_count": 11,
     "metadata": {},
     "output_type": "execute_result"
    }
   ],
   "execution_count": 11
  },
  {
   "cell_type": "markdown",
   "id": "fb5e4c7f196afdd6",
   "metadata": {},
   "source": [
    "12. Convert \"Python is FUN\" into \"python is fun\" using a single line of chained string methods."
   ]
  },
  {
   "cell_type": "code",
   "id": "cb55db1181c5f571",
   "metadata": {
    "ExecuteTime": {
     "end_time": "2025-06-30T14:54:33.152727Z",
     "start_time": "2025-06-30T14:54:33.141704Z"
    }
   },
   "source": [
    "s = \"Python is FUN\"\n",
    "s = s.lower()\n",
    "s"
   ],
   "outputs": [
    {
     "data": {
      "text/plain": [
       "'python is fun'"
      ]
     },
     "execution_count": 12,
     "metadata": {},
     "output_type": "execute_result"
    }
   ],
   "execution_count": 12
  },
  {
   "cell_type": "markdown",
   "id": "4e85914c8eecf5f4",
   "metadata": {},
   "source": [
    "13. Count how many vowel are in \"Intelligence\" using only count() method (no loop)."
   ]
  },
  {
   "cell_type": "code",
   "id": "8bdef9e354debdfd",
   "metadata": {
    "ExecuteTime": {
     "end_time": "2025-06-30T14:54:33.962537Z",
     "start_time": "2025-06-30T14:54:33.942744Z"
    }
   },
   "source": [
    "s = \"Intelligence\"\n",
    "r = s.lower()\n",
    "cnt = r.count(\"a\")\n",
    "cnt += r.count(\"e\")\n",
    "cnt += r.count(\"i\")\n",
    "cnt += r.count(\"o\")\n",
    "cnt += r.count(\"u\")\n",
    "cnt"
   ],
   "outputs": [
    {
     "data": {
      "text/plain": [
       "5"
      ]
     },
     "execution_count": 13,
     "metadata": {},
     "output_type": "execute_result"
    }
   ],
   "execution_count": 13
  },
  {
   "cell_type": "markdown",
   "id": "a206309be83a3bb7",
   "metadata": {},
   "source": [
    "14. Given s = \"level\", check if it's a palindrome without using reversed() or loops."
   ]
  },
  {
   "cell_type": "code",
   "id": "728cd2b2ba5aa0b4",
   "metadata": {
    "ExecuteTime": {
     "end_time": "2025-06-30T14:54:34.914381Z",
     "start_time": "2025-06-30T14:54:34.905428Z"
    }
   },
   "source": [
    "s = \"level\"\n",
    "\n",
    "if s == s[::-1]:\n",
    "    print(f\"{s} is a palindrome\")\n",
    "else:\n",
    "    print(f\"{s} is not a palindrome\")"
   ],
   "outputs": [
    {
     "name": "stdout",
     "output_type": "stream",
     "text": [
      "level is a palindrome\n"
     ]
    }
   ],
   "execution_count": 14
  },
  {
   "cell_type": "markdown",
   "id": "746e4294d0f02b09",
   "metadata": {},
   "source": [
    "15. Given d = {\"a\": 1, \"b\": 2, \"c: 3}, swap keys and values using only dictionary methods."
   ]
  },
  {
   "cell_type": "code",
   "id": "503c8f67b008b5a3",
   "metadata": {
    "ExecuteTime": {
     "end_time": "2025-06-30T14:54:36.326968Z",
     "start_time": "2025-06-30T14:54:36.305660Z"
    }
   },
   "source": [
    "d = {\"a\": 1, \"b\": 2, \"c\": 3}\n",
    "r = {}\n",
    "\n",
    "for k, v in d.items():\n",
    "    r[v] = k\n",
    "\n",
    "d = r\n",
    "r"
   ],
   "outputs": [
    {
     "data": {
      "text/plain": [
       "{1: 'a', 2: 'b', 3: 'c'}"
      ]
     },
     "execution_count": 15,
     "metadata": {},
     "output_type": "execute_result"
    }
   ],
   "execution_count": 15
  },
  {
   "cell_type": "markdown",
   "id": "f579a2dbfe28eaf0",
   "metadata": {},
   "source": [
    "16. Merge these two dicts into one: d1 = {\"x\": 1, \"y\": 2} , d2 = {\"y\": 3, \"z\": 4} - ensuring overlapping keys take value from d2."
   ]
  },
  {
   "cell_type": "code",
   "id": "b4d01fdce99f75b",
   "metadata": {
    "ExecuteTime": {
     "end_time": "2025-06-30T14:54:37.324371Z",
     "start_time": "2025-06-30T14:54:37.311936Z"
    }
   },
   "source": [
    "d1 = {\"x\": 1, \"y\": 2}\n",
    "d2 = {\"y\": 3, \"z\": 4}\n",
    "d1.update(d2)\n",
    "d1"
   ],
   "outputs": [
    {
     "data": {
      "text/plain": [
       "{'x': 1, 'y': 3, 'z': 4}"
      ]
     },
     "execution_count": 16,
     "metadata": {},
     "output_type": "execute_result"
    }
   ],
   "execution_count": 16
  },
  {
   "cell_type": "markdown",
   "id": "5885690fef9eedd8",
   "metadata": {},
   "source": [
    "17. From d = {\"x\": [1, 2], \"y\": [3, 4]}, change all list values to their sum."
   ]
  },
  {
   "cell_type": "code",
   "id": "35581e10a55b70b3",
   "metadata": {
    "ExecuteTime": {
     "end_time": "2025-06-30T14:54:38.667297Z",
     "start_time": "2025-06-30T14:54:38.655090Z"
    }
   },
   "source": [
    "d = {\"x\": [1, 2], \"y\": [3, 4]}\n",
    "\n",
    "for k, v in d.items():\n",
    "    d[k] = sum(v)\n",
    "\n",
    "d"
   ],
   "outputs": [
    {
     "data": {
      "text/plain": [
       "{'x': 3, 'y': 7}"
      ]
     },
     "execution_count": 17,
     "metadata": {},
     "output_type": "execute_result"
    }
   ],
   "execution_count": 17
  },
  {
   "cell_type": "markdown",
   "id": "4fa9c5b5457d3676",
   "metadata": {},
   "source": [
    "18. From d = {\"x\": 10, \"y\": 20, \"z\": 30}, remove the key with the highest value."
   ]
  },
  {
   "cell_type": "code",
   "id": "6a1e20516cca1eea",
   "metadata": {
    "ExecuteTime": {
     "end_time": "2025-06-30T14:54:41.048757Z",
     "start_time": "2025-06-30T14:54:41.026441Z"
    }
   },
   "source": [
    "d = {\"x\": 10, \"y\": 20, \"z\": 30}\n",
    "m = max(d.values())\n",
    "\n",
    "for k, v in d.items():\n",
    "    if v == m:\n",
    "        m = k\n",
    "        break\n",
    "\n",
    "del d[m]\n",
    "d"
   ],
   "outputs": [
    {
     "data": {
      "text/plain": [
       "{'x': 10, 'y': 20}"
      ]
     },
     "execution_count": 18,
     "metadata": {},
     "output_type": "execute_result"
    }
   ],
   "execution_count": 18
  },
  {
   "cell_type": "markdown",
   "id": "2ca6dae2afbd074c",
   "metadata": {},
   "source": [
    "19. Given list = [\"a=1\", \"b=2\", \"c=3\"], convert it into a dictionary."
   ]
  },
  {
   "cell_type": "code",
   "id": "167d57003c6036c2",
   "metadata": {
    "ExecuteTime": {
     "end_time": "2025-06-30T14:54:42.251630Z",
     "start_time": "2025-06-30T14:54:42.240706Z"
    }
   },
   "source": [
    "l = [\"a=1\", \"b=2\", \"c=3\"]\n",
    "d = {}\n",
    "\n",
    "for element in l:\n",
    "    k, v = element.split(\"=\")\n",
    "    d[k] = int(v)\n",
    "\n",
    "d"
   ],
   "outputs": [
    {
     "data": {
      "text/plain": [
       "{'a': 1, 'b': 2, 'c': 3}"
      ]
     },
     "execution_count": 19,
     "metadata": {},
     "output_type": "execute_result"
    }
   ],
   "execution_count": 19
  },
  {
   "cell_type": "markdown",
   "id": "f5f1595bb0098707",
   "metadata": {},
   "source": [
    "20. Convert the dictionary {\"a\": [1, 2], \"b\": [3, 4]} into a list of tuples like: [(\"a\", 1), (\"a\", 2), (\"b\", 3), (\"b\", 4)] - without using loops."
   ]
  },
  {
   "cell_type": "code",
   "id": "7339bfd8619413e",
   "metadata": {
    "ExecuteTime": {
     "end_time": "2025-06-30T14:54:43.253895Z",
     "start_time": "2025-06-30T14:54:43.242118Z"
    }
   },
   "source": [
    "d = {\"a\": [1, 2], \"b\": [3, 4]}\n",
    "l = []\n",
    "\n",
    "for k, v in d.items():\n",
    "    for e in v:\n",
    "        l.append((k, e))\n",
    "\n",
    "l"
   ],
   "outputs": [
    {
     "data": {
      "text/plain": [
       "[('a', 1), ('a', 2), ('b', 3), ('b', 4)]"
      ]
     },
     "execution_count": 20,
     "metadata": {},
     "output_type": "execute_result"
    }
   ],
   "execution_count": 20
  }
 ],
 "metadata": {
  "kernelspec": {
   "display_name": "Python 3 (ipykernel)",
   "language": "python",
   "name": "python3"
  },
  "language_info": {
   "codemirror_mode": {
    "name": "ipython",
    "version": 3
   },
   "file_extension": ".py",
   "mimetype": "text/x-python",
   "name": "python",
   "nbconvert_exporter": "python",
   "pygments_lexer": "ipython3",
   "version": "3.12.10"
  }
 },
 "nbformat": 4,
 "nbformat_minor": 5
}
