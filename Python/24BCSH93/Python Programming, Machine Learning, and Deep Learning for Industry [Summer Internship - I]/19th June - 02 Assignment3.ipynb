{
 "cells": [
  {
   "metadata": {},
   "cell_type": "markdown",
   "source": "# Assignment 3",
   "id": "3a9e19b1c17145bb"
  },
  {
   "metadata": {},
   "cell_type": "markdown",
   "source": "1. Create a class ATM with attributes: balance, and methods: deposit, withdraw, and show_balance. Add validation so that withdrawal fails if the balance is insufficient, and implement a transaction history feature.",
   "id": "781a26f2bc4d0b54"
  },
  {
   "cell_type": "code",
   "id": "initial_id",
   "metadata": {
    "collapsed": true,
    "ExecuteTime": {
     "end_time": "2025-06-19T07:10:57.400782Z",
     "start_time": "2025-06-19T07:10:57.388232Z"
    }
   },
   "source": [
    "class ATM:\n",
    "    def __init__(self):\n",
    "        self.history = \"Account Created\\n\"\n",
    "        self.balance = 0\n",
    "\n",
    "    def deposit(self, value):\n",
    "        if value > 0:\n",
    "            self.balance += value\n",
    "            self.history += f\"Deposited {value} successfully\\n\"\n",
    "\n",
    "        else:\n",
    "            self.history += f\"Deposited {value} unsuccessful, Reason: Negative value cannot be deposited\\n\"\n",
    "\n",
    "    def withdraw(self, value):\n",
    "        if 0 < value <= self.balance:\n",
    "            self.balance -= value\n",
    "            self.history += f\"Withdrawn {value} successfully\\n\"\n",
    "\n",
    "        elif value < 0:\n",
    "            self.history += f\"Deposited {value} unsuccessful, Reason: Negative value cannot be withdrawn\\n\"\n",
    "\n",
    "        else:\n",
    "            self.history += f\"Withdrawn {value} unsuccessful, Reason: Insufficient funds in the account\\n\"\n",
    "\n",
    "    def show_balance(self):\n",
    "        print(\"Current balance: \", self.balance)\n",
    "\n",
    "    def transaction_history(self):\n",
    "        print(\"\\nTransaction History:\\n\", self.history, sep=\"\")"
   ],
   "outputs": [],
   "execution_count": 1
  },
  {
   "metadata": {
    "ExecuteTime": {
     "end_time": "2025-06-19T07:10:57.732540Z",
     "start_time": "2025-06-19T07:10:57.725954Z"
    }
   },
   "cell_type": "code",
   "source": [
    "account = ATM()\n",
    "\n",
    "account.deposit(1000)\n",
    "account.deposit(-50)\n",
    "\n",
    "account.withdraw(200)\n",
    "account.withdraw(10000)\n",
    "account.withdraw(-500)\n",
    "\n",
    "account.show_balance()\n",
    "account.transaction_history()"
   ],
   "id": "e0d71b4d48f465b4",
   "outputs": [
    {
     "name": "stdout",
     "output_type": "stream",
     "text": [
      "Current balance:  800\n",
      "\n",
      "Transaction History:\n",
      "Account Created\n",
      "Deposited 1000 successfully\n",
      "Deposited -50 unsuccessful, Reason: Negative value cannot be deposited\n",
      "Withdrawn 200 successfully\n",
      "Withdrawn 10000 unsuccessful, Reason: Insufficient funds in the account\n",
      "Deposited -500 unsuccessful, Reason: Negative value cannot be withdrawn\n",
      "\n"
     ]
    }
   ],
   "execution_count": 2
  },
  {
   "metadata": {},
   "cell_type": "markdown",
   "source": "2. Write a class ShapeOperations with methods like area_circle, area_square, etc. Write another method get_area(shape, *args) that dynamically calls the corresponding method based on the value of shape.",
   "id": "65af55cb342f6fc3"
  },
  {
   "metadata": {
    "ExecuteTime": {
     "end_time": "2025-06-19T07:10:58.389447Z",
     "start_time": "2025-06-19T07:10:58.381690Z"
    }
   },
   "cell_type": "code",
   "source": [
    "class ShapeOperation:\n",
    "    def area_circle(self, radius):\n",
    "        return 3.14159 * radius ** 2\n",
    "\n",
    "    def area_square(self, side):\n",
    "        return side ** 2\n",
    "\n",
    "    def get_area(self, shape, *args):\n",
    "        if shape == \"circle\":\n",
    "            return self.area_circle(*args)\n",
    "\n",
    "        elif shape == \"square\":\n",
    "            return self.area_square(*args)\n",
    "\n",
    "        else:\n",
    "            print(f\"{shape} shape is not supported\")\n"
   ],
   "id": "f09f26d8bfd66a47",
   "outputs": [],
   "execution_count": 3
  },
  {
   "metadata": {
    "ExecuteTime": {
     "end_time": "2025-06-19T07:10:58.710022Z",
     "start_time": "2025-06-19T07:10:58.704405Z"
    }
   },
   "cell_type": "code",
   "source": [
    "shapes = ShapeOperation()\n",
    "\n",
    "print(\"Area of circle (r=5):\", shapes.get_area(\"circle\", 5))\n",
    "print(\"Area of square (s=4):\", shapes.get_area(\"square\", 4))\n",
    "print(shapes.get_area(\"circle\",10))\n",
    "shapes.get_area(\"Triangle\", 2, 3)"
   ],
   "id": "5c5e49af764bb3ac",
   "outputs": [
    {
     "name": "stdout",
     "output_type": "stream",
     "text": [
      "Area of circle (r=5): 78.53975\n",
      "Area of square (s=4): 16\n",
      "314.159\n",
      "Triangle shape is not supported\n"
     ]
    }
   ],
   "execution_count": 4
  },
  {
   "metadata": {},
   "cell_type": "markdown",
   "source": "3. Design a class Product with subclasses Book, Electronics, and Grocery. Each should have a method to calculate discount. Create a class Cart that uses a function to apply discounts and compute total price dynamically.",
   "id": "def0d40fa9d78527"
  },
  {
   "metadata": {
    "ExecuteTime": {
     "end_time": "2025-06-19T07:10:59.385332Z",
     "start_time": "2025-06-19T07:10:59.377002Z"
    }
   },
   "cell_type": "code",
   "source": [
    "class Product:\n",
    "    def __init__(self, name, price):\n",
    "        self.name = name\n",
    "        self.price = price\n",
    "\n",
    "    def calculate_discount(self):\n",
    "        return 0\n",
    "\n",
    "class Book(Product):\n",
    "    def calculate_discount(self):\n",
    "        return self.price * 0.10\n",
    "\n",
    "class Electronics(Product):\n",
    "    def calculate_discount(self):\n",
    "        return self.price * 0.05\n",
    "\n",
    "class Grocery(Product):\n",
    "    def calculate_discount(self):\n",
    "        return self.price * 0.02\n",
    "\n",
    "class Cart:\n",
    "    def __init__(self):\n",
    "        self.items = []\n",
    "\n",
    "    def add_product(self, product):\n",
    "        self.items.append(product)\n",
    "\n",
    "    def total_price(self):\n",
    "        total = 0\n",
    "\n",
    "        for item in self.items:\n",
    "            discount = item.calculate_discount()\n",
    "            final_price = item.price - discount\n",
    "            total += final_price\n",
    "            print(f\"{item.name}: {item.price} - {discount} = {final_price}\")\n",
    "\n",
    "        return total"
   ],
   "id": "9e7f49502b8e2a74",
   "outputs": [],
   "execution_count": 5
  },
  {
   "metadata": {
    "ExecuteTime": {
     "end_time": "2025-06-19T07:10:59.743249Z",
     "start_time": "2025-06-19T07:10:59.737676Z"
    }
   },
   "cell_type": "code",
   "source": [
    "cart = Cart()\n",
    "\n",
    "cart.add_product(Book(\"Python Basics\", 500))\n",
    "cart.add_product(Electronics(\"Headphones\", 1500))\n",
    "cart.add_product(Grocery(\"Rice (1kg)\", 120))\n",
    "\n",
    "print(f\"\\nTotal Amount Payable: {cart.total_price()}\")"
   ],
   "id": "93b952303fa29aa3",
   "outputs": [
    {
     "name": "stdout",
     "output_type": "stream",
     "text": [
      "Python Basics: 500 - 50.0 = 450.0\n",
      "Headphones: 1500 - 75.0 = 1425.0\n",
      "Rice (1kg): 120 - 2.4 = 117.6\n",
      "\n",
      "Total Amount Payable: 1992.6\n"
     ]
    }
   ],
   "execution_count": 6
  },
  {
   "metadata": {},
   "cell_type": "markdown",
   "source": "4. Base class Student holds name and ID. Subclass ExamStudent adds marks, and ProjectStudent adds project score. Write a method calculate_grade() in both. Use super() to demonstrate shared logic.",
   "id": "ccfbe03851361d7e"
  },
  {
   "metadata": {
    "ExecuteTime": {
     "end_time": "2025-06-19T07:11:00.681987Z",
     "start_time": "2025-06-19T07:11:00.671947Z"
    }
   },
   "cell_type": "code",
   "source": [
    "class Student:\n",
    "    def __init__(self, name, ID):\n",
    "        self.name = name\n",
    "        self.id = ID\n",
    "\n",
    "    def student_info(self):\n",
    "        return f\"{self.name} (ID: {self.id})\"\n",
    "\n",
    "class ExamStudent(Student):\n",
    "    def __init__(self, name, ID, marks):\n",
    "        super().__init__(name, ID)\n",
    "        self.marks = marks\n",
    "\n",
    "    def calculate_grade(self):\n",
    "        if self.marks >= 90:\n",
    "            grade = \"A\"\n",
    "        elif self.marks >= 75:\n",
    "            grade = \"B\"\n",
    "        elif self.marks >= 60:\n",
    "            grade = \"C\"\n",
    "        else:\n",
    "            grade = 'D'\n",
    "        return f\"{super().student_info()} - Exam Grade: {grade}\"\n",
    "\n",
    "\n",
    "class ProjectStudent(Student):\n",
    "    def __init__(self, name, ID, score):\n",
    "        super().__init__(name, ID)\n",
    "        self.score = score\n",
    "\n",
    "    def calculate_grade(self):\n",
    "        if self.score >= 90:\n",
    "            grade = \"A\"\n",
    "        elif self.score >= 75:\n",
    "            grade = \"B\"\n",
    "        elif self.score >= 60:\n",
    "            grade = \"C\"\n",
    "        else:\n",
    "            grade = 'D'\n",
    "        return f\"{super().student_info()} - Exam Grade: {grade}\""
   ],
   "id": "5115710e4e007718",
   "outputs": [],
   "execution_count": 7
  },
  {
   "metadata": {
    "ExecuteTime": {
     "end_time": "2025-06-19T07:11:01.153777Z",
     "start_time": "2025-06-19T07:11:01.147729Z"
    }
   },
   "cell_type": "code",
   "source": [
    "exam_student = ExamStudent(\"ABC\", \"001\", 88)\n",
    "project_student = ProjectStudent(\"DEF\", \"002\", 42)\n",
    "\n",
    "print(exam_student.calculate_grade())\n",
    "print(project_student.calculate_grade())"
   ],
   "id": "b9aeb749cb61490b",
   "outputs": [
    {
     "name": "stdout",
     "output_type": "stream",
     "text": [
      "ABC (ID: 001) - Exam Grade: B\n",
      "DEF (ID: 002) - Exam Grade: D\n"
     ]
    }
   ],
   "execution_count": 8
  },
  {
   "metadata": {},
   "cell_type": "markdown",
   "source": [
    "5. Write a recursive function conditional_reverse(s) that reverses a string but keeps all digits at the same position.<br>\n",
    "For example:<br>\n",
    "Input: \"a1b2c3\"<br>\n",
    "Output: \"c1b2a3\"<br>\n",
    "Remark: Digits (1, 2, 3) must stay where they are — in their original positions.The rest (a, b, c) are reversed, while digits are untouched."
   ],
   "id": "47c9dc6427d7ba92"
  },
  {
   "metadata": {
    "ExecuteTime": {
     "end_time": "2025-06-19T07:11:01.966413Z",
     "start_time": "2025-06-19T07:11:01.957740Z"
    }
   },
   "cell_type": "code",
   "source": [
    "def conditional_reverse(string):\n",
    "    length = len(string)\n",
    "\n",
    "    if length == 2:\n",
    "        return \"\"\n",
    "\n",
    "    if length >= 4:\n",
    "        char1 = string[0]\n",
    "        char2 = string[-2]\n",
    "        string = char2 + string[1:-2] + char1 + string[-1]\n",
    "        conditional_reverse(string[2:-2])\n",
    "        return string\n",
    "\n",
    "print(conditional_reverse(\"a1b2c3\"))"
   ],
   "id": "ad85b249afd72eb2",
   "outputs": [
    {
     "name": "stdout",
     "output_type": "stream",
     "text": [
      "c1b2a3\n"
     ]
    }
   ],
   "execution_count": 9
  }
 ],
 "metadata": {
  "kernelspec": {
   "display_name": "Python 3",
   "language": "python",
   "name": "python3"
  },
  "language_info": {
   "codemirror_mode": {
    "name": "ipython",
    "version": 2
   },
   "file_extension": ".py",
   "mimetype": "text/x-python",
   "name": "python",
   "nbconvert_exporter": "python",
   "pygments_lexer": "ipython2",
   "version": "2.7.6"
  }
 },
 "nbformat": 4,
 "nbformat_minor": 5
}
