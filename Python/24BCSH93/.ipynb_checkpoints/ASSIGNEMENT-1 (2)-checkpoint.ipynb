{
 "cells": [
  {
   "cell_type": "markdown",
   "id": "ca8b752c",
   "metadata": {},
   "source": [
    "# ASSIGNEMENT 1"
   ]
  },
  {
   "cell_type": "markdown",
   "id": "1a778785",
   "metadata": {},
   "source": [
    "Q1.Given List = [1,[2,3],[4,[5,6]]],extract the number 6 using indexing only."
   ]
  },
  {
   "cell_type": "code",
   "id": "921877dc",
   "metadata": {
    "ExecuteTime": {
     "end_time": "2025-06-12T10:33:30.721960Z",
     "start_time": "2025-06-12T10:33:30.716219Z"
    }
   },
   "source": [
    "# ans.\n",
    "List = [1,[2,3],[4,[5,6]]]\n",
    "print(List[2][1][1])"
   ],
   "outputs": [
    {
     "name": "stdout",
     "output_type": "stream",
     "text": [
      "6\n"
     ]
    }
   ],
   "execution_count": 2
  },
  {
   "cell_type": "markdown",
   "id": "862e425e",
   "metadata": {},
   "source": [
    "Q2.list1 = [10, 20, 30]- Convert this list into a string: \"10-20-30\" using only string/list methods."
   ]
  },
  {
   "cell_type": "code",
   "id": "1055fd8a",
   "metadata": {
    "ExecuteTime": {
     "end_time": "2025-06-12T10:33:30.929138Z",
     "start_time": "2025-06-12T10:33:30.923061Z"
    }
   },
   "source": [
    "# ans.\n",
    "list1 = [10, 20, 30]\n",
    "\n",
    "for i in range(len(list1)):\n",
    "    list1[i] = str(list1[i])\n",
    "\n",
    "print(\"-\".join(list1))"
   ],
   "outputs": [
    {
     "name": "stdout",
     "output_type": "stream",
     "text": [
      "10-20-30\n"
     ]
    }
   ],
   "execution_count": 3
  },
  {
   "cell_type": "markdown",
   "id": "238c33b0",
   "metadata": {},
   "source": [
    "Q3.list2 = [5,10,15,20]-remove the second element and return the resulting list in reverse order."
   ]
  },
  {
   "cell_type": "code",
   "id": "9f38e064",
   "metadata": {
    "ExecuteTime": {
     "end_time": "2025-06-12T10:33:31.341396Z",
     "start_time": "2025-06-12T10:33:31.336362Z"
    }
   },
   "source": [
    "# ans.\n",
    "list2 = [5,10,15,20]\n",
    "list2.pop(2)\n",
    "list2.reverse()\n",
    "print(list2)"
   ],
   "outputs": [
    {
     "name": "stdout",
     "output_type": "stream",
     "text": [
      "[20, 10, 5]\n"
     ]
    }
   ],
   "execution_count": 4
  },
  {
   "cell_type": "markdown",
   "id": "4deb5439",
   "metadata": {},
   "source": [
    "Q4.list3 = [3, 1, 4, 1, 5, 9] Sort the list in descending order without modifying the original."
   ]
  },
  {
   "cell_type": "code",
   "id": "c5505d04",
   "metadata": {
    "ExecuteTime": {
     "end_time": "2025-06-12T10:33:31.440681Z",
     "start_time": "2025-06-12T10:33:31.431108Z"
    }
   },
   "source": [
    "#ans.\n",
    "list3 = [3, 1, 4, 1, 5, 9]\n",
    "list = sorted(list3, reverse=True)\n",
    "list[::-1]"
   ],
   "outputs": [
    {
     "data": {
      "text/plain": [
       "[1, 1, 3, 4, 5, 9]"
      ]
     },
     "execution_count": 5,
     "metadata": {},
     "output_type": "execute_result"
    }
   ],
   "execution_count": 5
  },
  {
   "cell_type": "markdown",
   "id": "8e0f84a1",
   "metadata": {},
   "source": [
    "Q5.Given t = (1, 2, [3, 4]), modify the list inside the tuple to [7, 8]. (Explain why this works despite tuples being immutable.)"
   ]
  },
  {
   "cell_type": "code",
   "id": "9d94a95b",
   "metadata": {
    "ExecuteTime": {
     "end_time": "2025-06-12T10:33:31.515282Z",
     "start_time": "2025-06-12T10:33:31.510258Z"
    }
   },
   "source": [
    "#ans.\n",
    "t = (1, 2, [3, 4])\n",
    "t[2].pop()\n",
    "t[2].pop()\n",
    "t[2].append(7)\n",
    "t[2].append(8)\n",
    "print(t)"
   ],
   "outputs": [
    {
     "name": "stdout",
     "output_type": "stream",
     "text": [
      "(1, 2, [7, 8])\n"
     ]
    }
   ],
   "execution_count": 6
  },
  {
   "cell_type": "markdown",
   "id": "729581cb",
   "metadata": {},
   "source": [
    "Q6.Convert the tuple t = (1, 2, 3, 4, 5) into a dictionary where key = index, value = item."
   ]
  },
  {
   "cell_type": "code",
   "id": "1a938b59",
   "metadata": {
    "ExecuteTime": {
     "end_time": "2025-06-12T10:33:31.593913Z",
     "start_time": "2025-06-12T10:33:31.587883Z"
    }
   },
   "source": [
    "#ans.\n",
    "t = (1, 2, 3, 4, 5)\n",
    "d = {}\n",
    "\n",
    "for i in range(len(t)):\n",
    "    d[i] = t[i]\n",
    "\n",
    "print(d)"
   ],
   "outputs": [
    {
     "name": "stdout",
     "output_type": "stream",
     "text": [
      "{0: 1, 1: 2, 2: 3, 3: 4, 4: 5}\n"
     ]
    }
   ],
   "execution_count": 7
  },
  {
   "cell_type": "markdown",
   "id": "5ca797a2",
   "metadata": {},
   "source": [
    "Q7.Use unpacking to extract the first, second, and the rest from: t = (10, 20, 30, 40)"
   ]
  },
  {
   "cell_type": "code",
   "id": "518b1c4f",
   "metadata": {
    "ExecuteTime": {
     "end_time": "2025-06-12T10:33:31.687337Z",
     "start_time": "2025-06-12T10:33:31.680782Z"
    }
   },
   "source": [
    "#ans.\n",
    "t = (10, 20, 30, 40)\n",
    "first, second, *rest = t\n",
    "print(\"first:\", first)\n",
    "print(\"second:\", second)\n",
    "print(\"rest:\", rest)"
   ],
   "outputs": [
    {
     "name": "stdout",
     "output_type": "stream",
     "text": [
      "first: 10\n",
      "second: 20\n",
      "rest: [30, 40]\n"
     ]
    }
   ],
   "execution_count": 8
  },
  {
   "cell_type": "markdown",
   "id": "13b05d59",
   "metadata": {},
   "source": [
    "Q8.Given nested tup = (1, (2, (3, (4,)))), extract 4 using multiple levels of indexing."
   ]
  },
  {
   "cell_type": "code",
   "id": "08e1395d",
   "metadata": {
    "ExecuteTime": {
     "end_time": "2025-06-12T10:33:31.879308Z",
     "start_time": "2025-06-12T10:33:31.872095Z"
    }
   },
   "source": [
    "#ans.\n",
    "tup = (1, (2, (3, (4,))))\n",
    "print(tup[1][1][1][0])"
   ],
   "outputs": [
    {
     "name": "stdout",
     "output_type": "stream",
     "text": [
      "4\n"
     ]
    }
   ],
   "execution_count": 9
  },
  {
   "cell_type": "markdown",
   "id": "cf0f94d2",
   "metadata": {},
   "source": [
    "Q9.From tup = ((1, 2), (3, 4), (5, 6)), flatten it into a single tuple: (1, 2, 3, 4, 5, 6)."
   ]
  },
  {
   "cell_type": "code",
   "id": "b60b9845",
   "metadata": {
    "ExecuteTime": {
     "end_time": "2025-06-12T10:33:32.052885Z",
     "start_time": "2025-06-12T10:33:32.046317Z"
    }
   },
   "source": [
    "#ans.\n",
    "tup = ((1, 2), (3, 4), (5, 6))\n",
    "res = tuple()\n",
    "\n",
    "for element in tup:\n",
    "    res += element\n",
    "\n",
    "print(res)"
   ],
   "outputs": [
    {
     "name": "stdout",
     "output_type": "stream",
     "text": [
      "(1, 2, 3, 4, 5, 6)\n"
     ]
    }
   ],
   "execution_count": 10
  },
  {
   "cell_type": "markdown",
   "id": "28d7d9a2",
   "metadata": {},
   "source": [
    "Q10.Given s = \"abracadabra\", remove all occurrences of the character 'a' without using loops."
   ]
  },
  {
   "cell_type": "code",
   "id": "e8da0a1c",
   "metadata": {
    "ExecuteTime": {
     "end_time": "2025-06-12T10:33:32.250414Z",
     "start_time": "2025-06-12T10:33:32.245541Z"
    }
   },
   "source": [
    "#ans.\n",
    "s = \"abracadabra\"\n",
    "s = s.replace(\"a\", \"\")\n",
    "print(s)"
   ],
   "outputs": [
    {
     "name": "stdout",
     "output_type": "stream",
     "text": [
      "brcdbr\n"
     ]
    }
   ],
   "execution_count": 11
  },
  {
   "cell_type": "markdown",
   "id": "9b0ba1c6",
   "metadata": {},
   "source": [
    "Q11.Reverse the words in the string \"The quick brown fox\" using only string methods."
   ]
  },
  {
   "cell_type": "code",
   "id": "81065d86",
   "metadata": {
    "ExecuteTime": {
     "end_time": "2025-06-12T10:33:32.490365Z",
     "start_time": "2025-06-12T10:33:32.483249Z"
    }
   },
   "source": [
    "#ans.\n",
    "s = \"The quick brown fox\"\n",
    "s = s.split()\n",
    "s[::-1]"
   ],
   "outputs": [
    {
     "data": {
      "text/plain": [
       "['fox', 'brown', 'quick', 'The']"
      ]
     },
     "execution_count": 12,
     "metadata": {},
     "output_type": "execute_result"
    }
   ],
   "execution_count": 12
  },
  {
   "cell_type": "markdown",
   "id": "ad81fdac",
   "metadata": {},
   "source": [
    "Q12.Convert \"Python Is FUN\" into \"python is fun\" using a single line of chained string methods."
   ]
  },
  {
   "cell_type": "code",
   "id": "515a4f99",
   "metadata": {
    "ExecuteTime": {
     "end_time": "2025-06-12T10:33:32.734472Z",
     "start_time": "2025-06-12T10:33:32.729427Z"
    }
   },
   "source": [
    "#ans.\n",
    "s = \"Python is FUN\"\n",
    "s = s.lower()\n",
    "print(s)"
   ],
   "outputs": [
    {
     "name": "stdout",
     "output_type": "stream",
     "text": [
      "python is fun\n"
     ]
    }
   ],
   "execution_count": 13
  },
  {
   "cell_type": "markdown",
   "id": "bd9585dc",
   "metadata": {},
   "source": [
    "Q13.Count how many vowels are in \"Intelligence\" using only count() method (no loop)."
   ]
  },
  {
   "cell_type": "code",
   "id": "160340a1",
   "metadata": {
    "ExecuteTime": {
     "end_time": "2025-06-12T10:33:32.936520Z",
     "start_time": "2025-06-12T10:33:32.930497Z"
    }
   },
   "source": [
    "#ans.\n",
    "s = \"Intelligence\"\n",
    "r = s.lower()\n",
    "c = r.count(\"a\")\n",
    "c += r.count(\"e\")\n",
    "c += r.count(\"i\")\n",
    "c += r.count(\"o\")\n",
    "c += r.count(\"u\")\n",
    "print(c)"
   ],
   "outputs": [
    {
     "name": "stdout",
     "output_type": "stream",
     "text": [
      "5\n"
     ]
    }
   ],
   "execution_count": 14
  },
  {
   "cell_type": "markdown",
   "id": "2b488370",
   "metadata": {},
   "source": [
    "Q14.Given s = \"level\", check if it's a palindrome without using reversed() or loops."
   ]
  },
  {
   "cell_type": "code",
   "id": "7d1efe84",
   "metadata": {
    "ExecuteTime": {
     "end_time": "2025-06-12T10:33:33.776515Z",
     "start_time": "2025-06-12T10:33:33.770973Z"
    }
   },
   "source": [
    "#ans.\n",
    "s = \"level\"\n",
    "\n",
    "if s == s[::-1]:\n",
    "    print(f\"{s} is a palindrome\")\n",
    "else:\n",
    "    print(f\"{s} is not a palindrome\")"
   ],
   "outputs": [
    {
     "name": "stdout",
     "output_type": "stream",
     "text": [
      "level is a palindrome\n"
     ]
    }
   ],
   "execution_count": 15
  },
  {
   "cell_type": "markdown",
   "id": "338fcbe8",
   "metadata": {},
   "source": [
    "Q15.Given d = {'a': 1, 'b': 2, 'c': 3}, swap keys and values using only dictionary methods."
   ]
  },
  {
   "cell_type": "code",
   "id": "ff3fd9c1",
   "metadata": {
    "ExecuteTime": {
     "end_time": "2025-06-12T10:33:34.037899Z",
     "start_time": "2025-06-12T10:33:34.032492Z"
    }
   },
   "source": [
    "#ans.\n",
    "d = {\"a\": 1, \"b\": 2, \"c\": 3}\n",
    "r = {}\n",
    "\n",
    "for k, v in d.items():\n",
    "    r[v] = k\n",
    "\n",
    "d = r\n",
    "print(r)"
   ],
   "outputs": [
    {
     "name": "stdout",
     "output_type": "stream",
     "text": [
      "{1: 'a', 2: 'b', 3: 'c'}\n"
     ]
    }
   ],
   "execution_count": 16
  },
  {
   "cell_type": "markdown",
   "id": "d54ce258",
   "metadata": {},
   "source": [
    "Q16.Merge these two dicts into one: d1 = {'x': 1, 'y': 2}, d2 = {'y': 3, 'z': 4}- ensuring overlapping keys take value from d2."
   ]
  },
  {
   "cell_type": "code",
   "id": "7e0c1d17",
   "metadata": {
    "ExecuteTime": {
     "end_time": "2025-06-12T10:33:34.293967Z",
     "start_time": "2025-06-12T10:33:34.287323Z"
    }
   },
   "source": [
    "#ans.\n",
    "d1 = {'x': 1, 'y': 2}\n",
    "d2 = {'y': 3, 'z': 4}\n",
    "d1.update(d2)\n",
    "print(d1)"
   ],
   "outputs": [
    {
     "name": "stdout",
     "output_type": "stream",
     "text": [
      "{'x': 1, 'y': 3, 'z': 4}\n"
     ]
    }
   ],
   "execution_count": 17
  },
  {
   "cell_type": "markdown",
   "id": "3d396b26",
   "metadata": {},
   "source": [
    "Q17.From d = {'x': [1, 2], 'y': [3, 4]}, change all list values to their sum."
   ]
  },
  {
   "cell_type": "code",
   "id": "2b48f24c",
   "metadata": {
    "ExecuteTime": {
     "end_time": "2025-06-12T10:33:34.545796Z",
     "start_time": "2025-06-12T10:33:34.538721Z"
    }
   },
   "source": [
    "#ans.\n",
    "d={'x':[1,2],'y':[3,4]} \n",
    "d['x']=1+2 \n",
    "d['y']=3+4 \n",
    "print(d)"
   ],
   "outputs": [
    {
     "name": "stdout",
     "output_type": "stream",
     "text": [
      "{'x': 3, 'y': 7}\n"
     ]
    }
   ],
   "execution_count": 18
  },
  {
   "cell_type": "markdown",
   "id": "b83df048",
   "metadata": {},
   "source": [
    "Q18.From d = {'x': 10, 'y': 20, 'z': 30}, remove the key with the highest value."
   ]
  },
  {
   "cell_type": "code",
   "id": "3c91ecdc",
   "metadata": {
    "ExecuteTime": {
     "end_time": "2025-06-12T10:33:35.019865Z",
     "start_time": "2025-06-12T10:33:35.013282Z"
    }
   },
   "source": [
    "#ans.\n",
    "d={'x':10,'y':20,'z':30} \n",
    "max='x' \n",
    "for i in d: \n",
    "    if d[max]<d[i]: \n",
    "        max=i \n",
    "d.pop(max) \n",
    "print(d)"
   ],
   "outputs": [
    {
     "name": "stdout",
     "output_type": "stream",
     "text": [
      "{'x': 10, 'y': 20}\n"
     ]
    }
   ],
   "execution_count": 19
  },
  {
   "cell_type": "markdown",
   "id": "87f73356",
   "metadata": {},
   "source": [
    "Q19.Given list = ['a=1', 'b=2', 'c=3'], convert it into a dictionary."
   ]
  },
  {
   "cell_type": "code",
   "id": "b4b09910",
   "metadata": {
    "ExecuteTime": {
     "end_time": "2025-06-12T10:33:35.720309Z",
     "start_time": "2025-06-12T10:33:35.714259Z"
    }
   },
   "source": [
    "#ans.\n",
    "Given_list = ['a=1', 'b=2', 'c=3']\n",
    "result = {}\n",
    "\n",
    "for item in Given_list:\n",
    "    key, value = item.split('=')\n",
    "    result[key] = int(value)\n",
    "\n",
    "print(result)"
   ],
   "outputs": [
    {
     "name": "stdout",
     "output_type": "stream",
     "text": [
      "{'a': 1, 'b': 2, 'c': 3}\n"
     ]
    }
   ],
   "execution_count": 20
  },
  {
   "cell_type": "markdown",
   "id": "7924bfa7",
   "metadata": {},
   "source": [
    "Q20.convert the dictionary {'a':[1,2],'b':[3,4]}into a list of tuples like :[('a',1),('a',2),('b',3),('b',4)]."
   ]
  },
  {
   "cell_type": "code",
   "id": "4e93856c",
   "metadata": {
    "ExecuteTime": {
     "end_time": "2025-06-12T10:33:36.832551Z",
     "start_time": "2025-06-12T10:33:36.825231Z"
    }
   },
   "source": [
    "#ans.\n",
    "data = {'a': [1, 2], 'b': [3, 4]}\n",
    "result = []\n",
    "\n",
    "for key in data:\n",
    "    for value in data[key]:\n",
    "        result.append((key, value))\n",
    "\n",
    "print(result)"
   ],
   "outputs": [
    {
     "name": "stdout",
     "output_type": "stream",
     "text": [
      "[('a', 1), ('a', 2), ('b', 3), ('b', 4)]\n"
     ]
    }
   ],
   "execution_count": 21
  }
 ],
 "metadata": {
  "kernelspec": {
   "display_name": "Python 3",
   "language": "python",
   "name": "python3"
  },
  "language_info": {
   "codemirror_mode": {
    "name": "ipython",
    "version": 3
   },
   "file_extension": ".py",
   "mimetype": "text/x-python",
   "name": "python",
   "nbconvert_exporter": "python",
   "pygments_lexer": "ipython3",
   "version": "3.13.4"
  }
 },
 "nbformat": 4,
 "nbformat_minor": 5
}
