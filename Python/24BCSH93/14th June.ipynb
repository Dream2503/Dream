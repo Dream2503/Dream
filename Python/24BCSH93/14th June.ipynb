{
 "cells": [
  {
   "metadata": {},
   "cell_type": "markdown",
   "source": [
    "map(function. arguments)<br>\n",
    "filter(function with condition, arguments)"
   ],
   "id": "5ffdf69ecf0c816c"
  },
  {
   "metadata": {},
   "cell_type": "markdown",
   "source": "Lambda Expression",
   "id": "93b7bc2850cf9f5e"
  },
  {
   "cell_type": "code",
   "id": "initial_id",
   "metadata": {
    "collapsed": true,
    "ExecuteTime": {
     "end_time": "2025-06-14T10:37:10.016768Z",
     "start_time": "2025-06-14T10:37:10.008517Z"
    }
   },
   "source": [
    "def square_num(num):\n",
    "    return num ** 2"
   ],
   "outputs": [],
   "execution_count": 1
  },
  {
   "metadata": {
    "ExecuteTime": {
     "end_time": "2025-06-14T10:37:10.393338Z",
     "start_time": "2025-06-14T10:37:10.383300Z"
    }
   },
   "cell_type": "code",
   "source": "square_num(4)",
   "id": "c93d8ff93424d87f",
   "outputs": [
    {
     "data": {
      "text/plain": [
       "16"
      ]
     },
     "execution_count": 2,
     "metadata": {},
     "output_type": "execute_result"
    }
   ],
   "execution_count": 2
  },
  {
   "metadata": {
    "ExecuteTime": {
     "end_time": "2025-06-14T10:37:10.436245Z",
     "start_time": "2025-06-14T10:37:10.430418Z"
    }
   },
   "cell_type": "code",
   "source": "def square_num(num): return num ** 2",
   "id": "9839816f5db00d24",
   "outputs": [],
   "execution_count": 3
  },
  {
   "metadata": {
    "ExecuteTime": {
     "end_time": "2025-06-14T10:37:10.472349Z",
     "start_time": "2025-06-14T10:37:10.466312Z"
    }
   },
   "cell_type": "code",
   "source": "square_num(6)",
   "id": "2b88ddfcc2eb61ec",
   "outputs": [
    {
     "data": {
      "text/plain": [
       "36"
      ]
     },
     "execution_count": 4,
     "metadata": {},
     "output_type": "execute_result"
    }
   ],
   "execution_count": 4
  },
  {
   "metadata": {
    "ExecuteTime": {
     "end_time": "2025-06-14T10:37:10.576769Z",
     "start_time": "2025-06-14T10:37:10.572853Z"
    }
   },
   "cell_type": "code",
   "source": "sq = lambda num: num ** 2",
   "id": "498cdc2e5c18d23a",
   "outputs": [],
   "execution_count": 5
  },
  {
   "metadata": {
    "ExecuteTime": {
     "end_time": "2025-06-14T10:37:10.714621Z",
     "start_time": "2025-06-14T10:37:10.709594Z"
    }
   },
   "cell_type": "code",
   "source": "sq(2)",
   "id": "1bc17f983a31dbbc",
   "outputs": [
    {
     "data": {
      "text/plain": [
       "4"
      ]
     },
     "execution_count": 6,
     "metadata": {},
     "output_type": "execute_result"
    }
   ],
   "execution_count": 6
  },
  {
   "metadata": {},
   "cell_type": "markdown",
   "source": "WAF to check even or odd using lambda expression, If even \"TRUE\"",
   "id": "5170c20ab52c5803"
  },
  {
   "metadata": {
    "ExecuteTime": {
     "end_time": "2025-06-14T10:37:11.011208Z",
     "start_time": "2025-06-14T10:37:11.005157Z"
    }
   },
   "cell_type": "code",
   "source": "even = lambda num: num % 2 == 0",
   "id": "958a312ecc96ff19",
   "outputs": [],
   "execution_count": 7
  },
  {
   "metadata": {
    "ExecuteTime": {
     "end_time": "2025-06-14T10:37:11.250598Z",
     "start_time": "2025-06-14T10:37:11.243563Z"
    }
   },
   "cell_type": "code",
   "source": "even(2)",
   "id": "28c6858e2b39dc95",
   "outputs": [
    {
     "data": {
      "text/plain": [
       "True"
      ]
     },
     "execution_count": 8,
     "metadata": {},
     "output_type": "execute_result"
    }
   ],
   "execution_count": 8
  },
  {
   "metadata": {
    "ExecuteTime": {
     "end_time": "2025-06-14T10:37:11.487403Z",
     "start_time": "2025-06-14T10:37:11.479824Z"
    }
   },
   "cell_type": "code",
   "source": "even(1)",
   "id": "b970e3000c4c6c4c",
   "outputs": [
    {
     "data": {
      "text/plain": [
       "False"
      ]
     },
     "execution_count": 9,
     "metadata": {},
     "output_type": "execute_result"
    }
   ],
   "execution_count": 9
  },
  {
   "metadata": {},
   "cell_type": "markdown",
   "source": "Find out square of list of numbers using lambda expression",
   "id": "b89f7e1fdf653e21"
  },
  {
   "metadata": {
    "ExecuteTime": {
     "end_time": "2025-06-14T10:37:11.730605Z",
     "start_time": "2025-06-14T10:37:11.726728Z"
    }
   },
   "cell_type": "code",
   "source": "def square_num(num): return num ** 2",
   "id": "d6336e87bc0a6784",
   "outputs": [],
   "execution_count": 10
  },
  {
   "metadata": {
    "ExecuteTime": {
     "end_time": "2025-06-14T10:37:11.845239Z",
     "start_time": "2025-06-14T10:37:11.839014Z"
    }
   },
   "cell_type": "code",
   "source": "list(map(square_num, [1, 2, 3, 4]))",
   "id": "ca05bccc2a6242ae",
   "outputs": [
    {
     "data": {
      "text/plain": [
       "[1, 4, 9, 16]"
      ]
     },
     "execution_count": 11,
     "metadata": {},
     "output_type": "execute_result"
    }
   ],
   "execution_count": 11
  },
  {
   "metadata": {
    "ExecuteTime": {
     "end_time": "2025-06-14T10:37:11.984138Z",
     "start_time": "2025-06-14T10:37:11.977433Z"
    }
   },
   "cell_type": "code",
   "source": "map(lambda num: num ** 2, [4, 5, 6])",
   "id": "65e0b2f7af3813de",
   "outputs": [
    {
     "data": {
      "text/plain": [
       "<map at 0x213ecf76890>"
      ]
     },
     "execution_count": 12,
     "metadata": {},
     "output_type": "execute_result"
    }
   ],
   "execution_count": 12
  },
  {
   "metadata": {
    "ExecuteTime": {
     "end_time": "2025-06-14T10:37:12.328892Z",
     "start_time": "2025-06-14T10:37:12.321495Z"
    }
   },
   "cell_type": "code",
   "source": "list(map(lambda num: num ** 2, [4, 5, 6]))",
   "id": "ba1d87c66eb64c58",
   "outputs": [
    {
     "data": {
      "text/plain": [
       "[16, 25, 36]"
      ]
     },
     "execution_count": 13,
     "metadata": {},
     "output_type": "execute_result"
    }
   ],
   "execution_count": 13
  },
  {
   "metadata": {
    "ExecuteTime": {
     "end_time": "2025-06-14T10:37:12.483081Z",
     "start_time": "2025-06-14T10:37:12.477776Z"
    }
   },
   "cell_type": "code",
   "source": "list(map(lambda num: num % 2 == 0, [1, 2, 3, 4]))",
   "id": "ddd5b83dd5c96943",
   "outputs": [
    {
     "data": {
      "text/plain": [
       "[False, True, False, True]"
      ]
     },
     "execution_count": 14,
     "metadata": {},
     "output_type": "execute_result"
    }
   ],
   "execution_count": 14
  },
  {
   "metadata": {
    "ExecuteTime": {
     "end_time": "2025-06-14T10:37:12.801436Z",
     "start_time": "2025-06-14T10:37:12.793172Z"
    }
   },
   "cell_type": "code",
   "source": "list(filter(lambda num: num % 2 == 0, [1, 2, 3, 4]))",
   "id": "88e0d6ea07b0e2cd",
   "outputs": [
    {
     "data": {
      "text/plain": [
       "[2, 4]"
      ]
     },
     "execution_count": 15,
     "metadata": {},
     "output_type": "execute_result"
    }
   ],
   "execution_count": 15
  },
  {
   "metadata": {},
   "cell_type": "markdown",
   "source": [
    "Write a lambda expression to reverse a string<br>\n",
    "Input = \"silicon<br>\n",
    "Output = \"nocilis\""
   ],
   "id": "b14189968a592d3"
  },
  {
   "metadata": {
    "ExecuteTime": {
     "end_time": "2025-06-14T10:37:13.010578Z",
     "start_time": "2025-06-14T10:37:13.005509Z"
    }
   },
   "cell_type": "code",
   "source": "string1 = lambda s: s[::-1]",
   "id": "388115bc92f580ab",
   "outputs": [],
   "execution_count": 16
  },
  {
   "metadata": {
    "ExecuteTime": {
     "end_time": "2025-06-14T10:37:13.562387Z",
     "start_time": "2025-06-14T10:37:13.554875Z"
    }
   },
   "cell_type": "code",
   "source": "string1(\"silicon\")",
   "id": "1e8e5e86b2ce78a4",
   "outputs": [
    {
     "data": {
      "text/plain": [
       "'nocilis'"
      ]
     },
     "execution_count": 17,
     "metadata": {},
     "output_type": "execute_result"
    }
   ],
   "execution_count": 17
  },
  {
   "metadata": {},
   "cell_type": "markdown",
   "source": "Using lambda expression reverse the object in the list and return in form of list",
   "id": "71a85a597a85ca6a"
  },
  {
   "metadata": {
    "ExecuteTime": {
     "end_time": "2025-06-14T10:37:14.395705Z",
     "start_time": "2025-06-14T10:37:14.388641Z"
    }
   },
   "cell_type": "code",
   "source": "l = [\"silicon\", \"institute\", \"technology\"]",
   "id": "36b0e29bbb287c05",
   "outputs": [],
   "execution_count": 18
  },
  {
   "metadata": {
    "ExecuteTime": {
     "end_time": "2025-06-14T10:37:14.747804Z",
     "start_time": "2025-06-14T10:37:14.742660Z"
    }
   },
   "cell_type": "code",
   "source": "reverse = lambda l: [element[::-1] for element in l]",
   "id": "a5d492945fec65f3",
   "outputs": [],
   "execution_count": 19
  },
  {
   "metadata": {
    "ExecuteTime": {
     "end_time": "2025-06-14T10:37:15.114299Z",
     "start_time": "2025-06-14T10:37:15.107668Z"
    }
   },
   "cell_type": "code",
   "source": "reverse(l)",
   "id": "66249f8dbda46106",
   "outputs": [
    {
     "data": {
      "text/plain": [
       "['nocilis', 'etutitsni', 'ygolonhcet']"
      ]
     },
     "execution_count": 20,
     "metadata": {},
     "output_type": "execute_result"
    }
   ],
   "execution_count": 20
  },
  {
   "metadata": {},
   "cell_type": "markdown",
   "source": [
    "Write a function that accepts a sentence and returns a list of words length using map function<br>\n",
    "Input: \"Summer Internship for Python\"<br>\n",
    "Output: [6, 10, 3, 6]"
   ],
   "id": "8f5daaa3615e4f82"
  },
  {
   "metadata": {
    "ExecuteTime": {
     "end_time": "2025-06-14T10:37:15.947125Z",
     "start_time": "2025-06-14T10:37:15.941499Z"
    }
   },
   "cell_type": "code",
   "source": "string = \"Summer Internship for Python\"",
   "id": "918827fd3e656f21",
   "outputs": [],
   "execution_count": 21
  },
  {
   "metadata": {
    "ExecuteTime": {
     "end_time": "2025-06-14T10:37:16.483324Z",
     "start_time": "2025-06-14T10:37:16.476127Z"
    }
   },
   "cell_type": "code",
   "source": "list(map(lambda s: len(s), string.split()))",
   "id": "850329186900921e",
   "outputs": [
    {
     "data": {
      "text/plain": [
       "[6, 10, 3, 6]"
      ]
     },
     "execution_count": 22,
     "metadata": {},
     "output_type": "execute_result"
    }
   ],
   "execution_count": 22
  },
  {
   "metadata": {},
   "cell_type": "markdown",
   "source": "WAP to extract all prime number from a given list filter",
   "id": "8b06d5674137d803"
  },
  {
   "metadata": {
    "ExecuteTime": {
     "end_time": "2025-06-14T10:37:17.861394Z",
     "start_time": "2025-06-14T10:37:17.852929Z"
    }
   },
   "cell_type": "code",
   "source": [
    "def is_prime(num):\n",
    "    for i in range(2, num // 2 + 1):\n",
    "        if num % i == 0:\n",
    "            return False\n",
    "\n",
    "    return True\n",
    "\n",
    "l = list(range(1, 30))\n",
    "list(filter(lambda num: is_prime(num), l))"
   ],
   "id": "e0c6bb3a0cc9f0b9",
   "outputs": [
    {
     "data": {
      "text/plain": [
       "[1, 2, 3, 5, 7, 11, 13, 17, 19, 23, 29]"
      ]
     },
     "execution_count": 23,
     "metadata": {},
     "output_type": "execute_result"
    }
   ],
   "execution_count": 23
  }
 ],
 "metadata": {
  "kernelspec": {
   "display_name": "Python 3",
   "language": "python",
   "name": "python3"
  },
  "language_info": {
   "codemirror_mode": {
    "name": "ipython",
    "version": 2
   },
   "file_extension": ".py",
   "mimetype": "text/x-python",
   "name": "python",
   "nbconvert_exporter": "python",
   "pygments_lexer": "ipython2",
   "version": "2.7.6"
  }
 },
 "nbformat": 4,
 "nbformat_minor": 5
}
