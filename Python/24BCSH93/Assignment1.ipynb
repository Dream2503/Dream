{
 "cells": [
  {
   "cell_type": "markdown",
   "id": "ba354da5b3197e7a",
   "metadata": {},
   "source": []
  },
  {
   "cell_type": "markdown",
   "id": "e7fcf4a3187a1ab4",
   "metadata": {},
   "source": [
    "1. Given list = [1, [2, 3], [4, [5, 6]]], extract the number 6 using indexing only."
   ]
  },
  {
   "cell_type": "code",
   "execution_count": 1,
   "id": "initial_id",
   "metadata": {
    "ExecuteTime": {
     "end_time": "2025-06-12T09:53:59.228192Z",
     "start_time": "2025-06-12T09:53:59.206262Z"
    },
    "collapsed": true,
    "jupyter": {
     "outputs_hidden": true
    }
   },
   "outputs": [
    {
     "data": {
      "text/plain": [
       "6"
      ]
     },
     "execution_count": 1,
     "metadata": {},
     "output_type": "execute_result"
    }
   ],
   "source": [
    "list = [1, [2, 3], [4, [5, 6]]]\n",
    "list[2][1][1]"
   ]
  },
  {
   "cell_type": "markdown",
   "id": "35fc523ea0531781",
   "metadata": {},
   "source": [
    "2. list1 = [10, 20, 30] - Convert this list into a string: \"10-20-30\" using only string/list methods."
   ]
  },
  {
   "cell_type": "code",
   "execution_count": 2,
   "id": "db94c95a0eb84677",
   "metadata": {
    "ExecuteTime": {
     "end_time": "2025-06-12T09:53:59.808357Z",
     "start_time": "2025-06-12T09:53:59.802779Z"
    }
   },
   "outputs": [
    {
     "name": "stdout",
     "output_type": "stream",
     "text": [
      "10-20-30\n"
     ]
    }
   ],
   "source": [
    "list1 = [10, 20, 30]\n",
    "\n",
    "for i in range(len(list1)):\n",
    "    list1[i] = str(list1[i])\n",
    "\n",
    "print(\"-\".join(list1))"
   ]
  },
  {
   "cell_type": "markdown",
   "id": "a9a912178f2c60a8",
   "metadata": {},
   "source": [
    "3. list2 = [5, 10, 15, 20] - Remove the second element and return the resulting list in reverse order."
   ]
  },
  {
   "cell_type": "code",
   "execution_count": 3,
   "id": "5325ba67dec2fed5",
   "metadata": {
    "ExecuteTime": {
     "end_time": "2025-06-12T09:54:00.267810Z",
     "start_time": "2025-06-12T09:54:00.260895Z"
    }
   },
   "outputs": [
    {
     "data": {
      "text/plain": [
       "[20, 15, 5]"
      ]
     },
     "execution_count": 3,
     "metadata": {},
     "output_type": "execute_result"
    }
   ],
   "source": [
    "list2 = [5, 10, 15, 20]\n",
    "list2.pop(1)\n",
    "list2[::-1]"
   ]
  },
  {
   "cell_type": "markdown",
   "id": "7af6185c416fcfab",
   "metadata": {},
   "source": [
    "4. list3 = [3, 1, 4, 1, 5, 9] - Sort the list in descending order without modifying the original"
   ]
  },
  {
   "cell_type": "code",
   "execution_count": 4,
   "id": "e2f38ea3672a12ad",
   "metadata": {
    "ExecuteTime": {
     "end_time": "2025-06-12T09:54:00.519463Z",
     "start_time": "2025-06-12T09:54:00.512415Z"
    }
   },
   "outputs": [
    {
     "data": {
      "text/plain": [
       "[1, 1, 3, 4, 5, 9]"
      ]
     },
     "execution_count": 4,
     "metadata": {},
     "output_type": "execute_result"
    }
   ],
   "source": [
    "list3 = [3, 1, 4, 1, 5, 9]\n",
    "l = sorted(list3, reverse=True)\n",
    "l[::-1]"
   ]
  },
  {
   "cell_type": "markdown",
   "id": "48fda6ac0e3c7b3a",
   "metadata": {},
   "source": [
    "5. Given t = (1, 2, [3, 4]), modify the list inside the tuple to [7, 8]. (Explain why this works despite tuples being immutable.)"
   ]
  },
  {
   "cell_type": "code",
   "execution_count": 5,
   "id": "50d7d641e815fe4d",
   "metadata": {
    "ExecuteTime": {
     "end_time": "2025-06-12T09:54:00.763351Z",
     "start_time": "2025-06-12T09:54:00.757622Z"
    }
   },
   "outputs": [
    {
     "data": {
      "text/plain": [
       "(1, 2, [3, 4, 5])"
      ]
     },
     "execution_count": 5,
     "metadata": {},
     "output_type": "execute_result"
    }
   ],
   "source": [
    "t = (1, 2, [3, 4])\n",
    "t[2].append(5)\n",
    "t"
   ]
  },
  {
   "cell_type": "markdown",
   "id": "10ce3a2c82f4cd7",
   "metadata": {},
   "source": [
    "Even though a tuple is immutable, here we are appending an element to the list inside the tuple, as list is mutable(i.e. it allows changes in member values, without create a new object or changing the current memory address), so for tuple it looks like there was no change in any memory address of its own elements, that's why there's no error and tuple permits it.\n",
    "In short, tuple allows changes in it member until the member's memory location is not changed in any means"
   ]
  },
  {
   "cell_type": "markdown",
   "id": "7fdf5e3bba35a1ee",
   "metadata": {},
   "source": [
    "6. Convert the tuple t = (1, 2, 3, 4, 5) into a dictionary where key = index, value = item."
   ]
  },
  {
   "cell_type": "code",
   "execution_count": 6,
   "id": "cc1b7d732be922e5",
   "metadata": {
    "ExecuteTime": {
     "end_time": "2025-06-12T09:54:01.145320Z",
     "start_time": "2025-06-12T09:54:01.139217Z"
    }
   },
   "outputs": [
    {
     "data": {
      "text/plain": [
       "{0: 1, 1: 2, 2: 3, 3: 4, 4: 5}"
      ]
     },
     "execution_count": 6,
     "metadata": {},
     "output_type": "execute_result"
    }
   ],
   "source": [
    "t = (1, 2, 3, 4, 5)\n",
    "d = {}\n",
    "\n",
    "for i in range(len(t)):\n",
    "    d[i] = t[i]\n",
    "\n",
    "d"
   ]
  },
  {
   "cell_type": "markdown",
   "id": "b83b0d18d41a2d05",
   "metadata": {},
   "source": [
    "7. Use unpacking to extract the first second and the rest from: t = (10, 20, 30, 40)"
   ]
  },
  {
   "cell_type": "code",
   "execution_count": 7,
   "id": "77e0835e48495749",
   "metadata": {
    "ExecuteTime": {
     "end_time": "2025-06-12T09:54:01.397589Z",
     "start_time": "2025-06-12T09:54:01.392185Z"
    }
   },
   "outputs": [
    {
     "name": "stdout",
     "output_type": "stream",
     "text": [
      "first: 10\n",
      "second: 20\n",
      "rest: [30, 40]\n"
     ]
    }
   ],
   "source": [
    "t = (10, 20, 30, 40)\n",
    "first, second, *rest = t\n",
    "print(\"first:\", first)\n",
    "print(\"second:\", second)\n",
    "print(\"rest:\", rest)"
   ]
  },
  {
   "cell_type": "markdown",
   "id": "ca1b3cc22018b778",
   "metadata": {},
   "source": [
    "8. Given nested tup = (1, (2, (3, (4,)))), extract 4 using multiple levels of indexing."
   ]
  },
  {
   "cell_type": "code",
   "execution_count": 8,
   "id": "d04fe98eb952daaf",
   "metadata": {
    "ExecuteTime": {
     "end_time": "2025-06-12T09:54:01.706808Z",
     "start_time": "2025-06-12T09:54:01.700234Z"
    }
   },
   "outputs": [
    {
     "data": {
      "text/plain": [
       "4"
      ]
     },
     "execution_count": 8,
     "metadata": {},
     "output_type": "execute_result"
    }
   ],
   "source": [
    "tup = (1, (2, (3, (4,))))\n",
    "tup[1][1][1][0]"
   ]
  },
  {
   "cell_type": "markdown",
   "id": "879d1848356c3796",
   "metadata": {},
   "source": [
    "9. From tup = ((1, 2), (3, 4), (5, 6)), flatten it into a single tuple: (1, 2, 3, 4, 5, 6)."
   ]
  },
  {
   "cell_type": "code",
   "execution_count": 9,
   "id": "9717efbb74cfa906",
   "metadata": {
    "ExecuteTime": {
     "end_time": "2025-06-12T09:54:01.934065Z",
     "start_time": "2025-06-12T09:54:01.926006Z"
    }
   },
   "outputs": [
    {
     "data": {
      "text/plain": [
       "(1, 2, 3, 4, 5, 6)"
      ]
     },
     "execution_count": 9,
     "metadata": {},
     "output_type": "execute_result"
    }
   ],
   "source": [
    "tup = ((1, 2), (3, 4), (5, 6))\n",
    "res = tuple()\n",
    "\n",
    "for element in tup:\n",
    "    res += element\n",
    "\n",
    "res"
   ]
  },
  {
   "cell_type": "markdown",
   "id": "e1759ffe3d0bdaef",
   "metadata": {},
   "source": [
    "10. Given s = \"abracadabra\", remove all occurrences of the character 'a' without using loops."
   ]
  },
  {
   "cell_type": "code",
   "execution_count": 10,
   "id": "a8acae4044a62f01",
   "metadata": {
    "ExecuteTime": {
     "end_time": "2025-06-12T09:54:02.222761Z",
     "start_time": "2025-06-12T09:54:02.215112Z"
    }
   },
   "outputs": [
    {
     "data": {
      "text/plain": [
       "'brcdbr'"
      ]
     },
     "execution_count": 10,
     "metadata": {},
     "output_type": "execute_result"
    }
   ],
   "source": [
    "s = \"abracadabra\"\n",
    "s = s.replace(\"a\", \"\")\n",
    "s"
   ]
  },
  {
   "cell_type": "markdown",
   "id": "7ba49ba136f17139",
   "metadata": {},
   "source": [
    "11. Reverse the words in the string \"The quick brown fox\" using only string methods."
   ]
  },
  {
   "cell_type": "code",
   "execution_count": 11,
   "id": "7da785a96a36941c",
   "metadata": {
    "ExecuteTime": {
     "end_time": "2025-06-12T09:54:02.491910Z",
     "start_time": "2025-06-12T09:54:02.483999Z"
    }
   },
   "outputs": [
    {
     "data": {
      "text/plain": [
       "['fox', 'brown', 'quick', 'The']"
      ]
     },
     "execution_count": 11,
     "metadata": {},
     "output_type": "execute_result"
    }
   ],
   "source": [
    "s = \"The quick brown fox\"\n",
    "s = s.split()\n",
    "s[::-1]"
   ]
  },
  {
   "cell_type": "markdown",
   "id": "fb5e4c7f196afdd6",
   "metadata": {},
   "source": [
    "12. Convert \"Python is FUN\" into \"python is fun\" using a single line of chained string methods."
   ]
  },
  {
   "cell_type": "code",
   "execution_count": 12,
   "id": "cb55db1181c5f571",
   "metadata": {
    "ExecuteTime": {
     "end_time": "2025-06-12T09:54:02.748534Z",
     "start_time": "2025-06-12T09:54:02.742248Z"
    }
   },
   "outputs": [
    {
     "data": {
      "text/plain": [
       "'python is fun'"
      ]
     },
     "execution_count": 12,
     "metadata": {},
     "output_type": "execute_result"
    }
   ],
   "source": [
    "s = \"Python is FUN\"\n",
    "s = s.lower()\n",
    "s"
   ]
  },
  {
   "cell_type": "markdown",
   "id": "4e85914c8eecf5f4",
   "metadata": {},
   "source": [
    "13. Count how many vowel are in \"Intelligence\" using only count() method (no loop)."
   ]
  },
  {
   "cell_type": "code",
   "execution_count": 13,
   "id": "8bdef9e354debdfd",
   "metadata": {
    "ExecuteTime": {
     "end_time": "2025-06-12T09:54:03.003280Z",
     "start_time": "2025-06-12T09:54:02.996795Z"
    }
   },
   "outputs": [
    {
     "data": {
      "text/plain": [
       "5"
      ]
     },
     "execution_count": 13,
     "metadata": {},
     "output_type": "execute_result"
    }
   ],
   "source": [
    "s = \"Intelligence\"\n",
    "r = s.lower()\n",
    "cnt = r.count(\"a\")\n",
    "cnt += r.count(\"e\")\n",
    "cnt += r.count(\"i\")\n",
    "cnt += r.count(\"o\")\n",
    "cnt += r.count(\"u\")\n",
    "cnt"
   ]
  },
  {
   "cell_type": "markdown",
   "id": "a206309be83a3bb7",
   "metadata": {},
   "source": [
    "14. Given s = \"level\", check if it's a palindrome without using reversed() or loops."
   ]
  },
  {
   "cell_type": "code",
   "execution_count": 14,
   "id": "728cd2b2ba5aa0b4",
   "metadata": {
    "ExecuteTime": {
     "end_time": "2025-06-12T09:54:03.260477Z",
     "start_time": "2025-06-12T09:54:03.253076Z"
    }
   },
   "outputs": [
    {
     "name": "stdout",
     "output_type": "stream",
     "text": [
      "level is a palindrome\n"
     ]
    }
   ],
   "source": [
    "s = \"level\"\n",
    "\n",
    "if s == s[::-1]:\n",
    "    print(f\"{s} is a palindrome\")\n",
    "else:\n",
    "    print(f\"{s} is not a palindrome\")"
   ]
  },
  {
   "cell_type": "markdown",
   "id": "746e4294d0f02b09",
   "metadata": {},
   "source": [
    "15. Given d = {\"a\": 1, \"b\": 2, \"c: 3}, swap keys and values using only dictionary methods."
   ]
  },
  {
   "cell_type": "code",
   "execution_count": 15,
   "id": "503c8f67b008b5a3",
   "metadata": {
    "ExecuteTime": {
     "end_time": "2025-06-12T09:54:03.545708Z",
     "start_time": "2025-06-12T09:54:03.539212Z"
    }
   },
   "outputs": [
    {
     "data": {
      "text/plain": [
       "{1: 'a', 2: 'b', 3: 'c'}"
      ]
     },
     "execution_count": 15,
     "metadata": {},
     "output_type": "execute_result"
    }
   ],
   "source": [
    "d = {\"a\": 1, \"b\": 2, \"c\": 3}\n",
    "r = {}\n",
    "\n",
    "for k, v in d.items():\n",
    "    r[v] = k\n",
    "\n",
    "d = r\n",
    "r"
   ]
  },
  {
   "cell_type": "markdown",
   "id": "f579a2dbfe28eaf0",
   "metadata": {},
   "source": [
    "16. Merge these two dicts into one: d1 = {\"x\": 1, \"y\": 2} , d2 = {\"y\": 3, \"z\": 4} - ensuring overlapping keys take value from d2."
   ]
  },
  {
   "cell_type": "code",
   "execution_count": 16,
   "id": "b4d01fdce99f75b",
   "metadata": {
    "ExecuteTime": {
     "end_time": "2025-06-12T09:54:03.840853Z",
     "start_time": "2025-06-12T09:54:03.831942Z"
    }
   },
   "outputs": [
    {
     "data": {
      "text/plain": [
       "{'x': 1, 'y': 3, 'z': 4}"
      ]
     },
     "execution_count": 16,
     "metadata": {},
     "output_type": "execute_result"
    }
   ],
   "source": [
    "d1 = {\"x\": 1, \"y\": 2}\n",
    "d2 = {\"y\": 3, \"z\": 4}\n",
    "d1.update(d2)\n",
    "d1"
   ]
  },
  {
   "cell_type": "markdown",
   "id": "5885690fef9eedd8",
   "metadata": {},
   "source": [
    "17. From d = {\"x\": [1, 2], \"y\": [3, 4]}, change all list values to their sum."
   ]
  },
  {
   "cell_type": "code",
   "execution_count": 17,
   "id": "35581e10a55b70b3",
   "metadata": {
    "ExecuteTime": {
     "end_time": "2025-06-12T09:54:04.120267Z",
     "start_time": "2025-06-12T09:54:04.113241Z"
    }
   },
   "outputs": [
    {
     "data": {
      "text/plain": [
       "{'x': 3, 'y': 7}"
      ]
     },
     "execution_count": 17,
     "metadata": {},
     "output_type": "execute_result"
    }
   ],
   "source": [
    "d = {\"x\": [1, 2], \"y\": [3, 4]}\n",
    "\n",
    "for k, v in d.items():\n",
    "    d[k] = sum(v)\n",
    "\n",
    "d"
   ]
  },
  {
   "cell_type": "markdown",
   "id": "4fa9c5b5457d3676",
   "metadata": {},
   "source": [
    "18. From d = {\"x\": 10, \"y\": 20, \"z\": 30}, remove the key with the highest value."
   ]
  },
  {
   "cell_type": "code",
   "execution_count": 18,
   "id": "6a1e20516cca1eea",
   "metadata": {
    "ExecuteTime": {
     "end_time": "2025-06-12T09:54:04.413858Z",
     "start_time": "2025-06-12T09:54:04.405865Z"
    }
   },
   "outputs": [
    {
     "data": {
      "text/plain": [
       "{'x': 10, 'y': 20}"
      ]
     },
     "execution_count": 18,
     "metadata": {},
     "output_type": "execute_result"
    }
   ],
   "source": [
    "d = {\"x\": 10, \"y\": 20, \"z\": 30}\n",
    "m = max(d.values())\n",
    "\n",
    "for k, v in d.items():\n",
    "    if v == m:\n",
    "        m = k\n",
    "        break\n",
    "\n",
    "del d[m]\n",
    "d"
   ]
  },
  {
   "cell_type": "markdown",
   "id": "2ca6dae2afbd074c",
   "metadata": {},
   "source": [
    "19. Given list = [\"a=1\", \"b=2\", \"c=3\"], convert it into a dictionary."
   ]
  },
  {
   "cell_type": "code",
   "execution_count": 19,
   "id": "167d57003c6036c2",
   "metadata": {
    "ExecuteTime": {
     "end_time": "2025-06-12T09:54:04.695375Z",
     "start_time": "2025-06-12T09:54:04.687748Z"
    }
   },
   "outputs": [
    {
     "data": {
      "text/plain": [
       "{'a': 1, 'b': 2, 'c': 3}"
      ]
     },
     "execution_count": 19,
     "metadata": {},
     "output_type": "execute_result"
    }
   ],
   "source": [
    "l = [\"a=1\", \"b=2\", \"c=3\"]\n",
    "d = {}\n",
    "\n",
    "for element in l:\n",
    "    k, v = element.split(\"=\")\n",
    "    d[k] = int(v)\n",
    "\n",
    "d"
   ]
  },
  {
   "cell_type": "markdown",
   "id": "f5f1595bb0098707",
   "metadata": {},
   "source": [
    "20. Convert the dictionary {\"a\": [1, 2], \"b\": [3, 4]} into a list of tuples like: [(\"a\", 1), (\"a\", 2), (\"b\", 3), (\"b\", 4)] - without using loops."
   ]
  },
  {
   "cell_type": "code",
   "execution_count": 20,
   "id": "7339bfd8619413e",
   "metadata": {
    "ExecuteTime": {
     "end_time": "2025-06-12T09:54:04.982792Z",
     "start_time": "2025-06-12T09:54:04.975344Z"
    }
   },
   "outputs": [
    {
     "data": {
      "text/plain": [
       "[('a', 1), ('a', 2), ('b', 3), ('b', 4)]"
      ]
     },
     "execution_count": 20,
     "metadata": {},
     "output_type": "execute_result"
    }
   ],
   "source": [
    "d = {\"a\": [1, 2], \"b\": [3, 4]}\n",
    "l = []\n",
    "\n",
    "for k, v in d.items():\n",
    "    for e in v:\n",
    "        l.append((k, e))\n",
    "\n",
    "l"
   ]
  }
 ],
 "metadata": {
  "kernelspec": {
   "display_name": "Python 3 (ipykernel)",
   "language": "python",
   "name": "python3"
  },
  "language_info": {
   "codemirror_mode": {
    "name": "ipython",
    "version": 3
   },
   "file_extension": ".py",
   "mimetype": "text/x-python",
   "name": "python",
   "nbconvert_exporter": "python",
   "pygments_lexer": "ipython3",
   "version": "3.12.10"
  }
 },
 "nbformat": 4,
 "nbformat_minor": 5
}
