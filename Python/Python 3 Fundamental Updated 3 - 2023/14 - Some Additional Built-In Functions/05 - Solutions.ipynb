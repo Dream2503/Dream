{
 "cells": [
  {
   "cell_type": "markdown",
   "id": "placed-advance",
   "metadata": {},
   "source": [
    "### Solutions"
   ]
  },
  {
   "cell_type": "markdown",
   "id": "measured-economics",
   "metadata": {},
   "source": [
    "#### Question 1"
   ]
  },
  {
   "cell_type": "markdown",
   "id": "another-victorian",
   "metadata": {},
   "source": [
    "Given these two lists:"
   ]
  },
  {
   "cell_type": "code",
   "id": "biological-change",
   "metadata": {
    "ExecuteTime": {
     "end_time": "2025-06-18T03:12:29.564087Z",
     "start_time": "2025-06-18T03:12:29.555927Z"
    }
   },
   "source": [
    "widgets = [f'w{i}' for i in range(1, 21)]\n",
    "skus = [f'sku{i}' for i in range(1, len(widgets) + 1)]"
   ],
   "outputs": [],
   "execution_count": 1
  },
  {
   "cell_type": "markdown",
   "id": "august-brunei",
   "metadata": {},
   "source": [
    "Write a function that uses the `zip` function to generate a dictionary with keys from the `widgets`, and values from the `skus`, i.e.:\n",
    "\n",
    "```\n",
    "{\n",
    "  'w1': 'sku1',\n",
    "  'w2': 'sku2',\n",
    "  ...\n",
    "  'w20': 'sku20'\n",
    "}\n",
    "```"
   ]
  },
  {
   "cell_type": "markdown",
   "id": "chinese-guidance",
   "metadata": {},
   "source": [
    "##### Solution"
   ]
  },
  {
   "cell_type": "markdown",
   "id": "incorporated-gazette",
   "metadata": {},
   "source": [
    "Let's see what's contained in `widgets` and `skus`:"
   ]
  },
  {
   "cell_type": "code",
   "id": "stunning-highland",
   "metadata": {
    "ExecuteTime": {
     "end_time": "2025-06-18T03:12:29.967046Z",
     "start_time": "2025-06-18T03:12:29.960299Z"
    }
   },
   "source": [
    "print(widgets)"
   ],
   "outputs": [
    {
     "name": "stdout",
     "output_type": "stream",
     "text": [
      "['w1', 'w2', 'w3', 'w4', 'w5', 'w6', 'w7', 'w8', 'w9', 'w10', 'w11', 'w12', 'w13', 'w14', 'w15', 'w16', 'w17', 'w18', 'w19', 'w20']\n"
     ]
    }
   ],
   "execution_count": 2
  },
  {
   "cell_type": "code",
   "id": "approximate-assets",
   "metadata": {
    "ExecuteTime": {
     "end_time": "2025-06-18T03:12:30.023655Z",
     "start_time": "2025-06-18T03:12:30.015657Z"
    }
   },
   "source": [
    "print(skus)"
   ],
   "outputs": [
    {
     "name": "stdout",
     "output_type": "stream",
     "text": [
      "['sku1', 'sku2', 'sku3', 'sku4', 'sku5', 'sku6', 'sku7', 'sku8', 'sku9', 'sku10', 'sku11', 'sku12', 'sku13', 'sku14', 'sku15', 'sku16', 'sku17', 'sku18', 'sku19', 'sku20']\n"
     ]
    }
   ],
   "execution_count": 3
  },
  {
   "cell_type": "markdown",
   "id": "lightweight-compact",
   "metadata": {},
   "source": [
    "We can use the `zip` function to create tuples with the widgets and their corresponding skus:"
   ]
  },
  {
   "cell_type": "code",
   "id": "particular-contrast",
   "metadata": {
    "ExecuteTime": {
     "end_time": "2025-06-18T03:12:30.139008Z",
     "start_time": "2025-06-18T03:12:30.132778Z"
    }
   },
   "source": [
    "print(list(zip(widgets, skus)))"
   ],
   "outputs": [
    {
     "name": "stdout",
     "output_type": "stream",
     "text": [
      "[('w1', 'sku1'), ('w2', 'sku2'), ('w3', 'sku3'), ('w4', 'sku4'), ('w5', 'sku5'), ('w6', 'sku6'), ('w7', 'sku7'), ('w8', 'sku8'), ('w9', 'sku9'), ('w10', 'sku10'), ('w11', 'sku11'), ('w12', 'sku12'), ('w13', 'sku13'), ('w14', 'sku14'), ('w15', 'sku15'), ('w16', 'sku16'), ('w17', 'sku17'), ('w18', 'sku18'), ('w19', 'sku19'), ('w20', 'sku20')]\n"
     ]
    }
   ],
   "execution_count": 4
  },
  {
   "cell_type": "markdown",
   "id": "unusual-cooperation",
   "metadata": {},
   "source": [
    "What we really want though is a dictionary."
   ]
  },
  {
   "cell_type": "markdown",
   "id": "small-accessory",
   "metadata": {},
   "source": [
    "We could use a dictionary comprehension to do this:"
   ]
  },
  {
   "cell_type": "code",
   "id": "referenced-snake",
   "metadata": {
    "ExecuteTime": {
     "end_time": "2025-06-18T03:12:30.197317Z",
     "start_time": "2025-06-18T03:12:30.188047Z"
    }
   },
   "source": [
    "{widget: sku for widget, sku in zip(widgets, skus)}"
   ],
   "outputs": [
    {
     "data": {
      "text/plain": [
       "{'w1': 'sku1',\n",
       " 'w2': 'sku2',\n",
       " 'w3': 'sku3',\n",
       " 'w4': 'sku4',\n",
       " 'w5': 'sku5',\n",
       " 'w6': 'sku6',\n",
       " 'w7': 'sku7',\n",
       " 'w8': 'sku8',\n",
       " 'w9': 'sku9',\n",
       " 'w10': 'sku10',\n",
       " 'w11': 'sku11',\n",
       " 'w12': 'sku12',\n",
       " 'w13': 'sku13',\n",
       " 'w14': 'sku14',\n",
       " 'w15': 'sku15',\n",
       " 'w16': 'sku16',\n",
       " 'w17': 'sku17',\n",
       " 'w18': 'sku18',\n",
       " 'w19': 'sku19',\n",
       " 'w20': 'sku20'}"
      ]
     },
     "execution_count": 5,
     "metadata": {},
     "output_type": "execute_result"
    }
   ],
   "execution_count": 5
  },
  {
   "cell_type": "markdown",
   "id": "dietary-missouri",
   "metadata": {},
   "source": [
    "But, recall that the `dict` object is capable of handling a sequence of 2-element sequences:"
   ]
  },
  {
   "cell_type": "code",
   "id": "moral-province",
   "metadata": {
    "ExecuteTime": {
     "end_time": "2025-06-18T03:12:30.630506Z",
     "start_time": "2025-06-18T03:12:30.624289Z"
    }
   },
   "source": [
    "dict([('a', 10), ('b', 20)])"
   ],
   "outputs": [
    {
     "data": {
      "text/plain": [
       "{'a': 10, 'b': 20}"
      ]
     },
     "execution_count": 6,
     "metadata": {},
     "output_type": "execute_result"
    }
   ],
   "execution_count": 6
  },
  {
   "cell_type": "markdown",
   "id": "transsexual-recipe",
   "metadata": {},
   "source": [
    "So, we can actually use this instead of a comprehension:"
   ]
  },
  {
   "cell_type": "code",
   "id": "affected-three",
   "metadata": {
    "ExecuteTime": {
     "end_time": "2025-06-18T03:12:31.040301Z",
     "start_time": "2025-06-18T03:12:31.032041Z"
    }
   },
   "source": [
    "dict(zip(widgets, skus))"
   ],
   "outputs": [
    {
     "data": {
      "text/plain": [
       "{'w1': 'sku1',\n",
       " 'w2': 'sku2',\n",
       " 'w3': 'sku3',\n",
       " 'w4': 'sku4',\n",
       " 'w5': 'sku5',\n",
       " 'w6': 'sku6',\n",
       " 'w7': 'sku7',\n",
       " 'w8': 'sku8',\n",
       " 'w9': 'sku9',\n",
       " 'w10': 'sku10',\n",
       " 'w11': 'sku11',\n",
       " 'w12': 'sku12',\n",
       " 'w13': 'sku13',\n",
       " 'w14': 'sku14',\n",
       " 'w15': 'sku15',\n",
       " 'w16': 'sku16',\n",
       " 'w17': 'sku17',\n",
       " 'w18': 'sku18',\n",
       " 'w19': 'sku19',\n",
       " 'w20': 'sku20'}"
      ]
     },
     "execution_count": 7,
     "metadata": {},
     "output_type": "execute_result"
    }
   ],
   "execution_count": 7
  },
  {
   "cell_type": "markdown",
   "id": "monetary-dining",
   "metadata": {},
   "source": [
    "Let's finally write our function:"
   ]
  },
  {
   "cell_type": "code",
   "id": "antique-company",
   "metadata": {
    "ExecuteTime": {
     "end_time": "2025-06-18T03:12:31.545993Z",
     "start_time": "2025-06-18T03:12:31.540465Z"
    }
   },
   "source": [
    "def widget_skus(widgets, skus):\n",
    "    return dict(zip(widgets, skus))"
   ],
   "outputs": [],
   "execution_count": 8
  },
  {
   "cell_type": "code",
   "id": "shared-algebra",
   "metadata": {
    "ExecuteTime": {
     "end_time": "2025-06-18T03:12:31.694795Z",
     "start_time": "2025-06-18T03:12:31.690786Z"
    }
   },
   "source": [
    "print(widget_skus(widgets, skus))"
   ],
   "outputs": [
    {
     "name": "stdout",
     "output_type": "stream",
     "text": [
      "{'w1': 'sku1', 'w2': 'sku2', 'w3': 'sku3', 'w4': 'sku4', 'w5': 'sku5', 'w6': 'sku6', 'w7': 'sku7', 'w8': 'sku8', 'w9': 'sku9', 'w10': 'sku10', 'w11': 'sku11', 'w12': 'sku12', 'w13': 'sku13', 'w14': 'sku14', 'w15': 'sku15', 'w16': 'sku16', 'w17': 'sku17', 'w18': 'sku18', 'w19': 'sku19', 'w20': 'sku20'}\n"
     ]
    }
   ],
   "execution_count": 9
  },
  {
   "cell_type": "markdown",
   "id": "neither-maintenance",
   "metadata": {},
   "source": [
    "#### Question 2"
   ]
  },
  {
   "cell_type": "markdown",
   "id": "working-wealth",
   "metadata": {},
   "source": [
    "Given the following data:"
   ]
  },
  {
   "cell_type": "code",
   "id": "opened-sword",
   "metadata": {
    "ExecuteTime": {
     "end_time": "2025-06-18T03:12:32.317917Z",
     "start_time": "2025-06-18T03:12:32.312392Z"
    }
   },
   "source": [
    "suits = 'shdc'  # Spades, Hearts, Diamonds, Clubs\n",
    "ranks = list('23456789') + ['10', 'J', 'Q', 'K', 'A']"
   ],
   "outputs": [],
   "execution_count": 10
  },
  {
   "cell_type": "markdown",
   "id": "african-conclusion",
   "metadata": {},
   "source": [
    "Write a function that given those two inputs, returns a list with all 52 cards, consisting of tuples `(rank, suit)`, i.e.\n",
    "\n",
    "```\n",
    "[\n",
    "  [('2', 's'), ('3', 's'), ..., ('K', 's'), ('A', 's')],\n",
    "  [('2', 'h'), ('3', 'h'), ..., ('K', 'h'), ('A', 'h')],\n",
    "  ...\n",
    "]\n",
    "```"
   ]
  },
  {
   "cell_type": "markdown",
   "id": "institutional-hands",
   "metadata": {},
   "source": [
    "##### Solution"
   ]
  },
  {
   "cell_type": "markdown",
   "id": "suitable-authority",
   "metadata": {},
   "source": [
    "Let's first see what suits and ranks contain:"
   ]
  },
  {
   "cell_type": "code",
   "id": "anonymous-administrator",
   "metadata": {
    "ExecuteTime": {
     "end_time": "2025-06-18T03:12:33.075899Z",
     "start_time": "2025-06-18T03:12:33.065437Z"
    }
   },
   "source": [
    "suits"
   ],
   "outputs": [
    {
     "data": {
      "text/plain": [
       "'shdc'"
      ]
     },
     "execution_count": 11,
     "metadata": {},
     "output_type": "execute_result"
    }
   ],
   "execution_count": 11
  },
  {
   "cell_type": "code",
   "id": "color-slovakia",
   "metadata": {
    "ExecuteTime": {
     "end_time": "2025-06-18T03:12:33.235129Z",
     "start_time": "2025-06-18T03:12:33.229560Z"
    }
   },
   "source": [
    "ranks"
   ],
   "outputs": [
    {
     "data": {
      "text/plain": [
       "['2', '3', '4', '5', '6', '7', '8', '9', '10', 'J', 'Q', 'K', 'A']"
      ]
     },
     "execution_count": 12,
     "metadata": {},
     "output_type": "execute_result"
    }
   ],
   "execution_count": 12
  },
  {
   "cell_type": "markdown",
   "id": "unusual-heart",
   "metadata": {},
   "source": [
    "Let's start writing our function to generate the deck of cards:"
   ]
  },
  {
   "cell_type": "code",
   "id": "seeing-dealing",
   "metadata": {
    "ExecuteTime": {
     "end_time": "2025-06-18T03:12:33.583758Z",
     "start_time": "2025-06-18T03:12:33.577091Z"
    }
   },
   "source": [
    "def deck(suits, ranks):\n",
    "    deck = []\n",
    "    for suit in suits:\n",
    "        for rank in ranks:\n",
    "            deck.append((rank, suit))\n",
    "    return deck"
   ],
   "outputs": [],
   "execution_count": 13
  },
  {
   "cell_type": "markdown",
   "id": "empty-collection",
   "metadata": {},
   "source": [
    "And let's see what we get:"
   ]
  },
  {
   "cell_type": "code",
   "id": "committed-nickel",
   "metadata": {
    "ExecuteTime": {
     "end_time": "2025-06-18T03:12:33.945070Z",
     "start_time": "2025-06-18T03:12:33.936539Z"
    }
   },
   "source": [
    "deck(suits, ranks)"
   ],
   "outputs": [
    {
     "data": {
      "text/plain": [
       "[('2', 's'),\n",
       " ('3', 's'),\n",
       " ('4', 's'),\n",
       " ('5', 's'),\n",
       " ('6', 's'),\n",
       " ('7', 's'),\n",
       " ('8', 's'),\n",
       " ('9', 's'),\n",
       " ('10', 's'),\n",
       " ('J', 's'),\n",
       " ('Q', 's'),\n",
       " ('K', 's'),\n",
       " ('A', 's'),\n",
       " ('2', 'h'),\n",
       " ('3', 'h'),\n",
       " ('4', 'h'),\n",
       " ('5', 'h'),\n",
       " ('6', 'h'),\n",
       " ('7', 'h'),\n",
       " ('8', 'h'),\n",
       " ('9', 'h'),\n",
       " ('10', 'h'),\n",
       " ('J', 'h'),\n",
       " ('Q', 'h'),\n",
       " ('K', 'h'),\n",
       " ('A', 'h'),\n",
       " ('2', 'd'),\n",
       " ('3', 'd'),\n",
       " ('4', 'd'),\n",
       " ('5', 'd'),\n",
       " ('6', 'd'),\n",
       " ('7', 'd'),\n",
       " ('8', 'd'),\n",
       " ('9', 'd'),\n",
       " ('10', 'd'),\n",
       " ('J', 'd'),\n",
       " ('Q', 'd'),\n",
       " ('K', 'd'),\n",
       " ('A', 'd'),\n",
       " ('2', 'c'),\n",
       " ('3', 'c'),\n",
       " ('4', 'c'),\n",
       " ('5', 'c'),\n",
       " ('6', 'c'),\n",
       " ('7', 'c'),\n",
       " ('8', 'c'),\n",
       " ('9', 'c'),\n",
       " ('10', 'c'),\n",
       " ('J', 'c'),\n",
       " ('Q', 'c'),\n",
       " ('K', 'c'),\n",
       " ('A', 'c')]"
      ]
     },
     "execution_count": 14,
     "metadata": {},
     "output_type": "execute_result"
    }
   ],
   "execution_count": 14
  },
  {
   "cell_type": "markdown",
   "id": "joint-keeping",
   "metadata": {},
   "source": [
    "So that's not quite what we want, we want each suit to be a separate list - let's fix that:"
   ]
  },
  {
   "cell_type": "code",
   "id": "deadly-crash",
   "metadata": {
    "ExecuteTime": {
     "end_time": "2025-06-18T03:12:34.256392Z",
     "start_time": "2025-06-18T03:12:34.249370Z"
    }
   },
   "source": [
    "def deck(suits, ranks):\n",
    "    deck = []\n",
    "    for suit in suits:\n",
    "        cards = []\n",
    "        for rank in ranks:\n",
    "            cards.append((rank, suit))\n",
    "        deck.append(cards)\n",
    "    return deck"
   ],
   "outputs": [],
   "execution_count": 15
  },
  {
   "cell_type": "markdown",
   "id": "least-squad",
   "metadata": {},
   "source": [
    "And let's try that now:"
   ]
  },
  {
   "cell_type": "code",
   "id": "angry-mercy",
   "metadata": {
    "ExecuteTime": {
     "end_time": "2025-06-18T03:12:34.590382Z",
     "start_time": "2025-06-18T03:12:34.583301Z"
    }
   },
   "source": [
    "print(deck(suits, ranks))"
   ],
   "outputs": [
    {
     "name": "stdout",
     "output_type": "stream",
     "text": [
      "[[('2', 's'), ('3', 's'), ('4', 's'), ('5', 's'), ('6', 's'), ('7', 's'), ('8', 's'), ('9', 's'), ('10', 's'), ('J', 's'), ('Q', 's'), ('K', 's'), ('A', 's')], [('2', 'h'), ('3', 'h'), ('4', 'h'), ('5', 'h'), ('6', 'h'), ('7', 'h'), ('8', 'h'), ('9', 'h'), ('10', 'h'), ('J', 'h'), ('Q', 'h'), ('K', 'h'), ('A', 'h')], [('2', 'd'), ('3', 'd'), ('4', 'd'), ('5', 'd'), ('6', 'd'), ('7', 'd'), ('8', 'd'), ('9', 'd'), ('10', 'd'), ('J', 'd'), ('Q', 'd'), ('K', 'd'), ('A', 'd')], [('2', 'c'), ('3', 'c'), ('4', 'c'), ('5', 'c'), ('6', 'c'), ('7', 'c'), ('8', 'c'), ('9', 'c'), ('10', 'c'), ('J', 'c'), ('Q', 'c'), ('K', 'c'), ('A', 'c')]]\n"
     ]
    }
   ],
   "execution_count": 16
  },
  {
   "cell_type": "markdown",
   "id": "parental-webster",
   "metadata": {},
   "source": [
    "OK, so this works, but notice how we implemented our code - we started by creating empty lists, and then appending things to them - when we see things like that, and assuming the code is not too complicated, we really should look at comprehensions."
   ]
  },
  {
   "cell_type": "markdown",
   "id": "operating-cargo",
   "metadata": {},
   "source": [
    "So, let's re-write our function to use comprehensions."
   ]
  },
  {
   "cell_type": "markdown",
   "id": "subject-laser",
   "metadata": {},
   "source": [
    "First, for the individual suits, we could generate the cards in the suit this way:"
   ]
  },
  {
   "cell_type": "code",
   "id": "israeli-netscape",
   "metadata": {
    "ExecuteTime": {
     "end_time": "2025-06-18T03:12:35.288411Z",
     "start_time": "2025-06-18T03:12:35.280822Z"
    }
   },
   "source": [
    "s = 'h'\n",
    "[(r, s) for r in ranks]"
   ],
   "outputs": [
    {
     "data": {
      "text/plain": [
       "[('2', 'h'),\n",
       " ('3', 'h'),\n",
       " ('4', 'h'),\n",
       " ('5', 'h'),\n",
       " ('6', 'h'),\n",
       " ('7', 'h'),\n",
       " ('8', 'h'),\n",
       " ('9', 'h'),\n",
       " ('10', 'h'),\n",
       " ('J', 'h'),\n",
       " ('Q', 'h'),\n",
       " ('K', 'h'),\n",
       " ('A', 'h')]"
      ]
     },
     "execution_count": 17,
     "metadata": {},
     "output_type": "execute_result"
    }
   ],
   "execution_count": 17
  },
  {
   "cell_type": "markdown",
   "id": "recent-active",
   "metadata": {},
   "source": [
    "And then we would nest this inside another comprehension that loops through each suit:"
   ]
  },
  {
   "cell_type": "code",
   "id": "special-basin",
   "metadata": {
    "ExecuteTime": {
     "end_time": "2025-06-18T03:12:35.621310Z",
     "start_time": "2025-06-18T03:12:35.613289Z"
    }
   },
   "source": [
    "[\n",
    "    [(r, s) for r in ranks]\n",
    "    for s in suits\n",
    "]"
   ],
   "outputs": [
    {
     "data": {
      "text/plain": [
       "[[('2', 's'),\n",
       "  ('3', 's'),\n",
       "  ('4', 's'),\n",
       "  ('5', 's'),\n",
       "  ('6', 's'),\n",
       "  ('7', 's'),\n",
       "  ('8', 's'),\n",
       "  ('9', 's'),\n",
       "  ('10', 's'),\n",
       "  ('J', 's'),\n",
       "  ('Q', 's'),\n",
       "  ('K', 's'),\n",
       "  ('A', 's')],\n",
       " [('2', 'h'),\n",
       "  ('3', 'h'),\n",
       "  ('4', 'h'),\n",
       "  ('5', 'h'),\n",
       "  ('6', 'h'),\n",
       "  ('7', 'h'),\n",
       "  ('8', 'h'),\n",
       "  ('9', 'h'),\n",
       "  ('10', 'h'),\n",
       "  ('J', 'h'),\n",
       "  ('Q', 'h'),\n",
       "  ('K', 'h'),\n",
       "  ('A', 'h')],\n",
       " [('2', 'd'),\n",
       "  ('3', 'd'),\n",
       "  ('4', 'd'),\n",
       "  ('5', 'd'),\n",
       "  ('6', 'd'),\n",
       "  ('7', 'd'),\n",
       "  ('8', 'd'),\n",
       "  ('9', 'd'),\n",
       "  ('10', 'd'),\n",
       "  ('J', 'd'),\n",
       "  ('Q', 'd'),\n",
       "  ('K', 'd'),\n",
       "  ('A', 'd')],\n",
       " [('2', 'c'),\n",
       "  ('3', 'c'),\n",
       "  ('4', 'c'),\n",
       "  ('5', 'c'),\n",
       "  ('6', 'c'),\n",
       "  ('7', 'c'),\n",
       "  ('8', 'c'),\n",
       "  ('9', 'c'),\n",
       "  ('10', 'c'),\n",
       "  ('J', 'c'),\n",
       "  ('Q', 'c'),\n",
       "  ('K', 'c'),\n",
       "  ('A', 'c')]]"
      ]
     },
     "execution_count": 18,
     "metadata": {},
     "output_type": "execute_result"
    }
   ],
   "execution_count": 18
  },
  {
   "cell_type": "markdown",
   "id": "civic-religious",
   "metadata": {},
   "source": [
    "So let's now use that inside our function:"
   ]
  },
  {
   "cell_type": "code",
   "id": "cubic-cylinder",
   "metadata": {
    "ExecuteTime": {
     "end_time": "2025-06-18T03:12:36.014664Z",
     "start_time": "2025-06-18T03:12:36.008693Z"
    }
   },
   "source": [
    "def deck(suits, ranks):\n",
    "    deck = [\n",
    "        [(r, s) for r in ranks]\n",
    "        for s in suits\n",
    "    ]\n",
    "    return deck"
   ],
   "outputs": [],
   "execution_count": 19
  },
  {
   "cell_type": "code",
   "id": "underlying-pulse",
   "metadata": {
    "ExecuteTime": {
     "end_time": "2025-06-18T03:12:36.118880Z",
     "start_time": "2025-06-18T03:12:36.113337Z"
    }
   },
   "source": [
    "print(deck(suits, ranks))"
   ],
   "outputs": [
    {
     "name": "stdout",
     "output_type": "stream",
     "text": [
      "[[('2', 's'), ('3', 's'), ('4', 's'), ('5', 's'), ('6', 's'), ('7', 's'), ('8', 's'), ('9', 's'), ('10', 's'), ('J', 's'), ('Q', 's'), ('K', 's'), ('A', 's')], [('2', 'h'), ('3', 'h'), ('4', 'h'), ('5', 'h'), ('6', 'h'), ('7', 'h'), ('8', 'h'), ('9', 'h'), ('10', 'h'), ('J', 'h'), ('Q', 'h'), ('K', 'h'), ('A', 'h')], [('2', 'd'), ('3', 'd'), ('4', 'd'), ('5', 'd'), ('6', 'd'), ('7', 'd'), ('8', 'd'), ('9', 'd'), ('10', 'd'), ('J', 'd'), ('Q', 'd'), ('K', 'd'), ('A', 'd')], [('2', 'c'), ('3', 'c'), ('4', 'c'), ('5', 'c'), ('6', 'c'), ('7', 'c'), ('8', 'c'), ('9', 'c'), ('10', 'c'), ('J', 'c'), ('Q', 'c'), ('K', 'c'), ('A', 'c')]]\n"
     ]
    }
   ],
   "execution_count": 20
  },
  {
   "cell_type": "markdown",
   "id": "clear-airplane",
   "metadata": {},
   "source": [
    "So this works fine, but we can use the `zip` function to make this even simpler."
   ]
  },
  {
   "cell_type": "markdown",
   "id": "isolated-attempt",
   "metadata": {},
   "source": [
    "Of course we cannot just zip `suits` and `ranks` since `suits` only contains 4 characters:"
   ]
  },
  {
   "cell_type": "code",
   "id": "danish-session",
   "metadata": {
    "ExecuteTime": {
     "end_time": "2025-06-18T03:12:36.429089Z",
     "start_time": "2025-06-18T03:12:36.422496Z"
    }
   },
   "source": [
    "list(zip(suits, ranks))"
   ],
   "outputs": [
    {
     "data": {
      "text/plain": [
       "[('s', '2'), ('h', '3'), ('d', '4'), ('c', '5')]"
      ]
     },
     "execution_count": 21,
     "metadata": {},
     "output_type": "execute_result"
    }
   ],
   "execution_count": 21
  },
  {
   "cell_type": "markdown",
   "id": "aquatic-madness",
   "metadata": {},
   "source": [
    "But, what we could do is repeat each character in `suits` thirteen times, and zip each of those with the ranks."
   ]
  },
  {
   "cell_type": "code",
   "id": "passing-forth",
   "metadata": {
    "ExecuteTime": {
     "end_time": "2025-06-18T03:12:36.656927Z",
     "start_time": "2025-06-18T03:12:36.651784Z"
    }
   },
   "source": [
    "suits[0]"
   ],
   "outputs": [
    {
     "data": {
      "text/plain": [
       "'s'"
      ]
     },
     "execution_count": 22,
     "metadata": {},
     "output_type": "execute_result"
    }
   ],
   "execution_count": 22
  },
  {
   "cell_type": "code",
   "id": "traditional-district",
   "metadata": {
    "ExecuteTime": {
     "end_time": "2025-06-18T03:12:36.794675Z",
     "start_time": "2025-06-18T03:12:36.788660Z"
    }
   },
   "source": [
    "suits[0] * 13"
   ],
   "outputs": [
    {
     "data": {
      "text/plain": [
       "'sssssssssssss'"
      ]
     },
     "execution_count": 23,
     "metadata": {},
     "output_type": "execute_result"
    }
   ],
   "execution_count": 23
  },
  {
   "cell_type": "markdown",
   "id": "inappropriate-vaccine",
   "metadata": {},
   "source": [
    "And we can zip that instead:"
   ]
  },
  {
   "cell_type": "code",
   "id": "unique-illness",
   "metadata": {
    "ExecuteTime": {
     "end_time": "2025-06-18T03:12:36.946227Z",
     "start_time": "2025-06-18T03:12:36.941188Z"
    }
   },
   "source": [
    "print(list(zip(ranks, suits[0] * 13)))"
   ],
   "outputs": [
    {
     "name": "stdout",
     "output_type": "stream",
     "text": [
      "[('2', 's'), ('3', 's'), ('4', 's'), ('5', 's'), ('6', 's'), ('7', 's'), ('8', 's'), ('9', 's'), ('10', 's'), ('J', 's'), ('Q', 's'), ('K', 's'), ('A', 's')]\n"
     ]
    }
   ],
   "execution_count": 24
  },
  {
   "cell_type": "markdown",
   "id": "cultural-rolling",
   "metadata": {},
   "source": [
    "Now all we need to do is repeat this for each suit:"
   ]
  },
  {
   "cell_type": "code",
   "id": "alike-artwork",
   "metadata": {
    "ExecuteTime": {
     "end_time": "2025-06-18T03:12:37.148575Z",
     "start_time": "2025-06-18T03:12:37.143058Z"
    }
   },
   "source": [
    "print([list(zip(ranks, suit * 13)) for suit in suits])"
   ],
   "outputs": [
    {
     "name": "stdout",
     "output_type": "stream",
     "text": [
      "[[('2', 's'), ('3', 's'), ('4', 's'), ('5', 's'), ('6', 's'), ('7', 's'), ('8', 's'), ('9', 's'), ('10', 's'), ('J', 's'), ('Q', 's'), ('K', 's'), ('A', 's')], [('2', 'h'), ('3', 'h'), ('4', 'h'), ('5', 'h'), ('6', 'h'), ('7', 'h'), ('8', 'h'), ('9', 'h'), ('10', 'h'), ('J', 'h'), ('Q', 'h'), ('K', 'h'), ('A', 'h')], [('2', 'd'), ('3', 'd'), ('4', 'd'), ('5', 'd'), ('6', 'd'), ('7', 'd'), ('8', 'd'), ('9', 'd'), ('10', 'd'), ('J', 'd'), ('Q', 'd'), ('K', 'd'), ('A', 'd')], [('2', 'c'), ('3', 'c'), ('4', 'c'), ('5', 'c'), ('6', 'c'), ('7', 'c'), ('8', 'c'), ('9', 'c'), ('10', 'c'), ('J', 'c'), ('Q', 'c'), ('K', 'c'), ('A', 'c')]]\n"
     ]
    }
   ],
   "execution_count": 25
  },
  {
   "cell_type": "markdown",
   "id": "arabic-phone",
   "metadata": {},
   "source": [
    "So we can rewrite our function this way:"
   ]
  },
  {
   "cell_type": "code",
   "id": "atmospheric-petite",
   "metadata": {
    "ExecuteTime": {
     "end_time": "2025-06-18T03:12:37.375804Z",
     "start_time": "2025-06-18T03:12:37.370817Z"
    }
   },
   "source": [
    "def deck(suits, ranks):\n",
    "    return [list(zip(ranks, suit * 13)) for suit in suits]"
   ],
   "outputs": [],
   "execution_count": 26
  },
  {
   "cell_type": "code",
   "id": "comparative-force",
   "metadata": {
    "ExecuteTime": {
     "end_time": "2025-06-18T03:12:37.466871Z",
     "start_time": "2025-06-18T03:12:37.462414Z"
    }
   },
   "source": [
    "print(deck(suits, ranks))"
   ],
   "outputs": [
    {
     "name": "stdout",
     "output_type": "stream",
     "text": [
      "[[('2', 's'), ('3', 's'), ('4', 's'), ('5', 's'), ('6', 's'), ('7', 's'), ('8', 's'), ('9', 's'), ('10', 's'), ('J', 's'), ('Q', 's'), ('K', 's'), ('A', 's')], [('2', 'h'), ('3', 'h'), ('4', 'h'), ('5', 'h'), ('6', 'h'), ('7', 'h'), ('8', 'h'), ('9', 'h'), ('10', 'h'), ('J', 'h'), ('Q', 'h'), ('K', 'h'), ('A', 'h')], [('2', 'd'), ('3', 'd'), ('4', 'd'), ('5', 'd'), ('6', 'd'), ('7', 'd'), ('8', 'd'), ('9', 'd'), ('10', 'd'), ('J', 'd'), ('Q', 'd'), ('K', 'd'), ('A', 'd')], [('2', 'c'), ('3', 'c'), ('4', 'c'), ('5', 'c'), ('6', 'c'), ('7', 'c'), ('8', 'c'), ('9', 'c'), ('10', 'c'), ('J', 'c'), ('Q', 'c'), ('K', 'c'), ('A', 'c')]]\n"
     ]
    }
   ],
   "execution_count": 27
  },
  {
   "cell_type": "markdown",
   "id": "informational-floating",
   "metadata": {},
   "source": [
    "#### Question 3"
   ]
  },
  {
   "cell_type": "markdown",
   "id": "failing-newport",
   "metadata": {},
   "source": [
    "Write a function that receives two arguments:\n",
    "- a list of numbers\n",
    "- a keyword-only argument `reverse` that defaults to `False` and indicates an ascending sort, but a value of `True` indicates a descending sort"
   ]
  },
  {
   "cell_type": "markdown",
   "id": "virtual-partition",
   "metadata": {},
   "source": [
    "Your function should return three values:\n",
    "- a list of the numbers, but sorted (ascending/descending depending on value of `reverse`)\n",
    "- the minimum value in the list (this is not affected by the value of `reverse`)\n",
    "- the maximum value in the list (this is not affected by the value of `reverse`)"
   ]
  },
  {
   "cell_type": "markdown",
   "id": "cordless-appliance",
   "metadata": {},
   "source": [
    "##### Solution"
   ]
  },
  {
   "cell_type": "markdown",
   "id": "caroline-completion",
   "metadata": {},
   "source": [
    "Let's create some sample data first:"
   ]
  },
  {
   "cell_type": "code",
   "id": "german-spice",
   "metadata": {
    "ExecuteTime": {
     "end_time": "2025-06-18T03:12:38.749323Z",
     "start_time": "2025-06-18T03:12:38.744044Z"
    }
   },
   "source": [
    "data = [10, 3, -5, 3.14, 100, 1]"
   ],
   "outputs": [],
   "execution_count": 28
  },
  {
   "cell_type": "markdown",
   "id": "talented-taste",
   "metadata": {},
   "source": [
    "we can sort this data using the `sorted` function, as well as specify whether the order shoudl be ascending or descending:"
   ]
  },
  {
   "cell_type": "code",
   "id": "happy-oliver",
   "metadata": {
    "ExecuteTime": {
     "end_time": "2025-06-18T03:12:39.120494Z",
     "start_time": "2025-06-18T03:12:39.112767Z"
    }
   },
   "source": [
    "sorted(data)"
   ],
   "outputs": [
    {
     "data": {
      "text/plain": [
       "[-5, 1, 3, 3.14, 10, 100]"
      ]
     },
     "execution_count": 29,
     "metadata": {},
     "output_type": "execute_result"
    }
   ],
   "execution_count": 29
  },
  {
   "cell_type": "code",
   "id": "breathing-panic",
   "metadata": {
    "ExecuteTime": {
     "end_time": "2025-06-18T03:12:39.330932Z",
     "start_time": "2025-06-18T03:12:39.324059Z"
    }
   },
   "source": [
    "sorted(data, reverse=True)"
   ],
   "outputs": [
    {
     "data": {
      "text/plain": [
       "[100, 10, 3.14, 3, 1, -5]"
      ]
     },
     "execution_count": 30,
     "metadata": {},
     "output_type": "execute_result"
    }
   ],
   "execution_count": 30
  },
  {
   "cell_type": "markdown",
   "id": "sound-brisbane",
   "metadata": {},
   "source": [
    "We can find the minimum using the `min` function:"
   ]
  },
  {
   "cell_type": "code",
   "id": "constitutional-astronomy",
   "metadata": {
    "ExecuteTime": {
     "end_time": "2025-06-18T03:12:39.880985Z",
     "start_time": "2025-06-18T03:12:39.874495Z"
    }
   },
   "source": [
    "min(data)"
   ],
   "outputs": [
    {
     "data": {
      "text/plain": [
       "-5"
      ]
     },
     "execution_count": 31,
     "metadata": {},
     "output_type": "execute_result"
    }
   ],
   "execution_count": 31
  },
  {
   "cell_type": "markdown",
   "id": "rolled-burner",
   "metadata": {},
   "source": [
    "And the maximum using the `max` function:"
   ]
  },
  {
   "cell_type": "code",
   "id": "charming-slovak",
   "metadata": {
    "ExecuteTime": {
     "end_time": "2025-06-18T03:12:40.160923Z",
     "start_time": "2025-06-18T03:12:40.155144Z"
    }
   },
   "source": [
    "max(data)"
   ],
   "outputs": [
    {
     "data": {
      "text/plain": [
       "100"
      ]
     },
     "execution_count": 32,
     "metadata": {},
     "output_type": "execute_result"
    }
   ],
   "execution_count": 32
  },
  {
   "cell_type": "markdown",
   "id": "cultural-saskatchewan",
   "metadata": {},
   "source": [
    "Now, let's just package this up into a function:"
   ]
  },
  {
   "cell_type": "code",
   "id": "intense-receipt",
   "metadata": {
    "ExecuteTime": {
     "end_time": "2025-06-18T03:12:40.825731Z",
     "start_time": "2025-06-18T03:12:40.821674Z"
    }
   },
   "source": [
    "def list_info(data, *, reverse=False):\n",
    "    sorted_data = sorted(data, reverse=reverse)\n",
    "    minimum = min(data)\n",
    "    maximum = max(data)\n",
    "    return sorted_data, minimum, maximum"
   ],
   "outputs": [],
   "execution_count": 33
  },
  {
   "cell_type": "markdown",
   "id": "diagnostic-position",
   "metadata": {},
   "source": [
    "And let's try it out with our data:"
   ]
  },
  {
   "cell_type": "code",
   "id": "clear-berkeley",
   "metadata": {
    "ExecuteTime": {
     "end_time": "2025-06-18T03:12:41.568118Z",
     "start_time": "2025-06-18T03:12:41.562094Z"
    }
   },
   "source": [
    "list_info(data)"
   ],
   "outputs": [
    {
     "data": {
      "text/plain": [
       "([-5, 1, 3, 3.14, 10, 100], -5, 100)"
      ]
     },
     "execution_count": 34,
     "metadata": {},
     "output_type": "execute_result"
    }
   ],
   "execution_count": 34
  },
  {
   "cell_type": "code",
   "id": "welsh-repeat",
   "metadata": {
    "ExecuteTime": {
     "end_time": "2025-06-18T03:12:41.999966Z",
     "start_time": "2025-06-18T03:12:41.991920Z"
    }
   },
   "source": [
    "list_info(data, reverse=True)"
   ],
   "outputs": [
    {
     "data": {
      "text/plain": [
       "([100, 10, 3.14, 3, 1, -5], -5, 100)"
      ]
     },
     "execution_count": 35,
     "metadata": {},
     "output_type": "execute_result"
    }
   ],
   "execution_count": 35
  }
 ],
 "metadata": {
  "kernelspec": {
   "display_name": "Python 3",
   "language": "python",
   "name": "python3"
  },
  "language_info": {
   "codemirror_mode": {
    "name": "ipython",
    "version": 3
   },
   "file_extension": ".py",
   "mimetype": "text/x-python",
   "name": "python",
   "nbconvert_exporter": "python",
   "pygments_lexer": "ipython3",
   "version": "3.9.1"
  }
 },
 "nbformat": 4,
 "nbformat_minor": 5
}
