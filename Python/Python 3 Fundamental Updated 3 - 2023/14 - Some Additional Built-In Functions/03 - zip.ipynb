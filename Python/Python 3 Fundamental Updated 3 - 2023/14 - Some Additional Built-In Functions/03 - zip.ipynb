{
 "cells": [
  {
   "cell_type": "markdown",
   "metadata": {},
   "source": [
    "### The zip() Function"
   ]
  },
  {
   "cell_type": "markdown",
   "metadata": {},
   "source": [
    "Let's see some simple examples first."
   ]
  },
  {
   "cell_type": "code",
   "metadata": {
    "ExecuteTime": {
     "end_time": "2025-06-18T03:11:07.648350Z",
     "start_time": "2025-06-18T03:11:07.642138Z"
    }
   },
   "source": [
    "l = [1, 2, 3, 4, 5]\n",
    "t = (10, 20, 30)"
   ],
   "outputs": [],
   "execution_count": 1
  },
  {
   "cell_type": "code",
   "metadata": {
    "ExecuteTime": {
     "end_time": "2025-06-18T03:11:07.992289Z",
     "start_time": "2025-06-18T03:11:07.985583Z"
    }
   },
   "source": [
    "result = zip(l, t)"
   ],
   "outputs": [],
   "execution_count": 2
  },
  {
   "cell_type": "code",
   "metadata": {
    "ExecuteTime": {
     "end_time": "2025-06-18T03:11:08.028311Z",
     "start_time": "2025-06-18T03:11:08.017592Z"
    }
   },
   "source": [
    "result"
   ],
   "outputs": [
    {
     "data": {
      "text/plain": [
       "<zip at 0x1d8a0304cc0>"
      ]
     },
     "execution_count": 3,
     "metadata": {},
     "output_type": "execute_result"
    }
   ],
   "execution_count": 3
  },
  {
   "cell_type": "markdown",
   "metadata": {},
   "source": [
    "As you can see, what gets returned is a `zip` object - which is an **iterator**."
   ]
  },
  {
   "cell_type": "markdown",
   "metadata": {},
   "source": [
    "This means we can call `next()` on it:"
   ]
  },
  {
   "cell_type": "code",
   "metadata": {
    "ExecuteTime": {
     "end_time": "2025-06-18T03:11:08.072153Z",
     "start_time": "2025-06-18T03:11:08.064169Z"
    }
   },
   "source": [
    "next(result)"
   ],
   "outputs": [
    {
     "data": {
      "text/plain": [
       "(1, 10)"
      ]
     },
     "execution_count": 4,
     "metadata": {},
     "output_type": "execute_result"
    }
   ],
   "execution_count": 4
  },
  {
   "cell_type": "code",
   "metadata": {
    "ExecuteTime": {
     "end_time": "2025-06-18T03:11:08.144977Z",
     "start_time": "2025-06-18T03:11:08.137480Z"
    }
   },
   "source": [
    "next(result)"
   ],
   "outputs": [
    {
     "data": {
      "text/plain": [
       "(2, 20)"
      ]
     },
     "execution_count": 5,
     "metadata": {},
     "output_type": "execute_result"
    }
   ],
   "execution_count": 5
  },
  {
   "cell_type": "code",
   "metadata": {
    "ExecuteTime": {
     "end_time": "2025-06-18T03:11:08.218442Z",
     "start_time": "2025-06-18T03:11:08.211262Z"
    }
   },
   "source": [
    "next(result)"
   ],
   "outputs": [
    {
     "data": {
      "text/plain": [
       "(3, 30)"
      ]
     },
     "execution_count": 6,
     "metadata": {},
     "output_type": "execute_result"
    }
   ],
   "execution_count": 6
  },
  {
   "cell_type": "markdown",
   "metadata": {},
   "source": [
    "And now of course, there are no more elements in that iterator (the shortest sequence `t` had 3 elements), so if we call `next()` again we shoudl get a `StopIteration` exception:"
   ]
  },
  {
   "cell_type": "code",
   "metadata": {
    "ExecuteTime": {
     "end_time": "2025-06-18T03:11:08.349377Z",
     "start_time": "2025-06-18T03:11:08.342904Z"
    }
   },
   "source": [
    "try:\n",
    "    next(result)\n",
    "except StopIteration:\n",
    "    print('StopIteration')"
   ],
   "outputs": [
    {
     "name": "stdout",
     "output_type": "stream",
     "text": [
      "StopIteration\n"
     ]
    }
   ],
   "execution_count": 7
  },
  {
   "cell_type": "markdown",
   "metadata": {},
   "source": [
    "So, just like any iterator, if we want to re-iterate over that result, we have to **re-create** the iterator:"
   ]
  },
  {
   "cell_type": "code",
   "metadata": {
    "ExecuteTime": {
     "end_time": "2025-06-18T03:11:08.991533Z",
     "start_time": "2025-06-18T03:11:08.987088Z"
    }
   },
   "source": [
    "for t in zip(l, t):\n",
    "    print(t)"
   ],
   "outputs": [
    {
     "name": "stdout",
     "output_type": "stream",
     "text": [
      "(1, 10)\n",
      "(2, 20)\n",
      "(3, 30)\n"
     ]
    }
   ],
   "execution_count": 8
  },
  {
   "cell_type": "code",
   "metadata": {
    "ExecuteTime": {
     "end_time": "2025-06-18T03:11:09.190438Z",
     "start_time": "2025-06-18T03:11:09.186044Z"
    }
   },
   "source": [
    "combo = list(zip(l, t))"
   ],
   "outputs": [],
   "execution_count": 9
  },
  {
   "cell_type": "code",
   "metadata": {
    "ExecuteTime": {
     "end_time": "2025-06-18T03:11:09.549305Z",
     "start_time": "2025-06-18T03:11:09.542490Z"
    }
   },
   "source": [
    "combo"
   ],
   "outputs": [
    {
     "data": {
      "text/plain": [
       "[(1, 3), (2, 30)]"
      ]
     },
     "execution_count": 10,
     "metadata": {},
     "output_type": "execute_result"
    }
   ],
   "execution_count": 10
  },
  {
   "cell_type": "markdown",
   "metadata": {},
   "source": [
    "Now `combo` is a list, so an iterable, and we can iterate over that multiple times."
   ]
  },
  {
   "cell_type": "markdown",
   "metadata": {},
   "source": [
    "But creating a `zip` object has almost zero cost associated with it since the sequence of tuples is not actually created - they are produced one at a time when we iterate through the zip object."
   ]
  },
  {
   "cell_type": "code",
   "metadata": {
    "ExecuteTime": {
     "end_time": "2025-06-18T03:11:10.032127Z",
     "start_time": "2025-06-18T03:11:10.026706Z"
    }
   },
   "source": [
    "from time import perf_counter"
   ],
   "outputs": [],
   "execution_count": 11
  },
  {
   "cell_type": "code",
   "metadata": {
    "ExecuteTime": {
     "end_time": "2025-06-18T03:11:10.177462Z",
     "start_time": "2025-06-18T03:11:10.170993Z"
    }
   },
   "source": [
    "start = perf_counter()\n",
    "l1 = range(100_000_000_000)\n",
    "l2 = range(100_000_000_000)\n",
    "combo = zip(l1, l2)\n",
    "end = perf_counter()\n",
    "print(f'elapsed: {end - start}')"
   ],
   "outputs": [
    {
     "name": "stdout",
     "output_type": "stream",
     "text": [
      "elapsed: 0.00014829999417997897\n"
     ]
    }
   ],
   "execution_count": 12
  },
  {
   "cell_type": "markdown",
   "metadata": {},
   "source": [
    "As you can see, even though our range objects are huge, they do not create the values ahead of time (they yield them one by one), and zip does the same - so the creation time for all three was extremely fast."
   ]
  },
  {
   "cell_type": "markdown",
   "metadata": {},
   "source": [
    "If we were to convert this zip to a list on the other hand, things would be very different. First we would have to iterate over the entire sequence of tuples, and then create a list out of that:"
   ]
  },
  {
   "cell_type": "markdown",
   "metadata": {},
   "source": [
    "I don't want to be sitting here the entire day, so I'm going to cut back on those numbers a bit:"
   ]
  },
  {
   "cell_type": "code",
   "metadata": {
    "ExecuteTime": {
     "end_time": "2025-06-18T03:11:13.276204Z",
     "start_time": "2025-06-18T03:11:10.878006Z"
    }
   },
   "source": [
    "start = perf_counter()\n",
    "l1 = range(10_000_000)\n",
    "l2 = range(10_000_000)\n",
    "combo = list(zip(l1, l2))\n",
    "end = perf_counter()\n",
    "print(f'elapsed: {end - start}')"
   ],
   "outputs": [
    {
     "name": "stdout",
     "output_type": "stream",
     "text": [
      "elapsed: 2.392216600012034\n"
     ]
    }
   ],
   "execution_count": 13
  },
  {
   "cell_type": "markdown",
   "metadata": {},
   "source": [
    "As you can see, that took one second - and it will get worse as those number increase:"
   ]
  },
  {
   "cell_type": "markdown",
   "metadata": {},
   "source": [
    "We'll run across `zip()` frequently in this course, but let's see at least one practical example right now."
   ]
  },
  {
   "cell_type": "markdown",
   "metadata": {},
   "source": [
    "`zip()` basically provides us an easy mechanism for iterating through two or more iterables in parallel."
   ]
  },
  {
   "cell_type": "markdown",
   "metadata": {},
   "source": [
    "Remember how we could create dictionaries using the `dict()` function and passing an iterable containing tuples of `(key, value)` to it?"
   ]
  },
  {
   "cell_type": "code",
   "metadata": {
    "ExecuteTime": {
     "end_time": "2025-06-18T03:11:14.351208Z",
     "start_time": "2025-06-18T03:11:14.346698Z"
    }
   },
   "source": [
    "d = dict([('a', 1), ('b', 2), ('c', 3)])"
   ],
   "outputs": [],
   "execution_count": 14
  },
  {
   "cell_type": "code",
   "metadata": {
    "ExecuteTime": {
     "end_time": "2025-06-18T03:11:14.471783Z",
     "start_time": "2025-06-18T03:11:14.464750Z"
    }
   },
   "source": [
    "d"
   ],
   "outputs": [
    {
     "data": {
      "text/plain": [
       "{'a': 1, 'b': 2, 'c': 3}"
      ]
     },
     "execution_count": 15,
     "metadata": {},
     "output_type": "execute_result"
    }
   ],
   "execution_count": 15
  },
  {
   "cell_type": "markdown",
   "metadata": {},
   "source": [
    "Suppose we have some service somewhere that provides us data in tuple format:"
   ]
  },
  {
   "cell_type": "code",
   "metadata": {
    "ExecuteTime": {
     "end_time": "2025-06-18T03:11:14.859754Z",
     "start_time": "2025-06-18T03:11:14.853297Z"
    }
   },
   "source": [
    "data = [\n",
    "    ('item1', 10, 100.0),\n",
    "    ('item2', 5, 25.0),\n",
    "    ('item3', 100, 0.25)\n",
    "]"
   ],
   "outputs": [],
   "execution_count": 16
  },
  {
   "cell_type": "markdown",
   "metadata": {},
   "source": [
    "And suppose that the **schema** of this data is"
   ]
  },
  {
   "cell_type": "code",
   "metadata": {
    "ExecuteTime": {
     "end_time": "2025-06-18T03:11:15.237143Z",
     "start_time": "2025-06-18T03:11:15.231235Z"
    }
   },
   "source": [
    "schema = ('widget', 'num_sold', 'unit_price')"
   ],
   "outputs": [],
   "execution_count": 17
  },
  {
   "cell_type": "markdown",
   "metadata": {},
   "source": [
    "Now our goal is to turn this `data` and `schema` into a dictionary whose keys are the `widget` names, and corresponding values are themselves dictionaries containing keys for `num_sold` and `unit_price`, so something like this:"
   ]
  },
  {
   "cell_type": "code",
   "metadata": {
    "ExecuteTime": {
     "end_time": "2025-06-18T03:11:15.659963Z",
     "start_time": "2025-06-18T03:11:15.653920Z"
    }
   },
   "source": [
    "d = {\n",
    "    'item1': {'num_sold': 10, 'unit_price': 100.0},\n",
    "    'item2': {'num_sold': 10, 'unit_price': 25.0},\n",
    "    'item3': {'num_sold': 100, 'unit_price': 0.25}\n",
    "}"
   ],
   "outputs": [],
   "execution_count": 18
  },
  {
   "cell_type": "markdown",
   "metadata": {},
   "source": [
    "Suppose furthermore that over time this schema may change, the only constant we have is that the first item in the tuple is guaranteed to be the widget's name."
   ]
  },
  {
   "cell_type": "markdown",
   "metadata": {},
   "source": [
    "So, 3 months from now, we may be getting this schema instead:"
   ]
  },
  {
   "cell_type": "code",
   "metadata": {
    "ExecuteTime": {
     "end_time": "2025-06-18T03:11:16.217486Z",
     "start_time": "2025-06-18T03:11:16.209828Z"
    }
   },
   "source": [
    "('widget', 'manufacturer', 'num_sold', 'unit_price', 'discount')"
   ],
   "outputs": [
    {
     "data": {
      "text/plain": [
       "('widget', 'manufacturer', 'num_sold', 'unit_price', 'discount')"
      ]
     },
     "execution_count": 19,
     "metadata": {},
     "output_type": "execute_result"
    }
   ],
   "execution_count": 19
  },
  {
   "cell_type": "markdown",
   "metadata": {},
   "source": [
    "So we can't \"hardcode\" our schema and do it this way:"
   ]
  },
  {
   "cell_type": "code",
   "metadata": {
    "ExecuteTime": {
     "end_time": "2025-06-18T03:11:16.694124Z",
     "start_time": "2025-06-18T03:11:16.686617Z"
    }
   },
   "source": [
    "d = {}\n",
    "for item in data:\n",
    "    d[item[0]] = {'num_sold': item[1], 'unit_price': item[2]}\n",
    "print(d)"
   ],
   "outputs": [
    {
     "name": "stdout",
     "output_type": "stream",
     "text": [
      "{'item1': {'num_sold': 10, 'unit_price': 100.0}, 'item2': {'num_sold': 5, 'unit_price': 25.0}, 'item3': {'num_sold': 100, 'unit_price': 0.25}}\n"
     ]
    }
   ],
   "execution_count": 20
  },
  {
   "cell_type": "markdown",
   "metadata": {},
   "source": [
    "Although this works, if the schema changes we will have to change our code - not a good design."
   ]
  },
  {
   "cell_type": "markdown",
   "metadata": {},
   "source": [
    "Instead we are going to leverage the `schema`, and only modify this if it ever changes, and let our code handle the rest automatically, without changes."
   ]
  },
  {
   "cell_type": "markdown",
   "metadata": {},
   "source": [
    "To do this, we are going to `zip` each row with the schema:"
   ]
  },
  {
   "cell_type": "code",
   "metadata": {
    "ExecuteTime": {
     "end_time": "2025-06-18T03:11:17.051242Z",
     "start_time": "2025-06-18T03:11:17.045724Z"
    }
   },
   "source": [
    "for row in data:\n",
    "    print(list(zip(schema, row)))"
   ],
   "outputs": [
    {
     "name": "stdout",
     "output_type": "stream",
     "text": [
      "[('widget', 'item1'), ('num_sold', 10), ('unit_price', 100.0)]\n",
      "[('widget', 'item2'), ('num_sold', 5), ('unit_price', 25.0)]\n",
      "[('widget', 'item3'), ('num_sold', 100), ('unit_price', 0.25)]\n"
     ]
    }
   ],
   "execution_count": 21
  },
  {
   "cell_type": "markdown",
   "metadata": {},
   "source": [
    "As you can see we now know what each value in the data represents, based on the schema."
   ]
  },
  {
   "cell_type": "markdown",
   "metadata": {},
   "source": [
    "Since we are guaranteed that the first element of each row is the item name, we're not really interested in zipping that one up:"
   ]
  },
  {
   "cell_type": "code",
   "metadata": {
    "ExecuteTime": {
     "end_time": "2025-06-18T03:11:17.788274Z",
     "start_time": "2025-06-18T03:11:17.782168Z"
    }
   },
   "source": [
    "for row in data:\n",
    "    widget_name = row[0]\n",
    "    remaining = zip(schema[1:], row[1:])\n",
    "    print(widget_name, list(remaining))"
   ],
   "outputs": [
    {
     "name": "stdout",
     "output_type": "stream",
     "text": [
      "item1 [('num_sold', 10), ('unit_price', 100.0)]\n",
      "item2 [('num_sold', 5), ('unit_price', 25.0)]\n",
      "item3 [('num_sold', 100), ('unit_price', 0.25)]\n"
     ]
    }
   ],
   "execution_count": 22
  },
  {
   "cell_type": "markdown",
   "metadata": {},
   "source": [
    "Let's make the items in that zip into a dictionary:"
   ]
  },
  {
   "cell_type": "code",
   "metadata": {
    "ExecuteTime": {
     "end_time": "2025-06-18T03:11:18.171102Z",
     "start_time": "2025-06-18T03:11:18.164715Z"
    }
   },
   "source": [
    "for row in data:\n",
    "    widget_name = row[0]\n",
    "    sub_dict = dict(zip(schema[1:], row[1:]))\n",
    "    print(widget_name, sub_dict)"
   ],
   "outputs": [
    {
     "name": "stdout",
     "output_type": "stream",
     "text": [
      "item1 {'num_sold': 10, 'unit_price': 100.0}\n",
      "item2 {'num_sold': 5, 'unit_price': 25.0}\n",
      "item3 {'num_sold': 100, 'unit_price': 0.25}\n"
     ]
    }
   ],
   "execution_count": 23
  },
  {
   "cell_type": "markdown",
   "metadata": {},
   "source": [
    "So now we are ready to actually populate a dictionary, starting with an empty one, and adding each `widget_name` as a key, with the remaining values transformed into a dictionary (again all based on the `schema` and `data` which may change over time):"
   ]
  },
  {
   "cell_type": "code",
   "metadata": {
    "ExecuteTime": {
     "end_time": "2025-06-18T03:11:18.389960Z",
     "start_time": "2025-06-18T03:11:18.383391Z"
    }
   },
   "source": [
    "data_dict = {}\n",
    "for row in data:\n",
    "    widget_name = row[0]\n",
    "    sub_dict = dict(zip(schema[1:], row[1:]))\n",
    "    data_dict[widget_name] = sub_dict\n",
    "print(data_dict)"
   ],
   "outputs": [
    {
     "name": "stdout",
     "output_type": "stream",
     "text": [
      "{'item1': {'num_sold': 10, 'unit_price': 100.0}, 'item2': {'num_sold': 5, 'unit_price': 25.0}, 'item3': {'num_sold': 100, 'unit_price': 0.25}}\n"
     ]
    }
   ],
   "execution_count": 24
  },
  {
   "cell_type": "markdown",
   "metadata": {},
   "source": [
    "Of course, we can simplify this by not using temporary variables for `widget_name` and `sub_dict`:"
   ]
  },
  {
   "cell_type": "code",
   "metadata": {
    "ExecuteTime": {
     "end_time": "2025-06-18T03:11:19.179382Z",
     "start_time": "2025-06-18T03:11:19.174069Z"
    }
   },
   "source": [
    "data_dict = {}\n",
    "for row in data:\n",
    "    data_dict[row[0]] = dict(zip(schema[1:], row[1:]))\n",
    "print(data_dict)"
   ],
   "outputs": [
    {
     "name": "stdout",
     "output_type": "stream",
     "text": [
      "{'item1': {'num_sold': 10, 'unit_price': 100.0}, 'item2': {'num_sold': 5, 'unit_price': 25.0}, 'item3': {'num_sold': 100, 'unit_price': 0.25}}\n"
     ]
    }
   ],
   "execution_count": 25
  },
  {
   "cell_type": "markdown",
   "metadata": {},
   "source": [
    "And you should realize that we can actually use a dictionary comprehension for this!"
   ]
  },
  {
   "cell_type": "code",
   "metadata": {
    "ExecuteTime": {
     "end_time": "2025-06-18T03:11:19.563634Z",
     "start_time": "2025-06-18T03:11:19.557483Z"
    }
   },
   "source": [
    "data_dict = {row[0]: dict(zip(schema[1:], row[1:])) for row in data}\n",
    "print(data_dict)"
   ],
   "outputs": [
    {
     "name": "stdout",
     "output_type": "stream",
     "text": [
      "{'item1': {'num_sold': 10, 'unit_price': 100.0}, 'item2': {'num_sold': 5, 'unit_price': 25.0}, 'item3': {'num_sold': 100, 'unit_price': 0.25}}\n"
     ]
    }
   ],
   "execution_count": 26
  },
  {
   "cell_type": "markdown",
   "metadata": {},
   "source": [
    "There is a \"pretty-printing\" function available in Python that can print this dictionary in a more human-readable format:"
   ]
  },
  {
   "cell_type": "code",
   "metadata": {
    "ExecuteTime": {
     "end_time": "2025-06-18T03:11:20.206226Z",
     "start_time": "2025-06-18T03:11:20.201197Z"
    }
   },
   "source": [
    "from pprint import pprint"
   ],
   "outputs": [],
   "execution_count": 27
  },
  {
   "cell_type": "code",
   "metadata": {
    "ExecuteTime": {
     "end_time": "2025-06-18T03:11:20.485707Z",
     "start_time": "2025-06-18T03:11:20.478172Z"
    }
   },
   "source": [
    "pprint(data_dict)"
   ],
   "outputs": [
    {
     "name": "stdout",
     "output_type": "stream",
     "text": [
      "{'item1': {'num_sold': 10, 'unit_price': 100.0},\n",
      " 'item2': {'num_sold': 5, 'unit_price': 25.0},\n",
      " 'item3': {'num_sold': 100, 'unit_price': 0.25}}\n"
     ]
    }
   ],
   "execution_count": 28
  },
  {
   "cell_type": "markdown",
   "metadata": {},
   "source": [
    "So the nice thing about our solution is that it is extensible in that if the data (and the corresponding schema) changes, we can still handle it with no code changes except for updating the schema:"
   ]
  },
  {
   "cell_type": "code",
   "metadata": {
    "ExecuteTime": {
     "end_time": "2025-06-18T03:11:21.167981Z",
     "start_time": "2025-06-18T03:11:21.163260Z"
    }
   },
   "source": [
    "data = [\n",
    "    ('item1', 'manuf-1', 10, 100.0, 0.2),\n",
    "    ('item2', 'manuf-2', 5, 25.0, 0),\n",
    "    ('item3', 'manuf-3', 100, 0.25, 0.025)\n",
    "]"
   ],
   "outputs": [],
   "execution_count": 29
  },
  {
   "cell_type": "code",
   "metadata": {
    "ExecuteTime": {
     "end_time": "2025-06-18T03:11:21.544927Z",
     "start_time": "2025-06-18T03:11:21.538155Z"
    }
   },
   "source": [
    "schema = ('widget', 'manufacturer', 'num_sold', 'unit_price', 'discount')"
   ],
   "outputs": [],
   "execution_count": 30
  },
  {
   "cell_type": "code",
   "metadata": {
    "ExecuteTime": {
     "end_time": "2025-06-18T03:11:21.861901Z",
     "start_time": "2025-06-18T03:11:21.855577Z"
    }
   },
   "source": [
    "data_dict = {row[0]: dict(zip(schema[1:], row[1:])) for row in data}"
   ],
   "outputs": [],
   "execution_count": 31
  },
  {
   "cell_type": "code",
   "metadata": {
    "ExecuteTime": {
     "end_time": "2025-06-18T03:11:21.991287Z",
     "start_time": "2025-06-18T03:11:21.984263Z"
    }
   },
   "source": [
    "pprint(data_dict)"
   ],
   "outputs": [
    {
     "name": "stdout",
     "output_type": "stream",
     "text": [
      "{'item1': {'discount': 0.2,\n",
      "           'manufacturer': 'manuf-1',\n",
      "           'num_sold': 10,\n",
      "           'unit_price': 100.0},\n",
      " 'item2': {'discount': 0,\n",
      "           'manufacturer': 'manuf-2',\n",
      "           'num_sold': 5,\n",
      "           'unit_price': 25.0},\n",
      " 'item3': {'discount': 0.025,\n",
      "           'manufacturer': 'manuf-3',\n",
      "           'num_sold': 100,\n",
      "           'unit_price': 0.25}}\n"
     ]
    }
   ],
   "execution_count": 32
  },
  {
   "cell_type": "markdown",
   "metadata": {},
   "source": [
    "As you can see our code was able to handle the new schema with no code changes."
   ]
  }
 ],
 "metadata": {
  "kernelspec": {
   "display_name": "Python 3",
   "language": "python",
   "name": "python3"
  },
  "language_info": {
   "codemirror_mode": {
    "name": "ipython",
    "version": 3
   },
   "file_extension": ".py",
   "mimetype": "text/x-python",
   "name": "python",
   "nbconvert_exporter": "python",
   "pygments_lexer": "ipython3",
   "version": "3.9.1"
  }
 },
 "nbformat": 4,
 "nbformat_minor": 4
}
