{
 "cells": [
  {
   "cell_type": "markdown",
   "metadata": {},
   "source": [
    "### Import Variants"
   ]
  },
  {
   "cell_type": "markdown",
   "metadata": {},
   "source": [
    "So far we have seen two variants of the import statement:"
   ]
  },
  {
   "cell_type": "code",
   "metadata": {
    "ExecuteTime": {
     "end_time": "2025-06-18T04:49:34.884936Z",
     "start_time": "2025-06-18T04:49:34.877365Z"
    }
   },
   "source": [
    "import math"
   ],
   "outputs": [],
   "execution_count": 1
  },
  {
   "cell_type": "code",
   "metadata": {
    "ExecuteTime": {
     "end_time": "2025-06-18T04:49:35.204821Z",
     "start_time": "2025-06-18T04:49:35.199612Z"
    }
   },
   "source": [
    "import random as rnd"
   ],
   "outputs": [],
   "execution_count": 2
  },
  {
   "cell_type": "markdown",
   "metadata": {},
   "source": [
    "This not only loaded the `math` and `random` modules into memory (as objects), but also create variables in our local namespace with the module name or the alias if we specified one:"
   ]
  },
  {
   "cell_type": "code",
   "metadata": {
    "ExecuteTime": {
     "end_time": "2025-06-18T04:49:35.259561Z",
     "start_time": "2025-06-18T04:49:35.240636Z"
    }
   },
   "source": [
    "math"
   ],
   "outputs": [
    {
     "data": {
      "text/plain": [
       "<module 'math' (built-in)>"
      ]
     },
     "execution_count": 3,
     "metadata": {},
     "output_type": "execute_result"
    }
   ],
   "execution_count": 3
  },
  {
   "cell_type": "code",
   "metadata": {
    "ExecuteTime": {
     "end_time": "2025-06-18T04:49:35.423318Z",
     "start_time": "2025-06-18T04:49:35.417240Z"
    }
   },
   "source": [
    "rnd"
   ],
   "outputs": [
    {
     "data": {
      "text/plain": [
       "<module 'random' from 'C:\\\\Program Files\\\\WindowsApps\\\\PythonSoftwareFoundation.Python.3.12_3.12.2800.0_x64__qbz5n2kfra8p0\\\\Lib\\\\random.py'>"
      ]
     },
     "execution_count": 4,
     "metadata": {},
     "output_type": "execute_result"
    }
   ],
   "execution_count": 4
  },
  {
   "cell_type": "markdown",
   "metadata": {},
   "source": [
    "We can then use attributes inside those modules (objects) by using standard dot notation:"
   ]
  },
  {
   "cell_type": "code",
   "metadata": {
    "ExecuteTime": {
     "end_time": "2025-06-18T04:49:36.094463Z",
     "start_time": "2025-06-18T04:49:36.083303Z"
    }
   },
   "source": [
    "math.sqrt(2)"
   ],
   "outputs": [
    {
     "data": {
      "text/plain": [
       "1.4142135623730951"
      ]
     },
     "execution_count": 5,
     "metadata": {},
     "output_type": "execute_result"
    }
   ],
   "execution_count": 5
  },
  {
   "cell_type": "code",
   "metadata": {
    "ExecuteTime": {
     "end_time": "2025-06-18T04:49:36.232112Z",
     "start_time": "2025-06-18T04:49:36.226197Z"
    }
   },
   "source": [
    "rnd.randint(1, 6)"
   ],
   "outputs": [
    {
     "data": {
      "text/plain": [
       "2"
      ]
     },
     "execution_count": 6,
     "metadata": {},
     "output_type": "execute_result"
    }
   ],
   "execution_count": 6
  },
  {
   "cell_type": "markdown",
   "metadata": {},
   "source": [
    "But what if we are only interested in a few attributes inside those modules?"
   ]
  },
  {
   "cell_type": "markdown",
   "metadata": {},
   "source": [
    "If that's the case we can import just those attributes, and avoid having to use dot notation everywhere."
   ]
  },
  {
   "cell_type": "code",
   "metadata": {
    "ExecuteTime": {
     "end_time": "2025-06-18T04:49:36.437600Z",
     "start_time": "2025-06-18T04:49:36.432414Z"
    }
   },
   "source": [
    "from math import sqrt"
   ],
   "outputs": [],
   "execution_count": 7
  },
  {
   "cell_type": "markdown",
   "metadata": {},
   "source": [
    "So this loaded `math` (which was actually already loaded because we imported it earlier), and took `sqrt` from that module and created a variable of that same name pointing to it."
   ]
  },
  {
   "cell_type": "code",
   "metadata": {
    "ExecuteTime": {
     "end_time": "2025-06-18T04:49:36.597965Z",
     "start_time": "2025-06-18T04:49:36.591907Z"
    }
   },
   "source": [
    "sqrt(2)"
   ],
   "outputs": [
    {
     "data": {
      "text/plain": [
       "1.4142135623730951"
      ]
     },
     "execution_count": 8,
     "metadata": {},
     "output_type": "execute_result"
    }
   ],
   "execution_count": 8
  },
  {
   "cell_type": "markdown",
   "metadata": {},
   "source": [
    "This is actually almost the same as if we have done this:"
   ]
  },
  {
   "cell_type": "code",
   "metadata": {
    "ExecuteTime": {
     "end_time": "2025-06-18T04:49:36.738924Z",
     "start_time": "2025-06-18T04:49:36.732928Z"
    }
   },
   "source": [
    "import math\n",
    "\n",
    "sqrt = math.sqrt"
   ],
   "outputs": [],
   "execution_count": 9
  },
  {
   "cell_type": "code",
   "metadata": {
    "ExecuteTime": {
     "end_time": "2025-06-18T04:49:36.820231Z",
     "start_time": "2025-06-18T04:49:36.813398Z"
    }
   },
   "source": [
    "sqrt(2)"
   ],
   "outputs": [
    {
     "data": {
      "text/plain": [
       "1.4142135623730951"
      ]
     },
     "execution_count": 10,
     "metadata": {},
     "output_type": "execute_result"
    }
   ],
   "execution_count": 10
  },
  {
   "cell_type": "markdown",
   "metadata": {},
   "source": [
    "The main difference when we write:"
   ]
  },
  {
   "cell_type": "code",
   "metadata": {
    "ExecuteTime": {
     "end_time": "2025-06-18T04:49:36.878555Z",
     "start_time": "2025-06-18T04:49:36.873527Z"
    }
   },
   "source": [
    "from fractions import Fraction"
   ],
   "outputs": [],
   "execution_count": 11
  },
  {
   "cell_type": "markdown",
   "metadata": {},
   "source": [
    "is that `fractions` was loaded, a symbol named `Fraction` was created in our namespace that points to that attribute inside `fractions`, but `fractions` was not assigned to a symbol in our local namespace:"
   ]
  },
  {
   "cell_type": "code",
   "metadata": {
    "ExecuteTime": {
     "end_time": "2025-06-18T04:49:36.937282Z",
     "start_time": "2025-06-18T04:49:36.931754Z"
    }
   },
   "source": [
    "Fraction(1, 2)"
   ],
   "outputs": [
    {
     "data": {
      "text/plain": [
       "Fraction(1, 2)"
      ]
     },
     "execution_count": 12,
     "metadata": {},
     "output_type": "execute_result"
    }
   ],
   "execution_count": 12
  },
  {
   "cell_type": "code",
   "metadata": {
    "ExecuteTime": {
     "end_time": "2025-06-18T04:49:37.349826Z",
     "start_time": "2025-06-18T04:49:36.970295Z"
    }
   },
   "source": [
    "fractions.Fraction(1, 2)"
   ],
   "outputs": [
    {
     "ename": "NameError",
     "evalue": "name 'fractions' is not defined",
     "output_type": "error",
     "traceback": [
      "\u001B[1;31m---------------------------------------------------------------------------\u001B[0m",
      "\u001B[1;31mNameError\u001B[0m                                 Traceback (most recent call last)",
      "Cell \u001B[1;32mIn[13], line 1\u001B[0m\n\u001B[1;32m----> 1\u001B[0m \u001B[43mfractions\u001B[49m\u001B[38;5;241m.\u001B[39mFraction(\u001B[38;5;241m1\u001B[39m, \u001B[38;5;241m2\u001B[39m)\n",
      "\u001B[1;31mNameError\u001B[0m: name 'fractions' is not defined"
     ]
    }
   ],
   "execution_count": 13
  },
  {
   "cell_type": "markdown",
   "metadata": {},
   "source": [
    "In fact, we can combine those two variants as follows:"
   ]
  },
  {
   "cell_type": "code",
   "execution_count": 14,
   "metadata": {},
   "outputs": [],
   "source": [
    "import math\n",
    "from math import sqrt, pi"
   ]
  },
  {
   "cell_type": "markdown",
   "metadata": {},
   "source": [
    "That way, if we use `sqrt` and `pi` very often in our code, we can do so without using `math.sqrt` or `math.pi` every time, just `sqrt` and `pi`."
   ]
  },
  {
   "cell_type": "markdown",
   "metadata": {},
   "source": [
    "But for when we need to use say the `gcd` function once in a while, we can call it using dot notation:"
   ]
  },
  {
   "cell_type": "code",
   "execution_count": 15,
   "metadata": {},
   "outputs": [
    {
     "data": {
      "text/plain": [
       "5"
      ]
     },
     "execution_count": 15,
     "metadata": {},
     "output_type": "execute_result"
    }
   ],
   "source": [
    "math.gcd(15, 25)"
   ]
  },
  {
   "cell_type": "markdown",
   "metadata": {},
   "source": [
    "Of course, if all we need is `sqrt` and `pi`, then we just import those and don't do `import math` at all."
   ]
  },
  {
   "cell_type": "markdown",
   "metadata": {},
   "source": [
    "But in either case, the `math` module, as a whole, is loaded from file into memory."
   ]
  },
  {
   "cell_type": "markdown",
   "metadata": {},
   "source": [
    "When we write:"
   ]
  },
  {
   "cell_type": "code",
   "metadata": {
    "ExecuteTime": {
     "end_time": "2025-06-18T04:49:38.327166Z",
     "start_time": "2025-06-18T04:49:38.320996Z"
    }
   },
   "source": [
    "from math import sqrt"
   ],
   "outputs": [],
   "execution_count": 14
  },
  {
   "cell_type": "markdown",
   "metadata": {},
   "source": [
    "the **entire** `math` module is **still** loaded - it's just what variables are put into our namespace that change."
   ]
  }
 ],
 "metadata": {
  "kernelspec": {
   "display_name": "Python 3",
   "language": "python",
   "name": "python3"
  },
  "language_info": {
   "codemirror_mode": {
    "name": "ipython",
    "version": 3
   },
   "file_extension": ".py",
   "mimetype": "text/x-python",
   "name": "python",
   "nbconvert_exporter": "python",
   "pygments_lexer": "ipython3",
   "version": "3.9.1"
  }
 },
 "nbformat": 4,
 "nbformat_minor": 4
}
