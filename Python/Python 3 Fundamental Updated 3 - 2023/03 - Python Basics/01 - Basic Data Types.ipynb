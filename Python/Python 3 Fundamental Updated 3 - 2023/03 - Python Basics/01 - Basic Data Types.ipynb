{
 "cells": [
  {
   "cell_type": "markdown",
   "metadata": {},
   "source": [
    "### Basic Data Types"
   ]
  },
  {
   "cell_type": "markdown",
   "metadata": {},
   "source": [
    "We are going to use literals to create integers, floats and booleans:"
   ]
  },
  {
   "cell_type": "markdown",
   "metadata": {},
   "source": [
    "Here are a few integers:"
   ]
  },
  {
   "cell_type": "code",
   "metadata": {
    "ExecuteTime": {
     "end_time": "2025-06-17T18:48:18.773384Z",
     "start_time": "2025-06-17T18:48:18.753639Z"
    }
   },
   "source": [
    "1"
   ],
   "outputs": [
    {
     "data": {
      "text/plain": [
       "1"
      ]
     },
     "execution_count": 1,
     "metadata": {},
     "output_type": "execute_result"
    }
   ],
   "execution_count": 1
  },
  {
   "cell_type": "code",
   "metadata": {
    "ExecuteTime": {
     "end_time": "2025-06-17T18:48:19.513336Z",
     "start_time": "2025-06-17T18:48:19.508079Z"
    }
   },
   "source": [
    "-10"
   ],
   "outputs": [
    {
     "data": {
      "text/plain": [
       "-10"
      ]
     },
     "execution_count": 2,
     "metadata": {},
     "output_type": "execute_result"
    }
   ],
   "execution_count": 2
  },
  {
   "cell_type": "markdown",
   "metadata": {},
   "source": [
    "To create floats, we can just use a decimal (`.`) point:"
   ]
  },
  {
   "cell_type": "code",
   "metadata": {
    "ExecuteTime": {
     "end_time": "2025-06-17T18:48:22.399592Z",
     "start_time": "2025-06-17T18:48:22.394098Z"
    }
   },
   "source": [
    "1.0"
   ],
   "outputs": [
    {
     "data": {
      "text/plain": [
       "1.0"
      ]
     },
     "execution_count": 3,
     "metadata": {},
     "output_type": "execute_result"
    }
   ],
   "execution_count": 3
  },
  {
   "cell_type": "code",
   "metadata": {
    "ExecuteTime": {
     "end_time": "2025-06-17T18:48:22.871760Z",
     "start_time": "2025-06-17T18:48:22.865603Z"
    }
   },
   "source": [
    "-10.5"
   ],
   "outputs": [
    {
     "data": {
      "text/plain": [
       "-10.5"
      ]
     },
     "execution_count": 4,
     "metadata": {},
     "output_type": "execute_result"
    }
   ],
   "execution_count": 4
  },
  {
   "cell_type": "markdown",
   "metadata": {},
   "source": [
    "And for booleans, we use the **keywords** `True` and `False`:"
   ]
  },
  {
   "cell_type": "code",
   "metadata": {
    "ExecuteTime": {
     "end_time": "2025-06-17T18:48:24.502073Z",
     "start_time": "2025-06-17T18:48:24.494744Z"
    }
   },
   "source": [
    "True"
   ],
   "outputs": [
    {
     "data": {
      "text/plain": [
       "True"
      ]
     },
     "execution_count": 5,
     "metadata": {},
     "output_type": "execute_result"
    }
   ],
   "execution_count": 5
  },
  {
   "cell_type": "code",
   "metadata": {
    "ExecuteTime": {
     "end_time": "2025-06-17T18:48:24.939722Z",
     "start_time": "2025-06-17T18:48:24.932187Z"
    }
   },
   "source": [
    "False"
   ],
   "outputs": [
    {
     "data": {
      "text/plain": [
       "False"
      ]
     },
     "execution_count": 6,
     "metadata": {},
     "output_type": "execute_result"
    }
   ],
   "execution_count": 6
  },
  {
   "cell_type": "markdown",
   "metadata": {},
   "source": [
    "Recall what we discussed in the lecture: floats do not always have exact internal representations."
   ]
  },
  {
   "cell_type": "markdown",
   "metadata": {},
   "source": [
    "Specifically, we saw that `0.1` does not have an exact binary representation."
   ]
  },
  {
   "cell_type": "markdown",
   "metadata": {},
   "source": [
    "So, why does this look like `0.1` is exact?"
   ]
  },
  {
   "cell_type": "code",
   "metadata": {
    "ExecuteTime": {
     "end_time": "2025-06-17T18:48:27.468318Z",
     "start_time": "2025-06-17T18:48:27.461178Z"
    }
   },
   "source": [
    "0.1"
   ],
   "outputs": [
    {
     "data": {
      "text/plain": [
       "0.1"
      ]
     },
     "execution_count": 7,
     "metadata": {},
     "output_type": "execute_result"
    }
   ],
   "execution_count": 7
  },
  {
   "cell_type": "markdown",
   "metadata": {},
   "source": [
    "We have to be a bit careful! The output we are seeing here is Python's string representation (any output to the terminal is a string - a bunch of characters) - not the actual internal value."
   ]
  },
  {
   "cell_type": "markdown",
   "metadata": {},
   "source": [
    "And Python tries to be \"nice\" by formatting the number in a more human readable fashion."
   ]
  },
  {
   "cell_type": "markdown",
   "metadata": {},
   "source": [
    "The problem here is that this hides the internals."
   ]
  },
  {
   "cell_type": "markdown",
   "metadata": {},
   "source": [
    "To fix this, we are going to use the `format` function (we'll explain functions later) to specify the number of digits we want after the decimal point in the display:"
   ]
  },
  {
   "cell_type": "code",
   "metadata": {
    "ExecuteTime": {
     "end_time": "2025-06-17T18:48:30.478663Z",
     "start_time": "2025-06-17T18:48:30.472350Z"
    }
   },
   "source": [
    "format(0.1, '.25f')"
   ],
   "outputs": [
    {
     "data": {
      "text/plain": [
       "'0.1000000000000000055511151'"
      ]
     },
     "execution_count": 8,
     "metadata": {},
     "output_type": "execute_result"
    }
   ],
   "execution_count": 8
  },
  {
   "cell_type": "markdown",
   "metadata": {},
   "source": [
    "Here Python is basically rounding the internal number `0.1` to `25` digits after the decimal point - and now we can see that `0.1` is not stored exactly."
   ]
  },
  {
   "cell_type": "markdown",
   "metadata": {},
   "source": [
    "However, a float such as `0.125`, which is `1/8`, **is** therefore representable as a finite binary fraction (`1/2^3`):"
   ]
  },
  {
   "cell_type": "code",
   "metadata": {
    "ExecuteTime": {
     "end_time": "2025-06-17T18:48:35.322903Z",
     "start_time": "2025-06-17T18:48:35.315262Z"
    }
   },
   "source": [
    "format(0.125, '0.25f')"
   ],
   "outputs": [
    {
     "data": {
      "text/plain": [
       "'0.1250000000000000000000000'"
      ]
     },
     "execution_count": 9,
     "metadata": {},
     "output_type": "execute_result"
    }
   ],
   "execution_count": 9
  },
  {
   "cell_type": "markdown",
   "metadata": {},
   "source": [
    "So that is stored exactly."
   ]
  },
  {
   "cell_type": "markdown",
   "metadata": {},
   "source": [
    "The reason it is important to understand this is when we try to compare floats."
   ]
  },
  {
   "cell_type": "markdown",
   "metadata": {},
   "source": [
    "When we deal with integers it is perfectly fine to compare two integers using equality (we'll cover `==` in detail later):"
   ]
  },
  {
   "cell_type": "code",
   "metadata": {
    "ExecuteTime": {
     "end_time": "2025-06-17T18:48:39.815134Z",
     "start_time": "2025-06-17T18:48:39.807984Z"
    }
   },
   "source": [
    "1 + 1 + 1 == 3"
   ],
   "outputs": [
    {
     "data": {
      "text/plain": [
       "True"
      ]
     },
     "execution_count": 10,
     "metadata": {},
     "output_type": "execute_result"
    }
   ],
   "execution_count": 10
  },
  {
   "cell_type": "markdown",
   "metadata": {},
   "source": [
    "As you can see, the sum of the three integer `1`, `1` and `1` is exactly equal to the integer `3`."
   ]
  },
  {
   "cell_type": "markdown",
   "metadata": {},
   "source": [
    "But not so with floats!"
   ]
  },
  {
   "cell_type": "markdown",
   "metadata": {},
   "source": [
    "Consider adding `0.125` three times - we expect that the result should be `0.375`:"
   ]
  },
  {
   "cell_type": "code",
   "metadata": {
    "ExecuteTime": {
     "end_time": "2025-06-17T18:48:40.940601Z",
     "start_time": "2025-06-17T18:48:40.932305Z"
    }
   },
   "source": [
    "0.125 + 0.125 + 0.125 == 0.375"
   ],
   "outputs": [
    {
     "data": {
      "text/plain": [
       "True"
      ]
     },
     "execution_count": 11,
     "metadata": {},
     "output_type": "execute_result"
    }
   ],
   "execution_count": 11
  },
  {
   "cell_type": "markdown",
   "metadata": {},
   "source": [
    "That turns out to be the result we expect - but that's because `0.125` (and hence `0.375` has an exact float representation)."
   ]
  },
  {
   "cell_type": "markdown",
   "metadata": {},
   "source": [
    "But consider this example using `0.1` which we know does not have an exact representation:"
   ]
  },
  {
   "cell_type": "code",
   "metadata": {
    "ExecuteTime": {
     "end_time": "2025-06-17T18:48:41.598900Z",
     "start_time": "2025-06-17T18:48:41.591192Z"
    }
   },
   "source": [
    "0.1 + 0.1 + 0.1 == 0.3"
   ],
   "outputs": [
    {
     "data": {
      "text/plain": [
       "False"
      ]
     },
     "execution_count": 12,
     "metadata": {},
     "output_type": "execute_result"
    }
   ],
   "execution_count": 12
  },
  {
   "cell_type": "markdown",
   "metadata": {},
   "source": [
    "This result is not what we would expect."
   ]
  },
  {
   "cell_type": "markdown",
   "metadata": {},
   "source": [
    "We can see why by looking at a more detailed string representation of those numbers:"
   ]
  },
  {
   "cell_type": "code",
   "metadata": {
    "ExecuteTime": {
     "end_time": "2025-06-17T18:48:42.312006Z",
     "start_time": "2025-06-17T18:48:42.304300Z"
    }
   },
   "source": [
    "format(0.1 + 0.1 + 0.1, '.25f')"
   ],
   "outputs": [
    {
     "data": {
      "text/plain": [
       "'0.3000000000000000444089210'"
      ]
     },
     "execution_count": 13,
     "metadata": {},
     "output_type": "execute_result"
    }
   ],
   "execution_count": 13
  },
  {
   "cell_type": "code",
   "metadata": {
    "ExecuteTime": {
     "end_time": "2025-06-17T18:48:42.533437Z",
     "start_time": "2025-06-17T18:48:42.526449Z"
    }
   },
   "source": [
    "format(0.3, '.25f')"
   ],
   "outputs": [
    {
     "data": {
      "text/plain": [
       "'0.2999999999999999888977698'"
      ]
     },
     "execution_count": 14,
     "metadata": {},
     "output_type": "execute_result"
    }
   ],
   "execution_count": 14
  },
  {
   "cell_type": "markdown",
   "metadata": {},
   "source": [
    "As we can clearly see, the internal representations are not exactly the same. Hence why using `==` evaluated to `False`."
   ]
  },
  {
   "cell_type": "markdown",
   "metadata": {},
   "source": [
    "When dealing with `float` numbers, we should not, in general, use `==` - instead we should use some measure of closeness (within `0.01` for example)."
   ]
  },
  {
   "cell_type": "markdown",
   "metadata": {},
   "source": [
    "So instead we might do something like this:"
   ]
  },
  {
   "cell_type": "code",
   "metadata": {
    "ExecuteTime": {
     "end_time": "2025-06-17T18:48:43.374748Z",
     "start_time": "2025-06-17T18:48:43.367736Z"
    }
   },
   "source": [
    "abs((0.1 + 0.1 + 0.1) - 0.3) < 0.001"
   ],
   "outputs": [
    {
     "data": {
      "text/plain": [
       "True"
      ]
     },
     "execution_count": 15,
     "metadata": {},
     "output_type": "execute_result"
    }
   ],
   "execution_count": 15
  },
  {
   "cell_type": "markdown",
   "metadata": {},
   "source": [
    "(Here, `abs` is a Python built-in function that calculates the absolute value of a number)"
   ]
  }
 ],
 "metadata": {
  "kernelspec": {
   "display_name": "Python 3",
   "language": "python",
   "name": "python3"
  },
  "language_info": {
   "codemirror_mode": {
    "name": "ipython",
    "version": 3
   },
   "file_extension": ".py",
   "mimetype": "text/x-python",
   "name": "python",
   "nbconvert_exporter": "python",
   "pygments_lexer": "ipython3",
   "version": "3.9.1"
  }
 },
 "nbformat": 4,
 "nbformat_minor": 4
}
