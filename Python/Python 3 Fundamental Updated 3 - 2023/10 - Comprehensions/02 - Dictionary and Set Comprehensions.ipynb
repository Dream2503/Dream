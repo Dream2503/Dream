{
 "cells": [
  {
   "cell_type": "markdown",
   "metadata": {},
   "source": [
    "### Dictionary and Set Comprehensions"
   ]
  },
  {
   "cell_type": "markdown",
   "metadata": {},
   "source": [
    "The syntax for a dictionary or a set comprehension is almost the same as for a list comprehension.\n",
    "\n",
    "The difference is that we enclose the comprehension in `{}` instead of `[]`"
   ]
  },
  {
   "cell_type": "markdown",
   "metadata": {},
   "source": [
    "The way Python differentiates between a dictionary comprehension vs a set comprehension is our use of either a single element in the comprehension, or a `key: value` pair."
   ]
  },
  {
   "cell_type": "markdown",
   "metadata": {},
   "source": [
    "Let's start with a simple dictionary comprehension."
   ]
  },
  {
   "cell_type": "code",
   "metadata": {
    "ExecuteTime": {
     "end_time": "2025-06-17T19:46:34.502415Z",
     "start_time": "2025-06-17T19:46:34.496416Z"
    }
   },
   "source": [
    "widget_sales = [\n",
    "    {'name': 'widget 1', 'sales': 10},\n",
    "    {'name': 'widget 2', 'sales': 5},\n",
    "    {'name': 'widget 3', 'sales': 0}\n",
    "]"
   ],
   "outputs": [],
   "execution_count": 1
  },
  {
   "cell_type": "markdown",
   "metadata": {},
   "source": [
    "We want to create a new dictionary that contains the name of the widget as the key, and the sales number as the value."
   ]
  },
  {
   "cell_type": "markdown",
   "metadata": {},
   "source": [
    "We could do it \"traditionally\" first:"
   ]
  },
  {
   "cell_type": "code",
   "metadata": {
    "ExecuteTime": {
     "end_time": "2025-06-17T19:46:34.938432Z",
     "start_time": "2025-06-17T19:46:34.932212Z"
    }
   },
   "source": [
    "sales_by_widget = {}  # empty dict\n",
    "for d in widget_sales:\n",
    "    widget_name = d['name']\n",
    "    sales = d['sales']\n",
    "    sales_by_widget[widget_name] = sales\n",
    "    \n",
    "print(sales_by_widget)"
   ],
   "outputs": [
    {
     "name": "stdout",
     "output_type": "stream",
     "text": [
      "{'widget 1': 10, 'widget 2': 5, 'widget 3': 0}\n"
     ]
    }
   ],
   "execution_count": 2
  },
  {
   "cell_type": "markdown",
   "metadata": {},
   "source": [
    "We can re-write this slightly without temporary variables for `widget_name` and `sales`:"
   ]
  },
  {
   "cell_type": "code",
   "metadata": {
    "ExecuteTime": {
     "end_time": "2025-06-17T19:46:35.100069Z",
     "start_time": "2025-06-17T19:46:35.094070Z"
    }
   },
   "source": [
    "sales_by_widget = {}  # empty dict\n",
    "for d in widget_sales:\n",
    "    sales_by_widget[d['name']] = d['sales']\n",
    "    \n",
    "print(sales_by_widget)"
   ],
   "outputs": [
    {
     "name": "stdout",
     "output_type": "stream",
     "text": [
      "{'widget 1': 10, 'widget 2': 5, 'widget 3': 0}\n"
     ]
    }
   ],
   "execution_count": 3
  },
  {
   "cell_type": "markdown",
   "metadata": {},
   "source": [
    "We could use a comprehension instead:"
   ]
  },
  {
   "cell_type": "code",
   "metadata": {
    "ExecuteTime": {
     "end_time": "2025-06-17T19:46:35.271547Z",
     "start_time": "2025-06-17T19:46:35.266615Z"
    }
   },
   "source": [
    "sales_by_widget = {d['name']: d['sales'] for d in widget_sales}\n",
    "\n",
    "print(sales_by_widget)"
   ],
   "outputs": [
    {
     "name": "stdout",
     "output_type": "stream",
     "text": [
      "{'widget 1': 10, 'widget 2': 5, 'widget 3': 0}\n"
     ]
    }
   ],
   "execution_count": 4
  },
  {
   "cell_type": "markdown",
   "metadata": {},
   "source": [
    "Furthermore, we could also filter out zero sales:"
   ]
  },
  {
   "cell_type": "code",
   "metadata": {
    "ExecuteTime": {
     "end_time": "2025-06-17T19:46:35.471271Z",
     "start_time": "2025-06-17T19:46:35.466100Z"
    }
   },
   "source": [
    "sales_by_widget = {}  # empty dict\n",
    "for d in widget_sales:\n",
    "    if d['sales'] > 0:\n",
    "        sales_by_widget[d['name']] = d['sales']\n",
    "    \n",
    "print(sales_by_widget)"
   ],
   "outputs": [
    {
     "name": "stdout",
     "output_type": "stream",
     "text": [
      "{'widget 1': 10, 'widget 2': 5}\n"
     ]
    }
   ],
   "execution_count": 5
  },
  {
   "cell_type": "markdown",
   "metadata": {},
   "source": [
    "Or, using a comprehension syntax:"
   ]
  },
  {
   "cell_type": "code",
   "metadata": {
    "ExecuteTime": {
     "end_time": "2025-06-17T19:46:36.217903Z",
     "start_time": "2025-06-17T19:46:36.212355Z"
    }
   },
   "source": [
    "sales_by_widget = {d['name']: d['sales'] for d in widget_sales if d['sales'] > 0}\n",
    "\n",
    "print(sales_by_widget)"
   ],
   "outputs": [
    {
     "name": "stdout",
     "output_type": "stream",
     "text": [
      "{'widget 1': 10, 'widget 2': 5}\n"
     ]
    }
   ],
   "execution_count": 6
  },
  {
   "cell_type": "markdown",
   "metadata": {},
   "source": [
    "Comprehensions are a very concise and readable syntax for generating new collections based on some other collection."
   ]
  },
  {
   "cell_type": "markdown",
   "metadata": {},
   "source": [
    "For example, let's try to solve the following problem."
   ]
  },
  {
   "cell_type": "markdown",
   "metadata": {},
   "source": [
    "Given a paragraph of text, we want to identify all the words of length 5 or more used in the paragraph."
   ]
  },
  {
   "cell_type": "markdown",
   "metadata": {},
   "source": [
    "For simplicity, we'll assume that the paragraph only contains alphanumeric characters as well as these punctuation marks: `,`, `.`, `!`, `?`, `:`, `-`, `--`, `\\n`"
   ]
  },
  {
   "cell_type": "code",
   "metadata": {
    "ExecuteTime": {
     "end_time": "2025-06-17T19:46:38.018915Z",
     "start_time": "2025-06-17T19:46:38.013909Z"
    }
   },
   "source": [
    "paragraph = \"\"\"\n",
    "To be, or not to be--that is the question:\n",
    "Whether 'tis nobler in the mind to suffer\n",
    "The slings and arrows of outrageous fortune\n",
    "Or to take arms against a sea of troubles\n",
    "And by opposing end them. To die, to sleep--\n",
    "No more--and by a sleep to say we end\n",
    "The heartache, and the thousand natural shocks\n",
    "That flesh is heir to.\n",
    "\"\"\""
   ],
   "outputs": [],
   "execution_count": 7
  },
  {
   "cell_type": "markdown",
   "metadata": {},
   "source": [
    "There are better ways to do this, but for now we're going to use the tools we have at our disposal."
   ]
  },
  {
   "cell_type": "markdown",
   "metadata": {},
   "source": [
    "Since we don't really care about the punctuation characters, we're going to replace them with spaces:"
   ]
  },
  {
   "cell_type": "code",
   "metadata": {
    "ExecuteTime": {
     "end_time": "2025-06-17T19:46:38.903472Z",
     "start_time": "2025-06-17T19:46:38.897233Z"
    }
   },
   "source": [
    "punctuation = \",.!:-\\n\""
   ],
   "outputs": [],
   "execution_count": 8
  },
  {
   "cell_type": "code",
   "metadata": {
    "ExecuteTime": {
     "end_time": "2025-06-17T19:46:39.127645Z",
     "start_time": "2025-06-17T19:46:39.121640Z"
    }
   },
   "source": [
    "for char in punctuation:\n",
    "    paragraph = paragraph.replace(char, ' ')"
   ],
   "outputs": [],
   "execution_count": 9
  },
  {
   "cell_type": "code",
   "metadata": {
    "ExecuteTime": {
     "end_time": "2025-06-17T19:46:39.289582Z",
     "start_time": "2025-06-17T19:46:39.282080Z"
    }
   },
   "source": [
    "paragraph"
   ],
   "outputs": [
    {
     "data": {
      "text/plain": [
       "\" To be  or not to be  that is the question  Whether 'tis nobler in the mind to suffer The slings and arrows of outrageous fortune Or to take arms against a sea of troubles And by opposing end them  To die  to sleep   No more  and by a sleep to say we end The heartache  and the thousand natural shocks That flesh is heir to  \""
      ]
     },
     "execution_count": 10,
     "metadata": {},
     "output_type": "execute_result"
    }
   ],
   "execution_count": 10
  },
  {
   "cell_type": "markdown",
   "metadata": {},
   "source": [
    "Next we are going to create a word list by splitting on spaces:"
   ]
  },
  {
   "cell_type": "code",
   "metadata": {
    "ExecuteTime": {
     "end_time": "2025-06-17T19:46:39.741723Z",
     "start_time": "2025-06-17T19:46:39.736940Z"
    }
   },
   "source": [
    "all_words = paragraph.split()"
   ],
   "outputs": [],
   "execution_count": 11
  },
  {
   "cell_type": "code",
   "metadata": {
    "ExecuteTime": {
     "end_time": "2025-06-17T19:46:40.127583Z",
     "start_time": "2025-06-17T19:46:40.121583Z"
    }
   },
   "source": [
    "all_words"
   ],
   "outputs": [
    {
     "data": {
      "text/plain": [
       "['To',\n",
       " 'be',\n",
       " 'or',\n",
       " 'not',\n",
       " 'to',\n",
       " 'be',\n",
       " 'that',\n",
       " 'is',\n",
       " 'the',\n",
       " 'question',\n",
       " 'Whether',\n",
       " \"'tis\",\n",
       " 'nobler',\n",
       " 'in',\n",
       " 'the',\n",
       " 'mind',\n",
       " 'to',\n",
       " 'suffer',\n",
       " 'The',\n",
       " 'slings',\n",
       " 'and',\n",
       " 'arrows',\n",
       " 'of',\n",
       " 'outrageous',\n",
       " 'fortune',\n",
       " 'Or',\n",
       " 'to',\n",
       " 'take',\n",
       " 'arms',\n",
       " 'against',\n",
       " 'a',\n",
       " 'sea',\n",
       " 'of',\n",
       " 'troubles',\n",
       " 'And',\n",
       " 'by',\n",
       " 'opposing',\n",
       " 'end',\n",
       " 'them',\n",
       " 'To',\n",
       " 'die',\n",
       " 'to',\n",
       " 'sleep',\n",
       " 'No',\n",
       " 'more',\n",
       " 'and',\n",
       " 'by',\n",
       " 'a',\n",
       " 'sleep',\n",
       " 'to',\n",
       " 'say',\n",
       " 'we',\n",
       " 'end',\n",
       " 'The',\n",
       " 'heartache',\n",
       " 'and',\n",
       " 'the',\n",
       " 'thousand',\n",
       " 'natural',\n",
       " 'shocks',\n",
       " 'That',\n",
       " 'flesh',\n",
       " 'is',\n",
       " 'heir',\n",
       " 'to']"
      ]
     },
     "execution_count": 12,
     "metadata": {},
     "output_type": "execute_result"
    }
   ],
   "execution_count": 12
  },
  {
   "cell_type": "markdown",
   "metadata": {},
   "source": [
    "Finally, we have to create a list of unique words longer than 4 characters."
   ]
  },
  {
   "cell_type": "markdown",
   "metadata": {},
   "source": [
    "To get unique elements, we should use a set, but in addition we only want to retain the elements that have length at least 5 (greater than 4)."
   ]
  },
  {
   "cell_type": "code",
   "metadata": {
    "ExecuteTime": {
     "end_time": "2025-06-17T19:46:41.511340Z",
     "start_time": "2025-06-17T19:46:41.505296Z"
    }
   },
   "source": [
    "words = {word for word in all_words if len(word) > 4}"
   ],
   "outputs": [],
   "execution_count": 13
  },
  {
   "cell_type": "code",
   "metadata": {
    "ExecuteTime": {
     "end_time": "2025-06-17T19:46:41.830912Z",
     "start_time": "2025-06-17T19:46:41.824737Z"
    }
   },
   "source": [
    "words"
   ],
   "outputs": [
    {
     "data": {
      "text/plain": [
       "{'Whether',\n",
       " 'against',\n",
       " 'arrows',\n",
       " 'flesh',\n",
       " 'fortune',\n",
       " 'heartache',\n",
       " 'natural',\n",
       " 'nobler',\n",
       " 'opposing',\n",
       " 'outrageous',\n",
       " 'question',\n",
       " 'shocks',\n",
       " 'sleep',\n",
       " 'slings',\n",
       " 'suffer',\n",
       " 'thousand',\n",
       " 'troubles'}"
      ]
     },
     "execution_count": 14,
     "metadata": {},
     "output_type": "execute_result"
    }
   ],
   "execution_count": 14
  },
  {
   "cell_type": "markdown",
   "metadata": {},
   "source": [
    "Although we have not encountered this problem here, we may not care about casing, in which case we may prefer doing this:"
   ]
  },
  {
   "cell_type": "code",
   "metadata": {
    "ExecuteTime": {
     "end_time": "2025-06-17T19:46:42.721783Z",
     "start_time": "2025-06-17T19:46:42.716785Z"
    }
   },
   "source": [
    "words = {word.lower() for word in all_words if len(word) > 4}"
   ],
   "outputs": [],
   "execution_count": 15
  },
  {
   "cell_type": "code",
   "metadata": {
    "ExecuteTime": {
     "end_time": "2025-06-17T19:46:43.520904Z",
     "start_time": "2025-06-17T19:46:43.515311Z"
    }
   },
   "source": [
    "words"
   ],
   "outputs": [
    {
     "data": {
      "text/plain": [
       "{'against',\n",
       " 'arrows',\n",
       " 'flesh',\n",
       " 'fortune',\n",
       " 'heartache',\n",
       " 'natural',\n",
       " 'nobler',\n",
       " 'opposing',\n",
       " 'outrageous',\n",
       " 'question',\n",
       " 'shocks',\n",
       " 'sleep',\n",
       " 'slings',\n",
       " 'suffer',\n",
       " 'thousand',\n",
       " 'troubles',\n",
       " 'whether'}"
      ]
     },
     "execution_count": 16,
     "metadata": {},
     "output_type": "execute_result"
    }
   ],
   "execution_count": 16
  },
  {
   "cell_type": "markdown",
   "metadata": {},
   "source": [
    "Lastly let's look at another example where we start with a list of values, and we want to create a dictionary of all the unique elements in the list, with a count of how often they appear in the data."
   ]
  },
  {
   "cell_type": "markdown",
   "metadata": {},
   "source": [
    "Something like that can be useful if we are looking to create a frequency chart of occurrences in our data."
   ]
  },
  {
   "cell_type": "code",
   "metadata": {
    "ExecuteTime": {
     "end_time": "2025-06-17T19:46:44.841913Z",
     "start_time": "2025-06-17T19:46:44.837090Z"
    }
   },
   "source": [
    "data = ['a', 'a', 'a', 'b', 'b', 'c', 'c', 'c', 'd']"
   ],
   "outputs": [],
   "execution_count": 17
  },
  {
   "cell_type": "markdown",
   "metadata": {},
   "source": [
    "We essentially want to create a dictionary that looks like this:"
   ]
  },
  {
   "cell_type": "code",
   "metadata": {
    "ExecuteTime": {
     "end_time": "2025-06-17T19:46:45.638909Z",
     "start_time": "2025-06-17T19:46:45.634228Z"
    }
   },
   "source": [
    "freq = {\n",
    "    'a': 3,\n",
    "    'b': 2,\n",
    "    'c': 3,\n",
    "    'd': 1\n",
    "}"
   ],
   "outputs": [],
   "execution_count": 18
  },
  {
   "cell_type": "markdown",
   "metadata": {},
   "source": [
    "Let's try doing it this way:"
   ]
  },
  {
   "cell_type": "code",
   "metadata": {
    "ExecuteTime": {
     "end_time": "2025-06-17T19:46:46.594110Z",
     "start_time": "2025-06-17T19:46:46.590686Z"
    }
   },
   "source": [
    "freq = {}"
   ],
   "outputs": [],
   "execution_count": 19
  },
  {
   "cell_type": "code",
   "metadata": {
    "ExecuteTime": {
     "end_time": "2025-06-17T19:46:46.997828Z",
     "start_time": "2025-06-17T19:46:46.992316Z"
    }
   },
   "source": [
    "for element in set(data):  # use set to create a set of just the unique elements\n",
    "    # use a list comprehension to get a list of all the matching elements, \n",
    "    #  and count them up\n",
    "    count = len([char for char in data if char == element])\n",
    "    freq[element] = count\n",
    "    \n",
    "print(freq)"
   ],
   "outputs": [
    {
     "name": "stdout",
     "output_type": "stream",
     "text": [
      "{'d': 1, 'b': 2, 'c': 3, 'a': 3}\n"
     ]
    }
   ],
   "execution_count": 20
  },
  {
   "cell_type": "markdown",
   "metadata": {},
   "source": [
    "This works just fine, but we could simplify this further using a dictionary comprehension as well:"
   ]
  },
  {
   "cell_type": "code",
   "metadata": {
    "ExecuteTime": {
     "end_time": "2025-06-17T19:46:47.915719Z",
     "start_time": "2025-06-17T19:46:47.910684Z"
    }
   },
   "source": [
    "freq = {\n",
    "    element: len([char for char in data if char == element])\n",
    "    for element in set(data)   \n",
    "       }"
   ],
   "outputs": [],
   "execution_count": 21
  },
  {
   "cell_type": "code",
   "metadata": {
    "ExecuteTime": {
     "end_time": "2025-06-17T19:46:48.225418Z",
     "start_time": "2025-06-17T19:46:48.219072Z"
    }
   },
   "source": [
    "freq"
   ],
   "outputs": [
    {
     "data": {
      "text/plain": [
       "{'d': 1, 'b': 2, 'c': 3, 'a': 3}"
      ]
     },
     "execution_count": 22,
     "metadata": {},
     "output_type": "execute_result"
    }
   ],
   "execution_count": 22
  },
  {
   "cell_type": "markdown",
   "metadata": {},
   "source": [
    "This idea of creating a dictionary that contains all the unique \"keys\" from a collection, and a count for the corresponding value is one way of expressing mathematical multi-sets (sets where elements *can* repeat)."
   ]
  },
  {
   "cell_type": "markdown",
   "metadata": {},
   "source": [
    "This is a common thing, and in fact Python's standard library provides a tool to do just that."
   ]
  },
  {
   "cell_type": "markdown",
   "metadata": {},
   "source": [
    "It is located in the `collections` module and is called a `Counter` object."
   ]
  },
  {
   "cell_type": "markdown",
   "metadata": {},
   "source": [
    "We can use it as follows:"
   ]
  },
  {
   "cell_type": "code",
   "metadata": {
    "ExecuteTime": {
     "end_time": "2025-06-17T19:46:49.900438Z",
     "start_time": "2025-06-17T19:46:49.895124Z"
    }
   },
   "source": [
    "from collections import Counter"
   ],
   "outputs": [],
   "execution_count": 23
  },
  {
   "cell_type": "code",
   "metadata": {
    "ExecuteTime": {
     "end_time": "2025-06-17T19:46:50.218457Z",
     "start_time": "2025-06-17T19:46:50.213447Z"
    }
   },
   "source": [
    "freq = Counter(data)"
   ],
   "outputs": [],
   "execution_count": 24
  },
  {
   "cell_type": "code",
   "metadata": {
    "ExecuteTime": {
     "end_time": "2025-06-17T19:46:50.469650Z",
     "start_time": "2025-06-17T19:46:50.463514Z"
    }
   },
   "source": [
    "freq"
   ],
   "outputs": [
    {
     "data": {
      "text/plain": [
       "Counter({'a': 3, 'c': 3, 'b': 2, 'd': 1})"
      ]
     },
     "execution_count": 25,
     "metadata": {},
     "output_type": "execute_result"
    }
   ],
   "execution_count": 25
  },
  {
   "cell_type": "markdown",
   "metadata": {},
   "source": [
    "As you can see, we don't exactly have a dictionary - we have a `Counter` object, but it's very easy to transform it into a dictionary:"
   ]
  },
  {
   "cell_type": "code",
   "metadata": {
    "ExecuteTime": {
     "end_time": "2025-06-17T19:46:50.889183Z",
     "start_time": "2025-06-17T19:46:50.883302Z"
    }
   },
   "source": [
    "dict(freq)"
   ],
   "outputs": [
    {
     "data": {
      "text/plain": [
       "{'a': 3, 'b': 2, 'c': 3, 'd': 1}"
      ]
     },
     "execution_count": 26,
     "metadata": {},
     "output_type": "execute_result"
    }
   ],
   "execution_count": 26
  },
  {
   "cell_type": "markdown",
   "metadata": {},
   "source": [
    "We can use the same technique to get a frequency distribution of characters in a sentence."
   ]
  },
  {
   "cell_type": "markdown",
   "metadata": {},
   "source": [
    "For example, suppose we have this:"
   ]
  },
  {
   "cell_type": "code",
   "metadata": {
    "ExecuteTime": {
     "end_time": "2025-06-17T19:46:51.412239Z",
     "start_time": "2025-06-17T19:46:51.406240Z"
    }
   },
   "source": [
    "paragraph = \"\"\"\n",
    "Lorem ipsum dolor sit amet, consectetur adipiscing elit, sed do eiusmod tempor \n",
    "incididunt ut labore et dolore magna aliqua. Ut enim ad minim veniam, quis nostrud \n",
    "exercitation ullamco laboris nisi ut aliquip ex ea commodo consequat. Duis aute irure \n",
    "dolor in reprehenderit in voluptate velit esse cillum dolore eu fugiat nulla pariatur. \n",
    "Excepteur sint occaecat cupidatat non proident, sunt in culpa qui officia deserunt\n",
    "mollit anim id est laborum.\"\"\""
   ],
   "outputs": [],
   "execution_count": 27
  },
  {
   "cell_type": "code",
   "metadata": {
    "ExecuteTime": {
     "end_time": "2025-06-17T19:46:51.613828Z",
     "start_time": "2025-06-17T19:46:51.608830Z"
    }
   },
   "source": [
    "freq = Counter(paragraph)"
   ],
   "outputs": [],
   "execution_count": 28
  },
  {
   "cell_type": "code",
   "metadata": {
    "ExecuteTime": {
     "end_time": "2025-06-17T19:46:51.934235Z",
     "start_time": "2025-06-17T19:46:51.926312Z"
    }
   },
   "source": [
    "freq"
   ],
   "outputs": [
    {
     "data": {
      "text/plain": [
       "Counter({' ': 67,\n",
       "         'i': 42,\n",
       "         'e': 37,\n",
       "         't': 32,\n",
       "         'o': 29,\n",
       "         'a': 29,\n",
       "         'u': 28,\n",
       "         'n': 24,\n",
       "         'r': 22,\n",
       "         'l': 21,\n",
       "         's': 18,\n",
       "         'd': 18,\n",
       "         'm': 17,\n",
       "         'c': 16,\n",
       "         'p': 11,\n",
       "         '\\n': 6,\n",
       "         'q': 5,\n",
       "         ',': 4,\n",
       "         '.': 4,\n",
       "         'g': 3,\n",
       "         'b': 3,\n",
       "         'v': 3,\n",
       "         'x': 3,\n",
       "         'f': 3,\n",
       "         'L': 1,\n",
       "         'U': 1,\n",
       "         'D': 1,\n",
       "         'h': 1,\n",
       "         'E': 1})"
      ]
     },
     "execution_count": 29,
     "metadata": {},
     "output_type": "execute_result"
    }
   ],
   "execution_count": 29
  },
  {
   "cell_type": "markdown",
   "metadata": {},
   "source": [
    "Of course, we're not really interested in characters such as `\\n`, `,`, `.` and ` `."
   ]
  },
  {
   "cell_type": "markdown",
   "metadata": {},
   "source": [
    "We may not wish to differentiate between lower case and upper case characters."
   ]
  },
  {
   "cell_type": "markdown",
   "metadata": {},
   "source": [
    "In that case, we could do the following:"
   ]
  },
  {
   "cell_type": "code",
   "metadata": {
    "ExecuteTime": {
     "end_time": "2025-06-17T19:47:00.230228Z",
     "start_time": "2025-06-17T19:47:00.224034Z"
    }
   },
   "source": [
    "ignored = \" ,.\\n\""
   ],
   "outputs": [],
   "execution_count": 30
  },
  {
   "cell_type": "markdown",
   "metadata": {},
   "source": [
    "First step is to create a counter on the case folded (or lower cased since we only have ascii characters here):"
   ]
  },
  {
   "cell_type": "code",
   "metadata": {
    "ExecuteTime": {
     "end_time": "2025-06-17T19:47:01.478223Z",
     "start_time": "2025-06-17T19:47:01.474259Z"
    }
   },
   "source": [
    "freq = Counter(paragraph.casefold())"
   ],
   "outputs": [],
   "execution_count": 31
  },
  {
   "cell_type": "code",
   "metadata": {
    "ExecuteTime": {
     "end_time": "2025-06-17T19:47:01.724521Z",
     "start_time": "2025-06-17T19:47:01.717506Z"
    }
   },
   "source": [
    "freq"
   ],
   "outputs": [
    {
     "data": {
      "text/plain": [
       "Counter({' ': 67,\n",
       "         'i': 42,\n",
       "         'e': 38,\n",
       "         't': 32,\n",
       "         'o': 29,\n",
       "         'u': 29,\n",
       "         'a': 29,\n",
       "         'n': 24,\n",
       "         'l': 22,\n",
       "         'r': 22,\n",
       "         'd': 19,\n",
       "         's': 18,\n",
       "         'm': 17,\n",
       "         'c': 16,\n",
       "         'p': 11,\n",
       "         '\\n': 6,\n",
       "         'q': 5,\n",
       "         ',': 4,\n",
       "         '.': 4,\n",
       "         'g': 3,\n",
       "         'b': 3,\n",
       "         'v': 3,\n",
       "         'x': 3,\n",
       "         'f': 3,\n",
       "         'h': 1})"
      ]
     },
     "execution_count": 32,
     "metadata": {},
     "output_type": "execute_result"
    }
   ],
   "execution_count": 32
  },
  {
   "cell_type": "markdown",
   "metadata": {},
   "source": [
    "The next step is to filter out the unwanted keys:"
   ]
  },
  {
   "cell_type": "code",
   "metadata": {
    "ExecuteTime": {
     "end_time": "2025-06-17T19:47:02.252798Z",
     "start_time": "2025-06-17T19:47:02.247798Z"
    }
   },
   "source": [
    "freq = {key: value for key, value in freq.items() if key not in ignored}"
   ],
   "outputs": [],
   "execution_count": 33
  },
  {
   "cell_type": "code",
   "metadata": {
    "ExecuteTime": {
     "end_time": "2025-06-17T19:47:02.711372Z",
     "start_time": "2025-06-17T19:47:02.705378Z"
    }
   },
   "source": [
    "freq"
   ],
   "outputs": [
    {
     "data": {
      "text/plain": [
       "{'l': 22,\n",
       " 'o': 29,\n",
       " 'r': 22,\n",
       " 'e': 38,\n",
       " 'm': 17,\n",
       " 'i': 42,\n",
       " 'p': 11,\n",
       " 's': 18,\n",
       " 'u': 29,\n",
       " 'd': 19,\n",
       " 't': 32,\n",
       " 'a': 29,\n",
       " 'c': 16,\n",
       " 'n': 24,\n",
       " 'g': 3,\n",
       " 'b': 3,\n",
       " 'q': 5,\n",
       " 'v': 3,\n",
       " 'x': 3,\n",
       " 'h': 1,\n",
       " 'f': 3}"
      ]
     },
     "execution_count": 34,
     "metadata": {},
     "output_type": "execute_result"
    }
   ],
   "execution_count": 34
  },
  {
   "cell_type": "markdown",
   "metadata": {},
   "source": [
    "And we can put all this together as follows:"
   ]
  },
  {
   "cell_type": "code",
   "metadata": {
    "ExecuteTime": {
     "end_time": "2025-06-17T19:47:03.263249Z",
     "start_time": "2025-06-17T19:47:03.257610Z"
    }
   },
   "source": [
    "freq = {key: value \n",
    "        for key, value in dict(Counter(paragraph.casefold())).items()\n",
    "        if key not in ignored}"
   ],
   "outputs": [],
   "execution_count": 35
  },
  {
   "cell_type": "code",
   "metadata": {
    "ExecuteTime": {
     "end_time": "2025-06-17T19:47:03.597579Z",
     "start_time": "2025-06-17T19:47:03.591493Z"
    }
   },
   "source": [
    "freq"
   ],
   "outputs": [
    {
     "data": {
      "text/plain": [
       "{'l': 22,\n",
       " 'o': 29,\n",
       " 'r': 22,\n",
       " 'e': 38,\n",
       " 'm': 17,\n",
       " 'i': 42,\n",
       " 'p': 11,\n",
       " 's': 18,\n",
       " 'u': 29,\n",
       " 'd': 19,\n",
       " 't': 32,\n",
       " 'a': 29,\n",
       " 'c': 16,\n",
       " 'n': 24,\n",
       " 'g': 3,\n",
       " 'b': 3,\n",
       " 'q': 5,\n",
       " 'v': 3,\n",
       " 'x': 3,\n",
       " 'h': 1,\n",
       " 'f': 3}"
      ]
     },
     "execution_count": 36,
     "metadata": {},
     "output_type": "execute_result"
    }
   ],
   "execution_count": 36
  },
  {
   "cell_type": "markdown",
   "metadata": {},
   "source": [
    "The thing about `Counter` objects is that they are very much like actual dictionaries, which means they also support the `.items()` method directly - we don't have to transform (cast) them to a dictionary first:"
   ]
  },
  {
   "cell_type": "code",
   "metadata": {
    "ExecuteTime": {
     "end_time": "2025-06-17T19:47:05.554863Z",
     "start_time": "2025-06-17T19:47:05.549810Z"
    }
   },
   "source": [
    "freq = {key: value \n",
    "        for key, value in Counter(paragraph.casefold()).items()\n",
    "        if key not in ignored}"
   ],
   "outputs": [],
   "execution_count": 37
  },
  {
   "cell_type": "code",
   "metadata": {
    "ExecuteTime": {
     "end_time": "2025-06-17T19:47:06.174242Z",
     "start_time": "2025-06-17T19:47:06.166206Z"
    }
   },
   "source": [
    "freq"
   ],
   "outputs": [
    {
     "data": {
      "text/plain": [
       "{'l': 22,\n",
       " 'o': 29,\n",
       " 'r': 22,\n",
       " 'e': 38,\n",
       " 'm': 17,\n",
       " 'i': 42,\n",
       " 'p': 11,\n",
       " 's': 18,\n",
       " 'u': 29,\n",
       " 'd': 19,\n",
       " 't': 32,\n",
       " 'a': 29,\n",
       " 'c': 16,\n",
       " 'n': 24,\n",
       " 'g': 3,\n",
       " 'b': 3,\n",
       " 'q': 5,\n",
       " 'v': 3,\n",
       " 'x': 3,\n",
       " 'h': 1,\n",
       " 'f': 3}"
      ]
     },
     "execution_count": 38,
     "metadata": {},
     "output_type": "execute_result"
    }
   ],
   "execution_count": 38
  }
 ],
 "metadata": {
  "kernelspec": {
   "display_name": "Python 3",
   "language": "python",
   "name": "python3"
  },
  "language_info": {
   "codemirror_mode": {
    "name": "ipython",
    "version": 3
   },
   "file_extension": ".py",
   "mimetype": "text/x-python",
   "name": "python",
   "nbconvert_exporter": "python",
   "pygments_lexer": "ipython3",
   "version": "3.9.1"
  }
 },
 "nbformat": 4,
 "nbformat_minor": 4
}
