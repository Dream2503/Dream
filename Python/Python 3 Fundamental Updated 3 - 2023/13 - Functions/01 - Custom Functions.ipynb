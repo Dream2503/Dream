{
 "cells": [
  {
   "cell_type": "markdown",
   "metadata": {},
   "source": [
    "### Custom Functions"
   ]
  },
  {
   "cell_type": "markdown",
   "metadata": {},
   "source": [
    "We can create custom functions using the `def` keyword:"
   ]
  },
  {
   "cell_type": "code",
   "metadata": {
    "ExecuteTime": {
     "end_time": "2025-06-18T03:01:47.593168Z",
     "start_time": "2025-06-18T03:01:47.585745Z"
    }
   },
   "source": [
    "def say_hello():\n",
    "    return 'hello!'"
   ],
   "outputs": [],
   "execution_count": 1
  },
  {
   "cell_type": "markdown",
   "metadata": {},
   "source": [
    "We can then call this function using it's name (a symbol that points to the function object that was created):"
   ]
  },
  {
   "cell_type": "code",
   "metadata": {
    "ExecuteTime": {
     "end_time": "2025-06-18T03:01:48.014057Z",
     "start_time": "2025-06-18T03:01:48.002525Z"
    }
   },
   "source": [
    "say_hello()"
   ],
   "outputs": [
    {
     "data": {
      "text/plain": [
       "'hello!'"
      ]
     },
     "execution_count": 2,
     "metadata": {},
     "output_type": "execute_result"
    }
   ],
   "execution_count": 2
  },
  {
   "cell_type": "code",
   "metadata": {
    "ExecuteTime": {
     "end_time": "2025-06-18T03:01:48.110032Z",
     "start_time": "2025-06-18T03:01:48.103490Z"
    }
   },
   "source": [
    "say_hello()"
   ],
   "outputs": [
    {
     "data": {
      "text/plain": [
       "'hello!'"
      ]
     },
     "execution_count": 3,
     "metadata": {},
     "output_type": "execute_result"
    }
   ],
   "execution_count": 3
  },
  {
   "cell_type": "markdown",
   "metadata": {},
   "source": [
    "Note that `say_hello` is basically like a variable name - it is a variable (a symbol) that references some function object."
   ]
  },
  {
   "cell_type": "markdown",
   "metadata": {},
   "source": [
    "We can assign another symbol to the same function object:"
   ]
  },
  {
   "cell_type": "code",
   "metadata": {
    "ExecuteTime": {
     "end_time": "2025-06-18T03:01:48.186761Z",
     "start_time": "2025-06-18T03:01:48.181732Z"
    }
   },
   "source": [
    "alias = say_hello"
   ],
   "outputs": [],
   "execution_count": 4
  },
  {
   "cell_type": "markdown",
   "metadata": {},
   "source": [
    "Now both `alias` and `say_hello` are referencing the **same** function object:"
   ]
  },
  {
   "cell_type": "code",
   "metadata": {
    "ExecuteTime": {
     "end_time": "2025-06-18T03:01:48.215332Z",
     "start_time": "2025-06-18T03:01:48.208989Z"
    }
   },
   "source": [
    "id(alias), id(say_hello)"
   ],
   "outputs": [
    {
     "data": {
      "text/plain": [
       "(1695830512384, 1695830512384)"
      ]
     },
     "execution_count": 5,
     "metadata": {},
     "output_type": "execute_result"
    }
   ],
   "execution_count": 5
  },
  {
   "cell_type": "code",
   "metadata": {
    "ExecuteTime": {
     "end_time": "2025-06-18T03:01:48.266777Z",
     "start_time": "2025-06-18T03:01:48.259956Z"
    }
   },
   "source": [
    "alias is say_hello"
   ],
   "outputs": [
    {
     "data": {
      "text/plain": [
       "True"
      ]
     },
     "execution_count": 6,
     "metadata": {},
     "output_type": "execute_result"
    }
   ],
   "execution_count": 6
  },
  {
   "cell_type": "markdown",
   "metadata": {},
   "source": [
    "And now we can call this function using either name:"
   ]
  },
  {
   "cell_type": "code",
   "metadata": {
    "ExecuteTime": {
     "end_time": "2025-06-18T03:01:48.365920Z",
     "start_time": "2025-06-18T03:01:48.357367Z"
    }
   },
   "source": [
    "alias()"
   ],
   "outputs": [
    {
     "data": {
      "text/plain": [
       "'hello!'"
      ]
     },
     "execution_count": 7,
     "metadata": {},
     "output_type": "execute_result"
    }
   ],
   "execution_count": 7
  },
  {
   "cell_type": "markdown",
   "metadata": {},
   "source": [
    "The takeaway here is that when write:\n",
    "\n",
    "```\n",
    "def func_name():\n",
    "    # function body here\n",
    "```\n",
    "\n",
    "we are basically creating a function object with the code in the body, and Python then assigns that object to a symbol `func_name` in our code."
   ]
  },
  {
   "cell_type": "markdown",
   "metadata": {},
   "source": [
    "Now, there's a bit more going on, when we create a function in this way, the function object that was created has some extra data (beyond the code in the function body) attached to it:"
   ]
  },
  {
   "cell_type": "code",
   "metadata": {
    "ExecuteTime": {
     "end_time": "2025-06-18T03:01:48.497383Z",
     "start_time": "2025-06-18T03:01:48.490714Z"
    }
   },
   "source": [
    "say_hello.__name__"
   ],
   "outputs": [
    {
     "data": {
      "text/plain": [
       "'say_hello'"
      ]
     },
     "execution_count": 8,
     "metadata": {},
     "output_type": "execute_result"
    }
   ],
   "execution_count": 8
  },
  {
   "cell_type": "markdown",
   "metadata": {},
   "source": [
    "Functions often require some input values, and we can this by simply listing the names we want to assign to those positional arguments in the function definition (ther **parameters** of the function)."
   ]
  },
  {
   "cell_type": "code",
   "metadata": {
    "ExecuteTime": {
     "end_time": "2025-06-18T03:01:48.874025Z",
     "start_time": "2025-06-18T03:01:48.867804Z"
    }
   },
   "source": [
    "def add(a, b, c):\n",
    "    print(f'a = {a}')\n",
    "    print(f'a = {b}')\n",
    "    print(f'c = {c}')\n",
    "    return a + b + c"
   ],
   "outputs": [],
   "execution_count": 9
  },
  {
   "cell_type": "markdown",
   "metadata": {},
   "source": [
    "We can then call `add` with three arguments, and those values will be available in the function body using the names we specified for the parameters. The values are passed positionally - so the first argument goes into the first parameter, etc."
   ]
  },
  {
   "cell_type": "code",
   "metadata": {
    "ExecuteTime": {
     "end_time": "2025-06-18T03:01:49.312681Z",
     "start_time": "2025-06-18T03:01:49.305816Z"
    }
   },
   "source": [
    "result = add(1, 2, 3)\n",
    "print(f'result = {result}')"
   ],
   "outputs": [
    {
     "name": "stdout",
     "output_type": "stream",
     "text": [
      "a = 1\n",
      "a = 2\n",
      "c = 3\n",
      "result = 6\n"
     ]
    }
   ],
   "execution_count": 10
  },
  {
   "cell_type": "code",
   "metadata": {
    "ExecuteTime": {
     "end_time": "2025-06-18T03:01:49.506119Z",
     "start_time": "2025-06-18T03:01:49.501057Z"
    }
   },
   "source": [
    "result = add(3, 2, 1)\n",
    "print(f'result = {result}')"
   ],
   "outputs": [
    {
     "name": "stdout",
     "output_type": "stream",
     "text": [
      "a = 3\n",
      "a = 2\n",
      "c = 1\n",
      "result = 6\n"
     ]
    }
   ],
   "execution_count": 11
  },
  {
   "cell_type": "markdown",
   "metadata": {},
   "source": [
    "As we noted in the lecture, each time a function is **called** a new namespace is created that holds all the variables for that one specific \"run\" of the function."
   ]
  },
  {
   "cell_type": "markdown",
   "metadata": {},
   "source": [
    "Those variables are stored in a dictionary, much like a module stores its variables in a dictionary."
   ]
  },
  {
   "cell_type": "markdown",
   "metadata": {},
   "source": [
    "We can see the module variables by looking at the **globals** dictionary:"
   ]
  },
  {
   "cell_type": "code",
   "metadata": {
    "ExecuteTime": {
     "end_time": "2025-06-18T03:01:50.363736Z",
     "start_time": "2025-06-18T03:01:50.358598Z"
    }
   },
   "source": [
    "a = 1\n",
    "b = 2"
   ],
   "outputs": [],
   "execution_count": 12
  },
  {
   "cell_type": "code",
   "metadata": {
    "ExecuteTime": {
     "end_time": "2025-06-18T03:01:50.549266Z",
     "start_time": "2025-06-18T03:01:50.539716Z"
    }
   },
   "source": [
    "globals()"
   ],
   "outputs": [
    {
     "data": {
      "text/plain": [
       "{'__name__': '__main__',\n",
       " '__doc__': 'Automatically created module for IPython interactive environment',\n",
       " '__package__': None,\n",
       " '__loader__': None,\n",
       " '__spec__': None,\n",
       " '__builtin__': <module 'builtins' (built-in)>,\n",
       " '__builtins__': <module 'builtins' (built-in)>,\n",
       " '_ih': ['',\n",
       "  \"def say_hello():\\n    return 'hello!'\",\n",
       "  'say_hello()',\n",
       "  'say_hello()',\n",
       "  'alias = say_hello',\n",
       "  'id(alias), id(say_hello)',\n",
       "  'alias is say_hello',\n",
       "  'alias()',\n",
       "  'say_hello.__name__',\n",
       "  \"def add(a, b, c):\\n    print(f'a = {a}')\\n    print(f'a = {b}')\\n    print(f'c = {c}')\\n    return a + b + c\",\n",
       "  \"result = add(1, 2, 3)\\nprint(f'result = {result}')\",\n",
       "  \"result = add(3, 2, 1)\\nprint(f'result = {result}')\",\n",
       "  'a = 1\\nb = 2',\n",
       "  'globals()'],\n",
       " '_oh': {2: 'hello!',\n",
       "  3: 'hello!',\n",
       "  5: (1695830512384, 1695830512384),\n",
       "  6: True,\n",
       "  7: 'hello!',\n",
       "  8: 'say_hello'},\n",
       " '_dh': [WindowsPath('C:/Users/swapn/OneDrive/Desktop/achha/Dream/Python/Python 3 Fundamental Updated 3 - 2023/13 - Functions')],\n",
       " 'In': ['',\n",
       "  \"def say_hello():\\n    return 'hello!'\",\n",
       "  'say_hello()',\n",
       "  'say_hello()',\n",
       "  'alias = say_hello',\n",
       "  'id(alias), id(say_hello)',\n",
       "  'alias is say_hello',\n",
       "  'alias()',\n",
       "  'say_hello.__name__',\n",
       "  \"def add(a, b, c):\\n    print(f'a = {a}')\\n    print(f'a = {b}')\\n    print(f'c = {c}')\\n    return a + b + c\",\n",
       "  \"result = add(1, 2, 3)\\nprint(f'result = {result}')\",\n",
       "  \"result = add(3, 2, 1)\\nprint(f'result = {result}')\",\n",
       "  'a = 1\\nb = 2',\n",
       "  'globals()'],\n",
       " 'Out': {2: 'hello!',\n",
       "  3: 'hello!',\n",
       "  5: (1695830512384, 1695830512384),\n",
       "  6: True,\n",
       "  7: 'hello!',\n",
       "  8: 'say_hello'},\n",
       " 'get_ipython': <bound method InteractiveShell.get_ipython of <ipykernel.zmqshell.ZMQInteractiveShell object at 0x0000018AD4EEBE60>>,\n",
       " 'exit': <IPython.core.autocall.ZMQExitAutocall at 0x18ad4f51ac0>,\n",
       " 'quit': <IPython.core.autocall.ZMQExitAutocall at 0x18ad4f51ac0>,\n",
       " 'open': <function _io.open(file, mode='r', buffering=-1, encoding=None, errors=None, newline=None, closefd=True, opener=None)>,\n",
       " '_': 'say_hello',\n",
       " '__': 'hello!',\n",
       " '___': True,\n",
       " '__session__': 'C:\\\\Users\\\\swapn\\\\OneDrive\\\\Desktop\\\\achha\\\\Dream\\\\Python\\\\Python 3 Fundamental Updated 3 - 2023\\\\13 - Functions\\\\01 - Custom Functions.ipynb',\n",
       " '_i': 'a = 1\\nb = 2',\n",
       " '_ii': \"result = add(3, 2, 1)\\nprint(f'result = {result}')\",\n",
       " '_iii': \"result = add(1, 2, 3)\\nprint(f'result = {result}')\",\n",
       " '_i1': \"def say_hello():\\n    return 'hello!'\",\n",
       " 'say_hello': <function __main__.say_hello()>,\n",
       " 'sys': <module 'sys' (built-in)>,\n",
       " 'remove_imported_pydev_package': <function pydev_jupyter_utils.remove_imported_pydev_package()>,\n",
       " '_pydevd_bundle': <module '_pydevd_bundle' from 'C:\\\\Program Files\\\\JetBrains\\\\PyCharm 2024.3.2\\\\plugins\\\\python-ce\\\\helpers\\\\pydev\\\\_pydevd_bundle\\\\__init__.py'>,\n",
       " 'pydev_jupyter_vars': <module 'pydev_jupyter_vars' from 'C:\\\\Program Files\\\\JetBrains\\\\PyCharm 2024.3.2\\\\plugins\\\\python-ce\\\\helpers\\\\jupyter_debug\\\\pydev_jupyter_vars.py'>,\n",
       " '_i2': 'say_hello()',\n",
       " '_2': 'hello!',\n",
       " '_i3': 'say_hello()',\n",
       " '_3': 'hello!',\n",
       " '_i4': 'alias = say_hello',\n",
       " 'alias': <function __main__.say_hello()>,\n",
       " '_i5': 'id(alias), id(say_hello)',\n",
       " '_5': (1695830512384, 1695830512384),\n",
       " '_i6': 'alias is say_hello',\n",
       " '_6': True,\n",
       " '_i7': 'alias()',\n",
       " '_7': 'hello!',\n",
       " '_i8': 'say_hello.__name__',\n",
       " '_8': 'say_hello',\n",
       " '_i9': \"def add(a, b, c):\\n    print(f'a = {a}')\\n    print(f'a = {b}')\\n    print(f'c = {c}')\\n    return a + b + c\",\n",
       " 'add': <function __main__.add(a, b, c)>,\n",
       " '_i10': \"result = add(1, 2, 3)\\nprint(f'result = {result}')\",\n",
       " 'result': 6,\n",
       " '_i11': \"result = add(3, 2, 1)\\nprint(f'result = {result}')\",\n",
       " '_i12': 'a = 1\\nb = 2',\n",
       " 'a': 1,\n",
       " 'b': 2,\n",
       " '_i13': 'globals()'}"
      ]
     },
     "execution_count": 13,
     "metadata": {},
     "output_type": "execute_result"
    }
   ],
   "execution_count": 13
  },
  {
   "cell_type": "markdown",
   "metadata": {},
   "source": [
    "As you can see that dictionary contains, amongst a bunch opf other stuff, the variables `a` and `b`:"
   ]
  },
  {
   "cell_type": "code",
   "metadata": {
    "ExecuteTime": {
     "end_time": "2025-06-18T03:01:50.964703Z",
     "start_time": "2025-06-18T03:01:50.958171Z"
    }
   },
   "source": [
    "globals()['a']"
   ],
   "outputs": [
    {
     "data": {
      "text/plain": [
       "1"
      ]
     },
     "execution_count": 14,
     "metadata": {},
     "output_type": "execute_result"
    }
   ],
   "execution_count": 14
  },
  {
   "cell_type": "code",
   "metadata": {
    "ExecuteTime": {
     "end_time": "2025-06-18T03:01:51.201007Z",
     "start_time": "2025-06-18T03:01:51.193836Z"
    }
   },
   "source": [
    "globals()['b']"
   ],
   "outputs": [
    {
     "data": {
      "text/plain": [
       "2"
      ]
     },
     "execution_count": 15,
     "metadata": {},
     "output_type": "execute_result"
    }
   ],
   "execution_count": 15
  },
  {
   "cell_type": "markdown",
   "metadata": {},
   "source": [
    "And the associated value is the object we assigned to the symbol."
   ]
  },
  {
   "cell_type": "markdown",
   "metadata": {},
   "source": [
    "The same happens when calling functions, except the namespace is local (to the call):"
   ]
  },
  {
   "cell_type": "code",
   "metadata": {
    "ExecuteTime": {
     "end_time": "2025-06-18T03:01:51.835568Z",
     "start_time": "2025-06-18T03:01:51.830050Z"
    }
   },
   "source": [
    "def add(a, b, c):\n",
    "    print('initial namespace:', locals())\n",
    "    sum_ = a + b + c\n",
    "    print('after creating symbol sum_:', locals())\n",
    "    return sum_"
   ],
   "outputs": [],
   "execution_count": 16
  },
  {
   "cell_type": "code",
   "metadata": {
    "ExecuteTime": {
     "end_time": "2025-06-18T03:01:52.054162Z",
     "start_time": "2025-06-18T03:01:52.045684Z"
    }
   },
   "source": [
    "add(1, 2, 3)"
   ],
   "outputs": [
    {
     "name": "stdout",
     "output_type": "stream",
     "text": [
      "initial namespace: {'a': 1, 'b': 2, 'c': 3}\n",
      "after creating symbol sum_: {'a': 1, 'b': 2, 'c': 3, 'sum_': 6}\n"
     ]
    },
    {
     "data": {
      "text/plain": [
       "6"
      ]
     },
     "execution_count": 17,
     "metadata": {},
     "output_type": "execute_result"
    }
   ],
   "execution_count": 17
  },
  {
   "cell_type": "code",
   "metadata": {
    "ExecuteTime": {
     "end_time": "2025-06-18T03:01:52.271112Z",
     "start_time": "2025-06-18T03:01:52.263555Z"
    }
   },
   "source": [
    "add(3, 2, 1)"
   ],
   "outputs": [
    {
     "name": "stdout",
     "output_type": "stream",
     "text": [
      "initial namespace: {'a': 3, 'b': 2, 'c': 1}\n",
      "after creating symbol sum_: {'a': 3, 'b': 2, 'c': 1, 'sum_': 6}\n"
     ]
    },
    {
     "data": {
      "text/plain": [
       "6"
      ]
     },
     "execution_count": 18,
     "metadata": {},
     "output_type": "execute_result"
    }
   ],
   "execution_count": 18
  },
  {
   "cell_type": "markdown",
   "metadata": {},
   "source": [
    "Let's try a few more examples to get a good feel for writing functions:"
   ]
  },
  {
   "cell_type": "code",
   "metadata": {
    "ExecuteTime": {
     "end_time": "2025-06-18T03:01:52.690Z",
     "start_time": "2025-06-18T03:01:52.683911Z"
    }
   },
   "source": [
    "def find_max(a, b, c):\n",
    "    max_ = a\n",
    "    if b > max_:\n",
    "        max_ = b\n",
    "    if c > max_:\n",
    "        max_ = c\n",
    "    return max_"
   ],
   "outputs": [],
   "execution_count": 19
  },
  {
   "cell_type": "code",
   "metadata": {
    "ExecuteTime": {
     "end_time": "2025-06-18T03:01:52.911431Z",
     "start_time": "2025-06-18T03:01:52.903408Z"
    }
   },
   "source": [
    "find_max(10, 20, 30)"
   ],
   "outputs": [
    {
     "data": {
      "text/plain": [
       "30"
      ]
     },
     "execution_count": 20,
     "metadata": {},
     "output_type": "execute_result"
    }
   ],
   "execution_count": 20
  },
  {
   "cell_type": "code",
   "metadata": {
    "ExecuteTime": {
     "end_time": "2025-06-18T03:01:53.142719Z",
     "start_time": "2025-06-18T03:01:53.137165Z"
    }
   },
   "source": [
    "from datetime import datetime\n",
    "\n",
    "def log(message):\n",
    "    curr_time = datetime.utcnow().isoformat()\n",
    "    print(f'{curr_time} - [{message}]')"
   ],
   "outputs": [],
   "execution_count": 21
  },
  {
   "cell_type": "code",
   "metadata": {
    "ExecuteTime": {
     "end_time": "2025-06-18T03:01:53.348033Z",
     "start_time": "2025-06-18T03:01:53.340409Z"
    }
   },
   "source": [
    "log('log 1')"
   ],
   "outputs": [
    {
     "name": "stdout",
     "output_type": "stream",
     "text": [
      "2025-06-18T03:01:53.345443 - [log 1]\n"
     ]
    },
    {
     "name": "stderr",
     "output_type": "stream",
     "text": [
      "C:\\Users\\swapn\\AppData\\Local\\Temp\\ipykernel_39712\\2785426.py:4: DeprecationWarning: datetime.datetime.utcnow() is deprecated and scheduled for removal in a future version. Use timezone-aware objects to represent datetimes in UTC: datetime.datetime.now(datetime.UTC).\n",
      "  curr_time = datetime.utcnow().isoformat()\n"
     ]
    }
   ],
   "execution_count": 22
  },
  {
   "cell_type": "code",
   "metadata": {
    "ExecuteTime": {
     "end_time": "2025-06-18T03:01:53.588085Z",
     "start_time": "2025-06-18T03:01:53.582022Z"
    }
   },
   "source": [
    "log('log 2')"
   ],
   "outputs": [
    {
     "name": "stdout",
     "output_type": "stream",
     "text": [
      "2025-06-18T03:01:53.584031 - [log 2]\n"
     ]
    },
    {
     "name": "stderr",
     "output_type": "stream",
     "text": [
      "C:\\Users\\swapn\\AppData\\Local\\Temp\\ipykernel_39712\\2785426.py:4: DeprecationWarning: datetime.datetime.utcnow() is deprecated and scheduled for removal in a future version. Use timezone-aware objects to represent datetimes in UTC: datetime.datetime.now(datetime.UTC).\n",
      "  curr_time = datetime.utcnow().isoformat()\n"
     ]
    }
   ],
   "execution_count": 23
  },
  {
   "cell_type": "markdown",
   "metadata": {},
   "source": [
    "Notice how the current time changes every time we call the function."
   ]
  },
  {
   "cell_type": "markdown",
   "metadata": {},
   "source": [
    "Let's go back to a previous example, where we kept having to copy/paste the same code, just so we could run it multiple times:"
   ]
  },
  {
   "cell_type": "code",
   "metadata": {
    "ExecuteTime": {
     "end_time": "2025-06-18T03:01:54.178429Z",
     "start_time": "2025-06-18T03:01:54.172125Z"
    }
   },
   "source": [
    "data = [1, 2, 3, 4, 5, 6]\n",
    "\n",
    "for element in data:\n",
    "    if element < 0:\n",
    "        break\n",
    "else: # no break\n",
    "    print('processing all positive elements')"
   ],
   "outputs": [
    {
     "name": "stdout",
     "output_type": "stream",
     "text": [
      "processing all positive elements\n"
     ]
    }
   ],
   "execution_count": 24
  },
  {
   "cell_type": "markdown",
   "metadata": {},
   "source": [
    "Basically we were looking to write some code that would check if all elements of an iterable were positive."
   ]
  },
  {
   "cell_type": "markdown",
   "metadata": {},
   "source": [
    "We can easily convert this to a function that we can re-use as many times as we want throughout our code:"
   ]
  },
  {
   "cell_type": "code",
   "metadata": {
    "ExecuteTime": {
     "end_time": "2025-06-18T03:02:15.630048Z",
     "start_time": "2025-06-18T03:02:15.622767Z"
    }
   },
   "source": [
    "def is_all_positive(data):\n",
    "    for element in data:\n",
    "        if element < 0:\n",
    "            return False\n",
    "    return True"
   ],
   "outputs": [],
   "execution_count": 25
  },
  {
   "cell_type": "markdown",
   "metadata": {},
   "source": [
    "Now we can re-use it as many times as we want:"
   ]
  },
  {
   "cell_type": "code",
   "metadata": {
    "ExecuteTime": {
     "end_time": "2025-06-18T03:02:16.047467Z",
     "start_time": "2025-06-18T03:02:16.041452Z"
    }
   },
   "source": [
    "is_all_positive([1, 2, 3, 4, 5])"
   ],
   "outputs": [
    {
     "data": {
      "text/plain": [
       "True"
      ]
     },
     "execution_count": 26,
     "metadata": {},
     "output_type": "execute_result"
    }
   ],
   "execution_count": 26
  },
  {
   "cell_type": "code",
   "metadata": {
    "ExecuteTime": {
     "end_time": "2025-06-18T03:02:16.223434Z",
     "start_time": "2025-06-18T03:02:16.216674Z"
    }
   },
   "source": [
    "is_all_positive({10, 20, -3})"
   ],
   "outputs": [
    {
     "data": {
      "text/plain": [
       "False"
      ]
     },
     "execution_count": 27,
     "metadata": {},
     "output_type": "execute_result"
    }
   ],
   "execution_count": 27
  },
  {
   "cell_type": "code",
   "metadata": {
    "ExecuteTime": {
     "end_time": "2025-06-18T03:02:16.712328Z",
     "start_time": "2025-06-18T03:02:16.705846Z"
    }
   },
   "source": [
    "d = {'a': 10, 'b': 20, 'c': -30}"
   ],
   "outputs": [],
   "execution_count": 28
  },
  {
   "cell_type": "code",
   "metadata": {
    "ExecuteTime": {
     "end_time": "2025-06-18T03:02:17.192030Z",
     "start_time": "2025-06-18T03:02:17.181481Z"
    }
   },
   "source": [
    "is_all_positive(d.values())"
   ],
   "outputs": [
    {
     "data": {
      "text/plain": [
       "False"
      ]
     },
     "execution_count": 29,
     "metadata": {},
     "output_type": "execute_result"
    }
   ],
   "execution_count": 29
  },
  {
   "cell_type": "code",
   "metadata": {
    "ExecuteTime": {
     "end_time": "2025-06-18T03:02:17.674416Z",
     "start_time": "2025-06-18T03:02:17.668571Z"
    }
   },
   "source": [
    "is_all_positive(range(10))"
   ],
   "outputs": [
    {
     "data": {
      "text/plain": [
       "True"
      ]
     },
     "execution_count": 30,
     "metadata": {},
     "output_type": "execute_result"
    }
   ],
   "execution_count": 30
  },
  {
   "cell_type": "markdown",
   "metadata": {},
   "source": [
    "Of course, we can specify as many positional arguments as we want:"
   ]
  },
  {
   "cell_type": "code",
   "metadata": {
    "ExecuteTime": {
     "end_time": "2025-06-18T03:02:18.646726Z",
     "start_time": "2025-06-18T03:02:18.639474Z"
    }
   },
   "source": [
    "def gen_matrix(m, n, default_value):\n",
    "    # generate an mxn matrix with each element initialized to default_value\n",
    "    return [[default_value for i in range(n)] for j in range(m)]"
   ],
   "outputs": [],
   "execution_count": 31
  },
  {
   "cell_type": "code",
   "metadata": {
    "ExecuteTime": {
     "end_time": "2025-06-18T03:02:19.123055Z",
     "start_time": "2025-06-18T03:02:19.115004Z"
    }
   },
   "source": [
    "gen_matrix(2, 2, 1)"
   ],
   "outputs": [
    {
     "data": {
      "text/plain": [
       "[[1, 1], [1, 1]]"
      ]
     },
     "execution_count": 32,
     "metadata": {},
     "output_type": "execute_result"
    }
   ],
   "execution_count": 32
  },
  {
   "cell_type": "code",
   "metadata": {
    "ExecuteTime": {
     "end_time": "2025-06-18T03:02:19.618347Z",
     "start_time": "2025-06-18T03:02:19.610135Z"
    }
   },
   "source": [
    "gen_matrix(4, 8, 1)"
   ],
   "outputs": [
    {
     "data": {
      "text/plain": [
       "[[1, 1, 1, 1, 1, 1, 1, 1],\n",
       " [1, 1, 1, 1, 1, 1, 1, 1],\n",
       " [1, 1, 1, 1, 1, 1, 1, 1],\n",
       " [1, 1, 1, 1, 1, 1, 1, 1]]"
      ]
     },
     "execution_count": 33,
     "metadata": {},
     "output_type": "execute_result"
    }
   ],
   "execution_count": 33
  },
  {
   "cell_type": "markdown",
   "metadata": {},
   "source": [
    "It is important to give meaningful names to our parameters - it makes understanding what the parameter means easier."
   ]
  },
  {
   "cell_type": "markdown",
   "metadata": {},
   "source": [
    "For the above example, I would do this instead:"
   ]
  },
  {
   "cell_type": "code",
   "metadata": {
    "ExecuteTime": {
     "end_time": "2025-06-18T03:02:21.136477Z",
     "start_time": "2025-06-18T03:02:21.130451Z"
    }
   },
   "source": [
    "def gen_matrix(rows, cols, default_value):\n",
    "    return [[default_value for i in range(cols)] for j in range(rows)]"
   ],
   "outputs": [],
   "execution_count": 34
  },
  {
   "cell_type": "code",
   "metadata": {
    "ExecuteTime": {
     "end_time": "2025-06-18T03:02:21.436780Z",
     "start_time": "2025-06-18T03:02:21.428207Z"
    }
   },
   "source": [
    "gen_matrix(3, 2, 1)"
   ],
   "outputs": [
    {
     "data": {
      "text/plain": [
       "[[1, 1], [1, 1], [1, 1]]"
      ]
     },
     "execution_count": 35,
     "metadata": {},
     "output_type": "execute_result"
    }
   ],
   "execution_count": 35
  },
  {
   "cell_type": "markdown",
   "metadata": {},
   "source": [
    "Although the parameters are defined as positional parameters, Python supports **calling** the function with **named** arguments as follows:"
   ]
  },
  {
   "cell_type": "code",
   "metadata": {
    "ExecuteTime": {
     "end_time": "2025-06-18T03:02:21.998356Z",
     "start_time": "2025-06-18T03:02:21.990367Z"
    }
   },
   "source": [
    "gen_matrix(rows=3, cols=5, default_value=0)"
   ],
   "outputs": [
    {
     "data": {
      "text/plain": [
       "[[0, 0, 0, 0, 0], [0, 0, 0, 0, 0], [0, 0, 0, 0, 0]]"
      ]
     },
     "execution_count": 36,
     "metadata": {},
     "output_type": "execute_result"
    }
   ],
   "execution_count": 36
  },
  {
   "cell_type": "markdown",
   "metadata": {},
   "source": [
    "The advantage of this is that we do not have to rely on getting the positions of the arguments correct - as long as we are naming them, Python will assign them to their respective parameter in the function."
   ]
  },
  {
   "cell_type": "markdown",
   "metadata": {},
   "source": [
    "So these two calls work the same:"
   ]
  },
  {
   "cell_type": "code",
   "metadata": {
    "ExecuteTime": {
     "end_time": "2025-06-18T03:02:23.032613Z",
     "start_time": "2025-06-18T03:02:23.025009Z"
    }
   },
   "source": [
    "gen_matrix(2, 8, 1)"
   ],
   "outputs": [
    {
     "data": {
      "text/plain": [
       "[[1, 1, 1, 1, 1, 1, 1, 1], [1, 1, 1, 1, 1, 1, 1, 1]]"
      ]
     },
     "execution_count": 37,
     "metadata": {},
     "output_type": "execute_result"
    }
   ],
   "execution_count": 37
  },
  {
   "cell_type": "code",
   "metadata": {
    "ExecuteTime": {
     "end_time": "2025-06-18T03:02:23.331843Z",
     "start_time": "2025-06-18T03:02:23.325090Z"
    }
   },
   "source": [
    "gen_matrix(cols=8, rows=2, default_value=1)"
   ],
   "outputs": [
    {
     "data": {
      "text/plain": [
       "[[1, 1, 1, 1, 1, 1, 1, 1], [1, 1, 1, 1, 1, 1, 1, 1]]"
      ]
     },
     "execution_count": 38,
     "metadata": {},
     "output_type": "execute_result"
    }
   ],
   "execution_count": 38
  },
  {
   "cell_type": "markdown",
   "metadata": {},
   "source": [
    "We would not have obtained the same result if we have just switched the unnamed arguments around:"
   ]
  },
  {
   "cell_type": "code",
   "metadata": {
    "ExecuteTime": {
     "end_time": "2025-06-18T03:02:23.762806Z",
     "start_time": "2025-06-18T03:02:23.756262Z"
    }
   },
   "source": [
    "gen_matrix(8, 2, 1)"
   ],
   "outputs": [
    {
     "data": {
      "text/plain": [
       "[[1, 1], [1, 1], [1, 1], [1, 1], [1, 1], [1, 1], [1, 1], [1, 1]]"
      ]
     },
     "execution_count": 39,
     "metadata": {},
     "output_type": "execute_result"
    }
   ],
   "execution_count": 39
  },
  {
   "cell_type": "markdown",
   "metadata": {},
   "source": [
    "So, although out function uses **positional** parameters, we can choose to pass them **positionally** or **named** (also referred to as **keyword** arguments)."
   ]
  },
  {
   "cell_type": "markdown",
   "metadata": {},
   "source": [
    "This becomes really useful, when we have a lot of parameters in a function, or when working with parameters that specify default values (we'll see this later)."
   ]
  },
  {
   "cell_type": "markdown",
   "metadata": {},
   "source": [
    "It is possible to call a function that defines positional parameters using a **mix** of positional and named arguments."
   ]
  },
  {
   "cell_type": "markdown",
   "metadata": {},
   "source": [
    "However, we have to be careful, once we start using named arguments in a call, all subsequent arguments must be named too."
   ]
  },
  {
   "cell_type": "code",
   "metadata": {
    "ExecuteTime": {
     "end_time": "2025-06-18T03:02:25.582467Z",
     "start_time": "2025-06-18T03:02:25.575015Z"
    }
   },
   "source": [
    "gen_matrix(3, cols=5, default_value=1)"
   ],
   "outputs": [
    {
     "data": {
      "text/plain": [
       "[[1, 1, 1, 1, 1], [1, 1, 1, 1, 1], [1, 1, 1, 1, 1]]"
      ]
     },
     "execution_count": 40,
     "metadata": {},
     "output_type": "execute_result"
    }
   ],
   "execution_count": 40
  },
  {
   "cell_type": "markdown",
   "metadata": {},
   "source": [
    "As you can see the first argument was passed by position, so it got assigned to `rows` in our function call, and the remaining arguments were passed as named arguments."
   ]
  },
  {
   "cell_type": "markdown",
   "metadata": {},
   "source": [
    "But this would not work (how could Python know what goes where?):"
   ]
  },
  {
   "cell_type": "code",
   "metadata": {
    "ExecuteTime": {
     "end_time": "2025-06-18T03:02:27.257768Z",
     "start_time": "2025-06-18T03:02:27.249176Z"
    }
   },
   "source": [
    "gen_matrix(default_value=1, 3, 3)"
   ],
   "outputs": [
    {
     "ename": "SyntaxError",
     "evalue": "positional argument follows keyword argument (1638184276.py, line 1)",
     "output_type": "error",
     "traceback": [
      "\u001B[1;36m  Cell \u001B[1;32mIn[41], line 1\u001B[1;36m\u001B[0m\n\u001B[1;33m    gen_matrix(default_value=1, 3, 3)\u001B[0m\n\u001B[1;37m                                    ^\u001B[0m\n\u001B[1;31mSyntaxError\u001B[0m\u001B[1;31m:\u001B[0m positional argument follows keyword argument\n"
     ]
    }
   ],
   "execution_count": 41
  },
  {
   "cell_type": "markdown",
   "metadata": {},
   "source": [
    "One last thing I would like to mention regards a naming convention often used when we have variables whose values we are not really interested in:"
   ]
  },
  {
   "cell_type": "code",
   "metadata": {
    "ExecuteTime": {
     "end_time": "2025-06-18T03:02:28.509751Z",
     "start_time": "2025-06-18T03:02:28.500913Z"
    }
   },
   "source": [
    "def gen_matrix(m, n, default_value):\n",
    "    # generate an mxn matrix with each element initialized to default_value\n",
    "    return [[default_value for i in range(n)] for j in range(m)]"
   ],
   "outputs": [],
   "execution_count": 42
  },
  {
   "cell_type": "markdown",
   "metadata": {},
   "source": [
    "You'll notice that we don't actually use `i` and `j` - they are just there because we have a `for` loop that needs to be repeated a certain number of times - but the actual value is ignored."
   ]
  },
  {
   "cell_type": "markdown",
   "metadata": {},
   "source": [
    "Remember that valid Python variables in Python can start with an underscore (`_`)."
   ]
  },
  {
   "cell_type": "markdown",
   "metadata": {},
   "source": [
    "In fact, the variable name could be *just* an underscore:"
   ]
  },
  {
   "cell_type": "code",
   "metadata": {
    "ExecuteTime": {
     "end_time": "2025-06-18T03:02:30.126013Z",
     "start_time": "2025-06-18T03:02:30.121015Z"
    }
   },
   "source": [
    "_ = 'python'"
   ],
   "outputs": [],
   "execution_count": 43
  },
  {
   "cell_type": "code",
   "metadata": {
    "ExecuteTime": {
     "end_time": "2025-06-18T03:02:30.270960Z",
     "start_time": "2025-06-18T03:02:30.265085Z"
    }
   },
   "source": [
    "print(_)"
   ],
   "outputs": [
    {
     "name": "stdout",
     "output_type": "stream",
     "text": [
      "python\n"
     ]
    }
   ],
   "execution_count": 44
  },
  {
   "cell_type": "markdown",
   "metadata": {},
   "source": [
    "There is **nothing** special about using a variable named this way."
   ]
  },
  {
   "cell_type": "markdown",
   "metadata": {},
   "source": [
    "In fact, we could even use two underscores:"
   ]
  },
  {
   "cell_type": "code",
   "metadata": {
    "ExecuteTime": {
     "end_time": "2025-06-18T03:02:31.486348Z",
     "start_time": "2025-06-18T03:02:31.480319Z"
    }
   },
   "source": [
    "__ = 'rocks'"
   ],
   "outputs": [],
   "execution_count": 45
  },
  {
   "cell_type": "code",
   "metadata": {
    "ExecuteTime": {
     "end_time": "2025-06-18T03:02:32.113858Z",
     "start_time": "2025-06-18T03:02:32.108176Z"
    }
   },
   "source": [
    "print(__)"
   ],
   "outputs": [
    {
     "name": "stdout",
     "output_type": "stream",
     "text": [
      "rocks\n"
     ]
    }
   ],
   "execution_count": 46
  },
  {
   "cell_type": "markdown",
   "metadata": {},
   "source": [
    "The convention is to use these `_` by themselves when we are dealing with variables whose values are not used elsewhere."
   ]
  },
  {
   "cell_type": "markdown",
   "metadata": {},
   "source": [
    "In our case, we have `i` and `j`, and this is a prime example of where you mighbt see the code written as:"
   ]
  },
  {
   "cell_type": "code",
   "metadata": {
    "ExecuteTime": {
     "end_time": "2025-06-18T03:02:35.508193Z",
     "start_time": "2025-06-18T03:02:35.501635Z"
    }
   },
   "source": [
    "def gen_matrix(m, n, default_value):\n",
    "    # generate an mxn matrix with each element initialized to default_value\n",
    "    return [[default_value for _ in range(n)] for __ in range(m)]"
   ],
   "outputs": [],
   "execution_count": 47
  },
  {
   "cell_type": "code",
   "metadata": {
    "ExecuteTime": {
     "end_time": "2025-06-18T03:02:36.191345Z",
     "start_time": "2025-06-18T03:02:36.184064Z"
    }
   },
   "source": [
    "gen_matrix(3, 2, 0)"
   ],
   "outputs": [
    {
     "data": {
      "text/plain": [
       "[[0, 0], [0, 0], [0, 0]]"
      ]
     },
     "execution_count": 48,
     "metadata": {},
     "output_type": "execute_result"
    }
   ],
   "execution_count": 48
  },
  {
   "cell_type": "markdown",
   "metadata": {},
   "source": [
    "Again, there is nothing special about this code - people often use it simply to indicate that the loop variables `_` and `__` are not actually used. Just a naming convention, nothing more."
   ]
  }
 ],
 "metadata": {
  "kernelspec": {
   "display_name": "Python 3",
   "language": "python",
   "name": "python3"
  },
  "language_info": {
   "codemirror_mode": {
    "name": "ipython",
    "version": 3
   },
   "file_extension": ".py",
   "mimetype": "text/x-python",
   "name": "python",
   "nbconvert_exporter": "python",
   "pygments_lexer": "ipython3",
   "version": "3.9.1"
  }
 },
 "nbformat": 4,
 "nbformat_minor": 4
}
