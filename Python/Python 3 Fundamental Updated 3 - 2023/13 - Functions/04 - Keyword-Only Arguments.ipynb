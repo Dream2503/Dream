{
 "cells": [
  {
   "cell_type": "markdown",
   "metadata": {},
   "source": [
    "### Keyword-Only Arguments"
   ]
  },
  {
   "cell_type": "markdown",
   "metadata": {},
   "source": [
    "As we saw in the lecture we can specify parameters in a function that **must** be passed as named arguments - these are called **keyword-only** arguments."
   ]
  },
  {
   "cell_type": "markdown",
   "metadata": {},
   "source": [
    "To do so, Python must know where our positional arguments end - we can do that either by using a `*args` parameter, or just a single `*`."
   ]
  },
  {
   "cell_type": "code",
   "metadata": {
    "ExecuteTime": {
     "end_time": "2025-06-18T03:04:15.577500Z",
     "start_time": "2025-06-18T03:04:15.569586Z"
    }
   },
   "source": [
    "def func(a, b, *args, c):\n",
    "    print(a)\n",
    "    print(b)\n",
    "    print(args)\n",
    "    print(c)"
   ],
   "outputs": [],
   "execution_count": 1
  },
  {
   "cell_type": "code",
   "metadata": {
    "ExecuteTime": {
     "end_time": "2025-06-18T03:04:15.953488Z",
     "start_time": "2025-06-18T03:04:15.947091Z"
    }
   },
   "source": [
    "func(10, 20, 30, 40, c=50)"
   ],
   "outputs": [
    {
     "name": "stdout",
     "output_type": "stream",
     "text": [
      "10\n",
      "20\n",
      "(30, 40)\n",
      "50\n"
     ]
    }
   ],
   "execution_count": 2
  },
  {
   "cell_type": "markdown",
   "metadata": {},
   "source": [
    "And in fact, we **have** to pass `c` as a named argument:"
   ]
  },
  {
   "cell_type": "code",
   "metadata": {
    "ExecuteTime": {
     "end_time": "2025-06-18T03:04:16.592330Z",
     "start_time": "2025-06-18T03:04:16.173387Z"
    }
   },
   "source": [
    "func(10, 20, 30, 40)"
   ],
   "outputs": [
    {
     "ename": "TypeError",
     "evalue": "func() missing 1 required keyword-only argument: 'c'",
     "output_type": "error",
     "traceback": [
      "\u001B[1;31m---------------------------------------------------------------------------\u001B[0m",
      "\u001B[1;31mTypeError\u001B[0m                                 Traceback (most recent call last)",
      "Cell \u001B[1;32mIn[3], line 1\u001B[0m\n\u001B[1;32m----> 1\u001B[0m \u001B[43mfunc\u001B[49m\u001B[43m(\u001B[49m\u001B[38;5;241;43m10\u001B[39;49m\u001B[43m,\u001B[49m\u001B[43m \u001B[49m\u001B[38;5;241;43m20\u001B[39;49m\u001B[43m,\u001B[49m\u001B[43m \u001B[49m\u001B[38;5;241;43m30\u001B[39;49m\u001B[43m,\u001B[49m\u001B[43m \u001B[49m\u001B[38;5;241;43m40\u001B[39;49m\u001B[43m)\u001B[49m\n",
      "\u001B[1;31mTypeError\u001B[0m: func() missing 1 required keyword-only argument: 'c'"
     ]
    }
   ],
   "execution_count": 3
  },
  {
   "cell_type": "markdown",
   "metadata": {},
   "source": [
    "Doing that allows extra positional parameters to be passed in though. If we don't want that, we still have to tell Python where the positional arguments end, and we do this by using a single `*`."
   ]
  },
  {
   "cell_type": "code",
   "execution_count": 4,
   "metadata": {},
   "outputs": [],
   "source": [
    "def func(a, b, *, c):\n",
    "    print(a)\n",
    "    print(b)\n",
    "    print(c)"
   ]
  },
  {
   "cell_type": "code",
   "execution_count": 5,
   "metadata": {},
   "outputs": [
    {
     "name": "stdout",
     "output_type": "stream",
     "text": [
      "10\n",
      "20\n",
      "30\n"
     ]
    }
   ],
   "source": [
    "func(10, 20, c=30)"
   ]
  },
  {
   "cell_type": "markdown",
   "metadata": {},
   "source": [
    "And trying to pass additional positional arguments is now allowed:"
   ]
  },
  {
   "cell_type": "code",
   "execution_count": 6,
   "metadata": {},
   "outputs": [
    {
     "ename": "TypeError",
     "evalue": "func() takes 2 positional arguments but 3 positional arguments (and 1 keyword-only argument) were given",
     "output_type": "error",
     "traceback": [
      "\u001B[0;31m---------------------------------------------------------------------------\u001B[0m",
      "\u001B[0;31mTypeError\u001B[0m                                 Traceback (most recent call last)",
      "\u001B[0;32m<ipython-input-6-0d9412271057>\u001B[0m in \u001B[0;36m<module>\u001B[0;34m\u001B[0m\n\u001B[0;32m----> 1\u001B[0;31m \u001B[0mfunc\u001B[0m\u001B[0;34m(\u001B[0m\u001B[0;36m10\u001B[0m\u001B[0;34m,\u001B[0m  \u001B[0;36m20\u001B[0m\u001B[0;34m,\u001B[0m \u001B[0;36m30\u001B[0m\u001B[0;34m,\u001B[0m \u001B[0mc\u001B[0m\u001B[0;34m=\u001B[0m\u001B[0;36m40\u001B[0m\u001B[0;34m)\u001B[0m\u001B[0;34m\u001B[0m\u001B[0;34m\u001B[0m\u001B[0m\n\u001B[0m",
      "\u001B[0;31mTypeError\u001B[0m: func() takes 2 positional arguments but 3 positional arguments (and 1 keyword-only argument) were given"
     ]
    }
   ],
   "source": [
    "func(10,  20, 30, c=40)"
   ]
  },
  {
   "cell_type": "markdown",
   "metadata": {},
   "source": [
    "Of course, we can still pass the positional arguments as named arguments - the only thing here is that `c` **must** be passed as a named argument - up to use how we want to pass the positional arguments:"
   ]
  },
  {
   "cell_type": "code",
   "metadata": {
    "ExecuteTime": {
     "end_time": "2025-06-18T03:04:17.072871Z",
     "start_time": "2025-06-18T03:04:17.065676Z"
    }
   },
   "source": [
    "func(c=30, a=10, b=20)"
   ],
   "outputs": [
    {
     "name": "stdout",
     "output_type": "stream",
     "text": [
      "10\n",
      "20\n",
      "()\n",
      "30\n"
     ]
    }
   ],
   "execution_count": 4
  },
  {
   "cell_type": "markdown",
   "metadata": {},
   "source": [
    "We can specify default values for keyword-only arguments as well, and unlike positional arguments, once we have a default value for one keyword-only argument, the subsequent ones do not have to be defaulted too."
   ]
  },
  {
   "cell_type": "code",
   "metadata": {
    "ExecuteTime": {
     "end_time": "2025-06-18T03:04:17.716909Z",
     "start_time": "2025-06-18T03:04:17.712562Z"
    }
   },
   "source": [
    "def func(a, b=2, c=3, *, d=10, e, f=30):\n",
    "    print(a, b, c, d, e, f)"
   ],
   "outputs": [],
   "execution_count": 5
  },
  {
   "cell_type": "code",
   "metadata": {
    "ExecuteTime": {
     "end_time": "2025-06-18T03:04:18.025130Z",
     "start_time": "2025-06-18T03:04:18.019095Z"
    }
   },
   "source": [
    "func(1, e=20)"
   ],
   "outputs": [
    {
     "name": "stdout",
     "output_type": "stream",
     "text": [
      "1 2 3 10 20 30\n"
     ]
    }
   ],
   "execution_count": 6
  },
  {
   "cell_type": "code",
   "metadata": {
    "ExecuteTime": {
     "end_time": "2025-06-18T03:04:18.373456Z",
     "start_time": "2025-06-18T03:04:18.367394Z"
    }
   },
   "source": [
    "func(e=20, a=1)"
   ],
   "outputs": [
    {
     "name": "stdout",
     "output_type": "stream",
     "text": [
      "1 2 3 10 20 30\n"
     ]
    }
   ],
   "execution_count": 7
  },
  {
   "cell_type": "code",
   "metadata": {
    "ExecuteTime": {
     "end_time": "2025-06-18T03:04:18.651726Z",
     "start_time": "2025-06-18T03:04:18.646439Z"
    }
   },
   "source": [
    "func(1, c=3.5, d=100, e=200)"
   ],
   "outputs": [
    {
     "name": "stdout",
     "output_type": "stream",
     "text": [
      "1 2 3.5 100 200 30\n"
     ]
    }
   ],
   "execution_count": 8
  },
  {
   "cell_type": "markdown",
   "metadata": {},
   "source": [
    "As you can see, this system is **very** flexible!"
   ]
  },
  {
   "cell_type": "markdown",
   "metadata": {},
   "source": [
    "Let's go back to a previous example, and see where we might want to use keyword-only arguments."
   ]
  },
  {
   "cell_type": "code",
   "metadata": {
    "ExecuteTime": {
     "end_time": "2025-06-18T03:04:19.545514Z",
     "start_time": "2025-06-18T03:04:19.538217Z"
    }
   },
   "source": [
    "def process_data(data, item_sep=',', line_sep='\\n'):\n",
    "    row_strings = [item_sep.join([str(element) for element in row])\n",
    "                  for row in data]\n",
    "    return line_sep.join(row_strings)"
   ],
   "outputs": [],
   "execution_count": 9
  },
  {
   "cell_type": "code",
   "metadata": {
    "ExecuteTime": {
     "end_time": "2025-06-18T03:04:19.871942Z",
     "start_time": "2025-06-18T03:04:19.866318Z"
    }
   },
   "source": [
    "data = [\n",
    "    [10, 20, 30],\n",
    "    [100, 200, 300],\n",
    "    [1000, 2000, 3000]\n",
    "]"
   ],
   "outputs": [],
   "execution_count": 10
  },
  {
   "cell_type": "markdown",
   "metadata": {},
   "source": [
    "You'll notice that `item_sep` and `line_sep` are positional arguments, so we can call the function this way:"
   ]
  },
  {
   "cell_type": "code",
   "metadata": {
    "ExecuteTime": {
     "end_time": "2025-06-18T03:04:20.516485Z",
     "start_time": "2025-06-18T03:04:20.511468Z"
    }
   },
   "source": [
    "print(process_data(data, ':', '\\n\\n'))"
   ],
   "outputs": [
    {
     "name": "stdout",
     "output_type": "stream",
     "text": [
      "10:20:30\n",
      "\n",
      "100:200:300\n",
      "\n",
      "1000:2000:3000\n"
     ]
    }
   ],
   "execution_count": 11
  },
  {
   "cell_type": "markdown",
   "metadata": {},
   "source": [
    "Now, it can be confusing as to which positional is used for the item separator, and which one is used for the line separator."
   ]
  },
  {
   "cell_type": "markdown",
   "metadata": {},
   "source": [
    "I **choose** to call the function this way:"
   ]
  },
  {
   "cell_type": "code",
   "metadata": {
    "ExecuteTime": {
     "end_time": "2025-06-18T03:04:21.398905Z",
     "start_time": "2025-06-18T03:04:21.392533Z"
    }
   },
   "source": [
    "print(process_data(data, item_sep=':', line_sep='\\n\\n'))"
   ],
   "outputs": [
    {
     "name": "stdout",
     "output_type": "stream",
     "text": [
      "10:20:30\n",
      "\n",
      "100:200:300\n",
      "\n",
      "1000:2000:3000\n"
     ]
    }
   ],
   "execution_count": 12
  },
  {
   "cell_type": "markdown",
   "metadata": {},
   "source": [
    "But ideally, as the developer of this function, I may want to **force** callers of this function to use these named arguments - simply for safety."
   ]
  },
  {
   "cell_type": "markdown",
   "metadata": {},
   "source": [
    "So, I would write my function this way:"
   ]
  },
  {
   "cell_type": "code",
   "metadata": {
    "ExecuteTime": {
     "end_time": "2025-06-18T03:04:22.484710Z",
     "start_time": "2025-06-18T03:04:22.479583Z"
    }
   },
   "source": [
    "def process_data(data, *, item_sep=',', line_sep='\\n'):\n",
    "    row_strings = [item_sep.join([str(element) for element in row])\n",
    "                  for row in data]\n",
    "    return line_sep.join(row_strings)"
   ],
   "outputs": [],
   "execution_count": 13
  },
  {
   "cell_type": "markdown",
   "metadata": {},
   "source": [
    "Now I can call the function this way:"
   ]
  },
  {
   "cell_type": "code",
   "metadata": {
    "ExecuteTime": {
     "end_time": "2025-06-18T03:04:23.162719Z",
     "start_time": "2025-06-18T03:04:23.157133Z"
    }
   },
   "source": [
    "print(process_data(data, item_sep=':', line_sep='\\n\\n'))"
   ],
   "outputs": [
    {
     "name": "stdout",
     "output_type": "stream",
     "text": [
      "10:20:30\n",
      "\n",
      "100:200:300\n",
      "\n",
      "1000:2000:3000\n"
     ]
    }
   ],
   "execution_count": 14
  },
  {
   "cell_type": "markdown",
   "metadata": {},
   "source": [
    "but I can no longer call it this way:"
   ]
  },
  {
   "cell_type": "code",
   "metadata": {
    "ExecuteTime": {
     "end_time": "2025-06-18T03:04:23.847218Z",
     "start_time": "2025-06-18T03:04:23.821828Z"
    }
   },
   "source": [
    "print(process_data(data, ':', '\\n\\n'))"
   ],
   "outputs": [
    {
     "ename": "TypeError",
     "evalue": "process_data() takes 1 positional argument but 3 were given",
     "output_type": "error",
     "traceback": [
      "\u001B[1;31m---------------------------------------------------------------------------\u001B[0m",
      "\u001B[1;31mTypeError\u001B[0m                                 Traceback (most recent call last)",
      "Cell \u001B[1;32mIn[15], line 1\u001B[0m\n\u001B[1;32m----> 1\u001B[0m \u001B[38;5;28mprint\u001B[39m(\u001B[43mprocess_data\u001B[49m\u001B[43m(\u001B[49m\u001B[43mdata\u001B[49m\u001B[43m,\u001B[49m\u001B[43m \u001B[49m\u001B[38;5;124;43m'\u001B[39;49m\u001B[38;5;124;43m:\u001B[39;49m\u001B[38;5;124;43m'\u001B[39;49m\u001B[43m,\u001B[49m\u001B[43m \u001B[49m\u001B[38;5;124;43m'\u001B[39;49m\u001B[38;5;130;43;01m\\n\u001B[39;49;00m\u001B[38;5;130;43;01m\\n\u001B[39;49;00m\u001B[38;5;124;43m'\u001B[39;49m\u001B[43m)\u001B[49m)\n",
      "\u001B[1;31mTypeError\u001B[0m: process_data() takes 1 positional argument but 3 were given"
     ]
    }
   ],
   "execution_count": 15
  },
  {
   "cell_type": "markdown",
   "metadata": {},
   "source": [
    "Consider this function, that needs a `latitude` and `longitude` passed to it:"
   ]
  },
  {
   "cell_type": "code",
   "metadata": {
    "ExecuteTime": {
     "end_time": "2025-06-18T03:04:24.575481Z",
     "start_time": "2025-06-18T03:04:24.571352Z"
    }
   },
   "source": [
    "def coords_to_json(longitude, latitude):\n",
    "    return f'{{\"longitude\": {longitude}, \"latitude\": {latitude}}}'"
   ],
   "outputs": [],
   "execution_count": 16
  },
  {
   "cell_type": "markdown",
   "metadata": {},
   "source": [
    "Notice how I used `{{` and `}}` to actually print a `{` and `}` respectively - this allows us to do this without Python getting confused as to whether we are interpolating or just writing a literal brace - this is referred to as \"escaping\" the character."
   ]
  },
  {
   "cell_type": "markdown",
   "metadata": {},
   "source": [
    "Now I can call the function this way:"
   ]
  },
  {
   "cell_type": "code",
   "metadata": {
    "ExecuteTime": {
     "end_time": "2025-06-18T03:04:25.445508Z",
     "start_time": "2025-06-18T03:04:25.435597Z"
    }
   },
   "source": [
    "coords_to_json(10, 20)"
   ],
   "outputs": [
    {
     "data": {
      "text/plain": [
       "'{\"longitude\": 10, \"latitude\": 20}'"
      ]
     },
     "execution_count": 17,
     "metadata": {},
     "output_type": "execute_result"
    }
   ],
   "execution_count": 17
  },
  {
   "cell_type": "markdown",
   "metadata": {},
   "source": [
    "But, I get easily confused - is the the first argument the latitude or the longitude?\n",
    "\n",
    "Since I can never remember, I'm always going to pass my arguments as named arguments - much safer for someone like me!"
   ]
  },
  {
   "cell_type": "code",
   "metadata": {
    "ExecuteTime": {
     "end_time": "2025-06-18T03:04:26.047851Z",
     "start_time": "2025-06-18T03:04:26.041055Z"
    }
   },
   "source": [
    "coords_to_json(latitude=20, longitude=10)"
   ],
   "outputs": [
    {
     "data": {
      "text/plain": [
       "'{\"longitude\": 10, \"latitude\": 20}'"
      ]
     },
     "execution_count": 18,
     "metadata": {},
     "output_type": "execute_result"
    }
   ],
   "execution_count": 18
  },
  {
   "cell_type": "markdown",
   "metadata": {},
   "source": [
    "And in fact, I'm going to write my function so that anyone calling it will be forced to do the same!"
   ]
  },
  {
   "cell_type": "code",
   "metadata": {
    "ExecuteTime": {
     "end_time": "2025-06-18T03:04:26.697131Z",
     "start_time": "2025-06-18T03:04:26.692081Z"
    }
   },
   "source": [
    "def coords_to_json(*, longitude, latitude):\n",
    "    return f\"{{'longitude': {longitude}, 'latitude': {latitude}}}\""
   ],
   "outputs": [],
   "execution_count": 19
  },
  {
   "cell_type": "markdown",
   "metadata": {},
   "source": [
    "So this will work:"
   ]
  },
  {
   "cell_type": "code",
   "metadata": {
    "ExecuteTime": {
     "end_time": "2025-06-18T03:04:27.312404Z",
     "start_time": "2025-06-18T03:04:27.306296Z"
    }
   },
   "source": [
    "coords_to_json(latitude=20, longitude=10)"
   ],
   "outputs": [
    {
     "data": {
      "text/plain": [
       "\"{'longitude': 10, 'latitude': 20}\""
      ]
     },
     "execution_count": 20,
     "metadata": {},
     "output_type": "execute_result"
    }
   ],
   "execution_count": 20
  },
  {
   "cell_type": "markdown",
   "metadata": {},
   "source": [
    "and this will not:"
   ]
  },
  {
   "cell_type": "code",
   "metadata": {
    "ExecuteTime": {
     "end_time": "2025-06-18T03:04:27.965909Z",
     "start_time": "2025-06-18T03:04:27.946718Z"
    }
   },
   "source": [
    "coords_to_json(10, 20)"
   ],
   "outputs": [
    {
     "ename": "TypeError",
     "evalue": "coords_to_json() takes 0 positional arguments but 2 were given",
     "output_type": "error",
     "traceback": [
      "\u001B[1;31m---------------------------------------------------------------------------\u001B[0m",
      "\u001B[1;31mTypeError\u001B[0m                                 Traceback (most recent call last)",
      "Cell \u001B[1;32mIn[21], line 1\u001B[0m\n\u001B[1;32m----> 1\u001B[0m \u001B[43mcoords_to_json\u001B[49m\u001B[43m(\u001B[49m\u001B[38;5;241;43m10\u001B[39;49m\u001B[43m,\u001B[49m\u001B[43m \u001B[49m\u001B[38;5;241;43m20\u001B[39;49m\u001B[43m)\u001B[49m\n",
      "\u001B[1;31mTypeError\u001B[0m: coords_to_json() takes 0 positional arguments but 2 were given"
     ]
    }
   ],
   "execution_count": 21
  },
  {
   "cell_type": "markdown",
   "metadata": {},
   "source": [
    "We also have a mechanism to scoop up extra named arguments into a dictionary that becomes available in the function:"
   ]
  },
  {
   "cell_type": "code",
   "metadata": {
    "ExecuteTime": {
     "end_time": "2025-06-18T03:04:28.595632Z",
     "start_time": "2025-06-18T03:04:28.587670Z"
    }
   },
   "source": [
    "def func(a, b, *args, c, d, **kwargs):\n",
    "    print(a)\n",
    "    print(b)\n",
    "    print(args)\n",
    "    print(c)\n",
    "    print(d)\n",
    "    print(kwargs)"
   ],
   "outputs": [],
   "execution_count": 22
  },
  {
   "cell_type": "code",
   "metadata": {
    "ExecuteTime": {
     "end_time": "2025-06-18T03:04:28.960879Z",
     "start_time": "2025-06-18T03:04:28.953837Z"
    }
   },
   "source": [
    "func(10, 20, c=1, d=2, x=100, y=100)"
   ],
   "outputs": [
    {
     "name": "stdout",
     "output_type": "stream",
     "text": [
      "10\n",
      "20\n",
      "()\n",
      "1\n",
      "2\n",
      "{'x': 100, 'y': 100}\n"
     ]
    }
   ],
   "execution_count": 23
  },
  {
   "cell_type": "markdown",
   "metadata": {},
   "source": [
    "Even if we specify `a` and `b` as named arguments, they will be correctly assigned to `a` and `b` in our function - not added to the `kwargs` dictionary:"
   ]
  },
  {
   "cell_type": "code",
   "metadata": {
    "ExecuteTime": {
     "end_time": "2025-06-18T03:04:29.627892Z",
     "start_time": "2025-06-18T03:04:29.620785Z"
    }
   },
   "source": [
    "func(c=1, d=2, x=100, y=200, a=10, b=20)"
   ],
   "outputs": [
    {
     "name": "stdout",
     "output_type": "stream",
     "text": [
      "10\n",
      "20\n",
      "()\n",
      "1\n",
      "2\n",
      "{'x': 100, 'y': 200}\n"
     ]
    }
   ],
   "execution_count": 24
  },
  {
   "cell_type": "markdown",
   "metadata": {},
   "source": [
    "So we can handle these extra named arguments in a dictionary inside our function. The argument names are the keys, and the argument values are the corresponding dictionary values."
   ]
  },
  {
   "cell_type": "markdown",
   "metadata": {},
   "source": [
    "**But, be very careful how you use this feature.**"
   ]
  },
  {
   "cell_type": "markdown",
   "metadata": {},
   "source": [
    "I often see code written this way:"
   ]
  },
  {
   "cell_type": "code",
   "metadata": {
    "ExecuteTime": {
     "end_time": "2025-06-18T03:04:30.940373Z",
     "start_time": "2025-06-18T03:04:30.934664Z"
    }
   },
   "source": [
    "def func(**kwargs):\n",
    "    # kwargs should contain 'a' and 'b'\n",
    "    return kwargs['a'] + kwargs['b']"
   ],
   "outputs": [],
   "execution_count": 25
  },
  {
   "cell_type": "code",
   "metadata": {
    "ExecuteTime": {
     "end_time": "2025-06-18T03:04:31.225552Z",
     "start_time": "2025-06-18T03:04:31.218832Z"
    }
   },
   "source": [
    "func(a=1, b=2)"
   ],
   "outputs": [
    {
     "data": {
      "text/plain": [
       "3"
      ]
     },
     "execution_count": 26,
     "metadata": {},
     "output_type": "execute_result"
    }
   ],
   "execution_count": 26
  },
  {
   "cell_type": "markdown",
   "metadata": {},
   "source": [
    "This is a silly example, and no one would write it that way, but once you start getting a lot of parameters, and you control how the function is called, it might be tempting to do this:"
   ]
  },
  {
   "cell_type": "code",
   "metadata": {
    "ExecuteTime": {
     "end_time": "2025-06-18T03:04:31.855930Z",
     "start_time": "2025-06-18T03:04:31.849624Z"
    }
   },
   "source": [
    "def func(**kwargs):\n",
    "    # expect data1, data2, arg1, arg2, arg3, arg4 in kwargs and do something with them\n",
    "    pass"
   ],
   "outputs": [],
   "execution_count": 27
  },
  {
   "cell_type": "markdown",
   "metadata": {},
   "source": [
    "instead of writing this:"
   ]
  },
  {
   "cell_type": "code",
   "metadata": {
    "ExecuteTime": {
     "end_time": "2025-06-18T03:04:32.437974Z",
     "start_time": "2025-06-18T03:04:32.432927Z"
    }
   },
   "source": [
    "def func(data1, data2, arg1, arg2, arg3, arg4):\n",
    "    pass"
   ],
   "outputs": [],
   "execution_count": 28
  },
  {
   "cell_type": "markdown",
   "metadata": {},
   "source": [
    "Using `**` is a lazy approach and is not safe - plus someone looking at your function has no idea that you are expecting arguments named `data`, `data2`, `arg1`, etc."
   ]
  },
  {
   "cell_type": "markdown",
   "metadata": {},
   "source": [
    "`**` arguments should only be processed in a way that does not require certain keys to be present in the dictionary."
   ]
  },
  {
   "cell_type": "markdown",
   "metadata": {},
   "source": [
    "For example, suppose we want to create a string that contains certain mandatory pieces of data, and appends to it anything extra that has been passed in as named arguments:"
   ]
  },
  {
   "cell_type": "code",
   "metadata": {
    "ExecuteTime": {
     "end_time": "2025-06-18T03:04:33.480579Z",
     "start_time": "2025-06-18T03:04:33.475079Z"
    }
   },
   "source": [
    "def to_json(arg1, *, kw1, **extras):\n",
    "    formatted_extras = ','.join([f'\"{key}\": {value}' for key, value in extras.items()])\n",
    "    result = f'{{\"arg1\": {arg1}, \"kw1\": {kw1}, \"extras\": {{{formatted_extras}}}}}'\n",
    "    return result"
   ],
   "outputs": [],
   "execution_count": 29
  },
  {
   "cell_type": "code",
   "metadata": {
    "ExecuteTime": {
     "end_time": "2025-06-18T03:04:33.750386Z",
     "start_time": "2025-06-18T03:04:33.743321Z"
    }
   },
   "source": [
    "print(to_json(10, kw1=20, a=1, b=2, c=3))"
   ],
   "outputs": [
    {
     "name": "stdout",
     "output_type": "stream",
     "text": [
      "{\"arg1\": 10, \"kw1\": 20, \"extras\": {\"a\": 1,\"b\": 2,\"c\": 3}}\n"
     ]
    }
   ],
   "execution_count": 30
  },
  {
   "cell_type": "markdown",
   "metadata": {},
   "source": [
    "We'll see more examples of when to use `**` arguments throughout this course!"
   ]
  }
 ],
 "metadata": {
  "kernelspec": {
   "display_name": "Python 3",
   "language": "python",
   "name": "python3"
  },
  "language_info": {
   "codemirror_mode": {
    "name": "ipython",
    "version": 3
   },
   "file_extension": ".py",
   "mimetype": "text/x-python",
   "name": "python",
   "nbconvert_exporter": "python",
   "pygments_lexer": "ipython3",
   "version": "3.9.1"
  }
 },
 "nbformat": 4,
 "nbformat_minor": 4
}
