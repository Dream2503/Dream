{
 "cells": [
  {
   "cell_type": "markdown",
   "metadata": {},
   "source": [
    "### Special Methods"
   ]
  },
  {
   "cell_type": "markdown",
   "metadata": {},
   "source": [
    "Certain methods have a special meaning to Python based on their **names**, like the `__init__` method."
   ]
  },
  {
   "cell_type": "markdown",
   "metadata": {},
   "source": [
    "We have a few others we should look at."
   ]
  },
  {
   "cell_type": "markdown",
   "metadata": {},
   "source": [
    "The `__str__` method is used to specify what the string representation of an object should be - the default that Python provides is not always very useful."
   ]
  },
  {
   "cell_type": "code",
   "metadata": {
    "ExecuteTime": {
     "end_time": "2025-06-18T05:05:10.871125Z",
     "start_time": "2025-06-18T05:05:10.863988Z"
    }
   },
   "source": [
    "class Circle:\n",
    "    def __init__(self, radius):\n",
    "        self.radius = radius\n",
    "        \n",
    "c = Circle(1)"
   ],
   "outputs": [],
   "execution_count": 1
  },
  {
   "cell_type": "code",
   "metadata": {
    "ExecuteTime": {
     "end_time": "2025-06-18T05:05:11.199990Z",
     "start_time": "2025-06-18T05:05:11.189641Z"
    }
   },
   "source": [
    "str(c)"
   ],
   "outputs": [
    {
     "data": {
      "text/plain": [
       "'<__main__.Circle object at 0x000001D93F4EF860>'"
      ]
     },
     "execution_count": 2,
     "metadata": {},
     "output_type": "execute_result"
    }
   ],
   "execution_count": 2
  },
  {
   "cell_type": "markdown",
   "metadata": {},
   "source": [
    "The default string representation of our `Circle` instance contains the class name and the memory address of the object:"
   ]
  },
  {
   "cell_type": "code",
   "metadata": {
    "ExecuteTime": {
     "end_time": "2025-06-18T05:05:11.271579Z",
     "start_time": "2025-06-18T05:05:11.265845Z"
    }
   },
   "source": [
    "hex(id(c))"
   ],
   "outputs": [
    {
     "data": {
      "text/plain": [
       "'0x1d93f4ef860'"
      ]
     },
     "execution_count": 3,
     "metadata": {},
     "output_type": "execute_result"
    }
   ],
   "execution_count": 3
  },
  {
   "cell_type": "markdown",
   "metadata": {},
   "source": [
    "But that's not how the built-in objects in Python behave:"
   ]
  },
  {
   "cell_type": "code",
   "metadata": {
    "ExecuteTime": {
     "end_time": "2025-06-18T05:05:11.321185Z",
     "start_time": "2025-06-18T05:05:11.317104Z"
    }
   },
   "source": [
    "l = [1, 2, 3]"
   ],
   "outputs": [],
   "execution_count": 4
  },
  {
   "cell_type": "code",
   "metadata": {
    "ExecuteTime": {
     "end_time": "2025-06-18T05:05:11.351432Z",
     "start_time": "2025-06-18T05:05:11.344405Z"
    }
   },
   "source": [
    "str(l)"
   ],
   "outputs": [
    {
     "data": {
      "text/plain": [
       "'[1, 2, 3]'"
      ]
     },
     "execution_count": 5,
     "metadata": {},
     "output_type": "execute_result"
    }
   ],
   "execution_count": 5
  },
  {
   "cell_type": "markdown",
   "metadata": {},
   "source": [
    "We can actually provide the same functionality to our custom objects:"
   ]
  },
  {
   "cell_type": "code",
   "metadata": {
    "ExecuteTime": {
     "end_time": "2025-06-18T05:05:11.389892Z",
     "start_time": "2025-06-18T05:05:11.384662Z"
    }
   },
   "source": [
    "class Circle:\n",
    "    def __init__(self, radius):\n",
    "        self.radius = radius\n",
    "        \n",
    "    def area(self):\n",
    "        return math.pi * self.radius ** 2\n",
    "    \n",
    "    def __str__(self):\n",
    "        return 'this is our custom representation'"
   ],
   "outputs": [],
   "execution_count": 6
  },
  {
   "cell_type": "code",
   "metadata": {
    "ExecuteTime": {
     "end_time": "2025-06-18T05:05:11.428898Z",
     "start_time": "2025-06-18T05:05:11.424311Z"
    }
   },
   "source": [
    "c = Circle(1)"
   ],
   "outputs": [],
   "execution_count": 7
  },
  {
   "cell_type": "code",
   "metadata": {
    "ExecuteTime": {
     "end_time": "2025-06-18T05:05:11.460926Z",
     "start_time": "2025-06-18T05:05:11.454903Z"
    }
   },
   "source": [
    "str(c)"
   ],
   "outputs": [
    {
     "data": {
      "text/plain": [
       "'this is our custom representation'"
      ]
     },
     "execution_count": 8,
     "metadata": {},
     "output_type": "execute_result"
    }
   ],
   "execution_count": 8
  },
  {
   "cell_type": "markdown",
   "metadata": {},
   "source": [
    "Now, let's make our string representation useful - it should be something we can display to users if needed."
   ]
  },
  {
   "cell_type": "code",
   "metadata": {
    "ExecuteTime": {
     "end_time": "2025-06-18T05:05:11.516696Z",
     "start_time": "2025-06-18T05:05:11.510314Z"
    }
   },
   "source": [
    "class Circle:\n",
    "    def __init__(self, radius):\n",
    "        self.radius = radius\n",
    "        \n",
    "    def area(self):\n",
    "        return math.pi * self.radius ** 2\n",
    "    \n",
    "    def __str__(self):\n",
    "        return f'Circle({self.radius})'"
   ],
   "outputs": [],
   "execution_count": 9
  },
  {
   "cell_type": "code",
   "metadata": {
    "ExecuteTime": {
     "end_time": "2025-06-18T05:05:11.551329Z",
     "start_time": "2025-06-18T05:05:11.547320Z"
    }
   },
   "source": [
    "c = Circle(3)"
   ],
   "outputs": [],
   "execution_count": 10
  },
  {
   "cell_type": "code",
   "metadata": {
    "ExecuteTime": {
     "end_time": "2025-06-18T05:05:11.587038Z",
     "start_time": "2025-06-18T05:05:11.581405Z"
    }
   },
   "source": [
    "str(c)"
   ],
   "outputs": [
    {
     "data": {
      "text/plain": [
       "'Circle(3)'"
      ]
     },
     "execution_count": 11,
     "metadata": {},
     "output_type": "execute_result"
    }
   ],
   "execution_count": 11
  },
  {
   "cell_type": "code",
   "metadata": {
    "ExecuteTime": {
     "end_time": "2025-06-18T05:05:11.643503Z",
     "start_time": "2025-06-18T05:05:11.638499Z"
    }
   },
   "source": [
    "print(c)"
   ],
   "outputs": [
    {
     "name": "stdout",
     "output_type": "stream",
     "text": [
      "Circle(3)\n"
     ]
    }
   ],
   "execution_count": 12
  },
  {
   "cell_type": "markdown",
   "metadata": {},
   "source": [
    "But let's see what Jupyter prints when we use it's default display for objects:"
   ]
  },
  {
   "cell_type": "code",
   "metadata": {
    "ExecuteTime": {
     "end_time": "2025-06-18T05:05:11.691755Z",
     "start_time": "2025-06-18T05:05:11.685325Z"
    }
   },
   "source": [
    "c"
   ],
   "outputs": [
    {
     "data": {
      "text/plain": [
       "<__main__.Circle at 0x1d93f9ec1d0>"
      ]
     },
     "execution_count": 13,
     "metadata": {},
     "output_type": "execute_result"
    }
   ],
   "execution_count": 13
  },
  {
   "cell_type": "markdown",
   "metadata": {},
   "source": [
    "Where did that come from?"
   ]
  },
  {
   "cell_type": "markdown",
   "metadata": {},
   "source": [
    "Turns out Python provides the ability to define **two** string representations for objects - one that is usually used for developers, logging, etc, and one that can be used for user display."
   ]
  },
  {
   "cell_type": "markdown",
   "metadata": {},
   "source": [
    "The other method we have is called `__repr__`."
   ]
  },
  {
   "cell_type": "markdown",
   "metadata": {},
   "source": [
    "Let's implement it, and have it return something slightly different:"
   ]
  },
  {
   "cell_type": "code",
   "metadata": {
    "ExecuteTime": {
     "end_time": "2025-06-18T05:05:11.730415Z",
     "start_time": "2025-06-18T05:05:11.724435Z"
    }
   },
   "source": [
    "class Circle:\n",
    "    def __init__(self, radius):\n",
    "        self.radius = radius\n",
    "        \n",
    "    def area(self):\n",
    "        return math.pi * self.radius ** 2\n",
    "    \n",
    "    def __str__(self):\n",
    "        return f'Circle({self.radius})'\n",
    "    \n",
    "    def __repr__(self):\n",
    "        return f'Circle(radius={self.radius})'"
   ],
   "outputs": [],
   "execution_count": 14
  },
  {
   "cell_type": "code",
   "metadata": {
    "ExecuteTime": {
     "end_time": "2025-06-18T05:05:11.767255Z",
     "start_time": "2025-06-18T05:05:11.762226Z"
    }
   },
   "source": [
    "c = Circle(10)"
   ],
   "outputs": [],
   "execution_count": 15
  },
  {
   "cell_type": "code",
   "metadata": {
    "ExecuteTime": {
     "end_time": "2025-06-18T05:05:11.791213Z",
     "start_time": "2025-06-18T05:05:11.785916Z"
    }
   },
   "source": [
    "c"
   ],
   "outputs": [
    {
     "data": {
      "text/plain": [
       "Circle(radius=10)"
      ]
     },
     "execution_count": 16,
     "metadata": {},
     "output_type": "execute_result"
    }
   ],
   "execution_count": 16
  },
  {
   "cell_type": "markdown",
   "metadata": {},
   "source": [
    "We can also call that function using the `repr` function:"
   ]
  },
  {
   "cell_type": "code",
   "metadata": {
    "ExecuteTime": {
     "end_time": "2025-06-18T05:05:11.830793Z",
     "start_time": "2025-06-18T05:05:11.825756Z"
    }
   },
   "source": [
    "repr(c)"
   ],
   "outputs": [
    {
     "data": {
      "text/plain": [
       "'Circle(radius=10)'"
      ]
     },
     "execution_count": 17,
     "metadata": {},
     "output_type": "execute_result"
    }
   ],
   "execution_count": 17
  },
  {
   "cell_type": "code",
   "metadata": {
    "ExecuteTime": {
     "end_time": "2025-06-18T05:05:11.885909Z",
     "start_time": "2025-06-18T05:05:11.880625Z"
    }
   },
   "source": [
    "str(c)"
   ],
   "outputs": [
    {
     "data": {
      "text/plain": [
       "'Circle(10)'"
      ]
     },
     "execution_count": 18,
     "metadata": {},
     "output_type": "execute_result"
    }
   ],
   "execution_count": 18
  },
  {
   "cell_type": "markdown",
   "metadata": {},
   "source": [
    "Now, we don't always to define both `__str__` and `__repr__` - in fact, if `__str__` is not defined, Python will try to find `__repr__`, and if that is not defined it will use a default representation (that class and memory address we saw earlier)."
   ]
  },
  {
   "cell_type": "markdown",
   "metadata": {},
   "source": [
    "So, usually we can get by just defining `__repr__`, and only implement `__str__` if we really want to display maybe some simplified version."
   ]
  },
  {
   "cell_type": "code",
   "metadata": {
    "ExecuteTime": {
     "end_time": "2025-06-18T05:05:11.939091Z",
     "start_time": "2025-06-18T05:05:11.933538Z"
    }
   },
   "source": [
    "class Circle:\n",
    "    def __init__(self, radius):\n",
    "        self.radius = radius\n",
    "        \n",
    "    def area(self):\n",
    "        return math.pi * self.radius ** 2\n",
    "\n",
    "    def __repr__(self):\n",
    "        return f'Circle(radius={self.radius})'"
   ],
   "outputs": [],
   "execution_count": 19
  },
  {
   "cell_type": "code",
   "metadata": {
    "ExecuteTime": {
     "end_time": "2025-06-18T05:05:11.965937Z",
     "start_time": "2025-06-18T05:05:11.960338Z"
    }
   },
   "source": [
    "c = Circle(10)"
   ],
   "outputs": [],
   "execution_count": 20
  },
  {
   "cell_type": "code",
   "metadata": {
    "ExecuteTime": {
     "end_time": "2025-06-18T05:05:12.001152Z",
     "start_time": "2025-06-18T05:05:11.990458Z"
    }
   },
   "source": [
    "str(c)"
   ],
   "outputs": [
    {
     "data": {
      "text/plain": [
       "'Circle(radius=10)'"
      ]
     },
     "execution_count": 21,
     "metadata": {},
     "output_type": "execute_result"
    }
   ],
   "execution_count": 21
  },
  {
   "cell_type": "code",
   "metadata": {
    "ExecuteTime": {
     "end_time": "2025-06-18T05:05:12.050446Z",
     "start_time": "2025-06-18T05:05:12.044238Z"
    }
   },
   "source": [
    "repr(c)"
   ],
   "outputs": [
    {
     "data": {
      "text/plain": [
       "'Circle(radius=10)'"
      ]
     },
     "execution_count": 22,
     "metadata": {},
     "output_type": "execute_result"
    }
   ],
   "execution_count": 22
  },
  {
   "cell_type": "markdown",
   "metadata": {},
   "source": [
    "Let's look at the equality of objects, first with Python built-in types:"
   ]
  },
  {
   "cell_type": "code",
   "metadata": {
    "ExecuteTime": {
     "end_time": "2025-06-18T05:05:12.082599Z",
     "start_time": "2025-06-18T05:05:12.077007Z"
    }
   },
   "source": [
    "l1 = [1, 2, 3]\n",
    "l2 = [1, 2, 3]"
   ],
   "outputs": [],
   "execution_count": 23
  },
  {
   "cell_type": "markdown",
   "metadata": {},
   "source": [
    "As we should expect, `l1` and `l2` are not the same objects:"
   ]
  },
  {
   "cell_type": "code",
   "metadata": {
    "ExecuteTime": {
     "end_time": "2025-06-18T05:05:12.134187Z",
     "start_time": "2025-06-18T05:05:12.127020Z"
    }
   },
   "source": [
    "l1 is l2"
   ],
   "outputs": [
    {
     "data": {
      "text/plain": [
       "False"
      ]
     },
     "execution_count": 24,
     "metadata": {},
     "output_type": "execute_result"
    }
   ],
   "execution_count": 24
  },
  {
   "cell_type": "markdown",
   "metadata": {},
   "source": [
    "However, from the perspective of the values they contain, they are **equal**:"
   ]
  },
  {
   "cell_type": "code",
   "metadata": {
    "ExecuteTime": {
     "end_time": "2025-06-18T05:05:12.161026Z",
     "start_time": "2025-06-18T05:05:12.155004Z"
    }
   },
   "source": [
    "l1 == l2"
   ],
   "outputs": [
    {
     "data": {
      "text/plain": [
       "True"
      ]
     },
     "execution_count": 25,
     "metadata": {},
     "output_type": "execute_result"
    }
   ],
   "execution_count": 25
  },
  {
   "cell_type": "markdown",
   "metadata": {},
   "source": [
    "Now, let's look at our circle class:"
   ]
  },
  {
   "cell_type": "code",
   "metadata": {
    "ExecuteTime": {
     "end_time": "2025-06-18T05:05:12.195483Z",
     "start_time": "2025-06-18T05:05:12.190347Z"
    }
   },
   "source": [
    "c1 = Circle(10)\n",
    "c2 = Circle(10)"
   ],
   "outputs": [],
   "execution_count": 26
  },
  {
   "cell_type": "markdown",
   "metadata": {},
   "source": [
    "Again, we should expect `c1` and `c2` to be different objects:"
   ]
  },
  {
   "cell_type": "code",
   "metadata": {
    "ExecuteTime": {
     "end_time": "2025-06-18T05:05:12.222117Z",
     "start_time": "2025-06-18T05:05:12.216853Z"
    }
   },
   "source": [
    "c1 is c2"
   ],
   "outputs": [
    {
     "data": {
      "text/plain": [
       "False"
      ]
     },
     "execution_count": 27,
     "metadata": {},
     "output_type": "execute_result"
    }
   ],
   "execution_count": 27
  },
  {
   "cell_type": "markdown",
   "metadata": {},
   "source": [
    "But what about equality? After all, these two circles have the sate (the same radius), so we wouild probably expect these two objects to be equal (in the sense of `==`):"
   ]
  },
  {
   "cell_type": "code",
   "metadata": {
    "ExecuteTime": {
     "end_time": "2025-06-18T05:05:12.283349Z",
     "start_time": "2025-06-18T05:05:12.277031Z"
    }
   },
   "source": [
    "c1 == c2"
   ],
   "outputs": [
    {
     "data": {
      "text/plain": [
       "False"
      ]
     },
     "execution_count": 28,
     "metadata": {},
     "output_type": "execute_result"
    }
   ],
   "execution_count": 28
  },
  {
   "cell_type": "markdown",
   "metadata": {},
   "source": [
    "The way this works, is that, by default, Python will use the object id's to compare for equality - i.e. by default Python will use `is` to calculate `==`."
   ]
  },
  {
   "cell_type": "markdown",
   "metadata": {},
   "source": [
    "If we want to provide a specialized way of evaluating `==`, we can implement a special method, `__eq__`. "
   ]
  },
  {
   "cell_type": "markdown",
   "metadata": {},
   "source": [
    "When we write:\n",
    "\n",
    "```\n",
    "c1 == c2\n",
    "```\n",
    "\n",
    "Python will call the `__eq__` method on the left-hand side object, `c1` in this case, and pass `c2` as an argument to that method.\n",
    "\n",
    "So, the `__eq__` method requires two arguments: the object it is bound to (`self`), and the object it being compared to. It should return `True` if we deem the two objects to be equal, and `False` otherwise.\n",
    "\n",
    "We'll choose to make sure that the two objects are of the same type (i.e. both are `Circle` instances), and that the radius is equal for both."
   ]
  },
  {
   "cell_type": "markdown",
   "metadata": {},
   "source": [
    "We have two ways of checking if an object is of a specific type:"
   ]
  },
  {
   "cell_type": "code",
   "metadata": {
    "ExecuteTime": {
     "end_time": "2025-06-18T05:05:12.325553Z",
     "start_time": "2025-06-18T05:05:12.320465Z"
    }
   },
   "source": [
    "type(c1) is Circle"
   ],
   "outputs": [
    {
     "data": {
      "text/plain": [
       "True"
      ]
     },
     "execution_count": 29,
     "metadata": {},
     "output_type": "execute_result"
    }
   ],
   "execution_count": 29
  },
  {
   "cell_type": "markdown",
   "metadata": {},
   "source": [
    "or, also the `isinstance` method that determines if the object is an instance of a class:"
   ]
  },
  {
   "cell_type": "code",
   "metadata": {
    "ExecuteTime": {
     "end_time": "2025-06-18T05:05:12.357134Z",
     "start_time": "2025-06-18T05:05:12.351077Z"
    }
   },
   "source": [
    "isinstance(c1, Circle)"
   ],
   "outputs": [
    {
     "data": {
      "text/plain": [
       "True"
      ]
     },
     "execution_count": 30,
     "metadata": {},
     "output_type": "execute_result"
    }
   ],
   "execution_count": 30
  },
  {
   "cell_type": "markdown",
   "metadata": {},
   "source": [
    "Although we can technically use either, I prefer to use the `isinstance` method."
   ]
  },
  {
   "cell_type": "code",
   "metadata": {
    "ExecuteTime": {
     "end_time": "2025-06-18T05:05:12.410032Z",
     "start_time": "2025-06-18T05:05:12.403464Z"
    }
   },
   "source": [
    "class Circle:\n",
    "    def __init__(self, radius):\n",
    "        self.radius = radius\n",
    "        \n",
    "    def area(self):\n",
    "        return math.pi * self.radius ** 2\n",
    "\n",
    "    def __repr__(self):\n",
    "        return f'Circle(radius={self.radius})'\n",
    "    \n",
    "    def __eq__(self, other):\n",
    "        print('__eq__ called...')\n",
    "        if isinstance(other, Circle) and self.radius == other.radius:\n",
    "            return True\n",
    "        return False"
   ],
   "outputs": [],
   "execution_count": 31
  },
  {
   "cell_type": "code",
   "metadata": {
    "ExecuteTime": {
     "end_time": "2025-06-18T05:05:12.436555Z",
     "start_time": "2025-06-18T05:05:12.431242Z"
    }
   },
   "source": [
    "c1 = Circle(1)\n",
    "c2 = Circle(1)"
   ],
   "outputs": [],
   "execution_count": 32
  },
  {
   "cell_type": "code",
   "metadata": {
    "ExecuteTime": {
     "end_time": "2025-06-18T05:05:12.464283Z",
     "start_time": "2025-06-18T05:05:12.458930Z"
    }
   },
   "source": [
    "c1 is c2"
   ],
   "outputs": [
    {
     "data": {
      "text/plain": [
       "False"
      ]
     },
     "execution_count": 33,
     "metadata": {},
     "output_type": "execute_result"
    }
   ],
   "execution_count": 33
  },
  {
   "cell_type": "code",
   "metadata": {
    "ExecuteTime": {
     "end_time": "2025-06-18T05:05:12.504319Z",
     "start_time": "2025-06-18T05:05:12.497135Z"
    }
   },
   "source": [
    "c1 == c2"
   ],
   "outputs": [
    {
     "name": "stdout",
     "output_type": "stream",
     "text": [
      "__eq__ called...\n"
     ]
    },
    {
     "data": {
      "text/plain": [
       "True"
      ]
     },
     "execution_count": 34,
     "metadata": {},
     "output_type": "execute_result"
    }
   ],
   "execution_count": 34
  },
  {
   "cell_type": "markdown",
   "metadata": {},
   "source": [
    "As you can see, the `__eq__` method was called. Let's clean up the code for that a bit:"
   ]
  },
  {
   "cell_type": "code",
   "metadata": {
    "ExecuteTime": {
     "end_time": "2025-06-18T05:05:12.559906Z",
     "start_time": "2025-06-18T05:05:12.552317Z"
    }
   },
   "source": [
    "class Circle:\n",
    "    def __init__(self, radius):\n",
    "        self.radius = radius\n",
    "        \n",
    "    def area(self):\n",
    "        return math.pi * self.radius ** 2\n",
    "\n",
    "    def __repr__(self):\n",
    "        return f'Circle(radius={self.radius})'\n",
    "    \n",
    "    def __eq__(self, other):\n",
    "        return isinstance(other, Circle) and self.radius == other.radius"
   ],
   "outputs": [],
   "execution_count": 35
  },
  {
   "cell_type": "code",
   "metadata": {
    "ExecuteTime": {
     "end_time": "2025-06-18T05:05:12.594846Z",
     "start_time": "2025-06-18T05:05:12.589969Z"
    }
   },
   "source": [
    "c1 = Circle(2)\n",
    "c2 = Circle(2)"
   ],
   "outputs": [],
   "execution_count": 36
  },
  {
   "cell_type": "code",
   "metadata": {
    "ExecuteTime": {
     "end_time": "2025-06-18T05:05:12.618736Z",
     "start_time": "2025-06-18T05:05:12.613113Z"
    }
   },
   "source": [
    "c1 == c2"
   ],
   "outputs": [
    {
     "data": {
      "text/plain": [
       "True"
      ]
     },
     "execution_count": 37,
     "metadata": {},
     "output_type": "execute_result"
    }
   ],
   "execution_count": 37
  },
  {
   "cell_type": "markdown",
   "metadata": {},
   "source": [
    "There are a lot of these \"special\" methods and attributes in Python - they are usually called **dunder** methods (they start and end with a double underscore)."
   ]
  },
  {
   "cell_type": "markdown",
   "metadata": {},
   "source": [
    "For that reason, you should never create custom methods with that naming convention - Python kind of reserves that for itself - you have a lot of choices for your method and attribute names, just stay away from dunder names."
   ]
  }
 ],
 "metadata": {
  "kernelspec": {
   "display_name": "Python 3",
   "language": "python",
   "name": "python3"
  },
  "language_info": {
   "codemirror_mode": {
    "name": "ipython",
    "version": 3
   },
   "file_extension": ".py",
   "mimetype": "text/x-python",
   "name": "python",
   "nbconvert_exporter": "python",
   "pygments_lexer": "ipython3",
   "version": "3.9.1"
  }
 },
 "nbformat": 4,
 "nbformat_minor": 4
}
