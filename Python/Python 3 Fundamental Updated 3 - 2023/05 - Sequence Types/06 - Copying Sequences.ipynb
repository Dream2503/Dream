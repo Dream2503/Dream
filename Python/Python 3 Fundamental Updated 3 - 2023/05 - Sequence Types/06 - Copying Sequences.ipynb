{
 "cells": [
  {
   "cell_type": "markdown",
   "metadata": {},
   "source": [
    "### Copying Sequences"
   ]
  },
  {
   "cell_type": "markdown",
   "metadata": {},
   "source": [
    "Often in our code we want to copy sequences, especially mutable sequences. Maybe because we are passing off our sequence to an external function, and we want to make sure that if that function modifies the sequence it receives, it does not actually modify our own sequence. there are other reasons too which we'll see as we continue through this course."
   ]
  },
  {
   "cell_type": "markdown",
   "metadata": {},
   "source": [
    "We've actually already seen how to make a copy already: using a slice `[:]`:"
   ]
  },
  {
   "cell_type": "code",
   "metadata": {
    "ExecuteTime": {
     "end_time": "2025-06-17T19:17:27.814114Z",
     "start_time": "2025-06-17T19:17:27.806928Z"
    }
   },
   "source": [
    "l1 = [1, 2, 3]"
   ],
   "outputs": [],
   "execution_count": 1
  },
  {
   "cell_type": "code",
   "metadata": {
    "ExecuteTime": {
     "end_time": "2025-06-17T19:17:28.128027Z",
     "start_time": "2025-06-17T19:17:28.121589Z"
    }
   },
   "source": [
    "l2 = l1[:]"
   ],
   "outputs": [],
   "execution_count": 2
  },
  {
   "cell_type": "code",
   "metadata": {
    "ExecuteTime": {
     "end_time": "2025-06-17T19:17:28.167841Z",
     "start_time": "2025-06-17T19:17:28.144769Z"
    }
   },
   "source": [
    "l2"
   ],
   "outputs": [
    {
     "data": {
      "text/plain": [
       "[1, 2, 3]"
      ]
     },
     "execution_count": 3,
     "metadata": {},
     "output_type": "execute_result"
    }
   ],
   "execution_count": 3
  },
  {
   "cell_type": "markdown",
   "metadata": {},
   "source": [
    "Another way to create such a copy is to use the `copy()` method of the sequence object:"
   ]
  },
  {
   "cell_type": "code",
   "metadata": {
    "ExecuteTime": {
     "end_time": "2025-06-17T19:17:28.468386Z",
     "start_time": "2025-06-17T19:17:28.462745Z"
    }
   },
   "source": [
    "l3 = l1.copy()"
   ],
   "outputs": [],
   "execution_count": 4
  },
  {
   "cell_type": "code",
   "metadata": {
    "ExecuteTime": {
     "end_time": "2025-06-17T19:17:28.852601Z",
     "start_time": "2025-06-17T19:17:28.845959Z"
    }
   },
   "source": [
    "l3"
   ],
   "outputs": [
    {
     "data": {
      "text/plain": [
       "[1, 2, 3]"
      ]
     },
     "execution_count": 5,
     "metadata": {},
     "output_type": "execute_result"
    }
   ],
   "execution_count": 5
  },
  {
   "cell_type": "markdown",
   "metadata": {},
   "source": [
    "But the key point with both these copies is that **shallow** copies are made."
   ]
  },
  {
   "cell_type": "markdown",
   "metadata": {},
   "source": [
    "We've seen this before too - it simply means that the copy's element are referencing the **same** elements as the original sequence being copied."
   ]
  },
  {
   "cell_type": "markdown",
   "metadata": {},
   "source": [
    "For something like a list of integers, or a list of strings, this does not matter much."
   ]
  },
  {
   "cell_type": "markdown",
   "metadata": {},
   "source": [
    "But if the sequence we are copying contains mutable elements, the same mutable elements are in the copy, and mutating one in the copy is reflected in the original (and vice versa) since they are the **same** objects."
   ]
  },
  {
   "cell_type": "code",
   "metadata": {
    "ExecuteTime": {
     "end_time": "2025-06-17T19:17:31.358346Z",
     "start_time": "2025-06-17T19:17:31.352851Z"
    }
   },
   "source": [
    "m1 = [[1, 0, 0], [0, 1, 0], [0, 0, 1]]\n",
    "m2 = m1.copy()"
   ],
   "outputs": [],
   "execution_count": 6
  },
  {
   "cell_type": "code",
   "metadata": {
    "ExecuteTime": {
     "end_time": "2025-06-17T19:17:31.610910Z",
     "start_time": "2025-06-17T19:17:31.603901Z"
    }
   },
   "source": [
    "m2"
   ],
   "outputs": [
    {
     "data": {
      "text/plain": [
       "[[1, 0, 0], [0, 1, 0], [0, 0, 1]]"
      ]
     },
     "execution_count": 7,
     "metadata": {},
     "output_type": "execute_result"
    }
   ],
   "execution_count": 7
  },
  {
   "cell_type": "markdown",
   "metadata": {},
   "source": [
    "So `m1` and `m2` are not the same lists:"
   ]
  },
  {
   "cell_type": "code",
   "metadata": {
    "ExecuteTime": {
     "end_time": "2025-06-17T19:17:32.744705Z",
     "start_time": "2025-06-17T19:17:32.738436Z"
    }
   },
   "source": [
    "m1 is m2"
   ],
   "outputs": [
    {
     "data": {
      "text/plain": [
       "False"
      ]
     },
     "execution_count": 8,
     "metadata": {},
     "output_type": "execute_result"
    }
   ],
   "execution_count": 8
  },
  {
   "cell_type": "markdown",
   "metadata": {},
   "source": [
    "So adding to or removing an element from either `m1` or `m2` has no effect on the other:"
   ]
  },
  {
   "cell_type": "code",
   "metadata": {
    "ExecuteTime": {
     "end_time": "2025-06-17T19:17:33.151463Z",
     "start_time": "2025-06-17T19:17:33.146461Z"
    }
   },
   "source": [
    "m1.append('abc')"
   ],
   "outputs": [],
   "execution_count": 9
  },
  {
   "cell_type": "code",
   "metadata": {
    "ExecuteTime": {
     "end_time": "2025-06-17T19:17:34.193629Z",
     "start_time": "2025-06-17T19:17:34.186987Z"
    }
   },
   "source": [
    "m1"
   ],
   "outputs": [
    {
     "data": {
      "text/plain": [
       "[[1, 0, 0], [0, 1, 0], [0, 0, 1], 'abc']"
      ]
     },
     "execution_count": 10,
     "metadata": {},
     "output_type": "execute_result"
    }
   ],
   "execution_count": 10
  },
  {
   "cell_type": "code",
   "metadata": {
    "ExecuteTime": {
     "end_time": "2025-06-17T19:17:38.114436Z",
     "start_time": "2025-06-17T19:17:38.107885Z"
    }
   },
   "source": [
    "m2"
   ],
   "outputs": [
    {
     "data": {
      "text/plain": [
       "[[1, 0, 0], [0, 1, 0], [0, 0, 1]]"
      ]
     },
     "execution_count": 11,
     "metadata": {},
     "output_type": "execute_result"
    }
   ],
   "execution_count": 11
  },
  {
   "cell_type": "code",
   "metadata": {
    "ExecuteTime": {
     "end_time": "2025-06-17T19:17:38.643352Z",
     "start_time": "2025-06-17T19:17:38.637479Z"
    }
   },
   "source": [
    "del m2[2]"
   ],
   "outputs": [],
   "execution_count": 12
  },
  {
   "cell_type": "code",
   "metadata": {
    "ExecuteTime": {
     "end_time": "2025-06-17T19:17:39.413894Z",
     "start_time": "2025-06-17T19:17:39.405568Z"
    }
   },
   "source": [
    "m1"
   ],
   "outputs": [
    {
     "data": {
      "text/plain": [
       "[[1, 0, 0], [0, 1, 0], [0, 0, 1], 'abc']"
      ]
     },
     "execution_count": 13,
     "metadata": {},
     "output_type": "execute_result"
    }
   ],
   "execution_count": 13
  },
  {
   "cell_type": "code",
   "metadata": {
    "ExecuteTime": {
     "end_time": "2025-06-17T19:17:40.160878Z",
     "start_time": "2025-06-17T19:17:40.154783Z"
    }
   },
   "source": [
    "m2"
   ],
   "outputs": [
    {
     "data": {
      "text/plain": [
       "[[1, 0, 0], [0, 1, 0]]"
      ]
     },
     "execution_count": 14,
     "metadata": {},
     "output_type": "execute_result"
    }
   ],
   "execution_count": 14
  },
  {
   "cell_type": "markdown",
   "metadata": {},
   "source": [
    "But, the elements that were copied over are the same elements (they reference the same objects):"
   ]
  },
  {
   "cell_type": "code",
   "metadata": {
    "ExecuteTime": {
     "end_time": "2025-06-17T19:17:41.763157Z",
     "start_time": "2025-06-17T19:17:41.756239Z"
    }
   },
   "source": [
    "m1 = [[1, 0, 0], [0, 1, 0], [0, 0, 1]]\n",
    "m2 = m1.copy()"
   ],
   "outputs": [],
   "execution_count": 15
  },
  {
   "cell_type": "code",
   "metadata": {
    "ExecuteTime": {
     "end_time": "2025-06-17T19:17:42.401810Z",
     "start_time": "2025-06-17T19:17:42.394646Z"
    }
   },
   "source": [
    "m1[0] is m2[0]"
   ],
   "outputs": [
    {
     "data": {
      "text/plain": [
       "True"
      ]
     },
     "execution_count": 16,
     "metadata": {},
     "output_type": "execute_result"
    }
   ],
   "execution_count": 16
  },
  {
   "cell_type": "code",
   "metadata": {
    "ExecuteTime": {
     "end_time": "2025-06-17T19:17:47.030447Z",
     "start_time": "2025-06-17T19:17:47.024994Z"
    }
   },
   "source": [
    "m1[0].append(100)"
   ],
   "outputs": [],
   "execution_count": 17
  },
  {
   "cell_type": "code",
   "metadata": {
    "ExecuteTime": {
     "end_time": "2025-06-17T19:17:47.347913Z",
     "start_time": "2025-06-17T19:17:47.341126Z"
    }
   },
   "source": [
    "m1"
   ],
   "outputs": [
    {
     "data": {
      "text/plain": [
       "[[1, 0, 0, 100], [0, 1, 0], [0, 0, 1]]"
      ]
     },
     "execution_count": 18,
     "metadata": {},
     "output_type": "execute_result"
    }
   ],
   "execution_count": 18
  },
  {
   "cell_type": "code",
   "metadata": {
    "ExecuteTime": {
     "end_time": "2025-06-17T19:17:47.569941Z",
     "start_time": "2025-06-17T19:17:47.563830Z"
    }
   },
   "source": [
    "m2"
   ],
   "outputs": [
    {
     "data": {
      "text/plain": [
       "[[1, 0, 0, 100], [0, 1, 0], [0, 0, 1]]"
      ]
     },
     "execution_count": 19,
     "metadata": {},
     "output_type": "execute_result"
    }
   ],
   "execution_count": 19
  },
  {
   "cell_type": "markdown",
   "metadata": {},
   "source": [
    "This may not be what we want - we may want a totally \"independent\" copy of `m1`."
   ]
  },
  {
   "cell_type": "markdown",
   "metadata": {},
   "source": [
    "In that case, we need to make a **deep** copy."
   ]
  },
  {
   "cell_type": "markdown",
   "metadata": {},
   "source": [
    "To do so we can use Python's import `deepcopy` function."
   ]
  },
  {
   "cell_type": "markdown",
   "metadata": {},
   "source": [
    "That function is not directly available, so we need to **import** it from the `copy` module:"
   ]
  },
  {
   "cell_type": "code",
   "metadata": {
    "ExecuteTime": {
     "end_time": "2025-06-17T19:17:49.016195Z",
     "start_time": "2025-06-17T19:17:49.010352Z"
    }
   },
   "source": [
    "from copy import deepcopy"
   ],
   "outputs": [],
   "execution_count": 20
  },
  {
   "cell_type": "markdown",
   "metadata": {},
   "source": [
    "Let's go back to our original example:"
   ]
  },
  {
   "cell_type": "code",
   "metadata": {
    "ExecuteTime": {
     "end_time": "2025-06-17T19:17:56.790220Z",
     "start_time": "2025-06-17T19:17:56.784490Z"
    }
   },
   "source": [
    "m1 = [[1, 0, 0], [0, 1, 0], [0, 0, 1]]"
   ],
   "outputs": [],
   "execution_count": 21
  },
  {
   "cell_type": "markdown",
   "metadata": {},
   "source": [
    "and make a deep copy:"
   ]
  },
  {
   "cell_type": "code",
   "metadata": {
    "ExecuteTime": {
     "end_time": "2025-06-17T19:17:57.503093Z",
     "start_time": "2025-06-17T19:17:57.497631Z"
    }
   },
   "source": [
    "m2 = deepcopy(m1)"
   ],
   "outputs": [],
   "execution_count": 22
  },
  {
   "cell_type": "markdown",
   "metadata": {},
   "source": [
    "Now let's look at the first element of each:"
   ]
  },
  {
   "cell_type": "code",
   "metadata": {
    "ExecuteTime": {
     "end_time": "2025-06-17T19:17:57.961375Z",
     "start_time": "2025-06-17T19:17:57.955071Z"
    }
   },
   "source": [
    "m1[0] is m2[0]"
   ],
   "outputs": [
    {
     "data": {
      "text/plain": [
       "False"
      ]
     },
     "execution_count": 23,
     "metadata": {},
     "output_type": "execute_result"
    }
   ],
   "execution_count": 23
  },
  {
   "cell_type": "markdown",
   "metadata": {},
   "source": [
    "And we can see that they are **not** the same objects - they were copied too!"
   ]
  },
  {
   "cell_type": "markdown",
   "metadata": {},
   "source": [
    "So `m1` and `m2` are truly \"independent\" of each other:"
   ]
  },
  {
   "cell_type": "code",
   "metadata": {
    "ExecuteTime": {
     "end_time": "2025-06-17T19:17:58.573928Z",
     "start_time": "2025-06-17T19:17:58.569043Z"
    }
   },
   "source": [
    "m1[0].append(100)"
   ],
   "outputs": [],
   "execution_count": 24
  },
  {
   "cell_type": "code",
   "metadata": {
    "ExecuteTime": {
     "end_time": "2025-06-17T19:17:58.765364Z",
     "start_time": "2025-06-17T19:17:58.758979Z"
    }
   },
   "source": [
    "m1"
   ],
   "outputs": [
    {
     "data": {
      "text/plain": [
       "[[1, 0, 0, 100], [0, 1, 0], [0, 0, 1]]"
      ]
     },
     "execution_count": 25,
     "metadata": {},
     "output_type": "execute_result"
    }
   ],
   "execution_count": 25
  },
  {
   "cell_type": "code",
   "metadata": {
    "ExecuteTime": {
     "end_time": "2025-06-17T19:17:58.953503Z",
     "start_time": "2025-06-17T19:17:58.947063Z"
    }
   },
   "source": [
    "m2"
   ],
   "outputs": [
    {
     "data": {
      "text/plain": [
       "[[1, 0, 0], [0, 1, 0], [0, 0, 1]]"
      ]
     },
     "execution_count": 26,
     "metadata": {},
     "output_type": "execute_result"
    }
   ],
   "execution_count": 26
  },
  {
   "cell_type": "markdown",
   "metadata": {},
   "source": [
    "Unlike lists, string and tuple objects do not have a `copy()` method."
   ]
  },
  {
   "cell_type": "markdown",
   "metadata": {},
   "source": [
    "We can of course make shallow copies using slicing, but this may seem like an omission on the part of Python."
   ]
  },
  {
   "cell_type": "markdown",
   "metadata": {},
   "source": [
    "Well, not really."
   ]
  },
  {
   "cell_type": "markdown",
   "metadata": {},
   "source": [
    "Remember what a shallow copy does - it create a new container, with the same elements as the original. We make a shallow copy so that mutating the copied sequence (insert, add, replace) does not affect the original (and vice versa)."
   ]
  },
  {
   "cell_type": "markdown",
   "metadata": {},
   "source": [
    "But, strings and tuples are immutable collections - so making a shallow copy of an immutable collection does not achieve anything, hence Python does not bother implement a shallow `copy()` method for those sequence types."
   ]
  },
  {
   "cell_type": "markdown",
   "metadata": {},
   "source": [
    "In fact, here's something interesting:"
   ]
  },
  {
   "cell_type": "code",
   "metadata": {
    "ExecuteTime": {
     "end_time": "2025-06-17T19:18:00.411359Z",
     "start_time": "2025-06-17T19:18:00.405855Z"
    }
   },
   "source": [
    "t1 = (10, [1, 2], 'abc')"
   ],
   "outputs": [],
   "execution_count": 27
  },
  {
   "cell_type": "code",
   "metadata": {
    "ExecuteTime": {
     "end_time": "2025-06-17T19:18:00.653621Z",
     "start_time": "2025-06-17T19:18:00.648041Z"
    }
   },
   "source": [
    "t2 = t1[:]"
   ],
   "outputs": [],
   "execution_count": 28
  },
  {
   "cell_type": "code",
   "metadata": {
    "ExecuteTime": {
     "end_time": "2025-06-17T19:18:00.857400Z",
     "start_time": "2025-06-17T19:18:00.850887Z"
    }
   },
   "source": [
    "t1 is t2"
   ],
   "outputs": [
    {
     "data": {
      "text/plain": [
       "True"
      ]
     },
     "execution_count": 29,
     "metadata": {},
     "output_type": "execute_result"
    }
   ],
   "execution_count": 29
  },
  {
   "cell_type": "markdown",
   "metadata": {},
   "source": [
    "Hah, `t1` and `t2` are the **same** objects - so in fact this is no different than doing this:"
   ]
  },
  {
   "cell_type": "code",
   "metadata": {
    "ExecuteTime": {
     "end_time": "2025-06-17T19:18:01.800587Z",
     "start_time": "2025-06-17T19:18:01.794882Z"
    }
   },
   "source": [
    "t1 = (10, [1, 2], 'abc')\n",
    "t2 = t1"
   ],
   "outputs": [],
   "execution_count": 30
  },
  {
   "cell_type": "code",
   "metadata": {
    "ExecuteTime": {
     "end_time": "2025-06-17T19:18:02.186976Z",
     "start_time": "2025-06-17T19:18:02.180055Z"
    }
   },
   "source": [
    "t1 is t2"
   ],
   "outputs": [
    {
     "data": {
      "text/plain": [
       "True"
      ]
     },
     "execution_count": 31,
     "metadata": {},
     "output_type": "execute_result"
    }
   ],
   "execution_count": 31
  },
  {
   "cell_type": "markdown",
   "metadata": {},
   "source": [
    "So when we try to create a shallow copy of a tuple (or a string) using slicing, Python recognizes that we are trying to copy an **immutable** sequence, and bypasses making the copy - instead making our new \"copy\" a reference to the same original object - because it is perfectly safe to do so."
   ]
  }
 ],
 "metadata": {
  "kernelspec": {
   "display_name": "Python 3",
   "language": "python",
   "name": "python3"
  },
  "language_info": {
   "codemirror_mode": {
    "name": "ipython",
    "version": 3
   },
   "file_extension": ".py",
   "mimetype": "text/x-python",
   "name": "python",
   "nbconvert_exporter": "python",
   "pygments_lexer": "ipython3",
   "version": "3.9.1"
  }
 },
 "nbformat": 4,
 "nbformat_minor": 4
}
