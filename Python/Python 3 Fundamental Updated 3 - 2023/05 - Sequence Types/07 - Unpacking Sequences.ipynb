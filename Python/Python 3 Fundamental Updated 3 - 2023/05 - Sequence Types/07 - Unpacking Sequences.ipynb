{
 "cells": [
  {
   "cell_type": "markdown",
   "metadata": {},
   "source": [
    "### Unpacking Sequences"
   ]
  },
  {
   "cell_type": "markdown",
   "metadata": {},
   "source": [
    "Sometimes we have relatively small tuples, strings or lists, and we want to assign a separate symbol to each element of the sequence."
   ]
  },
  {
   "cell_type": "markdown",
   "metadata": {},
   "source": [
    "This is often used when functions return multiple values, using a tuple, and we want to \"unpack\" the tuple into separate variables (symbols)."
   ]
  },
  {
   "cell_type": "markdown",
   "metadata": {},
   "source": [
    "We can use sequence unpacking to do this:"
   ]
  },
  {
   "cell_type": "code",
   "metadata": {
    "ExecuteTime": {
     "end_time": "2025-06-17T19:18:13.479952Z",
     "start_time": "2025-06-17T19:18:13.473216Z"
    }
   },
   "source": [
    "rate = 5.0, 5.12"
   ],
   "outputs": [],
   "execution_count": 1
  },
  {
   "cell_type": "markdown",
   "metadata": {},
   "source": [
    "Here, the first element of `rate` is an APR, and the second element is an APY."
   ]
  },
  {
   "cell_type": "markdown",
   "metadata": {},
   "source": [
    "We could keep referring to those rates this way:"
   ]
  },
  {
   "cell_type": "code",
   "metadata": {
    "ExecuteTime": {
     "end_time": "2025-06-17T19:18:13.805105Z",
     "start_time": "2025-06-17T19:18:13.797572Z"
    }
   },
   "source": [
    "rate[0]"
   ],
   "outputs": [
    {
     "data": {
      "text/plain": [
       "5.0"
      ]
     },
     "execution_count": 2,
     "metadata": {},
     "output_type": "execute_result"
    }
   ],
   "execution_count": 2
  },
  {
   "cell_type": "code",
   "metadata": {
    "ExecuteTime": {
     "end_time": "2025-06-17T19:18:13.922025Z",
     "start_time": "2025-06-17T19:18:13.914215Z"
    }
   },
   "source": [
    "rate[1]"
   ],
   "outputs": [
    {
     "data": {
      "text/plain": [
       "5.12"
      ]
     },
     "execution_count": 3,
     "metadata": {},
     "output_type": "execute_result"
    }
   ],
   "execution_count": 3
  },
  {
   "cell_type": "markdown",
   "metadata": {},
   "source": [
    "But we'd like to store those into easier symbols:"
   ]
  },
  {
   "cell_type": "code",
   "metadata": {
    "ExecuteTime": {
     "end_time": "2025-06-17T19:18:14.010258Z",
     "start_time": "2025-06-17T19:18:14.005299Z"
    }
   },
   "source": [
    "apr = rate[0]\n",
    "apy = rate[1]"
   ],
   "outputs": [],
   "execution_count": 4
  },
  {
   "cell_type": "code",
   "metadata": {
    "ExecuteTime": {
     "end_time": "2025-06-17T19:18:14.036356Z",
     "start_time": "2025-06-17T19:18:14.029969Z"
    }
   },
   "source": [
    "print(apr)\n",
    "print(apy)"
   ],
   "outputs": [
    {
     "name": "stdout",
     "output_type": "stream",
     "text": [
      "5.0\n",
      "5.12\n"
     ]
    }
   ],
   "execution_count": 5
  },
  {
   "cell_type": "markdown",
   "metadata": {},
   "source": [
    "But a much simpler way to do this is to use unpacking:"
   ]
  },
  {
   "cell_type": "code",
   "metadata": {
    "ExecuteTime": {
     "end_time": "2025-06-17T19:18:14.154455Z",
     "start_time": "2025-06-17T19:18:14.131039Z"
    }
   },
   "source": [
    "apr, apy = rate"
   ],
   "outputs": [],
   "execution_count": 6
  },
  {
   "cell_type": "code",
   "metadata": {
    "ExecuteTime": {
     "end_time": "2025-06-17T19:18:14.199523Z",
     "start_time": "2025-06-17T19:18:14.194050Z"
    }
   },
   "source": [
    "print(apr)\n",
    "print(apy)"
   ],
   "outputs": [
    {
     "name": "stdout",
     "output_type": "stream",
     "text": [
      "5.0\n",
      "5.12\n"
     ]
    }
   ],
   "execution_count": 7
  },
  {
   "cell_type": "markdown",
   "metadata": {},
   "source": [
    "This works for sequences of any size, the only requirement is that we provide as many symbols on the left as there are elements in the sequence on the right:"
   ]
  },
  {
   "cell_type": "code",
   "metadata": {
    "ExecuteTime": {
     "end_time": "2025-06-17T19:18:14.353452Z",
     "start_time": "2025-06-17T19:18:14.347955Z"
    }
   },
   "source": [
    "a, b, c = 10, 3.14, 'abc'"
   ],
   "outputs": [],
   "execution_count": 8
  },
  {
   "cell_type": "code",
   "metadata": {
    "ExecuteTime": {
     "end_time": "2025-06-17T19:18:14.416397Z",
     "start_time": "2025-06-17T19:18:14.411340Z"
    }
   },
   "source": [
    "print(a)\n",
    "print(b)\n",
    "print(c)"
   ],
   "outputs": [
    {
     "name": "stdout",
     "output_type": "stream",
     "text": [
      "10\n",
      "3.14\n",
      "abc\n"
     ]
    }
   ],
   "execution_count": 9
  },
  {
   "cell_type": "markdown",
   "metadata": {},
   "source": [
    "If the numbers don't match, we will get `ValueError` exceptions:"
   ]
  },
  {
   "cell_type": "code",
   "metadata": {
    "ExecuteTime": {
     "end_time": "2025-06-17T19:18:15.267468Z",
     "start_time": "2025-06-17T19:18:14.885357Z"
    }
   },
   "source": [
    "a, b = 1, 2, 3"
   ],
   "outputs": [
    {
     "ename": "ValueError",
     "evalue": "too many values to unpack (expected 2)",
     "output_type": "error",
     "traceback": [
      "\u001B[1;31m---------------------------------------------------------------------------\u001B[0m",
      "\u001B[1;31mValueError\u001B[0m                                Traceback (most recent call last)",
      "Cell \u001B[1;32mIn[10], line 1\u001B[0m\n\u001B[1;32m----> 1\u001B[0m a, b \u001B[38;5;241m=\u001B[39m \u001B[38;5;241m1\u001B[39m, \u001B[38;5;241m2\u001B[39m, \u001B[38;5;241m3\u001B[39m\n",
      "\u001B[1;31mValueError\u001B[0m: too many values to unpack (expected 2)"
     ]
    }
   ],
   "execution_count": 10
  },
  {
   "cell_type": "code",
   "metadata": {
    "ExecuteTime": {
     "end_time": "2025-06-17T19:18:23.221582Z",
     "start_time": "2025-06-17T19:18:23.200504Z"
    }
   },
   "source": "a, b, c = 1, 2",
   "outputs": [
    {
     "ename": "ValueError",
     "evalue": "not enough values to unpack (expected 3, got 2)",
     "output_type": "error",
     "traceback": [
      "\u001B[1;31m---------------------------------------------------------------------------\u001B[0m",
      "\u001B[1;31mValueError\u001B[0m                                Traceback (most recent call last)",
      "Cell \u001B[1;32mIn[13], line 1\u001B[0m\n\u001B[1;32m----> 1\u001B[0m a, b, c \u001B[38;5;241m=\u001B[39m \u001B[38;5;241m1\u001B[39m, \u001B[38;5;241m2\u001B[39m\n",
      "\u001B[1;31mValueError\u001B[0m: not enough values to unpack (expected 3, got 2)"
     ]
    }
   ],
   "execution_count": 13
  },
  {
   "cell_type": "markdown",
   "metadata": {},
   "source": [
    "Unpacking works with iterables in general, so strings, lists, tuples, etc."
   ]
  },
  {
   "cell_type": "code",
   "metadata": {
    "ExecuteTime": {
     "end_time": "2025-06-17T19:18:24.443808Z",
     "start_time": "2025-06-17T19:18:24.438328Z"
    }
   },
   "source": [
    "x, y, z = 'abc'"
   ],
   "outputs": [],
   "execution_count": 14
  },
  {
   "cell_type": "code",
   "metadata": {
    "ExecuteTime": {
     "end_time": "2025-06-17T19:18:24.873694Z",
     "start_time": "2025-06-17T19:18:24.867539Z"
    }
   },
   "source": [
    "print(x)\n",
    "print(y)\n",
    "print(z)"
   ],
   "outputs": [
    {
     "name": "stdout",
     "output_type": "stream",
     "text": [
      "a\n",
      "b\n",
      "c\n"
     ]
    }
   ],
   "execution_count": 15
  },
  {
   "cell_type": "markdown",
   "metadata": {},
   "source": [
    "Recall that the way Python executes an assignment:"
   ]
  },
  {
   "cell_type": "code",
   "metadata": {
    "ExecuteTime": {
     "end_time": "2025-06-17T19:18:25.925792Z",
     "start_time": "2025-06-17T19:18:25.921356Z"
    }
   },
   "source": [
    "a = 10 * 2**3 + 5"
   ],
   "outputs": [],
   "execution_count": 16
  },
  {
   "cell_type": "code",
   "metadata": {
    "ExecuteTime": {
     "end_time": "2025-06-17T19:18:26.380711Z",
     "start_time": "2025-06-17T19:18:26.374346Z"
    }
   },
   "source": [
    "a"
   ],
   "outputs": [
    {
     "data": {
      "text/plain": [
       "85"
      ]
     },
     "execution_count": 17,
     "metadata": {},
     "output_type": "execute_result"
    }
   ],
   "execution_count": 17
  },
  {
   "cell_type": "markdown",
   "metadata": {},
   "source": [
    "It:\n",
    "1. first evaluates (computes) the right hand side\n",
    "2. finally assigns the result of the RHS to the symbol defined on the left."
   ]
  },
  {
   "cell_type": "markdown",
   "metadata": {},
   "source": [
    "This means that when we write this:"
   ]
  },
  {
   "cell_type": "code",
   "metadata": {
    "ExecuteTime": {
     "end_time": "2025-06-17T19:18:27.727724Z",
     "start_time": "2025-06-17T19:18:27.721242Z"
    }
   },
   "source": [
    "a, b, c = [1, 2, 3]"
   ],
   "outputs": [],
   "execution_count": 18
  },
  {
   "cell_type": "markdown",
   "metadata": {},
   "source": [
    "Python first evaluates the RHS, creating a list object, and **then** it unpacks it into the symbols on the left."
   ]
  },
  {
   "cell_type": "markdown",
   "metadata": {},
   "source": [
    "This may make it look more obvious:"
   ]
  },
  {
   "cell_type": "code",
   "metadata": {
    "ExecuteTime": {
     "end_time": "2025-06-17T19:18:29.026728Z",
     "start_time": "2025-06-17T19:18:29.021482Z"
    }
   },
   "source": [
    "s = 'abcdef'\n",
    "a, b, c = (1 + 1, s[::-1], 3.14)"
   ],
   "outputs": [],
   "execution_count": 19
  },
  {
   "cell_type": "code",
   "metadata": {
    "ExecuteTime": {
     "end_time": "2025-06-17T19:18:29.504120Z",
     "start_time": "2025-06-17T19:18:29.498349Z"
    }
   },
   "source": [
    "print(a)\n",
    "print(b)\n",
    "print(c)"
   ],
   "outputs": [
    {
     "name": "stdout",
     "output_type": "stream",
     "text": [
      "2\n",
      "fedcba\n",
      "3.14\n"
     ]
    }
   ],
   "execution_count": 20
  },
  {
   "cell_type": "markdown",
   "metadata": {},
   "source": [
    "One useful applications of unpacking and the way Python fully evaluates the RHS first, is for swapping the values of two variables."
   ]
  },
  {
   "cell_type": "markdown",
   "metadata": {},
   "source": [
    "Suppose we have these variables:"
   ]
  },
  {
   "cell_type": "code",
   "metadata": {
    "ExecuteTime": {
     "end_time": "2025-06-17T19:18:32.005597Z",
     "start_time": "2025-06-17T19:18:31.999602Z"
    }
   },
   "source": [
    "a = 100\n",
    "b = 3.14"
   ],
   "outputs": [],
   "execution_count": 21
  },
  {
   "cell_type": "markdown",
   "metadata": {},
   "source": [
    "And we want to swap these values, i.e. we want `b` to be `100`, and `a` to be `3.14`."
   ]
  },
  {
   "cell_type": "markdown",
   "metadata": {},
   "source": [
    "We could do it by using a temporary variable (and indeed this is a verry common pattern for many programming languages):"
   ]
  },
  {
   "cell_type": "code",
   "metadata": {
    "ExecuteTime": {
     "end_time": "2025-06-17T19:18:34.195626Z",
     "start_time": "2025-06-17T19:18:34.190448Z"
    }
   },
   "source": [
    "tmp = a  # we store the value of a in tmp\n",
    "a = b  # we replace the value of with the value of b (original value of a is still in tmp)\n",
    "b = tmp  # we assign to b the value we store in tmp"
   ],
   "outputs": [],
   "execution_count": 22
  },
  {
   "cell_type": "code",
   "metadata": {
    "ExecuteTime": {
     "end_time": "2025-06-17T19:18:34.725996Z",
     "start_time": "2025-06-17T19:18:34.719035Z"
    }
   },
   "source": [
    "a, b"
   ],
   "outputs": [
    {
     "data": {
      "text/plain": [
       "(3.14, 100)"
      ]
     },
     "execution_count": 23,
     "metadata": {},
     "output_type": "execute_result"
    }
   ],
   "execution_count": 23
  },
  {
   "cell_type": "markdown",
   "metadata": {},
   "source": [
    "As you can see we swapped the two values."
   ]
  },
  {
   "cell_type": "markdown",
   "metadata": {},
   "source": [
    "But using unpacking we can first create a tuple like so:"
   ]
  },
  {
   "cell_type": "code",
   "metadata": {
    "ExecuteTime": {
     "end_time": "2025-06-17T19:18:36.722081Z",
     "start_time": "2025-06-17T19:18:36.716700Z"
    }
   },
   "source": [
    "a = 100\n",
    "b = 3.14\n",
    "\n",
    "t = b, a"
   ],
   "outputs": [],
   "execution_count": 24
  },
  {
   "cell_type": "code",
   "metadata": {
    "ExecuteTime": {
     "end_time": "2025-06-17T19:18:37.179876Z",
     "start_time": "2025-06-17T19:18:37.172808Z"
    }
   },
   "source": [
    "t"
   ],
   "outputs": [
    {
     "data": {
      "text/plain": [
       "(3.14, 100)"
      ]
     },
     "execution_count": 25,
     "metadata": {},
     "output_type": "execute_result"
    }
   ],
   "execution_count": 25
  },
  {
   "cell_type": "markdown",
   "metadata": {},
   "source": [
    "Next we unpack the tuple `(3.14, 100)` into `a` and `b`:"
   ]
  },
  {
   "cell_type": "code",
   "metadata": {
    "ExecuteTime": {
     "end_time": "2025-06-17T19:18:38.448570Z",
     "start_time": "2025-06-17T19:18:38.442297Z"
    }
   },
   "source": [
    "a, b = t"
   ],
   "outputs": [],
   "execution_count": 26
  },
  {
   "cell_type": "code",
   "metadata": {
    "ExecuteTime": {
     "end_time": "2025-06-17T19:18:39.121652Z",
     "start_time": "2025-06-17T19:18:39.115844Z"
    }
   },
   "source": [
    "print(a)\n",
    "print(b)"
   ],
   "outputs": [
    {
     "name": "stdout",
     "output_type": "stream",
     "text": [
      "3.14\n",
      "100\n"
     ]
    }
   ],
   "execution_count": 27
  },
  {
   "cell_type": "markdown",
   "metadata": {},
   "source": [
    "As you can see, we have now swapped the values for `a` and `b`."
   ]
  },
  {
   "cell_type": "markdown",
   "metadata": {},
   "source": [
    "But, we don't need to create a temporary variable to hold the tuple since Python evaluates the right hand side of an assignment expression before it does the assignment:"
   ]
  },
  {
   "cell_type": "code",
   "metadata": {
    "ExecuteTime": {
     "end_time": "2025-06-17T19:18:41.149647Z",
     "start_time": "2025-06-17T19:18:41.144006Z"
    }
   },
   "source": [
    "a = 100\n",
    "b = 3.14\n",
    "\n",
    "a, b = b, a"
   ],
   "outputs": [],
   "execution_count": 28
  },
  {
   "cell_type": "markdown",
   "metadata": {},
   "source": [
    "Python first created the tuple `b, a`, and **then** unpacked it into the symbols `a` and `b`, effectively swapping the two values:"
   ]
  },
  {
   "cell_type": "code",
   "metadata": {
    "ExecuteTime": {
     "end_time": "2025-06-17T19:18:42.290951Z",
     "start_time": "2025-06-17T19:18:42.284797Z"
    }
   },
   "source": [
    "print(a)\n",
    "print(b)"
   ],
   "outputs": [
    {
     "name": "stdout",
     "output_type": "stream",
     "text": [
      "3.14\n",
      "100\n"
     ]
    }
   ],
   "execution_count": 29
  }
 ],
 "metadata": {
  "kernelspec": {
   "display_name": "Python 3",
   "language": "python",
   "name": "python3"
  },
  "language_info": {
   "codemirror_mode": {
    "name": "ipython",
    "version": 3
   },
   "file_extension": ".py",
   "mimetype": "text/x-python",
   "name": "python",
   "nbconvert_exporter": "python",
   "pygments_lexer": "ipython3",
   "version": "3.9.1"
  }
 },
 "nbformat": 4,
 "nbformat_minor": 4
}
