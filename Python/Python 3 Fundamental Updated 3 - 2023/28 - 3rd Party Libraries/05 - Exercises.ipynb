{
 "cells": [
  {
   "cell_type": "markdown",
   "id": "urban-territory",
   "metadata": {},
   "source": [
    "### Solutions"
   ]
  },
  {
   "cell_type": "markdown",
   "id": "computational-fitness",
   "metadata": {},
   "source": [
    "#### Question 1"
   ]
  },
  {
   "cell_type": "markdown",
   "id": "coral-lending",
   "metadata": {},
   "source": [
    "Use the `pytz` and `dateutil` libraries to convert this string into a UTC naive `datetime` object."
   ]
  },
  {
   "cell_type": "code",
   "id": "formal-ability",
   "metadata": {
    "ExecuteTime": {
     "end_time": "2025-06-18T05:16:22.186058Z",
     "start_time": "2025-06-18T05:16:22.176612Z"
    }
   },
   "source": [
    "t = \"Feb 8, 2021 5:30pm (Denver Time)\""
   ],
   "outputs": [],
   "execution_count": 1
  },
  {
   "cell_type": "markdown",
   "id": "amended-illustration",
   "metadata": {},
   "source": [
    "#### Question 2"
   ]
  },
  {
   "cell_type": "markdown",
   "id": "massive-input",
   "metadata": {},
   "source": [
    "Use the `requests` library to load the following html page:"
   ]
  },
  {
   "cell_type": "code",
   "id": "understanding-softball",
   "metadata": {
    "ExecuteTime": {
     "end_time": "2025-06-18T05:16:22.532780Z",
     "start_time": "2025-06-18T05:16:22.527882Z"
    }
   },
   "source": [
    "url = 'https://en.wikipedia.org/wiki/John_von_Neumann'"
   ],
   "outputs": [],
   "execution_count": 2
  },
  {
   "cell_type": "markdown",
   "id": "systematic-shock",
   "metadata": {},
   "source": [
    "Once you have loaded that page, extract the title of that page, which is the text located between the `<title>` and `</title>` tags (often referred to as opening and closing tags, or start and end tags, respectively)."
   ]
  },
  {
   "cell_type": "markdown",
   "id": "equivalent-divide",
   "metadata": {},
   "source": [
    "Hint: You'll want to read the Python docs for the `find` method available for strings:\n",
    "\n",
    "https://docs.python.org/3/library/stdtypes.html?highlight=string#str.find"
   ]
  },
  {
   "cell_type": "markdown",
   "id": "declared-appreciation",
   "metadata": {},
   "source": [
    "#### Question 3"
   ]
  },
  {
   "cell_type": "markdown",
   "id": "fifth-strength",
   "metadata": {},
   "source": [
    "Use a `GET` request to this URL:"
   ]
  },
  {
   "cell_type": "code",
   "id": "coordinated-lounge",
   "metadata": {
    "ExecuteTime": {
     "end_time": "2025-06-18T05:16:22.558043Z",
     "start_time": "2025-06-18T05:16:22.553011Z"
    }
   },
   "source": [
    "url = 'https://httpbin.org/json'"
   ],
   "outputs": [],
   "execution_count": 3
  },
  {
   "cell_type": "markdown",
   "id": "gross-vatican",
   "metadata": {},
   "source": [
    "Use the response from that request to:\n",
    "- determine the response format\n",
    "- extract the response into a Python object"
   ]
  },
  {
   "cell_type": "markdown",
   "id": "molecular-click",
   "metadata": {},
   "source": [
    "#### Question 4"
   ]
  },
  {
   "cell_type": "markdown",
   "id": "transsexual-simple",
   "metadata": {},
   "source": [
    "Use a `POST` request to call this url:"
   ]
  },
  {
   "cell_type": "code",
   "id": "funky-mistress",
   "metadata": {
    "ExecuteTime": {
     "end_time": "2025-06-18T05:16:22.605166Z",
     "start_time": "2025-06-18T05:16:22.600156Z"
    }
   },
   "source": [
    "url = 'https://httpbin.org/anything'"
   ],
   "outputs": [],
   "execution_count": 4
  },
  {
   "cell_type": "markdown",
   "id": "diverse-alpha",
   "metadata": {},
   "source": [
    "Make this call passing the following query parameters: `a=1` and `b=2`"
   ]
  },
  {
   "cell_type": "markdown",
   "id": "early-reminder",
   "metadata": {},
   "source": [
    "Also, pass this dictionary as the body of the post request:"
   ]
  },
  {
   "cell_type": "code",
   "id": "excessive-mouth",
   "metadata": {
    "ExecuteTime": {
     "end_time": "2025-06-18T05:16:22.637978Z",
     "start_time": "2025-06-18T05:16:22.630421Z"
    }
   },
   "source": [
    "data = {\n",
    "    'x': 100,\n",
    "    'y': 200,\n",
    "    'z': ['a', 'b', 'c']\n",
    "}"
   ],
   "outputs": [],
   "execution_count": 5
  },
  {
   "cell_type": "markdown",
   "id": "announced-discharge",
   "metadata": {},
   "source": [
    "Load the returned JSON into a Python object and print it out."
   ]
  }
 ],
 "metadata": {
  "kernelspec": {
   "display_name": "Python 3",
   "language": "python",
   "name": "python3"
  },
  "language_info": {
   "codemirror_mode": {
    "name": "ipython",
    "version": 3
   },
   "file_extension": ".py",
   "mimetype": "text/x-python",
   "name": "python",
   "nbconvert_exporter": "python",
   "pygments_lexer": "ipython3",
   "version": "3.9.1"
  }
 },
 "nbformat": 4,
 "nbformat_minor": 5
}
