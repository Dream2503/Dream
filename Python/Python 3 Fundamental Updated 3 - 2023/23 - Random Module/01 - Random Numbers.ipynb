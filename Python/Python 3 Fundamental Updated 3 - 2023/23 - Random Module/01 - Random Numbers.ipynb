{
 "cells": [
  {
   "cell_type": "markdown",
   "metadata": {},
   "source": [
    "### Random Numbers"
   ]
  },
  {
   "cell_type": "markdown",
   "metadata": {},
   "source": [
    "https://docs.python.org/3/library/random.html"
   ]
  },
  {
   "cell_type": "markdown",
   "metadata": {},
   "source": [
    "Let's look at the fundamental random number generator in the `random` module:"
   ]
  },
  {
   "cell_type": "code",
   "metadata": {
    "ExecuteTime": {
     "end_time": "2025-06-18T04:57:30.183525Z",
     "start_time": "2025-06-18T04:57:30.173747Z"
    }
   },
   "source": [
    "import random"
   ],
   "outputs": [],
   "execution_count": 1
  },
  {
   "cell_type": "code",
   "metadata": {
    "ExecuteTime": {
     "end_time": "2025-06-18T04:57:30.517819Z",
     "start_time": "2025-06-18T04:57:30.512660Z"
    }
   },
   "source": [
    "for _ in range(5):\n",
    "    print(random.random())"
   ],
   "outputs": [
    {
     "name": "stdout",
     "output_type": "stream",
     "text": [
      "0.004518031153183055\n",
      "0.4102257080785985\n",
      "0.2152791871860027\n",
      "0.048555093257696025\n",
      "0.1913117055119855\n"
     ]
    }
   ],
   "execution_count": 2
  },
  {
   "cell_type": "markdown",
   "metadata": {},
   "source": [
    "This generated a sequence of 5 (pseudo) random floats in `[0.0, 1.0)`."
   ]
  },
  {
   "cell_type": "markdown",
   "metadata": {},
   "source": [
    "The PRNG is deterministic, but it uses a seed value. "
   ]
  },
  {
   "cell_type": "markdown",
   "metadata": {},
   "source": [
    "If we use the **same** seed value, then the pseudo random numbers generated from repeated calls to `random()` will result in the same numbers being generated."
   ]
  },
  {
   "cell_type": "code",
   "metadata": {
    "ExecuteTime": {
     "end_time": "2025-06-18T04:57:30.641829Z",
     "start_time": "2025-06-18T04:57:30.635615Z"
    }
   },
   "source": [
    "random.seed(0)\n",
    "\n",
    "for _ in range(5):\n",
    "    print(random.random())"
   ],
   "outputs": [
    {
     "name": "stdout",
     "output_type": "stream",
     "text": [
      "0.8444218515250481\n",
      "0.7579544029403025\n",
      "0.420571580830845\n",
      "0.25891675029296335\n",
      "0.5112747213686085\n"
     ]
    }
   ],
   "execution_count": 3
  },
  {
   "cell_type": "markdown",
   "metadata": {},
   "source": [
    "and if we do this again:"
   ]
  },
  {
   "cell_type": "code",
   "metadata": {
    "ExecuteTime": {
     "end_time": "2025-06-18T04:57:30.718089Z",
     "start_time": "2025-06-18T04:57:30.712267Z"
    }
   },
   "source": [
    "random.seed(0)\n",
    "\n",
    "for _ in range(5):\n",
    "    print(random.random())"
   ],
   "outputs": [
    {
     "name": "stdout",
     "output_type": "stream",
     "text": [
      "0.8444218515250481\n",
      "0.7579544029403025\n",
      "0.420571580830845\n",
      "0.25891675029296335\n",
      "0.5112747213686085\n"
     ]
    }
   ],
   "execution_count": 4
  },
  {
   "cell_type": "markdown",
   "metadata": {},
   "source": [
    "You see we get the same sequence of generate random numbers."
   ]
  },
  {
   "cell_type": "markdown",
   "metadata": {},
   "source": [
    "But if we change the seed, then the sequence will be different:"
   ]
  },
  {
   "cell_type": "code",
   "metadata": {
    "ExecuteTime": {
     "end_time": "2025-06-18T04:57:30.807741Z",
     "start_time": "2025-06-18T04:57:30.801179Z"
    }
   },
   "source": [
    "random.seed(1)\n",
    "\n",
    "for _ in range(5):\n",
    "    print(random.random())"
   ],
   "outputs": [
    {
     "name": "stdout",
     "output_type": "stream",
     "text": [
      "0.13436424411240122\n",
      "0.8474337369372327\n",
      "0.763774618976614\n",
      "0.2550690257394217\n",
      "0.49543508709194095\n"
     ]
    }
   ],
   "execution_count": 5
  },
  {
   "cell_type": "markdown",
   "metadata": {},
   "source": [
    "But again, for the same seed, we keep the same sequence:"
   ]
  },
  {
   "cell_type": "code",
   "metadata": {
    "ExecuteTime": {
     "end_time": "2025-06-18T04:57:30.891856Z",
     "start_time": "2025-06-18T04:57:30.885765Z"
    }
   },
   "source": [
    "random.seed(1)\n",
    "\n",
    "for _ in range(5):\n",
    "    print(random.random())"
   ],
   "outputs": [
    {
     "name": "stdout",
     "output_type": "stream",
     "text": [
      "0.13436424411240122\n",
      "0.8474337369372327\n",
      "0.763774618976614\n",
      "0.2550690257394217\n",
      "0.49543508709194095\n"
     ]
    }
   ],
   "execution_count": 6
  },
  {
   "cell_type": "markdown",
   "metadata": {},
   "source": [
    "If we do not set a `seed` the way we did, or just use `seed()` or `seed(None)`, then Python will use the current (epoch) time as a seed when `random()` is called for the first time in your program."
   ]
  },
  {
   "cell_type": "markdown",
   "metadata": {},
   "source": [
    "This means that every time your program runs, as long as you do not set a seed, the seed will be different, and hence your program will never generate the same sequence."
   ]
  },
  {
   "cell_type": "markdown",
   "metadata": {},
   "source": [
    "Setting the seed to a fixed value can be useful for testing and debugging - but once you are done with that, you should either set the seed yourself to a non-constant value, or simply let Python use an epoch time."
   ]
  },
  {
   "cell_type": "markdown",
   "metadata": {},
   "source": [
    "In this module, I am going to set the seed, so that you and I will see the same random numbers and behavior."
   ]
  },
  {
   "cell_type": "markdown",
   "metadata": {},
   "source": [
    "Let's look at another (uniform) random number generator, for floats in some interval `[a, b]`:"
   ]
  },
  {
   "cell_type": "code",
   "metadata": {
    "ExecuteTime": {
     "end_time": "2025-06-18T04:57:30.965867Z",
     "start_time": "2025-06-18T04:57:30.960848Z"
    }
   },
   "source": [
    "random.seed(0)\n",
    "\n",
    "for _ in range(5):\n",
    "    print(random.randrange(1, 6))"
   ],
   "outputs": [
    {
     "name": "stdout",
     "output_type": "stream",
     "text": [
      "4\n",
      "4\n",
      "1\n",
      "3\n",
      "5\n"
     ]
    }
   ],
   "execution_count": 7
  },
  {
   "cell_type": "markdown",
   "metadata": {},
   "source": [
    "Becuase I reset the seed to some fixed number `0`, I can reproduce the same sequence over and over again:"
   ]
  },
  {
   "cell_type": "code",
   "metadata": {
    "ExecuteTime": {
     "end_time": "2025-06-18T04:57:31.042077Z",
     "start_time": "2025-06-18T04:57:31.036657Z"
    }
   },
   "source": [
    "random.seed(0)\n",
    "\n",
    "for _ in range(5):\n",
    "    print(random.randrange(1, 6))"
   ],
   "outputs": [
    {
     "name": "stdout",
     "output_type": "stream",
     "text": [
      "4\n",
      "4\n",
      "1\n",
      "3\n",
      "5\n"
     ]
    }
   ],
   "execution_count": 8
  },
  {
   "cell_type": "markdown",
   "metadata": {},
   "source": [
    "We also have a function to generate random integers in some interval `[a, b]`:"
   ]
  },
  {
   "cell_type": "code",
   "metadata": {
    "ExecuteTime": {
     "end_time": "2025-06-18T04:57:31.119430Z",
     "start_time": "2025-06-18T04:57:31.112808Z"
    }
   },
   "source": [
    "random.seed(0)\n",
    "\n",
    "for _ in range(5):\n",
    "    print(random.randint(1, 6))"
   ],
   "outputs": [
    {
     "name": "stdout",
     "output_type": "stream",
     "text": [
      "4\n",
      "4\n",
      "1\n",
      "3\n",
      "5\n"
     ]
    }
   ],
   "execution_count": 9
  },
  {
   "cell_type": "markdown",
   "metadata": {},
   "source": [
    "But remember how I said that all these random number generators use the base `random()` generator?"
   ]
  },
  {
   "cell_type": "markdown",
   "metadata": {},
   "source": [
    "What this means is that I can set the seed once (before I start using any functions in `random`), and **all** the operations thereafter will be repeatable - even if the operations are mixed up:"
   ]
  },
  {
   "cell_type": "code",
   "metadata": {
    "ExecuteTime": {
     "end_time": "2025-06-18T04:57:31.193997Z",
     "start_time": "2025-06-18T04:57:31.185433Z"
    }
   },
   "source": [
    "random.seed(0)\n",
    "\n",
    "for _ in range(3):\n",
    "    print(random.randint(1, 6))\n",
    "    print(random.randrange(1, 6))\n",
    "    \n",
    "for _ in range(3):\n",
    "    print(random.randint(1, 3))\n",
    "    \n",
    "for _ in range(3):\n",
    "    print(random.random())"
   ],
   "outputs": [
    {
     "name": "stdout",
     "output_type": "stream",
     "text": [
      "4\n",
      "4\n",
      "1\n",
      "3\n",
      "5\n",
      "4\n",
      "2\n",
      "2\n",
      "2\n",
      "0.3580493746949883\n",
      "0.8916606598206824\n",
      "0.2184427269152317\n"
     ]
    }
   ],
   "execution_count": 10
  },
  {
   "cell_type": "markdown",
   "metadata": {},
   "source": [
    "And if we reset the seed and start again:"
   ]
  },
  {
   "cell_type": "code",
   "metadata": {
    "ExecuteTime": {
     "end_time": "2025-06-18T04:57:31.256322Z",
     "start_time": "2025-06-18T04:57:31.250369Z"
    }
   },
   "source": [
    "random.seed(0)\n",
    "\n",
    "for _ in range(3):\n",
    "    print(random.randint(1, 6))\n",
    "    print(random.randrange(1, 6))\n",
    "    \n",
    "for _ in range(3):\n",
    "    print(random.randint(1, 3))\n",
    "    \n",
    "for _ in range(3):\n",
    "    print(random.random())"
   ],
   "outputs": [
    {
     "name": "stdout",
     "output_type": "stream",
     "text": [
      "4\n",
      "4\n",
      "1\n",
      "3\n",
      "5\n",
      "4\n",
      "2\n",
      "2\n",
      "2\n",
      "0.3580493746949883\n",
      "0.8916606598206824\n",
      "0.2184427269152317\n"
     ]
    }
   ],
   "execution_count": 11
  },
  {
   "cell_type": "markdown",
   "metadata": {},
   "source": [
    "we get the exact same result."
   ]
  },
  {
   "cell_type": "markdown",
   "metadata": {},
   "source": [
    "So you only need to set the seed once for repeatable results in your own code."
   ]
  },
  {
   "cell_type": "markdown",
   "metadata": {},
   "source": [
    "In these notebooks I am going to be resetting the seed multiple times - this is only because you and I may both be trying things out, and generating random numbers - which means our operations may get \"out of sync\", and by the time I generate a random number, we may no longer see the same result. This in no way is saying that you constantly need to reset your seed in a real program when testing or debugging."
   ]
  },
  {
   "cell_type": "markdown",
   "metadata": {},
   "source": [
    "Although we have not seen them yet, the same holds for operations that perform sampling on sequences, or shuffle sequences. Again, as long as you start with the same seed, all those results will be repeatable."
   ]
  },
  {
   "cell_type": "markdown",
   "metadata": {},
   "source": [
    "So far, all the random number sequences have been uniformly distributed."
   ]
  },
  {
   "cell_type": "markdown",
   "metadata": {},
   "source": [
    "Let's play around with this a bit so we can visualize what that means - and at the same time start writing so more complex Python code."
   ]
  },
  {
   "cell_type": "markdown",
   "metadata": {},
   "source": [
    "Our end goal is to display a frequency chart for a sequence of random integers."
   ]
  },
  {
   "cell_type": "markdown",
   "metadata": {},
   "source": [
    "We have not covered charting yet, so we're going to hack a poor man's version, that woud look like this, given a list of values, and their relative frequencies as percentages:"
   ]
  },
  {
   "cell_type": "code",
   "metadata": {
    "ExecuteTime": {
     "end_time": "2025-06-18T04:57:31.325208Z",
     "start_time": "2025-06-18T04:57:31.320137Z"
    }
   },
   "source": [
    "data_1 = [\n",
    "    (1, 12.3),\n",
    "    (2, 30.7),\n",
    "    (3, 20.5),\n",
    "    (4, 36.5)\n",
    "]"
   ],
   "outputs": [],
   "execution_count": 12
  },
  {
   "cell_type": "markdown",
   "metadata": {},
   "source": [
    "i.e., the value `1` occurred `12.3%` of the time, `2` occurred `30.7%` of the time, etc."
   ]
  },
  {
   "cell_type": "markdown",
   "metadata": {},
   "source": [
    "Think of it as a sequence of key/value pairs - just as a list of tuples, not a dict (you'll see why I want to avoid a dictionary for this later)."
   ]
  },
  {
   "cell_type": "markdown",
   "metadata": {},
   "source": [
    "We'll generate a chart that looks something like this:"
   ]
  },
  {
   "cell_type": "markdown",
   "metadata": {},
   "source": [
    "```\n",
    "     1| ************\n",
    "     2| *******************************\n",
    "     3| *********************\n",
    "     4| ****************************************\n",
    "```"
   ]
  },
  {
   "cell_type": "markdown",
   "metadata": {},
   "source": [
    "We can do that by rounding the relative frequency percentage, and print out as many `*` characters as that rounded value is."
   ]
  },
  {
   "cell_type": "markdown",
   "metadata": {},
   "source": [
    "The \"key\" values don't have to be numbers, they could also be strings, or anything else for that matter:"
   ]
  },
  {
   "cell_type": "code",
   "metadata": {
    "ExecuteTime": {
     "end_time": "2025-06-18T04:57:31.371262Z",
     "start_time": "2025-06-18T04:57:31.367108Z"
    }
   },
   "source": [
    "data_2 = [\n",
    "    ('a', 12.3),\n",
    "    ('b', 30.7),\n",
    "    ('c', 20.5),\n",
    "    ('d', 36.5)\n",
    "]"
   ],
   "outputs": [],
   "execution_count": 13
  },
  {
   "cell_type": "markdown",
   "metadata": {},
   "source": [
    "So with that assumption let's try to chart the data:"
   ]
  },
  {
   "cell_type": "code",
   "metadata": {
    "ExecuteTime": {
     "end_time": "2025-06-18T04:57:31.426063Z",
     "start_time": "2025-06-18T04:57:31.421024Z"
    }
   },
   "source": [
    "for k, v in data_2:\n",
    "    print(f\"{k}| {'*' * round(v)}\")"
   ],
   "outputs": [
    {
     "name": "stdout",
     "output_type": "stream",
     "text": [
      "a| ************\n",
      "b| *******************************\n",
      "c| ********************\n",
      "d| ************************************\n"
     ]
    }
   ],
   "execution_count": 14
  },
  {
   "cell_type": "markdown",
   "metadata": {},
   "source": [
    "That seems like it's going to work - but it's going to look ugly for data like this:"
   ]
  },
  {
   "cell_type": "code",
   "metadata": {
    "ExecuteTime": {
     "end_time": "2025-06-18T04:57:31.532042Z",
     "start_time": "2025-06-18T04:57:31.525509Z"
    }
   },
   "source": [
    "data_3 = [\n",
    "    ('abc', 12.3),\n",
    "    ('d', 30.7),\n",
    "    ('ef', 20.5),\n",
    "    ('ghij', 36.5)\n",
    "]\n",
    "\n",
    "for k, v in data_3:\n",
    "    print(f\"{k}| {'*' * round(v)}\")"
   ],
   "outputs": [
    {
     "name": "stdout",
     "output_type": "stream",
     "text": [
      "abc| ************\n",
      "d| *******************************\n",
      "ef| ********************\n",
      "ghij| ************************************\n"
     ]
    }
   ],
   "execution_count": 15
  },
  {
   "cell_type": "markdown",
   "metadata": {},
   "source": [
    "What we need to do is somehow pad the strings `abc|`, `d|` with some spaces to the left, so they are all of equal length."
   ]
  },
  {
   "cell_type": "markdown",
   "metadata": {},
   "source": [
    "We can easily left-pad a string, called right-justified, using the `rjust` method of strings:"
   ]
  },
  {
   "cell_type": "code",
   "metadata": {
    "ExecuteTime": {
     "end_time": "2025-06-18T04:57:31.608114Z",
     "start_time": "2025-06-18T04:57:31.598339Z"
    }
   },
   "source": [
    "s = 'abc'\n",
    "\n",
    "s.rjust(10)"
   ],
   "outputs": [
    {
     "data": {
      "text/plain": [
       "'       abc'"
      ]
     },
     "execution_count": 16,
     "metadata": {},
     "output_type": "execute_result"
    }
   ],
   "execution_count": 16
  },
  {
   "cell_type": "markdown",
   "metadata": {},
   "source": [
    "(We can actually specify a different padding character than the default space):"
   ]
  },
  {
   "cell_type": "code",
   "metadata": {
    "ExecuteTime": {
     "end_time": "2025-06-18T04:57:31.675696Z",
     "start_time": "2025-06-18T04:57:31.670170Z"
    }
   },
   "source": [
    "s.rjust(10, '-')"
   ],
   "outputs": [
    {
     "data": {
      "text/plain": [
       "'-------abc'"
      ]
     },
     "execution_count": 17,
     "metadata": {},
     "output_type": "execute_result"
    }
   ],
   "execution_count": 17
  },
  {
   "cell_type": "markdown",
   "metadata": {},
   "source": [
    "But for us, spaces will work just fine."
   ]
  },
  {
   "cell_type": "markdown",
   "metadata": {},
   "source": [
    "But the question is, what should he padding amount be?"
   ]
  },
  {
   "cell_type": "markdown",
   "metadata": {},
   "source": [
    "We don't want to have insufficient padding:"
   ]
  },
  {
   "cell_type": "code",
   "metadata": {
    "ExecuteTime": {
     "end_time": "2025-06-18T04:57:31.762473Z",
     "start_time": "2025-06-18T04:57:31.755825Z"
    }
   },
   "source": [
    "for k, v in data_3:\n",
    "    print(f\"{k.rjust(3)}| {'*' * round(v)}\")"
   ],
   "outputs": [
    {
     "name": "stdout",
     "output_type": "stream",
     "text": [
      "abc| ************\n",
      "  d| *******************************\n",
      " ef| ********************\n",
      "ghij| ************************************\n"
     ]
    }
   ],
   "execution_count": 18
  },
  {
   "cell_type": "markdown",
   "metadata": {},
   "source": [
    "Or too much:"
   ]
  },
  {
   "cell_type": "code",
   "metadata": {
    "ExecuteTime": {
     "end_time": "2025-06-18T04:57:31.910866Z",
     "start_time": "2025-06-18T04:57:31.903583Z"
    }
   },
   "source": [
    "for k, v in data_3:\n",
    "    print(f\"{k.rjust(15)}| {'*' * round(v)}\")"
   ],
   "outputs": [
    {
     "name": "stdout",
     "output_type": "stream",
     "text": [
      "            abc| ************\n",
      "              d| *******************************\n",
      "             ef| ********************\n",
      "           ghij| ************************************\n"
     ]
    }
   ],
   "execution_count": 19
  },
  {
   "cell_type": "markdown",
   "metadata": {},
   "source": [
    "What we really want is to pad with the largest key length (as a string, if the \"key\" is an integer we'll have to convert it to a string first - we're interested in the text (display) length of the key)."
   ]
  },
  {
   "cell_type": "markdown",
   "metadata": {},
   "source": [
    "We can easily do this by extracting all the \"keys\", making sure they are all strings (just the way they get printed in our output), using the `max` function to find the longest item, and use that length as padding:"
   ]
  },
  {
   "cell_type": "code",
   "metadata": {
    "ExecuteTime": {
     "end_time": "2025-06-18T04:57:32.046498Z",
     "start_time": "2025-06-18T04:57:32.039646Z"
    }
   },
   "source": [
    "keys = [str(el[0]) for el in data_3]"
   ],
   "outputs": [],
   "execution_count": 20
  },
  {
   "cell_type": "code",
   "metadata": {
    "ExecuteTime": {
     "end_time": "2025-06-18T04:57:32.115607Z",
     "start_time": "2025-06-18T04:57:32.107778Z"
    }
   },
   "source": [
    "keys"
   ],
   "outputs": [
    {
     "data": {
      "text/plain": [
       "['abc', 'd', 'ef', 'ghij']"
      ]
     },
     "execution_count": 21,
     "metadata": {},
     "output_type": "execute_result"
    }
   ],
   "execution_count": 21
  },
  {
   "cell_type": "code",
   "metadata": {
    "ExecuteTime": {
     "end_time": "2025-06-18T04:57:32.189466Z",
     "start_time": "2025-06-18T04:57:32.182362Z"
    }
   },
   "source": [
    "key_lengths = [len(str(el[0])) for el in data_3]\n",
    "key_lengths"
   ],
   "outputs": [
    {
     "data": {
      "text/plain": [
       "[3, 1, 2, 4]"
      ]
     },
     "execution_count": 22,
     "metadata": {},
     "output_type": "execute_result"
    }
   ],
   "execution_count": 22
  },
  {
   "cell_type": "code",
   "metadata": {
    "ExecuteTime": {
     "end_time": "2025-06-18T04:57:32.270293Z",
     "start_time": "2025-06-18T04:57:32.264122Z"
    }
   },
   "source": [
    "pad = max(key_lengths)\n",
    "pad"
   ],
   "outputs": [
    {
     "data": {
      "text/plain": [
       "4"
      ]
     },
     "execution_count": 23,
     "metadata": {},
     "output_type": "execute_result"
    }
   ],
   "execution_count": 23
  },
  {
   "cell_type": "code",
   "metadata": {
    "ExecuteTime": {
     "end_time": "2025-06-18T04:57:32.345975Z",
     "start_time": "2025-06-18T04:57:32.340456Z"
    }
   },
   "source": [
    "for k, v in data_3:\n",
    "    print(f\"{k.rjust(pad)}| {'*' * round(v)}\")"
   ],
   "outputs": [
    {
     "name": "stdout",
     "output_type": "stream",
     "text": [
      " abc| ************\n",
      "   d| *******************************\n",
      "  ef| ********************\n",
      "ghij| ************************************\n"
     ]
    }
   ],
   "execution_count": 24
  },
  {
   "cell_type": "markdown",
   "metadata": {},
   "source": [
    "OK, so let's bundle all this up in a function:"
   ]
  },
  {
   "cell_type": "code",
   "metadata": {
    "ExecuteTime": {
     "end_time": "2025-06-18T04:57:32.420464Z",
     "start_time": "2025-06-18T04:57:32.413936Z"
    }
   },
   "source": [
    "def chart_freq(data):\n",
    "    pad = max([len(str(el[0])) for el in data])\n",
    "    for k, v in data:\n",
    "        print(f\"{str(k).rjust(pad)}| {'*' * round(v)}\")"
   ],
   "outputs": [],
   "execution_count": 25
  },
  {
   "cell_type": "code",
   "metadata": {
    "ExecuteTime": {
     "end_time": "2025-06-18T04:57:32.458449Z",
     "start_time": "2025-06-18T04:57:32.451864Z"
    }
   },
   "source": [
    "chart_freq(data_1)"
   ],
   "outputs": [
    {
     "name": "stdout",
     "output_type": "stream",
     "text": [
      "1| ************\n",
      "2| *******************************\n",
      "3| ********************\n",
      "4| ************************************\n"
     ]
    }
   ],
   "execution_count": 26
  },
  {
   "cell_type": "code",
   "metadata": {
    "ExecuteTime": {
     "end_time": "2025-06-18T04:57:32.538403Z",
     "start_time": "2025-06-18T04:57:32.531281Z"
    }
   },
   "source": [
    "chart_freq(data_2)"
   ],
   "outputs": [
    {
     "name": "stdout",
     "output_type": "stream",
     "text": [
      "a| ************\n",
      "b| *******************************\n",
      "c| ********************\n",
      "d| ************************************\n"
     ]
    }
   ],
   "execution_count": 27
  },
  {
   "cell_type": "code",
   "metadata": {
    "ExecuteTime": {
     "end_time": "2025-06-18T04:57:32.629860Z",
     "start_time": "2025-06-18T04:57:32.624709Z"
    }
   },
   "source": [
    "chart_freq(data_3)"
   ],
   "outputs": [
    {
     "name": "stdout",
     "output_type": "stream",
     "text": [
      " abc| ************\n",
      "   d| *******************************\n",
      "  ef| ********************\n",
      "ghij| ************************************\n"
     ]
    }
   ],
   "execution_count": 28
  },
  {
   "cell_type": "markdown",
   "metadata": {},
   "source": [
    "Ok, now that we have that, we are going to go back to our original goal - generate a sequence of random integers, and look at the distribution:"
   ]
  },
  {
   "cell_type": "code",
   "metadata": {
    "ExecuteTime": {
     "end_time": "2025-06-18T04:57:32.714216Z",
     "start_time": "2025-06-18T04:57:32.708166Z"
    }
   },
   "source": [
    "random.seed(0)\n",
    "\n",
    "data = [random.randint(1, 10) for _ in range(5)]"
   ],
   "outputs": [],
   "execution_count": 29
  },
  {
   "cell_type": "code",
   "metadata": {
    "ExecuteTime": {
     "end_time": "2025-06-18T04:57:32.810214Z",
     "start_time": "2025-06-18T04:57:32.802153Z"
    }
   },
   "source": [
    "data"
   ],
   "outputs": [
    {
     "data": {
      "text/plain": [
       "[7, 7, 1, 5, 9]"
      ]
     },
     "execution_count": 30,
     "metadata": {},
     "output_type": "execute_result"
    }
   ],
   "execution_count": 30
  },
  {
   "cell_type": "markdown",
   "metadata": {},
   "source": [
    "We now need to create a dictionary that will hold the values in data as a key in a dict, and the number of times it occurs in the `data` sequence, so for the example above, we want to generate this:"
   ]
  },
  {
   "cell_type": "code",
   "metadata": {
    "ExecuteTime": {
     "end_time": "2025-06-18T04:57:32.928211Z",
     "start_time": "2025-06-18T04:57:32.918958Z"
    }
   },
   "source": [
    "freq = {\n",
    "    1: 1,\n",
    "    5: 1,\n",
    "    7: 2,\n",
    "    9: 1\n",
    "}"
   ],
   "outputs": [],
   "execution_count": 31
  },
  {
   "cell_type": "markdown",
   "metadata": {},
   "source": [
    "A simple way to do this is to build up a dictionary as we iterate through the elements of `data`:\n",
    "- if the element is **not** in the dictionary, add it with a count of 1\n",
    "- if the element **is** in the dictionary, add 1 to the count (the associated value) in the dict"
   ]
  },
  {
   "cell_type": "code",
   "metadata": {
    "ExecuteTime": {
     "end_time": "2025-06-18T04:57:33.056788Z",
     "start_time": "2025-06-18T04:57:33.051051Z"
    }
   },
   "source": [
    "freq = {}\n",
    "for el in data:\n",
    "    freq[el] = freq.get(el, 0) + 1\n",
    "    \n",
    "print(freq)"
   ],
   "outputs": [
    {
     "name": "stdout",
     "output_type": "stream",
     "text": [
      "{7: 2, 1: 1, 5: 1, 9: 1}\n"
     ]
    }
   ],
   "execution_count": 32
  },
  {
   "cell_type": "markdown",
   "metadata": {},
   "source": [
    "Let's package this up into a function, whose argument will just be an iterable (but finite!):"
   ]
  },
  {
   "cell_type": "code",
   "metadata": {
    "ExecuteTime": {
     "end_time": "2025-06-18T04:57:33.129640Z",
     "start_time": "2025-06-18T04:57:33.124976Z"
    }
   },
   "source": [
    "def freq_distribution(data):\n",
    "    freq = {}\n",
    "    for el in data:\n",
    "        freq[el] = freq.get(el, 0) + 1\n",
    "    return freq"
   ],
   "outputs": [],
   "execution_count": 33
  },
  {
   "cell_type": "code",
   "metadata": {
    "ExecuteTime": {
     "end_time": "2025-06-18T04:57:33.201421Z",
     "start_time": "2025-06-18T04:57:33.196147Z"
    }
   },
   "source": [
    "freq = freq_distribution(data)\n",
    "print(freq)"
   ],
   "outputs": [
    {
     "name": "stdout",
     "output_type": "stream",
     "text": [
      "{7: 2, 1: 1, 5: 1, 9: 1}\n"
     ]
    }
   ],
   "execution_count": 34
  },
  {
   "cell_type": "markdown",
   "metadata": {},
   "source": [
    "The next thing we want is to calculate relative frequencies (as percentages)."
   ]
  },
  {
   "cell_type": "markdown",
   "metadata": {},
   "source": [
    "To calculate the relative frequency we simply divide each frequency by the sum of the frequencies:"
   ]
  },
  {
   "cell_type": "code",
   "metadata": {
    "ExecuteTime": {
     "end_time": "2025-06-18T04:57:33.314960Z",
     "start_time": "2025-06-18T04:57:33.310426Z"
    }
   },
   "source": [
    "sum_freq = sum(freq.values())\n",
    "print(sum_freq)"
   ],
   "outputs": [
    {
     "name": "stdout",
     "output_type": "stream",
     "text": [
      "5\n"
     ]
    }
   ],
   "execution_count": 35
  },
  {
   "cell_type": "markdown",
   "metadata": {},
   "source": [
    "and the relative frequencies can be calculate as follows (creating a new dictionary, not mutating the existing one)."
   ]
  },
  {
   "cell_type": "markdown",
   "metadata": {},
   "source": [
    "One approach is to make a copy of the dictionary, and mutate it:"
   ]
  },
  {
   "cell_type": "code",
   "metadata": {
    "ExecuteTime": {
     "end_time": "2025-06-18T04:57:33.405722Z",
     "start_time": "2025-06-18T04:57:33.400150Z"
    }
   },
   "source": [
    "relative_freq = freq.copy()"
   ],
   "outputs": [],
   "execution_count": 36
  },
  {
   "cell_type": "markdown",
   "metadata": {},
   "source": [
    "and then just update each value:"
   ]
  },
  {
   "cell_type": "code",
   "metadata": {
    "ExecuteTime": {
     "end_time": "2025-06-18T04:57:33.463605Z",
     "start_time": "2025-06-18T04:57:33.457896Z"
    }
   },
   "source": [
    "for k in relative_freq:\n",
    "    relative_freq[k] = relative_freq[k] / sum_freq * 100\n",
    "    \n",
    "print(relative_freq)"
   ],
   "outputs": [
    {
     "name": "stdout",
     "output_type": "stream",
     "text": [
      "{7: 40.0, 1: 20.0, 5: 20.0, 9: 20.0}\n"
     ]
    }
   ],
   "execution_count": 37
  },
  {
   "cell_type": "markdown",
   "metadata": {},
   "source": [
    "Another way, probably more Pythonic is to use a dictionary comprehension to create the new dictionary:"
   ]
  },
  {
   "cell_type": "code",
   "metadata": {
    "ExecuteTime": {
     "end_time": "2025-06-18T04:57:33.559546Z",
     "start_time": "2025-06-18T04:57:33.553488Z"
    }
   },
   "source": [
    "relative_freq = {\n",
    "    k: v / sum_freq * 100 for k, v in freq.items()\n",
    "}\n",
    "\n",
    "print(relative_freq)"
   ],
   "outputs": [
    {
     "name": "stdout",
     "output_type": "stream",
     "text": [
      "{7: 40.0, 1: 20.0, 5: 20.0, 9: 20.0}\n"
     ]
    }
   ],
   "execution_count": 38
  },
  {
   "cell_type": "markdown",
   "metadata": {},
   "source": [
    "Let's package this up as a function, that will receive a frequency distribution dict as an argument:"
   ]
  },
  {
   "cell_type": "code",
   "metadata": {
    "ExecuteTime": {
     "end_time": "2025-06-18T04:57:33.652265Z",
     "start_time": "2025-06-18T04:57:33.647095Z"
    }
   },
   "source": [
    "def relative_freq(freq_dist):\n",
    "    sum_freq = sum(freq_dist.values())\n",
    "    return {\n",
    "        k: v / sum_freq * 100 for k, v in freq_dist.items()\n",
    "    }"
   ],
   "outputs": [],
   "execution_count": 39
  },
  {
   "cell_type": "markdown",
   "metadata": {},
   "source": [
    "Now, we are almost ready to put all this together:"
   ]
  },
  {
   "cell_type": "code",
   "metadata": {
    "ExecuteTime": {
     "end_time": "2025-06-18T04:57:33.728074Z",
     "start_time": "2025-06-18T04:57:33.722441Z"
    }
   },
   "source": [
    "data"
   ],
   "outputs": [
    {
     "data": {
      "text/plain": [
       "[7, 7, 1, 5, 9]"
      ]
     },
     "execution_count": 40,
     "metadata": {},
     "output_type": "execute_result"
    }
   ],
   "execution_count": 40
  },
  {
   "cell_type": "code",
   "metadata": {
    "ExecuteTime": {
     "end_time": "2025-06-18T04:57:33.799644Z",
     "start_time": "2025-06-18T04:57:33.795091Z"
    }
   },
   "source": [
    "freq = freq_distribution(data)\n",
    "print(freq)"
   ],
   "outputs": [
    {
     "name": "stdout",
     "output_type": "stream",
     "text": [
      "{7: 2, 1: 1, 5: 1, 9: 1}\n"
     ]
    }
   ],
   "execution_count": 41
  },
  {
   "cell_type": "code",
   "metadata": {
    "ExecuteTime": {
     "end_time": "2025-06-18T04:57:33.882068Z",
     "start_time": "2025-06-18T04:57:33.875507Z"
    }
   },
   "source": [
    "rel = relative_freq(freq)\n",
    "print(rel)"
   ],
   "outputs": [
    {
     "name": "stdout",
     "output_type": "stream",
     "text": [
      "{7: 40.0, 1: 20.0, 5: 20.0, 9: 20.0}\n"
     ]
    }
   ],
   "execution_count": 42
  },
  {
   "cell_type": "markdown",
   "metadata": {},
   "source": [
    "So we can't chart that quite yet - our charting function requires a list of tuples (`key, value`)."
   ]
  },
  {
   "cell_type": "markdown",
   "metadata": {},
   "source": [
    "We could just use the `items()` property of the dictionary:"
   ]
  },
  {
   "cell_type": "code",
   "metadata": {
    "ExecuteTime": {
     "end_time": "2025-06-18T04:57:33.994060Z",
     "start_time": "2025-06-18T04:57:33.986020Z"
    }
   },
   "source": [
    "chart_freq(rel.items())"
   ],
   "outputs": [
    {
     "name": "stdout",
     "output_type": "stream",
     "text": [
      "7| ****************************************\n",
      "1| ********************\n",
      "5| ********************\n",
      "9| ********************\n"
     ]
    }
   ],
   "execution_count": 43
  },
  {
   "cell_type": "markdown",
   "metadata": {},
   "source": [
    "But notice how the keys are in the order they were first encountered in the original `data` - we want to sort that first."
   ]
  },
  {
   "cell_type": "code",
   "metadata": {
    "ExecuteTime": {
     "end_time": "2025-06-18T04:57:34.067465Z",
     "start_time": "2025-06-18T04:57:34.061928Z"
    }
   },
   "source": [
    "sorted_items = sorted(rel.items(), key=lambda x: x[0])"
   ],
   "outputs": [],
   "execution_count": 44
  },
  {
   "cell_type": "code",
   "metadata": {
    "ExecuteTime": {
     "end_time": "2025-06-18T04:57:34.103990Z",
     "start_time": "2025-06-18T04:57:34.097936Z"
    }
   },
   "source": [
    "sorted_items"
   ],
   "outputs": [
    {
     "data": {
      "text/plain": [
       "[(1, 20.0), (5, 20.0), (7, 40.0), (9, 20.0)]"
      ]
     },
     "execution_count": 45,
     "metadata": {},
     "output_type": "execute_result"
    }
   ],
   "execution_count": 45
  },
  {
   "cell_type": "markdown",
   "metadata": {},
   "source": [
    "Ok, so now we can use that data for charting:"
   ]
  },
  {
   "cell_type": "code",
   "metadata": {
    "ExecuteTime": {
     "end_time": "2025-06-18T04:57:34.264289Z",
     "start_time": "2025-06-18T04:57:34.258724Z"
    }
   },
   "source": [
    "chart_freq(sorted_items)"
   ],
   "outputs": [
    {
     "name": "stdout",
     "output_type": "stream",
     "text": [
      "1| ********************\n",
      "5| ********************\n",
      "7| ****************************************\n",
      "9| ********************\n"
     ]
    }
   ],
   "execution_count": 46
  },
  {
   "cell_type": "markdown",
   "metadata": {},
   "source": [
    "Finally, let's put together a function that will generate `n` random numbers in some range `[a, b]`, and chart it:"
   ]
  },
  {
   "cell_type": "code",
   "metadata": {
    "ExecuteTime": {
     "end_time": "2025-06-18T04:57:34.437916Z",
     "start_time": "2025-06-18T04:57:34.432268Z"
    }
   },
   "source": [
    "def analyze_randint(n, a, b):\n",
    "    data = [random.randint(a, b) for _ in range(n)]\n",
    "    \n",
    "    freq = freq_distribution(data)\n",
    "    rel = relative_freq(freq)\n",
    "    \n",
    "    sorted_items = sorted(rel.items(), key=lambda x: x[0])\n",
    "    chart_freq(sorted_items)"
   ],
   "outputs": [],
   "execution_count": 47
  },
  {
   "cell_type": "markdown",
   "metadata": {},
   "source": [
    "Before we run this, let's all get on the same page and reset our random generator:"
   ]
  },
  {
   "cell_type": "code",
   "metadata": {
    "ExecuteTime": {
     "end_time": "2025-06-18T04:57:34.531206Z",
     "start_time": "2025-06-18T04:57:34.526773Z"
    }
   },
   "source": [
    "random.seed(0)"
   ],
   "outputs": [],
   "execution_count": 48
  },
  {
   "cell_type": "code",
   "metadata": {
    "ExecuteTime": {
     "end_time": "2025-06-18T04:57:34.584014Z",
     "start_time": "2025-06-18T04:57:34.578099Z"
    }
   },
   "source": [
    "analyze_randint(10, 1, 10)"
   ],
   "outputs": [
    {
     "name": "stdout",
     "output_type": "stream",
     "text": [
      "1| **********\n",
      "5| ********************\n",
      "6| **********\n",
      "7| ******************************\n",
      "8| ********************\n",
      "9| **********\n"
     ]
    }
   ],
   "execution_count": 49
  },
  {
   "cell_type": "markdown",
   "metadata": {},
   "source": [
    "Now let's increase the total number of random numbers, and see if we get closer to a uniform distribution:"
   ]
  },
  {
   "cell_type": "code",
   "metadata": {
    "ExecuteTime": {
     "end_time": "2025-06-18T04:57:34.656639Z",
     "start_time": "2025-06-18T04:57:34.643805Z"
    }
   },
   "source": [
    "analyze_randint(10_000, 1, 10)"
   ],
   "outputs": [
    {
     "name": "stdout",
     "output_type": "stream",
     "text": [
      " 1| **********\n",
      " 2| **********\n",
      " 3| **********\n",
      " 4| **********\n",
      " 5| **********\n",
      " 6| **********\n",
      " 7| **********\n",
      " 8| **********\n",
      " 9| *********\n",
      "10| **********\n"
     ]
    }
   ],
   "execution_count": 50
  },
  {
   "cell_type": "markdown",
   "metadata": {},
   "source": [
    "Much closer to a unioform distribution."
   ]
  },
  {
   "cell_type": "markdown",
   "metadata": {},
   "source": [
    "We have other random number generators, which will approximate other distributions."
   ]
  },
  {
   "cell_type": "markdown",
   "metadata": {},
   "source": [
    "For example, there is one for normal distributions (actually two, but unless you are using multi-treaded applications, which we definitely won't in this course!!), use the `gauss` function - it performs better."
   ]
  },
  {
   "cell_type": "code",
   "metadata": {
    "ExecuteTime": {
     "end_time": "2025-06-18T04:57:34.718015Z",
     "start_time": "2025-06-18T04:57:34.709851Z"
    }
   },
   "source": [
    "random.gauss(0, 1)"
   ],
   "outputs": [
    {
     "data": {
      "text/plain": [
       "-0.20353569440052416"
      ]
     },
     "execution_count": 51,
     "metadata": {},
     "output_type": "execute_result"
    }
   ],
   "execution_count": 51
  },
  {
   "cell_type": "markdown",
   "metadata": {},
   "source": [
    "If we calculate frequencies for a sequence of numbers generated this way, we should get a normal distribution centered at `0` with a standard deviation of `1`."
   ]
  },
  {
   "cell_type": "markdown",
   "metadata": {},
   "source": [
    "Technically, to see this, we should bucket the data (create small intervals of floats and count how may numbers fall in that interval)."
   ]
  },
  {
   "cell_type": "markdown",
   "metadata": {},
   "source": [
    "I'm going to hack this - we'll generate the normally distributed random numbers, and multiply each one by `10` - and then we can use the rounded number - and count how many of these rounded numbers are found - eseentially we are creating buckets like `[-4.5, 3.5)` for the bucket `4`, etc. "
   ]
  },
  {
   "cell_type": "code",
   "metadata": {
    "ExecuteTime": {
     "end_time": "2025-06-18T04:57:34.794618Z",
     "start_time": "2025-06-18T04:57:34.789508Z"
    }
   },
   "source": [
    "data = [round(10 * random.gauss(0, 1)) for _ in range(10)]\n",
    "print(data)"
   ],
   "outputs": [
    {
     "name": "stdout",
     "output_type": "stream",
     "text": [
      "[-9, -9, 4, 12, 5, -19, 26, -6, 9, 16]\n"
     ]
    }
   ],
   "execution_count": 52
  },
  {
   "cell_type": "markdown",
   "metadata": {},
   "source": [
    "So let's write a function to do this:"
   ]
  },
  {
   "cell_type": "code",
   "metadata": {
    "ExecuteTime": {
     "end_time": "2025-06-18T04:57:35.028288Z",
     "start_time": "2025-06-18T04:57:35.020973Z"
    }
   },
   "source": [
    "def analyze_normal(n, mu, sigma):\n",
    "    data = [round(10 * random.gauss(mu, sigma)) for _ in range(n)]\n",
    "    \n",
    "    freq = freq_distribution(data)\n",
    "    rel = relative_freq(freq)\n",
    "    \n",
    "    sorted_items = sorted(rel.items(), key=lambda x: x[0])\n",
    "    chart_freq(sorted_items)"
   ],
   "outputs": [],
   "execution_count": 53
  },
  {
   "cell_type": "code",
   "metadata": {
    "ExecuteTime": {
     "end_time": "2025-06-18T04:57:35.191045Z",
     "start_time": "2025-06-18T04:57:35.101009Z"
    }
   },
   "source": [
    "random.seed(0)\n",
    "\n",
    "analyze_normal(100_000, 0, 1)"
   ],
   "outputs": [
    {
     "name": "stdout",
     "output_type": "stream",
     "text": [
      "-42| \n",
      "-41| \n",
      "-38| \n",
      "-37| \n",
      "-36| \n",
      "-35| \n",
      "-34| \n",
      "-33| \n",
      "-32| \n",
      "-31| \n",
      "-30| \n",
      "-29| \n",
      "-28| \n",
      "-27| \n",
      "-26| \n",
      "-25| \n",
      "-24| \n",
      "-23| \n",
      "-22| \n",
      "-21| \n",
      "-20| \n",
      "-19| *\n",
      "-18| *\n",
      "-17| *\n",
      "-16| *\n",
      "-15| *\n",
      "-14| **\n",
      "-13| **\n",
      "-12| **\n",
      "-11| **\n",
      "-10| **\n",
      " -9| ***\n",
      " -8| ***\n",
      " -7| ***\n",
      " -6| ***\n",
      " -5| ***\n",
      " -4| ****\n",
      " -3| ****\n",
      " -2| ****\n",
      " -1| ****\n",
      "  0| ****\n",
      "  1| ****\n",
      "  2| ****\n",
      "  3| ****\n",
      "  4| ****\n",
      "  5| ****\n",
      "  6| ***\n",
      "  7| ***\n",
      "  8| ***\n",
      "  9| ***\n",
      " 10| **\n",
      " 11| **\n",
      " 12| **\n",
      " 13| **\n",
      " 14| *\n",
      " 15| *\n",
      " 16| *\n",
      " 17| *\n",
      " 18| *\n",
      " 19| *\n",
      " 20| *\n",
      " 21| \n",
      " 22| \n",
      " 23| \n",
      " 24| \n",
      " 25| \n",
      " 26| \n",
      " 27| \n",
      " 28| \n",
      " 29| \n",
      " 30| \n",
      " 31| \n",
      " 32| \n",
      " 33| \n",
      " 34| \n",
      " 35| \n",
      " 36| \n",
      " 37| \n",
      " 38| \n",
      " 39| \n",
      " 40| \n"
     ]
    }
   ],
   "execution_count": 54
  },
  {
   "cell_type": "markdown",
   "metadata": {},
   "source": [
    "We could clean this up a bit by removing entries that will result in zero stars:"
   ]
  },
  {
   "cell_type": "code",
   "metadata": {
    "ExecuteTime": {
     "end_time": "2025-06-18T04:57:35.227193Z",
     "start_time": "2025-06-18T04:57:35.221684Z"
    }
   },
   "source": [
    "def analyze_normal(n, mu, sigma):\n",
    "    data = [round(10 * random.gauss(mu, sigma)) for _ in range(n)]\n",
    "    \n",
    "    freq = freq_distribution(data)\n",
    "    rel = relative_freq(freq)\n",
    "    \n",
    "    filtered_items = {\n",
    "        k: v\n",
    "        for k, v in rel.items()\n",
    "        if round(v) > 0\n",
    "    }\n",
    "    sorted_items = sorted(filtered_items.items(), key=lambda x: x[0])\n",
    "    chart_freq(sorted_items)"
   ],
   "outputs": [],
   "execution_count": 55
  },
  {
   "cell_type": "code",
   "metadata": {
    "ExecuteTime": {
     "end_time": "2025-06-18T04:57:35.348299Z",
     "start_time": "2025-06-18T04:57:35.259022Z"
    }
   },
   "source": [
    "random.seed(0)\n",
    "\n",
    "analyze_normal(100_000, 0, 1)"
   ],
   "outputs": [
    {
     "name": "stdout",
     "output_type": "stream",
     "text": [
      "-19| *\n",
      "-18| *\n",
      "-17| *\n",
      "-16| *\n",
      "-15| *\n",
      "-14| **\n",
      "-13| **\n",
      "-12| **\n",
      "-11| **\n",
      "-10| **\n",
      " -9| ***\n",
      " -8| ***\n",
      " -7| ***\n",
      " -6| ***\n",
      " -5| ***\n",
      " -4| ****\n",
      " -3| ****\n",
      " -2| ****\n",
      " -1| ****\n",
      "  0| ****\n",
      "  1| ****\n",
      "  2| ****\n",
      "  3| ****\n",
      "  4| ****\n",
      "  5| ****\n",
      "  6| ***\n",
      "  7| ***\n",
      "  8| ***\n",
      "  9| ***\n",
      " 10| **\n",
      " 11| **\n",
      " 12| **\n",
      " 13| **\n",
      " 14| *\n",
      " 15| *\n",
      " 16| *\n",
      " 17| *\n",
      " 18| *\n",
      " 19| *\n",
      " 20| *\n"
     ]
    }
   ],
   "execution_count": 56
  }
 ],
 "metadata": {
  "kernelspec": {
   "display_name": "Python 3",
   "language": "python",
   "name": "python3"
  },
  "language_info": {
   "codemirror_mode": {
    "name": "ipython",
    "version": 3
   },
   "file_extension": ".py",
   "mimetype": "text/x-python",
   "name": "python",
   "nbconvert_exporter": "python",
   "pygments_lexer": "ipython3",
   "version": "3.9.1"
  }
 },
 "nbformat": 4,
 "nbformat_minor": 4
}
