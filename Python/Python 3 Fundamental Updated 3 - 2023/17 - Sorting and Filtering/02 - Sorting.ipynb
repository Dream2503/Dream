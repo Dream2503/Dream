{
 "cells": [
  {
   "cell_type": "markdown",
   "metadata": {},
   "source": [
    "### Sorting"
   ]
  },
  {
   "cell_type": "markdown",
   "metadata": {},
   "source": [
    "We have already seen how numbers and strings can be sorted using `sorted()`."
   ]
  },
  {
   "cell_type": "markdown",
   "metadata": {},
   "source": [
    "When we call `sorted` this way:"
   ]
  },
  {
   "cell_type": "code",
   "metadata": {
    "ExecuteTime": {
     "end_time": "2025-06-18T04:40:17.550396Z",
     "start_time": "2025-06-18T04:40:17.539382Z"
    }
   },
   "source": [
    "sorted([10,8,5,1,3,7])"
   ],
   "outputs": [
    {
     "data": {
      "text/plain": [
       "[1, 3, 5, 7, 8, 10]"
      ]
     },
     "execution_count": 1,
     "metadata": {},
     "output_type": "execute_result"
    }
   ],
   "execution_count": 1
  },
  {
   "cell_type": "markdown",
   "metadata": {},
   "source": [
    "Python uses the default (natural) sort ordering for numbers. "
   ]
  },
  {
   "cell_type": "markdown",
   "metadata": {},
   "source": [
    "We saw that when we sort strings, Python uses the unicode code points of the characters to sort strings."
   ]
  },
  {
   "cell_type": "markdown",
   "metadata": {},
   "source": [
    "As we saw in the lecture, we always sort **by something**."
   ]
  },
  {
   "cell_type": "markdown",
   "metadata": {},
   "source": [
    "For numbers, we may sort by their natural sort order."
   ]
  },
  {
   "cell_type": "markdown",
   "metadata": {},
   "source": [
    "But we may want to sort by other things too, maybe by the absolute value of the number, or sort a list of objects by one the properties on the object, etc."
   ]
  },
  {
   "cell_type": "markdown",
   "metadata": {},
   "source": [
    "To do this, we basically define a **key** function that, for each element of an iterable, calculates some value. The sort can be be made based on that **key** function's return value for each element."
   ]
  },
  {
   "cell_type": "markdown",
   "metadata": {},
   "source": [
    "For example, if we want to sort this list of data by absolute value, we would want to first define a function that returns the absolute value for any given number:"
   ]
  },
  {
   "cell_type": "code",
   "metadata": {
    "ExecuteTime": {
     "end_time": "2025-06-18T04:40:17.856156Z",
     "start_time": "2025-06-18T04:40:17.851098Z"
    }
   },
   "source": [
    "def key_func(x):\n",
    "    return abs(x)"
   ],
   "outputs": [],
   "execution_count": 2
  },
  {
   "cell_type": "code",
   "metadata": {
    "ExecuteTime": {
     "end_time": "2025-06-18T04:40:17.918111Z",
     "start_time": "2025-06-18T04:40:17.912587Z"
    }
   },
   "source": [
    "data = [-10, -6, 0, 3, 6]"
   ],
   "outputs": [],
   "execution_count": 3
  },
  {
   "cell_type": "markdown",
   "metadata": {},
   "source": [
    "If we just sort this:"
   ]
  },
  {
   "cell_type": "code",
   "metadata": {
    "ExecuteTime": {
     "end_time": "2025-06-18T04:40:17.949542Z",
     "start_time": "2025-06-18T04:40:17.942976Z"
    }
   },
   "source": [
    "sorted(data)"
   ],
   "outputs": [
    {
     "data": {
      "text/plain": [
       "[-10, -6, 0, 3, 6]"
      ]
     },
     "execution_count": 4,
     "metadata": {},
     "output_type": "execute_result"
    }
   ],
   "execution_count": 4
  },
  {
   "cell_type": "markdown",
   "metadata": {},
   "source": [
    "but now let's use that `key_func` we just defined:"
   ]
  },
  {
   "cell_type": "code",
   "metadata": {
    "ExecuteTime": {
     "end_time": "2025-06-18T04:40:17.990653Z",
     "start_time": "2025-06-18T04:40:17.984605Z"
    }
   },
   "source": [
    "sorted(data, key=key_func)"
   ],
   "outputs": [
    {
     "data": {
      "text/plain": [
       "[0, 3, -6, 6, -10]"
      ]
     },
     "execution_count": 5,
     "metadata": {},
     "output_type": "execute_result"
    }
   ],
   "execution_count": 5
  },
  {
   "cell_type": "markdown",
   "metadata": {},
   "source": [
    "As you can see the data was sorted by the absolute value."
   ]
  },
  {
   "cell_type": "markdown",
   "metadata": {},
   "source": [
    "One thing you should notice here, is that both `-6` and `6` have the same key value (`6`) - so which one comes first in the sorted elements? That will depend on the relative positioning of those original elements in the iterable, and since `-6` occurred before `6` in the original `data`, we end up with the relative positioning in the sorted list."
   ]
  },
  {
   "cell_type": "markdown",
   "metadata": {},
   "source": [
    "Not all sorts behave this way - those that do, and Python's `sorted` sort algorithm does, are called **stable sorts**."
   ]
  },
  {
   "cell_type": "markdown",
   "metadata": {},
   "source": [
    "Just to make it even clearer:"
   ]
  },
  {
   "cell_type": "code",
   "metadata": {
    "ExecuteTime": {
     "end_time": "2025-06-18T04:40:18.027250Z",
     "start_time": "2025-06-18T04:40:18.022232Z"
    }
   },
   "source": [
    "data = [2, -2, 1, -1]"
   ],
   "outputs": [],
   "execution_count": 6
  },
  {
   "cell_type": "code",
   "metadata": {
    "ExecuteTime": {
     "end_time": "2025-06-18T04:40:18.055391Z",
     "start_time": "2025-06-18T04:40:18.049292Z"
    }
   },
   "source": [
    "sorted(data, key=key_func)"
   ],
   "outputs": [
    {
     "data": {
      "text/plain": [
       "[1, -1, 2, -2]"
      ]
     },
     "execution_count": 7,
     "metadata": {},
     "output_type": "execute_result"
    }
   ],
   "execution_count": 7
  },
  {
   "cell_type": "markdown",
   "metadata": {},
   "source": [
    "Often we can just use a lambda to define the key function. For the example above we could also write:"
   ]
  },
  {
   "cell_type": "code",
   "metadata": {
    "ExecuteTime": {
     "end_time": "2025-06-18T04:40:18.120470Z",
     "start_time": "2025-06-18T04:40:18.112961Z"
    }
   },
   "source": [
    "data = [6, -5, 4, -3, 2, -1]\n",
    "\n",
    "sorted(data, key=lambda x: abs(x))"
   ],
   "outputs": [
    {
     "data": {
      "text/plain": [
       "[-1, 2, -3, 4, -5, 6]"
      ]
     },
     "execution_count": 8,
     "metadata": {},
     "output_type": "execute_result"
    }
   ],
   "execution_count": 8
  },
  {
   "cell_type": "markdown",
   "metadata": {},
   "source": [
    "In fact, `abs` **is** a function, so we can also just use it directly as our key function in this case:"
   ]
  },
  {
   "cell_type": "code",
   "metadata": {
    "ExecuteTime": {
     "end_time": "2025-06-18T04:40:18.186966Z",
     "start_time": "2025-06-18T04:40:18.180877Z"
    }
   },
   "source": [
    "sorted(data, key=abs)"
   ],
   "outputs": [
    {
     "data": {
      "text/plain": [
       "[-1, 2, -3, 4, -5, 6]"
      ]
     },
     "execution_count": 9,
     "metadata": {},
     "output_type": "execute_result"
    }
   ],
   "execution_count": 9
  },
  {
   "cell_type": "markdown",
   "metadata": {},
   "source": [
    "Let's see a few more examples of sorting using sorting keys."
   ]
  },
  {
   "cell_type": "markdown",
   "metadata": {},
   "source": [
    "Let's say we have a collection of dictionaries that contain some stock information:"
   ]
  },
  {
   "cell_type": "code",
   "metadata": {
    "ExecuteTime": {
     "end_time": "2025-06-18T04:40:18.226014Z",
     "start_time": "2025-06-18T04:40:18.220802Z"
    }
   },
   "source": [
    "data = [\n",
    "    {'date': '2020-04-09', 'symbol': 'AAPL', 'open': 268.70, 'high': 270.04, 'low': 264.70, 'close': 267.99},\n",
    "    {'date': '2020-04-09', 'symbol': 'MSFT', 'open': 166.36, 'high': 167.37, 'low': 163.33, 'close': 165.14},\n",
    "    {'date': '2020-04-09', 'symbol': 'AMZN', 'open': 2_044.30, 'high': 2_053.00, 'low': 2_017.66, 'close': 2_042.76},\n",
    "    {'date': '2020-04-09', 'symbol': 'FB', 'open': 175.90, 'high': 177.08, 'low': 171.57, 'close': 175.19}\n",
    "]"
   ],
   "outputs": [],
   "execution_count": 10
  },
  {
   "cell_type": "markdown",
   "metadata": {},
   "source": [
    "Maybe we want to sort this data list by the symbol:"
   ]
  },
  {
   "cell_type": "code",
   "metadata": {
    "ExecuteTime": {
     "end_time": "2025-06-18T04:40:18.250288Z",
     "start_time": "2025-06-18T04:40:18.242651Z"
    }
   },
   "source": [
    "sorted(data, key=lambda item: item['symbol'])"
   ],
   "outputs": [
    {
     "data": {
      "text/plain": [
       "[{'date': '2020-04-09',\n",
       "  'symbol': 'AAPL',\n",
       "  'open': 268.7,\n",
       "  'high': 270.04,\n",
       "  'low': 264.7,\n",
       "  'close': 267.99},\n",
       " {'date': '2020-04-09',\n",
       "  'symbol': 'AMZN',\n",
       "  'open': 2044.3,\n",
       "  'high': 2053.0,\n",
       "  'low': 2017.66,\n",
       "  'close': 2042.76},\n",
       " {'date': '2020-04-09',\n",
       "  'symbol': 'FB',\n",
       "  'open': 175.9,\n",
       "  'high': 177.08,\n",
       "  'low': 171.57,\n",
       "  'close': 175.19},\n",
       " {'date': '2020-04-09',\n",
       "  'symbol': 'MSFT',\n",
       "  'open': 166.36,\n",
       "  'high': 167.37,\n",
       "  'low': 163.33,\n",
       "  'close': 165.14}]"
      ]
     },
     "execution_count": 11,
     "metadata": {},
     "output_type": "execute_result"
    }
   ],
   "execution_count": 11
  },
  {
   "cell_type": "markdown",
   "metadata": {},
   "source": [
    "But we may also want to sort this data by closing price, from highest to lowest:"
   ]
  },
  {
   "cell_type": "code",
   "metadata": {
    "ExecuteTime": {
     "end_time": "2025-06-18T04:40:18.430295Z",
     "start_time": "2025-06-18T04:40:18.423875Z"
    }
   },
   "source": [
    "sorted(data, key=lambda item: item['close'], reverse=True)"
   ],
   "outputs": [
    {
     "data": {
      "text/plain": [
       "[{'date': '2020-04-09',\n",
       "  'symbol': 'AMZN',\n",
       "  'open': 2044.3,\n",
       "  'high': 2053.0,\n",
       "  'low': 2017.66,\n",
       "  'close': 2042.76},\n",
       " {'date': '2020-04-09',\n",
       "  'symbol': 'AAPL',\n",
       "  'open': 268.7,\n",
       "  'high': 270.04,\n",
       "  'low': 264.7,\n",
       "  'close': 267.99},\n",
       " {'date': '2020-04-09',\n",
       "  'symbol': 'FB',\n",
       "  'open': 175.9,\n",
       "  'high': 177.08,\n",
       "  'low': 171.57,\n",
       "  'close': 175.19},\n",
       " {'date': '2020-04-09',\n",
       "  'symbol': 'MSFT',\n",
       "  'open': 166.36,\n",
       "  'high': 167.37,\n",
       "  'low': 163.33,\n",
       "  'close': 165.14}]"
      ]
     },
     "execution_count": 12,
     "metadata": {},
     "output_type": "execute_result"
    }
   ],
   "execution_count": 12
  },
  {
   "cell_type": "markdown",
   "metadata": {},
   "source": [
    "Or maybe we want to sort based on the percentage increase/decrease from opening price:"
   ]
  },
  {
   "cell_type": "code",
   "metadata": {
    "ExecuteTime": {
     "end_time": "2025-06-18T04:40:18.483840Z",
     "start_time": "2025-06-18T04:40:18.477893Z"
    }
   },
   "source": [
    "sorted(data, key=lambda item: (item['close'] - item['open'])/item['open'])"
   ],
   "outputs": [
    {
     "data": {
      "text/plain": [
       "[{'date': '2020-04-09',\n",
       "  'symbol': 'MSFT',\n",
       "  'open': 166.36,\n",
       "  'high': 167.37,\n",
       "  'low': 163.33,\n",
       "  'close': 165.14},\n",
       " {'date': '2020-04-09',\n",
       "  'symbol': 'FB',\n",
       "  'open': 175.9,\n",
       "  'high': 177.08,\n",
       "  'low': 171.57,\n",
       "  'close': 175.19},\n",
       " {'date': '2020-04-09',\n",
       "  'symbol': 'AAPL',\n",
       "  'open': 268.7,\n",
       "  'high': 270.04,\n",
       "  'low': 264.7,\n",
       "  'close': 267.99},\n",
       " {'date': '2020-04-09',\n",
       "  'symbol': 'AMZN',\n",
       "  'open': 2044.3,\n",
       "  'high': 2053.0,\n",
       "  'low': 2017.66,\n",
       "  'close': 2042.76}]"
      ]
     },
     "execution_count": 13,
     "metadata": {},
     "output_type": "execute_result"
    }
   ],
   "execution_count": 13
  },
  {
   "cell_type": "markdown",
   "metadata": {},
   "source": [
    "Let's recall how we sorted strings, and noticed that the sort was case sensitive (since the unicode values for `a` and `A` for example, are different."
   ]
  },
  {
   "cell_type": "code",
   "metadata": {
    "ExecuteTime": {
     "end_time": "2025-06-18T04:40:18.619286Z",
     "start_time": "2025-06-18T04:40:18.612999Z"
    }
   },
   "source": [
    "data = ['Z', 'a', 'A', 'z', 'x', 'X']"
   ],
   "outputs": [],
   "execution_count": 14
  },
  {
   "cell_type": "code",
   "metadata": {
    "ExecuteTime": {
     "end_time": "2025-06-18T04:40:18.671849Z",
     "start_time": "2025-06-18T04:40:18.665812Z"
    }
   },
   "source": [
    "sorted(data)"
   ],
   "outputs": [
    {
     "data": {
      "text/plain": [
       "['A', 'X', 'Z', 'a', 'x', 'z']"
      ]
     },
     "execution_count": 15,
     "metadata": {},
     "output_type": "execute_result"
    }
   ],
   "execution_count": 15
  },
  {
   "cell_type": "markdown",
   "metadata": {},
   "source": [
    "But suppose we do not want to have a case-sensitive sort - in that case we should casefold each element and use that as a sorting key:"
   ]
  },
  {
   "cell_type": "code",
   "metadata": {
    "ExecuteTime": {
     "end_time": "2025-06-18T04:40:18.776015Z",
     "start_time": "2025-06-18T04:40:18.769347Z"
    }
   },
   "source": [
    "'a'.casefold(), 'A'.casefold()"
   ],
   "outputs": [
    {
     "data": {
      "text/plain": [
       "('a', 'a')"
      ]
     },
     "execution_count": 16,
     "metadata": {},
     "output_type": "execute_result"
    }
   ],
   "execution_count": 16
  },
  {
   "cell_type": "code",
   "metadata": {
    "ExecuteTime": {
     "end_time": "2025-06-18T04:40:19.136880Z",
     "start_time": "2025-06-18T04:40:19.130911Z"
    }
   },
   "source": [
    "sorted(data, key=lambda s: s.casefold())"
   ],
   "outputs": [
    {
     "data": {
      "text/plain": [
       "['a', 'A', 'x', 'X', 'Z', 'z']"
      ]
     },
     "execution_count": 17,
     "metadata": {},
     "output_type": "execute_result"
    }
   ],
   "execution_count": 17
  },
  {
   "cell_type": "markdown",
   "metadata": {},
   "source": [
    "(Note the stable sort, where `a` preceded `A` but `Z` preceded `z` in the original list)"
   ]
  },
  {
   "cell_type": "markdown",
   "metadata": {},
   "source": [
    "Of course, we can do other things too - we could sort based on the length of the string:"
   ]
  },
  {
   "cell_type": "code",
   "metadata": {
    "ExecuteTime": {
     "end_time": "2025-06-18T04:40:20.047511Z",
     "start_time": "2025-06-18T04:40:20.042005Z"
    }
   },
   "source": [
    "data = ['one', 'two', 'three', 'four', 'five', 'six', 'seven', 'eight', 'nine', 'ten']"
   ],
   "outputs": [],
   "execution_count": 18
  },
  {
   "cell_type": "code",
   "metadata": {
    "ExecuteTime": {
     "end_time": "2025-06-18T04:40:20.306961Z",
     "start_time": "2025-06-18T04:40:20.299714Z"
    }
   },
   "source": [
    "sorted(data, key=lambda s: len(s))"
   ],
   "outputs": [
    {
     "data": {
      "text/plain": [
       "['one', 'two', 'six', 'ten', 'four', 'five', 'nine', 'three', 'seven', 'eight']"
      ]
     },
     "execution_count": 19,
     "metadata": {},
     "output_type": "execute_result"
    }
   ],
   "execution_count": 19
  },
  {
   "cell_type": "markdown",
   "metadata": {},
   "source": [
    "Again note the stable sort, the elements `one` `two`, `six`, and `ten` were all three characters long, so they ended up at the beginning of the sorted result, but their relative oredering to each other was maintained."
   ]
  }
 ],
 "metadata": {
  "kernelspec": {
   "display_name": "Python 3",
   "language": "python",
   "name": "python3"
  },
  "language_info": {
   "codemirror_mode": {
    "name": "ipython",
    "version": 3
   },
   "file_extension": ".py",
   "mimetype": "text/x-python",
   "name": "python",
   "nbconvert_exporter": "python",
   "pygments_lexer": "ipython3",
   "version": "3.9.1"
  }
 },
 "nbformat": 4,
 "nbformat_minor": 4
}
