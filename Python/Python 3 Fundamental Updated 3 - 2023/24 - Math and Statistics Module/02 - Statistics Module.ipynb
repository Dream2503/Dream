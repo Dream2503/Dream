{
 "cells": [
  {
   "cell_type": "markdown",
   "metadata": {},
   "source": [
    "### Statistics Module"
   ]
  },
  {
   "cell_type": "markdown",
   "metadata": {},
   "source": [
    "https://docs.python.org/3/library/statistics.html#module-statistics"
   ]
  },
  {
   "cell_type": "markdown",
   "metadata": {},
   "source": [
    "Let's start byt importing the `statistics` module, renaming it as `stats` to make my typing life easier :-)"
   ]
  },
  {
   "cell_type": "code",
   "metadata": {
    "ExecuteTime": {
     "end_time": "2025-06-18T04:59:48.993830Z",
     "start_time": "2025-06-18T04:59:48.938596Z"
    }
   },
   "source": [
    "import statistics as stats"
   ],
   "outputs": [],
   "execution_count": 1
  },
  {
   "cell_type": "markdown",
   "metadata": {},
   "source": [
    "#### Measures of Central Location"
   ]
  },
  {
   "cell_type": "markdown",
   "metadata": {},
   "source": [
    "First let's look at the mean functions:"
   ]
  },
  {
   "cell_type": "code",
   "metadata": {
    "ExecuteTime": {
     "end_time": "2025-06-18T04:59:49.325716Z",
     "start_time": "2025-06-18T04:59:49.314391Z"
    }
   },
   "source": [
    "data = [1, 2, 3, 4, 5, 6, 7, 8, 9, 10]"
   ],
   "outputs": [],
   "execution_count": 2
  },
  {
   "cell_type": "code",
   "metadata": {
    "ExecuteTime": {
     "end_time": "2025-06-18T04:59:49.389826Z",
     "start_time": "2025-06-18T04:59:49.376801Z"
    }
   },
   "source": [
    "stats.mean(data)"
   ],
   "outputs": [
    {
     "data": {
      "text/plain": [
       "5.5"
      ]
     },
     "execution_count": 3,
     "metadata": {},
     "output_type": "execute_result"
    }
   ],
   "execution_count": 3
  },
  {
   "cell_type": "markdown",
   "metadata": {},
   "source": [
    "We also have the `fmean` function, which will first convert all the elements to floats, and then calculate the mean:"
   ]
  },
  {
   "cell_type": "code",
   "metadata": {
    "ExecuteTime": {
     "end_time": "2025-06-18T04:59:49.425525Z",
     "start_time": "2025-06-18T04:59:49.418356Z"
    }
   },
   "source": [
    "stats.fmean(data)"
   ],
   "outputs": [
    {
     "data": {
      "text/plain": [
       "5.5"
      ]
     },
     "execution_count": 4,
     "metadata": {},
     "output_type": "execute_result"
    }
   ],
   "execution_count": 4
  },
  {
   "cell_type": "markdown",
   "metadata": {},
   "source": [
    "The main difference is that all the elements are first converted to floats, and the algorithm is faster than using `mean`."
   ]
  },
  {
   "cell_type": "code",
   "metadata": {
    "ExecuteTime": {
     "end_time": "2025-06-18T04:59:49.488194Z",
     "start_time": "2025-06-18T04:59:49.484681Z"
    }
   },
   "source": [
    "from time import perf_counter"
   ],
   "outputs": [],
   "execution_count": 5
  },
  {
   "cell_type": "code",
   "metadata": {
    "ExecuteTime": {
     "end_time": "2025-06-18T04:59:50.428776Z",
     "start_time": "2025-06-18T04:59:49.532646Z"
    }
   },
   "source": [
    "start = perf_counter()\n",
    "for _ in range(100_000):\n",
    "    stats.mean(data)\n",
    "end = perf_counter()\n",
    "print(end - start)"
   ],
   "outputs": [
    {
     "name": "stdout",
     "output_type": "stream",
     "text": [
      "0.8911100999976043\n"
     ]
    }
   ],
   "execution_count": 6
  },
  {
   "cell_type": "code",
   "metadata": {
    "ExecuteTime": {
     "end_time": "2025-06-18T04:59:50.524192Z",
     "start_time": "2025-06-18T04:59:50.466012Z"
    }
   },
   "source": [
    "start = perf_counter()\n",
    "for _ in range(100_000):\n",
    "    stats.fmean(data)\n",
    "end = perf_counter()\n",
    "print(end - start)"
   ],
   "outputs": [
    {
     "name": "stdout",
     "output_type": "stream",
     "text": [
      "0.051282899992656894\n"
     ]
    }
   ],
   "execution_count": 7
  },
  {
   "cell_type": "markdown",
   "metadata": {},
   "source": [
    "Why would ever use `mean` then?"
   ]
  },
  {
   "cell_type": "markdown",
   "metadata": {},
   "source": [
    "Well consider this data, a list of integers, whose mean should actually be an integer:"
   ]
  },
  {
   "cell_type": "code",
   "metadata": {
    "ExecuteTime": {
     "end_time": "2025-06-18T04:59:50.549039Z",
     "start_time": "2025-06-18T04:59:50.544Z"
    }
   },
   "source": [
    "data = [1, 2, 3, 4, 5]"
   ],
   "outputs": [],
   "execution_count": 8
  },
  {
   "cell_type": "code",
   "metadata": {
    "ExecuteTime": {
     "end_time": "2025-06-18T04:59:50.583869Z",
     "start_time": "2025-06-18T04:59:50.577158Z"
    }
   },
   "source": [
    "stats.fmean(data)"
   ],
   "outputs": [
    {
     "data": {
      "text/plain": [
       "3.0"
      ]
     },
     "execution_count": 9,
     "metadata": {},
     "output_type": "execute_result"
    }
   ],
   "execution_count": 9
  },
  {
   "cell_type": "code",
   "metadata": {
    "ExecuteTime": {
     "end_time": "2025-06-18T04:59:50.686326Z",
     "start_time": "2025-06-18T04:59:50.679194Z"
    }
   },
   "source": [
    "stats.mean(data)"
   ],
   "outputs": [
    {
     "data": {
      "text/plain": [
       "3"
      ]
     },
     "execution_count": 10,
     "metadata": {},
     "output_type": "execute_result"
    }
   ],
   "execution_count": 10
  },
  {
   "cell_type": "markdown",
   "metadata": {},
   "source": [
    "As you can see, the integer type was preserved with `mean`. But not always:"
   ]
  },
  {
   "cell_type": "code",
   "metadata": {
    "ExecuteTime": {
     "end_time": "2025-06-18T04:59:50.934383Z",
     "start_time": "2025-06-18T04:59:50.928516Z"
    }
   },
   "source": [
    "data = [1, 2, 3, 4, 5, 6]"
   ],
   "outputs": [],
   "execution_count": 11
  },
  {
   "cell_type": "code",
   "metadata": {
    "ExecuteTime": {
     "end_time": "2025-06-18T04:59:50.968762Z",
     "start_time": "2025-06-18T04:59:50.962726Z"
    }
   },
   "source": [
    "stats.mean(data)"
   ],
   "outputs": [
    {
     "data": {
      "text/plain": [
       "3.5"
      ]
     },
     "execution_count": 12,
     "metadata": {},
     "output_type": "execute_result"
    }
   ],
   "execution_count": 12
  },
  {
   "cell_type": "code",
   "metadata": {
    "ExecuteTime": {
     "end_time": "2025-06-18T04:59:50.997252Z",
     "start_time": "2025-06-18T04:59:50.990446Z"
    }
   },
   "source": [
    "stats.fmean(data)"
   ],
   "outputs": [
    {
     "data": {
      "text/plain": [
       "3.5"
      ]
     },
     "execution_count": 13,
     "metadata": {},
     "output_type": "execute_result"
    }
   ],
   "execution_count": 13
  },
  {
   "cell_type": "markdown",
   "metadata": {},
   "source": [
    "There are other means available in the statistics module (geometric, harmonic).\n",
    "\n",
    "Also, we can calculate the median of a data set."
   ]
  },
  {
   "cell_type": "markdown",
   "metadata": {},
   "source": [
    "The median is not always a member of the data set - it may fall between two values in the data set."
   ]
  },
  {
   "cell_type": "code",
   "metadata": {
    "ExecuteTime": {
     "end_time": "2025-06-18T04:59:51.045955Z",
     "start_time": "2025-06-18T04:59:51.041323Z"
    }
   },
   "source": [
    "data = [1, 1, 2, 3, 4, 5, 6, 6]"
   ],
   "outputs": [],
   "execution_count": 14
  },
  {
   "cell_type": "code",
   "metadata": {
    "ExecuteTime": {
     "end_time": "2025-06-18T04:59:51.075857Z",
     "start_time": "2025-06-18T04:59:51.070111Z"
    }
   },
   "source": [
    "stats.median(data)"
   ],
   "outputs": [
    {
     "data": {
      "text/plain": [
       "3.5"
      ]
     },
     "execution_count": 15,
     "metadata": {},
     "output_type": "execute_result"
    }
   ],
   "execution_count": 15
  },
  {
   "cell_type": "markdown",
   "metadata": {},
   "source": [
    "As we can see the median is between `3` and `4`, so `3.5` which is not in the set."
   ]
  },
  {
   "cell_type": "markdown",
   "metadata": {},
   "source": [
    "If you need an element from the data set, you may have to choose either the lower of the two values \"around\" the median, or the higher."
   ]
  },
  {
   "cell_type": "code",
   "metadata": {
    "ExecuteTime": {
     "end_time": "2025-06-18T04:59:51.145152Z",
     "start_time": "2025-06-18T04:59:51.139680Z"
    }
   },
   "source": [
    "stats.median_low(data)"
   ],
   "outputs": [
    {
     "data": {
      "text/plain": [
       "3"
      ]
     },
     "execution_count": 16,
     "metadata": {},
     "output_type": "execute_result"
    }
   ],
   "execution_count": 16
  },
  {
   "cell_type": "code",
   "metadata": {
    "ExecuteTime": {
     "end_time": "2025-06-18T04:59:51.220544Z",
     "start_time": "2025-06-18T04:59:51.213976Z"
    }
   },
   "source": [
    "stats.median_high(data)"
   ],
   "outputs": [
    {
     "data": {
      "text/plain": [
       "4"
      ]
     },
     "execution_count": 17,
     "metadata": {},
     "output_type": "execute_result"
    }
   ],
   "execution_count": 17
  },
  {
   "cell_type": "markdown",
   "metadata": {},
   "source": [
    "The `mode` can also be calculated. If more than one value qualifies as the mode, the first one in the list is returned.\n",
    "\n",
    "For example, with `data`:"
   ]
  },
  {
   "cell_type": "code",
   "metadata": {
    "ExecuteTime": {
     "end_time": "2025-06-18T04:59:51.268621Z",
     "start_time": "2025-06-18T04:59:51.262591Z"
    }
   },
   "source": [
    "data"
   ],
   "outputs": [
    {
     "data": {
      "text/plain": [
       "[1, 1, 2, 3, 4, 5, 6, 6]"
      ]
     },
     "execution_count": 18,
     "metadata": {},
     "output_type": "execute_result"
    }
   ],
   "execution_count": 18
  },
  {
   "cell_type": "markdown",
   "metadata": {},
   "source": [
    "we can see that we have two candidates for the mode: `1` and `6`."
   ]
  },
  {
   "cell_type": "code",
   "metadata": {
    "ExecuteTime": {
     "end_time": "2025-06-18T04:59:51.314480Z",
     "start_time": "2025-06-18T04:59:51.309443Z"
    }
   },
   "source": [
    "stats.mode(data)"
   ],
   "outputs": [
    {
     "data": {
      "text/plain": [
       "1"
      ]
     },
     "execution_count": 19,
     "metadata": {},
     "output_type": "execute_result"
    }
   ],
   "execution_count": 19
  },
  {
   "cell_type": "markdown",
   "metadata": {},
   "source": [
    "If we prefer, we can obtain all the modes, as a list:"
   ]
  },
  {
   "cell_type": "code",
   "metadata": {
    "ExecuteTime": {
     "end_time": "2025-06-18T04:59:51.363394Z",
     "start_time": "2025-06-18T04:59:51.356838Z"
    }
   },
   "source": [
    "stats.multimode(data)"
   ],
   "outputs": [
    {
     "data": {
      "text/plain": [
       "[1, 6]"
      ]
     },
     "execution_count": 20,
     "metadata": {},
     "output_type": "execute_result"
    }
   ],
   "execution_count": 20
  },
  {
   "cell_type": "markdown",
   "metadata": {},
   "source": [
    "The `mode` function can also work with nominal data:"
   ]
  },
  {
   "cell_type": "code",
   "metadata": {
    "ExecuteTime": {
     "end_time": "2025-06-18T04:59:51.417630Z",
     "start_time": "2025-06-18T04:59:51.412618Z"
    }
   },
   "source": [
    "data = ['one', 'two', 'three', 'three', 'four', 'four']"
   ],
   "outputs": [],
   "execution_count": 21
  },
  {
   "cell_type": "code",
   "metadata": {
    "ExecuteTime": {
     "end_time": "2025-06-18T04:59:51.443861Z",
     "start_time": "2025-06-18T04:59:51.437371Z"
    }
   },
   "source": [
    "stats.mode(data)"
   ],
   "outputs": [
    {
     "data": {
      "text/plain": [
       "'three'"
      ]
     },
     "execution_count": 22,
     "metadata": {},
     "output_type": "execute_result"
    }
   ],
   "execution_count": 22
  },
  {
   "cell_type": "code",
   "metadata": {
    "ExecuteTime": {
     "end_time": "2025-06-18T04:59:51.486881Z",
     "start_time": "2025-06-18T04:59:51.480388Z"
    }
   },
   "source": [
    "stats.multimode(data)"
   ],
   "outputs": [
    {
     "data": {
      "text/plain": [
       "['three', 'four']"
      ]
     },
     "execution_count": 23,
     "metadata": {},
     "output_type": "execute_result"
    }
   ],
   "execution_count": 23
  },
  {
   "cell_type": "markdown",
   "metadata": {},
   "source": [
    "This `mode` function can be very useful for identifying elements that occur the most often in some dataset."
   ]
  },
  {
   "cell_type": "markdown",
   "metadata": {},
   "source": [
    "#### Measures of Spread"
   ]
  },
  {
   "cell_type": "markdown",
   "metadata": {},
   "source": [
    "We also have standard deviation and variance functions - population and sample variants."
   ]
  },
  {
   "cell_type": "code",
   "metadata": {
    "ExecuteTime": {
     "end_time": "2025-06-18T04:59:51.525149Z",
     "start_time": "2025-06-18T04:59:51.520703Z"
    }
   },
   "source": [
    "import random"
   ],
   "outputs": [],
   "execution_count": 24
  },
  {
   "cell_type": "code",
   "metadata": {
    "ExecuteTime": {
     "end_time": "2025-06-18T04:59:51.580389Z",
     "start_time": "2025-06-18T04:59:51.569710Z"
    }
   },
   "source": [
    "random.seed(0)\n",
    "\n",
    "data = [random.gauss(0, 2) for _ in range(10_000)]"
   ],
   "outputs": [],
   "execution_count": 25
  },
  {
   "cell_type": "code",
   "metadata": {
    "ExecuteTime": {
     "end_time": "2025-06-18T04:59:51.627608Z",
     "start_time": "2025-06-18T04:59:51.613001Z"
    }
   },
   "source": [
    "stats.mean(data), stats.median(data)"
   ],
   "outputs": [
    {
     "data": {
      "text/plain": [
       "(-0.0015217251679571582, 0.003173735624808653)"
      ]
     },
     "execution_count": 26,
     "metadata": {},
     "output_type": "execute_result"
    }
   ],
   "execution_count": 26
  },
  {
   "cell_type": "markdown",
   "metadata": {},
   "source": [
    "We can calculate the population std dev and variance:"
   ]
  },
  {
   "cell_type": "code",
   "metadata": {
    "ExecuteTime": {
     "end_time": "2025-06-18T04:59:51.676794Z",
     "start_time": "2025-06-18T04:59:51.653904Z"
    }
   },
   "source": [
    "stats.pstdev(data), stats.pvariance(data)"
   ],
   "outputs": [
    {
     "data": {
      "text/plain": [
       "(1.9947180848823642, 3.978900238156767)"
      ]
     },
     "execution_count": 27,
     "metadata": {},
     "output_type": "execute_result"
    }
   ],
   "execution_count": 27
  },
  {
   "cell_type": "markdown",
   "metadata": {},
   "source": [
    "Or if `data` is a sample, we can calculate the sample std dev/variance:"
   ]
  },
  {
   "cell_type": "code",
   "metadata": {
    "ExecuteTime": {
     "end_time": "2025-06-18T04:59:51.737197Z",
     "start_time": "2025-06-18T04:59:51.715403Z"
    }
   },
   "source": [
    "stats.stdev(data), stats.variance(data)"
   ],
   "outputs": [
    {
     "data": {
      "text/plain": [
       "(1.9948178282674247, 3.9792981679735644)"
      ]
     },
     "execution_count": 28,
     "metadata": {},
     "output_type": "execute_result"
    }
   ],
   "execution_count": 28
  },
  {
   "cell_type": "markdown",
   "metadata": {},
   "source": [
    "We can generate quantiles.\n",
    "\n",
    "For example to generate quartiles (where data excludes extremes):"
   ]
  },
  {
   "cell_type": "code",
   "metadata": {
    "ExecuteTime": {
     "end_time": "2025-06-18T04:59:51.784181Z",
     "start_time": "2025-06-18T04:59:51.777118Z"
    }
   },
   "source": [
    "stats.quantiles(data, n=4)"
   ],
   "outputs": [
    {
     "data": {
      "text/plain": [
       "[-1.3875586003005163, 0.003173735624808653, 1.3480210310232563]"
      ]
     },
     "execution_count": 29,
     "metadata": {},
     "output_type": "execute_result"
    }
   ],
   "execution_count": 29
  },
  {
   "cell_type": "markdown",
   "metadata": {},
   "source": [
    "And if the data includes the extremes:"
   ]
  },
  {
   "cell_type": "code",
   "metadata": {
    "ExecuteTime": {
     "end_time": "2025-06-18T04:59:51.810270Z",
     "start_time": "2025-06-18T04:59:51.802692Z"
    }
   },
   "source": [
    "stats.quantiles(data, n=4, method='inclusive')"
   ],
   "outputs": [
    {
     "data": {
      "text/plain": [
       "[-1.3874592627504039, 0.003173735624808653, 1.3478465657948888]"
      ]
     },
     "execution_count": 30,
     "metadata": {},
     "output_type": "execute_result"
    }
   ],
   "execution_count": 30
  },
  {
   "cell_type": "markdown",
   "metadata": {},
   "source": [
    "#### Normal Distribution"
   ]
  },
  {
   "cell_type": "markdown",
   "metadata": {},
   "source": [
    "The `statistics` module also includes a special data type (class), `NormalDist` that can be used to create and manipulate normal distributions."
   ]
  },
  {
   "cell_type": "code",
   "metadata": {
    "ExecuteTime": {
     "end_time": "2025-06-18T04:59:51.869015Z",
     "start_time": "2025-06-18T04:59:51.863611Z"
    }
   },
   "source": [
    "d1 = stats.NormalDist(0, 1)"
   ],
   "outputs": [],
   "execution_count": 31
  },
  {
   "cell_type": "code",
   "metadata": {
    "ExecuteTime": {
     "end_time": "2025-06-18T04:59:51.993720Z",
     "start_time": "2025-06-18T04:59:51.905648Z"
    }
   },
   "source": [
    "d1"
   ],
   "outputs": [
    {
     "data": {
      "text/plain": [
       "NormalDist(mu=0.0, sigma=1.0)"
      ]
     },
     "execution_count": 32,
     "metadata": {},
     "output_type": "execute_result"
    }
   ],
   "execution_count": 32
  },
  {
   "cell_type": "markdown",
   "metadata": {},
   "source": [
    "This object has properties for mean, median, variance, std dev:"
   ]
  },
  {
   "cell_type": "code",
   "metadata": {
    "ExecuteTime": {
     "end_time": "2025-06-18T04:59:52.246692Z",
     "start_time": "2025-06-18T04:59:52.240524Z"
    }
   },
   "source": [
    "d1.mean, d1.median, d1.stdev, d1.variance"
   ],
   "outputs": [
    {
     "data": {
      "text/plain": [
       "(0.0, 0.0, 1.0, 1.0)"
      ]
     },
     "execution_count": 33,
     "metadata": {},
     "output_type": "execute_result"
    }
   ],
   "execution_count": 33
  },
  {
   "cell_type": "markdown",
   "metadata": {},
   "source": [
    "There is also a PDF function, as well as a CDF function."
   ]
  },
  {
   "cell_type": "markdown",
   "metadata": {},
   "source": [
    "For example, the CDF function will return the probability that some random variable X <= x:"
   ]
  },
  {
   "cell_type": "code",
   "metadata": {
    "ExecuteTime": {
     "end_time": "2025-06-18T04:59:52.314738Z",
     "start_time": "2025-06-18T04:59:52.303873Z"
    }
   },
   "source": [
    "d1.cdf(0)"
   ],
   "outputs": [
    {
     "data": {
      "text/plain": [
       "0.5"
      ]
     },
     "execution_count": 34,
     "metadata": {},
     "output_type": "execute_result"
    }
   ],
   "execution_count": 34
  },
  {
   "cell_type": "code",
   "metadata": {
    "ExecuteTime": {
     "end_time": "2025-06-18T04:59:52.379703Z",
     "start_time": "2025-06-18T04:59:52.363846Z"
    }
   },
   "source": [
    "d1.cdf(3)"
   ],
   "outputs": [
    {
     "data": {
      "text/plain": [
       "0.9986501019683699"
      ]
     },
     "execution_count": 35,
     "metadata": {},
     "output_type": "execute_result"
    }
   ],
   "execution_count": 35
  },
  {
   "cell_type": "markdown",
   "metadata": {},
   "source": [
    "These  objects also support translation and scaling:"
   ]
  },
  {
   "cell_type": "code",
   "metadata": {
    "ExecuteTime": {
     "end_time": "2025-06-18T04:59:52.425210Z",
     "start_time": "2025-06-18T04:59:52.418660Z"
    }
   },
   "source": [
    "d1 + 10"
   ],
   "outputs": [
    {
     "data": {
      "text/plain": [
       "NormalDist(mu=10.0, sigma=1.0)"
      ]
     },
     "execution_count": 36,
     "metadata": {},
     "output_type": "execute_result"
    }
   ],
   "execution_count": 36
  },
  {
   "cell_type": "code",
   "metadata": {
    "ExecuteTime": {
     "end_time": "2025-06-18T04:59:52.481333Z",
     "start_time": "2025-06-18T04:59:52.475299Z"
    }
   },
   "source": [
    "d1 * 2"
   ],
   "outputs": [
    {
     "data": {
      "text/plain": [
       "NormalDist(mu=0.0, sigma=2.0)"
      ]
     },
     "execution_count": 37,
     "metadata": {},
     "output_type": "execute_result"
    }
   ],
   "execution_count": 37
  },
  {
   "cell_type": "code",
   "metadata": {
    "ExecuteTime": {
     "end_time": "2025-06-18T04:59:52.542076Z",
     "start_time": "2025-06-18T04:59:52.537129Z"
    }
   },
   "source": [
    "d2 = 2 * d1 + 1"
   ],
   "outputs": [],
   "execution_count": 38
  },
  {
   "cell_type": "code",
   "metadata": {
    "ExecuteTime": {
     "end_time": "2025-06-18T04:59:52.566210Z",
     "start_time": "2025-06-18T04:59:52.559562Z"
    }
   },
   "source": [
    "d2"
   ],
   "outputs": [
    {
     "data": {
      "text/plain": [
       "NormalDist(mu=1.0, sigma=2.0)"
      ]
     },
     "execution_count": 39,
     "metadata": {},
     "output_type": "execute_result"
    }
   ],
   "execution_count": 39
  },
  {
   "cell_type": "markdown",
   "metadata": {},
   "source": [
    "We can measure the overlapping area between those two distributions:"
   ]
  },
  {
   "cell_type": "code",
   "metadata": {
    "ExecuteTime": {
     "end_time": "2025-06-18T04:59:52.591275Z",
     "start_time": "2025-06-18T04:59:52.584531Z"
    }
   },
   "source": [
    "d1.overlap(d2)"
   ],
   "outputs": [
    {
     "data": {
      "text/plain": [
       "0.6099343398789443"
      ]
     },
     "execution_count": 40,
     "metadata": {},
     "output_type": "execute_result"
    }
   ],
   "execution_count": 40
  },
  {
   "cell_type": "code",
   "metadata": {
    "ExecuteTime": {
     "end_time": "2025-06-18T04:59:52.636614Z",
     "start_time": "2025-06-18T04:59:52.630493Z"
    }
   },
   "source": [
    "d2.overlap(d1)"
   ],
   "outputs": [
    {
     "data": {
      "text/plain": [
       "0.6099343398789443"
      ]
     },
     "execution_count": 41,
     "metadata": {},
     "output_type": "execute_result"
    }
   ],
   "execution_count": 41
  },
  {
   "cell_type": "markdown",
   "metadata": {},
   "source": [
    "We can also generate quantiles for the distribution:"
   ]
  },
  {
   "cell_type": "code",
   "metadata": {
    "ExecuteTime": {
     "end_time": "2025-06-18T04:59:52.705938Z",
     "start_time": "2025-06-18T04:59:52.699823Z"
    }
   },
   "source": [
    "d1.quantiles(4)"
   ],
   "outputs": [
    {
     "data": {
      "text/plain": [
       "[-0.6744897501960817, 0.0, 0.6744897501960817]"
      ]
     },
     "execution_count": 42,
     "metadata": {},
     "output_type": "execute_result"
    }
   ],
   "execution_count": 42
  },
  {
   "cell_type": "markdown",
   "metadata": {},
   "source": [
    "And finally we can also combine two normal distributions, where the resulting mean will be the sum of the means, and the resulting variance will be the sum of the variances."
   ]
  },
  {
   "cell_type": "code",
   "metadata": {
    "ExecuteTime": {
     "end_time": "2025-06-18T04:59:52.747592Z",
     "start_time": "2025-06-18T04:59:52.741759Z"
    }
   },
   "source": [
    "d1, d2"
   ],
   "outputs": [
    {
     "data": {
      "text/plain": [
       "(NormalDist(mu=0.0, sigma=1.0), NormalDist(mu=1.0, sigma=2.0))"
      ]
     },
     "execution_count": 43,
     "metadata": {},
     "output_type": "execute_result"
    }
   ],
   "execution_count": 43
  },
  {
   "cell_type": "code",
   "metadata": {
    "ExecuteTime": {
     "end_time": "2025-06-18T04:59:52.808453Z",
     "start_time": "2025-06-18T04:59:52.802738Z"
    }
   },
   "source": [
    "d1 + d2"
   ],
   "outputs": [
    {
     "data": {
      "text/plain": [
       "NormalDist(mu=1.0, sigma=2.23606797749979)"
      ]
     },
     "execution_count": 44,
     "metadata": {},
     "output_type": "execute_result"
    }
   ],
   "execution_count": 44
  },
  {
   "cell_type": "code",
   "metadata": {
    "ExecuteTime": {
     "end_time": "2025-06-18T04:59:52.850984Z",
     "start_time": "2025-06-18T04:59:52.844441Z"
    }
   },
   "source": [
    "d1.variance, d2.variance, (d1 + d2).variance"
   ],
   "outputs": [
    {
     "data": {
      "text/plain": [
       "(1.0, 4.0, 5.000000000000001)"
      ]
     },
     "execution_count": 45,
     "metadata": {},
     "output_type": "execute_result"
    }
   ],
   "execution_count": 45
  },
  {
   "cell_type": "code",
   "metadata": {
    "ExecuteTime": {
     "end_time": "2025-06-18T04:59:52.902708Z",
     "start_time": "2025-06-18T04:59:52.896796Z"
    }
   },
   "source": [
    "from math import sqrt\n",
    "\n",
    "sqrt(d1.variance + d2.variance)"
   ],
   "outputs": [
    {
     "data": {
      "text/plain": [
       "2.23606797749979"
      ]
     },
     "execution_count": 46,
     "metadata": {},
     "output_type": "execute_result"
    }
   ],
   "execution_count": 46
  },
  {
   "cell_type": "markdown",
   "metadata": {},
   "source": [
    "We can also sample data from the distribution:"
   ]
  },
  {
   "cell_type": "code",
   "metadata": {
    "ExecuteTime": {
     "end_time": "2025-06-18T04:59:52.939630Z",
     "start_time": "2025-06-18T04:59:52.932641Z"
    }
   },
   "source": [
    "random.seed(0)\n",
    "\n",
    "d1.samples(n=10)"
   ],
   "outputs": [
    {
     "data": {
      "text/plain": [
       "[0.9417154046806644,\n",
       " -1.3965781047011498,\n",
       " -0.6797144480784211,\n",
       " 0.3705035674606598,\n",
       " -1.016348894188071,\n",
       " -0.07212002278507135,\n",
       " 0.17919648727485687,\n",
       " -0.8310992152709882,\n",
       " -1.3090373644593587,\n",
       " 0.1938877412491041]"
      ]
     },
     "execution_count": 47,
     "metadata": {},
     "output_type": "execute_result"
    }
   ],
   "execution_count": 47
  }
 ],
 "metadata": {
  "kernelspec": {
   "display_name": "Python 3",
   "language": "python",
   "name": "python3"
  },
  "language_info": {
   "codemirror_mode": {
    "name": "ipython",
    "version": 3
   },
   "file_extension": ".py",
   "mimetype": "text/x-python",
   "name": "python",
   "nbconvert_exporter": "python",
   "pygments_lexer": "ipython3",
   "version": "3.9.1"
  }
 },
 "nbformat": 4,
 "nbformat_minor": 4
}
