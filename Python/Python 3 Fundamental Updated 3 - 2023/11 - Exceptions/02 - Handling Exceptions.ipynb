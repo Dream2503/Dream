{
 "cells": [
  {
   "cell_type": "markdown",
   "metadata": {},
   "source": [
    "### Handling Exceptions"
   ]
  },
  {
   "cell_type": "markdown",
   "metadata": {},
   "source": [
    "We can trap and handle exceptions in sections of code that we include in a `try` statement, catching various exceptions using the `except` clauses:"
   ]
  },
  {
   "cell_type": "code",
   "metadata": {
    "ExecuteTime": {
     "end_time": "2025-06-17T19:50:40.066238Z",
     "start_time": "2025-06-17T19:50:40.057769Z"
    }
   },
   "source": [
    "try:\n",
    "    1 / 0\n",
    "except ZeroDivisionError as ex:\n",
    "    print(f'Exception occured: {type(ex)}, {ex}')\n",
    "print('code continues running here...')"
   ],
   "outputs": [
    {
     "name": "stdout",
     "output_type": "stream",
     "text": [
      "Exception occured: <class 'ZeroDivisionError'>, division by zero\n",
      "code continues running here...\n"
     ]
    }
   ],
   "execution_count": 1
  },
  {
   "cell_type": "markdown",
   "metadata": {},
   "source": [
    "Since we \"handled\" the exception, the exception is silenced, Jupyter is unaware of it, and the code in the cell continues running normally."
   ]
  },
  {
   "cell_type": "markdown",
   "metadata": {},
   "source": [
    "Exceptions have a hierarchy, with `Exception` being a broad exception that encompasses many other exceptions."
   ]
  },
  {
   "cell_type": "markdown",
   "metadata": {},
   "source": [
    "We don't typically catch exceptions at that broad of a level, simply because we probably don't know how to handle it."
   ]
  },
  {
   "cell_type": "markdown",
   "metadata": {},
   "source": [
    "Let's look at example where that may happen."
   ]
  },
  {
   "cell_type": "markdown",
   "metadata": {},
   "source": [
    "Suppose we are looking to take an element from an iterable, one by one, until the iterable is empty."
   ]
  },
  {
   "cell_type": "markdown",
   "metadata": {},
   "source": [
    "One way to do it is this:"
   ]
  },
  {
   "cell_type": "code",
   "metadata": {
    "ExecuteTime": {
     "end_time": "2025-06-17T19:50:46.669428Z",
     "start_time": "2025-06-17T19:50:46.663577Z"
    }
   },
   "source": [
    "l = [1, 2, 3, 4, 5]\n",
    "\n",
    "while len(l) > 0:\n",
    "    print(l.pop())\n",
    "    \n",
    "print('all done.')"
   ],
   "outputs": [
    {
     "name": "stdout",
     "output_type": "stream",
     "text": [
      "5\n",
      "4\n",
      "3\n",
      "2\n",
      "1\n",
      "all done.\n"
     ]
    }
   ],
   "execution_count": 2
  },
  {
   "cell_type": "markdown",
   "metadata": {},
   "source": [
    "But another way we could do this is to use an exception handler to trap an `IndexError` exception.\n",
    "\n",
    "Let's try this code withouh an exception handler first:"
   ]
  },
  {
   "cell_type": "code",
   "metadata": {
    "ExecuteTime": {
     "end_time": "2025-06-17T19:50:47.416924Z",
     "start_time": "2025-06-17T19:50:47.027400Z"
    }
   },
   "source": [
    "l = [1, 2, 3, 4, 5]\n",
    "\n",
    "while True:\n",
    "    print(l.pop())\n",
    "\n",
    "print('all done.')"
   ],
   "outputs": [
    {
     "name": "stdout",
     "output_type": "stream",
     "text": [
      "5\n",
      "4\n",
      "3\n",
      "2\n",
      "1\n"
     ]
    },
    {
     "ename": "IndexError",
     "evalue": "pop from empty list",
     "output_type": "error",
     "traceback": [
      "\u001B[1;31m---------------------------------------------------------------------------\u001B[0m",
      "\u001B[1;31mIndexError\u001B[0m                                Traceback (most recent call last)",
      "Cell \u001B[1;32mIn[3], line 4\u001B[0m\n\u001B[0;32m      1\u001B[0m l \u001B[38;5;241m=\u001B[39m [\u001B[38;5;241m1\u001B[39m, \u001B[38;5;241m2\u001B[39m, \u001B[38;5;241m3\u001B[39m, \u001B[38;5;241m4\u001B[39m, \u001B[38;5;241m5\u001B[39m]\n\u001B[0;32m      3\u001B[0m \u001B[38;5;28;01mwhile\u001B[39;00m \u001B[38;5;28;01mTrue\u001B[39;00m:\n\u001B[1;32m----> 4\u001B[0m     \u001B[38;5;28mprint\u001B[39m(\u001B[43ml\u001B[49m\u001B[38;5;241;43m.\u001B[39;49m\u001B[43mpop\u001B[49m\u001B[43m(\u001B[49m\u001B[43m)\u001B[49m)\n\u001B[0;32m      6\u001B[0m \u001B[38;5;28mprint\u001B[39m(\u001B[38;5;124m'\u001B[39m\u001B[38;5;124mall done.\u001B[39m\u001B[38;5;124m'\u001B[39m)\n",
      "\u001B[1;31mIndexError\u001B[0m: pop from empty list"
     ]
    }
   ],
   "execution_count": 3
  },
  {
   "cell_type": "markdown",
   "metadata": {},
   "source": [
    "As you can see an exception (`IndexError`) was raised, and our code was terminated (the `print` statement never executed)."
   ]
  },
  {
   "cell_type": "markdown",
   "metadata": {},
   "source": [
    "Now, let's add an exception handler for an `IndexError`:"
   ]
  },
  {
   "cell_type": "code",
   "metadata": {
    "ExecuteTime": {
     "end_time": "2025-06-17T19:50:48.473658Z",
     "start_time": "2025-06-17T19:50:48.467900Z"
    }
   },
   "source": [
    "l = [1, 2, 3, 4, 5]\n",
    "\n",
    "try:\n",
    "    while True:\n",
    "        print(l.pop())\n",
    "except IndexError:\n",
    "    # index error means our list is empty - that was expected to happen\n",
    "    print('all done')"
   ],
   "outputs": [
    {
     "name": "stdout",
     "output_type": "stream",
     "text": [
      "5\n",
      "4\n",
      "3\n",
      "2\n",
      "1\n",
      "all done\n"
     ]
    }
   ],
   "execution_count": 4
  },
  {
   "cell_type": "markdown",
   "metadata": {},
   "source": [
    "As you can see, the `print('all done')` statement was executed.\n",
    "\n",
    "This was a case where we were expecting an exception, specifically an `IndexError` exception to happen - and we knew how to handle it - we printed something and let our code resume normally."
   ]
  },
  {
   "cell_type": "markdown",
   "metadata": {},
   "source": [
    "Now, we could have trapped it using a broader exception, such as `LookupError`, or even `Exception`:"
   ]
  },
  {
   "cell_type": "code",
   "metadata": {
    "ExecuteTime": {
     "end_time": "2025-06-17T19:50:49.886050Z",
     "start_time": "2025-06-17T19:50:49.879051Z"
    }
   },
   "source": [
    "l = [1, 2, 3, 4, 5]\n",
    "\n",
    "try:\n",
    "    while True:\n",
    "        print(l.pop())\n",
    "except Exception:\n",
    "    # hmm, was this an index error, or possibly something else...\n",
    "    # how do we handle this?\n",
    "    print('something unexpected may have happened')"
   ],
   "outputs": [
    {
     "name": "stdout",
     "output_type": "stream",
     "text": [
      "5\n",
      "4\n",
      "3\n",
      "2\n",
      "1\n",
      "something unexpected may have happened\n"
     ]
    }
   ],
   "execution_count": 5
  },
  {
   "cell_type": "markdown",
   "metadata": {},
   "source": [
    "Now, we can't just assume that the Exception will always be an `IndexError` - if it is, great, that's expected and we know what to do. But what if it was something else? So, something like this is a **bad** idea:"
   ]
  },
  {
   "cell_type": "code",
   "metadata": {
    "ExecuteTime": {
     "end_time": "2025-06-17T19:50:50.617422Z",
     "start_time": "2025-06-17T19:50:50.610320Z"
    }
   },
   "source": [
    "l = [1, 2, 3, 4, 5]\n",
    "\n",
    "try:\n",
    "    while True:\n",
    "        print(l.pop())\n",
    "except Exception:\n",
    "    print('all done')"
   ],
   "outputs": [
    {
     "name": "stdout",
     "output_type": "stream",
     "text": [
      "5\n",
      "4\n",
      "3\n",
      "2\n",
      "1\n",
      "all done\n"
     ]
    }
   ],
   "execution_count": 6
  },
  {
   "cell_type": "markdown",
   "metadata": {},
   "source": [
    "It actually worked correctly in this case, but what about this:"
   ]
  },
  {
   "cell_type": "code",
   "metadata": {
    "ExecuteTime": {
     "end_time": "2025-06-17T19:50:51.721883Z",
     "start_time": "2025-06-17T19:50:51.715887Z"
    }
   },
   "source": [
    "l = (1, 2, 3, 4, 5)\n",
    "\n",
    "try:\n",
    "    while True:\n",
    "        print(l.pop())\n",
    "except Exception:\n",
    "    print('all done')"
   ],
   "outputs": [
    {
     "name": "stdout",
     "output_type": "stream",
     "text": [
      "all done\n"
     ]
    }
   ],
   "execution_count": 7
  },
  {
   "cell_type": "markdown",
   "metadata": {},
   "source": [
    "Hmm - as you can see, we printed `all done`, as if the code had worked correctly, when in fact something else happened - and we failed to recognize it."
   ]
  },
  {
   "cell_type": "markdown",
   "metadata": {},
   "source": [
    "Can you figure out what actually went wrong here?"
   ]
  },
  {
   "cell_type": "markdown",
   "metadata": {},
   "source": [
    "(Hint: what's the type of `l` in this example?)"
   ]
  },
  {
   "cell_type": "markdown",
   "metadata": {},
   "source": [
    "Instead we should make our exception handlers as specific as possible:"
   ]
  },
  {
   "cell_type": "code",
   "metadata": {
    "ExecuteTime": {
     "end_time": "2025-06-17T19:50:56.640631Z",
     "start_time": "2025-06-17T19:50:56.621410Z"
    }
   },
   "source": [
    "l = (1, 2, 3, 4, 5)\n",
    "\n",
    "try:\n",
    "    while True:\n",
    "        print(l.pop())\n",
    "except IndexError:\n",
    "    print('all done')"
   ],
   "outputs": [
    {
     "ename": "AttributeError",
     "evalue": "'tuple' object has no attribute 'pop'",
     "output_type": "error",
     "traceback": [
      "\u001B[1;31m---------------------------------------------------------------------------\u001B[0m",
      "\u001B[1;31mAttributeError\u001B[0m                            Traceback (most recent call last)",
      "Cell \u001B[1;32mIn[8], line 5\u001B[0m\n\u001B[0;32m      3\u001B[0m \u001B[38;5;28;01mtry\u001B[39;00m:\n\u001B[0;32m      4\u001B[0m     \u001B[38;5;28;01mwhile\u001B[39;00m \u001B[38;5;28;01mTrue\u001B[39;00m:\n\u001B[1;32m----> 5\u001B[0m         \u001B[38;5;28mprint\u001B[39m(\u001B[43ml\u001B[49m\u001B[38;5;241;43m.\u001B[39;49m\u001B[43mpop\u001B[49m())\n\u001B[0;32m      6\u001B[0m \u001B[38;5;28;01mexcept\u001B[39;00m \u001B[38;5;167;01mIndexError\u001B[39;00m:\n\u001B[0;32m      7\u001B[0m     \u001B[38;5;28mprint\u001B[39m(\u001B[38;5;124m'\u001B[39m\u001B[38;5;124mall done\u001B[39m\u001B[38;5;124m'\u001B[39m)\n",
      "\u001B[1;31mAttributeError\u001B[0m: 'tuple' object has no attribute 'pop'"
     ]
    }
   ],
   "execution_count": 8
  },
  {
   "cell_type": "markdown",
   "metadata": {},
   "source": [
    "Now, our code will work properly when it encounters an `IndexError`, and will fail, as it should, when it encounters something else - much easier to debug our code!"
   ]
  },
  {
   "cell_type": "markdown",
   "metadata": {},
   "source": [
    "We can actually trap multiple exception types in our handlers."
   ]
  },
  {
   "cell_type": "markdown",
   "metadata": {},
   "source": [
    "First let's see what happens if we try to add a string to an integer say:"
   ]
  },
  {
   "cell_type": "code",
   "metadata": {
    "ExecuteTime": {
     "end_time": "2025-06-17T19:50:58.579627Z",
     "start_time": "2025-06-17T19:50:58.563425Z"
    }
   },
   "source": [
    "10 + 'abc'"
   ],
   "outputs": [
    {
     "ename": "TypeError",
     "evalue": "unsupported operand type(s) for +: 'int' and 'str'",
     "output_type": "error",
     "traceback": [
      "\u001B[1;31m---------------------------------------------------------------------------\u001B[0m",
      "\u001B[1;31mTypeError\u001B[0m                                 Traceback (most recent call last)",
      "Cell \u001B[1;32mIn[9], line 1\u001B[0m\n\u001B[1;32m----> 1\u001B[0m \u001B[38;5;241;43m10\u001B[39;49m\u001B[43m \u001B[49m\u001B[38;5;241;43m+\u001B[39;49m\u001B[43m \u001B[49m\u001B[38;5;124;43m'\u001B[39;49m\u001B[38;5;124;43mabc\u001B[39;49m\u001B[38;5;124;43m'\u001B[39;49m\n",
      "\u001B[1;31mTypeError\u001B[0m: unsupported operand type(s) for +: 'int' and 'str'"
     ]
    }
   ],
   "execution_count": 9
  },
  {
   "cell_type": "markdown",
   "metadata": {},
   "source": [
    "We get a `TypeError`."
   ]
  },
  {
   "cell_type": "markdown",
   "metadata": {},
   "source": [
    "Now suppose we are given a list (from somewhere) that contains data we want to average."
   ]
  },
  {
   "cell_type": "markdown",
   "metadata": {},
   "source": [
    "We may not have control over the data in that list, but we may not want out program to fail if the list contains non-numeric data - we may want to set the average to zero and move on."
   ]
  },
  {
   "cell_type": "markdown",
   "metadata": {},
   "source": [
    "Additionally, we may get an empty list - in which case we're going to run into an issue trying to calculate the average (a division by zero exception possibly):"
   ]
  },
  {
   "cell_type": "markdown",
   "metadata": {},
   "source": [
    "The naive way to implement this, without exception handling might be:"
   ]
  },
  {
   "cell_type": "code",
   "metadata": {
    "ExecuteTime": {
     "end_time": "2025-06-17T19:51:01.833361Z",
     "start_time": "2025-06-17T19:51:01.827355Z"
    }
   },
   "source": [
    "data = [10, 20, 10, 10, 5, 10]\n",
    "\n",
    "sum_data = 0\n",
    "count_data = 0\n",
    "\n",
    "for element in data:\n",
    "    sum_data = sum_data + element\n",
    "    count_data = count_data + 1\n",
    "    \n",
    "average = sum_data / count_data\n",
    "print(f'average = {average}')"
   ],
   "outputs": [
    {
     "name": "stdout",
     "output_type": "stream",
     "text": [
      "average = 10.833333333333334\n"
     ]
    }
   ],
   "execution_count": 10
  },
  {
   "cell_type": "markdown",
   "metadata": {},
   "source": [
    "That worked just fine, but what happens if our list is empty?"
   ]
  },
  {
   "cell_type": "code",
   "metadata": {
    "ExecuteTime": {
     "end_time": "2025-06-17T19:51:02.851160Z",
     "start_time": "2025-06-17T19:51:02.830424Z"
    }
   },
   "source": [
    "data = []\n",
    "\n",
    "sum_data = 0\n",
    "count_data = 0\n",
    "\n",
    "for element in data:\n",
    "    sum_data = sum_data + element\n",
    "    count_data = count_data + 1\n",
    "    \n",
    "average = sum_data / count_data\n",
    "print(f'average = {average}')"
   ],
   "outputs": [
    {
     "ename": "ZeroDivisionError",
     "evalue": "division by zero",
     "output_type": "error",
     "traceback": [
      "\u001B[1;31m---------------------------------------------------------------------------\u001B[0m",
      "\u001B[1;31mZeroDivisionError\u001B[0m                         Traceback (most recent call last)",
      "Cell \u001B[1;32mIn[11], line 10\u001B[0m\n\u001B[0;32m      7\u001B[0m     sum_data \u001B[38;5;241m=\u001B[39m sum_data \u001B[38;5;241m+\u001B[39m element\n\u001B[0;32m      8\u001B[0m     count_data \u001B[38;5;241m=\u001B[39m count_data \u001B[38;5;241m+\u001B[39m \u001B[38;5;241m1\u001B[39m\n\u001B[1;32m---> 10\u001B[0m average \u001B[38;5;241m=\u001B[39m \u001B[43msum_data\u001B[49m\u001B[43m \u001B[49m\u001B[38;5;241;43m/\u001B[39;49m\u001B[43m \u001B[49m\u001B[43mcount_data\u001B[49m\n\u001B[0;32m     11\u001B[0m \u001B[38;5;28mprint\u001B[39m(\u001B[38;5;124mf\u001B[39m\u001B[38;5;124m'\u001B[39m\u001B[38;5;124maverage = \u001B[39m\u001B[38;5;132;01m{\u001B[39;00maverage\u001B[38;5;132;01m}\u001B[39;00m\u001B[38;5;124m'\u001B[39m)\n",
      "\u001B[1;31mZeroDivisionError\u001B[0m: division by zero"
     ]
    }
   ],
   "execution_count": 11
  },
  {
   "cell_type": "markdown",
   "metadata": {},
   "source": [
    "We get a `ZeroDivisionError` - we could fix this by using a LBYL approach:"
   ]
  },
  {
   "cell_type": "code",
   "metadata": {
    "ExecuteTime": {
     "end_time": "2025-06-17T19:51:03.808637Z",
     "start_time": "2025-06-17T19:51:03.803554Z"
    }
   },
   "source": [
    "data = []\n",
    "\n",
    "if len(data) == 0:\n",
    "    average = 0\n",
    "else:\n",
    "    sum_data = 0\n",
    "    count_data = 0\n",
    "\n",
    "    for element in data:\n",
    "        sum_data = sum_data + element\n",
    "        count_data = count_data + 1\n",
    "\n",
    "    average = sum_data / count_data\n",
    "print(f'average = {average}')"
   ],
   "outputs": [
    {
     "name": "stdout",
     "output_type": "stream",
     "text": [
      "average = 0\n"
     ]
    }
   ],
   "execution_count": 12
  },
  {
   "cell_type": "markdown",
   "metadata": {},
   "source": [
    "So now that works fine - but what about if one of the elements is not a number?"
   ]
  },
  {
   "cell_type": "markdown",
   "metadata": {},
   "source": [
    "We would have to test for that - but that's actually complicated, and in reality, we are just looking for the ability to sum up the elements and divide them by their count - irrespective of whether they are floats, integers, complex numbers, etc."
   ]
  },
  {
   "cell_type": "markdown",
   "metadata": {},
   "source": [
    "So, instead of testing things at every loop, or maybe testing things before we even run the averaging code, we use EAFP and just do it, using exception handlers to handle two exceptions we expect may happen - `ZeroDivisionError` and `TypeError`, and importantly, that we know how to handle.\n",
    "\n",
    "We could do it this way:"
   ]
  },
  {
   "cell_type": "code",
   "metadata": {
    "ExecuteTime": {
     "end_time": "2025-06-17T19:51:05.831599Z",
     "start_time": "2025-06-17T19:51:05.825676Z"
    }
   },
   "source": [
    "data = []\n",
    "\n",
    "sum_data = 0\n",
    "count_data = 0\n",
    "\n",
    "try:\n",
    "    for element in data:\n",
    "        sum_data = sum_data + element\n",
    "        count_data = count_data + 1\n",
    "\n",
    "    average = sum_data / count_data\n",
    "except ZeroDivisionError:\n",
    "    average = 0\n",
    "except TypeError:\n",
    "    # hmm. what to do here?\n",
    "    average = 0\n",
    "print(f'average = {average}')"
   ],
   "outputs": [
    {
     "name": "stdout",
     "output_type": "stream",
     "text": [
      "average = 0\n"
     ]
    }
   ],
   "execution_count": 13
  },
  {
   "cell_type": "code",
   "metadata": {
    "ExecuteTime": {
     "end_time": "2025-06-17T19:51:06.348466Z",
     "start_time": "2025-06-17T19:51:06.342847Z"
    }
   },
   "source": [
    "data = [10, 20, 'a']\n",
    "\n",
    "sum_data = 0\n",
    "count_data = 0\n",
    "\n",
    "try:\n",
    "    for element in data:\n",
    "        sum_data = sum_data + element\n",
    "        count_data = count_data + 1\n",
    "\n",
    "    average = sum_data / count_data\n",
    "except ZeroDivisionError:\n",
    "    average = 0\n",
    "except TypeError:\n",
    "    # hmm. what to do here?\n",
    "    average = 0\n",
    "print(f'average = {average}')"
   ],
   "outputs": [
    {
     "name": "stdout",
     "output_type": "stream",
     "text": [
      "average = 0\n"
     ]
    }
   ],
   "execution_count": 14
  },
  {
   "cell_type": "markdown",
   "metadata": {},
   "source": [
    "So that worked, but maybe we'd prefer to just \"skip\" elements that can't be added.\n",
    "\n",
    "So, we could do this instead:"
   ]
  },
  {
   "cell_type": "code",
   "metadata": {
    "ExecuteTime": {
     "end_time": "2025-06-17T19:51:07.385846Z",
     "start_time": "2025-06-17T19:51:07.380515Z"
    }
   },
   "source": [
    "data = [10, 20, 'a']\n",
    "\n",
    "sum_data = 0\n",
    "count_data = 0\n",
    "\n",
    "try:\n",
    "    for element in data:\n",
    "        try:\n",
    "            sum_data = sum_data + element\n",
    "            count_data = count_data + 1\n",
    "        except TypeError:\n",
    "            # skip element - so do nothing\n",
    "            pass\n",
    "\n",
    "    average = sum_data / count_data\n",
    "except ZeroDivisionError:\n",
    "    average = 0\n",
    "\n",
    "print(f'average = {average}')"
   ],
   "outputs": [
    {
     "name": "stdout",
     "output_type": "stream",
     "text": [
      "average = 15.0\n"
     ]
    }
   ],
   "execution_count": 15
  },
  {
   "cell_type": "code",
   "metadata": {
    "ExecuteTime": {
     "end_time": "2025-06-17T19:51:07.861349Z",
     "start_time": "2025-06-17T19:51:07.854901Z"
    }
   },
   "source": [
    "data = []\n",
    "\n",
    "sum_data = 0\n",
    "count_data = 0\n",
    "\n",
    "try:\n",
    "    for element in data:\n",
    "        try:\n",
    "            sum_data = sum_data + element\n",
    "            count_data = count_data + 1\n",
    "        except TypeError:\n",
    "            # skip element - so do nothing\n",
    "            pass\n",
    "\n",
    "    average = sum_data / count_data\n",
    "except ZeroDivisionError:\n",
    "    average = 0\n",
    "\n",
    "print(f'average = {average}')"
   ],
   "outputs": [
    {
     "name": "stdout",
     "output_type": "stream",
     "text": [
      "average = 0\n"
     ]
    }
   ],
   "execution_count": 16
  },
  {
   "cell_type": "markdown",
   "metadata": {},
   "source": [
    "Generally we don't try to handle broad exceptions, because we can't really recover from them>"
   ]
  },
  {
   "cell_type": "markdown",
   "metadata": {},
   "source": [
    "But there are cases, where we are not interested in recovering from an error so much as recording the fact that the exception happened, and then either silencing the exception, or re-assign an exception (the same one or a new one)."
   ]
  },
  {
   "cell_type": "markdown",
   "metadata": {},
   "source": [
    "A typical example of this might be an exception logger where we want to catch a broad set of exceptions, log the error, and then re-start the error flow:"
   ]
  },
  {
   "cell_type": "code",
   "metadata": {
    "ExecuteTime": {
     "end_time": "2025-06-17T19:51:09.916312Z",
     "start_time": "2025-06-17T19:51:09.909786Z"
    }
   },
   "source": [
    "try:\n",
    "    1 / 0\n",
    "except Exception as ex:\n",
    "    print(f'logging error: {ex}')\n",
    "    \n",
    "print('program still running...')"
   ],
   "outputs": [
    {
     "name": "stdout",
     "output_type": "stream",
     "text": [
      "logging error: division by zero\n",
      "program still running...\n"
     ]
    }
   ],
   "execution_count": 17
  },
  {
   "cell_type": "markdown",
   "metadata": {},
   "source": [
    "With this code, we intercepted the exception and handled it - this means the exception flow was interrupted, so Python happily continues executing our code after the handler has completed.\n",
    "\n",
    "But that's not what we want - we want the exception flow to continue as if we had not interrupted it - so we need to make sure we re-raise the exception in our handler:"
   ]
  },
  {
   "cell_type": "code",
   "metadata": {
    "ExecuteTime": {
     "end_time": "2025-06-17T19:51:10.987839Z",
     "start_time": "2025-06-17T19:51:10.968549Z"
    }
   },
   "source": [
    "try:\n",
    "    1 / 0\n",
    "except Exception as ex:\n",
    "    print(f'logging error: {ex}')\n",
    "    raise  # or raise ex - same thing\n",
    "    \n",
    "print('program still running...')"
   ],
   "outputs": [
    {
     "name": "stdout",
     "output_type": "stream",
     "text": [
      "logging error: division by zero\n"
     ]
    },
    {
     "ename": "ZeroDivisionError",
     "evalue": "division by zero",
     "output_type": "error",
     "traceback": [
      "\u001B[1;31m---------------------------------------------------------------------------\u001B[0m",
      "\u001B[1;31mZeroDivisionError\u001B[0m                         Traceback (most recent call last)",
      "Cell \u001B[1;32mIn[18], line 2\u001B[0m\n\u001B[0;32m      1\u001B[0m \u001B[38;5;28;01mtry\u001B[39;00m:\n\u001B[1;32m----> 2\u001B[0m     \u001B[38;5;241;43m1\u001B[39;49m\u001B[43m \u001B[49m\u001B[38;5;241;43m/\u001B[39;49m\u001B[43m \u001B[49m\u001B[38;5;241;43m0\u001B[39;49m\n\u001B[0;32m      3\u001B[0m \u001B[38;5;28;01mexcept\u001B[39;00m \u001B[38;5;167;01mException\u001B[39;00m \u001B[38;5;28;01mas\u001B[39;00m ex:\n\u001B[0;32m      4\u001B[0m     \u001B[38;5;28mprint\u001B[39m(\u001B[38;5;124mf\u001B[39m\u001B[38;5;124m'\u001B[39m\u001B[38;5;124mlogging error: \u001B[39m\u001B[38;5;132;01m{\u001B[39;00mex\u001B[38;5;132;01m}\u001B[39;00m\u001B[38;5;124m'\u001B[39m)\n",
      "\u001B[1;31mZeroDivisionError\u001B[0m: division by zero"
     ]
    }
   ],
   "execution_count": 18
  },
  {
   "cell_type": "markdown",
   "metadata": {},
   "source": [
    "As you can see, we logged the exception, then re-raised it - and Jupyter handled it as it does normally (prints the exception, with a trace, and stops executing the remaining statements in the cell)"
   ]
  },
  {
   "cell_type": "markdown",
   "metadata": {},
   "source": [
    "We'll come back to this technique, and logging, when we study decorators later in this course."
   ]
  },
  {
   "cell_type": "markdown",
   "metadata": {},
   "source": [
    "One final thing, is the `finally` block - it is guaranteed to run no matter what happens in `try` or `except` blocks - very handy for cleaning up resources - like closing a file that's been opened, closing a database connection, etc."
   ]
  },
  {
   "cell_type": "markdown",
   "metadata": {},
   "source": [
    "We'll see this more when we study context managers, but for now let's just see how `finally` works:"
   ]
  },
  {
   "cell_type": "code",
   "metadata": {
    "ExecuteTime": {
     "end_time": "2025-06-17T19:51:13.630610Z",
     "start_time": "2025-06-17T19:51:13.624672Z"
    }
   },
   "source": [
    "try:\n",
    "    raise ValueError('custom message')\n",
    "except ValueError as ex:\n",
    "    print(f'handled a ValueError: {ex}')\n",
    "finally:\n",
    "    print('this always executes')\n",
    "    \n",
    "print('all done')"
   ],
   "outputs": [
    {
     "name": "stdout",
     "output_type": "stream",
     "text": [
      "handled a ValueError: custom message\n",
      "this always executes\n",
      "all done\n"
     ]
    }
   ],
   "execution_count": 19
  },
  {
   "cell_type": "markdown",
   "metadata": {},
   "source": [
    "If we do not handle the exception:"
   ]
  },
  {
   "cell_type": "code",
   "metadata": {
    "ExecuteTime": {
     "end_time": "2025-06-17T19:51:14.919351Z",
     "start_time": "2025-06-17T19:51:14.898033Z"
    }
   },
   "source": [
    "try:\n",
    "    raise TypeError('custom message')\n",
    "except ValueError as ex:\n",
    "    print(f'handled a ValueError: {ex}')\n",
    "finally:\n",
    "    print('this always executes')\n",
    "    \n",
    "print('all done')"
   ],
   "outputs": [
    {
     "name": "stdout",
     "output_type": "stream",
     "text": [
      "this always executes\n"
     ]
    },
    {
     "ename": "TypeError",
     "evalue": "custom message",
     "output_type": "error",
     "traceback": [
      "\u001B[1;31m---------------------------------------------------------------------------\u001B[0m",
      "\u001B[1;31mTypeError\u001B[0m                                 Traceback (most recent call last)",
      "Cell \u001B[1;32mIn[20], line 2\u001B[0m\n\u001B[0;32m      1\u001B[0m \u001B[38;5;28;01mtry\u001B[39;00m:\n\u001B[1;32m----> 2\u001B[0m     \u001B[38;5;28;01mraise\u001B[39;00m \u001B[38;5;167;01mTypeError\u001B[39;00m(\u001B[38;5;124m'\u001B[39m\u001B[38;5;124mcustom message\u001B[39m\u001B[38;5;124m'\u001B[39m)\n\u001B[0;32m      3\u001B[0m \u001B[38;5;28;01mexcept\u001B[39;00m \u001B[38;5;167;01mValueError\u001B[39;00m \u001B[38;5;28;01mas\u001B[39;00m ex:\n\u001B[0;32m      4\u001B[0m     \u001B[38;5;28mprint\u001B[39m(\u001B[38;5;124mf\u001B[39m\u001B[38;5;124m'\u001B[39m\u001B[38;5;124mhandled a ValueError: \u001B[39m\u001B[38;5;132;01m{\u001B[39;00mex\u001B[38;5;132;01m}\u001B[39;00m\u001B[38;5;124m'\u001B[39m)\n",
      "\u001B[1;31mTypeError\u001B[0m: custom message"
     ]
    }
   ],
   "execution_count": 20
  },
  {
   "cell_type": "markdown",
   "metadata": {},
   "source": [
    "As you can see, the exception was unhandled, but the `finally` block still ran."
   ]
  },
  {
   "cell_type": "markdown",
   "metadata": {},
   "source": [
    "Same thing happens if we catch the exception and raise it (or a new one):"
   ]
  },
  {
   "cell_type": "code",
   "metadata": {
    "ExecuteTime": {
     "end_time": "2025-06-17T19:51:16.827704Z",
     "start_time": "2025-06-17T19:51:16.795880Z"
    }
   },
   "source": [
    "try:\n",
    "    raise ValueError('some value error')\n",
    "except ValueError as ex:\n",
    "    print(f'handled a ValueError: {ex}')\n",
    "    raise TypeError('changing to a type error')\n",
    "finally:\n",
    "    print('this always executes')\n",
    "    \n",
    "print('all done')"
   ],
   "outputs": [
    {
     "name": "stdout",
     "output_type": "stream",
     "text": [
      "handled a ValueError: some value error\n",
      "this always executes\n"
     ]
    },
    {
     "ename": "TypeError",
     "evalue": "changing to a type error",
     "output_type": "error",
     "traceback": [
      "\u001B[1;31m---------------------------------------------------------------------------\u001B[0m",
      "\u001B[1;31mValueError\u001B[0m                                Traceback (most recent call last)",
      "Cell \u001B[1;32mIn[21], line 2\u001B[0m\n\u001B[0;32m      1\u001B[0m \u001B[38;5;28;01mtry\u001B[39;00m:\n\u001B[1;32m----> 2\u001B[0m     \u001B[38;5;28;01mraise\u001B[39;00m \u001B[38;5;167;01mValueError\u001B[39;00m(\u001B[38;5;124m'\u001B[39m\u001B[38;5;124msome value error\u001B[39m\u001B[38;5;124m'\u001B[39m)\n\u001B[0;32m      3\u001B[0m \u001B[38;5;28;01mexcept\u001B[39;00m \u001B[38;5;167;01mValueError\u001B[39;00m \u001B[38;5;28;01mas\u001B[39;00m ex:\n",
      "\u001B[1;31mValueError\u001B[0m: some value error",
      "\nDuring handling of the above exception, another exception occurred:\n",
      "\u001B[1;31mTypeError\u001B[0m                                 Traceback (most recent call last)",
      "Cell \u001B[1;32mIn[21], line 5\u001B[0m\n\u001B[0;32m      3\u001B[0m \u001B[38;5;28;01mexcept\u001B[39;00m \u001B[38;5;167;01mValueError\u001B[39;00m \u001B[38;5;28;01mas\u001B[39;00m ex:\n\u001B[0;32m      4\u001B[0m     \u001B[38;5;28mprint\u001B[39m(\u001B[38;5;124mf\u001B[39m\u001B[38;5;124m'\u001B[39m\u001B[38;5;124mhandled a ValueError: \u001B[39m\u001B[38;5;132;01m{\u001B[39;00mex\u001B[38;5;132;01m}\u001B[39;00m\u001B[38;5;124m'\u001B[39m)\n\u001B[1;32m----> 5\u001B[0m     \u001B[38;5;28;01mraise\u001B[39;00m \u001B[38;5;167;01mTypeError\u001B[39;00m(\u001B[38;5;124m'\u001B[39m\u001B[38;5;124mchanging to a type error\u001B[39m\u001B[38;5;124m'\u001B[39m)\n\u001B[0;32m      6\u001B[0m \u001B[38;5;28;01mfinally\u001B[39;00m:\n\u001B[0;32m      7\u001B[0m     \u001B[38;5;28mprint\u001B[39m(\u001B[38;5;124m'\u001B[39m\u001B[38;5;124mthis always executes\u001B[39m\u001B[38;5;124m'\u001B[39m)\n",
      "\u001B[1;31mTypeError\u001B[0m: changing to a type error"
     ]
    }
   ],
   "execution_count": 21
  },
  {
   "cell_type": "markdown",
   "metadata": {},
   "source": [
    "Again, the `finally` block ran.\n",
    "\n",
    "Same thing if no exception happens:"
   ]
  },
  {
   "cell_type": "code",
   "metadata": {
    "ExecuteTime": {
     "end_time": "2025-06-17T19:51:17.947603Z",
     "start_time": "2025-06-17T19:51:17.941257Z"
    }
   },
   "source": [
    "try:\n",
    "    print('Nothing to see here...')\n",
    "except ValueError as ex:\n",
    "    print(f'handled a ValueError: {ex}')\n",
    "finally:\n",
    "    print('this always executes')\n",
    "    \n",
    "print('all done')"
   ],
   "outputs": [
    {
     "name": "stdout",
     "output_type": "stream",
     "text": [
      "Nothing to see here...\n",
      "this always executes\n",
      "all done\n"
     ]
    }
   ],
   "execution_count": 22
  }
 ],
 "metadata": {
  "kernelspec": {
   "display_name": "Python 3",
   "language": "python",
   "name": "python3"
  },
  "language_info": {
   "codemirror_mode": {
    "name": "ipython",
    "version": 3
   },
   "file_extension": ".py",
   "mimetype": "text/x-python",
   "name": "python",
   "nbconvert_exporter": "python",
   "pygments_lexer": "ipython3",
   "version": "3.9.1"
  }
 },
 "nbformat": 4,
 "nbformat_minor": 4
}
