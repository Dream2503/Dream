{
 "cells": [
  {
   "cell_type": "markdown",
   "metadata": {},
   "source": [
    "### Writing CSV Files"
   ]
  },
  {
   "cell_type": "markdown",
   "metadata": {},
   "source": [
    "The csv module also offers functionality to write out CSV files. We just specify the dialect we want to use, and the `csv.writer` will take care of the rest."
   ]
  },
  {
   "cell_type": "markdown",
   "metadata": {},
   "source": [
    "For example, suppose we have this data in our Python application, and we want to write it out as a CSV file."
   ]
  },
  {
   "cell_type": "code",
   "metadata": {
    "ExecuteTime": {
     "end_time": "2025-06-18T04:56:15.719824Z",
     "start_time": "2025-06-18T04:56:15.713842Z"
    }
   },
   "source": [
    "data = [\n",
    "    ['First Name', 'Last Name', 'DOB', 'Sketches'],\n",
    "    ['John', 'Cleese', '10/27/39', \"The Cheese Shop, Ministry of Silly Walks, It's the Arts\"],\n",
    "    ['Eric', 'Idle', '3/29/43', 'The Cheese Shop, Nudge Nudge, \"Spam\"'],\n",
    "    ['Peter', \"O'Toole\", '8/2/32', 'Lawrence of Arabia']\n",
    "]"
   ],
   "outputs": [],
   "execution_count": 1
  },
  {
   "cell_type": "markdown",
   "metadata": {},
   "source": [
    "The `csv.write` function, similarly to the `csv.read` function expects the file we want to write out to as its first argument, then we can specify a dialect (default is `excel`), and/or specify specific CSV settings."
   ]
  },
  {
   "cell_type": "code",
   "metadata": {
    "ExecuteTime": {
     "end_time": "2025-06-18T04:56:16.027742Z",
     "start_time": "2025-06-18T04:56:16.022723Z"
    }
   },
   "source": [
    "import csv"
   ],
   "outputs": [],
   "execution_count": 2
  },
  {
   "cell_type": "code",
   "metadata": {
    "ExecuteTime": {
     "end_time": "2025-06-18T04:56:16.050999Z",
     "start_time": "2025-06-18T04:56:16.044459Z"
    }
   },
   "source": [
    "with open('test.csv', 'w') as f:\n",
    "    writer = csv.writer(f)\n",
    "    for row in data:\n",
    "        writer.writerow(row)"
   ],
   "outputs": [],
   "execution_count": 3
  },
  {
   "cell_type": "markdown",
   "metadata": {},
   "source": [
    "And let's see what we wrote out:"
   ]
  },
  {
   "cell_type": "code",
   "metadata": {
    "ExecuteTime": {
     "end_time": "2025-06-18T04:56:16.119760Z",
     "start_time": "2025-06-18T04:56:16.112801Z"
    }
   },
   "source": [
    "with open('test.csv') as f:\n",
    "    for row in f:\n",
    "        print(row, end='')"
   ],
   "outputs": [
    {
     "name": "stdout",
     "output_type": "stream",
     "text": [
      "First Name,Last Name,DOB,Sketches\n",
      "\n",
      "John,Cleese,10/27/39,\"The Cheese Shop, Ministry of Silly Walks, It's the Arts\"\n",
      "\n",
      "Eric,Idle,3/29/43,\"The Cheese Shop, Nudge Nudge, \"\"Spam\"\"\"\n",
      "\n",
      "Peter,O'Toole,8/2/32,Lawrence of Arabia\n",
      "\n"
     ]
    }
   ],
   "execution_count": 4
  },
  {
   "cell_type": "markdown",
   "metadata": {},
   "source": [
    "Of course, we can specify a different dialect if we wanted to, like that `pdv` dialect we defined earlier:"
   ]
  },
  {
   "cell_type": "code",
   "metadata": {
    "ExecuteTime": {
     "end_time": "2025-06-18T04:56:16.194985Z",
     "start_time": "2025-06-18T04:56:16.189471Z"
    }
   },
   "source": [
    "csv.register_dialect(\n",
    "    'pdv', \n",
    "    delimiter='|', \n",
    "    quotechar = \"'\", \n",
    "    escapechar=\"\\\\\",\n",
    "    doublequote=False\n",
    ")"
   ],
   "outputs": [],
   "execution_count": 5
  },
  {
   "cell_type": "code",
   "metadata": {
    "ExecuteTime": {
     "end_time": "2025-06-18T04:56:16.237500Z",
     "start_time": "2025-06-18T04:56:16.231754Z"
    }
   },
   "source": [
    "with open('test.csv', 'w') as f:\n",
    "    writer = csv.writer(f, dialect='pdv')\n",
    "    for row in data:\n",
    "        writer.writerow(row)"
   ],
   "outputs": [],
   "execution_count": 6
  },
  {
   "cell_type": "code",
   "metadata": {
    "ExecuteTime": {
     "end_time": "2025-06-18T04:56:16.270834Z",
     "start_time": "2025-06-18T04:56:16.264232Z"
    }
   },
   "source": [
    "with open('test.csv') as f:\n",
    "    for row in f:\n",
    "        print(row, end='')"
   ],
   "outputs": [
    {
     "name": "stdout",
     "output_type": "stream",
     "text": [
      "First Name|Last Name|DOB|Sketches\n",
      "\n",
      "John|Cleese|10/27/39|The Cheese Shop, Ministry of Silly Walks, It\\'s the Arts\n",
      "\n",
      "Eric|Idle|3/29/43|The Cheese Shop, Nudge Nudge, \"Spam\"\n",
      "\n",
      "Peter|O\\'Toole|8/2/32|Lawrence of Arabia\n",
      "\n"
     ]
    }
   ],
   "execution_count": 7
  },
  {
   "cell_type": "markdown",
   "metadata": {},
   "source": [
    "Of course, if you want to be as compatible as possible, stick with the `excel` dialect!"
   ]
  }
 ],
 "metadata": {
  "kernelspec": {
   "display_name": "Python 3",
   "language": "python",
   "name": "python3"
  },
  "language_info": {
   "codemirror_mode": {
    "name": "ipython",
    "version": 3
   },
   "file_extension": ".py",
   "mimetype": "text/x-python",
   "name": "python",
   "nbconvert_exporter": "python",
   "pygments_lexer": "ipython3",
   "version": "3.9.1"
  }
 },
 "nbformat": 4,
 "nbformat_minor": 4
}
