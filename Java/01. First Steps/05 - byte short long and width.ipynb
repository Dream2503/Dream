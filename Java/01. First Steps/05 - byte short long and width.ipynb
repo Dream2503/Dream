{
 "cells": [
  {
   "cell_type": "code",
   "execution_count": 1,
   "metadata": {},
   "outputs": [
    {
     "name": "stdout",
     "output_type": "stream",
     "text": [
      "Integer Value Range (-2147483648 to 2147483647)"
     ]
    }
   ],
   "source": [
    "System.out.print(\"Integer Value Range (\" + Integer.MIN_VALUE + \" to \" + Integer.MAX_VALUE + \")\");"
   ]
  },
  {
   "cell_type": "code",
   "execution_count": 2,
   "metadata": {},
   "outputs": [
    {
     "name": "stdout",
     "output_type": "stream",
     "text": [
      "Byte Value Range (-128 to 127)"
     ]
    }
   ],
   "source": [
    "System.out.print(\"Byte Value Range (\" + Byte.MIN_VALUE + \" to \" + Byte.MAX_VALUE + \")\");"
   ]
  },
  {
   "cell_type": "code",
   "execution_count": 3,
   "metadata": {},
   "outputs": [
    {
     "name": "stdout",
     "output_type": "stream",
     "text": [
      "Short Value Range (-32768 to 32767)"
     ]
    }
   ],
   "source": [
    "System.out.print(\"Short Value Range (\" + Short.MIN_VALUE + \" to \" + Short.MAX_VALUE + \")\");"
   ]
  },
  {
   "cell_type": "code",
   "execution_count": null,
   "metadata": {},
   "outputs": [
    {
     "name": "stdout",
     "output_type": "stream",
     "text": [
      "100"
     ]
    }
   ],
   "source": [
    "long myLongValue = 100L;\n",
    "myLongValue"
   ]
  },
  {
   "cell_type": "code",
   "execution_count": 5,
   "metadata": {},
   "outputs": [
    {
     "name": "stdout",
     "output_type": "stream",
     "text": [
      "A long has a width of 64"
     ]
    }
   ],
   "source": [
    "System.out.print(\"A long has a width of \" + Long.SIZE);"
   ]
  },
  {
   "cell_type": "code",
   "execution_count": 6,
   "metadata": {},
   "outputs": [
    {
     "name": "stdout",
     "output_type": "stream",
     "text": [
      "Long Value Range (-9223372036854775808 to 9223372036854775807)"
     ]
    }
   ],
   "source": [
    "System.out.print(\"Long Value Range (\" + Long.MIN_VALUE + \" to \" + Long.MAX_VALUE + \")\");"
   ]
  },
  {
   "cell_type": "code",
   "execution_count": null,
   "metadata": {},
   "outputs": [
    {
     "name": "stdout",
     "output_type": "stream",
     "text": [
      "100"
     ]
    }
   ],
   "source": [
    "myLongValue = 100;\n",
    "myLongValue"
   ]
  },
  {
   "cell_type": "code",
   "execution_count": null,
   "metadata": {},
   "outputs": [
    {
     "name": "stdout",
     "output_type": "stream",
     "text": [
      "2147483647"
     ]
    }
   ],
   "source": [
    "long bigLongLiteralValue = 2_147_483_647;\n",
    "bigLongLiteralValue"
   ]
  },
  {
   "cell_type": "code",
   "execution_count": null,
   "metadata": {},
   "outputs": [
    {
     "ename": "CompilationException",
     "evalue": "",
     "output_type": "error",
     "traceback": [
      "\u001b[1m\u001b[30m|   \u001b[1m\u001b[30mlong bigLongLiteralValue = \u001b[0m\u001b[1m\u001b[30m\u001b[41m\u001b[0m\u001b[1m\u001b[30m2_147_483_647_234;\u001b[0m",
      "\u001b[1m\u001b[31minteger number too large\u001b[0m",
      ""
     ]
    }
   ],
   "source": [
    "long bigLongLiteralValue = 2_147_483_647_234;\n",
    "bigLongLiteralValue"
   ]
  },
  {
   "cell_type": "code",
   "execution_count": null,
   "metadata": {},
   "outputs": [
    {
     "name": "stdout",
     "output_type": "stream",
     "text": [
      "2147483647234"
     ]
    }
   ],
   "source": [
    "long bigLongLiteralValue = 2_147_483_647_234L;\n",
    "bigLongLiteralValue"
   ]
  },
  {
   "cell_type": "code",
   "execution_count": null,
   "metadata": {},
   "outputs": [
    {
     "ename": "CompilationException",
     "evalue": "",
     "output_type": "error",
     "traceback": [
      "\u001b[1m\u001b[30m|   \u001b[1m\u001b[30mshort bigShortLiteralValue = \u001b[0m\u001b[1m\u001b[30m\u001b[41m32768\u001b[0m\u001b[1m\u001b[30m;\u001b[0m",
      "\u001b[1m\u001b[31mincompatible types: possible lossy conversion from int to short\u001b[0m",
      ""
     ]
    }
   ],
   "source": [
    "short bigShortLiteralValue = 32768;\n",
    "bigShortLiteralValue"
   ]
  },
  {
   "cell_type": "code",
   "execution_count": null,
   "metadata": {},
   "outputs": [
    {
     "name": "stdout",
     "output_type": "stream",
     "text": [
      "32767"
     ]
    }
   ],
   "source": [
    "short bigShortLiteralValue = 32767;\n",
    "bigShortLiteralValue"
   ]
  }
 ],
 "metadata": {
  "kernelspec": {
   "display_name": "Java",
   "language": "java",
   "name": "java"
  },
  "language_info": {
   "codemirror_mode": "java",
   "file_extension": ".jshell",
   "mimetype": "text/x-java-source",
   "name": "java",
   "pygments_lexer": "java",
   "version": "17.0.13+11"
  }
 },
 "nbformat": 4,
 "nbformat_minor": 2
}
