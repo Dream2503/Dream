{
 "cells": [
  {
   "cell_type": "code",
   "execution_count": 1,
   "metadata": {},
   "outputs": [
    {
     "name": "stdout",
     "output_type": "stream",
     "text": [
      "Float Value Range (1.4E-45 to 3.4028235E38)"
     ]
    }
   ],
   "source": [
    "System.out.print(\"Float Value Range (\" + Float.MIN_VALUE + \" to \" + Float.MAX_VALUE + \")\");"
   ]
  },
  {
   "cell_type": "code",
   "execution_count": 2,
   "metadata": {},
   "outputs": [
    {
     "name": "stdout",
     "output_type": "stream",
     "text": [
      "Double Value Range (4.9E-324 to 1.7976931348623157E308)"
     ]
    }
   ],
   "source": [
    "System.out.print(\"Double Value Range (\" + Double.MIN_VALUE + \" to \" + Double.MAX_VALUE + \")\");"
   ]
  },
  {
   "cell_type": "code",
   "execution_count": 3,
   "metadata": {},
   "outputs": [
    {
     "name": "stdout",
     "output_type": "stream",
     "text": [
      "5\n",
      "5.0\n",
      "5.0\n"
     ]
    }
   ],
   "source": [
    "int myIntValue = 5; float myFloatValue = 5; double myDoubleValue = 5;\n",
    "System.out.println(myIntValue);\n",
    "System.out.println(myFloatValue);\n",
    "System.out.println(myDoubleValue);"
   ]
  },
  {
   "cell_type": "code",
   "execution_count": null,
   "metadata": {},
   "outputs": [
    {
     "name": "stdout",
     "output_type": "stream",
     "text": [
      "5.0\n"
     ]
    }
   ],
   "source": [
    "myFloatValue = 5f;\n",
    "myFloatValue"
   ]
  },
  {
   "cell_type": "code",
   "execution_count": null,
   "metadata": {},
   "outputs": [
    {
     "name": "stdout",
     "output_type": "stream",
     "text": [
      "5.0\n"
     ]
    }
   ],
   "source": [
    "myDoubleValue = 5d;\n",
    "myDoubleValue"
   ]
  },
  {
   "cell_type": "code",
   "execution_count": null,
   "metadata": {},
   "outputs": [
    {
     "ename": "CompilationException",
     "evalue": "",
     "output_type": "error",
     "traceback": [
      "\u001b[1m\u001b[30m|   \u001b[1m\u001b[30mfloat myOtherFloatValue = \u001b[0m\u001b[1m\u001b[30m\u001b[41m5.25\u001b[0m\u001b[1m\u001b[30m;\u001b[0m",
      "\u001b[1m\u001b[31mincompatible types: possible lossy conversion from double to float\u001b[0m",
      ""
     ]
    }
   ],
   "source": [
    "float myOtherFloatValue = 5.25;\n",
    "myOtherFloatValue"
   ]
  },
  {
   "cell_type": "code",
   "execution_count": null,
   "metadata": {},
   "outputs": [
    {
     "name": "stdout",
     "output_type": "stream",
     "text": [
      "5.25\n"
     ]
    }
   ],
   "source": [
    "float myOtherFloatValue = (float)5.25;\n",
    "myOtherFloatValue"
   ]
  },
  {
   "cell_type": "code",
   "execution_count": null,
   "metadata": {},
   "outputs": [
    {
     "name": "stdout",
     "output_type": "stream",
     "text": [
      "5.25\n"
     ]
    }
   ],
   "source": [
    "float myOtherFloatValue = 5.25f;\n",
    "myOtherFloatValue"
   ]
  }
 ],
 "metadata": {
  "kernelspec": {
   "display_name": "Java",
   "language": "java",
   "name": "java"
  },
  "language_info": {
   "codemirror_mode": "java",
   "file_extension": ".jshell",
   "mimetype": "text/x-java-source",
   "name": "java",
   "pygments_lexer": "java",
   "version": "17.0.13+11"
  }
 },
 "nbformat": 4,
 "nbformat_minor": 2
}
