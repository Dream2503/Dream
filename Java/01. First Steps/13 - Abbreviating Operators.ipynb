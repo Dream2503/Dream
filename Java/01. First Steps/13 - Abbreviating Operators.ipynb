{
 "cells": [
  {
   "cell_type": "code",
   "execution_count": 1,
   "metadata": {
    "vscode": {
     "languageId": "java"
    }
   },
   "outputs": [
    {
     "name": "stdout",
     "output_type": "stream",
     "text": [
      "result = 2"
     ]
    }
   ],
   "source": [
    "{\n",
    "    int result = 1;\n",
    "    result = result + 1;\n",
    "    System.out.print(\"result = \" + result);\n",
    "}"
   ]
  },
  {
   "cell_type": "code",
   "execution_count": 2,
   "metadata": {
    "vscode": {
     "languageId": "java"
    }
   },
   "outputs": [
    {
     "name": "stdout",
     "output_type": "stream",
     "text": [
      "result = 2"
     ]
    }
   ],
   "source": [
    "{\n",
    "    int result = 1;\n",
    "    result++;\n",
    "    System.out.print(\"result = \" + result);\n",
    "}"
   ]
  },
  {
   "cell_type": "code",
   "execution_count": 3,
   "metadata": {
    "vscode": {
     "languageId": "java"
    }
   },
   "outputs": [
    {
     "name": "stdout",
     "output_type": "stream",
     "text": [
      "result = 0"
     ]
    }
   ],
   "source": [
    "{\n",
    "    int result = 1;\n",
    "    result--;\n",
    "    System.out.print(\"result = \" + result);\n",
    "}"
   ]
  },
  {
   "cell_type": "code",
   "execution_count": 4,
   "metadata": {
    "vscode": {
     "languageId": "java"
    }
   },
   "outputs": [
    {
     "name": "stdout",
     "output_type": "stream",
     "text": [
      "result = 0"
     ]
    }
   ],
   "source": [
    "{\n",
    "    int result = 1;\n",
    "    result -= 1;\n",
    "    System.out.print(\"result = \" + result);\n",
    "}"
   ]
  },
  {
   "cell_type": "code",
   "execution_count": 5,
   "metadata": {
    "vscode": {
     "languageId": "java"
    }
   },
   "outputs": [
    {
     "name": "stdout",
     "output_type": "stream",
     "text": [
      "result = 2"
     ]
    }
   ],
   "source": [
    "{\n",
    "    int result = 1;\n",
    "    result += 1;\n",
    "    System.out.print(\"result = \" + result);\n",
    "}"
   ]
  },
  {
   "cell_type": "code",
   "execution_count": 6,
   "metadata": {
    "vscode": {
     "languageId": "java"
    }
   },
   "outputs": [
    {
     "name": "stdout",
     "output_type": "stream",
     "text": [
      "result = 6"
     ]
    }
   ],
   "source": [
    "{\n",
    "    int result = 1;\n",
    "    result += 5;\n",
    "    System.out.print(\"result = \" + result);\n",
    "}"
   ]
  },
  {
   "cell_type": "code",
   "execution_count": 7,
   "metadata": {
    "vscode": {
     "languageId": "java"
    }
   },
   "outputs": [
    {
     "name": "stdout",
     "output_type": "stream",
     "text": [
      "result = 4"
     ]
    }
   ],
   "source": [
    "{\n",
    "    int result = 10;\n",
    "    result -= 6;\n",
    "    System.out.print(\"result = \" + result);\n",
    "}"
   ]
  },
  {
   "cell_type": "code",
   "execution_count": 8,
   "metadata": {
    "vscode": {
     "languageId": "java"
    }
   },
   "outputs": [
    {
     "name": "stdout",
     "output_type": "stream",
     "text": [
      "result = 4"
     ]
    }
   ],
   "source": [
    "{\n",
    "    int result = 10;\n",
    "    result -= 5.5;\n",
    "    System.out.print(\"result = \" + result);\n",
    "}"
   ]
  },
  {
   "cell_type": "code",
   "execution_count": 9,
   "metadata": {
    "vscode": {
     "languageId": "java"
    }
   },
   "outputs": [
    {
     "ename": "IncompleteSourceException",
     "evalue": "{\n    int result = 10;\n    result = result - 5.5;\n    System.out.print(\"result = \" + result);",
     "output_type": "error",
     "traceback": [
      "\u001b[1m\u001b[31mIncomplete input:\u001b[0m",
      "\u001b[1m\u001b[30m|   \u001b[1m\u001b[30m{\u001b[0m",
      "\u001b[1m\u001b[30m|   \u001b[1m\u001b[30m    int result = 10;\u001b[0m",
      "\u001b[1m\u001b[30m|   \u001b[1m\u001b[30m    result = result - 5.5;\u001b[0m",
      "\u001b[1m\u001b[30m|   \u001b[1m\u001b[30m    System.out.print(\"result = \" + result);\u001b[0m"
     ]
    }
   ],
   "source": [
    "{\n",
    "    int result = 10;\n",
    "    result = result - 5.5;\n",
    "    System.out.print(\"result = \" + result);\n"
   ]
  },
  {
   "cell_type": "code",
   "execution_count": 10,
   "metadata": {
    "vscode": {
     "languageId": "java"
    }
   },
   "outputs": [
    {
     "name": "stdout",
     "output_type": "stream",
     "text": [
      "result = 4"
     ]
    }
   ],
   "source": [
    "{\n",
    "    int result = 10;\n",
    "    result = (int)(result - 5.5);\n",
    "    System.out.print(\"result = \" + result);\n",
    "}"
   ]
  },
  {
   "cell_type": "code",
   "execution_count": 11,
   "metadata": {
    "vscode": {
     "languageId": "java"
    }
   },
   "outputs": [
    {
     "name": "stdout",
     "output_type": "stream",
     "text": [
      "result = 4.5"
     ]
    }
   ],
   "source": [
    "{\n",
    "    double result = 10;\n",
    "    result -= 5.5;\n",
    "    System.out.print(\"result = \" + result);\n",
    "}"
   ]
  },
  {
   "cell_type": "code",
   "execution_count": 12,
   "metadata": {
    "vscode": {
     "languageId": "java"
    }
   },
   "outputs": [
    {
     "name": "stdout",
     "output_type": "stream",
     "text": [
      "result = 15.0"
     ]
    }
   ],
   "source": [
    "{\n",
    "    double result = 10;\n",
    "    result *= 1.5;\n",
    "    System.out.print(\"result = \" + result);\n",
    "}"
   ]
  },
  {
   "cell_type": "code",
   "execution_count": 13,
   "metadata": {
    "vscode": {
     "languageId": "java"
    }
   },
   "outputs": [
    {
     "name": "stdout",
     "output_type": "stream",
     "text": [
      "result = 6.666666666666667"
     ]
    }
   ],
   "source": [
    "{\n",
    "    double result = 10;\n",
    "    result /= 1.5;\n",
    "    System.out.print(\"result = \" + result);\n",
    "}"
   ]
  }
 ],
 "metadata": {
  "kernelspec": {
   "display_name": "Java",
   "language": "java",
   "name": "java"
  },
  "language_info": {
   "codemirror_mode": "java",
   "file_extension": ".jshell",
   "mimetype": "text/x-java-source",
   "name": "Java",
   "pygments_lexer": "java",
   "version": "17.0.13+11"
  }
 },
 "nbformat": 4,
 "nbformat_minor": 2
}
