{
 "cells": [
  {
   "cell_type": "code",
   "execution_count": null,
   "metadata": {},
   "outputs": [
    {
     "data": {
      "text/plain": [
       "-2147483648"
      ]
     },
     "execution_count": 3,
     "metadata": {},
     "output_type": "execute_result"
    }
   ],
   "source": [
    "short myMinShortValue = Short.MIN_VALUE; int myMinIntValue = Integer.MIN_VALUE;\n",
    "System.out.println(myMinShortValue);\n",
    "System.out.println(myMinIntValue);"
   ]
  },
  {
   "cell_type": "code",
   "execution_count": 2,
   "metadata": {},
   "outputs": [
    {
     "name": "stdout",
     "output_type": "stream",
     "text": [
      "-128\n",
      "127\n"
     ]
    }
   ],
   "source": [
    "byte myMinByteValue = Byte.MIN_VALUE, myMaxByteValue = Byte.MAX_VALUE;\n",
    "System.out.println(myMinByteValue);\n",
    "System.out.println(myMaxByteValue);"
   ]
  },
  {
   "cell_type": "code",
   "execution_count": 3,
   "metadata": {},
   "outputs": [
    {
     "ename": "CompilationException",
     "evalue": "",
     "output_type": "error",
     "traceback": [
      "\u001b[1m\u001b[30m|   \u001b[1m\u001b[30mshort firstShort = 1,\u001b[0m\u001b[1m\u001b[30m\u001b[41m\u001b[0m\u001b[1m\u001b[30m int firstInteger = 2;\u001b[0m",
      "\u001b[1m\u001b[31m<identifier> expected\u001b[0m",
      ""
     ]
    }
   ],
   "source": [
    "short firstShort = 1, int firstInteger = 2;\n",
    "System.out.println(firstShort);\n",
    "System.out.println(firstInteger);"
   ]
  },
  {
   "cell_type": "code",
   "execution_count": 4,
   "metadata": {},
   "outputs": [
    {
     "name": "stdout",
     "output_type": "stream",
     "text": [
      "1\n",
      "2\n"
     ]
    }
   ],
   "source": [
    "short firstShort = 1; int firstInteger = 2;\n",
    "System.out.println(firstShort);\n",
    "System.out.println(firstInteger);"
   ]
  },
  {
   "cell_type": "code",
   "execution_count": 5,
   "metadata": {},
   "outputs": [
    {
     "ename": "CompilationException",
     "evalue": "",
     "output_type": "error",
     "traceback": [
      "\u001b[1m\u001b[30m|   \u001b[1m\u001b[30mbyte firstByte = 1,\u001b[0m\u001b[1m\u001b[30m\u001b[41m\u001b[0m\u001b[1m\u001b[30m byte secondByte = 2;\u001b[0m",
      "\u001b[1m\u001b[31m<identifier> expected\u001b[0m",
      ""
     ]
    }
   ],
   "source": [
    "byte firstByte = 1, byte secondByte = 2;\n",
    "System.out.println(firstByte);\n",
    "System.out.println(secondByte);"
   ]
  },
  {
   "cell_type": "code",
   "execution_count": 6,
   "metadata": {},
   "outputs": [
    {
     "name": "stdout",
     "output_type": "stream",
     "text": [
      "1\n",
      "2\n"
     ]
    }
   ],
   "source": [
    "byte firstByte = 1, secondByte = 2;\n",
    "System.out.println(firstByte);\n",
    "System.out.println(secondByte);"
   ]
  },
  {
   "cell_type": "code",
   "execution_count": null,
   "metadata": {},
   "outputs": [
    {
     "name": "stdout",
     "output_type": "stream",
     "text": [
      "-1073741824\n"
     ]
    }
   ],
   "source": [
    "int myTotal = (myMinIntValue / 2);\n",
    "myTotal"
   ]
  },
  {
   "cell_type": "code",
   "execution_count": null,
   "metadata": {},
   "outputs": [
    {
     "ename": "CompilationException",
     "evalue": "",
     "output_type": "error",
     "traceback": [
      "\u001b[1m\u001b[30m|   \u001b[1m\u001b[30mbyte myNewByteValue = (\u001b[0m\u001b[1m\u001b[30m\u001b[41mmyMinByteValue / 2\u001b[0m\u001b[1m\u001b[30m);\u001b[0m",
      "\u001b[1m\u001b[31mincompatible types: possible lossy conversion from int to byte\u001b[0m",
      ""
     ]
    }
   ],
   "source": [
    "byte myNewByteValue = (myMinByteValue / 2);\n",
    "myNewByteValue"
   ]
  },
  {
   "cell_type": "code",
   "execution_count": null,
   "metadata": {},
   "outputs": [
    {
     "name": "stdout",
     "output_type": "stream",
     "text": [
      "-64\n"
     ]
    }
   ],
   "source": [
    "byte myNewByteValue = (byte)(myMinByteValue / 2);\n",
    "myNewByteValue"
   ]
  },
  {
   "cell_type": "code",
   "execution_count": null,
   "metadata": {},
   "outputs": [
    {
     "ename": "CompilationException",
     "evalue": "",
     "output_type": "error",
     "traceback": [
      "\u001b[1m\u001b[30m|   \u001b[1m\u001b[30mshort myNewShortValue = (\u001b[0m\u001b[1m\u001b[30m\u001b[41mmyMinShortValue / 2\u001b[0m\u001b[1m\u001b[30m);\u001b[0m",
      "\u001b[1m\u001b[31mincompatible types: possible lossy conversion from int to short\u001b[0m",
      ""
     ]
    }
   ],
   "source": [
    "short myNewShortValue = (myMinShortValue / 2);\n",
    "myNewShortValue"
   ]
  },
  {
   "cell_type": "code",
   "execution_count": null,
   "metadata": {},
   "outputs": [
    {
     "name": "stdout",
     "output_type": "stream",
     "text": [
      "-16384\n"
     ]
    }
   ],
   "source": [
    "short myNewShortValue = (short)(myMinShortValue / 2);\n",
    "myNewShortValue"
   ]
  }
 ],
 "metadata": {
  "kernelspec": {
   "display_name": "Java",
   "language": "java",
   "name": "java"
  },
  "language_info": {
   "codemirror_mode": "java",
   "file_extension": ".jshell",
   "mimetype": "text/x-java-source",
   "name": "java",
   "pygments_lexer": "java",
   "version": "17.0.13+11"
  }
 },
 "nbformat": 4,
 "nbformat_minor": 2
}
