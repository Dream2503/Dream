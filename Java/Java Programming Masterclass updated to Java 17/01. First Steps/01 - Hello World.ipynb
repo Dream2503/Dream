{
 "cells": [
  {
   "cell_type": "code",
   "execution_count": 1,
   "metadata": {},
   "outputs": [
    {
     "name": "stdout",
     "output_type": "stream",
     "text": [
      "Hello World"
     ]
    }
   ],
   "source": [
    "System.out.print(\"Hello World\");"
   ]
  },
  {
   "cell_type": "code",
   "execution_count": 1,
   "metadata": {},
   "outputs": [
    {
     "name": "stdout",
     "output_type": "stream",
     "text": [
      "Hello Tim"
     ]
    }
   ],
   "source": [
    "System.out.print(\"Hello Tim\");"
   ]
  },
  {
   "cell_type": "code",
   "execution_count": 2,
   "metadata": {},
   "outputs": [
    {
     "name": "stdout",
     "output_type": "stream",
     "text": [
      "Hello Tim"
     ]
    }
   ],
   "source": [
    "System.out.print(\"Hello Tim\"\n",
    ");"
   ]
  },
  {
   "cell_type": "code",
   "execution_count": 3,
   "metadata": {},
   "outputs": [
    {
     "ename": "CompilationException",
     "evalue": "",
     "output_type": "error",
     "traceback": [
      "\u001b[1m\u001b[30m|   \u001b[1m\u001b[30mSystem.out.print(\u001b[0m\u001b[1m\u001b[30m\u001b[41m\u001b[0m\u001b[1m\u001b[30m\"Hello Tim);\u001b[0m",
      "\u001b[1m\u001b[31munclosed string literal\u001b[0m",
      ""
     ]
    }
   ],
   "source": [
    "System.out.print(\"Hello Tim);"
   ]
  },
  {
   "cell_type": "code",
   "execution_count": 4,
   "metadata": {},
   "outputs": [
    {
     "name": "stdout",
     "output_type": "stream",
     "text": [
      "Hello Tim"
     ]
    }
   ],
   "source": [
    "System.out.print(\"Hello Tim\");"
   ]
  },
  {
   "cell_type": "code",
   "execution_count": 5,
   "metadata": {},
   "outputs": [
    {
     "ename": "CompilationException",
     "evalue": "",
     "output_type": "error",
     "traceback": [
      "\u001b[1m\u001b[30m|   \u001b[1m\u001b[30mSystem.out.print(\u001b[0m\u001b[1m\u001b[30m\u001b[41m\u001b[0m\u001b[1m\u001b[30m'Hello Tim');\u001b[0m",
      "\u001b[1m\u001b[31munclosed character literal\u001b[0m",
      ""
     ]
    }
   ],
   "source": [
    "System.out.print('Hello Tim');"
   ]
  },
  {
   "cell_type": "code",
   "execution_count": 6,
   "metadata": {},
   "outputs": [
    {
     "name": "stdout",
     "output_type": "stream",
     "text": [
      "Hello Tim"
     ]
    }
   ],
   "source": [
    "System.out.print(\"Hello Tim\");"
   ]
  }
 ],
 "metadata": {
  "kernelspec": {
   "display_name": "Java",
   "language": "java",
   "name": "java"
  },
  "language_info": {
   "codemirror_mode": "java",
   "file_extension": ".jshell",
   "mimetype": "text/x-java-source",
   "name": "java",
   "pygments_lexer": "java",
   "version": "17.0.13+11"
  }
 },
 "nbformat": 4,
 "nbformat_minor": 2
}
